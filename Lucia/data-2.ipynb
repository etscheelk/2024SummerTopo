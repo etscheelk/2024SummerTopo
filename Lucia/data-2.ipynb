{
 "cells": [
  {
   "cell_type": "code",
   "execution_count": 108,
   "metadata": {},
   "outputs": [],
   "source": [
    "# load some packages\n",
    "import networkx as nx\n",
    "import numpy as np\n",
    "import matplotlib.pyplot as plt\n",
    "from ripser import ripser\n",
    "from persim import plot_diagrams\n",
    "from scipy.spatial.distance import squareform\n",
    "import random\n",
    "import oatpy as oat\n",
    "import pandas as pd\n",
    "import seaborn as sns\n",
    "from scipy.optimize import curve_fit\n",
    "import sys\n",
    "import os\n",
    "from scipy.interpolate import interp1d\n",
    "import community as community_louvain\n",
    "import null_model_or_new_data as nmnd\n",
    "\n",
    "\n",
    "# configuration\n",
    "PROJECT_PATH = \"~/Dropbox/MACALESTER_SUMMER_2023/\" # edit this path for your machine!\n",
    "DATA_PATH = \"/Users/luohanzhi/Desktop/大三上/Summer research/MACALESTER_SUMMER_2024 (1)/data/applied_mathematics_piloting/\"\n",
    "DATA_PATH2 = \"/Users/luohanzhi/Desktop/大三上/Summer research/concepts/\"\n",
    "CONCEPT_FILE = \"articles_category_for_2l_abstracts_concepts_processed_v1_EX_102.csv.gz\" # Applied Mathematics\n",
    "ATTRIBUTES_FILE = \"dimensions_2021_09_01_articles_category_for_2l_code_102.csv.gz\" # Applied Mathematics\n",
    "ZOOL_FILE = \"concepts_Visual Arts and Crafts_1905.csv.gz\""
   ]
  },
  {
   "cell_type": "code",
   "execution_count": 3,
   "metadata": {},
   "outputs": [],
   "source": [
    "def persistance_image(barcode: pd.DataFrame,\n",
    "                      dim: int | list[int] | None = None,\n",
    "                      sigma: float = 0.1,\n",
    "                      res: int = 20,\n",
    "                      weight_func: callable = lambda x, y: y,\n",
    "                      return_vec: bool = False\n",
    "                      ) -> np.ndarray | dict[int: np.ndarray]:\n",
    "    '''\n",
    "    Makes a persitance image from a homology dataframe\n",
    "\n",
    "    The coordinates for the peristance image are normalized within [0, 1]. The function\n",
    "    treats features that never die as having a death coordiate of 1, so features that die\n",
    "    in the last period aren't distingushed from features that never die. If you want to\n",
    "    plot the perstance image, use\n",
    "    ```\n",
    "        import matplotlib.pyplot as plt\n",
    "\n",
    "        x = np.linspace(0, 1, resolution)\n",
    "        y = np.linspace(0, 1, resolution)\n",
    "        x, y = np.meshgrid(x, y)\n",
    "        res = persistance_image(\n",
    "                homology,\n",
    "                res=resolution,\n",
    "                return_vec=False # return_vec defaults false, so you can leave it out, but not make it true\n",
    "            )\n",
    "\n",
    "        plt.axis('equal')\n",
    "        plt.pcolormesh(x, y, res[dimension])\n",
    "    ```\n",
    "\n",
    "    Args:\n",
    "        `barcode` (Dataframe): A dataframe with homological features of the simplicial\n",
    "        complex. Should have a \"birth\" column for when features were born, a \"death\"\n",
    "        column with when features died, and a \"dimension\" column with the feature\n",
    "        dimension\n",
    "        `dim` (int | list[int] | None): The dimensions to create a persistance image for.\n",
    "        If an int, creates an image for only that dimension. If a list (or other iterable),\n",
    "        creates an image for all the dimensions in the list. If None, creates an image for\n",
    "        all unique dimensions in `barcode`.\n",
    "        Default None.\n",
    "        `sigma` (float): Standard deviation of the Gaussians used for the persistance\n",
    "        image. Default 0.1\n",
    "        `res` (int): Resolution of the returned peristance image. Default 20\n",
    "        `weight_func` (callable): Function in f(x, y) form that takes the birth, lifetime\n",
    "        coordinates of the feature and returns the weight of the feature in the gaussians.\n",
    "        f(x, 0) should be 0 for all x values. Defaults to linear scaling based only on the\n",
    "        lifetime \n",
    "        `return_vec` (bool): Whether to return an matrix or vector. If True, returns a\n",
    "        vector. Typically, a matrix will work better to visualize the persistance image but\n",
    "         a vector is better to compare two barcodes. Default False\n",
    "    \n",
    "    Returns:\n",
    "        `persistance_images` (list[np.ndarray]): A list of matricies of vectors (depening on\n",
    "        the return_vec value) with the peristance images. Each value in the list corresponds\n",
    "        to a different dimension, with the ith value corresponding to the persistance image\n",
    "        for i dimensional features\n",
    "    '''\n",
    "    # we want it in a list\n",
    "    if isinstance(dim, int):\n",
    "        dim = [dim]\n",
    "\n",
    "    # maximum lifetime\n",
    "    # we want to normalize everything to [0, 1], this is the value we divide by to do that\n",
    "    max_lifetime = oat.barcode.max_finite_value(barcode['death'])\n",
    "\n",
    "    # points on the persistance diagram\n",
    "    persistance_diagram = pd.DataFrame()\n",
    "    persistance_diagram['dimension'] = barcode.reset_index(drop=True)['dimension'] # Each unique dimension will be a different diagram\n",
    "    persistance_diagram['birth'] = barcode.reset_index(drop=True)['birth'] / max_lifetime # normalize birth times\n",
    "    persistance_diagram['death'] = barcode.reset_index(drop=True)['death'] / max_lifetime # normalize death times\n",
    "    persistance_diagram.loc[persistance_diagram['death'] == np.inf, 'death'] = 1 # set inf death times to the max (1)\n",
    "    persistance_diagram['lifetime'] = persistance_diagram['death'] - persistance_diagram['birth'] # birth, lifetime create persistance image basis\n",
    "    persistance_diagram['weight'] = weight_func(persistance_diagram['birth'], persistance_diagram['lifetime'])\n",
    "\n",
    "    # remove rows after max dimension\n",
    "    if dim is not None:\n",
    "        persistance_diagram = persistance_diagram[persistance_diagram['dimension'].isin(dim)]\n",
    "    else:\n",
    "        dim = list(persistance_diagram['dimension'].unique()) # loop over dim later, needs to be defined\n",
    "\n",
    "    # matricies to calculate peristance image\n",
    "    # x, y coordinate of every entry i, j in the persistance image is x[i, j], y[i, j]\n",
    "    x = np.linspace(0, 1, res)\n",
    "    y = np.linspace(0, 1, res)\n",
    "    x, y = np.meshgrid(x, y)\n",
    "\n",
    "    # apply gaussians and get images\n",
    "    var = 2 * sigma**2 # actualy 2*variance but this is what we use so\n",
    "    persistance_images = []\n",
    "    for d in dim: # create a different persisance image for each dimension\n",
    "        d_persistance_diagram = persistance_diagram[persistance_diagram['dimension'] == d] # peristance diagram fo dimension\n",
    "        gaussians = [w * np.exp(-((x-b)**2 + (y-l)**2)/var) for w, b, l in zip(d_persistance_diagram['weight'], d_persistance_diagram['birth'], d_persistance_diagram['lifetime'])]\n",
    "        # use gaussian formula weighting by the calculated weight and using the point location for all x and y in the matrix\n",
    "        persistance_image = np.full((res, res), 0) + sum(gaussians) # full makes sure we have all 0s if dimension has no features\n",
    "        persistance_images.append(persistance_image)\n",
    "    \n",
    "    # make a vector (if we should)\n",
    "    if return_vec:\n",
    "        persistance_images = [np.reshape(pi, -1) for pi in persistance_images]\n",
    "    \n",
    "    # reshape returned value\n",
    "    if len(persistance_images) == 1: # take it out of the list if there's only one thing\n",
    "        persistance_images = persistance_images[0]\n",
    "    else: # make a dict with the dim values\n",
    "        persistance_images = {d: pi for d, pi in zip(dim, persistance_images)}\n",
    "\n",
    "    return persistance_images\n",
    "\n",
    "\n",
    "def format_ripser_output(ripser_res: dict[str: np.ndarray]\n",
    "                         ) -> pd.DataFrame:\n",
    "    '''\n",
    "    Takes the results from a ripser function and formats it as a dataframe\n",
    "    to be used to compare to other barcodes.\n",
    "\n",
    "    Args:\n",
    "        `ripser_res` (dict[str: np.ndarray]): The results from the `ripser`\n",
    "        function within the `ripser` library\n",
    "    \n",
    "    Returns:\n",
    "        `res` (Dataframe): Formatted and sorted dataframe containing the\n",
    "        barcode information in \"dimension\", \"birth\", and \"death\" columns\n",
    "    '''\n",
    "    dimension = [] # feature dimention\n",
    "    birth = [] # birth time\n",
    "    death = [] # death time\n",
    "\n",
    "    for dim, bc in enumerate(ripser_res['dgms']):\n",
    "        for b, d in bc:\n",
    "            dimension.append(dim)\n",
    "            birth.append(b)\n",
    "            death.append(d)\n",
    "\n",
    "    # collect results\n",
    "    res = pd.DataFrame(data={'dimension': dimension, 'birth': birth, 'death': death})\n",
    "    res = res.sort_values(['dimension', 'birth', 'death'], ignore_index=True)\n",
    "    return res\n",
    "\n",
    "def persistance_image_distance(barcode_1: pd.DataFrame,\n",
    "                               barcode_2: pd.DataFrame,\n",
    "                               dim: int | None = None,\n",
    "                               norm: float = 2.,\n",
    "                               **kwargs: dict[str: any]\n",
    "                               ) -> float:\n",
    "    '''\n",
    "    Calculates the distance between two barcodes using peristance images.\n",
    "\n",
    "    Args:\n",
    "        `barcode_1` (Dataframe): Dataframe with the information for the first barcode.\n",
    "        Should have \"birth\" and \"death\" columns\n",
    "        `barcode_2` (Dataframe): Dataframe with the information for the second barcode.\n",
    "        Should have \"birth\" and \"death\" columns\n",
    "        `dim` (int | None): The dimension to look at if an int. Doesn't filter dimensions\n",
    "        at all otherwise. Will throw an error if None and the barcodes haven't already\n",
    "        been filtered to only a single dimension.\n",
    "        `norm` (float): The norm to calculate distance between persistance images using.\n",
    "        Should be >= 1. Default 2\n",
    "        `**kwargs` (dict[str: any]): Options passed to the `persistance_image` function\n",
    "    \n",
    "    Returns\n",
    "        `dist` (Float): The Persistance Image Distance between the two barcodes\n",
    "    '''\n",
    "    barcode_1, barcode_2 = barcode_1.copy(), barcode_2.copy() # don't change the dataframes\n",
    "\n",
    "    # filter dimension\n",
    "    if dim is not None:\n",
    "        barcode_1 = barcode_1[barcode_1['dimension'] == dim]\n",
    "        barcode_2 = barcode_2[barcode_2['dimension'] == dim]\n",
    "\n",
    "    # setup\n",
    "    persistance_image_1 = persistance_image(barcode_1, return_vec=True, **kwargs)\n",
    "    persistance_image_2 = persistance_image(barcode_2, return_vec=True, **kwargs)\n",
    "    \n",
    "    # distance function\n",
    "    if norm == np.inf:\n",
    "        dist = np.max(np.abs(persistance_image_1 - persistance_image_2))\n",
    "    else:\n",
    "        if type(persistance_image_1) == dict:\n",
    "            vector_1= np.concatenate([persistance_image_1[key] for key in persistance_image_1])\n",
    "        else:\n",
    "            vector_1 = persistance_image_1\n",
    "\n",
    "        if type(persistance_image_2) == dict:\n",
    "            vector_2 = np.concatenate([persistance_image_2[key] for key in persistance_image_2])\n",
    "        else:\n",
    "            vector_2 = persistance_image_2\n",
    "\n",
    "        n = np.abs(len(vector_1)-len(vector_2))\n",
    "\n",
    "        zeros = [0] * n\n",
    "\n",
    "        if len(vector_1)>len(vector_2):\n",
    "            vector_2 = np.concatenate((vector_2, zeros))\n",
    "\n",
    "        if len(vector_1)<len(vector_2):\n",
    "            vector_1 = np.concatenate((vector_1, zeros))\n",
    "\n",
    "        dist = (np.sum(np.abs(vector_1 - vector_2)**norm))**(1/norm)\n",
    "        \n",
    "    return dist\n",
    "\n",
    "def barcode_distance_matrix(barcodes: list[pd.DataFrame],\n",
    "                            dim: int | None = None,\n",
    "                            labels: list[str] | None = None,\n",
    "                            asymetric: bool = False,\n",
    "                            calc_diagnal: bool = False,\n",
    "                            **kwargs: dict[str: any]\n",
    "                            ) -> pd.DataFrame:\n",
    "    '''\n",
    "    Creates a matrix of distances between barcodes based on an inputted distance function\n",
    "\n",
    "    Args:\n",
    "        `barcodes` (list[Dataframe]): A list of barcodes for find distances between\n",
    "        `barcode_distance_func` (callable): A function that finds the distance between\n",
    "        barcodes\n",
    "        `dim` (int | None): The dimension to look at if an int. Doesn't filter dimension at\n",
    "        all if None. Default None\n",
    "        `labels` (list[str] | None): A list of labels for the distance matrix. If None, uses\n",
    "        default pandas labeling (numbers 0-n)\n",
    "        `asymetric` (bool): Whether to calcaulte the lower triangle of the distance matrix.\n",
    "        If this is False, it assumes the distance matrix will be symetric (so the distance\n",
    "        from barcode 1 to barcode 2 is that same as the distance from barcode 2 to barcode 1)\n",
    "        and fills in the lower triangle with the values calculated in the upper triangle. If\n",
    "        True, it calculates all entries, except those on the diagnal. Default False\n",
    "        `calc_diagnal` (bool): Whether to calcuate entries along the diagnal. Otherwise,\n",
    "        assumes it's 0. Generally, this should be False. Default False\n",
    "        `**kwargs` (dict[str: any]): Options passed to the `barcode_distance_func` function\n",
    "    \n",
    "    Returns\n",
    "        `dist_matrix` (pd.Dataframe): A matrix of distances between barcodes\n",
    "    '''\n",
    "    # filter dimension\n",
    "    if dim is not None:\n",
    "        for i, b in enumerate(barcodes):\n",
    "            b = b[b['dimension'] == dim]\n",
    "            barcodes[i] = b\n",
    "    \n",
    "    # setup distance\n",
    "    n = len(barcodes)\n",
    "    dist_matrix = pd.DataFrame(data=np.full((n, n), 0.), index=labels, columns=labels)\n",
    "\n",
    "    # calculate distances\n",
    "    for i in range(n):\n",
    "        if asymetric:\n",
    "            for j in range(i): # lower triangle\n",
    "                dist_matrix.iloc[i, j] = persistance_image_distance(barcodes[i], barcodes[j], **kwargs)\n",
    "\n",
    "        if calc_diagnal: # diagnal\n",
    "            dist_matrix.iloc[i, i] = persistance_image_distance(barcodes[i], barcodes[i], **kwargs)\n",
    "\n",
    "        for j in range(i+1, n): # upper triangle\n",
    "            dist_matrix.iloc[i, j] = persistance_image_distance(barcodes[i], barcodes[j], **kwargs)\n",
    "\n",
    "    # fill in lower triangle\n",
    "    if not asymetric:\n",
    "        dist_matrix += dist_matrix.T\n",
    "\n",
    "    return dist_matrix\n",
    "\n",
    "\n",
    "def barcode_distance_vector(barcodes: list[pd.DataFrame],\n",
    "                            dim: int | None = None,\n",
    "                            labels: list[str] | None = None,\n",
    "                            **kwargs: dict[str: any]\n",
    "                            ) -> pd.DataFrame:\n",
    "    '''\n",
    "    Creates a matrix of distances between barcodes based on an inputted distance function\n",
    "\n",
    "    Args:\n",
    "        `barcodes` (list[Dataframe]): A list of barcodes for find distances between\n",
    "        `barcode_distance_func` (callable): A function that finds the distance between\n",
    "        barcodes\n",
    "        `dim` (int | None): The dimension to look at if an int. Doesn't filter dimension at\n",
    "        all if None. Default None\n",
    "        `labels` (list[str] | None): A list of labels for the distance matrix. If None, uses\n",
    "        default pandas labeling (numbers 0-n)\n",
    "        `asymetric` (bool): Whether to calcaulte the lower triangle of the distance matrix.\n",
    "        If this is False, it assumes the distance matrix will be symetric (so the distance\n",
    "        from barcode 1 to barcode 2 is that same as the distance from barcode 2 to barcode 1)\n",
    "        and fills in the lower triangle with the values calculated in the upper triangle. If\n",
    "        True, it calculates all entries, except those on the diagnal. Default False\n",
    "        `calc_diagnal` (bool): Whether to calcuate entries along the diagnal. Otherwise,\n",
    "        assumes it's 0. Generally, this should be False. Default False\n",
    "        `**kwargs` (dict[str: any]): Options passed to the `barcode_distance_func` function\n",
    "    \n",
    "    Returns\n",
    "        `dist_matrix` (pd.Dataframe): A matrix of distances between barcodes\n",
    "    '''\n",
    "    # filter dimension\n",
    "    if dim is not None:\n",
    "        for i, b in enumerate(barcodes):\n",
    "            b = b[b['dimension'] == dim]\n",
    "            barcodes[i] = b\n",
    "    \n",
    "    # setup distance vector\n",
    "    n = len(barcodes)\n",
    "    dist_vector = pd.DataFrame(data=np.full((1, n), 0.), index=labels, columns=labels)\n",
    "\n",
    "    # calculate distances\n",
    "    for i in range(n):\n",
    "        dist_vector.iloc[0, i] = persistance_image_distance(barcodes[0], barcodes[i], **kwargs)\n",
    "    \n",
    "    return dist_vector\n",
    "\n"
   ]
  },
  {
   "cell_type": "code",
   "execution_count": 5,
   "metadata": {},
   "outputs": [],
   "source": [
    "def local_edge_swap(graph, k, num_swaps_per_node):\n",
    "    \"k is the range of the neighborhood, num_swaps_per_node is the number one node swap, node_persent is the persent of nodes that swap\"\n",
    "    # Make a copy of the original graph\n",
    "    H = graph.copy()\n",
    "\n",
    "    \n",
    "    # Iterate through each node in the graph\n",
    "    for node in H.nodes:\n",
    "        # Get the k-neighborhood of the node\n",
    "        k_neighborhood = nx.ego_graph(H, node, radius=k)\n",
    "        \n",
    "        # Get the edges within the k-neighborhood\n",
    "        edges = list(k_neighborhood.edges())\n",
    "        \n",
    "        # Perform edge swaps within the k-neighborhood\n",
    "        for _ in range(num_swaps_per_node):\n",
    "            if len(edges) < 2:\n",
    "                break\n",
    "            # Choose two random edges to swap\n",
    "            edge1, edge2 = random.sample(edges, 2)\n",
    "            (u1, v1) = edge1\n",
    "            (u2, v2) = edge2\n",
    "            \n",
    "            # Avoid creating self-loops or duplicate edges\n",
    "            if len({u1, v1, u2, v2}) == 4:\n",
    "                if not H.has_edge(u1, v2) and not H.has_edge(u2, v1):\n",
    "                    # Perform the edge swap\n",
    "                    H.remove_edge(u1, v1)\n",
    "                    H.remove_edge(u2, v2)\n",
    "                    H.add_edge(u1, v2)\n",
    "                    H.add_edge(u2, v1)\n",
    "                    # Update the edges list\n",
    "                    edges.remove(edge1)\n",
    "                    edges.remove(edge2)\n",
    "                    edges.append((u1, v2))\n",
    "                    edges.append((u2, v1))\n",
    "                    \n",
    "    return H\n",
    "\n",
    "def local_swap_barcode(\n",
    "        l: int,\n",
    "        dim: int, \n",
    "        k: int, \n",
    "        n: int, \n",
    "        G_list: list, \n",
    "        mylist: list):\n",
    "\n",
    "\n",
    "    for i in range(l):\n",
    "        G = G_list[i]\n",
    "\n",
    "        num_swaps_per_node = n\n",
    "        \n",
    "        # Get the local edge swap graph\n",
    "        G_l = local_edge_swap(G, k, num_swaps_per_node)\n",
    "        print(i)\n",
    "\n",
    "        dist_matrix_G_l = nx.adjacency_matrix(G_l, weight='weight')\n",
    "\n",
    "        G_l_res = ripser(dist_matrix_G_l, maxdim=dim, distance_matrix=True)\n",
    "        G_l_res = format_ripser_output(G_l_res)\n",
    "\n",
    "        mylist.append(G_l_res)\n",
    "\n",
    "    return mylist"
   ]
  },
  {
   "cell_type": "code",
   "execution_count": 6,
   "metadata": {},
   "outputs": [],
   "source": [
    "# load the data\n",
    "article_concept_df = pd.read_csv(DATA_PATH + CONCEPT_FILE)\n",
    "article_concept_df = article_concept_df[article_concept_df['mean'] > 0.7] # filter relevance   \n",
    "article_concept_df = article_concept_df[article_concept_df['year'] > 1920] # filter relevance   "
   ]
  },
  {
   "cell_type": "code",
   "execution_count": 7,
   "metadata": {},
   "outputs": [
    {
     "data": {
      "text/html": [
       "<div>\n",
       "<style scoped>\n",
       "    .dataframe tbody tr th:only-of-type {\n",
       "        vertical-align: middle;\n",
       "    }\n",
       "\n",
       "    .dataframe tbody tr th {\n",
       "        vertical-align: top;\n",
       "    }\n",
       "\n",
       "    .dataframe thead th {\n",
       "        text-align: right;\n",
       "    }\n",
       "</style>\n",
       "<table border=\"1\" class=\"dataframe\">\n",
       "  <thead>\n",
       "    <tr style=\"text-align: right;\">\n",
       "      <th></th>\n",
       "      <th>article_id</th>\n",
       "      <th>category_for_2l_code</th>\n",
       "      <th>year</th>\n",
       "      <th>concept</th>\n",
       "      <th>mean</th>\n",
       "      <th>size</th>\n",
       "      <th>concept_no</th>\n",
       "      <th>dfreq_in_category_for_2l</th>\n",
       "      <th>dfreq_in_category_for_2l_year</th>\n",
       "    </tr>\n",
       "  </thead>\n",
       "  <tbody>\n",
       "  </tbody>\n",
       "</table>\n",
       "</div>"
      ],
      "text/plain": [
       "Empty DataFrame\n",
       "Columns: [article_id, category_for_2l_code, year, concept, mean, size, concept_no, dfreq_in_category_for_2l, dfreq_in_category_for_2l_year]\n",
       "Index: []"
      ]
     },
     "execution_count": 7,
     "metadata": {},
     "output_type": "execute_result"
    }
   ],
   "source": [
    "article_concept_df[article_concept_df.year<1920]"
   ]
  },
  {
   "cell_type": "markdown",
   "metadata": {},
   "source": [
    "# Get the real data for concepts 40-80"
   ]
  },
  {
   "cell_type": "code",
   "execution_count": 8,
   "metadata": {},
   "outputs": [
    {
     "name": "stdout",
     "output_type": "stream",
     "text": [
      "Graph with 1149 nodes and 13021 edges\n"
     ]
    }
   ],
   "source": [
    "mylist =[]\n",
    "weight_count = {}\n",
    "num = 10\n",
    "low = 40\n",
    "up = 80\n",
    "\n",
    "#lists = nmnd.data_barcode(num, 3, low, up, article_concept_df, weight_count, mylist)\n",
    "\n",
    "# low = 41\n",
    "# up = 51\n",
    "\n",
    "lists1 = nmnd.data_barcode_one(num, 3, low, up, article_concept_df, weight_count, mylist)\n",
    "\n",
    "lists = lists1.copy()\n",
    "\n",
    "mylist_o = lists[0]\n",
    "weight_count = lists[1]\n",
    "G_list = lists[2]\n",
    "\n",
    "G = G_list[0]\n",
    "nodd = G.number_of_nodes()\n",
    "edgg = G.number_of_edges()"
   ]
  },
  {
   "cell_type": "markdown",
   "metadata": {},
   "source": [
    "# Get the real data for concepts 30-60"
   ]
  },
  {
   "cell_type": "code",
   "execution_count": 9,
   "metadata": {},
   "outputs": [
    {
     "name": "stdout",
     "output_type": "stream",
     "text": [
      "Graph with 1614 nodes and 14853 edges\n"
     ]
    }
   ],
   "source": [
    "mylist =[]\n",
    "weight_count = {}\n",
    "num = 10\n",
    "low = 30\n",
    "up = 60\n",
    "\n",
    "lists2 = nmnd.data_barcode_one(num, 3, low, up, article_concept_df, weight_count, mylist)\n",
    "\n",
    "mylist_o2 = lists2[0]\n",
    "weight_count2 = lists2[1]\n",
    "G_list = lists2[2]"
   ]
  },
  {
   "cell_type": "markdown",
   "metadata": {},
   "source": [
    "# Get the real data for concepts 20-40"
   ]
  },
  {
   "cell_type": "code",
   "execution_count": 10,
   "metadata": {},
   "outputs": [
    {
     "name": "stdout",
     "output_type": "stream",
     "text": [
      "Graph with 2623 nodes and 18496 edges\n"
     ]
    }
   ],
   "source": [
    "mylist =[]\n",
    "weight_count = {}\n",
    "num = 10\n",
    "low = 20\n",
    "up = 40\n",
    "\n",
    "lists3 = nmnd.data_barcode_one(num, 3, low, up, article_concept_df, weight_count, mylist)"
   ]
  },
  {
   "cell_type": "markdown",
   "metadata": {},
   "source": [
    "# Get the real data for concepts 11-20"
   ]
  },
  {
   "cell_type": "code",
   "execution_count": 11,
   "metadata": {},
   "outputs": [
    {
     "name": "stdout",
     "output_type": "stream",
     "text": [
      "Graph with 4785 nodes and 17456 edges\n"
     ]
    }
   ],
   "source": [
    "mylist =[]\n",
    "weight_count = {}\n",
    "num = 10\n",
    "low = 11\n",
    "up = 20\n",
    "\n",
    "lists4 = nmnd.data_barcode_one(num, 3, low, up, article_concept_df, weight_count, mylist)"
   ]
  },
  {
   "cell_type": "code",
   "execution_count": 12,
   "metadata": {},
   "outputs": [],
   "source": [
    "mylist = mylist_o.copy()"
   ]
  },
  {
   "cell_type": "code",
   "execution_count": 13,
   "metadata": {},
   "outputs": [],
   "source": [
    "#mylist =local_swap_barcode(num, 3, 3, 2, G_list, mylist)\n",
    "#mylist = local_swap_barcode(num, 3, 100, 8, G_list, mylist)\n",
    "# #mylist = local_swap_barcode(num, 3, 30, 6, G_list, mylist)"
   ]
  },
  {
   "cell_type": "code",
   "execution_count": 14,
   "metadata": {},
   "outputs": [],
   "source": [
    "# mylist = nmnd.double_swap_barcode(num, 3, int(edgg/5), int(edgg/5)*5, G_list, mylist)\n",
    "# mylist = nmnd.double_swap_barcode(num, 3, int(edgg/2), int(edgg/2)*5, G_list, mylist)\n",
    "# mylist = nmnd.double_swap_barcode(num, 3, edgg, edgg*5, G_list, mylist)\n",
    "# mylist = nmnd.double_swap_barcode(num, 3, edgg*2, edgg*10, G_list, mylist)"
   ]
  },
  {
   "cell_type": "markdown",
   "metadata": {},
   "source": [
    "# Find distribution for weight"
   ]
  },
  {
   "cell_type": "code",
   "execution_count": null,
   "metadata": {},
   "outputs": [],
   "source": [
    "sorted_weights = sorted(weight_count.items())\n",
    "\n",
    "# Separate the weights and their counts for plotting\n",
    "weights, counts = zip(*sorted_weights)\n",
    "\n",
    "# Create the line plot\n",
    "plt.figure(figsize=(10, 6))\n",
    "plt.plot(weights, counts, marker='o', linestyle='-')\n",
    "plt.xlabel('Edge Weight')\n",
    "plt.ylabel('Count')\n",
    "plt.title('Distribution of Edge Weights')\n",
    "plt.grid(True)\n",
    "plt.show()"
   ]
  },
  {
   "cell_type": "code",
   "execution_count": 16,
   "metadata": {},
   "outputs": [
    {
     "name": "stdout",
     "output_type": "stream",
     "text": [
      "(3, 1, 2, 1, 1, 4, 18, 5, 7, 14, 12, 39, 14, 23, 22, 31, 21, 22, 19, 49, 50, 38, 44, 32, 48, 52, 36, 75, 55, 85, 69, 70, 73, 96, 74, 135, 119, 121, 115, 172, 166, 189, 190, 191, 222, 258, 237, 330, 357, 395, 475, 564, 535, 569, 712, 827, 913, 890, 995, 995, 1301, 1402, 1668, 1208)\n",
      "(0.16831683168316833, 0.26732673267326734, 0.38613861386138615, 0.39603960396039606, 0.40594059405940597, 0.42574257425742573, 0.43564356435643564, 0.44554455445544555, 0.45544554455445546, 0.46534653465346537, 0.4752475247524752, 0.48514851485148514, 0.49504950495049505, 0.504950495049505, 0.5148514851485149, 0.5247524752475248, 0.5346534653465347, 0.5445544554455446, 0.5544554455445545, 0.5643564356435643, 0.5742574257425742, 0.5841584158415841, 0.594059405940594, 0.6039603960396039, 0.6138613861386139, 0.6237623762376238, 0.6336633663366337, 0.6435643564356436, 0.6534653465346535, 0.6633663366336634, 0.6732673267326733, 0.6831683168316832, 0.693069306930693, 0.7029702970297029, 0.7128712871287128, 0.7227722772277227, 0.7326732673267327, 0.7425742574257426, 0.7524752475247525, 0.7623762376237624, 0.7722772277227723, 0.7821782178217822, 0.7920792079207921, 0.801980198019802, 0.8118811881188119, 0.8217821782178217, 0.8316831683168316, 0.8415841584158416, 0.8514851485148515, 0.8613861386138614, 0.8712871287128713, 0.8811881188118812, 0.8910891089108911, 0.900990099009901, 0.9108910891089109, 0.9207920792079208, 0.9306930693069307, 0.9405940594059405, 0.9504950495049505, 0.9603960396039604, 0.9702970297029703, 0.9801980198019802, 0.9900990099009901, 1.0)\n",
      "[-1.7819071727850433, -1.3192836508369303, -0.951558870711613, -0.9262410627273231, -0.9015484501369516, -0.8539204011476971, -0.8309308829229983, -0.8084580270709397, -0.7864791203521644, -0.7649729151312008, -0.7439195059333685, -0.7233002187306329, -0.7030975114131134, -0.6832948841169336, -0.663876798259832, -0.6448286032891376, -0.626136470276985, -0.6077873316087885, -0.5897688261061101, -0.5720692490067094, -0.5546775062948401, -0.5375830729355401, -0.5207759546191588, -0.5042466526679482, -0.4879861317961679, -0.47198579044972677, -0.4562374334815876, -0.4407332469456223, -0.4254657748148339, -0.41042789745029334, -0.39561281166515266, -0.381014012244, -0.36662527479190055, -0.3524406397999441, -0.3384543978252042, -0.32466107569286834, -0.3110554236370897, -0.297632403304949, -0.28438717655492834, -0.2713150949875756, -0.2584116901516677, -0.24567266437423793, -0.23309388216737778, -0.22067136216882063, -0.20840126957700628, -0.19627990904466158, -0.18430371799794587, -0.17246926035094304, -0.16077322058775173, -0.14921239818667575, -0.13778370236305298, -0.1264841471091196, -0.11531084651099437, -0.10426101032440939, -0.09333193979221911, -0.08252102368800347, -0.0718257345712555, -0.06124362524071867, -0.05077232537342326, -0.040409538337876666, -0.030153038170687558, -0.020000666706669543, -0.009950330853168092, 0.0]\n",
      "[1.0986122886681098, 0.0, 0.6931471805599453, 0.0, 0.0, 1.3862943611198906, 2.8903717578961645, 1.6094379124341003, 1.9459101490553132, 2.6390573296152584, 2.4849066497880004, 3.6635616461296463, 2.6390573296152584, 3.1354942159291497, 3.091042453358316, 3.4339872044851463, 3.044522437723423, 3.091042453358316, 2.9444389791664403, 3.8918202981106265, 3.912023005428146, 3.6375861597263857, 3.784189633918261, 3.4657359027997265, 3.871201010907891, 3.9512437185814275, 3.58351893845611, 4.31748811353631, 4.007333185232471, 4.442651256490317, 4.23410650459726, 4.248495242049359, 4.290459441148391, 4.564348191467836, 4.30406509320417, 4.90527477843843, 4.77912349311153, 4.795790545596741, 4.74493212836325, 5.147494476813453, 5.111987788356544, 5.241747015059643, 5.247024072160486, 5.25227342804663, 5.402677381872279, 5.552959584921617, 5.4680601411351315, 5.799092654460526, 5.877735781779639, 5.978885764901122, 6.163314804034641, 6.335054251498059, 6.282266746896006, 6.343880434126331, 6.568077911411976, 6.717804695023691, 6.816735880594968, 6.7912214627261855, 6.902742737158593, 6.902742737158593, 7.170888478512505, 7.2456550675945355, 7.419380582918692, 7.0967213784947605]\n"
     ]
    }
   ],
   "source": [
    "import math\n",
    "\n",
    "print(counts)\n",
    "print(weights)\n",
    "\n",
    "log_weights = [math.log(num) for num in weights]\n",
    "print(log_weights)\n",
    "\n",
    "log_counts = [math.log(num) for num in counts]\n",
    "print(log_counts)"
   ]
  },
  {
   "cell_type": "code",
   "execution_count": 17,
   "metadata": {},
   "outputs": [],
   "source": [
    "def sample_from_cdf(weight_count, n):\n",
    "    \"n is the number of edges\"\n",
    "    sorted_weights = sorted(weight_count.items())\n",
    "\n",
    "    # Separate the weights and their counts for plotting\n",
    "    weights, counts = zip(*sorted_weights)\n",
    "\n",
    "    x = weights\n",
    "    y = counts / np.sum(counts)\n",
    "    cdf = np.cumsum(y)\n",
    "\n",
    "    inverse_cdf = interp1d(cdf, x, bounds_error=False, fill_value=(x[0], x[-1]))\n",
    "\n",
    "    random_values = np.random.rand(n)\n",
    "\n",
    "    samples = inverse_cdf(random_values)\n",
    "\n",
    "    return samples\n"
   ]
  },
  {
   "cell_type": "code",
   "execution_count": null,
   "metadata": {},
   "outputs": [
    {
     "data": {
      "image/png": "[encoded data removed]",
      "text/plain": [
       "<Figure size 1000x600 with 1 Axes>"
      ]
     },
     "metadata": {},
     "output_type": "display_data"
    }
   ],
   "source": [
    "x = weights\n",
    "y = counts / np.sum(counts)\n",
    "cdf = np.cumsum(y)\n",
    "\n",
    "inverse_cdf = interp1d(cdf, x, bounds_error=False, fill_value=(x[0], x[-1]))\n",
    "\n",
    "# Number of samples you want to generate\n",
    "num_samples = 2000\n",
    "\n",
    "# Generate uniform random numbers between 0 and 1\n",
    "random_values = np.random.rand(num_samples)\n",
    "\n",
    "# Use the inverse CDF to get samples from the desired distribution\n",
    "samples = inverse_cdf(random_values)\n",
    "\n",
    "# Plot the original data and the generated samples\n",
    "plt.figure(figsize=(10, 6))\n",
    "plt.hist(samples, bins=50, density=True, alpha=0.6, color='g', label='Sampled Distribution')\n",
    "\n",
    "# Plot the original x and y data for comparison\n",
    "plt.plot(x, y / np.trapz(y, x), 'r-', lw=2, label='Original Distribution')\n",
    "\n",
    "plt.xlabel('x')\n",
    "plt.ylabel('Density')\n",
    "plt.legend()\n",
    "plt.title('Generated Samples vs Original Distribution')\n",
    "plt.show()"
   ]
  },
  {
   "cell_type": "code",
   "execution_count": null,
   "metadata": {},
   "outputs": [
    {
     "data": {
      "image/png": "[encoded data removed]",
      "text/plain": [
       "<Figure size 1000x600 with 1 Axes>"
      ]
     },
     "metadata": {},
     "output_type": "display_data"
    }
   ],
   "source": [
    "plt.figure(figsize=(10, 6))\n",
    "plt.plot(log_weights, log_counts, marker='o', linestyle='-')\n",
    "plt.xlabel('Edge Weight')\n",
    "plt.ylabel('Count')\n",
    "plt.title('Distribution of Edge Weights')\n",
    "plt.grid(True)\n",
    "plt.show()"
   ]
  },
  {
   "cell_type": "code",
   "execution_count": null,
   "metadata": {},
   "outputs": [],
   "source": [
    "# weights = np.array(list(weight_count.keys()))\n",
    "# counts = np.array(list(weight_count.values()))\n",
    "\n",
    "# # Scatter plot of the data\n",
    "# plt.figure(figsize=(10, 6))\n",
    "# plt.scatter(weights, counts, label='Data', color='blue')\n",
    "\n",
    "# Define a function to fit, e.g., a polynomial of degree 2\n",
    "def polynomial(x, a, b, c, d, e, f):\n",
    "    return a * x**5 + b * x**4 + c * x**3 + d * x**2 + e * x + f\n",
    "\n",
    "# # Fit the polynomial to the data using least squares\n",
    "params, _ = curve_fit(polynomial, weights, counts)\n",
    "\n",
    "# # Generate fitted data\n",
    "# fitted_counts = polynomial(weights, *params)\n",
    "\n",
    "# # Plot the fitted function\n",
    "# plt.plot(weights, fitted_counts, label='Fitted Function', color='red')\n",
    "\n",
    "# # Add labels and title\n",
    "# plt.xlabel('Edge Weight')\n",
    "# plt.ylabel('Count')\n",
    "# plt.title('Distribution of Edge Weights with Fitted Function')\n",
    "# plt.legend()\n",
    "# plt.grid(True)\n",
    "# plt.show()"
   ]
  },
  {
   "cell_type": "code",
   "execution_count": null,
   "metadata": {},
   "outputs": [],
   "source": [
    "def create_polynomial(a, b, c, d, e, f):\n",
    "    # Convert coefficients to integers by taking only the integer part\n",
    "    a = int(a)\n",
    "    b = int(b)\n",
    "    c = int(c)\n",
    "    d = int(d)\n",
    "    e = int(e)\n",
    "    f = int(f)\n",
    "\n",
    "    # Define the polynomial function\n",
    "    def polynomial(x):\n",
    "        return a * x**5 + b * x**4 + c * x**3 + d * x**2 + e * x + f\n",
    "    \n",
    "    return polynomial\n",
    "\n",
    "f = create_polynomial(*params)"
   ]
  },
  {
   "cell_type": "code",
   "execution_count": null,
   "metadata": {},
   "outputs": [
    {
     "data": {
      "text/plain": [
       "[<matplotlib.lines.Line2D at 0x3087fb5c0>]"
      ]
     },
     "execution_count": 90,
     "metadata": {},
     "output_type": "execute_result"
    },
    {
     "data": {
      "image/png": "[encoded data removed]",
      "text/plain": [
       "<Figure size 640x480 with 1 Axes>"
      ]
     },
     "metadata": {},
     "output_type": "display_data"
    }
   ],
   "source": [
    "x_plot = np.linspace(0, 1, 1000)\n",
    "y_plot = f(x_plot)/ np.trapz(f(x_plot), x_plot)\n",
    "plt.plot(x_plot, y_plot, 'r-', lw=2, label='Original Function')"
   ]
  },
  {
   "cell_type": "code",
   "execution_count": null,
   "metadata": {},
   "outputs": [],
   "source": [
    "# Define the function\n",
    "def f(x):\n",
    "    return 28734 * x**5 - 58452 * x**4 + 44040 * x**3 - 14361 * x**2 + 1827 * x - 50"
   ]
  },
  {
   "cell_type": "code",
   "execution_count": null,
   "metadata": {},
   "outputs": [
    {
     "name": "stdout",
     "output_type": "stream",
     "text": [
      "done\n",
      "done\n"
     ]
    },
    {
     "data": {
      "image/png": "[encoded data removed]",
      "text/plain": [
       "<Figure size 640x480 with 1 Axes>"
      ]
     },
     "metadata": {},
     "output_type": "display_data"
    }
   ],
   "source": [
    "# Find the maximum value of the function in the range [0, 1]\n",
    "x_values = np.linspace(0, 1, 100)\n",
    "y_values = f(x_values)\n",
    "f_max = np.max(y_values)\n",
    "\n",
    "# Rejection sampling function\n",
    "def rejection_sampling(f, f_max, num_samples, range_min=0, range_max=1):\n",
    "    samples = []\n",
    "    while len(samples) < num_samples:\n",
    "        x = np.random.uniform(range_min, range_max)\n",
    "        y = np.random.uniform(0, f_max)\n",
    "        if y <= f(x):\n",
    "            samples.append(x)\n",
    "    return np.array(samples)\n",
    "\n",
    "print(\"done\")\n",
    "\n",
    "# Number of samples you want to generate\n",
    "num_samples = 1000\n",
    "\n",
    "# Generate the samples\n",
    "samples = rejection_sampling(f, f_max, num_samples)\n",
    "\n",
    "print(\"done\")\n",
    "\n",
    "# Plot the distribution of the samples\n",
    "plt.hist(samples, bins=50, density=True, alpha=0.6, color='g', label='Sampled Distribution')\n",
    "\n",
    "# Plot the original function for comparison\n",
    "x_plot = np.linspace(0, 1, 1000)\n",
    "y_plot = f(x_plot) / np.trapz(f(x_plot), x_plot)  # Normalizing the function\n",
    "plt.plot(x_plot, y_plot, 'r-', lw=2, label='Original Function')\n",
    "\n",
    "plt.xlabel('x')\n",
    "plt.ylabel('Density')\n",
    "plt.legend()\n",
    "plt.show()\n"
   ]
  },
  {
   "cell_type": "markdown",
   "metadata": {},
   "source": [
    "# Functions for diference random graphs"
   ]
  },
  {
   "cell_type": "code",
   "execution_count": 18,
   "metadata": {},
   "outputs": [],
   "source": [
    "def watts_strogatz_barcode(\n",
    "        l: int, \n",
    "        n: int,\n",
    "        m: float,\n",
    "        k: int, \n",
    "        dim: int, \n",
    "        mylist: list, \n",
    "        weight: str,\n",
    "        f: any, \n",
    "        f_max: float, \n",
    "        weight_count: dict | None = None,\n",
    "        r_graph: bool | None = None):\n",
    "    '''Making a  list of barcode for l number of watts_strogatz_graph\n",
    "        l: how many times, n: number of nodes, \n",
    "        n: number of nodes\n",
    "        m:the upper bound for p, (0.15 for 5000 nodes)\n",
    "        k: the number of edge each node has at beginning\n",
    "        dim: the dimension for the persistant diagram\n",
    "        mylist: original list\n",
    "        weight: weighting method'''\n",
    "\n",
    "    graph_set = []\n",
    "\n",
    "    for i in range(l):\n",
    "        #Choose randome p and k\n",
    "        p=np.random.uniform(0, m)\n",
    "        #k=2\n",
    "        #np.random.choice([2,4,6,8])\n",
    "\n",
    "\n",
    "        #Get the graph G\n",
    "        G = nx.watts_strogatz_graph(n, k, p, seed=None)\n",
    "\n",
    "     #Weight edges\n",
    "        if weight == \"pdf\":\n",
    "            for (u, v) in G.edges():\n",
    "                G.edges[u, v]['weight'] = float(rejection_sampling(f, f_max, 1))\n",
    "\n",
    "        if weight == \"cdf\":\n",
    "            num_of_edge = G.number_of_edges()\n",
    "            n_edge = 0\n",
    "            weight_for_edges = sample_from_cdf(weight_count, num_of_edge)\n",
    "            for (u, v) in G.edges():\n",
    "                G.edges[u, v]['weight'] = weight_for_edges[n_edge]\n",
    "                n_edge = n_edge + 1\n",
    "        \n",
    "        if weight == \"random\":\n",
    "            for (u, v) in G.edges():\n",
    "                G.edges[u, v]['weight'] = np.random.uniform(0, 1)\n",
    "\n",
    "        if r_graph:\n",
    "            graph_set.append(G)\n",
    "\n",
    "\n",
    "     # Find the distance matrix\n",
    "        dist_matrix_G = nx.adjacency_matrix(G, weight='weight')\n",
    "\n",
    "        # Compute the Barcode Using Ripser\n",
    "        G_res = ripser(dist_matrix_G, maxdim=dim, distance_matrix=True)\n",
    "        G_res = format_ripser_output(G_res)\n",
    "\n",
    "        #Add barcode into the list\n",
    "        mylist.append(G_res)\n",
    "    if r_graph:\n",
    "        return [mylist, graph_set]\n",
    "    else:\n",
    "        return mylist\n",
    "\n",
    "def newman_watts_strogatz_barcode(\n",
    "        l: int, \n",
    "        n: int,\n",
    "        m: float,\n",
    "        k: int, \n",
    "        dim: int, \n",
    "        mylist: list, \n",
    "        weight: str,\n",
    "        f: any, \n",
    "        f_max: float, \n",
    "        weight_count: dict | None = None,\n",
    "        r_graph: bool | None = None):\n",
    "    '''Making a  list of barcode for l number of newman_watts_strogatz_graph\n",
    "        l: how many times, n: number of nodes, mylist: original list'''\n",
    "\n",
    "    graph_set = []\n",
    "\n",
    "    for i in range(l):\n",
    "        #Choose randome p and k\n",
    "        p=np.random.uniform(0, m)\n",
    "        #k=2\n",
    "        #np.random.choice([2,4,6,8])\n",
    "\n",
    "        #Get the graph G\n",
    "        G = nx.newman_watts_strogatz_graph(n, k, p, seed=None)\n",
    "\n",
    "\n",
    "     #Weight edges\n",
    "        if weight == \"pdf\":\n",
    "            for (u, v) in G.edges():\n",
    "                G.edges[u, v]['weight'] = float(rejection_sampling(f, f_max, 1))\n",
    "\n",
    "        if weight == \"cdf\":\n",
    "            num_of_edge = G.number_of_edges()\n",
    "            n_edge = 0\n",
    "            weight_for_edges = sample_from_cdf(weight_count, num_of_edge)\n",
    "            for (u, v) in G.edges():\n",
    "                G.edges[u, v]['weight'] = weight_for_edges[n_edge]\n",
    "                n_edge = n_edge + 1\n",
    "        \n",
    "        if weight == \"random\":\n",
    "            for (u, v) in G.edges():\n",
    "                G.edges[u, v]['weight'] = np.random.uniform(0, 1)\n",
    "\n",
    "        if r_graph:\n",
    "            graph_set.append(G)\n",
    "\n",
    "     # Find the distance matrix\n",
    "        dist_matrix_G = nx.adjacency_matrix(G, weight='weight')\n",
    "\n",
    "        # Compute the Barcode Using Ripser\n",
    "        G_res = ripser(dist_matrix_G, maxdim=dim, distance_matrix=True)\n",
    "        G_res = format_ripser_output(G_res)\n",
    "\n",
    "        #Add barcode into the list\n",
    "        mylist.append(G_res)\n",
    "    \n",
    "    if r_graph:\n",
    "        return [mylist, graph_set]\n",
    "    else:\n",
    "        return mylist\n",
    "\n",
    "\n",
    "def gnm_random_barcode(\n",
    "        l: int, \n",
    "        n: int,\n",
    "        min: int,\n",
    "        max: int,\n",
    "        dim: int, \n",
    "        mylist: list, \n",
    "        weight: str,\n",
    "        f: any, \n",
    "        f_max: float, \n",
    "        weight_count: dict | None = None,\n",
    "        r_graph: bool | None = None):\n",
    "    '''Making a  list of barcode for l number of gnm_random_graph\n",
    "        l: how many times, n: number of nodes, mylist: original list'''\n",
    "\n",
    "    graph_set = []\n",
    "\n",
    "    for i in range(l):\n",
    "        #Choose randome n\n",
    "        if min == max:\n",
    "            m = min\n",
    "        \n",
    "        if min != max:\n",
    "            m=np.random.choice(list(range(min, max)))\n",
    "\n",
    "        #Get the graph G\n",
    "        G = nx.gnm_random_graph(n, m, seed=None, directed=False)\n",
    "\n",
    "\n",
    "     #Weight edges\n",
    "        if weight == \"pdf\":\n",
    "            for (u, v) in G.edges():\n",
    "                G.edges[u, v]['weight'] = float(rejection_sampling(f, f_max, 1))\n",
    "        \n",
    "        if weight == \"cdf\":\n",
    "            num_of_edge = G.number_of_edges()\n",
    "            n_edge = 0\n",
    "            weight_for_edges = sample_from_cdf(weight_count, num_of_edge)\n",
    "            for (u, v) in G.edges():\n",
    "                G.edges[u, v]['weight'] = weight_for_edges[n_edge]\n",
    "                n_edge = n_edge + 1\n",
    "        \n",
    "        if weight == \"random\":\n",
    "            for (u, v) in G.edges():\n",
    "                G.edges[u, v]['weight'] = np.random.uniform(0, 1)\n",
    "\n",
    "        if r_graph:\n",
    "            graph_set.append(G)\n",
    "\n",
    "     # Find the distance matrix\n",
    "        dist_matrix_G = nx.adjacency_matrix(G, weight='weight')\n",
    "\n",
    "        # Compute the Barcode Using Ripser\n",
    "        G_res = ripser(dist_matrix_G, maxdim=dim, distance_matrix=True)\n",
    "        G_res = format_ripser_output(G_res)\n",
    "\n",
    "        #Add barcode into the list\n",
    "        mylist.append(G_res)\n",
    "    \n",
    "    if r_graph:\n",
    "        return [mylist, graph_set]\n",
    "    else:\n",
    "        return mylist\n",
    "\n",
    "def erdos_renyi_barcode(\n",
    "        l: int,\n",
    "        n: int, \n",
    "        p: float,\n",
    "        dim: int, \n",
    "        mylist: list,\n",
    "        weight: str,\n",
    "        f: any, \n",
    "        f_max: float,\n",
    "        weight_count: dict | None = None,\n",
    "        r_graph: bool | None = None):\n",
    "    '''Making a  list of barcode for l number of erdos_renyi_graph\n",
    "        l: how many times, n: number of nodes, mylist: original list'''\n",
    "\n",
    "    graph_set = []\n",
    "\n",
    "    for i in range(l):\n",
    "        #Choose randome p and k\n",
    "        #p=np.random.choice([0.00047,0.00048,0.00049,0.0005,0.00051,0.00052,0.00053,0.00054,0.00055,0.00056])\n",
    "        #np.random.uniform(0.05, 0.25)\n",
    "\n",
    "        #Get the graph G\n",
    "        G = nx.erdos_renyi_graph(n, p, seed=None, directed=False)\n",
    "\n",
    "\n",
    "     #Weight edges\n",
    "        if weight == \"pdf\":\n",
    "            for (u, v) in G.edges():\n",
    "                G.edges[u, v]['weight'] = float(rejection_sampling(f, f_max, 1))\n",
    "\n",
    "        if weight == \"cdf\":\n",
    "            num_of_edge = G.number_of_edges()\n",
    "            n_edge = 0\n",
    "            weight_for_edges = sample_from_cdf(weight_count, num_of_edge)\n",
    "            for (u, v) in G.edges():\n",
    "                G.edges[u, v]['weight'] = weight_for_edges[n_edge]\n",
    "                n_edge = n_edge + 1\n",
    "        \n",
    "        if weight == \"random\":\n",
    "            for (u, v) in G.edges():\n",
    "                G.edges[u, v]['weight'] = np.random.uniform(0, 1)\n",
    "\n",
    "        if r_graph:\n",
    "            graph_set.append(G)\n",
    "        \n",
    "     # Find the distance matrix\n",
    "        dist_matrix_G = nx.adjacency_matrix(G, weight='weight')\n",
    "\n",
    "        # Compute the Barcode Using Ripser\n",
    "        G_res = ripser(dist_matrix_G, maxdim=dim, distance_matrix=True)\n",
    "        G_res = format_ripser_output(G_res)\n",
    "\n",
    "        #Add barcode into the list\n",
    "        mylist.append(G_res)\n",
    "    \n",
    "    if r_graph:\n",
    "        return [mylist, graph_set]\n",
    "    else:\n",
    "        return mylist\n",
    "\n",
    "def barabasi_albert_barcode(\n",
    "        l:int, \n",
    "        n:int, \n",
    "        m: int,\n",
    "        dim:int, \n",
    "        mylist: list,\n",
    "        weight: str,\n",
    "        f: any, \n",
    "        f_max: float,\n",
    "        weight_count: dict | None = None,\n",
    "        r_graph: bool | None = None):\n",
    "    '''Making a  list of barcode for l number of barabasi_albert_graph\n",
    "        l: how many times, n: number of nodes, mylist: original list'''\n",
    "\n",
    "    graph_set = []\n",
    "\n",
    "    for i in range(l):\n",
    "        #Choose randome p and k\n",
    "        #m=np.random.choice(list(range(1, 2)))\n",
    "\n",
    "        #Get the graph G\n",
    "        G = nx.barabasi_albert_graph(n, m, seed=None, initial_graph=None)\n",
    "\n",
    "\n",
    "     #Weight edges\n",
    "        if weight == \"pdf\":\n",
    "            for (u, v) in G.edges():\n",
    "                G.edges[u, v]['weight'] = float(rejection_sampling(f, f_max, 1))\n",
    "\n",
    "        if weight == \"cdf\":\n",
    "            num_of_edge = G.number_of_edges()\n",
    "            n_edge = 0\n",
    "            weight_for_edges = sample_from_cdf(weight_count, num_of_edge)\n",
    "            for (u, v) in G.edges():\n",
    "                G.edges[u, v]['weight'] = weight_for_edges[n_edge]\n",
    "                n_edge = n_edge + 1\n",
    "        \n",
    "        if weight == \"random\":\n",
    "            for (u, v) in G.edges():\n",
    "                G.edges[u, v]['weight'] = np.random.uniform(0, 1)\n",
    "\n",
    "        if r_graph:\n",
    "            graph_set.append(G)\n",
    "\n",
    "     # Find the distance matrix\n",
    "        dist_matrix_G = nx.adjacency_matrix(G, weight='weight')\n",
    "\n",
    "        # Compute the Barcode Using Ripser\n",
    "        G_res = ripser(dist_matrix_G, maxdim=dim, distance_matrix=True)\n",
    "        G_res = format_ripser_output(G_res)\n",
    "\n",
    "        #Add barcode into the list\n",
    "        mylist.append(G_res)\n",
    "    \n",
    "    if r_graph:\n",
    "        return [mylist, graph_set]\n",
    "    else:\n",
    "        return mylist\n",
    "\n",
    "def random_geometeric_barcode(\n",
    "        l: int, \n",
    "        n: int, \n",
    "        r: float,\n",
    "        dim: int, \n",
    "        mylist: list, \n",
    "        weight: str,\n",
    "        f: any, \n",
    "        f_max: float,\n",
    "        weight_count: dict | None = None,\n",
    "        r_graph: bool | None = None):\n",
    "    '''Making a  list of barcode for l number of random_geometric_graph\n",
    "        l: how many times, n: number of nodes, mylist: original list'''\n",
    "\n",
    "    graph_set = []\n",
    "\n",
    "    for i in range(l):\n",
    "        #Choose randome n\n",
    "        # numbers = [round(j, 2) for j in np.arange(0.15, 0.36, 0.01)]\n",
    "        # radius=random.choice(numbers)\n",
    "        #Get the graph G\n",
    "        G = nx.random_geometric_graph(n, r)\n",
    "\n",
    "\n",
    "        #Weight edges\n",
    "        if weight == \"pdf\":\n",
    "            for (u, v) in G.edges():\n",
    "                G.edges[u, v]['weight'] = float(rejection_sampling(f, f_max, 1))\n",
    "\n",
    "        if weight == \"cdf\":\n",
    "            num_of_edge = G.number_of_edges()\n",
    "            n_edge = 0\n",
    "            weight_for_edges = sample_from_cdf(weight_count, num_of_edge)\n",
    "            for (u, v) in G.edges():\n",
    "                G.edges[u, v]['weight'] = weight_for_edges[n_edge]\n",
    "                n_edge = n_edge + 1\n",
    "        \n",
    "        if weight == \"random\":\n",
    "            for (u, v) in G.edges():\n",
    "                G.edges[u, v]['weight'] = np.random.uniform(0, 1)\n",
    "\n",
    "        if r_graph:\n",
    "            graph_set.append(G)\n",
    "\n",
    "        # Find the distance matrix\n",
    "        dist_matrix_G = nx.adjacency_matrix(G, weight='weight')\n",
    "\n",
    "        # Compute the Barcode Using Ripser\n",
    "        G_res = ripser(dist_matrix_G, maxdim=dim, distance_matrix=True)\n",
    "        G_res = format_ripser_output(G_res)\n",
    "\n",
    "        #Add barcode into the list\n",
    "        mylist.append(G_res)\n",
    "    \n",
    "    if r_graph:\n",
    "        return [mylist, graph_set]\n",
    "    else:\n",
    "        return mylist\n",
    "\n",
    "def triangle_based_barcode(l, n, dim, mylist):\n",
    "    '''Making a  list of barcode for l number of barabasi_albert_graph\n",
    "        l: how many times, n: number of nodes, mylist: original list'''\n",
    "\n",
    "    for i in range(l):\n",
    "        #Choose randome p and k\n",
    "        j= np.random.choice(list(range(20, 50)))\n",
    "\n",
    "        #Get the graph G\n",
    "        F = list(range(1, j)) # Example distribution (could be any distribution fitting your requirements)\n",
    "        G = nmnd.generate_network(n, F)\n",
    "\n",
    "     #Weight edges\n",
    "        for (u, v) in G.edges():\n",
    "            G.edges[u, v]['weight'] = np.random.uniform(0, 1)\n",
    "\n",
    "     # Find the distance matrix\n",
    "        dist_matrix_G = nx.adjacency_matrix(G, weight='weight')\n",
    "\n",
    "        # Compute the Barcode Using Ripser\n",
    "        G_res = ripser(dist_matrix_G, maxdim=dim, distance_matrix=True)\n",
    "        G_res = format_ripser_output(G_res)\n",
    "\n",
    "        #Add barcode into the list\n",
    "        mylist.append(G_res)\n",
    "    return(mylist)\n"
   ]
  },
  {
   "cell_type": "code",
   "execution_count": 19,
   "metadata": {},
   "outputs": [
    {
     "name": "stdout",
     "output_type": "stream",
     "text": [
      "[1614, 14853]\n"
     ]
    }
   ],
   "source": [
    "lists = lists2.copy()\n",
    "\n",
    "mylist_o = lists[0]\n",
    "weight_count = lists[1]\n",
    "G_list = lists[2]\n",
    "\n",
    "mylist = mylist_o.copy()\n",
    "\n",
    "G = G_list[0]\n",
    "nodes_number = G.number_of_nodes()\n",
    "edges_number = G.number_of_edges()\n",
    "\n",
    "print([nodes_number,edges_number])"
   ]
  },
  {
   "cell_type": "code",
   "execution_count": 20,
   "metadata": {},
   "outputs": [],
   "source": [
    "num = 3\n",
    "\n",
    "\n",
    "[mylist, r_graph_list1] = newman_watts_strogatz_barcode(num, nodes_number, 0.2, 22, 3, mylist, \"cdf\", None, None, weight_count, True)\n",
    "[mylist, r_graph_list2] = watts_strogatz_barcode(num, nodes_number, 0.2, 22, 3, mylist, \"cdf\", None, None, weight_count, True)"
   ]
  },
  {
   "cell_type": "code",
   "execution_count": 21,
   "metadata": {},
   "outputs": [],
   "source": [
    "def network_property(\n",
    "        r_graph_list: list,\n",
    "        graph_name: str | None = None,\n",
    "        dim_feature: bool = False):\n",
    "    \"\"\"Input a graph list and return the properties of the graph in the list\n",
    "        r_graph_list: a list of graph G\n",
    "        graph_name: the method getting this graph such as Watts-Strogatz, Original graph\n",
    "        dim_feature: whether get the dimention features of the graph\"\"\"\n",
    "\n",
    "    node_num = []\n",
    "    edge_num = []\n",
    "    density_list = []\n",
    "    clustering_list = []\n",
    "    efficiency_list = []\n",
    "    mod_list = []\n",
    "    commu_list = []\n",
    "    compo_list = []\n",
    "    name = []\n",
    "\n",
    "    for G in r_graph_list:\n",
    "        partition = community_louvain.best_partition(G)\n",
    "\n",
    "        # Compute the modularity of the partition\n",
    "        modularity = community_louvain.modularity(partition, G)\n",
    "\n",
    "        num_communities = len(set(partition.values()))\n",
    "\n",
    "        node_num.append(nx.number_of_nodes(G))\n",
    "        edge_num.append(nx.number_of_edges(G))\n",
    "        density_list.append(nx.density(G))\n",
    "        clustering_list.append(nx.average_clustering(G))\n",
    "        efficiency_list.append(nx.local_efficiency(G))\n",
    "        mod_list.append(modularity)\n",
    "        commu_list.append(num_communities)\n",
    "        compo_list.append(nx.number_connected_components(G))\n",
    "        name.append(graph_name)\n",
    "\n",
    "    dataa = {\n",
    "        'Graph name': name, \n",
    "        'Number of nodes': node_num,\n",
    "        'Number of edges': edge_num,\n",
    "        'Density' : density_list,\n",
    "        'Average local clustering coefficient': clustering_list,\n",
    "        'Average Local Efficiency': efficiency_list,\n",
    "        'Modularity': mod_list,\n",
    "        'Number of communities': commu_list,\n",
    "        'Number of components' : compo_list\n",
    "    }\n",
    "    df = pd.DataFrame(dataa)\n",
    "\n",
    "    if dim_feature:\n",
    "\n",
    "        dim1 = []\n",
    "        dim2 = []\n",
    "        for G in r_graph_list:\n",
    "            #Get the distance matrix\n",
    "            dist_matrix_G = nx.adjacency_matrix(G, weight='weight')\n",
    "\n",
    "            # Get the high dimension features\n",
    "            G_res = ripser(dist_matrix_G, maxdim=3, distance_matrix=True)['dgms']\n",
    "\n",
    "\n",
    "            dim1.append(len(G_res[1]))\n",
    "            dim2.append(len(G_res[2]))\n",
    "        \n",
    "        df.insert(2,\"1-dim\", dim1)\n",
    "        df.insert(3,\"2-dim\", dim2)\n",
    "\n",
    "    return(df)\n"
   ]
  },
  {
   "cell_type": "code",
   "execution_count": 28,
   "metadata": {},
   "outputs": [],
   "source": [
    "G_list1 = lists1[2]\n",
    "G_list2 = lists2[2]\n",
    "G_list3 = lists3[2]\n",
    "G_list4 = lists4[2]\n",
    "\n",
    "#Get the four real data graph\n",
    "Graph_list = [G_list1[0], G_list2[0], G_list3[0], G_list4[0]]\n"
   ]
  },
  {
   "cell_type": "code",
   "execution_count": 209,
   "metadata": {},
   "outputs": [
    {
     "name": "stdout",
     "output_type": "stream",
     "text": [
      "  Graph name  Number of nodes  1-dim  2-dim  Number of edges   Density  \\\n",
      "0         ws             1614   4608   1474            20071  0.015419   \n",
      "1         ws             1614   5509   1495            21005  0.016137   \n",
      "2         ws             1614   3522   1503            18879  0.014503   \n",
      "\n",
      "   Average local clustering coefficient  Average Local Efficiency  Modularity  \\\n",
      "0                              0.564348                  0.680863    0.774428   \n",
      "1                              0.517181                  0.626895    0.738704   \n",
      "2                              0.635265                  0.762903    0.823031   \n",
      "\n",
      "   Number of communities  Number of components  \n",
      "0                     18                     1  \n",
      "1                     17                     1  \n",
      "2                     16                     1  \n"
     ]
    }
   ],
   "source": [
    "dataframe = network_property(r_graph_list1, 'ws', True)\n",
    "print(dataframe)"
   ]
  },
  {
   "cell_type": "code",
   "execution_count": null,
   "metadata": {},
   "outputs": [],
   "source": [
    "df = dataframe.iloc[:, 5:8]\n",
    "\n",
    "sns.set(style=\"whitegrid\")\n",
    "\n",
    "# Create the boxplot\n",
    "plt.figure(figsize=(10, 6))\n",
    "sns.boxplot(data=df)\n",
    "\n",
    "# Set the title and labels\n",
    "plt.title('Boxplot of Network Metrics')\n",
    "plt.xlabel('Metrics')\n",
    "plt.ylabel('Values')\n",
    "\n",
    "# Show the plot\n",
    "plt.show()\n"
   ]
  },
  {
   "cell_type": "code",
   "execution_count": null,
   "metadata": {},
   "outputs": [],
   "source": [
    "dataframe2 = network_property(r_graph_list2)\n",
    "print(dataframe2)"
   ]
  },
  {
   "cell_type": "code",
   "execution_count": 51,
   "metadata": {},
   "outputs": [
    {
     "name": "stdout",
     "output_type": "stream",
     "text": [
      "  Graph name  Number of nodes  1-dim  2-dim  Number of edges   Density  \\\n",
      "0       Real             1149   4639    627            13021  0.019743   \n",
      "1       Real             1614   6334     97            14853  0.011411   \n",
      "2       Real             2623   8667     51            18496  0.005379   \n",
      "3       Real             4785   7707      1            17456  0.001525   \n",
      "\n",
      "   Average local clustering coefficient  Average Local Efficiency  Modularity  \\\n",
      "0                              0.139557                  0.295662    0.414614   \n",
      "1                              0.116946                  0.225077    0.412802   \n",
      "2                              0.115792                  0.178133    0.461906   \n",
      "3                              0.135643                  0.160955    0.548521   \n",
      "\n",
      "   Number of communities  Number of components  \n",
      "0                     11                     3  \n",
      "1                     14                     6  \n",
      "2                     19                    12  \n",
      "3                    108                    91  \n"
     ]
    }
   ],
   "source": [
    "dataframe_real = network_property(Graph_list, \"Real\", True)\n",
    "\n",
    "print(dataframe_real)\n"
   ]
  },
  {
   "cell_type": "code",
   "execution_count": 30,
   "metadata": {},
   "outputs": [
    {
     "name": "stdout",
     "output_type": "stream",
     "text": [
      "       Graph name  Number of nodes  Number of edges   Density  \\\n",
      "40-80        True             1149            13021  0.019743   \n",
      "30-60        True             1614            14853  0.011411   \n",
      "20-40        True             2623            18496  0.005379   \n",
      "11-20        True             4785            17456  0.001525   \n",
      "\n",
      "       Average local clustering coefficient  Average Local Efficiency  \\\n",
      "40-80                              0.139557                  0.295662   \n",
      "30-60                              0.116946                  0.225077   \n",
      "20-40                              0.115792                  0.178133   \n",
      "11-20                              0.135643                  0.160955   \n",
      "\n",
      "       Modularity  Number of communities  Number of components  \n",
      "40-80    0.411041                     10                     3  \n",
      "30-60    0.428118                     15                     6  \n",
      "20-40    0.465002                     21                    12  \n",
      "11-20    0.547605                    109                    91  \n"
     ]
    }
   ],
   "source": [
    "data_range = [ \"40-80\", \"30-60\", \"20-40\", \"11-20\"]\n",
    "\n",
    "dataframe_real.rename(index={0: data_range[0], 1: data_range[1], 2: data_range[2], 3:data_range[3]}, inplace=True)\n",
    "print(dataframe_real)"
   ]
  },
  {
   "cell_type": "code",
   "execution_count": null,
   "metadata": {},
   "outputs": [
    {
     "data": {
      "text/plain": [
       "91"
      ]
     },
     "execution_count": 56,
     "metadata": {},
     "output_type": "execute_result"
    }
   ],
   "source": [
    "nx.number_connected_components(Graph_list[3])"
   ]
  },
  {
   "cell_type": "markdown",
   "metadata": {},
   "source": [
    "# Get the list of random graphs"
   ]
  },
  {
   "cell_type": "code",
   "execution_count": 24,
   "metadata": {},
   "outputs": [],
   "source": [
    "def get_mylist(\n",
    "        listss: list,\n",
    "        dim: int,\n",
    "        num: int,\n",
    "        dou_edge_swap: bool, \n",
    "        mm: float,\n",
    "        k: int,\n",
    "        kk: int,\n",
    "        r: float):\n",
    "    \n",
    "    \"\"\"Input the real data graph barcode and return the barcodes of origin, and other random graph\n",
    "    \n",
    "        listss is the list of the real data, \n",
    "        dim is the dimension for persistent diagram,\n",
    "        num is the number of random graph for each method,\n",
    "        mm is the float for w-s and n-w-s model,\n",
    "        k is the k for w-s,\n",
    "        kk is the k for n-w-s,\n",
    "        r is the radius for RG model\n",
    "        \"\"\"\n",
    "    \n",
    "    lists = listss.copy()\n",
    "\n",
    "    mylist_o = lists[0]\n",
    "    weight_count = lists[1]\n",
    "    G_list = lists[2]\n",
    "\n",
    "    mylist = mylist_o.copy()\n",
    "\n",
    "    #Get the real graph and the number of edge and nodes\n",
    "    G = G_list[0]\n",
    "    nodes_number = G.number_of_nodes()\n",
    "    edges_number = G.number_of_edges()\n",
    "\n",
    "    print([nodes_number,edges_number])\n",
    "\n",
    "    #Find the prob for ER graph\n",
    "    prob = edges_number/(nodes_number*(nodes_number-1))*2\n",
    "    prob = round(prob, 3)\n",
    "\n",
    "    print(prob)\n",
    "\n",
    "    #Find m for BA graph\n",
    "\n",
    "    m = int(edges_number/nodes_number)\n",
    "    print(m)\n",
    "\n",
    "    if dou_edge_swap == True:\n",
    "        mylist = nmnd.double_swap_barcode(num, 3, int(edges_number/5), int(edges_number/5)*5, G_list, mylist)\n",
    "        mylist = nmnd.double_swap_barcode(num, 3, int(edges_number/2), int(edges_number/2)*5, G_list, mylist)\n",
    "        mylist = nmnd.double_swap_barcode(num, 3, edges_number, edges_number*5, G_list, mylist)\n",
    "        mylist = nmnd.double_swap_barcode(num, 3, edges_number*2, edges_number*10, G_list, mylist)\n",
    "\n",
    "\n",
    "    mylist = watts_strogatz_barcode(num, nodes_number, mm, k, dim, mylist, \"cdf\", None, None, weight_count, False)\n",
    "    mylist = newman_watts_strogatz_barcode(num, nodes_number, mm, kk, dim, mylist, \"cdf\", None, None, weight_count, False)\n",
    "    mylist = gnm_random_barcode(num, nodes_number, edges_number, edges_number, dim, mylist, \"cdf\", None, None,weight_count, False)\n",
    "    mylist = erdos_renyi_barcode(num, nodes_number, prob, dim, mylist, \"cdf\", None, None,weight_count, False)\n",
    "    mylist = barabasi_albert_barcode(num, nodes_number, m, dim, mylist, \"cdf\", None, None,weight_count)\n",
    "    mylist = random_geometeric_barcode(num, nodes_number, r, dim, mylist, \"cdf\", None, None, weight_count)\n",
    "    return mylist\n",
    "\n",
    "\n",
    "def get_features(\n",
    "    listss: list,\n",
    "        dim: int,\n",
    "        num: int,\n",
    "        mm: float,\n",
    "        k: int,\n",
    "        kk: int,\n",
    "        r: float):\n",
    "    \n",
    "    \"\"\"Input the real data graph barcode and return the a list of random graphs\n",
    "    \n",
    "        listss is the list of the real data, \n",
    "        dim is the dimension for persistent diagram,\n",
    "        num is the number of random graph for each method,\n",
    "        mm is the float for w-s and n-w-s model,\n",
    "        k is the k for w-s,\n",
    "        kk is the k for n-w-s,\n",
    "        r is the radius for RG model\n",
    "        \"\"\"\n",
    "\n",
    "    lists = listss.copy()\n",
    "\n",
    "    mylist_o = lists[0]\n",
    "    weight_count = lists[1]\n",
    "    G_list = lists[2]\n",
    "\n",
    "    mylist = mylist_o.copy()\n",
    "\n",
    "    #Get the real graph and the number of edge and nodes\n",
    "    G = G_list[0]\n",
    "    nodes_number = G.number_of_nodes()\n",
    "    edges_number = G.number_of_edges()\n",
    "\n",
    "    print([nodes_number,edges_number])\n",
    "\n",
    "    #Find the prob for ER graph\n",
    "    prob = edges_number/(nodes_number*(nodes_number-1))*2\n",
    "    prob = round(prob, 3)\n",
    "\n",
    "\n",
    "    #Find m for BA graph\n",
    "\n",
    "    m = int(edges_number/nodes_number)\n",
    "\n",
    "\n",
    "    [mylist, r_graph_list1] = watts_strogatz_barcode(num, nodes_number, mm, k, dim, mylist, \"cdf\", None, None, weight_count, True)\n",
    "    [mylist, r_graph_list2] = newman_watts_strogatz_barcode(num, nodes_number, mm, kk, dim, mylist, \"cdf\", None, None, weight_count, True)\n",
    "    [mylist, r_graph_list3] = gnm_random_barcode(num, nodes_number, edges_number, edges_number, dim, mylist, \"cdf\", None, None,weight_count, True)\n",
    "    [mylist, r_graph_list4] = erdos_renyi_barcode(num, nodes_number, prob, dim, mylist, \"cdf\", None, None,weight_count, True)\n",
    "    [mylist, r_graph_list5] = barabasi_albert_barcode(num, nodes_number, m, dim, mylist, \"cdf\", None, None,weight_count, True)\n",
    "    [mylist, r_graph_list6] = random_geometeric_barcode(num, nodes_number, r, dim, mylist, \"cdf\", None, None, weight_count, True)\n",
    "\n",
    "    return [r_graph_list1, r_graph_list2, r_graph_list3, r_graph_list4, r_graph_list5, r_graph_list6]\n"
   ]
  },
  {
   "cell_type": "markdown",
   "metadata": {},
   "source": [
    "# Comparing the difference of features"
   ]
  },
  {
   "cell_type": "code",
   "execution_count": 22,
   "metadata": {},
   "outputs": [],
   "source": [
    "def get_feature_mean_df(\n",
    "        graph_list: list,\n",
    "        dim_feature: bool = False,\n",
    "        each_random_graph: bool = False):\n",
    "    \"\"\"input a list of graph list and return the dataframe of mean features \n",
    "    or the feature data for each kind of random network\"\"\"\n",
    "    features = []\n",
    "    means = []\n",
    "\n",
    "    for graphs in graph_list:\n",
    "        features.append(network_property(graphs, dim_feature))\n",
    "\n",
    "    for properties in features:\n",
    "        means.append(properties.mean())\n",
    "    \n",
    "    if len(graph_list) == 7:\n",
    "        All_means = pd.DataFrame({\n",
    "            'Real-data': means[6],\n",
    "            'WS': means[0],\n",
    "            'NWS': means[1],\n",
    "            \"GNM\": means[2],\n",
    "            \"ER\": means[3],\n",
    "            \"BA\": means[4],\n",
    "            \"RG\": means[5]\n",
    "        }).transpose()\n",
    "    \n",
    "    else:\n",
    "        All_means = pd.DataFrame({\n",
    "            'WS': means[0],\n",
    "            'NWS': means[1],\n",
    "            \"GNM\": means[2],\n",
    "            \"ER\": means[3],\n",
    "            \"BA\": means[4],\n",
    "            \"RG\": means[5]\n",
    "        }).transpose()\n",
    "\n",
    "    if each_random_graph:\n",
    "        return features\n",
    "    \n",
    "    return All_means\n",
    "    \n",
    "\n",
    "def get_feature_data(\n",
    "    graph_list: list,\n",
    "    dim_feature: bool = False,):\n",
    "\n",
    "    \"\"\"input a list of graph list and return one dataframe of all features \n",
    "    or n random networks for each kind of graph\"\"\"\n",
    "    features = []\n",
    "    names = ['ws', 'nws', 'gnm', 'er', 'ba', 'rg']\n",
    "\n",
    "    for i in range(len(graph_list)):\n",
    "        graphs = graph_list[i]\n",
    "        name = names[i]\n",
    "        features.append(network_property(graphs,name, dim_feature))\n",
    "    \n",
    "    df = features[0]\n",
    "    for j in range(len(graph_list)-1):\n",
    "        k = j+1\n",
    "        df_1 = features[k]\n",
    "        df = pd.concat([df, df_1], axis=0)\n",
    "\n",
    "    return df\n",
    "\n",
    "def get_feature_data_double(\n",
    "    graph_list: list,\n",
    "    dim_feature: bool = False,):\n",
    "\n",
    "    \"\"\"input a list of graph list and return one dataframe of all features \n",
    "    or n random networks for each kind of graph\"\"\"\n",
    "    features = []\n",
    "    names = ['ws', 'nws', 'gnm', 'er', 'ba', 'rg']\n",
    "\n",
    "    for i in range(len(graph_list)):\n",
    "        graphs = graph_list[i]\n",
    "        name = names[i]\n",
    "        features.append(network_property(graphs,name, dim_feature))\n",
    "    \n",
    "    df = features[0]\n",
    "    for j in range(len(graph_list)-1):\n",
    "        k = j+1\n",
    "        df_1 = features[k]\n",
    "        df = pd.concat([df, df_1], axis=0)\n",
    "\n",
    "    return df"
   ]
  },
  {
   "cell_type": "code",
   "execution_count": 175,
   "metadata": {},
   "outputs": [
    {
     "name": "stdout",
     "output_type": "stream",
     "text": [
      "[1149, 13021]\n",
      "     Number of nodes  Number of edges    1-dim   2-dim   Density  \\\n",
      "WS            1149.0          12639.0   3579.2  1048.2  0.019164   \n",
      "NWS           1149.0          12114.2   3138.4   656.4  0.018368   \n",
      "GNM           1149.0          13021.0  10163.0     0.0  0.019743   \n",
      "ER            1149.0          13214.8  10273.6     0.0  0.020037   \n",
      "BA            1149.0          12518.0   7652.0   401.0  0.018980   \n",
      "RG            1149.0          12942.2   2014.0  1139.0  0.019623   \n",
      "\n",
      "     Average local clustering coefficient  Average Local Efficiency  \\\n",
      "WS                               0.445283                  0.590413   \n",
      "NWS                              0.531345                  0.647725   \n",
      "GNM                              0.019699                  0.025248   \n",
      "ER                               0.020302                  0.026258   \n",
      "BA                               0.059700                  0.131493   \n",
      "RG                               0.613288                  0.803185   \n",
      "\n",
      "     Modularity  Number of communities  Number of components  \n",
      "WS     0.721532                   15.0                   1.0  \n",
      "NWS    0.741546                   15.4                   1.0  \n",
      "GNM    0.185669                   11.4                   1.0  \n",
      "ER     0.184696                   11.6                   1.0  \n",
      "BA     0.181482                   10.4                   1.0  \n",
      "RG     0.794582                   12.6                   1.0  \n"
     ]
    }
   ],
   "source": [
    "random_graphs_40_80 = get_features(lists1, 3, 5, 0.3, 22, 18, 0.082)\n",
    "\n",
    "All_means_40_80 = get_feature_mean_df(random_graphs_40_80, True)\n",
    "print(All_means_40_80)\n",
    "\n"
   ]
  },
  {
   "cell_type": "code",
   "execution_count": null,
   "metadata": {},
   "outputs": [],
   "source": [
    "first_row_real = dataframe_real.iloc[0]\n",
    "\n",
    "# Insert the first row of the first DataFrame to the first row of the second DataFrame\n",
    "All_means_40_80.loc['40-80'] = first_row_real\n"
   ]
  },
  {
   "cell_type": "code",
   "execution_count": 187,
   "metadata": {},
   "outputs": [
    {
     "name": "stdout",
     "output_type": "stream",
     "text": [
      "[1149, 13021]\n",
      "7\n",
      "           Number of nodes  Number of edges    1-dim   2-dim   Density  \\\n",
      "Real-data           1149.0          13021.0   4639.0   627.0  0.019743   \n",
      "WS                  1149.0          12639.0   3460.6  1056.4  0.019164   \n",
      "NWS                 1149.0          11702.6   2748.2   673.2  0.017744   \n",
      "GNM                 1149.0          13021.0  10150.2     0.0  0.019743   \n",
      "ER                  1149.0          13103.8  10232.8     0.0  0.019869   \n",
      "BA                  1149.0          12518.0   7667.2   394.2  0.018980   \n",
      "RG                  1149.0          13032.4   1992.2  1181.2  0.019760   \n",
      "\n",
      "           Average local clustering coefficient  Average Local Efficiency  \\\n",
      "Real-data                              0.139557                  0.295662   \n",
      "WS                                     0.464826                  0.609045   \n",
      "NWS                                    0.571175                  0.694083   \n",
      "GNM                                    0.020050                  0.025698   \n",
      "ER                                     0.019788                  0.025321   \n",
      "BA                                     0.059067                  0.130485   \n",
      "RG                                     0.614865                  0.804059   \n",
      "\n",
      "           Modularity  Number of communities  Number of components  \n",
      "Real-data    0.411052                   10.0                   3.0  \n",
      "WS           0.728672                   15.2                   1.0  \n",
      "NWS          0.770439                   15.8                   1.0  \n",
      "GNM          0.184607                   11.8                   1.0  \n",
      "ER           0.184222                   11.4                   1.0  \n",
      "BA           0.180850                   10.6                   1.0  \n",
      "RG           0.795803                   12.6                   1.0  \n"
     ]
    }
   ],
   "source": [
    "random_graphs_40_80 = get_features(lists1, 3, 5, 0.3, 22, 18, 0.082)\n",
    "random_graphs_40_80.append([G_list1[0]])\n",
    "\n",
    "All_means_40_80 = get_feature_mean_df(random_graphs_40_80, True)\n",
    "print(All_means_40_80)"
   ]
  },
  {
   "cell_type": "code",
   "execution_count": 223,
   "metadata": {},
   "outputs": [
    {
     "name": "stdout",
     "output_type": "stream",
     "text": [
      "[1149, 13021]\n",
      "   Graph name  Number of nodes  Number of edges   Density  \\\n",
      "0        True             1149            13221  0.020046   \n",
      "1        True             1149            12570  0.019059   \n",
      "2        True             1149            12152  0.018425   \n",
      "3        True             1149            10534  0.015972   \n",
      "4        True             1149            13008  0.019723   \n",
      "\n",
      "   Average local clustering coefficient  Average Local Efficiency  Modularity  \\\n",
      "0                              0.441560                  0.544420    0.674289   \n",
      "1                              0.486797                  0.594791    0.708610   \n",
      "2                              0.520134                  0.633502    0.735470   \n",
      "3                              0.681681                  0.822779    0.849046   \n",
      "4                              0.455591                  0.560279    0.684816   \n",
      "\n",
      "   Number of communities  Number of components  \n",
      "0                     15                     1  \n",
      "1                     16                     1  \n",
      "2                     13                     1  \n",
      "3                     15                     1  \n",
      "4                     16                     1  \n"
     ]
    }
   ],
   "source": [
    "random_graphs_40_80 = get_features(lists1, 3, 5, 0.3, 22, 18, 0.082)\n",
    "each_40_80 = get_feature_mean_df(random_graphs_40_80, True, True)\n",
    "\n",
    "print(each_40_80[1])"
   ]
  },
  {
   "cell_type": "code",
   "execution_count": 42,
   "metadata": {},
   "outputs": [
    {
     "name": "stdout",
     "output_type": "stream",
     "text": [
      "[1149, 13021]\n",
      "[1614, 14853]\n",
      "[2623, 18496]\n",
      "[4785, 17456]\n"
     ]
    }
   ],
   "source": [
    "n = 10\n",
    "\n",
    "random_graphs_40_80 = get_features(lists1, 3, n, 0.3, 22, 18, 0.082)\n",
    "df_all_40_80 = get_feature_data(random_graphs_40_80, True)\n",
    "df_all_40_80[\"Concept range\"] = \"40-80\"\n",
    "\n",
    "random_graphs_30_60 = get_features(lists2, 3, n, 0.3, 18, 14, 0.062)\n",
    "df_all_30_60 = get_feature_data(random_graphs_30_60, True)\n",
    "df_all_30_60[\"Concept range\"] = \"30-60\"\n",
    "\n",
    "random_graphs_20_40 = get_features(lists3, 3, n, 0.38, 14, 10, 0.042)\n",
    "df_all_20_40 = get_feature_data(random_graphs_20_40, True)\n",
    "df_all_20_40[\"Concept range\"] = \"20-40\"\n",
    "\n",
    "random_graphs_11_20 = get_features(lists4, 3, n, 0.3, 8, 6, 0.0225)\n",
    "df_all_11_20 = get_feature_data(random_graphs_11_20, True)\n",
    "df_all_11_20[\"Concept range\"] = \"11-20\"\n",
    "\n"
   ]
  },
  {
   "cell_type": "code",
   "execution_count": 61,
   "metadata": {},
   "outputs": [
    {
     "name": "stdout",
     "output_type": "stream",
     "text": [
      "   Graph name  Number of nodes  1-dim  2-dim  Number of edges   Density  \\\n",
      "0          ws             1149   1924   1010            12639  0.019164   \n",
      "1          ws             1149   2857   1008            12639  0.019164   \n",
      "2          ws             1149   3887   1022            12639  0.019164   \n",
      "3          ws             1149   2978   1068            12639  0.019164   \n",
      "4          ws             1149   3073   1050            12639  0.019164   \n",
      "..        ...              ...    ...    ...              ...       ...   \n",
      "5          rg             4785   2840    188            17789  0.001554   \n",
      "6          rg             4785   2868    188            18154  0.001586   \n",
      "7          rg             4785   2903    178            18153  0.001586   \n",
      "8          rg             4785   2803    172            17877  0.001562   \n",
      "9          rg             4785   2867    178            17857  0.001560   \n",
      "\n",
      "    Average local clustering coefficient  Average Local Efficiency  \\\n",
      "0                               0.675604                  0.818839   \n",
      "1                               0.527067                  0.674351   \n",
      "2                               0.395762                  0.543321   \n",
      "3                               0.514722                  0.661911   \n",
      "4                               0.506680                  0.654067   \n",
      "..                                   ...                       ...   \n",
      "5                               0.592297                  0.740673   \n",
      "6                               0.592488                  0.740356   \n",
      "7                               0.594083                  0.741271   \n",
      "8                               0.593643                  0.741746   \n",
      "9                               0.593154                  0.738258   \n",
      "\n",
      "    Modularity  Number of communities  Number of components Concept range  \n",
      "0     0.837140                     14                     1         40-80  \n",
      "1     0.771381                     15                     1         40-80  \n",
      "2     0.699925                     16                     1         40-80  \n",
      "3     0.765122                     15                     1         40-80  \n",
      "4     0.758873                     16                     1         40-80  \n",
      "..         ...                    ...                   ...           ...  \n",
      "5     0.951678                     59                     7         11-20  \n",
      "6     0.950229                     50                     1         11-20  \n",
      "7     0.953091                     61                    11         11-20  \n",
      "8     0.951939                     66                     9         11-20  \n",
      "9     0.955694                     62                    10         11-20  \n",
      "\n",
      "[240 rows x 12 columns]\n"
     ]
    }
   ],
   "source": [
    "df_all = pd.concat([df_all_40_80, df_all_30_60, df_all_20_40, df_all_11_20], axis=0)\n",
    "print(df_all)"
   ]
  },
  {
   "cell_type": "code",
   "execution_count": 80,
   "metadata": {},
   "outputs": [
    {
     "data": {
      "text/plain": [
       "<Axes: xlabel='Graph name', ylabel='Average Local Efficiency'>"
      ]
     },
     "execution_count": 80,
     "metadata": {},
     "output_type": "execute_result"
    },
    {
     "data": {
      "image/png": "[encoded data removed]",
      "text/plain": [
       "<Figure size 640x480 with 1 Axes>"
      ]
     },
     "metadata": {},
     "output_type": "display_data"
    }
   ],
   "source": [
    "sns.boxplot(data=df_all, x=\"Graph name\", y=\"Average Local Efficiency\", hue=\"Concept range\")"
   ]
  },
  {
   "cell_type": "code",
   "execution_count": 81,
   "metadata": {},
   "outputs": [
    {
     "data": {
      "image/png": "[encoded data removed]",
      "text/plain": [
       "<Figure size 640x480 with 1 Axes>"
      ]
     },
     "metadata": {},
     "output_type": "display_data"
    }
   ],
   "source": [
    "ax = sns.boxplot(data=df_all, x=\"Concept range\", y=\"Average Local Efficiency\", hue=\"Graph name\")\n",
    "\n",
    "for i in range(4):\n",
    "    ax.scatter(i, dataframe_real.iloc[i, 7], color='red', zorder=5)"
   ]
  },
  {
   "cell_type": "code",
   "execution_count": 107,
   "metadata": {},
   "outputs": [
    {
     "data": {
      "text/plain": [
       "<Axes: xlabel='Graph name', ylabel='Average local clustering coefficient'>"
      ]
     },
     "execution_count": 107,
     "metadata": {},
     "output_type": "execute_result"
    },
    {
     "data": {
      "image/png": "[encoded data removed]",
      "text/plain": [
       "<Figure size 640x480 with 1 Axes>"
      ]
     },
     "metadata": {},
     "output_type": "display_data"
    }
   ],
   "source": [
    "sns.boxplot(data=df_all, x=\"Graph name\", y=\"Average local clustering coefficient\", hue=\"Concept range\")"
   ]
  },
  {
   "cell_type": "code",
   "execution_count": 106,
   "metadata": {},
   "outputs": [
    {
     "data": {
      "image/png": "[encoded data removed]",
      "text/plain": [
       "<Figure size 640x480 with 1 Axes>"
      ]
     },
     "metadata": {},
     "output_type": "display_data"
    }
   ],
   "source": [
    "ax = sns.boxplot(data=df_all, x=\"Concept range\", y=\"Average local clustering coefficient\", hue=\"Graph name\")\n",
    "\n",
    "for i in range(4):\n",
    "    ax.scatter(i, dataframe_real.iloc[i, 6], color='red', zorder=5)"
   ]
  },
  {
   "cell_type": "code",
   "execution_count": 79,
   "metadata": {},
   "outputs": [
    {
     "data": {
      "image/png": "[encoded data removed]",
      "text/plain": [
       "<Figure size 640x480 with 1 Axes>"
      ]
     },
     "metadata": {},
     "output_type": "display_data"
    }
   ],
   "source": [
    "ax = sns.boxplot(data=df_all, x=\"Concept range\", y=\"Density\", hue=\"Graph name\")\n",
    "\n",
    "for i in range(4):\n",
    "    ax.scatter(i, dataframe_real.iloc[i, 5], color='red', zorder=5)"
   ]
  },
  {
   "cell_type": "code",
   "execution_count": 54,
   "metadata": {},
   "outputs": [
    {
     "name": "stdout",
     "output_type": "stream",
     "text": [
      "  Graph name  Number of nodes  1-dim  2-dim  Number of edges   Density  \\\n",
      "0       Real             1149   4639    627            13021  0.019743   \n",
      "1       Real             1614   6334     97            14853  0.011411   \n",
      "2       Real             2623   8667     51            18496  0.005379   \n",
      "3       Real             4785   7707      1            17456  0.001525   \n",
      "\n",
      "   Average local clustering coefficient  Average Local Efficiency  Modularity  \\\n",
      "0                              0.139557                  0.295662    0.414614   \n",
      "1                              0.116946                  0.225077    0.412802   \n",
      "2                              0.115792                  0.178133    0.461906   \n",
      "3                              0.135643                  0.160955    0.548521   \n",
      "\n",
      "   Number of communities  Number of components  \n",
      "0                     11                     3  \n",
      "1                     14                     6  \n",
      "2                     19                    12  \n",
      "3                    108                    91  \n"
     ]
    }
   ],
   "source": [
    "print(dataframe_real)"
   ]
  },
  {
   "cell_type": "code",
   "execution_count": null,
   "metadata": {},
   "outputs": [],
   "source": [
    "random_graphs_30_60 = get_features(lists2, 3, 5, 0.3, 18, 14, 0.062)\n",
    "\n",
    "All_means_30_60 = get_feature_mean_df(random_graphs_30_60, True)\n",
    "print(All_means_30_60)"
   ]
  },
  {
   "cell_type": "code",
   "execution_count": null,
   "metadata": {},
   "outputs": [],
   "source": [
    "random_graphs_30_60.append([G_list2[0]])\n",
    "\n",
    "All_means_30_60 = get_feature_mean_df(random_graphs_30_60, True)\n",
    "print(All_means_30_60)"
   ]
  },
  {
   "cell_type": "code",
   "execution_count": null,
   "metadata": {},
   "outputs": [],
   "source": [
    "random_graphs_20_40 = get_features(lists3, 3, 5, 0.38, 14, 10, 0.042)\n",
    "All_means_20_40 = get_feature_mean_df(random_graphs_20_40, True)\n",
    "print(All_means_20_40)"
   ]
  },
  {
   "cell_type": "code",
   "execution_count": null,
   "metadata": {},
   "outputs": [],
   "source": [
    "num = 10\n",
    "\n",
    "original_graph_list1 = lists1[2]\n",
    "edges_number = nx.number_of_edges(original_graph_list1[0])\n",
    "\n",
    "double_graph_list1 = nmnd.double_swap_graph(num, 3, int(edges_number/5), int(edges_number/5)*5, original_graph_list1)\n"
   ]
  },
  {
   "cell_type": "code",
   "execution_count": 102,
   "metadata": {},
   "outputs": [
    {
     "data": {
      "text/plain": [
       "3"
      ]
     },
     "execution_count": 102,
     "metadata": {},
     "output_type": "execute_result"
    }
   ],
   "source": []
  },
  {
   "cell_type": "markdown",
   "metadata": {},
   "source": [
    "# Compare the persistence image"
   ]
  },
  {
   "cell_type": "code",
   "execution_count": 84,
   "metadata": {},
   "outputs": [
    {
     "name": "stdout",
     "output_type": "stream",
     "text": [
      "[1149, 13021]\n",
      "0.02\n",
      "11\n",
      "[1614, 14853]\n",
      "0.011\n",
      "9\n",
      "[2623, 18496]\n",
      "0.005\n",
      "7\n",
      "[4785, 17456]\n",
      "0.002\n",
      "3\n"
     ]
    }
   ],
   "source": [
    "mylist_1 = get_mylist(lists1, 3, 10, True, 0.3, 22, 18, 0.082)\n",
    "mylist_2 = get_mylist(lists2, 3, 10, True, 0.3, 18, 14, 0.062)\n",
    "mylist_3 = get_mylist(lists3, 3, 10, True, 0.38, 14, 10, 0.042)\n",
    "mylist_4 = get_mylist(lists4, 3, 10, True, 0.3, 8, 6, 0.0225)"
   ]
  },
  {
   "cell_type": "code",
   "execution_count": 85,
   "metadata": {},
   "outputs": [
    {
     "name": "stdout",
     "output_type": "stream",
     "text": [
      "1\n",
      "2\n"
     ]
    }
   ],
   "source": [
    "distance_vector1=barcode_distance_vector(mylist_1)\n",
    "print(1)\n",
    "\n",
    "distance_vector2=barcode_distance_vector(mylist_2)\n",
    "print(2)\n",
    "\n",
    "distance_vector3=barcode_distance_vector(mylist_3)\n",
    "\n",
    "distance_vector4=barcode_distance_vector(mylist_4)"
   ]
  },
  {
   "cell_type": "code",
   "execution_count": 86,
   "metadata": {},
   "outputs": [],
   "source": [
    "combined_vectors = np.vstack((distance_vector1, distance_vector2, distance_vector3, distance_vector4))"
   ]
  },
  {
   "cell_type": "code",
   "execution_count": null,
   "metadata": {},
   "outputs": [
    {
     "data": {
      "image/png": "[encoded data removed]",
      "text/plain": [
       "<Figure size 640x480 with 2 Axes>"
      ]
     },
     "metadata": {},
     "output_type": "display_data"
    }
   ],
   "source": [
    "# Create a heatmap\n",
    "sns.heatmap(distance_matrix, cmap='viridis', annot=True)\n",
    "\n",
    "# Show the plot\n",
    "plt.show()"
   ]
  },
  {
   "cell_type": "code",
   "execution_count": 87,
   "metadata": {},
   "outputs": [
    {
     "data": {
      "image/png": "[encoded data removed]",
      "text/plain": [
       "<Figure size 640x480 with 2 Axes>"
      ]
     },
     "metadata": {},
     "output_type": "display_data"
    }
   ],
   "source": [
    "# Create a heatmap\n",
    "sns.heatmap(combined_vectors, cmap='viridis', annot=True)\n",
    "\n",
    "# Show the plot\n",
    "plt.show()"
   ]
  },
  {
   "cell_type": "code",
   "execution_count": null,
   "metadata": {},
   "outputs": [],
   "source": [
    "# Create a heatmap\n",
    "sns.heatmap(distance_vector, cmap='viridis', annot=True)\n",
    "\n",
    "# Show the plot\n",
    "plt.show()"
   ]
  },
  {
   "cell_type": "markdown",
   "metadata": {},
   "source": [
    "# MATRIX"
   ]
  },
  {
   "cell_type": "code",
   "execution_count": null,
   "metadata": {},
   "outputs": [
    {
     "name": "stdout",
     "output_type": "stream",
     "text": [
      "['Data', 0.0]\n",
      "['Watts-Strogatz', 0.0]\n",
      "['Newman-Watts-Strogatz', 0.0]\n",
      "['G(n,m)', 0.0]\n",
      "['G(n,p)', 0.0]\n",
      "['Barabasi-Albert', 0.0]\n",
      "['Random-geometric', 0.0]\n"
     ]
    }
   ],
   "source": [
    "j = int(len(mylist)/10)\n",
    "\n",
    "names_1 = [\"Data\"]\n",
    "names_2 = [\"local-edge-swap\"]\n",
    "names_3 = [\"double-edge-swap\"]\n",
    "names_4 = [\"Watts-Strogatz\", \"Newman-Watts-Strogatz\", \"G(n,m)\", \"G(n,p)\", \"Barabasi-Albert\", \"Random-geometric\"]\n",
    "names_5 = [\"Watts-Strogatz_en\", \"Watts-Strogatz_8\", \"Watts-Strogatz_10\", \"Watts-Strogatz_12\", \"Watts-Strogatz_14\"]\n",
    "\n",
    "name = names_1  + names_4\n",
    "\n",
    "origin = distance_matrix.iloc[0:9, 0:9]\n",
    "or_sum = origin.values.sum()\n",
    "\n",
    "for i in range(j):\n",
    "    n = i*10\n",
    "    n2 = n+9\n",
    "\n",
    "    submatrix = distance_matrix.iloc[0:9, n:n2]\n",
    "\n",
    "    # Calculate the sum of the elements in the submatrix\n",
    "    submatrix_sum = submatrix.values.sum()\n",
    "    subtract = submatrix_sum - or_sum\n",
    "    print([name[i], subtract])"
   ]
  },
  {
   "cell_type": "markdown",
   "metadata": {},
   "source": [
    "# VECTOR"
   ]
  },
  {
   "cell_type": "code",
   "execution_count": null,
   "metadata": {},
   "outputs": [
    {
     "name": "stdout",
     "output_type": "stream",
     "text": [
      "['Data', 0.0]\n",
      "['Watts-Strogatz', 8846.297466598393]\n",
      "['Newman-Watts-Strogatz', 8565.802507813905]\n",
      "['G(n,m)', 15894.266603357382]\n",
      "['G(n,p)', 15885.012948541802]\n",
      "['Barabasi-Albert', 9718.20778071462]\n",
      "['Random-geometric', 10138.711312347257]\n"
     ]
    }
   ],
   "source": [
    "j = int(len(mylist)/10)\n",
    "\n",
    "origin = distance_vector.iloc[0, 0:9]\n",
    "or_sum = origin.values.sum()\n",
    "\n",
    "for i in range(j):\n",
    "    n = i*10\n",
    "    n2 = n+9\n",
    "\n",
    "    subvector = distance_vector.iloc[0, n:n2]\n",
    "\n",
    "    # Calculate the sum of the elements in the submatrix\n",
    "    subvector_sum = subvector.values.sum()\n",
    "    subtract = subvector_sum - or_sum\n",
    "    print([name[i], subtract])"
   ]
  },
  {
   "cell_type": "markdown",
   "metadata": {},
   "source": [
    "# Combine the distance vector into a dataframe"
   ]
  },
  {
   "cell_type": "code",
   "execution_count": 98,
   "metadata": {},
   "outputs": [],
   "source": [
    "Names = [\"1/5 swap\"]*10 + [\"1/2 swap\"]*10 + [\"1 swap\"]*10 + [\"2 swap\"]*10 + [\"ws\"]*10 + [\"nws\"]*10 + [\"gnm\"]*10 + [\"er\"]*10 +[\"ba\"]*10 + [\"rg\"]* 10\n",
    "group1 = [\"40-80\"] * 100\n",
    "group2 = [\"30-60\"] * 100\n",
    "group3 = [\"20-40\"] * 100\n",
    "group4 = [\"11-20\"] * 100\n",
    "\n",
    "distance1 = combined_vectors[0, 10:]\n",
    "distance2 = combined_vectors[1, 10:]\n",
    "distance3 = combined_vectors[2, 10:]\n",
    "distance4 = combined_vectors[3, 10:]"
   ]
  },
  {
   "cell_type": "code",
   "execution_count": 99,
   "metadata": {},
   "outputs": [
    {
     "name": "stdout",
     "output_type": "stream",
     "text": [
      "       Names  Group     Distance\n",
      "0   1/5 swap  40-80   268.514721\n",
      "1   1/5 swap  40-80   285.099552\n",
      "2   1/5 swap  40-80   273.225699\n",
      "3   1/5 swap  40-80   234.505097\n",
      "4   1/5 swap  40-80   272.403149\n",
      "..       ...    ...          ...\n",
      "95        rg  11-20  2264.162901\n",
      "96        rg  11-20  2229.564364\n",
      "97        rg  11-20  2128.801502\n",
      "98        rg  11-20  2248.561101\n",
      "99        rg  11-20  2158.858837\n",
      "\n",
      "[400 rows x 3 columns]\n"
     ]
    }
   ],
   "source": [
    "df_dist_40_80 = pd.DataFrame({\n",
    "            'Names': Names,\n",
    "            'Group': group1,\n",
    "            \"Distance\": distance1\n",
    "        })\n",
    "\n",
    "df_dist_30_60 = pd.DataFrame({\n",
    "            'Names': Names,\n",
    "            'Group': group2,\n",
    "            \"Distance\": distance2\n",
    "        })\n",
    "\n",
    "df_dist_20_40 = pd.DataFrame({\n",
    "            'Names': Names,\n",
    "            'Group': group3,\n",
    "            \"Distance\": distance3\n",
    "        })\n",
    "\n",
    "df_dist_11_20 = pd.DataFrame({\n",
    "            'Names': Names,\n",
    "            'Group': group4,\n",
    "            \"Distance\": distance4\n",
    "        })\n",
    "\n",
    "df_dist_all = pd.concat([df_dist_40_80, df_dist_30_60, df_dist_20_40, df_dist_11_20], axis=0)\n",
    "print(df_dist_all)"
   ]
  },
  {
   "cell_type": "code",
   "execution_count": 105,
   "metadata": {},
   "outputs": [
    {
     "data": {
      "text/plain": [
       "<Axes: xlabel='Group', ylabel='Distance'>"
      ]
     },
     "execution_count": 105,
     "metadata": {},
     "output_type": "execute_result"
    },
    {
     "data": {
      "image/png": "[encoded data removed]",
      "text/plain": [
       "<Figure size 640x480 with 1 Axes>"
      ]
     },
     "metadata": {},
     "output_type": "display_data"
    }
   ],
   "source": [
    "filtered_df = df_dist_all[df_dist_all['Names'].isin(['1/5 swap', '1/2 swap', '1 swap', '2 swap'])]\n",
    "sns.boxplot(data=df_dist_all, x=\"Group\", y=\"Distance\", hue=\"Names\")"
   ]
  }
 ],
 "metadata": {
  "kernelspec": {
   "display_name": "base",
   "language": "python",
   "name": "python3"
  },
  "language_info": {
   "codemirror_mode": {
    "name": "ipython",
    "version": 3
   },
   "file_extension": ".py",
   "mimetype": "text/x-python",
   "name": "python",
   "nbconvert_exporter": "python",
   "pygments_lexer": "ipython3",
   "version": "3.12.2"
  }
 },
 "nbformat": 4,
 "nbformat_minor": 2
}
