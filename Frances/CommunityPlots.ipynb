{
 "cells": [
  {
   "cell_type": "markdown",
   "metadata": {},
   "source": [
    "# Import packages"
   ]
  },
  {
   "cell_type": "code",
   "execution_count": 1,
   "metadata": {},
   "outputs": [],
   "source": [
    "import Gavin.utils.make_network as mn\n",
    "# from time import time\n",
    "import pandas as pd\n",
    "# import oatpy as oat\n",
    "# from scipy.optimize import linear_sum_assignment\n",
    "# from sklearn.metrics import jaccard_score\n",
    "# import csv\n",
    "# from sklearn.cluster import SpectralClustering\n",
    "# from mpl_toolkits.mplot3d import Axes3D\n",
    "# import plotly.express as px\n",
    "# import pebble\n",
    "import plotly.graph_objects as go\n",
    "import networkx as nx\n",
    "import numpy as np\n",
    "from collections import defaultdict\n",
    "import matplotlib.pyplot as plt\n",
    "from sklearn.metrics import adjusted_rand_score, normalized_mutual_info_score\n",
    "import pprint\n",
    "from collections import Counter\n",
    "import seaborn as sns\n",
    "import plotly.graph_objs as go\n",
    "import pickle\n",
    "from networkx.algorithms.community.quality import modularity"
   ]
  },
  {
   "cell_type": "markdown",
   "metadata": {},
   "source": [
    "# Load network and rep cycle list\n",
    "This process takes about 5 minutes on my computer"
   ]
  },
  {
   "cell_type": "code",
   "execution_count": 3,
   "metadata": {},
   "outputs": [],
   "source": [
    "fp = \"INSERT FILE PATH HERE\"  # this should go to the applied_math_grb_64hr_12pr.pickle in the shared google drive\n",
    "with open(fp, \"rb\") as file:\n",
    "    res = pickle.load(file)\n",
    "pickle_res1 = res\n",
    "G = pickle_res1[\"graph\"]\n",
    "big_rep_cycle_list1 = []\n",
    "for thing in (pickle_res1['optimized'][\"optimal cycle nodes\"].dropna()):\n",
    "    big_rep_cycle_list1.append(list(thing))"
   ]
  },
  {
   "cell_type": "markdown",
   "metadata": {},
   "source": [
    "# Find communities"
   ]
  },
  {
   "cell_type": "code",
   "execution_count": 4,
   "metadata": {},
   "outputs": [],
   "source": [
    "coms = nx.community.louvain_communities(G, seed=12, resolution=2.2)  ## tune these parameters\n",
    "node_to_com_dict = {}\n",
    "for i, community in enumerate(coms):  # create a dictionary of {node : community the node is in}\n",
    "    for node in community:\n",
    "        node_to_com_dict[node] = i"
   ]
  },
  {
   "cell_type": "markdown",
   "metadata": {},
   "source": [
    "# Visualizations\n",
    "### No gradient, unweighted"
   ]
  },
  {
   "cell_type": "code",
   "execution_count": 8,
   "metadata": {},
   "outputs": [
    {
     "name": "stdout",
     "output_type": "stream",
     "text": [
      "Number of edges not part of any cycle: 5\n"
     ]
    },
    {
     "data": {
      "application/vnd.plotly.v1+json": {
       "config": {
        "plotlyServerURL": "https://plot.ly"
       },
       "data": [
        {
         "hoverinfo": "none",
         "line": {
          "color": "rgb(0, 0, 255)",
          "width": 5
         },
         "mode": "lines",
         "type": "scatter3d",
         "x": [
          0.823062424901523,
          0.32005425246101116,
          null
         ],
         "y": [
          0.2006354537532088,
          0.03450558336418574,
          null
         ],
         "z": [
          0.25214712653478344,
          0.6893756441307711,
          null
         ]
        },
        {
         "hoverinfo": "none",
         "line": {
          "color": "rgb(0, 0, 255)",
          "width": 5
         },
         "mode": "lines",
         "type": "scatter3d",
         "x": [
          0.823062424901523,
          0.5339811662677469,
          null
         ],
         "y": [
          0.2006354537532088,
          0.5163235642424151,
          null
         ],
         "z": [
          0.25214712653478344,
          0.38702711519406796,
          null
         ]
        },
        {
         "hoverinfo": "none",
         "line": {
          "color": "rgb(0, 0, 255)",
          "width": 5
         },
         "mode": "lines",
         "type": "scatter3d",
         "x": [
          0.823062424901523,
          0.2958201448516298,
          null
         ],
         "y": [
          0.2006354537532088,
          0.013173688918843518,
          null
         ],
         "z": [
          0.25214712653478344,
          0.200085060712772,
          null
         ]
        },
        {
         "hoverinfo": "none",
         "line": {
          "color": "rgb(0, 0, 255)",
          "width": 5
         },
         "mode": "lines",
         "type": "scatter3d",
         "x": [
          0.823062424901523,
          0.986656523930182,
          null
         ],
         "y": [
          0.2006354537532088,
          0.2711141806404923,
          null
         ],
         "z": [
          0.25214712653478344,
          0.0034550838898251834,
          null
         ]
        },
        {
         "hoverinfo": "none",
         "line": {
          "color": "rgb(0, 0, 255)",
          "width": 5
         },
         "mode": "lines",
         "type": "scatter3d",
         "x": [
          0.823062424901523,
          0.2687972905566801,
          null
         ],
         "y": [
          0.2006354537532088,
          0.03299896755222731,
          null
         ],
         "z": [
          0.25214712653478344,
          0.9246377222165544,
          null
         ]
        },
        {
         "hoverinfo": "none",
         "line": {
          "color": "rgb(0, 0, 255)",
          "width": 5
         },
         "mode": "lines",
         "type": "scatter3d",
         "x": [
          0.823062424901523,
          0.4286642215135146,
          null
         ],
         "y": [
          0.2006354537532088,
          0.6375283551472624,
          null
         ],
         "z": [
          0.25214712653478344,
          0.9156721120709427,
          null
         ]
        },
        {
         "hoverinfo": "none",
         "line": {
          "color": "rgb(0, 0, 255)",
          "width": 5
         },
         "mode": "lines",
         "type": "scatter3d",
         "x": [
          0.823062424901523,
          0.4278899162663261,
          null
         ],
         "y": [
          0.2006354537532088,
          0.7920272389658854,
          null
         ],
         "z": [
          0.25214712653478344,
          0.6618359061751158,
          null
         ]
        },
        {
         "hoverinfo": "none",
         "line": {
          "color": "rgb(0, 0, 255)",
          "width": 5
         },
         "mode": "lines",
         "type": "scatter3d",
         "x": [
          0.823062424901523,
          0.24596382645682746,
          null
         ],
         "y": [
          0.2006354537532088,
          0.10088318695534837,
          null
         ],
         "z": [
          0.25214712653478344,
          0.781460100398329,
          null
         ]
        },
        {
         "hoverinfo": "none",
         "line": {
          "color": "rgb(0, 0, 255)",
          "width": 5
         },
         "mode": "lines",
         "type": "scatter3d",
         "x": [
          0.823062424901523,
          0.12987235809484854,
          null
         ],
         "y": [
          0.2006354537532088,
          0.025017880442982032,
          null
         ],
         "z": [
          0.25214712653478344,
          0.957488989248836,
          null
         ]
        },
        {
         "hoverinfo": "none",
         "line": {
          "color": "rgb(0, 0, 255)",
          "width": 5
         },
         "mode": "lines",
         "type": "scatter3d",
         "x": [
          0.823062424901523,
          0.30852336913113665,
          null
         ],
         "y": [
          0.2006354537532088,
          0.1721858788873435,
          null
         ],
         "z": [
          0.25214712653478344,
          0.19471276785519342,
          null
         ]
        },
        {
         "hoverinfo": "none",
         "line": {
          "color": "rgb(0, 0, 255)",
          "width": 5
         },
         "mode": "lines",
         "type": "scatter3d",
         "x": [
          0.823062424901523,
          0.5744316482697385,
          null
         ],
         "y": [
          0.2006354537532088,
          0.9593998511620605,
          null
         ],
         "z": [
          0.25214712653478344,
          0.23606939897821033,
          null
         ]
        },
        {
         "hoverinfo": "none",
         "line": {
          "color": "rgb(0, 0, 255)",
          "width": 5
         },
         "mode": "lines",
         "type": "scatter3d",
         "x": [
          0.823062424901523,
          0.13924839956477575,
          null
         ],
         "y": [
          0.2006354537532088,
          0.28690521082100806,
          null
         ],
         "z": [
          0.25214712653478344,
          0.3225499953284868,
          null
         ]
        },
        {
         "hoverinfo": "none",
         "line": {
          "color": "rgb(0, 0, 255)",
          "width": 5
         },
         "mode": "lines",
         "type": "scatter3d",
         "x": [
          0.823062424901523,
          0.9765141019989361,
          null
         ],
         "y": [
          0.2006354537532088,
          0.9017345480196465,
          null
         ],
         "z": [
          0.25214712653478344,
          0.18441484951097487,
          null
         ]
        },
        {
         "hoverinfo": "none",
         "line": {
          "color": "rgb(0, 0, 255)",
          "width": 5
         },
         "mode": "lines",
         "type": "scatter3d",
         "x": [
          0.823062424901523,
          0.28226235945396116,
          null
         ],
         "y": [
          0.2006354537532088,
          0.29095599534220085,
          null
         ],
         "z": [
          0.25214712653478344,
          0.5000662106446538,
          null
         ]
        },
        {
         "hoverinfo": "none",
         "line": {
          "color": "rgb(0, 0, 255)",
          "width": 5
         },
         "mode": "lines",
         "type": "scatter3d",
         "x": [
          0.823062424901523,
          0.530191583783487,
          null
         ],
         "y": [
          0.2006354537532088,
          0.21457713756237462,
          null
         ],
         "z": [
          0.25214712653478344,
          0.09575389961162717,
          null
         ]
        },
        {
         "hoverinfo": "none",
         "line": {
          "color": "rgb(0, 0, 255)",
          "width": 5
         },
         "mode": "lines",
         "type": "scatter3d",
         "x": [
          0.823062424901523,
          0.2715696464940396,
          null
         ],
         "y": [
          0.2006354537532088,
          0.4622192227958194,
          null
         ],
         "z": [
          0.25214712653478344,
          0.5705434947623257,
          null
         ]
        },
        {
         "hoverinfo": "none",
         "line": {
          "color": "rgb(0, 0, 255)",
          "width": 5
         },
         "mode": "lines",
         "type": "scatter3d",
         "x": [
          0.823062424901523,
          0.24253379349177828,
          null
         ],
         "y": [
          0.2006354537532088,
          0.27528152408551954,
          null
         ],
         "z": [
          0.25214712653478344,
          0.04892505625527521,
          null
         ]
        },
        {
         "hoverinfo": "none",
         "line": {
          "color": "rgb(0, 0, 255)",
          "width": 5
         },
         "mode": "lines",
         "type": "scatter3d",
         "x": [
          0.823062424901523,
          0.7556724702769243,
          null
         ],
         "y": [
          0.2006354537532088,
          0.26472332125467735,
          null
         ],
         "z": [
          0.25214712653478344,
          0.963384481435561,
          null
         ]
        },
        {
         "hoverinfo": "none",
         "line": {
          "color": "rgb(0, 0, 255)",
          "width": 5
         },
         "mode": "lines",
         "type": "scatter3d",
         "x": [
          0.823062424901523,
          0.49614841162351897,
          null
         ],
         "y": [
          0.2006354537532088,
          0.7192325138782043,
          null
         ],
         "z": [
          0.25214712653478344,
          0.7683307559023863,
          null
         ]
        },
        {
         "hoverinfo": "none",
         "line": {
          "color": "rgb(0, 0, 255)",
          "width": 5
         },
         "mode": "lines",
         "type": "scatter3d",
         "x": [
          0.823062424901523,
          0.45611030955671716,
          null
         ],
         "y": [
          0.2006354537532088,
          0.9212564819762676,
          null
         ],
         "z": [
          0.25214712653478344,
          0.6614662288357454,
          null
         ]
        },
        {
         "hoverinfo": "none",
         "line": {
          "color": "rgb(0, 0, 255)",
          "width": 5
         },
         "mode": "lines",
         "type": "scatter3d",
         "x": [
          0.823062424901523,
          0.7787800517923511,
          null
         ],
         "y": [
          0.2006354537532088,
          0.9103689389278221,
          null
         ],
         "z": [
          0.25214712653478344,
          0.44800239071696335,
          null
         ]
        },
        {
         "hoverinfo": "none",
         "line": {
          "color": "rgb(0, 0, 255)",
          "width": 5
         },
         "mode": "lines",
         "type": "scatter3d",
         "x": [
          0.823062424901523,
          0.15650416795448607,
          null
         ],
         "y": [
          0.2006354537532088,
          0.8381781392690933,
          null
         ],
         "z": [
          0.25214712653478344,
          0.20507727038205403,
          null
         ]
        },
        {
         "hoverinfo": "none",
         "line": {
          "color": "rgb(0, 0, 255)",
          "width": 5
         },
         "mode": "lines",
         "type": "scatter3d",
         "x": [
          0.823062424901523,
          0.8608432460452482,
          null
         ],
         "y": [
          0.2006354537532088,
          0.4015199689605583,
          null
         ],
         "z": [
          0.25214712653478344,
          0.3223120849374399,
          null
         ]
        },
        {
         "hoverinfo": "none",
         "line": {
          "color": "rgb(0, 0, 255)",
          "width": 5
         },
         "mode": "lines",
         "type": "scatter3d",
         "x": [
          0.823062424901523,
          0.049950158203455164,
          null
         ],
         "y": [
          0.2006354537532088,
          0.8922344668741525,
          null
         ],
         "z": [
          0.25214712653478344,
          0.05878148158995988,
          null
         ]
        },
        {
         "hoverinfo": "none",
         "line": {
          "color": "rgb(0, 0, 255)",
          "width": 5
         },
         "mode": "lines",
         "type": "scatter3d",
         "x": [
          0.823062424901523,
          0.6478604245362285,
          null
         ],
         "y": [
          0.2006354537532088,
          0.09960668062320233,
          null
         ],
         "z": [
          0.25214712653478344,
          0.1472693778821751,
          null
         ]
        },
        {
         "hoverinfo": "none",
         "line": {
          "color": "rgb(0, 0, 255)",
          "width": 5
         },
         "mode": "lines",
         "type": "scatter3d",
         "x": [
          0.823062424901523,
          0.2709652679020753,
          null
         ],
         "y": [
          0.2006354537532088,
          0.15346876417346433,
          null
         ],
         "z": [
          0.25214712653478344,
          0.09516601529415791,
          null
         ]
        },
        {
         "hoverinfo": "none",
         "line": {
          "color": "rgb(0, 0, 255)",
          "width": 5
         },
         "mode": "lines",
         "type": "scatter3d",
         "x": [
          0.823062424901523,
          0.2726374145505729,
          null
         ],
         "y": [
          0.2006354537532088,
          0.062089628627965965,
          null
         ],
         "z": [
          0.25214712653478344,
          0.7795069245481151,
          null
         ]
        },
        {
         "hoverinfo": "none",
         "line": {
          "color": "rgb(0, 0, 255)",
          "width": 5
         },
         "mode": "lines",
         "type": "scatter3d",
         "x": [
          0.823062424901523,
          0.20725727682780792,
          null
         ],
         "y": [
          0.2006354537532088,
          0.1531066331167853,
          null
         ],
         "z": [
          0.25214712653478344,
          0.33764795880275844,
          null
         ]
        },
        {
         "hoverinfo": "none",
         "line": {
          "color": "rgb(0, 0, 255)",
          "width": 5
         },
         "mode": "lines",
         "type": "scatter3d",
         "x": [
          0.823062424901523,
          0.9438296094770525,
          null
         ],
         "y": [
          0.2006354537532088,
          0.29583741935851104,
          null
         ],
         "z": [
          0.25214712653478344,
          0.8433771952353035,
          null
         ]
        },
        {
         "hoverinfo": "none",
         "line": {
          "color": "rgb(0, 0, 255)",
          "width": 5
         },
         "mode": "lines",
         "type": "scatter3d",
         "x": [
          0.823062424901523,
          0.9817016754076012,
          null
         ],
         "y": [
          0.2006354537532088,
          0.4768574187072774,
          null
         ],
         "z": [
          0.25214712653478344,
          0.8992734892394011,
          null
         ]
        },
        {
         "hoverinfo": "none",
         "line": {
          "color": "rgb(0, 0, 255)",
          "width": 5
         },
         "mode": "lines",
         "type": "scatter3d",
         "x": [
          0.45611030955671716,
          0.32005425246101116,
          null
         ],
         "y": [
          0.9212564819762676,
          0.03450558336418574,
          null
         ],
         "z": [
          0.6614662288357454,
          0.6893756441307711,
          null
         ]
        },
        {
         "hoverinfo": "none",
         "line": {
          "color": "rgb(0, 0, 255)",
          "width": 5
         },
         "mode": "lines",
         "type": "scatter3d",
         "x": [
          0.45611030955671716,
          0.049950158203455164,
          null
         ],
         "y": [
          0.9212564819762676,
          0.8922344668741525,
          null
         ],
         "z": [
          0.6614662288357454,
          0.05878148158995988,
          null
         ]
        },
        {
         "hoverinfo": "none",
         "line": {
          "color": "rgb(0, 0, 255)",
          "width": 5
         },
         "mode": "lines",
         "type": "scatter3d",
         "x": [
          0.45611030955671716,
          0.4278899162663261,
          null
         ],
         "y": [
          0.9212564819762676,
          0.7920272389658854,
          null
         ],
         "z": [
          0.6614662288357454,
          0.6618359061751158,
          null
         ]
        },
        {
         "hoverinfo": "none",
         "line": {
          "color": "rgb(0, 0, 255)",
          "width": 5
         },
         "mode": "lines",
         "type": "scatter3d",
         "x": [
          0.45611030955671716,
          0.530191583783487,
          null
         ],
         "y": [
          0.9212564819762676,
          0.21457713756237462,
          null
         ],
         "z": [
          0.6614662288357454,
          0.09575389961162717,
          null
         ]
        },
        {
         "hoverinfo": "none",
         "line": {
          "color": "rgb(0, 0, 255)",
          "width": 5
         },
         "mode": "lines",
         "type": "scatter3d",
         "x": [
          0.45611030955671716,
          0.28226235945396116,
          null
         ],
         "y": [
          0.9212564819762676,
          0.29095599534220085,
          null
         ],
         "z": [
          0.6614662288357454,
          0.5000662106446538,
          null
         ]
        },
        {
         "hoverinfo": "none",
         "line": {
          "color": "rgb(0, 0, 255)",
          "width": 5
         },
         "mode": "lines",
         "type": "scatter3d",
         "x": [
          0.45611030955671716,
          0.30852336913113665,
          null
         ],
         "y": [
          0.9212564819762676,
          0.1721858788873435,
          null
         ],
         "z": [
          0.6614662288357454,
          0.19471276785519342,
          null
         ]
        },
        {
         "hoverinfo": "none",
         "line": {
          "color": "rgb(0, 0, 255)",
          "width": 5
         },
         "mode": "lines",
         "type": "scatter3d",
         "x": [
          0.45611030955671716,
          0.12987235809484854,
          null
         ],
         "y": [
          0.9212564819762676,
          0.025017880442982032,
          null
         ],
         "z": [
          0.6614662288357454,
          0.957488989248836,
          null
         ]
        },
        {
         "hoverinfo": "none",
         "line": {
          "color": "rgb(0, 0, 255)",
          "width": 5
         },
         "mode": "lines",
         "type": "scatter3d",
         "x": [
          0.45611030955671716,
          0.2715696464940396,
          null
         ],
         "y": [
          0.9212564819762676,
          0.4622192227958194,
          null
         ],
         "z": [
          0.6614662288357454,
          0.5705434947623257,
          null
         ]
        },
        {
         "hoverinfo": "none",
         "line": {
          "color": "rgb(0, 0, 255)",
          "width": 5
         },
         "mode": "lines",
         "type": "scatter3d",
         "x": [
          0.45611030955671716,
          0.8608432460452482,
          null
         ],
         "y": [
          0.9212564819762676,
          0.4015199689605583,
          null
         ],
         "z": [
          0.6614662288357454,
          0.3223120849374399,
          null
         ]
        },
        {
         "hoverinfo": "none",
         "line": {
          "color": "rgb(0, 0, 255)",
          "width": 5
         },
         "mode": "lines",
         "type": "scatter3d",
         "x": [
          0.45611030955671716,
          0.7787800517923511,
          null
         ],
         "y": [
          0.9212564819762676,
          0.9103689389278221,
          null
         ],
         "z": [
          0.6614662288357454,
          0.44800239071696335,
          null
         ]
        },
        {
         "hoverinfo": "none",
         "line": {
          "color": "rgb(0, 0, 255)",
          "width": 5
         },
         "mode": "lines",
         "type": "scatter3d",
         "x": [
          0.45611030955671716,
          0.24596382645682746,
          null
         ],
         "y": [
          0.9212564819762676,
          0.10088318695534837,
          null
         ],
         "z": [
          0.6614662288357454,
          0.781460100398329,
          null
         ]
        },
        {
         "hoverinfo": "none",
         "line": {
          "color": "rgb(0, 0, 255)",
          "width": 5
         },
         "mode": "lines",
         "type": "scatter3d",
         "x": [
          0.45611030955671716,
          0.9765141019989361,
          null
         ],
         "y": [
          0.9212564819762676,
          0.9017345480196465,
          null
         ],
         "z": [
          0.6614662288357454,
          0.18441484951097487,
          null
         ]
        },
        {
         "hoverinfo": "none",
         "line": {
          "color": "rgb(0, 0, 255)",
          "width": 5
         },
         "mode": "lines",
         "type": "scatter3d",
         "x": [
          0.45611030955671716,
          0.24253379349177828,
          null
         ],
         "y": [
          0.9212564819762676,
          0.27528152408551954,
          null
         ],
         "z": [
          0.6614662288357454,
          0.04892505625527521,
          null
         ]
        },
        {
         "hoverinfo": "none",
         "line": {
          "color": "rgb(0, 0, 255)",
          "width": 5
         },
         "mode": "lines",
         "type": "scatter3d",
         "x": [
          0.45611030955671716,
          0.5744316482697385,
          null
         ],
         "y": [
          0.9212564819762676,
          0.9593998511620605,
          null
         ],
         "z": [
          0.6614662288357454,
          0.23606939897821033,
          null
         ]
        },
        {
         "hoverinfo": "none",
         "line": {
          "color": "rgb(0, 0, 255)",
          "width": 5
         },
         "mode": "lines",
         "type": "scatter3d",
         "x": [
          0.45611030955671716,
          0.9817016754076012,
          null
         ],
         "y": [
          0.9212564819762676,
          0.4768574187072774,
          null
         ],
         "z": [
          0.6614662288357454,
          0.8992734892394011,
          null
         ]
        },
        {
         "hoverinfo": "none",
         "line": {
          "color": "rgb(0, 0, 255)",
          "width": 5
         },
         "mode": "lines",
         "type": "scatter3d",
         "x": [
          0.45611030955671716,
          0.5339811662677469,
          null
         ],
         "y": [
          0.9212564819762676,
          0.5163235642424151,
          null
         ],
         "z": [
          0.6614662288357454,
          0.38702711519406796,
          null
         ]
        },
        {
         "hoverinfo": "none",
         "line": {
          "color": "rgb(0, 0, 255)",
          "width": 5
         },
         "mode": "lines",
         "type": "scatter3d",
         "x": [
          0.45611030955671716,
          0.20725727682780792,
          null
         ],
         "y": [
          0.9212564819762676,
          0.1531066331167853,
          null
         ],
         "z": [
          0.6614662288357454,
          0.33764795880275844,
          null
         ]
        },
        {
         "hoverinfo": "none",
         "line": {
          "color": "rgb(0, 0, 255)",
          "width": 5
         },
         "mode": "lines",
         "type": "scatter3d",
         "x": [
          0.45611030955671716,
          0.2687972905566801,
          null
         ],
         "y": [
          0.9212564819762676,
          0.03299896755222731,
          null
         ],
         "z": [
          0.6614662288357454,
          0.9246377222165544,
          null
         ]
        },
        {
         "hoverinfo": "none",
         "line": {
          "color": "rgb(0, 0, 255)",
          "width": 5
         },
         "mode": "lines",
         "type": "scatter3d",
         "x": [
          0.45611030955671716,
          0.4286642215135146,
          null
         ],
         "y": [
          0.9212564819762676,
          0.6375283551472624,
          null
         ],
         "z": [
          0.6614662288357454,
          0.9156721120709427,
          null
         ]
        },
        {
         "hoverinfo": "none",
         "line": {
          "color": "rgb(0, 0, 255)",
          "width": 5
         },
         "mode": "lines",
         "type": "scatter3d",
         "x": [
          0.45611030955671716,
          0.6478604245362285,
          null
         ],
         "y": [
          0.9212564819762676,
          0.09960668062320233,
          null
         ],
         "z": [
          0.6614662288357454,
          0.1472693778821751,
          null
         ]
        },
        {
         "hoverinfo": "none",
         "line": {
          "color": "rgb(0, 0, 255)",
          "width": 5
         },
         "mode": "lines",
         "type": "scatter3d",
         "x": [
          0.45611030955671716,
          0.9438296094770525,
          null
         ],
         "y": [
          0.9212564819762676,
          0.29583741935851104,
          null
         ],
         "z": [
          0.6614662288357454,
          0.8433771952353035,
          null
         ]
        },
        {
         "hoverinfo": "none",
         "line": {
          "color": "rgb(0, 0, 255)",
          "width": 5
         },
         "mode": "lines",
         "type": "scatter3d",
         "x": [
          0.45611030955671716,
          0.18104565447209664,
          null
         ],
         "y": [
          0.9212564819762676,
          0.07109565505758442,
          null
         ],
         "z": [
          0.6614662288357454,
          0.902824859041693,
          null
         ]
        },
        {
         "hoverinfo": "none",
         "line": {
          "color": "rgb(0, 0, 255)",
          "width": 5
         },
         "mode": "lines",
         "type": "scatter3d",
         "x": [
          0.45611030955671716,
          0.13924839956477575,
          null
         ],
         "y": [
          0.9212564819762676,
          0.28690521082100806,
          null
         ],
         "z": [
          0.6614662288357454,
          0.3225499953284868,
          null
         ]
        },
        {
         "hoverinfo": "none",
         "line": {
          "color": "rgb(0, 0, 255)",
          "width": 5
         },
         "mode": "lines",
         "type": "scatter3d",
         "x": [
          0.45611030955671716,
          0.49614841162351897,
          null
         ],
         "y": [
          0.9212564819762676,
          0.7192325138782043,
          null
         ],
         "z": [
          0.6614662288357454,
          0.7683307559023863,
          null
         ]
        },
        {
         "hoverinfo": "none",
         "line": {
          "color": "rgb(0, 0, 255)",
          "width": 5
         },
         "mode": "lines",
         "type": "scatter3d",
         "x": [
          0.45611030955671716,
          0.2958201448516298,
          null
         ],
         "y": [
          0.9212564819762676,
          0.013173688918843518,
          null
         ],
         "z": [
          0.6614662288357454,
          0.200085060712772,
          null
         ]
        },
        {
         "hoverinfo": "none",
         "line": {
          "color": "rgb(0, 0, 255)",
          "width": 5
         },
         "mode": "lines",
         "type": "scatter3d",
         "x": [
          0.45611030955671716,
          0.15650416795448607,
          null
         ],
         "y": [
          0.9212564819762676,
          0.8381781392690933,
          null
         ],
         "z": [
          0.6614662288357454,
          0.20507727038205403,
          null
         ]
        },
        {
         "hoverinfo": "none",
         "line": {
          "color": "rgb(0, 0, 255)",
          "width": 5
         },
         "mode": "lines",
         "type": "scatter3d",
         "x": [
          0.45611030955671716,
          0.986656523930182,
          null
         ],
         "y": [
          0.9212564819762676,
          0.2711141806404923,
          null
         ],
         "z": [
          0.6614662288357454,
          0.0034550838898251834,
          null
         ]
        },
        {
         "hoverinfo": "none",
         "line": {
          "color": "rgb(0, 0, 255)",
          "width": 5
         },
         "mode": "lines",
         "type": "scatter3d",
         "x": [
          0.45611030955671716,
          0.2726374145505729,
          null
         ],
         "y": [
          0.9212564819762676,
          0.062089628627965965,
          null
         ],
         "z": [
          0.6614662288357454,
          0.7795069245481151,
          null
         ]
        },
        {
         "hoverinfo": "none",
         "line": {
          "color": "rgb(0, 0, 255)",
          "width": 5
         },
         "mode": "lines",
         "type": "scatter3d",
         "x": [
          0.45611030955671716,
          0.7556724702769243,
          null
         ],
         "y": [
          0.9212564819762676,
          0.26472332125467735,
          null
         ],
         "z": [
          0.6614662288357454,
          0.963384481435561,
          null
         ]
        },
        {
         "hoverinfo": "none",
         "line": {
          "color": "rgb(0, 0, 255)",
          "width": 5
         },
         "mode": "lines",
         "type": "scatter3d",
         "x": [
          0.45611030955671716,
          0.2709652679020753,
          null
         ],
         "y": [
          0.9212564819762676,
          0.15346876417346433,
          null
         ],
         "z": [
          0.6614662288357454,
          0.09516601529415791,
          null
         ]
        },
        {
         "hoverinfo": "none",
         "line": {
          "color": "rgb(0, 0, 255)",
          "width": 5
         },
         "mode": "lines",
         "type": "scatter3d",
         "x": [
          0.5339811662677469,
          0.12987235809484854,
          null
         ],
         "y": [
          0.5163235642424151,
          0.025017880442982032,
          null
         ],
         "z": [
          0.38702711519406796,
          0.957488989248836,
          null
         ]
        },
        {
         "hoverinfo": "none",
         "line": {
          "color": "rgb(0, 0, 255)",
          "width": 5
         },
         "mode": "lines",
         "type": "scatter3d",
         "x": [
          0.5339811662677469,
          0.32005425246101116,
          null
         ],
         "y": [
          0.5163235642424151,
          0.03450558336418574,
          null
         ],
         "z": [
          0.38702711519406796,
          0.6893756441307711,
          null
         ]
        },
        {
         "hoverinfo": "none",
         "line": {
          "color": "rgb(0, 0, 255)",
          "width": 5
         },
         "mode": "lines",
         "type": "scatter3d",
         "x": [
          0.5339811662677469,
          0.49614841162351897,
          null
         ],
         "y": [
          0.5163235642424151,
          0.7192325138782043,
          null
         ],
         "z": [
          0.38702711519406796,
          0.7683307559023863,
          null
         ]
        },
        {
         "hoverinfo": "none",
         "line": {
          "color": "rgb(0, 0, 255)",
          "width": 5
         },
         "mode": "lines",
         "type": "scatter3d",
         "x": [
          0.5339811662677469,
          0.28226235945396116,
          null
         ],
         "y": [
          0.5163235642424151,
          0.29095599534220085,
          null
         ],
         "z": [
          0.38702711519406796,
          0.5000662106446538,
          null
         ]
        },
        {
         "hoverinfo": "none",
         "line": {
          "color": "rgb(0, 0, 255)",
          "width": 5
         },
         "mode": "lines",
         "type": "scatter3d",
         "x": [
          0.5339811662677469,
          0.2958201448516298,
          null
         ],
         "y": [
          0.5163235642424151,
          0.013173688918843518,
          null
         ],
         "z": [
          0.38702711519406796,
          0.200085060712772,
          null
         ]
        },
        {
         "hoverinfo": "none",
         "line": {
          "color": "rgb(0, 0, 255)",
          "width": 5
         },
         "mode": "lines",
         "type": "scatter3d",
         "x": [
          0.5339811662677469,
          0.4278899162663261,
          null
         ],
         "y": [
          0.5163235642424151,
          0.7920272389658854,
          null
         ],
         "z": [
          0.38702711519406796,
          0.6618359061751158,
          null
         ]
        },
        {
         "hoverinfo": "none",
         "line": {
          "color": "rgb(0, 0, 255)",
          "width": 5
         },
         "mode": "lines",
         "type": "scatter3d",
         "x": [
          0.5339811662677469,
          0.530191583783487,
          null
         ],
         "y": [
          0.5163235642424151,
          0.21457713756237462,
          null
         ],
         "z": [
          0.38702711519406796,
          0.09575389961162717,
          null
         ]
        },
        {
         "hoverinfo": "none",
         "line": {
          "color": "rgb(0, 0, 255)",
          "width": 5
         },
         "mode": "lines",
         "type": "scatter3d",
         "x": [
          0.5339811662677469,
          0.4286642215135146,
          null
         ],
         "y": [
          0.5163235642424151,
          0.6375283551472624,
          null
         ],
         "z": [
          0.38702711519406796,
          0.9156721120709427,
          null
         ]
        },
        {
         "hoverinfo": "none",
         "line": {
          "color": "rgb(0, 0, 255)",
          "width": 5
         },
         "mode": "lines",
         "type": "scatter3d",
         "x": [
          0.5339811662677469,
          0.049950158203455164,
          null
         ],
         "y": [
          0.5163235642424151,
          0.8922344668741525,
          null
         ],
         "z": [
          0.38702711519406796,
          0.05878148158995988,
          null
         ]
        },
        {
         "hoverinfo": "none",
         "line": {
          "color": "rgb(0, 0, 255)",
          "width": 5
         },
         "mode": "lines",
         "type": "scatter3d",
         "x": [
          0.5339811662677469,
          0.7556724702769243,
          null
         ],
         "y": [
          0.5163235642424151,
          0.26472332125467735,
          null
         ],
         "z": [
          0.38702711519406796,
          0.963384481435561,
          null
         ]
        },
        {
         "hoverinfo": "none",
         "line": {
          "color": "rgb(0, 0, 255)",
          "width": 5
         },
         "mode": "lines",
         "type": "scatter3d",
         "x": [
          0.5339811662677469,
          0.986656523930182,
          null
         ],
         "y": [
          0.5163235642424151,
          0.2711141806404923,
          null
         ],
         "z": [
          0.38702711519406796,
          0.0034550838898251834,
          null
         ]
        },
        {
         "hoverinfo": "none",
         "line": {
          "color": "rgb(0, 0, 255)",
          "width": 5
         },
         "mode": "lines",
         "type": "scatter3d",
         "x": [
          0.5339811662677469,
          0.24596382645682746,
          null
         ],
         "y": [
          0.5163235642424151,
          0.10088318695534837,
          null
         ],
         "z": [
          0.38702711519406796,
          0.781460100398329,
          null
         ]
        },
        {
         "hoverinfo": "none",
         "line": {
          "color": "rgb(0, 0, 255)",
          "width": 5
         },
         "mode": "lines",
         "type": "scatter3d",
         "x": [
          0.5339811662677469,
          0.15650416795448607,
          null
         ],
         "y": [
          0.5163235642424151,
          0.8381781392690933,
          null
         ],
         "z": [
          0.38702711519406796,
          0.20507727038205403,
          null
         ]
        },
        {
         "hoverinfo": "none",
         "line": {
          "color": "rgb(0, 0, 255)",
          "width": 5
         },
         "mode": "lines",
         "type": "scatter3d",
         "x": [
          0.5339811662677469,
          0.5744316482697385,
          null
         ],
         "y": [
          0.5163235642424151,
          0.9593998511620605,
          null
         ],
         "z": [
          0.38702711519406796,
          0.23606939897821033,
          null
         ]
        },
        {
         "hoverinfo": "none",
         "line": {
          "color": "rgb(0, 0, 255)",
          "width": 5
         },
         "mode": "lines",
         "type": "scatter3d",
         "x": [
          0.5339811662677469,
          0.8608432460452482,
          null
         ],
         "y": [
          0.5163235642424151,
          0.4015199689605583,
          null
         ],
         "z": [
          0.38702711519406796,
          0.3223120849374399,
          null
         ]
        },
        {
         "hoverinfo": "none",
         "line": {
          "color": "rgb(0, 0, 255)",
          "width": 5
         },
         "mode": "lines",
         "type": "scatter3d",
         "x": [
          0.5339811662677469,
          0.7787800517923511,
          null
         ],
         "y": [
          0.5163235642424151,
          0.9103689389278221,
          null
         ],
         "z": [
          0.38702711519406796,
          0.44800239071696335,
          null
         ]
        },
        {
         "hoverinfo": "none",
         "line": {
          "color": "rgb(0, 0, 255)",
          "width": 5
         },
         "mode": "lines",
         "type": "scatter3d",
         "x": [
          0.5339811662677469,
          0.2687972905566801,
          null
         ],
         "y": [
          0.5163235642424151,
          0.03299896755222731,
          null
         ],
         "z": [
          0.38702711519406796,
          0.9246377222165544,
          null
         ]
        },
        {
         "hoverinfo": "none",
         "line": {
          "color": "rgb(0, 0, 255)",
          "width": 5
         },
         "mode": "lines",
         "type": "scatter3d",
         "x": [
          0.5339811662677469,
          0.9765141019989361,
          null
         ],
         "y": [
          0.5163235642424151,
          0.9017345480196465,
          null
         ],
         "z": [
          0.38702711519406796,
          0.18441484951097487,
          null
         ]
        },
        {
         "hoverinfo": "none",
         "line": {
          "color": "rgb(0, 0, 255)",
          "width": 5
         },
         "mode": "lines",
         "type": "scatter3d",
         "x": [
          0.5339811662677469,
          0.30852336913113665,
          null
         ],
         "y": [
          0.5163235642424151,
          0.1721858788873435,
          null
         ],
         "z": [
          0.38702711519406796,
          0.19471276785519342,
          null
         ]
        },
        {
         "hoverinfo": "none",
         "line": {
          "color": "rgb(0, 0, 255)",
          "width": 5
         },
         "mode": "lines",
         "type": "scatter3d",
         "x": [
          0.5339811662677469,
          0.24253379349177828,
          null
         ],
         "y": [
          0.5163235642424151,
          0.27528152408551954,
          null
         ],
         "z": [
          0.38702711519406796,
          0.04892505625527521,
          null
         ]
        },
        {
         "hoverinfo": "none",
         "line": {
          "color": "rgb(0, 0, 255)",
          "width": 5
         },
         "mode": "lines",
         "type": "scatter3d",
         "x": [
          0.5339811662677469,
          0.2726374145505729,
          null
         ],
         "y": [
          0.5163235642424151,
          0.062089628627965965,
          null
         ],
         "z": [
          0.38702711519406796,
          0.7795069245481151,
          null
         ]
        },
        {
         "hoverinfo": "none",
         "line": {
          "color": "rgb(0, 0, 255)",
          "width": 5
         },
         "mode": "lines",
         "type": "scatter3d",
         "x": [
          0.5339811662677469,
          0.2715696464940396,
          null
         ],
         "y": [
          0.5163235642424151,
          0.4622192227958194,
          null
         ],
         "z": [
          0.38702711519406796,
          0.5705434947623257,
          null
         ]
        },
        {
         "hoverinfo": "none",
         "line": {
          "color": "rgb(0, 0, 255)",
          "width": 5
         },
         "mode": "lines",
         "type": "scatter3d",
         "x": [
          0.5339811662677469,
          0.13924839956477575,
          null
         ],
         "y": [
          0.5163235642424151,
          0.28690521082100806,
          null
         ],
         "z": [
          0.38702711519406796,
          0.3225499953284868,
          null
         ]
        },
        {
         "hoverinfo": "none",
         "line": {
          "color": "rgb(0, 0, 255)",
          "width": 5
         },
         "mode": "lines",
         "type": "scatter3d",
         "x": [
          0.5339811662677469,
          0.9817016754076012,
          null
         ],
         "y": [
          0.5163235642424151,
          0.4768574187072774,
          null
         ],
         "z": [
          0.38702711519406796,
          0.8992734892394011,
          null
         ]
        },
        {
         "hoverinfo": "none",
         "line": {
          "color": "rgb(0, 0, 255)",
          "width": 5
         },
         "mode": "lines",
         "type": "scatter3d",
         "x": [
          0.5339811662677469,
          0.6478604245362285,
          null
         ],
         "y": [
          0.5163235642424151,
          0.09960668062320233,
          null
         ],
         "z": [
          0.38702711519406796,
          0.1472693778821751,
          null
         ]
        },
        {
         "hoverinfo": "none",
         "line": {
          "color": "rgb(0, 0, 255)",
          "width": 5
         },
         "mode": "lines",
         "type": "scatter3d",
         "x": [
          0.5339811662677469,
          0.20725727682780792,
          null
         ],
         "y": [
          0.5163235642424151,
          0.1531066331167853,
          null
         ],
         "z": [
          0.38702711519406796,
          0.33764795880275844,
          null
         ]
        },
        {
         "hoverinfo": "none",
         "line": {
          "color": "rgb(0, 0, 255)",
          "width": 5
         },
         "mode": "lines",
         "type": "scatter3d",
         "x": [
          0.5339811662677469,
          0.18104565447209664,
          null
         ],
         "y": [
          0.5163235642424151,
          0.07109565505758442,
          null
         ],
         "z": [
          0.38702711519406796,
          0.902824859041693,
          null
         ]
        },
        {
         "hoverinfo": "none",
         "line": {
          "color": "rgb(0, 0, 255)",
          "width": 5
         },
         "mode": "lines",
         "type": "scatter3d",
         "x": [
          0.5339811662677469,
          0.9438296094770525,
          null
         ],
         "y": [
          0.5163235642424151,
          0.29583741935851104,
          null
         ],
         "z": [
          0.38702711519406796,
          0.8433771952353035,
          null
         ]
        },
        {
         "hoverinfo": "none",
         "line": {
          "color": "rgb(0, 0, 255)",
          "width": 5
         },
         "mode": "lines",
         "type": "scatter3d",
         "x": [
          0.5339811662677469,
          0.2709652679020753,
          null
         ],
         "y": [
          0.5163235642424151,
          0.15346876417346433,
          null
         ],
         "z": [
          0.38702711519406796,
          0.09516601529415791,
          null
         ]
        },
        {
         "hoverinfo": "none",
         "line": {
          "color": "rgb(0, 0, 255)",
          "width": 5
         },
         "mode": "lines",
         "type": "scatter3d",
         "x": [
          0.2958201448516298,
          0.12987235809484854,
          null
         ],
         "y": [
          0.013173688918843518,
          0.025017880442982032,
          null
         ],
         "z": [
          0.200085060712772,
          0.957488989248836,
          null
         ]
        },
        {
         "hoverinfo": "none",
         "line": {
          "color": "rgb(0, 0, 255)",
          "width": 5
         },
         "mode": "lines",
         "type": "scatter3d",
         "x": [
          0.2958201448516298,
          0.49614841162351897,
          null
         ],
         "y": [
          0.013173688918843518,
          0.7192325138782043,
          null
         ],
         "z": [
          0.200085060712772,
          0.7683307559023863,
          null
         ]
        },
        {
         "hoverinfo": "none",
         "line": {
          "color": "rgb(0, 0, 255)",
          "width": 5
         },
         "mode": "lines",
         "type": "scatter3d",
         "x": [
          0.2958201448516298,
          0.28226235945396116,
          null
         ],
         "y": [
          0.013173688918843518,
          0.29095599534220085,
          null
         ],
         "z": [
          0.200085060712772,
          0.5000662106446538,
          null
         ]
        },
        {
         "hoverinfo": "none",
         "line": {
          "color": "rgb(0, 0, 255)",
          "width": 5
         },
         "mode": "lines",
         "type": "scatter3d",
         "x": [
          0.2958201448516298,
          0.986656523930182,
          null
         ],
         "y": [
          0.013173688918843518,
          0.2711141806404923,
          null
         ],
         "z": [
          0.200085060712772,
          0.0034550838898251834,
          null
         ]
        },
        {
         "hoverinfo": "none",
         "line": {
          "color": "rgb(0, 0, 255)",
          "width": 5
         },
         "mode": "lines",
         "type": "scatter3d",
         "x": [
          0.2958201448516298,
          0.24596382645682746,
          null
         ],
         "y": [
          0.013173688918843518,
          0.10088318695534837,
          null
         ],
         "z": [
          0.200085060712772,
          0.781460100398329,
          null
         ]
        },
        {
         "hoverinfo": "none",
         "line": {
          "color": "rgb(0, 0, 255)",
          "width": 5
         },
         "mode": "lines",
         "type": "scatter3d",
         "x": [
          0.2958201448516298,
          0.4286642215135146,
          null
         ],
         "y": [
          0.013173688918843518,
          0.6375283551472624,
          null
         ],
         "z": [
          0.200085060712772,
          0.9156721120709427,
          null
         ]
        },
        {
         "hoverinfo": "none",
         "line": {
          "color": "rgb(0, 0, 255)",
          "width": 5
         },
         "mode": "lines",
         "type": "scatter3d",
         "x": [
          0.2958201448516298,
          0.2687972905566801,
          null
         ],
         "y": [
          0.013173688918843518,
          0.03299896755222731,
          null
         ],
         "z": [
          0.200085060712772,
          0.9246377222165544,
          null
         ]
        },
        {
         "hoverinfo": "none",
         "line": {
          "color": "rgb(0, 0, 255)",
          "width": 5
         },
         "mode": "lines",
         "type": "scatter3d",
         "x": [
          0.2958201448516298,
          0.5744316482697385,
          null
         ],
         "y": [
          0.013173688918843518,
          0.9593998511620605,
          null
         ],
         "z": [
          0.200085060712772,
          0.23606939897821033,
          null
         ]
        },
        {
         "hoverinfo": "none",
         "line": {
          "color": "rgb(0, 0, 255)",
          "width": 5
         },
         "mode": "lines",
         "type": "scatter3d",
         "x": [
          0.2958201448516298,
          0.13924839956477575,
          null
         ],
         "y": [
          0.013173688918843518,
          0.28690521082100806,
          null
         ],
         "z": [
          0.200085060712772,
          0.3225499953284868,
          null
         ]
        },
        {
         "hoverinfo": "none",
         "line": {
          "color": "rgb(0, 0, 255)",
          "width": 5
         },
         "mode": "lines",
         "type": "scatter3d",
         "x": [
          0.2958201448516298,
          0.2715696464940396,
          null
         ],
         "y": [
          0.013173688918843518,
          0.4622192227958194,
          null
         ],
         "z": [
          0.200085060712772,
          0.5705434947623257,
          null
         ]
        },
        {
         "hoverinfo": "none",
         "line": {
          "color": "rgb(0, 0, 255)",
          "width": 5
         },
         "mode": "lines",
         "type": "scatter3d",
         "x": [
          0.2958201448516298,
          0.9817016754076012,
          null
         ],
         "y": [
          0.013173688918843518,
          0.4768574187072774,
          null
         ],
         "z": [
          0.200085060712772,
          0.8992734892394011,
          null
         ]
        },
        {
         "hoverinfo": "none",
         "line": {
          "color": "rgb(0, 0, 255)",
          "width": 5
         },
         "mode": "lines",
         "type": "scatter3d",
         "x": [
          0.2958201448516298,
          0.30852336913113665,
          null
         ],
         "y": [
          0.013173688918843518,
          0.1721858788873435,
          null
         ],
         "z": [
          0.200085060712772,
          0.19471276785519342,
          null
         ]
        },
        {
         "hoverinfo": "none",
         "line": {
          "color": "rgb(0, 0, 255)",
          "width": 5
         },
         "mode": "lines",
         "type": "scatter3d",
         "x": [
          0.2958201448516298,
          0.2726374145505729,
          null
         ],
         "y": [
          0.013173688918843518,
          0.062089628627965965,
          null
         ],
         "z": [
          0.200085060712772,
          0.7795069245481151,
          null
         ]
        },
        {
         "hoverinfo": "none",
         "line": {
          "color": "rgb(0, 0, 255)",
          "width": 5
         },
         "mode": "lines",
         "type": "scatter3d",
         "x": [
          0.2958201448516298,
          0.32005425246101116,
          null
         ],
         "y": [
          0.013173688918843518,
          0.03450558336418574,
          null
         ],
         "z": [
          0.200085060712772,
          0.6893756441307711,
          null
         ]
        },
        {
         "hoverinfo": "none",
         "line": {
          "color": "rgb(0, 0, 255)",
          "width": 5
         },
         "mode": "lines",
         "type": "scatter3d",
         "x": [
          0.2958201448516298,
          0.15650416795448607,
          null
         ],
         "y": [
          0.013173688918843518,
          0.8381781392690933,
          null
         ],
         "z": [
          0.200085060712772,
          0.20507727038205403,
          null
         ]
        },
        {
         "hoverinfo": "none",
         "line": {
          "color": "rgb(0, 0, 255)",
          "width": 5
         },
         "mode": "lines",
         "type": "scatter3d",
         "x": [
          0.2958201448516298,
          0.2709652679020753,
          null
         ],
         "y": [
          0.013173688918843518,
          0.15346876417346433,
          null
         ],
         "z": [
          0.200085060712772,
          0.09516601529415791,
          null
         ]
        },
        {
         "hoverinfo": "none",
         "line": {
          "color": "rgb(0, 0, 255)",
          "width": 5
         },
         "mode": "lines",
         "type": "scatter3d",
         "x": [
          0.2958201448516298,
          0.7787800517923511,
          null
         ],
         "y": [
          0.013173688918843518,
          0.9103689389278221,
          null
         ],
         "z": [
          0.200085060712772,
          0.44800239071696335,
          null
         ]
        },
        {
         "hoverinfo": "none",
         "line": {
          "color": "rgb(0, 0, 255)",
          "width": 5
         },
         "mode": "lines",
         "type": "scatter3d",
         "x": [
          0.2958201448516298,
          0.8608432460452482,
          null
         ],
         "y": [
          0.013173688918843518,
          0.4015199689605583,
          null
         ],
         "z": [
          0.200085060712772,
          0.3223120849374399,
          null
         ]
        },
        {
         "hoverinfo": "none",
         "line": {
          "color": "rgb(0, 0, 255)",
          "width": 5
         },
         "mode": "lines",
         "type": "scatter3d",
         "x": [
          0.2958201448516298,
          0.6478604245362285,
          null
         ],
         "y": [
          0.013173688918843518,
          0.09960668062320233,
          null
         ],
         "z": [
          0.200085060712772,
          0.1472693778821751,
          null
         ]
        },
        {
         "hoverinfo": "none",
         "line": {
          "color": "rgb(0, 0, 255)",
          "width": 5
         },
         "mode": "lines",
         "type": "scatter3d",
         "x": [
          0.2958201448516298,
          0.9438296094770525,
          null
         ],
         "y": [
          0.013173688918843518,
          0.29583741935851104,
          null
         ],
         "z": [
          0.200085060712772,
          0.8433771952353035,
          null
         ]
        },
        {
         "hoverinfo": "none",
         "line": {
          "color": "rgb(0, 0, 255)",
          "width": 5
         },
         "mode": "lines",
         "type": "scatter3d",
         "x": [
          0.2958201448516298,
          0.24253379349177828,
          null
         ],
         "y": [
          0.013173688918843518,
          0.27528152408551954,
          null
         ],
         "z": [
          0.200085060712772,
          0.04892505625527521,
          null
         ]
        },
        {
         "hoverinfo": "none",
         "line": {
          "color": "rgb(0, 0, 255)",
          "width": 5
         },
         "mode": "lines",
         "type": "scatter3d",
         "x": [
          0.2958201448516298,
          0.4278899162663261,
          null
         ],
         "y": [
          0.013173688918843518,
          0.7920272389658854,
          null
         ],
         "z": [
          0.200085060712772,
          0.6618359061751158,
          null
         ]
        },
        {
         "hoverinfo": "none",
         "line": {
          "color": "rgb(0, 0, 255)",
          "width": 5
         },
         "mode": "lines",
         "type": "scatter3d",
         "x": [
          0.2958201448516298,
          0.9765141019989361,
          null
         ],
         "y": [
          0.013173688918843518,
          0.9017345480196465,
          null
         ],
         "z": [
          0.200085060712772,
          0.18441484951097487,
          null
         ]
        },
        {
         "hoverinfo": "none",
         "line": {
          "color": "rgb(0, 0, 255)",
          "width": 5
         },
         "mode": "lines",
         "type": "scatter3d",
         "x": [
          0.2958201448516298,
          0.20725727682780792,
          null
         ],
         "y": [
          0.013173688918843518,
          0.1531066331167853,
          null
         ],
         "z": [
          0.200085060712772,
          0.33764795880275844,
          null
         ]
        },
        {
         "hoverinfo": "none",
         "line": {
          "color": "rgb(0, 0, 255)",
          "width": 5
         },
         "mode": "lines",
         "type": "scatter3d",
         "x": [
          0.2958201448516298,
          0.049950158203455164,
          null
         ],
         "y": [
          0.013173688918843518,
          0.8922344668741525,
          null
         ],
         "z": [
          0.200085060712772,
          0.05878148158995988,
          null
         ]
        },
        {
         "hoverinfo": "none",
         "line": {
          "color": "rgb(0, 0, 255)",
          "width": 5
         },
         "mode": "lines",
         "type": "scatter3d",
         "x": [
          0.2958201448516298,
          0.7556724702769243,
          null
         ],
         "y": [
          0.013173688918843518,
          0.26472332125467735,
          null
         ],
         "z": [
          0.200085060712772,
          0.963384481435561,
          null
         ]
        },
        {
         "hoverinfo": "none",
         "line": {
          "color": "rgb(0, 0, 255)",
          "width": 5
         },
         "mode": "lines",
         "type": "scatter3d",
         "x": [
          0.2958201448516298,
          0.530191583783487,
          null
         ],
         "y": [
          0.013173688918843518,
          0.21457713756237462,
          null
         ],
         "z": [
          0.200085060712772,
          0.09575389961162717,
          null
         ]
        },
        {
         "hoverinfo": "none",
         "line": {
          "color": "rgb(0, 0, 255)",
          "width": 5
         },
         "mode": "lines",
         "type": "scatter3d",
         "x": [
          0.2958201448516298,
          0.18104565447209664,
          null
         ],
         "y": [
          0.013173688918843518,
          0.07109565505758442,
          null
         ],
         "z": [
          0.200085060712772,
          0.902824859041693,
          null
         ]
        },
        {
         "hoverinfo": "none",
         "line": {
          "color": "rgb(0, 0, 255)",
          "width": 5
         },
         "mode": "lines",
         "type": "scatter3d",
         "x": [
          0.6478604245362285,
          0.12987235809484854,
          null
         ],
         "y": [
          0.09960668062320233,
          0.025017880442982032,
          null
         ],
         "z": [
          0.1472693778821751,
          0.957488989248836,
          null
         ]
        },
        {
         "hoverinfo": "none",
         "line": {
          "color": "rgb(0, 0, 255)",
          "width": 5
         },
         "mode": "lines",
         "type": "scatter3d",
         "x": [
          0.6478604245362285,
          0.30852336913113665,
          null
         ],
         "y": [
          0.09960668062320233,
          0.1721858788873435,
          null
         ],
         "z": [
          0.1472693778821751,
          0.19471276785519342,
          null
         ]
        },
        {
         "hoverinfo": "none",
         "line": {
          "color": "rgb(0, 0, 255)",
          "width": 5
         },
         "mode": "lines",
         "type": "scatter3d",
         "x": [
          0.6478604245362285,
          0.2726374145505729,
          null
         ],
         "y": [
          0.09960668062320233,
          0.062089628627965965,
          null
         ],
         "z": [
          0.1472693778821751,
          0.7795069245481151,
          null
         ]
        },
        {
         "hoverinfo": "none",
         "line": {
          "color": "rgb(0, 0, 255)",
          "width": 5
         },
         "mode": "lines",
         "type": "scatter3d",
         "x": [
          0.6478604245362285,
          0.986656523930182,
          null
         ],
         "y": [
          0.09960668062320233,
          0.2711141806404923,
          null
         ],
         "z": [
          0.1472693778821751,
          0.0034550838898251834,
          null
         ]
        },
        {
         "hoverinfo": "none",
         "line": {
          "color": "rgb(0, 0, 255)",
          "width": 5
         },
         "mode": "lines",
         "type": "scatter3d",
         "x": [
          0.6478604245362285,
          0.9765141019989361,
          null
         ],
         "y": [
          0.09960668062320233,
          0.9017345480196465,
          null
         ],
         "z": [
          0.1472693778821751,
          0.18441484951097487,
          null
         ]
        },
        {
         "hoverinfo": "none",
         "line": {
          "color": "rgb(0, 0, 255)",
          "width": 5
         },
         "mode": "lines",
         "type": "scatter3d",
         "x": [
          0.6478604245362285,
          0.28226235945396116,
          null
         ],
         "y": [
          0.09960668062320233,
          0.29095599534220085,
          null
         ],
         "z": [
          0.1472693778821751,
          0.5000662106446538,
          null
         ]
        },
        {
         "hoverinfo": "none",
         "line": {
          "color": "rgb(0, 0, 255)",
          "width": 5
         },
         "mode": "lines",
         "type": "scatter3d",
         "x": [
          0.6478604245362285,
          0.7787800517923511,
          null
         ],
         "y": [
          0.09960668062320233,
          0.9103689389278221,
          null
         ],
         "z": [
          0.1472693778821751,
          0.44800239071696335,
          null
         ]
        },
        {
         "hoverinfo": "none",
         "line": {
          "color": "rgb(0, 0, 255)",
          "width": 5
         },
         "mode": "lines",
         "type": "scatter3d",
         "x": [
          0.6478604245362285,
          0.7556724702769243,
          null
         ],
         "y": [
          0.09960668062320233,
          0.26472332125467735,
          null
         ],
         "z": [
          0.1472693778821751,
          0.963384481435561,
          null
         ]
        },
        {
         "hoverinfo": "none",
         "line": {
          "color": "rgb(0, 0, 255)",
          "width": 5
         },
         "mode": "lines",
         "type": "scatter3d",
         "x": [
          0.6478604245362285,
          0.2687972905566801,
          null
         ],
         "y": [
          0.09960668062320233,
          0.03299896755222731,
          null
         ],
         "z": [
          0.1472693778821751,
          0.9246377222165544,
          null
         ]
        },
        {
         "hoverinfo": "none",
         "line": {
          "color": "rgb(0, 0, 255)",
          "width": 5
         },
         "mode": "lines",
         "type": "scatter3d",
         "x": [
          0.6478604245362285,
          0.32005425246101116,
          null
         ],
         "y": [
          0.09960668062320233,
          0.03450558336418574,
          null
         ],
         "z": [
          0.1472693778821751,
          0.6893756441307711,
          null
         ]
        },
        {
         "hoverinfo": "none",
         "line": {
          "color": "rgb(0, 0, 255)",
          "width": 5
         },
         "mode": "lines",
         "type": "scatter3d",
         "x": [
          0.6478604245362285,
          0.24253379349177828,
          null
         ],
         "y": [
          0.09960668062320233,
          0.27528152408551954,
          null
         ],
         "z": [
          0.1472693778821751,
          0.04892505625527521,
          null
         ]
        },
        {
         "hoverinfo": "none",
         "line": {
          "color": "rgb(0, 0, 255)",
          "width": 5
         },
         "mode": "lines",
         "type": "scatter3d",
         "x": [
          0.6478604245362285,
          0.4278899162663261,
          null
         ],
         "y": [
          0.09960668062320233,
          0.7920272389658854,
          null
         ],
         "z": [
          0.1472693778821751,
          0.6618359061751158,
          null
         ]
        },
        {
         "hoverinfo": "none",
         "line": {
          "color": "rgb(0, 0, 255)",
          "width": 5
         },
         "mode": "lines",
         "type": "scatter3d",
         "x": [
          0.6478604245362285,
          0.4286642215135146,
          null
         ],
         "y": [
          0.09960668062320233,
          0.6375283551472624,
          null
         ],
         "z": [
          0.1472693778821751,
          0.9156721120709427,
          null
         ]
        },
        {
         "hoverinfo": "none",
         "line": {
          "color": "rgb(0, 0, 255)",
          "width": 5
         },
         "mode": "lines",
         "type": "scatter3d",
         "x": [
          0.6478604245362285,
          0.15650416795448607,
          null
         ],
         "y": [
          0.09960668062320233,
          0.8381781392690933,
          null
         ],
         "z": [
          0.1472693778821751,
          0.20507727038205403,
          null
         ]
        },
        {
         "hoverinfo": "none",
         "line": {
          "color": "rgb(0, 0, 255)",
          "width": 5
         },
         "mode": "lines",
         "type": "scatter3d",
         "x": [
          0.6478604245362285,
          0.049950158203455164,
          null
         ],
         "y": [
          0.09960668062320233,
          0.8922344668741525,
          null
         ],
         "z": [
          0.1472693778821751,
          0.05878148158995988,
          null
         ]
        },
        {
         "hoverinfo": "none",
         "line": {
          "color": "rgb(0, 0, 255)",
          "width": 5
         },
         "mode": "lines",
         "type": "scatter3d",
         "x": [
          0.6478604245362285,
          0.530191583783487,
          null
         ],
         "y": [
          0.09960668062320233,
          0.21457713756237462,
          null
         ],
         "z": [
          0.1472693778821751,
          0.09575389961162717,
          null
         ]
        },
        {
         "hoverinfo": "none",
         "line": {
          "color": "rgb(0, 0, 255)",
          "width": 5
         },
         "mode": "lines",
         "type": "scatter3d",
         "x": [
          0.6478604245362285,
          0.49614841162351897,
          null
         ],
         "y": [
          0.09960668062320233,
          0.7192325138782043,
          null
         ],
         "z": [
          0.1472693778821751,
          0.7683307559023863,
          null
         ]
        },
        {
         "hoverinfo": "none",
         "line": {
          "color": "rgb(0, 0, 255)",
          "width": 5
         },
         "mode": "lines",
         "type": "scatter3d",
         "x": [
          0.6478604245362285,
          0.13924839956477575,
          null
         ],
         "y": [
          0.09960668062320233,
          0.28690521082100806,
          null
         ],
         "z": [
          0.1472693778821751,
          0.3225499953284868,
          null
         ]
        },
        {
         "hoverinfo": "none",
         "line": {
          "color": "rgb(0, 0, 255)",
          "width": 5
         },
         "mode": "lines",
         "type": "scatter3d",
         "x": [
          0.6478604245362285,
          0.8608432460452482,
          null
         ],
         "y": [
          0.09960668062320233,
          0.4015199689605583,
          null
         ],
         "z": [
          0.1472693778821751,
          0.3223120849374399,
          null
         ]
        },
        {
         "hoverinfo": "none",
         "line": {
          "color": "rgb(0, 0, 255)",
          "width": 5
         },
         "mode": "lines",
         "type": "scatter3d",
         "x": [
          0.6478604245362285,
          0.24596382645682746,
          null
         ],
         "y": [
          0.09960668062320233,
          0.10088318695534837,
          null
         ],
         "z": [
          0.1472693778821751,
          0.781460100398329,
          null
         ]
        },
        {
         "hoverinfo": "none",
         "line": {
          "color": "rgb(0, 0, 255)",
          "width": 5
         },
         "mode": "lines",
         "type": "scatter3d",
         "x": [
          0.6478604245362285,
          0.5744316482697385,
          null
         ],
         "y": [
          0.09960668062320233,
          0.9593998511620605,
          null
         ],
         "z": [
          0.1472693778821751,
          0.23606939897821033,
          null
         ]
        },
        {
         "hoverinfo": "none",
         "line": {
          "color": "rgb(0, 0, 255)",
          "width": 5
         },
         "mode": "lines",
         "type": "scatter3d",
         "x": [
          0.6478604245362285,
          0.2715696464940396,
          null
         ],
         "y": [
          0.09960668062320233,
          0.4622192227958194,
          null
         ],
         "z": [
          0.1472693778821751,
          0.5705434947623257,
          null
         ]
        },
        {
         "hoverinfo": "none",
         "line": {
          "color": "rgb(0, 0, 255)",
          "width": 5
         },
         "mode": "lines",
         "type": "scatter3d",
         "x": [
          0.6478604245362285,
          0.9438296094770525,
          null
         ],
         "y": [
          0.09960668062320233,
          0.29583741935851104,
          null
         ],
         "z": [
          0.1472693778821751,
          0.8433771952353035,
          null
         ]
        },
        {
         "hoverinfo": "none",
         "line": {
          "color": "rgb(0, 0, 255)",
          "width": 5
         },
         "mode": "lines",
         "type": "scatter3d",
         "x": [
          0.6478604245362285,
          0.2709652679020753,
          null
         ],
         "y": [
          0.09960668062320233,
          0.15346876417346433,
          null
         ],
         "z": [
          0.1472693778821751,
          0.09516601529415791,
          null
         ]
        },
        {
         "hoverinfo": "none",
         "line": {
          "color": "rgb(0, 0, 255)",
          "width": 5
         },
         "mode": "lines",
         "type": "scatter3d",
         "x": [
          0.6478604245362285,
          0.20725727682780792,
          null
         ],
         "y": [
          0.09960668062320233,
          0.1531066331167853,
          null
         ],
         "z": [
          0.1472693778821751,
          0.33764795880275844,
          null
         ]
        },
        {
         "hoverinfo": "none",
         "line": {
          "color": "rgb(0, 0, 255)",
          "width": 5
         },
         "mode": "lines",
         "type": "scatter3d",
         "x": [
          0.6478604245362285,
          0.18104565447209664,
          null
         ],
         "y": [
          0.09960668062320233,
          0.07109565505758442,
          null
         ],
         "z": [
          0.1472693778821751,
          0.902824859041693,
          null
         ]
        },
        {
         "hoverinfo": "none",
         "line": {
          "color": "rgb(0, 0, 255)",
          "width": 5
         },
         "mode": "lines",
         "type": "scatter3d",
         "x": [
          0.6478604245362285,
          0.9817016754076012,
          null
         ],
         "y": [
          0.09960668062320233,
          0.4768574187072774,
          null
         ],
         "z": [
          0.1472693778821751,
          0.8992734892394011,
          null
         ]
        },
        {
         "hoverinfo": "none",
         "line": {
          "color": "rgb(0, 0, 255)",
          "width": 5
         },
         "mode": "lines",
         "type": "scatter3d",
         "x": [
          0.24253379349177828,
          0.986656523930182,
          null
         ],
         "y": [
          0.27528152408551954,
          0.2711141806404923,
          null
         ],
         "z": [
          0.04892505625527521,
          0.0034550838898251834,
          null
         ]
        },
        {
         "hoverinfo": "none",
         "line": {
          "color": "rgb(0, 0, 255)",
          "width": 5
         },
         "mode": "lines",
         "type": "scatter3d",
         "x": [
          0.24253379349177828,
          0.49614841162351897,
          null
         ],
         "y": [
          0.27528152408551954,
          0.7192325138782043,
          null
         ],
         "z": [
          0.04892505625527521,
          0.7683307559023863,
          null
         ]
        },
        {
         "hoverinfo": "none",
         "line": {
          "color": "rgb(0, 0, 255)",
          "width": 5
         },
         "mode": "lines",
         "type": "scatter3d",
         "x": [
          0.24253379349177828,
          0.20725727682780792,
          null
         ],
         "y": [
          0.27528152408551954,
          0.1531066331167853,
          null
         ],
         "z": [
          0.04892505625527521,
          0.33764795880275844,
          null
         ]
        },
        {
         "hoverinfo": "none",
         "line": {
          "color": "rgb(0, 0, 255)",
          "width": 5
         },
         "mode": "lines",
         "type": "scatter3d",
         "x": [
          0.24253379349177828,
          0.28226235945396116,
          null
         ],
         "y": [
          0.27528152408551954,
          0.29095599534220085,
          null
         ],
         "z": [
          0.04892505625527521,
          0.5000662106446538,
          null
         ]
        },
        {
         "hoverinfo": "none",
         "line": {
          "color": "rgb(0, 0, 255)",
          "width": 5
         },
         "mode": "lines",
         "type": "scatter3d",
         "x": [
          0.24253379349177828,
          0.2687972905566801,
          null
         ],
         "y": [
          0.27528152408551954,
          0.03299896755222731,
          null
         ],
         "z": [
          0.04892505625527521,
          0.9246377222165544,
          null
         ]
        },
        {
         "hoverinfo": "none",
         "line": {
          "color": "rgb(0, 0, 255)",
          "width": 5
         },
         "mode": "lines",
         "type": "scatter3d",
         "x": [
          0.24253379349177828,
          0.30852336913113665,
          null
         ],
         "y": [
          0.27528152408551954,
          0.1721858788873435,
          null
         ],
         "z": [
          0.04892505625527521,
          0.19471276785519342,
          null
         ]
        },
        {
         "hoverinfo": "none",
         "line": {
          "color": "rgb(0, 0, 255)",
          "width": 5
         },
         "mode": "lines",
         "type": "scatter3d",
         "x": [
          0.24253379349177828,
          0.049950158203455164,
          null
         ],
         "y": [
          0.27528152408551954,
          0.8922344668741525,
          null
         ],
         "z": [
          0.04892505625527521,
          0.05878148158995988,
          null
         ]
        },
        {
         "hoverinfo": "none",
         "line": {
          "color": "rgb(0, 0, 255)",
          "width": 5
         },
         "mode": "lines",
         "type": "scatter3d",
         "x": [
          0.24253379349177828,
          0.13924839956477575,
          null
         ],
         "y": [
          0.27528152408551954,
          0.28690521082100806,
          null
         ],
         "z": [
          0.04892505625527521,
          0.3225499953284868,
          null
         ]
        },
        {
         "hoverinfo": "none",
         "line": {
          "color": "rgb(0, 0, 255)",
          "width": 5
         },
         "mode": "lines",
         "type": "scatter3d",
         "x": [
          0.24253379349177828,
          0.24596382645682746,
          null
         ],
         "y": [
          0.27528152408551954,
          0.10088318695534837,
          null
         ],
         "z": [
          0.04892505625527521,
          0.781460100398329,
          null
         ]
        },
        {
         "hoverinfo": "none",
         "line": {
          "color": "rgb(0, 0, 255)",
          "width": 5
         },
         "mode": "lines",
         "type": "scatter3d",
         "x": [
          0.24253379349177828,
          0.2715696464940396,
          null
         ],
         "y": [
          0.27528152408551954,
          0.4622192227958194,
          null
         ],
         "z": [
          0.04892505625527521,
          0.5705434947623257,
          null
         ]
        },
        {
         "hoverinfo": "none",
         "line": {
          "color": "rgb(0, 0, 255)",
          "width": 5
         },
         "mode": "lines",
         "type": "scatter3d",
         "x": [
          0.24253379349177828,
          0.4278899162663261,
          null
         ],
         "y": [
          0.27528152408551954,
          0.7920272389658854,
          null
         ],
         "z": [
          0.04892505625527521,
          0.6618359061751158,
          null
         ]
        },
        {
         "hoverinfo": "none",
         "line": {
          "color": "rgb(0, 0, 255)",
          "width": 5
         },
         "mode": "lines",
         "type": "scatter3d",
         "x": [
          0.24253379349177828,
          0.9765141019989361,
          null
         ],
         "y": [
          0.27528152408551954,
          0.9017345480196465,
          null
         ],
         "z": [
          0.04892505625527521,
          0.18441484951097487,
          null
         ]
        },
        {
         "hoverinfo": "none",
         "line": {
          "color": "rgb(0, 0, 255)",
          "width": 5
         },
         "mode": "lines",
         "type": "scatter3d",
         "x": [
          0.24253379349177828,
          0.5744316482697385,
          null
         ],
         "y": [
          0.27528152408551954,
          0.9593998511620605,
          null
         ],
         "z": [
          0.04892505625527521,
          0.23606939897821033,
          null
         ]
        },
        {
         "hoverinfo": "none",
         "line": {
          "color": "rgb(0, 0, 255)",
          "width": 5
         },
         "mode": "lines",
         "type": "scatter3d",
         "x": [
          0.24253379349177828,
          0.7556724702769243,
          null
         ],
         "y": [
          0.27528152408551954,
          0.26472332125467735,
          null
         ],
         "z": [
          0.04892505625527521,
          0.963384481435561,
          null
         ]
        },
        {
         "hoverinfo": "none",
         "line": {
          "color": "rgb(0, 0, 255)",
          "width": 5
         },
         "mode": "lines",
         "type": "scatter3d",
         "x": [
          0.24253379349177828,
          0.12987235809484854,
          null
         ],
         "y": [
          0.27528152408551954,
          0.025017880442982032,
          null
         ],
         "z": [
          0.04892505625527521,
          0.957488989248836,
          null
         ]
        },
        {
         "hoverinfo": "none",
         "line": {
          "color": "rgb(0, 0, 255)",
          "width": 5
         },
         "mode": "lines",
         "type": "scatter3d",
         "x": [
          0.24253379349177828,
          0.4286642215135146,
          null
         ],
         "y": [
          0.27528152408551954,
          0.6375283551472624,
          null
         ],
         "z": [
          0.04892505625527521,
          0.9156721120709427,
          null
         ]
        },
        {
         "hoverinfo": "none",
         "line": {
          "color": "rgb(0, 0, 255)",
          "width": 5
         },
         "mode": "lines",
         "type": "scatter3d",
         "x": [
          0.24253379349177828,
          0.530191583783487,
          null
         ],
         "y": [
          0.27528152408551954,
          0.21457713756237462,
          null
         ],
         "z": [
          0.04892505625527521,
          0.09575389961162717,
          null
         ]
        },
        {
         "hoverinfo": "none",
         "line": {
          "color": "rgb(0, 0, 255)",
          "width": 5
         },
         "mode": "lines",
         "type": "scatter3d",
         "x": [
          0.24253379349177828,
          0.7787800517923511,
          null
         ],
         "y": [
          0.27528152408551954,
          0.9103689389278221,
          null
         ],
         "z": [
          0.04892505625527521,
          0.44800239071696335,
          null
         ]
        },
        {
         "hoverinfo": "none",
         "line": {
          "color": "rgb(0, 0, 255)",
          "width": 5
         },
         "mode": "lines",
         "type": "scatter3d",
         "x": [
          0.24253379349177828,
          0.2726374145505729,
          null
         ],
         "y": [
          0.27528152408551954,
          0.062089628627965965,
          null
         ],
         "z": [
          0.04892505625527521,
          0.7795069245481151,
          null
         ]
        },
        {
         "hoverinfo": "none",
         "line": {
          "color": "rgb(0, 0, 255)",
          "width": 5
         },
         "mode": "lines",
         "type": "scatter3d",
         "x": [
          0.24253379349177828,
          0.15650416795448607,
          null
         ],
         "y": [
          0.27528152408551954,
          0.8381781392690933,
          null
         ],
         "z": [
          0.04892505625527521,
          0.20507727038205403,
          null
         ]
        },
        {
         "hoverinfo": "none",
         "line": {
          "color": "rgb(0, 0, 255)",
          "width": 5
         },
         "mode": "lines",
         "type": "scatter3d",
         "x": [
          0.24253379349177828,
          0.32005425246101116,
          null
         ],
         "y": [
          0.27528152408551954,
          0.03450558336418574,
          null
         ],
         "z": [
          0.04892505625527521,
          0.6893756441307711,
          null
         ]
        },
        {
         "hoverinfo": "none",
         "line": {
          "color": "rgb(0, 0, 255)",
          "width": 5
         },
         "mode": "lines",
         "type": "scatter3d",
         "x": [
          0.24253379349177828,
          0.8608432460452482,
          null
         ],
         "y": [
          0.27528152408551954,
          0.4015199689605583,
          null
         ],
         "z": [
          0.04892505625527521,
          0.3223120849374399,
          null
         ]
        },
        {
         "hoverinfo": "none",
         "line": {
          "color": "rgb(0, 0, 255)",
          "width": 5
         },
         "mode": "lines",
         "type": "scatter3d",
         "x": [
          0.24253379349177828,
          0.2709652679020753,
          null
         ],
         "y": [
          0.27528152408551954,
          0.15346876417346433,
          null
         ],
         "z": [
          0.04892505625527521,
          0.09516601529415791,
          null
         ]
        },
        {
         "hoverinfo": "none",
         "line": {
          "color": "rgb(0, 0, 255)",
          "width": 5
         },
         "mode": "lines",
         "type": "scatter3d",
         "x": [
          0.24253379349177828,
          0.9817016754076012,
          null
         ],
         "y": [
          0.27528152408551954,
          0.4768574187072774,
          null
         ],
         "z": [
          0.04892505625527521,
          0.8992734892394011,
          null
         ]
        },
        {
         "hoverinfo": "none",
         "line": {
          "color": "rgb(0, 0, 255)",
          "width": 5
         },
         "mode": "lines",
         "type": "scatter3d",
         "x": [
          0.24253379349177828,
          0.9438296094770525,
          null
         ],
         "y": [
          0.27528152408551954,
          0.29583741935851104,
          null
         ],
         "z": [
          0.04892505625527521,
          0.8433771952353035,
          null
         ]
        },
        {
         "hoverinfo": "none",
         "line": {
          "color": "rgb(0, 0, 255)",
          "width": 5
         },
         "mode": "lines",
         "type": "scatter3d",
         "x": [
          0.24253379349177828,
          0.18104565447209664,
          null
         ],
         "y": [
          0.27528152408551954,
          0.07109565505758442,
          null
         ],
         "z": [
          0.04892505625527521,
          0.902824859041693,
          null
         ]
        },
        {
         "hoverinfo": "none",
         "line": {
          "color": "rgb(0, 0, 255)",
          "width": 5
         },
         "mode": "lines",
         "type": "scatter3d",
         "x": [
          0.24596382645682746,
          0.986656523930182,
          null
         ],
         "y": [
          0.10088318695534837,
          0.2711141806404923,
          null
         ],
         "z": [
          0.781460100398329,
          0.0034550838898251834,
          null
         ]
        },
        {
         "hoverinfo": "none",
         "line": {
          "color": "rgb(0, 0, 255)",
          "width": 5
         },
         "mode": "lines",
         "type": "scatter3d",
         "x": [
          0.24596382645682746,
          0.49614841162351897,
          null
         ],
         "y": [
          0.10088318695534837,
          0.7192325138782043,
          null
         ],
         "z": [
          0.781460100398329,
          0.7683307559023863,
          null
         ]
        },
        {
         "hoverinfo": "none",
         "line": {
          "color": "rgb(0, 0, 255)",
          "width": 5
         },
         "mode": "lines",
         "type": "scatter3d",
         "x": [
          0.24596382645682746,
          0.049950158203455164,
          null
         ],
         "y": [
          0.10088318695534837,
          0.8922344668741525,
          null
         ],
         "z": [
          0.781460100398329,
          0.05878148158995988,
          null
         ]
        },
        {
         "hoverinfo": "none",
         "line": {
          "color": "rgb(0, 0, 255)",
          "width": 5
         },
         "mode": "lines",
         "type": "scatter3d",
         "x": [
          0.24596382645682746,
          0.20725727682780792,
          null
         ],
         "y": [
          0.10088318695534837,
          0.1531066331167853,
          null
         ],
         "z": [
          0.781460100398329,
          0.33764795880275844,
          null
         ]
        },
        {
         "hoverinfo": "none",
         "line": {
          "color": "rgb(0, 0, 255)",
          "width": 5
         },
         "mode": "lines",
         "type": "scatter3d",
         "x": [
          0.24596382645682746,
          0.30852336913113665,
          null
         ],
         "y": [
          0.10088318695534837,
          0.1721858788873435,
          null
         ],
         "z": [
          0.781460100398329,
          0.19471276785519342,
          null
         ]
        },
        {
         "hoverinfo": "none",
         "line": {
          "color": "rgb(0, 0, 255)",
          "width": 5
         },
         "mode": "lines",
         "type": "scatter3d",
         "x": [
          0.24596382645682746,
          0.8608432460452482,
          null
         ],
         "y": [
          0.10088318695534837,
          0.4015199689605583,
          null
         ],
         "z": [
          0.781460100398329,
          0.3223120849374399,
          null
         ]
        },
        {
         "hoverinfo": "none",
         "line": {
          "color": "rgb(0, 0, 255)",
          "width": 5
         },
         "mode": "lines",
         "type": "scatter3d",
         "x": [
          0.24596382645682746,
          0.13924839956477575,
          null
         ],
         "y": [
          0.10088318695534837,
          0.28690521082100806,
          null
         ],
         "z": [
          0.781460100398329,
          0.3225499953284868,
          null
         ]
        },
        {
         "hoverinfo": "none",
         "line": {
          "color": "rgb(0, 0, 255)",
          "width": 5
         },
         "mode": "lines",
         "type": "scatter3d",
         "x": [
          0.24596382645682746,
          0.7556724702769243,
          null
         ],
         "y": [
          0.10088318695534837,
          0.26472332125467735,
          null
         ],
         "z": [
          0.781460100398329,
          0.963384481435561,
          null
         ]
        },
        {
         "hoverinfo": "none",
         "line": {
          "color": "rgb(0, 0, 255)",
          "width": 5
         },
         "mode": "lines",
         "type": "scatter3d",
         "x": [
          0.24596382645682746,
          0.4278899162663261,
          null
         ],
         "y": [
          0.10088318695534837,
          0.7920272389658854,
          null
         ],
         "z": [
          0.781460100398329,
          0.6618359061751158,
          null
         ]
        },
        {
         "hoverinfo": "none",
         "line": {
          "color": "rgb(0, 0, 255)",
          "width": 5
         },
         "mode": "lines",
         "type": "scatter3d",
         "x": [
          0.24596382645682746,
          0.28226235945396116,
          null
         ],
         "y": [
          0.10088318695534837,
          0.29095599534220085,
          null
         ],
         "z": [
          0.781460100398329,
          0.5000662106446538,
          null
         ]
        },
        {
         "hoverinfo": "none",
         "line": {
          "color": "rgb(0, 0, 255)",
          "width": 5
         },
         "mode": "lines",
         "type": "scatter3d",
         "x": [
          0.24596382645682746,
          0.18104565447209664,
          null
         ],
         "y": [
          0.10088318695534837,
          0.07109565505758442,
          null
         ],
         "z": [
          0.781460100398329,
          0.902824859041693,
          null
         ]
        },
        {
         "hoverinfo": "none",
         "line": {
          "color": "rgb(0, 0, 255)",
          "width": 5
         },
         "mode": "lines",
         "type": "scatter3d",
         "x": [
          0.24596382645682746,
          0.5744316482697385,
          null
         ],
         "y": [
          0.10088318695534837,
          0.9593998511620605,
          null
         ],
         "z": [
          0.781460100398329,
          0.23606939897821033,
          null
         ]
        },
        {
         "hoverinfo": "none",
         "line": {
          "color": "rgb(0, 0, 255)",
          "width": 5
         },
         "mode": "lines",
         "type": "scatter3d",
         "x": [
          0.24596382645682746,
          0.2715696464940396,
          null
         ],
         "y": [
          0.10088318695534837,
          0.4622192227958194,
          null
         ],
         "z": [
          0.781460100398329,
          0.5705434947623257,
          null
         ]
        },
        {
         "hoverinfo": "none",
         "line": {
          "color": "rgb(0, 0, 255)",
          "width": 5
         },
         "mode": "lines",
         "type": "scatter3d",
         "x": [
          0.24596382645682746,
          0.15650416795448607,
          null
         ],
         "y": [
          0.10088318695534837,
          0.8381781392690933,
          null
         ],
         "z": [
          0.781460100398329,
          0.20507727038205403,
          null
         ]
        },
        {
         "hoverinfo": "none",
         "line": {
          "color": "rgb(0, 0, 255)",
          "width": 5
         },
         "mode": "lines",
         "type": "scatter3d",
         "x": [
          0.24596382645682746,
          0.2687972905566801,
          null
         ],
         "y": [
          0.10088318695534837,
          0.03299896755222731,
          null
         ],
         "z": [
          0.781460100398329,
          0.9246377222165544,
          null
         ]
        },
        {
         "hoverinfo": "none",
         "line": {
          "color": "rgb(0, 0, 255)",
          "width": 5
         },
         "mode": "lines",
         "type": "scatter3d",
         "x": [
          0.24596382645682746,
          0.32005425246101116,
          null
         ],
         "y": [
          0.10088318695534837,
          0.03450558336418574,
          null
         ],
         "z": [
          0.781460100398329,
          0.6893756441307711,
          null
         ]
        },
        {
         "hoverinfo": "none",
         "line": {
          "color": "rgb(0, 0, 255)",
          "width": 5
         },
         "mode": "lines",
         "type": "scatter3d",
         "x": [
          0.24596382645682746,
          0.530191583783487,
          null
         ],
         "y": [
          0.10088318695534837,
          0.21457713756237462,
          null
         ],
         "z": [
          0.781460100398329,
          0.09575389961162717,
          null
         ]
        },
        {
         "hoverinfo": "none",
         "line": {
          "color": "rgb(0, 0, 255)",
          "width": 5
         },
         "mode": "lines",
         "type": "scatter3d",
         "x": [
          0.24596382645682746,
          0.12987235809484854,
          null
         ],
         "y": [
          0.10088318695534837,
          0.025017880442982032,
          null
         ],
         "z": [
          0.781460100398329,
          0.957488989248836,
          null
         ]
        },
        {
         "hoverinfo": "none",
         "line": {
          "color": "rgb(0, 0, 255)",
          "width": 5
         },
         "mode": "lines",
         "type": "scatter3d",
         "x": [
          0.24596382645682746,
          0.7787800517923511,
          null
         ],
         "y": [
          0.10088318695534837,
          0.9103689389278221,
          null
         ],
         "z": [
          0.781460100398329,
          0.44800239071696335,
          null
         ]
        },
        {
         "hoverinfo": "none",
         "line": {
          "color": "rgb(0, 0, 255)",
          "width": 5
         },
         "mode": "lines",
         "type": "scatter3d",
         "x": [
          0.24596382645682746,
          0.4286642215135146,
          null
         ],
         "y": [
          0.10088318695534837,
          0.6375283551472624,
          null
         ],
         "z": [
          0.781460100398329,
          0.9156721120709427,
          null
         ]
        },
        {
         "hoverinfo": "none",
         "line": {
          "color": "rgb(0, 0, 255)",
          "width": 5
         },
         "mode": "lines",
         "type": "scatter3d",
         "x": [
          0.24596382645682746,
          0.2726374145505729,
          null
         ],
         "y": [
          0.10088318695534837,
          0.062089628627965965,
          null
         ],
         "z": [
          0.781460100398329,
          0.7795069245481151,
          null
         ]
        },
        {
         "hoverinfo": "none",
         "line": {
          "color": "rgb(0, 0, 255)",
          "width": 5
         },
         "mode": "lines",
         "type": "scatter3d",
         "x": [
          0.24596382645682746,
          0.9817016754076012,
          null
         ],
         "y": [
          0.10088318695534837,
          0.4768574187072774,
          null
         ],
         "z": [
          0.781460100398329,
          0.8992734892394011,
          null
         ]
        },
        {
         "hoverinfo": "none",
         "line": {
          "color": "rgb(0, 0, 255)",
          "width": 5
         },
         "mode": "lines",
         "type": "scatter3d",
         "x": [
          0.24596382645682746,
          0.9765141019989361,
          null
         ],
         "y": [
          0.10088318695534837,
          0.9017345480196465,
          null
         ],
         "z": [
          0.781460100398329,
          0.18441484951097487,
          null
         ]
        },
        {
         "hoverinfo": "none",
         "line": {
          "color": "rgb(0, 0, 255)",
          "width": 5
         },
         "mode": "lines",
         "type": "scatter3d",
         "x": [
          0.24596382645682746,
          0.2709652679020753,
          null
         ],
         "y": [
          0.10088318695534837,
          0.15346876417346433,
          null
         ],
         "z": [
          0.781460100398329,
          0.09516601529415791,
          null
         ]
        },
        {
         "hoverinfo": "none",
         "line": {
          "color": "rgb(0, 0, 255)",
          "width": 5
         },
         "mode": "lines",
         "type": "scatter3d",
         "x": [
          0.24596382645682746,
          0.9438296094770525,
          null
         ],
         "y": [
          0.10088318695534837,
          0.29583741935851104,
          null
         ],
         "z": [
          0.781460100398329,
          0.8433771952353035,
          null
         ]
        },
        {
         "hoverinfo": "none",
         "line": {
          "color": "rgb(0, 0, 255)",
          "width": 5
         },
         "mode": "lines",
         "type": "scatter3d",
         "x": [
          0.2726374145505729,
          0.28226235945396116,
          null
         ],
         "y": [
          0.062089628627965965,
          0.29095599534220085,
          null
         ],
         "z": [
          0.7795069245481151,
          0.5000662106446538,
          null
         ]
        },
        {
         "hoverinfo": "none",
         "line": {
          "color": "rgb(0, 0, 255)",
          "width": 5
         },
         "mode": "lines",
         "type": "scatter3d",
         "x": [
          0.2726374145505729,
          0.986656523930182,
          null
         ],
         "y": [
          0.062089628627965965,
          0.2711141806404923,
          null
         ],
         "z": [
          0.7795069245481151,
          0.0034550838898251834,
          null
         ]
        },
        {
         "hoverinfo": "none",
         "line": {
          "color": "rgb(0, 0, 255)",
          "width": 5
         },
         "mode": "lines",
         "type": "scatter3d",
         "x": [
          0.2726374145505729,
          0.8608432460452482,
          null
         ],
         "y": [
          0.062089628627965965,
          0.4015199689605583,
          null
         ],
         "z": [
          0.7795069245481151,
          0.3223120849374399,
          null
         ]
        },
        {
         "hoverinfo": "none",
         "line": {
          "color": "rgb(0, 0, 255)",
          "width": 5
         },
         "mode": "lines",
         "type": "scatter3d",
         "x": [
          0.2726374145505729,
          0.12987235809484854,
          null
         ],
         "y": [
          0.062089628627965965,
          0.025017880442982032,
          null
         ],
         "z": [
          0.7795069245481151,
          0.957488989248836,
          null
         ]
        },
        {
         "hoverinfo": "none",
         "line": {
          "color": "rgb(0, 0, 255)",
          "width": 5
         },
         "mode": "lines",
         "type": "scatter3d",
         "x": [
          0.2726374145505729,
          0.32005425246101116,
          null
         ],
         "y": [
          0.062089628627965965,
          0.03450558336418574,
          null
         ],
         "z": [
          0.7795069245481151,
          0.6893756441307711,
          null
         ]
        },
        {
         "hoverinfo": "none",
         "line": {
          "color": "rgb(0, 0, 255)",
          "width": 5
         },
         "mode": "lines",
         "type": "scatter3d",
         "x": [
          0.2726374145505729,
          0.2687972905566801,
          null
         ],
         "y": [
          0.062089628627965965,
          0.03299896755222731,
          null
         ],
         "z": [
          0.7795069245481151,
          0.9246377222165544,
          null
         ]
        },
        {
         "hoverinfo": "none",
         "line": {
          "color": "rgb(0, 0, 255)",
          "width": 5
         },
         "mode": "lines",
         "type": "scatter3d",
         "x": [
          0.2726374145505729,
          0.30852336913113665,
          null
         ],
         "y": [
          0.062089628627965965,
          0.1721858788873435,
          null
         ],
         "z": [
          0.7795069245481151,
          0.19471276785519342,
          null
         ]
        },
        {
         "hoverinfo": "none",
         "line": {
          "color": "rgb(0, 0, 255)",
          "width": 5
         },
         "mode": "lines",
         "type": "scatter3d",
         "x": [
          0.2726374145505729,
          0.9765141019989361,
          null
         ],
         "y": [
          0.062089628627965965,
          0.9017345480196465,
          null
         ],
         "z": [
          0.7795069245481151,
          0.18441484951097487,
          null
         ]
        },
        {
         "hoverinfo": "none",
         "line": {
          "color": "rgb(0, 0, 255)",
          "width": 5
         },
         "mode": "lines",
         "type": "scatter3d",
         "x": [
          0.2726374145505729,
          0.5744316482697385,
          null
         ],
         "y": [
          0.062089628627965965,
          0.9593998511620605,
          null
         ],
         "z": [
          0.7795069245481151,
          0.23606939897821033,
          null
         ]
        },
        {
         "hoverinfo": "none",
         "line": {
          "color": "rgb(0, 0, 255)",
          "width": 5
         },
         "mode": "lines",
         "type": "scatter3d",
         "x": [
          0.2726374145505729,
          0.2715696464940396,
          null
         ],
         "y": [
          0.062089628627965965,
          0.4622192227958194,
          null
         ],
         "z": [
          0.7795069245481151,
          0.5705434947623257,
          null
         ]
        },
        {
         "hoverinfo": "none",
         "line": {
          "color": "rgb(0, 0, 255)",
          "width": 5
         },
         "mode": "lines",
         "type": "scatter3d",
         "x": [
          0.2726374145505729,
          0.4286642215135146,
          null
         ],
         "y": [
          0.062089628627965965,
          0.6375283551472624,
          null
         ],
         "z": [
          0.7795069245481151,
          0.9156721120709427,
          null
         ]
        },
        {
         "hoverinfo": "none",
         "line": {
          "color": "rgb(0, 0, 255)",
          "width": 5
         },
         "mode": "lines",
         "type": "scatter3d",
         "x": [
          0.2726374145505729,
          0.4278899162663261,
          null
         ],
         "y": [
          0.062089628627965965,
          0.7920272389658854,
          null
         ],
         "z": [
          0.7795069245481151,
          0.6618359061751158,
          null
         ]
        },
        {
         "hoverinfo": "none",
         "line": {
          "color": "rgb(0, 0, 255)",
          "width": 5
         },
         "mode": "lines",
         "type": "scatter3d",
         "x": [
          0.2726374145505729,
          0.7787800517923511,
          null
         ],
         "y": [
          0.062089628627965965,
          0.9103689389278221,
          null
         ],
         "z": [
          0.7795069245481151,
          0.44800239071696335,
          null
         ]
        },
        {
         "hoverinfo": "none",
         "line": {
          "color": "rgb(0, 0, 255)",
          "width": 5
         },
         "mode": "lines",
         "type": "scatter3d",
         "x": [
          0.2726374145505729,
          0.049950158203455164,
          null
         ],
         "y": [
          0.062089628627965965,
          0.8922344668741525,
          null
         ],
         "z": [
          0.7795069245481151,
          0.05878148158995988,
          null
         ]
        },
        {
         "hoverinfo": "none",
         "line": {
          "color": "rgb(0, 0, 255)",
          "width": 5
         },
         "mode": "lines",
         "type": "scatter3d",
         "x": [
          0.2726374145505729,
          0.530191583783487,
          null
         ],
         "y": [
          0.062089628627965965,
          0.21457713756237462,
          null
         ],
         "z": [
          0.7795069245481151,
          0.09575389961162717,
          null
         ]
        },
        {
         "hoverinfo": "none",
         "line": {
          "color": "rgb(0, 0, 255)",
          "width": 5
         },
         "mode": "lines",
         "type": "scatter3d",
         "x": [
          0.2726374145505729,
          0.13924839956477575,
          null
         ],
         "y": [
          0.062089628627965965,
          0.28690521082100806,
          null
         ],
         "z": [
          0.7795069245481151,
          0.3225499953284868,
          null
         ]
        },
        {
         "hoverinfo": "none",
         "line": {
          "color": "rgb(0, 0, 255)",
          "width": 5
         },
         "mode": "lines",
         "type": "scatter3d",
         "x": [
          0.2726374145505729,
          0.20725727682780792,
          null
         ],
         "y": [
          0.062089628627965965,
          0.1531066331167853,
          null
         ],
         "z": [
          0.7795069245481151,
          0.33764795880275844,
          null
         ]
        },
        {
         "hoverinfo": "none",
         "line": {
          "color": "rgb(0, 0, 255)",
          "width": 5
         },
         "mode": "lines",
         "type": "scatter3d",
         "x": [
          0.2726374145505729,
          0.7556724702769243,
          null
         ],
         "y": [
          0.062089628627965965,
          0.26472332125467735,
          null
         ],
         "z": [
          0.7795069245481151,
          0.963384481435561,
          null
         ]
        },
        {
         "hoverinfo": "none",
         "line": {
          "color": "rgb(255, 0, 0)",
          "width": 5
         },
         "mode": "lines",
         "type": "scatter3d",
         "x": [
          0.2726374145505729,
          0.2709652679020753,
          null
         ],
         "y": [
          0.062089628627965965,
          0.15346876417346433,
          null
         ],
         "z": [
          0.7795069245481151,
          0.09516601529415791,
          null
         ]
        },
        {
         "hoverinfo": "none",
         "line": {
          "color": "rgb(0, 0, 255)",
          "width": 5
         },
         "mode": "lines",
         "type": "scatter3d",
         "x": [
          0.2726374145505729,
          0.49614841162351897,
          null
         ],
         "y": [
          0.062089628627965965,
          0.7192325138782043,
          null
         ],
         "z": [
          0.7795069245481151,
          0.7683307559023863,
          null
         ]
        },
        {
         "hoverinfo": "none",
         "line": {
          "color": "rgb(0, 0, 255)",
          "width": 5
         },
         "mode": "lines",
         "type": "scatter3d",
         "x": [
          0.2726374145505729,
          0.15650416795448607,
          null
         ],
         "y": [
          0.062089628627965965,
          0.8381781392690933,
          null
         ],
         "z": [
          0.7795069245481151,
          0.20507727038205403,
          null
         ]
        },
        {
         "hoverinfo": "none",
         "line": {
          "color": "rgb(0, 0, 255)",
          "width": 5
         },
         "mode": "lines",
         "type": "scatter3d",
         "x": [
          0.2726374145505729,
          0.18104565447209664,
          null
         ],
         "y": [
          0.062089628627965965,
          0.07109565505758442,
          null
         ],
         "z": [
          0.7795069245481151,
          0.902824859041693,
          null
         ]
        },
        {
         "hoverinfo": "none",
         "line": {
          "color": "rgb(0, 0, 255)",
          "width": 5
         },
         "mode": "lines",
         "type": "scatter3d",
         "x": [
          0.20725727682780792,
          0.7787800517923511,
          null
         ],
         "y": [
          0.1531066331167853,
          0.9103689389278221,
          null
         ],
         "z": [
          0.33764795880275844,
          0.44800239071696335,
          null
         ]
        },
        {
         "hoverinfo": "none",
         "line": {
          "color": "rgb(0, 0, 255)",
          "width": 5
         },
         "mode": "lines",
         "type": "scatter3d",
         "x": [
          0.20725727682780792,
          0.28226235945396116,
          null
         ],
         "y": [
          0.1531066331167853,
          0.29095599534220085,
          null
         ],
         "z": [
          0.33764795880275844,
          0.5000662106446538,
          null
         ]
        },
        {
         "hoverinfo": "none",
         "line": {
          "color": "rgb(0, 0, 255)",
          "width": 5
         },
         "mode": "lines",
         "type": "scatter3d",
         "x": [
          0.20725727682780792,
          0.986656523930182,
          null
         ],
         "y": [
          0.1531066331167853,
          0.2711141806404923,
          null
         ],
         "z": [
          0.33764795880275844,
          0.0034550838898251834,
          null
         ]
        },
        {
         "hoverinfo": "none",
         "line": {
          "color": "rgb(0, 0, 255)",
          "width": 5
         },
         "mode": "lines",
         "type": "scatter3d",
         "x": [
          0.20725727682780792,
          0.4286642215135146,
          null
         ],
         "y": [
          0.1531066331167853,
          0.6375283551472624,
          null
         ],
         "z": [
          0.33764795880275844,
          0.9156721120709427,
          null
         ]
        },
        {
         "hoverinfo": "none",
         "line": {
          "color": "rgb(0, 0, 255)",
          "width": 5
         },
         "mode": "lines",
         "type": "scatter3d",
         "x": [
          0.20725727682780792,
          0.9765141019989361,
          null
         ],
         "y": [
          0.1531066331167853,
          0.9017345480196465,
          null
         ],
         "z": [
          0.33764795880275844,
          0.18441484951097487,
          null
         ]
        },
        {
         "hoverinfo": "none",
         "line": {
          "color": "rgb(0, 0, 255)",
          "width": 5
         },
         "mode": "lines",
         "type": "scatter3d",
         "x": [
          0.20725727682780792,
          0.2687972905566801,
          null
         ],
         "y": [
          0.1531066331167853,
          0.03299896755222731,
          null
         ],
         "z": [
          0.33764795880275844,
          0.9246377222165544,
          null
         ]
        },
        {
         "hoverinfo": "none",
         "line": {
          "color": "rgb(0, 0, 255)",
          "width": 5
         },
         "mode": "lines",
         "type": "scatter3d",
         "x": [
          0.20725727682780792,
          0.049950158203455164,
          null
         ],
         "y": [
          0.1531066331167853,
          0.8922344668741525,
          null
         ],
         "z": [
          0.33764795880275844,
          0.05878148158995988,
          null
         ]
        },
        {
         "hoverinfo": "none",
         "line": {
          "color": "rgb(0, 0, 255)",
          "width": 5
         },
         "mode": "lines",
         "type": "scatter3d",
         "x": [
          0.20725727682780792,
          0.13924839956477575,
          null
         ],
         "y": [
          0.1531066331167853,
          0.28690521082100806,
          null
         ],
         "z": [
          0.33764795880275844,
          0.3225499953284868,
          null
         ]
        },
        {
         "hoverinfo": "none",
         "line": {
          "color": "rgb(0, 0, 255)",
          "width": 5
         },
         "mode": "lines",
         "type": "scatter3d",
         "x": [
          0.20725727682780792,
          0.15650416795448607,
          null
         ],
         "y": [
          0.1531066331167853,
          0.8381781392690933,
          null
         ],
         "z": [
          0.33764795880275844,
          0.20507727038205403,
          null
         ]
        },
        {
         "hoverinfo": "none",
         "line": {
          "color": "rgb(0, 0, 255)",
          "width": 5
         },
         "mode": "lines",
         "type": "scatter3d",
         "x": [
          0.20725727682780792,
          0.30852336913113665,
          null
         ],
         "y": [
          0.1531066331167853,
          0.1721858788873435,
          null
         ],
         "z": [
          0.33764795880275844,
          0.19471276785519342,
          null
         ]
        },
        {
         "hoverinfo": "none",
         "line": {
          "color": "rgb(0, 0, 255)",
          "width": 5
         },
         "mode": "lines",
         "type": "scatter3d",
         "x": [
          0.20725727682780792,
          0.4278899162663261,
          null
         ],
         "y": [
          0.1531066331167853,
          0.7920272389658854,
          null
         ],
         "z": [
          0.33764795880275844,
          0.6618359061751158,
          null
         ]
        },
        {
         "hoverinfo": "none",
         "line": {
          "color": "rgb(0, 0, 255)",
          "width": 5
         },
         "mode": "lines",
         "type": "scatter3d",
         "x": [
          0.20725727682780792,
          0.530191583783487,
          null
         ],
         "y": [
          0.1531066331167853,
          0.21457713756237462,
          null
         ],
         "z": [
          0.33764795880275844,
          0.09575389961162717,
          null
         ]
        },
        {
         "hoverinfo": "none",
         "line": {
          "color": "rgb(0, 0, 255)",
          "width": 5
         },
         "mode": "lines",
         "type": "scatter3d",
         "x": [
          0.20725727682780792,
          0.2715696464940396,
          null
         ],
         "y": [
          0.1531066331167853,
          0.4622192227958194,
          null
         ],
         "z": [
          0.33764795880275844,
          0.5705434947623257,
          null
         ]
        },
        {
         "hoverinfo": "none",
         "line": {
          "color": "rgb(0, 0, 255)",
          "width": 5
         },
         "mode": "lines",
         "type": "scatter3d",
         "x": [
          0.20725727682780792,
          0.7556724702769243,
          null
         ],
         "y": [
          0.1531066331167853,
          0.26472332125467735,
          null
         ],
         "z": [
          0.33764795880275844,
          0.963384481435561,
          null
         ]
        },
        {
         "hoverinfo": "none",
         "line": {
          "color": "rgb(0, 0, 255)",
          "width": 5
         },
         "mode": "lines",
         "type": "scatter3d",
         "x": [
          0.20725727682780792,
          0.8608432460452482,
          null
         ],
         "y": [
          0.1531066331167853,
          0.4015199689605583,
          null
         ],
         "z": [
          0.33764795880275844,
          0.3223120849374399,
          null
         ]
        },
        {
         "hoverinfo": "none",
         "line": {
          "color": "rgb(0, 0, 255)",
          "width": 5
         },
         "mode": "lines",
         "type": "scatter3d",
         "x": [
          0.20725727682780792,
          0.5744316482697385,
          null
         ],
         "y": [
          0.1531066331167853,
          0.9593998511620605,
          null
         ],
         "z": [
          0.33764795880275844,
          0.23606939897821033,
          null
         ]
        },
        {
         "hoverinfo": "none",
         "line": {
          "color": "rgb(0, 0, 255)",
          "width": 5
         },
         "mode": "lines",
         "type": "scatter3d",
         "x": [
          0.20725727682780792,
          0.32005425246101116,
          null
         ],
         "y": [
          0.1531066331167853,
          0.03450558336418574,
          null
         ],
         "z": [
          0.33764795880275844,
          0.6893756441307711,
          null
         ]
        },
        {
         "hoverinfo": "none",
         "line": {
          "color": "rgb(0, 0, 255)",
          "width": 5
         },
         "mode": "lines",
         "type": "scatter3d",
         "x": [
          0.20725727682780792,
          0.9438296094770525,
          null
         ],
         "y": [
          0.1531066331167853,
          0.29583741935851104,
          null
         ],
         "z": [
          0.33764795880275844,
          0.8433771952353035,
          null
         ]
        },
        {
         "hoverinfo": "none",
         "line": {
          "color": "rgb(0, 0, 255)",
          "width": 5
         },
         "mode": "lines",
         "type": "scatter3d",
         "x": [
          0.20725727682780792,
          0.12987235809484854,
          null
         ],
         "y": [
          0.1531066331167853,
          0.025017880442982032,
          null
         ],
         "z": [
          0.33764795880275844,
          0.957488989248836,
          null
         ]
        },
        {
         "hoverinfo": "none",
         "line": {
          "color": "rgb(0, 0, 255)",
          "width": 5
         },
         "mode": "lines",
         "type": "scatter3d",
         "x": [
          0.20725727682780792,
          0.49614841162351897,
          null
         ],
         "y": [
          0.1531066331167853,
          0.7192325138782043,
          null
         ],
         "z": [
          0.33764795880275844,
          0.7683307559023863,
          null
         ]
        },
        {
         "hoverinfo": "none",
         "line": {
          "color": "rgb(0, 0, 255)",
          "width": 5
         },
         "mode": "lines",
         "type": "scatter3d",
         "x": [
          0.20725727682780792,
          0.18104565447209664,
          null
         ],
         "y": [
          0.1531066331167853,
          0.07109565505758442,
          null
         ],
         "z": [
          0.33764795880275844,
          0.902824859041693,
          null
         ]
        },
        {
         "hoverinfo": "none",
         "line": {
          "color": "rgb(0, 0, 255)",
          "width": 5
         },
         "mode": "lines",
         "type": "scatter3d",
         "x": [
          0.20725727682780792,
          0.9817016754076012,
          null
         ],
         "y": [
          0.1531066331167853,
          0.4768574187072774,
          null
         ],
         "z": [
          0.33764795880275844,
          0.8992734892394011,
          null
         ]
        },
        {
         "hoverinfo": "none",
         "line": {
          "color": "rgb(255, 0, 0)",
          "width": 5
         },
         "mode": "lines",
         "type": "scatter3d",
         "x": [
          0.20725727682780792,
          0.2709652679020753,
          null
         ],
         "y": [
          0.1531066331167853,
          0.15346876417346433,
          null
         ],
         "z": [
          0.33764795880275844,
          0.09516601529415791,
          null
         ]
        },
        {
         "hoverinfo": "none",
         "line": {
          "color": "rgb(0, 0, 255)",
          "width": 5
         },
         "mode": "lines",
         "type": "scatter3d",
         "x": [
          0.28226235945396116,
          0.49614841162351897,
          null
         ],
         "y": [
          0.29095599534220085,
          0.7192325138782043,
          null
         ],
         "z": [
          0.5000662106446538,
          0.7683307559023863,
          null
         ]
        },
        {
         "hoverinfo": "none",
         "line": {
          "color": "rgb(0, 0, 255)",
          "width": 5
         },
         "mode": "lines",
         "type": "scatter3d",
         "x": [
          0.28226235945396116,
          0.2687972905566801,
          null
         ],
         "y": [
          0.29095599534220085,
          0.03299896755222731,
          null
         ],
         "z": [
          0.5000662106446538,
          0.9246377222165544,
          null
         ]
        },
        {
         "hoverinfo": "none",
         "line": {
          "color": "rgb(0, 0, 255)",
          "width": 5
         },
         "mode": "lines",
         "type": "scatter3d",
         "x": [
          0.28226235945396116,
          0.7556724702769243,
          null
         ],
         "y": [
          0.29095599534220085,
          0.26472332125467735,
          null
         ],
         "z": [
          0.5000662106446538,
          0.963384481435561,
          null
         ]
        },
        {
         "hoverinfo": "none",
         "line": {
          "color": "rgb(0, 0, 255)",
          "width": 5
         },
         "mode": "lines",
         "type": "scatter3d",
         "x": [
          0.28226235945396116,
          0.32005425246101116,
          null
         ],
         "y": [
          0.29095599534220085,
          0.03450558336418574,
          null
         ],
         "z": [
          0.5000662106446538,
          0.6893756441307711,
          null
         ]
        },
        {
         "hoverinfo": "none",
         "line": {
          "color": "rgb(0, 0, 255)",
          "width": 5
         },
         "mode": "lines",
         "type": "scatter3d",
         "x": [
          0.28226235945396116,
          0.15650416795448607,
          null
         ],
         "y": [
          0.29095599534220085,
          0.8381781392690933,
          null
         ],
         "z": [
          0.5000662106446538,
          0.20507727038205403,
          null
         ]
        },
        {
         "hoverinfo": "none",
         "line": {
          "color": "rgb(0, 0, 255)",
          "width": 5
         },
         "mode": "lines",
         "type": "scatter3d",
         "x": [
          0.28226235945396116,
          0.30852336913113665,
          null
         ],
         "y": [
          0.29095599534220085,
          0.1721858788873435,
          null
         ],
         "z": [
          0.5000662106446538,
          0.19471276785519342,
          null
         ]
        },
        {
         "hoverinfo": "none",
         "line": {
          "color": "rgb(0, 0, 255)",
          "width": 5
         },
         "mode": "lines",
         "type": "scatter3d",
         "x": [
          0.28226235945396116,
          0.986656523930182,
          null
         ],
         "y": [
          0.29095599534220085,
          0.2711141806404923,
          null
         ],
         "z": [
          0.5000662106446538,
          0.0034550838898251834,
          null
         ]
        },
        {
         "hoverinfo": "none",
         "line": {
          "color": "rgb(0, 0, 255)",
          "width": 5
         },
         "mode": "lines",
         "type": "scatter3d",
         "x": [
          0.28226235945396116,
          0.049950158203455164,
          null
         ],
         "y": [
          0.29095599534220085,
          0.8922344668741525,
          null
         ],
         "z": [
          0.5000662106446538,
          0.05878148158995988,
          null
         ]
        },
        {
         "hoverinfo": "none",
         "line": {
          "color": "rgb(0, 0, 255)",
          "width": 5
         },
         "mode": "lines",
         "type": "scatter3d",
         "x": [
          0.28226235945396116,
          0.4278899162663261,
          null
         ],
         "y": [
          0.29095599534220085,
          0.7920272389658854,
          null
         ],
         "z": [
          0.5000662106446538,
          0.6618359061751158,
          null
         ]
        },
        {
         "hoverinfo": "none",
         "line": {
          "color": "rgb(0, 0, 255)",
          "width": 5
         },
         "mode": "lines",
         "type": "scatter3d",
         "x": [
          0.28226235945396116,
          0.4286642215135146,
          null
         ],
         "y": [
          0.29095599534220085,
          0.6375283551472624,
          null
         ],
         "z": [
          0.5000662106446538,
          0.9156721120709427,
          null
         ]
        },
        {
         "hoverinfo": "none",
         "line": {
          "color": "rgb(0, 0, 255)",
          "width": 5
         },
         "mode": "lines",
         "type": "scatter3d",
         "x": [
          0.28226235945396116,
          0.5744316482697385,
          null
         ],
         "y": [
          0.29095599534220085,
          0.9593998511620605,
          null
         ],
         "z": [
          0.5000662106446538,
          0.23606939897821033,
          null
         ]
        },
        {
         "hoverinfo": "none",
         "line": {
          "color": "rgb(0, 0, 255)",
          "width": 5
         },
         "mode": "lines",
         "type": "scatter3d",
         "x": [
          0.28226235945396116,
          0.7787800517923511,
          null
         ],
         "y": [
          0.29095599534220085,
          0.9103689389278221,
          null
         ],
         "z": [
          0.5000662106446538,
          0.44800239071696335,
          null
         ]
        },
        {
         "hoverinfo": "none",
         "line": {
          "color": "rgb(0, 0, 255)",
          "width": 5
         },
         "mode": "lines",
         "type": "scatter3d",
         "x": [
          0.28226235945396116,
          0.12987235809484854,
          null
         ],
         "y": [
          0.29095599534220085,
          0.025017880442982032,
          null
         ],
         "z": [
          0.5000662106446538,
          0.957488989248836,
          null
         ]
        },
        {
         "hoverinfo": "none",
         "line": {
          "color": "rgb(0, 0, 255)",
          "width": 5
         },
         "mode": "lines",
         "type": "scatter3d",
         "x": [
          0.28226235945396116,
          0.2715696464940396,
          null
         ],
         "y": [
          0.29095599534220085,
          0.4622192227958194,
          null
         ],
         "z": [
          0.5000662106446538,
          0.5705434947623257,
          null
         ]
        },
        {
         "hoverinfo": "none",
         "line": {
          "color": "rgb(0, 0, 255)",
          "width": 5
         },
         "mode": "lines",
         "type": "scatter3d",
         "x": [
          0.28226235945396116,
          0.9438296094770525,
          null
         ],
         "y": [
          0.29095599534220085,
          0.29583741935851104,
          null
         ],
         "z": [
          0.5000662106446538,
          0.8433771952353035,
          null
         ]
        },
        {
         "hoverinfo": "none",
         "line": {
          "color": "rgb(0, 0, 255)",
          "width": 5
         },
         "mode": "lines",
         "type": "scatter3d",
         "x": [
          0.28226235945396116,
          0.530191583783487,
          null
         ],
         "y": [
          0.29095599534220085,
          0.21457713756237462,
          null
         ],
         "z": [
          0.5000662106446538,
          0.09575389961162717,
          null
         ]
        },
        {
         "hoverinfo": "none",
         "line": {
          "color": "rgb(0, 0, 255)",
          "width": 5
         },
         "mode": "lines",
         "type": "scatter3d",
         "x": [
          0.28226235945396116,
          0.8608432460452482,
          null
         ],
         "y": [
          0.29095599534220085,
          0.4015199689605583,
          null
         ],
         "z": [
          0.5000662106446538,
          0.3223120849374399,
          null
         ]
        },
        {
         "hoverinfo": "none",
         "line": {
          "color": "rgb(0, 0, 255)",
          "width": 5
         },
         "mode": "lines",
         "type": "scatter3d",
         "x": [
          0.28226235945396116,
          0.9765141019989361,
          null
         ],
         "y": [
          0.29095599534220085,
          0.9017345480196465,
          null
         ],
         "z": [
          0.5000662106446538,
          0.18441484951097487,
          null
         ]
        },
        {
         "hoverinfo": "none",
         "line": {
          "color": "rgb(0, 0, 255)",
          "width": 5
         },
         "mode": "lines",
         "type": "scatter3d",
         "x": [
          0.28226235945396116,
          0.13924839956477575,
          null
         ],
         "y": [
          0.29095599534220085,
          0.28690521082100806,
          null
         ],
         "z": [
          0.5000662106446538,
          0.3225499953284868,
          null
         ]
        },
        {
         "hoverinfo": "none",
         "line": {
          "color": "rgb(0, 0, 255)",
          "width": 5
         },
         "mode": "lines",
         "type": "scatter3d",
         "x": [
          0.28226235945396116,
          0.2709652679020753,
          null
         ],
         "y": [
          0.29095599534220085,
          0.15346876417346433,
          null
         ],
         "z": [
          0.5000662106446538,
          0.09516601529415791,
          null
         ]
        },
        {
         "hoverinfo": "none",
         "line": {
          "color": "rgb(0, 0, 255)",
          "width": 5
         },
         "mode": "lines",
         "type": "scatter3d",
         "x": [
          0.28226235945396116,
          0.9817016754076012,
          null
         ],
         "y": [
          0.29095599534220085,
          0.4768574187072774,
          null
         ],
         "z": [
          0.5000662106446538,
          0.8992734892394011,
          null
         ]
        },
        {
         "hoverinfo": "none",
         "line": {
          "color": "rgb(0, 0, 255)",
          "width": 5
         },
         "mode": "lines",
         "type": "scatter3d",
         "x": [
          0.28226235945396116,
          0.18104565447209664,
          null
         ],
         "y": [
          0.29095599534220085,
          0.07109565505758442,
          null
         ],
         "z": [
          0.5000662106446538,
          0.902824859041693,
          null
         ]
        },
        {
         "hoverinfo": "none",
         "line": {
          "color": "rgb(0, 0, 255)",
          "width": 5
         },
         "mode": "lines",
         "type": "scatter3d",
         "x": [
          0.12987235809484854,
          0.7787800517923511,
          null
         ],
         "y": [
          0.025017880442982032,
          0.9103689389278221,
          null
         ],
         "z": [
          0.957488989248836,
          0.44800239071696335,
          null
         ]
        },
        {
         "hoverinfo": "none",
         "line": {
          "color": "rgb(0, 0, 255)",
          "width": 5
         },
         "mode": "lines",
         "type": "scatter3d",
         "x": [
          0.12987235809484854,
          0.32005425246101116,
          null
         ],
         "y": [
          0.025017880442982032,
          0.03450558336418574,
          null
         ],
         "z": [
          0.957488989248836,
          0.6893756441307711,
          null
         ]
        },
        {
         "hoverinfo": "none",
         "line": {
          "color": "rgb(0, 0, 255)",
          "width": 5
         },
         "mode": "lines",
         "type": "scatter3d",
         "x": [
          0.12987235809484854,
          0.49614841162351897,
          null
         ],
         "y": [
          0.025017880442982032,
          0.7192325138782043,
          null
         ],
         "z": [
          0.957488989248836,
          0.7683307559023863,
          null
         ]
        },
        {
         "hoverinfo": "none",
         "line": {
          "color": "rgb(0, 0, 255)",
          "width": 5
         },
         "mode": "lines",
         "type": "scatter3d",
         "x": [
          0.12987235809484854,
          0.30852336913113665,
          null
         ],
         "y": [
          0.025017880442982032,
          0.1721858788873435,
          null
         ],
         "z": [
          0.957488989248836,
          0.19471276785519342,
          null
         ]
        },
        {
         "hoverinfo": "none",
         "line": {
          "color": "rgb(0, 0, 255)",
          "width": 5
         },
         "mode": "lines",
         "type": "scatter3d",
         "x": [
          0.12987235809484854,
          0.986656523930182,
          null
         ],
         "y": [
          0.025017880442982032,
          0.2711141806404923,
          null
         ],
         "z": [
          0.957488989248836,
          0.0034550838898251834,
          null
         ]
        },
        {
         "hoverinfo": "none",
         "line": {
          "color": "rgb(0, 0, 255)",
          "width": 5
         },
         "mode": "lines",
         "type": "scatter3d",
         "x": [
          0.12987235809484854,
          0.2687972905566801,
          null
         ],
         "y": [
          0.025017880442982032,
          0.03299896755222731,
          null
         ],
         "z": [
          0.957488989248836,
          0.9246377222165544,
          null
         ]
        },
        {
         "hoverinfo": "none",
         "line": {
          "color": "rgb(0, 0, 255)",
          "width": 5
         },
         "mode": "lines",
         "type": "scatter3d",
         "x": [
          0.12987235809484854,
          0.8608432460452482,
          null
         ],
         "y": [
          0.025017880442982032,
          0.4015199689605583,
          null
         ],
         "z": [
          0.957488989248836,
          0.3223120849374399,
          null
         ]
        },
        {
         "hoverinfo": "none",
         "line": {
          "color": "rgb(0, 0, 255)",
          "width": 5
         },
         "mode": "lines",
         "type": "scatter3d",
         "x": [
          0.12987235809484854,
          0.4286642215135146,
          null
         ],
         "y": [
          0.025017880442982032,
          0.6375283551472624,
          null
         ],
         "z": [
          0.957488989248836,
          0.9156721120709427,
          null
         ]
        },
        {
         "hoverinfo": "none",
         "line": {
          "color": "rgb(0, 0, 255)",
          "width": 5
         },
         "mode": "lines",
         "type": "scatter3d",
         "x": [
          0.12987235809484854,
          0.9765141019989361,
          null
         ],
         "y": [
          0.025017880442982032,
          0.9017345480196465,
          null
         ],
         "z": [
          0.957488989248836,
          0.18441484951097487,
          null
         ]
        },
        {
         "hoverinfo": "none",
         "line": {
          "color": "rgb(0, 0, 255)",
          "width": 5
         },
         "mode": "lines",
         "type": "scatter3d",
         "x": [
          0.12987235809484854,
          0.530191583783487,
          null
         ],
         "y": [
          0.025017880442982032,
          0.21457713756237462,
          null
         ],
         "z": [
          0.957488989248836,
          0.09575389961162717,
          null
         ]
        },
        {
         "hoverinfo": "none",
         "line": {
          "color": "rgb(0, 0, 255)",
          "width": 5
         },
         "mode": "lines",
         "type": "scatter3d",
         "x": [
          0.12987235809484854,
          0.049950158203455164,
          null
         ],
         "y": [
          0.025017880442982032,
          0.8922344668741525,
          null
         ],
         "z": [
          0.957488989248836,
          0.05878148158995988,
          null
         ]
        },
        {
         "hoverinfo": "none",
         "line": {
          "color": "rgb(0, 0, 255)",
          "width": 5
         },
         "mode": "lines",
         "type": "scatter3d",
         "x": [
          0.12987235809484854,
          0.2715696464940396,
          null
         ],
         "y": [
          0.025017880442982032,
          0.4622192227958194,
          null
         ],
         "z": [
          0.957488989248836,
          0.5705434947623257,
          null
         ]
        },
        {
         "hoverinfo": "none",
         "line": {
          "color": "rgb(0, 0, 255)",
          "width": 5
         },
         "mode": "lines",
         "type": "scatter3d",
         "x": [
          0.12987235809484854,
          0.4278899162663261,
          null
         ],
         "y": [
          0.025017880442982032,
          0.7920272389658854,
          null
         ],
         "z": [
          0.957488989248836,
          0.6618359061751158,
          null
         ]
        },
        {
         "hoverinfo": "none",
         "line": {
          "color": "rgb(0, 0, 255)",
          "width": 5
         },
         "mode": "lines",
         "type": "scatter3d",
         "x": [
          0.12987235809484854,
          0.5744316482697385,
          null
         ],
         "y": [
          0.025017880442982032,
          0.9593998511620605,
          null
         ],
         "z": [
          0.957488989248836,
          0.23606939897821033,
          null
         ]
        },
        {
         "hoverinfo": "none",
         "line": {
          "color": "rgb(0, 0, 255)",
          "width": 5
         },
         "mode": "lines",
         "type": "scatter3d",
         "x": [
          0.12987235809484854,
          0.13924839956477575,
          null
         ],
         "y": [
          0.025017880442982032,
          0.28690521082100806,
          null
         ],
         "z": [
          0.957488989248836,
          0.3225499953284868,
          null
         ]
        },
        {
         "hoverinfo": "none",
         "line": {
          "color": "rgb(0, 0, 255)",
          "width": 5
         },
         "mode": "lines",
         "type": "scatter3d",
         "x": [
          0.12987235809484854,
          0.18104565447209664,
          null
         ],
         "y": [
          0.025017880442982032,
          0.07109565505758442,
          null
         ],
         "z": [
          0.957488989248836,
          0.902824859041693,
          null
         ]
        },
        {
         "hoverinfo": "none",
         "line": {
          "color": "rgb(0, 0, 255)",
          "width": 5
         },
         "mode": "lines",
         "type": "scatter3d",
         "x": [
          0.12987235809484854,
          0.7556724702769243,
          null
         ],
         "y": [
          0.025017880442982032,
          0.26472332125467735,
          null
         ],
         "z": [
          0.957488989248836,
          0.963384481435561,
          null
         ]
        },
        {
         "hoverinfo": "none",
         "line": {
          "color": "rgb(0, 0, 255)",
          "width": 5
         },
         "mode": "lines",
         "type": "scatter3d",
         "x": [
          0.12987235809484854,
          0.2709652679020753,
          null
         ],
         "y": [
          0.025017880442982032,
          0.15346876417346433,
          null
         ],
         "z": [
          0.957488989248836,
          0.09516601529415791,
          null
         ]
        },
        {
         "hoverinfo": "none",
         "line": {
          "color": "rgb(0, 0, 255)",
          "width": 5
         },
         "mode": "lines",
         "type": "scatter3d",
         "x": [
          0.12987235809484854,
          0.15650416795448607,
          null
         ],
         "y": [
          0.025017880442982032,
          0.8381781392690933,
          null
         ],
         "z": [
          0.957488989248836,
          0.20507727038205403,
          null
         ]
        },
        {
         "hoverinfo": "none",
         "line": {
          "color": "rgb(0, 0, 255)",
          "width": 5
         },
         "mode": "lines",
         "type": "scatter3d",
         "x": [
          0.12987235809484854,
          0.9438296094770525,
          null
         ],
         "y": [
          0.025017880442982032,
          0.29583741935851104,
          null
         ],
         "z": [
          0.957488989248836,
          0.8433771952353035,
          null
         ]
        },
        {
         "hoverinfo": "none",
         "line": {
          "color": "rgb(0, 0, 255)",
          "width": 5
         },
         "mode": "lines",
         "type": "scatter3d",
         "x": [
          0.12987235809484854,
          0.9817016754076012,
          null
         ],
         "y": [
          0.025017880442982032,
          0.4768574187072774,
          null
         ],
         "z": [
          0.957488989248836,
          0.8992734892394011,
          null
         ]
        },
        {
         "hoverinfo": "none",
         "line": {
          "color": "rgb(0, 0, 255)",
          "width": 5
         },
         "mode": "lines",
         "type": "scatter3d",
         "x": [
          0.530191583783487,
          0.32005425246101116,
          null
         ],
         "y": [
          0.21457713756237462,
          0.03450558336418574,
          null
         ],
         "z": [
          0.09575389961162717,
          0.6893756441307711,
          null
         ]
        },
        {
         "hoverinfo": "none",
         "line": {
          "color": "rgb(0, 0, 255)",
          "width": 5
         },
         "mode": "lines",
         "type": "scatter3d",
         "x": [
          0.530191583783487,
          0.49614841162351897,
          null
         ],
         "y": [
          0.21457713756237462,
          0.7192325138782043,
          null
         ],
         "z": [
          0.09575389961162717,
          0.7683307559023863,
          null
         ]
        },
        {
         "hoverinfo": "none",
         "line": {
          "color": "rgb(0, 0, 255)",
          "width": 5
         },
         "mode": "lines",
         "type": "scatter3d",
         "x": [
          0.530191583783487,
          0.986656523930182,
          null
         ],
         "y": [
          0.21457713756237462,
          0.2711141806404923,
          null
         ],
         "z": [
          0.09575389961162717,
          0.0034550838898251834,
          null
         ]
        },
        {
         "hoverinfo": "none",
         "line": {
          "color": "rgb(0, 0, 255)",
          "width": 5
         },
         "mode": "lines",
         "type": "scatter3d",
         "x": [
          0.530191583783487,
          0.4278899162663261,
          null
         ],
         "y": [
          0.21457713756237462,
          0.7920272389658854,
          null
         ],
         "z": [
          0.09575389961162717,
          0.6618359061751158,
          null
         ]
        },
        {
         "hoverinfo": "none",
         "line": {
          "color": "rgb(0, 0, 255)",
          "width": 5
         },
         "mode": "lines",
         "type": "scatter3d",
         "x": [
          0.530191583783487,
          0.4286642215135146,
          null
         ],
         "y": [
          0.21457713756237462,
          0.6375283551472624,
          null
         ],
         "z": [
          0.09575389961162717,
          0.9156721120709427,
          null
         ]
        },
        {
         "hoverinfo": "none",
         "line": {
          "color": "rgb(0, 0, 255)",
          "width": 5
         },
         "mode": "lines",
         "type": "scatter3d",
         "x": [
          0.530191583783487,
          0.8608432460452482,
          null
         ],
         "y": [
          0.21457713756237462,
          0.4015199689605583,
          null
         ],
         "z": [
          0.09575389961162717,
          0.3223120849374399,
          null
         ]
        },
        {
         "hoverinfo": "none",
         "line": {
          "color": "rgb(0, 0, 255)",
          "width": 5
         },
         "mode": "lines",
         "type": "scatter3d",
         "x": [
          0.530191583783487,
          0.7787800517923511,
          null
         ],
         "y": [
          0.21457713756237462,
          0.9103689389278221,
          null
         ],
         "z": [
          0.09575389961162717,
          0.44800239071696335,
          null
         ]
        },
        {
         "hoverinfo": "none",
         "line": {
          "color": "rgb(0, 0, 255)",
          "width": 5
         },
         "mode": "lines",
         "type": "scatter3d",
         "x": [
          0.530191583783487,
          0.049950158203455164,
          null
         ],
         "y": [
          0.21457713756237462,
          0.8922344668741525,
          null
         ],
         "z": [
          0.09575389961162717,
          0.05878148158995988,
          null
         ]
        },
        {
         "hoverinfo": "none",
         "line": {
          "color": "rgb(0, 0, 255)",
          "width": 5
         },
         "mode": "lines",
         "type": "scatter3d",
         "x": [
          0.530191583783487,
          0.13924839956477575,
          null
         ],
         "y": [
          0.21457713756237462,
          0.28690521082100806,
          null
         ],
         "z": [
          0.09575389961162717,
          0.3225499953284868,
          null
         ]
        },
        {
         "hoverinfo": "none",
         "line": {
          "color": "rgb(0, 0, 255)",
          "width": 5
         },
         "mode": "lines",
         "type": "scatter3d",
         "x": [
          0.530191583783487,
          0.30852336913113665,
          null
         ],
         "y": [
          0.21457713756237462,
          0.1721858788873435,
          null
         ],
         "z": [
          0.09575389961162717,
          0.19471276785519342,
          null
         ]
        },
        {
         "hoverinfo": "none",
         "line": {
          "color": "rgb(0, 0, 255)",
          "width": 5
         },
         "mode": "lines",
         "type": "scatter3d",
         "x": [
          0.530191583783487,
          0.2687972905566801,
          null
         ],
         "y": [
          0.21457713756237462,
          0.03299896755222731,
          null
         ],
         "z": [
          0.09575389961162717,
          0.9246377222165544,
          null
         ]
        },
        {
         "hoverinfo": "none",
         "line": {
          "color": "rgb(0, 0, 255)",
          "width": 5
         },
         "mode": "lines",
         "type": "scatter3d",
         "x": [
          0.530191583783487,
          0.2715696464940396,
          null
         ],
         "y": [
          0.21457713756237462,
          0.4622192227958194,
          null
         ],
         "z": [
          0.09575389961162717,
          0.5705434947623257,
          null
         ]
        },
        {
         "hoverinfo": "none",
         "line": {
          "color": "rgb(0, 0, 255)",
          "width": 5
         },
         "mode": "lines",
         "type": "scatter3d",
         "x": [
          0.530191583783487,
          0.9765141019989361,
          null
         ],
         "y": [
          0.21457713756237462,
          0.9017345480196465,
          null
         ],
         "z": [
          0.09575389961162717,
          0.18441484951097487,
          null
         ]
        },
        {
         "hoverinfo": "none",
         "line": {
          "color": "rgb(0, 0, 255)",
          "width": 5
         },
         "mode": "lines",
         "type": "scatter3d",
         "x": [
          0.530191583783487,
          0.18104565447209664,
          null
         ],
         "y": [
          0.21457713756237462,
          0.07109565505758442,
          null
         ],
         "z": [
          0.09575389961162717,
          0.902824859041693,
          null
         ]
        },
        {
         "hoverinfo": "none",
         "line": {
          "color": "rgb(0, 0, 255)",
          "width": 5
         },
         "mode": "lines",
         "type": "scatter3d",
         "x": [
          0.530191583783487,
          0.5744316482697385,
          null
         ],
         "y": [
          0.21457713756237462,
          0.9593998511620605,
          null
         ],
         "z": [
          0.09575389961162717,
          0.23606939897821033,
          null
         ]
        },
        {
         "hoverinfo": "none",
         "line": {
          "color": "rgb(0, 0, 255)",
          "width": 5
         },
         "mode": "lines",
         "type": "scatter3d",
         "x": [
          0.530191583783487,
          0.9817016754076012,
          null
         ],
         "y": [
          0.21457713756237462,
          0.4768574187072774,
          null
         ],
         "z": [
          0.09575389961162717,
          0.8992734892394011,
          null
         ]
        },
        {
         "hoverinfo": "none",
         "line": {
          "color": "rgb(0, 0, 255)",
          "width": 5
         },
         "mode": "lines",
         "type": "scatter3d",
         "x": [
          0.530191583783487,
          0.7556724702769243,
          null
         ],
         "y": [
          0.21457713756237462,
          0.26472332125467735,
          null
         ],
         "z": [
          0.09575389961162717,
          0.963384481435561,
          null
         ]
        },
        {
         "hoverinfo": "none",
         "line": {
          "color": "rgb(0, 0, 255)",
          "width": 5
         },
         "mode": "lines",
         "type": "scatter3d",
         "x": [
          0.530191583783487,
          0.2709652679020753,
          null
         ],
         "y": [
          0.21457713756237462,
          0.15346876417346433,
          null
         ],
         "z": [
          0.09575389961162717,
          0.09516601529415791,
          null
         ]
        },
        {
         "hoverinfo": "none",
         "line": {
          "color": "rgb(0, 0, 255)",
          "width": 5
         },
         "mode": "lines",
         "type": "scatter3d",
         "x": [
          0.530191583783487,
          0.9438296094770525,
          null
         ],
         "y": [
          0.21457713756237462,
          0.29583741935851104,
          null
         ],
         "z": [
          0.09575389961162717,
          0.8433771952353035,
          null
         ]
        },
        {
         "hoverinfo": "none",
         "line": {
          "color": "rgb(0, 0, 255)",
          "width": 5
         },
         "mode": "lines",
         "type": "scatter3d",
         "x": [
          0.530191583783487,
          0.15650416795448607,
          null
         ],
         "y": [
          0.21457713756237462,
          0.8381781392690933,
          null
         ],
         "z": [
          0.09575389961162717,
          0.20507727038205403,
          null
         ]
        },
        {
         "hoverinfo": "none",
         "line": {
          "color": "rgb(0, 0, 255)",
          "width": 5
         },
         "mode": "lines",
         "type": "scatter3d",
         "x": [
          0.7556724702769243,
          0.986656523930182,
          null
         ],
         "y": [
          0.26472332125467735,
          0.2711141806404923,
          null
         ],
         "z": [
          0.963384481435561,
          0.0034550838898251834,
          null
         ]
        },
        {
         "hoverinfo": "none",
         "line": {
          "color": "rgb(0, 0, 255)",
          "width": 5
         },
         "mode": "lines",
         "type": "scatter3d",
         "x": [
          0.7556724702769243,
          0.2687972905566801,
          null
         ],
         "y": [
          0.26472332125467735,
          0.03299896755222731,
          null
         ],
         "z": [
          0.963384481435561,
          0.9246377222165544,
          null
         ]
        },
        {
         "hoverinfo": "none",
         "line": {
          "color": "rgb(0, 0, 255)",
          "width": 5
         },
         "mode": "lines",
         "type": "scatter3d",
         "x": [
          0.7556724702769243,
          0.049950158203455164,
          null
         ],
         "y": [
          0.26472332125467735,
          0.8922344668741525,
          null
         ],
         "z": [
          0.963384481435561,
          0.05878148158995988,
          null
         ]
        },
        {
         "hoverinfo": "none",
         "line": {
          "color": "rgb(0, 0, 255)",
          "width": 5
         },
         "mode": "lines",
         "type": "scatter3d",
         "x": [
          0.7556724702769243,
          0.32005425246101116,
          null
         ],
         "y": [
          0.26472332125467735,
          0.03450558336418574,
          null
         ],
         "z": [
          0.963384481435561,
          0.6893756441307711,
          null
         ]
        },
        {
         "hoverinfo": "none",
         "line": {
          "color": "rgb(0, 0, 255)",
          "width": 5
         },
         "mode": "lines",
         "type": "scatter3d",
         "x": [
          0.7556724702769243,
          0.2715696464940396,
          null
         ],
         "y": [
          0.26472332125467735,
          0.4622192227958194,
          null
         ],
         "z": [
          0.963384481435561,
          0.5705434947623257,
          null
         ]
        },
        {
         "hoverinfo": "none",
         "line": {
          "color": "rgb(0, 0, 255)",
          "width": 5
         },
         "mode": "lines",
         "type": "scatter3d",
         "x": [
          0.7556724702769243,
          0.4286642215135146,
          null
         ],
         "y": [
          0.26472332125467735,
          0.6375283551472624,
          null
         ],
         "z": [
          0.963384481435561,
          0.9156721120709427,
          null
         ]
        },
        {
         "hoverinfo": "none",
         "line": {
          "color": "rgb(0, 0, 255)",
          "width": 5
         },
         "mode": "lines",
         "type": "scatter3d",
         "x": [
          0.7556724702769243,
          0.8608432460452482,
          null
         ],
         "y": [
          0.26472332125467735,
          0.4015199689605583,
          null
         ],
         "z": [
          0.963384481435561,
          0.3223120849374399,
          null
         ]
        },
        {
         "hoverinfo": "none",
         "line": {
          "color": "rgb(0, 0, 255)",
          "width": 5
         },
         "mode": "lines",
         "type": "scatter3d",
         "x": [
          0.7556724702769243,
          0.49614841162351897,
          null
         ],
         "y": [
          0.26472332125467735,
          0.7192325138782043,
          null
         ],
         "z": [
          0.963384481435561,
          0.7683307559023863,
          null
         ]
        },
        {
         "hoverinfo": "none",
         "line": {
          "color": "rgb(0, 0, 255)",
          "width": 5
         },
         "mode": "lines",
         "type": "scatter3d",
         "x": [
          0.7556724702769243,
          0.30852336913113665,
          null
         ],
         "y": [
          0.26472332125467735,
          0.1721858788873435,
          null
         ],
         "z": [
          0.963384481435561,
          0.19471276785519342,
          null
         ]
        },
        {
         "hoverinfo": "none",
         "line": {
          "color": "rgb(0, 0, 255)",
          "width": 5
         },
         "mode": "lines",
         "type": "scatter3d",
         "x": [
          0.7556724702769243,
          0.9765141019989361,
          null
         ],
         "y": [
          0.26472332125467735,
          0.9017345480196465,
          null
         ],
         "z": [
          0.963384481435561,
          0.18441484951097487,
          null
         ]
        },
        {
         "hoverinfo": "none",
         "line": {
          "color": "rgb(0, 0, 255)",
          "width": 5
         },
         "mode": "lines",
         "type": "scatter3d",
         "x": [
          0.7556724702769243,
          0.13924839956477575,
          null
         ],
         "y": [
          0.26472332125467735,
          0.28690521082100806,
          null
         ],
         "z": [
          0.963384481435561,
          0.3225499953284868,
          null
         ]
        },
        {
         "hoverinfo": "none",
         "line": {
          "color": "rgb(0, 0, 255)",
          "width": 5
         },
         "mode": "lines",
         "type": "scatter3d",
         "x": [
          0.7556724702769243,
          0.15650416795448607,
          null
         ],
         "y": [
          0.26472332125467735,
          0.8381781392690933,
          null
         ],
         "z": [
          0.963384481435561,
          0.20507727038205403,
          null
         ]
        },
        {
         "hoverinfo": "none",
         "line": {
          "color": "rgb(0, 0, 255)",
          "width": 5
         },
         "mode": "lines",
         "type": "scatter3d",
         "x": [
          0.7556724702769243,
          0.4278899162663261,
          null
         ],
         "y": [
          0.26472332125467735,
          0.7920272389658854,
          null
         ],
         "z": [
          0.963384481435561,
          0.6618359061751158,
          null
         ]
        },
        {
         "hoverinfo": "none",
         "line": {
          "color": "rgb(0, 0, 255)",
          "width": 5
         },
         "mode": "lines",
         "type": "scatter3d",
         "x": [
          0.7556724702769243,
          0.7787800517923511,
          null
         ],
         "y": [
          0.26472332125467735,
          0.9103689389278221,
          null
         ],
         "z": [
          0.963384481435561,
          0.44800239071696335,
          null
         ]
        },
        {
         "hoverinfo": "none",
         "line": {
          "color": "rgb(0, 0, 255)",
          "width": 5
         },
         "mode": "lines",
         "type": "scatter3d",
         "x": [
          0.7556724702769243,
          0.5744316482697385,
          null
         ],
         "y": [
          0.26472332125467735,
          0.9593998511620605,
          null
         ],
         "z": [
          0.963384481435561,
          0.23606939897821033,
          null
         ]
        },
        {
         "hoverinfo": "none",
         "line": {
          "color": "rgb(0, 0, 255)",
          "width": 5
         },
         "mode": "lines",
         "type": "scatter3d",
         "x": [
          0.7556724702769243,
          0.9817016754076012,
          null
         ],
         "y": [
          0.26472332125467735,
          0.4768574187072774,
          null
         ],
         "z": [
          0.963384481435561,
          0.8992734892394011,
          null
         ]
        },
        {
         "hoverinfo": "none",
         "line": {
          "color": "rgb(0, 0, 255)",
          "width": 5
         },
         "mode": "lines",
         "type": "scatter3d",
         "x": [
          0.7556724702769243,
          0.18104565447209664,
          null
         ],
         "y": [
          0.26472332125467735,
          0.07109565505758442,
          null
         ],
         "z": [
          0.963384481435561,
          0.902824859041693,
          null
         ]
        },
        {
         "hoverinfo": "none",
         "line": {
          "color": "rgb(0, 0, 255)",
          "width": 5
         },
         "mode": "lines",
         "type": "scatter3d",
         "x": [
          0.7556724702769243,
          0.2709652679020753,
          null
         ],
         "y": [
          0.26472332125467735,
          0.15346876417346433,
          null
         ],
         "z": [
          0.963384481435561,
          0.09516601529415791,
          null
         ]
        },
        {
         "hoverinfo": "none",
         "line": {
          "color": "rgb(0, 0, 255)",
          "width": 5
         },
         "mode": "lines",
         "type": "scatter3d",
         "x": [
          0.7556724702769243,
          0.9438296094770525,
          null
         ],
         "y": [
          0.26472332125467735,
          0.29583741935851104,
          null
         ],
         "z": [
          0.963384481435561,
          0.8433771952353035,
          null
         ]
        },
        {
         "hoverinfo": "none",
         "line": {
          "color": "rgb(0, 0, 255)",
          "width": 5
         },
         "mode": "lines",
         "type": "scatter3d",
         "x": [
          0.9438296094770525,
          0.049950158203455164,
          null
         ],
         "y": [
          0.29583741935851104,
          0.8922344668741525,
          null
         ],
         "z": [
          0.8433771952353035,
          0.05878148158995988,
          null
         ]
        },
        {
         "hoverinfo": "none",
         "line": {
          "color": "rgb(0, 0, 255)",
          "width": 5
         },
         "mode": "lines",
         "type": "scatter3d",
         "x": [
          0.9438296094770525,
          0.4278899162663261,
          null
         ],
         "y": [
          0.29583741935851104,
          0.7920272389658854,
          null
         ],
         "z": [
          0.8433771952353035,
          0.6618359061751158,
          null
         ]
        },
        {
         "hoverinfo": "none",
         "line": {
          "color": "rgb(0, 0, 255)",
          "width": 5
         },
         "mode": "lines",
         "type": "scatter3d",
         "x": [
          0.9438296094770525,
          0.7787800517923511,
          null
         ],
         "y": [
          0.29583741935851104,
          0.9103689389278221,
          null
         ],
         "z": [
          0.8433771952353035,
          0.44800239071696335,
          null
         ]
        },
        {
         "hoverinfo": "none",
         "line": {
          "color": "rgb(0, 0, 255)",
          "width": 5
         },
         "mode": "lines",
         "type": "scatter3d",
         "x": [
          0.9438296094770525,
          0.30852336913113665,
          null
         ],
         "y": [
          0.29583741935851104,
          0.1721858788873435,
          null
         ],
         "z": [
          0.8433771952353035,
          0.19471276785519342,
          null
         ]
        },
        {
         "hoverinfo": "none",
         "line": {
          "color": "rgb(0, 0, 255)",
          "width": 5
         },
         "mode": "lines",
         "type": "scatter3d",
         "x": [
          0.9438296094770525,
          0.9765141019989361,
          null
         ],
         "y": [
          0.29583741935851104,
          0.9017345480196465,
          null
         ],
         "z": [
          0.8433771952353035,
          0.18441484951097487,
          null
         ]
        },
        {
         "hoverinfo": "none",
         "line": {
          "color": "rgb(0, 0, 255)",
          "width": 5
         },
         "mode": "lines",
         "type": "scatter3d",
         "x": [
          0.9438296094770525,
          0.13924839956477575,
          null
         ],
         "y": [
          0.29583741935851104,
          0.28690521082100806,
          null
         ],
         "z": [
          0.8433771952353035,
          0.3225499953284868,
          null
         ]
        },
        {
         "hoverinfo": "none",
         "line": {
          "color": "rgb(0, 0, 255)",
          "width": 5
         },
         "mode": "lines",
         "type": "scatter3d",
         "x": [
          0.9438296094770525,
          0.2715696464940396,
          null
         ],
         "y": [
          0.29583741935851104,
          0.4622192227958194,
          null
         ],
         "z": [
          0.8433771952353035,
          0.5705434947623257,
          null
         ]
        },
        {
         "hoverinfo": "none",
         "line": {
          "color": "rgb(0, 0, 255)",
          "width": 5
         },
         "mode": "lines",
         "type": "scatter3d",
         "x": [
          0.9438296094770525,
          0.5744316482697385,
          null
         ],
         "y": [
          0.29583741935851104,
          0.9593998511620605,
          null
         ],
         "z": [
          0.8433771952353035,
          0.23606939897821033,
          null
         ]
        },
        {
         "hoverinfo": "none",
         "line": {
          "color": "rgb(0, 0, 255)",
          "width": 5
         },
         "mode": "lines",
         "type": "scatter3d",
         "x": [
          0.9438296094770525,
          0.986656523930182,
          null
         ],
         "y": [
          0.29583741935851104,
          0.2711141806404923,
          null
         ],
         "z": [
          0.8433771952353035,
          0.0034550838898251834,
          null
         ]
        },
        {
         "hoverinfo": "none",
         "line": {
          "color": "rgb(0, 0, 255)",
          "width": 5
         },
         "mode": "lines",
         "type": "scatter3d",
         "x": [
          0.9438296094770525,
          0.2687972905566801,
          null
         ],
         "y": [
          0.29583741935851104,
          0.03299896755222731,
          null
         ],
         "z": [
          0.8433771952353035,
          0.9246377222165544,
          null
         ]
        },
        {
         "hoverinfo": "none",
         "line": {
          "color": "rgb(0, 0, 255)",
          "width": 5
         },
         "mode": "lines",
         "type": "scatter3d",
         "x": [
          0.9438296094770525,
          0.18104565447209664,
          null
         ],
         "y": [
          0.29583741935851104,
          0.07109565505758442,
          null
         ],
         "z": [
          0.8433771952353035,
          0.902824859041693,
          null
         ]
        },
        {
         "hoverinfo": "none",
         "line": {
          "color": "rgb(0, 0, 255)",
          "width": 5
         },
         "mode": "lines",
         "type": "scatter3d",
         "x": [
          0.9438296094770525,
          0.9817016754076012,
          null
         ],
         "y": [
          0.29583741935851104,
          0.4768574187072774,
          null
         ],
         "z": [
          0.8433771952353035,
          0.8992734892394011,
          null
         ]
        },
        {
         "hoverinfo": "none",
         "line": {
          "color": "rgb(255, 0, 0)",
          "width": 5
         },
         "mode": "lines",
         "type": "scatter3d",
         "x": [
          0.9438296094770525,
          0.49614841162351897,
          null
         ],
         "y": [
          0.29583741935851104,
          0.7192325138782043,
          null
         ],
         "z": [
          0.8433771952353035,
          0.7683307559023863,
          null
         ]
        },
        {
         "hoverinfo": "none",
         "line": {
          "color": "rgb(0, 0, 255)",
          "width": 5
         },
         "mode": "lines",
         "type": "scatter3d",
         "x": [
          0.9438296094770525,
          0.4286642215135146,
          null
         ],
         "y": [
          0.29583741935851104,
          0.6375283551472624,
          null
         ],
         "z": [
          0.8433771952353035,
          0.9156721120709427,
          null
         ]
        },
        {
         "hoverinfo": "none",
         "line": {
          "color": "rgb(0, 0, 255)",
          "width": 5
         },
         "mode": "lines",
         "type": "scatter3d",
         "x": [
          0.9438296094770525,
          0.8608432460452482,
          null
         ],
         "y": [
          0.29583741935851104,
          0.4015199689605583,
          null
         ],
         "z": [
          0.8433771952353035,
          0.3223120849374399,
          null
         ]
        },
        {
         "hoverinfo": "none",
         "line": {
          "color": "rgb(0, 0, 255)",
          "width": 5
         },
         "mode": "lines",
         "type": "scatter3d",
         "x": [
          0.9438296094770525,
          0.32005425246101116,
          null
         ],
         "y": [
          0.29583741935851104,
          0.03450558336418574,
          null
         ],
         "z": [
          0.8433771952353035,
          0.6893756441307711,
          null
         ]
        },
        {
         "hoverinfo": "none",
         "line": {
          "color": "rgb(0, 0, 255)",
          "width": 5
         },
         "mode": "lines",
         "type": "scatter3d",
         "x": [
          0.9438296094770525,
          0.15650416795448607,
          null
         ],
         "y": [
          0.29583741935851104,
          0.8381781392690933,
          null
         ],
         "z": [
          0.8433771952353035,
          0.20507727038205403,
          null
         ]
        },
        {
         "hoverinfo": "none",
         "line": {
          "color": "rgb(0, 0, 255)",
          "width": 5
         },
         "mode": "lines",
         "type": "scatter3d",
         "x": [
          0.32005425246101116,
          0.2687972905566801,
          null
         ],
         "y": [
          0.03450558336418574,
          0.03299896755222731,
          null
         ],
         "z": [
          0.6893756441307711,
          0.9246377222165544,
          null
         ]
        },
        {
         "hoverinfo": "none",
         "line": {
          "color": "rgb(0, 0, 255)",
          "width": 5
         },
         "mode": "lines",
         "type": "scatter3d",
         "x": [
          0.32005425246101116,
          0.49614841162351897,
          null
         ],
         "y": [
          0.03450558336418574,
          0.7192325138782043,
          null
         ],
         "z": [
          0.6893756441307711,
          0.7683307559023863,
          null
         ]
        },
        {
         "hoverinfo": "none",
         "line": {
          "color": "rgb(0, 0, 255)",
          "width": 5
         },
         "mode": "lines",
         "type": "scatter3d",
         "x": [
          0.32005425246101116,
          0.30852336913113665,
          null
         ],
         "y": [
          0.03450558336418574,
          0.1721858788873435,
          null
         ],
         "z": [
          0.6893756441307711,
          0.19471276785519342,
          null
         ]
        },
        {
         "hoverinfo": "none",
         "line": {
          "color": "rgb(0, 0, 255)",
          "width": 5
         },
         "mode": "lines",
         "type": "scatter3d",
         "x": [
          0.32005425246101116,
          0.13924839956477575,
          null
         ],
         "y": [
          0.03450558336418574,
          0.28690521082100806,
          null
         ],
         "z": [
          0.6893756441307711,
          0.3225499953284868,
          null
         ]
        },
        {
         "hoverinfo": "none",
         "line": {
          "color": "rgb(0, 0, 255)",
          "width": 5
         },
         "mode": "lines",
         "type": "scatter3d",
         "x": [
          0.32005425246101116,
          0.049950158203455164,
          null
         ],
         "y": [
          0.03450558336418574,
          0.8922344668741525,
          null
         ],
         "z": [
          0.6893756441307711,
          0.05878148158995988,
          null
         ]
        },
        {
         "hoverinfo": "none",
         "line": {
          "color": "rgb(0, 0, 255)",
          "width": 5
         },
         "mode": "lines",
         "type": "scatter3d",
         "x": [
          0.32005425246101116,
          0.9765141019989361,
          null
         ],
         "y": [
          0.03450558336418574,
          0.9017345480196465,
          null
         ],
         "z": [
          0.6893756441307711,
          0.18441484951097487,
          null
         ]
        },
        {
         "hoverinfo": "none",
         "line": {
          "color": "rgb(0, 0, 255)",
          "width": 5
         },
         "mode": "lines",
         "type": "scatter3d",
         "x": [
          0.32005425246101116,
          0.4286642215135146,
          null
         ],
         "y": [
          0.03450558336418574,
          0.6375283551472624,
          null
         ],
         "z": [
          0.6893756441307711,
          0.9156721120709427,
          null
         ]
        },
        {
         "hoverinfo": "none",
         "line": {
          "color": "rgb(0, 0, 255)",
          "width": 5
         },
         "mode": "lines",
         "type": "scatter3d",
         "x": [
          0.32005425246101116,
          0.7787800517923511,
          null
         ],
         "y": [
          0.03450558336418574,
          0.9103689389278221,
          null
         ],
         "z": [
          0.6893756441307711,
          0.44800239071696335,
          null
         ]
        },
        {
         "hoverinfo": "none",
         "line": {
          "color": "rgb(0, 0, 255)",
          "width": 5
         },
         "mode": "lines",
         "type": "scatter3d",
         "x": [
          0.32005425246101116,
          0.4278899162663261,
          null
         ],
         "y": [
          0.03450558336418574,
          0.7920272389658854,
          null
         ],
         "z": [
          0.6893756441307711,
          0.6618359061751158,
          null
         ]
        },
        {
         "hoverinfo": "none",
         "line": {
          "color": "rgb(0, 0, 255)",
          "width": 5
         },
         "mode": "lines",
         "type": "scatter3d",
         "x": [
          0.32005425246101116,
          0.5744316482697385,
          null
         ],
         "y": [
          0.03450558336418574,
          0.9593998511620605,
          null
         ],
         "z": [
          0.6893756441307711,
          0.23606939897821033,
          null
         ]
        },
        {
         "hoverinfo": "none",
         "line": {
          "color": "rgb(0, 0, 255)",
          "width": 5
         },
         "mode": "lines",
         "type": "scatter3d",
         "x": [
          0.32005425246101116,
          0.986656523930182,
          null
         ],
         "y": [
          0.03450558336418574,
          0.2711141806404923,
          null
         ],
         "z": [
          0.6893756441307711,
          0.0034550838898251834,
          null
         ]
        },
        {
         "hoverinfo": "none",
         "line": {
          "color": "rgb(0, 0, 255)",
          "width": 5
         },
         "mode": "lines",
         "type": "scatter3d",
         "x": [
          0.32005425246101116,
          0.8608432460452482,
          null
         ],
         "y": [
          0.03450558336418574,
          0.4015199689605583,
          null
         ],
         "z": [
          0.6893756441307711,
          0.3223120849374399,
          null
         ]
        },
        {
         "hoverinfo": "none",
         "line": {
          "color": "rgb(0, 0, 255)",
          "width": 5
         },
         "mode": "lines",
         "type": "scatter3d",
         "x": [
          0.32005425246101116,
          0.2715696464940396,
          null
         ],
         "y": [
          0.03450558336418574,
          0.4622192227958194,
          null
         ],
         "z": [
          0.6893756441307711,
          0.5705434947623257,
          null
         ]
        },
        {
         "hoverinfo": "none",
         "line": {
          "color": "rgb(0, 0, 255)",
          "width": 5
         },
         "mode": "lines",
         "type": "scatter3d",
         "x": [
          0.32005425246101116,
          0.15650416795448607,
          null
         ],
         "y": [
          0.03450558336418574,
          0.8381781392690933,
          null
         ],
         "z": [
          0.6893756441307711,
          0.20507727038205403,
          null
         ]
        },
        {
         "hoverinfo": "none",
         "line": {
          "color": "rgb(0, 0, 255)",
          "width": 5
         },
         "mode": "lines",
         "type": "scatter3d",
         "x": [
          0.32005425246101116,
          0.2709652679020753,
          null
         ],
         "y": [
          0.03450558336418574,
          0.15346876417346433,
          null
         ],
         "z": [
          0.6893756441307711,
          0.09516601529415791,
          null
         ]
        },
        {
         "hoverinfo": "none",
         "line": {
          "color": "rgb(0, 0, 255)",
          "width": 5
         },
         "mode": "lines",
         "type": "scatter3d",
         "x": [
          0.32005425246101116,
          0.9817016754076012,
          null
         ],
         "y": [
          0.03450558336418574,
          0.4768574187072774,
          null
         ],
         "z": [
          0.6893756441307711,
          0.8992734892394011,
          null
         ]
        },
        {
         "hoverinfo": "none",
         "line": {
          "color": "rgb(0, 0, 255)",
          "width": 5
         },
         "mode": "lines",
         "type": "scatter3d",
         "x": [
          0.32005425246101116,
          0.18104565447209664,
          null
         ],
         "y": [
          0.03450558336418574,
          0.07109565505758442,
          null
         ],
         "z": [
          0.6893756441307711,
          0.902824859041693,
          null
         ]
        },
        {
         "hoverinfo": "none",
         "line": {
          "color": "rgb(0, 0, 255)",
          "width": 5
         },
         "mode": "lines",
         "type": "scatter3d",
         "x": [
          0.9817016754076012,
          0.4278899162663261,
          null
         ],
         "y": [
          0.4768574187072774,
          0.7920272389658854,
          null
         ],
         "z": [
          0.8992734892394011,
          0.6618359061751158,
          null
         ]
        },
        {
         "hoverinfo": "none",
         "line": {
          "color": "rgb(0, 0, 255)",
          "width": 5
         },
         "mode": "lines",
         "type": "scatter3d",
         "x": [
          0.9817016754076012,
          0.13924839956477575,
          null
         ],
         "y": [
          0.4768574187072774,
          0.28690521082100806,
          null
         ],
         "z": [
          0.8992734892394011,
          0.3225499953284868,
          null
         ]
        },
        {
         "hoverinfo": "none",
         "line": {
          "color": "rgb(0, 0, 255)",
          "width": 5
         },
         "mode": "lines",
         "type": "scatter3d",
         "x": [
          0.9817016754076012,
          0.30852336913113665,
          null
         ],
         "y": [
          0.4768574187072774,
          0.1721858788873435,
          null
         ],
         "z": [
          0.8992734892394011,
          0.19471276785519342,
          null
         ]
        },
        {
         "hoverinfo": "none",
         "line": {
          "color": "rgb(0, 0, 255)",
          "width": 5
         },
         "mode": "lines",
         "type": "scatter3d",
         "x": [
          0.9817016754076012,
          0.7787800517923511,
          null
         ],
         "y": [
          0.4768574187072774,
          0.9103689389278221,
          null
         ],
         "z": [
          0.8992734892394011,
          0.44800239071696335,
          null
         ]
        },
        {
         "hoverinfo": "none",
         "line": {
          "color": "rgb(0, 0, 255)",
          "width": 5
         },
         "mode": "lines",
         "type": "scatter3d",
         "x": [
          0.9817016754076012,
          0.2715696464940396,
          null
         ],
         "y": [
          0.4768574187072774,
          0.4622192227958194,
          null
         ],
         "z": [
          0.8992734892394011,
          0.5705434947623257,
          null
         ]
        },
        {
         "hoverinfo": "none",
         "line": {
          "color": "rgb(0, 0, 255)",
          "width": 5
         },
         "mode": "lines",
         "type": "scatter3d",
         "x": [
          0.9817016754076012,
          0.2687972905566801,
          null
         ],
         "y": [
          0.4768574187072774,
          0.03299896755222731,
          null
         ],
         "z": [
          0.8992734892394011,
          0.9246377222165544,
          null
         ]
        },
        {
         "hoverinfo": "none",
         "line": {
          "color": "rgb(0, 0, 255)",
          "width": 5
         },
         "mode": "lines",
         "type": "scatter3d",
         "x": [
          0.9817016754076012,
          0.5744316482697385,
          null
         ],
         "y": [
          0.4768574187072774,
          0.9593998511620605,
          null
         ],
         "z": [
          0.8992734892394011,
          0.23606939897821033,
          null
         ]
        },
        {
         "hoverinfo": "none",
         "line": {
          "color": "rgb(0, 0, 255)",
          "width": 5
         },
         "mode": "lines",
         "type": "scatter3d",
         "x": [
          0.9817016754076012,
          0.049950158203455164,
          null
         ],
         "y": [
          0.4768574187072774,
          0.8922344668741525,
          null
         ],
         "z": [
          0.8992734892394011,
          0.05878148158995988,
          null
         ]
        },
        {
         "hoverinfo": "none",
         "line": {
          "color": "rgb(0, 0, 255)",
          "width": 5
         },
         "mode": "lines",
         "type": "scatter3d",
         "x": [
          0.9817016754076012,
          0.986656523930182,
          null
         ],
         "y": [
          0.4768574187072774,
          0.2711141806404923,
          null
         ],
         "z": [
          0.8992734892394011,
          0.0034550838898251834,
          null
         ]
        },
        {
         "hoverinfo": "none",
         "line": {
          "color": "rgb(255, 0, 0)",
          "width": 5
         },
         "mode": "lines",
         "type": "scatter3d",
         "x": [
          0.9817016754076012,
          0.15650416795448607,
          null
         ],
         "y": [
          0.4768574187072774,
          0.8381781392690933,
          null
         ],
         "z": [
          0.8992734892394011,
          0.20507727038205403,
          null
         ]
        },
        {
         "hoverinfo": "none",
         "line": {
          "color": "rgb(0, 0, 255)",
          "width": 5
         },
         "mode": "lines",
         "type": "scatter3d",
         "x": [
          0.9817016754076012,
          0.4286642215135146,
          null
         ],
         "y": [
          0.4768574187072774,
          0.6375283551472624,
          null
         ],
         "z": [
          0.8992734892394011,
          0.9156721120709427,
          null
         ]
        },
        {
         "hoverinfo": "none",
         "line": {
          "color": "rgb(0, 0, 255)",
          "width": 5
         },
         "mode": "lines",
         "type": "scatter3d",
         "x": [
          0.9817016754076012,
          0.8608432460452482,
          null
         ],
         "y": [
          0.4768574187072774,
          0.4015199689605583,
          null
         ],
         "z": [
          0.8992734892394011,
          0.3223120849374399,
          null
         ]
        },
        {
         "hoverinfo": "none",
         "line": {
          "color": "rgb(255, 0, 0)",
          "width": 5
         },
         "mode": "lines",
         "type": "scatter3d",
         "x": [
          0.9817016754076012,
          0.49614841162351897,
          null
         ],
         "y": [
          0.4768574187072774,
          0.7192325138782043,
          null
         ],
         "z": [
          0.8992734892394011,
          0.7683307559023863,
          null
         ]
        },
        {
         "hoverinfo": "none",
         "line": {
          "color": "rgb(0, 0, 255)",
          "width": 5
         },
         "mode": "lines",
         "type": "scatter3d",
         "x": [
          0.9817016754076012,
          0.2709652679020753,
          null
         ],
         "y": [
          0.4768574187072774,
          0.15346876417346433,
          null
         ],
         "z": [
          0.8992734892394011,
          0.09516601529415791,
          null
         ]
        },
        {
         "hoverinfo": "none",
         "line": {
          "color": "rgb(0, 0, 255)",
          "width": 5
         },
         "mode": "lines",
         "type": "scatter3d",
         "x": [
          0.9817016754076012,
          0.9765141019989361,
          null
         ],
         "y": [
          0.4768574187072774,
          0.9017345480196465,
          null
         ],
         "z": [
          0.8992734892394011,
          0.18441484951097487,
          null
         ]
        },
        {
         "hoverinfo": "none",
         "line": {
          "color": "rgb(0, 0, 255)",
          "width": 5
         },
         "mode": "lines",
         "type": "scatter3d",
         "x": [
          0.8608432460452482,
          0.4278899162663261,
          null
         ],
         "y": [
          0.4015199689605583,
          0.7920272389658854,
          null
         ],
         "z": [
          0.3223120849374399,
          0.6618359061751158,
          null
         ]
        },
        {
         "hoverinfo": "none",
         "line": {
          "color": "rgb(0, 0, 255)",
          "width": 5
         },
         "mode": "lines",
         "type": "scatter3d",
         "x": [
          0.8608432460452482,
          0.9765141019989361,
          null
         ],
         "y": [
          0.4015199689605583,
          0.9017345480196465,
          null
         ],
         "z": [
          0.3223120849374399,
          0.18441484951097487,
          null
         ]
        },
        {
         "hoverinfo": "none",
         "line": {
          "color": "rgb(0, 0, 255)",
          "width": 5
         },
         "mode": "lines",
         "type": "scatter3d",
         "x": [
          0.8608432460452482,
          0.2687972905566801,
          null
         ],
         "y": [
          0.4015199689605583,
          0.03299896755222731,
          null
         ],
         "z": [
          0.3223120849374399,
          0.9246377222165544,
          null
         ]
        },
        {
         "hoverinfo": "none",
         "line": {
          "color": "rgb(0, 0, 255)",
          "width": 5
         },
         "mode": "lines",
         "type": "scatter3d",
         "x": [
          0.8608432460452482,
          0.30852336913113665,
          null
         ],
         "y": [
          0.4015199689605583,
          0.1721858788873435,
          null
         ],
         "z": [
          0.3223120849374399,
          0.19471276785519342,
          null
         ]
        },
        {
         "hoverinfo": "none",
         "line": {
          "color": "rgb(0, 0, 255)",
          "width": 5
         },
         "mode": "lines",
         "type": "scatter3d",
         "x": [
          0.8608432460452482,
          0.049950158203455164,
          null
         ],
         "y": [
          0.4015199689605583,
          0.8922344668741525,
          null
         ],
         "z": [
          0.3223120849374399,
          0.05878148158995988,
          null
         ]
        },
        {
         "hoverinfo": "none",
         "line": {
          "color": "rgb(0, 0, 255)",
          "width": 5
         },
         "mode": "lines",
         "type": "scatter3d",
         "x": [
          0.8608432460452482,
          0.2715696464940396,
          null
         ],
         "y": [
          0.4015199689605583,
          0.4622192227958194,
          null
         ],
         "z": [
          0.3223120849374399,
          0.5705434947623257,
          null
         ]
        },
        {
         "hoverinfo": "none",
         "line": {
          "color": "rgb(0, 0, 255)",
          "width": 5
         },
         "mode": "lines",
         "type": "scatter3d",
         "x": [
          0.8608432460452482,
          0.986656523930182,
          null
         ],
         "y": [
          0.4015199689605583,
          0.2711141806404923,
          null
         ],
         "z": [
          0.3223120849374399,
          0.0034550838898251834,
          null
         ]
        },
        {
         "hoverinfo": "none",
         "line": {
          "color": "rgb(0, 0, 255)",
          "width": 5
         },
         "mode": "lines",
         "type": "scatter3d",
         "x": [
          0.8608432460452482,
          0.7787800517923511,
          null
         ],
         "y": [
          0.4015199689605583,
          0.9103689389278221,
          null
         ],
         "z": [
          0.3223120849374399,
          0.44800239071696335,
          null
         ]
        },
        {
         "hoverinfo": "none",
         "line": {
          "color": "rgb(0, 0, 255)",
          "width": 5
         },
         "mode": "lines",
         "type": "scatter3d",
         "x": [
          0.8608432460452482,
          0.13924839956477575,
          null
         ],
         "y": [
          0.4015199689605583,
          0.28690521082100806,
          null
         ],
         "z": [
          0.3223120849374399,
          0.3225499953284868,
          null
         ]
        },
        {
         "hoverinfo": "none",
         "line": {
          "color": "rgb(0, 0, 255)",
          "width": 5
         },
         "mode": "lines",
         "type": "scatter3d",
         "x": [
          0.8608432460452482,
          0.15650416795448607,
          null
         ],
         "y": [
          0.4015199689605583,
          0.8381781392690933,
          null
         ],
         "z": [
          0.3223120849374399,
          0.20507727038205403,
          null
         ]
        },
        {
         "hoverinfo": "none",
         "line": {
          "color": "rgb(0, 0, 255)",
          "width": 5
         },
         "mode": "lines",
         "type": "scatter3d",
         "x": [
          0.8608432460452482,
          0.4286642215135146,
          null
         ],
         "y": [
          0.4015199689605583,
          0.6375283551472624,
          null
         ],
         "z": [
          0.3223120849374399,
          0.9156721120709427,
          null
         ]
        },
        {
         "hoverinfo": "none",
         "line": {
          "color": "rgb(0, 0, 255)",
          "width": 5
         },
         "mode": "lines",
         "type": "scatter3d",
         "x": [
          0.8608432460452482,
          0.5744316482697385,
          null
         ],
         "y": [
          0.4015199689605583,
          0.9593998511620605,
          null
         ],
         "z": [
          0.3223120849374399,
          0.23606939897821033,
          null
         ]
        },
        {
         "hoverinfo": "none",
         "line": {
          "color": "rgb(0, 0, 255)",
          "width": 5
         },
         "mode": "lines",
         "type": "scatter3d",
         "x": [
          0.8608432460452482,
          0.49614841162351897,
          null
         ],
         "y": [
          0.4015199689605583,
          0.7192325138782043,
          null
         ],
         "z": [
          0.3223120849374399,
          0.7683307559023863,
          null
         ]
        },
        {
         "hoverinfo": "none",
         "line": {
          "color": "rgb(0, 0, 255)",
          "width": 5
         },
         "mode": "lines",
         "type": "scatter3d",
         "x": [
          0.8608432460452482,
          0.2709652679020753,
          null
         ],
         "y": [
          0.4015199689605583,
          0.15346876417346433,
          null
         ],
         "z": [
          0.3223120849374399,
          0.09516601529415791,
          null
         ]
        },
        {
         "hoverinfo": "none",
         "line": {
          "color": "rgb(0, 0, 255)",
          "width": 5
         },
         "mode": "lines",
         "type": "scatter3d",
         "x": [
          0.8608432460452482,
          0.18104565447209664,
          null
         ],
         "y": [
          0.4015199689605583,
          0.07109565505758442,
          null
         ],
         "z": [
          0.3223120849374399,
          0.902824859041693,
          null
         ]
        },
        {
         "hoverinfo": "none",
         "line": {
          "color": "rgb(0, 0, 255)",
          "width": 5
         },
         "mode": "lines",
         "type": "scatter3d",
         "x": [
          0.30852336913113665,
          0.15650416795448607,
          null
         ],
         "y": [
          0.1721858788873435,
          0.8381781392690933,
          null
         ],
         "z": [
          0.19471276785519342,
          0.20507727038205403,
          null
         ]
        },
        {
         "hoverinfo": "none",
         "line": {
          "color": "rgb(0, 0, 255)",
          "width": 5
         },
         "mode": "lines",
         "type": "scatter3d",
         "x": [
          0.30852336913113665,
          0.4278899162663261,
          null
         ],
         "y": [
          0.1721858788873435,
          0.7920272389658854,
          null
         ],
         "z": [
          0.19471276785519342,
          0.6618359061751158,
          null
         ]
        },
        {
         "hoverinfo": "none",
         "line": {
          "color": "rgb(0, 0, 255)",
          "width": 5
         },
         "mode": "lines",
         "type": "scatter3d",
         "x": [
          0.30852336913113665,
          0.13924839956477575,
          null
         ],
         "y": [
          0.1721858788873435,
          0.28690521082100806,
          null
         ],
         "z": [
          0.19471276785519342,
          0.3225499953284868,
          null
         ]
        },
        {
         "hoverinfo": "none",
         "line": {
          "color": "rgb(0, 0, 255)",
          "width": 5
         },
         "mode": "lines",
         "type": "scatter3d",
         "x": [
          0.30852336913113665,
          0.049950158203455164,
          null
         ],
         "y": [
          0.1721858788873435,
          0.8922344668741525,
          null
         ],
         "z": [
          0.19471276785519342,
          0.05878148158995988,
          null
         ]
        },
        {
         "hoverinfo": "none",
         "line": {
          "color": "rgb(0, 0, 255)",
          "width": 5
         },
         "mode": "lines",
         "type": "scatter3d",
         "x": [
          0.30852336913113665,
          0.2715696464940396,
          null
         ],
         "y": [
          0.1721858788873435,
          0.4622192227958194,
          null
         ],
         "z": [
          0.19471276785519342,
          0.5705434947623257,
          null
         ]
        },
        {
         "hoverinfo": "none",
         "line": {
          "color": "rgb(0, 0, 255)",
          "width": 5
         },
         "mode": "lines",
         "type": "scatter3d",
         "x": [
          0.30852336913113665,
          0.2687972905566801,
          null
         ],
         "y": [
          0.1721858788873435,
          0.03299896755222731,
          null
         ],
         "z": [
          0.19471276785519342,
          0.9246377222165544,
          null
         ]
        },
        {
         "hoverinfo": "none",
         "line": {
          "color": "rgb(0, 0, 255)",
          "width": 5
         },
         "mode": "lines",
         "type": "scatter3d",
         "x": [
          0.30852336913113665,
          0.5744316482697385,
          null
         ],
         "y": [
          0.1721858788873435,
          0.9593998511620605,
          null
         ],
         "z": [
          0.19471276785519342,
          0.23606939897821033,
          null
         ]
        },
        {
         "hoverinfo": "none",
         "line": {
          "color": "rgb(0, 0, 255)",
          "width": 5
         },
         "mode": "lines",
         "type": "scatter3d",
         "x": [
          0.30852336913113665,
          0.18104565447209664,
          null
         ],
         "y": [
          0.1721858788873435,
          0.07109565505758442,
          null
         ],
         "z": [
          0.19471276785519342,
          0.902824859041693,
          null
         ]
        },
        {
         "hoverinfo": "none",
         "line": {
          "color": "rgb(0, 0, 255)",
          "width": 5
         },
         "mode": "lines",
         "type": "scatter3d",
         "x": [
          0.30852336913113665,
          0.7787800517923511,
          null
         ],
         "y": [
          0.1721858788873435,
          0.9103689389278221,
          null
         ],
         "z": [
          0.19471276785519342,
          0.44800239071696335,
          null
         ]
        },
        {
         "hoverinfo": "none",
         "line": {
          "color": "rgb(0, 0, 255)",
          "width": 5
         },
         "mode": "lines",
         "type": "scatter3d",
         "x": [
          0.30852336913113665,
          0.986656523930182,
          null
         ],
         "y": [
          0.1721858788873435,
          0.2711141806404923,
          null
         ],
         "z": [
          0.19471276785519342,
          0.0034550838898251834,
          null
         ]
        },
        {
         "hoverinfo": "none",
         "line": {
          "color": "rgb(0, 0, 255)",
          "width": 5
         },
         "mode": "lines",
         "type": "scatter3d",
         "x": [
          0.30852336913113665,
          0.4286642215135146,
          null
         ],
         "y": [
          0.1721858788873435,
          0.6375283551472624,
          null
         ],
         "z": [
          0.19471276785519342,
          0.9156721120709427,
          null
         ]
        },
        {
         "hoverinfo": "none",
         "line": {
          "color": "rgb(0, 0, 255)",
          "width": 5
         },
         "mode": "lines",
         "type": "scatter3d",
         "x": [
          0.30852336913113665,
          0.9765141019989361,
          null
         ],
         "y": [
          0.1721858788873435,
          0.9017345480196465,
          null
         ],
         "z": [
          0.19471276785519342,
          0.18441484951097487,
          null
         ]
        },
        {
         "hoverinfo": "none",
         "line": {
          "color": "rgb(0, 0, 255)",
          "width": 5
         },
         "mode": "lines",
         "type": "scatter3d",
         "x": [
          0.30852336913113665,
          0.49614841162351897,
          null
         ],
         "y": [
          0.1721858788873435,
          0.7192325138782043,
          null
         ],
         "z": [
          0.19471276785519342,
          0.7683307559023863,
          null
         ]
        },
        {
         "hoverinfo": "none",
         "line": {
          "color": "rgb(0, 0, 255)",
          "width": 5
         },
         "mode": "lines",
         "type": "scatter3d",
         "x": [
          0.30852336913113665,
          0.2709652679020753,
          null
         ],
         "y": [
          0.1721858788873435,
          0.15346876417346433,
          null
         ],
         "z": [
          0.19471276785519342,
          0.09516601529415791,
          null
         ]
        },
        {
         "hoverinfo": "none",
         "line": {
          "color": "rgb(0, 0, 255)",
          "width": 5
         },
         "mode": "lines",
         "type": "scatter3d",
         "x": [
          0.049950158203455164,
          0.49614841162351897,
          null
         ],
         "y": [
          0.8922344668741525,
          0.7192325138782043,
          null
         ],
         "z": [
          0.05878148158995988,
          0.7683307559023863,
          null
         ]
        },
        {
         "hoverinfo": "none",
         "line": {
          "color": "rgb(0, 0, 255)",
          "width": 5
         },
         "mode": "lines",
         "type": "scatter3d",
         "x": [
          0.049950158203455164,
          0.986656523930182,
          null
         ],
         "y": [
          0.8922344668741525,
          0.2711141806404923,
          null
         ],
         "z": [
          0.05878148158995988,
          0.0034550838898251834,
          null
         ]
        },
        {
         "hoverinfo": "none",
         "line": {
          "color": "rgb(0, 0, 255)",
          "width": 5
         },
         "mode": "lines",
         "type": "scatter3d",
         "x": [
          0.049950158203455164,
          0.7787800517923511,
          null
         ],
         "y": [
          0.8922344668741525,
          0.9103689389278221,
          null
         ],
         "z": [
          0.05878148158995988,
          0.44800239071696335,
          null
         ]
        },
        {
         "hoverinfo": "none",
         "line": {
          "color": "rgb(0, 0, 255)",
          "width": 5
         },
         "mode": "lines",
         "type": "scatter3d",
         "x": [
          0.049950158203455164,
          0.13924839956477575,
          null
         ],
         "y": [
          0.8922344668741525,
          0.28690521082100806,
          null
         ],
         "z": [
          0.05878148158995988,
          0.3225499953284868,
          null
         ]
        },
        {
         "hoverinfo": "none",
         "line": {
          "color": "rgb(0, 0, 255)",
          "width": 5
         },
         "mode": "lines",
         "type": "scatter3d",
         "x": [
          0.049950158203455164,
          0.4278899162663261,
          null
         ],
         "y": [
          0.8922344668741525,
          0.7920272389658854,
          null
         ],
         "z": [
          0.05878148158995988,
          0.6618359061751158,
          null
         ]
        },
        {
         "hoverinfo": "none",
         "line": {
          "color": "rgb(0, 0, 255)",
          "width": 5
         },
         "mode": "lines",
         "type": "scatter3d",
         "x": [
          0.049950158203455164,
          0.18104565447209664,
          null
         ],
         "y": [
          0.8922344668741525,
          0.07109565505758442,
          null
         ],
         "z": [
          0.05878148158995988,
          0.902824859041693,
          null
         ]
        },
        {
         "hoverinfo": "none",
         "line": {
          "color": "rgb(0, 0, 255)",
          "width": 5
         },
         "mode": "lines",
         "type": "scatter3d",
         "x": [
          0.049950158203455164,
          0.2709652679020753,
          null
         ],
         "y": [
          0.8922344668741525,
          0.15346876417346433,
          null
         ],
         "z": [
          0.05878148158995988,
          0.09516601529415791,
          null
         ]
        },
        {
         "hoverinfo": "none",
         "line": {
          "color": "rgb(0, 0, 255)",
          "width": 5
         },
         "mode": "lines",
         "type": "scatter3d",
         "x": [
          0.049950158203455164,
          0.2687972905566801,
          null
         ],
         "y": [
          0.8922344668741525,
          0.03299896755222731,
          null
         ],
         "z": [
          0.05878148158995988,
          0.9246377222165544,
          null
         ]
        },
        {
         "hoverinfo": "none",
         "line": {
          "color": "rgb(0, 0, 255)",
          "width": 5
         },
         "mode": "lines",
         "type": "scatter3d",
         "x": [
          0.049950158203455164,
          0.2715696464940396,
          null
         ],
         "y": [
          0.8922344668741525,
          0.4622192227958194,
          null
         ],
         "z": [
          0.05878148158995988,
          0.5705434947623257,
          null
         ]
        },
        {
         "hoverinfo": "none",
         "line": {
          "color": "rgb(0, 0, 255)",
          "width": 5
         },
         "mode": "lines",
         "type": "scatter3d",
         "x": [
          0.049950158203455164,
          0.15650416795448607,
          null
         ],
         "y": [
          0.8922344668741525,
          0.8381781392690933,
          null
         ],
         "z": [
          0.05878148158995988,
          0.20507727038205403,
          null
         ]
        },
        {
         "hoverinfo": "none",
         "line": {
          "color": "rgb(0, 0, 255)",
          "width": 5
         },
         "mode": "lines",
         "type": "scatter3d",
         "x": [
          0.049950158203455164,
          0.5744316482697385,
          null
         ],
         "y": [
          0.8922344668741525,
          0.9593998511620605,
          null
         ],
         "z": [
          0.05878148158995988,
          0.23606939897821033,
          null
         ]
        },
        {
         "hoverinfo": "none",
         "line": {
          "color": "rgb(0, 0, 255)",
          "width": 5
         },
         "mode": "lines",
         "type": "scatter3d",
         "x": [
          0.049950158203455164,
          0.9765141019989361,
          null
         ],
         "y": [
          0.8922344668741525,
          0.9017345480196465,
          null
         ],
         "z": [
          0.05878148158995988,
          0.18441484951097487,
          null
         ]
        },
        {
         "hoverinfo": "none",
         "line": {
          "color": "rgb(0, 0, 255)",
          "width": 5
         },
         "mode": "lines",
         "type": "scatter3d",
         "x": [
          0.049950158203455164,
          0.4286642215135146,
          null
         ],
         "y": [
          0.8922344668741525,
          0.6375283551472624,
          null
         ],
         "z": [
          0.05878148158995988,
          0.9156721120709427,
          null
         ]
        },
        {
         "hoverinfo": "none",
         "line": {
          "color": "rgb(0, 0, 255)",
          "width": 5
         },
         "mode": "lines",
         "type": "scatter3d",
         "x": [
          0.2687972905566801,
          0.49614841162351897,
          null
         ],
         "y": [
          0.03299896755222731,
          0.7192325138782043,
          null
         ],
         "z": [
          0.9246377222165544,
          0.7683307559023863,
          null
         ]
        },
        {
         "hoverinfo": "none",
         "line": {
          "color": "rgb(0, 0, 255)",
          "width": 5
         },
         "mode": "lines",
         "type": "scatter3d",
         "x": [
          0.2687972905566801,
          0.986656523930182,
          null
         ],
         "y": [
          0.03299896755222731,
          0.2711141806404923,
          null
         ],
         "z": [
          0.9246377222165544,
          0.0034550838898251834,
          null
         ]
        },
        {
         "hoverinfo": "none",
         "line": {
          "color": "rgb(0, 0, 255)",
          "width": 5
         },
         "mode": "lines",
         "type": "scatter3d",
         "x": [
          0.2687972905566801,
          0.5744316482697385,
          null
         ],
         "y": [
          0.03299896755222731,
          0.9593998511620605,
          null
         ],
         "z": [
          0.9246377222165544,
          0.23606939897821033,
          null
         ]
        },
        {
         "hoverinfo": "none",
         "line": {
          "color": "rgb(0, 0, 255)",
          "width": 5
         },
         "mode": "lines",
         "type": "scatter3d",
         "x": [
          0.2687972905566801,
          0.4286642215135146,
          null
         ],
         "y": [
          0.03299896755222731,
          0.6375283551472624,
          null
         ],
         "z": [
          0.9246377222165544,
          0.9156721120709427,
          null
         ]
        },
        {
         "hoverinfo": "none",
         "line": {
          "color": "rgb(0, 0, 255)",
          "width": 5
         },
         "mode": "lines",
         "type": "scatter3d",
         "x": [
          0.2687972905566801,
          0.4278899162663261,
          null
         ],
         "y": [
          0.03299896755222731,
          0.7920272389658854,
          null
         ],
         "z": [
          0.9246377222165544,
          0.6618359061751158,
          null
         ]
        },
        {
         "hoverinfo": "none",
         "line": {
          "color": "rgb(0, 0, 255)",
          "width": 5
         },
         "mode": "lines",
         "type": "scatter3d",
         "x": [
          0.2687972905566801,
          0.2715696464940396,
          null
         ],
         "y": [
          0.03299896755222731,
          0.4622192227958194,
          null
         ],
         "z": [
          0.9246377222165544,
          0.5705434947623257,
          null
         ]
        },
        {
         "hoverinfo": "none",
         "line": {
          "color": "rgb(0, 0, 255)",
          "width": 5
         },
         "mode": "lines",
         "type": "scatter3d",
         "x": [
          0.2687972905566801,
          0.7787800517923511,
          null
         ],
         "y": [
          0.03299896755222731,
          0.9103689389278221,
          null
         ],
         "z": [
          0.9246377222165544,
          0.44800239071696335,
          null
         ]
        },
        {
         "hoverinfo": "none",
         "line": {
          "color": "rgb(0, 0, 255)",
          "width": 5
         },
         "mode": "lines",
         "type": "scatter3d",
         "x": [
          0.2687972905566801,
          0.9765141019989361,
          null
         ],
         "y": [
          0.03299896755222731,
          0.9017345480196465,
          null
         ],
         "z": [
          0.9246377222165544,
          0.18441484951097487,
          null
         ]
        },
        {
         "hoverinfo": "none",
         "line": {
          "color": "rgb(0, 0, 255)",
          "width": 5
         },
         "mode": "lines",
         "type": "scatter3d",
         "x": [
          0.2687972905566801,
          0.15650416795448607,
          null
         ],
         "y": [
          0.03299896755222731,
          0.8381781392690933,
          null
         ],
         "z": [
          0.9246377222165544,
          0.20507727038205403,
          null
         ]
        },
        {
         "hoverinfo": "none",
         "line": {
          "color": "rgb(0, 0, 255)",
          "width": 5
         },
         "mode": "lines",
         "type": "scatter3d",
         "x": [
          0.2687972905566801,
          0.13924839956477575,
          null
         ],
         "y": [
          0.03299896755222731,
          0.28690521082100806,
          null
         ],
         "z": [
          0.9246377222165544,
          0.3225499953284868,
          null
         ]
        },
        {
         "hoverinfo": "none",
         "line": {
          "color": "rgb(0, 0, 255)",
          "width": 5
         },
         "mode": "lines",
         "type": "scatter3d",
         "x": [
          0.2687972905566801,
          0.2709652679020753,
          null
         ],
         "y": [
          0.03299896755222731,
          0.15346876417346433,
          null
         ],
         "z": [
          0.9246377222165544,
          0.09516601529415791,
          null
         ]
        },
        {
         "hoverinfo": "none",
         "line": {
          "color": "rgb(0, 0, 255)",
          "width": 5
         },
         "mode": "lines",
         "type": "scatter3d",
         "x": [
          0.2687972905566801,
          0.18104565447209664,
          null
         ],
         "y": [
          0.03299896755222731,
          0.07109565505758442,
          null
         ],
         "z": [
          0.9246377222165544,
          0.902824859041693,
          null
         ]
        },
        {
         "hoverinfo": "none",
         "line": {
          "color": "rgb(0, 0, 255)",
          "width": 5
         },
         "mode": "lines",
         "type": "scatter3d",
         "x": [
          0.2709652679020753,
          0.986656523930182,
          null
         ],
         "y": [
          0.15346876417346433,
          0.2711141806404923,
          null
         ],
         "z": [
          0.09516601529415791,
          0.0034550838898251834,
          null
         ]
        },
        {
         "hoverinfo": "none",
         "line": {
          "color": "rgb(0, 0, 255)",
          "width": 5
         },
         "mode": "lines",
         "type": "scatter3d",
         "x": [
          0.2709652679020753,
          0.4278899162663261,
          null
         ],
         "y": [
          0.15346876417346433,
          0.7920272389658854,
          null
         ],
         "z": [
          0.09516601529415791,
          0.6618359061751158,
          null
         ]
        },
        {
         "hoverinfo": "none",
         "line": {
          "color": "rgb(0, 0, 255)",
          "width": 5
         },
         "mode": "lines",
         "type": "scatter3d",
         "x": [
          0.2709652679020753,
          0.2715696464940396,
          null
         ],
         "y": [
          0.15346876417346433,
          0.4622192227958194,
          null
         ],
         "z": [
          0.09516601529415791,
          0.5705434947623257,
          null
         ]
        },
        {
         "hoverinfo": "none",
         "line": {
          "color": "rgb(0, 0, 255)",
          "width": 5
         },
         "mode": "lines",
         "type": "scatter3d",
         "x": [
          0.2709652679020753,
          0.4286642215135146,
          null
         ],
         "y": [
          0.15346876417346433,
          0.6375283551472624,
          null
         ],
         "z": [
          0.09516601529415791,
          0.9156721120709427,
          null
         ]
        },
        {
         "hoverinfo": "none",
         "line": {
          "color": "rgb(0, 0, 255)",
          "width": 5
         },
         "mode": "lines",
         "type": "scatter3d",
         "x": [
          0.2709652679020753,
          0.5744316482697385,
          null
         ],
         "y": [
          0.15346876417346433,
          0.9593998511620605,
          null
         ],
         "z": [
          0.09516601529415791,
          0.23606939897821033,
          null
         ]
        },
        {
         "hoverinfo": "none",
         "line": {
          "color": "rgb(0, 0, 255)",
          "width": 5
         },
         "mode": "lines",
         "type": "scatter3d",
         "x": [
          0.2709652679020753,
          0.9765141019989361,
          null
         ],
         "y": [
          0.15346876417346433,
          0.9017345480196465,
          null
         ],
         "z": [
          0.09516601529415791,
          0.18441484951097487,
          null
         ]
        },
        {
         "hoverinfo": "none",
         "line": {
          "color": "rgb(0, 0, 255)",
          "width": 5
         },
         "mode": "lines",
         "type": "scatter3d",
         "x": [
          0.2709652679020753,
          0.13924839956477575,
          null
         ],
         "y": [
          0.15346876417346433,
          0.28690521082100806,
          null
         ],
         "z": [
          0.09516601529415791,
          0.3225499953284868,
          null
         ]
        },
        {
         "hoverinfo": "none",
         "line": {
          "color": "rgb(0, 0, 255)",
          "width": 5
         },
         "mode": "lines",
         "type": "scatter3d",
         "x": [
          0.2709652679020753,
          0.7787800517923511,
          null
         ],
         "y": [
          0.15346876417346433,
          0.9103689389278221,
          null
         ],
         "z": [
          0.09516601529415791,
          0.44800239071696335,
          null
         ]
        },
        {
         "hoverinfo": "none",
         "line": {
          "color": "rgb(0, 0, 255)",
          "width": 5
         },
         "mode": "lines",
         "type": "scatter3d",
         "x": [
          0.2709652679020753,
          0.15650416795448607,
          null
         ],
         "y": [
          0.15346876417346433,
          0.8381781392690933,
          null
         ],
         "z": [
          0.09516601529415791,
          0.20507727038205403,
          null
         ]
        },
        {
         "hoverinfo": "none",
         "line": {
          "color": "rgb(0, 0, 255)",
          "width": 5
         },
         "mode": "lines",
         "type": "scatter3d",
         "x": [
          0.2709652679020753,
          0.49614841162351897,
          null
         ],
         "y": [
          0.15346876417346433,
          0.7192325138782043,
          null
         ],
         "z": [
          0.09516601529415791,
          0.7683307559023863,
          null
         ]
        },
        {
         "hoverinfo": "none",
         "line": {
          "color": "rgb(255, 0, 0)",
          "width": 5
         },
         "mode": "lines",
         "type": "scatter3d",
         "x": [
          0.2709652679020753,
          0.18104565447209664,
          null
         ],
         "y": [
          0.15346876417346433,
          0.07109565505758442,
          null
         ],
         "z": [
          0.09516601529415791,
          0.902824859041693,
          null
         ]
        },
        {
         "hoverinfo": "none",
         "line": {
          "color": "rgb(0, 0, 255)",
          "width": 5
         },
         "mode": "lines",
         "type": "scatter3d",
         "x": [
          0.2715696464940396,
          0.4278899162663261,
          null
         ],
         "y": [
          0.4622192227958194,
          0.7920272389658854,
          null
         ],
         "z": [
          0.5705434947623257,
          0.6618359061751158,
          null
         ]
        },
        {
         "hoverinfo": "none",
         "line": {
          "color": "rgb(0, 0, 255)",
          "width": 5
         },
         "mode": "lines",
         "type": "scatter3d",
         "x": [
          0.2715696464940396,
          0.986656523930182,
          null
         ],
         "y": [
          0.4622192227958194,
          0.2711141806404923,
          null
         ],
         "z": [
          0.5705434947623257,
          0.0034550838898251834,
          null
         ]
        },
        {
         "hoverinfo": "none",
         "line": {
          "color": "rgb(0, 0, 255)",
          "width": 5
         },
         "mode": "lines",
         "type": "scatter3d",
         "x": [
          0.2715696464940396,
          0.7787800517923511,
          null
         ],
         "y": [
          0.4622192227958194,
          0.9103689389278221,
          null
         ],
         "z": [
          0.5705434947623257,
          0.44800239071696335,
          null
         ]
        },
        {
         "hoverinfo": "none",
         "line": {
          "color": "rgb(0, 0, 255)",
          "width": 5
         },
         "mode": "lines",
         "type": "scatter3d",
         "x": [
          0.2715696464940396,
          0.13924839956477575,
          null
         ],
         "y": [
          0.4622192227958194,
          0.28690521082100806,
          null
         ],
         "z": [
          0.5705434947623257,
          0.3225499953284868,
          null
         ]
        },
        {
         "hoverinfo": "none",
         "line": {
          "color": "rgb(0, 0, 255)",
          "width": 5
         },
         "mode": "lines",
         "type": "scatter3d",
         "x": [
          0.2715696464940396,
          0.5744316482697385,
          null
         ],
         "y": [
          0.4622192227958194,
          0.9593998511620605,
          null
         ],
         "z": [
          0.5705434947623257,
          0.23606939897821033,
          null
         ]
        },
        {
         "hoverinfo": "none",
         "line": {
          "color": "rgb(0, 0, 255)",
          "width": 5
         },
         "mode": "lines",
         "type": "scatter3d",
         "x": [
          0.2715696464940396,
          0.9765141019989361,
          null
         ],
         "y": [
          0.4622192227958194,
          0.9017345480196465,
          null
         ],
         "z": [
          0.5705434947623257,
          0.18441484951097487,
          null
         ]
        },
        {
         "hoverinfo": "none",
         "line": {
          "color": "rgb(0, 0, 255)",
          "width": 5
         },
         "mode": "lines",
         "type": "scatter3d",
         "x": [
          0.2715696464940396,
          0.15650416795448607,
          null
         ],
         "y": [
          0.4622192227958194,
          0.8381781392690933,
          null
         ],
         "z": [
          0.5705434947623257,
          0.20507727038205403,
          null
         ]
        },
        {
         "hoverinfo": "none",
         "line": {
          "color": "rgb(0, 0, 255)",
          "width": 5
         },
         "mode": "lines",
         "type": "scatter3d",
         "x": [
          0.2715696464940396,
          0.49614841162351897,
          null
         ],
         "y": [
          0.4622192227958194,
          0.7192325138782043,
          null
         ],
         "z": [
          0.5705434947623257,
          0.7683307559023863,
          null
         ]
        },
        {
         "hoverinfo": "none",
         "line": {
          "color": "rgb(0, 0, 255)",
          "width": 5
         },
         "mode": "lines",
         "type": "scatter3d",
         "x": [
          0.2715696464940396,
          0.4286642215135146,
          null
         ],
         "y": [
          0.4622192227958194,
          0.6375283551472624,
          null
         ],
         "z": [
          0.5705434947623257,
          0.9156721120709427,
          null
         ]
        },
        {
         "hoverinfo": "none",
         "line": {
          "color": "rgb(0, 0, 255)",
          "width": 5
         },
         "mode": "lines",
         "type": "scatter3d",
         "x": [
          0.2715696464940396,
          0.18104565447209664,
          null
         ],
         "y": [
          0.4622192227958194,
          0.07109565505758442,
          null
         ],
         "z": [
          0.5705434947623257,
          0.902824859041693,
          null
         ]
        },
        {
         "hoverinfo": "none",
         "line": {
          "color": "rgb(0, 0, 255)",
          "width": 5
         },
         "mode": "lines",
         "type": "scatter3d",
         "x": [
          0.13924839956477575,
          0.49614841162351897,
          null
         ],
         "y": [
          0.28690521082100806,
          0.7192325138782043,
          null
         ],
         "z": [
          0.3225499953284868,
          0.7683307559023863,
          null
         ]
        },
        {
         "hoverinfo": "none",
         "line": {
          "color": "rgb(0, 0, 255)",
          "width": 5
         },
         "mode": "lines",
         "type": "scatter3d",
         "x": [
          0.13924839956477575,
          0.4278899162663261,
          null
         ],
         "y": [
          0.28690521082100806,
          0.7920272389658854,
          null
         ],
         "z": [
          0.3225499953284868,
          0.6618359061751158,
          null
         ]
        },
        {
         "hoverinfo": "none",
         "line": {
          "color": "rgb(0, 0, 255)",
          "width": 5
         },
         "mode": "lines",
         "type": "scatter3d",
         "x": [
          0.13924839956477575,
          0.7787800517923511,
          null
         ],
         "y": [
          0.28690521082100806,
          0.9103689389278221,
          null
         ],
         "z": [
          0.3225499953284868,
          0.44800239071696335,
          null
         ]
        },
        {
         "hoverinfo": "none",
         "line": {
          "color": "rgb(0, 0, 255)",
          "width": 5
         },
         "mode": "lines",
         "type": "scatter3d",
         "x": [
          0.13924839956477575,
          0.15650416795448607,
          null
         ],
         "y": [
          0.28690521082100806,
          0.8381781392690933,
          null
         ],
         "z": [
          0.3225499953284868,
          0.20507727038205403,
          null
         ]
        },
        {
         "hoverinfo": "none",
         "line": {
          "color": "rgb(0, 0, 255)",
          "width": 5
         },
         "mode": "lines",
         "type": "scatter3d",
         "x": [
          0.13924839956477575,
          0.5744316482697385,
          null
         ],
         "y": [
          0.28690521082100806,
          0.9593998511620605,
          null
         ],
         "z": [
          0.3225499953284868,
          0.23606939897821033,
          null
         ]
        },
        {
         "hoverinfo": "none",
         "line": {
          "color": "rgb(0, 0, 255)",
          "width": 5
         },
         "mode": "lines",
         "type": "scatter3d",
         "x": [
          0.13924839956477575,
          0.4286642215135146,
          null
         ],
         "y": [
          0.28690521082100806,
          0.6375283551472624,
          null
         ],
         "z": [
          0.3225499953284868,
          0.9156721120709427,
          null
         ]
        },
        {
         "hoverinfo": "none",
         "line": {
          "color": "rgb(0, 0, 255)",
          "width": 5
         },
         "mode": "lines",
         "type": "scatter3d",
         "x": [
          0.13924839956477575,
          0.986656523930182,
          null
         ],
         "y": [
          0.28690521082100806,
          0.2711141806404923,
          null
         ],
         "z": [
          0.3225499953284868,
          0.0034550838898251834,
          null
         ]
        },
        {
         "hoverinfo": "none",
         "line": {
          "color": "rgb(0, 0, 255)",
          "width": 5
         },
         "mode": "lines",
         "type": "scatter3d",
         "x": [
          0.13924839956477575,
          0.9765141019989361,
          null
         ],
         "y": [
          0.28690521082100806,
          0.9017345480196465,
          null
         ],
         "z": [
          0.3225499953284868,
          0.18441484951097487,
          null
         ]
        },
        {
         "hoverinfo": "none",
         "line": {
          "color": "rgb(0, 0, 255)",
          "width": 5
         },
         "mode": "lines",
         "type": "scatter3d",
         "x": [
          0.13924839956477575,
          0.18104565447209664,
          null
         ],
         "y": [
          0.28690521082100806,
          0.07109565505758442,
          null
         ],
         "z": [
          0.3225499953284868,
          0.902824859041693,
          null
         ]
        },
        {
         "hoverinfo": "none",
         "line": {
          "color": "rgb(0, 0, 255)",
          "width": 5
         },
         "mode": "lines",
         "type": "scatter3d",
         "x": [
          0.49614841162351897,
          0.4286642215135146,
          null
         ],
         "y": [
          0.7192325138782043,
          0.6375283551472624,
          null
         ],
         "z": [
          0.7683307559023863,
          0.9156721120709427,
          null
         ]
        },
        {
         "hoverinfo": "none",
         "line": {
          "color": "rgb(0, 0, 255)",
          "width": 5
         },
         "mode": "lines",
         "type": "scatter3d",
         "x": [
          0.49614841162351897,
          0.986656523930182,
          null
         ],
         "y": [
          0.7192325138782043,
          0.2711141806404923,
          null
         ],
         "z": [
          0.7683307559023863,
          0.0034550838898251834,
          null
         ]
        },
        {
         "hoverinfo": "none",
         "line": {
          "color": "rgb(0, 0, 255)",
          "width": 5
         },
         "mode": "lines",
         "type": "scatter3d",
         "x": [
          0.49614841162351897,
          0.9765141019989361,
          null
         ],
         "y": [
          0.7192325138782043,
          0.9017345480196465,
          null
         ],
         "z": [
          0.7683307559023863,
          0.18441484951097487,
          null
         ]
        },
        {
         "hoverinfo": "none",
         "line": {
          "color": "rgb(0, 0, 255)",
          "width": 5
         },
         "mode": "lines",
         "type": "scatter3d",
         "x": [
          0.49614841162351897,
          0.7787800517923511,
          null
         ],
         "y": [
          0.7192325138782043,
          0.9103689389278221,
          null
         ],
         "z": [
          0.7683307559023863,
          0.44800239071696335,
          null
         ]
        },
        {
         "hoverinfo": "none",
         "line": {
          "color": "rgb(0, 0, 255)",
          "width": 5
         },
         "mode": "lines",
         "type": "scatter3d",
         "x": [
          0.49614841162351897,
          0.4278899162663261,
          null
         ],
         "y": [
          0.7192325138782043,
          0.7920272389658854,
          null
         ],
         "z": [
          0.7683307559023863,
          0.6618359061751158,
          null
         ]
        },
        {
         "hoverinfo": "none",
         "line": {
          "color": "rgb(0, 0, 255)",
          "width": 5
         },
         "mode": "lines",
         "type": "scatter3d",
         "x": [
          0.49614841162351897,
          0.5744316482697385,
          null
         ],
         "y": [
          0.7192325138782043,
          0.9593998511620605,
          null
         ],
         "z": [
          0.7683307559023863,
          0.23606939897821033,
          null
         ]
        },
        {
         "hoverinfo": "none",
         "line": {
          "color": "rgb(0, 0, 255)",
          "width": 5
         },
         "mode": "lines",
         "type": "scatter3d",
         "x": [
          0.49614841162351897,
          0.15650416795448607,
          null
         ],
         "y": [
          0.7192325138782043,
          0.8381781392690933,
          null
         ],
         "z": [
          0.7683307559023863,
          0.20507727038205403,
          null
         ]
        },
        {
         "hoverinfo": "none",
         "line": {
          "color": "rgb(0, 0, 255)",
          "width": 5
         },
         "mode": "lines",
         "type": "scatter3d",
         "x": [
          0.49614841162351897,
          0.18104565447209664,
          null
         ],
         "y": [
          0.7192325138782043,
          0.07109565505758442,
          null
         ],
         "z": [
          0.7683307559023863,
          0.902824859041693,
          null
         ]
        },
        {
         "hoverinfo": "none",
         "line": {
          "color": "rgb(0, 0, 255)",
          "width": 5
         },
         "mode": "lines",
         "type": "scatter3d",
         "x": [
          0.5744316482697385,
          0.986656523930182,
          null
         ],
         "y": [
          0.9593998511620605,
          0.2711141806404923,
          null
         ],
         "z": [
          0.23606939897821033,
          0.0034550838898251834,
          null
         ]
        },
        {
         "hoverinfo": "none",
         "line": {
          "color": "rgb(0, 0, 255)",
          "width": 5
         },
         "mode": "lines",
         "type": "scatter3d",
         "x": [
          0.5744316482697385,
          0.15650416795448607,
          null
         ],
         "y": [
          0.9593998511620605,
          0.8381781392690933,
          null
         ],
         "z": [
          0.23606939897821033,
          0.20507727038205403,
          null
         ]
        },
        {
         "hoverinfo": "none",
         "line": {
          "color": "rgb(0, 0, 255)",
          "width": 5
         },
         "mode": "lines",
         "type": "scatter3d",
         "x": [
          0.5744316482697385,
          0.7787800517923511,
          null
         ],
         "y": [
          0.9593998511620605,
          0.9103689389278221,
          null
         ],
         "z": [
          0.23606939897821033,
          0.44800239071696335,
          null
         ]
        },
        {
         "hoverinfo": "none",
         "line": {
          "color": "rgb(0, 0, 255)",
          "width": 5
         },
         "mode": "lines",
         "type": "scatter3d",
         "x": [
          0.5744316482697385,
          0.4278899162663261,
          null
         ],
         "y": [
          0.9593998511620605,
          0.7920272389658854,
          null
         ],
         "z": [
          0.23606939897821033,
          0.6618359061751158,
          null
         ]
        },
        {
         "hoverinfo": "none",
         "line": {
          "color": "rgb(0, 0, 255)",
          "width": 5
         },
         "mode": "lines",
         "type": "scatter3d",
         "x": [
          0.5744316482697385,
          0.4286642215135146,
          null
         ],
         "y": [
          0.9593998511620605,
          0.6375283551472624,
          null
         ],
         "z": [
          0.23606939897821033,
          0.9156721120709427,
          null
         ]
        },
        {
         "hoverinfo": "none",
         "line": {
          "color": "rgb(0, 0, 255)",
          "width": 5
         },
         "mode": "lines",
         "type": "scatter3d",
         "x": [
          0.5744316482697385,
          0.9765141019989361,
          null
         ],
         "y": [
          0.9593998511620605,
          0.9017345480196465,
          null
         ],
         "z": [
          0.23606939897821033,
          0.18441484951097487,
          null
         ]
        },
        {
         "hoverinfo": "none",
         "line": {
          "color": "rgb(0, 0, 255)",
          "width": 5
         },
         "mode": "lines",
         "type": "scatter3d",
         "x": [
          0.5744316482697385,
          0.18104565447209664,
          null
         ],
         "y": [
          0.9593998511620605,
          0.07109565505758442,
          null
         ],
         "z": [
          0.23606939897821033,
          0.902824859041693,
          null
         ]
        },
        {
         "hoverinfo": "none",
         "line": {
          "color": "rgb(0, 0, 255)",
          "width": 5
         },
         "mode": "lines",
         "type": "scatter3d",
         "x": [
          0.4278899162663261,
          0.7787800517923511,
          null
         ],
         "y": [
          0.7920272389658854,
          0.9103689389278221,
          null
         ],
         "z": [
          0.6618359061751158,
          0.44800239071696335,
          null
         ]
        },
        {
         "hoverinfo": "none",
         "line": {
          "color": "rgb(0, 0, 255)",
          "width": 5
         },
         "mode": "lines",
         "type": "scatter3d",
         "x": [
          0.4278899162663261,
          0.4286642215135146,
          null
         ],
         "y": [
          0.7920272389658854,
          0.6375283551472624,
          null
         ],
         "z": [
          0.6618359061751158,
          0.9156721120709427,
          null
         ]
        },
        {
         "hoverinfo": "none",
         "line": {
          "color": "rgb(0, 0, 255)",
          "width": 5
         },
         "mode": "lines",
         "type": "scatter3d",
         "x": [
          0.4278899162663261,
          0.15650416795448607,
          null
         ],
         "y": [
          0.7920272389658854,
          0.8381781392690933,
          null
         ],
         "z": [
          0.6618359061751158,
          0.20507727038205403,
          null
         ]
        },
        {
         "hoverinfo": "none",
         "line": {
          "color": "rgb(0, 0, 255)",
          "width": 5
         },
         "mode": "lines",
         "type": "scatter3d",
         "x": [
          0.4278899162663261,
          0.9765141019989361,
          null
         ],
         "y": [
          0.7920272389658854,
          0.9017345480196465,
          null
         ],
         "z": [
          0.6618359061751158,
          0.18441484951097487,
          null
         ]
        },
        {
         "hoverinfo": "none",
         "line": {
          "color": "rgb(0, 0, 255)",
          "width": 5
         },
         "mode": "lines",
         "type": "scatter3d",
         "x": [
          0.4278899162663261,
          0.986656523930182,
          null
         ],
         "y": [
          0.7920272389658854,
          0.2711141806404923,
          null
         ],
         "z": [
          0.6618359061751158,
          0.0034550838898251834,
          null
         ]
        },
        {
         "hoverinfo": "none",
         "line": {
          "color": "rgb(0, 0, 255)",
          "width": 5
         },
         "mode": "lines",
         "type": "scatter3d",
         "x": [
          0.4278899162663261,
          0.18104565447209664,
          null
         ],
         "y": [
          0.7920272389658854,
          0.07109565505758442,
          null
         ],
         "z": [
          0.6618359061751158,
          0.902824859041693,
          null
         ]
        },
        {
         "hoverinfo": "none",
         "line": {
          "color": "rgb(0, 0, 255)",
          "width": 5
         },
         "mode": "lines",
         "type": "scatter3d",
         "x": [
          0.986656523930182,
          0.15650416795448607,
          null
         ],
         "y": [
          0.2711141806404923,
          0.8381781392690933,
          null
         ],
         "z": [
          0.0034550838898251834,
          0.20507727038205403,
          null
         ]
        },
        {
         "hoverinfo": "none",
         "line": {
          "color": "rgb(0, 0, 255)",
          "width": 5
         },
         "mode": "lines",
         "type": "scatter3d",
         "x": [
          0.986656523930182,
          0.7787800517923511,
          null
         ],
         "y": [
          0.2711141806404923,
          0.9103689389278221,
          null
         ],
         "z": [
          0.0034550838898251834,
          0.44800239071696335,
          null
         ]
        },
        {
         "hoverinfo": "none",
         "line": {
          "color": "rgb(0, 0, 255)",
          "width": 5
         },
         "mode": "lines",
         "type": "scatter3d",
         "x": [
          0.986656523930182,
          0.4286642215135146,
          null
         ],
         "y": [
          0.2711141806404923,
          0.6375283551472624,
          null
         ],
         "z": [
          0.0034550838898251834,
          0.9156721120709427,
          null
         ]
        },
        {
         "hoverinfo": "none",
         "line": {
          "color": "rgb(0, 0, 255)",
          "width": 5
         },
         "mode": "lines",
         "type": "scatter3d",
         "x": [
          0.986656523930182,
          0.9765141019989361,
          null
         ],
         "y": [
          0.2711141806404923,
          0.9017345480196465,
          null
         ],
         "z": [
          0.0034550838898251834,
          0.18441484951097487,
          null
         ]
        },
        {
         "hoverinfo": "none",
         "line": {
          "color": "rgb(0, 0, 255)",
          "width": 5
         },
         "mode": "lines",
         "type": "scatter3d",
         "x": [
          0.986656523930182,
          0.18104565447209664,
          null
         ],
         "y": [
          0.2711141806404923,
          0.07109565505758442,
          null
         ],
         "z": [
          0.0034550838898251834,
          0.902824859041693,
          null
         ]
        },
        {
         "hoverinfo": "none",
         "line": {
          "color": "rgb(0, 0, 255)",
          "width": 5
         },
         "mode": "lines",
         "type": "scatter3d",
         "x": [
          0.7787800517923511,
          0.18104565447209664,
          null
         ],
         "y": [
          0.9103689389278221,
          0.07109565505758442,
          null
         ],
         "z": [
          0.44800239071696335,
          0.902824859041693,
          null
         ]
        },
        {
         "hoverinfo": "none",
         "line": {
          "color": "rgb(0, 0, 255)",
          "width": 5
         },
         "mode": "lines",
         "type": "scatter3d",
         "x": [
          0.7787800517923511,
          0.9765141019989361,
          null
         ],
         "y": [
          0.9103689389278221,
          0.9017345480196465,
          null
         ],
         "z": [
          0.44800239071696335,
          0.18441484951097487,
          null
         ]
        },
        {
         "hoverinfo": "none",
         "line": {
          "color": "rgb(0, 0, 255)",
          "width": 5
         },
         "mode": "lines",
         "type": "scatter3d",
         "x": [
          0.7787800517923511,
          0.4286642215135146,
          null
         ],
         "y": [
          0.9103689389278221,
          0.6375283551472624,
          null
         ],
         "z": [
          0.44800239071696335,
          0.9156721120709427,
          null
         ]
        },
        {
         "hoverinfo": "none",
         "line": {
          "color": "rgb(0, 0, 255)",
          "width": 5
         },
         "mode": "lines",
         "type": "scatter3d",
         "x": [
          0.7787800517923511,
          0.15650416795448607,
          null
         ],
         "y": [
          0.9103689389278221,
          0.8381781392690933,
          null
         ],
         "z": [
          0.44800239071696335,
          0.20507727038205403,
          null
         ]
        },
        {
         "hoverinfo": "none",
         "line": {
          "color": "rgb(0, 0, 255)",
          "width": 5
         },
         "mode": "lines",
         "type": "scatter3d",
         "x": [
          0.9765141019989361,
          0.4286642215135146,
          null
         ],
         "y": [
          0.9017345480196465,
          0.6375283551472624,
          null
         ],
         "z": [
          0.18441484951097487,
          0.9156721120709427,
          null
         ]
        },
        {
         "hoverinfo": "none",
         "line": {
          "color": "rgb(0, 0, 255)",
          "width": 5
         },
         "mode": "lines",
         "type": "scatter3d",
         "x": [
          0.9765141019989361,
          0.15650416795448607,
          null
         ],
         "y": [
          0.9017345480196465,
          0.8381781392690933,
          null
         ],
         "z": [
          0.18441484951097487,
          0.20507727038205403,
          null
         ]
        },
        {
         "hoverinfo": "none",
         "line": {
          "color": "rgb(0, 0, 255)",
          "width": 5
         },
         "mode": "lines",
         "type": "scatter3d",
         "x": [
          0.9765141019989361,
          0.18104565447209664,
          null
         ],
         "y": [
          0.9017345480196465,
          0.07109565505758442,
          null
         ],
         "z": [
          0.18441484951097487,
          0.902824859041693,
          null
         ]
        },
        {
         "hoverinfo": "none",
         "line": {
          "color": "rgb(0, 0, 255)",
          "width": 5
         },
         "mode": "lines",
         "type": "scatter3d",
         "x": [
          0.18104565447209664,
          0.4286642215135146,
          null
         ],
         "y": [
          0.07109565505758442,
          0.6375283551472624,
          null
         ],
         "z": [
          0.902824859041693,
          0.9156721120709427,
          null
         ]
        },
        {
         "hoverinfo": "none",
         "line": {
          "color": "rgb(255, 0, 0)",
          "width": 5
         },
         "mode": "lines",
         "type": "scatter3d",
         "x": [
          0.18104565447209664,
          0.15650416795448607,
          null
         ],
         "y": [
          0.07109565505758442,
          0.8381781392690933,
          null
         ],
         "z": [
          0.902824859041693,
          0.20507727038205403,
          null
         ]
        },
        {
         "hoverinfo": "none",
         "line": {
          "color": "rgb(0, 0, 255)",
          "width": 5
         },
         "mode": "lines",
         "type": "scatter3d",
         "x": [
          0.15650416795448607,
          0.4286642215135146,
          null
         ],
         "y": [
          0.8381781392690933,
          0.6375283551472624,
          null
         ],
         "z": [
          0.20507727038205403,
          0.9156721120709427,
          null
         ]
        },
        {
         "hoverinfo": "text",
         "marker": {
          "color": "black",
          "size": 7
         },
         "mode": "markers",
         "text": [
          "0",
          "1",
          "2",
          "3",
          "4",
          "5",
          "6",
          "7",
          "8",
          "9",
          "10",
          "11",
          "12",
          "13",
          "14",
          "15",
          "16",
          "17",
          "18",
          "19",
          "20",
          "21",
          "22",
          "23",
          "24",
          "25",
          "26",
          "27",
          "28",
          "29",
          "30",
          "31",
          "32",
          "33",
          "34",
          "35",
          "36",
          "37",
          "38",
          "39",
          "40"
         ],
         "type": "scatter3d",
         "x": [
          0.823062424901523,
          0.45611030955671716,
          0.5339811662677469,
          0.2958201448516298,
          0.6478604245362285,
          0.24253379349177828,
          0.8589804764998754,
          0.24596382645682746,
          0.2726374145505729,
          0.20725727682780792,
          0.28226235945396116,
          0.12987235809484854,
          0.530191583783487,
          0.7556724702769243,
          0.9438296094770525,
          0.32005425246101116,
          0.9817016754076012,
          0.8608432460452482,
          0.08235330667850638,
          0.30852336913113665,
          0.049950158203455164,
          0.2687972905566801,
          0.2709652679020753,
          0.2715696464940396,
          0.13924839956477575,
          0.6922662030487432,
          0.8102090549964431,
          0.639533775758578,
          0.49614841162351897,
          0.5744316482697385,
          0.4278899162663261,
          0.9362193702426066,
          0.986656523930182,
          0.7787800517923511,
          0.32893103873165286,
          0.9765141019989361,
          0.18104565447209664,
          0.34263988157339265,
          0.15650416795448607,
          0.5130261680546557,
          0.4286642215135146
         ],
         "y": [
          0.2006354537532088,
          0.9212564819762676,
          0.5163235642424151,
          0.013173688918843518,
          0.09960668062320233,
          0.27528152408551954,
          0.03486883800324814,
          0.10088318695534837,
          0.062089628627965965,
          0.1531066331167853,
          0.29095599534220085,
          0.025017880442982032,
          0.21457713756237462,
          0.26472332125467735,
          0.29583741935851104,
          0.03450558336418574,
          0.4768574187072774,
          0.4015199689605583,
          0.1629214695672091,
          0.1721858788873435,
          0.8922344668741525,
          0.03299896755222731,
          0.15346876417346433,
          0.4622192227958194,
          0.28690521082100806,
          0.3090185072842746,
          0.37155402183972674,
          0.7803407196432715,
          0.7192325138782043,
          0.9593998511620605,
          0.7920272389658854,
          0.42986438890867695,
          0.2711141806404923,
          0.9103689389278221,
          0.8618415301064597,
          0.9017345480196465,
          0.07109565505758442,
          0.9509974128529721,
          0.8381781392690933,
          0.3993144911780756,
          0.6375283551472624
         ],
         "z": [
          0.25214712653478344,
          0.6614662288357454,
          0.38702711519406796,
          0.200085060712772,
          0.1472693778821751,
          0.04892505625527521,
          0.7491196737594135,
          0.781460100398329,
          0.7795069245481151,
          0.33764795880275844,
          0.5000662106446538,
          0.957488989248836,
          0.09575389961162717,
          0.963384481435561,
          0.8433771952353035,
          0.6893756441307711,
          0.8992734892394011,
          0.3223120849374399,
          0.21411624451615596,
          0.19471276785519342,
          0.05878148158995988,
          0.9246377222165544,
          0.09516601529415791,
          0.5705434947623257,
          0.3225499953284868,
          0.08907393859806911,
          0.04882606107230514,
          0.0031612739198314532,
          0.7683307559023863,
          0.23606939897821033,
          0.6618359061751158,
          0.43587863134396954,
          0.0034550838898251834,
          0.44800239071696335,
          0.5247739561692457,
          0.18441484951097487,
          0.902824859041693,
          0.3694247264034305,
          0.20507727038205403,
          0.46230572043604945,
          0.9156721120709427
         ]
        }
       ],
       "layout": {
        "height": 800,
        "scene": {
         "xaxis": {
          "showbackground": false
         },
         "yaxis": {
          "showbackground": false
         },
         "zaxis": {
          "showbackground": false
         }
        },
        "showlegend": false,
        "template": {
         "data": {
          "bar": [
           {
            "error_x": {
             "color": "#2a3f5f"
            },
            "error_y": {
             "color": "#2a3f5f"
            },
            "marker": {
             "line": {
              "color": "#E5ECF6",
              "width": 0.5
             },
             "pattern": {
              "fillmode": "overlay",
              "size": 10,
              "solidity": 0.2
             }
            },
            "type": "bar"
           }
          ],
          "barpolar": [
           {
            "marker": {
             "line": {
              "color": "#E5ECF6",
              "width": 0.5
             },
             "pattern": {
              "fillmode": "overlay",
              "size": 10,
              "solidity": 0.2
             }
            },
            "type": "barpolar"
           }
          ],
          "carpet": [
           {
            "aaxis": {
             "endlinecolor": "#2a3f5f",
             "gridcolor": "white",
             "linecolor": "white",
             "minorgridcolor": "white",
             "startlinecolor": "#2a3f5f"
            },
            "baxis": {
             "endlinecolor": "#2a3f5f",
             "gridcolor": "white",
             "linecolor": "white",
             "minorgridcolor": "white",
             "startlinecolor": "#2a3f5f"
            },
            "type": "carpet"
           }
          ],
          "choropleth": [
           {
            "colorbar": {
             "outlinewidth": 0,
             "ticks": ""
            },
            "type": "choropleth"
           }
          ],
          "contour": [
           {
            "colorbar": {
             "outlinewidth": 0,
             "ticks": ""
            },
            "colorscale": [
             [
              0,
              "#0d0887"
             ],
             [
              0.1111111111111111,
              "#46039f"
             ],
             [
              0.2222222222222222,
              "#7201a8"
             ],
             [
              0.3333333333333333,
              "#9c179e"
             ],
             [
              0.4444444444444444,
              "#bd3786"
             ],
             [
              0.5555555555555556,
              "#d8576b"
             ],
             [
              0.6666666666666666,
              "#ed7953"
             ],
             [
              0.7777777777777778,
              "#fb9f3a"
             ],
             [
              0.8888888888888888,
              "#fdca26"
             ],
             [
              1,
              "#f0f921"
             ]
            ],
            "type": "contour"
           }
          ],
          "contourcarpet": [
           {
            "colorbar": {
             "outlinewidth": 0,
             "ticks": ""
            },
            "type": "contourcarpet"
           }
          ],
          "heatmap": [
           {
            "colorbar": {
             "outlinewidth": 0,
             "ticks": ""
            },
            "colorscale": [
             [
              0,
              "#0d0887"
             ],
             [
              0.1111111111111111,
              "#46039f"
             ],
             [
              0.2222222222222222,
              "#7201a8"
             ],
             [
              0.3333333333333333,
              "#9c179e"
             ],
             [
              0.4444444444444444,
              "#bd3786"
             ],
             [
              0.5555555555555556,
              "#d8576b"
             ],
             [
              0.6666666666666666,
              "#ed7953"
             ],
             [
              0.7777777777777778,
              "#fb9f3a"
             ],
             [
              0.8888888888888888,
              "#fdca26"
             ],
             [
              1,
              "#f0f921"
             ]
            ],
            "type": "heatmap"
           }
          ],
          "heatmapgl": [
           {
            "colorbar": {
             "outlinewidth": 0,
             "ticks": ""
            },
            "colorscale": [
             [
              0,
              "#0d0887"
             ],
             [
              0.1111111111111111,
              "#46039f"
             ],
             [
              0.2222222222222222,
              "#7201a8"
             ],
             [
              0.3333333333333333,
              "#9c179e"
             ],
             [
              0.4444444444444444,
              "#bd3786"
             ],
             [
              0.5555555555555556,
              "#d8576b"
             ],
             [
              0.6666666666666666,
              "#ed7953"
             ],
             [
              0.7777777777777778,
              "#fb9f3a"
             ],
             [
              0.8888888888888888,
              "#fdca26"
             ],
             [
              1,
              "#f0f921"
             ]
            ],
            "type": "heatmapgl"
           }
          ],
          "histogram": [
           {
            "marker": {
             "pattern": {
              "fillmode": "overlay",
              "size": 10,
              "solidity": 0.2
             }
            },
            "type": "histogram"
           }
          ],
          "histogram2d": [
           {
            "colorbar": {
             "outlinewidth": 0,
             "ticks": ""
            },
            "colorscale": [
             [
              0,
              "#0d0887"
             ],
             [
              0.1111111111111111,
              "#46039f"
             ],
             [
              0.2222222222222222,
              "#7201a8"
             ],
             [
              0.3333333333333333,
              "#9c179e"
             ],
             [
              0.4444444444444444,
              "#bd3786"
             ],
             [
              0.5555555555555556,
              "#d8576b"
             ],
             [
              0.6666666666666666,
              "#ed7953"
             ],
             [
              0.7777777777777778,
              "#fb9f3a"
             ],
             [
              0.8888888888888888,
              "#fdca26"
             ],
             [
              1,
              "#f0f921"
             ]
            ],
            "type": "histogram2d"
           }
          ],
          "histogram2dcontour": [
           {
            "colorbar": {
             "outlinewidth": 0,
             "ticks": ""
            },
            "colorscale": [
             [
              0,
              "#0d0887"
             ],
             [
              0.1111111111111111,
              "#46039f"
             ],
             [
              0.2222222222222222,
              "#7201a8"
             ],
             [
              0.3333333333333333,
              "#9c179e"
             ],
             [
              0.4444444444444444,
              "#bd3786"
             ],
             [
              0.5555555555555556,
              "#d8576b"
             ],
             [
              0.6666666666666666,
              "#ed7953"
             ],
             [
              0.7777777777777778,
              "#fb9f3a"
             ],
             [
              0.8888888888888888,
              "#fdca26"
             ],
             [
              1,
              "#f0f921"
             ]
            ],
            "type": "histogram2dcontour"
           }
          ],
          "mesh3d": [
           {
            "colorbar": {
             "outlinewidth": 0,
             "ticks": ""
            },
            "type": "mesh3d"
           }
          ],
          "parcoords": [
           {
            "line": {
             "colorbar": {
              "outlinewidth": 0,
              "ticks": ""
             }
            },
            "type": "parcoords"
           }
          ],
          "pie": [
           {
            "automargin": true,
            "type": "pie"
           }
          ],
          "scatter": [
           {
            "fillpattern": {
             "fillmode": "overlay",
             "size": 10,
             "solidity": 0.2
            },
            "type": "scatter"
           }
          ],
          "scatter3d": [
           {
            "line": {
             "colorbar": {
              "outlinewidth": 0,
              "ticks": ""
             }
            },
            "marker": {
             "colorbar": {
              "outlinewidth": 0,
              "ticks": ""
             }
            },
            "type": "scatter3d"
           }
          ],
          "scattercarpet": [
           {
            "marker": {
             "colorbar": {
              "outlinewidth": 0,
              "ticks": ""
             }
            },
            "type": "scattercarpet"
           }
          ],
          "scattergeo": [
           {
            "marker": {
             "colorbar": {
              "outlinewidth": 0,
              "ticks": ""
             }
            },
            "type": "scattergeo"
           }
          ],
          "scattergl": [
           {
            "marker": {
             "colorbar": {
              "outlinewidth": 0,
              "ticks": ""
             }
            },
            "type": "scattergl"
           }
          ],
          "scattermapbox": [
           {
            "marker": {
             "colorbar": {
              "outlinewidth": 0,
              "ticks": ""
             }
            },
            "type": "scattermapbox"
           }
          ],
          "scatterpolar": [
           {
            "marker": {
             "colorbar": {
              "outlinewidth": 0,
              "ticks": ""
             }
            },
            "type": "scatterpolar"
           }
          ],
          "scatterpolargl": [
           {
            "marker": {
             "colorbar": {
              "outlinewidth": 0,
              "ticks": ""
             }
            },
            "type": "scatterpolargl"
           }
          ],
          "scatterternary": [
           {
            "marker": {
             "colorbar": {
              "outlinewidth": 0,
              "ticks": ""
             }
            },
            "type": "scatterternary"
           }
          ],
          "surface": [
           {
            "colorbar": {
             "outlinewidth": 0,
             "ticks": ""
            },
            "colorscale": [
             [
              0,
              "#0d0887"
             ],
             [
              0.1111111111111111,
              "#46039f"
             ],
             [
              0.2222222222222222,
              "#7201a8"
             ],
             [
              0.3333333333333333,
              "#9c179e"
             ],
             [
              0.4444444444444444,
              "#bd3786"
             ],
             [
              0.5555555555555556,
              "#d8576b"
             ],
             [
              0.6666666666666666,
              "#ed7953"
             ],
             [
              0.7777777777777778,
              "#fb9f3a"
             ],
             [
              0.8888888888888888,
              "#fdca26"
             ],
             [
              1,
              "#f0f921"
             ]
            ],
            "type": "surface"
           }
          ],
          "table": [
           {
            "cells": {
             "fill": {
              "color": "#EBF0F8"
             },
             "line": {
              "color": "white"
             }
            },
            "header": {
             "fill": {
              "color": "#C8D4E3"
             },
             "line": {
              "color": "white"
             }
            },
            "type": "table"
           }
          ]
         },
         "layout": {
          "annotationdefaults": {
           "arrowcolor": "#2a3f5f",
           "arrowhead": 0,
           "arrowwidth": 1
          },
          "autotypenumbers": "strict",
          "coloraxis": {
           "colorbar": {
            "outlinewidth": 0,
            "ticks": ""
           }
          },
          "colorscale": {
           "diverging": [
            [
             0,
             "#8e0152"
            ],
            [
             0.1,
             "#c51b7d"
            ],
            [
             0.2,
             "#de77ae"
            ],
            [
             0.3,
             "#f1b6da"
            ],
            [
             0.4,
             "#fde0ef"
            ],
            [
             0.5,
             "#f7f7f7"
            ],
            [
             0.6,
             "#e6f5d0"
            ],
            [
             0.7,
             "#b8e186"
            ],
            [
             0.8,
             "#7fbc41"
            ],
            [
             0.9,
             "#4d9221"
            ],
            [
             1,
             "#276419"
            ]
           ],
           "sequential": [
            [
             0,
             "#0d0887"
            ],
            [
             0.1111111111111111,
             "#46039f"
            ],
            [
             0.2222222222222222,
             "#7201a8"
            ],
            [
             0.3333333333333333,
             "#9c179e"
            ],
            [
             0.4444444444444444,
             "#bd3786"
            ],
            [
             0.5555555555555556,
             "#d8576b"
            ],
            [
             0.6666666666666666,
             "#ed7953"
            ],
            [
             0.7777777777777778,
             "#fb9f3a"
            ],
            [
             0.8888888888888888,
             "#fdca26"
            ],
            [
             1,
             "#f0f921"
            ]
           ],
           "sequentialminus": [
            [
             0,
             "#0d0887"
            ],
            [
             0.1111111111111111,
             "#46039f"
            ],
            [
             0.2222222222222222,
             "#7201a8"
            ],
            [
             0.3333333333333333,
             "#9c179e"
            ],
            [
             0.4444444444444444,
             "#bd3786"
            ],
            [
             0.5555555555555556,
             "#d8576b"
            ],
            [
             0.6666666666666666,
             "#ed7953"
            ],
            [
             0.7777777777777778,
             "#fb9f3a"
            ],
            [
             0.8888888888888888,
             "#fdca26"
            ],
            [
             1,
             "#f0f921"
            ]
           ]
          },
          "colorway": [
           "#636efa",
           "#EF553B",
           "#00cc96",
           "#ab63fa",
           "#FFA15A",
           "#19d3f3",
           "#FF6692",
           "#B6E880",
           "#FF97FF",
           "#FECB52"
          ],
          "font": {
           "color": "#2a3f5f"
          },
          "geo": {
           "bgcolor": "white",
           "lakecolor": "white",
           "landcolor": "#E5ECF6",
           "showlakes": true,
           "showland": true,
           "subunitcolor": "white"
          },
          "hoverlabel": {
           "align": "left"
          },
          "hovermode": "closest",
          "mapbox": {
           "style": "light"
          },
          "paper_bgcolor": "white",
          "plot_bgcolor": "#E5ECF6",
          "polar": {
           "angularaxis": {
            "gridcolor": "white",
            "linecolor": "white",
            "ticks": ""
           },
           "bgcolor": "#E5ECF6",
           "radialaxis": {
            "gridcolor": "white",
            "linecolor": "white",
            "ticks": ""
           }
          },
          "scene": {
           "xaxis": {
            "backgroundcolor": "#E5ECF6",
            "gridcolor": "white",
            "gridwidth": 2,
            "linecolor": "white",
            "showbackground": true,
            "ticks": "",
            "zerolinecolor": "white"
           },
           "yaxis": {
            "backgroundcolor": "#E5ECF6",
            "gridcolor": "white",
            "gridwidth": 2,
            "linecolor": "white",
            "showbackground": true,
            "ticks": "",
            "zerolinecolor": "white"
           },
           "zaxis": {
            "backgroundcolor": "#E5ECF6",
            "gridcolor": "white",
            "gridwidth": 2,
            "linecolor": "white",
            "showbackground": true,
            "ticks": "",
            "zerolinecolor": "white"
           }
          },
          "shapedefaults": {
           "line": {
            "color": "#2a3f5f"
           }
          },
          "ternary": {
           "aaxis": {
            "gridcolor": "white",
            "linecolor": "white",
            "ticks": ""
           },
           "baxis": {
            "gridcolor": "white",
            "linecolor": "white",
            "ticks": ""
           },
           "bgcolor": "#E5ECF6",
           "caxis": {
            "gridcolor": "white",
            "linecolor": "white",
            "ticks": ""
           }
          },
          "title": {
           "x": 0.05
          },
          "xaxis": {
           "automargin": true,
           "gridcolor": "white",
           "linecolor": "white",
           "ticks": "",
           "title": {
            "standoff": 15
           },
           "zerolinecolor": "white",
           "zerolinewidth": 2
          },
          "yaxis": {
           "automargin": true,
           "gridcolor": "white",
           "linecolor": "white",
           "ticks": "",
           "title": {
            "standoff": 15
           },
           "zerolinecolor": "white",
           "zerolinewidth": 2
          }
         }
        },
        "width": 800
       }
      }
     },
     "metadata": {},
     "output_type": "display_data"
    }
   ],
   "source": [
    "# re-collapse graph\n",
    "collapsed_G = nx.Graph()\n",
    "\n",
    "for i in range(len(coms)):\n",
    "    collapsed_G.add_node(i)\n",
    "\n",
    "hole_adjacent_edge_count = {}  # track the number of hole-adjacent edges between communities\n",
    "total_edge_count = {}\n",
    "\n",
    "# create a set of cycle edges based on the original node cycles\n",
    "cycle_edges = set()\n",
    "for cycle in big_rep_cycle_list1:\n",
    "    for i in range(len(cycle)):\n",
    "        u, v = cycle[i], cycle[(i + 1) % len(cycle)]\n",
    "        community_u = node_to_com_dict[u]\n",
    "        community_v = node_to_com_dict[v]\n",
    "        if community_u != community_v:\n",
    "            cycle_edges.add((community_u, community_v))\n",
    "            cycle_edges.add((community_v, community_u))\n",
    "\n",
    "# add the edges between communities\n",
    "for u, v in G.edges():\n",
    "    community_u = node_to_com_dict[u]\n",
    "    community_v = node_to_com_dict[v]\n",
    "    if community_u != community_v:\n",
    "        if collapsed_G.has_edge(community_u, community_v):\n",
    "            collapsed_G[community_u][community_v]['weight'] += 1\n",
    "        else:\n",
    "            collapsed_G.add_edge(community_u, community_v, weight=1)\n",
    "        \n",
    "        if (community_u, community_v) not in total_edge_count:\n",
    "            total_edge_count[(community_u, community_v)] = 0\n",
    "            hole_adjacent_edge_count[(community_u, community_v)] = 0\n",
    "        \n",
    "        total_edge_count[(community_u, community_v)] += 1\n",
    "        \n",
    "        if (community_u, community_v) in cycle_edges or (community_v, community_u) in cycle_edges:\n",
    "            hole_adjacent_edge_count[(community_u, community_v)] += 1\n",
    "\n",
    "# get proportions of hole-adjacency for color gradient\n",
    "edge_proportions = {edge: hole_adjacent_edge_count[edge] / total_edge_count[edge] for edge in total_edge_count}\n",
    "#randomly position nodes in 3d space\n",
    "pos = {i: (np.random.random(), np.random.random(), np.random.random()) for i in collapsed_G.nodes}\n",
    "\n",
    "# do edge traces\n",
    "edge_trace = []\n",
    "for edge in collapsed_G.edges():\n",
    "    x0, y0, z0 = pos[edge[0]]\n",
    "    x1, y1, z1 = pos[edge[1]]\n",
    "    proportion = edge_proportions.get(edge, 0)\n",
    "    color = f'rgb({int(255 * (1 - proportion))}, 0, {int(255 * proportion)})'\n",
    "    \n",
    "    edge_trace.append(go.Scatter3d(\n",
    "        x=[x0, x1, None],\n",
    "        y=[y0, y1, None],\n",
    "        z=[z0, z1, None],\n",
    "        line=dict(width=5, color=color),\n",
    "        hoverinfo='none',\n",
    "        mode='lines'\n",
    "    ))\n",
    "\n",
    "non_cycle_edge_count = len([e for e in collapsed_G.edges() if e not in cycle_edges and (e[1], e[0]) not in cycle_edges])\n",
    "print(f\"Number of edges not part of any cycle: {non_cycle_edge_count}\")\n",
    "\n",
    "# do node traces\n",
    "node_trace = go.Scatter3d(\n",
    "    x=[pos[node][0] for node in collapsed_G.nodes()],\n",
    "    y=[pos[node][1] for node in collapsed_G.nodes()],\n",
    "    z=[pos[node][2] for node in collapsed_G.nodes()],\n",
    "    mode='markers',\n",
    "    marker=dict(\n",
    "        size=7,\n",
    "        color='black',\n",
    "    ),\n",
    "    text=list(collapsed_G.nodes()),\n",
    "    hoverinfo='text'\n",
    ")\n",
    "\n",
    "\n",
    "layout = go.Layout(\n",
    "    width=800,\n",
    "    height=800,\n",
    "    showlegend=False,\n",
    "    scene=dict(\n",
    "        xaxis=dict(showbackground=False),\n",
    "        yaxis=dict(showbackground=False),\n",
    "        zaxis=dict(showbackground=False)\n",
    "    ),\n",
    ")\n",
    "\n",
    "fig = go.Figure(data=edge_trace + [node_trace], layout=layout)\n",
    "fig.show()\n",
    "fig.write_html(\"nograd.html\")"
   ]
  },
  {
   "cell_type": "markdown",
   "metadata": {},
   "source": [
    "### Gradient, unweighted"
   ]
  },
  {
   "cell_type": "code",
   "execution_count": 9,
   "metadata": {},
   "outputs": [
    {
     "name": "stdout",
     "output_type": "stream",
     "text": [
      "Number of edges not part of any cycle: 5 (1.02%)\n",
      "Number of edges part of a cycle: 486 (98.98%)\n"
     ]
    },
    {
     "data": {
      "application/vnd.plotly.v1+json": {
       "config": {
        "plotlyServerURL": "https://plot.ly"
       },
       "data": [
        {
         "hoverinfo": "none",
         "line": {
          "color": "rgb(163, 0, 91)",
          "width": 5
         },
         "mode": "lines",
         "type": "scatter3d",
         "x": [
          0.48480833003012425,
          0.35128607609016127,
          null
         ],
         "y": [
          0.07468105697083693,
          0.9803601140750317,
          null
         ],
         "z": [
          0.395513570094418,
          0.020756992574077926,
          null
         ]
        },
        {
         "hoverinfo": "none",
         "line": {
          "color": "rgb(155, 0, 99)",
          "width": 5
         },
         "mode": "lines",
         "type": "scatter3d",
         "x": [
          0.48480833003012425,
          0.9415674566933468,
          null
         ],
         "y": [
          0.07468105697083693,
          0.6424351934262001,
          null
         ],
         "z": [
          0.395513570094418,
          0.9352923146779392,
          null
         ]
        },
        {
         "hoverinfo": "none",
         "line": {
          "color": "rgb(205, 0, 49)",
          "width": 5
         },
         "mode": "lines",
         "type": "scatter3d",
         "x": [
          0.48480833003012425,
          0.3955609727109366,
          null
         ],
         "y": [
          0.07468105697083693,
          0.0018453813536267738,
          null
         ],
         "z": [
          0.395513570094418,
          0.5123366696379305,
          null
         ]
        },
        {
         "hoverinfo": "none",
         "line": {
          "color": "rgb(204, 0, 51)",
          "width": 5
         },
         "mode": "lines",
         "type": "scatter3d",
         "x": [
          0.48480833003012425,
          0.5049967185452846,
          null
         ],
         "y": [
          0.07468105697083693,
          0.7459611455860693,
          null
         ],
         "z": [
          0.395513570094418,
          0.20474810738637628,
          null
         ]
        },
        {
         "hoverinfo": "none",
         "line": {
          "color": "rgb(204, 0, 50)",
          "width": 5
         },
         "mode": "lines",
         "type": "scatter3d",
         "x": [
          0.48480833003012425,
          0.12202397256703224,
          null
         ],
         "y": [
          0.07468105697083693,
          0.33803810479530894,
          null
         ],
         "z": [
          0.395513570094418,
          0.17462877073953564,
          null
         ]
        },
        {
         "hoverinfo": "none",
         "line": {
          "color": "rgb(156, 0, 98)",
          "width": 5
         },
         "mode": "lines",
         "type": "scatter3d",
         "x": [
          0.48480833003012425,
          0.7510175332938032,
          null
         ],
         "y": [
          0.07468105697083693,
          0.2974558016214245,
          null
         ],
         "z": [
          0.395513570094418,
          0.0026742988640656717,
          null
         ]
        },
        {
         "hoverinfo": "none",
         "line": {
          "color": "rgb(172, 0, 82)",
          "width": 5
         },
         "mode": "lines",
         "type": "scatter3d",
         "x": [
          0.48480833003012425,
          0.8978680896657024,
          null
         ],
         "y": [
          0.07468105697083693,
          0.20558228881241003,
          null
         ],
         "z": [
          0.395513570094418,
          0.22993598393832704,
          null
         ]
        },
        {
         "hoverinfo": "none",
         "line": {
          "color": "rgb(156, 0, 98)",
          "width": 5
         },
         "mode": "lines",
         "type": "scatter3d",
         "x": [
          0.48480833003012425,
          0.011378688695514505,
          null
         ],
         "y": [
          0.07468105697083693,
          0.0715207325479863,
          null
         ],
         "z": [
          0.395513570094418,
          0.6493344636898585,
          null
         ]
        },
        {
         "hoverinfo": "none",
         "line": {
          "color": "rgb(167, 0, 87)",
          "width": 5
         },
         "mode": "lines",
         "type": "scatter3d",
         "x": [
          0.48480833003012425,
          0.1508960398558543,
          null
         ],
         "y": [
          0.07468105697083693,
          0.6047914272677114,
          null
         ],
         "z": [
          0.395513570094418,
          0.2547124201018064,
          null
         ]
        },
        {
         "hoverinfo": "none",
         "line": {
          "color": "rgb(178, 0, 76)",
          "width": 5
         },
         "mode": "lines",
         "type": "scatter3d",
         "x": [
          0.48480833003012425,
          0.6391203138622066,
          null
         ],
         "y": [
          0.07468105697083693,
          0.003471089158763041,
          null
         ],
         "z": [
          0.395513570094418,
          0.25904918126862864,
          null
         ]
        },
        {
         "hoverinfo": "none",
         "line": {
          "color": "rgb(197, 0, 57)",
          "width": 5
         },
         "mode": "lines",
         "type": "scatter3d",
         "x": [
          0.48480833003012425,
          0.1957925328841147,
          null
         ],
         "y": [
          0.07468105697083693,
          0.8634726352707632,
          null
         ],
         "z": [
          0.395513570094418,
          0.590206450889974,
          null
         ]
        },
        {
         "hoverinfo": "none",
         "line": {
          "color": "rgb(149, 0, 105)",
          "width": 5
         },
         "mode": "lines",
         "type": "scatter3d",
         "x": [
          0.48480833003012425,
          0.3450703983680935,
          null
         ],
         "y": [
          0.07468105697083693,
          0.44923837008154244,
          null
         ],
         "z": [
          0.395513570094418,
          0.9086299827623517,
          null
         ]
        },
        {
         "hoverinfo": "none",
         "line": {
          "color": "rgb(209, 0, 45)",
          "width": 5
         },
         "mode": "lines",
         "type": "scatter3d",
         "x": [
          0.48480833003012425,
          0.8762854776100119,
          null
         ],
         "y": [
          0.07468105697083693,
          0.47960418159505,
          null
         ],
         "z": [
          0.395513570094418,
          0.5084472388307851,
          null
         ]
        },
        {
         "hoverinfo": "none",
         "line": {
          "color": "rgb(172, 0, 82)",
          "width": 5
         },
         "mode": "lines",
         "type": "scatter3d",
         "x": [
          0.48480833003012425,
          0.8579177060601673,
          null
         ],
         "y": [
          0.07468105697083693,
          0.36023061213341445,
          null
         ],
         "z": [
          0.395513570094418,
          0.37712595158502105,
          null
         ]
        },
        {
         "hoverinfo": "none",
         "line": {
          "color": "rgb(134, 0, 120)",
          "width": 5
         },
         "mode": "lines",
         "type": "scatter3d",
         "x": [
          0.48480833003012425,
          0.844616920075403,
          null
         ],
         "y": [
          0.07468105697083693,
          0.738517296511747,
          null
         ],
         "z": [
          0.395513570094418,
          0.18666506924123072,
          null
         ]
        },
        {
         "hoverinfo": "none",
         "line": {
          "color": "rgb(158, 0, 96)",
          "width": 5
         },
         "mode": "lines",
         "type": "scatter3d",
         "x": [
          0.48480833003012425,
          0.42184642461052835,
          null
         ],
         "y": [
          0.07468105697083693,
          0.36714868625795205,
          null
         ],
         "z": [
          0.395513570094418,
          0.9277768848142154,
          null
         ]
        },
        {
         "hoverinfo": "none",
         "line": {
          "color": "rgb(153, 0, 101)",
          "width": 5
         },
         "mode": "lines",
         "type": "scatter3d",
         "x": [
          0.48480833003012425,
          0.2337706636881529,
          null
         ],
         "y": [
          0.07468105697083693,
          0.8818738064175837,
          null
         ],
         "z": [
          0.395513570094418,
          0.8221633304150313,
          null
         ]
        },
        {
         "hoverinfo": "none",
         "line": {
          "color": "rgb(127, 0, 127)",
          "width": 5
         },
         "mode": "lines",
         "type": "scatter3d",
         "x": [
          0.48480833003012425,
          0.23056861449207033,
          null
         ],
         "y": [
          0.07468105697083693,
          0.8411610968608391,
          null
         ],
         "z": [
          0.395513570094418,
          0.557518197329446,
          null
         ]
        },
        {
         "hoverinfo": "none",
         "line": {
          "color": "rgb(159, 0, 95)",
          "width": 5
         },
         "mode": "lines",
         "type": "scatter3d",
         "x": [
          0.48480833003012425,
          0.47948297505685755,
          null
         ],
         "y": [
          0.07468105697083693,
          0.8013901001720605,
          null
         ],
         "z": [
          0.395513570094418,
          0.15269340197283443,
          null
         ]
        },
        {
         "hoverinfo": "none",
         "line": {
          "color": "rgb(204, 0, 51)",
          "width": 5
         },
         "mode": "lines",
         "type": "scatter3d",
         "x": [
          0.48480833003012425,
          0.9781105859426973,
          null
         ],
         "y": [
          0.07468105697083693,
          0.8490289388008163,
          null
         ],
         "z": [
          0.395513570094418,
          0.5264097897923483,
          null
         ]
        },
        {
         "hoverinfo": "none",
         "line": {
          "color": "rgb(160, 0, 94)",
          "width": 5
         },
         "mode": "lines",
         "type": "scatter3d",
         "x": [
          0.48480833003012425,
          0.8332748158841728,
          null
         ],
         "y": [
          0.07468105697083693,
          0.046542982759394835,
          null
         ],
         "z": [
          0.395513570094418,
          0.6727598471831093,
          null
         ]
        },
        {
         "hoverinfo": "none",
         "line": {
          "color": "rgb(206, 0, 48)",
          "width": 5
         },
         "mode": "lines",
         "type": "scatter3d",
         "x": [
          0.48480833003012425,
          0.7699144110526226,
          null
         ],
         "y": [
          0.07468105697083693,
          0.8115073372041424,
          null
         ],
         "z": [
          0.395513570094418,
          0.08550601573897498,
          null
         ]
        },
        {
         "hoverinfo": "none",
         "line": {
          "color": "rgb(143, 0, 111)",
          "width": 5
         },
         "mode": "lines",
         "type": "scatter3d",
         "x": [
          0.48480833003012425,
          0.9092617055927307,
          null
         ],
         "y": [
          0.07468105697083693,
          0.2979520344719221,
          null
         ],
         "z": [
          0.395513570094418,
          0.6653737009999455,
          null
         ]
        },
        {
         "hoverinfo": "none",
         "line": {
          "color": "rgb(172, 0, 82)",
          "width": 5
         },
         "mode": "lines",
         "type": "scatter3d",
         "x": [
          0.48480833003012425,
          0.14391437405730279,
          null
         ],
         "y": [
          0.07468105697083693,
          0.7003725495824806,
          null
         ],
         "z": [
          0.395513570094418,
          0.7349509651974894,
          null
         ]
        },
        {
         "hoverinfo": "none",
         "line": {
          "color": "rgb(185, 0, 69)",
          "width": 5
         },
         "mode": "lines",
         "type": "scatter3d",
         "x": [
          0.48480833003012425,
          0.47931995259183224,
          null
         ],
         "y": [
          0.07468105697083693,
          0.19758860737842487,
          null
         ],
         "z": [
          0.395513570094418,
          0.5844932626997721,
          null
         ]
        },
        {
         "hoverinfo": "none",
         "line": {
          "color": "rgb(127, 0, 127)",
          "width": 5
         },
         "mode": "lines",
         "type": "scatter3d",
         "x": [
          0.48480833003012425,
          0.2245549099478309,
          null
         ],
         "y": [
          0.07468105697083693,
          0.7463434564460331,
          null
         ],
         "z": [
          0.395513570094418,
          0.23490114927027506,
          null
         ]
        },
        {
         "hoverinfo": "none",
         "line": {
          "color": "rgb(191, 0, 63)",
          "width": 5
         },
         "mode": "lines",
         "type": "scatter3d",
         "x": [
          0.48480833003012425,
          0.39607346367626906,
          null
         ],
         "y": [
          0.07468105697083693,
          0.7895750128909715,
          null
         ],
         "z": [
          0.395513570094418,
          0.03071091494565381,
          null
         ]
        },
        {
         "hoverinfo": "none",
         "line": {
          "color": "rgb(139, 0, 115)",
          "width": 5
         },
         "mode": "lines",
         "type": "scatter3d",
         "x": [
          0.48480833003012425,
          0.029113341575248364,
          null
         ],
         "y": [
          0.07468105697083693,
          0.8827558968891966,
          null
         ],
         "z": [
          0.395513570094418,
          0.645952711792495,
          null
         ]
        },
        {
         "hoverinfo": "none",
         "line": {
          "color": "rgb(127, 0, 127)",
          "width": 5
         },
         "mode": "lines",
         "type": "scatter3d",
         "x": [
          0.48480833003012425,
          0.04597114730902763,
          null
         ],
         "y": [
          0.07468105697083693,
          0.9733500596329474,
          null
         ],
         "z": [
          0.395513570094418,
          0.3207618379493513,
          null
         ]
        },
        {
         "hoverinfo": "none",
         "line": {
          "color": "rgb(255, 0, 0)",
          "width": 5
         },
         "mode": "lines",
         "type": "scatter3d",
         "x": [
          0.48480833003012425,
          0.8549284294434172,
          null
         ],
         "y": [
          0.07468105697083693,
          0.7100329143013464,
          null
         ],
         "z": [
          0.395513570094418,
          0.7104578479395972,
          null
         ]
        },
        {
         "hoverinfo": "none",
         "line": {
          "color": "rgb(146, 0, 108)",
          "width": 5
         },
         "mode": "lines",
         "type": "scatter3d",
         "x": [
          0.9781105859426973,
          0.35128607609016127,
          null
         ],
         "y": [
          0.8490289388008163,
          0.9803601140750317,
          null
         ],
         "z": [
          0.5264097897923483,
          0.020756992574077926,
          null
         ]
        },
        {
         "hoverinfo": "none",
         "line": {
          "color": "rgb(174, 0, 80)",
          "width": 5
         },
         "mode": "lines",
         "type": "scatter3d",
         "x": [
          0.9781105859426973,
          0.14391437405730279,
          null
         ],
         "y": [
          0.8490289388008163,
          0.7003725495824806,
          null
         ],
         "z": [
          0.5264097897923483,
          0.7349509651974894,
          null
         ]
        },
        {
         "hoverinfo": "none",
         "line": {
          "color": "rgb(191, 0, 63)",
          "width": 5
         },
         "mode": "lines",
         "type": "scatter3d",
         "x": [
          0.9781105859426973,
          0.8978680896657024,
          null
         ],
         "y": [
          0.8490289388008163,
          0.20558228881241003,
          null
         ],
         "z": [
          0.5264097897923483,
          0.22993598393832704,
          null
         ]
        },
        {
         "hoverinfo": "none",
         "line": {
          "color": "rgb(193, 0, 61)",
          "width": 5
         },
         "mode": "lines",
         "type": "scatter3d",
         "x": [
          0.9781105859426973,
          0.844616920075403,
          null
         ],
         "y": [
          0.8490289388008163,
          0.738517296511747,
          null
         ],
         "z": [
          0.5264097897923483,
          0.18666506924123072,
          null
         ]
        },
        {
         "hoverinfo": "none",
         "line": {
          "color": "rgb(182, 0, 72)",
          "width": 5
         },
         "mode": "lines",
         "type": "scatter3d",
         "x": [
          0.9781105859426973,
          0.8579177060601673,
          null
         ],
         "y": [
          0.8490289388008163,
          0.36023061213341445,
          null
         ],
         "z": [
          0.5264097897923483,
          0.37712595158502105,
          null
         ]
        },
        {
         "hoverinfo": "none",
         "line": {
          "color": "rgb(210, 0, 44)",
          "width": 5
         },
         "mode": "lines",
         "type": "scatter3d",
         "x": [
          0.9781105859426973,
          0.6391203138622066,
          null
         ],
         "y": [
          0.8490289388008163,
          0.003471089158763041,
          null
         ],
         "z": [
          0.5264097897923483,
          0.25904918126862864,
          null
         ]
        },
        {
         "hoverinfo": "none",
         "line": {
          "color": "rgb(174, 0, 80)",
          "width": 5
         },
         "mode": "lines",
         "type": "scatter3d",
         "x": [
          0.9781105859426973,
          0.1508960398558543,
          null
         ],
         "y": [
          0.8490289388008163,
          0.6047914272677114,
          null
         ],
         "z": [
          0.5264097897923483,
          0.2547124201018064,
          null
         ]
        },
        {
         "hoverinfo": "none",
         "line": {
          "color": "rgb(129, 0, 125)",
          "width": 5
         },
         "mode": "lines",
         "type": "scatter3d",
         "x": [
          0.9781105859426973,
          0.42184642461052835,
          null
         ],
         "y": [
          0.8490289388008163,
          0.36714868625795205,
          null
         ],
         "z": [
          0.5264097897923483,
          0.9277768848142154,
          null
         ]
        },
        {
         "hoverinfo": "none",
         "line": {
          "color": "rgb(179, 0, 75)",
          "width": 5
         },
         "mode": "lines",
         "type": "scatter3d",
         "x": [
          0.9781105859426973,
          0.9092617055927307,
          null
         ],
         "y": [
          0.8490289388008163,
          0.2979520344719221,
          null
         ],
         "z": [
          0.5264097897923483,
          0.6653737009999455,
          null
         ]
        },
        {
         "hoverinfo": "none",
         "line": {
          "color": "rgb(173, 0, 81)",
          "width": 5
         },
         "mode": "lines",
         "type": "scatter3d",
         "x": [
          0.9781105859426973,
          0.8332748158841728,
          null
         ],
         "y": [
          0.8490289388008163,
          0.046542982759394835,
          null
         ],
         "z": [
          0.5264097897923483,
          0.6727598471831093,
          null
         ]
        },
        {
         "hoverinfo": "none",
         "line": {
          "color": "rgb(165, 0, 89)",
          "width": 5
         },
         "mode": "lines",
         "type": "scatter3d",
         "x": [
          0.9781105859426973,
          0.011378688695514505,
          null
         ],
         "y": [
          0.8490289388008163,
          0.0715207325479863,
          null
         ],
         "z": [
          0.5264097897923483,
          0.6493344636898585,
          null
         ]
        },
        {
         "hoverinfo": "none",
         "line": {
          "color": "rgb(182, 0, 72)",
          "width": 5
         },
         "mode": "lines",
         "type": "scatter3d",
         "x": [
          0.9781105859426973,
          0.8762854776100119,
          null
         ],
         "y": [
          0.8490289388008163,
          0.47960418159505,
          null
         ],
         "z": [
          0.5264097897923483,
          0.5084472388307851,
          null
         ]
        },
        {
         "hoverinfo": "none",
         "line": {
          "color": "rgb(154, 0, 100)",
          "width": 5
         },
         "mode": "lines",
         "type": "scatter3d",
         "x": [
          0.9781105859426973,
          0.2337706636881529,
          null
         ],
         "y": [
          0.8490289388008163,
          0.8818738064175837,
          null
         ],
         "z": [
          0.5264097897923483,
          0.8221633304150313,
          null
         ]
        },
        {
         "hoverinfo": "none",
         "line": {
          "color": "rgb(198, 0, 56)",
          "width": 5
         },
         "mode": "lines",
         "type": "scatter3d",
         "x": [
          0.9781105859426973,
          0.1957925328841147,
          null
         ],
         "y": [
          0.8490289388008163,
          0.8634726352707632,
          null
         ],
         "z": [
          0.5264097897923483,
          0.590206450889974,
          null
         ]
        },
        {
         "hoverinfo": "none",
         "line": {
          "color": "rgb(85, 0, 170)",
          "width": 5
         },
         "mode": "lines",
         "type": "scatter3d",
         "x": [
          0.9781105859426973,
          0.8549284294434172,
          null
         ],
         "y": [
          0.8490289388008163,
          0.7100329143013464,
          null
         ],
         "z": [
          0.5264097897923483,
          0.7104578479395972,
          null
         ]
        },
        {
         "hoverinfo": "none",
         "line": {
          "color": "rgb(180, 0, 74)",
          "width": 5
         },
         "mode": "lines",
         "type": "scatter3d",
         "x": [
          0.9781105859426973,
          0.9415674566933468,
          null
         ],
         "y": [
          0.8490289388008163,
          0.6424351934262001,
          null
         ],
         "z": [
          0.5264097897923483,
          0.9352923146779392,
          null
         ]
        },
        {
         "hoverinfo": "none",
         "line": {
          "color": "rgb(85, 0, 170)",
          "width": 5
         },
         "mode": "lines",
         "type": "scatter3d",
         "x": [
          0.9781105859426973,
          0.029113341575248364,
          null
         ],
         "y": [
          0.8490289388008163,
          0.8827558968891966,
          null
         ],
         "z": [
          0.5264097897923483,
          0.645952711792495,
          null
         ]
        },
        {
         "hoverinfo": "none",
         "line": {
          "color": "rgb(182, 0, 72)",
          "width": 5
         },
         "mode": "lines",
         "type": "scatter3d",
         "x": [
          0.9781105859426973,
          0.12202397256703224,
          null
         ],
         "y": [
          0.8490289388008163,
          0.33803810479530894,
          null
         ],
         "z": [
          0.5264097897923483,
          0.17462877073953564,
          null
         ]
        },
        {
         "hoverinfo": "none",
         "line": {
          "color": "rgb(145, 0, 109)",
          "width": 5
         },
         "mode": "lines",
         "type": "scatter3d",
         "x": [
          0.9781105859426973,
          0.7510175332938032,
          null
         ],
         "y": [
          0.8490289388008163,
          0.2974558016214245,
          null
         ],
         "z": [
          0.5264097897923483,
          0.0026742988640656717,
          null
         ]
        },
        {
         "hoverinfo": "none",
         "line": {
          "color": "rgb(139, 0, 115)",
          "width": 5
         },
         "mode": "lines",
         "type": "scatter3d",
         "x": [
          0.9781105859426973,
          0.47931995259183224,
          null
         ],
         "y": [
          0.8490289388008163,
          0.19758860737842487,
          null
         ],
         "z": [
          0.5264097897923483,
          0.5844932626997721,
          null
         ]
        },
        {
         "hoverinfo": "none",
         "line": {
          "color": "rgb(226, 0, 28)",
          "width": 5
         },
         "mode": "lines",
         "type": "scatter3d",
         "x": [
          0.9781105859426973,
          0.04597114730902763,
          null
         ],
         "y": [
          0.8490289388008163,
          0.9733500596329474,
          null
         ],
         "z": [
          0.5264097897923483,
          0.3207618379493513,
          null
         ]
        },
        {
         "hoverinfo": "none",
         "line": {
          "color": "rgb(213, 0, 41)",
          "width": 5
         },
         "mode": "lines",
         "type": "scatter3d",
         "x": [
          0.9781105859426973,
          0.05695321769934458,
          null
         ],
         "y": [
          0.8490289388008163,
          0.703050803459575,
          null
         ],
         "z": [
          0.5264097897923483,
          0.4566279397356392,
          null
         ]
        },
        {
         "hoverinfo": "none",
         "line": {
          "color": "rgb(200, 0, 54)",
          "width": 5
         },
         "mode": "lines",
         "type": "scatter3d",
         "x": [
          0.9781105859426973,
          0.3450703983680935,
          null
         ],
         "y": [
          0.8490289388008163,
          0.44923837008154244,
          null
         ],
         "z": [
          0.5264097897923483,
          0.9086299827623517,
          null
         ]
        },
        {
         "hoverinfo": "none",
         "line": {
          "color": "rgb(132, 0, 122)",
          "width": 5
         },
         "mode": "lines",
         "type": "scatter3d",
         "x": [
          0.9781105859426973,
          0.47948297505685755,
          null
         ],
         "y": [
          0.8490289388008163,
          0.8013901001720605,
          null
         ],
         "z": [
          0.5264097897923483,
          0.15269340197283443,
          null
         ]
        },
        {
         "hoverinfo": "none",
         "line": {
          "color": "rgb(197, 0, 57)",
          "width": 5
         },
         "mode": "lines",
         "type": "scatter3d",
         "x": [
          0.9781105859426973,
          0.3955609727109366,
          null
         ],
         "y": [
          0.8490289388008163,
          0.0018453813536267738,
          null
         ],
         "z": [
          0.5264097897923483,
          0.5123366696379305,
          null
         ]
        },
        {
         "hoverinfo": "none",
         "line": {
          "color": "rgb(221, 0, 34)",
          "width": 5
         },
         "mode": "lines",
         "type": "scatter3d",
         "x": [
          0.9781105859426973,
          0.7699144110526226,
          null
         ],
         "y": [
          0.8490289388008163,
          0.8115073372041424,
          null
         ],
         "z": [
          0.5264097897923483,
          0.08550601573897498,
          null
         ]
        },
        {
         "hoverinfo": "none",
         "line": {
          "color": "rgb(197, 0, 57)",
          "width": 5
         },
         "mode": "lines",
         "type": "scatter3d",
         "x": [
          0.9781105859426973,
          0.5049967185452846,
          null
         ],
         "y": [
          0.8490289388008163,
          0.7459611455860693,
          null
         ],
         "z": [
          0.5264097897923483,
          0.20474810738637628,
          null
         ]
        },
        {
         "hoverinfo": "none",
         "line": {
          "color": "rgb(198, 0, 56)",
          "width": 5
         },
         "mode": "lines",
         "type": "scatter3d",
         "x": [
          0.9781105859426973,
          0.39607346367626906,
          null
         ],
         "y": [
          0.8490289388008163,
          0.7895750128909715,
          null
         ],
         "z": [
          0.5264097897923483,
          0.03071091494565381,
          null
         ]
        },
        {
         "hoverinfo": "none",
         "line": {
          "color": "rgb(204, 0, 51)",
          "width": 5
         },
         "mode": "lines",
         "type": "scatter3d",
         "x": [
          0.9781105859426973,
          0.23056861449207033,
          null
         ],
         "y": [
          0.8490289388008163,
          0.8411610968608391,
          null
         ],
         "z": [
          0.5264097897923483,
          0.557518197329446,
          null
         ]
        },
        {
         "hoverinfo": "none",
         "line": {
          "color": "rgb(212, 0, 42)",
          "width": 5
         },
         "mode": "lines",
         "type": "scatter3d",
         "x": [
          0.9781105859426973,
          0.2245549099478309,
          null
         ],
         "y": [
          0.8490289388008163,
          0.7463434564460331,
          null
         ],
         "z": [
          0.5264097897923483,
          0.23490114927027506,
          null
         ]
        },
        {
         "hoverinfo": "none",
         "line": {
          "color": "rgb(197, 0, 57)",
          "width": 5
         },
         "mode": "lines",
         "type": "scatter3d",
         "x": [
          0.9415674566933468,
          0.1508960398558543,
          null
         ],
         "y": [
          0.6424351934262001,
          0.6047914272677114,
          null
         ],
         "z": [
          0.9352923146779392,
          0.2547124201018064,
          null
         ]
        },
        {
         "hoverinfo": "none",
         "line": {
          "color": "rgb(181, 0, 73)",
          "width": 5
         },
         "mode": "lines",
         "type": "scatter3d",
         "x": [
          0.9415674566933468,
          0.35128607609016127,
          null
         ],
         "y": [
          0.6424351934262001,
          0.9803601140750317,
          null
         ],
         "z": [
          0.9352923146779392,
          0.020756992574077926,
          null
         ]
        },
        {
         "hoverinfo": "none",
         "line": {
          "color": "rgb(174, 0, 80)",
          "width": 5
         },
         "mode": "lines",
         "type": "scatter3d",
         "x": [
          0.9415674566933468,
          0.47948297505685755,
          null
         ],
         "y": [
          0.6424351934262001,
          0.8013901001720605,
          null
         ],
         "z": [
          0.9352923146779392,
          0.15269340197283443,
          null
         ]
        },
        {
         "hoverinfo": "none",
         "line": {
          "color": "rgb(168, 0, 86)",
          "width": 5
         },
         "mode": "lines",
         "type": "scatter3d",
         "x": [
          0.9415674566933468,
          0.8579177060601673,
          null
         ],
         "y": [
          0.6424351934262001,
          0.36023061213341445,
          null
         ],
         "z": [
          0.9352923146779392,
          0.37712595158502105,
          null
         ]
        },
        {
         "hoverinfo": "none",
         "line": {
          "color": "rgb(213, 0, 41)",
          "width": 5
         },
         "mode": "lines",
         "type": "scatter3d",
         "x": [
          0.9415674566933468,
          0.3955609727109366,
          null
         ],
         "y": [
          0.6424351934262001,
          0.0018453813536267738,
          null
         ],
         "z": [
          0.9352923146779392,
          0.5123366696379305,
          null
         ]
        },
        {
         "hoverinfo": "none",
         "line": {
          "color": "rgb(173, 0, 81)",
          "width": 5
         },
         "mode": "lines",
         "type": "scatter3d",
         "x": [
          0.9415674566933468,
          0.8978680896657024,
          null
         ],
         "y": [
          0.6424351934262001,
          0.20558228881241003,
          null
         ],
         "z": [
          0.9352923146779392,
          0.22993598393832704,
          null
         ]
        },
        {
         "hoverinfo": "none",
         "line": {
          "color": "rgb(168, 0, 86)",
          "width": 5
         },
         "mode": "lines",
         "type": "scatter3d",
         "x": [
          0.9415674566933468,
          0.844616920075403,
          null
         ],
         "y": [
          0.6424351934262001,
          0.738517296511747,
          null
         ],
         "z": [
          0.9352923146779392,
          0.18666506924123072,
          null
         ]
        },
        {
         "hoverinfo": "none",
         "line": {
          "color": "rgb(190, 0, 64)",
          "width": 5
         },
         "mode": "lines",
         "type": "scatter3d",
         "x": [
          0.9415674566933468,
          0.7510175332938032,
          null
         ],
         "y": [
          0.6424351934262001,
          0.2974558016214245,
          null
         ],
         "z": [
          0.9352923146779392,
          0.0026742988640656717,
          null
         ]
        },
        {
         "hoverinfo": "none",
         "line": {
          "color": "rgb(181, 0, 73)",
          "width": 5
         },
         "mode": "lines",
         "type": "scatter3d",
         "x": [
          0.9415674566933468,
          0.14391437405730279,
          null
         ],
         "y": [
          0.6424351934262001,
          0.7003725495824806,
          null
         ],
         "z": [
          0.9352923146779392,
          0.7349509651974894,
          null
         ]
        },
        {
         "hoverinfo": "none",
         "line": {
          "color": "rgb(213, 0, 41)",
          "width": 5
         },
         "mode": "lines",
         "type": "scatter3d",
         "x": [
          0.9415674566933468,
          0.23056861449207033,
          null
         ],
         "y": [
          0.6424351934262001,
          0.8411610968608391,
          null
         ],
         "z": [
          0.9352923146779392,
          0.557518197329446,
          null
         ]
        },
        {
         "hoverinfo": "none",
         "line": {
          "color": "rgb(212, 0, 42)",
          "width": 5
         },
         "mode": "lines",
         "type": "scatter3d",
         "x": [
          0.9415674566933468,
          0.5049967185452846,
          null
         ],
         "y": [
          0.6424351934262001,
          0.7459611455860693,
          null
         ],
         "z": [
          0.9352923146779392,
          0.20474810738637628,
          null
         ]
        },
        {
         "hoverinfo": "none",
         "line": {
          "color": "rgb(211, 0, 43)",
          "width": 5
         },
         "mode": "lines",
         "type": "scatter3d",
         "x": [
          0.9415674566933468,
          0.011378688695514505,
          null
         ],
         "y": [
          0.6424351934262001,
          0.0715207325479863,
          null
         ],
         "z": [
          0.9352923146779392,
          0.6493344636898585,
          null
         ]
        },
        {
         "hoverinfo": "none",
         "line": {
          "color": "rgb(246, 0, 8)",
          "width": 5
         },
         "mode": "lines",
         "type": "scatter3d",
         "x": [
          0.9415674566933468,
          0.7699144110526226,
          null
         ],
         "y": [
          0.6424351934262001,
          0.8115073372041424,
          null
         ],
         "z": [
          0.9352923146779392,
          0.08550601573897498,
          null
         ]
        },
        {
         "hoverinfo": "none",
         "line": {
          "color": "rgb(195, 0, 59)",
          "width": 5
         },
         "mode": "lines",
         "type": "scatter3d",
         "x": [
          0.9415674566933468,
          0.1957925328841147,
          null
         ],
         "y": [
          0.6424351934262001,
          0.8634726352707632,
          null
         ],
         "z": [
          0.9352923146779392,
          0.590206450889974,
          null
         ]
        },
        {
         "hoverinfo": "none",
         "line": {
          "color": "rgb(194, 0, 60)",
          "width": 5
         },
         "mode": "lines",
         "type": "scatter3d",
         "x": [
          0.9415674566933468,
          0.9092617055927307,
          null
         ],
         "y": [
          0.6424351934262001,
          0.2979520344719221,
          null
         ],
         "z": [
          0.9352923146779392,
          0.6653737009999455,
          null
         ]
        },
        {
         "hoverinfo": "none",
         "line": {
          "color": "rgb(164, 0, 90)",
          "width": 5
         },
         "mode": "lines",
         "type": "scatter3d",
         "x": [
          0.9415674566933468,
          0.8332748158841728,
          null
         ],
         "y": [
          0.6424351934262001,
          0.046542982759394835,
          null
         ],
         "z": [
          0.9352923146779392,
          0.6727598471831093,
          null
         ]
        },
        {
         "hoverinfo": "none",
         "line": {
          "color": "rgb(215, 0, 39)",
          "width": 5
         },
         "mode": "lines",
         "type": "scatter3d",
         "x": [
          0.9415674566933468,
          0.12202397256703224,
          null
         ],
         "y": [
          0.6424351934262001,
          0.33803810479530894,
          null
         ],
         "z": [
          0.9352923146779392,
          0.17462877073953564,
          null
         ]
        },
        {
         "hoverinfo": "none",
         "line": {
          "color": "rgb(209, 0, 45)",
          "width": 5
         },
         "mode": "lines",
         "type": "scatter3d",
         "x": [
          0.9415674566933468,
          0.8762854776100119,
          null
         ],
         "y": [
          0.6424351934262001,
          0.47960418159505,
          null
         ],
         "z": [
          0.9352923146779392,
          0.5084472388307851,
          null
         ]
        },
        {
         "hoverinfo": "none",
         "line": {
          "color": "rgb(175, 0, 79)",
          "width": 5
         },
         "mode": "lines",
         "type": "scatter3d",
         "x": [
          0.9415674566933468,
          0.6391203138622066,
          null
         ],
         "y": [
          0.6424351934262001,
          0.003471089158763041,
          null
         ],
         "z": [
          0.9352923146779392,
          0.25904918126862864,
          null
         ]
        },
        {
         "hoverinfo": "none",
         "line": {
          "color": "rgb(174, 0, 80)",
          "width": 5
         },
         "mode": "lines",
         "type": "scatter3d",
         "x": [
          0.9415674566933468,
          0.2337706636881529,
          null
         ],
         "y": [
          0.6424351934262001,
          0.8818738064175837,
          null
         ],
         "z": [
          0.9352923146779392,
          0.8221633304150313,
          null
         ]
        },
        {
         "hoverinfo": "none",
         "line": {
          "color": "rgb(222, 0, 32)",
          "width": 5
         },
         "mode": "lines",
         "type": "scatter3d",
         "x": [
          0.9415674566933468,
          0.39607346367626906,
          null
         ],
         "y": [
          0.6424351934262001,
          0.7895750128909715,
          null
         ],
         "z": [
          0.9352923146779392,
          0.03071091494565381,
          null
         ]
        },
        {
         "hoverinfo": "none",
         "line": {
          "color": "rgb(195, 0, 59)",
          "width": 5
         },
         "mode": "lines",
         "type": "scatter3d",
         "x": [
          0.9415674566933468,
          0.42184642461052835,
          null
         ],
         "y": [
          0.6424351934262001,
          0.36714868625795205,
          null
         ],
         "z": [
          0.9352923146779392,
          0.9277768848142154,
          null
         ]
        },
        {
         "hoverinfo": "none",
         "line": {
          "color": "rgb(197, 0, 57)",
          "width": 5
         },
         "mode": "lines",
         "type": "scatter3d",
         "x": [
          0.9415674566933468,
          0.3450703983680935,
          null
         ],
         "y": [
          0.6424351934262001,
          0.44923837008154244,
          null
         ],
         "z": [
          0.9352923146779392,
          0.9086299827623517,
          null
         ]
        },
        {
         "hoverinfo": "none",
         "line": {
          "color": "rgb(191, 0, 63)",
          "width": 5
         },
         "mode": "lines",
         "type": "scatter3d",
         "x": [
          0.9415674566933468,
          0.8549284294434172,
          null
         ],
         "y": [
          0.6424351934262001,
          0.7100329143013464,
          null
         ],
         "z": [
          0.9352923146779392,
          0.7104578479395972,
          null
         ]
        },
        {
         "hoverinfo": "none",
         "line": {
          "color": "rgb(191, 0, 63)",
          "width": 5
         },
         "mode": "lines",
         "type": "scatter3d",
         "x": [
          0.9415674566933468,
          0.47931995259183224,
          null
         ],
         "y": [
          0.6424351934262001,
          0.19758860737842487,
          null
         ],
         "z": [
          0.9352923146779392,
          0.5844932626997721,
          null
         ]
        },
        {
         "hoverinfo": "none",
         "line": {
          "color": "rgb(190, 0, 64)",
          "width": 5
         },
         "mode": "lines",
         "type": "scatter3d",
         "x": [
          0.9415674566933468,
          0.029113341575248364,
          null
         ],
         "y": [
          0.6424351934262001,
          0.8827558968891966,
          null
         ],
         "z": [
          0.9352923146779392,
          0.645952711792495,
          null
         ]
        },
        {
         "hoverinfo": "none",
         "line": {
          "color": "rgb(218, 0, 36)",
          "width": 5
         },
         "mode": "lines",
         "type": "scatter3d",
         "x": [
          0.9415674566933468,
          0.05695321769934458,
          null
         ],
         "y": [
          0.6424351934262001,
          0.703050803459575,
          null
         ],
         "z": [
          0.9352923146779392,
          0.4566279397356392,
          null
         ]
        },
        {
         "hoverinfo": "none",
         "line": {
          "color": "rgb(218, 0, 36)",
          "width": 5
         },
         "mode": "lines",
         "type": "scatter3d",
         "x": [
          0.9415674566933468,
          0.04597114730902763,
          null
         ],
         "y": [
          0.6424351934262001,
          0.9733500596329474,
          null
         ],
         "z": [
          0.9352923146779392,
          0.3207618379493513,
          null
         ]
        },
        {
         "hoverinfo": "none",
         "line": {
          "color": "rgb(180, 0, 74)",
          "width": 5
         },
         "mode": "lines",
         "type": "scatter3d",
         "x": [
          0.9415674566933468,
          0.2245549099478309,
          null
         ],
         "y": [
          0.6424351934262001,
          0.7463434564460331,
          null
         ],
         "z": [
          0.9352923146779392,
          0.23490114927027506,
          null
         ]
        },
        {
         "hoverinfo": "none",
         "line": {
          "color": "rgb(227, 0, 27)",
          "width": 5
         },
         "mode": "lines",
         "type": "scatter3d",
         "x": [
          0.3955609727109366,
          0.1508960398558543,
          null
         ],
         "y": [
          0.0018453813536267738,
          0.6047914272677114,
          null
         ],
         "z": [
          0.5123366696379305,
          0.2547124201018064,
          null
         ]
        },
        {
         "hoverinfo": "none",
         "line": {
          "color": "rgb(200, 0, 54)",
          "width": 5
         },
         "mode": "lines",
         "type": "scatter3d",
         "x": [
          0.3955609727109366,
          0.47948297505685755,
          null
         ],
         "y": [
          0.0018453813536267738,
          0.8013901001720605,
          null
         ],
         "z": [
          0.5123366696379305,
          0.15269340197283443,
          null
         ]
        },
        {
         "hoverinfo": "none",
         "line": {
          "color": "rgb(205, 0, 49)",
          "width": 5
         },
         "mode": "lines",
         "type": "scatter3d",
         "x": [
          0.3955609727109366,
          0.8579177060601673,
          null
         ],
         "y": [
          0.0018453813536267738,
          0.36023061213341445,
          null
         ],
         "z": [
          0.5123366696379305,
          0.37712595158502105,
          null
         ]
        },
        {
         "hoverinfo": "none",
         "line": {
          "color": "rgb(206, 0, 48)",
          "width": 5
         },
         "mode": "lines",
         "type": "scatter3d",
         "x": [
          0.3955609727109366,
          0.5049967185452846,
          null
         ],
         "y": [
          0.0018453813536267738,
          0.7459611455860693,
          null
         ],
         "z": [
          0.5123366696379305,
          0.20474810738637628,
          null
         ]
        },
        {
         "hoverinfo": "none",
         "line": {
          "color": "rgb(212, 0, 42)",
          "width": 5
         },
         "mode": "lines",
         "type": "scatter3d",
         "x": [
          0.3955609727109366,
          0.011378688695514505,
          null
         ],
         "y": [
          0.0018453813536267738,
          0.0715207325479863,
          null
         ],
         "z": [
          0.5123366696379305,
          0.6493344636898585,
          null
         ]
        },
        {
         "hoverinfo": "none",
         "line": {
          "color": "rgb(205, 0, 49)",
          "width": 5
         },
         "mode": "lines",
         "type": "scatter3d",
         "x": [
          0.3955609727109366,
          0.7510175332938032,
          null
         ],
         "y": [
          0.0018453813536267738,
          0.2974558016214245,
          null
         ],
         "z": [
          0.5123366696379305,
          0.0026742988640656717,
          null
         ]
        },
        {
         "hoverinfo": "none",
         "line": {
          "color": "rgb(227, 0, 27)",
          "width": 5
         },
         "mode": "lines",
         "type": "scatter3d",
         "x": [
          0.3955609727109366,
          0.12202397256703224,
          null
         ],
         "y": [
          0.0018453813536267738,
          0.33803810479530894,
          null
         ],
         "z": [
          0.5123366696379305,
          0.17462877073953564,
          null
         ]
        },
        {
         "hoverinfo": "none",
         "line": {
          "color": "rgb(217, 0, 37)",
          "width": 5
         },
         "mode": "lines",
         "type": "scatter3d",
         "x": [
          0.3955609727109366,
          0.1957925328841147,
          null
         ],
         "y": [
          0.0018453813536267738,
          0.8634726352707632,
          null
         ],
         "z": [
          0.5123366696379305,
          0.590206450889974,
          null
         ]
        },
        {
         "hoverinfo": "none",
         "line": {
          "color": "rgb(191, 0, 63)",
          "width": 5
         },
         "mode": "lines",
         "type": "scatter3d",
         "x": [
          0.3955609727109366,
          0.3450703983680935,
          null
         ],
         "y": [
          0.0018453813536267738,
          0.44923837008154244,
          null
         ],
         "z": [
          0.5123366696379305,
          0.9086299827623517,
          null
         ]
        },
        {
         "hoverinfo": "none",
         "line": {
          "color": "rgb(174, 0, 80)",
          "width": 5
         },
         "mode": "lines",
         "type": "scatter3d",
         "x": [
          0.3955609727109366,
          0.42184642461052835,
          null
         ],
         "y": [
          0.0018453813536267738,
          0.36714868625795205,
          null
         ],
         "z": [
          0.5123366696379305,
          0.9277768848142154,
          null
         ]
        },
        {
         "hoverinfo": "none",
         "line": {
          "color": "rgb(207, 0, 47)",
          "width": 5
         },
         "mode": "lines",
         "type": "scatter3d",
         "x": [
          0.3955609727109366,
          0.8549284294434172,
          null
         ],
         "y": [
          0.0018453813536267738,
          0.7100329143013464,
          null
         ],
         "z": [
          0.5123366696379305,
          0.7104578479395972,
          null
         ]
        },
        {
         "hoverinfo": "none",
         "line": {
          "color": "rgb(213, 0, 41)",
          "width": 5
         },
         "mode": "lines",
         "type": "scatter3d",
         "x": [
          0.3955609727109366,
          0.6391203138622066,
          null
         ],
         "y": [
          0.0018453813536267738,
          0.003471089158763041,
          null
         ],
         "z": [
          0.5123366696379305,
          0.25904918126862864,
          null
         ]
        },
        {
         "hoverinfo": "none",
         "line": {
          "color": "rgb(237, 0, 17)",
          "width": 5
         },
         "mode": "lines",
         "type": "scatter3d",
         "x": [
          0.3955609727109366,
          0.39607346367626906,
          null
         ],
         "y": [
          0.0018453813536267738,
          0.7895750128909715,
          null
         ],
         "z": [
          0.5123366696379305,
          0.03071091494565381,
          null
         ]
        },
        {
         "hoverinfo": "none",
         "line": {
          "color": "rgb(221, 0, 34)",
          "width": 5
         },
         "mode": "lines",
         "type": "scatter3d",
         "x": [
          0.3955609727109366,
          0.35128607609016127,
          null
         ],
         "y": [
          0.0018453813536267738,
          0.9803601140750317,
          null
         ],
         "z": [
          0.5123366696379305,
          0.020756992574077926,
          null
         ]
        },
        {
         "hoverinfo": "none",
         "line": {
          "color": "rgb(237, 0, 17)",
          "width": 5
         },
         "mode": "lines",
         "type": "scatter3d",
         "x": [
          0.3955609727109366,
          0.7699144110526226,
          null
         ],
         "y": [
          0.0018453813536267738,
          0.8115073372041424,
          null
         ],
         "z": [
          0.5123366696379305,
          0.08550601573897498,
          null
         ]
        },
        {
         "hoverinfo": "none",
         "line": {
          "color": "rgb(192, 0, 62)",
          "width": 5
         },
         "mode": "lines",
         "type": "scatter3d",
         "x": [
          0.3955609727109366,
          0.2245549099478309,
          null
         ],
         "y": [
          0.0018453813536267738,
          0.7463434564460331,
          null
         ],
         "z": [
          0.5123366696379305,
          0.23490114927027506,
          null
         ]
        },
        {
         "hoverinfo": "none",
         "line": {
          "color": "rgb(197, 0, 57)",
          "width": 5
         },
         "mode": "lines",
         "type": "scatter3d",
         "x": [
          0.3955609727109366,
          0.8332748158841728,
          null
         ],
         "y": [
          0.0018453813536267738,
          0.046542982759394835,
          null
         ],
         "z": [
          0.5123366696379305,
          0.6727598471831093,
          null
         ]
        },
        {
         "hoverinfo": "none",
         "line": {
          "color": "rgb(174, 0, 80)",
          "width": 5
         },
         "mode": "lines",
         "type": "scatter3d",
         "x": [
          0.3955609727109366,
          0.9092617055927307,
          null
         ],
         "y": [
          0.0018453813536267738,
          0.2979520344719221,
          null
         ],
         "z": [
          0.5123366696379305,
          0.6653737009999455,
          null
         ]
        },
        {
         "hoverinfo": "none",
         "line": {
          "color": "rgb(207, 0, 47)",
          "width": 5
         },
         "mode": "lines",
         "type": "scatter3d",
         "x": [
          0.3955609727109366,
          0.47931995259183224,
          null
         ],
         "y": [
          0.0018453813536267738,
          0.19758860737842487,
          null
         ],
         "z": [
          0.5123366696379305,
          0.5844932626997721,
          null
         ]
        },
        {
         "hoverinfo": "none",
         "line": {
          "color": "rgb(246, 0, 8)",
          "width": 5
         },
         "mode": "lines",
         "type": "scatter3d",
         "x": [
          0.3955609727109366,
          0.04597114730902763,
          null
         ],
         "y": [
          0.0018453813536267738,
          0.9733500596329474,
          null
         ],
         "z": [
          0.5123366696379305,
          0.3207618379493513,
          null
         ]
        },
        {
         "hoverinfo": "none",
         "line": {
          "color": "rgb(177, 0, 77)",
          "width": 5
         },
         "mode": "lines",
         "type": "scatter3d",
         "x": [
          0.3955609727109366,
          0.2337706636881529,
          null
         ],
         "y": [
          0.0018453813536267738,
          0.8818738064175837,
          null
         ],
         "z": [
          0.5123366696379305,
          0.8221633304150313,
          null
         ]
        },
        {
         "hoverinfo": "none",
         "line": {
          "color": "rgb(210, 0, 44)",
          "width": 5
         },
         "mode": "lines",
         "type": "scatter3d",
         "x": [
          0.3955609727109366,
          0.8978680896657024,
          null
         ],
         "y": [
          0.0018453813536267738,
          0.20558228881241003,
          null
         ],
         "z": [
          0.5123366696379305,
          0.22993598393832704,
          null
         ]
        },
        {
         "hoverinfo": "none",
         "line": {
          "color": "rgb(207, 0, 47)",
          "width": 5
         },
         "mode": "lines",
         "type": "scatter3d",
         "x": [
          0.3955609727109366,
          0.8762854776100119,
          null
         ],
         "y": [
          0.0018453813536267738,
          0.47960418159505,
          null
         ],
         "z": [
          0.5123366696379305,
          0.5084472388307851,
          null
         ]
        },
        {
         "hoverinfo": "none",
         "line": {
          "color": "rgb(212, 0, 42)",
          "width": 5
         },
         "mode": "lines",
         "type": "scatter3d",
         "x": [
          0.3955609727109366,
          0.029113341575248364,
          null
         ],
         "y": [
          0.0018453813536267738,
          0.8827558968891966,
          null
         ],
         "z": [
          0.5123366696379305,
          0.645952711792495,
          null
         ]
        },
        {
         "hoverinfo": "none",
         "line": {
          "color": "rgb(197, 0, 57)",
          "width": 5
         },
         "mode": "lines",
         "type": "scatter3d",
         "x": [
          0.3955609727109366,
          0.14391437405730279,
          null
         ],
         "y": [
          0.0018453813536267738,
          0.7003725495824806,
          null
         ],
         "z": [
          0.5123366696379305,
          0.7349509651974894,
          null
         ]
        },
        {
         "hoverinfo": "none",
         "line": {
          "color": "rgb(206, 0, 48)",
          "width": 5
         },
         "mode": "lines",
         "type": "scatter3d",
         "x": [
          0.3955609727109366,
          0.23056861449207033,
          null
         ],
         "y": [
          0.0018453813536267738,
          0.8411610968608391,
          null
         ],
         "z": [
          0.5123366696379305,
          0.557518197329446,
          null
         ]
        },
        {
         "hoverinfo": "none",
         "line": {
          "color": "rgb(185, 0, 69)",
          "width": 5
         },
         "mode": "lines",
         "type": "scatter3d",
         "x": [
          0.3955609727109366,
          0.844616920075403,
          null
         ],
         "y": [
          0.0018453813536267738,
          0.738517296511747,
          null
         ],
         "z": [
          0.5123366696379305,
          0.18666506924123072,
          null
         ]
        },
        {
         "hoverinfo": "none",
         "line": {
          "color": "rgb(255, 0, 0)",
          "width": 5
         },
         "mode": "lines",
         "type": "scatter3d",
         "x": [
          0.3955609727109366,
          0.05695321769934458,
          null
         ],
         "y": [
          0.0018453813536267738,
          0.703050803459575,
          null
         ],
         "z": [
          0.5123366696379305,
          0.4566279397356392,
          null
         ]
        },
        {
         "hoverinfo": "none",
         "line": {
          "color": "rgb(183, 0, 71)",
          "width": 5
         },
         "mode": "lines",
         "type": "scatter3d",
         "x": [
          0.47931995259183224,
          0.1508960398558543,
          null
         ],
         "y": [
          0.19758860737842487,
          0.6047914272677114,
          null
         ],
         "z": [
          0.5844932626997721,
          0.2547124201018064,
          null
         ]
        },
        {
         "hoverinfo": "none",
         "line": {
          "color": "rgb(150, 0, 105)",
          "width": 5
         },
         "mode": "lines",
         "type": "scatter3d",
         "x": [
          0.47931995259183224,
          0.6391203138622066,
          null
         ],
         "y": [
          0.19758860737842487,
          0.003471089158763041,
          null
         ],
         "z": [
          0.5844932626997721,
          0.25904918126862864,
          null
         ]
        },
        {
         "hoverinfo": "none",
         "line": {
          "color": "rgb(255, 0, 0)",
          "width": 5
         },
         "mode": "lines",
         "type": "scatter3d",
         "x": [
          0.47931995259183224,
          0.39607346367626906,
          null
         ],
         "y": [
          0.19758860737842487,
          0.7895750128909715,
          null
         ],
         "z": [
          0.5844932626997721,
          0.03071091494565381,
          null
         ]
        },
        {
         "hoverinfo": "none",
         "line": {
          "color": "rgb(159, 0, 95)",
          "width": 5
         },
         "mode": "lines",
         "type": "scatter3d",
         "x": [
          0.47931995259183224,
          0.5049967185452846,
          null
         ],
         "y": [
          0.19758860737842487,
          0.7459611455860693,
          null
         ],
         "z": [
          0.5844932626997721,
          0.20474810738637628,
          null
         ]
        },
        {
         "hoverinfo": "none",
         "line": {
          "color": "rgb(230, 0, 24)",
          "width": 5
         },
         "mode": "lines",
         "type": "scatter3d",
         "x": [
          0.47931995259183224,
          0.8762854776100119,
          null
         ],
         "y": [
          0.19758860737842487,
          0.47960418159505,
          null
         ],
         "z": [
          0.5844932626997721,
          0.5084472388307851,
          null
         ]
        },
        {
         "hoverinfo": "none",
         "line": {
          "color": "rgb(178, 0, 76)",
          "width": 5
         },
         "mode": "lines",
         "type": "scatter3d",
         "x": [
          0.47931995259183224,
          0.8579177060601673,
          null
         ],
         "y": [
          0.19758860737842487,
          0.36023061213341445,
          null
         ],
         "z": [
          0.5844932626997721,
          0.37712595158502105,
          null
         ]
        },
        {
         "hoverinfo": "none",
         "line": {
          "color": "rgb(172, 0, 82)",
          "width": 5
         },
         "mode": "lines",
         "type": "scatter3d",
         "x": [
          0.47931995259183224,
          0.8332748158841728,
          null
         ],
         "y": [
          0.19758860737842487,
          0.046542982759394835,
          null
         ],
         "z": [
          0.5844932626997721,
          0.6727598471831093,
          null
         ]
        },
        {
         "hoverinfo": "none",
         "line": {
          "color": "rgb(191, 0, 63)",
          "width": 5
         },
         "mode": "lines",
         "type": "scatter3d",
         "x": [
          0.47931995259183224,
          0.23056861449207033,
          null
         ],
         "y": [
          0.19758860737842487,
          0.8411610968608391,
          null
         ],
         "z": [
          0.5844932626997721,
          0.557518197329446,
          null
         ]
        },
        {
         "hoverinfo": "none",
         "line": {
          "color": "rgb(212, 0, 42)",
          "width": 5
         },
         "mode": "lines",
         "type": "scatter3d",
         "x": [
          0.47931995259183224,
          0.12202397256703224,
          null
         ],
         "y": [
          0.19758860737842487,
          0.33803810479530894,
          null
         ],
         "z": [
          0.5844932626997721,
          0.17462877073953564,
          null
         ]
        },
        {
         "hoverinfo": "none",
         "line": {
          "color": "rgb(200, 0, 55)",
          "width": 5
         },
         "mode": "lines",
         "type": "scatter3d",
         "x": [
          0.47931995259183224,
          0.35128607609016127,
          null
         ],
         "y": [
          0.19758860737842487,
          0.9803601140750317,
          null
         ],
         "z": [
          0.5844932626997721,
          0.020756992574077926,
          null
         ]
        },
        {
         "hoverinfo": "none",
         "line": {
          "color": "rgb(125, 0, 129)",
          "width": 5
         },
         "mode": "lines",
         "type": "scatter3d",
         "x": [
          0.47931995259183224,
          0.2337706636881529,
          null
         ],
         "y": [
          0.19758860737842487,
          0.8818738064175837,
          null
         ],
         "z": [
          0.5844932626997721,
          0.8221633304150313,
          null
         ]
        },
        {
         "hoverinfo": "none",
         "line": {
          "color": "rgb(138, 0, 116)",
          "width": 5
         },
         "mode": "lines",
         "type": "scatter3d",
         "x": [
          0.47931995259183224,
          0.8978680896657024,
          null
         ],
         "y": [
          0.19758860737842487,
          0.20558228881241003,
          null
         ],
         "z": [
          0.5844932626997721,
          0.22993598393832704,
          null
         ]
        },
        {
         "hoverinfo": "none",
         "line": {
          "color": "rgb(170, 0, 85)",
          "width": 5
         },
         "mode": "lines",
         "type": "scatter3d",
         "x": [
          0.47931995259183224,
          0.7510175332938032,
          null
         ],
         "y": [
          0.19758860737842487,
          0.2974558016214245,
          null
         ],
         "z": [
          0.5844932626997721,
          0.0026742988640656717,
          null
         ]
        },
        {
         "hoverinfo": "none",
         "line": {
          "color": "rgb(85, 0, 170)",
          "width": 5
         },
         "mode": "lines",
         "type": "scatter3d",
         "x": [
          0.47931995259183224,
          0.7699144110526226,
          null
         ],
         "y": [
          0.19758860737842487,
          0.8115073372041424,
          null
         ],
         "z": [
          0.5844932626997721,
          0.08550601573897498,
          null
         ]
        },
        {
         "hoverinfo": "none",
         "line": {
          "color": "rgb(166, 0, 88)",
          "width": 5
         },
         "mode": "lines",
         "type": "scatter3d",
         "x": [
          0.47931995259183224,
          0.14391437405730279,
          null
         ],
         "y": [
          0.19758860737842487,
          0.7003725495824806,
          null
         ],
         "z": [
          0.5844932626997721,
          0.7349509651974894,
          null
         ]
        },
        {
         "hoverinfo": "none",
         "line": {
          "color": "rgb(121, 0, 133)",
          "width": 5
         },
         "mode": "lines",
         "type": "scatter3d",
         "x": [
          0.47931995259183224,
          0.844616920075403,
          null
         ],
         "y": [
          0.19758860737842487,
          0.738517296511747,
          null
         ],
         "z": [
          0.5844932626997721,
          0.18666506924123072,
          null
         ]
        },
        {
         "hoverinfo": "none",
         "line": {
          "color": "rgb(218, 0, 36)",
          "width": 5
         },
         "mode": "lines",
         "type": "scatter3d",
         "x": [
          0.47931995259183224,
          0.47948297505685755,
          null
         ],
         "y": [
          0.19758860737842487,
          0.8013901001720605,
          null
         ],
         "z": [
          0.5844932626997721,
          0.15269340197283443,
          null
         ]
        },
        {
         "hoverinfo": "none",
         "line": {
          "color": "rgb(141, 0, 113)",
          "width": 5
         },
         "mode": "lines",
         "type": "scatter3d",
         "x": [
          0.47931995259183224,
          0.3450703983680935,
          null
         ],
         "y": [
          0.19758860737842487,
          0.44923837008154244,
          null
         ],
         "z": [
          0.5844932626997721,
          0.9086299827623517,
          null
         ]
        },
        {
         "hoverinfo": "none",
         "line": {
          "color": "rgb(159, 0, 95)",
          "width": 5
         },
         "mode": "lines",
         "type": "scatter3d",
         "x": [
          0.47931995259183224,
          0.9092617055927307,
          null
         ],
         "y": [
          0.19758860737842487,
          0.2979520344719221,
          null
         ],
         "z": [
          0.5844932626997721,
          0.6653737009999455,
          null
         ]
        },
        {
         "hoverinfo": "none",
         "line": {
          "color": "rgb(186, 0, 68)",
          "width": 5
         },
         "mode": "lines",
         "type": "scatter3d",
         "x": [
          0.47931995259183224,
          0.011378688695514505,
          null
         ],
         "y": [
          0.19758860737842487,
          0.0715207325479863,
          null
         ],
         "z": [
          0.5844932626997721,
          0.6493344636898585,
          null
         ]
        },
        {
         "hoverinfo": "none",
         "line": {
          "color": "rgb(163, 0, 91)",
          "width": 5
         },
         "mode": "lines",
         "type": "scatter3d",
         "x": [
          0.47931995259183224,
          0.1957925328841147,
          null
         ],
         "y": [
          0.19758860737842487,
          0.8634726352707632,
          null
         ],
         "z": [
          0.5844932626997721,
          0.590206450889974,
          null
         ]
        },
        {
         "hoverinfo": "none",
         "line": {
          "color": "rgb(162, 0, 92)",
          "width": 5
         },
         "mode": "lines",
         "type": "scatter3d",
         "x": [
          0.47931995259183224,
          0.42184642461052835,
          null
         ],
         "y": [
          0.19758860737842487,
          0.36714868625795205,
          null
         ],
         "z": [
          0.5844932626997721,
          0.9277768848142154,
          null
         ]
        },
        {
         "hoverinfo": "none",
         "line": {
          "color": "rgb(255, 0, 0)",
          "width": 5
         },
         "mode": "lines",
         "type": "scatter3d",
         "x": [
          0.47931995259183224,
          0.04597114730902763,
          null
         ],
         "y": [
          0.19758860737842487,
          0.9733500596329474,
          null
         ],
         "z": [
          0.5844932626997721,
          0.3207618379493513,
          null
         ]
        },
        {
         "hoverinfo": "none",
         "line": {
          "color": "rgb(109, 0, 145)",
          "width": 5
         },
         "mode": "lines",
         "type": "scatter3d",
         "x": [
          0.47931995259183224,
          0.2245549099478309,
          null
         ],
         "y": [
          0.19758860737842487,
          0.7463434564460331,
          null
         ],
         "z": [
          0.5844932626997721,
          0.23490114927027506,
          null
         ]
        },
        {
         "hoverinfo": "none",
         "line": {
          "color": "rgb(127, 0, 127)",
          "width": 5
         },
         "mode": "lines",
         "type": "scatter3d",
         "x": [
          0.47931995259183224,
          0.029113341575248364,
          null
         ],
         "y": [
          0.19758860737842487,
          0.8827558968891966,
          null
         ],
         "z": [
          0.5844932626997721,
          0.645952711792495,
          null
         ]
        },
        {
         "hoverinfo": "none",
         "line": {
          "color": "rgb(170, 0, 85)",
          "width": 5
         },
         "mode": "lines",
         "type": "scatter3d",
         "x": [
          0.47931995259183224,
          0.05695321769934458,
          null
         ],
         "y": [
          0.19758860737842487,
          0.703050803459575,
          null
         ],
         "z": [
          0.5844932626997721,
          0.4566279397356392,
          null
         ]
        },
        {
         "hoverinfo": "none",
         "line": {
          "color": "rgb(170, 0, 85)",
          "width": 5
         },
         "mode": "lines",
         "type": "scatter3d",
         "x": [
          0.47931995259183224,
          0.8549284294434172,
          null
         ],
         "y": [
          0.19758860737842487,
          0.7100329143013464,
          null
         ],
         "z": [
          0.5844932626997721,
          0.7104578479395972,
          null
         ]
        },
        {
         "hoverinfo": "none",
         "line": {
          "color": "rgb(160, 0, 94)",
          "width": 5
         },
         "mode": "lines",
         "type": "scatter3d",
         "x": [
          0.2337706636881529,
          0.5049967185452846,
          null
         ],
         "y": [
          0.8818738064175837,
          0.7459611455860693,
          null
         ],
         "z": [
          0.8221633304150313,
          0.20474810738637628,
          null
         ]
        },
        {
         "hoverinfo": "none",
         "line": {
          "color": "rgb(155, 0, 99)",
          "width": 5
         },
         "mode": "lines",
         "type": "scatter3d",
         "x": [
          0.2337706636881529,
          0.47948297505685755,
          null
         ],
         "y": [
          0.8818738064175837,
          0.8013901001720605,
          null
         ],
         "z": [
          0.8221633304150313,
          0.15269340197283443,
          null
         ]
        },
        {
         "hoverinfo": "none",
         "line": {
          "color": "rgb(145, 0, 109)",
          "width": 5
         },
         "mode": "lines",
         "type": "scatter3d",
         "x": [
          0.2337706636881529,
          0.029113341575248364,
          null
         ],
         "y": [
          0.8818738064175837,
          0.8827558968891966,
          null
         ],
         "z": [
          0.8221633304150313,
          0.645952711792495,
          null
         ]
        },
        {
         "hoverinfo": "none",
         "line": {
          "color": "rgb(146, 0, 108)",
          "width": 5
         },
         "mode": "lines",
         "type": "scatter3d",
         "x": [
          0.2337706636881529,
          0.8579177060601673,
          null
         ],
         "y": [
          0.8818738064175837,
          0.36023061213341445,
          null
         ],
         "z": [
          0.8221633304150313,
          0.37712595158502105,
          null
         ]
        },
        {
         "hoverinfo": "none",
         "line": {
          "color": "rgb(181, 0, 73)",
          "width": 5
         },
         "mode": "lines",
         "type": "scatter3d",
         "x": [
          0.2337706636881529,
          0.12202397256703224,
          null
         ],
         "y": [
          0.8818738064175837,
          0.33803810479530894,
          null
         ],
         "z": [
          0.8221633304150313,
          0.17462877073953564,
          null
         ]
        },
        {
         "hoverinfo": "none",
         "line": {
          "color": "rgb(156, 0, 98)",
          "width": 5
         },
         "mode": "lines",
         "type": "scatter3d",
         "x": [
          0.2337706636881529,
          0.6391203138622066,
          null
         ],
         "y": [
          0.8818738064175837,
          0.003471089158763041,
          null
         ],
         "z": [
          0.8221633304150313,
          0.25904918126862864,
          null
         ]
        },
        {
         "hoverinfo": "none",
         "line": {
          "color": "rgb(158, 0, 96)",
          "width": 5
         },
         "mode": "lines",
         "type": "scatter3d",
         "x": [
          0.2337706636881529,
          0.14391437405730279,
          null
         ],
         "y": [
          0.8818738064175837,
          0.7003725495824806,
          null
         ],
         "z": [
          0.8221633304150313,
          0.7349509651974894,
          null
         ]
        },
        {
         "hoverinfo": "none",
         "line": {
          "color": "rgb(151, 0, 103)",
          "width": 5
         },
         "mode": "lines",
         "type": "scatter3d",
         "x": [
          0.2337706636881529,
          0.3450703983680935,
          null
         ],
         "y": [
          0.8818738064175837,
          0.44923837008154244,
          null
         ],
         "z": [
          0.8221633304150313,
          0.9086299827623517,
          null
         ]
        },
        {
         "hoverinfo": "none",
         "line": {
          "color": "rgb(179, 0, 75)",
          "width": 5
         },
         "mode": "lines",
         "type": "scatter3d",
         "x": [
          0.2337706636881529,
          0.011378688695514505,
          null
         ],
         "y": [
          0.8818738064175837,
          0.0715207325479863,
          null
         ],
         "z": [
          0.8221633304150313,
          0.6493344636898585,
          null
         ]
        },
        {
         "hoverinfo": "none",
         "line": {
          "color": "rgb(148, 0, 106)",
          "width": 5
         },
         "mode": "lines",
         "type": "scatter3d",
         "x": [
          0.2337706636881529,
          0.42184642461052835,
          null
         ],
         "y": [
          0.8818738064175837,
          0.36714868625795205,
          null
         ],
         "z": [
          0.8221633304150313,
          0.9277768848142154,
          null
         ]
        },
        {
         "hoverinfo": "none",
         "line": {
          "color": "rgb(168, 0, 86)",
          "width": 5
         },
         "mode": "lines",
         "type": "scatter3d",
         "x": [
          0.2337706636881529,
          0.8978680896657024,
          null
         ],
         "y": [
          0.8818738064175837,
          0.20558228881241003,
          null
         ],
         "z": [
          0.8221633304150313,
          0.22993598393832704,
          null
         ]
        },
        {
         "hoverinfo": "none",
         "line": {
          "color": "rgb(144, 0, 110)",
          "width": 5
         },
         "mode": "lines",
         "type": "scatter3d",
         "x": [
          0.2337706636881529,
          0.8762854776100119,
          null
         ],
         "y": [
          0.8818738064175837,
          0.47960418159505,
          null
         ],
         "z": [
          0.8221633304150313,
          0.5084472388307851,
          null
         ]
        },
        {
         "hoverinfo": "none",
         "line": {
          "color": "rgb(179, 0, 75)",
          "width": 5
         },
         "mode": "lines",
         "type": "scatter3d",
         "x": [
          0.2337706636881529,
          0.1957925328841147,
          null
         ],
         "y": [
          0.8818738064175837,
          0.8634726352707632,
          null
         ],
         "z": [
          0.8221633304150313,
          0.590206450889974,
          null
         ]
        },
        {
         "hoverinfo": "none",
         "line": {
          "color": "rgb(164, 0, 90)",
          "width": 5
         },
         "mode": "lines",
         "type": "scatter3d",
         "x": [
          0.2337706636881529,
          0.23056861449207033,
          null
         ],
         "y": [
          0.8818738064175837,
          0.8411610968608391,
          null
         ],
         "z": [
          0.8221633304150313,
          0.557518197329446,
          null
         ]
        },
        {
         "hoverinfo": "none",
         "line": {
          "color": "rgb(162, 0, 92)",
          "width": 5
         },
         "mode": "lines",
         "type": "scatter3d",
         "x": [
          0.2337706636881529,
          0.1508960398558543,
          null
         ],
         "y": [
          0.8818738064175837,
          0.6047914272677114,
          null
         ],
         "z": [
          0.8221633304150313,
          0.2547124201018064,
          null
         ]
        },
        {
         "hoverinfo": "none",
         "line": {
          "color": "rgb(161, 0, 93)",
          "width": 5
         },
         "mode": "lines",
         "type": "scatter3d",
         "x": [
          0.2337706636881529,
          0.7510175332938032,
          null
         ],
         "y": [
          0.8818738064175837,
          0.2974558016214245,
          null
         ],
         "z": [
          0.8221633304150313,
          0.0026742988640656717,
          null
         ]
        },
        {
         "hoverinfo": "none",
         "line": {
          "color": "rgb(130, 0, 124)",
          "width": 5
         },
         "mode": "lines",
         "type": "scatter3d",
         "x": [
          0.2337706636881529,
          0.844616920075403,
          null
         ],
         "y": [
          0.8818738064175837,
          0.738517296511747,
          null
         ],
         "z": [
          0.8221633304150313,
          0.18666506924123072,
          null
         ]
        },
        {
         "hoverinfo": "none",
         "line": {
          "color": "rgb(139, 0, 115)",
          "width": 5
         },
         "mode": "lines",
         "type": "scatter3d",
         "x": [
          0.2337706636881529,
          0.8332748158841728,
          null
         ],
         "y": [
          0.8818738064175837,
          0.046542982759394835,
          null
         ],
         "z": [
          0.8221633304150313,
          0.6727598471831093,
          null
         ]
        },
        {
         "hoverinfo": "none",
         "line": {
          "color": "rgb(242, 0, 12)",
          "width": 5
         },
         "mode": "lines",
         "type": "scatter3d",
         "x": [
          0.2337706636881529,
          0.39607346367626906,
          null
         ],
         "y": [
          0.8818738064175837,
          0.7895750128909715,
          null
         ],
         "z": [
          0.8221633304150313,
          0.03071091494565381,
          null
         ]
        },
        {
         "hoverinfo": "none",
         "line": {
          "color": "rgb(227, 0, 27)",
          "width": 5
         },
         "mode": "lines",
         "type": "scatter3d",
         "x": [
          0.2337706636881529,
          0.7699144110526226,
          null
         ],
         "y": [
          0.8818738064175837,
          0.8115073372041424,
          null
         ],
         "z": [
          0.8221633304150313,
          0.08550601573897498,
          null
         ]
        },
        {
         "hoverinfo": "none",
         "line": {
          "color": "rgb(169, 0, 85)",
          "width": 5
         },
         "mode": "lines",
         "type": "scatter3d",
         "x": [
          0.2337706636881529,
          0.35128607609016127,
          null
         ],
         "y": [
          0.8818738064175837,
          0.9803601140750317,
          null
         ],
         "z": [
          0.8221633304150313,
          0.020756992574077926,
          null
         ]
        },
        {
         "hoverinfo": "none",
         "line": {
          "color": "rgb(152, 0, 102)",
          "width": 5
         },
         "mode": "lines",
         "type": "scatter3d",
         "x": [
          0.2337706636881529,
          0.9092617055927307,
          null
         ],
         "y": [
          0.8818738064175837,
          0.2979520344719221,
          null
         ],
         "z": [
          0.8221633304150313,
          0.6653737009999455,
          null
         ]
        },
        {
         "hoverinfo": "none",
         "line": {
          "color": "rgb(191, 0, 63)",
          "width": 5
         },
         "mode": "lines",
         "type": "scatter3d",
         "x": [
          0.2337706636881529,
          0.2245549099478309,
          null
         ],
         "y": [
          0.8818738064175837,
          0.7463434564460331,
          null
         ],
         "z": [
          0.8221633304150313,
          0.23490114927027506,
          null
         ]
        },
        {
         "hoverinfo": "none",
         "line": {
          "color": "rgb(159, 0, 95)",
          "width": 5
         },
         "mode": "lines",
         "type": "scatter3d",
         "x": [
          0.2337706636881529,
          0.8549284294434172,
          null
         ],
         "y": [
          0.8818738064175837,
          0.7100329143013464,
          null
         ],
         "z": [
          0.8221633304150313,
          0.7104578479395972,
          null
         ]
        },
        {
         "hoverinfo": "none",
         "line": {
          "color": "rgb(145, 0, 109)",
          "width": 5
         },
         "mode": "lines",
         "type": "scatter3d",
         "x": [
          0.2337706636881529,
          0.04597114730902763,
          null
         ],
         "y": [
          0.8818738064175837,
          0.9733500596329474,
          null
         ],
         "z": [
          0.8221633304150313,
          0.3207618379493513,
          null
         ]
        },
        {
         "hoverinfo": "none",
         "line": {
          "color": "rgb(127, 0, 127)",
          "width": 5
         },
         "mode": "lines",
         "type": "scatter3d",
         "x": [
          0.2337706636881529,
          0.05695321769934458,
          null
         ],
         "y": [
          0.8818738064175837,
          0.703050803459575,
          null
         ],
         "z": [
          0.8221633304150313,
          0.4566279397356392,
          null
         ]
        },
        {
         "hoverinfo": "none",
         "line": {
          "color": "rgb(210, 0, 44)",
          "width": 5
         },
         "mode": "lines",
         "type": "scatter3d",
         "x": [
          0.011378688695514505,
          0.5049967185452846,
          null
         ],
         "y": [
          0.0715207325479863,
          0.7459611455860693,
          null
         ],
         "z": [
          0.6493344636898585,
          0.20474810738637628,
          null
         ]
        },
        {
         "hoverinfo": "none",
         "line": {
          "color": "rgb(219, 0, 35)",
          "width": 5
         },
         "mode": "lines",
         "type": "scatter3d",
         "x": [
          0.011378688695514505,
          0.47948297505685755,
          null
         ],
         "y": [
          0.0715207325479863,
          0.8013901001720605,
          null
         ],
         "z": [
          0.6493344636898585,
          0.15269340197283443,
          null
         ]
        },
        {
         "hoverinfo": "none",
         "line": {
          "color": "rgb(190, 0, 64)",
          "width": 5
         },
         "mode": "lines",
         "type": "scatter3d",
         "x": [
          0.011378688695514505,
          0.14391437405730279,
          null
         ],
         "y": [
          0.0715207325479863,
          0.7003725495824806,
          null
         ],
         "z": [
          0.6493344636898585,
          0.7349509651974894,
          null
         ]
        },
        {
         "hoverinfo": "none",
         "line": {
          "color": "rgb(199, 0, 55)",
          "width": 5
         },
         "mode": "lines",
         "type": "scatter3d",
         "x": [
          0.011378688695514505,
          0.029113341575248364,
          null
         ],
         "y": [
          0.0715207325479863,
          0.8827558968891966,
          null
         ],
         "z": [
          0.6493344636898585,
          0.645952711792495,
          null
         ]
        },
        {
         "hoverinfo": "none",
         "line": {
          "color": "rgb(180, 0, 74)",
          "width": 5
         },
         "mode": "lines",
         "type": "scatter3d",
         "x": [
          0.011378688695514505,
          0.6391203138622066,
          null
         ],
         "y": [
          0.0715207325479863,
          0.003471089158763041,
          null
         ],
         "z": [
          0.6493344636898585,
          0.25904918126862864,
          null
         ]
        },
        {
         "hoverinfo": "none",
         "line": {
          "color": "rgb(180, 0, 74)",
          "width": 5
         },
         "mode": "lines",
         "type": "scatter3d",
         "x": [
          0.011378688695514505,
          0.9092617055927307,
          null
         ],
         "y": [
          0.0715207325479863,
          0.2979520344719221,
          null
         ],
         "z": [
          0.6493344636898585,
          0.6653737009999455,
          null
         ]
        },
        {
         "hoverinfo": "none",
         "line": {
          "color": "rgb(203, 0, 51)",
          "width": 5
         },
         "mode": "lines",
         "type": "scatter3d",
         "x": [
          0.011378688695514505,
          0.3450703983680935,
          null
         ],
         "y": [
          0.0715207325479863,
          0.44923837008154244,
          null
         ],
         "z": [
          0.6493344636898585,
          0.9086299827623517,
          null
         ]
        },
        {
         "hoverinfo": "none",
         "line": {
          "color": "rgb(231, 0, 23)",
          "width": 5
         },
         "mode": "lines",
         "type": "scatter3d",
         "x": [
          0.011378688695514505,
          0.23056861449207033,
          null
         ],
         "y": [
          0.0715207325479863,
          0.8411610968608391,
          null
         ],
         "z": [
          0.6493344636898585,
          0.557518197329446,
          null
         ]
        },
        {
         "hoverinfo": "none",
         "line": {
          "color": "rgb(191, 0, 63)",
          "width": 5
         },
         "mode": "lines",
         "type": "scatter3d",
         "x": [
          0.011378688695514505,
          0.8978680896657024,
          null
         ],
         "y": [
          0.0715207325479863,
          0.20558228881241003,
          null
         ],
         "z": [
          0.6493344636898585,
          0.22993598393832704,
          null
         ]
        },
        {
         "hoverinfo": "none",
         "line": {
          "color": "rgb(184, 0, 70)",
          "width": 5
         },
         "mode": "lines",
         "type": "scatter3d",
         "x": [
          0.011378688695514505,
          0.8579177060601673,
          null
         ],
         "y": [
          0.0715207325479863,
          0.36023061213341445,
          null
         ],
         "z": [
          0.6493344636898585,
          0.37712595158502105,
          null
         ]
        },
        {
         "hoverinfo": "none",
         "line": {
          "color": "rgb(219, 0, 35)",
          "width": 5
         },
         "mode": "lines",
         "type": "scatter3d",
         "x": [
          0.011378688695514505,
          0.05695321769934458,
          null
         ],
         "y": [
          0.0715207325479863,
          0.703050803459575,
          null
         ],
         "z": [
          0.6493344636898585,
          0.4566279397356392,
          null
         ]
        },
        {
         "hoverinfo": "none",
         "line": {
          "color": "rgb(198, 0, 56)",
          "width": 5
         },
         "mode": "lines",
         "type": "scatter3d",
         "x": [
          0.011378688695514505,
          0.1957925328841147,
          null
         ],
         "y": [
          0.0715207325479863,
          0.8634726352707632,
          null
         ],
         "z": [
          0.6493344636898585,
          0.590206450889974,
          null
         ]
        },
        {
         "hoverinfo": "none",
         "line": {
          "color": "rgb(187, 0, 67)",
          "width": 5
         },
         "mode": "lines",
         "type": "scatter3d",
         "x": [
          0.011378688695514505,
          0.42184642461052835,
          null
         ],
         "y": [
          0.0715207325479863,
          0.36714868625795205,
          null
         ],
         "z": [
          0.6493344636898585,
          0.9277768848142154,
          null
         ]
        },
        {
         "hoverinfo": "none",
         "line": {
          "color": "rgb(246, 0, 8)",
          "width": 5
         },
         "mode": "lines",
         "type": "scatter3d",
         "x": [
          0.011378688695514505,
          0.7699144110526226,
          null
         ],
         "y": [
          0.0715207325479863,
          0.8115073372041424,
          null
         ],
         "z": [
          0.6493344636898585,
          0.08550601573897498,
          null
         ]
        },
        {
         "hoverinfo": "none",
         "line": {
          "color": "rgb(216, 0, 38)",
          "width": 5
         },
         "mode": "lines",
         "type": "scatter3d",
         "x": [
          0.011378688695514505,
          0.12202397256703224,
          null
         ],
         "y": [
          0.0715207325479863,
          0.33803810479530894,
          null
         ],
         "z": [
          0.6493344636898585,
          0.17462877073953564,
          null
         ]
        },
        {
         "hoverinfo": "none",
         "line": {
          "color": "rgb(194, 0, 60)",
          "width": 5
         },
         "mode": "lines",
         "type": "scatter3d",
         "x": [
          0.011378688695514505,
          0.35128607609016127,
          null
         ],
         "y": [
          0.0715207325479863,
          0.9803601140750317,
          null
         ],
         "z": [
          0.6493344636898585,
          0.020756992574077926,
          null
         ]
        },
        {
         "hoverinfo": "none",
         "line": {
          "color": "rgb(158, 0, 96)",
          "width": 5
         },
         "mode": "lines",
         "type": "scatter3d",
         "x": [
          0.011378688695514505,
          0.844616920075403,
          null
         ],
         "y": [
          0.0715207325479863,
          0.738517296511747,
          null
         ],
         "z": [
          0.6493344636898585,
          0.18666506924123072,
          null
         ]
        },
        {
         "hoverinfo": "none",
         "line": {
          "color": "rgb(197, 0, 57)",
          "width": 5
         },
         "mode": "lines",
         "type": "scatter3d",
         "x": [
          0.011378688695514505,
          0.1508960398558543,
          null
         ],
         "y": [
          0.0715207325479863,
          0.6047914272677114,
          null
         ],
         "z": [
          0.6493344636898585,
          0.2547124201018064,
          null
         ]
        },
        {
         "hoverinfo": "none",
         "line": {
          "color": "rgb(151, 0, 103)",
          "width": 5
         },
         "mode": "lines",
         "type": "scatter3d",
         "x": [
          0.011378688695514505,
          0.8332748158841728,
          null
         ],
         "y": [
          0.0715207325479863,
          0.046542982759394835,
          null
         ],
         "z": [
          0.6493344636898585,
          0.6727598471831093,
          null
         ]
        },
        {
         "hoverinfo": "none",
         "line": {
          "color": "rgb(199, 0, 55)",
          "width": 5
         },
         "mode": "lines",
         "type": "scatter3d",
         "x": [
          0.011378688695514505,
          0.7510175332938032,
          null
         ],
         "y": [
          0.0715207325479863,
          0.2974558016214245,
          null
         ],
         "z": [
          0.6493344636898585,
          0.0026742988640656717,
          null
         ]
        },
        {
         "hoverinfo": "none",
         "line": {
          "color": "rgb(222, 0, 32)",
          "width": 5
         },
         "mode": "lines",
         "type": "scatter3d",
         "x": [
          0.011378688695514505,
          0.39607346367626906,
          null
         ],
         "y": [
          0.0715207325479863,
          0.7895750128909715,
          null
         ],
         "z": [
          0.6493344636898585,
          0.03071091494565381,
          null
         ]
        },
        {
         "hoverinfo": "none",
         "line": {
          "color": "rgb(255, 0, 0)",
          "width": 5
         },
         "mode": "lines",
         "type": "scatter3d",
         "x": [
          0.011378688695514505,
          0.8549284294434172,
          null
         ],
         "y": [
          0.0715207325479863,
          0.7100329143013464,
          null
         ],
         "z": [
          0.6493344636898585,
          0.7104578479395972,
          null
         ]
        },
        {
         "hoverinfo": "none",
         "line": {
          "color": "rgb(166, 0, 88)",
          "width": 5
         },
         "mode": "lines",
         "type": "scatter3d",
         "x": [
          0.011378688695514505,
          0.8762854776100119,
          null
         ],
         "y": [
          0.0715207325479863,
          0.47960418159505,
          null
         ],
         "z": [
          0.6493344636898585,
          0.5084472388307851,
          null
         ]
        },
        {
         "hoverinfo": "none",
         "line": {
          "color": "rgb(200, 0, 54)",
          "width": 5
         },
         "mode": "lines",
         "type": "scatter3d",
         "x": [
          0.011378688695514505,
          0.2245549099478309,
          null
         ],
         "y": [
          0.0715207325479863,
          0.7463434564460331,
          null
         ],
         "z": [
          0.6493344636898585,
          0.23490114927027506,
          null
         ]
        },
        {
         "hoverinfo": "none",
         "line": {
          "color": "rgb(210, 0, 44)",
          "width": 5
         },
         "mode": "lines",
         "type": "scatter3d",
         "x": [
          0.011378688695514505,
          0.04597114730902763,
          null
         ],
         "y": [
          0.0715207325479863,
          0.9733500596329474,
          null
         ],
         "z": [
          0.6493344636898585,
          0.3207618379493513,
          null
         ]
        },
        {
         "hoverinfo": "none",
         "line": {
          "color": "rgb(204, 0, 51)",
          "width": 5
         },
         "mode": "lines",
         "type": "scatter3d",
         "x": [
          0.39607346367626906,
          0.8579177060601673,
          null
         ],
         "y": [
          0.7895750128909715,
          0.36023061213341445,
          null
         ],
         "z": [
          0.03071091494565381,
          0.37712595158502105,
          null
         ]
        },
        {
         "hoverinfo": "none",
         "line": {
          "color": "rgb(217, 0, 37)",
          "width": 5
         },
         "mode": "lines",
         "type": "scatter3d",
         "x": [
          0.39607346367626906,
          0.5049967185452846,
          null
         ],
         "y": [
          0.7895750128909715,
          0.7459611455860693,
          null
         ],
         "z": [
          0.03071091494565381,
          0.20474810738637628,
          null
         ]
        },
        {
         "hoverinfo": "none",
         "line": {
          "color": "rgb(220, 0, 34)",
          "width": 5
         },
         "mode": "lines",
         "type": "scatter3d",
         "x": [
          0.39607346367626906,
          0.9092617055927307,
          null
         ],
         "y": [
          0.7895750128909715,
          0.2979520344719221,
          null
         ],
         "z": [
          0.03071091494565381,
          0.6653737009999455,
          null
         ]
        },
        {
         "hoverinfo": "none",
         "line": {
          "color": "rgb(246, 0, 8)",
          "width": 5
         },
         "mode": "lines",
         "type": "scatter3d",
         "x": [
          0.39607346367626906,
          0.1508960398558543,
          null
         ],
         "y": [
          0.7895750128909715,
          0.6047914272677114,
          null
         ],
         "z": [
          0.03071091494565381,
          0.2547124201018064,
          null
         ]
        },
        {
         "hoverinfo": "none",
         "line": {
          "color": "rgb(228, 0, 26)",
          "width": 5
         },
         "mode": "lines",
         "type": "scatter3d",
         "x": [
          0.39607346367626906,
          0.35128607609016127,
          null
         ],
         "y": [
          0.7895750128909715,
          0.9803601140750317,
          null
         ],
         "z": [
          0.03071091494565381,
          0.020756992574077926,
          null
         ]
        },
        {
         "hoverinfo": "none",
         "line": {
          "color": "rgb(238, 0, 16)",
          "width": 5
         },
         "mode": "lines",
         "type": "scatter3d",
         "x": [
          0.39607346367626906,
          0.12202397256703224,
          null
         ],
         "y": [
          0.7895750128909715,
          0.33803810479530894,
          null
         ],
         "z": [
          0.03071091494565381,
          0.17462877073953564,
          null
         ]
        },
        {
         "hoverinfo": "none",
         "line": {
          "color": "rgb(239, 0, 15)",
          "width": 5
         },
         "mode": "lines",
         "type": "scatter3d",
         "x": [
          0.39607346367626906,
          0.6391203138622066,
          null
         ],
         "y": [
          0.7895750128909715,
          0.003471089158763041,
          null
         ],
         "z": [
          0.03071091494565381,
          0.25904918126862864,
          null
         ]
        },
        {
         "hoverinfo": "none",
         "line": {
          "color": "rgb(248, 0, 6)",
          "width": 5
         },
         "mode": "lines",
         "type": "scatter3d",
         "x": [
          0.39607346367626906,
          0.8762854776100119,
          null
         ],
         "y": [
          0.7895750128909715,
          0.47960418159505,
          null
         ],
         "z": [
          0.03071091494565381,
          0.5084472388307851,
          null
         ]
        },
        {
         "hoverinfo": "none",
         "line": {
          "color": "rgb(223, 0, 31)",
          "width": 5
         },
         "mode": "lines",
         "type": "scatter3d",
         "x": [
          0.39607346367626906,
          0.1957925328841147,
          null
         ],
         "y": [
          0.7895750128909715,
          0.8634726352707632,
          null
         ],
         "z": [
          0.03071091494565381,
          0.590206450889974,
          null
         ]
        },
        {
         "hoverinfo": "none",
         "line": {
          "color": "rgb(233, 0, 21)",
          "width": 5
         },
         "mode": "lines",
         "type": "scatter3d",
         "x": [
          0.39607346367626906,
          0.42184642461052835,
          null
         ],
         "y": [
          0.7895750128909715,
          0.36714868625795205,
          null
         ],
         "z": [
          0.03071091494565381,
          0.9277768848142154,
          null
         ]
        },
        {
         "hoverinfo": "none",
         "line": {
          "color": "rgb(210, 0, 45)",
          "width": 5
         },
         "mode": "lines",
         "type": "scatter3d",
         "x": [
          0.39607346367626906,
          0.7510175332938032,
          null
         ],
         "y": [
          0.7895750128909715,
          0.2974558016214245,
          null
         ],
         "z": [
          0.03071091494565381,
          0.0026742988640656717,
          null
         ]
        },
        {
         "hoverinfo": "none",
         "line": {
          "color": "rgb(217, 0, 37)",
          "width": 5
         },
         "mode": "lines",
         "type": "scatter3d",
         "x": [
          0.39607346367626906,
          0.8978680896657024,
          null
         ],
         "y": [
          0.7895750128909715,
          0.20558228881241003,
          null
         ],
         "z": [
          0.03071091494565381,
          0.22993598393832704,
          null
         ]
        },
        {
         "hoverinfo": "none",
         "line": {
          "color": "rgb(212, 0, 42)",
          "width": 5
         },
         "mode": "lines",
         "type": "scatter3d",
         "x": [
          0.39607346367626906,
          0.8332748158841728,
          null
         ],
         "y": [
          0.7895750128909715,
          0.046542982759394835,
          null
         ],
         "z": [
          0.03071091494565381,
          0.6727598471831093,
          null
         ]
        },
        {
         "hoverinfo": "none",
         "line": {
          "color": "rgb(160, 0, 94)",
          "width": 5
         },
         "mode": "lines",
         "type": "scatter3d",
         "x": [
          0.39607346367626906,
          0.14391437405730279,
          null
         ],
         "y": [
          0.7895750128909715,
          0.7003725495824806,
          null
         ],
         "z": [
          0.03071091494565381,
          0.7349509651974894,
          null
         ]
        },
        {
         "hoverinfo": "none",
         "line": {
          "color": "rgb(215, 0, 39)",
          "width": 5
         },
         "mode": "lines",
         "type": "scatter3d",
         "x": [
          0.39607346367626906,
          0.844616920075403,
          null
         ],
         "y": [
          0.7895750128909715,
          0.738517296511747,
          null
         ],
         "z": [
          0.03071091494565381,
          0.18666506924123072,
          null
         ]
        },
        {
         "hoverinfo": "none",
         "line": {
          "color": "rgb(228, 0, 26)",
          "width": 5
         },
         "mode": "lines",
         "type": "scatter3d",
         "x": [
          0.39607346367626906,
          0.3450703983680935,
          null
         ],
         "y": [
          0.7895750128909715,
          0.44923837008154244,
          null
         ],
         "z": [
          0.03071091494565381,
          0.9086299827623517,
          null
         ]
        },
        {
         "hoverinfo": "none",
         "line": {
          "color": "rgb(255, 0, 0)",
          "width": 5
         },
         "mode": "lines",
         "type": "scatter3d",
         "x": [
          0.39607346367626906,
          0.029113341575248364,
          null
         ],
         "y": [
          0.7895750128909715,
          0.8827558968891966,
          null
         ],
         "z": [
          0.03071091494565381,
          0.645952711792495,
          null
         ]
        },
        {
         "hoverinfo": "none",
         "line": {
          "color": "rgb(204, 0, 51)",
          "width": 5
         },
         "mode": "lines",
         "type": "scatter3d",
         "x": [
          0.39607346367626906,
          0.23056861449207033,
          null
         ],
         "y": [
          0.7895750128909715,
          0.8411610968608391,
          null
         ],
         "z": [
          0.03071091494565381,
          0.557518197329446,
          null
         ]
        },
        {
         "hoverinfo": "none",
         "line": {
          "color": "rgb(255, 0, 0)",
          "width": 5
         },
         "mode": "lines",
         "type": "scatter3d",
         "x": [
          0.39607346367626906,
          0.2245549099478309,
          null
         ],
         "y": [
          0.7895750128909715,
          0.7463434564460331,
          null
         ],
         "z": [
          0.03071091494565381,
          0.23490114927027506,
          null
         ]
        },
        {
         "hoverinfo": "none",
         "line": {
          "color": "rgb(218, 0, 36)",
          "width": 5
         },
         "mode": "lines",
         "type": "scatter3d",
         "x": [
          0.39607346367626906,
          0.47948297505685755,
          null
         ],
         "y": [
          0.7895750128909715,
          0.8013901001720605,
          null
         ],
         "z": [
          0.03071091494565381,
          0.15269340197283443,
          null
         ]
        },
        {
         "hoverinfo": "none",
         "line": {
          "color": "rgb(255, 0, 0)",
          "width": 5
         },
         "mode": "lines",
         "type": "scatter3d",
         "x": [
          0.39607346367626906,
          0.7699144110526226,
          null
         ],
         "y": [
          0.7895750128909715,
          0.8115073372041424,
          null
         ],
         "z": [
          0.03071091494565381,
          0.08550601573897498,
          null
         ]
        },
        {
         "hoverinfo": "none",
         "line": {
          "color": "rgb(255, 0, 0)",
          "width": 5
         },
         "mode": "lines",
         "type": "scatter3d",
         "x": [
          0.39607346367626906,
          0.05695321769934458,
          null
         ],
         "y": [
          0.7895750128909715,
          0.703050803459575,
          null
         ],
         "z": [
          0.03071091494565381,
          0.4566279397356392,
          null
         ]
        },
        {
         "hoverinfo": "none",
         "line": {
          "color": "rgb(153, 0, 102)",
          "width": 5
         },
         "mode": "lines",
         "type": "scatter3d",
         "x": [
          0.029113341575248364,
          0.8332748158841728,
          null
         ],
         "y": [
          0.8827558968891966,
          0.046542982759394835,
          null
         ],
         "z": [
          0.645952711792495,
          0.6727598471831093,
          null
         ]
        },
        {
         "hoverinfo": "none",
         "line": {
          "color": "rgb(127, 0, 127)",
          "width": 5
         },
         "mode": "lines",
         "type": "scatter3d",
         "x": [
          0.029113341575248364,
          0.8579177060601673,
          null
         ],
         "y": [
          0.8827558968891966,
          0.36023061213341445,
          null
         ],
         "z": [
          0.645952711792495,
          0.37712595158502105,
          null
         ]
        },
        {
         "hoverinfo": "none",
         "line": {
          "color": "rgb(201, 0, 53)",
          "width": 5
         },
         "mode": "lines",
         "type": "scatter3d",
         "x": [
          0.029113341575248364,
          0.5049967185452846,
          null
         ],
         "y": [
          0.8827558968891966,
          0.7459611455860693,
          null
         ],
         "z": [
          0.645952711792495,
          0.20474810738637628,
          null
         ]
        },
        {
         "hoverinfo": "none",
         "line": {
          "color": "rgb(153, 0, 102)",
          "width": 5
         },
         "mode": "lines",
         "type": "scatter3d",
         "x": [
          0.029113341575248364,
          0.7510175332938032,
          null
         ],
         "y": [
          0.8827558968891966,
          0.2974558016214245,
          null
         ],
         "z": [
          0.645952711792495,
          0.0026742988640656717,
          null
         ]
        },
        {
         "hoverinfo": "none",
         "line": {
          "color": "rgb(198, 0, 56)",
          "width": 5
         },
         "mode": "lines",
         "type": "scatter3d",
         "x": [
          0.029113341575248364,
          0.8762854776100119,
          null
         ],
         "y": [
          0.8827558968891966,
          0.47960418159505,
          null
         ],
         "z": [
          0.645952711792495,
          0.5084472388307851,
          null
         ]
        },
        {
         "hoverinfo": "none",
         "line": {
          "color": "rgb(199, 0, 55)",
          "width": 5
         },
         "mode": "lines",
         "type": "scatter3d",
         "x": [
          0.029113341575248364,
          0.12202397256703224,
          null
         ],
         "y": [
          0.8827558968891966,
          0.33803810479530894,
          null
         ],
         "z": [
          0.645952711792495,
          0.17462877073953564,
          null
         ]
        },
        {
         "hoverinfo": "none",
         "line": {
          "color": "rgb(173, 0, 81)",
          "width": 5
         },
         "mode": "lines",
         "type": "scatter3d",
         "x": [
          0.029113341575248364,
          0.14391437405730279,
          null
         ],
         "y": [
          0.8827558968891966,
          0.7003725495824806,
          null
         ],
         "z": [
          0.645952711792495,
          0.7349509651974894,
          null
         ]
        },
        {
         "hoverinfo": "none",
         "line": {
          "color": "rgb(127, 0, 127)",
          "width": 5
         },
         "mode": "lines",
         "type": "scatter3d",
         "x": [
          0.029113341575248364,
          0.3450703983680935,
          null
         ],
         "y": [
          0.8827558968891966,
          0.44923837008154244,
          null
         ],
         "z": [
          0.645952711792495,
          0.9086299827623517,
          null
         ]
        },
        {
         "hoverinfo": "none",
         "line": {
          "color": "rgb(153, 0, 102)",
          "width": 5
         },
         "mode": "lines",
         "type": "scatter3d",
         "x": [
          0.029113341575248364,
          0.7699144110526226,
          null
         ],
         "y": [
          0.8827558968891966,
          0.8115073372041424,
          null
         ],
         "z": [
          0.645952711792495,
          0.08550601573897498,
          null
         ]
        },
        {
         "hoverinfo": "none",
         "line": {
          "color": "rgb(133, 0, 121)",
          "width": 5
         },
         "mode": "lines",
         "type": "scatter3d",
         "x": [
          0.029113341575248364,
          0.6391203138622066,
          null
         ],
         "y": [
          0.8827558968891966,
          0.003471089158763041,
          null
         ],
         "z": [
          0.645952711792495,
          0.25904918126862864,
          null
         ]
        },
        {
         "hoverinfo": "none",
         "line": {
          "color": "rgb(196, 0, 58)",
          "width": 5
         },
         "mode": "lines",
         "type": "scatter3d",
         "x": [
          0.029113341575248364,
          0.8978680896657024,
          null
         ],
         "y": [
          0.8827558968891966,
          0.20558228881241003,
          null
         ],
         "z": [
          0.645952711792495,
          0.22993598393832704,
          null
         ]
        },
        {
         "hoverinfo": "none",
         "line": {
          "color": "rgb(135, 0, 120)",
          "width": 5
         },
         "mode": "lines",
         "type": "scatter3d",
         "x": [
          0.029113341575248364,
          0.844616920075403,
          null
         ],
         "y": [
          0.8827558968891966,
          0.738517296511747,
          null
         ],
         "z": [
          0.645952711792495,
          0.18666506924123072,
          null
         ]
        },
        {
         "hoverinfo": "none",
         "line": {
          "color": "rgb(143, 0, 111)",
          "width": 5
         },
         "mode": "lines",
         "type": "scatter3d",
         "x": [
          0.029113341575248364,
          0.42184642461052835,
          null
         ],
         "y": [
          0.8827558968891966,
          0.36714868625795205,
          null
         ],
         "z": [
          0.645952711792495,
          0.9277768848142154,
          null
         ]
        },
        {
         "hoverinfo": "none",
         "line": {
          "color": "rgb(198, 0, 56)",
          "width": 5
         },
         "mode": "lines",
         "type": "scatter3d",
         "x": [
          0.029113341575248364,
          0.23056861449207033,
          null
         ],
         "y": [
          0.8827558968891966,
          0.8411610968608391,
          null
         ],
         "z": [
          0.645952711792495,
          0.557518197329446,
          null
         ]
        },
        {
         "hoverinfo": "none",
         "line": {
          "color": "rgb(182, 0, 72)",
          "width": 5
         },
         "mode": "lines",
         "type": "scatter3d",
         "x": [
          0.029113341575248364,
          0.9092617055927307,
          null
         ],
         "y": [
          0.8827558968891966,
          0.2979520344719221,
          null
         ],
         "z": [
          0.645952711792495,
          0.6653737009999455,
          null
         ]
        },
        {
         "hoverinfo": "none",
         "line": {
          "color": "rgb(179, 0, 75)",
          "width": 5
         },
         "mode": "lines",
         "type": "scatter3d",
         "x": [
          0.029113341575248364,
          0.1957925328841147,
          null
         ],
         "y": [
          0.8827558968891966,
          0.8634726352707632,
          null
         ],
         "z": [
          0.645952711792495,
          0.590206450889974,
          null
         ]
        },
        {
         "hoverinfo": "none",
         "line": {
          "color": "rgb(226, 0, 28)",
          "width": 5
         },
         "mode": "lines",
         "type": "scatter3d",
         "x": [
          0.029113341575248364,
          0.35128607609016127,
          null
         ],
         "y": [
          0.8827558968891966,
          0.9803601140750317,
          null
         ],
         "z": [
          0.645952711792495,
          0.020756992574077926,
          null
         ]
        },
        {
         "hoverinfo": "none",
         "line": {
          "color": "rgb(85, 0, 170)",
          "width": 5
         },
         "mode": "lines",
         "type": "scatter3d",
         "x": [
          0.029113341575248364,
          0.04597114730902763,
          null
         ],
         "y": [
          0.8827558968891966,
          0.9733500596329474,
          null
         ],
         "z": [
          0.645952711792495,
          0.3207618379493513,
          null
         ]
        },
        {
         "hoverinfo": "none",
         "line": {
          "color": "rgb(159, 0, 95)",
          "width": 5
         },
         "mode": "lines",
         "type": "scatter3d",
         "x": [
          0.029113341575248364,
          0.1508960398558543,
          null
         ],
         "y": [
          0.8827558968891966,
          0.6047914272677114,
          null
         ],
         "z": [
          0.645952711792495,
          0.2547124201018064,
          null
         ]
        },
        {
         "hoverinfo": "none",
         "line": {
          "color": "rgb(255, 0, 0)",
          "width": 5
         },
         "mode": "lines",
         "type": "scatter3d",
         "x": [
          0.029113341575248364,
          0.47948297505685755,
          null
         ],
         "y": [
          0.8827558968891966,
          0.8013901001720605,
          null
         ],
         "z": [
          0.645952711792495,
          0.15269340197283443,
          null
         ]
        },
        {
         "hoverinfo": "none",
         "line": {
          "color": "rgb(85, 0, 170)",
          "width": 5
         },
         "mode": "lines",
         "type": "scatter3d",
         "x": [
          0.029113341575248364,
          0.05695321769934458,
          null
         ],
         "y": [
          0.8827558968891966,
          0.703050803459575,
          null
         ],
         "z": [
          0.645952711792495,
          0.4566279397356392,
          null
         ]
        },
        {
         "hoverinfo": "none",
         "line": {
          "color": "rgb(127, 0, 127)",
          "width": 5
         },
         "mode": "lines",
         "type": "scatter3d",
         "x": [
          0.029113341575248364,
          0.8549284294434172,
          null
         ],
         "y": [
          0.8827558968891966,
          0.7100329143013464,
          null
         ],
         "z": [
          0.645952711792495,
          0.7104578479395972,
          null
         ]
        },
        {
         "hoverinfo": "none",
         "line": {
          "color": "rgb(255, 0, 0)",
          "width": 5
         },
         "mode": "lines",
         "type": "scatter3d",
         "x": [
          0.029113341575248364,
          0.2245549099478309,
          null
         ],
         "y": [
          0.8827558968891966,
          0.7463434564460331,
          null
         ],
         "z": [
          0.645952711792495,
          0.23490114927027506,
          null
         ]
        },
        {
         "hoverinfo": "none",
         "line": {
          "color": "rgb(127, 0, 127)",
          "width": 5
         },
         "mode": "lines",
         "type": "scatter3d",
         "x": [
          0.8579177060601673,
          0.47948297505685755,
          null
         ],
         "y": [
          0.36023061213341445,
          0.8013901001720605,
          null
         ],
         "z": [
          0.37712595158502105,
          0.15269340197283443,
          null
         ]
        },
        {
         "hoverinfo": "none",
         "line": {
          "color": "rgb(189, 0, 65)",
          "width": 5
         },
         "mode": "lines",
         "type": "scatter3d",
         "x": [
          0.8579177060601673,
          0.12202397256703224,
          null
         ],
         "y": [
          0.36023061213341445,
          0.33803810479530894,
          null
         ],
         "z": [
          0.37712595158502105,
          0.17462877073953564,
          null
         ]
        },
        {
         "hoverinfo": "none",
         "line": {
          "color": "rgb(191, 0, 63)",
          "width": 5
         },
         "mode": "lines",
         "type": "scatter3d",
         "x": [
          0.8579177060601673,
          0.23056861449207033,
          null
         ],
         "y": [
          0.36023061213341445,
          0.8411610968608391,
          null
         ],
         "z": [
          0.37712595158502105,
          0.557518197329446,
          null
         ]
        },
        {
         "hoverinfo": "none",
         "line": {
          "color": "rgb(153, 0, 101)",
          "width": 5
         },
         "mode": "lines",
         "type": "scatter3d",
         "x": [
          0.8579177060601673,
          0.35128607609016127,
          null
         ],
         "y": [
          0.36023061213341445,
          0.9803601140750317,
          null
         ],
         "z": [
          0.37712595158502105,
          0.020756992574077926,
          null
         ]
        },
        {
         "hoverinfo": "none",
         "line": {
          "color": "rgb(197, 0, 57)",
          "width": 5
         },
         "mode": "lines",
         "type": "scatter3d",
         "x": [
          0.8579177060601673,
          0.7699144110526226,
          null
         ],
         "y": [
          0.36023061213341445,
          0.8115073372041424,
          null
         ],
         "z": [
          0.37712595158502105,
          0.08550601573897498,
          null
         ]
        },
        {
         "hoverinfo": "none",
         "line": {
          "color": "rgb(172, 0, 82)",
          "width": 5
         },
         "mode": "lines",
         "type": "scatter3d",
         "x": [
          0.8579177060601673,
          0.6391203138622066,
          null
         ],
         "y": [
          0.36023061213341445,
          0.003471089158763041,
          null
         ],
         "z": [
          0.37712595158502105,
          0.25904918126862864,
          null
         ]
        },
        {
         "hoverinfo": "none",
         "line": {
          "color": "rgb(165, 0, 89)",
          "width": 5
         },
         "mode": "lines",
         "type": "scatter3d",
         "x": [
          0.8579177060601673,
          0.5049967185452846,
          null
         ],
         "y": [
          0.36023061213341445,
          0.7459611455860693,
          null
         ],
         "z": [
          0.37712595158502105,
          0.20474810738637628,
          null
         ]
        },
        {
         "hoverinfo": "none",
         "line": {
          "color": "rgb(178, 0, 76)",
          "width": 5
         },
         "mode": "lines",
         "type": "scatter3d",
         "x": [
          0.8579177060601673,
          0.14391437405730279,
          null
         ],
         "y": [
          0.36023061213341445,
          0.7003725495824806,
          null
         ],
         "z": [
          0.37712595158502105,
          0.7349509651974894,
          null
         ]
        },
        {
         "hoverinfo": "none",
         "line": {
          "color": "rgb(157, 0, 97)",
          "width": 5
         },
         "mode": "lines",
         "type": "scatter3d",
         "x": [
          0.8579177060601673,
          0.8978680896657024,
          null
         ],
         "y": [
          0.36023061213341445,
          0.20558228881241003,
          null
         ],
         "z": [
          0.37712595158502105,
          0.22993598393832704,
          null
         ]
        },
        {
         "hoverinfo": "none",
         "line": {
          "color": "rgb(154, 0, 100)",
          "width": 5
         },
         "mode": "lines",
         "type": "scatter3d",
         "x": [
          0.8579177060601673,
          0.7510175332938032,
          null
         ],
         "y": [
          0.36023061213341445,
          0.2974558016214245,
          null
         ],
         "z": [
          0.37712595158502105,
          0.0026742988640656717,
          null
         ]
        },
        {
         "hoverinfo": "none",
         "line": {
          "color": "rgb(183, 0, 71)",
          "width": 5
         },
         "mode": "lines",
         "type": "scatter3d",
         "x": [
          0.8579177060601673,
          0.1957925328841147,
          null
         ],
         "y": [
          0.36023061213341445,
          0.8634726352707632,
          null
         ],
         "z": [
          0.37712595158502105,
          0.590206450889974,
          null
         ]
        },
        {
         "hoverinfo": "none",
         "line": {
          "color": "rgb(153, 0, 101)",
          "width": 5
         },
         "mode": "lines",
         "type": "scatter3d",
         "x": [
          0.8579177060601673,
          0.8332748158841728,
          null
         ],
         "y": [
          0.36023061213341445,
          0.046542982759394835,
          null
         ],
         "z": [
          0.37712595158502105,
          0.6727598471831093,
          null
         ]
        },
        {
         "hoverinfo": "none",
         "line": {
          "color": "rgb(167, 0, 87)",
          "width": 5
         },
         "mode": "lines",
         "type": "scatter3d",
         "x": [
          0.8579177060601673,
          0.1508960398558543,
          null
         ],
         "y": [
          0.36023061213341445,
          0.6047914272677114,
          null
         ],
         "z": [
          0.37712595158502105,
          0.2547124201018064,
          null
         ]
        },
        {
         "hoverinfo": "none",
         "line": {
          "color": "rgb(152, 0, 102)",
          "width": 5
         },
         "mode": "lines",
         "type": "scatter3d",
         "x": [
          0.8579177060601673,
          0.42184642461052835,
          null
         ],
         "y": [
          0.36023061213341445,
          0.36714868625795205,
          null
         ],
         "z": [
          0.37712595158502105,
          0.9277768848142154,
          null
         ]
        },
        {
         "hoverinfo": "none",
         "line": {
          "color": "rgb(191, 0, 63)",
          "width": 5
         },
         "mode": "lines",
         "type": "scatter3d",
         "x": [
          0.8579177060601673,
          0.04597114730902763,
          null
         ],
         "y": [
          0.36023061213341445,
          0.9733500596329474,
          null
         ],
         "z": [
          0.37712595158502105,
          0.3207618379493513,
          null
         ]
        },
        {
         "hoverinfo": "none",
         "line": {
          "color": "rgb(145, 0, 109)",
          "width": 5
         },
         "mode": "lines",
         "type": "scatter3d",
         "x": [
          0.8579177060601673,
          0.844616920075403,
          null
         ],
         "y": [
          0.36023061213341445,
          0.738517296511747,
          null
         ],
         "z": [
          0.37712595158502105,
          0.18666506924123072,
          null
         ]
        },
        {
         "hoverinfo": "none",
         "line": {
          "color": "rgb(164, 0, 90)",
          "width": 5
         },
         "mode": "lines",
         "type": "scatter3d",
         "x": [
          0.8579177060601673,
          0.9092617055927307,
          null
         ],
         "y": [
          0.36023061213341445,
          0.2979520344719221,
          null
         ],
         "z": [
          0.37712595158502105,
          0.6653737009999455,
          null
         ]
        },
        {
         "hoverinfo": "none",
         "line": {
          "color": "rgb(156, 0, 98)",
          "width": 5
         },
         "mode": "lines",
         "type": "scatter3d",
         "x": [
          0.8579177060601673,
          0.8762854776100119,
          null
         ],
         "y": [
          0.36023061213341445,
          0.47960418159505,
          null
         ],
         "z": [
          0.37712595158502105,
          0.5084472388307851,
          null
         ]
        },
        {
         "hoverinfo": "none",
         "line": {
          "color": "rgb(177, 0, 77)",
          "width": 5
         },
         "mode": "lines",
         "type": "scatter3d",
         "x": [
          0.8579177060601673,
          0.3450703983680935,
          null
         ],
         "y": [
          0.36023061213341445,
          0.44923837008154244,
          null
         ],
         "z": [
          0.37712595158502105,
          0.9086299827623517,
          null
         ]
        },
        {
         "hoverinfo": "none",
         "line": {
          "color": "rgb(150, 0, 104)",
          "width": 5
         },
         "mode": "lines",
         "type": "scatter3d",
         "x": [
          0.8579177060601673,
          0.2245549099478309,
          null
         ],
         "y": [
          0.36023061213341445,
          0.7463434564460331,
          null
         ],
         "z": [
          0.37712595158502105,
          0.23490114927027506,
          null
         ]
        },
        {
         "hoverinfo": "none",
         "line": {
          "color": "rgb(105, 0, 150)",
          "width": 5
         },
         "mode": "lines",
         "type": "scatter3d",
         "x": [
          0.8579177060601673,
          0.8549284294434172,
          null
         ],
         "y": [
          0.36023061213341445,
          0.7100329143013464,
          null
         ],
         "z": [
          0.37712595158502105,
          0.7104578479395972,
          null
         ]
        },
        {
         "hoverinfo": "none",
         "line": {
          "color": "rgb(170, 0, 85)",
          "width": 5
         },
         "mode": "lines",
         "type": "scatter3d",
         "x": [
          0.8579177060601673,
          0.05695321769934458,
          null
         ],
         "y": [
          0.36023061213341445,
          0.703050803459575,
          null
         ],
         "z": [
          0.37712595158502105,
          0.4566279397356392,
          null
         ]
        },
        {
         "hoverinfo": "none",
         "line": {
          "color": "rgb(161, 0, 93)",
          "width": 5
         },
         "mode": "lines",
         "type": "scatter3d",
         "x": [
          0.1508960398558543,
          0.8332748158841728,
          null
         ],
         "y": [
          0.6047914272677114,
          0.046542982759394835,
          null
         ],
         "z": [
          0.2547124201018064,
          0.6727598471831093,
          null
         ]
        },
        {
         "hoverinfo": "none",
         "line": {
          "color": "rgb(169, 0, 85)",
          "width": 5
         },
         "mode": "lines",
         "type": "scatter3d",
         "x": [
          0.1508960398558543,
          0.35128607609016127,
          null
         ],
         "y": [
          0.6047914272677114,
          0.9803601140750317,
          null
         ],
         "z": [
          0.2547124201018064,
          0.020756992574077926,
          null
         ]
        },
        {
         "hoverinfo": "none",
         "line": {
          "color": "rgb(226, 0, 28)",
          "width": 5
         },
         "mode": "lines",
         "type": "scatter3d",
         "x": [
          0.1508960398558543,
          0.47948297505685755,
          null
         ],
         "y": [
          0.6047914272677114,
          0.8013901001720605,
          null
         ],
         "z": [
          0.2547124201018064,
          0.15269340197283443,
          null
         ]
        },
        {
         "hoverinfo": "none",
         "line": {
          "color": "rgb(196, 0, 58)",
          "width": 5
         },
         "mode": "lines",
         "type": "scatter3d",
         "x": [
          0.1508960398558543,
          0.6391203138622066,
          null
         ],
         "y": [
          0.6047914272677114,
          0.003471089158763041,
          null
         ],
         "z": [
          0.2547124201018064,
          0.25904918126862864,
          null
         ]
        },
        {
         "hoverinfo": "none",
         "line": {
          "color": "rgb(208, 0, 46)",
          "width": 5
         },
         "mode": "lines",
         "type": "scatter3d",
         "x": [
          0.1508960398558543,
          0.5049967185452846,
          null
         ],
         "y": [
          0.6047914272677114,
          0.7459611455860693,
          null
         ],
         "z": [
          0.2547124201018064,
          0.20474810738637628,
          null
         ]
        },
        {
         "hoverinfo": "none",
         "line": {
          "color": "rgb(199, 0, 55)",
          "width": 5
         },
         "mode": "lines",
         "type": "scatter3d",
         "x": [
          0.1508960398558543,
          0.12202397256703224,
          null
         ],
         "y": [
          0.6047914272677114,
          0.33803810479530894,
          null
         ],
         "z": [
          0.2547124201018064,
          0.17462877073953564,
          null
         ]
        },
        {
         "hoverinfo": "none",
         "line": {
          "color": "rgb(182, 0, 72)",
          "width": 5
         },
         "mode": "lines",
         "type": "scatter3d",
         "x": [
          0.1508960398558543,
          0.9092617055927307,
          null
         ],
         "y": [
          0.6047914272677114,
          0.2979520344719221,
          null
         ],
         "z": [
          0.2547124201018064,
          0.6653737009999455,
          null
         ]
        },
        {
         "hoverinfo": "none",
         "line": {
          "color": "rgb(177, 0, 77)",
          "width": 5
         },
         "mode": "lines",
         "type": "scatter3d",
         "x": [
          0.1508960398558543,
          0.7510175332938032,
          null
         ],
         "y": [
          0.6047914272677114,
          0.2974558016214245,
          null
         ],
         "z": [
          0.2547124201018064,
          0.0026742988640656717,
          null
         ]
        },
        {
         "hoverinfo": "none",
         "line": {
          "color": "rgb(179, 0, 75)",
          "width": 5
         },
         "mode": "lines",
         "type": "scatter3d",
         "x": [
          0.1508960398558543,
          0.8762854776100119,
          null
         ],
         "y": [
          0.6047914272677114,
          0.47960418159505,
          null
         ],
         "z": [
          0.2547124201018064,
          0.5084472388307851,
          null
         ]
        },
        {
         "hoverinfo": "none",
         "line": {
          "color": "rgb(165, 0, 89)",
          "width": 5
         },
         "mode": "lines",
         "type": "scatter3d",
         "x": [
          0.1508960398558543,
          0.844616920075403,
          null
         ],
         "y": [
          0.6047914272677114,
          0.738517296511747,
          null
         ],
         "z": [
          0.2547124201018064,
          0.18666506924123072,
          null
         ]
        },
        {
         "hoverinfo": "none",
         "line": {
          "color": "rgb(167, 0, 87)",
          "width": 5
         },
         "mode": "lines",
         "type": "scatter3d",
         "x": [
          0.1508960398558543,
          0.14391437405730279,
          null
         ],
         "y": [
          0.6047914272677114,
          0.7003725495824806,
          null
         ],
         "z": [
          0.2547124201018064,
          0.7349509651974894,
          null
         ]
        },
        {
         "hoverinfo": "none",
         "line": {
          "color": "rgb(177, 0, 77)",
          "width": 5
         },
         "mode": "lines",
         "type": "scatter3d",
         "x": [
          0.1508960398558543,
          0.42184642461052835,
          null
         ],
         "y": [
          0.6047914272677114,
          0.36714868625795205,
          null
         ],
         "z": [
          0.2547124201018064,
          0.9277768848142154,
          null
         ]
        },
        {
         "hoverinfo": "none",
         "line": {
          "color": "rgb(172, 0, 82)",
          "width": 5
         },
         "mode": "lines",
         "type": "scatter3d",
         "x": [
          0.1508960398558543,
          0.8978680896657024,
          null
         ],
         "y": [
          0.6047914272677114,
          0.20558228881241003,
          null
         ],
         "z": [
          0.2547124201018064,
          0.22993598393832704,
          null
         ]
        },
        {
         "hoverinfo": "none",
         "line": {
          "color": "rgb(190, 0, 64)",
          "width": 5
         },
         "mode": "lines",
         "type": "scatter3d",
         "x": [
          0.1508960398558543,
          0.1957925328841147,
          null
         ],
         "y": [
          0.6047914272677114,
          0.8634726352707632,
          null
         ],
         "z": [
          0.2547124201018064,
          0.590206450889974,
          null
         ]
        },
        {
         "hoverinfo": "none",
         "line": {
          "color": "rgb(172, 0, 82)",
          "width": 5
         },
         "mode": "lines",
         "type": "scatter3d",
         "x": [
          0.1508960398558543,
          0.3450703983680935,
          null
         ],
         "y": [
          0.6047914272677114,
          0.44923837008154244,
          null
         ],
         "z": [
          0.2547124201018064,
          0.9086299827623517,
          null
         ]
        },
        {
         "hoverinfo": "none",
         "line": {
          "color": "rgb(179, 0, 75)",
          "width": 5
         },
         "mode": "lines",
         "type": "scatter3d",
         "x": [
          0.1508960398558543,
          0.05695321769934458,
          null
         ],
         "y": [
          0.6047914272677114,
          0.703050803459575,
          null
         ],
         "z": [
          0.2547124201018064,
          0.4566279397356392,
          null
         ]
        },
        {
         "hoverinfo": "none",
         "line": {
          "color": "rgb(218, 0, 36)",
          "width": 5
         },
         "mode": "lines",
         "type": "scatter3d",
         "x": [
          0.1508960398558543,
          0.23056861449207033,
          null
         ],
         "y": [
          0.6047914272677114,
          0.8411610968608391,
          null
         ],
         "z": [
          0.2547124201018064,
          0.557518197329446,
          null
         ]
        },
        {
         "hoverinfo": "none",
         "line": {
          "color": "rgb(95, 0, 159)",
          "width": 5
         },
         "mode": "lines",
         "type": "scatter3d",
         "x": [
          0.1508960398558543,
          0.2245549099478309,
          null
         ],
         "y": [
          0.6047914272677114,
          0.7463434564460331,
          null
         ],
         "z": [
          0.2547124201018064,
          0.23490114927027506,
          null
         ]
        },
        {
         "hoverinfo": "none",
         "line": {
          "color": "rgb(226, 0, 28)",
          "width": 5
         },
         "mode": "lines",
         "type": "scatter3d",
         "x": [
          0.1508960398558543,
          0.7699144110526226,
          null
         ],
         "y": [
          0.6047914272677114,
          0.8115073372041424,
          null
         ],
         "z": [
          0.2547124201018064,
          0.08550601573897498,
          null
         ]
        },
        {
         "hoverinfo": "none",
         "line": {
          "color": "rgb(198, 0, 56)",
          "width": 5
         },
         "mode": "lines",
         "type": "scatter3d",
         "x": [
          0.1508960398558543,
          0.04597114730902763,
          null
         ],
         "y": [
          0.6047914272677114,
          0.9733500596329474,
          null
         ],
         "z": [
          0.2547124201018064,
          0.3207618379493513,
          null
         ]
        },
        {
         "hoverinfo": "none",
         "line": {
          "color": "rgb(191, 0, 63)",
          "width": 5
         },
         "mode": "lines",
         "type": "scatter3d",
         "x": [
          0.1508960398558543,
          0.8549284294434172,
          null
         ],
         "y": [
          0.6047914272677114,
          0.7100329143013464,
          null
         ],
         "z": [
          0.2547124201018064,
          0.7104578479395972,
          null
         ]
        },
        {
         "hoverinfo": "none",
         "line": {
          "color": "rgb(145, 0, 109)",
          "width": 5
         },
         "mode": "lines",
         "type": "scatter3d",
         "x": [
          0.844616920075403,
          0.35128607609016127,
          null
         ],
         "y": [
          0.738517296511747,
          0.9803601140750317,
          null
         ],
         "z": [
          0.18666506924123072,
          0.020756992574077926,
          null
         ]
        },
        {
         "hoverinfo": "none",
         "line": {
          "color": "rgb(170, 0, 85)",
          "width": 5
         },
         "mode": "lines",
         "type": "scatter3d",
         "x": [
          0.844616920075403,
          0.47948297505685755,
          null
         ],
         "y": [
          0.738517296511747,
          0.8013901001720605,
          null
         ],
         "z": [
          0.18666506924123072,
          0.15269340197283443,
          null
         ]
        },
        {
         "hoverinfo": "none",
         "line": {
          "color": "rgb(174, 0, 80)",
          "width": 5
         },
         "mode": "lines",
         "type": "scatter3d",
         "x": [
          0.844616920075403,
          0.5049967185452846,
          null
         ],
         "y": [
          0.738517296511747,
          0.7459611455860693,
          null
         ],
         "z": [
          0.18666506924123072,
          0.20474810738637628,
          null
         ]
        },
        {
         "hoverinfo": "none",
         "line": {
          "color": "rgb(160, 0, 94)",
          "width": 5
         },
         "mode": "lines",
         "type": "scatter3d",
         "x": [
          0.844616920075403,
          0.8978680896657024,
          null
         ],
         "y": [
          0.738517296511747,
          0.20558228881241003,
          null
         ],
         "z": [
          0.18666506924123072,
          0.22993598393832704,
          null
         ]
        },
        {
         "hoverinfo": "none",
         "line": {
          "color": "rgb(146, 0, 108)",
          "width": 5
         },
         "mode": "lines",
         "type": "scatter3d",
         "x": [
          0.844616920075403,
          0.7510175332938032,
          null
         ],
         "y": [
          0.738517296511747,
          0.2974558016214245,
          null
         ],
         "z": [
          0.18666506924123072,
          0.0026742988640656717,
          null
         ]
        },
        {
         "hoverinfo": "none",
         "line": {
          "color": "rgb(148, 0, 106)",
          "width": 5
         },
         "mode": "lines",
         "type": "scatter3d",
         "x": [
          0.844616920075403,
          0.9092617055927307,
          null
         ],
         "y": [
          0.738517296511747,
          0.2979520344719221,
          null
         ],
         "z": [
          0.18666506924123072,
          0.6653737009999455,
          null
         ]
        },
        {
         "hoverinfo": "none",
         "line": {
          "color": "rgb(170, 0, 84)",
          "width": 5
         },
         "mode": "lines",
         "type": "scatter3d",
         "x": [
          0.844616920075403,
          0.8332748158841728,
          null
         ],
         "y": [
          0.738517296511747,
          0.046542982759394835,
          null
         ],
         "z": [
          0.18666506924123072,
          0.6727598471831093,
          null
         ]
        },
        {
         "hoverinfo": "none",
         "line": {
          "color": "rgb(145, 0, 109)",
          "width": 5
         },
         "mode": "lines",
         "type": "scatter3d",
         "x": [
          0.844616920075403,
          0.14391437405730279,
          null
         ],
         "y": [
          0.738517296511747,
          0.7003725495824806,
          null
         ],
         "z": [
          0.18666506924123072,
          0.7349509651974894,
          null
         ]
        },
        {
         "hoverinfo": "none",
         "line": {
          "color": "rgb(198, 0, 56)",
          "width": 5
         },
         "mode": "lines",
         "type": "scatter3d",
         "x": [
          0.844616920075403,
          0.3450703983680935,
          null
         ],
         "y": [
          0.738517296511747,
          0.44923837008154244,
          null
         ],
         "z": [
          0.18666506924123072,
          0.9086299827623517,
          null
         ]
        },
        {
         "hoverinfo": "none",
         "line": {
          "color": "rgb(164, 0, 90)",
          "width": 5
         },
         "mode": "lines",
         "type": "scatter3d",
         "x": [
          0.844616920075403,
          0.6391203138622066,
          null
         ],
         "y": [
          0.738517296511747,
          0.003471089158763041,
          null
         ],
         "z": [
          0.18666506924123072,
          0.25904918126862864,
          null
         ]
        },
        {
         "hoverinfo": "none",
         "line": {
          "color": "rgb(191, 0, 63)",
          "width": 5
         },
         "mode": "lines",
         "type": "scatter3d",
         "x": [
          0.844616920075403,
          0.12202397256703224,
          null
         ],
         "y": [
          0.738517296511747,
          0.33803810479530894,
          null
         ],
         "z": [
          0.18666506924123072,
          0.17462877073953564,
          null
         ]
        },
        {
         "hoverinfo": "none",
         "line": {
          "color": "rgb(158, 0, 96)",
          "width": 5
         },
         "mode": "lines",
         "type": "scatter3d",
         "x": [
          0.844616920075403,
          0.42184642461052835,
          null
         ],
         "y": [
          0.738517296511747,
          0.36714868625795205,
          null
         ],
         "z": [
          0.18666506924123072,
          0.9277768848142154,
          null
         ]
        },
        {
         "hoverinfo": "none",
         "line": {
          "color": "rgb(177, 0, 77)",
          "width": 5
         },
         "mode": "lines",
         "type": "scatter3d",
         "x": [
          0.844616920075403,
          0.8762854776100119,
          null
         ],
         "y": [
          0.738517296511747,
          0.47960418159505,
          null
         ],
         "z": [
          0.18666506924123072,
          0.5084472388307851,
          null
         ]
        },
        {
         "hoverinfo": "none",
         "line": {
          "color": "rgb(204, 0, 51)",
          "width": 5
         },
         "mode": "lines",
         "type": "scatter3d",
         "x": [
          0.844616920075403,
          0.05695321769934458,
          null
         ],
         "y": [
          0.738517296511747,
          0.703050803459575,
          null
         ],
         "z": [
          0.18666506924123072,
          0.4566279397356392,
          null
         ]
        },
        {
         "hoverinfo": "none",
         "line": {
          "color": "rgb(189, 0, 65)",
          "width": 5
         },
         "mode": "lines",
         "type": "scatter3d",
         "x": [
          0.844616920075403,
          0.1957925328841147,
          null
         ],
         "y": [
          0.738517296511747,
          0.8634726352707632,
          null
         ],
         "z": [
          0.18666506924123072,
          0.590206450889974,
          null
         ]
        },
        {
         "hoverinfo": "none",
         "line": {
          "color": "rgb(255, 0, 0)",
          "width": 5
         },
         "mode": "lines",
         "type": "scatter3d",
         "x": [
          0.844616920075403,
          0.8549284294434172,
          null
         ],
         "y": [
          0.738517296511747,
          0.7100329143013464,
          null
         ],
         "z": [
          0.18666506924123072,
          0.7104578479395972,
          null
         ]
        },
        {
         "hoverinfo": "none",
         "line": {
          "color": "rgb(182, 0, 72)",
          "width": 5
         },
         "mode": "lines",
         "type": "scatter3d",
         "x": [
          0.844616920075403,
          0.23056861449207033,
          null
         ],
         "y": [
          0.738517296511747,
          0.8411610968608391,
          null
         ],
         "z": [
          0.18666506924123072,
          0.557518197329446,
          null
         ]
        },
        {
         "hoverinfo": "none",
         "line": {
          "color": "rgb(182, 0, 72)",
          "width": 5
         },
         "mode": "lines",
         "type": "scatter3d",
         "x": [
          0.844616920075403,
          0.2245549099478309,
          null
         ],
         "y": [
          0.738517296511747,
          0.7463434564460331,
          null
         ],
         "z": [
          0.18666506924123072,
          0.23490114927027506,
          null
         ]
        },
        {
         "hoverinfo": "none",
         "line": {
          "color": "rgb(102, 0, 153)",
          "width": 5
         },
         "mode": "lines",
         "type": "scatter3d",
         "x": [
          0.844616920075403,
          0.04597114730902763,
          null
         ],
         "y": [
          0.738517296511747,
          0.9733500596329474,
          null
         ],
         "z": [
          0.18666506924123072,
          0.3207618379493513,
          null
         ]
        },
        {
         "hoverinfo": "none",
         "line": {
          "color": "rgb(212, 0, 42)",
          "width": 5
         },
         "mode": "lines",
         "type": "scatter3d",
         "x": [
          0.844616920075403,
          0.7699144110526226,
          null
         ],
         "y": [
          0.738517296511747,
          0.8115073372041424,
          null
         ],
         "z": [
          0.18666506924123072,
          0.08550601573897498,
          null
         ]
        },
        {
         "hoverinfo": "none",
         "line": {
          "color": "rgb(208, 0, 46)",
          "width": 5
         },
         "mode": "lines",
         "type": "scatter3d",
         "x": [
          0.23056861449207033,
          0.5049967185452846,
          null
         ],
         "y": [
          0.8411610968608391,
          0.7459611455860693,
          null
         ],
         "z": [
          0.557518197329446,
          0.20474810738637628,
          null
         ]
        },
        {
         "hoverinfo": "none",
         "line": {
          "color": "rgb(221, 0, 33)",
          "width": 5
         },
         "mode": "lines",
         "type": "scatter3d",
         "x": [
          0.23056861449207033,
          0.12202397256703224,
          null
         ],
         "y": [
          0.8411610968608391,
          0.33803810479530894,
          null
         ],
         "z": [
          0.557518197329446,
          0.17462877073953564,
          null
         ]
        },
        {
         "hoverinfo": "none",
         "line": {
          "color": "rgb(210, 0, 44)",
          "width": 5
         },
         "mode": "lines",
         "type": "scatter3d",
         "x": [
          0.23056861449207033,
          0.14391437405730279,
          null
         ],
         "y": [
          0.8411610968608391,
          0.7003725495824806,
          null
         ],
         "z": [
          0.557518197329446,
          0.7349509651974894,
          null
         ]
        },
        {
         "hoverinfo": "none",
         "line": {
          "color": "rgb(212, 0, 42)",
          "width": 5
         },
         "mode": "lines",
         "type": "scatter3d",
         "x": [
          0.23056861449207033,
          0.35128607609016127,
          null
         ],
         "y": [
          0.8411610968608391,
          0.9803601140750317,
          null
         ],
         "z": [
          0.557518197329446,
          0.020756992574077926,
          null
         ]
        },
        {
         "hoverinfo": "none",
         "line": {
          "color": "rgb(163, 0, 91)",
          "width": 5
         },
         "mode": "lines",
         "type": "scatter3d",
         "x": [
          0.23056861449207033,
          0.42184642461052835,
          null
         ],
         "y": [
          0.8411610968608391,
          0.36714868625795205,
          null
         ],
         "z": [
          0.557518197329446,
          0.9277768848142154,
          null
         ]
        },
        {
         "hoverinfo": "none",
         "line": {
          "color": "rgb(202, 0, 52)",
          "width": 5
         },
         "mode": "lines",
         "type": "scatter3d",
         "x": [
          0.23056861449207033,
          0.7510175332938032,
          null
         ],
         "y": [
          0.8411610968608391,
          0.2974558016214245,
          null
         ],
         "z": [
          0.557518197329446,
          0.0026742988640656717,
          null
         ]
        },
        {
         "hoverinfo": "none",
         "line": {
          "color": "rgb(196, 0, 58)",
          "width": 5
         },
         "mode": "lines",
         "type": "scatter3d",
         "x": [
          0.23056861449207033,
          0.9092617055927307,
          null
         ],
         "y": [
          0.8411610968608391,
          0.2979520344719221,
          null
         ],
         "z": [
          0.557518197329446,
          0.6653737009999455,
          null
         ]
        },
        {
         "hoverinfo": "none",
         "line": {
          "color": "rgb(196, 0, 58)",
          "width": 5
         },
         "mode": "lines",
         "type": "scatter3d",
         "x": [
          0.23056861449207033,
          0.47948297505685755,
          null
         ],
         "y": [
          0.8411610968608391,
          0.8013901001720605,
          null
         ],
         "z": [
          0.557518197329446,
          0.15269340197283443,
          null
         ]
        },
        {
         "hoverinfo": "none",
         "line": {
          "color": "rgb(198, 0, 56)",
          "width": 5
         },
         "mode": "lines",
         "type": "scatter3d",
         "x": [
          0.23056861449207033,
          0.6391203138622066,
          null
         ],
         "y": [
          0.8411610968608391,
          0.003471089158763041,
          null
         ],
         "z": [
          0.557518197329446,
          0.25904918126862864,
          null
         ]
        },
        {
         "hoverinfo": "none",
         "line": {
          "color": "rgb(175, 0, 79)",
          "width": 5
         },
         "mode": "lines",
         "type": "scatter3d",
         "x": [
          0.23056861449207033,
          0.8762854776100119,
          null
         ],
         "y": [
          0.8411610968608391,
          0.47960418159505,
          null
         ],
         "z": [
          0.557518197329446,
          0.5084472388307851,
          null
         ]
        },
        {
         "hoverinfo": "none",
         "line": {
          "color": "rgb(214, 0, 40)",
          "width": 5
         },
         "mode": "lines",
         "type": "scatter3d",
         "x": [
          0.23056861449207033,
          0.3450703983680935,
          null
         ],
         "y": [
          0.8411610968608391,
          0.44923837008154244,
          null
         ],
         "z": [
          0.557518197329446,
          0.9086299827623517,
          null
         ]
        },
        {
         "hoverinfo": "none",
         "line": {
          "color": "rgb(255, 0, 0)",
          "width": 5
         },
         "mode": "lines",
         "type": "scatter3d",
         "x": [
          0.23056861449207033,
          0.7699144110526226,
          null
         ],
         "y": [
          0.8411610968608391,
          0.8115073372041424,
          null
         ],
         "z": [
          0.557518197329446,
          0.08550601573897498,
          null
         ]
        },
        {
         "hoverinfo": "none",
         "line": {
          "color": "rgb(109, 0, 145)",
          "width": 5
         },
         "mode": "lines",
         "type": "scatter3d",
         "x": [
          0.23056861449207033,
          0.8978680896657024,
          null
         ],
         "y": [
          0.8411610968608391,
          0.20558228881241003,
          null
         ],
         "z": [
          0.557518197329446,
          0.22993598393832704,
          null
         ]
        },
        {
         "hoverinfo": "none",
         "line": {
          "color": "rgb(204, 0, 51)",
          "width": 5
         },
         "mode": "lines",
         "type": "scatter3d",
         "x": [
          0.23056861449207033,
          0.8332748158841728,
          null
         ],
         "y": [
          0.8411610968608391,
          0.046542982759394835,
          null
         ],
         "z": [
          0.557518197329446,
          0.6727598471831093,
          null
         ]
        },
        {
         "hoverinfo": "none",
         "line": {
          "color": "rgb(176, 0, 78)",
          "width": 5
         },
         "mode": "lines",
         "type": "scatter3d",
         "x": [
          0.23056861449207033,
          0.1957925328841147,
          null
         ],
         "y": [
          0.8411610968608391,
          0.8634726352707632,
          null
         ],
         "z": [
          0.557518197329446,
          0.590206450889974,
          null
         ]
        },
        {
         "hoverinfo": "none",
         "line": {
          "color": "rgb(63, 0, 191)",
          "width": 5
         },
         "mode": "lines",
         "type": "scatter3d",
         "x": [
          0.23056861449207033,
          0.8549284294434172,
          null
         ],
         "y": [
          0.8411610968608391,
          0.7100329143013464,
          null
         ],
         "z": [
          0.557518197329446,
          0.7104578479395972,
          null
         ]
        },
        {
         "hoverinfo": "none",
         "line": {
          "color": "rgb(255, 0, 0)",
          "width": 5
         },
         "mode": "lines",
         "type": "scatter3d",
         "x": [
          0.23056861449207033,
          0.05695321769934458,
          null
         ],
         "y": [
          0.8411610968608391,
          0.703050803459575,
          null
         ],
         "z": [
          0.557518197329446,
          0.4566279397356392,
          null
         ]
        },
        {
         "hoverinfo": "none",
         "line": {
          "color": "rgb(255, 0, 0)",
          "width": 5
         },
         "mode": "lines",
         "type": "scatter3d",
         "x": [
          0.23056861449207033,
          0.2245549099478309,
          null
         ],
         "y": [
          0.8411610968608391,
          0.7463434564460331,
          null
         ],
         "z": [
          0.557518197329446,
          0.23490114927027506,
          null
         ]
        },
        {
         "hoverinfo": "none",
         "line": {
          "color": "rgb(0, 0, 255)",
          "width": 5
         },
         "mode": "lines",
         "type": "scatter3d",
         "x": [
          0.23056861449207033,
          0.04597114730902763,
          null
         ],
         "y": [
          0.8411610968608391,
          0.9733500596329474,
          null
         ],
         "z": [
          0.557518197329446,
          0.3207618379493513,
          null
         ]
        },
        {
         "hoverinfo": "none",
         "line": {
          "color": "rgb(162, 0, 92)",
          "width": 5
         },
         "mode": "lines",
         "type": "scatter3d",
         "x": [
          0.04597114730902763,
          0.14391437405730279,
          null
         ],
         "y": [
          0.9733500596329474,
          0.7003725495824806,
          null
         ],
         "z": [
          0.3207618379493513,
          0.7349509651974894,
          null
         ]
        },
        {
         "hoverinfo": "none",
         "line": {
          "color": "rgb(223, 0, 31)",
          "width": 5
         },
         "mode": "lines",
         "type": "scatter3d",
         "x": [
          0.04597114730902763,
          0.8978680896657024,
          null
         ],
         "y": [
          0.9733500596329474,
          0.20558228881241003,
          null
         ],
         "z": [
          0.3207618379493513,
          0.22993598393832704,
          null
         ]
        },
        {
         "hoverinfo": "none",
         "line": {
          "color": "rgb(212, 0, 42)",
          "width": 5
         },
         "mode": "lines",
         "type": "scatter3d",
         "x": [
          0.04597114730902763,
          0.8332748158841728,
          null
         ],
         "y": [
          0.9733500596329474,
          0.046542982759394835,
          null
         ],
         "z": [
          0.3207618379493513,
          0.6727598471831093,
          null
         ]
        },
        {
         "hoverinfo": "none",
         "line": {
          "color": "rgb(191, 0, 63)",
          "width": 5
         },
         "mode": "lines",
         "type": "scatter3d",
         "x": [
          0.04597114730902763,
          0.6391203138622066,
          null
         ],
         "y": [
          0.9733500596329474,
          0.003471089158763041,
          null
         ],
         "z": [
          0.3207618379493513,
          0.25904918126862864,
          null
         ]
        },
        {
         "hoverinfo": "none",
         "line": {
          "color": "rgb(191, 0, 63)",
          "width": 5
         },
         "mode": "lines",
         "type": "scatter3d",
         "x": [
          0.04597114730902763,
          0.8762854776100119,
          null
         ],
         "y": [
          0.9733500596329474,
          0.47960418159505,
          null
         ],
         "z": [
          0.3207618379493513,
          0.5084472388307851,
          null
         ]
        },
        {
         "hoverinfo": "none",
         "line": {
          "color": "rgb(139, 0, 115)",
          "width": 5
         },
         "mode": "lines",
         "type": "scatter3d",
         "x": [
          0.04597114730902763,
          0.3450703983680935,
          null
         ],
         "y": [
          0.9733500596329474,
          0.44923837008154244,
          null
         ],
         "z": [
          0.3207618379493513,
          0.9086299827623517,
          null
         ]
        },
        {
         "hoverinfo": "none",
         "line": {
          "color": "rgb(176, 0, 78)",
          "width": 5
         },
         "mode": "lines",
         "type": "scatter3d",
         "x": [
          0.04597114730902763,
          0.42184642461052835,
          null
         ],
         "y": [
          0.9733500596329474,
          0.36714868625795205,
          null
         ],
         "z": [
          0.3207618379493513,
          0.9277768848142154,
          null
         ]
        },
        {
         "hoverinfo": "none",
         "line": {
          "color": "rgb(223, 0, 31)",
          "width": 5
         },
         "mode": "lines",
         "type": "scatter3d",
         "x": [
          0.04597114730902763,
          0.1957925328841147,
          null
         ],
         "y": [
          0.9733500596329474,
          0.8634726352707632,
          null
         ],
         "z": [
          0.3207618379493513,
          0.590206450889974,
          null
         ]
        },
        {
         "hoverinfo": "none",
         "line": {
          "color": "rgb(170, 0, 85)",
          "width": 5
         },
         "mode": "lines",
         "type": "scatter3d",
         "x": [
          0.04597114730902763,
          0.5049967185452846,
          null
         ],
         "y": [
          0.9733500596329474,
          0.7459611455860693,
          null
         ],
         "z": [
          0.3207618379493513,
          0.20474810738637628,
          null
         ]
        },
        {
         "hoverinfo": "none",
         "line": {
          "color": "rgb(186, 0, 68)",
          "width": 5
         },
         "mode": "lines",
         "type": "scatter3d",
         "x": [
          0.04597114730902763,
          0.12202397256703224,
          null
         ],
         "y": [
          0.9733500596329474,
          0.33803810479530894,
          null
         ],
         "z": [
          0.3207618379493513,
          0.17462877073953564,
          null
         ]
        },
        {
         "hoverinfo": "none",
         "line": {
          "color": "rgb(127, 0, 127)",
          "width": 5
         },
         "mode": "lines",
         "type": "scatter3d",
         "x": [
          0.04597114730902763,
          0.05695321769934458,
          null
         ],
         "y": [
          0.9733500596329474,
          0.703050803459575,
          null
         ],
         "z": [
          0.3207618379493513,
          0.4566279397356392,
          null
         ]
        },
        {
         "hoverinfo": "none",
         "line": {
          "color": "rgb(255, 0, 0)",
          "width": 5
         },
         "mode": "lines",
         "type": "scatter3d",
         "x": [
          0.04597114730902763,
          0.8549284294434172,
          null
         ],
         "y": [
          0.9733500596329474,
          0.7100329143013464,
          null
         ],
         "z": [
          0.3207618379493513,
          0.7104578479395972,
          null
         ]
        },
        {
         "hoverinfo": "none",
         "line": {
          "color": "rgb(255, 0, 0)",
          "width": 5
         },
         "mode": "lines",
         "type": "scatter3d",
         "x": [
          0.04597114730902763,
          0.47948297505685755,
          null
         ],
         "y": [
          0.9733500596329474,
          0.8013901001720605,
          null
         ],
         "z": [
          0.3207618379493513,
          0.15269340197283443,
          null
         ]
        },
        {
         "hoverinfo": "none",
         "line": {
          "color": "rgb(127, 0, 127)",
          "width": 5
         },
         "mode": "lines",
         "type": "scatter3d",
         "x": [
          0.04597114730902763,
          0.7510175332938032,
          null
         ],
         "y": [
          0.9733500596329474,
          0.2974558016214245,
          null
         ],
         "z": [
          0.3207618379493513,
          0.0026742988640656717,
          null
         ]
        },
        {
         "hoverinfo": "none",
         "line": {
          "color": "rgb(187, 0, 68)",
          "width": 5
         },
         "mode": "lines",
         "type": "scatter3d",
         "x": [
          0.04597114730902763,
          0.9092617055927307,
          null
         ],
         "y": [
          0.9733500596329474,
          0.2979520344719221,
          null
         ],
         "z": [
          0.3207618379493513,
          0.6653737009999455,
          null
         ]
        },
        {
         "hoverinfo": "none",
         "line": {
          "color": "rgb(255, 0, 0)",
          "width": 5
         },
         "mode": "lines",
         "type": "scatter3d",
         "x": [
          0.04597114730902763,
          0.35128607609016127,
          null
         ],
         "y": [
          0.9733500596329474,
          0.9803601140750317,
          null
         ],
         "z": [
          0.3207618379493513,
          0.020756992574077926,
          null
         ]
        },
        {
         "hoverinfo": "none",
         "line": {
          "color": "rgb(127, 0, 127)",
          "width": 5
         },
         "mode": "lines",
         "type": "scatter3d",
         "x": [
          0.04597114730902763,
          0.7699144110526226,
          null
         ],
         "y": [
          0.9733500596329474,
          0.8115073372041424,
          null
         ],
         "z": [
          0.3207618379493513,
          0.08550601573897498,
          null
         ]
        },
        {
         "hoverinfo": "none",
         "line": {
          "color": "rgb(216, 0, 38)",
          "width": 5
         },
         "mode": "lines",
         "type": "scatter3d",
         "x": [
          0.35128607609016127,
          0.12202397256703224,
          null
         ],
         "y": [
          0.9803601140750317,
          0.33803810479530894,
          null
         ],
         "z": [
          0.020756992574077926,
          0.17462877073953564,
          null
         ]
        },
        {
         "hoverinfo": "none",
         "line": {
          "color": "rgb(192, 0, 62)",
          "width": 5
         },
         "mode": "lines",
         "type": "scatter3d",
         "x": [
          0.35128607609016127,
          0.47948297505685755,
          null
         ],
         "y": [
          0.9803601140750317,
          0.8013901001720605,
          null
         ],
         "z": [
          0.020756992574077926,
          0.15269340197283443,
          null
         ]
        },
        {
         "hoverinfo": "none",
         "line": {
          "color": "rgb(151, 0, 103)",
          "width": 5
         },
         "mode": "lines",
         "type": "scatter3d",
         "x": [
          0.35128607609016127,
          0.6391203138622066,
          null
         ],
         "y": [
          0.9803601140750317,
          0.003471089158763041,
          null
         ],
         "z": [
          0.020756992574077926,
          0.25904918126862864,
          null
         ]
        },
        {
         "hoverinfo": "none",
         "line": {
          "color": "rgb(129, 0, 125)",
          "width": 5
         },
         "mode": "lines",
         "type": "scatter3d",
         "x": [
          0.35128607609016127,
          0.3450703983680935,
          null
         ],
         "y": [
          0.9803601140750317,
          0.44923837008154244,
          null
         ],
         "z": [
          0.020756992574077926,
          0.9086299827623517,
          null
         ]
        },
        {
         "hoverinfo": "none",
         "line": {
          "color": "rgb(165, 0, 89)",
          "width": 5
         },
         "mode": "lines",
         "type": "scatter3d",
         "x": [
          0.35128607609016127,
          0.14391437405730279,
          null
         ],
         "y": [
          0.9803601140750317,
          0.7003725495824806,
          null
         ],
         "z": [
          0.020756992574077926,
          0.7349509651974894,
          null
         ]
        },
        {
         "hoverinfo": "none",
         "line": {
          "color": "rgb(177, 0, 77)",
          "width": 5
         },
         "mode": "lines",
         "type": "scatter3d",
         "x": [
          0.35128607609016127,
          0.8762854776100119,
          null
         ],
         "y": [
          0.9803601140750317,
          0.47960418159505,
          null
         ],
         "z": [
          0.020756992574077926,
          0.5084472388307851,
          null
         ]
        },
        {
         "hoverinfo": "none",
         "line": {
          "color": "rgb(174, 0, 80)",
          "width": 5
         },
         "mode": "lines",
         "type": "scatter3d",
         "x": [
          0.35128607609016127,
          0.7510175332938032,
          null
         ],
         "y": [
          0.9803601140750317,
          0.2974558016214245,
          null
         ],
         "z": [
          0.020756992574077926,
          0.0026742988640656717,
          null
         ]
        },
        {
         "hoverinfo": "none",
         "line": {
          "color": "rgb(143, 0, 111)",
          "width": 5
         },
         "mode": "lines",
         "type": "scatter3d",
         "x": [
          0.35128607609016127,
          0.8332748158841728,
          null
         ],
         "y": [
          0.9803601140750317,
          0.046542982759394835,
          null
         ],
         "z": [
          0.020756992574077926,
          0.6727598471831093,
          null
         ]
        },
        {
         "hoverinfo": "none",
         "line": {
          "color": "rgb(156, 0, 99)",
          "width": 5
         },
         "mode": "lines",
         "type": "scatter3d",
         "x": [
          0.35128607609016127,
          0.8978680896657024,
          null
         ],
         "y": [
          0.9803601140750317,
          0.20558228881241003,
          null
         ],
         "z": [
          0.020756992574077926,
          0.22993598393832704,
          null
         ]
        },
        {
         "hoverinfo": "none",
         "line": {
          "color": "rgb(176, 0, 78)",
          "width": 5
         },
         "mode": "lines",
         "type": "scatter3d",
         "x": [
          0.35128607609016127,
          0.1957925328841147,
          null
         ],
         "y": [
          0.9803601140750317,
          0.8634726352707632,
          null
         ],
         "z": [
          0.020756992574077926,
          0.590206450889974,
          null
         ]
        },
        {
         "hoverinfo": "none",
         "line": {
          "color": "rgb(201, 0, 53)",
          "width": 5
         },
         "mode": "lines",
         "type": "scatter3d",
         "x": [
          0.35128607609016127,
          0.5049967185452846,
          null
         ],
         "y": [
          0.9803601140750317,
          0.7459611455860693,
          null
         ],
         "z": [
          0.020756992574077926,
          0.20474810738637628,
          null
         ]
        },
        {
         "hoverinfo": "none",
         "line": {
          "color": "rgb(143, 0, 111)",
          "width": 5
         },
         "mode": "lines",
         "type": "scatter3d",
         "x": [
          0.35128607609016127,
          0.9092617055927307,
          null
         ],
         "y": [
          0.9803601140750317,
          0.2979520344719221,
          null
         ],
         "z": [
          0.020756992574077926,
          0.6653737009999455,
          null
         ]
        },
        {
         "hoverinfo": "none",
         "line": {
          "color": "rgb(173, 0, 81)",
          "width": 5
         },
         "mode": "lines",
         "type": "scatter3d",
         "x": [
          0.35128607609016127,
          0.42184642461052835,
          null
         ],
         "y": [
          0.9803601140750317,
          0.36714868625795205,
          null
         ],
         "z": [
          0.020756992574077926,
          0.9277768848142154,
          null
         ]
        },
        {
         "hoverinfo": "none",
         "line": {
          "color": "rgb(185, 0, 69)",
          "width": 5
         },
         "mode": "lines",
         "type": "scatter3d",
         "x": [
          0.35128607609016127,
          0.7699144110526226,
          null
         ],
         "y": [
          0.9803601140750317,
          0.8115073372041424,
          null
         ],
         "z": [
          0.020756992574077926,
          0.08550601573897498,
          null
         ]
        },
        {
         "hoverinfo": "none",
         "line": {
          "color": "rgb(255, 0, 0)",
          "width": 5
         },
         "mode": "lines",
         "type": "scatter3d",
         "x": [
          0.35128607609016127,
          0.2245549099478309,
          null
         ],
         "y": [
          0.9803601140750317,
          0.7463434564460331,
          null
         ],
         "z": [
          0.020756992574077926,
          0.23490114927027506,
          null
         ]
        },
        {
         "hoverinfo": "none",
         "line": {
          "color": "rgb(170, 0, 85)",
          "width": 5
         },
         "mode": "lines",
         "type": "scatter3d",
         "x": [
          0.35128607609016127,
          0.8549284294434172,
          null
         ],
         "y": [
          0.9803601140750317,
          0.7100329143013464,
          null
         ],
         "z": [
          0.020756992574077926,
          0.7104578479395972,
          null
         ]
        },
        {
         "hoverinfo": "none",
         "line": {
          "color": "rgb(127, 0, 127)",
          "width": 5
         },
         "mode": "lines",
         "type": "scatter3d",
         "x": [
          0.35128607609016127,
          0.05695321769934458,
          null
         ],
         "y": [
          0.9803601140750317,
          0.703050803459575,
          null
         ],
         "z": [
          0.020756992574077926,
          0.4566279397356392,
          null
         ]
        },
        {
         "hoverinfo": "none",
         "line": {
          "color": "rgb(153, 0, 102)",
          "width": 5
         },
         "mode": "lines",
         "type": "scatter3d",
         "x": [
          0.8549284294434172,
          0.8978680896657024,
          null
         ],
         "y": [
          0.7100329143013464,
          0.20558228881241003,
          null
         ],
         "z": [
          0.7104578479395972,
          0.22993598393832704,
          null
         ]
        },
        {
         "hoverinfo": "none",
         "line": {
          "color": "rgb(255, 0, 0)",
          "width": 5
         },
         "mode": "lines",
         "type": "scatter3d",
         "x": [
          0.8549284294434172,
          0.3450703983680935,
          null
         ],
         "y": [
          0.7100329143013464,
          0.44923837008154244,
          null
         ],
         "z": [
          0.7104578479395972,
          0.9086299827623517,
          null
         ]
        },
        {
         "hoverinfo": "none",
         "line": {
          "color": "rgb(191, 0, 63)",
          "width": 5
         },
         "mode": "lines",
         "type": "scatter3d",
         "x": [
          0.8549284294434172,
          0.6391203138622066,
          null
         ],
         "y": [
          0.7100329143013464,
          0.003471089158763041,
          null
         ],
         "z": [
          0.7104578479395972,
          0.25904918126862864,
          null
         ]
        },
        {
         "hoverinfo": "none",
         "line": {
          "color": "rgb(156, 0, 98)",
          "width": 5
         },
         "mode": "lines",
         "type": "scatter3d",
         "x": [
          0.8549284294434172,
          0.8332748158841728,
          null
         ],
         "y": [
          0.7100329143013464,
          0.046542982759394835,
          null
         ],
         "z": [
          0.7104578479395972,
          0.6727598471831093,
          null
         ]
        },
        {
         "hoverinfo": "none",
         "line": {
          "color": "rgb(176, 0, 78)",
          "width": 5
         },
         "mode": "lines",
         "type": "scatter3d",
         "x": [
          0.8549284294434172,
          0.42184642461052835,
          null
         ],
         "y": [
          0.7100329143013464,
          0.36714868625795205,
          null
         ],
         "z": [
          0.7104578479395972,
          0.9277768848142154,
          null
         ]
        },
        {
         "hoverinfo": "none",
         "line": {
          "color": "rgb(196, 0, 58)",
          "width": 5
         },
         "mode": "lines",
         "type": "scatter3d",
         "x": [
          0.8549284294434172,
          0.12202397256703224,
          null
         ],
         "y": [
          0.7100329143013464,
          0.33803810479530894,
          null
         ],
         "z": [
          0.7104578479395972,
          0.17462877073953564,
          null
         ]
        },
        {
         "hoverinfo": "none",
         "line": {
          "color": "rgb(204, 0, 51)",
          "width": 5
         },
         "mode": "lines",
         "type": "scatter3d",
         "x": [
          0.8549284294434172,
          0.1957925328841147,
          null
         ],
         "y": [
          0.7100329143013464,
          0.8634726352707632,
          null
         ],
         "z": [
          0.7104578479395972,
          0.590206450889974,
          null
         ]
        },
        {
         "hoverinfo": "none",
         "line": {
          "color": "rgb(170, 0, 85)",
          "width": 5
         },
         "mode": "lines",
         "type": "scatter3d",
         "x": [
          0.8549284294434172,
          0.14391437405730279,
          null
         ],
         "y": [
          0.7100329143013464,
          0.7003725495824806,
          null
         ],
         "z": [
          0.7104578479395972,
          0.7349509651974894,
          null
         ]
        },
        {
         "hoverinfo": "none",
         "line": {
          "color": "rgb(0, 0, 255)",
          "width": 5
         },
         "mode": "lines",
         "type": "scatter3d",
         "x": [
          0.8549284294434172,
          0.5049967185452846,
          null
         ],
         "y": [
          0.7100329143013464,
          0.7459611455860693,
          null
         ],
         "z": [
          0.7104578479395972,
          0.20474810738637628,
          null
         ]
        },
        {
         "hoverinfo": "none",
         "line": {
          "color": "rgb(255, 0, 0)",
          "width": 5
         },
         "mode": "lines",
         "type": "scatter3d",
         "x": [
          0.8549284294434172,
          0.7699144110526226,
          null
         ],
         "y": [
          0.7100329143013464,
          0.8115073372041424,
          null
         ],
         "z": [
          0.7104578479395972,
          0.08550601573897498,
          null
         ]
        },
        {
         "hoverinfo": "none",
         "line": {
          "color": "rgb(255, 0, 0)",
          "width": 5
         },
         "mode": "lines",
         "type": "scatter3d",
         "x": [
          0.8549284294434172,
          0.7510175332938032,
          null
         ],
         "y": [
          0.7100329143013464,
          0.2974558016214245,
          null
         ],
         "z": [
          0.7104578479395972,
          0.0026742988640656717,
          null
         ]
        },
        {
         "hoverinfo": "none",
         "line": {
          "color": "rgb(102, 0, 153)",
          "width": 5
         },
         "mode": "lines",
         "type": "scatter3d",
         "x": [
          0.8549284294434172,
          0.9092617055927307,
          null
         ],
         "y": [
          0.7100329143013464,
          0.2979520344719221,
          null
         ],
         "z": [
          0.7104578479395972,
          0.6653737009999455,
          null
         ]
        },
        {
         "hoverinfo": "none",
         "line": {
          "color": "rgb(255, 0, 0)",
          "width": 5
         },
         "mode": "lines",
         "type": "scatter3d",
         "x": [
          0.8549284294434172,
          0.47948297505685755,
          null
         ],
         "y": [
          0.7100329143013464,
          0.8013901001720605,
          null
         ],
         "z": [
          0.7104578479395972,
          0.15269340197283443,
          null
         ]
        },
        {
         "hoverinfo": "none",
         "line": {
          "color": "rgb(0, 0, 255)",
          "width": 5
         },
         "mode": "lines",
         "type": "scatter3d",
         "x": [
          0.8549284294434172,
          0.2245549099478309,
          null
         ],
         "y": [
          0.7100329143013464,
          0.7463434564460331,
          null
         ],
         "z": [
          0.7104578479395972,
          0.23490114927027506,
          null
         ]
        },
        {
         "hoverinfo": "none",
         "line": {
          "color": "rgb(255, 0, 0)",
          "width": 5
         },
         "mode": "lines",
         "type": "scatter3d",
         "x": [
          0.8549284294434172,
          0.8762854776100119,
          null
         ],
         "y": [
          0.7100329143013464,
          0.47960418159505,
          null
         ],
         "z": [
          0.7104578479395972,
          0.5084472388307851,
          null
         ]
        },
        {
         "hoverinfo": "none",
         "line": {
          "color": "rgb(192, 0, 62)",
          "width": 5
         },
         "mode": "lines",
         "type": "scatter3d",
         "x": [
          0.9092617055927307,
          0.8978680896657024,
          null
         ],
         "y": [
          0.2979520344719221,
          0.20558228881241003,
          null
         ],
         "z": [
          0.6653737009999455,
          0.22993598393832704,
          null
         ]
        },
        {
         "hoverinfo": "none",
         "line": {
          "color": "rgb(172, 0, 82)",
          "width": 5
         },
         "mode": "lines",
         "type": "scatter3d",
         "x": [
          0.9092617055927307,
          0.8762854776100119,
          null
         ],
         "y": [
          0.2979520344719221,
          0.47960418159505,
          null
         ],
         "z": [
          0.6653737009999455,
          0.5084472388307851,
          null
         ]
        },
        {
         "hoverinfo": "none",
         "line": {
          "color": "rgb(212, 0, 42)",
          "width": 5
         },
         "mode": "lines",
         "type": "scatter3d",
         "x": [
          0.9092617055927307,
          0.12202397256703224,
          null
         ],
         "y": [
          0.2979520344719221,
          0.33803810479530894,
          null
         ],
         "z": [
          0.6653737009999455,
          0.17462877073953564,
          null
         ]
        },
        {
         "hoverinfo": "none",
         "line": {
          "color": "rgb(187, 0, 67)",
          "width": 5
         },
         "mode": "lines",
         "type": "scatter3d",
         "x": [
          0.9092617055927307,
          0.6391203138622066,
          null
         ],
         "y": [
          0.2979520344719221,
          0.003471089158763041,
          null
         ],
         "z": [
          0.6653737009999455,
          0.25904918126862864,
          null
         ]
        },
        {
         "hoverinfo": "none",
         "line": {
          "color": "rgb(186, 0, 68)",
          "width": 5
         },
         "mode": "lines",
         "type": "scatter3d",
         "x": [
          0.9092617055927307,
          0.14391437405730279,
          null
         ],
         "y": [
          0.2979520344719221,
          0.7003725495824806,
          null
         ],
         "z": [
          0.6653737009999455,
          0.7349509651974894,
          null
         ]
        },
        {
         "hoverinfo": "none",
         "line": {
          "color": "rgb(170, 0, 85)",
          "width": 5
         },
         "mode": "lines",
         "type": "scatter3d",
         "x": [
          0.9092617055927307,
          0.42184642461052835,
          null
         ],
         "y": [
          0.2979520344719221,
          0.36714868625795205,
          null
         ],
         "z": [
          0.6653737009999455,
          0.9277768848142154,
          null
         ]
        },
        {
         "hoverinfo": "none",
         "line": {
          "color": "rgb(176, 0, 78)",
          "width": 5
         },
         "mode": "lines",
         "type": "scatter3d",
         "x": [
          0.9092617055927307,
          0.5049967185452846,
          null
         ],
         "y": [
          0.2979520344719221,
          0.7459611455860693,
          null
         ],
         "z": [
          0.6653737009999455,
          0.20474810738637628,
          null
         ]
        },
        {
         "hoverinfo": "none",
         "line": {
          "color": "rgb(167, 0, 87)",
          "width": 5
         },
         "mode": "lines",
         "type": "scatter3d",
         "x": [
          0.9092617055927307,
          0.8332748158841728,
          null
         ],
         "y": [
          0.2979520344719221,
          0.046542982759394835,
          null
         ],
         "z": [
          0.6653737009999455,
          0.6727598471831093,
          null
         ]
        },
        {
         "hoverinfo": "none",
         "line": {
          "color": "rgb(183, 0, 71)",
          "width": 5
         },
         "mode": "lines",
         "type": "scatter3d",
         "x": [
          0.9092617055927307,
          0.3450703983680935,
          null
         ],
         "y": [
          0.2979520344719221,
          0.44923837008154244,
          null
         ],
         "z": [
          0.6653737009999455,
          0.9086299827623517,
          null
         ]
        },
        {
         "hoverinfo": "none",
         "line": {
          "color": "rgb(255, 0, 0)",
          "width": 5
         },
         "mode": "lines",
         "type": "scatter3d",
         "x": [
          0.9092617055927307,
          0.7699144110526226,
          null
         ],
         "y": [
          0.2979520344719221,
          0.8115073372041424,
          null
         ],
         "z": [
          0.6653737009999455,
          0.08550601573897498,
          null
         ]
        },
        {
         "hoverinfo": "none",
         "line": {
          "color": "rgb(164, 0, 90)",
          "width": 5
         },
         "mode": "lines",
         "type": "scatter3d",
         "x": [
          0.9092617055927307,
          0.7510175332938032,
          null
         ],
         "y": [
          0.2979520344719221,
          0.2974558016214245,
          null
         ],
         "z": [
          0.6653737009999455,
          0.0026742988640656717,
          null
         ]
        },
        {
         "hoverinfo": "none",
         "line": {
          "color": "rgb(175, 0, 79)",
          "width": 5
         },
         "mode": "lines",
         "type": "scatter3d",
         "x": [
          0.9092617055927307,
          0.1957925328841147,
          null
         ],
         "y": [
          0.2979520344719221,
          0.8634726352707632,
          null
         ],
         "z": [
          0.6653737009999455,
          0.590206450889974,
          null
         ]
        },
        {
         "hoverinfo": "none",
         "line": {
          "color": "rgb(201, 0, 53)",
          "width": 5
         },
         "mode": "lines",
         "type": "scatter3d",
         "x": [
          0.9092617055927307,
          0.47948297505685755,
          null
         ],
         "y": [
          0.2979520344719221,
          0.8013901001720605,
          null
         ],
         "z": [
          0.6653737009999455,
          0.15269340197283443,
          null
         ]
        },
        {
         "hoverinfo": "none",
         "line": {
          "color": "rgb(182, 0, 72)",
          "width": 5
         },
         "mode": "lines",
         "type": "scatter3d",
         "x": [
          0.9092617055927307,
          0.2245549099478309,
          null
         ],
         "y": [
          0.2979520344719221,
          0.7463434564460331,
          null
         ],
         "z": [
          0.6653737009999455,
          0.23490114927027506,
          null
         ]
        },
        {
         "hoverinfo": "none",
         "line": {
          "color": "rgb(204, 0, 51)",
          "width": 5
         },
         "mode": "lines",
         "type": "scatter3d",
         "x": [
          0.9092617055927307,
          0.05695321769934458,
          null
         ],
         "y": [
          0.2979520344719221,
          0.703050803459575,
          null
         ],
         "z": [
          0.6653737009999455,
          0.4566279397356392,
          null
         ]
        },
        {
         "hoverinfo": "none",
         "line": {
          "color": "rgb(187, 0, 68)",
          "width": 5
         },
         "mode": "lines",
         "type": "scatter3d",
         "x": [
          0.6391203138622066,
          0.7699144110526226,
          null
         ],
         "y": [
          0.003471089158763041,
          0.8115073372041424,
          null
         ],
         "z": [
          0.25904918126862864,
          0.08550601573897498,
          null
         ]
        },
        {
         "hoverinfo": "none",
         "line": {
          "color": "rgb(191, 0, 63)",
          "width": 5
         },
         "mode": "lines",
         "type": "scatter3d",
         "x": [
          0.6391203138622066,
          0.8978680896657024,
          null
         ],
         "y": [
          0.003471089158763041,
          0.20558228881241003,
          null
         ],
         "z": [
          0.25904918126862864,
          0.22993598393832704,
          null
         ]
        },
        {
         "hoverinfo": "none",
         "line": {
          "color": "rgb(181, 0, 73)",
          "width": 5
         },
         "mode": "lines",
         "type": "scatter3d",
         "x": [
          0.6391203138622066,
          0.3450703983680935,
          null
         ],
         "y": [
          0.003471089158763041,
          0.44923837008154244,
          null
         ],
         "z": [
          0.25904918126862864,
          0.9086299827623517,
          null
         ]
        },
        {
         "hoverinfo": "none",
         "line": {
          "color": "rgb(185, 0, 69)",
          "width": 5
         },
         "mode": "lines",
         "type": "scatter3d",
         "x": [
          0.6391203138622066,
          0.14391437405730279,
          null
         ],
         "y": [
          0.003471089158763041,
          0.7003725495824806,
          null
         ],
         "z": [
          0.25904918126862864,
          0.7349509651974894,
          null
         ]
        },
        {
         "hoverinfo": "none",
         "line": {
          "color": "rgb(182, 0, 72)",
          "width": 5
         },
         "mode": "lines",
         "type": "scatter3d",
         "x": [
          0.6391203138622066,
          0.42184642461052835,
          null
         ],
         "y": [
          0.003471089158763041,
          0.36714868625795205,
          null
         ],
         "z": [
          0.25904918126862864,
          0.9277768848142154,
          null
         ]
        },
        {
         "hoverinfo": "none",
         "line": {
          "color": "rgb(205, 0, 49)",
          "width": 5
         },
         "mode": "lines",
         "type": "scatter3d",
         "x": [
          0.6391203138622066,
          0.12202397256703224,
          null
         ],
         "y": [
          0.003471089158763041,
          0.33803810479530894,
          null
         ],
         "z": [
          0.25904918126862864,
          0.17462877073953564,
          null
         ]
        },
        {
         "hoverinfo": "none",
         "line": {
          "color": "rgb(213, 0, 41)",
          "width": 5
         },
         "mode": "lines",
         "type": "scatter3d",
         "x": [
          0.6391203138622066,
          0.1957925328841147,
          null
         ],
         "y": [
          0.003471089158763041,
          0.8634726352707632,
          null
         ],
         "z": [
          0.25904918126862864,
          0.590206450889974,
          null
         ]
        },
        {
         "hoverinfo": "none",
         "line": {
          "color": "rgb(127, 0, 127)",
          "width": 5
         },
         "mode": "lines",
         "type": "scatter3d",
         "x": [
          0.6391203138622066,
          0.05695321769934458,
          null
         ],
         "y": [
          0.003471089158763041,
          0.703050803459575,
          null
         ],
         "z": [
          0.25904918126862864,
          0.4566279397356392,
          null
         ]
        },
        {
         "hoverinfo": "none",
         "line": {
          "color": "rgb(194, 0, 60)",
          "width": 5
         },
         "mode": "lines",
         "type": "scatter3d",
         "x": [
          0.6391203138622066,
          0.8332748158841728,
          null
         ],
         "y": [
          0.003471089158763041,
          0.046542982759394835,
          null
         ],
         "z": [
          0.25904918126862864,
          0.6727598471831093,
          null
         ]
        },
        {
         "hoverinfo": "none",
         "line": {
          "color": "rgb(207, 0, 47)",
          "width": 5
         },
         "mode": "lines",
         "type": "scatter3d",
         "x": [
          0.6391203138622066,
          0.5049967185452846,
          null
         ],
         "y": [
          0.003471089158763041,
          0.7459611455860693,
          null
         ],
         "z": [
          0.25904918126862864,
          0.20474810738637628,
          null
         ]
        },
        {
         "hoverinfo": "none",
         "line": {
          "color": "rgb(154, 0, 100)",
          "width": 5
         },
         "mode": "lines",
         "type": "scatter3d",
         "x": [
          0.6391203138622066,
          0.7510175332938032,
          null
         ],
         "y": [
          0.003471089158763041,
          0.2974558016214245,
          null
         ],
         "z": [
          0.25904918126862864,
          0.0026742988640656717,
          null
         ]
        },
        {
         "hoverinfo": "none",
         "line": {
          "color": "rgb(179, 0, 75)",
          "width": 5
         },
         "mode": "lines",
         "type": "scatter3d",
         "x": [
          0.6391203138622066,
          0.8762854776100119,
          null
         ],
         "y": [
          0.003471089158763041,
          0.47960418159505,
          null
         ],
         "z": [
          0.25904918126862864,
          0.5084472388307851,
          null
         ]
        },
        {
         "hoverinfo": "none",
         "line": {
          "color": "rgb(220, 0, 34)",
          "width": 5
         },
         "mode": "lines",
         "type": "scatter3d",
         "x": [
          0.6391203138622066,
          0.47948297505685755,
          null
         ],
         "y": [
          0.003471089158763041,
          0.8013901001720605,
          null
         ],
         "z": [
          0.25904918126862864,
          0.15269340197283443,
          null
         ]
        },
        {
         "hoverinfo": "none",
         "line": {
          "color": "rgb(161, 0, 93)",
          "width": 5
         },
         "mode": "lines",
         "type": "scatter3d",
         "x": [
          0.6391203138622066,
          0.2245549099478309,
          null
         ],
         "y": [
          0.003471089158763041,
          0.7463434564460331,
          null
         ],
         "z": [
          0.25904918126862864,
          0.23490114927027506,
          null
         ]
        },
        {
         "hoverinfo": "none",
         "line": {
          "color": "rgb(168, 0, 86)",
          "width": 5
         },
         "mode": "lines",
         "type": "scatter3d",
         "x": [
          0.14391437405730279,
          0.47948297505685755,
          null
         ],
         "y": [
          0.7003725495824806,
          0.8013901001720605,
          null
         ],
         "z": [
          0.7349509651974894,
          0.15269340197283443,
          null
         ]
        },
        {
         "hoverinfo": "none",
         "line": {
          "color": "rgb(191, 0, 63)",
          "width": 5
         },
         "mode": "lines",
         "type": "scatter3d",
         "x": [
          0.14391437405730279,
          0.5049967185452846,
          null
         ],
         "y": [
          0.7003725495824806,
          0.7459611455860693,
          null
         ],
         "z": [
          0.7349509651974894,
          0.20474810738637628,
          null
         ]
        },
        {
         "hoverinfo": "none",
         "line": {
          "color": "rgb(177, 0, 77)",
          "width": 5
         },
         "mode": "lines",
         "type": "scatter3d",
         "x": [
          0.14391437405730279,
          0.8332748158841728,
          null
         ],
         "y": [
          0.7003725495824806,
          0.046542982759394835,
          null
         ],
         "z": [
          0.7349509651974894,
          0.6727598471831093,
          null
         ]
        },
        {
         "hoverinfo": "none",
         "line": {
          "color": "rgb(207, 0, 47)",
          "width": 5
         },
         "mode": "lines",
         "type": "scatter3d",
         "x": [
          0.14391437405730279,
          0.3450703983680935,
          null
         ],
         "y": [
          0.7003725495824806,
          0.44923837008154244,
          null
         ],
         "z": [
          0.7349509651974894,
          0.9086299827623517,
          null
         ]
        },
        {
         "hoverinfo": "none",
         "line": {
          "color": "rgb(177, 0, 77)",
          "width": 5
         },
         "mode": "lines",
         "type": "scatter3d",
         "x": [
          0.14391437405730279,
          0.8978680896657024,
          null
         ],
         "y": [
          0.7003725495824806,
          0.20558228881241003,
          null
         ],
         "z": [
          0.7349509651974894,
          0.22993598393832704,
          null
         ]
        },
        {
         "hoverinfo": "none",
         "line": {
          "color": "rgb(137, 0, 117)",
          "width": 5
         },
         "mode": "lines",
         "type": "scatter3d",
         "x": [
          0.14391437405730279,
          0.05695321769934458,
          null
         ],
         "y": [
          0.7003725495824806,
          0.703050803459575,
          null
         ],
         "z": [
          0.7349509651974894,
          0.4566279397356392,
          null
         ]
        },
        {
         "hoverinfo": "none",
         "line": {
          "color": "rgb(170, 0, 85)",
          "width": 5
         },
         "mode": "lines",
         "type": "scatter3d",
         "x": [
          0.14391437405730279,
          0.2245549099478309,
          null
         ],
         "y": [
          0.7003725495824806,
          0.7463434564460331,
          null
         ],
         "z": [
          0.7349509651974894,
          0.23490114927027506,
          null
         ]
        },
        {
         "hoverinfo": "none",
         "line": {
          "color": "rgb(207, 0, 47)",
          "width": 5
         },
         "mode": "lines",
         "type": "scatter3d",
         "x": [
          0.14391437405730279,
          0.12202397256703224,
          null
         ],
         "y": [
          0.7003725495824806,
          0.33803810479530894,
          null
         ],
         "z": [
          0.7349509651974894,
          0.17462877073953564,
          null
         ]
        },
        {
         "hoverinfo": "none",
         "line": {
          "color": "rgb(159, 0, 96)",
          "width": 5
         },
         "mode": "lines",
         "type": "scatter3d",
         "x": [
          0.14391437405730279,
          0.42184642461052835,
          null
         ],
         "y": [
          0.7003725495824806,
          0.36714868625795205,
          null
         ],
         "z": [
          0.7349509651974894,
          0.9277768848142154,
          null
         ]
        },
        {
         "hoverinfo": "none",
         "line": {
          "color": "rgb(188, 0, 66)",
          "width": 5
         },
         "mode": "lines",
         "type": "scatter3d",
         "x": [
          0.14391437405730279,
          0.7699144110526226,
          null
         ],
         "y": [
          0.7003725495824806,
          0.8115073372041424,
          null
         ],
         "z": [
          0.7349509651974894,
          0.08550601573897498,
          null
         ]
        },
        {
         "hoverinfo": "none",
         "line": {
          "color": "rgb(188, 0, 66)",
          "width": 5
         },
         "mode": "lines",
         "type": "scatter3d",
         "x": [
          0.14391437405730279,
          0.1957925328841147,
          null
         ],
         "y": [
          0.7003725495824806,
          0.8634726352707632,
          null
         ],
         "z": [
          0.7349509651974894,
          0.590206450889974,
          null
         ]
        },
        {
         "hoverinfo": "none",
         "line": {
          "color": "rgb(195, 0, 59)",
          "width": 5
         },
         "mode": "lines",
         "type": "scatter3d",
         "x": [
          0.14391437405730279,
          0.8762854776100119,
          null
         ],
         "y": [
          0.7003725495824806,
          0.47960418159505,
          null
         ],
         "z": [
          0.7349509651974894,
          0.5084472388307851,
          null
         ]
        },
        {
         "hoverinfo": "none",
         "line": {
          "color": "rgb(190, 0, 64)",
          "width": 5
         },
         "mode": "lines",
         "type": "scatter3d",
         "x": [
          0.14391437405730279,
          0.7510175332938032,
          null
         ],
         "y": [
          0.7003725495824806,
          0.2974558016214245,
          null
         ],
         "z": [
          0.7349509651974894,
          0.0026742988640656717,
          null
         ]
        },
        {
         "hoverinfo": "none",
         "line": {
          "color": "rgb(179, 0, 75)",
          "width": 5
         },
         "mode": "lines",
         "type": "scatter3d",
         "x": [
          0.12202397256703224,
          0.47948297505685755,
          null
         ],
         "y": [
          0.33803810479530894,
          0.8013901001720605,
          null
         ],
         "z": [
          0.17462877073953564,
          0.15269340197283443,
          null
         ]
        },
        {
         "hoverinfo": "none",
         "line": {
          "color": "rgb(189, 0, 65)",
          "width": 5
         },
         "mode": "lines",
         "type": "scatter3d",
         "x": [
          0.12202397256703224,
          0.5049967185452846,
          null
         ],
         "y": [
          0.33803810479530894,
          0.7459611455860693,
          null
         ],
         "z": [
          0.17462877073953564,
          0.20474810738637628,
          null
         ]
        },
        {
         "hoverinfo": "none",
         "line": {
          "color": "rgb(219, 0, 35)",
          "width": 5
         },
         "mode": "lines",
         "type": "scatter3d",
         "x": [
          0.12202397256703224,
          0.1957925328841147,
          null
         ],
         "y": [
          0.33803810479530894,
          0.8634726352707632,
          null
         ],
         "z": [
          0.17462877073953564,
          0.590206450889974,
          null
         ]
        },
        {
         "hoverinfo": "none",
         "line": {
          "color": "rgb(199, 0, 55)",
          "width": 5
         },
         "mode": "lines",
         "type": "scatter3d",
         "x": [
          0.12202397256703224,
          0.7510175332938032,
          null
         ],
         "y": [
          0.33803810479530894,
          0.2974558016214245,
          null
         ],
         "z": [
          0.17462877073953564,
          0.0026742988640656717,
          null
         ]
        },
        {
         "hoverinfo": "none",
         "line": {
          "color": "rgb(185, 0, 70)",
          "width": 5
         },
         "mode": "lines",
         "type": "scatter3d",
         "x": [
          0.12202397256703224,
          0.8978680896657024,
          null
         ],
         "y": [
          0.33803810479530894,
          0.20558228881241003,
          null
         ],
         "z": [
          0.17462877073953564,
          0.22993598393832704,
          null
         ]
        },
        {
         "hoverinfo": "none",
         "line": {
          "color": "rgb(192, 0, 62)",
          "width": 5
         },
         "mode": "lines",
         "type": "scatter3d",
         "x": [
          0.12202397256703224,
          0.42184642461052835,
          null
         ],
         "y": [
          0.33803810479530894,
          0.36714868625795205,
          null
         ],
         "z": [
          0.17462877073953564,
          0.9277768848142154,
          null
         ]
        },
        {
         "hoverinfo": "none",
         "line": {
          "color": "rgb(208, 0, 46)",
          "width": 5
         },
         "mode": "lines",
         "type": "scatter3d",
         "x": [
          0.12202397256703224,
          0.8332748158841728,
          null
         ],
         "y": [
          0.33803810479530894,
          0.046542982759394835,
          null
         ],
         "z": [
          0.17462877073953564,
          0.6727598471831093,
          null
         ]
        },
        {
         "hoverinfo": "none",
         "line": {
          "color": "rgb(221, 0, 33)",
          "width": 5
         },
         "mode": "lines",
         "type": "scatter3d",
         "x": [
          0.12202397256703224,
          0.8762854776100119,
          null
         ],
         "y": [
          0.33803810479530894,
          0.47960418159505,
          null
         ],
         "z": [
          0.17462877073953564,
          0.5084472388307851,
          null
         ]
        },
        {
         "hoverinfo": "none",
         "line": {
          "color": "rgb(230, 0, 24)",
          "width": 5
         },
         "mode": "lines",
         "type": "scatter3d",
         "x": [
          0.12202397256703224,
          0.7699144110526226,
          null
         ],
         "y": [
          0.33803810479530894,
          0.8115073372041424,
          null
         ],
         "z": [
          0.17462877073953564,
          0.08550601573897498,
          null
         ]
        },
        {
         "hoverinfo": "none",
         "line": {
          "color": "rgb(193, 0, 61)",
          "width": 5
         },
         "mode": "lines",
         "type": "scatter3d",
         "x": [
          0.12202397256703224,
          0.3450703983680935,
          null
         ],
         "y": [
          0.33803810479530894,
          0.44923837008154244,
          null
         ],
         "z": [
          0.17462877073953564,
          0.9086299827623517,
          null
         ]
        },
        {
         "hoverinfo": "none",
         "line": {
          "color": "rgb(141, 0, 113)",
          "width": 5
         },
         "mode": "lines",
         "type": "scatter3d",
         "x": [
          0.12202397256703224,
          0.2245549099478309,
          null
         ],
         "y": [
          0.33803810479530894,
          0.7463434564460331,
          null
         ],
         "z": [
          0.17462877073953564,
          0.23490114927027506,
          null
         ]
        },
        {
         "hoverinfo": "none",
         "line": {
          "color": "rgb(191, 0, 63)",
          "width": 5
         },
         "mode": "lines",
         "type": "scatter3d",
         "x": [
          0.12202397256703224,
          0.05695321769934458,
          null
         ],
         "y": [
          0.33803810479530894,
          0.703050803459575,
          null
         ],
         "z": [
          0.17462877073953564,
          0.4566279397356392,
          null
         ]
        },
        {
         "hoverinfo": "none",
         "line": {
          "color": "rgb(170, 0, 85)",
          "width": 5
         },
         "mode": "lines",
         "type": "scatter3d",
         "x": [
          0.2245549099478309,
          0.5049967185452846,
          null
         ],
         "y": [
          0.7463434564460331,
          0.7459611455860693,
          null
         ],
         "z": [
          0.23490114927027506,
          0.20474810738637628,
          null
         ]
        },
        {
         "hoverinfo": "none",
         "line": {
          "color": "rgb(180, 0, 74)",
          "width": 5
         },
         "mode": "lines",
         "type": "scatter3d",
         "x": [
          0.2245549099478309,
          0.8978680896657024,
          null
         ],
         "y": [
          0.7463434564460331,
          0.20558228881241003,
          null
         ],
         "z": [
          0.23490114927027506,
          0.22993598393832704,
          null
         ]
        },
        {
         "hoverinfo": "none",
         "line": {
          "color": "rgb(147, 0, 107)",
          "width": 5
         },
         "mode": "lines",
         "type": "scatter3d",
         "x": [
          0.2245549099478309,
          0.42184642461052835,
          null
         ],
         "y": [
          0.7463434564460331,
          0.36714868625795205,
          null
         ],
         "z": [
          0.23490114927027506,
          0.9277768848142154,
          null
         ]
        },
        {
         "hoverinfo": "none",
         "line": {
          "color": "rgb(191, 0, 63)",
          "width": 5
         },
         "mode": "lines",
         "type": "scatter3d",
         "x": [
          0.2245549099478309,
          0.7510175332938032,
          null
         ],
         "y": [
          0.7463434564460331,
          0.2974558016214245,
          null
         ],
         "z": [
          0.23490114927027506,
          0.0026742988640656717,
          null
         ]
        },
        {
         "hoverinfo": "none",
         "line": {
          "color": "rgb(153, 0, 102)",
          "width": 5
         },
         "mode": "lines",
         "type": "scatter3d",
         "x": [
          0.2245549099478309,
          0.1957925328841147,
          null
         ],
         "y": [
          0.7463434564460331,
          0.8634726352707632,
          null
         ],
         "z": [
          0.23490114927027506,
          0.590206450889974,
          null
         ]
        },
        {
         "hoverinfo": "none",
         "line": {
          "color": "rgb(113, 0, 141)",
          "width": 5
         },
         "mode": "lines",
         "type": "scatter3d",
         "x": [
          0.2245549099478309,
          0.8762854776100119,
          null
         ],
         "y": [
          0.7463434564460331,
          0.47960418159505,
          null
         ],
         "z": [
          0.23490114927027506,
          0.5084472388307851,
          null
         ]
        },
        {
         "hoverinfo": "none",
         "line": {
          "color": "rgb(143, 0, 111)",
          "width": 5
         },
         "mode": "lines",
         "type": "scatter3d",
         "x": [
          0.2245549099478309,
          0.3450703983680935,
          null
         ],
         "y": [
          0.7463434564460331,
          0.44923837008154244,
          null
         ],
         "z": [
          0.23490114927027506,
          0.9086299827623517,
          null
         ]
        },
        {
         "hoverinfo": "none",
         "line": {
          "color": "rgb(148, 0, 106)",
          "width": 5
         },
         "mode": "lines",
         "type": "scatter3d",
         "x": [
          0.2245549099478309,
          0.8332748158841728,
          null
         ],
         "y": [
          0.7463434564460331,
          0.046542982759394835,
          null
         ],
         "z": [
          0.23490114927027506,
          0.6727598471831093,
          null
         ]
        },
        {
         "hoverinfo": "none",
         "line": {
          "color": "rgb(102, 0, 153)",
          "width": 5
         },
         "mode": "lines",
         "type": "scatter3d",
         "x": [
          0.2245549099478309,
          0.7699144110526226,
          null
         ],
         "y": [
          0.7463434564460331,
          0.8115073372041424,
          null
         ],
         "z": [
          0.23490114927027506,
          0.08550601573897498,
          null
         ]
        },
        {
         "hoverinfo": "none",
         "line": {
          "color": "rgb(255, 0, 0)",
          "width": 5
         },
         "mode": "lines",
         "type": "scatter3d",
         "x": [
          0.2245549099478309,
          0.47948297505685755,
          null
         ],
         "y": [
          0.7463434564460331,
          0.8013901001720605,
          null
         ],
         "z": [
          0.23490114927027506,
          0.15269340197283443,
          null
         ]
        },
        {
         "hoverinfo": "none",
         "line": {
          "color": "rgb(255, 0, 0)",
          "width": 5
         },
         "mode": "lines",
         "type": "scatter3d",
         "x": [
          0.2245549099478309,
          0.05695321769934458,
          null
         ],
         "y": [
          0.7463434564460331,
          0.703050803459575,
          null
         ],
         "z": [
          0.23490114927027506,
          0.4566279397356392,
          null
         ]
        },
        {
         "hoverinfo": "none",
         "line": {
          "color": "rgb(171, 0, 83)",
          "width": 5
         },
         "mode": "lines",
         "type": "scatter3d",
         "x": [
          0.42184642461052835,
          0.8978680896657024,
          null
         ],
         "y": [
          0.36714868625795205,
          0.20558228881241003,
          null
         ],
         "z": [
          0.9277768848142154,
          0.22993598393832704,
          null
         ]
        },
        {
         "hoverinfo": "none",
         "line": {
          "color": "rgb(182, 0, 72)",
          "width": 5
         },
         "mode": "lines",
         "type": "scatter3d",
         "x": [
          0.42184642461052835,
          0.5049967185452846,
          null
         ],
         "y": [
          0.36714868625795205,
          0.7459611455860693,
          null
         ],
         "z": [
          0.9277768848142154,
          0.20474810738637628,
          null
         ]
        },
        {
         "hoverinfo": "none",
         "line": {
          "color": "rgb(175, 0, 80)",
          "width": 5
         },
         "mode": "lines",
         "type": "scatter3d",
         "x": [
          0.42184642461052835,
          0.8332748158841728,
          null
         ],
         "y": [
          0.36714868625795205,
          0.046542982759394835,
          null
         ],
         "z": [
          0.9277768848142154,
          0.6727598471831093,
          null
         ]
        },
        {
         "hoverinfo": "none",
         "line": {
          "color": "rgb(209, 0, 45)",
          "width": 5
         },
         "mode": "lines",
         "type": "scatter3d",
         "x": [
          0.42184642461052835,
          0.3450703983680935,
          null
         ],
         "y": [
          0.36714868625795205,
          0.44923837008154244,
          null
         ],
         "z": [
          0.9277768848142154,
          0.9086299827623517,
          null
         ]
        },
        {
         "hoverinfo": "none",
         "line": {
          "color": "rgb(198, 0, 56)",
          "width": 5
         },
         "mode": "lines",
         "type": "scatter3d",
         "x": [
          0.42184642461052835,
          0.1957925328841147,
          null
         ],
         "y": [
          0.36714868625795205,
          0.8634726352707632,
          null
         ],
         "z": [
          0.9277768848142154,
          0.590206450889974,
          null
         ]
        },
        {
         "hoverinfo": "none",
         "line": {
          "color": "rgb(186, 0, 68)",
          "width": 5
         },
         "mode": "lines",
         "type": "scatter3d",
         "x": [
          0.42184642461052835,
          0.8762854776100119,
          null
         ],
         "y": [
          0.36714868625795205,
          0.47960418159505,
          null
         ],
         "z": [
          0.9277768848142154,
          0.5084472388307851,
          null
         ]
        },
        {
         "hoverinfo": "none",
         "line": {
          "color": "rgb(184, 0, 70)",
          "width": 5
         },
         "mode": "lines",
         "type": "scatter3d",
         "x": [
          0.42184642461052835,
          0.7699144110526226,
          null
         ],
         "y": [
          0.36714868625795205,
          0.8115073372041424,
          null
         ],
         "z": [
          0.9277768848142154,
          0.08550601573897498,
          null
         ]
        },
        {
         "hoverinfo": "none",
         "line": {
          "color": "rgb(193, 0, 61)",
          "width": 5
         },
         "mode": "lines",
         "type": "scatter3d",
         "x": [
          0.42184642461052835,
          0.47948297505685755,
          null
         ],
         "y": [
          0.36714868625795205,
          0.8013901001720605,
          null
         ],
         "z": [
          0.9277768848142154,
          0.15269340197283443,
          null
         ]
        },
        {
         "hoverinfo": "none",
         "line": {
          "color": "rgb(162, 0, 92)",
          "width": 5
         },
         "mode": "lines",
         "type": "scatter3d",
         "x": [
          0.42184642461052835,
          0.7510175332938032,
          null
         ],
         "y": [
          0.36714868625795205,
          0.2974558016214245,
          null
         ],
         "z": [
          0.9277768848142154,
          0.0026742988640656717,
          null
         ]
        },
        {
         "hoverinfo": "none",
         "line": {
          "color": "rgb(255, 0, 0)",
          "width": 5
         },
         "mode": "lines",
         "type": "scatter3d",
         "x": [
          0.42184642461052835,
          0.05695321769934458,
          null
         ],
         "y": [
          0.36714868625795205,
          0.703050803459575,
          null
         ],
         "z": [
          0.9277768848142154,
          0.4566279397356392,
          null
         ]
        },
        {
         "hoverinfo": "none",
         "line": {
          "color": "rgb(182, 0, 72)",
          "width": 5
         },
         "mode": "lines",
         "type": "scatter3d",
         "x": [
          0.3450703983680935,
          0.47948297505685755,
          null
         ],
         "y": [
          0.44923837008154244,
          0.8013901001720605,
          null
         ],
         "z": [
          0.9086299827623517,
          0.15269340197283443,
          null
         ]
        },
        {
         "hoverinfo": "none",
         "line": {
          "color": "rgb(198, 0, 56)",
          "width": 5
         },
         "mode": "lines",
         "type": "scatter3d",
         "x": [
          0.3450703983680935,
          0.8978680896657024,
          null
         ],
         "y": [
          0.44923837008154244,
          0.20558228881241003,
          null
         ],
         "z": [
          0.9086299827623517,
          0.22993598393832704,
          null
         ]
        },
        {
         "hoverinfo": "none",
         "line": {
          "color": "rgb(172, 0, 82)",
          "width": 5
         },
         "mode": "lines",
         "type": "scatter3d",
         "x": [
          0.3450703983680935,
          0.8332748158841728,
          null
         ],
         "y": [
          0.44923837008154244,
          0.046542982759394835,
          null
         ],
         "z": [
          0.9086299827623517,
          0.6727598471831093,
          null
         ]
        },
        {
         "hoverinfo": "none",
         "line": {
          "color": "rgb(201, 0, 53)",
          "width": 5
         },
         "mode": "lines",
         "type": "scatter3d",
         "x": [
          0.3450703983680935,
          0.7699144110526226,
          null
         ],
         "y": [
          0.44923837008154244,
          0.8115073372041424,
          null
         ],
         "z": [
          0.9086299827623517,
          0.08550601573897498,
          null
         ]
        },
        {
         "hoverinfo": "none",
         "line": {
          "color": "rgb(192, 0, 62)",
          "width": 5
         },
         "mode": "lines",
         "type": "scatter3d",
         "x": [
          0.3450703983680935,
          0.1957925328841147,
          null
         ],
         "y": [
          0.44923837008154244,
          0.8634726352707632,
          null
         ],
         "z": [
          0.9086299827623517,
          0.590206450889974,
          null
         ]
        },
        {
         "hoverinfo": "none",
         "line": {
          "color": "rgb(170, 0, 85)",
          "width": 5
         },
         "mode": "lines",
         "type": "scatter3d",
         "x": [
          0.3450703983680935,
          0.7510175332938032,
          null
         ],
         "y": [
          0.44923837008154244,
          0.2974558016214245,
          null
         ],
         "z": [
          0.9086299827623517,
          0.0026742988640656717,
          null
         ]
        },
        {
         "hoverinfo": "none",
         "line": {
          "color": "rgb(219, 0, 35)",
          "width": 5
         },
         "mode": "lines",
         "type": "scatter3d",
         "x": [
          0.3450703983680935,
          0.5049967185452846,
          null
         ],
         "y": [
          0.44923837008154244,
          0.7459611455860693,
          null
         ],
         "z": [
          0.9086299827623517,
          0.20474810738637628,
          null
         ]
        },
        {
         "hoverinfo": "none",
         "line": {
          "color": "rgb(178, 0, 76)",
          "width": 5
         },
         "mode": "lines",
         "type": "scatter3d",
         "x": [
          0.3450703983680935,
          0.8762854776100119,
          null
         ],
         "y": [
          0.44923837008154244,
          0.47960418159505,
          null
         ],
         "z": [
          0.9086299827623517,
          0.5084472388307851,
          null
         ]
        },
        {
         "hoverinfo": "none",
         "line": {
          "color": "rgb(255, 0, 0)",
          "width": 5
         },
         "mode": "lines",
         "type": "scatter3d",
         "x": [
          0.3450703983680935,
          0.05695321769934458,
          null
         ],
         "y": [
          0.44923837008154244,
          0.703050803459575,
          null
         ],
         "z": [
          0.9086299827623517,
          0.4566279397356392,
          null
         ]
        },
        {
         "hoverinfo": "none",
         "line": {
          "color": "rgb(146, 0, 108)",
          "width": 5
         },
         "mode": "lines",
         "type": "scatter3d",
         "x": [
          0.47948297505685755,
          0.7510175332938032,
          null
         ],
         "y": [
          0.8013901001720605,
          0.2974558016214245,
          null
         ],
         "z": [
          0.15269340197283443,
          0.0026742988640656717,
          null
         ]
        },
        {
         "hoverinfo": "none",
         "line": {
          "color": "rgb(163, 0, 91)",
          "width": 5
         },
         "mode": "lines",
         "type": "scatter3d",
         "x": [
          0.47948297505685755,
          0.5049967185452846,
          null
         ],
         "y": [
          0.8013901001720605,
          0.7459611455860693,
          null
         ],
         "z": [
          0.15269340197283443,
          0.20474810738637628,
          null
         ]
        },
        {
         "hoverinfo": "none",
         "line": {
          "color": "rgb(127, 0, 127)",
          "width": 5
         },
         "mode": "lines",
         "type": "scatter3d",
         "x": [
          0.47948297505685755,
          0.8762854776100119,
          null
         ],
         "y": [
          0.8013901001720605,
          0.47960418159505,
          null
         ],
         "z": [
          0.15269340197283443,
          0.5084472388307851,
          null
         ]
        },
        {
         "hoverinfo": "none",
         "line": {
          "color": "rgb(156, 0, 98)",
          "width": 5
         },
         "mode": "lines",
         "type": "scatter3d",
         "x": [
          0.47948297505685755,
          0.8332748158841728,
          null
         ],
         "y": [
          0.8013901001720605,
          0.046542982759394835,
          null
         ],
         "z": [
          0.15269340197283443,
          0.6727598471831093,
          null
         ]
        },
        {
         "hoverinfo": "none",
         "line": {
          "color": "rgb(159, 0, 95)",
          "width": 5
         },
         "mode": "lines",
         "type": "scatter3d",
         "x": [
          0.47948297505685755,
          0.8978680896657024,
          null
         ],
         "y": [
          0.8013901001720605,
          0.20558228881241003,
          null
         ],
         "z": [
          0.15269340197283443,
          0.22993598393832704,
          null
         ]
        },
        {
         "hoverinfo": "none",
         "line": {
          "color": "rgb(177, 0, 77)",
          "width": 5
         },
         "mode": "lines",
         "type": "scatter3d",
         "x": [
          0.47948297505685755,
          0.1957925328841147,
          null
         ],
         "y": [
          0.8013901001720605,
          0.8634726352707632,
          null
         ],
         "z": [
          0.15269340197283443,
          0.590206450889974,
          null
         ]
        },
        {
         "hoverinfo": "none",
         "line": {
          "color": "rgb(204, 0, 51)",
          "width": 5
         },
         "mode": "lines",
         "type": "scatter3d",
         "x": [
          0.47948297505685755,
          0.7699144110526226,
          null
         ],
         "y": [
          0.8013901001720605,
          0.8115073372041424,
          null
         ],
         "z": [
          0.15269340197283443,
          0.08550601573897498,
          null
         ]
        },
        {
         "hoverinfo": "none",
         "line": {
          "color": "rgb(255, 0, 0)",
          "width": 5
         },
         "mode": "lines",
         "type": "scatter3d",
         "x": [
          0.47948297505685755,
          0.05695321769934458,
          null
         ],
         "y": [
          0.8013901001720605,
          0.703050803459575,
          null
         ],
         "z": [
          0.15269340197283443,
          0.4566279397356392,
          null
         ]
        },
        {
         "hoverinfo": "none",
         "line": {
          "color": "rgb(177, 0, 77)",
          "width": 5
         },
         "mode": "lines",
         "type": "scatter3d",
         "x": [
          0.1957925328841147,
          0.5049967185452846,
          null
         ],
         "y": [
          0.8634726352707632,
          0.7459611455860693,
          null
         ],
         "z": [
          0.590206450889974,
          0.20474810738637628,
          null
         ]
        },
        {
         "hoverinfo": "none",
         "line": {
          "color": "rgb(170, 0, 85)",
          "width": 5
         },
         "mode": "lines",
         "type": "scatter3d",
         "x": [
          0.1957925328841147,
          0.7699144110526226,
          null
         ],
         "y": [
          0.8634726352707632,
          0.8115073372041424,
          null
         ],
         "z": [
          0.590206450889974,
          0.08550601573897498,
          null
         ]
        },
        {
         "hoverinfo": "none",
         "line": {
          "color": "rgb(202, 0, 52)",
          "width": 5
         },
         "mode": "lines",
         "type": "scatter3d",
         "x": [
          0.1957925328841147,
          0.8332748158841728,
          null
         ],
         "y": [
          0.8634726352707632,
          0.046542982759394835,
          null
         ],
         "z": [
          0.590206450889974,
          0.6727598471831093,
          null
         ]
        },
        {
         "hoverinfo": "none",
         "line": {
          "color": "rgb(143, 0, 111)",
          "width": 5
         },
         "mode": "lines",
         "type": "scatter3d",
         "x": [
          0.1957925328841147,
          0.8978680896657024,
          null
         ],
         "y": [
          0.8634726352707632,
          0.20558228881241003,
          null
         ],
         "z": [
          0.590206450889974,
          0.22993598393832704,
          null
         ]
        },
        {
         "hoverinfo": "none",
         "line": {
          "color": "rgb(178, 0, 76)",
          "width": 5
         },
         "mode": "lines",
         "type": "scatter3d",
         "x": [
          0.1957925328841147,
          0.7510175332938032,
          null
         ],
         "y": [
          0.8634726352707632,
          0.2974558016214245,
          null
         ],
         "z": [
          0.590206450889974,
          0.0026742988640656717,
          null
         ]
        },
        {
         "hoverinfo": "none",
         "line": {
          "color": "rgb(200, 0, 54)",
          "width": 5
         },
         "mode": "lines",
         "type": "scatter3d",
         "x": [
          0.1957925328841147,
          0.8762854776100119,
          null
         ],
         "y": [
          0.8634726352707632,
          0.47960418159505,
          null
         ],
         "z": [
          0.590206450889974,
          0.5084472388307851,
          null
         ]
        },
        {
         "hoverinfo": "none",
         "line": {
          "color": "rgb(255, 0, 0)",
          "width": 5
         },
         "mode": "lines",
         "type": "scatter3d",
         "x": [
          0.1957925328841147,
          0.05695321769934458,
          null
         ],
         "y": [
          0.8634726352707632,
          0.703050803459575,
          null
         ],
         "z": [
          0.590206450889974,
          0.4566279397356392,
          null
         ]
        },
        {
         "hoverinfo": "none",
         "line": {
          "color": "rgb(169, 0, 85)",
          "width": 5
         },
         "mode": "lines",
         "type": "scatter3d",
         "x": [
          0.8978680896657024,
          0.8332748158841728,
          null
         ],
         "y": [
          0.20558228881241003,
          0.046542982759394835,
          null
         ],
         "z": [
          0.22993598393832704,
          0.6727598471831093,
          null
         ]
        },
        {
         "hoverinfo": "none",
         "line": {
          "color": "rgb(178, 0, 76)",
          "width": 5
         },
         "mode": "lines",
         "type": "scatter3d",
         "x": [
          0.8978680896657024,
          0.7510175332938032,
          null
         ],
         "y": [
          0.20558228881241003,
          0.2974558016214245,
          null
         ],
         "z": [
          0.22993598393832704,
          0.0026742988640656717,
          null
         ]
        },
        {
         "hoverinfo": "none",
         "line": {
          "color": "rgb(200, 0, 54)",
          "width": 5
         },
         "mode": "lines",
         "type": "scatter3d",
         "x": [
          0.8978680896657024,
          0.7699144110526226,
          null
         ],
         "y": [
          0.20558228881241003,
          0.8115073372041424,
          null
         ],
         "z": [
          0.22993598393832704,
          0.08550601573897498,
          null
         ]
        },
        {
         "hoverinfo": "none",
         "line": {
          "color": "rgb(180, 0, 74)",
          "width": 5
         },
         "mode": "lines",
         "type": "scatter3d",
         "x": [
          0.8978680896657024,
          0.8762854776100119,
          null
         ],
         "y": [
          0.20558228881241003,
          0.47960418159505,
          null
         ],
         "z": [
          0.22993598393832704,
          0.5084472388307851,
          null
         ]
        },
        {
         "hoverinfo": "none",
         "line": {
          "color": "rgb(192, 0, 62)",
          "width": 5
         },
         "mode": "lines",
         "type": "scatter3d",
         "x": [
          0.8978680896657024,
          0.5049967185452846,
          null
         ],
         "y": [
          0.20558228881241003,
          0.7459611455860693,
          null
         ],
         "z": [
          0.22993598393832704,
          0.20474810738637628,
          null
         ]
        },
        {
         "hoverinfo": "none",
         "line": {
          "color": "rgb(159, 0, 95)",
          "width": 5
         },
         "mode": "lines",
         "type": "scatter3d",
         "x": [
          0.8978680896657024,
          0.05695321769934458,
          null
         ],
         "y": [
          0.20558228881241003,
          0.703050803459575,
          null
         ],
         "z": [
          0.22993598393832704,
          0.4566279397356392,
          null
         ]
        },
        {
         "hoverinfo": "none",
         "line": {
          "color": "rgb(228, 0, 26)",
          "width": 5
         },
         "mode": "lines",
         "type": "scatter3d",
         "x": [
          0.5049967185452846,
          0.7699144110526226,
          null
         ],
         "y": [
          0.7459611455860693,
          0.8115073372041424,
          null
         ],
         "z": [
          0.20474810738637628,
          0.08550601573897498,
          null
         ]
        },
        {
         "hoverinfo": "none",
         "line": {
          "color": "rgb(207, 0, 47)",
          "width": 5
         },
         "mode": "lines",
         "type": "scatter3d",
         "x": [
          0.5049967185452846,
          0.8332748158841728,
          null
         ],
         "y": [
          0.7459611455860693,
          0.046542982759394835,
          null
         ],
         "z": [
          0.20474810738637628,
          0.6727598471831093,
          null
         ]
        },
        {
         "hoverinfo": "none",
         "line": {
          "color": "rgb(202, 0, 52)",
          "width": 5
         },
         "mode": "lines",
         "type": "scatter3d",
         "x": [
          0.5049967185452846,
          0.7510175332938032,
          null
         ],
         "y": [
          0.7459611455860693,
          0.2974558016214245,
          null
         ],
         "z": [
          0.20474810738637628,
          0.0026742988640656717,
          null
         ]
        },
        {
         "hoverinfo": "none",
         "line": {
          "color": "rgb(191, 0, 63)",
          "width": 5
         },
         "mode": "lines",
         "type": "scatter3d",
         "x": [
          0.5049967185452846,
          0.8762854776100119,
          null
         ],
         "y": [
          0.7459611455860693,
          0.47960418159505,
          null
         ],
         "z": [
          0.20474810738637628,
          0.5084472388307851,
          null
         ]
        },
        {
         "hoverinfo": "none",
         "line": {
          "color": "rgb(228, 0, 26)",
          "width": 5
         },
         "mode": "lines",
         "type": "scatter3d",
         "x": [
          0.5049967185452846,
          0.05695321769934458,
          null
         ],
         "y": [
          0.7459611455860693,
          0.703050803459575,
          null
         ],
         "z": [
          0.20474810738637628,
          0.4566279397356392,
          null
         ]
        },
        {
         "hoverinfo": "none",
         "line": {
          "color": "rgb(109, 0, 145)",
          "width": 5
         },
         "mode": "lines",
         "type": "scatter3d",
         "x": [
          0.8332748158841728,
          0.05695321769934458,
          null
         ],
         "y": [
          0.046542982759394835,
          0.703050803459575,
          null
         ],
         "z": [
          0.6727598471831093,
          0.4566279397356392,
          null
         ]
        },
        {
         "hoverinfo": "none",
         "line": {
          "color": "rgb(165, 0, 89)",
          "width": 5
         },
         "mode": "lines",
         "type": "scatter3d",
         "x": [
          0.8332748158841728,
          0.8762854776100119,
          null
         ],
         "y": [
          0.046542982759394835,
          0.47960418159505,
          null
         ],
         "z": [
          0.6727598471831093,
          0.5084472388307851,
          null
         ]
        },
        {
         "hoverinfo": "none",
         "line": {
          "color": "rgb(149, 0, 105)",
          "width": 5
         },
         "mode": "lines",
         "type": "scatter3d",
         "x": [
          0.8332748158841728,
          0.7510175332938032,
          null
         ],
         "y": [
          0.046542982759394835,
          0.2974558016214245,
          null
         ],
         "z": [
          0.6727598471831093,
          0.0026742988640656717,
          null
         ]
        },
        {
         "hoverinfo": "none",
         "line": {
          "color": "rgb(139, 0, 115)",
          "width": 5
         },
         "mode": "lines",
         "type": "scatter3d",
         "x": [
          0.8332748158841728,
          0.7699144110526226,
          null
         ],
         "y": [
          0.046542982759394835,
          0.8115073372041424,
          null
         ],
         "z": [
          0.6727598471831093,
          0.08550601573897498,
          null
         ]
        },
        {
         "hoverinfo": "none",
         "line": {
          "color": "rgb(168, 0, 86)",
          "width": 5
         },
         "mode": "lines",
         "type": "scatter3d",
         "x": [
          0.8762854776100119,
          0.7510175332938032,
          null
         ],
         "y": [
          0.47960418159505,
          0.2974558016214245,
          null
         ],
         "z": [
          0.5084472388307851,
          0.0026742988640656717,
          null
         ]
        },
        {
         "hoverinfo": "none",
         "line": {
          "color": "rgb(162, 0, 92)",
          "width": 5
         },
         "mode": "lines",
         "type": "scatter3d",
         "x": [
          0.8762854776100119,
          0.7699144110526226,
          null
         ],
         "y": [
          0.47960418159505,
          0.8115073372041424,
          null
         ],
         "z": [
          0.5084472388307851,
          0.08550601573897498,
          null
         ]
        },
        {
         "hoverinfo": "none",
         "line": {
          "color": "rgb(0, 0, 255)",
          "width": 5
         },
         "mode": "lines",
         "type": "scatter3d",
         "x": [
          0.8762854776100119,
          0.05695321769934458,
          null
         ],
         "y": [
          0.47960418159505,
          0.703050803459575,
          null
         ],
         "z": [
          0.5084472388307851,
          0.4566279397356392,
          null
         ]
        },
        {
         "hoverinfo": "none",
         "line": {
          "color": "rgb(170, 0, 85)",
          "width": 5
         },
         "mode": "lines",
         "type": "scatter3d",
         "x": [
          0.05695321769934458,
          0.7510175332938032,
          null
         ],
         "y": [
          0.703050803459575,
          0.2974558016214245,
          null
         ],
         "z": [
          0.4566279397356392,
          0.0026742988640656717,
          null
         ]
        },
        {
         "hoverinfo": "none",
         "line": {
          "color": "rgb(255, 0, 0)",
          "width": 5
         },
         "mode": "lines",
         "type": "scatter3d",
         "x": [
          0.05695321769934458,
          0.7699144110526226,
          null
         ],
         "y": [
          0.703050803459575,
          0.8115073372041424,
          null
         ],
         "z": [
          0.4566279397356392,
          0.08550601573897498,
          null
         ]
        },
        {
         "hoverinfo": "none",
         "line": {
          "color": "rgb(246, 0, 8)",
          "width": 5
         },
         "mode": "lines",
         "type": "scatter3d",
         "x": [
          0.7699144110526226,
          0.7510175332938032,
          null
         ],
         "y": [
          0.8115073372041424,
          0.2974558016214245,
          null
         ],
         "z": [
          0.08550601573897498,
          0.0026742988640656717,
          null
         ]
        },
        {
         "hoverinfo": "text",
         "marker": {
          "color": "black",
          "size": 7
         },
         "mode": "markers",
         "text": [
          "0",
          "1",
          "2",
          "3",
          "4",
          "5",
          "6",
          "7",
          "8",
          "9",
          "10",
          "11",
          "12",
          "13",
          "14",
          "15",
          "16",
          "17",
          "18",
          "19",
          "20",
          "21",
          "22",
          "23",
          "24",
          "25",
          "26",
          "27",
          "28",
          "29",
          "30",
          "31",
          "32",
          "33",
          "34",
          "35",
          "36",
          "37",
          "38",
          "39",
          "40"
         ],
         "type": "scatter3d",
         "x": [
          0.48480833003012425,
          0.9781105859426973,
          0.9415674566933468,
          0.3955609727109366,
          0.47931995259183224,
          0.2337706636881529,
          0.3618083958146231,
          0.011378688695514505,
          0.39607346367626906,
          0.029113341575248364,
          0.8579177060601673,
          0.1508960398558543,
          0.844616920075403,
          0.23056861449207033,
          0.04597114730902763,
          0.35128607609016127,
          0.8549284294434172,
          0.9092617055927307,
          0.05084761435491292,
          0.6391203138622066,
          0.14391437405730279,
          0.12202397256703224,
          0.2245549099478309,
          0.42184642461052835,
          0.3450703983680935,
          0.16493377874453719,
          0.09247971868680716,
          0.562238069697889,
          0.47948297505685755,
          0.1957925328841147,
          0.8978680896657024,
          0.8929059937821047,
          0.5049967185452846,
          0.8332748158841728,
          0.8950444287092942,
          0.8762854776100119,
          0.05695321769934458,
          0.9713899439462533,
          0.7699144110526226,
          0.10372641210695044,
          0.7510175332938032
         ],
         "y": [
          0.07468105697083693,
          0.8490289388008163,
          0.6424351934262001,
          0.0018453813536267738,
          0.19758860737842487,
          0.8818738064175837,
          0.7024905844052858,
          0.0715207325479863,
          0.7895750128909715,
          0.8827558968891966,
          0.36023061213341445,
          0.6047914272677114,
          0.738517296511747,
          0.8411610968608391,
          0.9733500596329474,
          0.9803601140750317,
          0.7100329143013464,
          0.2979520344719221,
          0.6374837956083048,
          0.003471089158763041,
          0.7003725495824806,
          0.33803810479530894,
          0.7463434564460331,
          0.36714868625795205,
          0.44923837008154244,
          0.3834320726169431,
          0.31548194660752094,
          0.2020357098300064,
          0.8013901001720605,
          0.8634726352707632,
          0.20558228881241003,
          0.48979507298912295,
          0.7459611455860693,
          0.046542982759394835,
          0.9174193323417817,
          0.47960418159505,
          0.703050803459575,
          0.9119141484587063,
          0.8115073372041424,
          0.41104568105436234,
          0.2974558016214245
         ],
         "z": [
          0.395513570094418,
          0.5264097897923483,
          0.9352923146779392,
          0.5123366696379305,
          0.5844932626997721,
          0.8221633304150313,
          0.6947713200941686,
          0.6493344636898585,
          0.03071091494565381,
          0.645952711792495,
          0.37712595158502105,
          0.2547124201018064,
          0.18666506924123072,
          0.557518197329446,
          0.3207618379493513,
          0.020756992574077926,
          0.7104578479395972,
          0.6653737009999455,
          0.6471242127047253,
          0.25904918126862864,
          0.7349509651974894,
          0.17462877073953564,
          0.23490114927027506,
          0.9277768848142154,
          0.9086299827623517,
          0.19143951791118086,
          0.6115867965036348,
          0.21622613057707307,
          0.15269340197283443,
          0.590206450889974,
          0.22993598393832704,
          0.09430419649027522,
          0.20474810738637628,
          0.6727598471831093,
          0.09042561633586332,
          0.5084472388307851,
          0.4566279397356392,
          0.4099985052992432,
          0.08550601573897498,
          0.8593371032396747,
          0.0026742988640656717
         ]
        },
        {
         "hoverinfo": "none",
         "marker": {
          "color": [
           0,
           1
          ],
          "colorbar": {
           "ticktext": [
            "0% (Red)",
            "100% (Blue)"
           ],
           "tickvals": [
            0,
            1
           ],
           "title": {
            "text": "Proportion of Hole-Adjacent Edges"
           }
          },
          "colorscale": [
           [
            0,
            "rgb(255, 0, 0)"
           ],
           [
            1,
            "rgb(0, 0, 255)"
           ]
          ],
          "size": 0
         },
         "mode": "markers",
         "type": "scatter3d",
         "x": [
          null
         ],
         "y": [
          null
         ],
         "z": [
          null
         ]
        }
       ],
       "layout": {
        "height": 1000,
        "scene": {
         "xaxis": {
          "showbackground": false
         },
         "yaxis": {
          "showbackground": false
         },
         "zaxis": {
          "showbackground": false
         }
        },
        "showlegend": false,
        "template": {
         "data": {
          "bar": [
           {
            "error_x": {
             "color": "#2a3f5f"
            },
            "error_y": {
             "color": "#2a3f5f"
            },
            "marker": {
             "line": {
              "color": "#E5ECF6",
              "width": 0.5
             },
             "pattern": {
              "fillmode": "overlay",
              "size": 10,
              "solidity": 0.2
             }
            },
            "type": "bar"
           }
          ],
          "barpolar": [
           {
            "marker": {
             "line": {
              "color": "#E5ECF6",
              "width": 0.5
             },
             "pattern": {
              "fillmode": "overlay",
              "size": 10,
              "solidity": 0.2
             }
            },
            "type": "barpolar"
           }
          ],
          "carpet": [
           {
            "aaxis": {
             "endlinecolor": "#2a3f5f",
             "gridcolor": "white",
             "linecolor": "white",
             "minorgridcolor": "white",
             "startlinecolor": "#2a3f5f"
            },
            "baxis": {
             "endlinecolor": "#2a3f5f",
             "gridcolor": "white",
             "linecolor": "white",
             "minorgridcolor": "white",
             "startlinecolor": "#2a3f5f"
            },
            "type": "carpet"
           }
          ],
          "choropleth": [
           {
            "colorbar": {
             "outlinewidth": 0,
             "ticks": ""
            },
            "type": "choropleth"
           }
          ],
          "contour": [
           {
            "colorbar": {
             "outlinewidth": 0,
             "ticks": ""
            },
            "colorscale": [
             [
              0,
              "#0d0887"
             ],
             [
              0.1111111111111111,
              "#46039f"
             ],
             [
              0.2222222222222222,
              "#7201a8"
             ],
             [
              0.3333333333333333,
              "#9c179e"
             ],
             [
              0.4444444444444444,
              "#bd3786"
             ],
             [
              0.5555555555555556,
              "#d8576b"
             ],
             [
              0.6666666666666666,
              "#ed7953"
             ],
             [
              0.7777777777777778,
              "#fb9f3a"
             ],
             [
              0.8888888888888888,
              "#fdca26"
             ],
             [
              1,
              "#f0f921"
             ]
            ],
            "type": "contour"
           }
          ],
          "contourcarpet": [
           {
            "colorbar": {
             "outlinewidth": 0,
             "ticks": ""
            },
            "type": "contourcarpet"
           }
          ],
          "heatmap": [
           {
            "colorbar": {
             "outlinewidth": 0,
             "ticks": ""
            },
            "colorscale": [
             [
              0,
              "#0d0887"
             ],
             [
              0.1111111111111111,
              "#46039f"
             ],
             [
              0.2222222222222222,
              "#7201a8"
             ],
             [
              0.3333333333333333,
              "#9c179e"
             ],
             [
              0.4444444444444444,
              "#bd3786"
             ],
             [
              0.5555555555555556,
              "#d8576b"
             ],
             [
              0.6666666666666666,
              "#ed7953"
             ],
             [
              0.7777777777777778,
              "#fb9f3a"
             ],
             [
              0.8888888888888888,
              "#fdca26"
             ],
             [
              1,
              "#f0f921"
             ]
            ],
            "type": "heatmap"
           }
          ],
          "heatmapgl": [
           {
            "colorbar": {
             "outlinewidth": 0,
             "ticks": ""
            },
            "colorscale": [
             [
              0,
              "#0d0887"
             ],
             [
              0.1111111111111111,
              "#46039f"
             ],
             [
              0.2222222222222222,
              "#7201a8"
             ],
             [
              0.3333333333333333,
              "#9c179e"
             ],
             [
              0.4444444444444444,
              "#bd3786"
             ],
             [
              0.5555555555555556,
              "#d8576b"
             ],
             [
              0.6666666666666666,
              "#ed7953"
             ],
             [
              0.7777777777777778,
              "#fb9f3a"
             ],
             [
              0.8888888888888888,
              "#fdca26"
             ],
             [
              1,
              "#f0f921"
             ]
            ],
            "type": "heatmapgl"
           }
          ],
          "histogram": [
           {
            "marker": {
             "pattern": {
              "fillmode": "overlay",
              "size": 10,
              "solidity": 0.2
             }
            },
            "type": "histogram"
           }
          ],
          "histogram2d": [
           {
            "colorbar": {
             "outlinewidth": 0,
             "ticks": ""
            },
            "colorscale": [
             [
              0,
              "#0d0887"
             ],
             [
              0.1111111111111111,
              "#46039f"
             ],
             [
              0.2222222222222222,
              "#7201a8"
             ],
             [
              0.3333333333333333,
              "#9c179e"
             ],
             [
              0.4444444444444444,
              "#bd3786"
             ],
             [
              0.5555555555555556,
              "#d8576b"
             ],
             [
              0.6666666666666666,
              "#ed7953"
             ],
             [
              0.7777777777777778,
              "#fb9f3a"
             ],
             [
              0.8888888888888888,
              "#fdca26"
             ],
             [
              1,
              "#f0f921"
             ]
            ],
            "type": "histogram2d"
           }
          ],
          "histogram2dcontour": [
           {
            "colorbar": {
             "outlinewidth": 0,
             "ticks": ""
            },
            "colorscale": [
             [
              0,
              "#0d0887"
             ],
             [
              0.1111111111111111,
              "#46039f"
             ],
             [
              0.2222222222222222,
              "#7201a8"
             ],
             [
              0.3333333333333333,
              "#9c179e"
             ],
             [
              0.4444444444444444,
              "#bd3786"
             ],
             [
              0.5555555555555556,
              "#d8576b"
             ],
             [
              0.6666666666666666,
              "#ed7953"
             ],
             [
              0.7777777777777778,
              "#fb9f3a"
             ],
             [
              0.8888888888888888,
              "#fdca26"
             ],
             [
              1,
              "#f0f921"
             ]
            ],
            "type": "histogram2dcontour"
           }
          ],
          "mesh3d": [
           {
            "colorbar": {
             "outlinewidth": 0,
             "ticks": ""
            },
            "type": "mesh3d"
           }
          ],
          "parcoords": [
           {
            "line": {
             "colorbar": {
              "outlinewidth": 0,
              "ticks": ""
             }
            },
            "type": "parcoords"
           }
          ],
          "pie": [
           {
            "automargin": true,
            "type": "pie"
           }
          ],
          "scatter": [
           {
            "fillpattern": {
             "fillmode": "overlay",
             "size": 10,
             "solidity": 0.2
            },
            "type": "scatter"
           }
          ],
          "scatter3d": [
           {
            "line": {
             "colorbar": {
              "outlinewidth": 0,
              "ticks": ""
             }
            },
            "marker": {
             "colorbar": {
              "outlinewidth": 0,
              "ticks": ""
             }
            },
            "type": "scatter3d"
           }
          ],
          "scattercarpet": [
           {
            "marker": {
             "colorbar": {
              "outlinewidth": 0,
              "ticks": ""
             }
            },
            "type": "scattercarpet"
           }
          ],
          "scattergeo": [
           {
            "marker": {
             "colorbar": {
              "outlinewidth": 0,
              "ticks": ""
             }
            },
            "type": "scattergeo"
           }
          ],
          "scattergl": [
           {
            "marker": {
             "colorbar": {
              "outlinewidth": 0,
              "ticks": ""
             }
            },
            "type": "scattergl"
           }
          ],
          "scattermapbox": [
           {
            "marker": {
             "colorbar": {
              "outlinewidth": 0,
              "ticks": ""
             }
            },
            "type": "scattermapbox"
           }
          ],
          "scatterpolar": [
           {
            "marker": {
             "colorbar": {
              "outlinewidth": 0,
              "ticks": ""
             }
            },
            "type": "scatterpolar"
           }
          ],
          "scatterpolargl": [
           {
            "marker": {
             "colorbar": {
              "outlinewidth": 0,
              "ticks": ""
             }
            },
            "type": "scatterpolargl"
           }
          ],
          "scatterternary": [
           {
            "marker": {
             "colorbar": {
              "outlinewidth": 0,
              "ticks": ""
             }
            },
            "type": "scatterternary"
           }
          ],
          "surface": [
           {
            "colorbar": {
             "outlinewidth": 0,
             "ticks": ""
            },
            "colorscale": [
             [
              0,
              "#0d0887"
             ],
             [
              0.1111111111111111,
              "#46039f"
             ],
             [
              0.2222222222222222,
              "#7201a8"
             ],
             [
              0.3333333333333333,
              "#9c179e"
             ],
             [
              0.4444444444444444,
              "#bd3786"
             ],
             [
              0.5555555555555556,
              "#d8576b"
             ],
             [
              0.6666666666666666,
              "#ed7953"
             ],
             [
              0.7777777777777778,
              "#fb9f3a"
             ],
             [
              0.8888888888888888,
              "#fdca26"
             ],
             [
              1,
              "#f0f921"
             ]
            ],
            "type": "surface"
           }
          ],
          "table": [
           {
            "cells": {
             "fill": {
              "color": "#EBF0F8"
             },
             "line": {
              "color": "white"
             }
            },
            "header": {
             "fill": {
              "color": "#C8D4E3"
             },
             "line": {
              "color": "white"
             }
            },
            "type": "table"
           }
          ]
         },
         "layout": {
          "annotationdefaults": {
           "arrowcolor": "#2a3f5f",
           "arrowhead": 0,
           "arrowwidth": 1
          },
          "autotypenumbers": "strict",
          "coloraxis": {
           "colorbar": {
            "outlinewidth": 0,
            "ticks": ""
           }
          },
          "colorscale": {
           "diverging": [
            [
             0,
             "#8e0152"
            ],
            [
             0.1,
             "#c51b7d"
            ],
            [
             0.2,
             "#de77ae"
            ],
            [
             0.3,
             "#f1b6da"
            ],
            [
             0.4,
             "#fde0ef"
            ],
            [
             0.5,
             "#f7f7f7"
            ],
            [
             0.6,
             "#e6f5d0"
            ],
            [
             0.7,
             "#b8e186"
            ],
            [
             0.8,
             "#7fbc41"
            ],
            [
             0.9,
             "#4d9221"
            ],
            [
             1,
             "#276419"
            ]
           ],
           "sequential": [
            [
             0,
             "#0d0887"
            ],
            [
             0.1111111111111111,
             "#46039f"
            ],
            [
             0.2222222222222222,
             "#7201a8"
            ],
            [
             0.3333333333333333,
             "#9c179e"
            ],
            [
             0.4444444444444444,
             "#bd3786"
            ],
            [
             0.5555555555555556,
             "#d8576b"
            ],
            [
             0.6666666666666666,
             "#ed7953"
            ],
            [
             0.7777777777777778,
             "#fb9f3a"
            ],
            [
             0.8888888888888888,
             "#fdca26"
            ],
            [
             1,
             "#f0f921"
            ]
           ],
           "sequentialminus": [
            [
             0,
             "#0d0887"
            ],
            [
             0.1111111111111111,
             "#46039f"
            ],
            [
             0.2222222222222222,
             "#7201a8"
            ],
            [
             0.3333333333333333,
             "#9c179e"
            ],
            [
             0.4444444444444444,
             "#bd3786"
            ],
            [
             0.5555555555555556,
             "#d8576b"
            ],
            [
             0.6666666666666666,
             "#ed7953"
            ],
            [
             0.7777777777777778,
             "#fb9f3a"
            ],
            [
             0.8888888888888888,
             "#fdca26"
            ],
            [
             1,
             "#f0f921"
            ]
           ]
          },
          "colorway": [
           "#636efa",
           "#EF553B",
           "#00cc96",
           "#ab63fa",
           "#FFA15A",
           "#19d3f3",
           "#FF6692",
           "#B6E880",
           "#FF97FF",
           "#FECB52"
          ],
          "font": {
           "color": "#2a3f5f"
          },
          "geo": {
           "bgcolor": "white",
           "lakecolor": "white",
           "landcolor": "#E5ECF6",
           "showlakes": true,
           "showland": true,
           "subunitcolor": "white"
          },
          "hoverlabel": {
           "align": "left"
          },
          "hovermode": "closest",
          "mapbox": {
           "style": "light"
          },
          "paper_bgcolor": "white",
          "plot_bgcolor": "#E5ECF6",
          "polar": {
           "angularaxis": {
            "gridcolor": "white",
            "linecolor": "white",
            "ticks": ""
           },
           "bgcolor": "#E5ECF6",
           "radialaxis": {
            "gridcolor": "white",
            "linecolor": "white",
            "ticks": ""
           }
          },
          "scene": {
           "xaxis": {
            "backgroundcolor": "#E5ECF6",
            "gridcolor": "white",
            "gridwidth": 2,
            "linecolor": "white",
            "showbackground": true,
            "ticks": "",
            "zerolinecolor": "white"
           },
           "yaxis": {
            "backgroundcolor": "#E5ECF6",
            "gridcolor": "white",
            "gridwidth": 2,
            "linecolor": "white",
            "showbackground": true,
            "ticks": "",
            "zerolinecolor": "white"
           },
           "zaxis": {
            "backgroundcolor": "#E5ECF6",
            "gridcolor": "white",
            "gridwidth": 2,
            "linecolor": "white",
            "showbackground": true,
            "ticks": "",
            "zerolinecolor": "white"
           }
          },
          "shapedefaults": {
           "line": {
            "color": "#2a3f5f"
           }
          },
          "ternary": {
           "aaxis": {
            "gridcolor": "white",
            "linecolor": "white",
            "ticks": ""
           },
           "baxis": {
            "gridcolor": "white",
            "linecolor": "white",
            "ticks": ""
           },
           "bgcolor": "#E5ECF6",
           "caxis": {
            "gridcolor": "white",
            "linecolor": "white",
            "ticks": ""
           }
          },
          "title": {
           "x": 0.05
          },
          "xaxis": {
           "automargin": true,
           "gridcolor": "white",
           "linecolor": "white",
           "ticks": "",
           "title": {
            "standoff": 15
           },
           "zerolinecolor": "white",
           "zerolinewidth": 2
          },
          "yaxis": {
           "automargin": true,
           "gridcolor": "white",
           "linecolor": "white",
           "ticks": "",
           "title": {
            "standoff": 15
           },
           "zerolinecolor": "white",
           "zerolinewidth": 2
          }
         }
        },
        "width": 1200
       }
      }
     },
     "metadata": {},
     "output_type": "display_data"
    }
   ],
   "source": [
    "collapsed_G = nx.Graph()\n",
    "\n",
    "for i in range(len(coms)):\n",
    "    collapsed_G.add_node(i)\n",
    "\n",
    "hole_adjacent_edge_count = {}\n",
    "total_edge_count = {}\n",
    "\n",
    "original_cycle_edges = set()\n",
    "for cycle in big_rep_cycle_list1:\n",
    "    for i in range(len(cycle)):\n",
    "        u, v = cycle[i], cycle[(i + 1) % len(cycle)]\n",
    "        original_cycle_edges.add((u, v))\n",
    "        original_cycle_edges.add((v, u))\n",
    "\n",
    "for u, v in G.edges():\n",
    "    community_u = node_to_com_dict[u]\n",
    "    community_v = node_to_com_dict[v]\n",
    "    if community_u != community_v:\n",
    "        if collapsed_G.has_edge(community_u, community_v):\n",
    "            collapsed_G[community_u][community_v]['weight'] += 1\n",
    "        else:\n",
    "            collapsed_G.add_edge(community_u, community_v, weight=1)\n",
    "        \n",
    "        if (community_u, community_v) not in total_edge_count:\n",
    "            total_edge_count[(community_u, community_v)] = 0\n",
    "            hole_adjacent_edge_count[(community_u, community_v)] = 0\n",
    "        \n",
    "        total_edge_count[(community_u, community_v)] += 1\n",
    "        \n",
    "        if (u, v) in original_cycle_edges or (v, u) in original_cycle_edges:\n",
    "            hole_adjacent_edge_count[(community_u, community_v)] += 1\n",
    "\n",
    "edge_proportions = {edge: hole_adjacent_edge_count[edge] / total_edge_count[edge] for edge in total_edge_count}\n",
    "\n",
    "pos = {i: (np.random.random(), np.random.random(), np.random.random()) for i in collapsed_G.nodes}\n",
    "\n",
    "edge_trace = []\n",
    "for edge in collapsed_G.edges():\n",
    "    x0, y0, z0 = pos[edge[0]]\n",
    "    x1, y1, z1 = pos[edge[1]]\n",
    "    proportion = edge_proportions.get(edge, 0)\n",
    "    color = f'rgb({int(255 * (1 - proportion))}, 0, {int(255 * proportion)})'\n",
    "    \n",
    "    edge_trace.append(go.Scatter3d(\n",
    "        x=[x0, x1, None],\n",
    "        y=[y0, y1, None],\n",
    "        z=[z0, z1, None],\n",
    "        line=dict(width=5, color=color),\n",
    "        hoverinfo='none',\n",
    "        mode='lines'\n",
    "    ))\n",
    "\n",
    "# map original cycle edges to community edges\n",
    "collapsed_cycle_edges = set()\n",
    "for u, v in original_cycle_edges:\n",
    "    community_u = node_to_com_dict[u]\n",
    "    community_v = node_to_com_dict[v]\n",
    "    if community_u != community_v:\n",
    "        collapsed_cycle_edges.add((community_u, community_v))\n",
    "        collapsed_cycle_edges.add((community_v, community_u))\n",
    "\n",
    "# count edges part of any cycle and not part of any cycle\n",
    "cycle_edge_count = len([e for e in collapsed_G.edges() if (e in collapsed_cycle_edges or (e[1], e[0]) in collapsed_cycle_edges)])\n",
    "non_cycle_edge_count = len(collapsed_G.edges()) - cycle_edge_count\n",
    "\n",
    "# calculate percentages for gradient\n",
    "total_edges = len(collapsed_G.edges())\n",
    "percent_non_cycle = (non_cycle_edge_count / total_edges) * 100\n",
    "percent_cycle = (cycle_edge_count / total_edges) * 100\n",
    "\n",
    "print(f\"Number of edges not part of any cycle: {non_cycle_edge_count} ({percent_non_cycle:.2f}%)\")\n",
    "print(f\"Number of edges part of a cycle: {cycle_edge_count} ({percent_cycle:.2f}%)\")\n",
    "\n",
    "node_trace = go.Scatter3d(\n",
    "    x=[pos[node][0] for node in collapsed_G.nodes()],\n",
    "    y=[pos[node][1] for node in collapsed_G.nodes()],\n",
    "    z=[pos[node][2] for node in collapsed_G.nodes()],\n",
    "    mode='markers',\n",
    "    marker=dict(\n",
    "        size=7,\n",
    "        color='black',\n",
    "    ),\n",
    "    text=list(collapsed_G.nodes()),\n",
    "    hoverinfo='text'\n",
    ")\n",
    "\n",
    "# do color bar/key\n",
    "color_bar_trace = go.Scatter3d(\n",
    "    x=[None], y=[None], z=[None],\n",
    "    mode='markers',\n",
    "    marker=dict(\n",
    "        size=0,\n",
    "        color=[0, 1], \n",
    "        colorscale=[[0, 'rgb(255, 0, 0)'], [1, 'rgb(0, 0, 255)']],\n",
    "        colorbar=dict(\n",
    "            title=\"Proportion of Hole-Adjacent Edges\",\n",
    "            tickvals=[0, 1],\n",
    "            ticktext=[\"0% (Red)\", \"100% (Blue)\"]\n",
    "        )\n",
    "    ),\n",
    "    hoverinfo='none'\n",
    ")\n",
    "\n",
    "layout = go.Layout(\n",
    "    width=1200,\n",
    "    height=1000,\n",
    "    showlegend=False,\n",
    "    scene=dict(\n",
    "        xaxis=dict(showbackground=False),\n",
    "        yaxis=dict(showbackground=False),\n",
    "        zaxis=dict(showbackground=False)\n",
    "    ),\n",
    ")\n",
    "\n",
    "fig = go.Figure(data=edge_trace + [node_trace, color_bar_trace], layout=layout)\n",
    "fig.show()\n",
    "fig.write_html(\"gradient.html\")"
   ]
  },
  {
   "cell_type": "markdown",
   "metadata": {},
   "source": [
    "### Gradient, weighted"
   ]
  },
  {
   "cell_type": "code",
   "execution_count": 10,
   "metadata": {},
   "outputs": [
    {
     "name": "stdout",
     "output_type": "stream",
     "text": [
      "Number of edges not part of any cycle: 5 (1.02%)\n",
      "Number of edges part of a cycle: 486 (98.98%)\n"
     ]
    },
    {
     "data": {
      "application/vnd.plotly.v1+json": {
       "config": {
        "plotlyServerURL": "https://plot.ly"
       },
       "data": [
        {
         "hoverinfo": "none",
         "line": {
          "color": "rgb(163, 0, 91)",
          "width": 3.38561320754717
         },
         "mode": "lines",
         "type": "scatter3d",
         "x": [
          0.5781474420954492,
          0.0658836711597871,
          null
         ],
         "y": [
          0.03962630233847053,
          0.740337688156904,
          null
         ],
         "z": [
          0.12694128226583823,
          0.754578690415864,
          null
         ]
        },
        {
         "hoverinfo": "none",
         "line": {
          "color": "rgb(155, 0, 99)",
          "width": 3.6120283018867925
         },
         "mode": "lines",
         "type": "scatter3d",
         "x": [
          0.5781474420954492,
          0.8269081976546031,
          null
         ],
         "y": [
          0.03962630233847053,
          0.8109687342353149,
          null
         ],
         "z": [
          0.12694128226583823,
          0.4787142369989772,
          null
         ]
        },
        {
         "hoverinfo": "none",
         "line": {
          "color": "rgb(205, 0, 49)",
          "width": 4.125
         },
         "mode": "lines",
         "type": "scatter3d",
         "x": [
          0.5781474420954492,
          0.5070769640993297,
          null
         ],
         "y": [
          0.03962630233847053,
          0.8188491691217841,
          null
         ],
         "z": [
          0.12694128226583823,
          0.8390542840864083,
          null
         ]
        },
        {
         "hoverinfo": "none",
         "line": {
          "color": "rgb(204, 0, 51)",
          "width": 3.1839622641509435
         },
         "mode": "lines",
         "type": "scatter3d",
         "x": [
          0.5781474420954492,
          0.7042427459213977,
          null
         ],
         "y": [
          0.03962630233847053,
          0.5640636065755076,
          null
         ],
         "z": [
          0.12694128226583823,
          0.9627513593260234,
          null
         ]
        },
        {
         "hoverinfo": "none",
         "line": {
          "color": "rgb(204, 0, 50)",
          "width": 4.181603773584905
         },
         "mode": "lines",
         "type": "scatter3d",
         "x": [
          0.5781474420954492,
          0.25781086115443563,
          null
         ],
         "y": [
          0.03962630233847053,
          0.40502060699549114,
          null
         ],
         "z": [
          0.12694128226583823,
          0.4495342770916474,
          null
         ]
        },
        {
         "hoverinfo": "none",
         "line": {
          "color": "rgb(156, 0, 98)",
          "width": 3.580188679245283
         },
         "mode": "lines",
         "type": "scatter3d",
         "x": [
          0.5781474420954492,
          0.23695573363998956,
          null
         ],
         "y": [
          0.03962630233847053,
          0.7592729412598814,
          null
         ],
         "z": [
          0.12694128226583823,
          0.8927404284216092,
          null
         ]
        },
        {
         "hoverinfo": "none",
         "line": {
          "color": "rgb(172, 0, 82)",
          "width": 3.5235849056603774
         },
         "mode": "lines",
         "type": "scatter3d",
         "x": [
          0.5781474420954492,
          0.14223414091899655,
          null
         ],
         "y": [
          0.03962630233847053,
          0.12395302638169958,
          null
         ],
         "z": [
          0.12694128226583823,
          0.6565769163574142,
          null
         ]
        },
        {
         "hoverinfo": "none",
         "line": {
          "color": "rgb(156, 0, 98)",
          "width": 3.357311320754717
         },
         "mode": "lines",
         "type": "scatter3d",
         "x": [
          0.5781474420954492,
          0.38083526050393113,
          null
         ],
         "y": [
          0.03962630233847053,
          0.6076174303119,
          null
         ],
         "z": [
          0.12694128226583823,
          0.4682740656746155,
          null
         ]
        },
        {
         "hoverinfo": "none",
         "line": {
          "color": "rgb(167, 0, 87)",
          "width": 3.329009433962264
         },
         "mode": "lines",
         "type": "scatter3d",
         "x": [
          0.5781474420954492,
          0.8372587617835248,
          null
         ],
         "y": [
          0.03962630233847053,
          0.7343439957654516,
          null
         ],
         "z": [
          0.12694128226583823,
          0.029429204270443043,
          null
         ]
        },
        {
         "hoverinfo": "none",
         "line": {
          "color": "rgb(178, 0, 76)",
          "width": 3.339622641509434
         },
         "mode": "lines",
         "type": "scatter3d",
         "x": [
          0.5781474420954492,
          0.6810946351389718,
          null
         ],
         "y": [
          0.03962630233847053,
          0.039642204176439155,
          null
         ],
         "z": [
          0.12694128226583823,
          0.2593590931114531,
          null
         ]
        },
        {
         "hoverinfo": "none",
         "line": {
          "color": "rgb(197, 0, 57)",
          "width": 3.3997641509433962
         },
         "mode": "lines",
         "type": "scatter3d",
         "x": [
          0.5781474420954492,
          0.4348965708925725,
          null
         ],
         "y": [
          0.03962630233847053,
          0.6871470243772101,
          null
         ],
         "z": [
          0.12694128226583823,
          0.8702755527886045,
          null
         ]
        },
        {
         "hoverinfo": "none",
         "line": {
          "color": "rgb(149, 0, 105)",
          "width": 3.311320754716981
         },
         "mode": "lines",
         "type": "scatter3d",
         "x": [
          0.5781474420954492,
          0.3655115350989856,
          null
         ],
         "y": [
          0.03962630233847053,
          0.4028884444792149,
          null
         ],
         "z": [
          0.12694128226583823,
          0.4806267276048667,
          null
         ]
        },
        {
         "hoverinfo": "none",
         "line": {
          "color": "rgb(209, 0, 45)",
          "width": 3.38561320754717
         },
         "mode": "lines",
         "type": "scatter3d",
         "x": [
          0.5781474420954492,
          0.6897091935465549,
          null
         ],
         "y": [
          0.03962630233847053,
          0.7282678524535802,
          null
         ],
         "z": [
          0.12694128226583823,
          0.8097320726557011,
          null
         ]
        },
        {
         "hoverinfo": "none",
         "line": {
          "color": "rgb(172, 0, 82)",
          "width": 3.6226415094339623
         },
         "mode": "lines",
         "type": "scatter3d",
         "x": [
          0.5781474420954492,
          0.0683534849703622,
          null
         ],
         "y": [
          0.03962630233847053,
          0.6238850035482401,
          null
         ],
         "z": [
          0.12694128226583823,
          0.0706374889854191,
          null
         ]
        },
        {
         "hoverinfo": "none",
         "line": {
          "color": "rgb(134, 0, 120)",
          "width": 3.5483490566037736
         },
         "mode": "lines",
         "type": "scatter3d",
         "x": [
          0.5781474420954492,
          0.11323545304253335,
          null
         ],
         "y": [
          0.03962630233847053,
          0.47217911472176666,
          null
         ],
         "z": [
          0.12694128226583823,
          0.5587959905127201,
          null
         ]
        },
        {
         "hoverinfo": "none",
         "line": {
          "color": "rgb(158, 0, 96)",
          "width": 3.4882075471698113
         },
         "mode": "lines",
         "type": "scatter3d",
         "x": [
          0.5781474420954492,
          0.8786142385423413,
          null
         ],
         "y": [
          0.03962630233847053,
          0.04689605003632835,
          null
         ],
         "z": [
          0.12694128226583823,
          0.8597912878636778,
          null
         ]
        },
        {
         "hoverinfo": "none",
         "line": {
          "color": "rgb(153, 0, 101)",
          "width": 3.9162735849056602
         },
         "mode": "lines",
         "type": "scatter3d",
         "x": [
          0.5781474420954492,
          0.6731850383535216,
          null
         ],
         "y": [
          0.03962630233847053,
          0.7055168292886723,
          null
         ],
         "z": [
          0.12694128226583823,
          0.17388737483289174,
          null
         ]
        },
        {
         "hoverinfo": "none",
         "line": {
          "color": "rgb(127, 0, 127)",
          "width": 3.1273584905660377
         },
         "mode": "lines",
         "type": "scatter3d",
         "x": [
          0.5781474420954492,
          0.6075247522038943,
          null
         ],
         "y": [
          0.03962630233847053,
          0.9029109163518165,
          null
         ],
         "z": [
          0.12694128226583823,
          0.17347116553965358,
          null
         ]
        },
        {
         "hoverinfo": "none",
         "line": {
          "color": "rgb(159, 0, 95)",
          "width": 3.1167452830188678
         },
         "mode": "lines",
         "type": "scatter3d",
         "x": [
          0.5781474420954492,
          0.7061681308720446,
          null
         ],
         "y": [
          0.03962630233847053,
          0.6216850496137061,
          null
         ],
         "z": [
          0.12694128226583823,
          0.8666415784847047,
          null
         ]
        },
        {
         "hoverinfo": "none",
         "line": {
          "color": "rgb(204, 0, 51)",
          "width": 3.1132075471698113
         },
         "mode": "lines",
         "type": "scatter3d",
         "x": [
          0.5781474420954492,
          0.9974786392059741,
          null
         ],
         "y": [
          0.03962630233847053,
          0.9654151690188261,
          null
         ],
         "z": [
          0.12694128226583823,
          0.5987533554007182,
          null
         ]
        },
        {
         "hoverinfo": "none",
         "line": {
          "color": "rgb(160, 0, 94)",
          "width": 3.357311320754717
         },
         "mode": "lines",
         "type": "scatter3d",
         "x": [
          0.5781474420954492,
          0.4450453567440472,
          null
         ],
         "y": [
          0.03962630233847053,
          0.8914027548364141,
          null
         ],
         "z": [
          0.12694128226583823,
          0.5235765198984705,
          null
         ]
        },
        {
         "hoverinfo": "none",
         "line": {
          "color": "rgb(206, 0, 48)",
          "width": 3.1733490566037736
         },
         "mode": "lines",
         "type": "scatter3d",
         "x": [
          0.5781474420954492,
          0.85338356930687,
          null
         ],
         "y": [
          0.03962630233847053,
          0.6249644555160049,
          null
         ],
         "z": [
          0.12694128226583823,
          0.7450583706862679,
          null
         ]
        },
        {
         "hoverinfo": "none",
         "line": {
          "color": "rgb(143, 0, 111)",
          "width": 3.099056603773585
         },
         "mode": "lines",
         "type": "scatter3d",
         "x": [
          0.5781474420954492,
          0.09571227726952747,
          null
         ],
         "y": [
          0.03962630233847053,
          0.8180623447926566,
          null
         ],
         "z": [
          0.12694128226583823,
          0.10753270747674437,
          null
         ]
        },
        {
         "hoverinfo": "none",
         "line": {
          "color": "rgb(172, 0, 82)",
          "width": 3.2441037735849054
         },
         "mode": "lines",
         "type": "scatter3d",
         "x": [
          0.5781474420954492,
          0.33479276255754076,
          null
         ],
         "y": [
          0.03962630233847053,
          0.7326971178584895,
          null
         ],
         "z": [
          0.12694128226583823,
          0.3900081144859531,
          null
         ]
        },
        {
         "hoverinfo": "none",
         "line": {
          "color": "rgb(185, 0, 69)",
          "width": 3.152122641509434
         },
         "mode": "lines",
         "type": "scatter3d",
         "x": [
          0.5781474420954492,
          0.9672546385036344,
          null
         ],
         "y": [
          0.03962630233847053,
          0.764218580603326,
          null
         ],
         "z": [
          0.12694128226583823,
          0.5808060992531152,
          null
         ]
        },
        {
         "hoverinfo": "none",
         "line": {
          "color": "rgb(127, 0, 127)",
          "width": 3.063679245283019
         },
         "mode": "lines",
         "type": "scatter3d",
         "x": [
          0.5781474420954492,
          0.837073768912754,
          null
         ],
         "y": [
          0.03962630233847053,
          0.3622228018579693,
          null
         ],
         "z": [
          0.12694128226583823,
          0.8702597155245111,
          null
         ]
        },
        {
         "hoverinfo": "none",
         "line": {
          "color": "rgb(191, 0, 63)",
          "width": 3.0919811320754715
         },
         "mode": "lines",
         "type": "scatter3d",
         "x": [
          0.5781474420954492,
          0.24968210961986737,
          null
         ],
         "y": [
          0.03962630233847053,
          0.5177765316149469,
          null
         ],
         "z": [
          0.12694128226583823,
          0.9042871946404727,
          null
         ]
        },
        {
         "hoverinfo": "none",
         "line": {
          "color": "rgb(139, 0, 115)",
          "width": 3.0601415094339623
         },
         "mode": "lines",
         "type": "scatter3d",
         "x": [
          0.5781474420954492,
          0.4859486407204229,
          null
         ],
         "y": [
          0.03962630233847053,
          0.6788284864687022,
          null
         ],
         "z": [
          0.12694128226583823,
          0.902936943033732,
          null
         ]
        },
        {
         "hoverinfo": "none",
         "line": {
          "color": "rgb(127, 0, 127)",
          "width": 3.0247641509433962
         },
         "mode": "lines",
         "type": "scatter3d",
         "x": [
          0.5781474420954492,
          0.24265185566836778,
          null
         ],
         "y": [
          0.03962630233847053,
          0.7438435596650464,
          null
         ],
         "z": [
          0.12694128226583823,
          0.21831542776222113,
          null
         ]
        },
        {
         "hoverinfo": "none",
         "line": {
          "color": "rgb(255, 0, 0)",
          "width": 3.01061320754717
         },
         "mode": "lines",
         "type": "scatter3d",
         "x": [
          0.5781474420954492,
          0.7338995273436147,
          null
         ],
         "y": [
          0.03962630233847053,
          0.739822825999556,
          null
         ],
         "z": [
          0.12694128226583823,
          0.05207323179406431,
          null
         ]
        },
        {
         "hoverinfo": "none",
         "line": {
          "color": "rgb(146, 0, 108)",
          "width": 3.3608490566037736
         },
         "mode": "lines",
         "type": "scatter3d",
         "x": [
          0.9974786392059741,
          0.0658836711597871,
          null
         ],
         "y": [
          0.9654151690188261,
          0.740337688156904,
          null
         ],
         "z": [
          0.5987533554007182,
          0.754578690415864,
          null
         ]
        },
        {
         "hoverinfo": "none",
         "line": {
          "color": "rgb(174, 0, 80)",
          "width": 4.185141509433962
         },
         "mode": "lines",
         "type": "scatter3d",
         "x": [
          0.9974786392059741,
          0.33479276255754076,
          null
         ],
         "y": [
          0.9654151690188261,
          0.7326971178584895,
          null
         ],
         "z": [
          0.5987533554007182,
          0.3900081144859531,
          null
         ]
        },
        {
         "hoverinfo": "none",
         "line": {
          "color": "rgb(191, 0, 63)",
          "width": 5.550707547169811
         },
         "mode": "lines",
         "type": "scatter3d",
         "x": [
          0.9974786392059741,
          0.14223414091899655,
          null
         ],
         "y": [
          0.9654151690188261,
          0.12395302638169958,
          null
         ],
         "z": [
          0.5987533554007182,
          0.6565769163574142,
          null
         ]
        },
        {
         "hoverinfo": "none",
         "line": {
          "color": "rgb(193, 0, 61)",
          "width": 4.620283018867925
         },
         "mode": "lines",
         "type": "scatter3d",
         "x": [
          0.9974786392059741,
          0.11323545304253335,
          null
         ],
         "y": [
          0.9654151690188261,
          0.47217911472176666,
          null
         ],
         "z": [
          0.5987533554007182,
          0.5587959905127201,
          null
         ]
        },
        {
         "hoverinfo": "none",
         "line": {
          "color": "rgb(182, 0, 72)",
          "width": 4.011792452830189
         },
         "mode": "lines",
         "type": "scatter3d",
         "x": [
          0.9974786392059741,
          0.0683534849703622,
          null
         ],
         "y": [
          0.9654151690188261,
          0.6238850035482401,
          null
         ],
         "z": [
          0.5987533554007182,
          0.0706374889854191,
          null
         ]
        },
        {
         "hoverinfo": "none",
         "line": {
          "color": "rgb(210, 0, 44)",
          "width": 3.8242924528301887
         },
         "mode": "lines",
         "type": "scatter3d",
         "x": [
          0.9974786392059741,
          0.6810946351389718,
          null
         ],
         "y": [
          0.9654151690188261,
          0.039642204176439155,
          null
         ],
         "z": [
          0.5987533554007182,
          0.2593590931114531,
          null
         ]
        },
        {
         "hoverinfo": "none",
         "line": {
          "color": "rgb(174, 0, 80)",
          "width": 3.484669811320755
         },
         "mode": "lines",
         "type": "scatter3d",
         "x": [
          0.9974786392059741,
          0.8372587617835248,
          null
         ],
         "y": [
          0.9654151690188261,
          0.7343439957654516,
          null
         ],
         "z": [
          0.5987533554007182,
          0.029429204270443043,
          null
         ]
        },
        {
         "hoverinfo": "none",
         "line": {
          "color": "rgb(129, 0, 125)",
          "width": 3.3962264150943398
         },
         "mode": "lines",
         "type": "scatter3d",
         "x": [
          0.9974786392059741,
          0.8786142385423413,
          null
         ],
         "y": [
          0.9654151690188261,
          0.04689605003632835,
          null
         ],
         "z": [
          0.5987533554007182,
          0.8597912878636778,
          null
         ]
        },
        {
         "hoverinfo": "none",
         "line": {
          "color": "rgb(179, 0, 75)",
          "width": 3.5306603773584904
         },
         "mode": "lines",
         "type": "scatter3d",
         "x": [
          0.9974786392059741,
          0.09571227726952747,
          null
         ],
         "y": [
          0.9654151690188261,
          0.8180623447926566,
          null
         ],
         "z": [
          0.5987533554007182,
          0.10753270747674437,
          null
         ]
        },
        {
         "hoverinfo": "none",
         "line": {
          "color": "rgb(173, 0, 81)",
          "width": 4.744103773584905
         },
         "mode": "lines",
         "type": "scatter3d",
         "x": [
          0.9974786392059741,
          0.4450453567440472,
          null
         ],
         "y": [
          0.9654151690188261,
          0.8914027548364141,
          null
         ],
         "z": [
          0.5987533554007182,
          0.5235765198984705,
          null
         ]
        },
        {
         "hoverinfo": "none",
         "line": {
          "color": "rgb(165, 0, 89)",
          "width": 4.32311320754717
         },
         "mode": "lines",
         "type": "scatter3d",
         "x": [
          0.9974786392059741,
          0.38083526050393113,
          null
         ],
         "y": [
          0.9654151690188261,
          0.6076174303119,
          null
         ],
         "z": [
          0.5987533554007182,
          0.4682740656746155,
          null
         ]
        },
        {
         "hoverinfo": "none",
         "line": {
          "color": "rgb(182, 0, 72)",
          "width": 3.2476415094339623
         },
         "mode": "lines",
         "type": "scatter3d",
         "x": [
          0.9974786392059741,
          0.6897091935465549,
          null
         ],
         "y": [
          0.9654151690188261,
          0.7282678524535802,
          null
         ],
         "z": [
          0.5987533554007182,
          0.8097320726557011,
          null
         ]
        },
        {
         "hoverinfo": "none",
         "line": {
          "color": "rgb(154, 0, 100)",
          "width": 3.3360849056603774
         },
         "mode": "lines",
         "type": "scatter3d",
         "x": [
          0.9974786392059741,
          0.6731850383535216,
          null
         ],
         "y": [
          0.9654151690188261,
          0.7055168292886723,
          null
         ],
         "z": [
          0.5987533554007182,
          0.17388737483289174,
          null
         ]
        },
        {
         "hoverinfo": "none",
         "line": {
          "color": "rgb(198, 0, 56)",
          "width": 3.2122641509433962
         },
         "mode": "lines",
         "type": "scatter3d",
         "x": [
          0.9974786392059741,
          0.4348965708925725,
          null
         ],
         "y": [
          0.9654151690188261,
          0.6871470243772101,
          null
         ],
         "z": [
          0.5987533554007182,
          0.8702755527886045,
          null
         ]
        },
        {
         "hoverinfo": "none",
         "line": {
          "color": "rgb(85, 0, 170)",
          "width": 3.0212264150943398
         },
         "mode": "lines",
         "type": "scatter3d",
         "x": [
          0.9974786392059741,
          0.7338995273436147,
          null
         ],
         "y": [
          0.9654151690188261,
          0.739822825999556,
          null
         ],
         "z": [
          0.5987533554007182,
          0.05207323179406431,
          null
         ]
        },
        {
         "hoverinfo": "none",
         "line": {
          "color": "rgb(180, 0, 74)",
          "width": 3.4917452830188678
         },
         "mode": "lines",
         "type": "scatter3d",
         "x": [
          0.9974786392059741,
          0.8269081976546031,
          null
         ],
         "y": [
          0.9654151690188261,
          0.8109687342353149,
          null
         ],
         "z": [
          0.5987533554007182,
          0.4787142369989772,
          null
         ]
        },
        {
         "hoverinfo": "none",
         "line": {
          "color": "rgb(85, 0, 170)",
          "width": 3.0955188679245285
         },
         "mode": "lines",
         "type": "scatter3d",
         "x": [
          0.9974786392059741,
          0.4859486407204229,
          null
         ],
         "y": [
          0.9654151690188261,
          0.6788284864687022,
          null
         ],
         "z": [
          0.5987533554007182,
          0.902936943033732,
          null
         ]
        },
        {
         "hoverinfo": "none",
         "line": {
          "color": "rgb(182, 0, 72)",
          "width": 3.6898584905660377
         },
         "mode": "lines",
         "type": "scatter3d",
         "x": [
          0.9974786392059741,
          0.25781086115443563,
          null
         ],
         "y": [
          0.9654151690188261,
          0.40502060699549114,
          null
         ],
         "z": [
          0.5987533554007182,
          0.4495342770916474,
          null
         ]
        },
        {
         "hoverinfo": "none",
         "line": {
          "color": "rgb(145, 0, 109)",
          "width": 3.169811320754717
         },
         "mode": "lines",
         "type": "scatter3d",
         "x": [
          0.9974786392059741,
          0.23695573363998956,
          null
         ],
         "y": [
          0.9654151690188261,
          0.7592729412598814,
          null
         ],
         "z": [
          0.5987533554007182,
          0.8927404284216092,
          null
         ]
        },
        {
         "hoverinfo": "none",
         "line": {
          "color": "rgb(139, 0, 115)",
          "width": 3.088443396226415
         },
         "mode": "lines",
         "type": "scatter3d",
         "x": [
          0.9974786392059741,
          0.9672546385036344,
          null
         ],
         "y": [
          0.9654151690188261,
          0.764218580603326,
          null
         ],
         "z": [
          0.5987533554007182,
          0.5808060992531152,
          null
         ]
        },
        {
         "hoverinfo": "none",
         "line": {
          "color": "rgb(226, 0, 28)",
          "width": 3.0389150943396226
         },
         "mode": "lines",
         "type": "scatter3d",
         "x": [
          0.9974786392059741,
          0.24265185566836778,
          null
         ],
         "y": [
          0.9654151690188261,
          0.7438435596650464,
          null
         ],
         "z": [
          0.5987533554007182,
          0.21831542776222113,
          null
         ]
        },
        {
         "hoverinfo": "none",
         "line": {
          "color": "rgb(213, 0, 41)",
          "width": 4.0790094339622645
         },
         "mode": "lines",
         "type": "scatter3d",
         "x": [
          0.9974786392059741,
          0.8291380248341068,
          null
         ],
         "y": [
          0.9654151690188261,
          0.9364453871995326,
          null
         ],
         "z": [
          0.5987533554007182,
          0.5810762895460602,
          null
         ]
        },
        {
         "hoverinfo": "none",
         "line": {
          "color": "rgb(200, 0, 54)",
          "width": 3.3148584905660377
         },
         "mode": "lines",
         "type": "scatter3d",
         "x": [
          0.9974786392059741,
          0.3655115350989856,
          null
         ],
         "y": [
          0.9654151690188261,
          0.4028884444792149,
          null
         ],
         "z": [
          0.5987533554007182,
          0.4806267276048667,
          null
         ]
        },
        {
         "hoverinfo": "none",
         "line": {
          "color": "rgb(132, 0, 122)",
          "width": 3.1591981132075473
         },
         "mode": "lines",
         "type": "scatter3d",
         "x": [
          0.9974786392059741,
          0.7061681308720446,
          null
         ],
         "y": [
          0.9654151690188261,
          0.6216850496137061,
          null
         ],
         "z": [
          0.5987533554007182,
          0.8666415784847047,
          null
         ]
        },
        {
         "hoverinfo": "none",
         "line": {
          "color": "rgb(197, 0, 57)",
          "width": 3.240566037735849
         },
         "mode": "lines",
         "type": "scatter3d",
         "x": [
          0.9974786392059741,
          0.5070769640993297,
          null
         ],
         "y": [
          0.9654151690188261,
          0.8188491691217841,
          null
         ],
         "z": [
          0.5987533554007182,
          0.8390542840864083,
          null
         ]
        },
        {
         "hoverinfo": "none",
         "line": {
          "color": "rgb(221, 0, 34)",
          "width": 3.088443396226415
         },
         "mode": "lines",
         "type": "scatter3d",
         "x": [
          0.9974786392059741,
          0.85338356930687,
          null
         ],
         "y": [
          0.9654151690188261,
          0.6249644555160049,
          null
         ],
         "z": [
          0.5987533554007182,
          0.7450583706862679,
          null
         ]
        },
        {
         "hoverinfo": "none",
         "line": {
          "color": "rgb(197, 0, 57)",
          "width": 3.3254716981132075
         },
         "mode": "lines",
         "type": "scatter3d",
         "x": [
          0.9974786392059741,
          0.7042427459213977,
          null
         ],
         "y": [
          0.9654151690188261,
          0.5640636065755076,
          null
         ],
         "z": [
          0.5987533554007182,
          0.9627513593260234,
          null
         ]
        },
        {
         "hoverinfo": "none",
         "line": {
          "color": "rgb(198, 0, 56)",
          "width": 3.0495283018867925
         },
         "mode": "lines",
         "type": "scatter3d",
         "x": [
          0.9974786392059741,
          0.24968210961986737,
          null
         ],
         "y": [
          0.9654151690188261,
          0.5177765316149469,
          null
         ],
         "z": [
          0.5987533554007182,
          0.9042871946404727,
          null
         ]
        },
        {
         "hoverinfo": "none",
         "line": {
          "color": "rgb(204, 0, 51)",
          "width": 3.0212264150943398
         },
         "mode": "lines",
         "type": "scatter3d",
         "x": [
          0.9974786392059741,
          0.6075247522038943,
          null
         ],
         "y": [
          0.9654151690188261,
          0.9029109163518165,
          null
         ],
         "z": [
          0.5987533554007182,
          0.17347116553965358,
          null
         ]
        },
        {
         "hoverinfo": "none",
         "line": {
          "color": "rgb(212, 0, 42)",
          "width": 3.017688679245283
         },
         "mode": "lines",
         "type": "scatter3d",
         "x": [
          0.9974786392059741,
          0.837073768912754,
          null
         ],
         "y": [
          0.9654151690188261,
          0.3622228018579693,
          null
         ],
         "z": [
          0.5987533554007182,
          0.8702597155245111,
          null
         ]
        },
        {
         "hoverinfo": "none",
         "line": {
          "color": "rgb(197, 0, 57)",
          "width": 4.351415094339623
         },
         "mode": "lines",
         "type": "scatter3d",
         "x": [
          0.8269081976546031,
          0.8372587617835248,
          null
         ],
         "y": [
          0.8109687342353149,
          0.7343439957654516,
          null
         ],
         "z": [
          0.4787142369989772,
          0.029429204270443043,
          null
         ]
        },
        {
         "hoverinfo": "none",
         "line": {
          "color": "rgb(181, 0, 73)",
          "width": 4.181603773584905
         },
         "mode": "lines",
         "type": "scatter3d",
         "x": [
          0.8269081976546031,
          0.0658836711597871,
          null
         ],
         "y": [
          0.8109687342353149,
          0.740337688156904,
          null
         ],
         "z": [
          0.4787142369989772,
          0.754578690415864,
          null
         ]
        },
        {
         "hoverinfo": "none",
         "line": {
          "color": "rgb(174, 0, 80)",
          "width": 3.75
         },
         "mode": "lines",
         "type": "scatter3d",
         "x": [
          0.8269081976546031,
          0.7061681308720446,
          null
         ],
         "y": [
          0.8109687342353149,
          0.6216850496137061,
          null
         ],
         "z": [
          0.4787142369989772,
          0.8666415784847047,
          null
         ]
        },
        {
         "hoverinfo": "none",
         "line": {
          "color": "rgb(168, 0, 86)",
          "width": 3.8207547169811322
         },
         "mode": "lines",
         "type": "scatter3d",
         "x": [
          0.8269081976546031,
          0.0683534849703622,
          null
         ],
         "y": [
          0.8109687342353149,
          0.6238850035482401,
          null
         ],
         "z": [
          0.4787142369989772,
          0.0706374889854191,
          null
         ]
        },
        {
         "hoverinfo": "none",
         "line": {
          "color": "rgb(213, 0, 41)",
          "width": 5.971698113207547
         },
         "mode": "lines",
         "type": "scatter3d",
         "x": [
          0.8269081976546031,
          0.5070769640993297,
          null
         ],
         "y": [
          0.8109687342353149,
          0.8188491691217841,
          null
         ],
         "z": [
          0.4787142369989772,
          0.8390542840864083,
          null
         ]
        },
        {
         "hoverinfo": "none",
         "line": {
          "color": "rgb(173, 0, 81)",
          "width": 4.121462264150943
         },
         "mode": "lines",
         "type": "scatter3d",
         "x": [
          0.8269081976546031,
          0.14223414091899655,
          null
         ],
         "y": [
          0.8109687342353149,
          0.12395302638169958,
          null
         ],
         "z": [
          0.4787142369989772,
          0.6565769163574142,
          null
         ]
        },
        {
         "hoverinfo": "none",
         "line": {
          "color": "rgb(168, 0, 86)",
          "width": 4.5424528301886795
         },
         "mode": "lines",
         "type": "scatter3d",
         "x": [
          0.8269081976546031,
          0.11323545304253335,
          null
         ],
         "y": [
          0.8109687342353149,
          0.47217911472176666,
          null
         ],
         "z": [
          0.4787142369989772,
          0.5587959905127201,
          null
         ]
        },
        {
         "hoverinfo": "none",
         "line": {
          "color": "rgb(190, 0, 64)",
          "width": 4.422169811320755
         },
         "mode": "lines",
         "type": "scatter3d",
         "x": [
          0.8269081976546031,
          0.23695573363998956,
          null
         ],
         "y": [
          0.8109687342353149,
          0.7592729412598814,
          null
         ],
         "z": [
          0.4787142369989772,
          0.8927404284216092,
          null
         ]
        },
        {
         "hoverinfo": "none",
         "line": {
          "color": "rgb(181, 0, 73)",
          "width": 4.224056603773585
         },
         "mode": "lines",
         "type": "scatter3d",
         "x": [
          0.8269081976546031,
          0.33479276255754076,
          null
         ],
         "y": [
          0.8109687342353149,
          0.7326971178584895,
          null
         ],
         "z": [
          0.4787142369989772,
          0.3900081144859531,
          null
         ]
        },
        {
         "hoverinfo": "none",
         "line": {
          "color": "rgb(213, 0, 41)",
          "width": 3.55188679245283
         },
         "mode": "lines",
         "type": "scatter3d",
         "x": [
          0.8269081976546031,
          0.6075247522038943,
          null
         ],
         "y": [
          0.8109687342353149,
          0.9029109163518165,
          null
         ],
         "z": [
          0.4787142369989772,
          0.17347116553965358,
          null
         ]
        },
        {
         "hoverinfo": "none",
         "line": {
          "color": "rgb(212, 0, 42)",
          "width": 4.255896226415095
         },
         "mode": "lines",
         "type": "scatter3d",
         "x": [
          0.8269081976546031,
          0.7042427459213977,
          null
         ],
         "y": [
          0.8109687342353149,
          0.5640636065755076,
          null
         ],
         "z": [
          0.4787142369989772,
          0.9627513593260234,
          null
         ]
        },
        {
         "hoverinfo": "none",
         "line": {
          "color": "rgb(211, 0, 43)",
          "width": 6.20872641509434
         },
         "mode": "lines",
         "type": "scatter3d",
         "x": [
          0.8269081976546031,
          0.38083526050393113,
          null
         ],
         "y": [
          0.8109687342353149,
          0.6076174303119,
          null
         ],
         "z": [
          0.4787142369989772,
          0.4682740656746155,
          null
         ]
        },
        {
         "hoverinfo": "none",
         "line": {
          "color": "rgb(246, 0, 8)",
          "width": 3.4033018867924527
         },
         "mode": "lines",
         "type": "scatter3d",
         "x": [
          0.8269081976546031,
          0.85338356930687,
          null
         ],
         "y": [
          0.8109687342353149,
          0.6249644555160049,
          null
         ],
         "z": [
          0.4787142369989772,
          0.7450583706862679,
          null
         ]
        },
        {
         "hoverinfo": "none",
         "line": {
          "color": "rgb(195, 0, 59)",
          "width": 3.640330188679245
         },
         "mode": "lines",
         "type": "scatter3d",
         "x": [
          0.8269081976546031,
          0.4348965708925725,
          null
         ],
         "y": [
          0.8109687342353149,
          0.6871470243772101,
          null
         ],
         "z": [
          0.4787142369989772,
          0.8702755527886045,
          null
         ]
        },
        {
         "hoverinfo": "none",
         "line": {
          "color": "rgb(194, 0, 60)",
          "width": 3.9941037735849054
         },
         "mode": "lines",
         "type": "scatter3d",
         "x": [
          0.8269081976546031,
          0.09571227726952747,
          null
         ],
         "y": [
          0.8109687342353149,
          0.8180623447926566,
          null
         ],
         "z": [
          0.4787142369989772,
          0.10753270747674437,
          null
         ]
        },
        {
         "hoverinfo": "none",
         "line": {
          "color": "rgb(164, 0, 90)",
          "width": 3.569575471698113
         },
         "mode": "lines",
         "type": "scatter3d",
         "x": [
          0.8269081976546031,
          0.4450453567440472,
          null
         ],
         "y": [
          0.8109687342353149,
          0.8914027548364141,
          null
         ],
         "z": [
          0.4787142369989772,
          0.5235765198984705,
          null
         ]
        },
        {
         "hoverinfo": "none",
         "line": {
          "color": "rgb(215, 0, 39)",
          "width": 6.877358490566038
         },
         "mode": "lines",
         "type": "scatter3d",
         "x": [
          0.8269081976546031,
          0.25781086115443563,
          null
         ],
         "y": [
          0.8109687342353149,
          0.40502060699549114,
          null
         ],
         "z": [
          0.4787142369989772,
          0.4495342770916474,
          null
         ]
        },
        {
         "hoverinfo": "none",
         "line": {
          "color": "rgb(209, 0, 45)",
          "width": 3.8101415094339623
         },
         "mode": "lines",
         "type": "scatter3d",
         "x": [
          0.8269081976546031,
          0.6897091935465549,
          null
         ],
         "y": [
          0.8109687342353149,
          0.7282678524535802,
          null
         ],
         "z": [
          0.4787142369989772,
          0.8097320726557011,
          null
         ]
        },
        {
         "hoverinfo": "none",
         "line": {
          "color": "rgb(175, 0, 79)",
          "width": 3.5483490566037736
         },
         "mode": "lines",
         "type": "scatter3d",
         "x": [
          0.8269081976546031,
          0.6810946351389718,
          null
         ],
         "y": [
          0.8109687342353149,
          0.039642204176439155,
          null
         ],
         "z": [
          0.4787142369989772,
          0.2593590931114531,
          null
         ]
        },
        {
         "hoverinfo": "none",
         "line": {
          "color": "rgb(174, 0, 80)",
          "width": 5.571933962264151
         },
         "mode": "lines",
         "type": "scatter3d",
         "x": [
          0.8269081976546031,
          0.6731850383535216,
          null
         ],
         "y": [
          0.8109687342353149,
          0.7055168292886723,
          null
         ],
         "z": [
          0.4787142369989772,
          0.17388737483289174,
          null
         ]
        },
        {
         "hoverinfo": "none",
         "line": {
          "color": "rgb(222, 0, 32)",
          "width": 3.357311320754717
         },
         "mode": "lines",
         "type": "scatter3d",
         "x": [
          0.8269081976546031,
          0.24968210961986737,
          null
         ],
         "y": [
          0.8109687342353149,
          0.5177765316149469,
          null
         ],
         "z": [
          0.4787142369989772,
          0.9042871946404727,
          null
         ]
        },
        {
         "hoverinfo": "none",
         "line": {
          "color": "rgb(195, 0, 59)",
          "width": 4.503537735849057
         },
         "mode": "lines",
         "type": "scatter3d",
         "x": [
          0.8269081976546031,
          0.8786142385423413,
          null
         ],
         "y": [
          0.8109687342353149,
          0.04689605003632835,
          null
         ],
         "z": [
          0.4787142369989772,
          0.8597912878636778,
          null
         ]
        },
        {
         "hoverinfo": "none",
         "line": {
          "color": "rgb(197, 0, 57)",
          "width": 3.7818396226415096
         },
         "mode": "lines",
         "type": "scatter3d",
         "x": [
          0.8269081976546031,
          0.3655115350989856,
          null
         ],
         "y": [
          0.8109687342353149,
          0.4028884444792149,
          null
         ],
         "z": [
          0.4787142369989772,
          0.4806267276048667,
          null
         ]
        },
        {
         "hoverinfo": "none",
         "line": {
          "color": "rgb(191, 0, 63)",
          "width": 3.035377358490566
         },
         "mode": "lines",
         "type": "scatter3d",
         "x": [
          0.8269081976546031,
          0.7338995273436147,
          null
         ],
         "y": [
          0.8109687342353149,
          0.739822825999556,
          null
         ],
         "z": [
          0.4787142369989772,
          0.05207323179406431,
          null
         ]
        },
        {
         "hoverinfo": "none",
         "line": {
          "color": "rgb(191, 0, 63)",
          "width": 3.484669811320755
         },
         "mode": "lines",
         "type": "scatter3d",
         "x": [
          0.8269081976546031,
          0.9672546385036344,
          null
         ],
         "y": [
          0.8109687342353149,
          0.764218580603326,
          null
         ],
         "z": [
          0.4787142369989772,
          0.5808060992531152,
          null
         ]
        },
        {
         "hoverinfo": "none",
         "line": {
          "color": "rgb(190, 0, 64)",
          "width": 3.4068396226415096
         },
         "mode": "lines",
         "type": "scatter3d",
         "x": [
          0.8269081976546031,
          0.4859486407204229,
          null
         ],
         "y": [
          0.8109687342353149,
          0.6788284864687022,
          null
         ],
         "z": [
          0.4787142369989772,
          0.902936943033732,
          null
         ]
        },
        {
         "hoverinfo": "none",
         "line": {
          "color": "rgb(218, 0, 36)",
          "width": 3.0742924528301887
         },
         "mode": "lines",
         "type": "scatter3d",
         "x": [
          0.8269081976546031,
          0.8291380248341068,
          null
         ],
         "y": [
          0.8109687342353149,
          0.9364453871995326,
          null
         ],
         "z": [
          0.4787142369989772,
          0.5810762895460602,
          null
         ]
        },
        {
         "hoverinfo": "none",
         "line": {
          "color": "rgb(218, 0, 36)",
          "width": 3.123820754716981
         },
         "mode": "lines",
         "type": "scatter3d",
         "x": [
          0.8269081976546031,
          0.24265185566836778,
          null
         ],
         "y": [
          0.8109687342353149,
          0.7438435596650464,
          null
         ],
         "z": [
          0.4787142369989772,
          0.21831542776222113,
          null
         ]
        },
        {
         "hoverinfo": "none",
         "line": {
          "color": "rgb(180, 0, 74)",
          "width": 3.1839622641509435
         },
         "mode": "lines",
         "type": "scatter3d",
         "x": [
          0.8269081976546031,
          0.837073768912754,
          null
         ],
         "y": [
          0.8109687342353149,
          0.3622228018579693,
          null
         ],
         "z": [
          0.4787142369989772,
          0.8702597155245111,
          null
         ]
        },
        {
         "hoverinfo": "none",
         "line": {
          "color": "rgb(227, 0, 27)",
          "width": 5.83372641509434
         },
         "mode": "lines",
         "type": "scatter3d",
         "x": [
          0.5070769640993297,
          0.8372587617835248,
          null
         ],
         "y": [
          0.8188491691217841,
          0.7343439957654516,
          null
         ],
         "z": [
          0.8390542840864083,
          0.029429204270443043,
          null
         ]
        },
        {
         "hoverinfo": "none",
         "line": {
          "color": "rgb(200, 0, 54)",
          "width": 4.13561320754717
         },
         "mode": "lines",
         "type": "scatter3d",
         "x": [
          0.5070769640993297,
          0.7061681308720446,
          null
         ],
         "y": [
          0.8188491691217841,
          0.6216850496137061,
          null
         ],
         "z": [
          0.8390542840864083,
          0.8666415784847047,
          null
         ]
        },
        {
         "hoverinfo": "none",
         "line": {
          "color": "rgb(205, 0, 49)",
          "width": 4.404481132075472
         },
         "mode": "lines",
         "type": "scatter3d",
         "x": [
          0.5070769640993297,
          0.0683534849703622,
          null
         ],
         "y": [
          0.8188491691217841,
          0.6238850035482401,
          null
         ],
         "z": [
          0.8390542840864083,
          0.0706374889854191,
          null
         ]
        },
        {
         "hoverinfo": "none",
         "line": {
          "color": "rgb(206, 0, 48)",
          "width": 4.768867924528302
         },
         "mode": "lines",
         "type": "scatter3d",
         "x": [
          0.5070769640993297,
          0.7042427459213977,
          null
         ],
         "y": [
          0.8188491691217841,
          0.5640636065755076,
          null
         ],
         "z": [
          0.8390542840864083,
          0.9627513593260234,
          null
         ]
        },
        {
         "hoverinfo": "none",
         "line": {
          "color": "rgb(212, 0, 42)",
          "width": 3.856132075471698
         },
         "mode": "lines",
         "type": "scatter3d",
         "x": [
          0.5070769640993297,
          0.38083526050393113,
          null
         ],
         "y": [
          0.8188491691217841,
          0.6076174303119,
          null
         ],
         "z": [
          0.8390542840864083,
          0.4682740656746155,
          null
         ]
        },
        {
         "hoverinfo": "none",
         "line": {
          "color": "rgb(205, 0, 49)",
          "width": 7.245283018867925
         },
         "mode": "lines",
         "type": "scatter3d",
         "x": [
          0.5070769640993297,
          0.23695573363998956,
          null
         ],
         "y": [
          0.8188491691217841,
          0.7592729412598814,
          null
         ],
         "z": [
          0.8390542840864083,
          0.8927404284216092,
          null
         ]
        },
        {
         "hoverinfo": "none",
         "line": {
          "color": "rgb(227, 0, 27)",
          "width": 15
         },
         "mode": "lines",
         "type": "scatter3d",
         "x": [
          0.5070769640993297,
          0.25781086115443563,
          null
         ],
         "y": [
          0.8188491691217841,
          0.40502060699549114,
          null
         ],
         "z": [
          0.8390542840864083,
          0.4495342770916474,
          null
         ]
        },
        {
         "hoverinfo": "none",
         "line": {
          "color": "rgb(217, 0, 37)",
          "width": 6.318396226415095
         },
         "mode": "lines",
         "type": "scatter3d",
         "x": [
          0.5070769640993297,
          0.4348965708925725,
          null
         ],
         "y": [
          0.8188491691217841,
          0.6871470243772101,
          null
         ],
         "z": [
          0.8390542840864083,
          0.8702755527886045,
          null
         ]
        },
        {
         "hoverinfo": "none",
         "line": {
          "color": "rgb(191, 0, 63)",
          "width": 3.9622641509433962
         },
         "mode": "lines",
         "type": "scatter3d",
         "x": [
          0.5070769640993297,
          0.3655115350989856,
          null
         ],
         "y": [
          0.8188491691217841,
          0.4028884444792149,
          null
         ],
         "z": [
          0.8390542840864083,
          0.4806267276048667,
          null
         ]
        },
        {
         "hoverinfo": "none",
         "line": {
          "color": "rgb(174, 0, 80)",
          "width": 3.9410377358490565
         },
         "mode": "lines",
         "type": "scatter3d",
         "x": [
          0.5070769640993297,
          0.8786142385423413,
          null
         ],
         "y": [
          0.8188491691217841,
          0.04689605003632835,
          null
         ],
         "z": [
          0.8390542840864083,
          0.8597912878636778,
          null
         ]
        },
        {
         "hoverinfo": "none",
         "line": {
          "color": "rgb(207, 0, 47)",
          "width": 3.1308962264150946
         },
         "mode": "lines",
         "type": "scatter3d",
         "x": [
          0.5070769640993297,
          0.7338995273436147,
          null
         ],
         "y": [
          0.8188491691217841,
          0.739822825999556,
          null
         ],
         "z": [
          0.8390542840864083,
          0.05207323179406431,
          null
         ]
        },
        {
         "hoverinfo": "none",
         "line": {
          "color": "rgb(213, 0, 41)",
          "width": 3.795990566037736
         },
         "mode": "lines",
         "type": "scatter3d",
         "x": [
          0.5070769640993297,
          0.6810946351389718,
          null
         ],
         "y": [
          0.8188491691217841,
          0.039642204176439155,
          null
         ],
         "z": [
          0.8390542840864083,
          0.2593590931114531,
          null
         ]
        },
        {
         "hoverinfo": "none",
         "line": {
          "color": "rgb(237, 0, 17)",
          "width": 4.4540094339622645
         },
         "mode": "lines",
         "type": "scatter3d",
         "x": [
          0.5070769640993297,
          0.24968210961986737,
          null
         ],
         "y": [
          0.8188491691217841,
          0.5177765316149469,
          null
         ],
         "z": [
          0.8390542840864083,
          0.9042871946404727,
          null
         ]
        },
        {
         "hoverinfo": "none",
         "line": {
          "color": "rgb(221, 0, 34)",
          "width": 4.128537735849057
         },
         "mode": "lines",
         "type": "scatter3d",
         "x": [
          0.5070769640993297,
          0.0658836711597871,
          null
         ],
         "y": [
          0.8188491691217841,
          0.740337688156904,
          null
         ],
         "z": [
          0.8390542840864083,
          0.754578690415864,
          null
         ]
        },
        {
         "hoverinfo": "none",
         "line": {
          "color": "rgb(237, 0, 17)",
          "width": 3.2264150943396226
         },
         "mode": "lines",
         "type": "scatter3d",
         "x": [
          0.5070769640993297,
          0.85338356930687,
          null
         ],
         "y": [
          0.8188491691217841,
          0.6249644555160049,
          null
         ],
         "z": [
          0.8390542840864083,
          0.7450583706862679,
          null
         ]
        },
        {
         "hoverinfo": "none",
         "line": {
          "color": "rgb(192, 0, 62)",
          "width": 3.3537735849056602
         },
         "mode": "lines",
         "type": "scatter3d",
         "x": [
          0.5070769640993297,
          0.837073768912754,
          null
         ],
         "y": [
          0.8188491691217841,
          0.3622228018579693,
          null
         ],
         "z": [
          0.8390542840864083,
          0.8702597155245111,
          null
         ]
        },
        {
         "hoverinfo": "none",
         "line": {
          "color": "rgb(197, 0, 57)",
          "width": 3.9375
         },
         "mode": "lines",
         "type": "scatter3d",
         "x": [
          0.5070769640993297,
          0.4450453567440472,
          null
         ],
         "y": [
          0.8188491691217841,
          0.8914027548364141,
          null
         ],
         "z": [
          0.8390542840864083,
          0.5235765198984705,
          null
         ]
        },
        {
         "hoverinfo": "none",
         "line": {
          "color": "rgb(174, 0, 80)",
          "width": 3.3254716981132075
         },
         "mode": "lines",
         "type": "scatter3d",
         "x": [
          0.5070769640993297,
          0.09571227726952747,
          null
         ],
         "y": [
          0.8188491691217841,
          0.8180623447926566,
          null
         ],
         "z": [
          0.8390542840864083,
          0.10753270747674437,
          null
         ]
        },
        {
         "hoverinfo": "none",
         "line": {
          "color": "rgb(207, 0, 47)",
          "width": 4.089622641509434
         },
         "mode": "lines",
         "type": "scatter3d",
         "x": [
          0.5070769640993297,
          0.9672546385036344,
          null
         ],
         "y": [
          0.8188491691217841,
          0.764218580603326,
          null
         ],
         "z": [
          0.8390542840864083,
          0.5808060992531152,
          null
         ]
        },
        {
         "hoverinfo": "none",
         "line": {
          "color": "rgb(246, 0, 8)",
          "width": 3.19811320754717
         },
         "mode": "lines",
         "type": "scatter3d",
         "x": [
          0.5070769640993297,
          0.24265185566836778,
          null
         ],
         "y": [
          0.8188491691217841,
          0.7438435596650464,
          null
         ],
         "z": [
          0.8390542840864083,
          0.21831542776222113,
          null
         ]
        },
        {
         "hoverinfo": "none",
         "line": {
          "color": "rgb(177, 0, 77)",
          "width": 5.911556603773585
         },
         "mode": "lines",
         "type": "scatter3d",
         "x": [
          0.5070769640993297,
          0.6731850383535216,
          null
         ],
         "y": [
          0.8188491691217841,
          0.7055168292886723,
          null
         ],
         "z": [
          0.8390542840864083,
          0.17388737483289174,
          null
         ]
        },
        {
         "hoverinfo": "none",
         "line": {
          "color": "rgb(210, 0, 44)",
          "width": 3.813679245283019
         },
         "mode": "lines",
         "type": "scatter3d",
         "x": [
          0.5070769640993297,
          0.14223414091899655,
          null
         ],
         "y": [
          0.8188491691217841,
          0.12395302638169958,
          null
         ],
         "z": [
          0.8390542840864083,
          0.6565769163574142,
          null
         ]
        },
        {
         "hoverinfo": "none",
         "line": {
          "color": "rgb(207, 0, 47)",
          "width": 5.129716981132075
         },
         "mode": "lines",
         "type": "scatter3d",
         "x": [
          0.5070769640993297,
          0.6897091935465549,
          null
         ],
         "y": [
          0.8188491691217841,
          0.7282678524535802,
          null
         ],
         "z": [
          0.8390542840864083,
          0.8097320726557011,
          null
         ]
        },
        {
         "hoverinfo": "none",
         "line": {
          "color": "rgb(212, 0, 42)",
          "width": 3.229952830188679
         },
         "mode": "lines",
         "type": "scatter3d",
         "x": [
          0.5070769640993297,
          0.4859486407204229,
          null
         ],
         "y": [
          0.8188491691217841,
          0.6788284864687022,
          null
         ],
         "z": [
          0.8390542840864083,
          0.902936943033732,
          null
         ]
        },
        {
         "hoverinfo": "none",
         "line": {
          "color": "rgb(197, 0, 57)",
          "width": 3.5589622641509435
         },
         "mode": "lines",
         "type": "scatter3d",
         "x": [
          0.5070769640993297,
          0.33479276255754076,
          null
         ],
         "y": [
          0.8188491691217841,
          0.7326971178584895,
          null
         ],
         "z": [
          0.8390542840864083,
          0.3900081144859531,
          null
         ]
        },
        {
         "hoverinfo": "none",
         "line": {
          "color": "rgb(206, 0, 48)",
          "width": 3.608490566037736
         },
         "mode": "lines",
         "type": "scatter3d",
         "x": [
          0.5070769640993297,
          0.6075247522038943,
          null
         ],
         "y": [
          0.8188491691217841,
          0.9029109163518165,
          null
         ],
         "z": [
          0.8390542840864083,
          0.17347116553965358,
          null
         ]
        },
        {
         "hoverinfo": "none",
         "line": {
          "color": "rgb(185, 0, 69)",
          "width": 3.7783018867924527
         },
         "mode": "lines",
         "type": "scatter3d",
         "x": [
          0.5070769640993297,
          0.11323545304253335,
          null
         ],
         "y": [
          0.8188491691217841,
          0.47217911472176666,
          null
         ],
         "z": [
          0.8390542840864083,
          0.5587959905127201,
          null
         ]
        },
        {
         "hoverinfo": "none",
         "line": {
          "color": "rgb(255, 0, 0)",
          "width": 3.01061320754717
         },
         "mode": "lines",
         "type": "scatter3d",
         "x": [
          0.5070769640993297,
          0.8291380248341068,
          null
         ],
         "y": [
          0.8188491691217841,
          0.9364453871995326,
          null
         ],
         "z": [
          0.8390542840864083,
          0.5810762895460602,
          null
         ]
        },
        {
         "hoverinfo": "none",
         "line": {
          "color": "rgb(183, 0, 71)",
          "width": 3.311320754716981
         },
         "mode": "lines",
         "type": "scatter3d",
         "x": [
          0.9672546385036344,
          0.8372587617835248,
          null
         ],
         "y": [
          0.764218580603326,
          0.7343439957654516,
          null
         ],
         "z": [
          0.5808060992531152,
          0.029429204270443043,
          null
         ]
        },
        {
         "hoverinfo": "none",
         "line": {
          "color": "rgb(150, 0, 105)",
          "width": 3.1556603773584904
         },
         "mode": "lines",
         "type": "scatter3d",
         "x": [
          0.9672546385036344,
          0.6810946351389718,
          null
         ],
         "y": [
          0.764218580603326,
          0.039642204176439155,
          null
         ],
         "z": [
          0.5808060992531152,
          0.2593590931114531,
          null
         ]
        },
        {
         "hoverinfo": "none",
         "line": {
          "color": "rgb(255, 0, 0)",
          "width": 3.169811320754717
         },
         "mode": "lines",
         "type": "scatter3d",
         "x": [
          0.9672546385036344,
          0.24968210961986737,
          null
         ],
         "y": [
          0.764218580603326,
          0.5177765316149469,
          null
         ],
         "z": [
          0.5808060992531152,
          0.9042871946404727,
          null
         ]
        },
        {
         "hoverinfo": "none",
         "line": {
          "color": "rgb(159, 0, 95)",
          "width": 3.1627358490566038
         },
         "mode": "lines",
         "type": "scatter3d",
         "x": [
          0.9672546385036344,
          0.7042427459213977,
          null
         ],
         "y": [
          0.764218580603326,
          0.5640636065755076,
          null
         ],
         "z": [
          0.5808060992531152,
          0.9627513593260234,
          null
         ]
        },
        {
         "hoverinfo": "none",
         "line": {
          "color": "rgb(230, 0, 24)",
          "width": 3.2582547169811322
         },
         "mode": "lines",
         "type": "scatter3d",
         "x": [
          0.9672546385036344,
          0.6897091935465549,
          null
         ],
         "y": [
          0.764218580603326,
          0.7282678524535802,
          null
         ],
         "z": [
          0.5808060992531152,
          0.8097320726557011,
          null
         ]
        },
        {
         "hoverinfo": "none",
         "line": {
          "color": "rgb(178, 0, 76)",
          "width": 3.3148584905660377
         },
         "mode": "lines",
         "type": "scatter3d",
         "x": [
          0.9672546385036344,
          0.0683534849703622,
          null
         ],
         "y": [
          0.764218580603326,
          0.6238850035482401,
          null
         ],
         "z": [
          0.5808060992531152,
          0.0706374889854191,
          null
         ]
        },
        {
         "hoverinfo": "none",
         "line": {
          "color": "rgb(172, 0, 82)",
          "width": 3.3077830188679247
         },
         "mode": "lines",
         "type": "scatter3d",
         "x": [
          0.9672546385036344,
          0.4450453567440472,
          null
         ],
         "y": [
          0.764218580603326,
          0.8914027548364141,
          null
         ],
         "z": [
          0.5808060992531152,
          0.5235765198984705,
          null
         ]
        },
        {
         "hoverinfo": "none",
         "line": {
          "color": "rgb(191, 0, 63)",
          "width": 3.088443396226415
         },
         "mode": "lines",
         "type": "scatter3d",
         "x": [
          0.9672546385036344,
          0.6075247522038943,
          null
         ],
         "y": [
          0.764218580603326,
          0.9029109163518165,
          null
         ],
         "z": [
          0.5808060992531152,
          0.17347116553965358,
          null
         ]
        },
        {
         "hoverinfo": "none",
         "line": {
          "color": "rgb(212, 0, 42)",
          "width": 4.4504716981132075
         },
         "mode": "lines",
         "type": "scatter3d",
         "x": [
          0.9672546385036344,
          0.25781086115443563,
          null
         ],
         "y": [
          0.764218580603326,
          0.40502060699549114,
          null
         ],
         "z": [
          0.5808060992531152,
          0.4495342770916474,
          null
         ]
        },
        {
         "hoverinfo": "none",
         "line": {
          "color": "rgb(200, 0, 55)",
          "width": 3.3007075471698113
         },
         "mode": "lines",
         "type": "scatter3d",
         "x": [
          0.9672546385036344,
          0.0658836711597871,
          null
         ],
         "y": [
          0.764218580603326,
          0.740337688156904,
          null
         ],
         "z": [
          0.5808060992531152,
          0.754578690415864,
          null
         ]
        },
        {
         "hoverinfo": "none",
         "line": {
          "color": "rgb(125, 0, 129)",
          "width": 3.732311320754717
         },
         "mode": "lines",
         "type": "scatter3d",
         "x": [
          0.9672546385036344,
          0.6731850383535216,
          null
         ],
         "y": [
          0.764218580603326,
          0.7055168292886723,
          null
         ],
         "z": [
          0.5808060992531152,
          0.17388737483289174,
          null
         ]
        },
        {
         "hoverinfo": "none",
         "line": {
          "color": "rgb(138, 0, 116)",
          "width": 3.329009433962264
         },
         "mode": "lines",
         "type": "scatter3d",
         "x": [
          0.9672546385036344,
          0.14223414091899655,
          null
         ],
         "y": [
          0.764218580603326,
          0.12395302638169958,
          null
         ],
         "z": [
          0.5808060992531152,
          0.6565769163574142,
          null
         ]
        },
        {
         "hoverinfo": "none",
         "line": {
          "color": "rgb(170, 0, 85)",
          "width": 3.417452830188679
         },
         "mode": "lines",
         "type": "scatter3d",
         "x": [
          0.9672546385036344,
          0.23695573363998956,
          null
         ],
         "y": [
          0.764218580603326,
          0.7592729412598814,
          null
         ],
         "z": [
          0.5808060992531152,
          0.8927404284216092,
          null
         ]
        },
        {
         "hoverinfo": "none",
         "line": {
          "color": "rgb(85, 0, 170)",
          "width": 3.0318396226415096
         },
         "mode": "lines",
         "type": "scatter3d",
         "x": [
          0.9672546385036344,
          0.85338356930687,
          null
         ],
         "y": [
          0.764218580603326,
          0.6249644555160049,
          null
         ],
         "z": [
          0.5808060992531152,
          0.7450583706862679,
          null
         ]
        },
        {
         "hoverinfo": "none",
         "line": {
          "color": "rgb(166, 0, 88)",
          "width": 3.1945754716981134
         },
         "mode": "lines",
         "type": "scatter3d",
         "x": [
          0.9672546385036344,
          0.33479276255754076,
          null
         ],
         "y": [
          0.764218580603326,
          0.7326971178584895,
          null
         ],
         "z": [
          0.5808060992531152,
          0.3900081144859531,
          null
         ]
        },
        {
         "hoverinfo": "none",
         "line": {
          "color": "rgb(121, 0, 133)",
          "width": 3.2900943396226414
         },
         "mode": "lines",
         "type": "scatter3d",
         "x": [
          0.9672546385036344,
          0.11323545304253335,
          null
         ],
         "y": [
          0.764218580603326,
          0.47217911472176666,
          null
         ],
         "z": [
          0.5808060992531152,
          0.5587959905127201,
          null
         ]
        },
        {
         "hoverinfo": "none",
         "line": {
          "color": "rgb(218, 0, 36)",
          "width": 3.106132075471698
         },
         "mode": "lines",
         "type": "scatter3d",
         "x": [
          0.9672546385036344,
          0.7061681308720446,
          null
         ],
         "y": [
          0.764218580603326,
          0.6216850496137061,
          null
         ],
         "z": [
          0.5808060992531152,
          0.8666415784847047,
          null
         ]
        },
        {
         "hoverinfo": "none",
         "line": {
          "color": "rgb(141, 0, 113)",
          "width": 3.2476415094339623
         },
         "mode": "lines",
         "type": "scatter3d",
         "x": [
          0.9672546385036344,
          0.3655115350989856,
          null
         ],
         "y": [
          0.764218580603326,
          0.4028884444792149,
          null
         ],
         "z": [
          0.5808060992531152,
          0.4806267276048667,
          null
         ]
        },
        {
         "hoverinfo": "none",
         "line": {
          "color": "rgb(159, 0, 95)",
          "width": 3.1132075471698113
         },
         "mode": "lines",
         "type": "scatter3d",
         "x": [
          0.9672546385036344,
          0.09571227726952747,
          null
         ],
         "y": [
          0.764218580603326,
          0.8180623447926566,
          null
         ],
         "z": [
          0.5808060992531152,
          0.10753270747674437,
          null
         ]
        },
        {
         "hoverinfo": "none",
         "line": {
          "color": "rgb(186, 0, 68)",
          "width": 3.4316037735849054
         },
         "mode": "lines",
         "type": "scatter3d",
         "x": [
          0.9672546385036344,
          0.38083526050393113,
          null
         ],
         "y": [
          0.764218580603326,
          0.6076174303119,
          null
         ],
         "z": [
          0.5808060992531152,
          0.4682740656746155,
          null
         ]
        },
        {
         "hoverinfo": "none",
         "line": {
          "color": "rgb(163, 0, 91)",
          "width": 3.3007075471698113
         },
         "mode": "lines",
         "type": "scatter3d",
         "x": [
          0.9672546385036344,
          0.4348965708925725,
          null
         ],
         "y": [
          0.764218580603326,
          0.6871470243772101,
          null
         ],
         "z": [
          0.5808060992531152,
          0.8702755527886045,
          null
         ]
        },
        {
         "hoverinfo": "none",
         "line": {
          "color": "rgb(162, 0, 92)",
          "width": 3.145047169811321
         },
         "mode": "lines",
         "type": "scatter3d",
         "x": [
          0.9672546385036344,
          0.8786142385423413,
          null
         ],
         "y": [
          0.764218580603326,
          0.04689605003632835,
          null
         ],
         "z": [
          0.5808060992531152,
          0.8597912878636778,
          null
         ]
        },
        {
         "hoverinfo": "none",
         "line": {
          "color": "rgb(255, 0, 0)",
          "width": 3.017688679245283
         },
         "mode": "lines",
         "type": "scatter3d",
         "x": [
          0.9672546385036344,
          0.24265185566836778,
          null
         ],
         "y": [
          0.764218580603326,
          0.7438435596650464,
          null
         ],
         "z": [
          0.5808060992531152,
          0.21831542776222113,
          null
         ]
        },
        {
         "hoverinfo": "none",
         "line": {
          "color": "rgb(109, 0, 145)",
          "width": 3.0495283018867925
         },
         "mode": "lines",
         "type": "scatter3d",
         "x": [
          0.9672546385036344,
          0.837073768912754,
          null
         ],
         "y": [
          0.764218580603326,
          0.3622228018579693,
          null
         ],
         "z": [
          0.5808060992531152,
          0.8702597155245111,
          null
         ]
        },
        {
         "hoverinfo": "none",
         "line": {
          "color": "rgb(127, 0, 127)",
          "width": 3.035377358490566
         },
         "mode": "lines",
         "type": "scatter3d",
         "x": [
          0.9672546385036344,
          0.4859486407204229,
          null
         ],
         "y": [
          0.764218580603326,
          0.6788284864687022,
          null
         ],
         "z": [
          0.5808060992531152,
          0.902936943033732,
          null
         ]
        },
        {
         "hoverinfo": "none",
         "line": {
          "color": "rgb(170, 0, 85)",
          "width": 3.0247641509433962
         },
         "mode": "lines",
         "type": "scatter3d",
         "x": [
          0.9672546385036344,
          0.8291380248341068,
          null
         ],
         "y": [
          0.764218580603326,
          0.9364453871995326,
          null
         ],
         "z": [
          0.5808060992531152,
          0.5810762895460602,
          null
         ]
        },
        {
         "hoverinfo": "none",
         "line": {
          "color": "rgb(170, 0, 85)",
          "width": 3.0141509433962264
         },
         "mode": "lines",
         "type": "scatter3d",
         "x": [
          0.9672546385036344,
          0.7338995273436147,
          null
         ],
         "y": [
          0.764218580603326,
          0.739822825999556,
          null
         ],
         "z": [
          0.5808060992531152,
          0.05207323179406431,
          null
         ]
        },
        {
         "hoverinfo": "none",
         "line": {
          "color": "rgb(160, 0, 94)",
          "width": 3.672169811320755
         },
         "mode": "lines",
         "type": "scatter3d",
         "x": [
          0.6731850383535216,
          0.7042427459213977,
          null
         ],
         "y": [
          0.7055168292886723,
          0.5640636065755076,
          null
         ],
         "z": [
          0.17388737483289174,
          0.9627513593260234,
          null
         ]
        },
        {
         "hoverinfo": "none",
         "line": {
          "color": "rgb(155, 0, 99)",
          "width": 3.6120283018867925
         },
         "mode": "lines",
         "type": "scatter3d",
         "x": [
          0.6731850383535216,
          0.7061681308720446,
          null
         ],
         "y": [
          0.7055168292886723,
          0.6216850496137061,
          null
         ],
         "z": [
          0.17388737483289174,
          0.8666415784847047,
          null
         ]
        },
        {
         "hoverinfo": "none",
         "line": {
          "color": "rgb(145, 0, 109)",
          "width": 3.2900943396226414
         },
         "mode": "lines",
         "type": "scatter3d",
         "x": [
          0.6731850383535216,
          0.4859486407204229,
          null
         ],
         "y": [
          0.7055168292886723,
          0.6788284864687022,
          null
         ],
         "z": [
          0.17388737483289174,
          0.902936943033732,
          null
         ]
        },
        {
         "hoverinfo": "none",
         "line": {
          "color": "rgb(146, 0, 108)",
          "width": 4.32311320754717
         },
         "mode": "lines",
         "type": "scatter3d",
         "x": [
          0.6731850383535216,
          0.0683534849703622,
          null
         ],
         "y": [
          0.7055168292886723,
          0.6238850035482401,
          null
         ],
         "z": [
          0.17388737483289174,
          0.0706374889854191,
          null
         ]
        },
        {
         "hoverinfo": "none",
         "line": {
          "color": "rgb(181, 0, 73)",
          "width": 7.273584905660377
         },
         "mode": "lines",
         "type": "scatter3d",
         "x": [
          0.6731850383535216,
          0.25781086115443563,
          null
         ],
         "y": [
          0.7055168292886723,
          0.40502060699549114,
          null
         ],
         "z": [
          0.17388737483289174,
          0.4495342770916474,
          null
         ]
        },
        {
         "hoverinfo": "none",
         "line": {
          "color": "rgb(156, 0, 98)",
          "width": 3.6650943396226414
         },
         "mode": "lines",
         "type": "scatter3d",
         "x": [
          0.6731850383535216,
          0.6810946351389718,
          null
         ],
         "y": [
          0.7055168292886723,
          0.039642204176439155,
          null
         ],
         "z": [
          0.17388737483289174,
          0.2593590931114531,
          null
         ]
        },
        {
         "hoverinfo": "none",
         "line": {
          "color": "rgb(158, 0, 96)",
          "width": 3.8808962264150946
         },
         "mode": "lines",
         "type": "scatter3d",
         "x": [
          0.6731850383535216,
          0.33479276255754076,
          null
         ],
         "y": [
          0.7055168292886723,
          0.7326971178584895,
          null
         ],
         "z": [
          0.17388737483289174,
          0.3900081144859531,
          null
         ]
        },
        {
         "hoverinfo": "none",
         "line": {
          "color": "rgb(151, 0, 103)",
          "width": 4.09316037735849
         },
         "mode": "lines",
         "type": "scatter3d",
         "x": [
          0.6731850383535216,
          0.3655115350989856,
          null
         ],
         "y": [
          0.7055168292886723,
          0.4028884444792149,
          null
         ],
         "z": [
          0.17388737483289174,
          0.4806267276048667,
          null
         ]
        },
        {
         "hoverinfo": "none",
         "line": {
          "color": "rgb(179, 0, 75)",
          "width": 4.588443396226415
         },
         "mode": "lines",
         "type": "scatter3d",
         "x": [
          0.6731850383535216,
          0.38083526050393113,
          null
         ],
         "y": [
          0.7055168292886723,
          0.6076174303119,
          null
         ],
         "z": [
          0.17388737483289174,
          0.4682740656746155,
          null
         ]
        },
        {
         "hoverinfo": "none",
         "line": {
          "color": "rgb(148, 0, 106)",
          "width": 3.6898584905660377
         },
         "mode": "lines",
         "type": "scatter3d",
         "x": [
          0.6731850383535216,
          0.8786142385423413,
          null
         ],
         "y": [
          0.7055168292886723,
          0.04689605003632835,
          null
         ],
         "z": [
          0.17388737483289174,
          0.8597912878636778,
          null
         ]
        },
        {
         "hoverinfo": "none",
         "line": {
          "color": "rgb(168, 0, 86)",
          "width": 4.011792452830189
         },
         "mode": "lines",
         "type": "scatter3d",
         "x": [
          0.6731850383535216,
          0.14223414091899655,
          null
         ],
         "y": [
          0.7055168292886723,
          0.12395302638169958,
          null
         ],
         "z": [
          0.17388737483289174,
          0.6565769163574142,
          null
         ]
        },
        {
         "hoverinfo": "none",
         "line": {
          "color": "rgb(144, 0, 110)",
          "width": 4.050707547169811
         },
         "mode": "lines",
         "type": "scatter3d",
         "x": [
          0.6731850383535216,
          0.6897091935465549,
          null
         ],
         "y": [
          0.7055168292886723,
          0.7282678524535802,
          null
         ],
         "z": [
          0.17388737483289174,
          0.8097320726557011,
          null
         ]
        },
        {
         "hoverinfo": "none",
         "line": {
          "color": "rgb(179, 0, 75)",
          "width": 3.8172169811320753
         },
         "mode": "lines",
         "type": "scatter3d",
         "x": [
          0.6731850383535216,
          0.4348965708925725,
          null
         ],
         "y": [
          0.7055168292886723,
          0.6871470243772101,
          null
         ],
         "z": [
          0.17388737483289174,
          0.8702755527886045,
          null
         ]
        },
        {
         "hoverinfo": "none",
         "line": {
          "color": "rgb(164, 0, 90)",
          "width": 3.785377358490566
         },
         "mode": "lines",
         "type": "scatter3d",
         "x": [
          0.6731850383535216,
          0.6075247522038943,
          null
         ],
         "y": [
          0.7055168292886723,
          0.9029109163518165,
          null
         ],
         "z": [
          0.17388737483289174,
          0.17347116553965358,
          null
         ]
        },
        {
         "hoverinfo": "none",
         "line": {
          "color": "rgb(162, 0, 92)",
          "width": 4.061320754716981
         },
         "mode": "lines",
         "type": "scatter3d",
         "x": [
          0.6731850383535216,
          0.8372587617835248,
          null
         ],
         "y": [
          0.7055168292886723,
          0.7343439957654516,
          null
         ],
         "z": [
          0.17388737483289174,
          0.029429204270443043,
          null
         ]
        },
        {
         "hoverinfo": "none",
         "line": {
          "color": "rgb(161, 0, 93)",
          "width": 4.935141509433962
         },
         "mode": "lines",
         "type": "scatter3d",
         "x": [
          0.6731850383535216,
          0.23695573363998956,
          null
         ],
         "y": [
          0.7055168292886723,
          0.7592729412598814,
          null
         ],
         "z": [
          0.17388737483289174,
          0.8927404284216092,
          null
         ]
        },
        {
         "hoverinfo": "none",
         "line": {
          "color": "rgb(130, 0, 124)",
          "width": 4.4575471698113205
         },
         "mode": "lines",
         "type": "scatter3d",
         "x": [
          0.6731850383535216,
          0.11323545304253335,
          null
         ],
         "y": [
          0.7055168292886723,
          0.47217911472176666,
          null
         ],
         "z": [
          0.17388737483289174,
          0.5587959905127201,
          null
         ]
        },
        {
         "hoverinfo": "none",
         "line": {
          "color": "rgb(139, 0, 115)",
          "width": 3.714622641509434
         },
         "mode": "lines",
         "type": "scatter3d",
         "x": [
          0.6731850383535216,
          0.4450453567440472,
          null
         ],
         "y": [
          0.7055168292886723,
          0.8914027548364141,
          null
         ],
         "z": [
          0.17388737483289174,
          0.5235765198984705,
          null
         ]
        },
        {
         "hoverinfo": "none",
         "line": {
          "color": "rgb(242, 0, 12)",
          "width": 3.1804245283018866
         },
         "mode": "lines",
         "type": "scatter3d",
         "x": [
          0.6731850383535216,
          0.24968210961986737,
          null
         ],
         "y": [
          0.7055168292886723,
          0.5177765316149469,
          null
         ],
         "z": [
          0.17388737483289174,
          0.9042871946404727,
          null
         ]
        },
        {
         "hoverinfo": "none",
         "line": {
          "color": "rgb(227, 0, 27)",
          "width": 3.321933962264151
         },
         "mode": "lines",
         "type": "scatter3d",
         "x": [
          0.6731850383535216,
          0.85338356930687,
          null
         ],
         "y": [
          0.7055168292886723,
          0.6249644555160049,
          null
         ],
         "z": [
          0.17388737483289174,
          0.7450583706862679,
          null
         ]
        },
        {
         "hoverinfo": "none",
         "line": {
          "color": "rgb(169, 0, 85)",
          "width": 4.0790094339622645
         },
         "mode": "lines",
         "type": "scatter3d",
         "x": [
          0.6731850383535216,
          0.0658836711597871,
          null
         ],
         "y": [
          0.7055168292886723,
          0.740337688156904,
          null
         ],
         "z": [
          0.17388737483289174,
          0.754578690415864,
          null
         ]
        },
        {
         "hoverinfo": "none",
         "line": {
          "color": "rgb(152, 0, 102)",
          "width": 3.555424528301887
         },
         "mode": "lines",
         "type": "scatter3d",
         "x": [
          0.6731850383535216,
          0.09571227726952747,
          null
         ],
         "y": [
          0.7055168292886723,
          0.8180623447926566,
          null
         ],
         "z": [
          0.17388737483289174,
          0.10753270747674437,
          null
         ]
        },
        {
         "hoverinfo": "none",
         "line": {
          "color": "rgb(191, 0, 63)",
          "width": 3.1591981132075473
         },
         "mode": "lines",
         "type": "scatter3d",
         "x": [
          0.6731850383535216,
          0.837073768912754,
          null
         ],
         "y": [
          0.7055168292886723,
          0.3622228018579693,
          null
         ],
         "z": [
          0.17388737483289174,
          0.8702597155245111,
          null
         ]
        },
        {
         "hoverinfo": "none",
         "line": {
          "color": "rgb(159, 0, 95)",
          "width": 3.045990566037736
         },
         "mode": "lines",
         "type": "scatter3d",
         "x": [
          0.6731850383535216,
          0.7338995273436147,
          null
         ],
         "y": [
          0.7055168292886723,
          0.739822825999556,
          null
         ],
         "z": [
          0.17388737483289174,
          0.05207323179406431,
          null
         ]
        },
        {
         "hoverinfo": "none",
         "line": {
          "color": "rgb(145, 0, 109)",
          "width": 3.1132075471698113
         },
         "mode": "lines",
         "type": "scatter3d",
         "x": [
          0.6731850383535216,
          0.24265185566836778,
          null
         ],
         "y": [
          0.7055168292886723,
          0.7438435596650464,
          null
         ],
         "z": [
          0.17388737483289174,
          0.21831542776222113,
          null
         ]
        },
        {
         "hoverinfo": "none",
         "line": {
          "color": "rgb(127, 0, 127)",
          "width": 3.053066037735849
         },
         "mode": "lines",
         "type": "scatter3d",
         "x": [
          0.6731850383535216,
          0.8291380248341068,
          null
         ],
         "y": [
          0.7055168292886723,
          0.9364453871995326,
          null
         ],
         "z": [
          0.17388737483289174,
          0.5810762895460602,
          null
         ]
        },
        {
         "hoverinfo": "none",
         "line": {
          "color": "rgb(210, 0, 44)",
          "width": 7.90683962264151
         },
         "mode": "lines",
         "type": "scatter3d",
         "x": [
          0.38083526050393113,
          0.7042427459213977,
          null
         ],
         "y": [
          0.6076174303119,
          0.5640636065755076,
          null
         ],
         "z": [
          0.4682740656746155,
          0.9627513593260234,
          null
         ]
        },
        {
         "hoverinfo": "none",
         "line": {
          "color": "rgb(219, 0, 35)",
          "width": 3.569575471698113
         },
         "mode": "lines",
         "type": "scatter3d",
         "x": [
          0.38083526050393113,
          0.7061681308720446,
          null
         ],
         "y": [
          0.6076174303119,
          0.6216850496137061,
          null
         ],
         "z": [
          0.4682740656746155,
          0.8666415784847047,
          null
         ]
        },
        {
         "hoverinfo": "none",
         "line": {
          "color": "rgb(190, 0, 64)",
          "width": 5.257075471698114
         },
         "mode": "lines",
         "type": "scatter3d",
         "x": [
          0.38083526050393113,
          0.33479276255754076,
          null
         ],
         "y": [
          0.6076174303119,
          0.7326971178584895,
          null
         ],
         "z": [
          0.4682740656746155,
          0.3900081144859531,
          null
         ]
        },
        {
         "hoverinfo": "none",
         "line": {
          "color": "rgb(199, 0, 55)",
          "width": 3.859669811320755
         },
         "mode": "lines",
         "type": "scatter3d",
         "x": [
          0.38083526050393113,
          0.4859486407204229,
          null
         ],
         "y": [
          0.6076174303119,
          0.6788284864687022,
          null
         ],
         "z": [
          0.4682740656746155,
          0.902936943033732,
          null
         ]
        },
        {
         "hoverinfo": "none",
         "line": {
          "color": "rgb(180, 0, 74)",
          "width": 4.181603773584905
         },
         "mode": "lines",
         "type": "scatter3d",
         "x": [
          0.38083526050393113,
          0.6810946351389718,
          null
         ],
         "y": [
          0.6076174303119,
          0.039642204176439155,
          null
         ],
         "z": [
          0.4682740656746155,
          0.2593590931114531,
          null
         ]
        },
        {
         "hoverinfo": "none",
         "line": {
          "color": "rgb(180, 0, 74)",
          "width": 7.110849056603773
         },
         "mode": "lines",
         "type": "scatter3d",
         "x": [
          0.38083526050393113,
          0.09571227726952747,
          null
         ],
         "y": [
          0.6076174303119,
          0.8180623447926566,
          null
         ],
         "z": [
          0.4682740656746155,
          0.10753270747674437,
          null
         ]
        },
        {
         "hoverinfo": "none",
         "line": {
          "color": "rgb(203, 0, 51)",
          "width": 4.5424528301886795
         },
         "mode": "lines",
         "type": "scatter3d",
         "x": [
          0.38083526050393113,
          0.3655115350989856,
          null
         ],
         "y": [
          0.6076174303119,
          0.4028884444792149,
          null
         ],
         "z": [
          0.4682740656746155,
          0.4806267276048667,
          null
         ]
        },
        {
         "hoverinfo": "none",
         "line": {
          "color": "rgb(231, 0, 23)",
          "width": 4.48938679245283
         },
         "mode": "lines",
         "type": "scatter3d",
         "x": [
          0.38083526050393113,
          0.6075247522038943,
          null
         ],
         "y": [
          0.6076174303119,
          0.9029109163518165,
          null
         ],
         "z": [
          0.4682740656746155,
          0.17347116553965358,
          null
         ]
        },
        {
         "hoverinfo": "none",
         "line": {
          "color": "rgb(191, 0, 63)",
          "width": 6.275943396226415
         },
         "mode": "lines",
         "type": "scatter3d",
         "x": [
          0.38083526050393113,
          0.14223414091899655,
          null
         ],
         "y": [
          0.6076174303119,
          0.12395302638169958,
          null
         ],
         "z": [
          0.4682740656746155,
          0.6565769163574142,
          null
         ]
        },
        {
         "hoverinfo": "none",
         "line": {
          "color": "rgb(184, 0, 70)",
          "width": 4.188679245283019
         },
         "mode": "lines",
         "type": "scatter3d",
         "x": [
          0.38083526050393113,
          0.0683534849703622,
          null
         ],
         "y": [
          0.6076174303119,
          0.6238850035482401,
          null
         ],
         "z": [
          0.4682740656746155,
          0.0706374889854191,
          null
         ]
        },
        {
         "hoverinfo": "none",
         "line": {
          "color": "rgb(219, 0, 35)",
          "width": 4.107311320754717
         },
         "mode": "lines",
         "type": "scatter3d",
         "x": [
          0.38083526050393113,
          0.8291380248341068,
          null
         ],
         "y": [
          0.6076174303119,
          0.9364453871995326,
          null
         ],
         "z": [
          0.4682740656746155,
          0.5810762895460602,
          null
         ]
        },
        {
         "hoverinfo": "none",
         "line": {
          "color": "rgb(198, 0, 56)",
          "width": 3.527122641509434
         },
         "mode": "lines",
         "type": "scatter3d",
         "x": [
          0.38083526050393113,
          0.4348965708925725,
          null
         ],
         "y": [
          0.6076174303119,
          0.6871470243772101,
          null
         ],
         "z": [
          0.4682740656746155,
          0.8702755527886045,
          null
         ]
        },
        {
         "hoverinfo": "none",
         "line": {
          "color": "rgb(187, 0, 67)",
          "width": 6.286556603773585
         },
         "mode": "lines",
         "type": "scatter3d",
         "x": [
          0.38083526050393113,
          0.8786142385423413,
          null
         ],
         "y": [
          0.6076174303119,
          0.04689605003632835,
          null
         ],
         "z": [
          0.4682740656746155,
          0.8597912878636778,
          null
         ]
        },
        {
         "hoverinfo": "none",
         "line": {
          "color": "rgb(246, 0, 8)",
          "width": 3.9587264150943398
         },
         "mode": "lines",
         "type": "scatter3d",
         "x": [
          0.38083526050393113,
          0.85338356930687,
          null
         ],
         "y": [
          0.6076174303119,
          0.6249644555160049,
          null
         ],
         "z": [
          0.4682740656746155,
          0.7450583706862679,
          null
         ]
        },
        {
         "hoverinfo": "none",
         "line": {
          "color": "rgb(216, 0, 38)",
          "width": 4.057783018867925
         },
         "mode": "lines",
         "type": "scatter3d",
         "x": [
          0.38083526050393113,
          0.25781086115443563,
          null
         ],
         "y": [
          0.6076174303119,
          0.40502060699549114,
          null
         ],
         "z": [
          0.4682740656746155,
          0.4495342770916474,
          null
         ]
        },
        {
         "hoverinfo": "none",
         "line": {
          "color": "rgb(194, 0, 60)",
          "width": 3.75
         },
         "mode": "lines",
         "type": "scatter3d",
         "x": [
          0.38083526050393113,
          0.0658836711597871,
          null
         ],
         "y": [
          0.6076174303119,
          0.740337688156904,
          null
         ],
         "z": [
          0.4682740656746155,
          0.754578690415864,
          null
         ]
        },
        {
         "hoverinfo": "none",
         "line": {
          "color": "rgb(158, 0, 96)",
          "width": 4.245283018867925
         },
         "mode": "lines",
         "type": "scatter3d",
         "x": [
          0.38083526050393113,
          0.11323545304253335,
          null
         ],
         "y": [
          0.6076174303119,
          0.47217911472176666,
          null
         ],
         "z": [
          0.4682740656746155,
          0.5587959905127201,
          null
         ]
        },
        {
         "hoverinfo": "none",
         "line": {
          "color": "rgb(197, 0, 57)",
          "width": 3.827830188679245
         },
         "mode": "lines",
         "type": "scatter3d",
         "x": [
          0.38083526050393113,
          0.8372587617835248,
          null
         ],
         "y": [
          0.6076174303119,
          0.7343439957654516,
          null
         ],
         "z": [
          0.4682740656746155,
          0.029429204270443043,
          null
         ]
        },
        {
         "hoverinfo": "none",
         "line": {
          "color": "rgb(151, 0, 103)",
          "width": 3.990566037735849
         },
         "mode": "lines",
         "type": "scatter3d",
         "x": [
          0.38083526050393113,
          0.4450453567440472,
          null
         ],
         "y": [
          0.6076174303119,
          0.8914027548364141,
          null
         ],
         "z": [
          0.4682740656746155,
          0.5235765198984705,
          null
         ]
        },
        {
         "hoverinfo": "none",
         "line": {
          "color": "rgb(199, 0, 55)",
          "width": 3.732311320754717
         },
         "mode": "lines",
         "type": "scatter3d",
         "x": [
          0.38083526050393113,
          0.23695573363998956,
          null
         ],
         "y": [
          0.6076174303119,
          0.7592729412598814,
          null
         ],
         "z": [
          0.4682740656746155,
          0.8927404284216092,
          null
         ]
        },
        {
         "hoverinfo": "none",
         "line": {
          "color": "rgb(222, 0, 32)",
          "width": 3.3077830188679247
         },
         "mode": "lines",
         "type": "scatter3d",
         "x": [
          0.38083526050393113,
          0.24968210961986737,
          null
         ],
         "y": [
          0.6076174303119,
          0.5177765316149469,
          null
         ],
         "z": [
          0.4682740656746155,
          0.9042871946404727,
          null
         ]
        },
        {
         "hoverinfo": "none",
         "line": {
          "color": "rgb(255, 0, 0)",
          "width": 3.134433962264151
         },
         "mode": "lines",
         "type": "scatter3d",
         "x": [
          0.38083526050393113,
          0.7338995273436147,
          null
         ],
         "y": [
          0.6076174303119,
          0.739822825999556,
          null
         ],
         "z": [
          0.4682740656746155,
          0.05207323179406431,
          null
         ]
        },
        {
         "hoverinfo": "none",
         "line": {
          "color": "rgb(166, 0, 88)",
          "width": 3.463443396226415
         },
         "mode": "lines",
         "type": "scatter3d",
         "x": [
          0.38083526050393113,
          0.6897091935465549,
          null
         ],
         "y": [
          0.6076174303119,
          0.7282678524535802,
          null
         ],
         "z": [
          0.4682740656746155,
          0.8097320726557011,
          null
         ]
        },
        {
         "hoverinfo": "none",
         "line": {
          "color": "rgb(200, 0, 54)",
          "width": 3.088443396226415
         },
         "mode": "lines",
         "type": "scatter3d",
         "x": [
          0.38083526050393113,
          0.837073768912754,
          null
         ],
         "y": [
          0.6076174303119,
          0.3622228018579693,
          null
         ],
         "z": [
          0.4682740656746155,
          0.8702597155245111,
          null
         ]
        },
        {
         "hoverinfo": "none",
         "line": {
          "color": "rgb(210, 0, 44)",
          "width": 3.4033018867924527
         },
         "mode": "lines",
         "type": "scatter3d",
         "x": [
          0.38083526050393113,
          0.24265185566836778,
          null
         ],
         "y": [
          0.6076174303119,
          0.7438435596650464,
          null
         ],
         "z": [
          0.4682740656746155,
          0.21831542776222113,
          null
         ]
        },
        {
         "hoverinfo": "none",
         "line": {
          "color": "rgb(204, 0, 51)",
          "width": 3.1627358490566038
         },
         "mode": "lines",
         "type": "scatter3d",
         "x": [
          0.24968210961986737,
          0.0683534849703622,
          null
         ],
         "y": [
          0.5177765316149469,
          0.6238850035482401,
          null
         ],
         "z": [
          0.9042871946404727,
          0.0706374889854191,
          null
         ]
        },
        {
         "hoverinfo": "none",
         "line": {
          "color": "rgb(217, 0, 37)",
          "width": 3.7110849056603774
         },
         "mode": "lines",
         "type": "scatter3d",
         "x": [
          0.24968210961986737,
          0.7042427459213977,
          null
         ],
         "y": [
          0.5177765316149469,
          0.5640636065755076,
          null
         ],
         "z": [
          0.9042871946404727,
          0.9627513593260234,
          null
         ]
        },
        {
         "hoverinfo": "none",
         "line": {
          "color": "rgb(220, 0, 34)",
          "width": 3.19811320754717
         },
         "mode": "lines",
         "type": "scatter3d",
         "x": [
          0.24968210961986737,
          0.09571227726952747,
          null
         ],
         "y": [
          0.5177765316149469,
          0.8180623447926566,
          null
         ],
         "z": [
          0.9042871946404727,
          0.10753270747674437,
          null
         ]
        },
        {
         "hoverinfo": "none",
         "line": {
          "color": "rgb(246, 0, 8)",
          "width": 3.38561320754717
         },
         "mode": "lines",
         "type": "scatter3d",
         "x": [
          0.24968210961986737,
          0.8372587617835248,
          null
         ],
         "y": [
          0.5177765316149469,
          0.7343439957654516,
          null
         ],
         "z": [
          0.9042871946404727,
          0.029429204270443043,
          null
         ]
        },
        {
         "hoverinfo": "none",
         "line": {
          "color": "rgb(228, 0, 26)",
          "width": 3.1202830188679247
         },
         "mode": "lines",
         "type": "scatter3d",
         "x": [
          0.24968210961986737,
          0.0658836711597871,
          null
         ],
         "y": [
          0.5177765316149469,
          0.740337688156904,
          null
         ],
         "z": [
          0.9042871946404727,
          0.754578690415864,
          null
         ]
        },
        {
         "hoverinfo": "none",
         "line": {
          "color": "rgb(238, 0, 16)",
          "width": 3.838443396226415
         },
         "mode": "lines",
         "type": "scatter3d",
         "x": [
          0.24968210961986737,
          0.25781086115443563,
          null
         ],
         "y": [
          0.5177765316149469,
          0.40502060699549114,
          null
         ],
         "z": [
          0.9042871946404727,
          0.4495342770916474,
          null
         ]
        },
        {
         "hoverinfo": "none",
         "line": {
          "color": "rgb(239, 0, 15)",
          "width": 3.1025943396226414
         },
         "mode": "lines",
         "type": "scatter3d",
         "x": [
          0.24968210961986737,
          0.6810946351389718,
          null
         ],
         "y": [
          0.5177765316149469,
          0.039642204176439155,
          null
         ],
         "z": [
          0.9042871946404727,
          0.2593590931114531,
          null
         ]
        },
        {
         "hoverinfo": "none",
         "line": {
          "color": "rgb(248, 0, 6)",
          "width": 3.1875
         },
         "mode": "lines",
         "type": "scatter3d",
         "x": [
          0.24968210961986737,
          0.6897091935465549,
          null
         ],
         "y": [
          0.5177765316149469,
          0.7282678524535802,
          null
         ],
         "z": [
          0.9042871946404727,
          0.8097320726557011,
          null
         ]
        },
        {
         "hoverinfo": "none",
         "line": {
          "color": "rgb(223, 0, 31)",
          "width": 3.4457547169811322
         },
         "mode": "lines",
         "type": "scatter3d",
         "x": [
          0.24968210961986737,
          0.4348965708925725,
          null
         ],
         "y": [
          0.5177765316149469,
          0.6871470243772101,
          null
         ],
         "z": [
          0.9042871946404727,
          0.8702755527886045,
          null
         ]
        },
        {
         "hoverinfo": "none",
         "line": {
          "color": "rgb(233, 0, 21)",
          "width": 3.141509433962264
         },
         "mode": "lines",
         "type": "scatter3d",
         "x": [
          0.24968210961986737,
          0.8786142385423413,
          null
         ],
         "y": [
          0.5177765316149469,
          0.04689605003632835,
          null
         ],
         "z": [
          0.9042871946404727,
          0.8597912878636778,
          null
         ]
        },
        {
         "hoverinfo": "none",
         "line": {
          "color": "rgb(210, 0, 45)",
          "width": 3.2158018867924527
         },
         "mode": "lines",
         "type": "scatter3d",
         "x": [
          0.24968210961986737,
          0.23695573363998956,
          null
         ],
         "y": [
          0.5177765316149469,
          0.7592729412598814,
          null
         ],
         "z": [
          0.9042871946404727,
          0.8927404284216092,
          null
         ]
        },
        {
         "hoverinfo": "none",
         "line": {
          "color": "rgb(217, 0, 37)",
          "width": 3.152122641509434
         },
         "mode": "lines",
         "type": "scatter3d",
         "x": [
          0.24968210961986737,
          0.14223414091899655,
          null
         ],
         "y": [
          0.5177765316149469,
          0.12395302638169958,
          null
         ],
         "z": [
          0.9042871946404727,
          0.6565769163574142,
          null
         ]
        },
        {
         "hoverinfo": "none",
         "line": {
          "color": "rgb(212, 0, 42)",
          "width": 3.0955188679245285
         },
         "mode": "lines",
         "type": "scatter3d",
         "x": [
          0.24968210961986737,
          0.4450453567440472,
          null
         ],
         "y": [
          0.5177765316149469,
          0.8914027548364141,
          null
         ],
         "z": [
          0.9042871946404727,
          0.5235765198984705,
          null
         ]
        },
        {
         "hoverinfo": "none",
         "line": {
          "color": "rgb(160, 0, 94)",
          "width": 3.1662735849056602
         },
         "mode": "lines",
         "type": "scatter3d",
         "x": [
          0.24968210961986737,
          0.33479276255754076,
          null
         ],
         "y": [
          0.5177765316149469,
          0.7326971178584895,
          null
         ],
         "z": [
          0.9042871946404727,
          0.3900081144859531,
          null
         ]
        },
        {
         "hoverinfo": "none",
         "line": {
          "color": "rgb(215, 0, 39)",
          "width": 3.2193396226415096
         },
         "mode": "lines",
         "type": "scatter3d",
         "x": [
          0.24968210961986737,
          0.11323545304253335,
          null
         ],
         "y": [
          0.5177765316149469,
          0.47217911472176666,
          null
         ],
         "z": [
          0.9042871946404727,
          0.5587959905127201,
          null
         ]
        },
        {
         "hoverinfo": "none",
         "line": {
          "color": "rgb(228, 0, 26)",
          "width": 3.1025943396226414
         },
         "mode": "lines",
         "type": "scatter3d",
         "x": [
          0.24968210961986737,
          0.3655115350989856,
          null
         ],
         "y": [
          0.5177765316149469,
          0.4028884444792149,
          null
         ],
         "z": [
          0.9042871946404727,
          0.4806267276048667,
          null
         ]
        },
        {
         "hoverinfo": "none",
         "line": {
          "color": "rgb(255, 0, 0)",
          "width": 3.0389150943396226
         },
         "mode": "lines",
         "type": "scatter3d",
         "x": [
          0.24968210961986737,
          0.4859486407204229,
          null
         ],
         "y": [
          0.5177765316149469,
          0.6788284864687022,
          null
         ],
         "z": [
          0.9042871946404727,
          0.902936943033732,
          null
         ]
        },
        {
         "hoverinfo": "none",
         "line": {
          "color": "rgb(204, 0, 51)",
          "width": 3.042452830188679
         },
         "mode": "lines",
         "type": "scatter3d",
         "x": [
          0.24968210961986737,
          0.6075247522038943,
          null
         ],
         "y": [
          0.5177765316149469,
          0.9029109163518165,
          null
         ],
         "z": [
          0.9042871946404727,
          0.17347116553965358,
          null
         ]
        },
        {
         "hoverinfo": "none",
         "line": {
          "color": "rgb(255, 0, 0)",
          "width": 3.01061320754717
         },
         "mode": "lines",
         "type": "scatter3d",
         "x": [
          0.24968210961986737,
          0.837073768912754,
          null
         ],
         "y": [
          0.5177765316149469,
          0.3622228018579693,
          null
         ],
         "z": [
          0.9042871946404727,
          0.8702597155245111,
          null
         ]
        },
        {
         "hoverinfo": "none",
         "line": {
          "color": "rgb(218, 0, 36)",
          "width": 3.0389150943396226
         },
         "mode": "lines",
         "type": "scatter3d",
         "x": [
          0.24968210961986737,
          0.7061681308720446,
          null
         ],
         "y": [
          0.5177765316149469,
          0.6216850496137061,
          null
         ],
         "z": [
          0.9042871946404727,
          0.8666415784847047,
          null
         ]
        },
        {
         "hoverinfo": "none",
         "line": {
          "color": "rgb(255, 0, 0)",
          "width": 3.0070754716981134
         },
         "mode": "lines",
         "type": "scatter3d",
         "x": [
          0.24968210961986737,
          0.85338356930687,
          null
         ],
         "y": [
          0.5177765316149469,
          0.6249644555160049,
          null
         ],
         "z": [
          0.9042871946404727,
          0.7450583706862679,
          null
         ]
        },
        {
         "hoverinfo": "none",
         "line": {
          "color": "rgb(255, 0, 0)",
          "width": 3.0070754716981134
         },
         "mode": "lines",
         "type": "scatter3d",
         "x": [
          0.24968210961986737,
          0.8291380248341068,
          null
         ],
         "y": [
          0.5177765316149469,
          0.9364453871995326,
          null
         ],
         "z": [
          0.9042871946404727,
          0.5810762895460602,
          null
         ]
        },
        {
         "hoverinfo": "none",
         "line": {
          "color": "rgb(153, 0, 102)",
          "width": 3.205188679245283
         },
         "mode": "lines",
         "type": "scatter3d",
         "x": [
          0.4859486407204229,
          0.4450453567440472,
          null
         ],
         "y": [
          0.6788284864687022,
          0.8914027548364141,
          null
         ],
         "z": [
          0.902936943033732,
          0.5235765198984705,
          null
         ]
        },
        {
         "hoverinfo": "none",
         "line": {
          "color": "rgb(127, 0, 127)",
          "width": 3.3007075471698113
         },
         "mode": "lines",
         "type": "scatter3d",
         "x": [
          0.4859486407204229,
          0.0683534849703622,
          null
         ],
         "y": [
          0.6788284864687022,
          0.6238850035482401,
          null
         ],
         "z": [
          0.902936943033732,
          0.0706374889854191,
          null
         ]
        },
        {
         "hoverinfo": "none",
         "line": {
          "color": "rgb(201, 0, 53)",
          "width": 3.297169811320755
         },
         "mode": "lines",
         "type": "scatter3d",
         "x": [
          0.4859486407204229,
          0.7042427459213977,
          null
         ],
         "y": [
          0.6788284864687022,
          0.5640636065755076,
          null
         ],
         "z": [
          0.902936943033732,
          0.9627513593260234,
          null
         ]
        },
        {
         "hoverinfo": "none",
         "line": {
          "color": "rgb(153, 0, 102)",
          "width": 3.1273584905660377
         },
         "mode": "lines",
         "type": "scatter3d",
         "x": [
          0.4859486407204229,
          0.23695573363998956,
          null
         ],
         "y": [
          0.6788284864687022,
          0.7592729412598814,
          null
         ],
         "z": [
          0.902936943033732,
          0.8927404284216092,
          null
         ]
        },
        {
         "hoverinfo": "none",
         "line": {
          "color": "rgb(198, 0, 56)",
          "width": 3.19811320754717
         },
         "mode": "lines",
         "type": "scatter3d",
         "x": [
          0.4859486407204229,
          0.6897091935465549,
          null
         ],
         "y": [
          0.6788284864687022,
          0.7282678524535802,
          null
         ],
         "z": [
          0.902936943033732,
          0.8097320726557011,
          null
         ]
        },
        {
         "hoverinfo": "none",
         "line": {
          "color": "rgb(199, 0, 55)",
          "width": 3.4068396226415096
         },
         "mode": "lines",
         "type": "scatter3d",
         "x": [
          0.4859486407204229,
          0.25781086115443563,
          null
         ],
         "y": [
          0.6788284864687022,
          0.40502060699549114,
          null
         ],
         "z": [
          0.902936943033732,
          0.4495342770916474,
          null
         ]
        },
        {
         "hoverinfo": "none",
         "line": {
          "color": "rgb(173, 0, 81)",
          "width": 3.286556603773585
         },
         "mode": "lines",
         "type": "scatter3d",
         "x": [
          0.4859486407204229,
          0.33479276255754076,
          null
         ],
         "y": [
          0.6788284864687022,
          0.7326971178584895,
          null
         ],
         "z": [
          0.902936943033732,
          0.3900081144859531,
          null
         ]
        },
        {
         "hoverinfo": "none",
         "line": {
          "color": "rgb(127, 0, 127)",
          "width": 3.134433962264151
         },
         "mode": "lines",
         "type": "scatter3d",
         "x": [
          0.4859486407204229,
          0.3655115350989856,
          null
         ],
         "y": [
          0.6788284864687022,
          0.4028884444792149,
          null
         ],
         "z": [
          0.902936943033732,
          0.4806267276048667,
          null
         ]
        },
        {
         "hoverinfo": "none",
         "line": {
          "color": "rgb(153, 0, 102)",
          "width": 3.0318396226415096
         },
         "mode": "lines",
         "type": "scatter3d",
         "x": [
          0.4859486407204229,
          0.85338356930687,
          null
         ],
         "y": [
          0.6788284864687022,
          0.6249644555160049,
          null
         ],
         "z": [
          0.902936943033732,
          0.7450583706862679,
          null
         ]
        },
        {
         "hoverinfo": "none",
         "line": {
          "color": "rgb(133, 0, 121)",
          "width": 3.1485849056603774
         },
         "mode": "lines",
         "type": "scatter3d",
         "x": [
          0.4859486407204229,
          0.6810946351389718,
          null
         ],
         "y": [
          0.6788284864687022,
          0.039642204176439155,
          null
         ],
         "z": [
          0.902936943033732,
          0.2593590931114531,
          null
         ]
        },
        {
         "hoverinfo": "none",
         "line": {
          "color": "rgb(196, 0, 58)",
          "width": 3.4775943396226414
         },
         "mode": "lines",
         "type": "scatter3d",
         "x": [
          0.4859486407204229,
          0.14223414091899655,
          null
         ],
         "y": [
          0.6788284864687022,
          0.12395302638169958,
          null
         ],
         "z": [
          0.902936943033732,
          0.6565769163574142,
          null
         ]
        },
        {
         "hoverinfo": "none",
         "line": {
          "color": "rgb(135, 0, 120)",
          "width": 3.1591981132075473
         },
         "mode": "lines",
         "type": "scatter3d",
         "x": [
          0.4859486407204229,
          0.11323545304253335,
          null
         ],
         "y": [
          0.6788284864687022,
          0.47217911472176666,
          null
         ],
         "z": [
          0.902936943033732,
          0.5587959905127201,
          null
         ]
        },
        {
         "hoverinfo": "none",
         "line": {
          "color": "rgb(143, 0, 111)",
          "width": 3.1556603773584904
         },
         "mode": "lines",
         "type": "scatter3d",
         "x": [
          0.4859486407204229,
          0.8786142385423413,
          null
         ],
         "y": [
          0.6788284864687022,
          0.04689605003632835,
          null
         ],
         "z": [
          0.902936943033732,
          0.8597912878636778,
          null
         ]
        },
        {
         "hoverinfo": "none",
         "line": {
          "color": "rgb(198, 0, 56)",
          "width": 3.106132075471698
         },
         "mode": "lines",
         "type": "scatter3d",
         "x": [
          0.4859486407204229,
          0.6075247522038943,
          null
         ],
         "y": [
          0.6788284864687022,
          0.9029109163518165,
          null
         ],
         "z": [
          0.902936943033732,
          0.17347116553965358,
          null
         ]
        },
        {
         "hoverinfo": "none",
         "line": {
          "color": "rgb(182, 0, 72)",
          "width": 3.141509433962264
         },
         "mode": "lines",
         "type": "scatter3d",
         "x": [
          0.4859486407204229,
          0.09571227726952747,
          null
         ],
         "y": [
          0.6788284864687022,
          0.8180623447926566,
          null
         ],
         "z": [
          0.902936943033732,
          0.10753270747674437,
          null
         ]
        },
        {
         "hoverinfo": "none",
         "line": {
          "color": "rgb(179, 0, 75)",
          "width": 3.099056603773585
         },
         "mode": "lines",
         "type": "scatter3d",
         "x": [
          0.4859486407204229,
          0.4348965708925725,
          null
         ],
         "y": [
          0.6788284864687022,
          0.6871470243772101,
          null
         ],
         "z": [
          0.902936943033732,
          0.8702755527886045,
          null
         ]
        },
        {
         "hoverinfo": "none",
         "line": {
          "color": "rgb(226, 0, 28)",
          "width": 3.1167452830188678
         },
         "mode": "lines",
         "type": "scatter3d",
         "x": [
          0.4859486407204229,
          0.0658836711597871,
          null
         ],
         "y": [
          0.6788284864687022,
          0.740337688156904,
          null
         ],
         "z": [
          0.902936943033732,
          0.754578690415864,
          null
         ]
        },
        {
         "hoverinfo": "none",
         "line": {
          "color": "rgb(85, 0, 170)",
          "width": 3.035377358490566
         },
         "mode": "lines",
         "type": "scatter3d",
         "x": [
          0.4859486407204229,
          0.24265185566836778,
          null
         ],
         "y": [
          0.6788284864687022,
          0.7438435596650464,
          null
         ],
         "z": [
          0.902936943033732,
          0.21831542776222113,
          null
         ]
        },
        {
         "hoverinfo": "none",
         "line": {
          "color": "rgb(159, 0, 95)",
          "width": 3.1273584905660377
         },
         "mode": "lines",
         "type": "scatter3d",
         "x": [
          0.4859486407204229,
          0.8372587617835248,
          null
         ],
         "y": [
          0.6788284864687022,
          0.7343439957654516,
          null
         ],
         "z": [
          0.902936943033732,
          0.029429204270443043,
          null
         ]
        },
        {
         "hoverinfo": "none",
         "line": {
          "color": "rgb(255, 0, 0)",
          "width": 3.0389150943396226
         },
         "mode": "lines",
         "type": "scatter3d",
         "x": [
          0.4859486407204229,
          0.7061681308720446,
          null
         ],
         "y": [
          0.6788284864687022,
          0.6216850496137061,
          null
         ],
         "z": [
          0.902936943033732,
          0.8666415784847047,
          null
         ]
        },
        {
         "hoverinfo": "none",
         "line": {
          "color": "rgb(85, 0, 170)",
          "width": 3.0389150943396226
         },
         "mode": "lines",
         "type": "scatter3d",
         "x": [
          0.4859486407204229,
          0.8291380248341068,
          null
         ],
         "y": [
          0.6788284864687022,
          0.9364453871995326,
          null
         ],
         "z": [
          0.902936943033732,
          0.5810762895460602,
          null
         ]
        },
        {
         "hoverinfo": "none",
         "line": {
          "color": "rgb(127, 0, 127)",
          "width": 3.01061320754717
         },
         "mode": "lines",
         "type": "scatter3d",
         "x": [
          0.4859486407204229,
          0.7338995273436147,
          null
         ],
         "y": [
          0.6788284864687022,
          0.739822825999556,
          null
         ],
         "z": [
          0.902936943033732,
          0.05207323179406431,
          null
         ]
        },
        {
         "hoverinfo": "none",
         "line": {
          "color": "rgb(255, 0, 0)",
          "width": 3.0070754716981134
         },
         "mode": "lines",
         "type": "scatter3d",
         "x": [
          0.4859486407204229,
          0.837073768912754,
          null
         ],
         "y": [
          0.6788284864687022,
          0.3622228018579693,
          null
         ],
         "z": [
          0.902936943033732,
          0.8702597155245111,
          null
         ]
        },
        {
         "hoverinfo": "none",
         "line": {
          "color": "rgb(127, 0, 127)",
          "width": 3.2794811320754715
         },
         "mode": "lines",
         "type": "scatter3d",
         "x": [
          0.0683534849703622,
          0.7061681308720446,
          null
         ],
         "y": [
          0.6238850035482401,
          0.6216850496137061,
          null
         ],
         "z": [
          0.0706374889854191,
          0.8666415784847047,
          null
         ]
        },
        {
         "hoverinfo": "none",
         "line": {
          "color": "rgb(189, 0, 65)",
          "width": 4.705188679245283
         },
         "mode": "lines",
         "type": "scatter3d",
         "x": [
          0.0683534849703622,
          0.25781086115443563,
          null
         ],
         "y": [
          0.6238850035482401,
          0.40502060699549114,
          null
         ],
         "z": [
          0.0706374889854191,
          0.4495342770916474,
          null
         ]
        },
        {
         "hoverinfo": "none",
         "line": {
          "color": "rgb(191, 0, 63)",
          "width": 3.19811320754717
         },
         "mode": "lines",
         "type": "scatter3d",
         "x": [
          0.0683534849703622,
          0.6075247522038943,
          null
         ],
         "y": [
          0.6238850035482401,
          0.9029109163518165,
          null
         ],
         "z": [
          0.0706374889854191,
          0.17347116553965358,
          null
         ]
        },
        {
         "hoverinfo": "none",
         "line": {
          "color": "rgb(153, 0, 101)",
          "width": 3.76061320754717
         },
         "mode": "lines",
         "type": "scatter3d",
         "x": [
          0.0683534849703622,
          0.0658836711597871,
          null
         ],
         "y": [
          0.6238850035482401,
          0.740337688156904,
          null
         ],
         "z": [
          0.0706374889854191,
          0.754578690415864,
          null
         ]
        },
        {
         "hoverinfo": "none",
         "line": {
          "color": "rgb(197, 0, 57)",
          "width": 3.297169811320755
         },
         "mode": "lines",
         "type": "scatter3d",
         "x": [
          0.0683534849703622,
          0.85338356930687,
          null
         ],
         "y": [
          0.6238850035482401,
          0.6249644555160049,
          null
         ],
         "z": [
          0.0706374889854191,
          0.7450583706862679,
          null
         ]
        },
        {
         "hoverinfo": "none",
         "line": {
          "color": "rgb(172, 0, 82)",
          "width": 5.632075471698114
         },
         "mode": "lines",
         "type": "scatter3d",
         "x": [
          0.0683534849703622,
          0.6810946351389718,
          null
         ],
         "y": [
          0.6238850035482401,
          0.039642204176439155,
          null
         ],
         "z": [
          0.0706374889854191,
          0.2593590931114531,
          null
         ]
        },
        {
         "hoverinfo": "none",
         "line": {
          "color": "rgb(165, 0, 89)",
          "width": 3.5377358490566038
         },
         "mode": "lines",
         "type": "scatter3d",
         "x": [
          0.0683534849703622,
          0.7042427459213977,
          null
         ],
         "y": [
          0.6238850035482401,
          0.5640636065755076,
          null
         ],
         "z": [
          0.0706374889854191,
          0.9627513593260234,
          null
         ]
        },
        {
         "hoverinfo": "none",
         "line": {
          "color": "rgb(178, 0, 76)",
          "width": 5.023584905660377
         },
         "mode": "lines",
         "type": "scatter3d",
         "x": [
          0.0683534849703622,
          0.33479276255754076,
          null
         ],
         "y": [
          0.6238850035482401,
          0.7326971178584895,
          null
         ],
         "z": [
          0.0706374889854191,
          0.3900081144859531,
          null
         ]
        },
        {
         "hoverinfo": "none",
         "line": {
          "color": "rgb(157, 0, 97)",
          "width": 6.099056603773585
         },
         "mode": "lines",
         "type": "scatter3d",
         "x": [
          0.0683534849703622,
          0.14223414091899655,
          null
         ],
         "y": [
          0.6238850035482401,
          0.12395302638169958,
          null
         ],
         "z": [
          0.0706374889854191,
          0.6565769163574142,
          null
         ]
        },
        {
         "hoverinfo": "none",
         "line": {
          "color": "rgb(154, 0, 100)",
          "width": 4.036556603773585
         },
         "mode": "lines",
         "type": "scatter3d",
         "x": [
          0.0683534849703622,
          0.23695573363998956,
          null
         ],
         "y": [
          0.6238850035482401,
          0.7592729412598814,
          null
         ],
         "z": [
          0.0706374889854191,
          0.8927404284216092,
          null
         ]
        },
        {
         "hoverinfo": "none",
         "line": {
          "color": "rgb(183, 0, 71)",
          "width": 4.47877358490566
         },
         "mode": "lines",
         "type": "scatter3d",
         "x": [
          0.0683534849703622,
          0.4348965708925725,
          null
         ],
         "y": [
          0.6238850035482401,
          0.6871470243772101,
          null
         ],
         "z": [
          0.0706374889854191,
          0.8702755527886045,
          null
         ]
        },
        {
         "hoverinfo": "none",
         "line": {
          "color": "rgb(153, 0, 101)",
          "width": 6.495283018867925
         },
         "mode": "lines",
         "type": "scatter3d",
         "x": [
          0.0683534849703622,
          0.4450453567440472,
          null
         ],
         "y": [
          0.6238850035482401,
          0.8914027548364141,
          null
         ],
         "z": [
          0.0706374889854191,
          0.5235765198984705,
          null
         ]
        },
        {
         "hoverinfo": "none",
         "line": {
          "color": "rgb(167, 0, 87)",
          "width": 3.5660377358490565
         },
         "mode": "lines",
         "type": "scatter3d",
         "x": [
          0.0683534849703622,
          0.8372587617835248,
          null
         ],
         "y": [
          0.6238850035482401,
          0.7343439957654516,
          null
         ],
         "z": [
          0.0706374889854191,
          0.029429204270443043,
          null
         ]
        },
        {
         "hoverinfo": "none",
         "line": {
          "color": "rgb(152, 0, 102)",
          "width": 3.8808962264150946
         },
         "mode": "lines",
         "type": "scatter3d",
         "x": [
          0.0683534849703622,
          0.8786142385423413,
          null
         ],
         "y": [
          0.6238850035482401,
          0.04689605003632835,
          null
         ],
         "z": [
          0.0706374889854191,
          0.8597912878636778,
          null
         ]
        },
        {
         "hoverinfo": "none",
         "line": {
          "color": "rgb(191, 0, 63)",
          "width": 3.1379716981132075
         },
         "mode": "lines",
         "type": "scatter3d",
         "x": [
          0.0683534849703622,
          0.24265185566836778,
          null
         ],
         "y": [
          0.6238850035482401,
          0.7438435596650464,
          null
         ],
         "z": [
          0.0706374889854191,
          0.21831542776222113,
          null
         ]
        },
        {
         "hoverinfo": "none",
         "line": {
          "color": "rgb(145, 0, 109)",
          "width": 4.411556603773585
         },
         "mode": "lines",
         "type": "scatter3d",
         "x": [
          0.0683534849703622,
          0.11323545304253335,
          null
         ],
         "y": [
          0.6238850035482401,
          0.47217911472176666,
          null
         ],
         "z": [
          0.0706374889854191,
          0.5587959905127201,
          null
         ]
        },
        {
         "hoverinfo": "none",
         "line": {
          "color": "rgb(164, 0, 90)",
          "width": 3.5872641509433962
         },
         "mode": "lines",
         "type": "scatter3d",
         "x": [
          0.0683534849703622,
          0.09571227726952747,
          null
         ],
         "y": [
          0.6238850035482401,
          0.8180623447926566,
          null
         ],
         "z": [
          0.0706374889854191,
          0.10753270747674437,
          null
         ]
        },
        {
         "hoverinfo": "none",
         "line": {
          "color": "rgb(156, 0, 98)",
          "width": 3.6474056603773586
         },
         "mode": "lines",
         "type": "scatter3d",
         "x": [
          0.0683534849703622,
          0.6897091935465549,
          null
         ],
         "y": [
          0.6238850035482401,
          0.7282678524535802,
          null
         ],
         "z": [
          0.0706374889854191,
          0.8097320726557011,
          null
         ]
        },
        {
         "hoverinfo": "none",
         "line": {
          "color": "rgb(177, 0, 77)",
          "width": 4.29127358490566
         },
         "mode": "lines",
         "type": "scatter3d",
         "x": [
          0.0683534849703622,
          0.3655115350989856,
          null
         ],
         "y": [
          0.6238850035482401,
          0.4028884444792149,
          null
         ],
         "z": [
          0.0706374889854191,
          0.4806267276048667,
          null
         ]
        },
        {
         "hoverinfo": "none",
         "line": {
          "color": "rgb(150, 0, 104)",
          "width": 3.109669811320755
         },
         "mode": "lines",
         "type": "scatter3d",
         "x": [
          0.0683534849703622,
          0.837073768912754,
          null
         ],
         "y": [
          0.6238850035482401,
          0.3622228018579693,
          null
         ],
         "z": [
          0.0706374889854191,
          0.8702597155245111,
          null
         ]
        },
        {
         "hoverinfo": "none",
         "line": {
          "color": "rgb(105, 0, 150)",
          "width": 3.1379716981132075
         },
         "mode": "lines",
         "type": "scatter3d",
         "x": [
          0.0683534849703622,
          0.7338995273436147,
          null
         ],
         "y": [
          0.6238850035482401,
          0.739822825999556,
          null
         ],
         "z": [
          0.0706374889854191,
          0.05207323179406431,
          null
         ]
        },
        {
         "hoverinfo": "none",
         "line": {
          "color": "rgb(170, 0, 85)",
          "width": 3.0707547169811322
         },
         "mode": "lines",
         "type": "scatter3d",
         "x": [
          0.0683534849703622,
          0.8291380248341068,
          null
         ],
         "y": [
          0.6238850035482401,
          0.9364453871995326,
          null
         ],
         "z": [
          0.0706374889854191,
          0.5810762895460602,
          null
         ]
        },
        {
         "hoverinfo": "none",
         "line": {
          "color": "rgb(161, 0, 93)",
          "width": 3.55188679245283
         },
         "mode": "lines",
         "type": "scatter3d",
         "x": [
          0.8372587617835248,
          0.4450453567440472,
          null
         ],
         "y": [
          0.7343439957654516,
          0.8914027548364141,
          null
         ],
         "z": [
          0.029429204270443043,
          0.5235765198984705,
          null
         ]
        },
        {
         "hoverinfo": "none",
         "line": {
          "color": "rgb(169, 0, 85)",
          "width": 3.597877358490566
         },
         "mode": "lines",
         "type": "scatter3d",
         "x": [
          0.8372587617835248,
          0.0658836711597871,
          null
         ],
         "y": [
          0.7343439957654516,
          0.740337688156904,
          null
         ],
         "z": [
          0.029429204270443043,
          0.754578690415864,
          null
         ]
        },
        {
         "hoverinfo": "none",
         "line": {
          "color": "rgb(226, 0, 28)",
          "width": 3.1910377358490565
         },
         "mode": "lines",
         "type": "scatter3d",
         "x": [
          0.8372587617835248,
          0.7061681308720446,
          null
         ],
         "y": [
          0.7343439957654516,
          0.6216850496137061,
          null
         ],
         "z": [
          0.029429204270443043,
          0.8666415784847047,
          null
         ]
        },
        {
         "hoverinfo": "none",
         "line": {
          "color": "rgb(196, 0, 58)",
          "width": 3.392688679245283
         },
         "mode": "lines",
         "type": "scatter3d",
         "x": [
          0.8372587617835248,
          0.6810946351389718,
          null
         ],
         "y": [
          0.7343439957654516,
          0.039642204176439155,
          null
         ],
         "z": [
          0.029429204270443043,
          0.2593590931114531,
          null
         ]
        },
        {
         "hoverinfo": "none",
         "line": {
          "color": "rgb(208, 0, 46)",
          "width": 3.4669811320754715
         },
         "mode": "lines",
         "type": "scatter3d",
         "x": [
          0.8372587617835248,
          0.7042427459213977,
          null
         ],
         "y": [
          0.7343439957654516,
          0.5640636065755076,
          null
         ],
         "z": [
          0.029429204270443043,
          0.9627513593260234,
          null
         ]
        },
        {
         "hoverinfo": "none",
         "line": {
          "color": "rgb(199, 0, 55)",
          "width": 4.6379716981132075
         },
         "mode": "lines",
         "type": "scatter3d",
         "x": [
          0.8372587617835248,
          0.25781086115443563,
          null
         ],
         "y": [
          0.7343439957654516,
          0.40502060699549114,
          null
         ],
         "z": [
          0.029429204270443043,
          0.4495342770916474,
          null
         ]
        },
        {
         "hoverinfo": "none",
         "line": {
          "color": "rgb(182, 0, 72)",
          "width": 3.3502358490566038
         },
         "mode": "lines",
         "type": "scatter3d",
         "x": [
          0.8372587617835248,
          0.09571227726952747,
          null
         ],
         "y": [
          0.7343439957654516,
          0.8180623447926566,
          null
         ],
         "z": [
          0.029429204270443043,
          0.10753270747674437,
          null
         ]
        },
        {
         "hoverinfo": "none",
         "line": {
          "color": "rgb(177, 0, 77)",
          "width": 3.704009433962264
         },
         "mode": "lines",
         "type": "scatter3d",
         "x": [
          0.8372587617835248,
          0.23695573363998956,
          null
         ],
         "y": [
          0.7343439957654516,
          0.7592729412598814,
          null
         ],
         "z": [
          0.029429204270443043,
          0.8927404284216092,
          null
         ]
        },
        {
         "hoverinfo": "none",
         "line": {
          "color": "rgb(179, 0, 75)",
          "width": 3.555424528301887
         },
         "mode": "lines",
         "type": "scatter3d",
         "x": [
          0.8372587617835248,
          0.6897091935465549,
          null
         ],
         "y": [
          0.7343439957654516,
          0.7282678524535802,
          null
         ],
         "z": [
          0.029429204270443043,
          0.8097320726557011,
          null
         ]
        },
        {
         "hoverinfo": "none",
         "line": {
          "color": "rgb(165, 0, 89)",
          "width": 4.553066037735849
         },
         "mode": "lines",
         "type": "scatter3d",
         "x": [
          0.8372587617835248,
          0.11323545304253335,
          null
         ],
         "y": [
          0.7343439957654516,
          0.47217911472176666,
          null
         ],
         "z": [
          0.029429204270443043,
          0.5587959905127201,
          null
         ]
        },
        {
         "hoverinfo": "none",
         "line": {
          "color": "rgb(167, 0, 87)",
          "width": 3.3502358490566038
         },
         "mode": "lines",
         "type": "scatter3d",
         "x": [
          0.8372587617835248,
          0.33479276255754076,
          null
         ],
         "y": [
          0.7343439957654516,
          0.7326971178584895,
          null
         ],
         "z": [
          0.029429204270443043,
          0.3900081144859531,
          null
         ]
        },
        {
         "hoverinfo": "none",
         "line": {
          "color": "rgb(177, 0, 77)",
          "width": 3.891509433962264
         },
         "mode": "lines",
         "type": "scatter3d",
         "x": [
          0.8372587617835248,
          0.8786142385423413,
          null
         ],
         "y": [
          0.7343439957654516,
          0.04689605003632835,
          null
         ],
         "z": [
          0.029429204270443043,
          0.8597912878636778,
          null
         ]
        },
        {
         "hoverinfo": "none",
         "line": {
          "color": "rgb(172, 0, 82)",
          "width": 3.8455188679245285
         },
         "mode": "lines",
         "type": "scatter3d",
         "x": [
          0.8372587617835248,
          0.14223414091899655,
          null
         ],
         "y": [
          0.7343439957654516,
          0.12395302638169958,
          null
         ],
         "z": [
          0.029429204270443043,
          0.6565769163574142,
          null
         ]
        },
        {
         "hoverinfo": "none",
         "line": {
          "color": "rgb(190, 0, 64)",
          "width": 3.4245283018867925
         },
         "mode": "lines",
         "type": "scatter3d",
         "x": [
          0.8372587617835248,
          0.4348965708925725,
          null
         ],
         "y": [
          0.7343439957654516,
          0.6871470243772101,
          null
         ],
         "z": [
          0.029429204270443043,
          0.8702755527886045,
          null
         ]
        },
        {
         "hoverinfo": "none",
         "line": {
          "color": "rgb(172, 0, 82)",
          "width": 3.4705188679245285
         },
         "mode": "lines",
         "type": "scatter3d",
         "x": [
          0.8372587617835248,
          0.3655115350989856,
          null
         ],
         "y": [
          0.7343439957654516,
          0.4028884444792149,
          null
         ],
         "z": [
          0.029429204270443043,
          0.4806267276048667,
          null
         ]
        },
        {
         "hoverinfo": "none",
         "line": {
          "color": "rgb(179, 0, 75)",
          "width": 3.077830188679245
         },
         "mode": "lines",
         "type": "scatter3d",
         "x": [
          0.8372587617835248,
          0.8291380248341068,
          null
         ],
         "y": [
          0.7343439957654516,
          0.9364453871995326,
          null
         ],
         "z": [
          0.029429204270443043,
          0.5810762895460602,
          null
         ]
        },
        {
         "hoverinfo": "none",
         "line": {
          "color": "rgb(218, 0, 36)",
          "width": 3.109669811320755
         },
         "mode": "lines",
         "type": "scatter3d",
         "x": [
          0.8372587617835248,
          0.6075247522038943,
          null
         ],
         "y": [
          0.7343439957654516,
          0.9029109163518165,
          null
         ],
         "z": [
          0.029429204270443043,
          0.17347116553965358,
          null
         ]
        },
        {
         "hoverinfo": "none",
         "line": {
          "color": "rgb(95, 0, 159)",
          "width": 3.0389150943396226
         },
         "mode": "lines",
         "type": "scatter3d",
         "x": [
          0.8372587617835248,
          0.837073768912754,
          null
         ],
         "y": [
          0.7343439957654516,
          0.3622228018579693,
          null
         ],
         "z": [
          0.029429204270443043,
          0.8702597155245111,
          null
         ]
        },
        {
         "hoverinfo": "none",
         "line": {
          "color": "rgb(226, 0, 28)",
          "width": 3.063679245283019
         },
         "mode": "lines",
         "type": "scatter3d",
         "x": [
          0.8372587617835248,
          0.85338356930687,
          null
         ],
         "y": [
          0.7343439957654516,
          0.6249644555160049,
          null
         ],
         "z": [
          0.029429204270443043,
          0.7450583706862679,
          null
         ]
        },
        {
         "hoverinfo": "none",
         "line": {
          "color": "rgb(198, 0, 56)",
          "width": 3.081367924528302
         },
         "mode": "lines",
         "type": "scatter3d",
         "x": [
          0.8372587617835248,
          0.24265185566836778,
          null
         ],
         "y": [
          0.7343439957654516,
          0.7438435596650464,
          null
         ],
         "z": [
          0.029429204270443043,
          0.21831542776222113,
          null
         ]
        },
        {
         "hoverinfo": "none",
         "line": {
          "color": "rgb(191, 0, 63)",
          "width": 3.035377358490566
         },
         "mode": "lines",
         "type": "scatter3d",
         "x": [
          0.8372587617835248,
          0.7338995273436147,
          null
         ],
         "y": [
          0.7343439957654516,
          0.739822825999556,
          null
         ],
         "z": [
          0.029429204270443043,
          0.05207323179406431,
          null
         ]
        },
        {
         "hoverinfo": "none",
         "line": {
          "color": "rgb(145, 0, 109)",
          "width": 4.241745283018868
         },
         "mode": "lines",
         "type": "scatter3d",
         "x": [
          0.11323545304253335,
          0.0658836711597871,
          null
         ],
         "y": [
          0.47217911472176666,
          0.740337688156904,
          null
         ],
         "z": [
          0.5587959905127201,
          0.754578690415864,
          null
         ]
        },
        {
         "hoverinfo": "none",
         "line": {
          "color": "rgb(170, 0, 85)",
          "width": 3.2158018867924527
         },
         "mode": "lines",
         "type": "scatter3d",
         "x": [
          0.11323545304253335,
          0.7061681308720446,
          null
         ],
         "y": [
          0.47217911472176666,
          0.6216850496137061,
          null
         ],
         "z": [
          0.5587959905127201,
          0.8666415784847047,
          null
         ]
        },
        {
         "hoverinfo": "none",
         "line": {
          "color": "rgb(174, 0, 80)",
          "width": 3.268867924528302
         },
         "mode": "lines",
         "type": "scatter3d",
         "x": [
          0.11323545304253335,
          0.7042427459213977,
          null
         ],
         "y": [
          0.47217911472176666,
          0.5640636065755076,
          null
         ],
         "z": [
          0.5587959905127201,
          0.9627513593260234,
          null
         ]
        },
        {
         "hoverinfo": "none",
         "line": {
          "color": "rgb(160, 0, 94)",
          "width": 4.839622641509434
         },
         "mode": "lines",
         "type": "scatter3d",
         "x": [
          0.11323545304253335,
          0.14223414091899655,
          null
         ],
         "y": [
          0.47217911472176666,
          0.12395302638169958,
          null
         ],
         "z": [
          0.5587959905127201,
          0.6565769163574142,
          null
         ]
        },
        {
         "hoverinfo": "none",
         "line": {
          "color": "rgb(146, 0, 108)",
          "width": 3.6226415094339623
         },
         "mode": "lines",
         "type": "scatter3d",
         "x": [
          0.11323545304253335,
          0.23695573363998956,
          null
         ],
         "y": [
          0.47217911472176666,
          0.7592729412598814,
          null
         ],
         "z": [
          0.5587959905127201,
          0.8927404284216092,
          null
         ]
        },
        {
         "hoverinfo": "none",
         "line": {
          "color": "rgb(148, 0, 106)",
          "width": 3.7712264150943398
         },
         "mode": "lines",
         "type": "scatter3d",
         "x": [
          0.11323545304253335,
          0.09571227726952747,
          null
         ],
         "y": [
          0.47217911472176666,
          0.8180623447926566,
          null
         ],
         "z": [
          0.5587959905127201,
          0.10753270747674437,
          null
         ]
        },
        {
         "hoverinfo": "none",
         "line": {
          "color": "rgb(170, 0, 84)",
          "width": 5.0625
         },
         "mode": "lines",
         "type": "scatter3d",
         "x": [
          0.11323545304253335,
          0.4450453567440472,
          null
         ],
         "y": [
          0.47217911472176666,
          0.8914027548364141,
          null
         ],
         "z": [
          0.5587959905127201,
          0.5235765198984705,
          null
         ]
        },
        {
         "hoverinfo": "none",
         "line": {
          "color": "rgb(145, 0, 109)",
          "width": 3.5943396226415096
         },
         "mode": "lines",
         "type": "scatter3d",
         "x": [
          0.11323545304253335,
          0.33479276255754076,
          null
         ],
         "y": [
          0.47217911472176666,
          0.7326971178584895,
          null
         ],
         "z": [
          0.5587959905127201,
          0.3900081144859531,
          null
         ]
        },
        {
         "hoverinfo": "none",
         "line": {
          "color": "rgb(198, 0, 56)",
          "width": 3.643867924528302
         },
         "mode": "lines",
         "type": "scatter3d",
         "x": [
          0.11323545304253335,
          0.3655115350989856,
          null
         ],
         "y": [
          0.47217911472176666,
          0.4028884444792149,
          null
         ],
         "z": [
          0.5587959905127201,
          0.4806267276048667,
          null
         ]
        },
        {
         "hoverinfo": "none",
         "line": {
          "color": "rgb(164, 0, 90)",
          "width": 3.742924528301887
         },
         "mode": "lines",
         "type": "scatter3d",
         "x": [
          0.11323545304253335,
          0.6810946351389718,
          null
         ],
         "y": [
          0.47217911472176666,
          0.039642204176439155,
          null
         ],
         "z": [
          0.5587959905127201,
          0.2593590931114531,
          null
         ]
        },
        {
         "hoverinfo": "none",
         "line": {
          "color": "rgb(191, 0, 63)",
          "width": 5.716981132075471
         },
         "mode": "lines",
         "type": "scatter3d",
         "x": [
          0.11323545304253335,
          0.25781086115443563,
          null
         ],
         "y": [
          0.47217911472176666,
          0.40502060699549114,
          null
         ],
         "z": [
          0.5587959905127201,
          0.4495342770916474,
          null
         ]
        },
        {
         "hoverinfo": "none",
         "line": {
          "color": "rgb(158, 0, 96)",
          "width": 4.319575471698113
         },
         "mode": "lines",
         "type": "scatter3d",
         "x": [
          0.11323545304253335,
          0.8786142385423413,
          null
         ],
         "y": [
          0.47217911472176666,
          0.04689605003632835,
          null
         ],
         "z": [
          0.5587959905127201,
          0.8597912878636778,
          null
         ]
        },
        {
         "hoverinfo": "none",
         "line": {
          "color": "rgb(177, 0, 77)",
          "width": 3.6580188679245285
         },
         "mode": "lines",
         "type": "scatter3d",
         "x": [
          0.11323545304253335,
          0.6897091935465549,
          null
         ],
         "y": [
          0.47217911472176666,
          0.7282678524535802,
          null
         ],
         "z": [
          0.5587959905127201,
          0.8097320726557011,
          null
         ]
        },
        {
         "hoverinfo": "none",
         "line": {
          "color": "rgb(204, 0, 51)",
          "width": 3.205188679245283
         },
         "mode": "lines",
         "type": "scatter3d",
         "x": [
          0.11323545304253335,
          0.8291380248341068,
          null
         ],
         "y": [
          0.47217911472176666,
          0.9364453871995326,
          null
         ],
         "z": [
          0.5587959905127201,
          0.5810762895460602,
          null
         ]
        },
        {
         "hoverinfo": "none",
         "line": {
          "color": "rgb(189, 0, 65)",
          "width": 3.6332547169811322
         },
         "mode": "lines",
         "type": "scatter3d",
         "x": [
          0.11323545304253335,
          0.4348965708925725,
          null
         ],
         "y": [
          0.47217911472176666,
          0.6871470243772101,
          null
         ],
         "z": [
          0.5587959905127201,
          0.8702755527886045,
          null
         ]
        },
        {
         "hoverinfo": "none",
         "line": {
          "color": "rgb(255, 0, 0)",
          "width": 3.0707547169811322
         },
         "mode": "lines",
         "type": "scatter3d",
         "x": [
          0.11323545304253335,
          0.7338995273436147,
          null
         ],
         "y": [
          0.47217911472176666,
          0.739822825999556,
          null
         ],
         "z": [
          0.5587959905127201,
          0.05207323179406431,
          null
         ]
        },
        {
         "hoverinfo": "none",
         "line": {
          "color": "rgb(182, 0, 72)",
          "width": 3.141509433962264
         },
         "mode": "lines",
         "type": "scatter3d",
         "x": [
          0.11323545304253335,
          0.6075247522038943,
          null
         ],
         "y": [
          0.47217911472176666,
          0.9029109163518165,
          null
         ],
         "z": [
          0.5587959905127201,
          0.17347116553965358,
          null
         ]
        },
        {
         "hoverinfo": "none",
         "line": {
          "color": "rgb(182, 0, 72)",
          "width": 3.056603773584906
         },
         "mode": "lines",
         "type": "scatter3d",
         "x": [
          0.11323545304253335,
          0.837073768912754,
          null
         ],
         "y": [
          0.47217911472176666,
          0.3622228018579693,
          null
         ],
         "z": [
          0.5587959905127201,
          0.8702597155245111,
          null
         ]
        },
        {
         "hoverinfo": "none",
         "line": {
          "color": "rgb(102, 0, 153)",
          "width": 3.0955188679245285
         },
         "mode": "lines",
         "type": "scatter3d",
         "x": [
          0.11323545304253335,
          0.24265185566836778,
          null
         ],
         "y": [
          0.47217911472176666,
          0.7438435596650464,
          null
         ],
         "z": [
          0.5587959905127201,
          0.21831542776222113,
          null
         ]
        },
        {
         "hoverinfo": "none",
         "line": {
          "color": "rgb(212, 0, 42)",
          "width": 3.0849056603773586
         },
         "mode": "lines",
         "type": "scatter3d",
         "x": [
          0.11323545304253335,
          0.85338356930687,
          null
         ],
         "y": [
          0.47217911472176666,
          0.6249644555160049,
          null
         ],
         "z": [
          0.5587959905127201,
          0.7450583706862679,
          null
         ]
        },
        {
         "hoverinfo": "none",
         "line": {
          "color": "rgb(208, 0, 46)",
          "width": 3.3608490566037736
         },
         "mode": "lines",
         "type": "scatter3d",
         "x": [
          0.6075247522038943,
          0.7042427459213977,
          null
         ],
         "y": [
          0.9029109163518165,
          0.5640636065755076,
          null
         ],
         "z": [
          0.17347116553965358,
          0.9627513593260234,
          null
         ]
        },
        {
         "hoverinfo": "none",
         "line": {
          "color": "rgb(221, 0, 33)",
          "width": 3.757075471698113
         },
         "mode": "lines",
         "type": "scatter3d",
         "x": [
          0.6075247522038943,
          0.25781086115443563,
          null
         ],
         "y": [
          0.9029109163518165,
          0.40502060699549114,
          null
         ],
         "z": [
          0.17347116553965358,
          0.4495342770916474,
          null
         ]
        },
        {
         "hoverinfo": "none",
         "line": {
          "color": "rgb(210, 0, 44)",
          "width": 3.1556603773584904
         },
         "mode": "lines",
         "type": "scatter3d",
         "x": [
          0.6075247522038943,
          0.33479276255754076,
          null
         ],
         "y": [
          0.9029109163518165,
          0.7326971178584895,
          null
         ],
         "z": [
          0.17347116553965358,
          0.3900081144859531,
          null
         ]
        },
        {
         "hoverinfo": "none",
         "line": {
          "color": "rgb(212, 0, 42)",
          "width": 3.1167452830188678
         },
         "mode": "lines",
         "type": "scatter3d",
         "x": [
          0.6075247522038943,
          0.0658836711597871,
          null
         ],
         "y": [
          0.9029109163518165,
          0.740337688156904,
          null
         ],
         "z": [
          0.17347116553965358,
          0.754578690415864,
          null
         ]
        },
        {
         "hoverinfo": "none",
         "line": {
          "color": "rgb(163, 0, 91)",
          "width": 3.1662735849056602
         },
         "mode": "lines",
         "type": "scatter3d",
         "x": [
          0.6075247522038943,
          0.8786142385423413,
          null
         ],
         "y": [
          0.9029109163518165,
          0.04689605003632835,
          null
         ],
         "z": [
          0.17347116553965358,
          0.8597912878636778,
          null
         ]
        },
        {
         "hoverinfo": "none",
         "line": {
          "color": "rgb(202, 0, 52)",
          "width": 3.55188679245283
         },
         "mode": "lines",
         "type": "scatter3d",
         "x": [
          0.6075247522038943,
          0.23695573363998956,
          null
         ],
         "y": [
          0.9029109163518165,
          0.7592729412598814,
          null
         ],
         "z": [
          0.17347116553965358,
          0.8927404284216092,
          null
         ]
        },
        {
         "hoverinfo": "none",
         "line": {
          "color": "rgb(196, 0, 58)",
          "width": 3.134433962264151
         },
         "mode": "lines",
         "type": "scatter3d",
         "x": [
          0.6075247522038943,
          0.09571227726952747,
          null
         ],
         "y": [
          0.9029109163518165,
          0.8180623447926566,
          null
         ],
         "z": [
          0.17347116553965358,
          0.10753270747674437,
          null
         ]
        },
        {
         "hoverinfo": "none",
         "line": {
          "color": "rgb(196, 0, 58)",
          "width": 3.106132075471698
         },
         "mode": "lines",
         "type": "scatter3d",
         "x": [
          0.6075247522038943,
          0.7061681308720446,
          null
         ],
         "y": [
          0.9029109163518165,
          0.6216850496137061,
          null
         ],
         "z": [
          0.17347116553965358,
          0.8666415784847047,
          null
         ]
        },
        {
         "hoverinfo": "none",
         "line": {
          "color": "rgb(198, 0, 56)",
          "width": 3.2441037735849054
         },
         "mode": "lines",
         "type": "scatter3d",
         "x": [
          0.6075247522038943,
          0.6810946351389718,
          null
         ],
         "y": [
          0.9029109163518165,
          0.039642204176439155,
          null
         ],
         "z": [
          0.17347116553965358,
          0.2593590931114531,
          null
         ]
        },
        {
         "hoverinfo": "none",
         "line": {
          "color": "rgb(175, 0, 79)",
          "width": 3.1132075471698113
         },
         "mode": "lines",
         "type": "scatter3d",
         "x": [
          0.6075247522038943,
          0.6897091935465549,
          null
         ],
         "y": [
          0.9029109163518165,
          0.7282678524535802,
          null
         ],
         "z": [
          0.17347116553965358,
          0.8097320726557011,
          null
         ]
        },
        {
         "hoverinfo": "none",
         "line": {
          "color": "rgb(214, 0, 40)",
          "width": 3.205188679245283
         },
         "mode": "lines",
         "type": "scatter3d",
         "x": [
          0.6075247522038943,
          0.3655115350989856,
          null
         ],
         "y": [
          0.9029109163518165,
          0.4028884444792149,
          null
         ],
         "z": [
          0.17347116553965358,
          0.4806267276048667,
          null
         ]
        },
        {
         "hoverinfo": "none",
         "line": {
          "color": "rgb(255, 0, 0)",
          "width": 3.1804245283018866
         },
         "mode": "lines",
         "type": "scatter3d",
         "x": [
          0.6075247522038943,
          0.85338356930687,
          null
         ],
         "y": [
          0.9029109163518165,
          0.6249644555160049,
          null
         ],
         "z": [
          0.17347116553965358,
          0.7450583706862679,
          null
         ]
        },
        {
         "hoverinfo": "none",
         "line": {
          "color": "rgb(109, 0, 145)",
          "width": 3.1132075471698113
         },
         "mode": "lines",
         "type": "scatter3d",
         "x": [
          0.6075247522038943,
          0.14223414091899655,
          null
         ],
         "y": [
          0.9029109163518165,
          0.12395302638169958,
          null
         ],
         "z": [
          0.17347116553965358,
          0.6565769163574142,
          null
         ]
        },
        {
         "hoverinfo": "none",
         "line": {
          "color": "rgb(204, 0, 51)",
          "width": 3.088443396226415
         },
         "mode": "lines",
         "type": "scatter3d",
         "x": [
          0.6075247522038943,
          0.4450453567440472,
          null
         ],
         "y": [
          0.9029109163518165,
          0.8914027548364141,
          null
         ],
         "z": [
          0.17347116553965358,
          0.5235765198984705,
          null
         ]
        },
        {
         "hoverinfo": "none",
         "line": {
          "color": "rgb(176, 0, 78)",
          "width": 3.1556603773584904
         },
         "mode": "lines",
         "type": "scatter3d",
         "x": [
          0.6075247522038943,
          0.4348965708925725,
          null
         ],
         "y": [
          0.9029109163518165,
          0.6871470243772101,
          null
         ],
         "z": [
          0.17347116553965358,
          0.8702755527886045,
          null
         ]
        },
        {
         "hoverinfo": "none",
         "line": {
          "color": "rgb(63, 0, 191)",
          "width": 3.01061320754717
         },
         "mode": "lines",
         "type": "scatter3d",
         "x": [
          0.6075247522038943,
          0.7338995273436147,
          null
         ],
         "y": [
          0.9029109163518165,
          0.739822825999556,
          null
         ],
         "z": [
          0.17347116553965358,
          0.05207323179406431,
          null
         ]
        },
        {
         "hoverinfo": "none",
         "line": {
          "color": "rgb(255, 0, 0)",
          "width": 3.0035377358490565
         },
         "mode": "lines",
         "type": "scatter3d",
         "x": [
          0.6075247522038943,
          0.8291380248341068,
          null
         ],
         "y": [
          0.9029109163518165,
          0.9364453871995326,
          null
         ],
         "z": [
          0.17347116553965358,
          0.5810762895460602,
          null
         ]
        },
        {
         "hoverinfo": "none",
         "line": {
          "color": "rgb(255, 0, 0)",
          "width": 3.01061320754717
         },
         "mode": "lines",
         "type": "scatter3d",
         "x": [
          0.6075247522038943,
          0.837073768912754,
          null
         ],
         "y": [
          0.9029109163518165,
          0.3622228018579693,
          null
         ],
         "z": [
          0.17347116553965358,
          0.8702597155245111,
          null
         ]
        },
        {
         "hoverinfo": "none",
         "line": {
          "color": "rgb(0, 0, 255)",
          "width": 3.0035377358490565
         },
         "mode": "lines",
         "type": "scatter3d",
         "x": [
          0.6075247522038943,
          0.24265185566836778,
          null
         ],
         "y": [
          0.9029109163518165,
          0.7438435596650464,
          null
         ],
         "z": [
          0.17347116553965358,
          0.21831542776222113,
          null
         ]
        },
        {
         "hoverinfo": "none",
         "line": {
          "color": "rgb(162, 0, 92)",
          "width": 3.0707547169811322
         },
         "mode": "lines",
         "type": "scatter3d",
         "x": [
          0.24265185566836778,
          0.33479276255754076,
          null
         ],
         "y": [
          0.7438435596650464,
          0.7326971178584895,
          null
         ],
         "z": [
          0.21831542776222113,
          0.3900081144859531,
          null
         ]
        },
        {
         "hoverinfo": "none",
         "line": {
          "color": "rgb(223, 0, 31)",
          "width": 3.1733490566037736
         },
         "mode": "lines",
         "type": "scatter3d",
         "x": [
          0.24265185566836778,
          0.14223414091899655,
          null
         ],
         "y": [
          0.7438435596650464,
          0.12395302638169958,
          null
         ],
         "z": [
          0.21831542776222113,
          0.6565769163574142,
          null
         ]
        },
        {
         "hoverinfo": "none",
         "line": {
          "color": "rgb(212, 0, 42)",
          "width": 3.063679245283019
         },
         "mode": "lines",
         "type": "scatter3d",
         "x": [
          0.24265185566836778,
          0.4450453567440472,
          null
         ],
         "y": [
          0.7438435596650464,
          0.8914027548364141,
          null
         ],
         "z": [
          0.21831542776222113,
          0.5235765198984705,
          null
         ]
        },
        {
         "hoverinfo": "none",
         "line": {
          "color": "rgb(191, 0, 63)",
          "width": 3.0318396226415096
         },
         "mode": "lines",
         "type": "scatter3d",
         "x": [
          0.24265185566836778,
          0.6810946351389718,
          null
         ],
         "y": [
          0.7438435596650464,
          0.039642204176439155,
          null
         ],
         "z": [
          0.21831542776222113,
          0.2593590931114531,
          null
         ]
        },
        {
         "hoverinfo": "none",
         "line": {
          "color": "rgb(191, 0, 63)",
          "width": 3.035377358490566
         },
         "mode": "lines",
         "type": "scatter3d",
         "x": [
          0.24265185566836778,
          0.6897091935465549,
          null
         ],
         "y": [
          0.7438435596650464,
          0.7282678524535802,
          null
         ],
         "z": [
          0.21831542776222113,
          0.8097320726557011,
          null
         ]
        },
        {
         "hoverinfo": "none",
         "line": {
          "color": "rgb(139, 0, 115)",
          "width": 3.0495283018867925
         },
         "mode": "lines",
         "type": "scatter3d",
         "x": [
          0.24265185566836778,
          0.3655115350989856,
          null
         ],
         "y": [
          0.7438435596650464,
          0.4028884444792149,
          null
         ],
         "z": [
          0.21831542776222113,
          0.4806267276048667,
          null
         ]
        },
        {
         "hoverinfo": "none",
         "line": {
          "color": "rgb(176, 0, 78)",
          "width": 3.081367924528302
         },
         "mode": "lines",
         "type": "scatter3d",
         "x": [
          0.24265185566836778,
          0.8786142385423413,
          null
         ],
         "y": [
          0.7438435596650464,
          0.04689605003632835,
          null
         ],
         "z": [
          0.21831542776222113,
          0.8597912878636778,
          null
         ]
        },
        {
         "hoverinfo": "none",
         "line": {
          "color": "rgb(223, 0, 31)",
          "width": 3.0318396226415096
         },
         "mode": "lines",
         "type": "scatter3d",
         "x": [
          0.24265185566836778,
          0.4348965708925725,
          null
         ],
         "y": [
          0.7438435596650464,
          0.6871470243772101,
          null
         ],
         "z": [
          0.21831542776222113,
          0.8702755527886045,
          null
         ]
        },
        {
         "hoverinfo": "none",
         "line": {
          "color": "rgb(170, 0, 85)",
          "width": 3.081367924528302
         },
         "mode": "lines",
         "type": "scatter3d",
         "x": [
          0.24265185566836778,
          0.7042427459213977,
          null
         ],
         "y": [
          0.7438435596650464,
          0.5640636065755076,
          null
         ],
         "z": [
          0.21831542776222113,
          0.9627513593260234,
          null
         ]
        },
        {
         "hoverinfo": "none",
         "line": {
          "color": "rgb(186, 0, 68)",
          "width": 3.1662735849056602
         },
         "mode": "lines",
         "type": "scatter3d",
         "x": [
          0.24265185566836778,
          0.25781086115443563,
          null
         ],
         "y": [
          0.7438435596650464,
          0.40502060699549114,
          null
         ],
         "z": [
          0.21831542776222113,
          0.4495342770916474,
          null
         ]
        },
        {
         "hoverinfo": "none",
         "line": {
          "color": "rgb(127, 0, 127)",
          "width": 3.01061320754717
         },
         "mode": "lines",
         "type": "scatter3d",
         "x": [
          0.24265185566836778,
          0.8291380248341068,
          null
         ],
         "y": [
          0.7438435596650464,
          0.9364453871995326,
          null
         ],
         "z": [
          0.21831542776222113,
          0.5810762895460602,
          null
         ]
        },
        {
         "hoverinfo": "none",
         "line": {
          "color": "rgb(255, 0, 0)",
          "width": 3.0035377358490565
         },
         "mode": "lines",
         "type": "scatter3d",
         "x": [
          0.24265185566836778,
          0.7338995273436147,
          null
         ],
         "y": [
          0.7438435596650464,
          0.739822825999556,
          null
         ],
         "z": [
          0.21831542776222113,
          0.05207323179406431,
          null
         ]
        },
        {
         "hoverinfo": "none",
         "line": {
          "color": "rgb(255, 0, 0)",
          "width": 3.017688679245283
         },
         "mode": "lines",
         "type": "scatter3d",
         "x": [
          0.24265185566836778,
          0.7061681308720446,
          null
         ],
         "y": [
          0.7438435596650464,
          0.6216850496137061,
          null
         ],
         "z": [
          0.21831542776222113,
          0.8666415784847047,
          null
         ]
        },
        {
         "hoverinfo": "none",
         "line": {
          "color": "rgb(127, 0, 127)",
          "width": 3.0672169811320753
         },
         "mode": "lines",
         "type": "scatter3d",
         "x": [
          0.24265185566836778,
          0.23695573363998956,
          null
         ],
         "y": [
          0.7438435596650464,
          0.7592729412598814,
          null
         ],
         "z": [
          0.21831542776222113,
          0.8927404284216092,
          null
         ]
        },
        {
         "hoverinfo": "none",
         "line": {
          "color": "rgb(187, 0, 68)",
          "width": 3.088443396226415
         },
         "mode": "lines",
         "type": "scatter3d",
         "x": [
          0.24265185566836778,
          0.09571227726952747,
          null
         ],
         "y": [
          0.7438435596650464,
          0.8180623447926566,
          null
         ],
         "z": [
          0.21831542776222113,
          0.10753270747674437,
          null
         ]
        },
        {
         "hoverinfo": "none",
         "line": {
          "color": "rgb(255, 0, 0)",
          "width": 3.0283018867924527
         },
         "mode": "lines",
         "type": "scatter3d",
         "x": [
          0.24265185566836778,
          0.0658836711597871,
          null
         ],
         "y": [
          0.7438435596650464,
          0.740337688156904,
          null
         ],
         "z": [
          0.21831542776222113,
          0.754578690415864,
          null
         ]
        },
        {
         "hoverinfo": "none",
         "line": {
          "color": "rgb(127, 0, 127)",
          "width": 3.0070754716981134
         },
         "mode": "lines",
         "type": "scatter3d",
         "x": [
          0.24265185566836778,
          0.85338356930687,
          null
         ],
         "y": [
          0.7438435596650464,
          0.6249644555160049,
          null
         ],
         "z": [
          0.21831542776222113,
          0.7450583706862679,
          null
         ]
        },
        {
         "hoverinfo": "none",
         "line": {
          "color": "rgb(216, 0, 38)",
          "width": 6.619103773584905
         },
         "mode": "lines",
         "type": "scatter3d",
         "x": [
          0.0658836711597871,
          0.25781086115443563,
          null
         ],
         "y": [
          0.740337688156904,
          0.40502060699549114,
          null
         ],
         "z": [
          0.754578690415864,
          0.4495342770916474,
          null
         ]
        },
        {
         "hoverinfo": "none",
         "line": {
          "color": "rgb(192, 0, 62)",
          "width": 3.3431603773584904
         },
         "mode": "lines",
         "type": "scatter3d",
         "x": [
          0.0658836711597871,
          0.7061681308720446,
          null
         ],
         "y": [
          0.740337688156904,
          0.6216850496137061,
          null
         ],
         "z": [
          0.754578690415864,
          0.8666415784847047,
          null
         ]
        },
        {
         "hoverinfo": "none",
         "line": {
          "color": "rgb(151, 0, 103)",
          "width": 3.357311320754717
         },
         "mode": "lines",
         "type": "scatter3d",
         "x": [
          0.0658836711597871,
          0.6810946351389718,
          null
         ],
         "y": [
          0.740337688156904,
          0.039642204176439155,
          null
         ],
         "z": [
          0.754578690415864,
          0.2593590931114531,
          null
         ]
        },
        {
         "hoverinfo": "none",
         "line": {
          "color": "rgb(129, 0, 125)",
          "width": 3.4033018867924527
         },
         "mode": "lines",
         "type": "scatter3d",
         "x": [
          0.0658836711597871,
          0.3655115350989856,
          null
         ],
         "y": [
          0.740337688156904,
          0.4028884444792149,
          null
         ],
         "z": [
          0.754578690415864,
          0.4806267276048667,
          null
         ]
        },
        {
         "hoverinfo": "none",
         "line": {
          "color": "rgb(165, 0, 89)",
          "width": 3.7464622641509435
         },
         "mode": "lines",
         "type": "scatter3d",
         "x": [
          0.0658836711597871,
          0.33479276255754076,
          null
         ],
         "y": [
          0.740337688156904,
          0.7326971178584895,
          null
         ],
         "z": [
          0.754578690415864,
          0.3900081144859531,
          null
         ]
        },
        {
         "hoverinfo": "none",
         "line": {
          "color": "rgb(177, 0, 77)",
          "width": 3.3608490566037736
         },
         "mode": "lines",
         "type": "scatter3d",
         "x": [
          0.0658836711597871,
          0.6897091935465549,
          null
         ],
         "y": [
          0.740337688156904,
          0.7282678524535802,
          null
         ],
         "z": [
          0.754578690415864,
          0.8097320726557011,
          null
         ]
        },
        {
         "hoverinfo": "none",
         "line": {
          "color": "rgb(174, 0, 80)",
          "width": 3.4492924528301887
         },
         "mode": "lines",
         "type": "scatter3d",
         "x": [
          0.0658836711597871,
          0.23695573363998956,
          null
         ],
         "y": [
          0.740337688156904,
          0.7592729412598814,
          null
         ],
         "z": [
          0.754578690415864,
          0.8927404284216092,
          null
         ]
        },
        {
         "hoverinfo": "none",
         "line": {
          "color": "rgb(143, 0, 111)",
          "width": 3.73938679245283
         },
         "mode": "lines",
         "type": "scatter3d",
         "x": [
          0.0658836711597871,
          0.4450453567440472,
          null
         ],
         "y": [
          0.740337688156904,
          0.8914027548364141,
          null
         ],
         "z": [
          0.754578690415864,
          0.5235765198984705,
          null
         ]
        },
        {
         "hoverinfo": "none",
         "line": {
          "color": "rgb(156, 0, 99)",
          "width": 3.5412735849056602
         },
         "mode": "lines",
         "type": "scatter3d",
         "x": [
          0.0658836711597871,
          0.14223414091899655,
          null
         ],
         "y": [
          0.740337688156904,
          0.12395302638169958,
          null
         ],
         "z": [
          0.754578690415864,
          0.6565769163574142,
          null
         ]
        },
        {
         "hoverinfo": "none",
         "line": {
          "color": "rgb(176, 0, 78)",
          "width": 3.3679245283018866
         },
         "mode": "lines",
         "type": "scatter3d",
         "x": [
          0.0658836711597871,
          0.4348965708925725,
          null
         ],
         "y": [
          0.740337688156904,
          0.6871470243772101,
          null
         ],
         "z": [
          0.754578690415864,
          0.8702755527886045,
          null
         ]
        },
        {
         "hoverinfo": "none",
         "line": {
          "color": "rgb(201, 0, 53)",
          "width": 3.3007075471698113
         },
         "mode": "lines",
         "type": "scatter3d",
         "x": [
          0.0658836711597871,
          0.7042427459213977,
          null
         ],
         "y": [
          0.740337688156904,
          0.5640636065755076,
          null
         ],
         "z": [
          0.754578690415864,
          0.9627513593260234,
          null
         ]
        },
        {
         "hoverinfo": "none",
         "line": {
          "color": "rgb(143, 0, 111)",
          "width": 3.375
         },
         "mode": "lines",
         "type": "scatter3d",
         "x": [
          0.0658836711597871,
          0.09571227726952747,
          null
         ],
         "y": [
          0.740337688156904,
          0.8180623447926566,
          null
         ],
         "z": [
          0.754578690415864,
          0.10753270747674437,
          null
         ]
        },
        {
         "hoverinfo": "none",
         "line": {
          "color": "rgb(173, 0, 81)",
          "width": 3.544811320754717
         },
         "mode": "lines",
         "type": "scatter3d",
         "x": [
          0.0658836711597871,
          0.8786142385423413,
          null
         ],
         "y": [
          0.740337688156904,
          0.04689605003632835,
          null
         ],
         "z": [
          0.754578690415864,
          0.8597912878636778,
          null
         ]
        },
        {
         "hoverinfo": "none",
         "line": {
          "color": "rgb(185, 0, 69)",
          "width": 3.0601415094339623
         },
         "mode": "lines",
         "type": "scatter3d",
         "x": [
          0.0658836711597871,
          0.85338356930687,
          null
         ],
         "y": [
          0.740337688156904,
          0.6249644555160049,
          null
         ],
         "z": [
          0.754578690415864,
          0.7450583706862679,
          null
         ]
        },
        {
         "hoverinfo": "none",
         "line": {
          "color": "rgb(255, 0, 0)",
          "width": 3.045990566037736
         },
         "mode": "lines",
         "type": "scatter3d",
         "x": [
          0.0658836711597871,
          0.837073768912754,
          null
         ],
         "y": [
          0.740337688156904,
          0.3622228018579693,
          null
         ],
         "z": [
          0.754578690415864,
          0.8702597155245111,
          null
         ]
        },
        {
         "hoverinfo": "none",
         "line": {
          "color": "rgb(170, 0, 85)",
          "width": 3.045990566037736
         },
         "mode": "lines",
         "type": "scatter3d",
         "x": [
          0.0658836711597871,
          0.7338995273436147,
          null
         ],
         "y": [
          0.740337688156904,
          0.739822825999556,
          null
         ],
         "z": [
          0.754578690415864,
          0.05207323179406431,
          null
         ]
        },
        {
         "hoverinfo": "none",
         "line": {
          "color": "rgb(127, 0, 127)",
          "width": 3.0035377358490565
         },
         "mode": "lines",
         "type": "scatter3d",
         "x": [
          0.0658836711597871,
          0.8291380248341068,
          null
         ],
         "y": [
          0.740337688156904,
          0.9364453871995326,
          null
         ],
         "z": [
          0.754578690415864,
          0.5810762895460602,
          null
         ]
        },
        {
         "hoverinfo": "none",
         "line": {
          "color": "rgb(153, 0, 102)",
          "width": 3.0955188679245285
         },
         "mode": "lines",
         "type": "scatter3d",
         "x": [
          0.7338995273436147,
          0.14223414091899655,
          null
         ],
         "y": [
          0.739822825999556,
          0.12395302638169958,
          null
         ],
         "z": [
          0.05207323179406431,
          0.6565769163574142,
          null
         ]
        },
        {
         "hoverinfo": "none",
         "line": {
          "color": "rgb(255, 0, 0)",
          "width": 3.045990566037736
         },
         "mode": "lines",
         "type": "scatter3d",
         "x": [
          0.7338995273436147,
          0.3655115350989856,
          null
         ],
         "y": [
          0.739822825999556,
          0.4028884444792149,
          null
         ],
         "z": [
          0.05207323179406431,
          0.4806267276048667,
          null
         ]
        },
        {
         "hoverinfo": "none",
         "line": {
          "color": "rgb(191, 0, 63)",
          "width": 3.0707547169811322
         },
         "mode": "lines",
         "type": "scatter3d",
         "x": [
          0.7338995273436147,
          0.6810946351389718,
          null
         ],
         "y": [
          0.739822825999556,
          0.039642204176439155,
          null
         ],
         "z": [
          0.05207323179406431,
          0.2593590931114531,
          null
         ]
        },
        {
         "hoverinfo": "none",
         "line": {
          "color": "rgb(156, 0, 98)",
          "width": 3.109669811320755
         },
         "mode": "lines",
         "type": "scatter3d",
         "x": [
          0.7338995273436147,
          0.4450453567440472,
          null
         ],
         "y": [
          0.739822825999556,
          0.8914027548364141,
          null
         ],
         "z": [
          0.05207323179406431,
          0.5235765198984705,
          null
         ]
        },
        {
         "hoverinfo": "none",
         "line": {
          "color": "rgb(176, 0, 78)",
          "width": 3.0955188679245285
         },
         "mode": "lines",
         "type": "scatter3d",
         "x": [
          0.7338995273436147,
          0.8786142385423413,
          null
         ],
         "y": [
          0.739822825999556,
          0.04689605003632835,
          null
         ],
         "z": [
          0.05207323179406431,
          0.8597912878636778,
          null
         ]
        },
        {
         "hoverinfo": "none",
         "line": {
          "color": "rgb(196, 0, 58)",
          "width": 3.077830188679245
         },
         "mode": "lines",
         "type": "scatter3d",
         "x": [
          0.7338995273436147,
          0.25781086115443563,
          null
         ],
         "y": [
          0.739822825999556,
          0.40502060699549114,
          null
         ],
         "z": [
          0.05207323179406431,
          0.4495342770916474,
          null
         ]
        },
        {
         "hoverinfo": "none",
         "line": {
          "color": "rgb(204, 0, 51)",
          "width": 3.0212264150943398
         },
         "mode": "lines",
         "type": "scatter3d",
         "x": [
          0.7338995273436147,
          0.4348965708925725,
          null
         ],
         "y": [
          0.739822825999556,
          0.6871470243772101,
          null
         ],
         "z": [
          0.05207323179406431,
          0.8702755527886045,
          null
         ]
        },
        {
         "hoverinfo": "none",
         "line": {
          "color": "rgb(170, 0, 85)",
          "width": 3.045990566037736
         },
         "mode": "lines",
         "type": "scatter3d",
         "x": [
          0.7338995273436147,
          0.33479276255754076,
          null
         ],
         "y": [
          0.739822825999556,
          0.7326971178584895,
          null
         ],
         "z": [
          0.05207323179406431,
          0.3900081144859531,
          null
         ]
        },
        {
         "hoverinfo": "none",
         "line": {
          "color": "rgb(0, 0, 255)",
          "width": 3.0247641509433962
         },
         "mode": "lines",
         "type": "scatter3d",
         "x": [
          0.7338995273436147,
          0.7042427459213977,
          null
         ],
         "y": [
          0.739822825999556,
          0.5640636065755076,
          null
         ],
         "z": [
          0.05207323179406431,
          0.9627513593260234,
          null
         ]
        },
        {
         "hoverinfo": "none",
         "line": {
          "color": "rgb(255, 0, 0)",
          "width": 3.0283018867924527
         },
         "mode": "lines",
         "type": "scatter3d",
         "x": [
          0.7338995273436147,
          0.85338356930687,
          null
         ],
         "y": [
          0.739822825999556,
          0.6249644555160049,
          null
         ],
         "z": [
          0.05207323179406431,
          0.7450583706862679,
          null
         ]
        },
        {
         "hoverinfo": "none",
         "line": {
          "color": "rgb(255, 0, 0)",
          "width": 3.0318396226415096
         },
         "mode": "lines",
         "type": "scatter3d",
         "x": [
          0.7338995273436147,
          0.23695573363998956,
          null
         ],
         "y": [
          0.739822825999556,
          0.7592729412598814,
          null
         ],
         "z": [
          0.05207323179406431,
          0.8927404284216092,
          null
         ]
        },
        {
         "hoverinfo": "none",
         "line": {
          "color": "rgb(102, 0, 153)",
          "width": 3.0389150943396226
         },
         "mode": "lines",
         "type": "scatter3d",
         "x": [
          0.7338995273436147,
          0.09571227726952747,
          null
         ],
         "y": [
          0.739822825999556,
          0.8180623447926566,
          null
         ],
         "z": [
          0.05207323179406431,
          0.10753270747674437,
          null
         ]
        },
        {
         "hoverinfo": "none",
         "line": {
          "color": "rgb(255, 0, 0)",
          "width": 3
         },
         "mode": "lines",
         "type": "scatter3d",
         "x": [
          0.7338995273436147,
          0.7061681308720446,
          null
         ],
         "y": [
          0.739822825999556,
          0.6216850496137061,
          null
         ],
         "z": [
          0.05207323179406431,
          0.8666415784847047,
          null
         ]
        },
        {
         "hoverinfo": "none",
         "line": {
          "color": "rgb(0, 0, 255)",
          "width": 3
         },
         "mode": "lines",
         "type": "scatter3d",
         "x": [
          0.7338995273436147,
          0.837073768912754,
          null
         ],
         "y": [
          0.739822825999556,
          0.3622228018579693,
          null
         ],
         "z": [
          0.05207323179406431,
          0.8702597155245111,
          null
         ]
        },
        {
         "hoverinfo": "none",
         "line": {
          "color": "rgb(255, 0, 0)",
          "width": 3.0035377358490565
         },
         "mode": "lines",
         "type": "scatter3d",
         "x": [
          0.7338995273436147,
          0.6897091935465549,
          null
         ],
         "y": [
          0.739822825999556,
          0.7282678524535802,
          null
         ],
         "z": [
          0.05207323179406431,
          0.8097320726557011,
          null
         ]
        },
        {
         "hoverinfo": "none",
         "line": {
          "color": "rgb(192, 0, 62)",
          "width": 6.02122641509434
         },
         "mode": "lines",
         "type": "scatter3d",
         "x": [
          0.09571227726952747,
          0.14223414091899655,
          null
         ],
         "y": [
          0.8180623447926566,
          0.12395302638169958,
          null
         ],
         "z": [
          0.10753270747674437,
          0.6565769163574142,
          null
         ]
        },
        {
         "hoverinfo": "none",
         "line": {
          "color": "rgb(172, 0, 82)",
          "width": 3.1804245283018866
         },
         "mode": "lines",
         "type": "scatter3d",
         "x": [
          0.09571227726952747,
          0.6897091935465549,
          null
         ],
         "y": [
          0.8180623447926566,
          0.7282678524535802,
          null
         ],
         "z": [
          0.10753270747674437,
          0.8097320726557011,
          null
         ]
        },
        {
         "hoverinfo": "none",
         "line": {
          "color": "rgb(212, 0, 42)",
          "width": 3.474056603773585
         },
         "mode": "lines",
         "type": "scatter3d",
         "x": [
          0.09571227726952747,
          0.25781086115443563,
          null
         ],
         "y": [
          0.8180623447926566,
          0.40502060699549114,
          null
         ],
         "z": [
          0.10753270747674437,
          0.4495342770916474,
          null
         ]
        },
        {
         "hoverinfo": "none",
         "line": {
          "color": "rgb(187, 0, 67)",
          "width": 3.8808962264150946
         },
         "mode": "lines",
         "type": "scatter3d",
         "x": [
          0.09571227726952747,
          0.6810946351389718,
          null
         ],
         "y": [
          0.8180623447926566,
          0.039642204176439155,
          null
         ],
         "z": [
          0.10753270747674437,
          0.2593590931114531,
          null
         ]
        },
        {
         "hoverinfo": "none",
         "line": {
          "color": "rgb(186, 0, 68)",
          "width": 3.6933962264150946
         },
         "mode": "lines",
         "type": "scatter3d",
         "x": [
          0.09571227726952747,
          0.33479276255754076,
          null
         ],
         "y": [
          0.8180623447926566,
          0.7326971178584895,
          null
         ],
         "z": [
          0.10753270747674437,
          0.3900081144859531,
          null
         ]
        },
        {
         "hoverinfo": "none",
         "line": {
          "color": "rgb(170, 0, 85)",
          "width": 4.6450471698113205
         },
         "mode": "lines",
         "type": "scatter3d",
         "x": [
          0.09571227726952747,
          0.8786142385423413,
          null
         ],
         "y": [
          0.8180623447926566,
          0.04689605003632835,
          null
         ],
         "z": [
          0.10753270747674437,
          0.8597912878636778,
          null
         ]
        },
        {
         "hoverinfo": "none",
         "line": {
          "color": "rgb(176, 0, 78)",
          "width": 3.3360849056603774
         },
         "mode": "lines",
         "type": "scatter3d",
         "x": [
          0.09571227726952747,
          0.7042427459213977,
          null
         ],
         "y": [
          0.8180623447926566,
          0.5640636065755076,
          null
         ],
         "z": [
          0.10753270747674437,
          0.9627513593260234,
          null
         ]
        },
        {
         "hoverinfo": "none",
         "line": {
          "color": "rgb(167, 0, 87)",
          "width": 4.5
         },
         "mode": "lines",
         "type": "scatter3d",
         "x": [
          0.09571227726952747,
          0.4450453567440472,
          null
         ],
         "y": [
          0.8180623447926566,
          0.8914027548364141,
          null
         ],
         "z": [
          0.10753270747674437,
          0.5235765198984705,
          null
         ]
        },
        {
         "hoverinfo": "none",
         "line": {
          "color": "rgb(183, 0, 71)",
          "width": 3.555424528301887
         },
         "mode": "lines",
         "type": "scatter3d",
         "x": [
          0.09571227726952747,
          0.3655115350989856,
          null
         ],
         "y": [
          0.8180623447926566,
          0.4028884444792149,
          null
         ],
         "z": [
          0.10753270747674437,
          0.4806267276048667,
          null
         ]
        },
        {
         "hoverinfo": "none",
         "line": {
          "color": "rgb(255, 0, 0)",
          "width": 3.106132075471698
         },
         "mode": "lines",
         "type": "scatter3d",
         "x": [
          0.09571227726952747,
          0.85338356930687,
          null
         ],
         "y": [
          0.8180623447926566,
          0.6249644555160049,
          null
         ],
         "z": [
          0.10753270747674437,
          0.7450583706862679,
          null
         ]
        },
        {
         "hoverinfo": "none",
         "line": {
          "color": "rgb(164, 0, 90)",
          "width": 3.2370283018867925
         },
         "mode": "lines",
         "type": "scatter3d",
         "x": [
          0.09571227726952747,
          0.23695573363998956,
          null
         ],
         "y": [
          0.8180623447926566,
          0.7592729412598814,
          null
         ],
         "z": [
          0.10753270747674437,
          0.8927404284216092,
          null
         ]
        },
        {
         "hoverinfo": "none",
         "line": {
          "color": "rgb(175, 0, 79)",
          "width": 3.2547169811320753
         },
         "mode": "lines",
         "type": "scatter3d",
         "x": [
          0.09571227726952747,
          0.4348965708925725,
          null
         ],
         "y": [
          0.8180623447926566,
          0.6871470243772101,
          null
         ],
         "z": [
          0.10753270747674437,
          0.8702755527886045,
          null
         ]
        },
        {
         "hoverinfo": "none",
         "line": {
          "color": "rgb(201, 0, 53)",
          "width": 3.2087264150943398
         },
         "mode": "lines",
         "type": "scatter3d",
         "x": [
          0.09571227726952747,
          0.7061681308720446,
          null
         ],
         "y": [
          0.8180623447926566,
          0.6216850496137061,
          null
         ],
         "z": [
          0.10753270747674437,
          0.8666415784847047,
          null
         ]
        },
        {
         "hoverinfo": "none",
         "line": {
          "color": "rgb(182, 0, 72)",
          "width": 3.0389150943396226
         },
         "mode": "lines",
         "type": "scatter3d",
         "x": [
          0.09571227726952747,
          0.837073768912754,
          null
         ],
         "y": [
          0.8180623447926566,
          0.3622228018579693,
          null
         ],
         "z": [
          0.10753270747674437,
          0.8702597155245111,
          null
         ]
        },
        {
         "hoverinfo": "none",
         "line": {
          "color": "rgb(204, 0, 51)",
          "width": 3.056603773584906
         },
         "mode": "lines",
         "type": "scatter3d",
         "x": [
          0.09571227726952747,
          0.8291380248341068,
          null
         ],
         "y": [
          0.8180623447926566,
          0.9364453871995326,
          null
         ],
         "z": [
          0.10753270747674437,
          0.5810762895460602,
          null
         ]
        },
        {
         "hoverinfo": "none",
         "line": {
          "color": "rgb(187, 0, 68)",
          "width": 3.3502358490566038
         },
         "mode": "lines",
         "type": "scatter3d",
         "x": [
          0.6810946351389718,
          0.85338356930687,
          null
         ],
         "y": [
          0.039642204176439155,
          0.6249644555160049,
          null
         ],
         "z": [
          0.2593590931114531,
          0.7450583706862679,
          null
         ]
        },
        {
         "hoverinfo": "none",
         "line": {
          "color": "rgb(191, 0, 63)",
          "width": 8.04127358490566
         },
         "mode": "lines",
         "type": "scatter3d",
         "x": [
          0.6810946351389718,
          0.14223414091899655,
          null
         ],
         "y": [
          0.039642204176439155,
          0.12395302638169958,
          null
         ],
         "z": [
          0.2593590931114531,
          0.6565769163574142,
          null
         ]
        },
        {
         "hoverinfo": "none",
         "line": {
          "color": "rgb(181, 0, 73)",
          "width": 3.8632075471698113
         },
         "mode": "lines",
         "type": "scatter3d",
         "x": [
          0.6810946351389718,
          0.3655115350989856,
          null
         ],
         "y": [
          0.039642204176439155,
          0.4028884444792149,
          null
         ],
         "z": [
          0.2593590931114531,
          0.4806267276048667,
          null
         ]
        },
        {
         "hoverinfo": "none",
         "line": {
          "color": "rgb(185, 0, 69)",
          "width": 4.100235849056604
         },
         "mode": "lines",
         "type": "scatter3d",
         "x": [
          0.6810946351389718,
          0.33479276255754076,
          null
         ],
         "y": [
          0.039642204176439155,
          0.7326971178584895,
          null
         ],
         "z": [
          0.2593590931114531,
          0.3900081144859531,
          null
         ]
        },
        {
         "hoverinfo": "none",
         "line": {
          "color": "rgb(182, 0, 72)",
          "width": 4.036556603773585
         },
         "mode": "lines",
         "type": "scatter3d",
         "x": [
          0.6810946351389718,
          0.8786142385423413,
          null
         ],
         "y": [
          0.039642204176439155,
          0.04689605003632835,
          null
         ],
         "z": [
          0.2593590931114531,
          0.8597912878636778,
          null
         ]
        },
        {
         "hoverinfo": "none",
         "line": {
          "color": "rgb(205, 0, 49)",
          "width": 3.919811320754717
         },
         "mode": "lines",
         "type": "scatter3d",
         "x": [
          0.6810946351389718,
          0.25781086115443563,
          null
         ],
         "y": [
          0.039642204176439155,
          0.40502060699549114,
          null
         ],
         "z": [
          0.2593590931114531,
          0.4495342770916474,
          null
         ]
        },
        {
         "hoverinfo": "none",
         "line": {
          "color": "rgb(213, 0, 41)",
          "width": 4.033018867924528
         },
         "mode": "lines",
         "type": "scatter3d",
         "x": [
          0.6810946351389718,
          0.4348965708925725,
          null
         ],
         "y": [
          0.039642204176439155,
          0.6871470243772101,
          null
         ],
         "z": [
          0.2593590931114531,
          0.8702755527886045,
          null
         ]
        },
        {
         "hoverinfo": "none",
         "line": {
          "color": "rgb(127, 0, 127)",
          "width": 3.0495283018867925
         },
         "mode": "lines",
         "type": "scatter3d",
         "x": [
          0.6810946351389718,
          0.8291380248341068,
          null
         ],
         "y": [
          0.039642204176439155,
          0.9364453871995326,
          null
         ],
         "z": [
          0.2593590931114531,
          0.5810762895460602,
          null
         ]
        },
        {
         "hoverinfo": "none",
         "line": {
          "color": "rgb(194, 0, 60)",
          "width": 6.7040094339622645
         },
         "mode": "lines",
         "type": "scatter3d",
         "x": [
          0.6810946351389718,
          0.4450453567440472,
          null
         ],
         "y": [
          0.039642204176439155,
          0.8914027548364141,
          null
         ],
         "z": [
          0.2593590931114531,
          0.5235765198984705,
          null
         ]
        },
        {
         "hoverinfo": "none",
         "line": {
          "color": "rgb(207, 0, 47)",
          "width": 3.3431603773584904
         },
         "mode": "lines",
         "type": "scatter3d",
         "x": [
          0.6810946351389718,
          0.7042427459213977,
          null
         ],
         "y": [
          0.039642204176439155,
          0.5640636065755076,
          null
         ],
         "z": [
          0.2593590931114531,
          0.9627513593260234,
          null
         ]
        },
        {
         "hoverinfo": "none",
         "line": {
          "color": "rgb(154, 0, 100)",
          "width": 3.463443396226415
         },
         "mode": "lines",
         "type": "scatter3d",
         "x": [
          0.6810946351389718,
          0.23695573363998956,
          null
         ],
         "y": [
          0.039642204176439155,
          0.7592729412598814,
          null
         ],
         "z": [
          0.2593590931114531,
          0.8927404284216092,
          null
         ]
        },
        {
         "hoverinfo": "none",
         "line": {
          "color": "rgb(179, 0, 75)",
          "width": 3.481132075471698
         },
         "mode": "lines",
         "type": "scatter3d",
         "x": [
          0.6810946351389718,
          0.6897091935465549,
          null
         ],
         "y": [
          0.039642204176439155,
          0.7282678524535802,
          null
         ],
         "z": [
          0.2593590931114531,
          0.8097320726557011,
          null
         ]
        },
        {
         "hoverinfo": "none",
         "line": {
          "color": "rgb(220, 0, 34)",
          "width": 3.1733490566037736
         },
         "mode": "lines",
         "type": "scatter3d",
         "x": [
          0.6810946351389718,
          0.7061681308720446,
          null
         ],
         "y": [
          0.039642204176439155,
          0.6216850496137061,
          null
         ],
         "z": [
          0.2593590931114531,
          0.8666415784847047,
          null
         ]
        },
        {
         "hoverinfo": "none",
         "line": {
          "color": "rgb(161, 0, 93)",
          "width": 3.1202830188679247
         },
         "mode": "lines",
         "type": "scatter3d",
         "x": [
          0.6810946351389718,
          0.837073768912754,
          null
         ],
         "y": [
          0.039642204176439155,
          0.3622228018579693,
          null
         ],
         "z": [
          0.2593590931114531,
          0.8702597155245111,
          null
         ]
        },
        {
         "hoverinfo": "none",
         "line": {
          "color": "rgb(168, 0, 86)",
          "width": 3.417452830188679
         },
         "mode": "lines",
         "type": "scatter3d",
         "x": [
          0.33479276255754076,
          0.7061681308720446,
          null
         ],
         "y": [
          0.7326971178584895,
          0.6216850496137061,
          null
         ],
         "z": [
          0.3900081144859531,
          0.8666415784847047,
          null
         ]
        },
        {
         "hoverinfo": "none",
         "line": {
          "color": "rgb(191, 0, 63)",
          "width": 3.8985849056603774
         },
         "mode": "lines",
         "type": "scatter3d",
         "x": [
          0.33479276255754076,
          0.7042427459213977,
          null
         ],
         "y": [
          0.7326971178584895,
          0.5640636065755076,
          null
         ],
         "z": [
          0.3900081144859531,
          0.9627513593260234,
          null
         ]
        },
        {
         "hoverinfo": "none",
         "line": {
          "color": "rgb(177, 0, 77)",
          "width": 4.379716981132075
         },
         "mode": "lines",
         "type": "scatter3d",
         "x": [
          0.33479276255754076,
          0.4450453567440472,
          null
         ],
         "y": [
          0.7326971178584895,
          0.8914027548364141,
          null
         ],
         "z": [
          0.3900081144859531,
          0.5235765198984705,
          null
         ]
        },
        {
         "hoverinfo": "none",
         "line": {
          "color": "rgb(207, 0, 47)",
          "width": 4.117924528301887
         },
         "mode": "lines",
         "type": "scatter3d",
         "x": [
          0.33479276255754076,
          0.3655115350989856,
          null
         ],
         "y": [
          0.7326971178584895,
          0.4028884444792149,
          null
         ],
         "z": [
          0.3900081144859531,
          0.4806267276048667,
          null
         ]
        },
        {
         "hoverinfo": "none",
         "line": {
          "color": "rgb(177, 0, 77)",
          "width": 4.797169811320755
         },
         "mode": "lines",
         "type": "scatter3d",
         "x": [
          0.33479276255754076,
          0.14223414091899655,
          null
         ],
         "y": [
          0.7326971178584895,
          0.12395302638169958,
          null
         ],
         "z": [
          0.3900081144859531,
          0.6565769163574142,
          null
         ]
        },
        {
         "hoverinfo": "none",
         "line": {
          "color": "rgb(137, 0, 117)",
          "width": 3.063679245283019
         },
         "mode": "lines",
         "type": "scatter3d",
         "x": [
          0.33479276255754076,
          0.8291380248341068,
          null
         ],
         "y": [
          0.7326971178584895,
          0.9364453871995326,
          null
         ],
         "z": [
          0.3900081144859531,
          0.5810762895460602,
          null
         ]
        },
        {
         "hoverinfo": "none",
         "line": {
          "color": "rgb(170, 0, 85)",
          "width": 3.0707547169811322
         },
         "mode": "lines",
         "type": "scatter3d",
         "x": [
          0.33479276255754076,
          0.837073768912754,
          null
         ],
         "y": [
          0.7326971178584895,
          0.3622228018579693,
          null
         ],
         "z": [
          0.3900081144859531,
          0.8702597155245111,
          null
         ]
        },
        {
         "hoverinfo": "none",
         "line": {
          "color": "rgb(207, 0, 47)",
          "width": 3.9658018867924527
         },
         "mode": "lines",
         "type": "scatter3d",
         "x": [
          0.33479276255754076,
          0.25781086115443563,
          null
         ],
         "y": [
          0.7326971178584895,
          0.40502060699549114,
          null
         ],
         "z": [
          0.3900081144859531,
          0.4495342770916474,
          null
         ]
        },
        {
         "hoverinfo": "none",
         "line": {
          "color": "rgb(159, 0, 96)",
          "width": 3.6297169811320753
         },
         "mode": "lines",
         "type": "scatter3d",
         "x": [
          0.33479276255754076,
          0.8786142385423413,
          null
         ],
         "y": [
          0.7326971178584895,
          0.04689605003632835,
          null
         ],
         "z": [
          0.3900081144859531,
          0.8597912878636778,
          null
         ]
        },
        {
         "hoverinfo": "none",
         "line": {
          "color": "rgb(188, 0, 66)",
          "width": 3.268867924528302
         },
         "mode": "lines",
         "type": "scatter3d",
         "x": [
          0.33479276255754076,
          0.85338356930687,
          null
         ],
         "y": [
          0.7326971178584895,
          0.6249644555160049,
          null
         ],
         "z": [
          0.3900081144859531,
          0.7450583706862679,
          null
         ]
        },
        {
         "hoverinfo": "none",
         "line": {
          "color": "rgb(188, 0, 66)",
          "width": 3.55188679245283
         },
         "mode": "lines",
         "type": "scatter3d",
         "x": [
          0.33479276255754076,
          0.4348965708925725,
          null
         ],
         "y": [
          0.7326971178584895,
          0.6871470243772101,
          null
         ],
         "z": [
          0.3900081144859531,
          0.8702755527886045,
          null
         ]
        },
        {
         "hoverinfo": "none",
         "line": {
          "color": "rgb(195, 0, 59)",
          "width": 3.3183962264150946
         },
         "mode": "lines",
         "type": "scatter3d",
         "x": [
          0.33479276255754076,
          0.6897091935465549,
          null
         ],
         "y": [
          0.7326971178584895,
          0.7282678524535802,
          null
         ],
         "z": [
          0.3900081144859531,
          0.8097320726557011,
          null
         ]
        },
        {
         "hoverinfo": "none",
         "line": {
          "color": "rgb(190, 0, 64)",
          "width": 3.4952830188679247
         },
         "mode": "lines",
         "type": "scatter3d",
         "x": [
          0.33479276255754076,
          0.23695573363998956,
          null
         ],
         "y": [
          0.7326971178584895,
          0.7592729412598814,
          null
         ],
         "z": [
          0.3900081144859531,
          0.8927404284216092,
          null
         ]
        },
        {
         "hoverinfo": "none",
         "line": {
          "color": "rgb(179, 0, 75)",
          "width": 3.6191037735849054
         },
         "mode": "lines",
         "type": "scatter3d",
         "x": [
          0.25781086115443563,
          0.7061681308720446,
          null
         ],
         "y": [
          0.40502060699549114,
          0.6216850496137061,
          null
         ],
         "z": [
          0.4495342770916474,
          0.8666415784847047,
          null
         ]
        },
        {
         "hoverinfo": "none",
         "line": {
          "color": "rgb(189, 0, 65)",
          "width": 3.7075471698113205
         },
         "mode": "lines",
         "type": "scatter3d",
         "x": [
          0.25781086115443563,
          0.7042427459213977,
          null
         ],
         "y": [
          0.40502060699549114,
          0.5640636065755076,
          null
         ],
         "z": [
          0.4495342770916474,
          0.9627513593260234,
          null
         ]
        },
        {
         "hoverinfo": "none",
         "line": {
          "color": "rgb(219, 0, 35)",
          "width": 7.591981132075472
         },
         "mode": "lines",
         "type": "scatter3d",
         "x": [
          0.25781086115443563,
          0.4348965708925725,
          null
         ],
         "y": [
          0.40502060699549114,
          0.6871470243772101,
          null
         ],
         "z": [
          0.4495342770916474,
          0.8702755527886045,
          null
         ]
        },
        {
         "hoverinfo": "none",
         "line": {
          "color": "rgb(199, 0, 55)",
          "width": 5.8620283018867925
         },
         "mode": "lines",
         "type": "scatter3d",
         "x": [
          0.25781086115443563,
          0.23695573363998956,
          null
         ],
         "y": [
          0.40502060699549114,
          0.7592729412598814,
          null
         ],
         "z": [
          0.4495342770916474,
          0.8927404284216092,
          null
         ]
        },
        {
         "hoverinfo": "none",
         "line": {
          "color": "rgb(185, 0, 70)",
          "width": 3.7252358490566038
         },
         "mode": "lines",
         "type": "scatter3d",
         "x": [
          0.25781086115443563,
          0.14223414091899655,
          null
         ],
         "y": [
          0.40502060699549114,
          0.12395302638169958,
          null
         ],
         "z": [
          0.4495342770916474,
          0.6565769163574142,
          null
         ]
        },
        {
         "hoverinfo": "none",
         "line": {
          "color": "rgb(192, 0, 62)",
          "width": 3.7712264150943398
         },
         "mode": "lines",
         "type": "scatter3d",
         "x": [
          0.25781086115443563,
          0.8786142385423413,
          null
         ],
         "y": [
          0.40502060699549114,
          0.04689605003632835,
          null
         ],
         "z": [
          0.4495342770916474,
          0.8597912878636778,
          null
         ]
        },
        {
         "hoverinfo": "none",
         "line": {
          "color": "rgb(208, 0, 46)",
          "width": 5.136792452830189
         },
         "mode": "lines",
         "type": "scatter3d",
         "x": [
          0.25781086115443563,
          0.4450453567440472,
          null
         ],
         "y": [
          0.40502060699549114,
          0.8914027548364141,
          null
         ],
         "z": [
          0.4495342770916474,
          0.5235765198984705,
          null
         ]
        },
        {
         "hoverinfo": "none",
         "line": {
          "color": "rgb(221, 0, 33)",
          "width": 5.242924528301886
         },
         "mode": "lines",
         "type": "scatter3d",
         "x": [
          0.25781086115443563,
          0.6897091935465549,
          null
         ],
         "y": [
          0.40502060699549114,
          0.7282678524535802,
          null
         ],
         "z": [
          0.4495342770916474,
          0.8097320726557011,
          null
         ]
        },
        {
         "hoverinfo": "none",
         "line": {
          "color": "rgb(230, 0, 24)",
          "width": 3.106132075471698
         },
         "mode": "lines",
         "type": "scatter3d",
         "x": [
          0.25781086115443563,
          0.85338356930687,
          null
         ],
         "y": [
          0.40502060699549114,
          0.6249644555160049,
          null
         ],
         "z": [
          0.4495342770916474,
          0.7450583706862679,
          null
         ]
        },
        {
         "hoverinfo": "none",
         "line": {
          "color": "rgb(193, 0, 61)",
          "width": 4.192216981132075
         },
         "mode": "lines",
         "type": "scatter3d",
         "x": [
          0.25781086115443563,
          0.3655115350989856,
          null
         ],
         "y": [
          0.40502060699549114,
          0.4028884444792149,
          null
         ],
         "z": [
          0.4495342770916474,
          0.4806267276048667,
          null
         ]
        },
        {
         "hoverinfo": "none",
         "line": {
          "color": "rgb(141, 0, 113)",
          "width": 3.152122641509434
         },
         "mode": "lines",
         "type": "scatter3d",
         "x": [
          0.25781086115443563,
          0.837073768912754,
          null
         ],
         "y": [
          0.40502060699549114,
          0.3622228018579693,
          null
         ],
         "z": [
          0.4495342770916474,
          0.8702597155245111,
          null
         ]
        },
        {
         "hoverinfo": "none",
         "line": {
          "color": "rgb(191, 0, 63)",
          "width": 3.0318396226415096
         },
         "mode": "lines",
         "type": "scatter3d",
         "x": [
          0.25781086115443563,
          0.8291380248341068,
          null
         ],
         "y": [
          0.40502060699549114,
          0.9364453871995326,
          null
         ],
         "z": [
          0.4495342770916474,
          0.5810762895460602,
          null
         ]
        },
        {
         "hoverinfo": "none",
         "line": {
          "color": "rgb(170, 0, 85)",
          "width": 3.045990566037736
         },
         "mode": "lines",
         "type": "scatter3d",
         "x": [
          0.837073768912754,
          0.7042427459213977,
          null
         ],
         "y": [
          0.3622228018579693,
          0.5640636065755076,
          null
         ],
         "z": [
          0.8702597155245111,
          0.9627513593260234,
          null
         ]
        },
        {
         "hoverinfo": "none",
         "line": {
          "color": "rgb(180, 0, 74)",
          "width": 3.152122641509434
         },
         "mode": "lines",
         "type": "scatter3d",
         "x": [
          0.837073768912754,
          0.14223414091899655,
          null
         ],
         "y": [
          0.3622228018579693,
          0.12395302638169958,
          null
         ],
         "z": [
          0.8702597155245111,
          0.6565769163574142,
          null
         ]
        },
        {
         "hoverinfo": "none",
         "line": {
          "color": "rgb(147, 0, 107)",
          "width": 3.145047169811321
         },
         "mode": "lines",
         "type": "scatter3d",
         "x": [
          0.837073768912754,
          0.8786142385423413,
          null
         ],
         "y": [
          0.3622228018579693,
          0.04689605003632835,
          null
         ],
         "z": [
          0.8702597155245111,
          0.8597912878636778,
          null
         ]
        },
        {
         "hoverinfo": "none",
         "line": {
          "color": "rgb(191, 0, 63)",
          "width": 3.134433962264151
         },
         "mode": "lines",
         "type": "scatter3d",
         "x": [
          0.837073768912754,
          0.23695573363998956,
          null
         ],
         "y": [
          0.3622228018579693,
          0.7592729412598814,
          null
         ],
         "z": [
          0.8702597155245111,
          0.8927404284216092,
          null
         ]
        },
        {
         "hoverinfo": "none",
         "line": {
          "color": "rgb(153, 0, 102)",
          "width": 3.0601415094339623
         },
         "mode": "lines",
         "type": "scatter3d",
         "x": [
          0.837073768912754,
          0.4348965708925725,
          null
         ],
         "y": [
          0.3622228018579693,
          0.6871470243772101,
          null
         ],
         "z": [
          0.8702597155245111,
          0.8702755527886045,
          null
         ]
        },
        {
         "hoverinfo": "none",
         "line": {
          "color": "rgb(113, 0, 141)",
          "width": 3.053066037735849
         },
         "mode": "lines",
         "type": "scatter3d",
         "x": [
          0.837073768912754,
          0.6897091935465549,
          null
         ],
         "y": [
          0.3622228018579693,
          0.7282678524535802,
          null
         ],
         "z": [
          0.8702597155245111,
          0.8097320726557011,
          null
         ]
        },
        {
         "hoverinfo": "none",
         "line": {
          "color": "rgb(143, 0, 111)",
          "width": 3.0955188679245285
         },
         "mode": "lines",
         "type": "scatter3d",
         "x": [
          0.837073768912754,
          0.3655115350989856,
          null
         ],
         "y": [
          0.3622228018579693,
          0.4028884444792149,
          null
         ],
         "z": [
          0.8702597155245111,
          0.4806267276048667,
          null
         ]
        },
        {
         "hoverinfo": "none",
         "line": {
          "color": "rgb(148, 0, 106)",
          "width": 3.0742924528301887
         },
         "mode": "lines",
         "type": "scatter3d",
         "x": [
          0.837073768912754,
          0.4450453567440472,
          null
         ],
         "y": [
          0.3622228018579693,
          0.8914027548364141,
          null
         ],
         "z": [
          0.8702597155245111,
          0.5235765198984705,
          null
         ]
        },
        {
         "hoverinfo": "none",
         "line": {
          "color": "rgb(102, 0, 153)",
          "width": 3.0212264150943398
         },
         "mode": "lines",
         "type": "scatter3d",
         "x": [
          0.837073768912754,
          0.85338356930687,
          null
         ],
         "y": [
          0.3622228018579693,
          0.6249644555160049,
          null
         ],
         "z": [
          0.8702597155245111,
          0.7450583706862679,
          null
         ]
        },
        {
         "hoverinfo": "none",
         "line": {
          "color": "rgb(255, 0, 0)",
          "width": 3.0141509433962264
         },
         "mode": "lines",
         "type": "scatter3d",
         "x": [
          0.837073768912754,
          0.7061681308720446,
          null
         ],
         "y": [
          0.3622228018579693,
          0.6216850496137061,
          null
         ],
         "z": [
          0.8702597155245111,
          0.8666415784847047,
          null
         ]
        },
        {
         "hoverinfo": "none",
         "line": {
          "color": "rgb(255, 0, 0)",
          "width": 3
         },
         "mode": "lines",
         "type": "scatter3d",
         "x": [
          0.837073768912754,
          0.8291380248341068,
          null
         ],
         "y": [
          0.3622228018579693,
          0.9364453871995326,
          null
         ],
         "z": [
          0.8702597155245111,
          0.5810762895460602,
          null
         ]
        },
        {
         "hoverinfo": "none",
         "line": {
          "color": "rgb(171, 0, 83)",
          "width": 6.169811320754717
         },
         "mode": "lines",
         "type": "scatter3d",
         "x": [
          0.8786142385423413,
          0.14223414091899655,
          null
         ],
         "y": [
          0.04689605003632835,
          0.12395302638169958,
          null
         ],
         "z": [
          0.8597912878636778,
          0.6565769163574142,
          null
         ]
        },
        {
         "hoverinfo": "none",
         "line": {
          "color": "rgb(182, 0, 72)",
          "width": 3.73938679245283
         },
         "mode": "lines",
         "type": "scatter3d",
         "x": [
          0.8786142385423413,
          0.7042427459213977,
          null
         ],
         "y": [
          0.04689605003632835,
          0.5640636065755076,
          null
         ],
         "z": [
          0.8597912878636778,
          0.9627513593260234,
          null
         ]
        },
        {
         "hoverinfo": "none",
         "line": {
          "color": "rgb(175, 0, 80)",
          "width": 4.018867924528302
         },
         "mode": "lines",
         "type": "scatter3d",
         "x": [
          0.8786142385423413,
          0.4450453567440472,
          null
         ],
         "y": [
          0.04689605003632835,
          0.8914027548364141,
          null
         ],
         "z": [
          0.8597912878636778,
          0.5235765198984705,
          null
         ]
        },
        {
         "hoverinfo": "none",
         "line": {
          "color": "rgb(209, 0, 45)",
          "width": 3.7783018867924527
         },
         "mode": "lines",
         "type": "scatter3d",
         "x": [
          0.8786142385423413,
          0.3655115350989856,
          null
         ],
         "y": [
          0.04689605003632835,
          0.4028884444792149,
          null
         ],
         "z": [
          0.8597912878636778,
          0.4806267276048667,
          null
         ]
        },
        {
         "hoverinfo": "none",
         "line": {
          "color": "rgb(198, 0, 56)",
          "width": 3.456367924528302
         },
         "mode": "lines",
         "type": "scatter3d",
         "x": [
          0.8786142385423413,
          0.4348965708925725,
          null
         ],
         "y": [
          0.04689605003632835,
          0.6871470243772101,
          null
         ],
         "z": [
          0.8597912878636778,
          0.8702755527886045,
          null
         ]
        },
        {
         "hoverinfo": "none",
         "line": {
          "color": "rgb(186, 0, 68)",
          "width": 3.4139150943396226
         },
         "mode": "lines",
         "type": "scatter3d",
         "x": [
          0.8786142385423413,
          0.6897091935465549,
          null
         ],
         "y": [
          0.04689605003632835,
          0.7282678524535802,
          null
         ],
         "z": [
          0.8597912878636778,
          0.8097320726557011,
          null
         ]
        },
        {
         "hoverinfo": "none",
         "line": {
          "color": "rgb(184, 0, 70)",
          "width": 3.2087264150943398
         },
         "mode": "lines",
         "type": "scatter3d",
         "x": [
          0.8786142385423413,
          0.85338356930687,
          null
         ],
         "y": [
          0.04689605003632835,
          0.6249644555160049,
          null
         ],
         "z": [
          0.8597912878636778,
          0.7450583706862679,
          null
         ]
        },
        {
         "hoverinfo": "none",
         "line": {
          "color": "rgb(193, 0, 61)",
          "width": 3.1875
         },
         "mode": "lines",
         "type": "scatter3d",
         "x": [
          0.8786142385423413,
          0.7061681308720446,
          null
         ],
         "y": [
          0.04689605003632835,
          0.6216850496137061,
          null
         ],
         "z": [
          0.8597912878636778,
          0.8666415784847047,
          null
         ]
        },
        {
         "hoverinfo": "none",
         "line": {
          "color": "rgb(162, 0, 92)",
          "width": 3.6049528301886795
         },
         "mode": "lines",
         "type": "scatter3d",
         "x": [
          0.8786142385423413,
          0.23695573363998956,
          null
         ],
         "y": [
          0.04689605003632835,
          0.7592729412598814,
          null
         ],
         "z": [
          0.8597912878636778,
          0.8927404284216092,
          null
         ]
        },
        {
         "hoverinfo": "none",
         "line": {
          "color": "rgb(255, 0, 0)",
          "width": 3.0212264150943398
         },
         "mode": "lines",
         "type": "scatter3d",
         "x": [
          0.8786142385423413,
          0.8291380248341068,
          null
         ],
         "y": [
          0.04689605003632835,
          0.9364453871995326,
          null
         ],
         "z": [
          0.8597912878636778,
          0.5810762895460602,
          null
         ]
        },
        {
         "hoverinfo": "none",
         "line": {
          "color": "rgb(182, 0, 72)",
          "width": 3.1556603773584904
         },
         "mode": "lines",
         "type": "scatter3d",
         "x": [
          0.3655115350989856,
          0.7061681308720446,
          null
         ],
         "y": [
          0.4028884444792149,
          0.6216850496137061,
          null
         ],
         "z": [
          0.4806267276048667,
          0.8666415784847047,
          null
         ]
        },
        {
         "hoverinfo": "none",
         "line": {
          "color": "rgb(198, 0, 56)",
          "width": 5.80188679245283
         },
         "mode": "lines",
         "type": "scatter3d",
         "x": [
          0.3655115350989856,
          0.14223414091899655,
          null
         ],
         "y": [
          0.4028884444792149,
          0.12395302638169958,
          null
         ],
         "z": [
          0.4806267276048667,
          0.6565769163574142,
          null
         ]
        },
        {
         "hoverinfo": "none",
         "line": {
          "color": "rgb(172, 0, 82)",
          "width": 4.001179245283019
         },
         "mode": "lines",
         "type": "scatter3d",
         "x": [
          0.3655115350989856,
          0.4450453567440472,
          null
         ],
         "y": [
          0.4028884444792149,
          0.8914027548364141,
          null
         ],
         "z": [
          0.4806267276048667,
          0.5235765198984705,
          null
         ]
        },
        {
         "hoverinfo": "none",
         "line": {
          "color": "rgb(201, 0, 53)",
          "width": 3.3077830188679247
         },
         "mode": "lines",
         "type": "scatter3d",
         "x": [
          0.3655115350989856,
          0.85338356930687,
          null
         ],
         "y": [
          0.4028884444792149,
          0.6249644555160049,
          null
         ],
         "z": [
          0.4806267276048667,
          0.7450583706862679,
          null
         ]
        },
        {
         "hoverinfo": "none",
         "line": {
          "color": "rgb(192, 0, 62)",
          "width": 3.332547169811321
         },
         "mode": "lines",
         "type": "scatter3d",
         "x": [
          0.3655115350989856,
          0.4348965708925725,
          null
         ],
         "y": [
          0.4028884444792149,
          0.6871470243772101,
          null
         ],
         "z": [
          0.4806267276048667,
          0.8702755527886045,
          null
         ]
        },
        {
         "hoverinfo": "none",
         "line": {
          "color": "rgb(170, 0, 85)",
          "width": 3.626179245283019
         },
         "mode": "lines",
         "type": "scatter3d",
         "x": [
          0.3655115350989856,
          0.23695573363998956,
          null
         ],
         "y": [
          0.4028884444792149,
          0.7592729412598814,
          null
         ],
         "z": [
          0.4806267276048667,
          0.8927404284216092,
          null
         ]
        },
        {
         "hoverinfo": "none",
         "line": {
          "color": "rgb(219, 0, 35)",
          "width": 3.3962264150943398
         },
         "mode": "lines",
         "type": "scatter3d",
         "x": [
          0.3655115350989856,
          0.7042427459213977,
          null
         ],
         "y": [
          0.4028884444792149,
          0.5640636065755076,
          null
         ],
         "z": [
          0.4806267276048667,
          0.9627513593260234,
          null
         ]
        },
        {
         "hoverinfo": "none",
         "line": {
          "color": "rgb(178, 0, 76)",
          "width": 3.410377358490566
         },
         "mode": "lines",
         "type": "scatter3d",
         "x": [
          0.3655115350989856,
          0.6897091935465549,
          null
         ],
         "y": [
          0.4028884444792149,
          0.7282678524535802,
          null
         ],
         "z": [
          0.4806267276048667,
          0.8097320726557011,
          null
         ]
        },
        {
         "hoverinfo": "none",
         "line": {
          "color": "rgb(255, 0, 0)",
          "width": 3.0070754716981134
         },
         "mode": "lines",
         "type": "scatter3d",
         "x": [
          0.3655115350989856,
          0.8291380248341068,
          null
         ],
         "y": [
          0.4028884444792149,
          0.9364453871995326,
          null
         ],
         "z": [
          0.4806267276048667,
          0.5810762895460602,
          null
         ]
        },
        {
         "hoverinfo": "none",
         "line": {
          "color": "rgb(146, 0, 108)",
          "width": 3.2582547169811322
         },
         "mode": "lines",
         "type": "scatter3d",
         "x": [
          0.7061681308720446,
          0.23695573363998956,
          null
         ],
         "y": [
          0.6216850496137061,
          0.7592729412598814,
          null
         ],
         "z": [
          0.8666415784847047,
          0.8927404284216092,
          null
         ]
        },
        {
         "hoverinfo": "none",
         "line": {
          "color": "rgb(163, 0, 91)",
          "width": 3.357311320754717
         },
         "mode": "lines",
         "type": "scatter3d",
         "x": [
          0.7061681308720446,
          0.7042427459213977,
          null
         ],
         "y": [
          0.6216850496137061,
          0.5640636065755076,
          null
         ],
         "z": [
          0.8666415784847047,
          0.9627513593260234,
          null
         ]
        },
        {
         "hoverinfo": "none",
         "line": {
          "color": "rgb(127, 0, 127)",
          "width": 3.1273584905660377
         },
         "mode": "lines",
         "type": "scatter3d",
         "x": [
          0.7061681308720446,
          0.6897091935465549,
          null
         ],
         "y": [
          0.6216850496137061,
          0.7282678524535802,
          null
         ],
         "z": [
          0.8666415784847047,
          0.8097320726557011,
          null
         ]
        },
        {
         "hoverinfo": "none",
         "line": {
          "color": "rgb(156, 0, 98)",
          "width": 3.2794811320754715
         },
         "mode": "lines",
         "type": "scatter3d",
         "x": [
          0.7061681308720446,
          0.4450453567440472,
          null
         ],
         "y": [
          0.6216850496137061,
          0.8914027548364141,
          null
         ],
         "z": [
          0.8666415784847047,
          0.5235765198984705,
          null
         ]
        },
        {
         "hoverinfo": "none",
         "line": {
          "color": "rgb(159, 0, 95)",
          "width": 3.297169811320755
         },
         "mode": "lines",
         "type": "scatter3d",
         "x": [
          0.7061681308720446,
          0.14223414091899655,
          null
         ],
         "y": [
          0.6216850496137061,
          0.12395302638169958,
          null
         ],
         "z": [
          0.8666415784847047,
          0.6565769163574142,
          null
         ]
        },
        {
         "hoverinfo": "none",
         "line": {
          "color": "rgb(177, 0, 77)",
          "width": 3.1875
         },
         "mode": "lines",
         "type": "scatter3d",
         "x": [
          0.7061681308720446,
          0.4348965708925725,
          null
         ],
         "y": [
          0.6216850496137061,
          0.6871470243772101,
          null
         ],
         "z": [
          0.8666415784847047,
          0.8702755527886045,
          null
         ]
        },
        {
         "hoverinfo": "none",
         "line": {
          "color": "rgb(204, 0, 51)",
          "width": 3.045990566037736
         },
         "mode": "lines",
         "type": "scatter3d",
         "x": [
          0.7061681308720446,
          0.85338356930687,
          null
         ],
         "y": [
          0.6216850496137061,
          0.6249644555160049,
          null
         ],
         "z": [
          0.8666415784847047,
          0.7450583706862679,
          null
         ]
        },
        {
         "hoverinfo": "none",
         "line": {
          "color": "rgb(255, 0, 0)",
          "width": 3.017688679245283
         },
         "mode": "lines",
         "type": "scatter3d",
         "x": [
          0.7061681308720446,
          0.8291380248341068,
          null
         ],
         "y": [
          0.6216850496137061,
          0.9364453871995326,
          null
         ],
         "z": [
          0.8666415784847047,
          0.5810762895460602,
          null
         ]
        },
        {
         "hoverinfo": "none",
         "line": {
          "color": "rgb(177, 0, 77)",
          "width": 3.297169811320755
         },
         "mode": "lines",
         "type": "scatter3d",
         "x": [
          0.4348965708925725,
          0.7042427459213977,
          null
         ],
         "y": [
          0.6871470243772101,
          0.5640636065755076,
          null
         ],
         "z": [
          0.8702755527886045,
          0.9627513593260234,
          null
         ]
        },
        {
         "hoverinfo": "none",
         "line": {
          "color": "rgb(170, 0, 85)",
          "width": 3.0318396226415096
         },
         "mode": "lines",
         "type": "scatter3d",
         "x": [
          0.4348965708925725,
          0.85338356930687,
          null
         ],
         "y": [
          0.6871470243772101,
          0.6249644555160049,
          null
         ],
         "z": [
          0.8702755527886045,
          0.7450583706862679,
          null
         ]
        },
        {
         "hoverinfo": "none",
         "line": {
          "color": "rgb(202, 0, 52)",
          "width": 4.418632075471698
         },
         "mode": "lines",
         "type": "scatter3d",
         "x": [
          0.4348965708925725,
          0.4450453567440472,
          null
         ],
         "y": [
          0.6871470243772101,
          0.8914027548364141,
          null
         ],
         "z": [
          0.8702755527886045,
          0.5235765198984705,
          null
         ]
        },
        {
         "hoverinfo": "none",
         "line": {
          "color": "rgb(143, 0, 111)",
          "width": 3.5235849056603774
         },
         "mode": "lines",
         "type": "scatter3d",
         "x": [
          0.4348965708925725,
          0.14223414091899655,
          null
         ],
         "y": [
          0.6871470243772101,
          0.12395302638169958,
          null
         ],
         "z": [
          0.8702755527886045,
          0.6565769163574142,
          null
         ]
        },
        {
         "hoverinfo": "none",
         "line": {
          "color": "rgb(178, 0, 76)",
          "width": 3.9091981132075473
         },
         "mode": "lines",
         "type": "scatter3d",
         "x": [
          0.4348965708925725,
          0.23695573363998956,
          null
         ],
         "y": [
          0.6871470243772101,
          0.7592729412598814,
          null
         ],
         "z": [
          0.8702755527886045,
          0.8927404284216092,
          null
         ]
        },
        {
         "hoverinfo": "none",
         "line": {
          "color": "rgb(200, 0, 54)",
          "width": 3.4669811320754715
         },
         "mode": "lines",
         "type": "scatter3d",
         "x": [
          0.4348965708925725,
          0.6897091935465549,
          null
         ],
         "y": [
          0.6871470243772101,
          0.7282678524535802,
          null
         ],
         "z": [
          0.8702755527886045,
          0.8097320726557011,
          null
         ]
        },
        {
         "hoverinfo": "none",
         "line": {
          "color": "rgb(255, 0, 0)",
          "width": 3.0247641509433962
         },
         "mode": "lines",
         "type": "scatter3d",
         "x": [
          0.4348965708925725,
          0.8291380248341068,
          null
         ],
         "y": [
          0.6871470243772101,
          0.9364453871995326,
          null
         ],
         "z": [
          0.8702755527886045,
          0.5810762895460602,
          null
         ]
        },
        {
         "hoverinfo": "none",
         "line": {
          "color": "rgb(169, 0, 85)",
          "width": 8.929245283018869
         },
         "mode": "lines",
         "type": "scatter3d",
         "x": [
          0.14223414091899655,
          0.4450453567440472,
          null
         ],
         "y": [
          0.12395302638169958,
          0.8914027548364141,
          null
         ],
         "z": [
          0.6565769163574142,
          0.5235765198984705,
          null
         ]
        },
        {
         "hoverinfo": "none",
         "line": {
          "color": "rgb(178, 0, 76)",
          "width": 3.6580188679245285
         },
         "mode": "lines",
         "type": "scatter3d",
         "x": [
          0.14223414091899655,
          0.23695573363998956,
          null
         ],
         "y": [
          0.12395302638169958,
          0.7592729412598814,
          null
         ],
         "z": [
          0.6565769163574142,
          0.8927404284216092,
          null
         ]
        },
        {
         "hoverinfo": "none",
         "line": {
          "color": "rgb(200, 0, 54)",
          "width": 3.76061320754717
         },
         "mode": "lines",
         "type": "scatter3d",
         "x": [
          0.14223414091899655,
          0.85338356930687,
          null
         ],
         "y": [
          0.12395302638169958,
          0.6249644555160049,
          null
         ],
         "z": [
          0.6565769163574142,
          0.7450583706862679,
          null
         ]
        },
        {
         "hoverinfo": "none",
         "line": {
          "color": "rgb(180, 0, 74)",
          "width": 4.188679245283019
         },
         "mode": "lines",
         "type": "scatter3d",
         "x": [
          0.14223414091899655,
          0.6897091935465549,
          null
         ],
         "y": [
          0.12395302638169958,
          0.7282678524535802,
          null
         ],
         "z": [
          0.6565769163574142,
          0.8097320726557011,
          null
         ]
        },
        {
         "hoverinfo": "none",
         "line": {
          "color": "rgb(192, 0, 62)",
          "width": 3.73938679245283
         },
         "mode": "lines",
         "type": "scatter3d",
         "x": [
          0.14223414091899655,
          0.7042427459213977,
          null
         ],
         "y": [
          0.12395302638169958,
          0.5640636065755076,
          null
         ],
         "z": [
          0.6565769163574142,
          0.9627513593260234,
          null
         ]
        },
        {
         "hoverinfo": "none",
         "line": {
          "color": "rgb(159, 0, 95)",
          "width": 3.042452830188679
         },
         "mode": "lines",
         "type": "scatter3d",
         "x": [
          0.14223414091899655,
          0.8291380248341068,
          null
         ],
         "y": [
          0.12395302638169958,
          0.9364453871995326,
          null
         ],
         "z": [
          0.6565769163574142,
          0.5810762895460602,
          null
         ]
        },
        {
         "hoverinfo": "none",
         "line": {
          "color": "rgb(228, 0, 26)",
          "width": 3.640330188679245
         },
         "mode": "lines",
         "type": "scatter3d",
         "x": [
          0.7042427459213977,
          0.85338356930687,
          null
         ],
         "y": [
          0.5640636065755076,
          0.6249644555160049,
          null
         ],
         "z": [
          0.9627513593260234,
          0.7450583706862679,
          null
         ]
        },
        {
         "hoverinfo": "none",
         "line": {
          "color": "rgb(207, 0, 47)",
          "width": 3.2724056603773586
         },
         "mode": "lines",
         "type": "scatter3d",
         "x": [
          0.7042427459213977,
          0.4450453567440472,
          null
         ],
         "y": [
          0.5640636065755076,
          0.8914027548364141,
          null
         ],
         "z": [
          0.9627513593260234,
          0.5235765198984705,
          null
         ]
        },
        {
         "hoverinfo": "none",
         "line": {
          "color": "rgb(202, 0, 52)",
          "width": 3.555424528301887
         },
         "mode": "lines",
         "type": "scatter3d",
         "x": [
          0.7042427459213977,
          0.23695573363998956,
          null
         ],
         "y": [
          0.5640636065755076,
          0.7592729412598814,
          null
         ],
         "z": [
          0.9627513593260234,
          0.8927404284216092,
          null
         ]
        },
        {
         "hoverinfo": "none",
         "line": {
          "color": "rgb(191, 0, 63)",
          "width": 3.233490566037736
         },
         "mode": "lines",
         "type": "scatter3d",
         "x": [
          0.7042427459213977,
          0.6897091935465549,
          null
         ],
         "y": [
          0.5640636065755076,
          0.7282678524535802,
          null
         ],
         "z": [
          0.9627513593260234,
          0.8097320726557011,
          null
         ]
        },
        {
         "hoverinfo": "none",
         "line": {
          "color": "rgb(228, 0, 26)",
          "width": 3.169811320754717
         },
         "mode": "lines",
         "type": "scatter3d",
         "x": [
          0.7042427459213977,
          0.8291380248341068,
          null
         ],
         "y": [
          0.5640636065755076,
          0.9364453871995326,
          null
         ],
         "z": [
          0.9627513593260234,
          0.5810762895460602,
          null
         ]
        },
        {
         "hoverinfo": "none",
         "line": {
          "color": "rgb(109, 0, 145)",
          "width": 3.035377358490566
         },
         "mode": "lines",
         "type": "scatter3d",
         "x": [
          0.4450453567440472,
          0.8291380248341068,
          null
         ],
         "y": [
          0.8914027548364141,
          0.9364453871995326,
          null
         ],
         "z": [
          0.5235765198984705,
          0.5810762895460602,
          null
         ]
        },
        {
         "hoverinfo": "none",
         "line": {
          "color": "rgb(165, 0, 89)",
          "width": 3.6898584905660377
         },
         "mode": "lines",
         "type": "scatter3d",
         "x": [
          0.4450453567440472,
          0.6897091935465549,
          null
         ],
         "y": [
          0.8914027548364141,
          0.7282678524535802,
          null
         ],
         "z": [
          0.5235765198984705,
          0.8097320726557011,
          null
         ]
        },
        {
         "hoverinfo": "none",
         "line": {
          "color": "rgb(149, 0, 105)",
          "width": 3.5129716981132075
         },
         "mode": "lines",
         "type": "scatter3d",
         "x": [
          0.4450453567440472,
          0.23695573363998956,
          null
         ],
         "y": [
          0.8914027548364141,
          0.7592729412598814,
          null
         ],
         "z": [
          0.5235765198984705,
          0.8927404284216092,
          null
         ]
        },
        {
         "hoverinfo": "none",
         "line": {
          "color": "rgb(139, 0, 115)",
          "width": 3.134433962264151
         },
         "mode": "lines",
         "type": "scatter3d",
         "x": [
          0.4450453567440472,
          0.85338356930687,
          null
         ],
         "y": [
          0.8914027548364141,
          0.6249644555160049,
          null
         ],
         "z": [
          0.5235765198984705,
          0.7450583706862679,
          null
         ]
        },
        {
         "hoverinfo": "none",
         "line": {
          "color": "rgb(168, 0, 86)",
          "width": 3.7216981132075473
         },
         "mode": "lines",
         "type": "scatter3d",
         "x": [
          0.6897091935465549,
          0.23695573363998956,
          null
         ],
         "y": [
          0.7282678524535802,
          0.7592729412598814,
          null
         ],
         "z": [
          0.8097320726557011,
          0.8927404284216092,
          null
         ]
        },
        {
         "hoverinfo": "none",
         "line": {
          "color": "rgb(162, 0, 92)",
          "width": 3.077830188679245
         },
         "mode": "lines",
         "type": "scatter3d",
         "x": [
          0.6897091935465549,
          0.85338356930687,
          null
         ],
         "y": [
          0.7282678524535802,
          0.6249644555160049,
          null
         ],
         "z": [
          0.8097320726557011,
          0.7450583706862679,
          null
         ]
        },
        {
         "hoverinfo": "none",
         "line": {
          "color": "rgb(0, 0, 255)",
          "width": 3.0035377358490565
         },
         "mode": "lines",
         "type": "scatter3d",
         "x": [
          0.6897091935465549,
          0.8291380248341068,
          null
         ],
         "y": [
          0.7282678524535802,
          0.9364453871995326,
          null
         ],
         "z": [
          0.8097320726557011,
          0.5810762895460602,
          null
         ]
        },
        {
         "hoverinfo": "none",
         "line": {
          "color": "rgb(170, 0, 85)",
          "width": 3.0247641509433962
         },
         "mode": "lines",
         "type": "scatter3d",
         "x": [
          0.8291380248341068,
          0.23695573363998956,
          null
         ],
         "y": [
          0.9364453871995326,
          0.7592729412598814,
          null
         ],
         "z": [
          0.5810762895460602,
          0.8927404284216092,
          null
         ]
        },
        {
         "hoverinfo": "none",
         "line": {
          "color": "rgb(255, 0, 0)",
          "width": 3.0070754716981134
         },
         "mode": "lines",
         "type": "scatter3d",
         "x": [
          0.8291380248341068,
          0.85338356930687,
          null
         ],
         "y": [
          0.9364453871995326,
          0.6249644555160049,
          null
         ],
         "z": [
          0.5810762895460602,
          0.7450583706862679,
          null
         ]
        },
        {
         "hoverinfo": "none",
         "line": {
          "color": "rgb(246, 0, 8)",
          "width": 3.19811320754717
         },
         "mode": "lines",
         "type": "scatter3d",
         "x": [
          0.85338356930687,
          0.23695573363998956,
          null
         ],
         "y": [
          0.6249644555160049,
          0.7592729412598814,
          null
         ],
         "z": [
          0.7450583706862679,
          0.8927404284216092,
          null
         ]
        },
        {
         "hoverinfo": "text",
         "marker": {
          "color": "black",
          "size": 7
         },
         "mode": "markers",
         "text": [
          "0",
          "1",
          "2",
          "3",
          "4",
          "5",
          "6",
          "7",
          "8",
          "9",
          "10",
          "11",
          "12",
          "13",
          "14",
          "15",
          "16",
          "17",
          "18",
          "19",
          "20",
          "21",
          "22",
          "23",
          "24",
          "25",
          "26",
          "27",
          "28",
          "29",
          "30",
          "31",
          "32",
          "33",
          "34",
          "35",
          "36",
          "37",
          "38",
          "39",
          "40"
         ],
         "type": "scatter3d",
         "x": [
          0.5781474420954492,
          0.9974786392059741,
          0.8269081976546031,
          0.5070769640993297,
          0.9672546385036344,
          0.6731850383535216,
          0.32383030724903594,
          0.38083526050393113,
          0.24968210961986737,
          0.4859486407204229,
          0.0683534849703622,
          0.8372587617835248,
          0.11323545304253335,
          0.6075247522038943,
          0.24265185566836778,
          0.0658836711597871,
          0.7338995273436147,
          0.09571227726952747,
          0.14806572276543395,
          0.6810946351389718,
          0.33479276255754076,
          0.25781086115443563,
          0.837073768912754,
          0.8786142385423413,
          0.3655115350989856,
          0.7409079701486841,
          0.035315142935877564,
          0.3421139555252153,
          0.7061681308720446,
          0.4348965708925725,
          0.14223414091899655,
          0.17620015870114503,
          0.7042427459213977,
          0.4450453567440472,
          0.8205474656113235,
          0.6897091935465549,
          0.8291380248341068,
          0.5624903717902915,
          0.85338356930687,
          0.6755689103351104,
          0.23695573363998956
         ],
         "y": [
          0.03962630233847053,
          0.9654151690188261,
          0.8109687342353149,
          0.8188491691217841,
          0.764218580603326,
          0.7055168292886723,
          0.4317552167798936,
          0.6076174303119,
          0.5177765316149469,
          0.6788284864687022,
          0.6238850035482401,
          0.7343439957654516,
          0.47217911472176666,
          0.9029109163518165,
          0.7438435596650464,
          0.740337688156904,
          0.739822825999556,
          0.8180623447926566,
          0.6630681718320407,
          0.039642204176439155,
          0.7326971178584895,
          0.40502060699549114,
          0.3622228018579693,
          0.04689605003632835,
          0.4028884444792149,
          0.012339757625076886,
          0.02509768263656509,
          0.9753234203404255,
          0.6216850496137061,
          0.6871470243772101,
          0.12395302638169958,
          0.544346272708895,
          0.5640636065755076,
          0.8914027548364141,
          0.426555723242959,
          0.7282678524535802,
          0.9364453871995326,
          0.1971733227749065,
          0.6249644555160049,
          0.0649951339717928,
          0.7592729412598814
         ],
         "z": [
          0.12694128226583823,
          0.5987533554007182,
          0.4787142369989772,
          0.8390542840864083,
          0.5808060992531152,
          0.17388737483289174,
          0.6890190994809134,
          0.4682740656746155,
          0.9042871946404727,
          0.902936943033732,
          0.0706374889854191,
          0.029429204270443043,
          0.5587959905127201,
          0.17347116553965358,
          0.21831542776222113,
          0.754578690415864,
          0.05207323179406431,
          0.10753270747674437,
          0.1910561153057353,
          0.2593590931114531,
          0.3900081144859531,
          0.4495342770916474,
          0.8702597155245111,
          0.8597912878636778,
          0.4806267276048667,
          0.010698218369181611,
          0.7907093742518149,
          0.1808233120163345,
          0.8666415784847047,
          0.8702755527886045,
          0.6565769163574142,
          0.7214275995655965,
          0.9627513593260234,
          0.5235765198984705,
          0.25429007666412673,
          0.8097320726557011,
          0.5810762895460602,
          0.17529662220127418,
          0.7450583706862679,
          0.37274167246257084,
          0.8927404284216092
         ]
        },
        {
         "hoverinfo": "none",
         "marker": {
          "color": [
           0,
           1
          ],
          "colorbar": {
           "ticktext": [
            "0% (Red)",
            "100% (Blue)"
           ],
           "tickvals": [
            0,
            1
           ],
           "title": {
            "text": "Proportion of Hole-Adjacent Edges"
           }
          },
          "colorscale": [
           [
            0,
            "rgb(255, 0, 0)"
           ],
           [
            1,
            "rgb(0, 0, 255)"
           ]
          ],
          "size": 0
         },
         "mode": "markers",
         "type": "scatter3d",
         "x": [
          null
         ],
         "y": [
          null
         ],
         "z": [
          null
         ]
        }
       ],
       "layout": {
        "height": 1000,
        "scene": {
         "xaxis": {
          "showbackground": false
         },
         "yaxis": {
          "showbackground": false
         },
         "zaxis": {
          "showbackground": false
         }
        },
        "showlegend": false,
        "template": {
         "data": {
          "bar": [
           {
            "error_x": {
             "color": "#2a3f5f"
            },
            "error_y": {
             "color": "#2a3f5f"
            },
            "marker": {
             "line": {
              "color": "#E5ECF6",
              "width": 0.5
             },
             "pattern": {
              "fillmode": "overlay",
              "size": 10,
              "solidity": 0.2
             }
            },
            "type": "bar"
           }
          ],
          "barpolar": [
           {
            "marker": {
             "line": {
              "color": "#E5ECF6",
              "width": 0.5
             },
             "pattern": {
              "fillmode": "overlay",
              "size": 10,
              "solidity": 0.2
             }
            },
            "type": "barpolar"
           }
          ],
          "carpet": [
           {
            "aaxis": {
             "endlinecolor": "#2a3f5f",
             "gridcolor": "white",
             "linecolor": "white",
             "minorgridcolor": "white",
             "startlinecolor": "#2a3f5f"
            },
            "baxis": {
             "endlinecolor": "#2a3f5f",
             "gridcolor": "white",
             "linecolor": "white",
             "minorgridcolor": "white",
             "startlinecolor": "#2a3f5f"
            },
            "type": "carpet"
           }
          ],
          "choropleth": [
           {
            "colorbar": {
             "outlinewidth": 0,
             "ticks": ""
            },
            "type": "choropleth"
           }
          ],
          "contour": [
           {
            "colorbar": {
             "outlinewidth": 0,
             "ticks": ""
            },
            "colorscale": [
             [
              0,
              "#0d0887"
             ],
             [
              0.1111111111111111,
              "#46039f"
             ],
             [
              0.2222222222222222,
              "#7201a8"
             ],
             [
              0.3333333333333333,
              "#9c179e"
             ],
             [
              0.4444444444444444,
              "#bd3786"
             ],
             [
              0.5555555555555556,
              "#d8576b"
             ],
             [
              0.6666666666666666,
              "#ed7953"
             ],
             [
              0.7777777777777778,
              "#fb9f3a"
             ],
             [
              0.8888888888888888,
              "#fdca26"
             ],
             [
              1,
              "#f0f921"
             ]
            ],
            "type": "contour"
           }
          ],
          "contourcarpet": [
           {
            "colorbar": {
             "outlinewidth": 0,
             "ticks": ""
            },
            "type": "contourcarpet"
           }
          ],
          "heatmap": [
           {
            "colorbar": {
             "outlinewidth": 0,
             "ticks": ""
            },
            "colorscale": [
             [
              0,
              "#0d0887"
             ],
             [
              0.1111111111111111,
              "#46039f"
             ],
             [
              0.2222222222222222,
              "#7201a8"
             ],
             [
              0.3333333333333333,
              "#9c179e"
             ],
             [
              0.4444444444444444,
              "#bd3786"
             ],
             [
              0.5555555555555556,
              "#d8576b"
             ],
             [
              0.6666666666666666,
              "#ed7953"
             ],
             [
              0.7777777777777778,
              "#fb9f3a"
             ],
             [
              0.8888888888888888,
              "#fdca26"
             ],
             [
              1,
              "#f0f921"
             ]
            ],
            "type": "heatmap"
           }
          ],
          "heatmapgl": [
           {
            "colorbar": {
             "outlinewidth": 0,
             "ticks": ""
            },
            "colorscale": [
             [
              0,
              "#0d0887"
             ],
             [
              0.1111111111111111,
              "#46039f"
             ],
             [
              0.2222222222222222,
              "#7201a8"
             ],
             [
              0.3333333333333333,
              "#9c179e"
             ],
             [
              0.4444444444444444,
              "#bd3786"
             ],
             [
              0.5555555555555556,
              "#d8576b"
             ],
             [
              0.6666666666666666,
              "#ed7953"
             ],
             [
              0.7777777777777778,
              "#fb9f3a"
             ],
             [
              0.8888888888888888,
              "#fdca26"
             ],
             [
              1,
              "#f0f921"
             ]
            ],
            "type": "heatmapgl"
           }
          ],
          "histogram": [
           {
            "marker": {
             "pattern": {
              "fillmode": "overlay",
              "size": 10,
              "solidity": 0.2
             }
            },
            "type": "histogram"
           }
          ],
          "histogram2d": [
           {
            "colorbar": {
             "outlinewidth": 0,
             "ticks": ""
            },
            "colorscale": [
             [
              0,
              "#0d0887"
             ],
             [
              0.1111111111111111,
              "#46039f"
             ],
             [
              0.2222222222222222,
              "#7201a8"
             ],
             [
              0.3333333333333333,
              "#9c179e"
             ],
             [
              0.4444444444444444,
              "#bd3786"
             ],
             [
              0.5555555555555556,
              "#d8576b"
             ],
             [
              0.6666666666666666,
              "#ed7953"
             ],
             [
              0.7777777777777778,
              "#fb9f3a"
             ],
             [
              0.8888888888888888,
              "#fdca26"
             ],
             [
              1,
              "#f0f921"
             ]
            ],
            "type": "histogram2d"
           }
          ],
          "histogram2dcontour": [
           {
            "colorbar": {
             "outlinewidth": 0,
             "ticks": ""
            },
            "colorscale": [
             [
              0,
              "#0d0887"
             ],
             [
              0.1111111111111111,
              "#46039f"
             ],
             [
              0.2222222222222222,
              "#7201a8"
             ],
             [
              0.3333333333333333,
              "#9c179e"
             ],
             [
              0.4444444444444444,
              "#bd3786"
             ],
             [
              0.5555555555555556,
              "#d8576b"
             ],
             [
              0.6666666666666666,
              "#ed7953"
             ],
             [
              0.7777777777777778,
              "#fb9f3a"
             ],
             [
              0.8888888888888888,
              "#fdca26"
             ],
             [
              1,
              "#f0f921"
             ]
            ],
            "type": "histogram2dcontour"
           }
          ],
          "mesh3d": [
           {
            "colorbar": {
             "outlinewidth": 0,
             "ticks": ""
            },
            "type": "mesh3d"
           }
          ],
          "parcoords": [
           {
            "line": {
             "colorbar": {
              "outlinewidth": 0,
              "ticks": ""
             }
            },
            "type": "parcoords"
           }
          ],
          "pie": [
           {
            "automargin": true,
            "type": "pie"
           }
          ],
          "scatter": [
           {
            "fillpattern": {
             "fillmode": "overlay",
             "size": 10,
             "solidity": 0.2
            },
            "type": "scatter"
           }
          ],
          "scatter3d": [
           {
            "line": {
             "colorbar": {
              "outlinewidth": 0,
              "ticks": ""
             }
            },
            "marker": {
             "colorbar": {
              "outlinewidth": 0,
              "ticks": ""
             }
            },
            "type": "scatter3d"
           }
          ],
          "scattercarpet": [
           {
            "marker": {
             "colorbar": {
              "outlinewidth": 0,
              "ticks": ""
             }
            },
            "type": "scattercarpet"
           }
          ],
          "scattergeo": [
           {
            "marker": {
             "colorbar": {
              "outlinewidth": 0,
              "ticks": ""
             }
            },
            "type": "scattergeo"
           }
          ],
          "scattergl": [
           {
            "marker": {
             "colorbar": {
              "outlinewidth": 0,
              "ticks": ""
             }
            },
            "type": "scattergl"
           }
          ],
          "scattermapbox": [
           {
            "marker": {
             "colorbar": {
              "outlinewidth": 0,
              "ticks": ""
             }
            },
            "type": "scattermapbox"
           }
          ],
          "scatterpolar": [
           {
            "marker": {
             "colorbar": {
              "outlinewidth": 0,
              "ticks": ""
             }
            },
            "type": "scatterpolar"
           }
          ],
          "scatterpolargl": [
           {
            "marker": {
             "colorbar": {
              "outlinewidth": 0,
              "ticks": ""
             }
            },
            "type": "scatterpolargl"
           }
          ],
          "scatterternary": [
           {
            "marker": {
             "colorbar": {
              "outlinewidth": 0,
              "ticks": ""
             }
            },
            "type": "scatterternary"
           }
          ],
          "surface": [
           {
            "colorbar": {
             "outlinewidth": 0,
             "ticks": ""
            },
            "colorscale": [
             [
              0,
              "#0d0887"
             ],
             [
              0.1111111111111111,
              "#46039f"
             ],
             [
              0.2222222222222222,
              "#7201a8"
             ],
             [
              0.3333333333333333,
              "#9c179e"
             ],
             [
              0.4444444444444444,
              "#bd3786"
             ],
             [
              0.5555555555555556,
              "#d8576b"
             ],
             [
              0.6666666666666666,
              "#ed7953"
             ],
             [
              0.7777777777777778,
              "#fb9f3a"
             ],
             [
              0.8888888888888888,
              "#fdca26"
             ],
             [
              1,
              "#f0f921"
             ]
            ],
            "type": "surface"
           }
          ],
          "table": [
           {
            "cells": {
             "fill": {
              "color": "#EBF0F8"
             },
             "line": {
              "color": "white"
             }
            },
            "header": {
             "fill": {
              "color": "#C8D4E3"
             },
             "line": {
              "color": "white"
             }
            },
            "type": "table"
           }
          ]
         },
         "layout": {
          "annotationdefaults": {
           "arrowcolor": "#2a3f5f",
           "arrowhead": 0,
           "arrowwidth": 1
          },
          "autotypenumbers": "strict",
          "coloraxis": {
           "colorbar": {
            "outlinewidth": 0,
            "ticks": ""
           }
          },
          "colorscale": {
           "diverging": [
            [
             0,
             "#8e0152"
            ],
            [
             0.1,
             "#c51b7d"
            ],
            [
             0.2,
             "#de77ae"
            ],
            [
             0.3,
             "#f1b6da"
            ],
            [
             0.4,
             "#fde0ef"
            ],
            [
             0.5,
             "#f7f7f7"
            ],
            [
             0.6,
             "#e6f5d0"
            ],
            [
             0.7,
             "#b8e186"
            ],
            [
             0.8,
             "#7fbc41"
            ],
            [
             0.9,
             "#4d9221"
            ],
            [
             1,
             "#276419"
            ]
           ],
           "sequential": [
            [
             0,
             "#0d0887"
            ],
            [
             0.1111111111111111,
             "#46039f"
            ],
            [
             0.2222222222222222,
             "#7201a8"
            ],
            [
             0.3333333333333333,
             "#9c179e"
            ],
            [
             0.4444444444444444,
             "#bd3786"
            ],
            [
             0.5555555555555556,
             "#d8576b"
            ],
            [
             0.6666666666666666,
             "#ed7953"
            ],
            [
             0.7777777777777778,
             "#fb9f3a"
            ],
            [
             0.8888888888888888,
             "#fdca26"
            ],
            [
             1,
             "#f0f921"
            ]
           ],
           "sequentialminus": [
            [
             0,
             "#0d0887"
            ],
            [
             0.1111111111111111,
             "#46039f"
            ],
            [
             0.2222222222222222,
             "#7201a8"
            ],
            [
             0.3333333333333333,
             "#9c179e"
            ],
            [
             0.4444444444444444,
             "#bd3786"
            ],
            [
             0.5555555555555556,
             "#d8576b"
            ],
            [
             0.6666666666666666,
             "#ed7953"
            ],
            [
             0.7777777777777778,
             "#fb9f3a"
            ],
            [
             0.8888888888888888,
             "#fdca26"
            ],
            [
             1,
             "#f0f921"
            ]
           ]
          },
          "colorway": [
           "#636efa",
           "#EF553B",
           "#00cc96",
           "#ab63fa",
           "#FFA15A",
           "#19d3f3",
           "#FF6692",
           "#B6E880",
           "#FF97FF",
           "#FECB52"
          ],
          "font": {
           "color": "#2a3f5f"
          },
          "geo": {
           "bgcolor": "white",
           "lakecolor": "white",
           "landcolor": "#E5ECF6",
           "showlakes": true,
           "showland": true,
           "subunitcolor": "white"
          },
          "hoverlabel": {
           "align": "left"
          },
          "hovermode": "closest",
          "mapbox": {
           "style": "light"
          },
          "paper_bgcolor": "white",
          "plot_bgcolor": "#E5ECF6",
          "polar": {
           "angularaxis": {
            "gridcolor": "white",
            "linecolor": "white",
            "ticks": ""
           },
           "bgcolor": "#E5ECF6",
           "radialaxis": {
            "gridcolor": "white",
            "linecolor": "white",
            "ticks": ""
           }
          },
          "scene": {
           "xaxis": {
            "backgroundcolor": "#E5ECF6",
            "gridcolor": "white",
            "gridwidth": 2,
            "linecolor": "white",
            "showbackground": true,
            "ticks": "",
            "zerolinecolor": "white"
           },
           "yaxis": {
            "backgroundcolor": "#E5ECF6",
            "gridcolor": "white",
            "gridwidth": 2,
            "linecolor": "white",
            "showbackground": true,
            "ticks": "",
            "zerolinecolor": "white"
           },
           "zaxis": {
            "backgroundcolor": "#E5ECF6",
            "gridcolor": "white",
            "gridwidth": 2,
            "linecolor": "white",
            "showbackground": true,
            "ticks": "",
            "zerolinecolor": "white"
           }
          },
          "shapedefaults": {
           "line": {
            "color": "#2a3f5f"
           }
          },
          "ternary": {
           "aaxis": {
            "gridcolor": "white",
            "linecolor": "white",
            "ticks": ""
           },
           "baxis": {
            "gridcolor": "white",
            "linecolor": "white",
            "ticks": ""
           },
           "bgcolor": "#E5ECF6",
           "caxis": {
            "gridcolor": "white",
            "linecolor": "white",
            "ticks": ""
           }
          },
          "title": {
           "x": 0.05
          },
          "xaxis": {
           "automargin": true,
           "gridcolor": "white",
           "linecolor": "white",
           "ticks": "",
           "title": {
            "standoff": 15
           },
           "zerolinecolor": "white",
           "zerolinewidth": 2
          },
          "yaxis": {
           "automargin": true,
           "gridcolor": "white",
           "linecolor": "white",
           "ticks": "",
           "title": {
            "standoff": 15
           },
           "zerolinecolor": "white",
           "zerolinewidth": 2
          }
         }
        },
        "width": 1200
       }
      }
     },
     "metadata": {},
     "output_type": "display_data"
    }
   ],
   "source": [
    "collapsed_G = nx.Graph()\n",
    "\n",
    "for i in range(len(coms)):\n",
    "    collapsed_G.add_node(i)\n",
    "\n",
    "hole_adjacent_edge_count = {}\n",
    "total_edge_count = {}\n",
    "\n",
    "original_cycle_edges = set()\n",
    "for cycle in big_rep_cycle_list1:\n",
    "    for i in range(len(cycle)):\n",
    "        u, v = cycle[i], cycle[(i + 1) % len(cycle)]\n",
    "        original_cycle_edges.add((u, v))\n",
    "        original_cycle_edges.add((v, u))\n",
    "\n",
    "for u, v in G.edges():\n",
    "    community_u = node_to_com_dict[u]\n",
    "    community_v = node_to_com_dict[v]\n",
    "    if community_u != community_v:\n",
    "        if collapsed_G.has_edge(community_u, community_v):\n",
    "            collapsed_G[community_u][community_v]['weight'] += 1\n",
    "        else:\n",
    "            collapsed_G.add_edge(community_u, community_v, weight=1)\n",
    "        \n",
    "        if (community_u, community_v) not in total_edge_count:\n",
    "            total_edge_count[(community_u, community_v)] = 0\n",
    "            hole_adjacent_edge_count[(community_u, community_v)] = 0\n",
    "        \n",
    "        total_edge_count[(community_u, community_v)] += 1\n",
    "        \n",
    "        if (u, v) in original_cycle_edges or (v, u) in original_cycle_edges:\n",
    "            hole_adjacent_edge_count[(community_u, community_v)] += 1\n",
    "\n",
    "edge_proportions = {edge: hole_adjacent_edge_count[edge] / total_edge_count[edge] for edge in total_edge_count}\n",
    "\n",
    "# get and normalize weight\n",
    "weights = [data['weight'] for u, v, data in collapsed_G.edges(data=True)]\n",
    "min_weight = min(weights)\n",
    "max_weight = max(weights)\n",
    "norm_weights = {edge: 3 + 12 * (data['weight'] - min_weight) / (max_weight - min_weight) for edge, data in collapsed_G.edges.items()}\n",
    "\n",
    "pos = {i: (np.random.random(), np.random.random(), np.random.random()) for i in collapsed_G.nodes}\n",
    "\n",
    "edge_trace = []\n",
    "for edge in collapsed_G.edges(data=True):\n",
    "    x0, y0, z0 = pos[edge[0]]\n",
    "    x1, y1, z1 = pos[edge[1]]\n",
    "    proportion = edge_proportions.get((edge[0], edge[1]), 0)\n",
    "    color = f'rgb({int(255 * (1 - proportion))}, 0, {int(255 * proportion)})'\n",
    "    weight = norm_weights[(edge[0], edge[1])]  # use weight for thickness of edge\n",
    "    \n",
    "    edge_trace.append(go.Scatter3d(\n",
    "        x=[x0, x1, None],\n",
    "        y=[y0, y1, None],\n",
    "        z=[z0, z1, None],\n",
    "        line=dict(width=weight, color=color),  # use weight for thickness\n",
    "        hoverinfo='none',\n",
    "        mode='lines'\n",
    "    ))\n",
    "\n",
    "collapsed_cycle_edges = set()\n",
    "for u, v in original_cycle_edges:\n",
    "    community_u = node_to_com_dict[u]\n",
    "    community_v = node_to_com_dict[v]\n",
    "    if community_u != community_v:\n",
    "        collapsed_cycle_edges.add((community_u, community_v))\n",
    "        collapsed_cycle_edges.add((community_v, community_u))\n",
    "\n",
    "cycle_edge_count = len([e for e in collapsed_G.edges() if (e in collapsed_cycle_edges or (e[1], e[0]) in collapsed_cycle_edges)])\n",
    "non_cycle_edge_count = len(collapsed_G.edges()) - cycle_edge_count\n",
    "\n",
    "total_edges = len(collapsed_G.edges())\n",
    "percent_non_cycle = (non_cycle_edge_count / total_edges) * 100\n",
    "percent_cycle = (cycle_edge_count / total_edges) * 100\n",
    "\n",
    "print(f\"Number of edges not part of any cycle: {non_cycle_edge_count} ({percent_non_cycle:.2f}%)\")\n",
    "print(f\"Number of edges part of a cycle: {cycle_edge_count} ({percent_cycle:.2f}%)\")\n",
    "\n",
    "node_trace = go.Scatter3d(\n",
    "    x=[pos[node][0] for node in collapsed_G.nodes()],\n",
    "    y=[pos[node][1] for node in collapsed_G.nodes()],\n",
    "    z=[pos[node][2] for node in collapsed_G.nodes()],\n",
    "    mode='markers',\n",
    "    marker=dict(\n",
    "        size=7,\n",
    "        color='black',\n",
    "    ),\n",
    "    text=list(collapsed_G.nodes()),\n",
    "    hoverinfo='text'\n",
    ")\n",
    "\n",
    "color_bar_trace = go.Scatter3d(\n",
    "    x=[None], y=[None], z=[None],\n",
    "    mode='markers',\n",
    "    marker=dict(\n",
    "        size=0,\n",
    "        color=[0, 1],\n",
    "        colorscale=[[0, 'rgb(255, 0, 0)'], [1, 'rgb(0, 0, 255)']],\n",
    "        colorbar=dict(\n",
    "            title=\"Proportion of Hole-Adjacent Edges\",\n",
    "            tickvals=[0, 1],\n",
    "            ticktext=[\"0% (Red)\", \"100% (Blue)\"]\n",
    "        )\n",
    "    ),\n",
    "    hoverinfo='none'\n",
    ")\n",
    "\n",
    "layout = go.Layout(\n",
    "    width=1200,\n",
    "    height=1000,\n",
    "    showlegend=False,\n",
    "    scene=dict(\n",
    "        xaxis=dict(showbackground=False),\n",
    "        yaxis=dict(showbackground=False),\n",
    "        zaxis=dict(showbackground=False)\n",
    "    ),\n",
    ")\n",
    "\n",
    "fig = go.Figure(data=edge_trace + [node_trace, color_bar_trace], layout=layout)\n",
    "fig.show()\n",
    "fig.write_html(\"gradient_weighted.html\")"
   ]
  }
 ],
 "metadata": {
  "kernelspec": {
   "display_name": "base",
   "language": "python",
   "name": "python3"
  },
  "language_info": {
   "codemirror_mode": {
    "name": "ipython",
    "version": 3
   },
   "file_extension": ".py",
   "mimetype": "text/x-python",
   "name": "python",
   "nbconvert_exporter": "python",
   "pygments_lexer": "ipython3",
   "version": "3.11.9"
  }
 },
 "nbformat": 4,
 "nbformat_minor": 2
}
