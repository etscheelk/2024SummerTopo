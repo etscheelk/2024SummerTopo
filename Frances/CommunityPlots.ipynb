{
 "cells": [
  {
   "cell_type": "markdown",
   "metadata": {},
   "source": [
    "# Import packages"
   ]
  },
  {
   "cell_type": "code",
   "execution_count": 1,
   "metadata": {},
   "outputs": [],
   "source": [
    "import Gavin.utils.make_network as mn\n",
    "# from time import time\n",
    "import pandas as pd\n",
    "# import oatpy as oat\n",
    "# from scipy.optimize import linear_sum_assignment\n",
    "# from sklearn.metrics import jaccard_score\n",
    "# import csv\n",
    "# from sklearn.cluster import SpectralClustering\n",
    "# from mpl_toolkits.mplot3d import Axes3D\n",
    "# import plotly.express as px\n",
    "# import pebble\n",
    "import plotly.graph_objects as go\n",
    "import networkx as nx\n",
    "import numpy as np\n",
    "from collections import defaultdict\n",
    "import matplotlib.pyplot as plt\n",
    "from sklearn.metrics import adjusted_rand_score, normalized_mutual_info_score\n",
    "import pprint\n",
    "from collections import Counter\n",
    "import seaborn as sns\n",
    "import plotly.graph_objs as go\n",
    "import pickle\n",
    "from networkx.algorithms.community.quality import modularity"
   ]
  },
  {
   "cell_type": "markdown",
   "metadata": {},
   "source": [
    "# Load network and rep cycle list\n",
    "This process takes about 5 minutes on my computer"
   ]
  },
  {
   "cell_type": "code",
   "execution_count": 3,
   "metadata": {},
   "outputs": [],
   "source": [
    "fp = \"INSERT FILE PATH HERE\"  # this should go to the applied_math_grb_64hr_12pr.pickle in the shared google drive\n",
    "with open(fp, \"rb\") as file:\n",
    "    res = pickle.load(file)\n",
    "pickle_res1 = res\n",
    "G = pickle_res1[\"graph\"]\n",
    "big_rep_cycle_list1 = []\n",
    "for thing in (pickle_res1['optimized'][\"optimal cycle nodes\"].dropna()):\n",
    "    big_rep_cycle_list1.append(list(thing))"
   ]
  },
  {
   "cell_type": "markdown",
   "metadata": {},
   "source": [
    "# Find communities"
   ]
  },
  {
   "cell_type": "code",
   "execution_count": 4,
   "metadata": {},
   "outputs": [],
   "source": [
    "coms = nx.community.louvain_communities(G, seed=12, resolution=2.2)  ## tune these parameters\n",
    "node_to_com_dict = {}\n",
    "for i, community in enumerate(coms):  # create a dictionary of {node : community the node is in}\n",
    "    for node in community:\n",
    "        node_to_com_dict[node] = i"
   ]
  },
  {
   "cell_type": "markdown",
   "metadata": {},
   "source": [
    "# Visualizations\n",
    "### No gradient, unweighted"
   ]
  },
  {
   "cell_type": "code",
   "execution_count": 5,
   "metadata": {},
   "outputs": [
    {
     "name": "stdout",
     "output_type": "stream",
     "text": [
      "Number of edges not part of any cycle: 5\n"
     ]
    },
    {
     "data": {
      "application/vnd.plotly.v1+json": {
       "config": {
        "plotlyServerURL": "https://plot.ly"
       },
       "data": [
        {
         "hoverinfo": "none",
         "line": {
          "color": "rgb(0, 0, 255)",
          "width": 5
         },
         "mode": "lines",
         "type": "scatter3d",
         "x": [
          0.17684122974145522,
          0.14607923745292672,
          null
         ],
         "y": [
          0.7449342920069117,
          0.5350300121864997,
          null
         ],
         "z": [
          0.645825047189398,
          0.9444009250785079,
          null
         ]
        },
        {
         "hoverinfo": "none",
         "line": {
          "color": "rgb(0, 0, 255)",
          "width": 5
         },
         "mode": "lines",
         "type": "scatter3d",
         "x": [
          0.17684122974145522,
          0.159705510813122,
          null
         ],
         "y": [
          0.7449342920069117,
          0.068570921812808,
          null
         ],
         "z": [
          0.645825047189398,
          0.8436562826122104,
          null
         ]
        },
        {
         "hoverinfo": "none",
         "line": {
          "color": "rgb(0, 0, 255)",
          "width": 5
         },
         "mode": "lines",
         "type": "scatter3d",
         "x": [
          0.17684122974145522,
          0.5572191006574577,
          null
         ],
         "y": [
          0.7449342920069117,
          0.5509995770623255,
          null
         ],
         "z": [
          0.645825047189398,
          0.07919973774265376,
          null
         ]
        },
        {
         "hoverinfo": "none",
         "line": {
          "color": "rgb(0, 0, 255)",
          "width": 5
         },
         "mode": "lines",
         "type": "scatter3d",
         "x": [
          0.17684122974145522,
          0.18951941816325335,
          null
         ],
         "y": [
          0.7449342920069117,
          0.804942489366387,
          null
         ],
         "z": [
          0.645825047189398,
          0.1784246572566579,
          null
         ]
        },
        {
         "hoverinfo": "none",
         "line": {
          "color": "rgb(0, 0, 255)",
          "width": 5
         },
         "mode": "lines",
         "type": "scatter3d",
         "x": [
          0.17684122974145522,
          0.13384005872767057,
          null
         ],
         "y": [
          0.7449342920069117,
          0.46627961988713396,
          null
         ],
         "z": [
          0.645825047189398,
          0.24283289137663255,
          null
         ]
        },
        {
         "hoverinfo": "none",
         "line": {
          "color": "rgb(0, 0, 255)",
          "width": 5
         },
         "mode": "lines",
         "type": "scatter3d",
         "x": [
          0.17684122974145522,
          0.03906451389567933,
          null
         ],
         "y": [
          0.7449342920069117,
          0.37984994794387894,
          null
         ],
         "z": [
          0.645825047189398,
          0.5025028229646553,
          null
         ]
        },
        {
         "hoverinfo": "none",
         "line": {
          "color": "rgb(0, 0, 255)",
          "width": 5
         },
         "mode": "lines",
         "type": "scatter3d",
         "x": [
          0.17684122974145522,
          0.3159587716503005,
          null
         ],
         "y": [
          0.7449342920069117,
          0.8977861472373965,
          null
         ],
         "z": [
          0.645825047189398,
          0.7692387383115931,
          null
         ]
        },
        {
         "hoverinfo": "none",
         "line": {
          "color": "rgb(0, 0, 255)",
          "width": 5
         },
         "mode": "lines",
         "type": "scatter3d",
         "x": [
          0.17684122974145522,
          0.6000505679940695,
          null
         ],
         "y": [
          0.7449342920069117,
          0.9176086362736051,
          null
         ],
         "z": [
          0.645825047189398,
          0.887602588878502,
          null
         ]
        },
        {
         "hoverinfo": "none",
         "line": {
          "color": "rgb(0, 0, 255)",
          "width": 5
         },
         "mode": "lines",
         "type": "scatter3d",
         "x": [
          0.17684122974145522,
          0.10292675754892944,
          null
         ],
         "y": [
          0.7449342920069117,
          0.5497581512050724,
          null
         ],
         "z": [
          0.645825047189398,
          0.5367085597217629,
          null
         ]
        },
        {
         "hoverinfo": "none",
         "line": {
          "color": "rgb(0, 0, 255)",
          "width": 5
         },
         "mode": "lines",
         "type": "scatter3d",
         "x": [
          0.17684122974145522,
          0.04318037794291141,
          null
         ],
         "y": [
          0.7449342920069117,
          0.25124693611372284,
          null
         ],
         "z": [
          0.645825047189398,
          0.9492857761376863,
          null
         ]
        },
        {
         "hoverinfo": "none",
         "line": {
          "color": "rgb(0, 0, 255)",
          "width": 5
         },
         "mode": "lines",
         "type": "scatter3d",
         "x": [
          0.17684122974145522,
          0.46238668378938574,
          null
         ],
         "y": [
          0.7449342920069117,
          0.4878414457966992,
          null
         ],
         "z": [
          0.645825047189398,
          0.19346491974768487,
          null
         ]
        },
        {
         "hoverinfo": "none",
         "line": {
          "color": "rgb(0, 0, 255)",
          "width": 5
         },
         "mode": "lines",
         "type": "scatter3d",
         "x": [
          0.17684122974145522,
          0.08979853805465277,
          null
         ],
         "y": [
          0.7449342920069117,
          0.11517688967203765,
          null
         ],
         "z": [
          0.645825047189398,
          0.5362059518931337,
          null
         ]
        },
        {
         "hoverinfo": "none",
         "line": {
          "color": "rgb(0, 0, 255)",
          "width": 5
         },
         "mode": "lines",
         "type": "scatter3d",
         "x": [
          0.17684122974145522,
          0.23894397464478712,
          null
         ],
         "y": [
          0.7449342920069117,
          0.9881054822314761,
          null
         ],
         "z": [
          0.645825047189398,
          0.34373504816486145,
          null
         ]
        },
        {
         "hoverinfo": "none",
         "line": {
          "color": "rgb(0, 0, 255)",
          "width": 5
         },
         "mode": "lines",
         "type": "scatter3d",
         "x": [
          0.17684122974145522,
          0.6278722450283405,
          null
         ],
         "y": [
          0.7449342920069117,
          0.7282895108132108,
          null
         ],
         "z": [
          0.645825047189398,
          0.907723259180013,
          null
         ]
        },
        {
         "hoverinfo": "none",
         "line": {
          "color": "rgb(0, 0, 255)",
          "width": 5
         },
         "mode": "lines",
         "type": "scatter3d",
         "x": [
          0.17684122974145522,
          0.3305595813403315,
          null
         ],
         "y": [
          0.7449342920069117,
          0.9655972929797423,
          null
         ],
         "z": [
          0.645825047189398,
          0.4378259863554106,
          null
         ]
        },
        {
         "hoverinfo": "none",
         "line": {
          "color": "rgb(0, 0, 255)",
          "width": 5
         },
         "mode": "lines",
         "type": "scatter3d",
         "x": [
          0.17684122974145522,
          0.43998310713795974,
          null
         ],
         "y": [
          0.7449342920069117,
          0.17941744936667625,
          null
         ],
         "z": [
          0.645825047189398,
          0.2687780477487852,
          null
         ]
        },
        {
         "hoverinfo": "none",
         "line": {
          "color": "rgb(0, 0, 255)",
          "width": 5
         },
         "mode": "lines",
         "type": "scatter3d",
         "x": [
          0.17684122974145522,
          0.24678959560492042,
          null
         ],
         "y": [
          0.7449342920069117,
          0.19820444889433586,
          null
         ],
         "z": [
          0.645825047189398,
          0.050446964205453804,
          null
         ]
        },
        {
         "hoverinfo": "none",
         "line": {
          "color": "rgb(0, 0, 255)",
          "width": 5
         },
         "mode": "lines",
         "type": "scatter3d",
         "x": [
          0.17684122974145522,
          0.23814668161186947,
          null
         ],
         "y": [
          0.7449342920069117,
          0.1805142741524337,
          null
         ],
         "z": [
          0.645825047189398,
          0.6272981794188904,
          null
         ]
        },
        {
         "hoverinfo": "none",
         "line": {
          "color": "rgb(0, 0, 255)",
          "width": 5
         },
         "mode": "lines",
         "type": "scatter3d",
         "x": [
          0.17684122974145522,
          0.8846115600778559,
          null
         ],
         "y": [
          0.7449342920069117,
          0.3952338052393384,
          null
         ],
         "z": [
          0.645825047189398,
          0.2566164712625396,
          null
         ]
        },
        {
         "hoverinfo": "none",
         "line": {
          "color": "rgb(0, 0, 255)",
          "width": 5
         },
         "mode": "lines",
         "type": "scatter3d",
         "x": [
          0.17684122974145522,
          0.40597253339642503,
          null
         ],
         "y": [
          0.7449342920069117,
          0.964359656513538,
          null
         ],
         "z": [
          0.645825047189398,
          0.2815304173698949,
          null
         ]
        },
        {
         "hoverinfo": "none",
         "line": {
          "color": "rgb(0, 0, 255)",
          "width": 5
         },
         "mode": "lines",
         "type": "scatter3d",
         "x": [
          0.17684122974145522,
          0.824338903001674,
          null
         ],
         "y": [
          0.7449342920069117,
          0.31741615694187864,
          null
         ],
         "z": [
          0.645825047189398,
          0.8089690911417335,
          null
         ]
        },
        {
         "hoverinfo": "none",
         "line": {
          "color": "rgb(0, 0, 255)",
          "width": 5
         },
         "mode": "lines",
         "type": "scatter3d",
         "x": [
          0.17684122974145522,
          0.6013938944089919,
          null
         ],
         "y": [
          0.7449342920069117,
          0.2961688462754798,
          null
         ],
         "z": [
          0.645825047189398,
          0.9560610356234396,
          null
         ]
        },
        {
         "hoverinfo": "none",
         "line": {
          "color": "rgb(0, 0, 255)",
          "width": 5
         },
         "mode": "lines",
         "type": "scatter3d",
         "x": [
          0.17684122974145522,
          0.9699700614387495,
          null
         ],
         "y": [
          0.7449342920069117,
          0.20259518425458156,
          null
         ],
         "z": [
          0.645825047189398,
          0.0314414668969778,
          null
         ]
        },
        {
         "hoverinfo": "none",
         "line": {
          "color": "rgb(0, 0, 255)",
          "width": 5
         },
         "mode": "lines",
         "type": "scatter3d",
         "x": [
          0.17684122974145522,
          0.22277704215464977,
          null
         ],
         "y": [
          0.7449342920069117,
          0.9520862997574703,
          null
         ],
         "z": [
          0.645825047189398,
          0.07487479713831424,
          null
         ]
        },
        {
         "hoverinfo": "none",
         "line": {
          "color": "rgb(0, 0, 255)",
          "width": 5
         },
         "mode": "lines",
         "type": "scatter3d",
         "x": [
          0.17684122974145522,
          0.175630892058098,
          null
         ],
         "y": [
          0.7449342920069117,
          0.1691763875316652,
          null
         ],
         "z": [
          0.645825047189398,
          0.6872873523822591,
          null
         ]
        },
        {
         "hoverinfo": "none",
         "line": {
          "color": "rgb(0, 0, 255)",
          "width": 5
         },
         "mode": "lines",
         "type": "scatter3d",
         "x": [
          0.17684122974145522,
          0.09321474737024749,
          null
         ],
         "y": [
          0.7449342920069117,
          0.5502629330762029,
          null
         ],
         "z": [
          0.645825047189398,
          0.8607032312869579,
          null
         ]
        },
        {
         "hoverinfo": "none",
         "line": {
          "color": "rgb(0, 0, 255)",
          "width": 5
         },
         "mode": "lines",
         "type": "scatter3d",
         "x": [
          0.17684122974145522,
          0.3131617516106092,
          null
         ],
         "y": [
          0.7449342920069117,
          0.38320630629195906,
          null
         ],
         "z": [
          0.645825047189398,
          0.3261309880058664,
          null
         ]
        },
        {
         "hoverinfo": "none",
         "line": {
          "color": "rgb(0, 0, 255)",
          "width": 5
         },
         "mode": "lines",
         "type": "scatter3d",
         "x": [
          0.17684122974145522,
          0.6485556786833006,
          null
         ],
         "y": [
          0.7449342920069117,
          0.5941013836759177,
          null
         ],
         "z": [
          0.645825047189398,
          0.8653672300323781,
          null
         ]
        },
        {
         "hoverinfo": "none",
         "line": {
          "color": "rgb(0, 0, 255)",
          "width": 5
         },
         "mode": "lines",
         "type": "scatter3d",
         "x": [
          0.17684122974145522,
          0.25654088749065107,
          null
         ],
         "y": [
          0.7449342920069117,
          0.3709849796579817,
          null
         ],
         "z": [
          0.645825047189398,
          0.5451900504813074,
          null
         ]
        },
        {
         "hoverinfo": "none",
         "line": {
          "color": "rgb(0, 0, 255)",
          "width": 5
         },
         "mode": "lines",
         "type": "scatter3d",
         "x": [
          0.17684122974145522,
          0.184964329130757,
          null
         ],
         "y": [
          0.7449342920069117,
          0.36275396928501125,
          null
         ],
         "z": [
          0.645825047189398,
          0.37673309129093446,
          null
         ]
        },
        {
         "hoverinfo": "none",
         "line": {
          "color": "rgb(0, 0, 255)",
          "width": 5
         },
         "mode": "lines",
         "type": "scatter3d",
         "x": [
          0.40597253339642503,
          0.14607923745292672,
          null
         ],
         "y": [
          0.964359656513538,
          0.5350300121864997,
          null
         ],
         "z": [
          0.2815304173698949,
          0.9444009250785079,
          null
         ]
        },
        {
         "hoverinfo": "none",
         "line": {
          "color": "rgb(0, 0, 255)",
          "width": 5
         },
         "mode": "lines",
         "type": "scatter3d",
         "x": [
          0.40597253339642503,
          0.22277704215464977,
          null
         ],
         "y": [
          0.964359656513538,
          0.9520862997574703,
          null
         ],
         "z": [
          0.2815304173698949,
          0.07487479713831424,
          null
         ]
        },
        {
         "hoverinfo": "none",
         "line": {
          "color": "rgb(0, 0, 255)",
          "width": 5
         },
         "mode": "lines",
         "type": "scatter3d",
         "x": [
          0.40597253339642503,
          0.3159587716503005,
          null
         ],
         "y": [
          0.964359656513538,
          0.8977861472373965,
          null
         ],
         "z": [
          0.2815304173698949,
          0.7692387383115931,
          null
         ]
        },
        {
         "hoverinfo": "none",
         "line": {
          "color": "rgb(0, 0, 255)",
          "width": 5
         },
         "mode": "lines",
         "type": "scatter3d",
         "x": [
          0.40597253339642503,
          0.3305595813403315,
          null
         ],
         "y": [
          0.964359656513538,
          0.9655972929797423,
          null
         ],
         "z": [
          0.2815304173698949,
          0.4378259863554106,
          null
         ]
        },
        {
         "hoverinfo": "none",
         "line": {
          "color": "rgb(0, 0, 255)",
          "width": 5
         },
         "mode": "lines",
         "type": "scatter3d",
         "x": [
          0.40597253339642503,
          0.6278722450283405,
          null
         ],
         "y": [
          0.964359656513538,
          0.7282895108132108,
          null
         ],
         "z": [
          0.2815304173698949,
          0.907723259180013,
          null
         ]
        },
        {
         "hoverinfo": "none",
         "line": {
          "color": "rgb(0, 0, 255)",
          "width": 5
         },
         "mode": "lines",
         "type": "scatter3d",
         "x": [
          0.40597253339642503,
          0.04318037794291141,
          null
         ],
         "y": [
          0.964359656513538,
          0.25124693611372284,
          null
         ],
         "z": [
          0.2815304173698949,
          0.9492857761376863,
          null
         ]
        },
        {
         "hoverinfo": "none",
         "line": {
          "color": "rgb(0, 0, 255)",
          "width": 5
         },
         "mode": "lines",
         "type": "scatter3d",
         "x": [
          0.40597253339642503,
          0.10292675754892944,
          null
         ],
         "y": [
          0.964359656513538,
          0.5497581512050724,
          null
         ],
         "z": [
          0.2815304173698949,
          0.5367085597217629,
          null
         ]
        },
        {
         "hoverinfo": "none",
         "line": {
          "color": "rgb(0, 0, 255)",
          "width": 5
         },
         "mode": "lines",
         "type": "scatter3d",
         "x": [
          0.40597253339642503,
          0.43998310713795974,
          null
         ],
         "y": [
          0.964359656513538,
          0.17941744936667625,
          null
         ],
         "z": [
          0.2815304173698949,
          0.2687780477487852,
          null
         ]
        },
        {
         "hoverinfo": "none",
         "line": {
          "color": "rgb(0, 0, 255)",
          "width": 5
         },
         "mode": "lines",
         "type": "scatter3d",
         "x": [
          0.40597253339642503,
          0.9699700614387495,
          null
         ],
         "y": [
          0.964359656513538,
          0.20259518425458156,
          null
         ],
         "z": [
          0.2815304173698949,
          0.0314414668969778,
          null
         ]
        },
        {
         "hoverinfo": "none",
         "line": {
          "color": "rgb(0, 0, 255)",
          "width": 5
         },
         "mode": "lines",
         "type": "scatter3d",
         "x": [
          0.40597253339642503,
          0.824338903001674,
          null
         ],
         "y": [
          0.964359656513538,
          0.31741615694187864,
          null
         ],
         "z": [
          0.2815304173698949,
          0.8089690911417335,
          null
         ]
        },
        {
         "hoverinfo": "none",
         "line": {
          "color": "rgb(0, 0, 255)",
          "width": 5
         },
         "mode": "lines",
         "type": "scatter3d",
         "x": [
          0.40597253339642503,
          0.6000505679940695,
          null
         ],
         "y": [
          0.964359656513538,
          0.9176086362736051,
          null
         ],
         "z": [
          0.2815304173698949,
          0.887602588878502,
          null
         ]
        },
        {
         "hoverinfo": "none",
         "line": {
          "color": "rgb(0, 0, 255)",
          "width": 5
         },
         "mode": "lines",
         "type": "scatter3d",
         "x": [
          0.40597253339642503,
          0.23894397464478712,
          null
         ],
         "y": [
          0.964359656513538,
          0.9881054822314761,
          null
         ],
         "z": [
          0.2815304173698949,
          0.34373504816486145,
          null
         ]
        },
        {
         "hoverinfo": "none",
         "line": {
          "color": "rgb(0, 0, 255)",
          "width": 5
         },
         "mode": "lines",
         "type": "scatter3d",
         "x": [
          0.40597253339642503,
          0.24678959560492042,
          null
         ],
         "y": [
          0.964359656513538,
          0.19820444889433586,
          null
         ],
         "z": [
          0.2815304173698949,
          0.050446964205453804,
          null
         ]
        },
        {
         "hoverinfo": "none",
         "line": {
          "color": "rgb(0, 0, 255)",
          "width": 5
         },
         "mode": "lines",
         "type": "scatter3d",
         "x": [
          0.40597253339642503,
          0.46238668378938574,
          null
         ],
         "y": [
          0.964359656513538,
          0.4878414457966992,
          null
         ],
         "z": [
          0.2815304173698949,
          0.19346491974768487,
          null
         ]
        },
        {
         "hoverinfo": "none",
         "line": {
          "color": "rgb(0, 0, 255)",
          "width": 5
         },
         "mode": "lines",
         "type": "scatter3d",
         "x": [
          0.40597253339642503,
          0.184964329130757,
          null
         ],
         "y": [
          0.964359656513538,
          0.36275396928501125,
          null
         ],
         "z": [
          0.2815304173698949,
          0.37673309129093446,
          null
         ]
        },
        {
         "hoverinfo": "none",
         "line": {
          "color": "rgb(0, 0, 255)",
          "width": 5
         },
         "mode": "lines",
         "type": "scatter3d",
         "x": [
          0.40597253339642503,
          0.159705510813122,
          null
         ],
         "y": [
          0.964359656513538,
          0.068570921812808,
          null
         ],
         "z": [
          0.2815304173698949,
          0.8436562826122104,
          null
         ]
        },
        {
         "hoverinfo": "none",
         "line": {
          "color": "rgb(0, 0, 255)",
          "width": 5
         },
         "mode": "lines",
         "type": "scatter3d",
         "x": [
          0.40597253339642503,
          0.6485556786833006,
          null
         ],
         "y": [
          0.964359656513538,
          0.5941013836759177,
          null
         ],
         "z": [
          0.2815304173698949,
          0.8653672300323781,
          null
         ]
        },
        {
         "hoverinfo": "none",
         "line": {
          "color": "rgb(0, 0, 255)",
          "width": 5
         },
         "mode": "lines",
         "type": "scatter3d",
         "x": [
          0.40597253339642503,
          0.13384005872767057,
          null
         ],
         "y": [
          0.964359656513538,
          0.46627961988713396,
          null
         ],
         "z": [
          0.2815304173698949,
          0.24283289137663255,
          null
         ]
        },
        {
         "hoverinfo": "none",
         "line": {
          "color": "rgb(0, 0, 255)",
          "width": 5
         },
         "mode": "lines",
         "type": "scatter3d",
         "x": [
          0.40597253339642503,
          0.03906451389567933,
          null
         ],
         "y": [
          0.964359656513538,
          0.37984994794387894,
          null
         ],
         "z": [
          0.2815304173698949,
          0.5025028229646553,
          null
         ]
        },
        {
         "hoverinfo": "none",
         "line": {
          "color": "rgb(0, 0, 255)",
          "width": 5
         },
         "mode": "lines",
         "type": "scatter3d",
         "x": [
          0.40597253339642503,
          0.175630892058098,
          null
         ],
         "y": [
          0.964359656513538,
          0.1691763875316652,
          null
         ],
         "z": [
          0.2815304173698949,
          0.6872873523822591,
          null
         ]
        },
        {
         "hoverinfo": "none",
         "line": {
          "color": "rgb(0, 0, 255)",
          "width": 5
         },
         "mode": "lines",
         "type": "scatter3d",
         "x": [
          0.40597253339642503,
          0.25654088749065107,
          null
         ],
         "y": [
          0.964359656513538,
          0.3709849796579817,
          null
         ],
         "z": [
          0.2815304173698949,
          0.5451900504813074,
          null
         ]
        },
        {
         "hoverinfo": "none",
         "line": {
          "color": "rgb(0, 0, 255)",
          "width": 5
         },
         "mode": "lines",
         "type": "scatter3d",
         "x": [
          0.40597253339642503,
          0.8278003373151289,
          null
         ],
         "y": [
          0.964359656513538,
          0.47018702714547844,
          null
         ],
         "z": [
          0.2815304173698949,
          0.8494687495684636,
          null
         ]
        },
        {
         "hoverinfo": "none",
         "line": {
          "color": "rgb(0, 0, 255)",
          "width": 5
         },
         "mode": "lines",
         "type": "scatter3d",
         "x": [
          0.40597253339642503,
          0.08979853805465277,
          null
         ],
         "y": [
          0.964359656513538,
          0.11517688967203765,
          null
         ],
         "z": [
          0.2815304173698949,
          0.5362059518931337,
          null
         ]
        },
        {
         "hoverinfo": "none",
         "line": {
          "color": "rgb(0, 0, 255)",
          "width": 5
         },
         "mode": "lines",
         "type": "scatter3d",
         "x": [
          0.40597253339642503,
          0.8846115600778559,
          null
         ],
         "y": [
          0.964359656513538,
          0.3952338052393384,
          null
         ],
         "z": [
          0.2815304173698949,
          0.2566164712625396,
          null
         ]
        },
        {
         "hoverinfo": "none",
         "line": {
          "color": "rgb(0, 0, 255)",
          "width": 5
         },
         "mode": "lines",
         "type": "scatter3d",
         "x": [
          0.40597253339642503,
          0.5572191006574577,
          null
         ],
         "y": [
          0.964359656513538,
          0.5509995770623255,
          null
         ],
         "z": [
          0.2815304173698949,
          0.07919973774265376,
          null
         ]
        },
        {
         "hoverinfo": "none",
         "line": {
          "color": "rgb(0, 0, 255)",
          "width": 5
         },
         "mode": "lines",
         "type": "scatter3d",
         "x": [
          0.40597253339642503,
          0.6013938944089919,
          null
         ],
         "y": [
          0.964359656513538,
          0.2961688462754798,
          null
         ],
         "z": [
          0.2815304173698949,
          0.9560610356234396,
          null
         ]
        },
        {
         "hoverinfo": "none",
         "line": {
          "color": "rgb(0, 0, 255)",
          "width": 5
         },
         "mode": "lines",
         "type": "scatter3d",
         "x": [
          0.40597253339642503,
          0.18951941816325335,
          null
         ],
         "y": [
          0.964359656513538,
          0.804942489366387,
          null
         ],
         "z": [
          0.2815304173698949,
          0.1784246572566579,
          null
         ]
        },
        {
         "hoverinfo": "none",
         "line": {
          "color": "rgb(0, 0, 255)",
          "width": 5
         },
         "mode": "lines",
         "type": "scatter3d",
         "x": [
          0.40597253339642503,
          0.3131617516106092,
          null
         ],
         "y": [
          0.964359656513538,
          0.38320630629195906,
          null
         ],
         "z": [
          0.2815304173698949,
          0.3261309880058664,
          null
         ]
        },
        {
         "hoverinfo": "none",
         "line": {
          "color": "rgb(0, 0, 255)",
          "width": 5
         },
         "mode": "lines",
         "type": "scatter3d",
         "x": [
          0.40597253339642503,
          0.23814668161186947,
          null
         ],
         "y": [
          0.964359656513538,
          0.1805142741524337,
          null
         ],
         "z": [
          0.2815304173698949,
          0.6272981794188904,
          null
         ]
        },
        {
         "hoverinfo": "none",
         "line": {
          "color": "rgb(0, 0, 255)",
          "width": 5
         },
         "mode": "lines",
         "type": "scatter3d",
         "x": [
          0.40597253339642503,
          0.09321474737024749,
          null
         ],
         "y": [
          0.964359656513538,
          0.5502629330762029,
          null
         ],
         "z": [
          0.2815304173698949,
          0.8607032312869579,
          null
         ]
        },
        {
         "hoverinfo": "none",
         "line": {
          "color": "rgb(0, 0, 255)",
          "width": 5
         },
         "mode": "lines",
         "type": "scatter3d",
         "x": [
          0.159705510813122,
          0.10292675754892944,
          null
         ],
         "y": [
          0.068570921812808,
          0.5497581512050724,
          null
         ],
         "z": [
          0.8436562826122104,
          0.5367085597217629,
          null
         ]
        },
        {
         "hoverinfo": "none",
         "line": {
          "color": "rgb(0, 0, 255)",
          "width": 5
         },
         "mode": "lines",
         "type": "scatter3d",
         "x": [
          0.159705510813122,
          0.14607923745292672,
          null
         ],
         "y": [
          0.068570921812808,
          0.5350300121864997,
          null
         ],
         "z": [
          0.8436562826122104,
          0.9444009250785079,
          null
         ]
        },
        {
         "hoverinfo": "none",
         "line": {
          "color": "rgb(0, 0, 255)",
          "width": 5
         },
         "mode": "lines",
         "type": "scatter3d",
         "x": [
          0.159705510813122,
          0.8846115600778559,
          null
         ],
         "y": [
          0.068570921812808,
          0.3952338052393384,
          null
         ],
         "z": [
          0.8436562826122104,
          0.2566164712625396,
          null
         ]
        },
        {
         "hoverinfo": "none",
         "line": {
          "color": "rgb(0, 0, 255)",
          "width": 5
         },
         "mode": "lines",
         "type": "scatter3d",
         "x": [
          0.159705510813122,
          0.6278722450283405,
          null
         ],
         "y": [
          0.068570921812808,
          0.7282895108132108,
          null
         ],
         "z": [
          0.8436562826122104,
          0.907723259180013,
          null
         ]
        },
        {
         "hoverinfo": "none",
         "line": {
          "color": "rgb(0, 0, 255)",
          "width": 5
         },
         "mode": "lines",
         "type": "scatter3d",
         "x": [
          0.159705510813122,
          0.5572191006574577,
          null
         ],
         "y": [
          0.068570921812808,
          0.5509995770623255,
          null
         ],
         "z": [
          0.8436562826122104,
          0.07919973774265376,
          null
         ]
        },
        {
         "hoverinfo": "none",
         "line": {
          "color": "rgb(0, 0, 255)",
          "width": 5
         },
         "mode": "lines",
         "type": "scatter3d",
         "x": [
          0.159705510813122,
          0.3159587716503005,
          null
         ],
         "y": [
          0.068570921812808,
          0.8977861472373965,
          null
         ],
         "z": [
          0.8436562826122104,
          0.7692387383115931,
          null
         ]
        },
        {
         "hoverinfo": "none",
         "line": {
          "color": "rgb(0, 0, 255)",
          "width": 5
         },
         "mode": "lines",
         "type": "scatter3d",
         "x": [
          0.159705510813122,
          0.3305595813403315,
          null
         ],
         "y": [
          0.068570921812808,
          0.9655972929797423,
          null
         ],
         "z": [
          0.8436562826122104,
          0.4378259863554106,
          null
         ]
        },
        {
         "hoverinfo": "none",
         "line": {
          "color": "rgb(0, 0, 255)",
          "width": 5
         },
         "mode": "lines",
         "type": "scatter3d",
         "x": [
          0.159705510813122,
          0.03906451389567933,
          null
         ],
         "y": [
          0.068570921812808,
          0.37984994794387894,
          null
         ],
         "z": [
          0.8436562826122104,
          0.5025028229646553,
          null
         ]
        },
        {
         "hoverinfo": "none",
         "line": {
          "color": "rgb(0, 0, 255)",
          "width": 5
         },
         "mode": "lines",
         "type": "scatter3d",
         "x": [
          0.159705510813122,
          0.22277704215464977,
          null
         ],
         "y": [
          0.068570921812808,
          0.9520862997574703,
          null
         ],
         "z": [
          0.8436562826122104,
          0.07487479713831424,
          null
         ]
        },
        {
         "hoverinfo": "none",
         "line": {
          "color": "rgb(0, 0, 255)",
          "width": 5
         },
         "mode": "lines",
         "type": "scatter3d",
         "x": [
          0.159705510813122,
          0.23814668161186947,
          null
         ],
         "y": [
          0.068570921812808,
          0.1805142741524337,
          null
         ],
         "z": [
          0.8436562826122104,
          0.6272981794188904,
          null
         ]
        },
        {
         "hoverinfo": "none",
         "line": {
          "color": "rgb(0, 0, 255)",
          "width": 5
         },
         "mode": "lines",
         "type": "scatter3d",
         "x": [
          0.159705510813122,
          0.18951941816325335,
          null
         ],
         "y": [
          0.068570921812808,
          0.804942489366387,
          null
         ],
         "z": [
          0.8436562826122104,
          0.1784246572566579,
          null
         ]
        },
        {
         "hoverinfo": "none",
         "line": {
          "color": "rgb(0, 0, 255)",
          "width": 5
         },
         "mode": "lines",
         "type": "scatter3d",
         "x": [
          0.159705510813122,
          0.6000505679940695,
          null
         ],
         "y": [
          0.068570921812808,
          0.9176086362736051,
          null
         ],
         "z": [
          0.8436562826122104,
          0.887602588878502,
          null
         ]
        },
        {
         "hoverinfo": "none",
         "line": {
          "color": "rgb(0, 0, 255)",
          "width": 5
         },
         "mode": "lines",
         "type": "scatter3d",
         "x": [
          0.159705510813122,
          0.6013938944089919,
          null
         ],
         "y": [
          0.068570921812808,
          0.2961688462754798,
          null
         ],
         "z": [
          0.8436562826122104,
          0.9560610356234396,
          null
         ]
        },
        {
         "hoverinfo": "none",
         "line": {
          "color": "rgb(0, 0, 255)",
          "width": 5
         },
         "mode": "lines",
         "type": "scatter3d",
         "x": [
          0.159705510813122,
          0.46238668378938574,
          null
         ],
         "y": [
          0.068570921812808,
          0.4878414457966992,
          null
         ],
         "z": [
          0.8436562826122104,
          0.19346491974768487,
          null
         ]
        },
        {
         "hoverinfo": "none",
         "line": {
          "color": "rgb(0, 0, 255)",
          "width": 5
         },
         "mode": "lines",
         "type": "scatter3d",
         "x": [
          0.159705510813122,
          0.9699700614387495,
          null
         ],
         "y": [
          0.068570921812808,
          0.20259518425458156,
          null
         ],
         "z": [
          0.8436562826122104,
          0.0314414668969778,
          null
         ]
        },
        {
         "hoverinfo": "none",
         "line": {
          "color": "rgb(0, 0, 255)",
          "width": 5
         },
         "mode": "lines",
         "type": "scatter3d",
         "x": [
          0.159705510813122,
          0.824338903001674,
          null
         ],
         "y": [
          0.068570921812808,
          0.31741615694187864,
          null
         ],
         "z": [
          0.8436562826122104,
          0.8089690911417335,
          null
         ]
        },
        {
         "hoverinfo": "none",
         "line": {
          "color": "rgb(0, 0, 255)",
          "width": 5
         },
         "mode": "lines",
         "type": "scatter3d",
         "x": [
          0.159705510813122,
          0.13384005872767057,
          null
         ],
         "y": [
          0.068570921812808,
          0.46627961988713396,
          null
         ],
         "z": [
          0.8436562826122104,
          0.24283289137663255,
          null
         ]
        },
        {
         "hoverinfo": "none",
         "line": {
          "color": "rgb(0, 0, 255)",
          "width": 5
         },
         "mode": "lines",
         "type": "scatter3d",
         "x": [
          0.159705510813122,
          0.23894397464478712,
          null
         ],
         "y": [
          0.068570921812808,
          0.9881054822314761,
          null
         ],
         "z": [
          0.8436562826122104,
          0.34373504816486145,
          null
         ]
        },
        {
         "hoverinfo": "none",
         "line": {
          "color": "rgb(0, 0, 255)",
          "width": 5
         },
         "mode": "lines",
         "type": "scatter3d",
         "x": [
          0.159705510813122,
          0.04318037794291141,
          null
         ],
         "y": [
          0.068570921812808,
          0.25124693611372284,
          null
         ],
         "z": [
          0.8436562826122104,
          0.9492857761376863,
          null
         ]
        },
        {
         "hoverinfo": "none",
         "line": {
          "color": "rgb(0, 0, 255)",
          "width": 5
         },
         "mode": "lines",
         "type": "scatter3d",
         "x": [
          0.159705510813122,
          0.24678959560492042,
          null
         ],
         "y": [
          0.068570921812808,
          0.19820444889433586,
          null
         ],
         "z": [
          0.8436562826122104,
          0.050446964205453804,
          null
         ]
        },
        {
         "hoverinfo": "none",
         "line": {
          "color": "rgb(0, 0, 255)",
          "width": 5
         },
         "mode": "lines",
         "type": "scatter3d",
         "x": [
          0.159705510813122,
          0.3131617516106092,
          null
         ],
         "y": [
          0.068570921812808,
          0.38320630629195906,
          null
         ],
         "z": [
          0.8436562826122104,
          0.3261309880058664,
          null
         ]
        },
        {
         "hoverinfo": "none",
         "line": {
          "color": "rgb(0, 0, 255)",
          "width": 5
         },
         "mode": "lines",
         "type": "scatter3d",
         "x": [
          0.159705510813122,
          0.43998310713795974,
          null
         ],
         "y": [
          0.068570921812808,
          0.17941744936667625,
          null
         ],
         "z": [
          0.8436562826122104,
          0.2687780477487852,
          null
         ]
        },
        {
         "hoverinfo": "none",
         "line": {
          "color": "rgb(0, 0, 255)",
          "width": 5
         },
         "mode": "lines",
         "type": "scatter3d",
         "x": [
          0.159705510813122,
          0.08979853805465277,
          null
         ],
         "y": [
          0.068570921812808,
          0.11517688967203765,
          null
         ],
         "z": [
          0.8436562826122104,
          0.5362059518931337,
          null
         ]
        },
        {
         "hoverinfo": "none",
         "line": {
          "color": "rgb(0, 0, 255)",
          "width": 5
         },
         "mode": "lines",
         "type": "scatter3d",
         "x": [
          0.159705510813122,
          0.184964329130757,
          null
         ],
         "y": [
          0.068570921812808,
          0.36275396928501125,
          null
         ],
         "z": [
          0.8436562826122104,
          0.37673309129093446,
          null
         ]
        },
        {
         "hoverinfo": "none",
         "line": {
          "color": "rgb(0, 0, 255)",
          "width": 5
         },
         "mode": "lines",
         "type": "scatter3d",
         "x": [
          0.159705510813122,
          0.175630892058098,
          null
         ],
         "y": [
          0.068570921812808,
          0.1691763875316652,
          null
         ],
         "z": [
          0.8436562826122104,
          0.6872873523822591,
          null
         ]
        },
        {
         "hoverinfo": "none",
         "line": {
          "color": "rgb(0, 0, 255)",
          "width": 5
         },
         "mode": "lines",
         "type": "scatter3d",
         "x": [
          0.159705510813122,
          0.6485556786833006,
          null
         ],
         "y": [
          0.068570921812808,
          0.5941013836759177,
          null
         ],
         "z": [
          0.8436562826122104,
          0.8653672300323781,
          null
         ]
        },
        {
         "hoverinfo": "none",
         "line": {
          "color": "rgb(0, 0, 255)",
          "width": 5
         },
         "mode": "lines",
         "type": "scatter3d",
         "x": [
          0.159705510813122,
          0.8278003373151289,
          null
         ],
         "y": [
          0.068570921812808,
          0.47018702714547844,
          null
         ],
         "z": [
          0.8436562826122104,
          0.8494687495684636,
          null
         ]
        },
        {
         "hoverinfo": "none",
         "line": {
          "color": "rgb(0, 0, 255)",
          "width": 5
         },
         "mode": "lines",
         "type": "scatter3d",
         "x": [
          0.159705510813122,
          0.25654088749065107,
          null
         ],
         "y": [
          0.068570921812808,
          0.3709849796579817,
          null
         ],
         "z": [
          0.8436562826122104,
          0.5451900504813074,
          null
         ]
        },
        {
         "hoverinfo": "none",
         "line": {
          "color": "rgb(0, 0, 255)",
          "width": 5
         },
         "mode": "lines",
         "type": "scatter3d",
         "x": [
          0.159705510813122,
          0.09321474737024749,
          null
         ],
         "y": [
          0.068570921812808,
          0.5502629330762029,
          null
         ],
         "z": [
          0.8436562826122104,
          0.8607032312869579,
          null
         ]
        },
        {
         "hoverinfo": "none",
         "line": {
          "color": "rgb(0, 0, 255)",
          "width": 5
         },
         "mode": "lines",
         "type": "scatter3d",
         "x": [
          0.5572191006574577,
          0.10292675754892944,
          null
         ],
         "y": [
          0.5509995770623255,
          0.5497581512050724,
          null
         ],
         "z": [
          0.07919973774265376,
          0.5367085597217629,
          null
         ]
        },
        {
         "hoverinfo": "none",
         "line": {
          "color": "rgb(0, 0, 255)",
          "width": 5
         },
         "mode": "lines",
         "type": "scatter3d",
         "x": [
          0.5572191006574577,
          0.8846115600778559,
          null
         ],
         "y": [
          0.5509995770623255,
          0.3952338052393384,
          null
         ],
         "z": [
          0.07919973774265376,
          0.2566164712625396,
          null
         ]
        },
        {
         "hoverinfo": "none",
         "line": {
          "color": "rgb(0, 0, 255)",
          "width": 5
         },
         "mode": "lines",
         "type": "scatter3d",
         "x": [
          0.5572191006574577,
          0.6278722450283405,
          null
         ],
         "y": [
          0.5509995770623255,
          0.7282895108132108,
          null
         ],
         "z": [
          0.07919973774265376,
          0.907723259180013,
          null
         ]
        },
        {
         "hoverinfo": "none",
         "line": {
          "color": "rgb(0, 0, 255)",
          "width": 5
         },
         "mode": "lines",
         "type": "scatter3d",
         "x": [
          0.5572191006574577,
          0.18951941816325335,
          null
         ],
         "y": [
          0.5509995770623255,
          0.804942489366387,
          null
         ],
         "z": [
          0.07919973774265376,
          0.1784246572566579,
          null
         ]
        },
        {
         "hoverinfo": "none",
         "line": {
          "color": "rgb(0, 0, 255)",
          "width": 5
         },
         "mode": "lines",
         "type": "scatter3d",
         "x": [
          0.5572191006574577,
          0.6000505679940695,
          null
         ],
         "y": [
          0.5509995770623255,
          0.9176086362736051,
          null
         ],
         "z": [
          0.07919973774265376,
          0.887602588878502,
          null
         ]
        },
        {
         "hoverinfo": "none",
         "line": {
          "color": "rgb(0, 0, 255)",
          "width": 5
         },
         "mode": "lines",
         "type": "scatter3d",
         "x": [
          0.5572191006574577,
          0.03906451389567933,
          null
         ],
         "y": [
          0.5509995770623255,
          0.37984994794387894,
          null
         ],
         "z": [
          0.07919973774265376,
          0.5025028229646553,
          null
         ]
        },
        {
         "hoverinfo": "none",
         "line": {
          "color": "rgb(0, 0, 255)",
          "width": 5
         },
         "mode": "lines",
         "type": "scatter3d",
         "x": [
          0.5572191006574577,
          0.13384005872767057,
          null
         ],
         "y": [
          0.5509995770623255,
          0.46627961988713396,
          null
         ],
         "z": [
          0.07919973774265376,
          0.24283289137663255,
          null
         ]
        },
        {
         "hoverinfo": "none",
         "line": {
          "color": "rgb(0, 0, 255)",
          "width": 5
         },
         "mode": "lines",
         "type": "scatter3d",
         "x": [
          0.5572191006574577,
          0.46238668378938574,
          null
         ],
         "y": [
          0.5509995770623255,
          0.4878414457966992,
          null
         ],
         "z": [
          0.07919973774265376,
          0.19346491974768487,
          null
         ]
        },
        {
         "hoverinfo": "none",
         "line": {
          "color": "rgb(0, 0, 255)",
          "width": 5
         },
         "mode": "lines",
         "type": "scatter3d",
         "x": [
          0.5572191006574577,
          0.08979853805465277,
          null
         ],
         "y": [
          0.5509995770623255,
          0.11517688967203765,
          null
         ],
         "z": [
          0.07919973774265376,
          0.5362059518931337,
          null
         ]
        },
        {
         "hoverinfo": "none",
         "line": {
          "color": "rgb(0, 0, 255)",
          "width": 5
         },
         "mode": "lines",
         "type": "scatter3d",
         "x": [
          0.5572191006574577,
          0.43998310713795974,
          null
         ],
         "y": [
          0.5509995770623255,
          0.17941744936667625,
          null
         ],
         "z": [
          0.07919973774265376,
          0.2687780477487852,
          null
         ]
        },
        {
         "hoverinfo": "none",
         "line": {
          "color": "rgb(0, 0, 255)",
          "width": 5
         },
         "mode": "lines",
         "type": "scatter3d",
         "x": [
          0.5572191006574577,
          0.184964329130757,
          null
         ],
         "y": [
          0.5509995770623255,
          0.36275396928501125,
          null
         ],
         "z": [
          0.07919973774265376,
          0.37673309129093446,
          null
         ]
        },
        {
         "hoverinfo": "none",
         "line": {
          "color": "rgb(0, 0, 255)",
          "width": 5
         },
         "mode": "lines",
         "type": "scatter3d",
         "x": [
          0.5572191006574577,
          0.04318037794291141,
          null
         ],
         "y": [
          0.5509995770623255,
          0.25124693611372284,
          null
         ],
         "z": [
          0.07919973774265376,
          0.9492857761376863,
          null
         ]
        },
        {
         "hoverinfo": "none",
         "line": {
          "color": "rgb(0, 0, 255)",
          "width": 5
         },
         "mode": "lines",
         "type": "scatter3d",
         "x": [
          0.5572191006574577,
          0.3131617516106092,
          null
         ],
         "y": [
          0.5509995770623255,
          0.38320630629195906,
          null
         ],
         "z": [
          0.07919973774265376,
          0.3261309880058664,
          null
         ]
        },
        {
         "hoverinfo": "none",
         "line": {
          "color": "rgb(0, 0, 255)",
          "width": 5
         },
         "mode": "lines",
         "type": "scatter3d",
         "x": [
          0.5572191006574577,
          0.14607923745292672,
          null
         ],
         "y": [
          0.5509995770623255,
          0.5350300121864997,
          null
         ],
         "z": [
          0.07919973774265376,
          0.9444009250785079,
          null
         ]
        },
        {
         "hoverinfo": "none",
         "line": {
          "color": "rgb(0, 0, 255)",
          "width": 5
         },
         "mode": "lines",
         "type": "scatter3d",
         "x": [
          0.5572191006574577,
          0.6013938944089919,
          null
         ],
         "y": [
          0.5509995770623255,
          0.2961688462754798,
          null
         ],
         "z": [
          0.07919973774265376,
          0.9560610356234396,
          null
         ]
        },
        {
         "hoverinfo": "none",
         "line": {
          "color": "rgb(0, 0, 255)",
          "width": 5
         },
         "mode": "lines",
         "type": "scatter3d",
         "x": [
          0.5572191006574577,
          0.09321474737024749,
          null
         ],
         "y": [
          0.5509995770623255,
          0.5502629330762029,
          null
         ],
         "z": [
          0.07919973774265376,
          0.8607032312869579,
          null
         ]
        },
        {
         "hoverinfo": "none",
         "line": {
          "color": "rgb(0, 0, 255)",
          "width": 5
         },
         "mode": "lines",
         "type": "scatter3d",
         "x": [
          0.5572191006574577,
          0.824338903001674,
          null
         ],
         "y": [
          0.5509995770623255,
          0.31741615694187864,
          null
         ],
         "z": [
          0.07919973774265376,
          0.8089690911417335,
          null
         ]
        },
        {
         "hoverinfo": "none",
         "line": {
          "color": "rgb(0, 0, 255)",
          "width": 5
         },
         "mode": "lines",
         "type": "scatter3d",
         "x": [
          0.5572191006574577,
          0.9699700614387495,
          null
         ],
         "y": [
          0.5509995770623255,
          0.20259518425458156,
          null
         ],
         "z": [
          0.07919973774265376,
          0.0314414668969778,
          null
         ]
        },
        {
         "hoverinfo": "none",
         "line": {
          "color": "rgb(0, 0, 255)",
          "width": 5
         },
         "mode": "lines",
         "type": "scatter3d",
         "x": [
          0.5572191006574577,
          0.175630892058098,
          null
         ],
         "y": [
          0.5509995770623255,
          0.1691763875316652,
          null
         ],
         "z": [
          0.07919973774265376,
          0.6872873523822591,
          null
         ]
        },
        {
         "hoverinfo": "none",
         "line": {
          "color": "rgb(0, 0, 255)",
          "width": 5
         },
         "mode": "lines",
         "type": "scatter3d",
         "x": [
          0.5572191006574577,
          0.25654088749065107,
          null
         ],
         "y": [
          0.5509995770623255,
          0.3709849796579817,
          null
         ],
         "z": [
          0.07919973774265376,
          0.5451900504813074,
          null
         ]
        },
        {
         "hoverinfo": "none",
         "line": {
          "color": "rgb(0, 0, 255)",
          "width": 5
         },
         "mode": "lines",
         "type": "scatter3d",
         "x": [
          0.5572191006574577,
          0.24678959560492042,
          null
         ],
         "y": [
          0.5509995770623255,
          0.19820444889433586,
          null
         ],
         "z": [
          0.07919973774265376,
          0.050446964205453804,
          null
         ]
        },
        {
         "hoverinfo": "none",
         "line": {
          "color": "rgb(0, 0, 255)",
          "width": 5
         },
         "mode": "lines",
         "type": "scatter3d",
         "x": [
          0.5572191006574577,
          0.3159587716503005,
          null
         ],
         "y": [
          0.5509995770623255,
          0.8977861472373965,
          null
         ],
         "z": [
          0.07919973774265376,
          0.7692387383115931,
          null
         ]
        },
        {
         "hoverinfo": "none",
         "line": {
          "color": "rgb(0, 0, 255)",
          "width": 5
         },
         "mode": "lines",
         "type": "scatter3d",
         "x": [
          0.5572191006574577,
          0.23894397464478712,
          null
         ],
         "y": [
          0.5509995770623255,
          0.9881054822314761,
          null
         ],
         "z": [
          0.07919973774265376,
          0.34373504816486145,
          null
         ]
        },
        {
         "hoverinfo": "none",
         "line": {
          "color": "rgb(0, 0, 255)",
          "width": 5
         },
         "mode": "lines",
         "type": "scatter3d",
         "x": [
          0.5572191006574577,
          0.6485556786833006,
          null
         ],
         "y": [
          0.5509995770623255,
          0.5941013836759177,
          null
         ],
         "z": [
          0.07919973774265376,
          0.8653672300323781,
          null
         ]
        },
        {
         "hoverinfo": "none",
         "line": {
          "color": "rgb(0, 0, 255)",
          "width": 5
         },
         "mode": "lines",
         "type": "scatter3d",
         "x": [
          0.5572191006574577,
          0.22277704215464977,
          null
         ],
         "y": [
          0.5509995770623255,
          0.9520862997574703,
          null
         ],
         "z": [
          0.07919973774265376,
          0.07487479713831424,
          null
         ]
        },
        {
         "hoverinfo": "none",
         "line": {
          "color": "rgb(0, 0, 255)",
          "width": 5
         },
         "mode": "lines",
         "type": "scatter3d",
         "x": [
          0.5572191006574577,
          0.23814668161186947,
          null
         ],
         "y": [
          0.5509995770623255,
          0.1805142741524337,
          null
         ],
         "z": [
          0.07919973774265376,
          0.6272981794188904,
          null
         ]
        },
        {
         "hoverinfo": "none",
         "line": {
          "color": "rgb(0, 0, 255)",
          "width": 5
         },
         "mode": "lines",
         "type": "scatter3d",
         "x": [
          0.5572191006574577,
          0.3305595813403315,
          null
         ],
         "y": [
          0.5509995770623255,
          0.9655972929797423,
          null
         ],
         "z": [
          0.07919973774265376,
          0.4378259863554106,
          null
         ]
        },
        {
         "hoverinfo": "none",
         "line": {
          "color": "rgb(0, 0, 255)",
          "width": 5
         },
         "mode": "lines",
         "type": "scatter3d",
         "x": [
          0.5572191006574577,
          0.8278003373151289,
          null
         ],
         "y": [
          0.5509995770623255,
          0.47018702714547844,
          null
         ],
         "z": [
          0.07919973774265376,
          0.8494687495684636,
          null
         ]
        },
        {
         "hoverinfo": "none",
         "line": {
          "color": "rgb(0, 0, 255)",
          "width": 5
         },
         "mode": "lines",
         "type": "scatter3d",
         "x": [
          0.175630892058098,
          0.10292675754892944,
          null
         ],
         "y": [
          0.1691763875316652,
          0.5497581512050724,
          null
         ],
         "z": [
          0.6872873523822591,
          0.5367085597217629,
          null
         ]
        },
        {
         "hoverinfo": "none",
         "line": {
          "color": "rgb(0, 0, 255)",
          "width": 5
         },
         "mode": "lines",
         "type": "scatter3d",
         "x": [
          0.175630892058098,
          0.04318037794291141,
          null
         ],
         "y": [
          0.1691763875316652,
          0.25124693611372284,
          null
         ],
         "z": [
          0.6872873523822591,
          0.9492857761376863,
          null
         ]
        },
        {
         "hoverinfo": "none",
         "line": {
          "color": "rgb(0, 0, 255)",
          "width": 5
         },
         "mode": "lines",
         "type": "scatter3d",
         "x": [
          0.175630892058098,
          0.3131617516106092,
          null
         ],
         "y": [
          0.1691763875316652,
          0.38320630629195906,
          null
         ],
         "z": [
          0.6872873523822591,
          0.3261309880058664,
          null
         ]
        },
        {
         "hoverinfo": "none",
         "line": {
          "color": "rgb(0, 0, 255)",
          "width": 5
         },
         "mode": "lines",
         "type": "scatter3d",
         "x": [
          0.175630892058098,
          0.18951941816325335,
          null
         ],
         "y": [
          0.1691763875316652,
          0.804942489366387,
          null
         ],
         "z": [
          0.6872873523822591,
          0.1784246572566579,
          null
         ]
        },
        {
         "hoverinfo": "none",
         "line": {
          "color": "rgb(0, 0, 255)",
          "width": 5
         },
         "mode": "lines",
         "type": "scatter3d",
         "x": [
          0.175630892058098,
          0.23894397464478712,
          null
         ],
         "y": [
          0.1691763875316652,
          0.9881054822314761,
          null
         ],
         "z": [
          0.6872873523822591,
          0.34373504816486145,
          null
         ]
        },
        {
         "hoverinfo": "none",
         "line": {
          "color": "rgb(0, 0, 255)",
          "width": 5
         },
         "mode": "lines",
         "type": "scatter3d",
         "x": [
          0.175630892058098,
          0.6278722450283405,
          null
         ],
         "y": [
          0.1691763875316652,
          0.7282895108132108,
          null
         ],
         "z": [
          0.6872873523822591,
          0.907723259180013,
          null
         ]
        },
        {
         "hoverinfo": "none",
         "line": {
          "color": "rgb(0, 0, 255)",
          "width": 5
         },
         "mode": "lines",
         "type": "scatter3d",
         "x": [
          0.175630892058098,
          0.824338903001674,
          null
         ],
         "y": [
          0.1691763875316652,
          0.31741615694187864,
          null
         ],
         "z": [
          0.6872873523822591,
          0.8089690911417335,
          null
         ]
        },
        {
         "hoverinfo": "none",
         "line": {
          "color": "rgb(0, 0, 255)",
          "width": 5
         },
         "mode": "lines",
         "type": "scatter3d",
         "x": [
          0.175630892058098,
          0.23814668161186947,
          null
         ],
         "y": [
          0.1691763875316652,
          0.1805142741524337,
          null
         ],
         "z": [
          0.6872873523822591,
          0.6272981794188904,
          null
         ]
        },
        {
         "hoverinfo": "none",
         "line": {
          "color": "rgb(0, 0, 255)",
          "width": 5
         },
         "mode": "lines",
         "type": "scatter3d",
         "x": [
          0.175630892058098,
          0.13384005872767057,
          null
         ],
         "y": [
          0.1691763875316652,
          0.46627961988713396,
          null
         ],
         "z": [
          0.6872873523822591,
          0.24283289137663255,
          null
         ]
        },
        {
         "hoverinfo": "none",
         "line": {
          "color": "rgb(0, 0, 255)",
          "width": 5
         },
         "mode": "lines",
         "type": "scatter3d",
         "x": [
          0.175630892058098,
          0.14607923745292672,
          null
         ],
         "y": [
          0.1691763875316652,
          0.5350300121864997,
          null
         ],
         "z": [
          0.6872873523822591,
          0.9444009250785079,
          null
         ]
        },
        {
         "hoverinfo": "none",
         "line": {
          "color": "rgb(0, 0, 255)",
          "width": 5
         },
         "mode": "lines",
         "type": "scatter3d",
         "x": [
          0.175630892058098,
          0.24678959560492042,
          null
         ],
         "y": [
          0.1691763875316652,
          0.19820444889433586,
          null
         ],
         "z": [
          0.6872873523822591,
          0.050446964205453804,
          null
         ]
        },
        {
         "hoverinfo": "none",
         "line": {
          "color": "rgb(0, 0, 255)",
          "width": 5
         },
         "mode": "lines",
         "type": "scatter3d",
         "x": [
          0.175630892058098,
          0.3159587716503005,
          null
         ],
         "y": [
          0.1691763875316652,
          0.8977861472373965,
          null
         ],
         "z": [
          0.6872873523822591,
          0.7692387383115931,
          null
         ]
        },
        {
         "hoverinfo": "none",
         "line": {
          "color": "rgb(0, 0, 255)",
          "width": 5
         },
         "mode": "lines",
         "type": "scatter3d",
         "x": [
          0.175630892058098,
          0.03906451389567933,
          null
         ],
         "y": [
          0.1691763875316652,
          0.37984994794387894,
          null
         ],
         "z": [
          0.6872873523822591,
          0.5025028229646553,
          null
         ]
        },
        {
         "hoverinfo": "none",
         "line": {
          "color": "rgb(0, 0, 255)",
          "width": 5
         },
         "mode": "lines",
         "type": "scatter3d",
         "x": [
          0.175630892058098,
          0.6013938944089919,
          null
         ],
         "y": [
          0.1691763875316652,
          0.2961688462754798,
          null
         ],
         "z": [
          0.6872873523822591,
          0.9560610356234396,
          null
         ]
        },
        {
         "hoverinfo": "none",
         "line": {
          "color": "rgb(0, 0, 255)",
          "width": 5
         },
         "mode": "lines",
         "type": "scatter3d",
         "x": [
          0.175630892058098,
          0.22277704215464977,
          null
         ],
         "y": [
          0.1691763875316652,
          0.9520862997574703,
          null
         ],
         "z": [
          0.6872873523822591,
          0.07487479713831424,
          null
         ]
        },
        {
         "hoverinfo": "none",
         "line": {
          "color": "rgb(0, 0, 255)",
          "width": 5
         },
         "mode": "lines",
         "type": "scatter3d",
         "x": [
          0.175630892058098,
          0.3305595813403315,
          null
         ],
         "y": [
          0.1691763875316652,
          0.9655972929797423,
          null
         ],
         "z": [
          0.6872873523822591,
          0.4378259863554106,
          null
         ]
        },
        {
         "hoverinfo": "none",
         "line": {
          "color": "rgb(0, 0, 255)",
          "width": 5
         },
         "mode": "lines",
         "type": "scatter3d",
         "x": [
          0.175630892058098,
          0.8846115600778559,
          null
         ],
         "y": [
          0.1691763875316652,
          0.3952338052393384,
          null
         ],
         "z": [
          0.6872873523822591,
          0.2566164712625396,
          null
         ]
        },
        {
         "hoverinfo": "none",
         "line": {
          "color": "rgb(0, 0, 255)",
          "width": 5
         },
         "mode": "lines",
         "type": "scatter3d",
         "x": [
          0.175630892058098,
          0.08979853805465277,
          null
         ],
         "y": [
          0.1691763875316652,
          0.11517688967203765,
          null
         ],
         "z": [
          0.6872873523822591,
          0.5362059518931337,
          null
         ]
        },
        {
         "hoverinfo": "none",
         "line": {
          "color": "rgb(0, 0, 255)",
          "width": 5
         },
         "mode": "lines",
         "type": "scatter3d",
         "x": [
          0.175630892058098,
          0.9699700614387495,
          null
         ],
         "y": [
          0.1691763875316652,
          0.20259518425458156,
          null
         ],
         "z": [
          0.6872873523822591,
          0.0314414668969778,
          null
         ]
        },
        {
         "hoverinfo": "none",
         "line": {
          "color": "rgb(0, 0, 255)",
          "width": 5
         },
         "mode": "lines",
         "type": "scatter3d",
         "x": [
          0.175630892058098,
          0.6000505679940695,
          null
         ],
         "y": [
          0.1691763875316652,
          0.9176086362736051,
          null
         ],
         "z": [
          0.6872873523822591,
          0.887602588878502,
          null
         ]
        },
        {
         "hoverinfo": "none",
         "line": {
          "color": "rgb(0, 0, 255)",
          "width": 5
         },
         "mode": "lines",
         "type": "scatter3d",
         "x": [
          0.175630892058098,
          0.46238668378938574,
          null
         ],
         "y": [
          0.1691763875316652,
          0.4878414457966992,
          null
         ],
         "z": [
          0.6872873523822591,
          0.19346491974768487,
          null
         ]
        },
        {
         "hoverinfo": "none",
         "line": {
          "color": "rgb(0, 0, 255)",
          "width": 5
         },
         "mode": "lines",
         "type": "scatter3d",
         "x": [
          0.175630892058098,
          0.43998310713795974,
          null
         ],
         "y": [
          0.1691763875316652,
          0.17941744936667625,
          null
         ],
         "z": [
          0.6872873523822591,
          0.2687780477487852,
          null
         ]
        },
        {
         "hoverinfo": "none",
         "line": {
          "color": "rgb(0, 0, 255)",
          "width": 5
         },
         "mode": "lines",
         "type": "scatter3d",
         "x": [
          0.175630892058098,
          0.25654088749065107,
          null
         ],
         "y": [
          0.1691763875316652,
          0.3709849796579817,
          null
         ],
         "z": [
          0.6872873523822591,
          0.5451900504813074,
          null
         ]
        },
        {
         "hoverinfo": "none",
         "line": {
          "color": "rgb(0, 0, 255)",
          "width": 5
         },
         "mode": "lines",
         "type": "scatter3d",
         "x": [
          0.175630892058098,
          0.09321474737024749,
          null
         ],
         "y": [
          0.1691763875316652,
          0.5502629330762029,
          null
         ],
         "z": [
          0.6872873523822591,
          0.8607032312869579,
          null
         ]
        },
        {
         "hoverinfo": "none",
         "line": {
          "color": "rgb(0, 0, 255)",
          "width": 5
         },
         "mode": "lines",
         "type": "scatter3d",
         "x": [
          0.175630892058098,
          0.6485556786833006,
          null
         ],
         "y": [
          0.1691763875316652,
          0.5941013836759177,
          null
         ],
         "z": [
          0.6872873523822591,
          0.8653672300323781,
          null
         ]
        },
        {
         "hoverinfo": "none",
         "line": {
          "color": "rgb(0, 0, 255)",
          "width": 5
         },
         "mode": "lines",
         "type": "scatter3d",
         "x": [
          0.175630892058098,
          0.8278003373151289,
          null
         ],
         "y": [
          0.1691763875316652,
          0.47018702714547844,
          null
         ],
         "z": [
          0.6872873523822591,
          0.8494687495684636,
          null
         ]
        },
        {
         "hoverinfo": "none",
         "line": {
          "color": "rgb(0, 0, 255)",
          "width": 5
         },
         "mode": "lines",
         "type": "scatter3d",
         "x": [
          0.175630892058098,
          0.184964329130757,
          null
         ],
         "y": [
          0.1691763875316652,
          0.36275396928501125,
          null
         ],
         "z": [
          0.6872873523822591,
          0.37673309129093446,
          null
         ]
        },
        {
         "hoverinfo": "none",
         "line": {
          "color": "rgb(0, 0, 255)",
          "width": 5
         },
         "mode": "lines",
         "type": "scatter3d",
         "x": [
          0.24678959560492042,
          0.18951941816325335,
          null
         ],
         "y": [
          0.19820444889433586,
          0.804942489366387,
          null
         ],
         "z": [
          0.050446964205453804,
          0.1784246572566579,
          null
         ]
        },
        {
         "hoverinfo": "none",
         "line": {
          "color": "rgb(0, 0, 255)",
          "width": 5
         },
         "mode": "lines",
         "type": "scatter3d",
         "x": [
          0.24678959560492042,
          0.8846115600778559,
          null
         ],
         "y": [
          0.19820444889433586,
          0.3952338052393384,
          null
         ],
         "z": [
          0.050446964205453804,
          0.2566164712625396,
          null
         ]
        },
        {
         "hoverinfo": "none",
         "line": {
          "color": "rgb(0, 0, 255)",
          "width": 5
         },
         "mode": "lines",
         "type": "scatter3d",
         "x": [
          0.24678959560492042,
          0.6485556786833006,
          null
         ],
         "y": [
          0.19820444889433586,
          0.5941013836759177,
          null
         ],
         "z": [
          0.050446964205453804,
          0.8653672300323781,
          null
         ]
        },
        {
         "hoverinfo": "none",
         "line": {
          "color": "rgb(0, 0, 255)",
          "width": 5
         },
         "mode": "lines",
         "type": "scatter3d",
         "x": [
          0.24678959560492042,
          0.6278722450283405,
          null
         ],
         "y": [
          0.19820444889433586,
          0.7282895108132108,
          null
         ],
         "z": [
          0.050446964205453804,
          0.907723259180013,
          null
         ]
        },
        {
         "hoverinfo": "none",
         "line": {
          "color": "rgb(0, 0, 255)",
          "width": 5
         },
         "mode": "lines",
         "type": "scatter3d",
         "x": [
          0.24678959560492042,
          0.13384005872767057,
          null
         ],
         "y": [
          0.19820444889433586,
          0.46627961988713396,
          null
         ],
         "z": [
          0.050446964205453804,
          0.24283289137663255,
          null
         ]
        },
        {
         "hoverinfo": "none",
         "line": {
          "color": "rgb(0, 0, 255)",
          "width": 5
         },
         "mode": "lines",
         "type": "scatter3d",
         "x": [
          0.24678959560492042,
          0.04318037794291141,
          null
         ],
         "y": [
          0.19820444889433586,
          0.25124693611372284,
          null
         ],
         "z": [
          0.050446964205453804,
          0.9492857761376863,
          null
         ]
        },
        {
         "hoverinfo": "none",
         "line": {
          "color": "rgb(0, 0, 255)",
          "width": 5
         },
         "mode": "lines",
         "type": "scatter3d",
         "x": [
          0.24678959560492042,
          0.22277704215464977,
          null
         ],
         "y": [
          0.19820444889433586,
          0.9520862997574703,
          null
         ],
         "z": [
          0.050446964205453804,
          0.07487479713831424,
          null
         ]
        },
        {
         "hoverinfo": "none",
         "line": {
          "color": "rgb(0, 0, 255)",
          "width": 5
         },
         "mode": "lines",
         "type": "scatter3d",
         "x": [
          0.24678959560492042,
          0.08979853805465277,
          null
         ],
         "y": [
          0.19820444889433586,
          0.11517688967203765,
          null
         ],
         "z": [
          0.050446964205453804,
          0.5362059518931337,
          null
         ]
        },
        {
         "hoverinfo": "none",
         "line": {
          "color": "rgb(0, 0, 255)",
          "width": 5
         },
         "mode": "lines",
         "type": "scatter3d",
         "x": [
          0.24678959560492042,
          0.6000505679940695,
          null
         ],
         "y": [
          0.19820444889433586,
          0.9176086362736051,
          null
         ],
         "z": [
          0.050446964205453804,
          0.887602588878502,
          null
         ]
        },
        {
         "hoverinfo": "none",
         "line": {
          "color": "rgb(0, 0, 255)",
          "width": 5
         },
         "mode": "lines",
         "type": "scatter3d",
         "x": [
          0.24678959560492042,
          0.43998310713795974,
          null
         ],
         "y": [
          0.19820444889433586,
          0.17941744936667625,
          null
         ],
         "z": [
          0.050446964205453804,
          0.2687780477487852,
          null
         ]
        },
        {
         "hoverinfo": "none",
         "line": {
          "color": "rgb(0, 0, 255)",
          "width": 5
         },
         "mode": "lines",
         "type": "scatter3d",
         "x": [
          0.24678959560492042,
          0.3159587716503005,
          null
         ],
         "y": [
          0.19820444889433586,
          0.8977861472373965,
          null
         ],
         "z": [
          0.050446964205453804,
          0.7692387383115931,
          null
         ]
        },
        {
         "hoverinfo": "none",
         "line": {
          "color": "rgb(0, 0, 255)",
          "width": 5
         },
         "mode": "lines",
         "type": "scatter3d",
         "x": [
          0.24678959560492042,
          0.23894397464478712,
          null
         ],
         "y": [
          0.19820444889433586,
          0.9881054822314761,
          null
         ],
         "z": [
          0.050446964205453804,
          0.34373504816486145,
          null
         ]
        },
        {
         "hoverinfo": "none",
         "line": {
          "color": "rgb(0, 0, 255)",
          "width": 5
         },
         "mode": "lines",
         "type": "scatter3d",
         "x": [
          0.24678959560492042,
          0.46238668378938574,
          null
         ],
         "y": [
          0.19820444889433586,
          0.4878414457966992,
          null
         ],
         "z": [
          0.050446964205453804,
          0.19346491974768487,
          null
         ]
        },
        {
         "hoverinfo": "none",
         "line": {
          "color": "rgb(0, 0, 255)",
          "width": 5
         },
         "mode": "lines",
         "type": "scatter3d",
         "x": [
          0.24678959560492042,
          0.23814668161186947,
          null
         ],
         "y": [
          0.19820444889433586,
          0.1805142741524337,
          null
         ],
         "z": [
          0.050446964205453804,
          0.6272981794188904,
          null
         ]
        },
        {
         "hoverinfo": "none",
         "line": {
          "color": "rgb(0, 0, 255)",
          "width": 5
         },
         "mode": "lines",
         "type": "scatter3d",
         "x": [
          0.24678959560492042,
          0.10292675754892944,
          null
         ],
         "y": [
          0.19820444889433586,
          0.5497581512050724,
          null
         ],
         "z": [
          0.050446964205453804,
          0.5367085597217629,
          null
         ]
        },
        {
         "hoverinfo": "none",
         "line": {
          "color": "rgb(0, 0, 255)",
          "width": 5
         },
         "mode": "lines",
         "type": "scatter3d",
         "x": [
          0.24678959560492042,
          0.03906451389567933,
          null
         ],
         "y": [
          0.19820444889433586,
          0.37984994794387894,
          null
         ],
         "z": [
          0.050446964205453804,
          0.5025028229646553,
          null
         ]
        },
        {
         "hoverinfo": "none",
         "line": {
          "color": "rgb(0, 0, 255)",
          "width": 5
         },
         "mode": "lines",
         "type": "scatter3d",
         "x": [
          0.24678959560492042,
          0.3305595813403315,
          null
         ],
         "y": [
          0.19820444889433586,
          0.9655972929797423,
          null
         ],
         "z": [
          0.050446964205453804,
          0.4378259863554106,
          null
         ]
        },
        {
         "hoverinfo": "none",
         "line": {
          "color": "rgb(0, 0, 255)",
          "width": 5
         },
         "mode": "lines",
         "type": "scatter3d",
         "x": [
          0.24678959560492042,
          0.824338903001674,
          null
         ],
         "y": [
          0.19820444889433586,
          0.31741615694187864,
          null
         ],
         "z": [
          0.050446964205453804,
          0.8089690911417335,
          null
         ]
        },
        {
         "hoverinfo": "none",
         "line": {
          "color": "rgb(0, 0, 255)",
          "width": 5
         },
         "mode": "lines",
         "type": "scatter3d",
         "x": [
          0.24678959560492042,
          0.3131617516106092,
          null
         ],
         "y": [
          0.19820444889433586,
          0.38320630629195906,
          null
         ],
         "z": [
          0.050446964205453804,
          0.3261309880058664,
          null
         ]
        },
        {
         "hoverinfo": "none",
         "line": {
          "color": "rgb(0, 0, 255)",
          "width": 5
         },
         "mode": "lines",
         "type": "scatter3d",
         "x": [
          0.24678959560492042,
          0.6013938944089919,
          null
         ],
         "y": [
          0.19820444889433586,
          0.2961688462754798,
          null
         ],
         "z": [
          0.050446964205453804,
          0.9560610356234396,
          null
         ]
        },
        {
         "hoverinfo": "none",
         "line": {
          "color": "rgb(0, 0, 255)",
          "width": 5
         },
         "mode": "lines",
         "type": "scatter3d",
         "x": [
          0.24678959560492042,
          0.14607923745292672,
          null
         ],
         "y": [
          0.19820444889433586,
          0.5350300121864997,
          null
         ],
         "z": [
          0.050446964205453804,
          0.9444009250785079,
          null
         ]
        },
        {
         "hoverinfo": "none",
         "line": {
          "color": "rgb(0, 0, 255)",
          "width": 5
         },
         "mode": "lines",
         "type": "scatter3d",
         "x": [
          0.24678959560492042,
          0.9699700614387495,
          null
         ],
         "y": [
          0.19820444889433586,
          0.20259518425458156,
          null
         ],
         "z": [
          0.050446964205453804,
          0.0314414668969778,
          null
         ]
        },
        {
         "hoverinfo": "none",
         "line": {
          "color": "rgb(0, 0, 255)",
          "width": 5
         },
         "mode": "lines",
         "type": "scatter3d",
         "x": [
          0.24678959560492042,
          0.09321474737024749,
          null
         ],
         "y": [
          0.19820444889433586,
          0.5502629330762029,
          null
         ],
         "z": [
          0.050446964205453804,
          0.8607032312869579,
          null
         ]
        },
        {
         "hoverinfo": "none",
         "line": {
          "color": "rgb(0, 0, 255)",
          "width": 5
         },
         "mode": "lines",
         "type": "scatter3d",
         "x": [
          0.24678959560492042,
          0.184964329130757,
          null
         ],
         "y": [
          0.19820444889433586,
          0.36275396928501125,
          null
         ],
         "z": [
          0.050446964205453804,
          0.37673309129093446,
          null
         ]
        },
        {
         "hoverinfo": "none",
         "line": {
          "color": "rgb(0, 0, 255)",
          "width": 5
         },
         "mode": "lines",
         "type": "scatter3d",
         "x": [
          0.24678959560492042,
          0.25654088749065107,
          null
         ],
         "y": [
          0.19820444889433586,
          0.3709849796579817,
          null
         ],
         "z": [
          0.050446964205453804,
          0.5451900504813074,
          null
         ]
        },
        {
         "hoverinfo": "none",
         "line": {
          "color": "rgb(0, 0, 255)",
          "width": 5
         },
         "mode": "lines",
         "type": "scatter3d",
         "x": [
          0.24678959560492042,
          0.8278003373151289,
          null
         ],
         "y": [
          0.19820444889433586,
          0.47018702714547844,
          null
         ],
         "z": [
          0.050446964205453804,
          0.8494687495684636,
          null
         ]
        },
        {
         "hoverinfo": "none",
         "line": {
          "color": "rgb(0, 0, 255)",
          "width": 5
         },
         "mode": "lines",
         "type": "scatter3d",
         "x": [
          0.6000505679940695,
          0.18951941816325335,
          null
         ],
         "y": [
          0.9176086362736051,
          0.804942489366387,
          null
         ],
         "z": [
          0.887602588878502,
          0.1784246572566579,
          null
         ]
        },
        {
         "hoverinfo": "none",
         "line": {
          "color": "rgb(0, 0, 255)",
          "width": 5
         },
         "mode": "lines",
         "type": "scatter3d",
         "x": [
          0.6000505679940695,
          0.8846115600778559,
          null
         ],
         "y": [
          0.9176086362736051,
          0.3952338052393384,
          null
         ],
         "z": [
          0.887602588878502,
          0.2566164712625396,
          null
         ]
        },
        {
         "hoverinfo": "none",
         "line": {
          "color": "rgb(0, 0, 255)",
          "width": 5
         },
         "mode": "lines",
         "type": "scatter3d",
         "x": [
          0.6000505679940695,
          0.22277704215464977,
          null
         ],
         "y": [
          0.9176086362736051,
          0.9520862997574703,
          null
         ],
         "z": [
          0.887602588878502,
          0.07487479713831424,
          null
         ]
        },
        {
         "hoverinfo": "none",
         "line": {
          "color": "rgb(0, 0, 255)",
          "width": 5
         },
         "mode": "lines",
         "type": "scatter3d",
         "x": [
          0.6000505679940695,
          0.6485556786833006,
          null
         ],
         "y": [
          0.9176086362736051,
          0.5941013836759177,
          null
         ],
         "z": [
          0.887602588878502,
          0.8653672300323781,
          null
         ]
        },
        {
         "hoverinfo": "none",
         "line": {
          "color": "rgb(0, 0, 255)",
          "width": 5
         },
         "mode": "lines",
         "type": "scatter3d",
         "x": [
          0.6000505679940695,
          0.04318037794291141,
          null
         ],
         "y": [
          0.9176086362736051,
          0.25124693611372284,
          null
         ],
         "z": [
          0.887602588878502,
          0.9492857761376863,
          null
         ]
        },
        {
         "hoverinfo": "none",
         "line": {
          "color": "rgb(0, 0, 255)",
          "width": 5
         },
         "mode": "lines",
         "type": "scatter3d",
         "x": [
          0.6000505679940695,
          0.9699700614387495,
          null
         ],
         "y": [
          0.9176086362736051,
          0.20259518425458156,
          null
         ],
         "z": [
          0.887602588878502,
          0.0314414668969778,
          null
         ]
        },
        {
         "hoverinfo": "none",
         "line": {
          "color": "rgb(0, 0, 255)",
          "width": 5
         },
         "mode": "lines",
         "type": "scatter3d",
         "x": [
          0.6000505679940695,
          0.08979853805465277,
          null
         ],
         "y": [
          0.9176086362736051,
          0.11517688967203765,
          null
         ],
         "z": [
          0.887602588878502,
          0.5362059518931337,
          null
         ]
        },
        {
         "hoverinfo": "none",
         "line": {
          "color": "rgb(0, 0, 255)",
          "width": 5
         },
         "mode": "lines",
         "type": "scatter3d",
         "x": [
          0.6000505679940695,
          0.23814668161186947,
          null
         ],
         "y": [
          0.9176086362736051,
          0.1805142741524337,
          null
         ],
         "z": [
          0.887602588878502,
          0.6272981794188904,
          null
         ]
        },
        {
         "hoverinfo": "none",
         "line": {
          "color": "rgb(0, 0, 255)",
          "width": 5
         },
         "mode": "lines",
         "type": "scatter3d",
         "x": [
          0.6000505679940695,
          0.3159587716503005,
          null
         ],
         "y": [
          0.9176086362736051,
          0.8977861472373965,
          null
         ],
         "z": [
          0.887602588878502,
          0.7692387383115931,
          null
         ]
        },
        {
         "hoverinfo": "none",
         "line": {
          "color": "rgb(0, 0, 255)",
          "width": 5
         },
         "mode": "lines",
         "type": "scatter3d",
         "x": [
          0.6000505679940695,
          0.6278722450283405,
          null
         ],
         "y": [
          0.9176086362736051,
          0.7282895108132108,
          null
         ],
         "z": [
          0.887602588878502,
          0.907723259180013,
          null
         ]
        },
        {
         "hoverinfo": "none",
         "line": {
          "color": "rgb(0, 0, 255)",
          "width": 5
         },
         "mode": "lines",
         "type": "scatter3d",
         "x": [
          0.6000505679940695,
          0.8278003373151289,
          null
         ],
         "y": [
          0.9176086362736051,
          0.47018702714547844,
          null
         ],
         "z": [
          0.887602588878502,
          0.8494687495684636,
          null
         ]
        },
        {
         "hoverinfo": "none",
         "line": {
          "color": "rgb(0, 0, 255)",
          "width": 5
         },
         "mode": "lines",
         "type": "scatter3d",
         "x": [
          0.6000505679940695,
          0.46238668378938574,
          null
         ],
         "y": [
          0.9176086362736051,
          0.4878414457966992,
          null
         ],
         "z": [
          0.887602588878502,
          0.19346491974768487,
          null
         ]
        },
        {
         "hoverinfo": "none",
         "line": {
          "color": "rgb(0, 0, 255)",
          "width": 5
         },
         "mode": "lines",
         "type": "scatter3d",
         "x": [
          0.6000505679940695,
          0.43998310713795974,
          null
         ],
         "y": [
          0.9176086362736051,
          0.17941744936667625,
          null
         ],
         "z": [
          0.887602588878502,
          0.2687780477487852,
          null
         ]
        },
        {
         "hoverinfo": "none",
         "line": {
          "color": "rgb(0, 0, 255)",
          "width": 5
         },
         "mode": "lines",
         "type": "scatter3d",
         "x": [
          0.6000505679940695,
          0.6013938944089919,
          null
         ],
         "y": [
          0.9176086362736051,
          0.2961688462754798,
          null
         ],
         "z": [
          0.887602588878502,
          0.9560610356234396,
          null
         ]
        },
        {
         "hoverinfo": "none",
         "line": {
          "color": "rgb(0, 0, 255)",
          "width": 5
         },
         "mode": "lines",
         "type": "scatter3d",
         "x": [
          0.6000505679940695,
          0.13384005872767057,
          null
         ],
         "y": [
          0.9176086362736051,
          0.46627961988713396,
          null
         ],
         "z": [
          0.887602588878502,
          0.24283289137663255,
          null
         ]
        },
        {
         "hoverinfo": "none",
         "line": {
          "color": "rgb(0, 0, 255)",
          "width": 5
         },
         "mode": "lines",
         "type": "scatter3d",
         "x": [
          0.6000505679940695,
          0.14607923745292672,
          null
         ],
         "y": [
          0.9176086362736051,
          0.5350300121864997,
          null
         ],
         "z": [
          0.887602588878502,
          0.9444009250785079,
          null
         ]
        },
        {
         "hoverinfo": "none",
         "line": {
          "color": "rgb(0, 0, 255)",
          "width": 5
         },
         "mode": "lines",
         "type": "scatter3d",
         "x": [
          0.6000505679940695,
          0.3305595813403315,
          null
         ],
         "y": [
          0.9176086362736051,
          0.9655972929797423,
          null
         ],
         "z": [
          0.887602588878502,
          0.4378259863554106,
          null
         ]
        },
        {
         "hoverinfo": "none",
         "line": {
          "color": "rgb(0, 0, 255)",
          "width": 5
         },
         "mode": "lines",
         "type": "scatter3d",
         "x": [
          0.6000505679940695,
          0.10292675754892944,
          null
         ],
         "y": [
          0.9176086362736051,
          0.5497581512050724,
          null
         ],
         "z": [
          0.887602588878502,
          0.5367085597217629,
          null
         ]
        },
        {
         "hoverinfo": "none",
         "line": {
          "color": "rgb(0, 0, 255)",
          "width": 5
         },
         "mode": "lines",
         "type": "scatter3d",
         "x": [
          0.6000505679940695,
          0.824338903001674,
          null
         ],
         "y": [
          0.9176086362736051,
          0.31741615694187864,
          null
         ],
         "z": [
          0.887602588878502,
          0.8089690911417335,
          null
         ]
        },
        {
         "hoverinfo": "none",
         "line": {
          "color": "rgb(0, 0, 255)",
          "width": 5
         },
         "mode": "lines",
         "type": "scatter3d",
         "x": [
          0.6000505679940695,
          0.03906451389567933,
          null
         ],
         "y": [
          0.9176086362736051,
          0.37984994794387894,
          null
         ],
         "z": [
          0.887602588878502,
          0.5025028229646553,
          null
         ]
        },
        {
         "hoverinfo": "none",
         "line": {
          "color": "rgb(0, 0, 255)",
          "width": 5
         },
         "mode": "lines",
         "type": "scatter3d",
         "x": [
          0.6000505679940695,
          0.3131617516106092,
          null
         ],
         "y": [
          0.9176086362736051,
          0.38320630629195906,
          null
         ],
         "z": [
          0.887602588878502,
          0.3261309880058664,
          null
         ]
        },
        {
         "hoverinfo": "none",
         "line": {
          "color": "rgb(0, 0, 255)",
          "width": 5
         },
         "mode": "lines",
         "type": "scatter3d",
         "x": [
          0.6000505679940695,
          0.184964329130757,
          null
         ],
         "y": [
          0.9176086362736051,
          0.36275396928501125,
          null
         ],
         "z": [
          0.887602588878502,
          0.37673309129093446,
          null
         ]
        },
        {
         "hoverinfo": "none",
         "line": {
          "color": "rgb(0, 0, 255)",
          "width": 5
         },
         "mode": "lines",
         "type": "scatter3d",
         "x": [
          0.6000505679940695,
          0.23894397464478712,
          null
         ],
         "y": [
          0.9176086362736051,
          0.9881054822314761,
          null
         ],
         "z": [
          0.887602588878502,
          0.34373504816486145,
          null
         ]
        },
        {
         "hoverinfo": "none",
         "line": {
          "color": "rgb(0, 0, 255)",
          "width": 5
         },
         "mode": "lines",
         "type": "scatter3d",
         "x": [
          0.6000505679940695,
          0.09321474737024749,
          null
         ],
         "y": [
          0.9176086362736051,
          0.5502629330762029,
          null
         ],
         "z": [
          0.887602588878502,
          0.8607032312869579,
          null
         ]
        },
        {
         "hoverinfo": "none",
         "line": {
          "color": "rgb(0, 0, 255)",
          "width": 5
         },
         "mode": "lines",
         "type": "scatter3d",
         "x": [
          0.6000505679940695,
          0.25654088749065107,
          null
         ],
         "y": [
          0.9176086362736051,
          0.3709849796579817,
          null
         ],
         "z": [
          0.887602588878502,
          0.5451900504813074,
          null
         ]
        },
        {
         "hoverinfo": "none",
         "line": {
          "color": "rgb(0, 0, 255)",
          "width": 5
         },
         "mode": "lines",
         "type": "scatter3d",
         "x": [
          0.3131617516106092,
          0.6278722450283405,
          null
         ],
         "y": [
          0.38320630629195906,
          0.7282895108132108,
          null
         ],
         "z": [
          0.3261309880058664,
          0.907723259180013,
          null
         ]
        },
        {
         "hoverinfo": "none",
         "line": {
          "color": "rgb(0, 0, 255)",
          "width": 5
         },
         "mode": "lines",
         "type": "scatter3d",
         "x": [
          0.3131617516106092,
          0.18951941816325335,
          null
         ],
         "y": [
          0.38320630629195906,
          0.804942489366387,
          null
         ],
         "z": [
          0.3261309880058664,
          0.1784246572566579,
          null
         ]
        },
        {
         "hoverinfo": "none",
         "line": {
          "color": "rgb(0, 0, 255)",
          "width": 5
         },
         "mode": "lines",
         "type": "scatter3d",
         "x": [
          0.3131617516106092,
          0.9699700614387495,
          null
         ],
         "y": [
          0.38320630629195906,
          0.20259518425458156,
          null
         ],
         "z": [
          0.3261309880058664,
          0.0314414668969778,
          null
         ]
        },
        {
         "hoverinfo": "none",
         "line": {
          "color": "rgb(0, 0, 255)",
          "width": 5
         },
         "mode": "lines",
         "type": "scatter3d",
         "x": [
          0.3131617516106092,
          0.10292675754892944,
          null
         ],
         "y": [
          0.38320630629195906,
          0.5497581512050724,
          null
         ],
         "z": [
          0.3261309880058664,
          0.5367085597217629,
          null
         ]
        },
        {
         "hoverinfo": "none",
         "line": {
          "color": "rgb(0, 0, 255)",
          "width": 5
         },
         "mode": "lines",
         "type": "scatter3d",
         "x": [
          0.3131617516106092,
          0.14607923745292672,
          null
         ],
         "y": [
          0.38320630629195906,
          0.5350300121864997,
          null
         ],
         "z": [
          0.3261309880058664,
          0.9444009250785079,
          null
         ]
        },
        {
         "hoverinfo": "none",
         "line": {
          "color": "rgb(0, 0, 255)",
          "width": 5
         },
         "mode": "lines",
         "type": "scatter3d",
         "x": [
          0.3131617516106092,
          0.13384005872767057,
          null
         ],
         "y": [
          0.38320630629195906,
          0.46627961988713396,
          null
         ],
         "z": [
          0.3261309880058664,
          0.24283289137663255,
          null
         ]
        },
        {
         "hoverinfo": "none",
         "line": {
          "color": "rgb(0, 0, 255)",
          "width": 5
         },
         "mode": "lines",
         "type": "scatter3d",
         "x": [
          0.3131617516106092,
          0.04318037794291141,
          null
         ],
         "y": [
          0.38320630629195906,
          0.25124693611372284,
          null
         ],
         "z": [
          0.3261309880058664,
          0.9492857761376863,
          null
         ]
        },
        {
         "hoverinfo": "none",
         "line": {
          "color": "rgb(0, 0, 255)",
          "width": 5
         },
         "mode": "lines",
         "type": "scatter3d",
         "x": [
          0.3131617516106092,
          0.23894397464478712,
          null
         ],
         "y": [
          0.38320630629195906,
          0.9881054822314761,
          null
         ],
         "z": [
          0.3261309880058664,
          0.34373504816486145,
          null
         ]
        },
        {
         "hoverinfo": "none",
         "line": {
          "color": "rgb(0, 0, 255)",
          "width": 5
         },
         "mode": "lines",
         "type": "scatter3d",
         "x": [
          0.3131617516106092,
          0.46238668378938574,
          null
         ],
         "y": [
          0.38320630629195906,
          0.4878414457966992,
          null
         ],
         "z": [
          0.3261309880058664,
          0.19346491974768487,
          null
         ]
        },
        {
         "hoverinfo": "none",
         "line": {
          "color": "rgb(0, 0, 255)",
          "width": 5
         },
         "mode": "lines",
         "type": "scatter3d",
         "x": [
          0.3131617516106092,
          0.43998310713795974,
          null
         ],
         "y": [
          0.38320630629195906,
          0.17941744936667625,
          null
         ],
         "z": [
          0.3261309880058664,
          0.2687780477487852,
          null
         ]
        },
        {
         "hoverinfo": "none",
         "line": {
          "color": "rgb(0, 0, 255)",
          "width": 5
         },
         "mode": "lines",
         "type": "scatter3d",
         "x": [
          0.3131617516106092,
          0.03906451389567933,
          null
         ],
         "y": [
          0.38320630629195906,
          0.37984994794387894,
          null
         ],
         "z": [
          0.3261309880058664,
          0.5025028229646553,
          null
         ]
        },
        {
         "hoverinfo": "none",
         "line": {
          "color": "rgb(0, 0, 255)",
          "width": 5
         },
         "mode": "lines",
         "type": "scatter3d",
         "x": [
          0.3131617516106092,
          0.3159587716503005,
          null
         ],
         "y": [
          0.38320630629195906,
          0.8977861472373965,
          null
         ],
         "z": [
          0.3261309880058664,
          0.7692387383115931,
          null
         ]
        },
        {
         "hoverinfo": "none",
         "line": {
          "color": "rgb(0, 0, 255)",
          "width": 5
         },
         "mode": "lines",
         "type": "scatter3d",
         "x": [
          0.3131617516106092,
          0.824338903001674,
          null
         ],
         "y": [
          0.38320630629195906,
          0.31741615694187864,
          null
         ],
         "z": [
          0.3261309880058664,
          0.8089690911417335,
          null
         ]
        },
        {
         "hoverinfo": "none",
         "line": {
          "color": "rgb(0, 0, 255)",
          "width": 5
         },
         "mode": "lines",
         "type": "scatter3d",
         "x": [
          0.3131617516106092,
          0.22277704215464977,
          null
         ],
         "y": [
          0.38320630629195906,
          0.9520862997574703,
          null
         ],
         "z": [
          0.3261309880058664,
          0.07487479713831424,
          null
         ]
        },
        {
         "hoverinfo": "none",
         "line": {
          "color": "rgb(0, 0, 255)",
          "width": 5
         },
         "mode": "lines",
         "type": "scatter3d",
         "x": [
          0.3131617516106092,
          0.3305595813403315,
          null
         ],
         "y": [
          0.38320630629195906,
          0.9655972929797423,
          null
         ],
         "z": [
          0.3261309880058664,
          0.4378259863554106,
          null
         ]
        },
        {
         "hoverinfo": "none",
         "line": {
          "color": "rgb(0, 0, 255)",
          "width": 5
         },
         "mode": "lines",
         "type": "scatter3d",
         "x": [
          0.3131617516106092,
          0.08979853805465277,
          null
         ],
         "y": [
          0.38320630629195906,
          0.11517688967203765,
          null
         ],
         "z": [
          0.3261309880058664,
          0.5362059518931337,
          null
         ]
        },
        {
         "hoverinfo": "none",
         "line": {
          "color": "rgb(0, 0, 255)",
          "width": 5
         },
         "mode": "lines",
         "type": "scatter3d",
         "x": [
          0.3131617516106092,
          0.6485556786833006,
          null
         ],
         "y": [
          0.38320630629195906,
          0.5941013836759177,
          null
         ],
         "z": [
          0.3261309880058664,
          0.8653672300323781,
          null
         ]
        },
        {
         "hoverinfo": "none",
         "line": {
          "color": "rgb(0, 0, 255)",
          "width": 5
         },
         "mode": "lines",
         "type": "scatter3d",
         "x": [
          0.3131617516106092,
          0.23814668161186947,
          null
         ],
         "y": [
          0.38320630629195906,
          0.1805142741524337,
          null
         ],
         "z": [
          0.3261309880058664,
          0.6272981794188904,
          null
         ]
        },
        {
         "hoverinfo": "none",
         "line": {
          "color": "rgb(255, 0, 0)",
          "width": 5
         },
         "mode": "lines",
         "type": "scatter3d",
         "x": [
          0.3131617516106092,
          0.09321474737024749,
          null
         ],
         "y": [
          0.38320630629195906,
          0.5502629330762029,
          null
         ],
         "z": [
          0.3261309880058664,
          0.8607032312869579,
          null
         ]
        },
        {
         "hoverinfo": "none",
         "line": {
          "color": "rgb(0, 0, 255)",
          "width": 5
         },
         "mode": "lines",
         "type": "scatter3d",
         "x": [
          0.3131617516106092,
          0.8846115600778559,
          null
         ],
         "y": [
          0.38320630629195906,
          0.3952338052393384,
          null
         ],
         "z": [
          0.3261309880058664,
          0.2566164712625396,
          null
         ]
        },
        {
         "hoverinfo": "none",
         "line": {
          "color": "rgb(0, 0, 255)",
          "width": 5
         },
         "mode": "lines",
         "type": "scatter3d",
         "x": [
          0.3131617516106092,
          0.6013938944089919,
          null
         ],
         "y": [
          0.38320630629195906,
          0.2961688462754798,
          null
         ],
         "z": [
          0.3261309880058664,
          0.9560610356234396,
          null
         ]
        },
        {
         "hoverinfo": "none",
         "line": {
          "color": "rgb(0, 0, 255)",
          "width": 5
         },
         "mode": "lines",
         "type": "scatter3d",
         "x": [
          0.3131617516106092,
          0.8278003373151289,
          null
         ],
         "y": [
          0.38320630629195906,
          0.47018702714547844,
          null
         ],
         "z": [
          0.3261309880058664,
          0.8494687495684636,
          null
         ]
        },
        {
         "hoverinfo": "none",
         "line": {
          "color": "rgb(0, 0, 255)",
          "width": 5
         },
         "mode": "lines",
         "type": "scatter3d",
         "x": [
          0.6485556786833006,
          0.824338903001674,
          null
         ],
         "y": [
          0.5941013836759177,
          0.31741615694187864,
          null
         ],
         "z": [
          0.8653672300323781,
          0.8089690911417335,
          null
         ]
        },
        {
         "hoverinfo": "none",
         "line": {
          "color": "rgb(0, 0, 255)",
          "width": 5
         },
         "mode": "lines",
         "type": "scatter3d",
         "x": [
          0.6485556786833006,
          0.6278722450283405,
          null
         ],
         "y": [
          0.5941013836759177,
          0.7282895108132108,
          null
         ],
         "z": [
          0.8653672300323781,
          0.907723259180013,
          null
         ]
        },
        {
         "hoverinfo": "none",
         "line": {
          "color": "rgb(0, 0, 255)",
          "width": 5
         },
         "mode": "lines",
         "type": "scatter3d",
         "x": [
          0.6485556786833006,
          0.18951941816325335,
          null
         ],
         "y": [
          0.5941013836759177,
          0.804942489366387,
          null
         ],
         "z": [
          0.8653672300323781,
          0.1784246572566579,
          null
         ]
        },
        {
         "hoverinfo": "none",
         "line": {
          "color": "rgb(0, 0, 255)",
          "width": 5
         },
         "mode": "lines",
         "type": "scatter3d",
         "x": [
          0.6485556786833006,
          0.03906451389567933,
          null
         ],
         "y": [
          0.5941013836759177,
          0.37984994794387894,
          null
         ],
         "z": [
          0.8653672300323781,
          0.5025028229646553,
          null
         ]
        },
        {
         "hoverinfo": "none",
         "line": {
          "color": "rgb(0, 0, 255)",
          "width": 5
         },
         "mode": "lines",
         "type": "scatter3d",
         "x": [
          0.6485556786833006,
          0.23894397464478712,
          null
         ],
         "y": [
          0.5941013836759177,
          0.9881054822314761,
          null
         ],
         "z": [
          0.8653672300323781,
          0.34373504816486145,
          null
         ]
        },
        {
         "hoverinfo": "none",
         "line": {
          "color": "rgb(0, 0, 255)",
          "width": 5
         },
         "mode": "lines",
         "type": "scatter3d",
         "x": [
          0.6485556786833006,
          0.13384005872767057,
          null
         ],
         "y": [
          0.5941013836759177,
          0.46627961988713396,
          null
         ],
         "z": [
          0.8653672300323781,
          0.24283289137663255,
          null
         ]
        },
        {
         "hoverinfo": "none",
         "line": {
          "color": "rgb(0, 0, 255)",
          "width": 5
         },
         "mode": "lines",
         "type": "scatter3d",
         "x": [
          0.6485556786833006,
          0.22277704215464977,
          null
         ],
         "y": [
          0.5941013836759177,
          0.9520862997574703,
          null
         ],
         "z": [
          0.8653672300323781,
          0.07487479713831424,
          null
         ]
        },
        {
         "hoverinfo": "none",
         "line": {
          "color": "rgb(0, 0, 255)",
          "width": 5
         },
         "mode": "lines",
         "type": "scatter3d",
         "x": [
          0.6485556786833006,
          0.08979853805465277,
          null
         ],
         "y": [
          0.5941013836759177,
          0.11517688967203765,
          null
         ],
         "z": [
          0.8653672300323781,
          0.5362059518931337,
          null
         ]
        },
        {
         "hoverinfo": "none",
         "line": {
          "color": "rgb(0, 0, 255)",
          "width": 5
         },
         "mode": "lines",
         "type": "scatter3d",
         "x": [
          0.6485556786833006,
          0.6013938944089919,
          null
         ],
         "y": [
          0.5941013836759177,
          0.2961688462754798,
          null
         ],
         "z": [
          0.8653672300323781,
          0.9560610356234396,
          null
         ]
        },
        {
         "hoverinfo": "none",
         "line": {
          "color": "rgb(0, 0, 255)",
          "width": 5
         },
         "mode": "lines",
         "type": "scatter3d",
         "x": [
          0.6485556786833006,
          0.04318037794291141,
          null
         ],
         "y": [
          0.5941013836759177,
          0.25124693611372284,
          null
         ],
         "z": [
          0.8653672300323781,
          0.9492857761376863,
          null
         ]
        },
        {
         "hoverinfo": "none",
         "line": {
          "color": "rgb(0, 0, 255)",
          "width": 5
         },
         "mode": "lines",
         "type": "scatter3d",
         "x": [
          0.6485556786833006,
          0.3159587716503005,
          null
         ],
         "y": [
          0.5941013836759177,
          0.8977861472373965,
          null
         ],
         "z": [
          0.8653672300323781,
          0.7692387383115931,
          null
         ]
        },
        {
         "hoverinfo": "none",
         "line": {
          "color": "rgb(0, 0, 255)",
          "width": 5
         },
         "mode": "lines",
         "type": "scatter3d",
         "x": [
          0.6485556786833006,
          0.3305595813403315,
          null
         ],
         "y": [
          0.5941013836759177,
          0.9655972929797423,
          null
         ],
         "z": [
          0.8653672300323781,
          0.4378259863554106,
          null
         ]
        },
        {
         "hoverinfo": "none",
         "line": {
          "color": "rgb(0, 0, 255)",
          "width": 5
         },
         "mode": "lines",
         "type": "scatter3d",
         "x": [
          0.6485556786833006,
          0.43998310713795974,
          null
         ],
         "y": [
          0.5941013836759177,
          0.17941744936667625,
          null
         ],
         "z": [
          0.8653672300323781,
          0.2687780477487852,
          null
         ]
        },
        {
         "hoverinfo": "none",
         "line": {
          "color": "rgb(0, 0, 255)",
          "width": 5
         },
         "mode": "lines",
         "type": "scatter3d",
         "x": [
          0.6485556786833006,
          0.23814668161186947,
          null
         ],
         "y": [
          0.5941013836759177,
          0.1805142741524337,
          null
         ],
         "z": [
          0.8653672300323781,
          0.6272981794188904,
          null
         ]
        },
        {
         "hoverinfo": "none",
         "line": {
          "color": "rgb(0, 0, 255)",
          "width": 5
         },
         "mode": "lines",
         "type": "scatter3d",
         "x": [
          0.6485556786833006,
          0.9699700614387495,
          null
         ],
         "y": [
          0.5941013836759177,
          0.20259518425458156,
          null
         ],
         "z": [
          0.8653672300323781,
          0.0314414668969778,
          null
         ]
        },
        {
         "hoverinfo": "none",
         "line": {
          "color": "rgb(0, 0, 255)",
          "width": 5
         },
         "mode": "lines",
         "type": "scatter3d",
         "x": [
          0.6485556786833006,
          0.46238668378938574,
          null
         ],
         "y": [
          0.5941013836759177,
          0.4878414457966992,
          null
         ],
         "z": [
          0.8653672300323781,
          0.19346491974768487,
          null
         ]
        },
        {
         "hoverinfo": "none",
         "line": {
          "color": "rgb(0, 0, 255)",
          "width": 5
         },
         "mode": "lines",
         "type": "scatter3d",
         "x": [
          0.6485556786833006,
          0.14607923745292672,
          null
         ],
         "y": [
          0.5941013836759177,
          0.5350300121864997,
          null
         ],
         "z": [
          0.8653672300323781,
          0.9444009250785079,
          null
         ]
        },
        {
         "hoverinfo": "none",
         "line": {
          "color": "rgb(0, 0, 255)",
          "width": 5
         },
         "mode": "lines",
         "type": "scatter3d",
         "x": [
          0.6485556786833006,
          0.25654088749065107,
          null
         ],
         "y": [
          0.5941013836759177,
          0.3709849796579817,
          null
         ],
         "z": [
          0.8653672300323781,
          0.5451900504813074,
          null
         ]
        },
        {
         "hoverinfo": "none",
         "line": {
          "color": "rgb(0, 0, 255)",
          "width": 5
         },
         "mode": "lines",
         "type": "scatter3d",
         "x": [
          0.6485556786833006,
          0.10292675754892944,
          null
         ],
         "y": [
          0.5941013836759177,
          0.5497581512050724,
          null
         ],
         "z": [
          0.8653672300323781,
          0.5367085597217629,
          null
         ]
        },
        {
         "hoverinfo": "none",
         "line": {
          "color": "rgb(0, 0, 255)",
          "width": 5
         },
         "mode": "lines",
         "type": "scatter3d",
         "x": [
          0.6485556786833006,
          0.8846115600778559,
          null
         ],
         "y": [
          0.5941013836759177,
          0.3952338052393384,
          null
         ],
         "z": [
          0.8653672300323781,
          0.2566164712625396,
          null
         ]
        },
        {
         "hoverinfo": "none",
         "line": {
          "color": "rgb(0, 0, 255)",
          "width": 5
         },
         "mode": "lines",
         "type": "scatter3d",
         "x": [
          0.6485556786833006,
          0.8278003373151289,
          null
         ],
         "y": [
          0.5941013836759177,
          0.47018702714547844,
          null
         ],
         "z": [
          0.8653672300323781,
          0.8494687495684636,
          null
         ]
        },
        {
         "hoverinfo": "none",
         "line": {
          "color": "rgb(0, 0, 255)",
          "width": 5
         },
         "mode": "lines",
         "type": "scatter3d",
         "x": [
          0.6485556786833006,
          0.184964329130757,
          null
         ],
         "y": [
          0.5941013836759177,
          0.36275396928501125,
          null
         ],
         "z": [
          0.8653672300323781,
          0.37673309129093446,
          null
         ]
        },
        {
         "hoverinfo": "none",
         "line": {
          "color": "rgb(255, 0, 0)",
          "width": 5
         },
         "mode": "lines",
         "type": "scatter3d",
         "x": [
          0.6485556786833006,
          0.09321474737024749,
          null
         ],
         "y": [
          0.5941013836759177,
          0.5502629330762029,
          null
         ],
         "z": [
          0.8653672300323781,
          0.8607032312869579,
          null
         ]
        },
        {
         "hoverinfo": "none",
         "line": {
          "color": "rgb(0, 0, 255)",
          "width": 5
         },
         "mode": "lines",
         "type": "scatter3d",
         "x": [
          0.6278722450283405,
          0.8846115600778559,
          null
         ],
         "y": [
          0.7282895108132108,
          0.3952338052393384,
          null
         ],
         "z": [
          0.907723259180013,
          0.2566164712625396,
          null
         ]
        },
        {
         "hoverinfo": "none",
         "line": {
          "color": "rgb(0, 0, 255)",
          "width": 5
         },
         "mode": "lines",
         "type": "scatter3d",
         "x": [
          0.6278722450283405,
          0.13384005872767057,
          null
         ],
         "y": [
          0.7282895108132108,
          0.46627961988713396,
          null
         ],
         "z": [
          0.907723259180013,
          0.24283289137663255,
          null
         ]
        },
        {
         "hoverinfo": "none",
         "line": {
          "color": "rgb(0, 0, 255)",
          "width": 5
         },
         "mode": "lines",
         "type": "scatter3d",
         "x": [
          0.6278722450283405,
          0.23814668161186947,
          null
         ],
         "y": [
          0.7282895108132108,
          0.1805142741524337,
          null
         ],
         "z": [
          0.907723259180013,
          0.6272981794188904,
          null
         ]
        },
        {
         "hoverinfo": "none",
         "line": {
          "color": "rgb(0, 0, 255)",
          "width": 5
         },
         "mode": "lines",
         "type": "scatter3d",
         "x": [
          0.6278722450283405,
          0.14607923745292672,
          null
         ],
         "y": [
          0.7282895108132108,
          0.5350300121864997,
          null
         ],
         "z": [
          0.907723259180013,
          0.9444009250785079,
          null
         ]
        },
        {
         "hoverinfo": "none",
         "line": {
          "color": "rgb(0, 0, 255)",
          "width": 5
         },
         "mode": "lines",
         "type": "scatter3d",
         "x": [
          0.6278722450283405,
          0.6013938944089919,
          null
         ],
         "y": [
          0.7282895108132108,
          0.2961688462754798,
          null
         ],
         "z": [
          0.907723259180013,
          0.9560610356234396,
          null
         ]
        },
        {
         "hoverinfo": "none",
         "line": {
          "color": "rgb(0, 0, 255)",
          "width": 5
         },
         "mode": "lines",
         "type": "scatter3d",
         "x": [
          0.6278722450283405,
          0.04318037794291141,
          null
         ],
         "y": [
          0.7282895108132108,
          0.25124693611372284,
          null
         ],
         "z": [
          0.907723259180013,
          0.9492857761376863,
          null
         ]
        },
        {
         "hoverinfo": "none",
         "line": {
          "color": "rgb(0, 0, 255)",
          "width": 5
         },
         "mode": "lines",
         "type": "scatter3d",
         "x": [
          0.6278722450283405,
          0.18951941816325335,
          null
         ],
         "y": [
          0.7282895108132108,
          0.804942489366387,
          null
         ],
         "z": [
          0.907723259180013,
          0.1784246572566579,
          null
         ]
        },
        {
         "hoverinfo": "none",
         "line": {
          "color": "rgb(0, 0, 255)",
          "width": 5
         },
         "mode": "lines",
         "type": "scatter3d",
         "x": [
          0.6278722450283405,
          0.22277704215464977,
          null
         ],
         "y": [
          0.7282895108132108,
          0.9520862997574703,
          null
         ],
         "z": [
          0.907723259180013,
          0.07487479713831424,
          null
         ]
        },
        {
         "hoverinfo": "none",
         "line": {
          "color": "rgb(0, 0, 255)",
          "width": 5
         },
         "mode": "lines",
         "type": "scatter3d",
         "x": [
          0.6278722450283405,
          0.3159587716503005,
          null
         ],
         "y": [
          0.7282895108132108,
          0.8977861472373965,
          null
         ],
         "z": [
          0.907723259180013,
          0.7692387383115931,
          null
         ]
        },
        {
         "hoverinfo": "none",
         "line": {
          "color": "rgb(0, 0, 255)",
          "width": 5
         },
         "mode": "lines",
         "type": "scatter3d",
         "x": [
          0.6278722450283405,
          0.03906451389567933,
          null
         ],
         "y": [
          0.7282895108132108,
          0.37984994794387894,
          null
         ],
         "z": [
          0.907723259180013,
          0.5025028229646553,
          null
         ]
        },
        {
         "hoverinfo": "none",
         "line": {
          "color": "rgb(0, 0, 255)",
          "width": 5
         },
         "mode": "lines",
         "type": "scatter3d",
         "x": [
          0.6278722450283405,
          0.46238668378938574,
          null
         ],
         "y": [
          0.7282895108132108,
          0.4878414457966992,
          null
         ],
         "z": [
          0.907723259180013,
          0.19346491974768487,
          null
         ]
        },
        {
         "hoverinfo": "none",
         "line": {
          "color": "rgb(0, 0, 255)",
          "width": 5
         },
         "mode": "lines",
         "type": "scatter3d",
         "x": [
          0.6278722450283405,
          0.824338903001674,
          null
         ],
         "y": [
          0.7282895108132108,
          0.31741615694187864,
          null
         ],
         "z": [
          0.907723259180013,
          0.8089690911417335,
          null
         ]
        },
        {
         "hoverinfo": "none",
         "line": {
          "color": "rgb(0, 0, 255)",
          "width": 5
         },
         "mode": "lines",
         "type": "scatter3d",
         "x": [
          0.6278722450283405,
          0.10292675754892944,
          null
         ],
         "y": [
          0.7282895108132108,
          0.5497581512050724,
          null
         ],
         "z": [
          0.907723259180013,
          0.5367085597217629,
          null
         ]
        },
        {
         "hoverinfo": "none",
         "line": {
          "color": "rgb(0, 0, 255)",
          "width": 5
         },
         "mode": "lines",
         "type": "scatter3d",
         "x": [
          0.6278722450283405,
          0.43998310713795974,
          null
         ],
         "y": [
          0.7282895108132108,
          0.17941744936667625,
          null
         ],
         "z": [
          0.907723259180013,
          0.2687780477487852,
          null
         ]
        },
        {
         "hoverinfo": "none",
         "line": {
          "color": "rgb(0, 0, 255)",
          "width": 5
         },
         "mode": "lines",
         "type": "scatter3d",
         "x": [
          0.6278722450283405,
          0.25654088749065107,
          null
         ],
         "y": [
          0.7282895108132108,
          0.3709849796579817,
          null
         ],
         "z": [
          0.907723259180013,
          0.5451900504813074,
          null
         ]
        },
        {
         "hoverinfo": "none",
         "line": {
          "color": "rgb(0, 0, 255)",
          "width": 5
         },
         "mode": "lines",
         "type": "scatter3d",
         "x": [
          0.6278722450283405,
          0.3305595813403315,
          null
         ],
         "y": [
          0.7282895108132108,
          0.9655972929797423,
          null
         ],
         "z": [
          0.907723259180013,
          0.4378259863554106,
          null
         ]
        },
        {
         "hoverinfo": "none",
         "line": {
          "color": "rgb(0, 0, 255)",
          "width": 5
         },
         "mode": "lines",
         "type": "scatter3d",
         "x": [
          0.6278722450283405,
          0.9699700614387495,
          null
         ],
         "y": [
          0.7282895108132108,
          0.20259518425458156,
          null
         ],
         "z": [
          0.907723259180013,
          0.0314414668969778,
          null
         ]
        },
        {
         "hoverinfo": "none",
         "line": {
          "color": "rgb(0, 0, 255)",
          "width": 5
         },
         "mode": "lines",
         "type": "scatter3d",
         "x": [
          0.6278722450283405,
          0.23894397464478712,
          null
         ],
         "y": [
          0.7282895108132108,
          0.9881054822314761,
          null
         ],
         "z": [
          0.907723259180013,
          0.34373504816486145,
          null
         ]
        },
        {
         "hoverinfo": "none",
         "line": {
          "color": "rgb(0, 0, 255)",
          "width": 5
         },
         "mode": "lines",
         "type": "scatter3d",
         "x": [
          0.6278722450283405,
          0.08979853805465277,
          null
         ],
         "y": [
          0.7282895108132108,
          0.11517688967203765,
          null
         ],
         "z": [
          0.907723259180013,
          0.5362059518931337,
          null
         ]
        },
        {
         "hoverinfo": "none",
         "line": {
          "color": "rgb(0, 0, 255)",
          "width": 5
         },
         "mode": "lines",
         "type": "scatter3d",
         "x": [
          0.6278722450283405,
          0.09321474737024749,
          null
         ],
         "y": [
          0.7282895108132108,
          0.5502629330762029,
          null
         ],
         "z": [
          0.907723259180013,
          0.8607032312869579,
          null
         ]
        },
        {
         "hoverinfo": "none",
         "line": {
          "color": "rgb(0, 0, 255)",
          "width": 5
         },
         "mode": "lines",
         "type": "scatter3d",
         "x": [
          0.6278722450283405,
          0.184964329130757,
          null
         ],
         "y": [
          0.7282895108132108,
          0.36275396928501125,
          null
         ],
         "z": [
          0.907723259180013,
          0.37673309129093446,
          null
         ]
        },
        {
         "hoverinfo": "none",
         "line": {
          "color": "rgb(0, 0, 255)",
          "width": 5
         },
         "mode": "lines",
         "type": "scatter3d",
         "x": [
          0.6278722450283405,
          0.8278003373151289,
          null
         ],
         "y": [
          0.7282895108132108,
          0.47018702714547844,
          null
         ],
         "z": [
          0.907723259180013,
          0.8494687495684636,
          null
         ]
        },
        {
         "hoverinfo": "none",
         "line": {
          "color": "rgb(0, 0, 255)",
          "width": 5
         },
         "mode": "lines",
         "type": "scatter3d",
         "x": [
          0.10292675754892944,
          0.824338903001674,
          null
         ],
         "y": [
          0.5497581512050724,
          0.31741615694187864,
          null
         ],
         "z": [
          0.5367085597217629,
          0.8089690911417335,
          null
         ]
        },
        {
         "hoverinfo": "none",
         "line": {
          "color": "rgb(0, 0, 255)",
          "width": 5
         },
         "mode": "lines",
         "type": "scatter3d",
         "x": [
          0.10292675754892944,
          0.14607923745292672,
          null
         ],
         "y": [
          0.5497581512050724,
          0.5350300121864997,
          null
         ],
         "z": [
          0.5367085597217629,
          0.9444009250785079,
          null
         ]
        },
        {
         "hoverinfo": "none",
         "line": {
          "color": "rgb(0, 0, 255)",
          "width": 5
         },
         "mode": "lines",
         "type": "scatter3d",
         "x": [
          0.10292675754892944,
          0.8846115600778559,
          null
         ],
         "y": [
          0.5497581512050724,
          0.3952338052393384,
          null
         ],
         "z": [
          0.5367085597217629,
          0.2566164712625396,
          null
         ]
        },
        {
         "hoverinfo": "none",
         "line": {
          "color": "rgb(0, 0, 255)",
          "width": 5
         },
         "mode": "lines",
         "type": "scatter3d",
         "x": [
          0.10292675754892944,
          0.04318037794291141,
          null
         ],
         "y": [
          0.5497581512050724,
          0.25124693611372284,
          null
         ],
         "z": [
          0.5367085597217629,
          0.9492857761376863,
          null
         ]
        },
        {
         "hoverinfo": "none",
         "line": {
          "color": "rgb(0, 0, 255)",
          "width": 5
         },
         "mode": "lines",
         "type": "scatter3d",
         "x": [
          0.10292675754892944,
          0.18951941816325335,
          null
         ],
         "y": [
          0.5497581512050724,
          0.804942489366387,
          null
         ],
         "z": [
          0.5367085597217629,
          0.1784246572566579,
          null
         ]
        },
        {
         "hoverinfo": "none",
         "line": {
          "color": "rgb(0, 0, 255)",
          "width": 5
         },
         "mode": "lines",
         "type": "scatter3d",
         "x": [
          0.10292675754892944,
          0.13384005872767057,
          null
         ],
         "y": [
          0.5497581512050724,
          0.46627961988713396,
          null
         ],
         "z": [
          0.5367085597217629,
          0.24283289137663255,
          null
         ]
        },
        {
         "hoverinfo": "none",
         "line": {
          "color": "rgb(0, 0, 255)",
          "width": 5
         },
         "mode": "lines",
         "type": "scatter3d",
         "x": [
          0.10292675754892944,
          0.9699700614387495,
          null
         ],
         "y": [
          0.5497581512050724,
          0.20259518425458156,
          null
         ],
         "z": [
          0.5367085597217629,
          0.0314414668969778,
          null
         ]
        },
        {
         "hoverinfo": "none",
         "line": {
          "color": "rgb(0, 0, 255)",
          "width": 5
         },
         "mode": "lines",
         "type": "scatter3d",
         "x": [
          0.10292675754892944,
          0.03906451389567933,
          null
         ],
         "y": [
          0.5497581512050724,
          0.37984994794387894,
          null
         ],
         "z": [
          0.5367085597217629,
          0.5025028229646553,
          null
         ]
        },
        {
         "hoverinfo": "none",
         "line": {
          "color": "rgb(0, 0, 255)",
          "width": 5
         },
         "mode": "lines",
         "type": "scatter3d",
         "x": [
          0.10292675754892944,
          0.23894397464478712,
          null
         ],
         "y": [
          0.5497581512050724,
          0.9881054822314761,
          null
         ],
         "z": [
          0.5367085597217629,
          0.34373504816486145,
          null
         ]
        },
        {
         "hoverinfo": "none",
         "line": {
          "color": "rgb(0, 0, 255)",
          "width": 5
         },
         "mode": "lines",
         "type": "scatter3d",
         "x": [
          0.10292675754892944,
          0.3305595813403315,
          null
         ],
         "y": [
          0.5497581512050724,
          0.9655972929797423,
          null
         ],
         "z": [
          0.5367085597217629,
          0.4378259863554106,
          null
         ]
        },
        {
         "hoverinfo": "none",
         "line": {
          "color": "rgb(0, 0, 255)",
          "width": 5
         },
         "mode": "lines",
         "type": "scatter3d",
         "x": [
          0.10292675754892944,
          0.22277704215464977,
          null
         ],
         "y": [
          0.5497581512050724,
          0.9520862997574703,
          null
         ],
         "z": [
          0.5367085597217629,
          0.07487479713831424,
          null
         ]
        },
        {
         "hoverinfo": "none",
         "line": {
          "color": "rgb(0, 0, 255)",
          "width": 5
         },
         "mode": "lines",
         "type": "scatter3d",
         "x": [
          0.10292675754892944,
          0.43998310713795974,
          null
         ],
         "y": [
          0.5497581512050724,
          0.17941744936667625,
          null
         ],
         "z": [
          0.5367085597217629,
          0.2687780477487852,
          null
         ]
        },
        {
         "hoverinfo": "none",
         "line": {
          "color": "rgb(0, 0, 255)",
          "width": 5
         },
         "mode": "lines",
         "type": "scatter3d",
         "x": [
          0.10292675754892944,
          0.3159587716503005,
          null
         ],
         "y": [
          0.5497581512050724,
          0.8977861472373965,
          null
         ],
         "z": [
          0.5367085597217629,
          0.7692387383115931,
          null
         ]
        },
        {
         "hoverinfo": "none",
         "line": {
          "color": "rgb(0, 0, 255)",
          "width": 5
         },
         "mode": "lines",
         "type": "scatter3d",
         "x": [
          0.10292675754892944,
          0.46238668378938574,
          null
         ],
         "y": [
          0.5497581512050724,
          0.4878414457966992,
          null
         ],
         "z": [
          0.5367085597217629,
          0.19346491974768487,
          null
         ]
        },
        {
         "hoverinfo": "none",
         "line": {
          "color": "rgb(0, 0, 255)",
          "width": 5
         },
         "mode": "lines",
         "type": "scatter3d",
         "x": [
          0.10292675754892944,
          0.08979853805465277,
          null
         ],
         "y": [
          0.5497581512050724,
          0.11517688967203765,
          null
         ],
         "z": [
          0.5367085597217629,
          0.5362059518931337,
          null
         ]
        },
        {
         "hoverinfo": "none",
         "line": {
          "color": "rgb(0, 0, 255)",
          "width": 5
         },
         "mode": "lines",
         "type": "scatter3d",
         "x": [
          0.10292675754892944,
          0.8278003373151289,
          null
         ],
         "y": [
          0.5497581512050724,
          0.47018702714547844,
          null
         ],
         "z": [
          0.5367085597217629,
          0.8494687495684636,
          null
         ]
        },
        {
         "hoverinfo": "none",
         "line": {
          "color": "rgb(0, 0, 255)",
          "width": 5
         },
         "mode": "lines",
         "type": "scatter3d",
         "x": [
          0.10292675754892944,
          0.23814668161186947,
          null
         ],
         "y": [
          0.5497581512050724,
          0.1805142741524337,
          null
         ],
         "z": [
          0.5367085597217629,
          0.6272981794188904,
          null
         ]
        },
        {
         "hoverinfo": "none",
         "line": {
          "color": "rgb(0, 0, 255)",
          "width": 5
         },
         "mode": "lines",
         "type": "scatter3d",
         "x": [
          0.10292675754892944,
          0.09321474737024749,
          null
         ],
         "y": [
          0.5497581512050724,
          0.5502629330762029,
          null
         ],
         "z": [
          0.5367085597217629,
          0.8607032312869579,
          null
         ]
        },
        {
         "hoverinfo": "none",
         "line": {
          "color": "rgb(0, 0, 255)",
          "width": 5
         },
         "mode": "lines",
         "type": "scatter3d",
         "x": [
          0.10292675754892944,
          0.6013938944089919,
          null
         ],
         "y": [
          0.5497581512050724,
          0.2961688462754798,
          null
         ],
         "z": [
          0.5367085597217629,
          0.9560610356234396,
          null
         ]
        },
        {
         "hoverinfo": "none",
         "line": {
          "color": "rgb(0, 0, 255)",
          "width": 5
         },
         "mode": "lines",
         "type": "scatter3d",
         "x": [
          0.10292675754892944,
          0.25654088749065107,
          null
         ],
         "y": [
          0.5497581512050724,
          0.3709849796579817,
          null
         ],
         "z": [
          0.5367085597217629,
          0.5451900504813074,
          null
         ]
        },
        {
         "hoverinfo": "none",
         "line": {
          "color": "rgb(0, 0, 255)",
          "width": 5
         },
         "mode": "lines",
         "type": "scatter3d",
         "x": [
          0.10292675754892944,
          0.184964329130757,
          null
         ],
         "y": [
          0.5497581512050724,
          0.36275396928501125,
          null
         ],
         "z": [
          0.5367085597217629,
          0.37673309129093446,
          null
         ]
        },
        {
         "hoverinfo": "none",
         "line": {
          "color": "rgb(0, 0, 255)",
          "width": 5
         },
         "mode": "lines",
         "type": "scatter3d",
         "x": [
          0.3305595813403315,
          0.14607923745292672,
          null
         ],
         "y": [
          0.9655972929797423,
          0.5350300121864997,
          null
         ],
         "z": [
          0.4378259863554106,
          0.9444009250785079,
          null
         ]
        },
        {
         "hoverinfo": "none",
         "line": {
          "color": "rgb(0, 0, 255)",
          "width": 5
         },
         "mode": "lines",
         "type": "scatter3d",
         "x": [
          0.3305595813403315,
          0.8846115600778559,
          null
         ],
         "y": [
          0.9655972929797423,
          0.3952338052393384,
          null
         ],
         "z": [
          0.4378259863554106,
          0.2566164712625396,
          null
         ]
        },
        {
         "hoverinfo": "none",
         "line": {
          "color": "rgb(0, 0, 255)",
          "width": 5
         },
         "mode": "lines",
         "type": "scatter3d",
         "x": [
          0.3305595813403315,
          0.18951941816325335,
          null
         ],
         "y": [
          0.9655972929797423,
          0.804942489366387,
          null
         ],
         "z": [
          0.4378259863554106,
          0.1784246572566579,
          null
         ]
        },
        {
         "hoverinfo": "none",
         "line": {
          "color": "rgb(0, 0, 255)",
          "width": 5
         },
         "mode": "lines",
         "type": "scatter3d",
         "x": [
          0.3305595813403315,
          0.3159587716503005,
          null
         ],
         "y": [
          0.9655972929797423,
          0.8977861472373965,
          null
         ],
         "z": [
          0.4378259863554106,
          0.7692387383115931,
          null
         ]
        },
        {
         "hoverinfo": "none",
         "line": {
          "color": "rgb(0, 0, 255)",
          "width": 5
         },
         "mode": "lines",
         "type": "scatter3d",
         "x": [
          0.3305595813403315,
          0.03906451389567933,
          null
         ],
         "y": [
          0.9655972929797423,
          0.37984994794387894,
          null
         ],
         "z": [
          0.4378259863554106,
          0.5025028229646553,
          null
         ]
        },
        {
         "hoverinfo": "none",
         "line": {
          "color": "rgb(0, 0, 255)",
          "width": 5
         },
         "mode": "lines",
         "type": "scatter3d",
         "x": [
          0.3305595813403315,
          0.9699700614387495,
          null
         ],
         "y": [
          0.9655972929797423,
          0.20259518425458156,
          null
         ],
         "z": [
          0.4378259863554106,
          0.0314414668969778,
          null
         ]
        },
        {
         "hoverinfo": "none",
         "line": {
          "color": "rgb(0, 0, 255)",
          "width": 5
         },
         "mode": "lines",
         "type": "scatter3d",
         "x": [
          0.3305595813403315,
          0.824338903001674,
          null
         ],
         "y": [
          0.9655972929797423,
          0.31741615694187864,
          null
         ],
         "z": [
          0.4378259863554106,
          0.8089690911417335,
          null
         ]
        },
        {
         "hoverinfo": "none",
         "line": {
          "color": "rgb(0, 0, 255)",
          "width": 5
         },
         "mode": "lines",
         "type": "scatter3d",
         "x": [
          0.3305595813403315,
          0.22277704215464977,
          null
         ],
         "y": [
          0.9655972929797423,
          0.9520862997574703,
          null
         ],
         "z": [
          0.4378259863554106,
          0.07487479713831424,
          null
         ]
        },
        {
         "hoverinfo": "none",
         "line": {
          "color": "rgb(0, 0, 255)",
          "width": 5
         },
         "mode": "lines",
         "type": "scatter3d",
         "x": [
          0.3305595813403315,
          0.08979853805465277,
          null
         ],
         "y": [
          0.9655972929797423,
          0.11517688967203765,
          null
         ],
         "z": [
          0.4378259863554106,
          0.5362059518931337,
          null
         ]
        },
        {
         "hoverinfo": "none",
         "line": {
          "color": "rgb(0, 0, 255)",
          "width": 5
         },
         "mode": "lines",
         "type": "scatter3d",
         "x": [
          0.3305595813403315,
          0.04318037794291141,
          null
         ],
         "y": [
          0.9655972929797423,
          0.25124693611372284,
          null
         ],
         "z": [
          0.4378259863554106,
          0.9492857761376863,
          null
         ]
        },
        {
         "hoverinfo": "none",
         "line": {
          "color": "rgb(0, 0, 255)",
          "width": 5
         },
         "mode": "lines",
         "type": "scatter3d",
         "x": [
          0.3305595813403315,
          0.13384005872767057,
          null
         ],
         "y": [
          0.9655972929797423,
          0.46627961988713396,
          null
         ],
         "z": [
          0.4378259863554106,
          0.24283289137663255,
          null
         ]
        },
        {
         "hoverinfo": "none",
         "line": {
          "color": "rgb(0, 0, 255)",
          "width": 5
         },
         "mode": "lines",
         "type": "scatter3d",
         "x": [
          0.3305595813403315,
          0.43998310713795974,
          null
         ],
         "y": [
          0.9655972929797423,
          0.17941744936667625,
          null
         ],
         "z": [
          0.4378259863554106,
          0.2687780477487852,
          null
         ]
        },
        {
         "hoverinfo": "none",
         "line": {
          "color": "rgb(0, 0, 255)",
          "width": 5
         },
         "mode": "lines",
         "type": "scatter3d",
         "x": [
          0.3305595813403315,
          0.23894397464478712,
          null
         ],
         "y": [
          0.9655972929797423,
          0.9881054822314761,
          null
         ],
         "z": [
          0.4378259863554106,
          0.34373504816486145,
          null
         ]
        },
        {
         "hoverinfo": "none",
         "line": {
          "color": "rgb(0, 0, 255)",
          "width": 5
         },
         "mode": "lines",
         "type": "scatter3d",
         "x": [
          0.3305595813403315,
          0.8278003373151289,
          null
         ],
         "y": [
          0.9655972929797423,
          0.47018702714547844,
          null
         ],
         "z": [
          0.4378259863554106,
          0.8494687495684636,
          null
         ]
        },
        {
         "hoverinfo": "none",
         "line": {
          "color": "rgb(0, 0, 255)",
          "width": 5
         },
         "mode": "lines",
         "type": "scatter3d",
         "x": [
          0.3305595813403315,
          0.46238668378938574,
          null
         ],
         "y": [
          0.9655972929797423,
          0.4878414457966992,
          null
         ],
         "z": [
          0.4378259863554106,
          0.19346491974768487,
          null
         ]
        },
        {
         "hoverinfo": "none",
         "line": {
          "color": "rgb(0, 0, 255)",
          "width": 5
         },
         "mode": "lines",
         "type": "scatter3d",
         "x": [
          0.3305595813403315,
          0.184964329130757,
          null
         ],
         "y": [
          0.9655972929797423,
          0.36275396928501125,
          null
         ],
         "z": [
          0.4378259863554106,
          0.37673309129093446,
          null
         ]
        },
        {
         "hoverinfo": "none",
         "line": {
          "color": "rgb(0, 0, 255)",
          "width": 5
         },
         "mode": "lines",
         "type": "scatter3d",
         "x": [
          0.3305595813403315,
          0.23814668161186947,
          null
         ],
         "y": [
          0.9655972929797423,
          0.1805142741524337,
          null
         ],
         "z": [
          0.4378259863554106,
          0.6272981794188904,
          null
         ]
        },
        {
         "hoverinfo": "none",
         "line": {
          "color": "rgb(0, 0, 255)",
          "width": 5
         },
         "mode": "lines",
         "type": "scatter3d",
         "x": [
          0.3305595813403315,
          0.09321474737024749,
          null
         ],
         "y": [
          0.9655972929797423,
          0.5502629330762029,
          null
         ],
         "z": [
          0.4378259863554106,
          0.8607032312869579,
          null
         ]
        },
        {
         "hoverinfo": "none",
         "line": {
          "color": "rgb(0, 0, 255)",
          "width": 5
         },
         "mode": "lines",
         "type": "scatter3d",
         "x": [
          0.3305595813403315,
          0.25654088749065107,
          null
         ],
         "y": [
          0.9655972929797423,
          0.3709849796579817,
          null
         ],
         "z": [
          0.4378259863554106,
          0.5451900504813074,
          null
         ]
        },
        {
         "hoverinfo": "none",
         "line": {
          "color": "rgb(0, 0, 255)",
          "width": 5
         },
         "mode": "lines",
         "type": "scatter3d",
         "x": [
          0.3305595813403315,
          0.6013938944089919,
          null
         ],
         "y": [
          0.9655972929797423,
          0.2961688462754798,
          null
         ],
         "z": [
          0.4378259863554106,
          0.9560610356234396,
          null
         ]
        },
        {
         "hoverinfo": "none",
         "line": {
          "color": "rgb(0, 0, 255)",
          "width": 5
         },
         "mode": "lines",
         "type": "scatter3d",
         "x": [
          0.23814668161186947,
          0.18951941816325335,
          null
         ],
         "y": [
          0.1805142741524337,
          0.804942489366387,
          null
         ],
         "z": [
          0.6272981794188904,
          0.1784246572566579,
          null
         ]
        },
        {
         "hoverinfo": "none",
         "line": {
          "color": "rgb(0, 0, 255)",
          "width": 5
         },
         "mode": "lines",
         "type": "scatter3d",
         "x": [
          0.23814668161186947,
          0.13384005872767057,
          null
         ],
         "y": [
          0.1805142741524337,
          0.46627961988713396,
          null
         ],
         "z": [
          0.6272981794188904,
          0.24283289137663255,
          null
         ]
        },
        {
         "hoverinfo": "none",
         "line": {
          "color": "rgb(0, 0, 255)",
          "width": 5
         },
         "mode": "lines",
         "type": "scatter3d",
         "x": [
          0.23814668161186947,
          0.22277704215464977,
          null
         ],
         "y": [
          0.1805142741524337,
          0.9520862997574703,
          null
         ],
         "z": [
          0.6272981794188904,
          0.07487479713831424,
          null
         ]
        },
        {
         "hoverinfo": "none",
         "line": {
          "color": "rgb(0, 0, 255)",
          "width": 5
         },
         "mode": "lines",
         "type": "scatter3d",
         "x": [
          0.23814668161186947,
          0.14607923745292672,
          null
         ],
         "y": [
          0.1805142741524337,
          0.5350300121864997,
          null
         ],
         "z": [
          0.6272981794188904,
          0.9444009250785079,
          null
         ]
        },
        {
         "hoverinfo": "none",
         "line": {
          "color": "rgb(0, 0, 255)",
          "width": 5
         },
         "mode": "lines",
         "type": "scatter3d",
         "x": [
          0.23814668161186947,
          0.43998310713795974,
          null
         ],
         "y": [
          0.1805142741524337,
          0.17941744936667625,
          null
         ],
         "z": [
          0.6272981794188904,
          0.2687780477487852,
          null
         ]
        },
        {
         "hoverinfo": "none",
         "line": {
          "color": "rgb(0, 0, 255)",
          "width": 5
         },
         "mode": "lines",
         "type": "scatter3d",
         "x": [
          0.23814668161186947,
          0.03906451389567933,
          null
         ],
         "y": [
          0.1805142741524337,
          0.37984994794387894,
          null
         ],
         "z": [
          0.6272981794188904,
          0.5025028229646553,
          null
         ]
        },
        {
         "hoverinfo": "none",
         "line": {
          "color": "rgb(0, 0, 255)",
          "width": 5
         },
         "mode": "lines",
         "type": "scatter3d",
         "x": [
          0.23814668161186947,
          0.9699700614387495,
          null
         ],
         "y": [
          0.1805142741524337,
          0.20259518425458156,
          null
         ],
         "z": [
          0.6272981794188904,
          0.0314414668969778,
          null
         ]
        },
        {
         "hoverinfo": "none",
         "line": {
          "color": "rgb(0, 0, 255)",
          "width": 5
         },
         "mode": "lines",
         "type": "scatter3d",
         "x": [
          0.23814668161186947,
          0.8846115600778559,
          null
         ],
         "y": [
          0.1805142741524337,
          0.3952338052393384,
          null
         ],
         "z": [
          0.6272981794188904,
          0.2566164712625396,
          null
         ]
        },
        {
         "hoverinfo": "none",
         "line": {
          "color": "rgb(0, 0, 255)",
          "width": 5
         },
         "mode": "lines",
         "type": "scatter3d",
         "x": [
          0.23814668161186947,
          0.04318037794291141,
          null
         ],
         "y": [
          0.1805142741524337,
          0.25124693611372284,
          null
         ],
         "z": [
          0.6272981794188904,
          0.9492857761376863,
          null
         ]
        },
        {
         "hoverinfo": "none",
         "line": {
          "color": "rgb(0, 0, 255)",
          "width": 5
         },
         "mode": "lines",
         "type": "scatter3d",
         "x": [
          0.23814668161186947,
          0.23894397464478712,
          null
         ],
         "y": [
          0.1805142741524337,
          0.9881054822314761,
          null
         ],
         "z": [
          0.6272981794188904,
          0.34373504816486145,
          null
         ]
        },
        {
         "hoverinfo": "none",
         "line": {
          "color": "rgb(0, 0, 255)",
          "width": 5
         },
         "mode": "lines",
         "type": "scatter3d",
         "x": [
          0.23814668161186947,
          0.08979853805465277,
          null
         ],
         "y": [
          0.1805142741524337,
          0.11517688967203765,
          null
         ],
         "z": [
          0.6272981794188904,
          0.5362059518931337,
          null
         ]
        },
        {
         "hoverinfo": "none",
         "line": {
          "color": "rgb(0, 0, 255)",
          "width": 5
         },
         "mode": "lines",
         "type": "scatter3d",
         "x": [
          0.23814668161186947,
          0.6013938944089919,
          null
         ],
         "y": [
          0.1805142741524337,
          0.2961688462754798,
          null
         ],
         "z": [
          0.6272981794188904,
          0.9560610356234396,
          null
         ]
        },
        {
         "hoverinfo": "none",
         "line": {
          "color": "rgb(0, 0, 255)",
          "width": 5
         },
         "mode": "lines",
         "type": "scatter3d",
         "x": [
          0.23814668161186947,
          0.3159587716503005,
          null
         ],
         "y": [
          0.1805142741524337,
          0.8977861472373965,
          null
         ],
         "z": [
          0.6272981794188904,
          0.7692387383115931,
          null
         ]
        },
        {
         "hoverinfo": "none",
         "line": {
          "color": "rgb(0, 0, 255)",
          "width": 5
         },
         "mode": "lines",
         "type": "scatter3d",
         "x": [
          0.23814668161186947,
          0.824338903001674,
          null
         ],
         "y": [
          0.1805142741524337,
          0.31741615694187864,
          null
         ],
         "z": [
          0.6272981794188904,
          0.8089690911417335,
          null
         ]
        },
        {
         "hoverinfo": "none",
         "line": {
          "color": "rgb(0, 0, 255)",
          "width": 5
         },
         "mode": "lines",
         "type": "scatter3d",
         "x": [
          0.23814668161186947,
          0.46238668378938574,
          null
         ],
         "y": [
          0.1805142741524337,
          0.4878414457966992,
          null
         ],
         "z": [
          0.6272981794188904,
          0.19346491974768487,
          null
         ]
        },
        {
         "hoverinfo": "none",
         "line": {
          "color": "rgb(0, 0, 255)",
          "width": 5
         },
         "mode": "lines",
         "type": "scatter3d",
         "x": [
          0.23814668161186947,
          0.184964329130757,
          null
         ],
         "y": [
          0.1805142741524337,
          0.36275396928501125,
          null
         ],
         "z": [
          0.6272981794188904,
          0.37673309129093446,
          null
         ]
        },
        {
         "hoverinfo": "none",
         "line": {
          "color": "rgb(0, 0, 255)",
          "width": 5
         },
         "mode": "lines",
         "type": "scatter3d",
         "x": [
          0.23814668161186947,
          0.8278003373151289,
          null
         ],
         "y": [
          0.1805142741524337,
          0.47018702714547844,
          null
         ],
         "z": [
          0.6272981794188904,
          0.8494687495684636,
          null
         ]
        },
        {
         "hoverinfo": "none",
         "line": {
          "color": "rgb(0, 0, 255)",
          "width": 5
         },
         "mode": "lines",
         "type": "scatter3d",
         "x": [
          0.23814668161186947,
          0.09321474737024749,
          null
         ],
         "y": [
          0.1805142741524337,
          0.5502629330762029,
          null
         ],
         "z": [
          0.6272981794188904,
          0.8607032312869579,
          null
         ]
        },
        {
         "hoverinfo": "none",
         "line": {
          "color": "rgb(0, 0, 255)",
          "width": 5
         },
         "mode": "lines",
         "type": "scatter3d",
         "x": [
          0.23814668161186947,
          0.25654088749065107,
          null
         ],
         "y": [
          0.1805142741524337,
          0.3709849796579817,
          null
         ],
         "z": [
          0.6272981794188904,
          0.5451900504813074,
          null
         ]
        },
        {
         "hoverinfo": "none",
         "line": {
          "color": "rgb(0, 0, 255)",
          "width": 5
         },
         "mode": "lines",
         "type": "scatter3d",
         "x": [
          0.25654088749065107,
          0.22277704215464977,
          null
         ],
         "y": [
          0.3709849796579817,
          0.9520862997574703,
          null
         ],
         "z": [
          0.5451900504813074,
          0.07487479713831424,
          null
         ]
        },
        {
         "hoverinfo": "none",
         "line": {
          "color": "rgb(0, 0, 255)",
          "width": 5
         },
         "mode": "lines",
         "type": "scatter3d",
         "x": [
          0.25654088749065107,
          0.3159587716503005,
          null
         ],
         "y": [
          0.3709849796579817,
          0.8977861472373965,
          null
         ],
         "z": [
          0.5451900504813074,
          0.7692387383115931,
          null
         ]
        },
        {
         "hoverinfo": "none",
         "line": {
          "color": "rgb(0, 0, 255)",
          "width": 5
         },
         "mode": "lines",
         "type": "scatter3d",
         "x": [
          0.25654088749065107,
          0.824338903001674,
          null
         ],
         "y": [
          0.3709849796579817,
          0.31741615694187864,
          null
         ],
         "z": [
          0.5451900504813074,
          0.8089690911417335,
          null
         ]
        },
        {
         "hoverinfo": "none",
         "line": {
          "color": "rgb(0, 0, 255)",
          "width": 5
         },
         "mode": "lines",
         "type": "scatter3d",
         "x": [
          0.25654088749065107,
          0.04318037794291141,
          null
         ],
         "y": [
          0.3709849796579817,
          0.25124693611372284,
          null
         ],
         "z": [
          0.5451900504813074,
          0.9492857761376863,
          null
         ]
        },
        {
         "hoverinfo": "none",
         "line": {
          "color": "rgb(0, 0, 255)",
          "width": 5
         },
         "mode": "lines",
         "type": "scatter3d",
         "x": [
          0.25654088749065107,
          0.23894397464478712,
          null
         ],
         "y": [
          0.3709849796579817,
          0.9881054822314761,
          null
         ],
         "z": [
          0.5451900504813074,
          0.34373504816486145,
          null
         ]
        },
        {
         "hoverinfo": "none",
         "line": {
          "color": "rgb(0, 0, 255)",
          "width": 5
         },
         "mode": "lines",
         "type": "scatter3d",
         "x": [
          0.25654088749065107,
          0.08979853805465277,
          null
         ],
         "y": [
          0.3709849796579817,
          0.11517688967203765,
          null
         ],
         "z": [
          0.5451900504813074,
          0.5362059518931337,
          null
         ]
        },
        {
         "hoverinfo": "none",
         "line": {
          "color": "rgb(0, 0, 255)",
          "width": 5
         },
         "mode": "lines",
         "type": "scatter3d",
         "x": [
          0.25654088749065107,
          0.43998310713795974,
          null
         ],
         "y": [
          0.3709849796579817,
          0.17941744936667625,
          null
         ],
         "z": [
          0.5451900504813074,
          0.2687780477487852,
          null
         ]
        },
        {
         "hoverinfo": "none",
         "line": {
          "color": "rgb(0, 0, 255)",
          "width": 5
         },
         "mode": "lines",
         "type": "scatter3d",
         "x": [
          0.25654088749065107,
          0.46238668378938574,
          null
         ],
         "y": [
          0.3709849796579817,
          0.4878414457966992,
          null
         ],
         "z": [
          0.5451900504813074,
          0.19346491974768487,
          null
         ]
        },
        {
         "hoverinfo": "none",
         "line": {
          "color": "rgb(0, 0, 255)",
          "width": 5
         },
         "mode": "lines",
         "type": "scatter3d",
         "x": [
          0.25654088749065107,
          0.18951941816325335,
          null
         ],
         "y": [
          0.3709849796579817,
          0.804942489366387,
          null
         ],
         "z": [
          0.5451900504813074,
          0.1784246572566579,
          null
         ]
        },
        {
         "hoverinfo": "none",
         "line": {
          "color": "rgb(0, 0, 255)",
          "width": 5
         },
         "mode": "lines",
         "type": "scatter3d",
         "x": [
          0.25654088749065107,
          0.13384005872767057,
          null
         ],
         "y": [
          0.3709849796579817,
          0.46627961988713396,
          null
         ],
         "z": [
          0.5451900504813074,
          0.24283289137663255,
          null
         ]
        },
        {
         "hoverinfo": "none",
         "line": {
          "color": "rgb(0, 0, 255)",
          "width": 5
         },
         "mode": "lines",
         "type": "scatter3d",
         "x": [
          0.25654088749065107,
          0.8278003373151289,
          null
         ],
         "y": [
          0.3709849796579817,
          0.47018702714547844,
          null
         ],
         "z": [
          0.5451900504813074,
          0.8494687495684636,
          null
         ]
        },
        {
         "hoverinfo": "none",
         "line": {
          "color": "rgb(0, 0, 255)",
          "width": 5
         },
         "mode": "lines",
         "type": "scatter3d",
         "x": [
          0.25654088749065107,
          0.184964329130757,
          null
         ],
         "y": [
          0.3709849796579817,
          0.36275396928501125,
          null
         ],
         "z": [
          0.5451900504813074,
          0.37673309129093446,
          null
         ]
        },
        {
         "hoverinfo": "none",
         "line": {
          "color": "rgb(255, 0, 0)",
          "width": 5
         },
         "mode": "lines",
         "type": "scatter3d",
         "x": [
          0.25654088749065107,
          0.8846115600778559,
          null
         ],
         "y": [
          0.3709849796579817,
          0.3952338052393384,
          null
         ],
         "z": [
          0.5451900504813074,
          0.2566164712625396,
          null
         ]
        },
        {
         "hoverinfo": "none",
         "line": {
          "color": "rgb(0, 0, 255)",
          "width": 5
         },
         "mode": "lines",
         "type": "scatter3d",
         "x": [
          0.25654088749065107,
          0.03906451389567933,
          null
         ],
         "y": [
          0.3709849796579817,
          0.37984994794387894,
          null
         ],
         "z": [
          0.5451900504813074,
          0.5025028229646553,
          null
         ]
        },
        {
         "hoverinfo": "none",
         "line": {
          "color": "rgb(0, 0, 255)",
          "width": 5
         },
         "mode": "lines",
         "type": "scatter3d",
         "x": [
          0.25654088749065107,
          0.9699700614387495,
          null
         ],
         "y": [
          0.3709849796579817,
          0.20259518425458156,
          null
         ],
         "z": [
          0.5451900504813074,
          0.0314414668969778,
          null
         ]
        },
        {
         "hoverinfo": "none",
         "line": {
          "color": "rgb(0, 0, 255)",
          "width": 5
         },
         "mode": "lines",
         "type": "scatter3d",
         "x": [
          0.25654088749065107,
          0.14607923745292672,
          null
         ],
         "y": [
          0.3709849796579817,
          0.5350300121864997,
          null
         ],
         "z": [
          0.5451900504813074,
          0.9444009250785079,
          null
         ]
        },
        {
         "hoverinfo": "none",
         "line": {
          "color": "rgb(0, 0, 255)",
          "width": 5
         },
         "mode": "lines",
         "type": "scatter3d",
         "x": [
          0.25654088749065107,
          0.6013938944089919,
          null
         ],
         "y": [
          0.3709849796579817,
          0.2961688462754798,
          null
         ],
         "z": [
          0.5451900504813074,
          0.9560610356234396,
          null
         ]
        },
        {
         "hoverinfo": "none",
         "line": {
          "color": "rgb(0, 0, 255)",
          "width": 5
         },
         "mode": "lines",
         "type": "scatter3d",
         "x": [
          0.14607923745292672,
          0.13384005872767057,
          null
         ],
         "y": [
          0.5350300121864997,
          0.46627961988713396,
          null
         ],
         "z": [
          0.9444009250785079,
          0.24283289137663255,
          null
         ]
        },
        {
         "hoverinfo": "none",
         "line": {
          "color": "rgb(0, 0, 255)",
          "width": 5
         },
         "mode": "lines",
         "type": "scatter3d",
         "x": [
          0.14607923745292672,
          0.8846115600778559,
          null
         ],
         "y": [
          0.5350300121864997,
          0.3952338052393384,
          null
         ],
         "z": [
          0.9444009250785079,
          0.2566164712625396,
          null
         ]
        },
        {
         "hoverinfo": "none",
         "line": {
          "color": "rgb(0, 0, 255)",
          "width": 5
         },
         "mode": "lines",
         "type": "scatter3d",
         "x": [
          0.14607923745292672,
          0.04318037794291141,
          null
         ],
         "y": [
          0.5350300121864997,
          0.25124693611372284,
          null
         ],
         "z": [
          0.9444009250785079,
          0.9492857761376863,
          null
         ]
        },
        {
         "hoverinfo": "none",
         "line": {
          "color": "rgb(0, 0, 255)",
          "width": 5
         },
         "mode": "lines",
         "type": "scatter3d",
         "x": [
          0.14607923745292672,
          0.08979853805465277,
          null
         ],
         "y": [
          0.5350300121864997,
          0.11517688967203765,
          null
         ],
         "z": [
          0.9444009250785079,
          0.5362059518931337,
          null
         ]
        },
        {
         "hoverinfo": "none",
         "line": {
          "color": "rgb(0, 0, 255)",
          "width": 5
         },
         "mode": "lines",
         "type": "scatter3d",
         "x": [
          0.14607923745292672,
          0.22277704215464977,
          null
         ],
         "y": [
          0.5350300121864997,
          0.9520862997574703,
          null
         ],
         "z": [
          0.9444009250785079,
          0.07487479713831424,
          null
         ]
        },
        {
         "hoverinfo": "none",
         "line": {
          "color": "rgb(0, 0, 255)",
          "width": 5
         },
         "mode": "lines",
         "type": "scatter3d",
         "x": [
          0.14607923745292672,
          0.23894397464478712,
          null
         ],
         "y": [
          0.5350300121864997,
          0.9881054822314761,
          null
         ],
         "z": [
          0.9444009250785079,
          0.34373504816486145,
          null
         ]
        },
        {
         "hoverinfo": "none",
         "line": {
          "color": "rgb(0, 0, 255)",
          "width": 5
         },
         "mode": "lines",
         "type": "scatter3d",
         "x": [
          0.14607923745292672,
          0.03906451389567933,
          null
         ],
         "y": [
          0.5350300121864997,
          0.37984994794387894,
          null
         ],
         "z": [
          0.9444009250785079,
          0.5025028229646553,
          null
         ]
        },
        {
         "hoverinfo": "none",
         "line": {
          "color": "rgb(0, 0, 255)",
          "width": 5
         },
         "mode": "lines",
         "type": "scatter3d",
         "x": [
          0.14607923745292672,
          0.824338903001674,
          null
         ],
         "y": [
          0.5350300121864997,
          0.31741615694187864,
          null
         ],
         "z": [
          0.9444009250785079,
          0.8089690911417335,
          null
         ]
        },
        {
         "hoverinfo": "none",
         "line": {
          "color": "rgb(0, 0, 255)",
          "width": 5
         },
         "mode": "lines",
         "type": "scatter3d",
         "x": [
          0.14607923745292672,
          0.3159587716503005,
          null
         ],
         "y": [
          0.5350300121864997,
          0.8977861472373965,
          null
         ],
         "z": [
          0.9444009250785079,
          0.7692387383115931,
          null
         ]
        },
        {
         "hoverinfo": "none",
         "line": {
          "color": "rgb(0, 0, 255)",
          "width": 5
         },
         "mode": "lines",
         "type": "scatter3d",
         "x": [
          0.14607923745292672,
          0.46238668378938574,
          null
         ],
         "y": [
          0.5350300121864997,
          0.4878414457966992,
          null
         ],
         "z": [
          0.9444009250785079,
          0.19346491974768487,
          null
         ]
        },
        {
         "hoverinfo": "none",
         "line": {
          "color": "rgb(0, 0, 255)",
          "width": 5
         },
         "mode": "lines",
         "type": "scatter3d",
         "x": [
          0.14607923745292672,
          0.18951941816325335,
          null
         ],
         "y": [
          0.5350300121864997,
          0.804942489366387,
          null
         ],
         "z": [
          0.9444009250785079,
          0.1784246572566579,
          null
         ]
        },
        {
         "hoverinfo": "none",
         "line": {
          "color": "rgb(0, 0, 255)",
          "width": 5
         },
         "mode": "lines",
         "type": "scatter3d",
         "x": [
          0.14607923745292672,
          0.9699700614387495,
          null
         ],
         "y": [
          0.5350300121864997,
          0.20259518425458156,
          null
         ],
         "z": [
          0.9444009250785079,
          0.0314414668969778,
          null
         ]
        },
        {
         "hoverinfo": "none",
         "line": {
          "color": "rgb(0, 0, 255)",
          "width": 5
         },
         "mode": "lines",
         "type": "scatter3d",
         "x": [
          0.14607923745292672,
          0.43998310713795974,
          null
         ],
         "y": [
          0.5350300121864997,
          0.17941744936667625,
          null
         ],
         "z": [
          0.9444009250785079,
          0.2687780477487852,
          null
         ]
        },
        {
         "hoverinfo": "none",
         "line": {
          "color": "rgb(0, 0, 255)",
          "width": 5
         },
         "mode": "lines",
         "type": "scatter3d",
         "x": [
          0.14607923745292672,
          0.6013938944089919,
          null
         ],
         "y": [
          0.5350300121864997,
          0.2961688462754798,
          null
         ],
         "z": [
          0.9444009250785079,
          0.9560610356234396,
          null
         ]
        },
        {
         "hoverinfo": "none",
         "line": {
          "color": "rgb(0, 0, 255)",
          "width": 5
         },
         "mode": "lines",
         "type": "scatter3d",
         "x": [
          0.14607923745292672,
          0.09321474737024749,
          null
         ],
         "y": [
          0.5350300121864997,
          0.5502629330762029,
          null
         ],
         "z": [
          0.9444009250785079,
          0.8607032312869579,
          null
         ]
        },
        {
         "hoverinfo": "none",
         "line": {
          "color": "rgb(0, 0, 255)",
          "width": 5
         },
         "mode": "lines",
         "type": "scatter3d",
         "x": [
          0.14607923745292672,
          0.184964329130757,
          null
         ],
         "y": [
          0.5350300121864997,
          0.36275396928501125,
          null
         ],
         "z": [
          0.9444009250785079,
          0.37673309129093446,
          null
         ]
        },
        {
         "hoverinfo": "none",
         "line": {
          "color": "rgb(0, 0, 255)",
          "width": 5
         },
         "mode": "lines",
         "type": "scatter3d",
         "x": [
          0.14607923745292672,
          0.8278003373151289,
          null
         ],
         "y": [
          0.5350300121864997,
          0.47018702714547844,
          null
         ],
         "z": [
          0.9444009250785079,
          0.8494687495684636,
          null
         ]
        },
        {
         "hoverinfo": "none",
         "line": {
          "color": "rgb(0, 0, 255)",
          "width": 5
         },
         "mode": "lines",
         "type": "scatter3d",
         "x": [
          0.184964329130757,
          0.3159587716503005,
          null
         ],
         "y": [
          0.36275396928501125,
          0.8977861472373965,
          null
         ],
         "z": [
          0.37673309129093446,
          0.7692387383115931,
          null
         ]
        },
        {
         "hoverinfo": "none",
         "line": {
          "color": "rgb(0, 0, 255)",
          "width": 5
         },
         "mode": "lines",
         "type": "scatter3d",
         "x": [
          0.184964329130757,
          0.08979853805465277,
          null
         ],
         "y": [
          0.36275396928501125,
          0.11517688967203765,
          null
         ],
         "z": [
          0.37673309129093446,
          0.5362059518931337,
          null
         ]
        },
        {
         "hoverinfo": "none",
         "line": {
          "color": "rgb(0, 0, 255)",
          "width": 5
         },
         "mode": "lines",
         "type": "scatter3d",
         "x": [
          0.184964329130757,
          0.04318037794291141,
          null
         ],
         "y": [
          0.36275396928501125,
          0.25124693611372284,
          null
         ],
         "z": [
          0.37673309129093446,
          0.9492857761376863,
          null
         ]
        },
        {
         "hoverinfo": "none",
         "line": {
          "color": "rgb(0, 0, 255)",
          "width": 5
         },
         "mode": "lines",
         "type": "scatter3d",
         "x": [
          0.184964329130757,
          0.824338903001674,
          null
         ],
         "y": [
          0.36275396928501125,
          0.31741615694187864,
          null
         ],
         "z": [
          0.37673309129093446,
          0.8089690911417335,
          null
         ]
        },
        {
         "hoverinfo": "none",
         "line": {
          "color": "rgb(0, 0, 255)",
          "width": 5
         },
         "mode": "lines",
         "type": "scatter3d",
         "x": [
          0.184964329130757,
          0.43998310713795974,
          null
         ],
         "y": [
          0.36275396928501125,
          0.17941744936667625,
          null
         ],
         "z": [
          0.37673309129093446,
          0.2687780477487852,
          null
         ]
        },
        {
         "hoverinfo": "none",
         "line": {
          "color": "rgb(0, 0, 255)",
          "width": 5
         },
         "mode": "lines",
         "type": "scatter3d",
         "x": [
          0.184964329130757,
          0.13384005872767057,
          null
         ],
         "y": [
          0.36275396928501125,
          0.46627961988713396,
          null
         ],
         "z": [
          0.37673309129093446,
          0.24283289137663255,
          null
         ]
        },
        {
         "hoverinfo": "none",
         "line": {
          "color": "rgb(0, 0, 255)",
          "width": 5
         },
         "mode": "lines",
         "type": "scatter3d",
         "x": [
          0.184964329130757,
          0.46238668378938574,
          null
         ],
         "y": [
          0.36275396928501125,
          0.4878414457966992,
          null
         ],
         "z": [
          0.37673309129093446,
          0.19346491974768487,
          null
         ]
        },
        {
         "hoverinfo": "none",
         "line": {
          "color": "rgb(0, 0, 255)",
          "width": 5
         },
         "mode": "lines",
         "type": "scatter3d",
         "x": [
          0.184964329130757,
          0.22277704215464977,
          null
         ],
         "y": [
          0.36275396928501125,
          0.9520862997574703,
          null
         ],
         "z": [
          0.37673309129093446,
          0.07487479713831424,
          null
         ]
        },
        {
         "hoverinfo": "none",
         "line": {
          "color": "rgb(0, 0, 255)",
          "width": 5
         },
         "mode": "lines",
         "type": "scatter3d",
         "x": [
          0.184964329130757,
          0.18951941816325335,
          null
         ],
         "y": [
          0.36275396928501125,
          0.804942489366387,
          null
         ],
         "z": [
          0.37673309129093446,
          0.1784246572566579,
          null
         ]
        },
        {
         "hoverinfo": "none",
         "line": {
          "color": "rgb(255, 0, 0)",
          "width": 5
         },
         "mode": "lines",
         "type": "scatter3d",
         "x": [
          0.184964329130757,
          0.6013938944089919,
          null
         ],
         "y": [
          0.36275396928501125,
          0.2961688462754798,
          null
         ],
         "z": [
          0.37673309129093446,
          0.9560610356234396,
          null
         ]
        },
        {
         "hoverinfo": "none",
         "line": {
          "color": "rgb(0, 0, 255)",
          "width": 5
         },
         "mode": "lines",
         "type": "scatter3d",
         "x": [
          0.184964329130757,
          0.03906451389567933,
          null
         ],
         "y": [
          0.36275396928501125,
          0.37984994794387894,
          null
         ],
         "z": [
          0.37673309129093446,
          0.5025028229646553,
          null
         ]
        },
        {
         "hoverinfo": "none",
         "line": {
          "color": "rgb(0, 0, 255)",
          "width": 5
         },
         "mode": "lines",
         "type": "scatter3d",
         "x": [
          0.184964329130757,
          0.9699700614387495,
          null
         ],
         "y": [
          0.36275396928501125,
          0.20259518425458156,
          null
         ],
         "z": [
          0.37673309129093446,
          0.0314414668969778,
          null
         ]
        },
        {
         "hoverinfo": "none",
         "line": {
          "color": "rgb(255, 0, 0)",
          "width": 5
         },
         "mode": "lines",
         "type": "scatter3d",
         "x": [
          0.184964329130757,
          0.8846115600778559,
          null
         ],
         "y": [
          0.36275396928501125,
          0.3952338052393384,
          null
         ],
         "z": [
          0.37673309129093446,
          0.2566164712625396,
          null
         ]
        },
        {
         "hoverinfo": "none",
         "line": {
          "color": "rgb(0, 0, 255)",
          "width": 5
         },
         "mode": "lines",
         "type": "scatter3d",
         "x": [
          0.184964329130757,
          0.09321474737024749,
          null
         ],
         "y": [
          0.36275396928501125,
          0.5502629330762029,
          null
         ],
         "z": [
          0.37673309129093446,
          0.8607032312869579,
          null
         ]
        },
        {
         "hoverinfo": "none",
         "line": {
          "color": "rgb(0, 0, 255)",
          "width": 5
         },
         "mode": "lines",
         "type": "scatter3d",
         "x": [
          0.184964329130757,
          0.23894397464478712,
          null
         ],
         "y": [
          0.36275396928501125,
          0.9881054822314761,
          null
         ],
         "z": [
          0.37673309129093446,
          0.34373504816486145,
          null
         ]
        },
        {
         "hoverinfo": "none",
         "line": {
          "color": "rgb(0, 0, 255)",
          "width": 5
         },
         "mode": "lines",
         "type": "scatter3d",
         "x": [
          0.9699700614387495,
          0.3159587716503005,
          null
         ],
         "y": [
          0.20259518425458156,
          0.8977861472373965,
          null
         ],
         "z": [
          0.0314414668969778,
          0.7692387383115931,
          null
         ]
        },
        {
         "hoverinfo": "none",
         "line": {
          "color": "rgb(0, 0, 255)",
          "width": 5
         },
         "mode": "lines",
         "type": "scatter3d",
         "x": [
          0.9699700614387495,
          0.23894397464478712,
          null
         ],
         "y": [
          0.20259518425458156,
          0.9881054822314761,
          null
         ],
         "z": [
          0.0314414668969778,
          0.34373504816486145,
          null
         ]
        },
        {
         "hoverinfo": "none",
         "line": {
          "color": "rgb(0, 0, 255)",
          "width": 5
         },
         "mode": "lines",
         "type": "scatter3d",
         "x": [
          0.9699700614387495,
          0.13384005872767057,
          null
         ],
         "y": [
          0.20259518425458156,
          0.46627961988713396,
          null
         ],
         "z": [
          0.0314414668969778,
          0.24283289137663255,
          null
         ]
        },
        {
         "hoverinfo": "none",
         "line": {
          "color": "rgb(0, 0, 255)",
          "width": 5
         },
         "mode": "lines",
         "type": "scatter3d",
         "x": [
          0.9699700614387495,
          0.04318037794291141,
          null
         ],
         "y": [
          0.20259518425458156,
          0.25124693611372284,
          null
         ],
         "z": [
          0.0314414668969778,
          0.9492857761376863,
          null
         ]
        },
        {
         "hoverinfo": "none",
         "line": {
          "color": "rgb(0, 0, 255)",
          "width": 5
         },
         "mode": "lines",
         "type": "scatter3d",
         "x": [
          0.9699700614387495,
          0.22277704215464977,
          null
         ],
         "y": [
          0.20259518425458156,
          0.9520862997574703,
          null
         ],
         "z": [
          0.0314414668969778,
          0.07487479713831424,
          null
         ]
        },
        {
         "hoverinfo": "none",
         "line": {
          "color": "rgb(0, 0, 255)",
          "width": 5
         },
         "mode": "lines",
         "type": "scatter3d",
         "x": [
          0.9699700614387495,
          0.43998310713795974,
          null
         ],
         "y": [
          0.20259518425458156,
          0.17941744936667625,
          null
         ],
         "z": [
          0.0314414668969778,
          0.2687780477487852,
          null
         ]
        },
        {
         "hoverinfo": "none",
         "line": {
          "color": "rgb(0, 0, 255)",
          "width": 5
         },
         "mode": "lines",
         "type": "scatter3d",
         "x": [
          0.9699700614387495,
          0.18951941816325335,
          null
         ],
         "y": [
          0.20259518425458156,
          0.804942489366387,
          null
         ],
         "z": [
          0.0314414668969778,
          0.1784246572566579,
          null
         ]
        },
        {
         "hoverinfo": "none",
         "line": {
          "color": "rgb(0, 0, 255)",
          "width": 5
         },
         "mode": "lines",
         "type": "scatter3d",
         "x": [
          0.9699700614387495,
          0.824338903001674,
          null
         ],
         "y": [
          0.20259518425458156,
          0.31741615694187864,
          null
         ],
         "z": [
          0.0314414668969778,
          0.8089690911417335,
          null
         ]
        },
        {
         "hoverinfo": "none",
         "line": {
          "color": "rgb(0, 0, 255)",
          "width": 5
         },
         "mode": "lines",
         "type": "scatter3d",
         "x": [
          0.9699700614387495,
          0.08979853805465277,
          null
         ],
         "y": [
          0.20259518425458156,
          0.11517688967203765,
          null
         ],
         "z": [
          0.0314414668969778,
          0.5362059518931337,
          null
         ]
        },
        {
         "hoverinfo": "none",
         "line": {
          "color": "rgb(0, 0, 255)",
          "width": 5
         },
         "mode": "lines",
         "type": "scatter3d",
         "x": [
          0.9699700614387495,
          0.6013938944089919,
          null
         ],
         "y": [
          0.20259518425458156,
          0.2961688462754798,
          null
         ],
         "z": [
          0.0314414668969778,
          0.9560610356234396,
          null
         ]
        },
        {
         "hoverinfo": "none",
         "line": {
          "color": "rgb(0, 0, 255)",
          "width": 5
         },
         "mode": "lines",
         "type": "scatter3d",
         "x": [
          0.9699700614387495,
          0.03906451389567933,
          null
         ],
         "y": [
          0.20259518425458156,
          0.37984994794387894,
          null
         ],
         "z": [
          0.0314414668969778,
          0.5025028229646553,
          null
         ]
        },
        {
         "hoverinfo": "none",
         "line": {
          "color": "rgb(0, 0, 255)",
          "width": 5
         },
         "mode": "lines",
         "type": "scatter3d",
         "x": [
          0.9699700614387495,
          0.46238668378938574,
          null
         ],
         "y": [
          0.20259518425458156,
          0.4878414457966992,
          null
         ],
         "z": [
          0.0314414668969778,
          0.19346491974768487,
          null
         ]
        },
        {
         "hoverinfo": "none",
         "line": {
          "color": "rgb(0, 0, 255)",
          "width": 5
         },
         "mode": "lines",
         "type": "scatter3d",
         "x": [
          0.9699700614387495,
          0.8846115600778559,
          null
         ],
         "y": [
          0.20259518425458156,
          0.3952338052393384,
          null
         ],
         "z": [
          0.0314414668969778,
          0.2566164712625396,
          null
         ]
        },
        {
         "hoverinfo": "none",
         "line": {
          "color": "rgb(0, 0, 255)",
          "width": 5
         },
         "mode": "lines",
         "type": "scatter3d",
         "x": [
          0.9699700614387495,
          0.09321474737024749,
          null
         ],
         "y": [
          0.20259518425458156,
          0.5502629330762029,
          null
         ],
         "z": [
          0.0314414668969778,
          0.8607032312869579,
          null
         ]
        },
        {
         "hoverinfo": "none",
         "line": {
          "color": "rgb(0, 0, 255)",
          "width": 5
         },
         "mode": "lines",
         "type": "scatter3d",
         "x": [
          0.9699700614387495,
          0.8278003373151289,
          null
         ],
         "y": [
          0.20259518425458156,
          0.47018702714547844,
          null
         ],
         "z": [
          0.0314414668969778,
          0.8494687495684636,
          null
         ]
        },
        {
         "hoverinfo": "none",
         "line": {
          "color": "rgb(0, 0, 255)",
          "width": 5
         },
         "mode": "lines",
         "type": "scatter3d",
         "x": [
          0.04318037794291141,
          0.6013938944089919,
          null
         ],
         "y": [
          0.25124693611372284,
          0.2961688462754798,
          null
         ],
         "z": [
          0.9492857761376863,
          0.9560610356234396,
          null
         ]
        },
        {
         "hoverinfo": "none",
         "line": {
          "color": "rgb(0, 0, 255)",
          "width": 5
         },
         "mode": "lines",
         "type": "scatter3d",
         "x": [
          0.04318037794291141,
          0.3159587716503005,
          null
         ],
         "y": [
          0.25124693611372284,
          0.8977861472373965,
          null
         ],
         "z": [
          0.9492857761376863,
          0.7692387383115931,
          null
         ]
        },
        {
         "hoverinfo": "none",
         "line": {
          "color": "rgb(0, 0, 255)",
          "width": 5
         },
         "mode": "lines",
         "type": "scatter3d",
         "x": [
          0.04318037794291141,
          0.08979853805465277,
          null
         ],
         "y": [
          0.25124693611372284,
          0.11517688967203765,
          null
         ],
         "z": [
          0.9492857761376863,
          0.5362059518931337,
          null
         ]
        },
        {
         "hoverinfo": "none",
         "line": {
          "color": "rgb(0, 0, 255)",
          "width": 5
         },
         "mode": "lines",
         "type": "scatter3d",
         "x": [
          0.04318037794291141,
          0.22277704215464977,
          null
         ],
         "y": [
          0.25124693611372284,
          0.9520862997574703,
          null
         ],
         "z": [
          0.9492857761376863,
          0.07487479713831424,
          null
         ]
        },
        {
         "hoverinfo": "none",
         "line": {
          "color": "rgb(0, 0, 255)",
          "width": 5
         },
         "mode": "lines",
         "type": "scatter3d",
         "x": [
          0.04318037794291141,
          0.43998310713795974,
          null
         ],
         "y": [
          0.25124693611372284,
          0.17941744936667625,
          null
         ],
         "z": [
          0.9492857761376863,
          0.2687780477487852,
          null
         ]
        },
        {
         "hoverinfo": "none",
         "line": {
          "color": "rgb(0, 0, 255)",
          "width": 5
         },
         "mode": "lines",
         "type": "scatter3d",
         "x": [
          0.04318037794291141,
          0.13384005872767057,
          null
         ],
         "y": [
          0.25124693611372284,
          0.46627961988713396,
          null
         ],
         "z": [
          0.9492857761376863,
          0.24283289137663255,
          null
         ]
        },
        {
         "hoverinfo": "none",
         "line": {
          "color": "rgb(0, 0, 255)",
          "width": 5
         },
         "mode": "lines",
         "type": "scatter3d",
         "x": [
          0.04318037794291141,
          0.46238668378938574,
          null
         ],
         "y": [
          0.25124693611372284,
          0.4878414457966992,
          null
         ],
         "z": [
          0.9492857761376863,
          0.19346491974768487,
          null
         ]
        },
        {
         "hoverinfo": "none",
         "line": {
          "color": "rgb(0, 0, 255)",
          "width": 5
         },
         "mode": "lines",
         "type": "scatter3d",
         "x": [
          0.04318037794291141,
          0.8278003373151289,
          null
         ],
         "y": [
          0.25124693611372284,
          0.47018702714547844,
          null
         ],
         "z": [
          0.9492857761376863,
          0.8494687495684636,
          null
         ]
        },
        {
         "hoverinfo": "none",
         "line": {
          "color": "rgb(0, 0, 255)",
          "width": 5
         },
         "mode": "lines",
         "type": "scatter3d",
         "x": [
          0.04318037794291141,
          0.824338903001674,
          null
         ],
         "y": [
          0.25124693611372284,
          0.31741615694187864,
          null
         ],
         "z": [
          0.9492857761376863,
          0.8089690911417335,
          null
         ]
        },
        {
         "hoverinfo": "none",
         "line": {
          "color": "rgb(0, 0, 255)",
          "width": 5
         },
         "mode": "lines",
         "type": "scatter3d",
         "x": [
          0.04318037794291141,
          0.18951941816325335,
          null
         ],
         "y": [
          0.25124693611372284,
          0.804942489366387,
          null
         ],
         "z": [
          0.9492857761376863,
          0.1784246572566579,
          null
         ]
        },
        {
         "hoverinfo": "none",
         "line": {
          "color": "rgb(0, 0, 255)",
          "width": 5
         },
         "mode": "lines",
         "type": "scatter3d",
         "x": [
          0.04318037794291141,
          0.03906451389567933,
          null
         ],
         "y": [
          0.25124693611372284,
          0.37984994794387894,
          null
         ],
         "z": [
          0.9492857761376863,
          0.5025028229646553,
          null
         ]
        },
        {
         "hoverinfo": "none",
         "line": {
          "color": "rgb(0, 0, 255)",
          "width": 5
         },
         "mode": "lines",
         "type": "scatter3d",
         "x": [
          0.04318037794291141,
          0.23894397464478712,
          null
         ],
         "y": [
          0.25124693611372284,
          0.9881054822314761,
          null
         ],
         "z": [
          0.9492857761376863,
          0.34373504816486145,
          null
         ]
        },
        {
         "hoverinfo": "none",
         "line": {
          "color": "rgb(0, 0, 255)",
          "width": 5
         },
         "mode": "lines",
         "type": "scatter3d",
         "x": [
          0.04318037794291141,
          0.8846115600778559,
          null
         ],
         "y": [
          0.25124693611372284,
          0.3952338052393384,
          null
         ],
         "z": [
          0.9492857761376863,
          0.2566164712625396,
          null
         ]
        },
        {
         "hoverinfo": "none",
         "line": {
          "color": "rgb(0, 0, 255)",
          "width": 5
         },
         "mode": "lines",
         "type": "scatter3d",
         "x": [
          0.04318037794291141,
          0.09321474737024749,
          null
         ],
         "y": [
          0.25124693611372284,
          0.5502629330762029,
          null
         ],
         "z": [
          0.9492857761376863,
          0.8607032312869579,
          null
         ]
        },
        {
         "hoverinfo": "none",
         "line": {
          "color": "rgb(0, 0, 255)",
          "width": 5
         },
         "mode": "lines",
         "type": "scatter3d",
         "x": [
          0.22277704215464977,
          0.8846115600778559,
          null
         ],
         "y": [
          0.9520862997574703,
          0.3952338052393384,
          null
         ],
         "z": [
          0.07487479713831424,
          0.2566164712625396,
          null
         ]
        },
        {
         "hoverinfo": "none",
         "line": {
          "color": "rgb(0, 0, 255)",
          "width": 5
         },
         "mode": "lines",
         "type": "scatter3d",
         "x": [
          0.22277704215464977,
          0.18951941816325335,
          null
         ],
         "y": [
          0.9520862997574703,
          0.804942489366387,
          null
         ],
         "z": [
          0.07487479713831424,
          0.1784246572566579,
          null
         ]
        },
        {
         "hoverinfo": "none",
         "line": {
          "color": "rgb(0, 0, 255)",
          "width": 5
         },
         "mode": "lines",
         "type": "scatter3d",
         "x": [
          0.22277704215464977,
          0.824338903001674,
          null
         ],
         "y": [
          0.9520862997574703,
          0.31741615694187864,
          null
         ],
         "z": [
          0.07487479713831424,
          0.8089690911417335,
          null
         ]
        },
        {
         "hoverinfo": "none",
         "line": {
          "color": "rgb(0, 0, 255)",
          "width": 5
         },
         "mode": "lines",
         "type": "scatter3d",
         "x": [
          0.22277704215464977,
          0.08979853805465277,
          null
         ],
         "y": [
          0.9520862997574703,
          0.11517688967203765,
          null
         ],
         "z": [
          0.07487479713831424,
          0.5362059518931337,
          null
         ]
        },
        {
         "hoverinfo": "none",
         "line": {
          "color": "rgb(0, 0, 255)",
          "width": 5
         },
         "mode": "lines",
         "type": "scatter3d",
         "x": [
          0.22277704215464977,
          0.3159587716503005,
          null
         ],
         "y": [
          0.9520862997574703,
          0.8977861472373965,
          null
         ],
         "z": [
          0.07487479713831424,
          0.7692387383115931,
          null
         ]
        },
        {
         "hoverinfo": "none",
         "line": {
          "color": "rgb(0, 0, 255)",
          "width": 5
         },
         "mode": "lines",
         "type": "scatter3d",
         "x": [
          0.22277704215464977,
          0.8278003373151289,
          null
         ],
         "y": [
          0.9520862997574703,
          0.47018702714547844,
          null
         ],
         "z": [
          0.07487479713831424,
          0.8494687495684636,
          null
         ]
        },
        {
         "hoverinfo": "none",
         "line": {
          "color": "rgb(0, 0, 255)",
          "width": 5
         },
         "mode": "lines",
         "type": "scatter3d",
         "x": [
          0.22277704215464977,
          0.09321474737024749,
          null
         ],
         "y": [
          0.9520862997574703,
          0.5502629330762029,
          null
         ],
         "z": [
          0.07487479713831424,
          0.8607032312869579,
          null
         ]
        },
        {
         "hoverinfo": "none",
         "line": {
          "color": "rgb(0, 0, 255)",
          "width": 5
         },
         "mode": "lines",
         "type": "scatter3d",
         "x": [
          0.22277704215464977,
          0.13384005872767057,
          null
         ],
         "y": [
          0.9520862997574703,
          0.46627961988713396,
          null
         ],
         "z": [
          0.07487479713831424,
          0.24283289137663255,
          null
         ]
        },
        {
         "hoverinfo": "none",
         "line": {
          "color": "rgb(0, 0, 255)",
          "width": 5
         },
         "mode": "lines",
         "type": "scatter3d",
         "x": [
          0.22277704215464977,
          0.43998310713795974,
          null
         ],
         "y": [
          0.9520862997574703,
          0.17941744936667625,
          null
         ],
         "z": [
          0.07487479713831424,
          0.2687780477487852,
          null
         ]
        },
        {
         "hoverinfo": "none",
         "line": {
          "color": "rgb(0, 0, 255)",
          "width": 5
         },
         "mode": "lines",
         "type": "scatter3d",
         "x": [
          0.22277704215464977,
          0.6013938944089919,
          null
         ],
         "y": [
          0.9520862997574703,
          0.2961688462754798,
          null
         ],
         "z": [
          0.07487479713831424,
          0.9560610356234396,
          null
         ]
        },
        {
         "hoverinfo": "none",
         "line": {
          "color": "rgb(0, 0, 255)",
          "width": 5
         },
         "mode": "lines",
         "type": "scatter3d",
         "x": [
          0.22277704215464977,
          0.46238668378938574,
          null
         ],
         "y": [
          0.9520862997574703,
          0.4878414457966992,
          null
         ],
         "z": [
          0.07487479713831424,
          0.19346491974768487,
          null
         ]
        },
        {
         "hoverinfo": "none",
         "line": {
          "color": "rgb(0, 0, 255)",
          "width": 5
         },
         "mode": "lines",
         "type": "scatter3d",
         "x": [
          0.22277704215464977,
          0.23894397464478712,
          null
         ],
         "y": [
          0.9520862997574703,
          0.9881054822314761,
          null
         ],
         "z": [
          0.07487479713831424,
          0.34373504816486145,
          null
         ]
        },
        {
         "hoverinfo": "none",
         "line": {
          "color": "rgb(0, 0, 255)",
          "width": 5
         },
         "mode": "lines",
         "type": "scatter3d",
         "x": [
          0.22277704215464977,
          0.03906451389567933,
          null
         ],
         "y": [
          0.9520862997574703,
          0.37984994794387894,
          null
         ],
         "z": [
          0.07487479713831424,
          0.5025028229646553,
          null
         ]
        },
        {
         "hoverinfo": "none",
         "line": {
          "color": "rgb(0, 0, 255)",
          "width": 5
         },
         "mode": "lines",
         "type": "scatter3d",
         "x": [
          0.13384005872767057,
          0.8846115600778559,
          null
         ],
         "y": [
          0.46627961988713396,
          0.3952338052393384,
          null
         ],
         "z": [
          0.24283289137663255,
          0.2566164712625396,
          null
         ]
        },
        {
         "hoverinfo": "none",
         "line": {
          "color": "rgb(0, 0, 255)",
          "width": 5
         },
         "mode": "lines",
         "type": "scatter3d",
         "x": [
          0.13384005872767057,
          0.18951941816325335,
          null
         ],
         "y": [
          0.46627961988713396,
          0.804942489366387,
          null
         ],
         "z": [
          0.24283289137663255,
          0.1784246572566579,
          null
         ]
        },
        {
         "hoverinfo": "none",
         "line": {
          "color": "rgb(0, 0, 255)",
          "width": 5
         },
         "mode": "lines",
         "type": "scatter3d",
         "x": [
          0.13384005872767057,
          0.46238668378938574,
          null
         ],
         "y": [
          0.46627961988713396,
          0.4878414457966992,
          null
         ],
         "z": [
          0.24283289137663255,
          0.19346491974768487,
          null
         ]
        },
        {
         "hoverinfo": "none",
         "line": {
          "color": "rgb(0, 0, 255)",
          "width": 5
         },
         "mode": "lines",
         "type": "scatter3d",
         "x": [
          0.13384005872767057,
          0.03906451389567933,
          null
         ],
         "y": [
          0.46627961988713396,
          0.37984994794387894,
          null
         ],
         "z": [
          0.24283289137663255,
          0.5025028229646553,
          null
         ]
        },
        {
         "hoverinfo": "none",
         "line": {
          "color": "rgb(0, 0, 255)",
          "width": 5
         },
         "mode": "lines",
         "type": "scatter3d",
         "x": [
          0.13384005872767057,
          0.3159587716503005,
          null
         ],
         "y": [
          0.46627961988713396,
          0.8977861472373965,
          null
         ],
         "z": [
          0.24283289137663255,
          0.7692387383115931,
          null
         ]
        },
        {
         "hoverinfo": "none",
         "line": {
          "color": "rgb(0, 0, 255)",
          "width": 5
         },
         "mode": "lines",
         "type": "scatter3d",
         "x": [
          0.13384005872767057,
          0.43998310713795974,
          null
         ],
         "y": [
          0.46627961988713396,
          0.17941744936667625,
          null
         ],
         "z": [
          0.24283289137663255,
          0.2687780477487852,
          null
         ]
        },
        {
         "hoverinfo": "none",
         "line": {
          "color": "rgb(0, 0, 255)",
          "width": 5
         },
         "mode": "lines",
         "type": "scatter3d",
         "x": [
          0.13384005872767057,
          0.824338903001674,
          null
         ],
         "y": [
          0.46627961988713396,
          0.31741615694187864,
          null
         ],
         "z": [
          0.24283289137663255,
          0.8089690911417335,
          null
         ]
        },
        {
         "hoverinfo": "none",
         "line": {
          "color": "rgb(0, 0, 255)",
          "width": 5
         },
         "mode": "lines",
         "type": "scatter3d",
         "x": [
          0.13384005872767057,
          0.23894397464478712,
          null
         ],
         "y": [
          0.46627961988713396,
          0.9881054822314761,
          null
         ],
         "z": [
          0.24283289137663255,
          0.34373504816486145,
          null
         ]
        },
        {
         "hoverinfo": "none",
         "line": {
          "color": "rgb(0, 0, 255)",
          "width": 5
         },
         "mode": "lines",
         "type": "scatter3d",
         "x": [
          0.13384005872767057,
          0.6013938944089919,
          null
         ],
         "y": [
          0.46627961988713396,
          0.2961688462754798,
          null
         ],
         "z": [
          0.24283289137663255,
          0.9560610356234396,
          null
         ]
        },
        {
         "hoverinfo": "none",
         "line": {
          "color": "rgb(0, 0, 255)",
          "width": 5
         },
         "mode": "lines",
         "type": "scatter3d",
         "x": [
          0.13384005872767057,
          0.08979853805465277,
          null
         ],
         "y": [
          0.46627961988713396,
          0.11517688967203765,
          null
         ],
         "z": [
          0.24283289137663255,
          0.5362059518931337,
          null
         ]
        },
        {
         "hoverinfo": "none",
         "line": {
          "color": "rgb(0, 0, 255)",
          "width": 5
         },
         "mode": "lines",
         "type": "scatter3d",
         "x": [
          0.13384005872767057,
          0.09321474737024749,
          null
         ],
         "y": [
          0.46627961988713396,
          0.5502629330762029,
          null
         ],
         "z": [
          0.24283289137663255,
          0.8607032312869579,
          null
         ]
        },
        {
         "hoverinfo": "none",
         "line": {
          "color": "rgb(0, 0, 255)",
          "width": 5
         },
         "mode": "lines",
         "type": "scatter3d",
         "x": [
          0.13384005872767057,
          0.8278003373151289,
          null
         ],
         "y": [
          0.46627961988713396,
          0.47018702714547844,
          null
         ],
         "z": [
          0.24283289137663255,
          0.8494687495684636,
          null
         ]
        },
        {
         "hoverinfo": "none",
         "line": {
          "color": "rgb(0, 0, 255)",
          "width": 5
         },
         "mode": "lines",
         "type": "scatter3d",
         "x": [
          0.09321474737024749,
          0.18951941816325335,
          null
         ],
         "y": [
          0.5502629330762029,
          0.804942489366387,
          null
         ],
         "z": [
          0.8607032312869579,
          0.1784246572566579,
          null
         ]
        },
        {
         "hoverinfo": "none",
         "line": {
          "color": "rgb(0, 0, 255)",
          "width": 5
         },
         "mode": "lines",
         "type": "scatter3d",
         "x": [
          0.09321474737024749,
          0.3159587716503005,
          null
         ],
         "y": [
          0.5502629330762029,
          0.8977861472373965,
          null
         ],
         "z": [
          0.8607032312869579,
          0.7692387383115931,
          null
         ]
        },
        {
         "hoverinfo": "none",
         "line": {
          "color": "rgb(0, 0, 255)",
          "width": 5
         },
         "mode": "lines",
         "type": "scatter3d",
         "x": [
          0.09321474737024749,
          0.43998310713795974,
          null
         ],
         "y": [
          0.5502629330762029,
          0.17941744936667625,
          null
         ],
         "z": [
          0.8607032312869579,
          0.2687780477487852,
          null
         ]
        },
        {
         "hoverinfo": "none",
         "line": {
          "color": "rgb(0, 0, 255)",
          "width": 5
         },
         "mode": "lines",
         "type": "scatter3d",
         "x": [
          0.09321474737024749,
          0.03906451389567933,
          null
         ],
         "y": [
          0.5502629330762029,
          0.37984994794387894,
          null
         ],
         "z": [
          0.8607032312869579,
          0.5025028229646553,
          null
         ]
        },
        {
         "hoverinfo": "none",
         "line": {
          "color": "rgb(0, 0, 255)",
          "width": 5
         },
         "mode": "lines",
         "type": "scatter3d",
         "x": [
          0.09321474737024749,
          0.46238668378938574,
          null
         ],
         "y": [
          0.5502629330762029,
          0.4878414457966992,
          null
         ],
         "z": [
          0.8607032312869579,
          0.19346491974768487,
          null
         ]
        },
        {
         "hoverinfo": "none",
         "line": {
          "color": "rgb(0, 0, 255)",
          "width": 5
         },
         "mode": "lines",
         "type": "scatter3d",
         "x": [
          0.09321474737024749,
          0.23894397464478712,
          null
         ],
         "y": [
          0.5502629330762029,
          0.9881054822314761,
          null
         ],
         "z": [
          0.8607032312869579,
          0.34373504816486145,
          null
         ]
        },
        {
         "hoverinfo": "none",
         "line": {
          "color": "rgb(0, 0, 255)",
          "width": 5
         },
         "mode": "lines",
         "type": "scatter3d",
         "x": [
          0.09321474737024749,
          0.08979853805465277,
          null
         ],
         "y": [
          0.5502629330762029,
          0.11517688967203765,
          null
         ],
         "z": [
          0.8607032312869579,
          0.5362059518931337,
          null
         ]
        },
        {
         "hoverinfo": "none",
         "line": {
          "color": "rgb(0, 0, 255)",
          "width": 5
         },
         "mode": "lines",
         "type": "scatter3d",
         "x": [
          0.09321474737024749,
          0.824338903001674,
          null
         ],
         "y": [
          0.5502629330762029,
          0.31741615694187864,
          null
         ],
         "z": [
          0.8607032312869579,
          0.8089690911417335,
          null
         ]
        },
        {
         "hoverinfo": "none",
         "line": {
          "color": "rgb(0, 0, 255)",
          "width": 5
         },
         "mode": "lines",
         "type": "scatter3d",
         "x": [
          0.09321474737024749,
          0.6013938944089919,
          null
         ],
         "y": [
          0.5502629330762029,
          0.2961688462754798,
          null
         ],
         "z": [
          0.8607032312869579,
          0.9560610356234396,
          null
         ]
        },
        {
         "hoverinfo": "none",
         "line": {
          "color": "rgb(0, 0, 255)",
          "width": 5
         },
         "mode": "lines",
         "type": "scatter3d",
         "x": [
          0.09321474737024749,
          0.8846115600778559,
          null
         ],
         "y": [
          0.5502629330762029,
          0.3952338052393384,
          null
         ],
         "z": [
          0.8607032312869579,
          0.2566164712625396,
          null
         ]
        },
        {
         "hoverinfo": "none",
         "line": {
          "color": "rgb(255, 0, 0)",
          "width": 5
         },
         "mode": "lines",
         "type": "scatter3d",
         "x": [
          0.09321474737024749,
          0.8278003373151289,
          null
         ],
         "y": [
          0.5502629330762029,
          0.47018702714547844,
          null
         ],
         "z": [
          0.8607032312869579,
          0.8494687495684636,
          null
         ]
        },
        {
         "hoverinfo": "none",
         "line": {
          "color": "rgb(0, 0, 255)",
          "width": 5
         },
         "mode": "lines",
         "type": "scatter3d",
         "x": [
          0.43998310713795974,
          0.3159587716503005,
          null
         ],
         "y": [
          0.17941744936667625,
          0.8977861472373965,
          null
         ],
         "z": [
          0.2687780477487852,
          0.7692387383115931,
          null
         ]
        },
        {
         "hoverinfo": "none",
         "line": {
          "color": "rgb(0, 0, 255)",
          "width": 5
         },
         "mode": "lines",
         "type": "scatter3d",
         "x": [
          0.43998310713795974,
          0.18951941816325335,
          null
         ],
         "y": [
          0.17941744936667625,
          0.804942489366387,
          null
         ],
         "z": [
          0.2687780477487852,
          0.1784246572566579,
          null
         ]
        },
        {
         "hoverinfo": "none",
         "line": {
          "color": "rgb(0, 0, 255)",
          "width": 5
         },
         "mode": "lines",
         "type": "scatter3d",
         "x": [
          0.43998310713795974,
          0.824338903001674,
          null
         ],
         "y": [
          0.17941744936667625,
          0.31741615694187864,
          null
         ],
         "z": [
          0.2687780477487852,
          0.8089690911417335,
          null
         ]
        },
        {
         "hoverinfo": "none",
         "line": {
          "color": "rgb(0, 0, 255)",
          "width": 5
         },
         "mode": "lines",
         "type": "scatter3d",
         "x": [
          0.43998310713795974,
          0.08979853805465277,
          null
         ],
         "y": [
          0.17941744936667625,
          0.11517688967203765,
          null
         ],
         "z": [
          0.2687780477487852,
          0.5362059518931337,
          null
         ]
        },
        {
         "hoverinfo": "none",
         "line": {
          "color": "rgb(0, 0, 255)",
          "width": 5
         },
         "mode": "lines",
         "type": "scatter3d",
         "x": [
          0.43998310713795974,
          0.46238668378938574,
          null
         ],
         "y": [
          0.17941744936667625,
          0.4878414457966992,
          null
         ],
         "z": [
          0.2687780477487852,
          0.19346491974768487,
          null
         ]
        },
        {
         "hoverinfo": "none",
         "line": {
          "color": "rgb(0, 0, 255)",
          "width": 5
         },
         "mode": "lines",
         "type": "scatter3d",
         "x": [
          0.43998310713795974,
          0.23894397464478712,
          null
         ],
         "y": [
          0.17941744936667625,
          0.9881054822314761,
          null
         ],
         "z": [
          0.2687780477487852,
          0.34373504816486145,
          null
         ]
        },
        {
         "hoverinfo": "none",
         "line": {
          "color": "rgb(0, 0, 255)",
          "width": 5
         },
         "mode": "lines",
         "type": "scatter3d",
         "x": [
          0.43998310713795974,
          0.6013938944089919,
          null
         ],
         "y": [
          0.17941744936667625,
          0.2961688462754798,
          null
         ],
         "z": [
          0.2687780477487852,
          0.9560610356234396,
          null
         ]
        },
        {
         "hoverinfo": "none",
         "line": {
          "color": "rgb(0, 0, 255)",
          "width": 5
         },
         "mode": "lines",
         "type": "scatter3d",
         "x": [
          0.43998310713795974,
          0.8846115600778559,
          null
         ],
         "y": [
          0.17941744936667625,
          0.3952338052393384,
          null
         ],
         "z": [
          0.2687780477487852,
          0.2566164712625396,
          null
         ]
        },
        {
         "hoverinfo": "none",
         "line": {
          "color": "rgb(0, 0, 255)",
          "width": 5
         },
         "mode": "lines",
         "type": "scatter3d",
         "x": [
          0.43998310713795974,
          0.03906451389567933,
          null
         ],
         "y": [
          0.17941744936667625,
          0.37984994794387894,
          null
         ],
         "z": [
          0.2687780477487852,
          0.5025028229646553,
          null
         ]
        },
        {
         "hoverinfo": "none",
         "line": {
          "color": "rgb(0, 0, 255)",
          "width": 5
         },
         "mode": "lines",
         "type": "scatter3d",
         "x": [
          0.43998310713795974,
          0.8278003373151289,
          null
         ],
         "y": [
          0.17941744936667625,
          0.47018702714547844,
          null
         ],
         "z": [
          0.2687780477487852,
          0.8494687495684636,
          null
         ]
        },
        {
         "hoverinfo": "none",
         "line": {
          "color": "rgb(0, 0, 255)",
          "width": 5
         },
         "mode": "lines",
         "type": "scatter3d",
         "x": [
          0.08979853805465277,
          0.8846115600778559,
          null
         ],
         "y": [
          0.11517688967203765,
          0.3952338052393384,
          null
         ],
         "z": [
          0.5362059518931337,
          0.2566164712625396,
          null
         ]
        },
        {
         "hoverinfo": "none",
         "line": {
          "color": "rgb(0, 0, 255)",
          "width": 5
         },
         "mode": "lines",
         "type": "scatter3d",
         "x": [
          0.08979853805465277,
          0.3159587716503005,
          null
         ],
         "y": [
          0.11517688967203765,
          0.8977861472373965,
          null
         ],
         "z": [
          0.5362059518931337,
          0.7692387383115931,
          null
         ]
        },
        {
         "hoverinfo": "none",
         "line": {
          "color": "rgb(0, 0, 255)",
          "width": 5
         },
         "mode": "lines",
         "type": "scatter3d",
         "x": [
          0.08979853805465277,
          0.824338903001674,
          null
         ],
         "y": [
          0.11517688967203765,
          0.31741615694187864,
          null
         ],
         "z": [
          0.5362059518931337,
          0.8089690911417335,
          null
         ]
        },
        {
         "hoverinfo": "none",
         "line": {
          "color": "rgb(0, 0, 255)",
          "width": 5
         },
         "mode": "lines",
         "type": "scatter3d",
         "x": [
          0.08979853805465277,
          0.6013938944089919,
          null
         ],
         "y": [
          0.11517688967203765,
          0.2961688462754798,
          null
         ],
         "z": [
          0.5362059518931337,
          0.9560610356234396,
          null
         ]
        },
        {
         "hoverinfo": "none",
         "line": {
          "color": "rgb(0, 0, 255)",
          "width": 5
         },
         "mode": "lines",
         "type": "scatter3d",
         "x": [
          0.08979853805465277,
          0.46238668378938574,
          null
         ],
         "y": [
          0.11517688967203765,
          0.4878414457966992,
          null
         ],
         "z": [
          0.5362059518931337,
          0.19346491974768487,
          null
         ]
        },
        {
         "hoverinfo": "none",
         "line": {
          "color": "rgb(0, 0, 255)",
          "width": 5
         },
         "mode": "lines",
         "type": "scatter3d",
         "x": [
          0.08979853805465277,
          0.03906451389567933,
          null
         ],
         "y": [
          0.11517688967203765,
          0.37984994794387894,
          null
         ],
         "z": [
          0.5362059518931337,
          0.5025028229646553,
          null
         ]
        },
        {
         "hoverinfo": "none",
         "line": {
          "color": "rgb(0, 0, 255)",
          "width": 5
         },
         "mode": "lines",
         "type": "scatter3d",
         "x": [
          0.08979853805465277,
          0.18951941816325335,
          null
         ],
         "y": [
          0.11517688967203765,
          0.804942489366387,
          null
         ],
         "z": [
          0.5362059518931337,
          0.1784246572566579,
          null
         ]
        },
        {
         "hoverinfo": "none",
         "line": {
          "color": "rgb(0, 0, 255)",
          "width": 5
         },
         "mode": "lines",
         "type": "scatter3d",
         "x": [
          0.08979853805465277,
          0.23894397464478712,
          null
         ],
         "y": [
          0.11517688967203765,
          0.9881054822314761,
          null
         ],
         "z": [
          0.5362059518931337,
          0.34373504816486145,
          null
         ]
        },
        {
         "hoverinfo": "none",
         "line": {
          "color": "rgb(0, 0, 255)",
          "width": 5
         },
         "mode": "lines",
         "type": "scatter3d",
         "x": [
          0.08979853805465277,
          0.8278003373151289,
          null
         ],
         "y": [
          0.11517688967203765,
          0.47018702714547844,
          null
         ],
         "z": [
          0.5362059518931337,
          0.8494687495684636,
          null
         ]
        },
        {
         "hoverinfo": "none",
         "line": {
          "color": "rgb(0, 0, 255)",
          "width": 5
         },
         "mode": "lines",
         "type": "scatter3d",
         "x": [
          0.8846115600778559,
          0.03906451389567933,
          null
         ],
         "y": [
          0.3952338052393384,
          0.37984994794387894,
          null
         ],
         "z": [
          0.2566164712625396,
          0.5025028229646553,
          null
         ]
        },
        {
         "hoverinfo": "none",
         "line": {
          "color": "rgb(0, 0, 255)",
          "width": 5
         },
         "mode": "lines",
         "type": "scatter3d",
         "x": [
          0.8846115600778559,
          0.18951941816325335,
          null
         ],
         "y": [
          0.3952338052393384,
          0.804942489366387,
          null
         ],
         "z": [
          0.2566164712625396,
          0.1784246572566579,
          null
         ]
        },
        {
         "hoverinfo": "none",
         "line": {
          "color": "rgb(0, 0, 255)",
          "width": 5
         },
         "mode": "lines",
         "type": "scatter3d",
         "x": [
          0.8846115600778559,
          0.23894397464478712,
          null
         ],
         "y": [
          0.3952338052393384,
          0.9881054822314761,
          null
         ],
         "z": [
          0.2566164712625396,
          0.34373504816486145,
          null
         ]
        },
        {
         "hoverinfo": "none",
         "line": {
          "color": "rgb(0, 0, 255)",
          "width": 5
         },
         "mode": "lines",
         "type": "scatter3d",
         "x": [
          0.8846115600778559,
          0.824338903001674,
          null
         ],
         "y": [
          0.3952338052393384,
          0.31741615694187864,
          null
         ],
         "z": [
          0.2566164712625396,
          0.8089690911417335,
          null
         ]
        },
        {
         "hoverinfo": "none",
         "line": {
          "color": "rgb(0, 0, 255)",
          "width": 5
         },
         "mode": "lines",
         "type": "scatter3d",
         "x": [
          0.8846115600778559,
          0.3159587716503005,
          null
         ],
         "y": [
          0.3952338052393384,
          0.8977861472373965,
          null
         ],
         "z": [
          0.2566164712625396,
          0.7692387383115931,
          null
         ]
        },
        {
         "hoverinfo": "none",
         "line": {
          "color": "rgb(0, 0, 255)",
          "width": 5
         },
         "mode": "lines",
         "type": "scatter3d",
         "x": [
          0.8846115600778559,
          0.46238668378938574,
          null
         ],
         "y": [
          0.3952338052393384,
          0.4878414457966992,
          null
         ],
         "z": [
          0.2566164712625396,
          0.19346491974768487,
          null
         ]
        },
        {
         "hoverinfo": "none",
         "line": {
          "color": "rgb(0, 0, 255)",
          "width": 5
         },
         "mode": "lines",
         "type": "scatter3d",
         "x": [
          0.8846115600778559,
          0.6013938944089919,
          null
         ],
         "y": [
          0.3952338052393384,
          0.2961688462754798,
          null
         ],
         "z": [
          0.2566164712625396,
          0.9560610356234396,
          null
         ]
        },
        {
         "hoverinfo": "none",
         "line": {
          "color": "rgb(0, 0, 255)",
          "width": 5
         },
         "mode": "lines",
         "type": "scatter3d",
         "x": [
          0.8846115600778559,
          0.8278003373151289,
          null
         ],
         "y": [
          0.3952338052393384,
          0.47018702714547844,
          null
         ],
         "z": [
          0.2566164712625396,
          0.8494687495684636,
          null
         ]
        },
        {
         "hoverinfo": "none",
         "line": {
          "color": "rgb(0, 0, 255)",
          "width": 5
         },
         "mode": "lines",
         "type": "scatter3d",
         "x": [
          0.46238668378938574,
          0.18951941816325335,
          null
         ],
         "y": [
          0.4878414457966992,
          0.804942489366387,
          null
         ],
         "z": [
          0.19346491974768487,
          0.1784246572566579,
          null
         ]
        },
        {
         "hoverinfo": "none",
         "line": {
          "color": "rgb(0, 0, 255)",
          "width": 5
         },
         "mode": "lines",
         "type": "scatter3d",
         "x": [
          0.46238668378938574,
          0.6013938944089919,
          null
         ],
         "y": [
          0.4878414457966992,
          0.2961688462754798,
          null
         ],
         "z": [
          0.19346491974768487,
          0.9560610356234396,
          null
         ]
        },
        {
         "hoverinfo": "none",
         "line": {
          "color": "rgb(0, 0, 255)",
          "width": 5
         },
         "mode": "lines",
         "type": "scatter3d",
         "x": [
          0.46238668378938574,
          0.824338903001674,
          null
         ],
         "y": [
          0.4878414457966992,
          0.31741615694187864,
          null
         ],
         "z": [
          0.19346491974768487,
          0.8089690911417335,
          null
         ]
        },
        {
         "hoverinfo": "none",
         "line": {
          "color": "rgb(0, 0, 255)",
          "width": 5
         },
         "mode": "lines",
         "type": "scatter3d",
         "x": [
          0.46238668378938574,
          0.3159587716503005,
          null
         ],
         "y": [
          0.4878414457966992,
          0.8977861472373965,
          null
         ],
         "z": [
          0.19346491974768487,
          0.7692387383115931,
          null
         ]
        },
        {
         "hoverinfo": "none",
         "line": {
          "color": "rgb(0, 0, 255)",
          "width": 5
         },
         "mode": "lines",
         "type": "scatter3d",
         "x": [
          0.46238668378938574,
          0.03906451389567933,
          null
         ],
         "y": [
          0.4878414457966992,
          0.37984994794387894,
          null
         ],
         "z": [
          0.19346491974768487,
          0.5025028229646553,
          null
         ]
        },
        {
         "hoverinfo": "none",
         "line": {
          "color": "rgb(0, 0, 255)",
          "width": 5
         },
         "mode": "lines",
         "type": "scatter3d",
         "x": [
          0.46238668378938574,
          0.23894397464478712,
          null
         ],
         "y": [
          0.4878414457966992,
          0.9881054822314761,
          null
         ],
         "z": [
          0.19346491974768487,
          0.34373504816486145,
          null
         ]
        },
        {
         "hoverinfo": "none",
         "line": {
          "color": "rgb(0, 0, 255)",
          "width": 5
         },
         "mode": "lines",
         "type": "scatter3d",
         "x": [
          0.46238668378938574,
          0.8278003373151289,
          null
         ],
         "y": [
          0.4878414457966992,
          0.47018702714547844,
          null
         ],
         "z": [
          0.19346491974768487,
          0.8494687495684636,
          null
         ]
        },
        {
         "hoverinfo": "none",
         "line": {
          "color": "rgb(0, 0, 255)",
          "width": 5
         },
         "mode": "lines",
         "type": "scatter3d",
         "x": [
          0.3159587716503005,
          0.824338903001674,
          null
         ],
         "y": [
          0.8977861472373965,
          0.31741615694187864,
          null
         ],
         "z": [
          0.7692387383115931,
          0.8089690911417335,
          null
         ]
        },
        {
         "hoverinfo": "none",
         "line": {
          "color": "rgb(0, 0, 255)",
          "width": 5
         },
         "mode": "lines",
         "type": "scatter3d",
         "x": [
          0.3159587716503005,
          0.03906451389567933,
          null
         ],
         "y": [
          0.8977861472373965,
          0.37984994794387894,
          null
         ],
         "z": [
          0.7692387383115931,
          0.5025028229646553,
          null
         ]
        },
        {
         "hoverinfo": "none",
         "line": {
          "color": "rgb(0, 0, 255)",
          "width": 5
         },
         "mode": "lines",
         "type": "scatter3d",
         "x": [
          0.3159587716503005,
          0.6013938944089919,
          null
         ],
         "y": [
          0.8977861472373965,
          0.2961688462754798,
          null
         ],
         "z": [
          0.7692387383115931,
          0.9560610356234396,
          null
         ]
        },
        {
         "hoverinfo": "none",
         "line": {
          "color": "rgb(0, 0, 255)",
          "width": 5
         },
         "mode": "lines",
         "type": "scatter3d",
         "x": [
          0.3159587716503005,
          0.23894397464478712,
          null
         ],
         "y": [
          0.8977861472373965,
          0.9881054822314761,
          null
         ],
         "z": [
          0.7692387383115931,
          0.34373504816486145,
          null
         ]
        },
        {
         "hoverinfo": "none",
         "line": {
          "color": "rgb(0, 0, 255)",
          "width": 5
         },
         "mode": "lines",
         "type": "scatter3d",
         "x": [
          0.3159587716503005,
          0.18951941816325335,
          null
         ],
         "y": [
          0.8977861472373965,
          0.804942489366387,
          null
         ],
         "z": [
          0.7692387383115931,
          0.1784246572566579,
          null
         ]
        },
        {
         "hoverinfo": "none",
         "line": {
          "color": "rgb(0, 0, 255)",
          "width": 5
         },
         "mode": "lines",
         "type": "scatter3d",
         "x": [
          0.3159587716503005,
          0.8278003373151289,
          null
         ],
         "y": [
          0.8977861472373965,
          0.47018702714547844,
          null
         ],
         "z": [
          0.7692387383115931,
          0.8494687495684636,
          null
         ]
        },
        {
         "hoverinfo": "none",
         "line": {
          "color": "rgb(0, 0, 255)",
          "width": 5
         },
         "mode": "lines",
         "type": "scatter3d",
         "x": [
          0.18951941816325335,
          0.6013938944089919,
          null
         ],
         "y": [
          0.804942489366387,
          0.2961688462754798,
          null
         ],
         "z": [
          0.1784246572566579,
          0.9560610356234396,
          null
         ]
        },
        {
         "hoverinfo": "none",
         "line": {
          "color": "rgb(0, 0, 255)",
          "width": 5
         },
         "mode": "lines",
         "type": "scatter3d",
         "x": [
          0.18951941816325335,
          0.824338903001674,
          null
         ],
         "y": [
          0.804942489366387,
          0.31741615694187864,
          null
         ],
         "z": [
          0.1784246572566579,
          0.8089690911417335,
          null
         ]
        },
        {
         "hoverinfo": "none",
         "line": {
          "color": "rgb(0, 0, 255)",
          "width": 5
         },
         "mode": "lines",
         "type": "scatter3d",
         "x": [
          0.18951941816325335,
          0.03906451389567933,
          null
         ],
         "y": [
          0.804942489366387,
          0.37984994794387894,
          null
         ],
         "z": [
          0.1784246572566579,
          0.5025028229646553,
          null
         ]
        },
        {
         "hoverinfo": "none",
         "line": {
          "color": "rgb(0, 0, 255)",
          "width": 5
         },
         "mode": "lines",
         "type": "scatter3d",
         "x": [
          0.18951941816325335,
          0.23894397464478712,
          null
         ],
         "y": [
          0.804942489366387,
          0.9881054822314761,
          null
         ],
         "z": [
          0.1784246572566579,
          0.34373504816486145,
          null
         ]
        },
        {
         "hoverinfo": "none",
         "line": {
          "color": "rgb(0, 0, 255)",
          "width": 5
         },
         "mode": "lines",
         "type": "scatter3d",
         "x": [
          0.18951941816325335,
          0.8278003373151289,
          null
         ],
         "y": [
          0.804942489366387,
          0.47018702714547844,
          null
         ],
         "z": [
          0.1784246572566579,
          0.8494687495684636,
          null
         ]
        },
        {
         "hoverinfo": "none",
         "line": {
          "color": "rgb(0, 0, 255)",
          "width": 5
         },
         "mode": "lines",
         "type": "scatter3d",
         "x": [
          0.824338903001674,
          0.8278003373151289,
          null
         ],
         "y": [
          0.31741615694187864,
          0.47018702714547844,
          null
         ],
         "z": [
          0.8089690911417335,
          0.8494687495684636,
          null
         ]
        },
        {
         "hoverinfo": "none",
         "line": {
          "color": "rgb(0, 0, 255)",
          "width": 5
         },
         "mode": "lines",
         "type": "scatter3d",
         "x": [
          0.824338903001674,
          0.23894397464478712,
          null
         ],
         "y": [
          0.31741615694187864,
          0.9881054822314761,
          null
         ],
         "z": [
          0.8089690911417335,
          0.34373504816486145,
          null
         ]
        },
        {
         "hoverinfo": "none",
         "line": {
          "color": "rgb(0, 0, 255)",
          "width": 5
         },
         "mode": "lines",
         "type": "scatter3d",
         "x": [
          0.824338903001674,
          0.03906451389567933,
          null
         ],
         "y": [
          0.31741615694187864,
          0.37984994794387894,
          null
         ],
         "z": [
          0.8089690911417335,
          0.5025028229646553,
          null
         ]
        },
        {
         "hoverinfo": "none",
         "line": {
          "color": "rgb(0, 0, 255)",
          "width": 5
         },
         "mode": "lines",
         "type": "scatter3d",
         "x": [
          0.824338903001674,
          0.6013938944089919,
          null
         ],
         "y": [
          0.31741615694187864,
          0.2961688462754798,
          null
         ],
         "z": [
          0.8089690911417335,
          0.9560610356234396,
          null
         ]
        },
        {
         "hoverinfo": "none",
         "line": {
          "color": "rgb(0, 0, 255)",
          "width": 5
         },
         "mode": "lines",
         "type": "scatter3d",
         "x": [
          0.23894397464478712,
          0.03906451389567933,
          null
         ],
         "y": [
          0.9881054822314761,
          0.37984994794387894,
          null
         ],
         "z": [
          0.34373504816486145,
          0.5025028229646553,
          null
         ]
        },
        {
         "hoverinfo": "none",
         "line": {
          "color": "rgb(0, 0, 255)",
          "width": 5
         },
         "mode": "lines",
         "type": "scatter3d",
         "x": [
          0.23894397464478712,
          0.6013938944089919,
          null
         ],
         "y": [
          0.9881054822314761,
          0.2961688462754798,
          null
         ],
         "z": [
          0.34373504816486145,
          0.9560610356234396,
          null
         ]
        },
        {
         "hoverinfo": "none",
         "line": {
          "color": "rgb(0, 0, 255)",
          "width": 5
         },
         "mode": "lines",
         "type": "scatter3d",
         "x": [
          0.23894397464478712,
          0.8278003373151289,
          null
         ],
         "y": [
          0.9881054822314761,
          0.47018702714547844,
          null
         ],
         "z": [
          0.34373504816486145,
          0.8494687495684636,
          null
         ]
        },
        {
         "hoverinfo": "none",
         "line": {
          "color": "rgb(0, 0, 255)",
          "width": 5
         },
         "mode": "lines",
         "type": "scatter3d",
         "x": [
          0.8278003373151289,
          0.03906451389567933,
          null
         ],
         "y": [
          0.47018702714547844,
          0.37984994794387894,
          null
         ],
         "z": [
          0.8494687495684636,
          0.5025028229646553,
          null
         ]
        },
        {
         "hoverinfo": "none",
         "line": {
          "color": "rgb(255, 0, 0)",
          "width": 5
         },
         "mode": "lines",
         "type": "scatter3d",
         "x": [
          0.8278003373151289,
          0.6013938944089919,
          null
         ],
         "y": [
          0.47018702714547844,
          0.2961688462754798,
          null
         ],
         "z": [
          0.8494687495684636,
          0.9560610356234396,
          null
         ]
        },
        {
         "hoverinfo": "none",
         "line": {
          "color": "rgb(0, 0, 255)",
          "width": 5
         },
         "mode": "lines",
         "type": "scatter3d",
         "x": [
          0.6013938944089919,
          0.03906451389567933,
          null
         ],
         "y": [
          0.2961688462754798,
          0.37984994794387894,
          null
         ],
         "z": [
          0.9560610356234396,
          0.5025028229646553,
          null
         ]
        },
        {
         "hoverinfo": "text",
         "marker": {
          "color": "black",
          "size": 7
         },
         "mode": "markers",
         "text": [
          "0",
          "1",
          "2",
          "3",
          "4",
          "5",
          "6",
          "7",
          "8",
          "9",
          "10",
          "11",
          "12",
          "13",
          "14",
          "15",
          "16",
          "17",
          "18",
          "19",
          "20",
          "21",
          "22",
          "23",
          "24",
          "25",
          "26",
          "27",
          "28",
          "29",
          "30",
          "31",
          "32",
          "33",
          "34",
          "35",
          "36",
          "37",
          "38",
          "39",
          "40"
         ],
         "type": "scatter3d",
         "x": [
          0.17684122974145522,
          0.40597253339642503,
          0.159705510813122,
          0.5572191006574577,
          0.175630892058098,
          0.24678959560492042,
          0.3956114020483199,
          0.6000505679940695,
          0.3131617516106092,
          0.6485556786833006,
          0.6278722450283405,
          0.10292675754892944,
          0.3305595813403315,
          0.23814668161186947,
          0.25654088749065107,
          0.14607923745292672,
          0.184964329130757,
          0.9699700614387495,
          0.12456165275006392,
          0.04318037794291141,
          0.22277704215464977,
          0.13384005872767057,
          0.09321474737024749,
          0.43998310713795974,
          0.08979853805465277,
          0.6160120472018736,
          0.25746963441502735,
          0.7156381401885245,
          0.8846115600778559,
          0.46238668378938574,
          0.3159587716503005,
          0.0020961800128793673,
          0.18951941816325335,
          0.824338903001674,
          0.05656303990877831,
          0.23894397464478712,
          0.8278003373151289,
          0.8840542075099436,
          0.6013938944089919,
          0.84379646846613,
          0.03906451389567933
         ],
         "y": [
          0.7449342920069117,
          0.964359656513538,
          0.068570921812808,
          0.5509995770623255,
          0.1691763875316652,
          0.19820444889433586,
          0.6364703051252677,
          0.9176086362736051,
          0.38320630629195906,
          0.5941013836759177,
          0.7282895108132108,
          0.5497581512050724,
          0.9655972929797423,
          0.1805142741524337,
          0.3709849796579817,
          0.5350300121864997,
          0.36275396928501125,
          0.20259518425458156,
          0.9453693551528699,
          0.25124693611372284,
          0.9520862997574703,
          0.46627961988713396,
          0.5502629330762029,
          0.17941744936667625,
          0.11517688967203765,
          0.6751309008543008,
          0.6911472074990902,
          0.9324899251742171,
          0.3952338052393384,
          0.4878414457966992,
          0.8977861472373965,
          0.20416064639861753,
          0.804942489366387,
          0.31741615694187864,
          0.6681918907590679,
          0.9881054822314761,
          0.47018702714547844,
          0.20727130662312487,
          0.2961688462754798,
          0.002075800849589804,
          0.37984994794387894
         ],
         "z": [
          0.645825047189398,
          0.2815304173698949,
          0.8436562826122104,
          0.07919973774265376,
          0.6872873523822591,
          0.050446964205453804,
          0.3208927100101542,
          0.887602588878502,
          0.3261309880058664,
          0.8653672300323781,
          0.907723259180013,
          0.5367085597217629,
          0.4378259863554106,
          0.6272981794188904,
          0.5451900504813074,
          0.9444009250785079,
          0.37673309129093446,
          0.0314414668969778,
          0.8101078325417347,
          0.9492857761376863,
          0.07487479713831424,
          0.24283289137663255,
          0.8607032312869579,
          0.2687780477487852,
          0.5362059518931337,
          0.8527552506937373,
          0.42246855494446944,
          0.636949758504706,
          0.2566164712625396,
          0.19346491974768487,
          0.7692387383115931,
          0.2034377811090603,
          0.1784246572566579,
          0.8089690911417335,
          0.5862619769864605,
          0.34373504816486145,
          0.8494687495684636,
          0.02993648451571096,
          0.9560610356234396,
          0.6596692054086002,
          0.5025028229646553
         ]
        }
       ],
       "layout": {
        "height": 800,
        "scene": {
         "xaxis": {
          "showbackground": false
         },
         "yaxis": {
          "showbackground": false
         },
         "zaxis": {
          "showbackground": false
         }
        },
        "showlegend": false,
        "template": {
         "data": {
          "bar": [
           {
            "error_x": {
             "color": "#2a3f5f"
            },
            "error_y": {
             "color": "#2a3f5f"
            },
            "marker": {
             "line": {
              "color": "#E5ECF6",
              "width": 0.5
             },
             "pattern": {
              "fillmode": "overlay",
              "size": 10,
              "solidity": 0.2
             }
            },
            "type": "bar"
           }
          ],
          "barpolar": [
           {
            "marker": {
             "line": {
              "color": "#E5ECF6",
              "width": 0.5
             },
             "pattern": {
              "fillmode": "overlay",
              "size": 10,
              "solidity": 0.2
             }
            },
            "type": "barpolar"
           }
          ],
          "carpet": [
           {
            "aaxis": {
             "endlinecolor": "#2a3f5f",
             "gridcolor": "white",
             "linecolor": "white",
             "minorgridcolor": "white",
             "startlinecolor": "#2a3f5f"
            },
            "baxis": {
             "endlinecolor": "#2a3f5f",
             "gridcolor": "white",
             "linecolor": "white",
             "minorgridcolor": "white",
             "startlinecolor": "#2a3f5f"
            },
            "type": "carpet"
           }
          ],
          "choropleth": [
           {
            "colorbar": {
             "outlinewidth": 0,
             "ticks": ""
            },
            "type": "choropleth"
           }
          ],
          "contour": [
           {
            "colorbar": {
             "outlinewidth": 0,
             "ticks": ""
            },
            "colorscale": [
             [
              0,
              "#0d0887"
             ],
             [
              0.1111111111111111,
              "#46039f"
             ],
             [
              0.2222222222222222,
              "#7201a8"
             ],
             [
              0.3333333333333333,
              "#9c179e"
             ],
             [
              0.4444444444444444,
              "#bd3786"
             ],
             [
              0.5555555555555556,
              "#d8576b"
             ],
             [
              0.6666666666666666,
              "#ed7953"
             ],
             [
              0.7777777777777778,
              "#fb9f3a"
             ],
             [
              0.8888888888888888,
              "#fdca26"
             ],
             [
              1,
              "#f0f921"
             ]
            ],
            "type": "contour"
           }
          ],
          "contourcarpet": [
           {
            "colorbar": {
             "outlinewidth": 0,
             "ticks": ""
            },
            "type": "contourcarpet"
           }
          ],
          "heatmap": [
           {
            "colorbar": {
             "outlinewidth": 0,
             "ticks": ""
            },
            "colorscale": [
             [
              0,
              "#0d0887"
             ],
             [
              0.1111111111111111,
              "#46039f"
             ],
             [
              0.2222222222222222,
              "#7201a8"
             ],
             [
              0.3333333333333333,
              "#9c179e"
             ],
             [
              0.4444444444444444,
              "#bd3786"
             ],
             [
              0.5555555555555556,
              "#d8576b"
             ],
             [
              0.6666666666666666,
              "#ed7953"
             ],
             [
              0.7777777777777778,
              "#fb9f3a"
             ],
             [
              0.8888888888888888,
              "#fdca26"
             ],
             [
              1,
              "#f0f921"
             ]
            ],
            "type": "heatmap"
           }
          ],
          "heatmapgl": [
           {
            "colorbar": {
             "outlinewidth": 0,
             "ticks": ""
            },
            "colorscale": [
             [
              0,
              "#0d0887"
             ],
             [
              0.1111111111111111,
              "#46039f"
             ],
             [
              0.2222222222222222,
              "#7201a8"
             ],
             [
              0.3333333333333333,
              "#9c179e"
             ],
             [
              0.4444444444444444,
              "#bd3786"
             ],
             [
              0.5555555555555556,
              "#d8576b"
             ],
             [
              0.6666666666666666,
              "#ed7953"
             ],
             [
              0.7777777777777778,
              "#fb9f3a"
             ],
             [
              0.8888888888888888,
              "#fdca26"
             ],
             [
              1,
              "#f0f921"
             ]
            ],
            "type": "heatmapgl"
           }
          ],
          "histogram": [
           {
            "marker": {
             "pattern": {
              "fillmode": "overlay",
              "size": 10,
              "solidity": 0.2
             }
            },
            "type": "histogram"
           }
          ],
          "histogram2d": [
           {
            "colorbar": {
             "outlinewidth": 0,
             "ticks": ""
            },
            "colorscale": [
             [
              0,
              "#0d0887"
             ],
             [
              0.1111111111111111,
              "#46039f"
             ],
             [
              0.2222222222222222,
              "#7201a8"
             ],
             [
              0.3333333333333333,
              "#9c179e"
             ],
             [
              0.4444444444444444,
              "#bd3786"
             ],
             [
              0.5555555555555556,
              "#d8576b"
             ],
             [
              0.6666666666666666,
              "#ed7953"
             ],
             [
              0.7777777777777778,
              "#fb9f3a"
             ],
             [
              0.8888888888888888,
              "#fdca26"
             ],
             [
              1,
              "#f0f921"
             ]
            ],
            "type": "histogram2d"
           }
          ],
          "histogram2dcontour": [
           {
            "colorbar": {
             "outlinewidth": 0,
             "ticks": ""
            },
            "colorscale": [
             [
              0,
              "#0d0887"
             ],
             [
              0.1111111111111111,
              "#46039f"
             ],
             [
              0.2222222222222222,
              "#7201a8"
             ],
             [
              0.3333333333333333,
              "#9c179e"
             ],
             [
              0.4444444444444444,
              "#bd3786"
             ],
             [
              0.5555555555555556,
              "#d8576b"
             ],
             [
              0.6666666666666666,
              "#ed7953"
             ],
             [
              0.7777777777777778,
              "#fb9f3a"
             ],
             [
              0.8888888888888888,
              "#fdca26"
             ],
             [
              1,
              "#f0f921"
             ]
            ],
            "type": "histogram2dcontour"
           }
          ],
          "mesh3d": [
           {
            "colorbar": {
             "outlinewidth": 0,
             "ticks": ""
            },
            "type": "mesh3d"
           }
          ],
          "parcoords": [
           {
            "line": {
             "colorbar": {
              "outlinewidth": 0,
              "ticks": ""
             }
            },
            "type": "parcoords"
           }
          ],
          "pie": [
           {
            "automargin": true,
            "type": "pie"
           }
          ],
          "scatter": [
           {
            "fillpattern": {
             "fillmode": "overlay",
             "size": 10,
             "solidity": 0.2
            },
            "type": "scatter"
           }
          ],
          "scatter3d": [
           {
            "line": {
             "colorbar": {
              "outlinewidth": 0,
              "ticks": ""
             }
            },
            "marker": {
             "colorbar": {
              "outlinewidth": 0,
              "ticks": ""
             }
            },
            "type": "scatter3d"
           }
          ],
          "scattercarpet": [
           {
            "marker": {
             "colorbar": {
              "outlinewidth": 0,
              "ticks": ""
             }
            },
            "type": "scattercarpet"
           }
          ],
          "scattergeo": [
           {
            "marker": {
             "colorbar": {
              "outlinewidth": 0,
              "ticks": ""
             }
            },
            "type": "scattergeo"
           }
          ],
          "scattergl": [
           {
            "marker": {
             "colorbar": {
              "outlinewidth": 0,
              "ticks": ""
             }
            },
            "type": "scattergl"
           }
          ],
          "scattermapbox": [
           {
            "marker": {
             "colorbar": {
              "outlinewidth": 0,
              "ticks": ""
             }
            },
            "type": "scattermapbox"
           }
          ],
          "scatterpolar": [
           {
            "marker": {
             "colorbar": {
              "outlinewidth": 0,
              "ticks": ""
             }
            },
            "type": "scatterpolar"
           }
          ],
          "scatterpolargl": [
           {
            "marker": {
             "colorbar": {
              "outlinewidth": 0,
              "ticks": ""
             }
            },
            "type": "scatterpolargl"
           }
          ],
          "scatterternary": [
           {
            "marker": {
             "colorbar": {
              "outlinewidth": 0,
              "ticks": ""
             }
            },
            "type": "scatterternary"
           }
          ],
          "surface": [
           {
            "colorbar": {
             "outlinewidth": 0,
             "ticks": ""
            },
            "colorscale": [
             [
              0,
              "#0d0887"
             ],
             [
              0.1111111111111111,
              "#46039f"
             ],
             [
              0.2222222222222222,
              "#7201a8"
             ],
             [
              0.3333333333333333,
              "#9c179e"
             ],
             [
              0.4444444444444444,
              "#bd3786"
             ],
             [
              0.5555555555555556,
              "#d8576b"
             ],
             [
              0.6666666666666666,
              "#ed7953"
             ],
             [
              0.7777777777777778,
              "#fb9f3a"
             ],
             [
              0.8888888888888888,
              "#fdca26"
             ],
             [
              1,
              "#f0f921"
             ]
            ],
            "type": "surface"
           }
          ],
          "table": [
           {
            "cells": {
             "fill": {
              "color": "#EBF0F8"
             },
             "line": {
              "color": "white"
             }
            },
            "header": {
             "fill": {
              "color": "#C8D4E3"
             },
             "line": {
              "color": "white"
             }
            },
            "type": "table"
           }
          ]
         },
         "layout": {
          "annotationdefaults": {
           "arrowcolor": "#2a3f5f",
           "arrowhead": 0,
           "arrowwidth": 1
          },
          "autotypenumbers": "strict",
          "coloraxis": {
           "colorbar": {
            "outlinewidth": 0,
            "ticks": ""
           }
          },
          "colorscale": {
           "diverging": [
            [
             0,
             "#8e0152"
            ],
            [
             0.1,
             "#c51b7d"
            ],
            [
             0.2,
             "#de77ae"
            ],
            [
             0.3,
             "#f1b6da"
            ],
            [
             0.4,
             "#fde0ef"
            ],
            [
             0.5,
             "#f7f7f7"
            ],
            [
             0.6,
             "#e6f5d0"
            ],
            [
             0.7,
             "#b8e186"
            ],
            [
             0.8,
             "#7fbc41"
            ],
            [
             0.9,
             "#4d9221"
            ],
            [
             1,
             "#276419"
            ]
           ],
           "sequential": [
            [
             0,
             "#0d0887"
            ],
            [
             0.1111111111111111,
             "#46039f"
            ],
            [
             0.2222222222222222,
             "#7201a8"
            ],
            [
             0.3333333333333333,
             "#9c179e"
            ],
            [
             0.4444444444444444,
             "#bd3786"
            ],
            [
             0.5555555555555556,
             "#d8576b"
            ],
            [
             0.6666666666666666,
             "#ed7953"
            ],
            [
             0.7777777777777778,
             "#fb9f3a"
            ],
            [
             0.8888888888888888,
             "#fdca26"
            ],
            [
             1,
             "#f0f921"
            ]
           ],
           "sequentialminus": [
            [
             0,
             "#0d0887"
            ],
            [
             0.1111111111111111,
             "#46039f"
            ],
            [
             0.2222222222222222,
             "#7201a8"
            ],
            [
             0.3333333333333333,
             "#9c179e"
            ],
            [
             0.4444444444444444,
             "#bd3786"
            ],
            [
             0.5555555555555556,
             "#d8576b"
            ],
            [
             0.6666666666666666,
             "#ed7953"
            ],
            [
             0.7777777777777778,
             "#fb9f3a"
            ],
            [
             0.8888888888888888,
             "#fdca26"
            ],
            [
             1,
             "#f0f921"
            ]
           ]
          },
          "colorway": [
           "#636efa",
           "#EF553B",
           "#00cc96",
           "#ab63fa",
           "#FFA15A",
           "#19d3f3",
           "#FF6692",
           "#B6E880",
           "#FF97FF",
           "#FECB52"
          ],
          "font": {
           "color": "#2a3f5f"
          },
          "geo": {
           "bgcolor": "white",
           "lakecolor": "white",
           "landcolor": "#E5ECF6",
           "showlakes": true,
           "showland": true,
           "subunitcolor": "white"
          },
          "hoverlabel": {
           "align": "left"
          },
          "hovermode": "closest",
          "mapbox": {
           "style": "light"
          },
          "paper_bgcolor": "white",
          "plot_bgcolor": "#E5ECF6",
          "polar": {
           "angularaxis": {
            "gridcolor": "white",
            "linecolor": "white",
            "ticks": ""
           },
           "bgcolor": "#E5ECF6",
           "radialaxis": {
            "gridcolor": "white",
            "linecolor": "white",
            "ticks": ""
           }
          },
          "scene": {
           "xaxis": {
            "backgroundcolor": "#E5ECF6",
            "gridcolor": "white",
            "gridwidth": 2,
            "linecolor": "white",
            "showbackground": true,
            "ticks": "",
            "zerolinecolor": "white"
           },
           "yaxis": {
            "backgroundcolor": "#E5ECF6",
            "gridcolor": "white",
            "gridwidth": 2,
            "linecolor": "white",
            "showbackground": true,
            "ticks": "",
            "zerolinecolor": "white"
           },
           "zaxis": {
            "backgroundcolor": "#E5ECF6",
            "gridcolor": "white",
            "gridwidth": 2,
            "linecolor": "white",
            "showbackground": true,
            "ticks": "",
            "zerolinecolor": "white"
           }
          },
          "shapedefaults": {
           "line": {
            "color": "#2a3f5f"
           }
          },
          "ternary": {
           "aaxis": {
            "gridcolor": "white",
            "linecolor": "white",
            "ticks": ""
           },
           "baxis": {
            "gridcolor": "white",
            "linecolor": "white",
            "ticks": ""
           },
           "bgcolor": "#E5ECF6",
           "caxis": {
            "gridcolor": "white",
            "linecolor": "white",
            "ticks": ""
           }
          },
          "title": {
           "x": 0.05
          },
          "xaxis": {
           "automargin": true,
           "gridcolor": "white",
           "linecolor": "white",
           "ticks": "",
           "title": {
            "standoff": 15
           },
           "zerolinecolor": "white",
           "zerolinewidth": 2
          },
          "yaxis": {
           "automargin": true,
           "gridcolor": "white",
           "linecolor": "white",
           "ticks": "",
           "title": {
            "standoff": 15
           },
           "zerolinecolor": "white",
           "zerolinewidth": 2
          }
         }
        },
        "width": 800
       }
      }
     },
     "metadata": {},
     "output_type": "display_data"
    }
   ],
   "source": [
    "# re-collapse graph\n",
    "collapsed_G = nx.Graph()\n",
    "\n",
    "for i in range(len(coms)):\n",
    "    collapsed_G.add_node(i)\n",
    "\n",
    "hole_adjacent_edge_count = {}  # track the number of hole-adjacent edges between communities\n",
    "total_edge_count = {}\n",
    "\n",
    "# create a set of cycle edges based on the original node cycles\n",
    "cycle_edges = set()\n",
    "for cycle in big_rep_cycle_list1:\n",
    "    for i in range(len(cycle)):\n",
    "        u, v = cycle[i], cycle[(i + 1) % len(cycle)]\n",
    "        community_u = node_to_com_dict[u]\n",
    "        community_v = node_to_com_dict[v]\n",
    "        if community_u != community_v:\n",
    "            cycle_edges.add((community_u, community_v))\n",
    "            cycle_edges.add((community_v, community_u))\n",
    "\n",
    "# add the edges between communities\n",
    "for u, v in G.edges():\n",
    "    community_u = node_to_com_dict[u]\n",
    "    community_v = node_to_com_dict[v]\n",
    "    if community_u != community_v:\n",
    "        if collapsed_G.has_edge(community_u, community_v):\n",
    "            collapsed_G[community_u][community_v]['weight'] += 1\n",
    "        else:\n",
    "            collapsed_G.add_edge(community_u, community_v, weight=1)\n",
    "        \n",
    "        if (community_u, community_v) not in total_edge_count:\n",
    "            total_edge_count[(community_u, community_v)] = 0\n",
    "            hole_adjacent_edge_count[(community_u, community_v)] = 0\n",
    "        \n",
    "        total_edge_count[(community_u, community_v)] += 1\n",
    "        \n",
    "        if (community_u, community_v) in cycle_edges or (community_v, community_u) in cycle_edges:\n",
    "            hole_adjacent_edge_count[(community_u, community_v)] += 1\n",
    "\n",
    "# get proportions of hole-adjacency for color gradient\n",
    "edge_proportions = {edge: hole_adjacent_edge_count[edge] / total_edge_count[edge] for edge in total_edge_count}\n",
    "#randomly position nodes in 3d space\n",
    "pos = {i: (np.random.random(), np.random.random(), np.random.random()) for i in collapsed_G.nodes}\n",
    "\n",
    "# do edge traces\n",
    "edge_trace = []\n",
    "for edge in collapsed_G.edges():\n",
    "    x0, y0, z0 = pos[edge[0]]\n",
    "    x1, y1, z1 = pos[edge[1]]\n",
    "    proportion = edge_proportions.get(edge, 0)\n",
    "    color = f'rgb({int(255 * (1 - proportion))}, 0, {int(255 * proportion)})'\n",
    "    \n",
    "    edge_trace.append(go.Scatter3d(\n",
    "        x=[x0, x1, None],\n",
    "        y=[y0, y1, None],\n",
    "        z=[z0, z1, None],\n",
    "        line=dict(width=5, color=color),\n",
    "        hoverinfo='none',\n",
    "        mode='lines'\n",
    "    ))\n",
    "\n",
    "non_cycle_edge_count = len([e for e in collapsed_G.edges() if e not in cycle_edges and (e[1], e[0]) not in cycle_edges])\n",
    "print(f\"Number of edges not part of any cycle: {non_cycle_edge_count}\")\n",
    "\n",
    "# do node traces\n",
    "node_trace = go.Scatter3d(\n",
    "    x=[pos[node][0] for node in collapsed_G.nodes()],\n",
    "    y=[pos[node][1] for node in collapsed_G.nodes()],\n",
    "    z=[pos[node][2] for node in collapsed_G.nodes()],\n",
    "    mode='markers',\n",
    "    marker=dict(\n",
    "        size=7,\n",
    "        color='black',\n",
    "    ),\n",
    "    text=list(collapsed_G.nodes()),\n",
    "    hoverinfo='text'\n",
    ")\n",
    "\n",
    "\n",
    "layout = go.Layout(\n",
    "    width=800,\n",
    "    height=800,\n",
    "    showlegend=False,\n",
    "    scene=dict(\n",
    "        xaxis=dict(showbackground=False),\n",
    "        yaxis=dict(showbackground=False),\n",
    "        zaxis=dict(showbackground=False)\n",
    "    ),\n",
    ")\n",
    "\n",
    "fig = go.Figure(data=edge_trace + [node_trace], layout=layout)\n",
    "fig.show()"
   ]
  },
  {
   "cell_type": "markdown",
   "metadata": {},
   "source": [
    "### Gradient, unweighted"
   ]
  },
  {
   "cell_type": "code",
   "execution_count": 6,
   "metadata": {},
   "outputs": [
    {
     "name": "stdout",
     "output_type": "stream",
     "text": [
      "Number of edges not part of any cycle: 5 (1.02%)\n",
      "Number of edges part of a cycle: 486 (98.98%)\n"
     ]
    },
    {
     "data": {
      "application/vnd.plotly.v1+json": {
       "config": {
        "plotlyServerURL": "https://plot.ly"
       },
       "data": [
        {
         "hoverinfo": "none",
         "line": {
          "color": "rgb(163, 0, 91)",
          "width": 5
         },
         "mode": "lines",
         "type": "scatter3d",
         "x": [
          0.6180896727572683,
          0.8835839599329588,
          null
         ],
         "y": [
          0.7247253437959559,
          0.4956555722359278,
          null
         ],
         "z": [
          0.9661783936187667,
          0.36789989564170444,
          null
         ]
        },
        {
         "hoverinfo": "none",
         "line": {
          "color": "rgb(155, 0, 99)",
          "width": 5
         },
         "mode": "lines",
         "type": "scatter3d",
         "x": [
          0.6180896727572683,
          0.7169225457714316,
          null
         ],
         "y": [
          0.7247253437959559,
          0.563633625071583,
          null
         ],
         "z": [
          0.9661783936187667,
          0.6996907251809341,
          null
         ]
        },
        {
         "hoverinfo": "none",
         "line": {
          "color": "rgb(205, 0, 49)",
          "width": 5
         },
         "mode": "lines",
         "type": "scatter3d",
         "x": [
          0.6180896727572683,
          0.22863149952659056,
          null
         ],
         "y": [
          0.7247253437959559,
          0.1360954571460199,
          null
         ],
         "z": [
          0.9661783936187667,
          0.2898998635484975,
          null
         ]
        },
        {
         "hoverinfo": "none",
         "line": {
          "color": "rgb(204, 0, 51)",
          "width": 5
         },
         "mode": "lines",
         "type": "scatter3d",
         "x": [
          0.6180896727572683,
          0.501679709804501,
          null
         ],
         "y": [
          0.7247253437959559,
          0.6509351921205243,
          null
         ],
         "z": [
          0.9661783936187667,
          0.2557420715252684,
          null
         ]
        },
        {
         "hoverinfo": "none",
         "line": {
          "color": "rgb(204, 0, 50)",
          "width": 5
         },
         "mode": "lines",
         "type": "scatter3d",
         "x": [
          0.6180896727572683,
          0.0732515794519838,
          null
         ],
         "y": [
          0.7247253437959559,
          0.8701923673251484,
          null
         ],
         "z": [
          0.9661783936187667,
          0.6045679369860963,
          null
         ]
        },
        {
         "hoverinfo": "none",
         "line": {
          "color": "rgb(156, 0, 98)",
          "width": 5
         },
         "mode": "lines",
         "type": "scatter3d",
         "x": [
          0.6180896727572683,
          0.9899933823406909,
          null
         ],
         "y": [
          0.7247253437959559,
          0.8116762984959474,
          null
         ],
         "z": [
          0.9661783936187667,
          0.5529538225168266,
          null
         ]
        },
        {
         "hoverinfo": "none",
         "line": {
          "color": "rgb(172, 0, 82)",
          "width": 5
         },
         "mode": "lines",
         "type": "scatter3d",
         "x": [
          0.6180896727572683,
          0.45584553197330435,
          null
         ],
         "y": [
          0.7247253437959559,
          0.9314710267918207,
          null
         ],
         "z": [
          0.9661783936187667,
          0.08527216752661448,
          null
         ]
        },
        {
         "hoverinfo": "none",
         "line": {
          "color": "rgb(156, 0, 98)",
          "width": 5
         },
         "mode": "lines",
         "type": "scatter3d",
         "x": [
          0.6180896727572683,
          0.8875933025193696,
          null
         ],
         "y": [
          0.7247253437959559,
          0.6461442759851814,
          null
         ],
         "z": [
          0.9661783936187667,
          0.9798251546705374,
          null
         ]
        },
        {
         "hoverinfo": "none",
         "line": {
          "color": "rgb(167, 0, 87)",
          "width": 5
         },
         "mode": "lines",
         "type": "scatter3d",
         "x": [
          0.6180896727572683,
          0.7437209924748747,
          null
         ],
         "y": [
          0.7247253437959559,
          0.8749951168782174,
          null
         ],
         "z": [
          0.9661783936187667,
          0.55808725432422,
          null
         ]
        },
        {
         "hoverinfo": "none",
         "line": {
          "color": "rgb(178, 0, 76)",
          "width": 5
         },
         "mode": "lines",
         "type": "scatter3d",
         "x": [
          0.6180896727572683,
          0.6089646957224183,
          null
         ],
         "y": [
          0.7247253437959559,
          0.6955439464952691,
          null
         ],
         "z": [
          0.9661783936187667,
          0.5145541340751737,
          null
         ]
        },
        {
         "hoverinfo": "none",
         "line": {
          "color": "rgb(197, 0, 57)",
          "width": 5
         },
         "mode": "lines",
         "type": "scatter3d",
         "x": [
          0.6180896727572683,
          0.48420574600251587,
          null
         ],
         "y": [
          0.7247253437959559,
          0.035867271739588924,
          null
         ],
         "z": [
          0.9661783936187667,
          0.6379515540609895,
          null
         ]
        },
        {
         "hoverinfo": "none",
         "line": {
          "color": "rgb(149, 0, 105)",
          "width": 5
         },
         "mode": "lines",
         "type": "scatter3d",
         "x": [
          0.6180896727572683,
          0.09140198066542637,
          null
         ],
         "y": [
          0.7247253437959559,
          0.6872679974496188,
          null
         ],
         "z": [
          0.9661783936187667,
          0.5976164817951554,
          null
         ]
        },
        {
         "hoverinfo": "none",
         "line": {
          "color": "rgb(209, 0, 45)",
          "width": 5
         },
         "mode": "lines",
         "type": "scatter3d",
         "x": [
          0.6180896727572683,
          0.29814384455948917,
          null
         ],
         "y": [
          0.7247253437959559,
          0.913970498959155,
          null
         ],
         "z": [
          0.9661783936187667,
          0.5172810096882628,
          null
         ]
        },
        {
         "hoverinfo": "none",
         "line": {
          "color": "rgb(172, 0, 82)",
          "width": 5
         },
         "mode": "lines",
         "type": "scatter3d",
         "x": [
          0.6180896727572683,
          0.0033340205544437618,
          null
         ],
         "y": [
          0.7247253437959559,
          0.6742369240765245,
          null
         ],
         "z": [
          0.9661783936187667,
          0.762704950461619,
          null
         ]
        },
        {
         "hoverinfo": "none",
         "line": {
          "color": "rgb(134, 0, 120)",
          "width": 5
         },
         "mode": "lines",
         "type": "scatter3d",
         "x": [
          0.6180896727572683,
          0.029237130063550776,
          null
         ],
         "y": [
          0.7247253437959559,
          0.7177144516707746,
          null
         ],
         "z": [
          0.9661783936187667,
          0.93407367262807,
          null
         ]
        },
        {
         "hoverinfo": "none",
         "line": {
          "color": "rgb(158, 0, 96)",
          "width": 5
         },
         "mode": "lines",
         "type": "scatter3d",
         "x": [
          0.6180896727572683,
          0.5361898427486588,
          null
         ],
         "y": [
          0.7247253437959559,
          0.446524506641108,
          null
         ],
         "z": [
          0.9661783936187667,
          0.4974441913413167,
          null
         ]
        },
        {
         "hoverinfo": "none",
         "line": {
          "color": "rgb(153, 0, 101)",
          "width": 5
         },
         "mode": "lines",
         "type": "scatter3d",
         "x": [
          0.6180896727572683,
          0.9986539569111779,
          null
         ],
         "y": [
          0.7247253437959559,
          0.9070542677416487,
          null
         ],
         "z": [
          0.9661783936187667,
          0.9556434510807901,
          null
         ]
        },
        {
         "hoverinfo": "none",
         "line": {
          "color": "rgb(127, 0, 127)",
          "width": 5
         },
         "mode": "lines",
         "type": "scatter3d",
         "x": [
          0.6180896727572683,
          0.9089047824116294,
          null
         ],
         "y": [
          0.7247253437959559,
          0.8287590101380226,
          null
         ],
         "z": [
          0.9661783936187667,
          0.7249617247199894,
          null
         ]
        },
        {
         "hoverinfo": "none",
         "line": {
          "color": "rgb(159, 0, 95)",
          "width": 5
         },
         "mode": "lines",
         "type": "scatter3d",
         "x": [
          0.6180896727572683,
          0.31004702442921817,
          null
         ],
         "y": [
          0.7247253437959559,
          0.5137939230177281,
          null
         ],
         "z": [
          0.9661783936187667,
          0.2871275509685244,
          null
         ]
        },
        {
         "hoverinfo": "none",
         "line": {
          "color": "rgb(204, 0, 51)",
          "width": 5
         },
         "mode": "lines",
         "type": "scatter3d",
         "x": [
          0.6180896727572683,
          0.17431887442556093,
          null
         ],
         "y": [
          0.7247253437959559,
          0.21344233045675165,
          null
         ],
         "z": [
          0.9661783936187667,
          0.09606559522275948,
          null
         ]
        },
        {
         "hoverinfo": "none",
         "line": {
          "color": "rgb(160, 0, 94)",
          "width": 5
         },
         "mode": "lines",
         "type": "scatter3d",
         "x": [
          0.6180896727572683,
          0.9084567300505447,
          null
         ],
         "y": [
          0.7247253437959559,
          0.20255587063475755,
          null
         ],
         "z": [
          0.9661783936187667,
          0.20213503161541646,
          null
         ]
        },
        {
         "hoverinfo": "none",
         "line": {
          "color": "rgb(206, 0, 48)",
          "width": 5
         },
         "mode": "lines",
         "type": "scatter3d",
         "x": [
          0.6180896727572683,
          0.37714417234346076,
          null
         ],
         "y": [
          0.7247253437959559,
          0.46490286413331594,
          null
         ],
         "z": [
          0.9661783936187667,
          0.9050642221969447,
          null
         ]
        },
        {
         "hoverinfo": "none",
         "line": {
          "color": "rgb(143, 0, 111)",
          "width": 5
         },
         "mode": "lines",
         "type": "scatter3d",
         "x": [
          0.6180896727572683,
          0.9775739396952102,
          null
         ],
         "y": [
          0.7247253437959559,
          0.7566101111621105,
          null
         ],
         "z": [
          0.9661783936187667,
          0.7144959307654978,
          null
         ]
        },
        {
         "hoverinfo": "none",
         "line": {
          "color": "rgb(172, 0, 82)",
          "width": 5
         },
         "mode": "lines",
         "type": "scatter3d",
         "x": [
          0.6180896727572683,
          0.7617676881945405,
          null
         ],
         "y": [
          0.7247253437959559,
          0.08734622035716166,
          null
         ],
         "z": [
          0.9661783936187667,
          0.019985162604170492,
          null
         ]
        },
        {
         "hoverinfo": "none",
         "line": {
          "color": "rgb(185, 0, 69)",
          "width": 5
         },
         "mode": "lines",
         "type": "scatter3d",
         "x": [
          0.6180896727572683,
          0.3134365643404181,
          null
         ],
         "y": [
          0.7247253437959559,
          0.636682795833173,
          null
         ],
         "z": [
          0.9661783936187667,
          0.4307789375157499,
          null
         ]
        },
        {
         "hoverinfo": "none",
         "line": {
          "color": "rgb(127, 0, 127)",
          "width": 5
         },
         "mode": "lines",
         "type": "scatter3d",
         "x": [
          0.6180896727572683,
          0.7621712107473493,
          null
         ],
         "y": [
          0.7247253437959559,
          0.19617547662236412,
          null
         ],
         "z": [
          0.9661783936187667,
          0.6011715579787809,
          null
         ]
        },
        {
         "hoverinfo": "none",
         "line": {
          "color": "rgb(191, 0, 63)",
          "width": 5
         },
         "mode": "lines",
         "type": "scatter3d",
         "x": [
          0.6180896727572683,
          0.5130255378515045,
          null
         ],
         "y": [
          0.7247253437959559,
          0.40759952541878663,
          null
         ],
         "z": [
          0.9661783936187667,
          0.7089301009412372,
          null
         ]
        },
        {
         "hoverinfo": "none",
         "line": {
          "color": "rgb(139, 0, 115)",
          "width": 5
         },
         "mode": "lines",
         "type": "scatter3d",
         "x": [
          0.6180896727572683,
          0.12527795716484647,
          null
         ],
         "y": [
          0.7247253437959559,
          0.42590819470648056,
          null
         ],
         "z": [
          0.9661783936187667,
          0.22897111967207828,
          null
         ]
        },
        {
         "hoverinfo": "none",
         "line": {
          "color": "rgb(127, 0, 127)",
          "width": 5
         },
         "mode": "lines",
         "type": "scatter3d",
         "x": [
          0.6180896727572683,
          0.9180647184255689,
          null
         ],
         "y": [
          0.7247253437959559,
          0.11968927821121444,
          null
         ],
         "z": [
          0.9661783936187667,
          0.538659340691881,
          null
         ]
        },
        {
         "hoverinfo": "none",
         "line": {
          "color": "rgb(255, 0, 0)",
          "width": 5
         },
         "mode": "lines",
         "type": "scatter3d",
         "x": [
          0.6180896727572683,
          0.8051085491850144,
          null
         ],
         "y": [
          0.7247253437959559,
          0.49025408520097213,
          null
         ],
         "z": [
          0.9661783936187667,
          0.9234132190172856,
          null
         ]
        },
        {
         "hoverinfo": "none",
         "line": {
          "color": "rgb(146, 0, 108)",
          "width": 5
         },
         "mode": "lines",
         "type": "scatter3d",
         "x": [
          0.17431887442556093,
          0.8835839599329588,
          null
         ],
         "y": [
          0.21344233045675165,
          0.4956555722359278,
          null
         ],
         "z": [
          0.09606559522275948,
          0.36789989564170444,
          null
         ]
        },
        {
         "hoverinfo": "none",
         "line": {
          "color": "rgb(174, 0, 80)",
          "width": 5
         },
         "mode": "lines",
         "type": "scatter3d",
         "x": [
          0.17431887442556093,
          0.7617676881945405,
          null
         ],
         "y": [
          0.21344233045675165,
          0.08734622035716166,
          null
         ],
         "z": [
          0.09606559522275948,
          0.019985162604170492,
          null
         ]
        },
        {
         "hoverinfo": "none",
         "line": {
          "color": "rgb(191, 0, 63)",
          "width": 5
         },
         "mode": "lines",
         "type": "scatter3d",
         "x": [
          0.17431887442556093,
          0.45584553197330435,
          null
         ],
         "y": [
          0.21344233045675165,
          0.9314710267918207,
          null
         ],
         "z": [
          0.09606559522275948,
          0.08527216752661448,
          null
         ]
        },
        {
         "hoverinfo": "none",
         "line": {
          "color": "rgb(193, 0, 61)",
          "width": 5
         },
         "mode": "lines",
         "type": "scatter3d",
         "x": [
          0.17431887442556093,
          0.029237130063550776,
          null
         ],
         "y": [
          0.21344233045675165,
          0.7177144516707746,
          null
         ],
         "z": [
          0.09606559522275948,
          0.93407367262807,
          null
         ]
        },
        {
         "hoverinfo": "none",
         "line": {
          "color": "rgb(182, 0, 72)",
          "width": 5
         },
         "mode": "lines",
         "type": "scatter3d",
         "x": [
          0.17431887442556093,
          0.0033340205544437618,
          null
         ],
         "y": [
          0.21344233045675165,
          0.6742369240765245,
          null
         ],
         "z": [
          0.09606559522275948,
          0.762704950461619,
          null
         ]
        },
        {
         "hoverinfo": "none",
         "line": {
          "color": "rgb(210, 0, 44)",
          "width": 5
         },
         "mode": "lines",
         "type": "scatter3d",
         "x": [
          0.17431887442556093,
          0.6089646957224183,
          null
         ],
         "y": [
          0.21344233045675165,
          0.6955439464952691,
          null
         ],
         "z": [
          0.09606559522275948,
          0.5145541340751737,
          null
         ]
        },
        {
         "hoverinfo": "none",
         "line": {
          "color": "rgb(174, 0, 80)",
          "width": 5
         },
         "mode": "lines",
         "type": "scatter3d",
         "x": [
          0.17431887442556093,
          0.7437209924748747,
          null
         ],
         "y": [
          0.21344233045675165,
          0.8749951168782174,
          null
         ],
         "z": [
          0.09606559522275948,
          0.55808725432422,
          null
         ]
        },
        {
         "hoverinfo": "none",
         "line": {
          "color": "rgb(129, 0, 125)",
          "width": 5
         },
         "mode": "lines",
         "type": "scatter3d",
         "x": [
          0.17431887442556093,
          0.5361898427486588,
          null
         ],
         "y": [
          0.21344233045675165,
          0.446524506641108,
          null
         ],
         "z": [
          0.09606559522275948,
          0.4974441913413167,
          null
         ]
        },
        {
         "hoverinfo": "none",
         "line": {
          "color": "rgb(179, 0, 75)",
          "width": 5
         },
         "mode": "lines",
         "type": "scatter3d",
         "x": [
          0.17431887442556093,
          0.9775739396952102,
          null
         ],
         "y": [
          0.21344233045675165,
          0.7566101111621105,
          null
         ],
         "z": [
          0.09606559522275948,
          0.7144959307654978,
          null
         ]
        },
        {
         "hoverinfo": "none",
         "line": {
          "color": "rgb(173, 0, 81)",
          "width": 5
         },
         "mode": "lines",
         "type": "scatter3d",
         "x": [
          0.17431887442556093,
          0.9084567300505447,
          null
         ],
         "y": [
          0.21344233045675165,
          0.20255587063475755,
          null
         ],
         "z": [
          0.09606559522275948,
          0.20213503161541646,
          null
         ]
        },
        {
         "hoverinfo": "none",
         "line": {
          "color": "rgb(165, 0, 89)",
          "width": 5
         },
         "mode": "lines",
         "type": "scatter3d",
         "x": [
          0.17431887442556093,
          0.8875933025193696,
          null
         ],
         "y": [
          0.21344233045675165,
          0.6461442759851814,
          null
         ],
         "z": [
          0.09606559522275948,
          0.9798251546705374,
          null
         ]
        },
        {
         "hoverinfo": "none",
         "line": {
          "color": "rgb(182, 0, 72)",
          "width": 5
         },
         "mode": "lines",
         "type": "scatter3d",
         "x": [
          0.17431887442556093,
          0.29814384455948917,
          null
         ],
         "y": [
          0.21344233045675165,
          0.913970498959155,
          null
         ],
         "z": [
          0.09606559522275948,
          0.5172810096882628,
          null
         ]
        },
        {
         "hoverinfo": "none",
         "line": {
          "color": "rgb(154, 0, 100)",
          "width": 5
         },
         "mode": "lines",
         "type": "scatter3d",
         "x": [
          0.17431887442556093,
          0.9986539569111779,
          null
         ],
         "y": [
          0.21344233045675165,
          0.9070542677416487,
          null
         ],
         "z": [
          0.09606559522275948,
          0.9556434510807901,
          null
         ]
        },
        {
         "hoverinfo": "none",
         "line": {
          "color": "rgb(198, 0, 56)",
          "width": 5
         },
         "mode": "lines",
         "type": "scatter3d",
         "x": [
          0.17431887442556093,
          0.48420574600251587,
          null
         ],
         "y": [
          0.21344233045675165,
          0.035867271739588924,
          null
         ],
         "z": [
          0.09606559522275948,
          0.6379515540609895,
          null
         ]
        },
        {
         "hoverinfo": "none",
         "line": {
          "color": "rgb(85, 0, 170)",
          "width": 5
         },
         "mode": "lines",
         "type": "scatter3d",
         "x": [
          0.17431887442556093,
          0.8051085491850144,
          null
         ],
         "y": [
          0.21344233045675165,
          0.49025408520097213,
          null
         ],
         "z": [
          0.09606559522275948,
          0.9234132190172856,
          null
         ]
        },
        {
         "hoverinfo": "none",
         "line": {
          "color": "rgb(180, 0, 74)",
          "width": 5
         },
         "mode": "lines",
         "type": "scatter3d",
         "x": [
          0.17431887442556093,
          0.7169225457714316,
          null
         ],
         "y": [
          0.21344233045675165,
          0.563633625071583,
          null
         ],
         "z": [
          0.09606559522275948,
          0.6996907251809341,
          null
         ]
        },
        {
         "hoverinfo": "none",
         "line": {
          "color": "rgb(85, 0, 170)",
          "width": 5
         },
         "mode": "lines",
         "type": "scatter3d",
         "x": [
          0.17431887442556093,
          0.12527795716484647,
          null
         ],
         "y": [
          0.21344233045675165,
          0.42590819470648056,
          null
         ],
         "z": [
          0.09606559522275948,
          0.22897111967207828,
          null
         ]
        },
        {
         "hoverinfo": "none",
         "line": {
          "color": "rgb(182, 0, 72)",
          "width": 5
         },
         "mode": "lines",
         "type": "scatter3d",
         "x": [
          0.17431887442556093,
          0.0732515794519838,
          null
         ],
         "y": [
          0.21344233045675165,
          0.8701923673251484,
          null
         ],
         "z": [
          0.09606559522275948,
          0.6045679369860963,
          null
         ]
        },
        {
         "hoverinfo": "none",
         "line": {
          "color": "rgb(145, 0, 109)",
          "width": 5
         },
         "mode": "lines",
         "type": "scatter3d",
         "x": [
          0.17431887442556093,
          0.9899933823406909,
          null
         ],
         "y": [
          0.21344233045675165,
          0.8116762984959474,
          null
         ],
         "z": [
          0.09606559522275948,
          0.5529538225168266,
          null
         ]
        },
        {
         "hoverinfo": "none",
         "line": {
          "color": "rgb(139, 0, 115)",
          "width": 5
         },
         "mode": "lines",
         "type": "scatter3d",
         "x": [
          0.17431887442556093,
          0.3134365643404181,
          null
         ],
         "y": [
          0.21344233045675165,
          0.636682795833173,
          null
         ],
         "z": [
          0.09606559522275948,
          0.4307789375157499,
          null
         ]
        },
        {
         "hoverinfo": "none",
         "line": {
          "color": "rgb(226, 0, 28)",
          "width": 5
         },
         "mode": "lines",
         "type": "scatter3d",
         "x": [
          0.17431887442556093,
          0.9180647184255689,
          null
         ],
         "y": [
          0.21344233045675165,
          0.11968927821121444,
          null
         ],
         "z": [
          0.09606559522275948,
          0.538659340691881,
          null
         ]
        },
        {
         "hoverinfo": "none",
         "line": {
          "color": "rgb(213, 0, 41)",
          "width": 5
         },
         "mode": "lines",
         "type": "scatter3d",
         "x": [
          0.17431887442556093,
          0.07126594641672113,
          null
         ],
         "y": [
          0.21344233045675165,
          0.29665635191560613,
          null
         ],
         "z": [
          0.09606559522275948,
          0.382696459182143,
          null
         ]
        },
        {
         "hoverinfo": "none",
         "line": {
          "color": "rgb(200, 0, 54)",
          "width": 5
         },
         "mode": "lines",
         "type": "scatter3d",
         "x": [
          0.17431887442556093,
          0.09140198066542637,
          null
         ],
         "y": [
          0.21344233045675165,
          0.6872679974496188,
          null
         ],
         "z": [
          0.09606559522275948,
          0.5976164817951554,
          null
         ]
        },
        {
         "hoverinfo": "none",
         "line": {
          "color": "rgb(132, 0, 122)",
          "width": 5
         },
         "mode": "lines",
         "type": "scatter3d",
         "x": [
          0.17431887442556093,
          0.31004702442921817,
          null
         ],
         "y": [
          0.21344233045675165,
          0.5137939230177281,
          null
         ],
         "z": [
          0.09606559522275948,
          0.2871275509685244,
          null
         ]
        },
        {
         "hoverinfo": "none",
         "line": {
          "color": "rgb(197, 0, 57)",
          "width": 5
         },
         "mode": "lines",
         "type": "scatter3d",
         "x": [
          0.17431887442556093,
          0.22863149952659056,
          null
         ],
         "y": [
          0.21344233045675165,
          0.1360954571460199,
          null
         ],
         "z": [
          0.09606559522275948,
          0.2898998635484975,
          null
         ]
        },
        {
         "hoverinfo": "none",
         "line": {
          "color": "rgb(221, 0, 34)",
          "width": 5
         },
         "mode": "lines",
         "type": "scatter3d",
         "x": [
          0.17431887442556093,
          0.37714417234346076,
          null
         ],
         "y": [
          0.21344233045675165,
          0.46490286413331594,
          null
         ],
         "z": [
          0.09606559522275948,
          0.9050642221969447,
          null
         ]
        },
        {
         "hoverinfo": "none",
         "line": {
          "color": "rgb(197, 0, 57)",
          "width": 5
         },
         "mode": "lines",
         "type": "scatter3d",
         "x": [
          0.17431887442556093,
          0.501679709804501,
          null
         ],
         "y": [
          0.21344233045675165,
          0.6509351921205243,
          null
         ],
         "z": [
          0.09606559522275948,
          0.2557420715252684,
          null
         ]
        },
        {
         "hoverinfo": "none",
         "line": {
          "color": "rgb(198, 0, 56)",
          "width": 5
         },
         "mode": "lines",
         "type": "scatter3d",
         "x": [
          0.17431887442556093,
          0.5130255378515045,
          null
         ],
         "y": [
          0.21344233045675165,
          0.40759952541878663,
          null
         ],
         "z": [
          0.09606559522275948,
          0.7089301009412372,
          null
         ]
        },
        {
         "hoverinfo": "none",
         "line": {
          "color": "rgb(204, 0, 51)",
          "width": 5
         },
         "mode": "lines",
         "type": "scatter3d",
         "x": [
          0.17431887442556093,
          0.9089047824116294,
          null
         ],
         "y": [
          0.21344233045675165,
          0.8287590101380226,
          null
         ],
         "z": [
          0.09606559522275948,
          0.7249617247199894,
          null
         ]
        },
        {
         "hoverinfo": "none",
         "line": {
          "color": "rgb(212, 0, 42)",
          "width": 5
         },
         "mode": "lines",
         "type": "scatter3d",
         "x": [
          0.17431887442556093,
          0.7621712107473493,
          null
         ],
         "y": [
          0.21344233045675165,
          0.19617547662236412,
          null
         ],
         "z": [
          0.09606559522275948,
          0.6011715579787809,
          null
         ]
        },
        {
         "hoverinfo": "none",
         "line": {
          "color": "rgb(197, 0, 57)",
          "width": 5
         },
         "mode": "lines",
         "type": "scatter3d",
         "x": [
          0.7169225457714316,
          0.7437209924748747,
          null
         ],
         "y": [
          0.563633625071583,
          0.8749951168782174,
          null
         ],
         "z": [
          0.6996907251809341,
          0.55808725432422,
          null
         ]
        },
        {
         "hoverinfo": "none",
         "line": {
          "color": "rgb(181, 0, 73)",
          "width": 5
         },
         "mode": "lines",
         "type": "scatter3d",
         "x": [
          0.7169225457714316,
          0.8835839599329588,
          null
         ],
         "y": [
          0.563633625071583,
          0.4956555722359278,
          null
         ],
         "z": [
          0.6996907251809341,
          0.36789989564170444,
          null
         ]
        },
        {
         "hoverinfo": "none",
         "line": {
          "color": "rgb(174, 0, 80)",
          "width": 5
         },
         "mode": "lines",
         "type": "scatter3d",
         "x": [
          0.7169225457714316,
          0.31004702442921817,
          null
         ],
         "y": [
          0.563633625071583,
          0.5137939230177281,
          null
         ],
         "z": [
          0.6996907251809341,
          0.2871275509685244,
          null
         ]
        },
        {
         "hoverinfo": "none",
         "line": {
          "color": "rgb(168, 0, 86)",
          "width": 5
         },
         "mode": "lines",
         "type": "scatter3d",
         "x": [
          0.7169225457714316,
          0.0033340205544437618,
          null
         ],
         "y": [
          0.563633625071583,
          0.6742369240765245,
          null
         ],
         "z": [
          0.6996907251809341,
          0.762704950461619,
          null
         ]
        },
        {
         "hoverinfo": "none",
         "line": {
          "color": "rgb(213, 0, 41)",
          "width": 5
         },
         "mode": "lines",
         "type": "scatter3d",
         "x": [
          0.7169225457714316,
          0.22863149952659056,
          null
         ],
         "y": [
          0.563633625071583,
          0.1360954571460199,
          null
         ],
         "z": [
          0.6996907251809341,
          0.2898998635484975,
          null
         ]
        },
        {
         "hoverinfo": "none",
         "line": {
          "color": "rgb(173, 0, 81)",
          "width": 5
         },
         "mode": "lines",
         "type": "scatter3d",
         "x": [
          0.7169225457714316,
          0.45584553197330435,
          null
         ],
         "y": [
          0.563633625071583,
          0.9314710267918207,
          null
         ],
         "z": [
          0.6996907251809341,
          0.08527216752661448,
          null
         ]
        },
        {
         "hoverinfo": "none",
         "line": {
          "color": "rgb(168, 0, 86)",
          "width": 5
         },
         "mode": "lines",
         "type": "scatter3d",
         "x": [
          0.7169225457714316,
          0.029237130063550776,
          null
         ],
         "y": [
          0.563633625071583,
          0.7177144516707746,
          null
         ],
         "z": [
          0.6996907251809341,
          0.93407367262807,
          null
         ]
        },
        {
         "hoverinfo": "none",
         "line": {
          "color": "rgb(190, 0, 64)",
          "width": 5
         },
         "mode": "lines",
         "type": "scatter3d",
         "x": [
          0.7169225457714316,
          0.9899933823406909,
          null
         ],
         "y": [
          0.563633625071583,
          0.8116762984959474,
          null
         ],
         "z": [
          0.6996907251809341,
          0.5529538225168266,
          null
         ]
        },
        {
         "hoverinfo": "none",
         "line": {
          "color": "rgb(181, 0, 73)",
          "width": 5
         },
         "mode": "lines",
         "type": "scatter3d",
         "x": [
          0.7169225457714316,
          0.7617676881945405,
          null
         ],
         "y": [
          0.563633625071583,
          0.08734622035716166,
          null
         ],
         "z": [
          0.6996907251809341,
          0.019985162604170492,
          null
         ]
        },
        {
         "hoverinfo": "none",
         "line": {
          "color": "rgb(213, 0, 41)",
          "width": 5
         },
         "mode": "lines",
         "type": "scatter3d",
         "x": [
          0.7169225457714316,
          0.9089047824116294,
          null
         ],
         "y": [
          0.563633625071583,
          0.8287590101380226,
          null
         ],
         "z": [
          0.6996907251809341,
          0.7249617247199894,
          null
         ]
        },
        {
         "hoverinfo": "none",
         "line": {
          "color": "rgb(212, 0, 42)",
          "width": 5
         },
         "mode": "lines",
         "type": "scatter3d",
         "x": [
          0.7169225457714316,
          0.501679709804501,
          null
         ],
         "y": [
          0.563633625071583,
          0.6509351921205243,
          null
         ],
         "z": [
          0.6996907251809341,
          0.2557420715252684,
          null
         ]
        },
        {
         "hoverinfo": "none",
         "line": {
          "color": "rgb(211, 0, 43)",
          "width": 5
         },
         "mode": "lines",
         "type": "scatter3d",
         "x": [
          0.7169225457714316,
          0.8875933025193696,
          null
         ],
         "y": [
          0.563633625071583,
          0.6461442759851814,
          null
         ],
         "z": [
          0.6996907251809341,
          0.9798251546705374,
          null
         ]
        },
        {
         "hoverinfo": "none",
         "line": {
          "color": "rgb(246, 0, 8)",
          "width": 5
         },
         "mode": "lines",
         "type": "scatter3d",
         "x": [
          0.7169225457714316,
          0.37714417234346076,
          null
         ],
         "y": [
          0.563633625071583,
          0.46490286413331594,
          null
         ],
         "z": [
          0.6996907251809341,
          0.9050642221969447,
          null
         ]
        },
        {
         "hoverinfo": "none",
         "line": {
          "color": "rgb(195, 0, 59)",
          "width": 5
         },
         "mode": "lines",
         "type": "scatter3d",
         "x": [
          0.7169225457714316,
          0.48420574600251587,
          null
         ],
         "y": [
          0.563633625071583,
          0.035867271739588924,
          null
         ],
         "z": [
          0.6996907251809341,
          0.6379515540609895,
          null
         ]
        },
        {
         "hoverinfo": "none",
         "line": {
          "color": "rgb(194, 0, 60)",
          "width": 5
         },
         "mode": "lines",
         "type": "scatter3d",
         "x": [
          0.7169225457714316,
          0.9775739396952102,
          null
         ],
         "y": [
          0.563633625071583,
          0.7566101111621105,
          null
         ],
         "z": [
          0.6996907251809341,
          0.7144959307654978,
          null
         ]
        },
        {
         "hoverinfo": "none",
         "line": {
          "color": "rgb(164, 0, 90)",
          "width": 5
         },
         "mode": "lines",
         "type": "scatter3d",
         "x": [
          0.7169225457714316,
          0.9084567300505447,
          null
         ],
         "y": [
          0.563633625071583,
          0.20255587063475755,
          null
         ],
         "z": [
          0.6996907251809341,
          0.20213503161541646,
          null
         ]
        },
        {
         "hoverinfo": "none",
         "line": {
          "color": "rgb(215, 0, 39)",
          "width": 5
         },
         "mode": "lines",
         "type": "scatter3d",
         "x": [
          0.7169225457714316,
          0.0732515794519838,
          null
         ],
         "y": [
          0.563633625071583,
          0.8701923673251484,
          null
         ],
         "z": [
          0.6996907251809341,
          0.6045679369860963,
          null
         ]
        },
        {
         "hoverinfo": "none",
         "line": {
          "color": "rgb(209, 0, 45)",
          "width": 5
         },
         "mode": "lines",
         "type": "scatter3d",
         "x": [
          0.7169225457714316,
          0.29814384455948917,
          null
         ],
         "y": [
          0.563633625071583,
          0.913970498959155,
          null
         ],
         "z": [
          0.6996907251809341,
          0.5172810096882628,
          null
         ]
        },
        {
         "hoverinfo": "none",
         "line": {
          "color": "rgb(175, 0, 79)",
          "width": 5
         },
         "mode": "lines",
         "type": "scatter3d",
         "x": [
          0.7169225457714316,
          0.6089646957224183,
          null
         ],
         "y": [
          0.563633625071583,
          0.6955439464952691,
          null
         ],
         "z": [
          0.6996907251809341,
          0.5145541340751737,
          null
         ]
        },
        {
         "hoverinfo": "none",
         "line": {
          "color": "rgb(174, 0, 80)",
          "width": 5
         },
         "mode": "lines",
         "type": "scatter3d",
         "x": [
          0.7169225457714316,
          0.9986539569111779,
          null
         ],
         "y": [
          0.563633625071583,
          0.9070542677416487,
          null
         ],
         "z": [
          0.6996907251809341,
          0.9556434510807901,
          null
         ]
        },
        {
         "hoverinfo": "none",
         "line": {
          "color": "rgb(222, 0, 32)",
          "width": 5
         },
         "mode": "lines",
         "type": "scatter3d",
         "x": [
          0.7169225457714316,
          0.5130255378515045,
          null
         ],
         "y": [
          0.563633625071583,
          0.40759952541878663,
          null
         ],
         "z": [
          0.6996907251809341,
          0.7089301009412372,
          null
         ]
        },
        {
         "hoverinfo": "none",
         "line": {
          "color": "rgb(195, 0, 59)",
          "width": 5
         },
         "mode": "lines",
         "type": "scatter3d",
         "x": [
          0.7169225457714316,
          0.5361898427486588,
          null
         ],
         "y": [
          0.563633625071583,
          0.446524506641108,
          null
         ],
         "z": [
          0.6996907251809341,
          0.4974441913413167,
          null
         ]
        },
        {
         "hoverinfo": "none",
         "line": {
          "color": "rgb(197, 0, 57)",
          "width": 5
         },
         "mode": "lines",
         "type": "scatter3d",
         "x": [
          0.7169225457714316,
          0.09140198066542637,
          null
         ],
         "y": [
          0.563633625071583,
          0.6872679974496188,
          null
         ],
         "z": [
          0.6996907251809341,
          0.5976164817951554,
          null
         ]
        },
        {
         "hoverinfo": "none",
         "line": {
          "color": "rgb(191, 0, 63)",
          "width": 5
         },
         "mode": "lines",
         "type": "scatter3d",
         "x": [
          0.7169225457714316,
          0.8051085491850144,
          null
         ],
         "y": [
          0.563633625071583,
          0.49025408520097213,
          null
         ],
         "z": [
          0.6996907251809341,
          0.9234132190172856,
          null
         ]
        },
        {
         "hoverinfo": "none",
         "line": {
          "color": "rgb(191, 0, 63)",
          "width": 5
         },
         "mode": "lines",
         "type": "scatter3d",
         "x": [
          0.7169225457714316,
          0.3134365643404181,
          null
         ],
         "y": [
          0.563633625071583,
          0.636682795833173,
          null
         ],
         "z": [
          0.6996907251809341,
          0.4307789375157499,
          null
         ]
        },
        {
         "hoverinfo": "none",
         "line": {
          "color": "rgb(190, 0, 64)",
          "width": 5
         },
         "mode": "lines",
         "type": "scatter3d",
         "x": [
          0.7169225457714316,
          0.12527795716484647,
          null
         ],
         "y": [
          0.563633625071583,
          0.42590819470648056,
          null
         ],
         "z": [
          0.6996907251809341,
          0.22897111967207828,
          null
         ]
        },
        {
         "hoverinfo": "none",
         "line": {
          "color": "rgb(218, 0, 36)",
          "width": 5
         },
         "mode": "lines",
         "type": "scatter3d",
         "x": [
          0.7169225457714316,
          0.07126594641672113,
          null
         ],
         "y": [
          0.563633625071583,
          0.29665635191560613,
          null
         ],
         "z": [
          0.6996907251809341,
          0.382696459182143,
          null
         ]
        },
        {
         "hoverinfo": "none",
         "line": {
          "color": "rgb(218, 0, 36)",
          "width": 5
         },
         "mode": "lines",
         "type": "scatter3d",
         "x": [
          0.7169225457714316,
          0.9180647184255689,
          null
         ],
         "y": [
          0.563633625071583,
          0.11968927821121444,
          null
         ],
         "z": [
          0.6996907251809341,
          0.538659340691881,
          null
         ]
        },
        {
         "hoverinfo": "none",
         "line": {
          "color": "rgb(180, 0, 74)",
          "width": 5
         },
         "mode": "lines",
         "type": "scatter3d",
         "x": [
          0.7169225457714316,
          0.7621712107473493,
          null
         ],
         "y": [
          0.563633625071583,
          0.19617547662236412,
          null
         ],
         "z": [
          0.6996907251809341,
          0.6011715579787809,
          null
         ]
        },
        {
         "hoverinfo": "none",
         "line": {
          "color": "rgb(227, 0, 27)",
          "width": 5
         },
         "mode": "lines",
         "type": "scatter3d",
         "x": [
          0.22863149952659056,
          0.7437209924748747,
          null
         ],
         "y": [
          0.1360954571460199,
          0.8749951168782174,
          null
         ],
         "z": [
          0.2898998635484975,
          0.55808725432422,
          null
         ]
        },
        {
         "hoverinfo": "none",
         "line": {
          "color": "rgb(200, 0, 54)",
          "width": 5
         },
         "mode": "lines",
         "type": "scatter3d",
         "x": [
          0.22863149952659056,
          0.31004702442921817,
          null
         ],
         "y": [
          0.1360954571460199,
          0.5137939230177281,
          null
         ],
         "z": [
          0.2898998635484975,
          0.2871275509685244,
          null
         ]
        },
        {
         "hoverinfo": "none",
         "line": {
          "color": "rgb(205, 0, 49)",
          "width": 5
         },
         "mode": "lines",
         "type": "scatter3d",
         "x": [
          0.22863149952659056,
          0.0033340205544437618,
          null
         ],
         "y": [
          0.1360954571460199,
          0.6742369240765245,
          null
         ],
         "z": [
          0.2898998635484975,
          0.762704950461619,
          null
         ]
        },
        {
         "hoverinfo": "none",
         "line": {
          "color": "rgb(206, 0, 48)",
          "width": 5
         },
         "mode": "lines",
         "type": "scatter3d",
         "x": [
          0.22863149952659056,
          0.501679709804501,
          null
         ],
         "y": [
          0.1360954571460199,
          0.6509351921205243,
          null
         ],
         "z": [
          0.2898998635484975,
          0.2557420715252684,
          null
         ]
        },
        {
         "hoverinfo": "none",
         "line": {
          "color": "rgb(212, 0, 42)",
          "width": 5
         },
         "mode": "lines",
         "type": "scatter3d",
         "x": [
          0.22863149952659056,
          0.8875933025193696,
          null
         ],
         "y": [
          0.1360954571460199,
          0.6461442759851814,
          null
         ],
         "z": [
          0.2898998635484975,
          0.9798251546705374,
          null
         ]
        },
        {
         "hoverinfo": "none",
         "line": {
          "color": "rgb(205, 0, 49)",
          "width": 5
         },
         "mode": "lines",
         "type": "scatter3d",
         "x": [
          0.22863149952659056,
          0.9899933823406909,
          null
         ],
         "y": [
          0.1360954571460199,
          0.8116762984959474,
          null
         ],
         "z": [
          0.2898998635484975,
          0.5529538225168266,
          null
         ]
        },
        {
         "hoverinfo": "none",
         "line": {
          "color": "rgb(227, 0, 27)",
          "width": 5
         },
         "mode": "lines",
         "type": "scatter3d",
         "x": [
          0.22863149952659056,
          0.0732515794519838,
          null
         ],
         "y": [
          0.1360954571460199,
          0.8701923673251484,
          null
         ],
         "z": [
          0.2898998635484975,
          0.6045679369860963,
          null
         ]
        },
        {
         "hoverinfo": "none",
         "line": {
          "color": "rgb(217, 0, 37)",
          "width": 5
         },
         "mode": "lines",
         "type": "scatter3d",
         "x": [
          0.22863149952659056,
          0.48420574600251587,
          null
         ],
         "y": [
          0.1360954571460199,
          0.035867271739588924,
          null
         ],
         "z": [
          0.2898998635484975,
          0.6379515540609895,
          null
         ]
        },
        {
         "hoverinfo": "none",
         "line": {
          "color": "rgb(191, 0, 63)",
          "width": 5
         },
         "mode": "lines",
         "type": "scatter3d",
         "x": [
          0.22863149952659056,
          0.09140198066542637,
          null
         ],
         "y": [
          0.1360954571460199,
          0.6872679974496188,
          null
         ],
         "z": [
          0.2898998635484975,
          0.5976164817951554,
          null
         ]
        },
        {
         "hoverinfo": "none",
         "line": {
          "color": "rgb(174, 0, 80)",
          "width": 5
         },
         "mode": "lines",
         "type": "scatter3d",
         "x": [
          0.22863149952659056,
          0.5361898427486588,
          null
         ],
         "y": [
          0.1360954571460199,
          0.446524506641108,
          null
         ],
         "z": [
          0.2898998635484975,
          0.4974441913413167,
          null
         ]
        },
        {
         "hoverinfo": "none",
         "line": {
          "color": "rgb(207, 0, 47)",
          "width": 5
         },
         "mode": "lines",
         "type": "scatter3d",
         "x": [
          0.22863149952659056,
          0.8051085491850144,
          null
         ],
         "y": [
          0.1360954571460199,
          0.49025408520097213,
          null
         ],
         "z": [
          0.2898998635484975,
          0.9234132190172856,
          null
         ]
        },
        {
         "hoverinfo": "none",
         "line": {
          "color": "rgb(213, 0, 41)",
          "width": 5
         },
         "mode": "lines",
         "type": "scatter3d",
         "x": [
          0.22863149952659056,
          0.6089646957224183,
          null
         ],
         "y": [
          0.1360954571460199,
          0.6955439464952691,
          null
         ],
         "z": [
          0.2898998635484975,
          0.5145541340751737,
          null
         ]
        },
        {
         "hoverinfo": "none",
         "line": {
          "color": "rgb(237, 0, 17)",
          "width": 5
         },
         "mode": "lines",
         "type": "scatter3d",
         "x": [
          0.22863149952659056,
          0.5130255378515045,
          null
         ],
         "y": [
          0.1360954571460199,
          0.40759952541878663,
          null
         ],
         "z": [
          0.2898998635484975,
          0.7089301009412372,
          null
         ]
        },
        {
         "hoverinfo": "none",
         "line": {
          "color": "rgb(221, 0, 34)",
          "width": 5
         },
         "mode": "lines",
         "type": "scatter3d",
         "x": [
          0.22863149952659056,
          0.8835839599329588,
          null
         ],
         "y": [
          0.1360954571460199,
          0.4956555722359278,
          null
         ],
         "z": [
          0.2898998635484975,
          0.36789989564170444,
          null
         ]
        },
        {
         "hoverinfo": "none",
         "line": {
          "color": "rgb(237, 0, 17)",
          "width": 5
         },
         "mode": "lines",
         "type": "scatter3d",
         "x": [
          0.22863149952659056,
          0.37714417234346076,
          null
         ],
         "y": [
          0.1360954571460199,
          0.46490286413331594,
          null
         ],
         "z": [
          0.2898998635484975,
          0.9050642221969447,
          null
         ]
        },
        {
         "hoverinfo": "none",
         "line": {
          "color": "rgb(192, 0, 62)",
          "width": 5
         },
         "mode": "lines",
         "type": "scatter3d",
         "x": [
          0.22863149952659056,
          0.7621712107473493,
          null
         ],
         "y": [
          0.1360954571460199,
          0.19617547662236412,
          null
         ],
         "z": [
          0.2898998635484975,
          0.6011715579787809,
          null
         ]
        },
        {
         "hoverinfo": "none",
         "line": {
          "color": "rgb(197, 0, 57)",
          "width": 5
         },
         "mode": "lines",
         "type": "scatter3d",
         "x": [
          0.22863149952659056,
          0.9084567300505447,
          null
         ],
         "y": [
          0.1360954571460199,
          0.20255587063475755,
          null
         ],
         "z": [
          0.2898998635484975,
          0.20213503161541646,
          null
         ]
        },
        {
         "hoverinfo": "none",
         "line": {
          "color": "rgb(174, 0, 80)",
          "width": 5
         },
         "mode": "lines",
         "type": "scatter3d",
         "x": [
          0.22863149952659056,
          0.9775739396952102,
          null
         ],
         "y": [
          0.1360954571460199,
          0.7566101111621105,
          null
         ],
         "z": [
          0.2898998635484975,
          0.7144959307654978,
          null
         ]
        },
        {
         "hoverinfo": "none",
         "line": {
          "color": "rgb(207, 0, 47)",
          "width": 5
         },
         "mode": "lines",
         "type": "scatter3d",
         "x": [
          0.22863149952659056,
          0.3134365643404181,
          null
         ],
         "y": [
          0.1360954571460199,
          0.636682795833173,
          null
         ],
         "z": [
          0.2898998635484975,
          0.4307789375157499,
          null
         ]
        },
        {
         "hoverinfo": "none",
         "line": {
          "color": "rgb(246, 0, 8)",
          "width": 5
         },
         "mode": "lines",
         "type": "scatter3d",
         "x": [
          0.22863149952659056,
          0.9180647184255689,
          null
         ],
         "y": [
          0.1360954571460199,
          0.11968927821121444,
          null
         ],
         "z": [
          0.2898998635484975,
          0.538659340691881,
          null
         ]
        },
        {
         "hoverinfo": "none",
         "line": {
          "color": "rgb(177, 0, 77)",
          "width": 5
         },
         "mode": "lines",
         "type": "scatter3d",
         "x": [
          0.22863149952659056,
          0.9986539569111779,
          null
         ],
         "y": [
          0.1360954571460199,
          0.9070542677416487,
          null
         ],
         "z": [
          0.2898998635484975,
          0.9556434510807901,
          null
         ]
        },
        {
         "hoverinfo": "none",
         "line": {
          "color": "rgb(210, 0, 44)",
          "width": 5
         },
         "mode": "lines",
         "type": "scatter3d",
         "x": [
          0.22863149952659056,
          0.45584553197330435,
          null
         ],
         "y": [
          0.1360954571460199,
          0.9314710267918207,
          null
         ],
         "z": [
          0.2898998635484975,
          0.08527216752661448,
          null
         ]
        },
        {
         "hoverinfo": "none",
         "line": {
          "color": "rgb(207, 0, 47)",
          "width": 5
         },
         "mode": "lines",
         "type": "scatter3d",
         "x": [
          0.22863149952659056,
          0.29814384455948917,
          null
         ],
         "y": [
          0.1360954571460199,
          0.913970498959155,
          null
         ],
         "z": [
          0.2898998635484975,
          0.5172810096882628,
          null
         ]
        },
        {
         "hoverinfo": "none",
         "line": {
          "color": "rgb(212, 0, 42)",
          "width": 5
         },
         "mode": "lines",
         "type": "scatter3d",
         "x": [
          0.22863149952659056,
          0.12527795716484647,
          null
         ],
         "y": [
          0.1360954571460199,
          0.42590819470648056,
          null
         ],
         "z": [
          0.2898998635484975,
          0.22897111967207828,
          null
         ]
        },
        {
         "hoverinfo": "none",
         "line": {
          "color": "rgb(197, 0, 57)",
          "width": 5
         },
         "mode": "lines",
         "type": "scatter3d",
         "x": [
          0.22863149952659056,
          0.7617676881945405,
          null
         ],
         "y": [
          0.1360954571460199,
          0.08734622035716166,
          null
         ],
         "z": [
          0.2898998635484975,
          0.019985162604170492,
          null
         ]
        },
        {
         "hoverinfo": "none",
         "line": {
          "color": "rgb(206, 0, 48)",
          "width": 5
         },
         "mode": "lines",
         "type": "scatter3d",
         "x": [
          0.22863149952659056,
          0.9089047824116294,
          null
         ],
         "y": [
          0.1360954571460199,
          0.8287590101380226,
          null
         ],
         "z": [
          0.2898998635484975,
          0.7249617247199894,
          null
         ]
        },
        {
         "hoverinfo": "none",
         "line": {
          "color": "rgb(185, 0, 69)",
          "width": 5
         },
         "mode": "lines",
         "type": "scatter3d",
         "x": [
          0.22863149952659056,
          0.029237130063550776,
          null
         ],
         "y": [
          0.1360954571460199,
          0.7177144516707746,
          null
         ],
         "z": [
          0.2898998635484975,
          0.93407367262807,
          null
         ]
        },
        {
         "hoverinfo": "none",
         "line": {
          "color": "rgb(255, 0, 0)",
          "width": 5
         },
         "mode": "lines",
         "type": "scatter3d",
         "x": [
          0.22863149952659056,
          0.07126594641672113,
          null
         ],
         "y": [
          0.1360954571460199,
          0.29665635191560613,
          null
         ],
         "z": [
          0.2898998635484975,
          0.382696459182143,
          null
         ]
        },
        {
         "hoverinfo": "none",
         "line": {
          "color": "rgb(183, 0, 71)",
          "width": 5
         },
         "mode": "lines",
         "type": "scatter3d",
         "x": [
          0.3134365643404181,
          0.7437209924748747,
          null
         ],
         "y": [
          0.636682795833173,
          0.8749951168782174,
          null
         ],
         "z": [
          0.4307789375157499,
          0.55808725432422,
          null
         ]
        },
        {
         "hoverinfo": "none",
         "line": {
          "color": "rgb(150, 0, 105)",
          "width": 5
         },
         "mode": "lines",
         "type": "scatter3d",
         "x": [
          0.3134365643404181,
          0.6089646957224183,
          null
         ],
         "y": [
          0.636682795833173,
          0.6955439464952691,
          null
         ],
         "z": [
          0.4307789375157499,
          0.5145541340751737,
          null
         ]
        },
        {
         "hoverinfo": "none",
         "line": {
          "color": "rgb(255, 0, 0)",
          "width": 5
         },
         "mode": "lines",
         "type": "scatter3d",
         "x": [
          0.3134365643404181,
          0.5130255378515045,
          null
         ],
         "y": [
          0.636682795833173,
          0.40759952541878663,
          null
         ],
         "z": [
          0.4307789375157499,
          0.7089301009412372,
          null
         ]
        },
        {
         "hoverinfo": "none",
         "line": {
          "color": "rgb(159, 0, 95)",
          "width": 5
         },
         "mode": "lines",
         "type": "scatter3d",
         "x": [
          0.3134365643404181,
          0.501679709804501,
          null
         ],
         "y": [
          0.636682795833173,
          0.6509351921205243,
          null
         ],
         "z": [
          0.4307789375157499,
          0.2557420715252684,
          null
         ]
        },
        {
         "hoverinfo": "none",
         "line": {
          "color": "rgb(230, 0, 24)",
          "width": 5
         },
         "mode": "lines",
         "type": "scatter3d",
         "x": [
          0.3134365643404181,
          0.29814384455948917,
          null
         ],
         "y": [
          0.636682795833173,
          0.913970498959155,
          null
         ],
         "z": [
          0.4307789375157499,
          0.5172810096882628,
          null
         ]
        },
        {
         "hoverinfo": "none",
         "line": {
          "color": "rgb(178, 0, 76)",
          "width": 5
         },
         "mode": "lines",
         "type": "scatter3d",
         "x": [
          0.3134365643404181,
          0.0033340205544437618,
          null
         ],
         "y": [
          0.636682795833173,
          0.6742369240765245,
          null
         ],
         "z": [
          0.4307789375157499,
          0.762704950461619,
          null
         ]
        },
        {
         "hoverinfo": "none",
         "line": {
          "color": "rgb(172, 0, 82)",
          "width": 5
         },
         "mode": "lines",
         "type": "scatter3d",
         "x": [
          0.3134365643404181,
          0.9084567300505447,
          null
         ],
         "y": [
          0.636682795833173,
          0.20255587063475755,
          null
         ],
         "z": [
          0.4307789375157499,
          0.20213503161541646,
          null
         ]
        },
        {
         "hoverinfo": "none",
         "line": {
          "color": "rgb(191, 0, 63)",
          "width": 5
         },
         "mode": "lines",
         "type": "scatter3d",
         "x": [
          0.3134365643404181,
          0.9089047824116294,
          null
         ],
         "y": [
          0.636682795833173,
          0.8287590101380226,
          null
         ],
         "z": [
          0.4307789375157499,
          0.7249617247199894,
          null
         ]
        },
        {
         "hoverinfo": "none",
         "line": {
          "color": "rgb(212, 0, 42)",
          "width": 5
         },
         "mode": "lines",
         "type": "scatter3d",
         "x": [
          0.3134365643404181,
          0.0732515794519838,
          null
         ],
         "y": [
          0.636682795833173,
          0.8701923673251484,
          null
         ],
         "z": [
          0.4307789375157499,
          0.6045679369860963,
          null
         ]
        },
        {
         "hoverinfo": "none",
         "line": {
          "color": "rgb(200, 0, 55)",
          "width": 5
         },
         "mode": "lines",
         "type": "scatter3d",
         "x": [
          0.3134365643404181,
          0.8835839599329588,
          null
         ],
         "y": [
          0.636682795833173,
          0.4956555722359278,
          null
         ],
         "z": [
          0.4307789375157499,
          0.36789989564170444,
          null
         ]
        },
        {
         "hoverinfo": "none",
         "line": {
          "color": "rgb(125, 0, 129)",
          "width": 5
         },
         "mode": "lines",
         "type": "scatter3d",
         "x": [
          0.3134365643404181,
          0.9986539569111779,
          null
         ],
         "y": [
          0.636682795833173,
          0.9070542677416487,
          null
         ],
         "z": [
          0.4307789375157499,
          0.9556434510807901,
          null
         ]
        },
        {
         "hoverinfo": "none",
         "line": {
          "color": "rgb(138, 0, 116)",
          "width": 5
         },
         "mode": "lines",
         "type": "scatter3d",
         "x": [
          0.3134365643404181,
          0.45584553197330435,
          null
         ],
         "y": [
          0.636682795833173,
          0.9314710267918207,
          null
         ],
         "z": [
          0.4307789375157499,
          0.08527216752661448,
          null
         ]
        },
        {
         "hoverinfo": "none",
         "line": {
          "color": "rgb(170, 0, 85)",
          "width": 5
         },
         "mode": "lines",
         "type": "scatter3d",
         "x": [
          0.3134365643404181,
          0.9899933823406909,
          null
         ],
         "y": [
          0.636682795833173,
          0.8116762984959474,
          null
         ],
         "z": [
          0.4307789375157499,
          0.5529538225168266,
          null
         ]
        },
        {
         "hoverinfo": "none",
         "line": {
          "color": "rgb(85, 0, 170)",
          "width": 5
         },
         "mode": "lines",
         "type": "scatter3d",
         "x": [
          0.3134365643404181,
          0.37714417234346076,
          null
         ],
         "y": [
          0.636682795833173,
          0.46490286413331594,
          null
         ],
         "z": [
          0.4307789375157499,
          0.9050642221969447,
          null
         ]
        },
        {
         "hoverinfo": "none",
         "line": {
          "color": "rgb(166, 0, 88)",
          "width": 5
         },
         "mode": "lines",
         "type": "scatter3d",
         "x": [
          0.3134365643404181,
          0.7617676881945405,
          null
         ],
         "y": [
          0.636682795833173,
          0.08734622035716166,
          null
         ],
         "z": [
          0.4307789375157499,
          0.019985162604170492,
          null
         ]
        },
        {
         "hoverinfo": "none",
         "line": {
          "color": "rgb(121, 0, 133)",
          "width": 5
         },
         "mode": "lines",
         "type": "scatter3d",
         "x": [
          0.3134365643404181,
          0.029237130063550776,
          null
         ],
         "y": [
          0.636682795833173,
          0.7177144516707746,
          null
         ],
         "z": [
          0.4307789375157499,
          0.93407367262807,
          null
         ]
        },
        {
         "hoverinfo": "none",
         "line": {
          "color": "rgb(218, 0, 36)",
          "width": 5
         },
         "mode": "lines",
         "type": "scatter3d",
         "x": [
          0.3134365643404181,
          0.31004702442921817,
          null
         ],
         "y": [
          0.636682795833173,
          0.5137939230177281,
          null
         ],
         "z": [
          0.4307789375157499,
          0.2871275509685244,
          null
         ]
        },
        {
         "hoverinfo": "none",
         "line": {
          "color": "rgb(141, 0, 113)",
          "width": 5
         },
         "mode": "lines",
         "type": "scatter3d",
         "x": [
          0.3134365643404181,
          0.09140198066542637,
          null
         ],
         "y": [
          0.636682795833173,
          0.6872679974496188,
          null
         ],
         "z": [
          0.4307789375157499,
          0.5976164817951554,
          null
         ]
        },
        {
         "hoverinfo": "none",
         "line": {
          "color": "rgb(159, 0, 95)",
          "width": 5
         },
         "mode": "lines",
         "type": "scatter3d",
         "x": [
          0.3134365643404181,
          0.9775739396952102,
          null
         ],
         "y": [
          0.636682795833173,
          0.7566101111621105,
          null
         ],
         "z": [
          0.4307789375157499,
          0.7144959307654978,
          null
         ]
        },
        {
         "hoverinfo": "none",
         "line": {
          "color": "rgb(186, 0, 68)",
          "width": 5
         },
         "mode": "lines",
         "type": "scatter3d",
         "x": [
          0.3134365643404181,
          0.8875933025193696,
          null
         ],
         "y": [
          0.636682795833173,
          0.6461442759851814,
          null
         ],
         "z": [
          0.4307789375157499,
          0.9798251546705374,
          null
         ]
        },
        {
         "hoverinfo": "none",
         "line": {
          "color": "rgb(163, 0, 91)",
          "width": 5
         },
         "mode": "lines",
         "type": "scatter3d",
         "x": [
          0.3134365643404181,
          0.48420574600251587,
          null
         ],
         "y": [
          0.636682795833173,
          0.035867271739588924,
          null
         ],
         "z": [
          0.4307789375157499,
          0.6379515540609895,
          null
         ]
        },
        {
         "hoverinfo": "none",
         "line": {
          "color": "rgb(162, 0, 92)",
          "width": 5
         },
         "mode": "lines",
         "type": "scatter3d",
         "x": [
          0.3134365643404181,
          0.5361898427486588,
          null
         ],
         "y": [
          0.636682795833173,
          0.446524506641108,
          null
         ],
         "z": [
          0.4307789375157499,
          0.4974441913413167,
          null
         ]
        },
        {
         "hoverinfo": "none",
         "line": {
          "color": "rgb(255, 0, 0)",
          "width": 5
         },
         "mode": "lines",
         "type": "scatter3d",
         "x": [
          0.3134365643404181,
          0.9180647184255689,
          null
         ],
         "y": [
          0.636682795833173,
          0.11968927821121444,
          null
         ],
         "z": [
          0.4307789375157499,
          0.538659340691881,
          null
         ]
        },
        {
         "hoverinfo": "none",
         "line": {
          "color": "rgb(109, 0, 145)",
          "width": 5
         },
         "mode": "lines",
         "type": "scatter3d",
         "x": [
          0.3134365643404181,
          0.7621712107473493,
          null
         ],
         "y": [
          0.636682795833173,
          0.19617547662236412,
          null
         ],
         "z": [
          0.4307789375157499,
          0.6011715579787809,
          null
         ]
        },
        {
         "hoverinfo": "none",
         "line": {
          "color": "rgb(127, 0, 127)",
          "width": 5
         },
         "mode": "lines",
         "type": "scatter3d",
         "x": [
          0.3134365643404181,
          0.12527795716484647,
          null
         ],
         "y": [
          0.636682795833173,
          0.42590819470648056,
          null
         ],
         "z": [
          0.4307789375157499,
          0.22897111967207828,
          null
         ]
        },
        {
         "hoverinfo": "none",
         "line": {
          "color": "rgb(170, 0, 85)",
          "width": 5
         },
         "mode": "lines",
         "type": "scatter3d",
         "x": [
          0.3134365643404181,
          0.07126594641672113,
          null
         ],
         "y": [
          0.636682795833173,
          0.29665635191560613,
          null
         ],
         "z": [
          0.4307789375157499,
          0.382696459182143,
          null
         ]
        },
        {
         "hoverinfo": "none",
         "line": {
          "color": "rgb(170, 0, 85)",
          "width": 5
         },
         "mode": "lines",
         "type": "scatter3d",
         "x": [
          0.3134365643404181,
          0.8051085491850144,
          null
         ],
         "y": [
          0.636682795833173,
          0.49025408520097213,
          null
         ],
         "z": [
          0.4307789375157499,
          0.9234132190172856,
          null
         ]
        },
        {
         "hoverinfo": "none",
         "line": {
          "color": "rgb(160, 0, 94)",
          "width": 5
         },
         "mode": "lines",
         "type": "scatter3d",
         "x": [
          0.9986539569111779,
          0.501679709804501,
          null
         ],
         "y": [
          0.9070542677416487,
          0.6509351921205243,
          null
         ],
         "z": [
          0.9556434510807901,
          0.2557420715252684,
          null
         ]
        },
        {
         "hoverinfo": "none",
         "line": {
          "color": "rgb(155, 0, 99)",
          "width": 5
         },
         "mode": "lines",
         "type": "scatter3d",
         "x": [
          0.9986539569111779,
          0.31004702442921817,
          null
         ],
         "y": [
          0.9070542677416487,
          0.5137939230177281,
          null
         ],
         "z": [
          0.9556434510807901,
          0.2871275509685244,
          null
         ]
        },
        {
         "hoverinfo": "none",
         "line": {
          "color": "rgb(145, 0, 109)",
          "width": 5
         },
         "mode": "lines",
         "type": "scatter3d",
         "x": [
          0.9986539569111779,
          0.12527795716484647,
          null
         ],
         "y": [
          0.9070542677416487,
          0.42590819470648056,
          null
         ],
         "z": [
          0.9556434510807901,
          0.22897111967207828,
          null
         ]
        },
        {
         "hoverinfo": "none",
         "line": {
          "color": "rgb(146, 0, 108)",
          "width": 5
         },
         "mode": "lines",
         "type": "scatter3d",
         "x": [
          0.9986539569111779,
          0.0033340205544437618,
          null
         ],
         "y": [
          0.9070542677416487,
          0.6742369240765245,
          null
         ],
         "z": [
          0.9556434510807901,
          0.762704950461619,
          null
         ]
        },
        {
         "hoverinfo": "none",
         "line": {
          "color": "rgb(181, 0, 73)",
          "width": 5
         },
         "mode": "lines",
         "type": "scatter3d",
         "x": [
          0.9986539569111779,
          0.0732515794519838,
          null
         ],
         "y": [
          0.9070542677416487,
          0.8701923673251484,
          null
         ],
         "z": [
          0.9556434510807901,
          0.6045679369860963,
          null
         ]
        },
        {
         "hoverinfo": "none",
         "line": {
          "color": "rgb(156, 0, 98)",
          "width": 5
         },
         "mode": "lines",
         "type": "scatter3d",
         "x": [
          0.9986539569111779,
          0.6089646957224183,
          null
         ],
         "y": [
          0.9070542677416487,
          0.6955439464952691,
          null
         ],
         "z": [
          0.9556434510807901,
          0.5145541340751737,
          null
         ]
        },
        {
         "hoverinfo": "none",
         "line": {
          "color": "rgb(158, 0, 96)",
          "width": 5
         },
         "mode": "lines",
         "type": "scatter3d",
         "x": [
          0.9986539569111779,
          0.7617676881945405,
          null
         ],
         "y": [
          0.9070542677416487,
          0.08734622035716166,
          null
         ],
         "z": [
          0.9556434510807901,
          0.019985162604170492,
          null
         ]
        },
        {
         "hoverinfo": "none",
         "line": {
          "color": "rgb(151, 0, 103)",
          "width": 5
         },
         "mode": "lines",
         "type": "scatter3d",
         "x": [
          0.9986539569111779,
          0.09140198066542637,
          null
         ],
         "y": [
          0.9070542677416487,
          0.6872679974496188,
          null
         ],
         "z": [
          0.9556434510807901,
          0.5976164817951554,
          null
         ]
        },
        {
         "hoverinfo": "none",
         "line": {
          "color": "rgb(179, 0, 75)",
          "width": 5
         },
         "mode": "lines",
         "type": "scatter3d",
         "x": [
          0.9986539569111779,
          0.8875933025193696,
          null
         ],
         "y": [
          0.9070542677416487,
          0.6461442759851814,
          null
         ],
         "z": [
          0.9556434510807901,
          0.9798251546705374,
          null
         ]
        },
        {
         "hoverinfo": "none",
         "line": {
          "color": "rgb(148, 0, 106)",
          "width": 5
         },
         "mode": "lines",
         "type": "scatter3d",
         "x": [
          0.9986539569111779,
          0.5361898427486588,
          null
         ],
         "y": [
          0.9070542677416487,
          0.446524506641108,
          null
         ],
         "z": [
          0.9556434510807901,
          0.4974441913413167,
          null
         ]
        },
        {
         "hoverinfo": "none",
         "line": {
          "color": "rgb(168, 0, 86)",
          "width": 5
         },
         "mode": "lines",
         "type": "scatter3d",
         "x": [
          0.9986539569111779,
          0.45584553197330435,
          null
         ],
         "y": [
          0.9070542677416487,
          0.9314710267918207,
          null
         ],
         "z": [
          0.9556434510807901,
          0.08527216752661448,
          null
         ]
        },
        {
         "hoverinfo": "none",
         "line": {
          "color": "rgb(144, 0, 110)",
          "width": 5
         },
         "mode": "lines",
         "type": "scatter3d",
         "x": [
          0.9986539569111779,
          0.29814384455948917,
          null
         ],
         "y": [
          0.9070542677416487,
          0.913970498959155,
          null
         ],
         "z": [
          0.9556434510807901,
          0.5172810096882628,
          null
         ]
        },
        {
         "hoverinfo": "none",
         "line": {
          "color": "rgb(179, 0, 75)",
          "width": 5
         },
         "mode": "lines",
         "type": "scatter3d",
         "x": [
          0.9986539569111779,
          0.48420574600251587,
          null
         ],
         "y": [
          0.9070542677416487,
          0.035867271739588924,
          null
         ],
         "z": [
          0.9556434510807901,
          0.6379515540609895,
          null
         ]
        },
        {
         "hoverinfo": "none",
         "line": {
          "color": "rgb(164, 0, 90)",
          "width": 5
         },
         "mode": "lines",
         "type": "scatter3d",
         "x": [
          0.9986539569111779,
          0.9089047824116294,
          null
         ],
         "y": [
          0.9070542677416487,
          0.8287590101380226,
          null
         ],
         "z": [
          0.9556434510807901,
          0.7249617247199894,
          null
         ]
        },
        {
         "hoverinfo": "none",
         "line": {
          "color": "rgb(162, 0, 92)",
          "width": 5
         },
         "mode": "lines",
         "type": "scatter3d",
         "x": [
          0.9986539569111779,
          0.7437209924748747,
          null
         ],
         "y": [
          0.9070542677416487,
          0.8749951168782174,
          null
         ],
         "z": [
          0.9556434510807901,
          0.55808725432422,
          null
         ]
        },
        {
         "hoverinfo": "none",
         "line": {
          "color": "rgb(161, 0, 93)",
          "width": 5
         },
         "mode": "lines",
         "type": "scatter3d",
         "x": [
          0.9986539569111779,
          0.9899933823406909,
          null
         ],
         "y": [
          0.9070542677416487,
          0.8116762984959474,
          null
         ],
         "z": [
          0.9556434510807901,
          0.5529538225168266,
          null
         ]
        },
        {
         "hoverinfo": "none",
         "line": {
          "color": "rgb(130, 0, 124)",
          "width": 5
         },
         "mode": "lines",
         "type": "scatter3d",
         "x": [
          0.9986539569111779,
          0.029237130063550776,
          null
         ],
         "y": [
          0.9070542677416487,
          0.7177144516707746,
          null
         ],
         "z": [
          0.9556434510807901,
          0.93407367262807,
          null
         ]
        },
        {
         "hoverinfo": "none",
         "line": {
          "color": "rgb(139, 0, 115)",
          "width": 5
         },
         "mode": "lines",
         "type": "scatter3d",
         "x": [
          0.9986539569111779,
          0.9084567300505447,
          null
         ],
         "y": [
          0.9070542677416487,
          0.20255587063475755,
          null
         ],
         "z": [
          0.9556434510807901,
          0.20213503161541646,
          null
         ]
        },
        {
         "hoverinfo": "none",
         "line": {
          "color": "rgb(242, 0, 12)",
          "width": 5
         },
         "mode": "lines",
         "type": "scatter3d",
         "x": [
          0.9986539569111779,
          0.5130255378515045,
          null
         ],
         "y": [
          0.9070542677416487,
          0.40759952541878663,
          null
         ],
         "z": [
          0.9556434510807901,
          0.7089301009412372,
          null
         ]
        },
        {
         "hoverinfo": "none",
         "line": {
          "color": "rgb(227, 0, 27)",
          "width": 5
         },
         "mode": "lines",
         "type": "scatter3d",
         "x": [
          0.9986539569111779,
          0.37714417234346076,
          null
         ],
         "y": [
          0.9070542677416487,
          0.46490286413331594,
          null
         ],
         "z": [
          0.9556434510807901,
          0.9050642221969447,
          null
         ]
        },
        {
         "hoverinfo": "none",
         "line": {
          "color": "rgb(169, 0, 85)",
          "width": 5
         },
         "mode": "lines",
         "type": "scatter3d",
         "x": [
          0.9986539569111779,
          0.8835839599329588,
          null
         ],
         "y": [
          0.9070542677416487,
          0.4956555722359278,
          null
         ],
         "z": [
          0.9556434510807901,
          0.36789989564170444,
          null
         ]
        },
        {
         "hoverinfo": "none",
         "line": {
          "color": "rgb(152, 0, 102)",
          "width": 5
         },
         "mode": "lines",
         "type": "scatter3d",
         "x": [
          0.9986539569111779,
          0.9775739396952102,
          null
         ],
         "y": [
          0.9070542677416487,
          0.7566101111621105,
          null
         ],
         "z": [
          0.9556434510807901,
          0.7144959307654978,
          null
         ]
        },
        {
         "hoverinfo": "none",
         "line": {
          "color": "rgb(191, 0, 63)",
          "width": 5
         },
         "mode": "lines",
         "type": "scatter3d",
         "x": [
          0.9986539569111779,
          0.7621712107473493,
          null
         ],
         "y": [
          0.9070542677416487,
          0.19617547662236412,
          null
         ],
         "z": [
          0.9556434510807901,
          0.6011715579787809,
          null
         ]
        },
        {
         "hoverinfo": "none",
         "line": {
          "color": "rgb(159, 0, 95)",
          "width": 5
         },
         "mode": "lines",
         "type": "scatter3d",
         "x": [
          0.9986539569111779,
          0.8051085491850144,
          null
         ],
         "y": [
          0.9070542677416487,
          0.49025408520097213,
          null
         ],
         "z": [
          0.9556434510807901,
          0.9234132190172856,
          null
         ]
        },
        {
         "hoverinfo": "none",
         "line": {
          "color": "rgb(145, 0, 109)",
          "width": 5
         },
         "mode": "lines",
         "type": "scatter3d",
         "x": [
          0.9986539569111779,
          0.9180647184255689,
          null
         ],
         "y": [
          0.9070542677416487,
          0.11968927821121444,
          null
         ],
         "z": [
          0.9556434510807901,
          0.538659340691881,
          null
         ]
        },
        {
         "hoverinfo": "none",
         "line": {
          "color": "rgb(127, 0, 127)",
          "width": 5
         },
         "mode": "lines",
         "type": "scatter3d",
         "x": [
          0.9986539569111779,
          0.07126594641672113,
          null
         ],
         "y": [
          0.9070542677416487,
          0.29665635191560613,
          null
         ],
         "z": [
          0.9556434510807901,
          0.382696459182143,
          null
         ]
        },
        {
         "hoverinfo": "none",
         "line": {
          "color": "rgb(210, 0, 44)",
          "width": 5
         },
         "mode": "lines",
         "type": "scatter3d",
         "x": [
          0.8875933025193696,
          0.501679709804501,
          null
         ],
         "y": [
          0.6461442759851814,
          0.6509351921205243,
          null
         ],
         "z": [
          0.9798251546705374,
          0.2557420715252684,
          null
         ]
        },
        {
         "hoverinfo": "none",
         "line": {
          "color": "rgb(219, 0, 35)",
          "width": 5
         },
         "mode": "lines",
         "type": "scatter3d",
         "x": [
          0.8875933025193696,
          0.31004702442921817,
          null
         ],
         "y": [
          0.6461442759851814,
          0.5137939230177281,
          null
         ],
         "z": [
          0.9798251546705374,
          0.2871275509685244,
          null
         ]
        },
        {
         "hoverinfo": "none",
         "line": {
          "color": "rgb(190, 0, 64)",
          "width": 5
         },
         "mode": "lines",
         "type": "scatter3d",
         "x": [
          0.8875933025193696,
          0.7617676881945405,
          null
         ],
         "y": [
          0.6461442759851814,
          0.08734622035716166,
          null
         ],
         "z": [
          0.9798251546705374,
          0.019985162604170492,
          null
         ]
        },
        {
         "hoverinfo": "none",
         "line": {
          "color": "rgb(199, 0, 55)",
          "width": 5
         },
         "mode": "lines",
         "type": "scatter3d",
         "x": [
          0.8875933025193696,
          0.12527795716484647,
          null
         ],
         "y": [
          0.6461442759851814,
          0.42590819470648056,
          null
         ],
         "z": [
          0.9798251546705374,
          0.22897111967207828,
          null
         ]
        },
        {
         "hoverinfo": "none",
         "line": {
          "color": "rgb(180, 0, 74)",
          "width": 5
         },
         "mode": "lines",
         "type": "scatter3d",
         "x": [
          0.8875933025193696,
          0.6089646957224183,
          null
         ],
         "y": [
          0.6461442759851814,
          0.6955439464952691,
          null
         ],
         "z": [
          0.9798251546705374,
          0.5145541340751737,
          null
         ]
        },
        {
         "hoverinfo": "none",
         "line": {
          "color": "rgb(180, 0, 74)",
          "width": 5
         },
         "mode": "lines",
         "type": "scatter3d",
         "x": [
          0.8875933025193696,
          0.9775739396952102,
          null
         ],
         "y": [
          0.6461442759851814,
          0.7566101111621105,
          null
         ],
         "z": [
          0.9798251546705374,
          0.7144959307654978,
          null
         ]
        },
        {
         "hoverinfo": "none",
         "line": {
          "color": "rgb(203, 0, 51)",
          "width": 5
         },
         "mode": "lines",
         "type": "scatter3d",
         "x": [
          0.8875933025193696,
          0.09140198066542637,
          null
         ],
         "y": [
          0.6461442759851814,
          0.6872679974496188,
          null
         ],
         "z": [
          0.9798251546705374,
          0.5976164817951554,
          null
         ]
        },
        {
         "hoverinfo": "none",
         "line": {
          "color": "rgb(231, 0, 23)",
          "width": 5
         },
         "mode": "lines",
         "type": "scatter3d",
         "x": [
          0.8875933025193696,
          0.9089047824116294,
          null
         ],
         "y": [
          0.6461442759851814,
          0.8287590101380226,
          null
         ],
         "z": [
          0.9798251546705374,
          0.7249617247199894,
          null
         ]
        },
        {
         "hoverinfo": "none",
         "line": {
          "color": "rgb(191, 0, 63)",
          "width": 5
         },
         "mode": "lines",
         "type": "scatter3d",
         "x": [
          0.8875933025193696,
          0.45584553197330435,
          null
         ],
         "y": [
          0.6461442759851814,
          0.9314710267918207,
          null
         ],
         "z": [
          0.9798251546705374,
          0.08527216752661448,
          null
         ]
        },
        {
         "hoverinfo": "none",
         "line": {
          "color": "rgb(184, 0, 70)",
          "width": 5
         },
         "mode": "lines",
         "type": "scatter3d",
         "x": [
          0.8875933025193696,
          0.0033340205544437618,
          null
         ],
         "y": [
          0.6461442759851814,
          0.6742369240765245,
          null
         ],
         "z": [
          0.9798251546705374,
          0.762704950461619,
          null
         ]
        },
        {
         "hoverinfo": "none",
         "line": {
          "color": "rgb(219, 0, 35)",
          "width": 5
         },
         "mode": "lines",
         "type": "scatter3d",
         "x": [
          0.8875933025193696,
          0.07126594641672113,
          null
         ],
         "y": [
          0.6461442759851814,
          0.29665635191560613,
          null
         ],
         "z": [
          0.9798251546705374,
          0.382696459182143,
          null
         ]
        },
        {
         "hoverinfo": "none",
         "line": {
          "color": "rgb(198, 0, 56)",
          "width": 5
         },
         "mode": "lines",
         "type": "scatter3d",
         "x": [
          0.8875933025193696,
          0.48420574600251587,
          null
         ],
         "y": [
          0.6461442759851814,
          0.035867271739588924,
          null
         ],
         "z": [
          0.9798251546705374,
          0.6379515540609895,
          null
         ]
        },
        {
         "hoverinfo": "none",
         "line": {
          "color": "rgb(187, 0, 67)",
          "width": 5
         },
         "mode": "lines",
         "type": "scatter3d",
         "x": [
          0.8875933025193696,
          0.5361898427486588,
          null
         ],
         "y": [
          0.6461442759851814,
          0.446524506641108,
          null
         ],
         "z": [
          0.9798251546705374,
          0.4974441913413167,
          null
         ]
        },
        {
         "hoverinfo": "none",
         "line": {
          "color": "rgb(246, 0, 8)",
          "width": 5
         },
         "mode": "lines",
         "type": "scatter3d",
         "x": [
          0.8875933025193696,
          0.37714417234346076,
          null
         ],
         "y": [
          0.6461442759851814,
          0.46490286413331594,
          null
         ],
         "z": [
          0.9798251546705374,
          0.9050642221969447,
          null
         ]
        },
        {
         "hoverinfo": "none",
         "line": {
          "color": "rgb(216, 0, 38)",
          "width": 5
         },
         "mode": "lines",
         "type": "scatter3d",
         "x": [
          0.8875933025193696,
          0.0732515794519838,
          null
         ],
         "y": [
          0.6461442759851814,
          0.8701923673251484,
          null
         ],
         "z": [
          0.9798251546705374,
          0.6045679369860963,
          null
         ]
        },
        {
         "hoverinfo": "none",
         "line": {
          "color": "rgb(194, 0, 60)",
          "width": 5
         },
         "mode": "lines",
         "type": "scatter3d",
         "x": [
          0.8875933025193696,
          0.8835839599329588,
          null
         ],
         "y": [
          0.6461442759851814,
          0.4956555722359278,
          null
         ],
         "z": [
          0.9798251546705374,
          0.36789989564170444,
          null
         ]
        },
        {
         "hoverinfo": "none",
         "line": {
          "color": "rgb(158, 0, 96)",
          "width": 5
         },
         "mode": "lines",
         "type": "scatter3d",
         "x": [
          0.8875933025193696,
          0.029237130063550776,
          null
         ],
         "y": [
          0.6461442759851814,
          0.7177144516707746,
          null
         ],
         "z": [
          0.9798251546705374,
          0.93407367262807,
          null
         ]
        },
        {
         "hoverinfo": "none",
         "line": {
          "color": "rgb(197, 0, 57)",
          "width": 5
         },
         "mode": "lines",
         "type": "scatter3d",
         "x": [
          0.8875933025193696,
          0.7437209924748747,
          null
         ],
         "y": [
          0.6461442759851814,
          0.8749951168782174,
          null
         ],
         "z": [
          0.9798251546705374,
          0.55808725432422,
          null
         ]
        },
        {
         "hoverinfo": "none",
         "line": {
          "color": "rgb(151, 0, 103)",
          "width": 5
         },
         "mode": "lines",
         "type": "scatter3d",
         "x": [
          0.8875933025193696,
          0.9084567300505447,
          null
         ],
         "y": [
          0.6461442759851814,
          0.20255587063475755,
          null
         ],
         "z": [
          0.9798251546705374,
          0.20213503161541646,
          null
         ]
        },
        {
         "hoverinfo": "none",
         "line": {
          "color": "rgb(199, 0, 55)",
          "width": 5
         },
         "mode": "lines",
         "type": "scatter3d",
         "x": [
          0.8875933025193696,
          0.9899933823406909,
          null
         ],
         "y": [
          0.6461442759851814,
          0.8116762984959474,
          null
         ],
         "z": [
          0.9798251546705374,
          0.5529538225168266,
          null
         ]
        },
        {
         "hoverinfo": "none",
         "line": {
          "color": "rgb(222, 0, 32)",
          "width": 5
         },
         "mode": "lines",
         "type": "scatter3d",
         "x": [
          0.8875933025193696,
          0.5130255378515045,
          null
         ],
         "y": [
          0.6461442759851814,
          0.40759952541878663,
          null
         ],
         "z": [
          0.9798251546705374,
          0.7089301009412372,
          null
         ]
        },
        {
         "hoverinfo": "none",
         "line": {
          "color": "rgb(255, 0, 0)",
          "width": 5
         },
         "mode": "lines",
         "type": "scatter3d",
         "x": [
          0.8875933025193696,
          0.8051085491850144,
          null
         ],
         "y": [
          0.6461442759851814,
          0.49025408520097213,
          null
         ],
         "z": [
          0.9798251546705374,
          0.9234132190172856,
          null
         ]
        },
        {
         "hoverinfo": "none",
         "line": {
          "color": "rgb(166, 0, 88)",
          "width": 5
         },
         "mode": "lines",
         "type": "scatter3d",
         "x": [
          0.8875933025193696,
          0.29814384455948917,
          null
         ],
         "y": [
          0.6461442759851814,
          0.913970498959155,
          null
         ],
         "z": [
          0.9798251546705374,
          0.5172810096882628,
          null
         ]
        },
        {
         "hoverinfo": "none",
         "line": {
          "color": "rgb(200, 0, 54)",
          "width": 5
         },
         "mode": "lines",
         "type": "scatter3d",
         "x": [
          0.8875933025193696,
          0.7621712107473493,
          null
         ],
         "y": [
          0.6461442759851814,
          0.19617547662236412,
          null
         ],
         "z": [
          0.9798251546705374,
          0.6011715579787809,
          null
         ]
        },
        {
         "hoverinfo": "none",
         "line": {
          "color": "rgb(210, 0, 44)",
          "width": 5
         },
         "mode": "lines",
         "type": "scatter3d",
         "x": [
          0.8875933025193696,
          0.9180647184255689,
          null
         ],
         "y": [
          0.6461442759851814,
          0.11968927821121444,
          null
         ],
         "z": [
          0.9798251546705374,
          0.538659340691881,
          null
         ]
        },
        {
         "hoverinfo": "none",
         "line": {
          "color": "rgb(204, 0, 51)",
          "width": 5
         },
         "mode": "lines",
         "type": "scatter3d",
         "x": [
          0.5130255378515045,
          0.0033340205544437618,
          null
         ],
         "y": [
          0.40759952541878663,
          0.6742369240765245,
          null
         ],
         "z": [
          0.7089301009412372,
          0.762704950461619,
          null
         ]
        },
        {
         "hoverinfo": "none",
         "line": {
          "color": "rgb(217, 0, 37)",
          "width": 5
         },
         "mode": "lines",
         "type": "scatter3d",
         "x": [
          0.5130255378515045,
          0.501679709804501,
          null
         ],
         "y": [
          0.40759952541878663,
          0.6509351921205243,
          null
         ],
         "z": [
          0.7089301009412372,
          0.2557420715252684,
          null
         ]
        },
        {
         "hoverinfo": "none",
         "line": {
          "color": "rgb(220, 0, 34)",
          "width": 5
         },
         "mode": "lines",
         "type": "scatter3d",
         "x": [
          0.5130255378515045,
          0.9775739396952102,
          null
         ],
         "y": [
          0.40759952541878663,
          0.7566101111621105,
          null
         ],
         "z": [
          0.7089301009412372,
          0.7144959307654978,
          null
         ]
        },
        {
         "hoverinfo": "none",
         "line": {
          "color": "rgb(246, 0, 8)",
          "width": 5
         },
         "mode": "lines",
         "type": "scatter3d",
         "x": [
          0.5130255378515045,
          0.7437209924748747,
          null
         ],
         "y": [
          0.40759952541878663,
          0.8749951168782174,
          null
         ],
         "z": [
          0.7089301009412372,
          0.55808725432422,
          null
         ]
        },
        {
         "hoverinfo": "none",
         "line": {
          "color": "rgb(228, 0, 26)",
          "width": 5
         },
         "mode": "lines",
         "type": "scatter3d",
         "x": [
          0.5130255378515045,
          0.8835839599329588,
          null
         ],
         "y": [
          0.40759952541878663,
          0.4956555722359278,
          null
         ],
         "z": [
          0.7089301009412372,
          0.36789989564170444,
          null
         ]
        },
        {
         "hoverinfo": "none",
         "line": {
          "color": "rgb(238, 0, 16)",
          "width": 5
         },
         "mode": "lines",
         "type": "scatter3d",
         "x": [
          0.5130255378515045,
          0.0732515794519838,
          null
         ],
         "y": [
          0.40759952541878663,
          0.8701923673251484,
          null
         ],
         "z": [
          0.7089301009412372,
          0.6045679369860963,
          null
         ]
        },
        {
         "hoverinfo": "none",
         "line": {
          "color": "rgb(239, 0, 15)",
          "width": 5
         },
         "mode": "lines",
         "type": "scatter3d",
         "x": [
          0.5130255378515045,
          0.6089646957224183,
          null
         ],
         "y": [
          0.40759952541878663,
          0.6955439464952691,
          null
         ],
         "z": [
          0.7089301009412372,
          0.5145541340751737,
          null
         ]
        },
        {
         "hoverinfo": "none",
         "line": {
          "color": "rgb(248, 0, 6)",
          "width": 5
         },
         "mode": "lines",
         "type": "scatter3d",
         "x": [
          0.5130255378515045,
          0.29814384455948917,
          null
         ],
         "y": [
          0.40759952541878663,
          0.913970498959155,
          null
         ],
         "z": [
          0.7089301009412372,
          0.5172810096882628,
          null
         ]
        },
        {
         "hoverinfo": "none",
         "line": {
          "color": "rgb(223, 0, 31)",
          "width": 5
         },
         "mode": "lines",
         "type": "scatter3d",
         "x": [
          0.5130255378515045,
          0.48420574600251587,
          null
         ],
         "y": [
          0.40759952541878663,
          0.035867271739588924,
          null
         ],
         "z": [
          0.7089301009412372,
          0.6379515540609895,
          null
         ]
        },
        {
         "hoverinfo": "none",
         "line": {
          "color": "rgb(233, 0, 21)",
          "width": 5
         },
         "mode": "lines",
         "type": "scatter3d",
         "x": [
          0.5130255378515045,
          0.5361898427486588,
          null
         ],
         "y": [
          0.40759952541878663,
          0.446524506641108,
          null
         ],
         "z": [
          0.7089301009412372,
          0.4974441913413167,
          null
         ]
        },
        {
         "hoverinfo": "none",
         "line": {
          "color": "rgb(210, 0, 45)",
          "width": 5
         },
         "mode": "lines",
         "type": "scatter3d",
         "x": [
          0.5130255378515045,
          0.9899933823406909,
          null
         ],
         "y": [
          0.40759952541878663,
          0.8116762984959474,
          null
         ],
         "z": [
          0.7089301009412372,
          0.5529538225168266,
          null
         ]
        },
        {
         "hoverinfo": "none",
         "line": {
          "color": "rgb(217, 0, 37)",
          "width": 5
         },
         "mode": "lines",
         "type": "scatter3d",
         "x": [
          0.5130255378515045,
          0.45584553197330435,
          null
         ],
         "y": [
          0.40759952541878663,
          0.9314710267918207,
          null
         ],
         "z": [
          0.7089301009412372,
          0.08527216752661448,
          null
         ]
        },
        {
         "hoverinfo": "none",
         "line": {
          "color": "rgb(212, 0, 42)",
          "width": 5
         },
         "mode": "lines",
         "type": "scatter3d",
         "x": [
          0.5130255378515045,
          0.9084567300505447,
          null
         ],
         "y": [
          0.40759952541878663,
          0.20255587063475755,
          null
         ],
         "z": [
          0.7089301009412372,
          0.20213503161541646,
          null
         ]
        },
        {
         "hoverinfo": "none",
         "line": {
          "color": "rgb(160, 0, 94)",
          "width": 5
         },
         "mode": "lines",
         "type": "scatter3d",
         "x": [
          0.5130255378515045,
          0.7617676881945405,
          null
         ],
         "y": [
          0.40759952541878663,
          0.08734622035716166,
          null
         ],
         "z": [
          0.7089301009412372,
          0.019985162604170492,
          null
         ]
        },
        {
         "hoverinfo": "none",
         "line": {
          "color": "rgb(215, 0, 39)",
          "width": 5
         },
         "mode": "lines",
         "type": "scatter3d",
         "x": [
          0.5130255378515045,
          0.029237130063550776,
          null
         ],
         "y": [
          0.40759952541878663,
          0.7177144516707746,
          null
         ],
         "z": [
          0.7089301009412372,
          0.93407367262807,
          null
         ]
        },
        {
         "hoverinfo": "none",
         "line": {
          "color": "rgb(228, 0, 26)",
          "width": 5
         },
         "mode": "lines",
         "type": "scatter3d",
         "x": [
          0.5130255378515045,
          0.09140198066542637,
          null
         ],
         "y": [
          0.40759952541878663,
          0.6872679974496188,
          null
         ],
         "z": [
          0.7089301009412372,
          0.5976164817951554,
          null
         ]
        },
        {
         "hoverinfo": "none",
         "line": {
          "color": "rgb(255, 0, 0)",
          "width": 5
         },
         "mode": "lines",
         "type": "scatter3d",
         "x": [
          0.5130255378515045,
          0.12527795716484647,
          null
         ],
         "y": [
          0.40759952541878663,
          0.42590819470648056,
          null
         ],
         "z": [
          0.7089301009412372,
          0.22897111967207828,
          null
         ]
        },
        {
         "hoverinfo": "none",
         "line": {
          "color": "rgb(204, 0, 51)",
          "width": 5
         },
         "mode": "lines",
         "type": "scatter3d",
         "x": [
          0.5130255378515045,
          0.9089047824116294,
          null
         ],
         "y": [
          0.40759952541878663,
          0.8287590101380226,
          null
         ],
         "z": [
          0.7089301009412372,
          0.7249617247199894,
          null
         ]
        },
        {
         "hoverinfo": "none",
         "line": {
          "color": "rgb(255, 0, 0)",
          "width": 5
         },
         "mode": "lines",
         "type": "scatter3d",
         "x": [
          0.5130255378515045,
          0.7621712107473493,
          null
         ],
         "y": [
          0.40759952541878663,
          0.19617547662236412,
          null
         ],
         "z": [
          0.7089301009412372,
          0.6011715579787809,
          null
         ]
        },
        {
         "hoverinfo": "none",
         "line": {
          "color": "rgb(218, 0, 36)",
          "width": 5
         },
         "mode": "lines",
         "type": "scatter3d",
         "x": [
          0.5130255378515045,
          0.31004702442921817,
          null
         ],
         "y": [
          0.40759952541878663,
          0.5137939230177281,
          null
         ],
         "z": [
          0.7089301009412372,
          0.2871275509685244,
          null
         ]
        },
        {
         "hoverinfo": "none",
         "line": {
          "color": "rgb(255, 0, 0)",
          "width": 5
         },
         "mode": "lines",
         "type": "scatter3d",
         "x": [
          0.5130255378515045,
          0.37714417234346076,
          null
         ],
         "y": [
          0.40759952541878663,
          0.46490286413331594,
          null
         ],
         "z": [
          0.7089301009412372,
          0.9050642221969447,
          null
         ]
        },
        {
         "hoverinfo": "none",
         "line": {
          "color": "rgb(255, 0, 0)",
          "width": 5
         },
         "mode": "lines",
         "type": "scatter3d",
         "x": [
          0.5130255378515045,
          0.07126594641672113,
          null
         ],
         "y": [
          0.40759952541878663,
          0.29665635191560613,
          null
         ],
         "z": [
          0.7089301009412372,
          0.382696459182143,
          null
         ]
        },
        {
         "hoverinfo": "none",
         "line": {
          "color": "rgb(153, 0, 102)",
          "width": 5
         },
         "mode": "lines",
         "type": "scatter3d",
         "x": [
          0.12527795716484647,
          0.9084567300505447,
          null
         ],
         "y": [
          0.42590819470648056,
          0.20255587063475755,
          null
         ],
         "z": [
          0.22897111967207828,
          0.20213503161541646,
          null
         ]
        },
        {
         "hoverinfo": "none",
         "line": {
          "color": "rgb(127, 0, 127)",
          "width": 5
         },
         "mode": "lines",
         "type": "scatter3d",
         "x": [
          0.12527795716484647,
          0.0033340205544437618,
          null
         ],
         "y": [
          0.42590819470648056,
          0.6742369240765245,
          null
         ],
         "z": [
          0.22897111967207828,
          0.762704950461619,
          null
         ]
        },
        {
         "hoverinfo": "none",
         "line": {
          "color": "rgb(201, 0, 53)",
          "width": 5
         },
         "mode": "lines",
         "type": "scatter3d",
         "x": [
          0.12527795716484647,
          0.501679709804501,
          null
         ],
         "y": [
          0.42590819470648056,
          0.6509351921205243,
          null
         ],
         "z": [
          0.22897111967207828,
          0.2557420715252684,
          null
         ]
        },
        {
         "hoverinfo": "none",
         "line": {
          "color": "rgb(153, 0, 102)",
          "width": 5
         },
         "mode": "lines",
         "type": "scatter3d",
         "x": [
          0.12527795716484647,
          0.9899933823406909,
          null
         ],
         "y": [
          0.42590819470648056,
          0.8116762984959474,
          null
         ],
         "z": [
          0.22897111967207828,
          0.5529538225168266,
          null
         ]
        },
        {
         "hoverinfo": "none",
         "line": {
          "color": "rgb(198, 0, 56)",
          "width": 5
         },
         "mode": "lines",
         "type": "scatter3d",
         "x": [
          0.12527795716484647,
          0.29814384455948917,
          null
         ],
         "y": [
          0.42590819470648056,
          0.913970498959155,
          null
         ],
         "z": [
          0.22897111967207828,
          0.5172810096882628,
          null
         ]
        },
        {
         "hoverinfo": "none",
         "line": {
          "color": "rgb(199, 0, 55)",
          "width": 5
         },
         "mode": "lines",
         "type": "scatter3d",
         "x": [
          0.12527795716484647,
          0.0732515794519838,
          null
         ],
         "y": [
          0.42590819470648056,
          0.8701923673251484,
          null
         ],
         "z": [
          0.22897111967207828,
          0.6045679369860963,
          null
         ]
        },
        {
         "hoverinfo": "none",
         "line": {
          "color": "rgb(173, 0, 81)",
          "width": 5
         },
         "mode": "lines",
         "type": "scatter3d",
         "x": [
          0.12527795716484647,
          0.7617676881945405,
          null
         ],
         "y": [
          0.42590819470648056,
          0.08734622035716166,
          null
         ],
         "z": [
          0.22897111967207828,
          0.019985162604170492,
          null
         ]
        },
        {
         "hoverinfo": "none",
         "line": {
          "color": "rgb(127, 0, 127)",
          "width": 5
         },
         "mode": "lines",
         "type": "scatter3d",
         "x": [
          0.12527795716484647,
          0.09140198066542637,
          null
         ],
         "y": [
          0.42590819470648056,
          0.6872679974496188,
          null
         ],
         "z": [
          0.22897111967207828,
          0.5976164817951554,
          null
         ]
        },
        {
         "hoverinfo": "none",
         "line": {
          "color": "rgb(153, 0, 102)",
          "width": 5
         },
         "mode": "lines",
         "type": "scatter3d",
         "x": [
          0.12527795716484647,
          0.37714417234346076,
          null
         ],
         "y": [
          0.42590819470648056,
          0.46490286413331594,
          null
         ],
         "z": [
          0.22897111967207828,
          0.9050642221969447,
          null
         ]
        },
        {
         "hoverinfo": "none",
         "line": {
          "color": "rgb(133, 0, 121)",
          "width": 5
         },
         "mode": "lines",
         "type": "scatter3d",
         "x": [
          0.12527795716484647,
          0.6089646957224183,
          null
         ],
         "y": [
          0.42590819470648056,
          0.6955439464952691,
          null
         ],
         "z": [
          0.22897111967207828,
          0.5145541340751737,
          null
         ]
        },
        {
         "hoverinfo": "none",
         "line": {
          "color": "rgb(196, 0, 58)",
          "width": 5
         },
         "mode": "lines",
         "type": "scatter3d",
         "x": [
          0.12527795716484647,
          0.45584553197330435,
          null
         ],
         "y": [
          0.42590819470648056,
          0.9314710267918207,
          null
         ],
         "z": [
          0.22897111967207828,
          0.08527216752661448,
          null
         ]
        },
        {
         "hoverinfo": "none",
         "line": {
          "color": "rgb(135, 0, 120)",
          "width": 5
         },
         "mode": "lines",
         "type": "scatter3d",
         "x": [
          0.12527795716484647,
          0.029237130063550776,
          null
         ],
         "y": [
          0.42590819470648056,
          0.7177144516707746,
          null
         ],
         "z": [
          0.22897111967207828,
          0.93407367262807,
          null
         ]
        },
        {
         "hoverinfo": "none",
         "line": {
          "color": "rgb(143, 0, 111)",
          "width": 5
         },
         "mode": "lines",
         "type": "scatter3d",
         "x": [
          0.12527795716484647,
          0.5361898427486588,
          null
         ],
         "y": [
          0.42590819470648056,
          0.446524506641108,
          null
         ],
         "z": [
          0.22897111967207828,
          0.4974441913413167,
          null
         ]
        },
        {
         "hoverinfo": "none",
         "line": {
          "color": "rgb(198, 0, 56)",
          "width": 5
         },
         "mode": "lines",
         "type": "scatter3d",
         "x": [
          0.12527795716484647,
          0.9089047824116294,
          null
         ],
         "y": [
          0.42590819470648056,
          0.8287590101380226,
          null
         ],
         "z": [
          0.22897111967207828,
          0.7249617247199894,
          null
         ]
        },
        {
         "hoverinfo": "none",
         "line": {
          "color": "rgb(182, 0, 72)",
          "width": 5
         },
         "mode": "lines",
         "type": "scatter3d",
         "x": [
          0.12527795716484647,
          0.9775739396952102,
          null
         ],
         "y": [
          0.42590819470648056,
          0.7566101111621105,
          null
         ],
         "z": [
          0.22897111967207828,
          0.7144959307654978,
          null
         ]
        },
        {
         "hoverinfo": "none",
         "line": {
          "color": "rgb(179, 0, 75)",
          "width": 5
         },
         "mode": "lines",
         "type": "scatter3d",
         "x": [
          0.12527795716484647,
          0.48420574600251587,
          null
         ],
         "y": [
          0.42590819470648056,
          0.035867271739588924,
          null
         ],
         "z": [
          0.22897111967207828,
          0.6379515540609895,
          null
         ]
        },
        {
         "hoverinfo": "none",
         "line": {
          "color": "rgb(226, 0, 28)",
          "width": 5
         },
         "mode": "lines",
         "type": "scatter3d",
         "x": [
          0.12527795716484647,
          0.8835839599329588,
          null
         ],
         "y": [
          0.42590819470648056,
          0.4956555722359278,
          null
         ],
         "z": [
          0.22897111967207828,
          0.36789989564170444,
          null
         ]
        },
        {
         "hoverinfo": "none",
         "line": {
          "color": "rgb(85, 0, 170)",
          "width": 5
         },
         "mode": "lines",
         "type": "scatter3d",
         "x": [
          0.12527795716484647,
          0.9180647184255689,
          null
         ],
         "y": [
          0.42590819470648056,
          0.11968927821121444,
          null
         ],
         "z": [
          0.22897111967207828,
          0.538659340691881,
          null
         ]
        },
        {
         "hoverinfo": "none",
         "line": {
          "color": "rgb(159, 0, 95)",
          "width": 5
         },
         "mode": "lines",
         "type": "scatter3d",
         "x": [
          0.12527795716484647,
          0.7437209924748747,
          null
         ],
         "y": [
          0.42590819470648056,
          0.8749951168782174,
          null
         ],
         "z": [
          0.22897111967207828,
          0.55808725432422,
          null
         ]
        },
        {
         "hoverinfo": "none",
         "line": {
          "color": "rgb(255, 0, 0)",
          "width": 5
         },
         "mode": "lines",
         "type": "scatter3d",
         "x": [
          0.12527795716484647,
          0.31004702442921817,
          null
         ],
         "y": [
          0.42590819470648056,
          0.5137939230177281,
          null
         ],
         "z": [
          0.22897111967207828,
          0.2871275509685244,
          null
         ]
        },
        {
         "hoverinfo": "none",
         "line": {
          "color": "rgb(85, 0, 170)",
          "width": 5
         },
         "mode": "lines",
         "type": "scatter3d",
         "x": [
          0.12527795716484647,
          0.07126594641672113,
          null
         ],
         "y": [
          0.42590819470648056,
          0.29665635191560613,
          null
         ],
         "z": [
          0.22897111967207828,
          0.382696459182143,
          null
         ]
        },
        {
         "hoverinfo": "none",
         "line": {
          "color": "rgb(127, 0, 127)",
          "width": 5
         },
         "mode": "lines",
         "type": "scatter3d",
         "x": [
          0.12527795716484647,
          0.8051085491850144,
          null
         ],
         "y": [
          0.42590819470648056,
          0.49025408520097213,
          null
         ],
         "z": [
          0.22897111967207828,
          0.9234132190172856,
          null
         ]
        },
        {
         "hoverinfo": "none",
         "line": {
          "color": "rgb(255, 0, 0)",
          "width": 5
         },
         "mode": "lines",
         "type": "scatter3d",
         "x": [
          0.12527795716484647,
          0.7621712107473493,
          null
         ],
         "y": [
          0.42590819470648056,
          0.19617547662236412,
          null
         ],
         "z": [
          0.22897111967207828,
          0.6011715579787809,
          null
         ]
        },
        {
         "hoverinfo": "none",
         "line": {
          "color": "rgb(127, 0, 127)",
          "width": 5
         },
         "mode": "lines",
         "type": "scatter3d",
         "x": [
          0.0033340205544437618,
          0.31004702442921817,
          null
         ],
         "y": [
          0.6742369240765245,
          0.5137939230177281,
          null
         ],
         "z": [
          0.762704950461619,
          0.2871275509685244,
          null
         ]
        },
        {
         "hoverinfo": "none",
         "line": {
          "color": "rgb(189, 0, 65)",
          "width": 5
         },
         "mode": "lines",
         "type": "scatter3d",
         "x": [
          0.0033340205544437618,
          0.0732515794519838,
          null
         ],
         "y": [
          0.6742369240765245,
          0.8701923673251484,
          null
         ],
         "z": [
          0.762704950461619,
          0.6045679369860963,
          null
         ]
        },
        {
         "hoverinfo": "none",
         "line": {
          "color": "rgb(191, 0, 63)",
          "width": 5
         },
         "mode": "lines",
         "type": "scatter3d",
         "x": [
          0.0033340205544437618,
          0.9089047824116294,
          null
         ],
         "y": [
          0.6742369240765245,
          0.8287590101380226,
          null
         ],
         "z": [
          0.762704950461619,
          0.7249617247199894,
          null
         ]
        },
        {
         "hoverinfo": "none",
         "line": {
          "color": "rgb(153, 0, 101)",
          "width": 5
         },
         "mode": "lines",
         "type": "scatter3d",
         "x": [
          0.0033340205544437618,
          0.8835839599329588,
          null
         ],
         "y": [
          0.6742369240765245,
          0.4956555722359278,
          null
         ],
         "z": [
          0.762704950461619,
          0.36789989564170444,
          null
         ]
        },
        {
         "hoverinfo": "none",
         "line": {
          "color": "rgb(197, 0, 57)",
          "width": 5
         },
         "mode": "lines",
         "type": "scatter3d",
         "x": [
          0.0033340205544437618,
          0.37714417234346076,
          null
         ],
         "y": [
          0.6742369240765245,
          0.46490286413331594,
          null
         ],
         "z": [
          0.762704950461619,
          0.9050642221969447,
          null
         ]
        },
        {
         "hoverinfo": "none",
         "line": {
          "color": "rgb(172, 0, 82)",
          "width": 5
         },
         "mode": "lines",
         "type": "scatter3d",
         "x": [
          0.0033340205544437618,
          0.6089646957224183,
          null
         ],
         "y": [
          0.6742369240765245,
          0.6955439464952691,
          null
         ],
         "z": [
          0.762704950461619,
          0.5145541340751737,
          null
         ]
        },
        {
         "hoverinfo": "none",
         "line": {
          "color": "rgb(165, 0, 89)",
          "width": 5
         },
         "mode": "lines",
         "type": "scatter3d",
         "x": [
          0.0033340205544437618,
          0.501679709804501,
          null
         ],
         "y": [
          0.6742369240765245,
          0.6509351921205243,
          null
         ],
         "z": [
          0.762704950461619,
          0.2557420715252684,
          null
         ]
        },
        {
         "hoverinfo": "none",
         "line": {
          "color": "rgb(178, 0, 76)",
          "width": 5
         },
         "mode": "lines",
         "type": "scatter3d",
         "x": [
          0.0033340205544437618,
          0.7617676881945405,
          null
         ],
         "y": [
          0.6742369240765245,
          0.08734622035716166,
          null
         ],
         "z": [
          0.762704950461619,
          0.019985162604170492,
          null
         ]
        },
        {
         "hoverinfo": "none",
         "line": {
          "color": "rgb(157, 0, 97)",
          "width": 5
         },
         "mode": "lines",
         "type": "scatter3d",
         "x": [
          0.0033340205544437618,
          0.45584553197330435,
          null
         ],
         "y": [
          0.6742369240765245,
          0.9314710267918207,
          null
         ],
         "z": [
          0.762704950461619,
          0.08527216752661448,
          null
         ]
        },
        {
         "hoverinfo": "none",
         "line": {
          "color": "rgb(154, 0, 100)",
          "width": 5
         },
         "mode": "lines",
         "type": "scatter3d",
         "x": [
          0.0033340205544437618,
          0.9899933823406909,
          null
         ],
         "y": [
          0.6742369240765245,
          0.8116762984959474,
          null
         ],
         "z": [
          0.762704950461619,
          0.5529538225168266,
          null
         ]
        },
        {
         "hoverinfo": "none",
         "line": {
          "color": "rgb(183, 0, 71)",
          "width": 5
         },
         "mode": "lines",
         "type": "scatter3d",
         "x": [
          0.0033340205544437618,
          0.48420574600251587,
          null
         ],
         "y": [
          0.6742369240765245,
          0.035867271739588924,
          null
         ],
         "z": [
          0.762704950461619,
          0.6379515540609895,
          null
         ]
        },
        {
         "hoverinfo": "none",
         "line": {
          "color": "rgb(153, 0, 101)",
          "width": 5
         },
         "mode": "lines",
         "type": "scatter3d",
         "x": [
          0.0033340205544437618,
          0.9084567300505447,
          null
         ],
         "y": [
          0.6742369240765245,
          0.20255587063475755,
          null
         ],
         "z": [
          0.762704950461619,
          0.20213503161541646,
          null
         ]
        },
        {
         "hoverinfo": "none",
         "line": {
          "color": "rgb(167, 0, 87)",
          "width": 5
         },
         "mode": "lines",
         "type": "scatter3d",
         "x": [
          0.0033340205544437618,
          0.7437209924748747,
          null
         ],
         "y": [
          0.6742369240765245,
          0.8749951168782174,
          null
         ],
         "z": [
          0.762704950461619,
          0.55808725432422,
          null
         ]
        },
        {
         "hoverinfo": "none",
         "line": {
          "color": "rgb(152, 0, 102)",
          "width": 5
         },
         "mode": "lines",
         "type": "scatter3d",
         "x": [
          0.0033340205544437618,
          0.5361898427486588,
          null
         ],
         "y": [
          0.6742369240765245,
          0.446524506641108,
          null
         ],
         "z": [
          0.762704950461619,
          0.4974441913413167,
          null
         ]
        },
        {
         "hoverinfo": "none",
         "line": {
          "color": "rgb(191, 0, 63)",
          "width": 5
         },
         "mode": "lines",
         "type": "scatter3d",
         "x": [
          0.0033340205544437618,
          0.9180647184255689,
          null
         ],
         "y": [
          0.6742369240765245,
          0.11968927821121444,
          null
         ],
         "z": [
          0.762704950461619,
          0.538659340691881,
          null
         ]
        },
        {
         "hoverinfo": "none",
         "line": {
          "color": "rgb(145, 0, 109)",
          "width": 5
         },
         "mode": "lines",
         "type": "scatter3d",
         "x": [
          0.0033340205544437618,
          0.029237130063550776,
          null
         ],
         "y": [
          0.6742369240765245,
          0.7177144516707746,
          null
         ],
         "z": [
          0.762704950461619,
          0.93407367262807,
          null
         ]
        },
        {
         "hoverinfo": "none",
         "line": {
          "color": "rgb(164, 0, 90)",
          "width": 5
         },
         "mode": "lines",
         "type": "scatter3d",
         "x": [
          0.0033340205544437618,
          0.9775739396952102,
          null
         ],
         "y": [
          0.6742369240765245,
          0.7566101111621105,
          null
         ],
         "z": [
          0.762704950461619,
          0.7144959307654978,
          null
         ]
        },
        {
         "hoverinfo": "none",
         "line": {
          "color": "rgb(156, 0, 98)",
          "width": 5
         },
         "mode": "lines",
         "type": "scatter3d",
         "x": [
          0.0033340205544437618,
          0.29814384455948917,
          null
         ],
         "y": [
          0.6742369240765245,
          0.913970498959155,
          null
         ],
         "z": [
          0.762704950461619,
          0.5172810096882628,
          null
         ]
        },
        {
         "hoverinfo": "none",
         "line": {
          "color": "rgb(177, 0, 77)",
          "width": 5
         },
         "mode": "lines",
         "type": "scatter3d",
         "x": [
          0.0033340205544437618,
          0.09140198066542637,
          null
         ],
         "y": [
          0.6742369240765245,
          0.6872679974496188,
          null
         ],
         "z": [
          0.762704950461619,
          0.5976164817951554,
          null
         ]
        },
        {
         "hoverinfo": "none",
         "line": {
          "color": "rgb(150, 0, 104)",
          "width": 5
         },
         "mode": "lines",
         "type": "scatter3d",
         "x": [
          0.0033340205544437618,
          0.7621712107473493,
          null
         ],
         "y": [
          0.6742369240765245,
          0.19617547662236412,
          null
         ],
         "z": [
          0.762704950461619,
          0.6011715579787809,
          null
         ]
        },
        {
         "hoverinfo": "none",
         "line": {
          "color": "rgb(105, 0, 150)",
          "width": 5
         },
         "mode": "lines",
         "type": "scatter3d",
         "x": [
          0.0033340205544437618,
          0.8051085491850144,
          null
         ],
         "y": [
          0.6742369240765245,
          0.49025408520097213,
          null
         ],
         "z": [
          0.762704950461619,
          0.9234132190172856,
          null
         ]
        },
        {
         "hoverinfo": "none",
         "line": {
          "color": "rgb(170, 0, 85)",
          "width": 5
         },
         "mode": "lines",
         "type": "scatter3d",
         "x": [
          0.0033340205544437618,
          0.07126594641672113,
          null
         ],
         "y": [
          0.6742369240765245,
          0.29665635191560613,
          null
         ],
         "z": [
          0.762704950461619,
          0.382696459182143,
          null
         ]
        },
        {
         "hoverinfo": "none",
         "line": {
          "color": "rgb(161, 0, 93)",
          "width": 5
         },
         "mode": "lines",
         "type": "scatter3d",
         "x": [
          0.7437209924748747,
          0.9084567300505447,
          null
         ],
         "y": [
          0.8749951168782174,
          0.20255587063475755,
          null
         ],
         "z": [
          0.55808725432422,
          0.20213503161541646,
          null
         ]
        },
        {
         "hoverinfo": "none",
         "line": {
          "color": "rgb(169, 0, 85)",
          "width": 5
         },
         "mode": "lines",
         "type": "scatter3d",
         "x": [
          0.7437209924748747,
          0.8835839599329588,
          null
         ],
         "y": [
          0.8749951168782174,
          0.4956555722359278,
          null
         ],
         "z": [
          0.55808725432422,
          0.36789989564170444,
          null
         ]
        },
        {
         "hoverinfo": "none",
         "line": {
          "color": "rgb(226, 0, 28)",
          "width": 5
         },
         "mode": "lines",
         "type": "scatter3d",
         "x": [
          0.7437209924748747,
          0.31004702442921817,
          null
         ],
         "y": [
          0.8749951168782174,
          0.5137939230177281,
          null
         ],
         "z": [
          0.55808725432422,
          0.2871275509685244,
          null
         ]
        },
        {
         "hoverinfo": "none",
         "line": {
          "color": "rgb(196, 0, 58)",
          "width": 5
         },
         "mode": "lines",
         "type": "scatter3d",
         "x": [
          0.7437209924748747,
          0.6089646957224183,
          null
         ],
         "y": [
          0.8749951168782174,
          0.6955439464952691,
          null
         ],
         "z": [
          0.55808725432422,
          0.5145541340751737,
          null
         ]
        },
        {
         "hoverinfo": "none",
         "line": {
          "color": "rgb(208, 0, 46)",
          "width": 5
         },
         "mode": "lines",
         "type": "scatter3d",
         "x": [
          0.7437209924748747,
          0.501679709804501,
          null
         ],
         "y": [
          0.8749951168782174,
          0.6509351921205243,
          null
         ],
         "z": [
          0.55808725432422,
          0.2557420715252684,
          null
         ]
        },
        {
         "hoverinfo": "none",
         "line": {
          "color": "rgb(199, 0, 55)",
          "width": 5
         },
         "mode": "lines",
         "type": "scatter3d",
         "x": [
          0.7437209924748747,
          0.0732515794519838,
          null
         ],
         "y": [
          0.8749951168782174,
          0.8701923673251484,
          null
         ],
         "z": [
          0.55808725432422,
          0.6045679369860963,
          null
         ]
        },
        {
         "hoverinfo": "none",
         "line": {
          "color": "rgb(182, 0, 72)",
          "width": 5
         },
         "mode": "lines",
         "type": "scatter3d",
         "x": [
          0.7437209924748747,
          0.9775739396952102,
          null
         ],
         "y": [
          0.8749951168782174,
          0.7566101111621105,
          null
         ],
         "z": [
          0.55808725432422,
          0.7144959307654978,
          null
         ]
        },
        {
         "hoverinfo": "none",
         "line": {
          "color": "rgb(177, 0, 77)",
          "width": 5
         },
         "mode": "lines",
         "type": "scatter3d",
         "x": [
          0.7437209924748747,
          0.9899933823406909,
          null
         ],
         "y": [
          0.8749951168782174,
          0.8116762984959474,
          null
         ],
         "z": [
          0.55808725432422,
          0.5529538225168266,
          null
         ]
        },
        {
         "hoverinfo": "none",
         "line": {
          "color": "rgb(179, 0, 75)",
          "width": 5
         },
         "mode": "lines",
         "type": "scatter3d",
         "x": [
          0.7437209924748747,
          0.29814384455948917,
          null
         ],
         "y": [
          0.8749951168782174,
          0.913970498959155,
          null
         ],
         "z": [
          0.55808725432422,
          0.5172810096882628,
          null
         ]
        },
        {
         "hoverinfo": "none",
         "line": {
          "color": "rgb(165, 0, 89)",
          "width": 5
         },
         "mode": "lines",
         "type": "scatter3d",
         "x": [
          0.7437209924748747,
          0.029237130063550776,
          null
         ],
         "y": [
          0.8749951168782174,
          0.7177144516707746,
          null
         ],
         "z": [
          0.55808725432422,
          0.93407367262807,
          null
         ]
        },
        {
         "hoverinfo": "none",
         "line": {
          "color": "rgb(167, 0, 87)",
          "width": 5
         },
         "mode": "lines",
         "type": "scatter3d",
         "x": [
          0.7437209924748747,
          0.7617676881945405,
          null
         ],
         "y": [
          0.8749951168782174,
          0.08734622035716166,
          null
         ],
         "z": [
          0.55808725432422,
          0.019985162604170492,
          null
         ]
        },
        {
         "hoverinfo": "none",
         "line": {
          "color": "rgb(177, 0, 77)",
          "width": 5
         },
         "mode": "lines",
         "type": "scatter3d",
         "x": [
          0.7437209924748747,
          0.5361898427486588,
          null
         ],
         "y": [
          0.8749951168782174,
          0.446524506641108,
          null
         ],
         "z": [
          0.55808725432422,
          0.4974441913413167,
          null
         ]
        },
        {
         "hoverinfo": "none",
         "line": {
          "color": "rgb(172, 0, 82)",
          "width": 5
         },
         "mode": "lines",
         "type": "scatter3d",
         "x": [
          0.7437209924748747,
          0.45584553197330435,
          null
         ],
         "y": [
          0.8749951168782174,
          0.9314710267918207,
          null
         ],
         "z": [
          0.55808725432422,
          0.08527216752661448,
          null
         ]
        },
        {
         "hoverinfo": "none",
         "line": {
          "color": "rgb(190, 0, 64)",
          "width": 5
         },
         "mode": "lines",
         "type": "scatter3d",
         "x": [
          0.7437209924748747,
          0.48420574600251587,
          null
         ],
         "y": [
          0.8749951168782174,
          0.035867271739588924,
          null
         ],
         "z": [
          0.55808725432422,
          0.6379515540609895,
          null
         ]
        },
        {
         "hoverinfo": "none",
         "line": {
          "color": "rgb(172, 0, 82)",
          "width": 5
         },
         "mode": "lines",
         "type": "scatter3d",
         "x": [
          0.7437209924748747,
          0.09140198066542637,
          null
         ],
         "y": [
          0.8749951168782174,
          0.6872679974496188,
          null
         ],
         "z": [
          0.55808725432422,
          0.5976164817951554,
          null
         ]
        },
        {
         "hoverinfo": "none",
         "line": {
          "color": "rgb(179, 0, 75)",
          "width": 5
         },
         "mode": "lines",
         "type": "scatter3d",
         "x": [
          0.7437209924748747,
          0.07126594641672113,
          null
         ],
         "y": [
          0.8749951168782174,
          0.29665635191560613,
          null
         ],
         "z": [
          0.55808725432422,
          0.382696459182143,
          null
         ]
        },
        {
         "hoverinfo": "none",
         "line": {
          "color": "rgb(218, 0, 36)",
          "width": 5
         },
         "mode": "lines",
         "type": "scatter3d",
         "x": [
          0.7437209924748747,
          0.9089047824116294,
          null
         ],
         "y": [
          0.8749951168782174,
          0.8287590101380226,
          null
         ],
         "z": [
          0.55808725432422,
          0.7249617247199894,
          null
         ]
        },
        {
         "hoverinfo": "none",
         "line": {
          "color": "rgb(95, 0, 159)",
          "width": 5
         },
         "mode": "lines",
         "type": "scatter3d",
         "x": [
          0.7437209924748747,
          0.7621712107473493,
          null
         ],
         "y": [
          0.8749951168782174,
          0.19617547662236412,
          null
         ],
         "z": [
          0.55808725432422,
          0.6011715579787809,
          null
         ]
        },
        {
         "hoverinfo": "none",
         "line": {
          "color": "rgb(226, 0, 28)",
          "width": 5
         },
         "mode": "lines",
         "type": "scatter3d",
         "x": [
          0.7437209924748747,
          0.37714417234346076,
          null
         ],
         "y": [
          0.8749951168782174,
          0.46490286413331594,
          null
         ],
         "z": [
          0.55808725432422,
          0.9050642221969447,
          null
         ]
        },
        {
         "hoverinfo": "none",
         "line": {
          "color": "rgb(198, 0, 56)",
          "width": 5
         },
         "mode": "lines",
         "type": "scatter3d",
         "x": [
          0.7437209924748747,
          0.9180647184255689,
          null
         ],
         "y": [
          0.8749951168782174,
          0.11968927821121444,
          null
         ],
         "z": [
          0.55808725432422,
          0.538659340691881,
          null
         ]
        },
        {
         "hoverinfo": "none",
         "line": {
          "color": "rgb(191, 0, 63)",
          "width": 5
         },
         "mode": "lines",
         "type": "scatter3d",
         "x": [
          0.7437209924748747,
          0.8051085491850144,
          null
         ],
         "y": [
          0.8749951168782174,
          0.49025408520097213,
          null
         ],
         "z": [
          0.55808725432422,
          0.9234132190172856,
          null
         ]
        },
        {
         "hoverinfo": "none",
         "line": {
          "color": "rgb(145, 0, 109)",
          "width": 5
         },
         "mode": "lines",
         "type": "scatter3d",
         "x": [
          0.029237130063550776,
          0.8835839599329588,
          null
         ],
         "y": [
          0.7177144516707746,
          0.4956555722359278,
          null
         ],
         "z": [
          0.93407367262807,
          0.36789989564170444,
          null
         ]
        },
        {
         "hoverinfo": "none",
         "line": {
          "color": "rgb(170, 0, 85)",
          "width": 5
         },
         "mode": "lines",
         "type": "scatter3d",
         "x": [
          0.029237130063550776,
          0.31004702442921817,
          null
         ],
         "y": [
          0.7177144516707746,
          0.5137939230177281,
          null
         ],
         "z": [
          0.93407367262807,
          0.2871275509685244,
          null
         ]
        },
        {
         "hoverinfo": "none",
         "line": {
          "color": "rgb(174, 0, 80)",
          "width": 5
         },
         "mode": "lines",
         "type": "scatter3d",
         "x": [
          0.029237130063550776,
          0.501679709804501,
          null
         ],
         "y": [
          0.7177144516707746,
          0.6509351921205243,
          null
         ],
         "z": [
          0.93407367262807,
          0.2557420715252684,
          null
         ]
        },
        {
         "hoverinfo": "none",
         "line": {
          "color": "rgb(160, 0, 94)",
          "width": 5
         },
         "mode": "lines",
         "type": "scatter3d",
         "x": [
          0.029237130063550776,
          0.45584553197330435,
          null
         ],
         "y": [
          0.7177144516707746,
          0.9314710267918207,
          null
         ],
         "z": [
          0.93407367262807,
          0.08527216752661448,
          null
         ]
        },
        {
         "hoverinfo": "none",
         "line": {
          "color": "rgb(146, 0, 108)",
          "width": 5
         },
         "mode": "lines",
         "type": "scatter3d",
         "x": [
          0.029237130063550776,
          0.9899933823406909,
          null
         ],
         "y": [
          0.7177144516707746,
          0.8116762984959474,
          null
         ],
         "z": [
          0.93407367262807,
          0.5529538225168266,
          null
         ]
        },
        {
         "hoverinfo": "none",
         "line": {
          "color": "rgb(148, 0, 106)",
          "width": 5
         },
         "mode": "lines",
         "type": "scatter3d",
         "x": [
          0.029237130063550776,
          0.9775739396952102,
          null
         ],
         "y": [
          0.7177144516707746,
          0.7566101111621105,
          null
         ],
         "z": [
          0.93407367262807,
          0.7144959307654978,
          null
         ]
        },
        {
         "hoverinfo": "none",
         "line": {
          "color": "rgb(170, 0, 84)",
          "width": 5
         },
         "mode": "lines",
         "type": "scatter3d",
         "x": [
          0.029237130063550776,
          0.9084567300505447,
          null
         ],
         "y": [
          0.7177144516707746,
          0.20255587063475755,
          null
         ],
         "z": [
          0.93407367262807,
          0.20213503161541646,
          null
         ]
        },
        {
         "hoverinfo": "none",
         "line": {
          "color": "rgb(145, 0, 109)",
          "width": 5
         },
         "mode": "lines",
         "type": "scatter3d",
         "x": [
          0.029237130063550776,
          0.7617676881945405,
          null
         ],
         "y": [
          0.7177144516707746,
          0.08734622035716166,
          null
         ],
         "z": [
          0.93407367262807,
          0.019985162604170492,
          null
         ]
        },
        {
         "hoverinfo": "none",
         "line": {
          "color": "rgb(198, 0, 56)",
          "width": 5
         },
         "mode": "lines",
         "type": "scatter3d",
         "x": [
          0.029237130063550776,
          0.09140198066542637,
          null
         ],
         "y": [
          0.7177144516707746,
          0.6872679974496188,
          null
         ],
         "z": [
          0.93407367262807,
          0.5976164817951554,
          null
         ]
        },
        {
         "hoverinfo": "none",
         "line": {
          "color": "rgb(164, 0, 90)",
          "width": 5
         },
         "mode": "lines",
         "type": "scatter3d",
         "x": [
          0.029237130063550776,
          0.6089646957224183,
          null
         ],
         "y": [
          0.7177144516707746,
          0.6955439464952691,
          null
         ],
         "z": [
          0.93407367262807,
          0.5145541340751737,
          null
         ]
        },
        {
         "hoverinfo": "none",
         "line": {
          "color": "rgb(191, 0, 63)",
          "width": 5
         },
         "mode": "lines",
         "type": "scatter3d",
         "x": [
          0.029237130063550776,
          0.0732515794519838,
          null
         ],
         "y": [
          0.7177144516707746,
          0.8701923673251484,
          null
         ],
         "z": [
          0.93407367262807,
          0.6045679369860963,
          null
         ]
        },
        {
         "hoverinfo": "none",
         "line": {
          "color": "rgb(158, 0, 96)",
          "width": 5
         },
         "mode": "lines",
         "type": "scatter3d",
         "x": [
          0.029237130063550776,
          0.5361898427486588,
          null
         ],
         "y": [
          0.7177144516707746,
          0.446524506641108,
          null
         ],
         "z": [
          0.93407367262807,
          0.4974441913413167,
          null
         ]
        },
        {
         "hoverinfo": "none",
         "line": {
          "color": "rgb(177, 0, 77)",
          "width": 5
         },
         "mode": "lines",
         "type": "scatter3d",
         "x": [
          0.029237130063550776,
          0.29814384455948917,
          null
         ],
         "y": [
          0.7177144516707746,
          0.913970498959155,
          null
         ],
         "z": [
          0.93407367262807,
          0.5172810096882628,
          null
         ]
        },
        {
         "hoverinfo": "none",
         "line": {
          "color": "rgb(204, 0, 51)",
          "width": 5
         },
         "mode": "lines",
         "type": "scatter3d",
         "x": [
          0.029237130063550776,
          0.07126594641672113,
          null
         ],
         "y": [
          0.7177144516707746,
          0.29665635191560613,
          null
         ],
         "z": [
          0.93407367262807,
          0.382696459182143,
          null
         ]
        },
        {
         "hoverinfo": "none",
         "line": {
          "color": "rgb(189, 0, 65)",
          "width": 5
         },
         "mode": "lines",
         "type": "scatter3d",
         "x": [
          0.029237130063550776,
          0.48420574600251587,
          null
         ],
         "y": [
          0.7177144516707746,
          0.035867271739588924,
          null
         ],
         "z": [
          0.93407367262807,
          0.6379515540609895,
          null
         ]
        },
        {
         "hoverinfo": "none",
         "line": {
          "color": "rgb(255, 0, 0)",
          "width": 5
         },
         "mode": "lines",
         "type": "scatter3d",
         "x": [
          0.029237130063550776,
          0.8051085491850144,
          null
         ],
         "y": [
          0.7177144516707746,
          0.49025408520097213,
          null
         ],
         "z": [
          0.93407367262807,
          0.9234132190172856,
          null
         ]
        },
        {
         "hoverinfo": "none",
         "line": {
          "color": "rgb(182, 0, 72)",
          "width": 5
         },
         "mode": "lines",
         "type": "scatter3d",
         "x": [
          0.029237130063550776,
          0.9089047824116294,
          null
         ],
         "y": [
          0.7177144516707746,
          0.8287590101380226,
          null
         ],
         "z": [
          0.93407367262807,
          0.7249617247199894,
          null
         ]
        },
        {
         "hoverinfo": "none",
         "line": {
          "color": "rgb(182, 0, 72)",
          "width": 5
         },
         "mode": "lines",
         "type": "scatter3d",
         "x": [
          0.029237130063550776,
          0.7621712107473493,
          null
         ],
         "y": [
          0.7177144516707746,
          0.19617547662236412,
          null
         ],
         "z": [
          0.93407367262807,
          0.6011715579787809,
          null
         ]
        },
        {
         "hoverinfo": "none",
         "line": {
          "color": "rgb(102, 0, 153)",
          "width": 5
         },
         "mode": "lines",
         "type": "scatter3d",
         "x": [
          0.029237130063550776,
          0.9180647184255689,
          null
         ],
         "y": [
          0.7177144516707746,
          0.11968927821121444,
          null
         ],
         "z": [
          0.93407367262807,
          0.538659340691881,
          null
         ]
        },
        {
         "hoverinfo": "none",
         "line": {
          "color": "rgb(212, 0, 42)",
          "width": 5
         },
         "mode": "lines",
         "type": "scatter3d",
         "x": [
          0.029237130063550776,
          0.37714417234346076,
          null
         ],
         "y": [
          0.7177144516707746,
          0.46490286413331594,
          null
         ],
         "z": [
          0.93407367262807,
          0.9050642221969447,
          null
         ]
        },
        {
         "hoverinfo": "none",
         "line": {
          "color": "rgb(208, 0, 46)",
          "width": 5
         },
         "mode": "lines",
         "type": "scatter3d",
         "x": [
          0.9089047824116294,
          0.501679709804501,
          null
         ],
         "y": [
          0.8287590101380226,
          0.6509351921205243,
          null
         ],
         "z": [
          0.7249617247199894,
          0.2557420715252684,
          null
         ]
        },
        {
         "hoverinfo": "none",
         "line": {
          "color": "rgb(221, 0, 33)",
          "width": 5
         },
         "mode": "lines",
         "type": "scatter3d",
         "x": [
          0.9089047824116294,
          0.0732515794519838,
          null
         ],
         "y": [
          0.8287590101380226,
          0.8701923673251484,
          null
         ],
         "z": [
          0.7249617247199894,
          0.6045679369860963,
          null
         ]
        },
        {
         "hoverinfo": "none",
         "line": {
          "color": "rgb(210, 0, 44)",
          "width": 5
         },
         "mode": "lines",
         "type": "scatter3d",
         "x": [
          0.9089047824116294,
          0.7617676881945405,
          null
         ],
         "y": [
          0.8287590101380226,
          0.08734622035716166,
          null
         ],
         "z": [
          0.7249617247199894,
          0.019985162604170492,
          null
         ]
        },
        {
         "hoverinfo": "none",
         "line": {
          "color": "rgb(212, 0, 42)",
          "width": 5
         },
         "mode": "lines",
         "type": "scatter3d",
         "x": [
          0.9089047824116294,
          0.8835839599329588,
          null
         ],
         "y": [
          0.8287590101380226,
          0.4956555722359278,
          null
         ],
         "z": [
          0.7249617247199894,
          0.36789989564170444,
          null
         ]
        },
        {
         "hoverinfo": "none",
         "line": {
          "color": "rgb(163, 0, 91)",
          "width": 5
         },
         "mode": "lines",
         "type": "scatter3d",
         "x": [
          0.9089047824116294,
          0.5361898427486588,
          null
         ],
         "y": [
          0.8287590101380226,
          0.446524506641108,
          null
         ],
         "z": [
          0.7249617247199894,
          0.4974441913413167,
          null
         ]
        },
        {
         "hoverinfo": "none",
         "line": {
          "color": "rgb(202, 0, 52)",
          "width": 5
         },
         "mode": "lines",
         "type": "scatter3d",
         "x": [
          0.9089047824116294,
          0.9899933823406909,
          null
         ],
         "y": [
          0.8287590101380226,
          0.8116762984959474,
          null
         ],
         "z": [
          0.7249617247199894,
          0.5529538225168266,
          null
         ]
        },
        {
         "hoverinfo": "none",
         "line": {
          "color": "rgb(196, 0, 58)",
          "width": 5
         },
         "mode": "lines",
         "type": "scatter3d",
         "x": [
          0.9089047824116294,
          0.9775739396952102,
          null
         ],
         "y": [
          0.8287590101380226,
          0.7566101111621105,
          null
         ],
         "z": [
          0.7249617247199894,
          0.7144959307654978,
          null
         ]
        },
        {
         "hoverinfo": "none",
         "line": {
          "color": "rgb(196, 0, 58)",
          "width": 5
         },
         "mode": "lines",
         "type": "scatter3d",
         "x": [
          0.9089047824116294,
          0.31004702442921817,
          null
         ],
         "y": [
          0.8287590101380226,
          0.5137939230177281,
          null
         ],
         "z": [
          0.7249617247199894,
          0.2871275509685244,
          null
         ]
        },
        {
         "hoverinfo": "none",
         "line": {
          "color": "rgb(198, 0, 56)",
          "width": 5
         },
         "mode": "lines",
         "type": "scatter3d",
         "x": [
          0.9089047824116294,
          0.6089646957224183,
          null
         ],
         "y": [
          0.8287590101380226,
          0.6955439464952691,
          null
         ],
         "z": [
          0.7249617247199894,
          0.5145541340751737,
          null
         ]
        },
        {
         "hoverinfo": "none",
         "line": {
          "color": "rgb(175, 0, 79)",
          "width": 5
         },
         "mode": "lines",
         "type": "scatter3d",
         "x": [
          0.9089047824116294,
          0.29814384455948917,
          null
         ],
         "y": [
          0.8287590101380226,
          0.913970498959155,
          null
         ],
         "z": [
          0.7249617247199894,
          0.5172810096882628,
          null
         ]
        },
        {
         "hoverinfo": "none",
         "line": {
          "color": "rgb(214, 0, 40)",
          "width": 5
         },
         "mode": "lines",
         "type": "scatter3d",
         "x": [
          0.9089047824116294,
          0.09140198066542637,
          null
         ],
         "y": [
          0.8287590101380226,
          0.6872679974496188,
          null
         ],
         "z": [
          0.7249617247199894,
          0.5976164817951554,
          null
         ]
        },
        {
         "hoverinfo": "none",
         "line": {
          "color": "rgb(255, 0, 0)",
          "width": 5
         },
         "mode": "lines",
         "type": "scatter3d",
         "x": [
          0.9089047824116294,
          0.37714417234346076,
          null
         ],
         "y": [
          0.8287590101380226,
          0.46490286413331594,
          null
         ],
         "z": [
          0.7249617247199894,
          0.9050642221969447,
          null
         ]
        },
        {
         "hoverinfo": "none",
         "line": {
          "color": "rgb(109, 0, 145)",
          "width": 5
         },
         "mode": "lines",
         "type": "scatter3d",
         "x": [
          0.9089047824116294,
          0.45584553197330435,
          null
         ],
         "y": [
          0.8287590101380226,
          0.9314710267918207,
          null
         ],
         "z": [
          0.7249617247199894,
          0.08527216752661448,
          null
         ]
        },
        {
         "hoverinfo": "none",
         "line": {
          "color": "rgb(204, 0, 51)",
          "width": 5
         },
         "mode": "lines",
         "type": "scatter3d",
         "x": [
          0.9089047824116294,
          0.9084567300505447,
          null
         ],
         "y": [
          0.8287590101380226,
          0.20255587063475755,
          null
         ],
         "z": [
          0.7249617247199894,
          0.20213503161541646,
          null
         ]
        },
        {
         "hoverinfo": "none",
         "line": {
          "color": "rgb(176, 0, 78)",
          "width": 5
         },
         "mode": "lines",
         "type": "scatter3d",
         "x": [
          0.9089047824116294,
          0.48420574600251587,
          null
         ],
         "y": [
          0.8287590101380226,
          0.035867271739588924,
          null
         ],
         "z": [
          0.7249617247199894,
          0.6379515540609895,
          null
         ]
        },
        {
         "hoverinfo": "none",
         "line": {
          "color": "rgb(63, 0, 191)",
          "width": 5
         },
         "mode": "lines",
         "type": "scatter3d",
         "x": [
          0.9089047824116294,
          0.8051085491850144,
          null
         ],
         "y": [
          0.8287590101380226,
          0.49025408520097213,
          null
         ],
         "z": [
          0.7249617247199894,
          0.9234132190172856,
          null
         ]
        },
        {
         "hoverinfo": "none",
         "line": {
          "color": "rgb(255, 0, 0)",
          "width": 5
         },
         "mode": "lines",
         "type": "scatter3d",
         "x": [
          0.9089047824116294,
          0.07126594641672113,
          null
         ],
         "y": [
          0.8287590101380226,
          0.29665635191560613,
          null
         ],
         "z": [
          0.7249617247199894,
          0.382696459182143,
          null
         ]
        },
        {
         "hoverinfo": "none",
         "line": {
          "color": "rgb(255, 0, 0)",
          "width": 5
         },
         "mode": "lines",
         "type": "scatter3d",
         "x": [
          0.9089047824116294,
          0.7621712107473493,
          null
         ],
         "y": [
          0.8287590101380226,
          0.19617547662236412,
          null
         ],
         "z": [
          0.7249617247199894,
          0.6011715579787809,
          null
         ]
        },
        {
         "hoverinfo": "none",
         "line": {
          "color": "rgb(0, 0, 255)",
          "width": 5
         },
         "mode": "lines",
         "type": "scatter3d",
         "x": [
          0.9089047824116294,
          0.9180647184255689,
          null
         ],
         "y": [
          0.8287590101380226,
          0.11968927821121444,
          null
         ],
         "z": [
          0.7249617247199894,
          0.538659340691881,
          null
         ]
        },
        {
         "hoverinfo": "none",
         "line": {
          "color": "rgb(162, 0, 92)",
          "width": 5
         },
         "mode": "lines",
         "type": "scatter3d",
         "x": [
          0.9180647184255689,
          0.7617676881945405,
          null
         ],
         "y": [
          0.11968927821121444,
          0.08734622035716166,
          null
         ],
         "z": [
          0.538659340691881,
          0.019985162604170492,
          null
         ]
        },
        {
         "hoverinfo": "none",
         "line": {
          "color": "rgb(223, 0, 31)",
          "width": 5
         },
         "mode": "lines",
         "type": "scatter3d",
         "x": [
          0.9180647184255689,
          0.45584553197330435,
          null
         ],
         "y": [
          0.11968927821121444,
          0.9314710267918207,
          null
         ],
         "z": [
          0.538659340691881,
          0.08527216752661448,
          null
         ]
        },
        {
         "hoverinfo": "none",
         "line": {
          "color": "rgb(212, 0, 42)",
          "width": 5
         },
         "mode": "lines",
         "type": "scatter3d",
         "x": [
          0.9180647184255689,
          0.9084567300505447,
          null
         ],
         "y": [
          0.11968927821121444,
          0.20255587063475755,
          null
         ],
         "z": [
          0.538659340691881,
          0.20213503161541646,
          null
         ]
        },
        {
         "hoverinfo": "none",
         "line": {
          "color": "rgb(191, 0, 63)",
          "width": 5
         },
         "mode": "lines",
         "type": "scatter3d",
         "x": [
          0.9180647184255689,
          0.6089646957224183,
          null
         ],
         "y": [
          0.11968927821121444,
          0.6955439464952691,
          null
         ],
         "z": [
          0.538659340691881,
          0.5145541340751737,
          null
         ]
        },
        {
         "hoverinfo": "none",
         "line": {
          "color": "rgb(191, 0, 63)",
          "width": 5
         },
         "mode": "lines",
         "type": "scatter3d",
         "x": [
          0.9180647184255689,
          0.29814384455948917,
          null
         ],
         "y": [
          0.11968927821121444,
          0.913970498959155,
          null
         ],
         "z": [
          0.538659340691881,
          0.5172810096882628,
          null
         ]
        },
        {
         "hoverinfo": "none",
         "line": {
          "color": "rgb(139, 0, 115)",
          "width": 5
         },
         "mode": "lines",
         "type": "scatter3d",
         "x": [
          0.9180647184255689,
          0.09140198066542637,
          null
         ],
         "y": [
          0.11968927821121444,
          0.6872679974496188,
          null
         ],
         "z": [
          0.538659340691881,
          0.5976164817951554,
          null
         ]
        },
        {
         "hoverinfo": "none",
         "line": {
          "color": "rgb(176, 0, 78)",
          "width": 5
         },
         "mode": "lines",
         "type": "scatter3d",
         "x": [
          0.9180647184255689,
          0.5361898427486588,
          null
         ],
         "y": [
          0.11968927821121444,
          0.446524506641108,
          null
         ],
         "z": [
          0.538659340691881,
          0.4974441913413167,
          null
         ]
        },
        {
         "hoverinfo": "none",
         "line": {
          "color": "rgb(223, 0, 31)",
          "width": 5
         },
         "mode": "lines",
         "type": "scatter3d",
         "x": [
          0.9180647184255689,
          0.48420574600251587,
          null
         ],
         "y": [
          0.11968927821121444,
          0.035867271739588924,
          null
         ],
         "z": [
          0.538659340691881,
          0.6379515540609895,
          null
         ]
        },
        {
         "hoverinfo": "none",
         "line": {
          "color": "rgb(170, 0, 85)",
          "width": 5
         },
         "mode": "lines",
         "type": "scatter3d",
         "x": [
          0.9180647184255689,
          0.501679709804501,
          null
         ],
         "y": [
          0.11968927821121444,
          0.6509351921205243,
          null
         ],
         "z": [
          0.538659340691881,
          0.2557420715252684,
          null
         ]
        },
        {
         "hoverinfo": "none",
         "line": {
          "color": "rgb(186, 0, 68)",
          "width": 5
         },
         "mode": "lines",
         "type": "scatter3d",
         "x": [
          0.9180647184255689,
          0.0732515794519838,
          null
         ],
         "y": [
          0.11968927821121444,
          0.8701923673251484,
          null
         ],
         "z": [
          0.538659340691881,
          0.6045679369860963,
          null
         ]
        },
        {
         "hoverinfo": "none",
         "line": {
          "color": "rgb(127, 0, 127)",
          "width": 5
         },
         "mode": "lines",
         "type": "scatter3d",
         "x": [
          0.9180647184255689,
          0.07126594641672113,
          null
         ],
         "y": [
          0.11968927821121444,
          0.29665635191560613,
          null
         ],
         "z": [
          0.538659340691881,
          0.382696459182143,
          null
         ]
        },
        {
         "hoverinfo": "none",
         "line": {
          "color": "rgb(255, 0, 0)",
          "width": 5
         },
         "mode": "lines",
         "type": "scatter3d",
         "x": [
          0.9180647184255689,
          0.8051085491850144,
          null
         ],
         "y": [
          0.11968927821121444,
          0.49025408520097213,
          null
         ],
         "z": [
          0.538659340691881,
          0.9234132190172856,
          null
         ]
        },
        {
         "hoverinfo": "none",
         "line": {
          "color": "rgb(255, 0, 0)",
          "width": 5
         },
         "mode": "lines",
         "type": "scatter3d",
         "x": [
          0.9180647184255689,
          0.31004702442921817,
          null
         ],
         "y": [
          0.11968927821121444,
          0.5137939230177281,
          null
         ],
         "z": [
          0.538659340691881,
          0.2871275509685244,
          null
         ]
        },
        {
         "hoverinfo": "none",
         "line": {
          "color": "rgb(127, 0, 127)",
          "width": 5
         },
         "mode": "lines",
         "type": "scatter3d",
         "x": [
          0.9180647184255689,
          0.9899933823406909,
          null
         ],
         "y": [
          0.11968927821121444,
          0.8116762984959474,
          null
         ],
         "z": [
          0.538659340691881,
          0.5529538225168266,
          null
         ]
        },
        {
         "hoverinfo": "none",
         "line": {
          "color": "rgb(187, 0, 68)",
          "width": 5
         },
         "mode": "lines",
         "type": "scatter3d",
         "x": [
          0.9180647184255689,
          0.9775739396952102,
          null
         ],
         "y": [
          0.11968927821121444,
          0.7566101111621105,
          null
         ],
         "z": [
          0.538659340691881,
          0.7144959307654978,
          null
         ]
        },
        {
         "hoverinfo": "none",
         "line": {
          "color": "rgb(255, 0, 0)",
          "width": 5
         },
         "mode": "lines",
         "type": "scatter3d",
         "x": [
          0.9180647184255689,
          0.8835839599329588,
          null
         ],
         "y": [
          0.11968927821121444,
          0.4956555722359278,
          null
         ],
         "z": [
          0.538659340691881,
          0.36789989564170444,
          null
         ]
        },
        {
         "hoverinfo": "none",
         "line": {
          "color": "rgb(127, 0, 127)",
          "width": 5
         },
         "mode": "lines",
         "type": "scatter3d",
         "x": [
          0.9180647184255689,
          0.37714417234346076,
          null
         ],
         "y": [
          0.11968927821121444,
          0.46490286413331594,
          null
         ],
         "z": [
          0.538659340691881,
          0.9050642221969447,
          null
         ]
        },
        {
         "hoverinfo": "none",
         "line": {
          "color": "rgb(216, 0, 38)",
          "width": 5
         },
         "mode": "lines",
         "type": "scatter3d",
         "x": [
          0.8835839599329588,
          0.0732515794519838,
          null
         ],
         "y": [
          0.4956555722359278,
          0.8701923673251484,
          null
         ],
         "z": [
          0.36789989564170444,
          0.6045679369860963,
          null
         ]
        },
        {
         "hoverinfo": "none",
         "line": {
          "color": "rgb(192, 0, 62)",
          "width": 5
         },
         "mode": "lines",
         "type": "scatter3d",
         "x": [
          0.8835839599329588,
          0.31004702442921817,
          null
         ],
         "y": [
          0.4956555722359278,
          0.5137939230177281,
          null
         ],
         "z": [
          0.36789989564170444,
          0.2871275509685244,
          null
         ]
        },
        {
         "hoverinfo": "none",
         "line": {
          "color": "rgb(151, 0, 103)",
          "width": 5
         },
         "mode": "lines",
         "type": "scatter3d",
         "x": [
          0.8835839599329588,
          0.6089646957224183,
          null
         ],
         "y": [
          0.4956555722359278,
          0.6955439464952691,
          null
         ],
         "z": [
          0.36789989564170444,
          0.5145541340751737,
          null
         ]
        },
        {
         "hoverinfo": "none",
         "line": {
          "color": "rgb(129, 0, 125)",
          "width": 5
         },
         "mode": "lines",
         "type": "scatter3d",
         "x": [
          0.8835839599329588,
          0.09140198066542637,
          null
         ],
         "y": [
          0.4956555722359278,
          0.6872679974496188,
          null
         ],
         "z": [
          0.36789989564170444,
          0.5976164817951554,
          null
         ]
        },
        {
         "hoverinfo": "none",
         "line": {
          "color": "rgb(165, 0, 89)",
          "width": 5
         },
         "mode": "lines",
         "type": "scatter3d",
         "x": [
          0.8835839599329588,
          0.7617676881945405,
          null
         ],
         "y": [
          0.4956555722359278,
          0.08734622035716166,
          null
         ],
         "z": [
          0.36789989564170444,
          0.019985162604170492,
          null
         ]
        },
        {
         "hoverinfo": "none",
         "line": {
          "color": "rgb(177, 0, 77)",
          "width": 5
         },
         "mode": "lines",
         "type": "scatter3d",
         "x": [
          0.8835839599329588,
          0.29814384455948917,
          null
         ],
         "y": [
          0.4956555722359278,
          0.913970498959155,
          null
         ],
         "z": [
          0.36789989564170444,
          0.5172810096882628,
          null
         ]
        },
        {
         "hoverinfo": "none",
         "line": {
          "color": "rgb(174, 0, 80)",
          "width": 5
         },
         "mode": "lines",
         "type": "scatter3d",
         "x": [
          0.8835839599329588,
          0.9899933823406909,
          null
         ],
         "y": [
          0.4956555722359278,
          0.8116762984959474,
          null
         ],
         "z": [
          0.36789989564170444,
          0.5529538225168266,
          null
         ]
        },
        {
         "hoverinfo": "none",
         "line": {
          "color": "rgb(143, 0, 111)",
          "width": 5
         },
         "mode": "lines",
         "type": "scatter3d",
         "x": [
          0.8835839599329588,
          0.9084567300505447,
          null
         ],
         "y": [
          0.4956555722359278,
          0.20255587063475755,
          null
         ],
         "z": [
          0.36789989564170444,
          0.20213503161541646,
          null
         ]
        },
        {
         "hoverinfo": "none",
         "line": {
          "color": "rgb(156, 0, 99)",
          "width": 5
         },
         "mode": "lines",
         "type": "scatter3d",
         "x": [
          0.8835839599329588,
          0.45584553197330435,
          null
         ],
         "y": [
          0.4956555722359278,
          0.9314710267918207,
          null
         ],
         "z": [
          0.36789989564170444,
          0.08527216752661448,
          null
         ]
        },
        {
         "hoverinfo": "none",
         "line": {
          "color": "rgb(176, 0, 78)",
          "width": 5
         },
         "mode": "lines",
         "type": "scatter3d",
         "x": [
          0.8835839599329588,
          0.48420574600251587,
          null
         ],
         "y": [
          0.4956555722359278,
          0.035867271739588924,
          null
         ],
         "z": [
          0.36789989564170444,
          0.6379515540609895,
          null
         ]
        },
        {
         "hoverinfo": "none",
         "line": {
          "color": "rgb(201, 0, 53)",
          "width": 5
         },
         "mode": "lines",
         "type": "scatter3d",
         "x": [
          0.8835839599329588,
          0.501679709804501,
          null
         ],
         "y": [
          0.4956555722359278,
          0.6509351921205243,
          null
         ],
         "z": [
          0.36789989564170444,
          0.2557420715252684,
          null
         ]
        },
        {
         "hoverinfo": "none",
         "line": {
          "color": "rgb(143, 0, 111)",
          "width": 5
         },
         "mode": "lines",
         "type": "scatter3d",
         "x": [
          0.8835839599329588,
          0.9775739396952102,
          null
         ],
         "y": [
          0.4956555722359278,
          0.7566101111621105,
          null
         ],
         "z": [
          0.36789989564170444,
          0.7144959307654978,
          null
         ]
        },
        {
         "hoverinfo": "none",
         "line": {
          "color": "rgb(173, 0, 81)",
          "width": 5
         },
         "mode": "lines",
         "type": "scatter3d",
         "x": [
          0.8835839599329588,
          0.5361898427486588,
          null
         ],
         "y": [
          0.4956555722359278,
          0.446524506641108,
          null
         ],
         "z": [
          0.36789989564170444,
          0.4974441913413167,
          null
         ]
        },
        {
         "hoverinfo": "none",
         "line": {
          "color": "rgb(185, 0, 69)",
          "width": 5
         },
         "mode": "lines",
         "type": "scatter3d",
         "x": [
          0.8835839599329588,
          0.37714417234346076,
          null
         ],
         "y": [
          0.4956555722359278,
          0.46490286413331594,
          null
         ],
         "z": [
          0.36789989564170444,
          0.9050642221969447,
          null
         ]
        },
        {
         "hoverinfo": "none",
         "line": {
          "color": "rgb(255, 0, 0)",
          "width": 5
         },
         "mode": "lines",
         "type": "scatter3d",
         "x": [
          0.8835839599329588,
          0.7621712107473493,
          null
         ],
         "y": [
          0.4956555722359278,
          0.19617547662236412,
          null
         ],
         "z": [
          0.36789989564170444,
          0.6011715579787809,
          null
         ]
        },
        {
         "hoverinfo": "none",
         "line": {
          "color": "rgb(170, 0, 85)",
          "width": 5
         },
         "mode": "lines",
         "type": "scatter3d",
         "x": [
          0.8835839599329588,
          0.8051085491850144,
          null
         ],
         "y": [
          0.4956555722359278,
          0.49025408520097213,
          null
         ],
         "z": [
          0.36789989564170444,
          0.9234132190172856,
          null
         ]
        },
        {
         "hoverinfo": "none",
         "line": {
          "color": "rgb(127, 0, 127)",
          "width": 5
         },
         "mode": "lines",
         "type": "scatter3d",
         "x": [
          0.8835839599329588,
          0.07126594641672113,
          null
         ],
         "y": [
          0.4956555722359278,
          0.29665635191560613,
          null
         ],
         "z": [
          0.36789989564170444,
          0.382696459182143,
          null
         ]
        },
        {
         "hoverinfo": "none",
         "line": {
          "color": "rgb(153, 0, 102)",
          "width": 5
         },
         "mode": "lines",
         "type": "scatter3d",
         "x": [
          0.8051085491850144,
          0.45584553197330435,
          null
         ],
         "y": [
          0.49025408520097213,
          0.9314710267918207,
          null
         ],
         "z": [
          0.9234132190172856,
          0.08527216752661448,
          null
         ]
        },
        {
         "hoverinfo": "none",
         "line": {
          "color": "rgb(255, 0, 0)",
          "width": 5
         },
         "mode": "lines",
         "type": "scatter3d",
         "x": [
          0.8051085491850144,
          0.09140198066542637,
          null
         ],
         "y": [
          0.49025408520097213,
          0.6872679974496188,
          null
         ],
         "z": [
          0.9234132190172856,
          0.5976164817951554,
          null
         ]
        },
        {
         "hoverinfo": "none",
         "line": {
          "color": "rgb(191, 0, 63)",
          "width": 5
         },
         "mode": "lines",
         "type": "scatter3d",
         "x": [
          0.8051085491850144,
          0.6089646957224183,
          null
         ],
         "y": [
          0.49025408520097213,
          0.6955439464952691,
          null
         ],
         "z": [
          0.9234132190172856,
          0.5145541340751737,
          null
         ]
        },
        {
         "hoverinfo": "none",
         "line": {
          "color": "rgb(156, 0, 98)",
          "width": 5
         },
         "mode": "lines",
         "type": "scatter3d",
         "x": [
          0.8051085491850144,
          0.9084567300505447,
          null
         ],
         "y": [
          0.49025408520097213,
          0.20255587063475755,
          null
         ],
         "z": [
          0.9234132190172856,
          0.20213503161541646,
          null
         ]
        },
        {
         "hoverinfo": "none",
         "line": {
          "color": "rgb(176, 0, 78)",
          "width": 5
         },
         "mode": "lines",
         "type": "scatter3d",
         "x": [
          0.8051085491850144,
          0.5361898427486588,
          null
         ],
         "y": [
          0.49025408520097213,
          0.446524506641108,
          null
         ],
         "z": [
          0.9234132190172856,
          0.4974441913413167,
          null
         ]
        },
        {
         "hoverinfo": "none",
         "line": {
          "color": "rgb(196, 0, 58)",
          "width": 5
         },
         "mode": "lines",
         "type": "scatter3d",
         "x": [
          0.8051085491850144,
          0.0732515794519838,
          null
         ],
         "y": [
          0.49025408520097213,
          0.8701923673251484,
          null
         ],
         "z": [
          0.9234132190172856,
          0.6045679369860963,
          null
         ]
        },
        {
         "hoverinfo": "none",
         "line": {
          "color": "rgb(204, 0, 51)",
          "width": 5
         },
         "mode": "lines",
         "type": "scatter3d",
         "x": [
          0.8051085491850144,
          0.48420574600251587,
          null
         ],
         "y": [
          0.49025408520097213,
          0.035867271739588924,
          null
         ],
         "z": [
          0.9234132190172856,
          0.6379515540609895,
          null
         ]
        },
        {
         "hoverinfo": "none",
         "line": {
          "color": "rgb(170, 0, 85)",
          "width": 5
         },
         "mode": "lines",
         "type": "scatter3d",
         "x": [
          0.8051085491850144,
          0.7617676881945405,
          null
         ],
         "y": [
          0.49025408520097213,
          0.08734622035716166,
          null
         ],
         "z": [
          0.9234132190172856,
          0.019985162604170492,
          null
         ]
        },
        {
         "hoverinfo": "none",
         "line": {
          "color": "rgb(0, 0, 255)",
          "width": 5
         },
         "mode": "lines",
         "type": "scatter3d",
         "x": [
          0.8051085491850144,
          0.501679709804501,
          null
         ],
         "y": [
          0.49025408520097213,
          0.6509351921205243,
          null
         ],
         "z": [
          0.9234132190172856,
          0.2557420715252684,
          null
         ]
        },
        {
         "hoverinfo": "none",
         "line": {
          "color": "rgb(255, 0, 0)",
          "width": 5
         },
         "mode": "lines",
         "type": "scatter3d",
         "x": [
          0.8051085491850144,
          0.37714417234346076,
          null
         ],
         "y": [
          0.49025408520097213,
          0.46490286413331594,
          null
         ],
         "z": [
          0.9234132190172856,
          0.9050642221969447,
          null
         ]
        },
        {
         "hoverinfo": "none",
         "line": {
          "color": "rgb(255, 0, 0)",
          "width": 5
         },
         "mode": "lines",
         "type": "scatter3d",
         "x": [
          0.8051085491850144,
          0.9899933823406909,
          null
         ],
         "y": [
          0.49025408520097213,
          0.8116762984959474,
          null
         ],
         "z": [
          0.9234132190172856,
          0.5529538225168266,
          null
         ]
        },
        {
         "hoverinfo": "none",
         "line": {
          "color": "rgb(102, 0, 153)",
          "width": 5
         },
         "mode": "lines",
         "type": "scatter3d",
         "x": [
          0.8051085491850144,
          0.9775739396952102,
          null
         ],
         "y": [
          0.49025408520097213,
          0.7566101111621105,
          null
         ],
         "z": [
          0.9234132190172856,
          0.7144959307654978,
          null
         ]
        },
        {
         "hoverinfo": "none",
         "line": {
          "color": "rgb(255, 0, 0)",
          "width": 5
         },
         "mode": "lines",
         "type": "scatter3d",
         "x": [
          0.8051085491850144,
          0.31004702442921817,
          null
         ],
         "y": [
          0.49025408520097213,
          0.5137939230177281,
          null
         ],
         "z": [
          0.9234132190172856,
          0.2871275509685244,
          null
         ]
        },
        {
         "hoverinfo": "none",
         "line": {
          "color": "rgb(0, 0, 255)",
          "width": 5
         },
         "mode": "lines",
         "type": "scatter3d",
         "x": [
          0.8051085491850144,
          0.7621712107473493,
          null
         ],
         "y": [
          0.49025408520097213,
          0.19617547662236412,
          null
         ],
         "z": [
          0.9234132190172856,
          0.6011715579787809,
          null
         ]
        },
        {
         "hoverinfo": "none",
         "line": {
          "color": "rgb(255, 0, 0)",
          "width": 5
         },
         "mode": "lines",
         "type": "scatter3d",
         "x": [
          0.8051085491850144,
          0.29814384455948917,
          null
         ],
         "y": [
          0.49025408520097213,
          0.913970498959155,
          null
         ],
         "z": [
          0.9234132190172856,
          0.5172810096882628,
          null
         ]
        },
        {
         "hoverinfo": "none",
         "line": {
          "color": "rgb(192, 0, 62)",
          "width": 5
         },
         "mode": "lines",
         "type": "scatter3d",
         "x": [
          0.9775739396952102,
          0.45584553197330435,
          null
         ],
         "y": [
          0.7566101111621105,
          0.9314710267918207,
          null
         ],
         "z": [
          0.7144959307654978,
          0.08527216752661448,
          null
         ]
        },
        {
         "hoverinfo": "none",
         "line": {
          "color": "rgb(172, 0, 82)",
          "width": 5
         },
         "mode": "lines",
         "type": "scatter3d",
         "x": [
          0.9775739396952102,
          0.29814384455948917,
          null
         ],
         "y": [
          0.7566101111621105,
          0.913970498959155,
          null
         ],
         "z": [
          0.7144959307654978,
          0.5172810096882628,
          null
         ]
        },
        {
         "hoverinfo": "none",
         "line": {
          "color": "rgb(212, 0, 42)",
          "width": 5
         },
         "mode": "lines",
         "type": "scatter3d",
         "x": [
          0.9775739396952102,
          0.0732515794519838,
          null
         ],
         "y": [
          0.7566101111621105,
          0.8701923673251484,
          null
         ],
         "z": [
          0.7144959307654978,
          0.6045679369860963,
          null
         ]
        },
        {
         "hoverinfo": "none",
         "line": {
          "color": "rgb(187, 0, 67)",
          "width": 5
         },
         "mode": "lines",
         "type": "scatter3d",
         "x": [
          0.9775739396952102,
          0.6089646957224183,
          null
         ],
         "y": [
          0.7566101111621105,
          0.6955439464952691,
          null
         ],
         "z": [
          0.7144959307654978,
          0.5145541340751737,
          null
         ]
        },
        {
         "hoverinfo": "none",
         "line": {
          "color": "rgb(186, 0, 68)",
          "width": 5
         },
         "mode": "lines",
         "type": "scatter3d",
         "x": [
          0.9775739396952102,
          0.7617676881945405,
          null
         ],
         "y": [
          0.7566101111621105,
          0.08734622035716166,
          null
         ],
         "z": [
          0.7144959307654978,
          0.019985162604170492,
          null
         ]
        },
        {
         "hoverinfo": "none",
         "line": {
          "color": "rgb(170, 0, 85)",
          "width": 5
         },
         "mode": "lines",
         "type": "scatter3d",
         "x": [
          0.9775739396952102,
          0.5361898427486588,
          null
         ],
         "y": [
          0.7566101111621105,
          0.446524506641108,
          null
         ],
         "z": [
          0.7144959307654978,
          0.4974441913413167,
          null
         ]
        },
        {
         "hoverinfo": "none",
         "line": {
          "color": "rgb(176, 0, 78)",
          "width": 5
         },
         "mode": "lines",
         "type": "scatter3d",
         "x": [
          0.9775739396952102,
          0.501679709804501,
          null
         ],
         "y": [
          0.7566101111621105,
          0.6509351921205243,
          null
         ],
         "z": [
          0.7144959307654978,
          0.2557420715252684,
          null
         ]
        },
        {
         "hoverinfo": "none",
         "line": {
          "color": "rgb(167, 0, 87)",
          "width": 5
         },
         "mode": "lines",
         "type": "scatter3d",
         "x": [
          0.9775739396952102,
          0.9084567300505447,
          null
         ],
         "y": [
          0.7566101111621105,
          0.20255587063475755,
          null
         ],
         "z": [
          0.7144959307654978,
          0.20213503161541646,
          null
         ]
        },
        {
         "hoverinfo": "none",
         "line": {
          "color": "rgb(183, 0, 71)",
          "width": 5
         },
         "mode": "lines",
         "type": "scatter3d",
         "x": [
          0.9775739396952102,
          0.09140198066542637,
          null
         ],
         "y": [
          0.7566101111621105,
          0.6872679974496188,
          null
         ],
         "z": [
          0.7144959307654978,
          0.5976164817951554,
          null
         ]
        },
        {
         "hoverinfo": "none",
         "line": {
          "color": "rgb(255, 0, 0)",
          "width": 5
         },
         "mode": "lines",
         "type": "scatter3d",
         "x": [
          0.9775739396952102,
          0.37714417234346076,
          null
         ],
         "y": [
          0.7566101111621105,
          0.46490286413331594,
          null
         ],
         "z": [
          0.7144959307654978,
          0.9050642221969447,
          null
         ]
        },
        {
         "hoverinfo": "none",
         "line": {
          "color": "rgb(164, 0, 90)",
          "width": 5
         },
         "mode": "lines",
         "type": "scatter3d",
         "x": [
          0.9775739396952102,
          0.9899933823406909,
          null
         ],
         "y": [
          0.7566101111621105,
          0.8116762984959474,
          null
         ],
         "z": [
          0.7144959307654978,
          0.5529538225168266,
          null
         ]
        },
        {
         "hoverinfo": "none",
         "line": {
          "color": "rgb(175, 0, 79)",
          "width": 5
         },
         "mode": "lines",
         "type": "scatter3d",
         "x": [
          0.9775739396952102,
          0.48420574600251587,
          null
         ],
         "y": [
          0.7566101111621105,
          0.035867271739588924,
          null
         ],
         "z": [
          0.7144959307654978,
          0.6379515540609895,
          null
         ]
        },
        {
         "hoverinfo": "none",
         "line": {
          "color": "rgb(201, 0, 53)",
          "width": 5
         },
         "mode": "lines",
         "type": "scatter3d",
         "x": [
          0.9775739396952102,
          0.31004702442921817,
          null
         ],
         "y": [
          0.7566101111621105,
          0.5137939230177281,
          null
         ],
         "z": [
          0.7144959307654978,
          0.2871275509685244,
          null
         ]
        },
        {
         "hoverinfo": "none",
         "line": {
          "color": "rgb(182, 0, 72)",
          "width": 5
         },
         "mode": "lines",
         "type": "scatter3d",
         "x": [
          0.9775739396952102,
          0.7621712107473493,
          null
         ],
         "y": [
          0.7566101111621105,
          0.19617547662236412,
          null
         ],
         "z": [
          0.7144959307654978,
          0.6011715579787809,
          null
         ]
        },
        {
         "hoverinfo": "none",
         "line": {
          "color": "rgb(204, 0, 51)",
          "width": 5
         },
         "mode": "lines",
         "type": "scatter3d",
         "x": [
          0.9775739396952102,
          0.07126594641672113,
          null
         ],
         "y": [
          0.7566101111621105,
          0.29665635191560613,
          null
         ],
         "z": [
          0.7144959307654978,
          0.382696459182143,
          null
         ]
        },
        {
         "hoverinfo": "none",
         "line": {
          "color": "rgb(187, 0, 68)",
          "width": 5
         },
         "mode": "lines",
         "type": "scatter3d",
         "x": [
          0.6089646957224183,
          0.37714417234346076,
          null
         ],
         "y": [
          0.6955439464952691,
          0.46490286413331594,
          null
         ],
         "z": [
          0.5145541340751737,
          0.9050642221969447,
          null
         ]
        },
        {
         "hoverinfo": "none",
         "line": {
          "color": "rgb(191, 0, 63)",
          "width": 5
         },
         "mode": "lines",
         "type": "scatter3d",
         "x": [
          0.6089646957224183,
          0.45584553197330435,
          null
         ],
         "y": [
          0.6955439464952691,
          0.9314710267918207,
          null
         ],
         "z": [
          0.5145541340751737,
          0.08527216752661448,
          null
         ]
        },
        {
         "hoverinfo": "none",
         "line": {
          "color": "rgb(181, 0, 73)",
          "width": 5
         },
         "mode": "lines",
         "type": "scatter3d",
         "x": [
          0.6089646957224183,
          0.09140198066542637,
          null
         ],
         "y": [
          0.6955439464952691,
          0.6872679974496188,
          null
         ],
         "z": [
          0.5145541340751737,
          0.5976164817951554,
          null
         ]
        },
        {
         "hoverinfo": "none",
         "line": {
          "color": "rgb(185, 0, 69)",
          "width": 5
         },
         "mode": "lines",
         "type": "scatter3d",
         "x": [
          0.6089646957224183,
          0.7617676881945405,
          null
         ],
         "y": [
          0.6955439464952691,
          0.08734622035716166,
          null
         ],
         "z": [
          0.5145541340751737,
          0.019985162604170492,
          null
         ]
        },
        {
         "hoverinfo": "none",
         "line": {
          "color": "rgb(182, 0, 72)",
          "width": 5
         },
         "mode": "lines",
         "type": "scatter3d",
         "x": [
          0.6089646957224183,
          0.5361898427486588,
          null
         ],
         "y": [
          0.6955439464952691,
          0.446524506641108,
          null
         ],
         "z": [
          0.5145541340751737,
          0.4974441913413167,
          null
         ]
        },
        {
         "hoverinfo": "none",
         "line": {
          "color": "rgb(205, 0, 49)",
          "width": 5
         },
         "mode": "lines",
         "type": "scatter3d",
         "x": [
          0.6089646957224183,
          0.0732515794519838,
          null
         ],
         "y": [
          0.6955439464952691,
          0.8701923673251484,
          null
         ],
         "z": [
          0.5145541340751737,
          0.6045679369860963,
          null
         ]
        },
        {
         "hoverinfo": "none",
         "line": {
          "color": "rgb(213, 0, 41)",
          "width": 5
         },
         "mode": "lines",
         "type": "scatter3d",
         "x": [
          0.6089646957224183,
          0.48420574600251587,
          null
         ],
         "y": [
          0.6955439464952691,
          0.035867271739588924,
          null
         ],
         "z": [
          0.5145541340751737,
          0.6379515540609895,
          null
         ]
        },
        {
         "hoverinfo": "none",
         "line": {
          "color": "rgb(127, 0, 127)",
          "width": 5
         },
         "mode": "lines",
         "type": "scatter3d",
         "x": [
          0.6089646957224183,
          0.07126594641672113,
          null
         ],
         "y": [
          0.6955439464952691,
          0.29665635191560613,
          null
         ],
         "z": [
          0.5145541340751737,
          0.382696459182143,
          null
         ]
        },
        {
         "hoverinfo": "none",
         "line": {
          "color": "rgb(194, 0, 60)",
          "width": 5
         },
         "mode": "lines",
         "type": "scatter3d",
         "x": [
          0.6089646957224183,
          0.9084567300505447,
          null
         ],
         "y": [
          0.6955439464952691,
          0.20255587063475755,
          null
         ],
         "z": [
          0.5145541340751737,
          0.20213503161541646,
          null
         ]
        },
        {
         "hoverinfo": "none",
         "line": {
          "color": "rgb(207, 0, 47)",
          "width": 5
         },
         "mode": "lines",
         "type": "scatter3d",
         "x": [
          0.6089646957224183,
          0.501679709804501,
          null
         ],
         "y": [
          0.6955439464952691,
          0.6509351921205243,
          null
         ],
         "z": [
          0.5145541340751737,
          0.2557420715252684,
          null
         ]
        },
        {
         "hoverinfo": "none",
         "line": {
          "color": "rgb(154, 0, 100)",
          "width": 5
         },
         "mode": "lines",
         "type": "scatter3d",
         "x": [
          0.6089646957224183,
          0.9899933823406909,
          null
         ],
         "y": [
          0.6955439464952691,
          0.8116762984959474,
          null
         ],
         "z": [
          0.5145541340751737,
          0.5529538225168266,
          null
         ]
        },
        {
         "hoverinfo": "none",
         "line": {
          "color": "rgb(179, 0, 75)",
          "width": 5
         },
         "mode": "lines",
         "type": "scatter3d",
         "x": [
          0.6089646957224183,
          0.29814384455948917,
          null
         ],
         "y": [
          0.6955439464952691,
          0.913970498959155,
          null
         ],
         "z": [
          0.5145541340751737,
          0.5172810096882628,
          null
         ]
        },
        {
         "hoverinfo": "none",
         "line": {
          "color": "rgb(220, 0, 34)",
          "width": 5
         },
         "mode": "lines",
         "type": "scatter3d",
         "x": [
          0.6089646957224183,
          0.31004702442921817,
          null
         ],
         "y": [
          0.6955439464952691,
          0.5137939230177281,
          null
         ],
         "z": [
          0.5145541340751737,
          0.2871275509685244,
          null
         ]
        },
        {
         "hoverinfo": "none",
         "line": {
          "color": "rgb(161, 0, 93)",
          "width": 5
         },
         "mode": "lines",
         "type": "scatter3d",
         "x": [
          0.6089646957224183,
          0.7621712107473493,
          null
         ],
         "y": [
          0.6955439464952691,
          0.19617547662236412,
          null
         ],
         "z": [
          0.5145541340751737,
          0.6011715579787809,
          null
         ]
        },
        {
         "hoverinfo": "none",
         "line": {
          "color": "rgb(168, 0, 86)",
          "width": 5
         },
         "mode": "lines",
         "type": "scatter3d",
         "x": [
          0.7617676881945405,
          0.31004702442921817,
          null
         ],
         "y": [
          0.08734622035716166,
          0.5137939230177281,
          null
         ],
         "z": [
          0.019985162604170492,
          0.2871275509685244,
          null
         ]
        },
        {
         "hoverinfo": "none",
         "line": {
          "color": "rgb(191, 0, 63)",
          "width": 5
         },
         "mode": "lines",
         "type": "scatter3d",
         "x": [
          0.7617676881945405,
          0.501679709804501,
          null
         ],
         "y": [
          0.08734622035716166,
          0.6509351921205243,
          null
         ],
         "z": [
          0.019985162604170492,
          0.2557420715252684,
          null
         ]
        },
        {
         "hoverinfo": "none",
         "line": {
          "color": "rgb(177, 0, 77)",
          "width": 5
         },
         "mode": "lines",
         "type": "scatter3d",
         "x": [
          0.7617676881945405,
          0.9084567300505447,
          null
         ],
         "y": [
          0.08734622035716166,
          0.20255587063475755,
          null
         ],
         "z": [
          0.019985162604170492,
          0.20213503161541646,
          null
         ]
        },
        {
         "hoverinfo": "none",
         "line": {
          "color": "rgb(207, 0, 47)",
          "width": 5
         },
         "mode": "lines",
         "type": "scatter3d",
         "x": [
          0.7617676881945405,
          0.09140198066542637,
          null
         ],
         "y": [
          0.08734622035716166,
          0.6872679974496188,
          null
         ],
         "z": [
          0.019985162604170492,
          0.5976164817951554,
          null
         ]
        },
        {
         "hoverinfo": "none",
         "line": {
          "color": "rgb(177, 0, 77)",
          "width": 5
         },
         "mode": "lines",
         "type": "scatter3d",
         "x": [
          0.7617676881945405,
          0.45584553197330435,
          null
         ],
         "y": [
          0.08734622035716166,
          0.9314710267918207,
          null
         ],
         "z": [
          0.019985162604170492,
          0.08527216752661448,
          null
         ]
        },
        {
         "hoverinfo": "none",
         "line": {
          "color": "rgb(137, 0, 117)",
          "width": 5
         },
         "mode": "lines",
         "type": "scatter3d",
         "x": [
          0.7617676881945405,
          0.07126594641672113,
          null
         ],
         "y": [
          0.08734622035716166,
          0.29665635191560613,
          null
         ],
         "z": [
          0.019985162604170492,
          0.382696459182143,
          null
         ]
        },
        {
         "hoverinfo": "none",
         "line": {
          "color": "rgb(170, 0, 85)",
          "width": 5
         },
         "mode": "lines",
         "type": "scatter3d",
         "x": [
          0.7617676881945405,
          0.7621712107473493,
          null
         ],
         "y": [
          0.08734622035716166,
          0.19617547662236412,
          null
         ],
         "z": [
          0.019985162604170492,
          0.6011715579787809,
          null
         ]
        },
        {
         "hoverinfo": "none",
         "line": {
          "color": "rgb(207, 0, 47)",
          "width": 5
         },
         "mode": "lines",
         "type": "scatter3d",
         "x": [
          0.7617676881945405,
          0.0732515794519838,
          null
         ],
         "y": [
          0.08734622035716166,
          0.8701923673251484,
          null
         ],
         "z": [
          0.019985162604170492,
          0.6045679369860963,
          null
         ]
        },
        {
         "hoverinfo": "none",
         "line": {
          "color": "rgb(159, 0, 96)",
          "width": 5
         },
         "mode": "lines",
         "type": "scatter3d",
         "x": [
          0.7617676881945405,
          0.5361898427486588,
          null
         ],
         "y": [
          0.08734622035716166,
          0.446524506641108,
          null
         ],
         "z": [
          0.019985162604170492,
          0.4974441913413167,
          null
         ]
        },
        {
         "hoverinfo": "none",
         "line": {
          "color": "rgb(188, 0, 66)",
          "width": 5
         },
         "mode": "lines",
         "type": "scatter3d",
         "x": [
          0.7617676881945405,
          0.37714417234346076,
          null
         ],
         "y": [
          0.08734622035716166,
          0.46490286413331594,
          null
         ],
         "z": [
          0.019985162604170492,
          0.9050642221969447,
          null
         ]
        },
        {
         "hoverinfo": "none",
         "line": {
          "color": "rgb(188, 0, 66)",
          "width": 5
         },
         "mode": "lines",
         "type": "scatter3d",
         "x": [
          0.7617676881945405,
          0.48420574600251587,
          null
         ],
         "y": [
          0.08734622035716166,
          0.035867271739588924,
          null
         ],
         "z": [
          0.019985162604170492,
          0.6379515540609895,
          null
         ]
        },
        {
         "hoverinfo": "none",
         "line": {
          "color": "rgb(195, 0, 59)",
          "width": 5
         },
         "mode": "lines",
         "type": "scatter3d",
         "x": [
          0.7617676881945405,
          0.29814384455948917,
          null
         ],
         "y": [
          0.08734622035716166,
          0.913970498959155,
          null
         ],
         "z": [
          0.019985162604170492,
          0.5172810096882628,
          null
         ]
        },
        {
         "hoverinfo": "none",
         "line": {
          "color": "rgb(190, 0, 64)",
          "width": 5
         },
         "mode": "lines",
         "type": "scatter3d",
         "x": [
          0.7617676881945405,
          0.9899933823406909,
          null
         ],
         "y": [
          0.08734622035716166,
          0.8116762984959474,
          null
         ],
         "z": [
          0.019985162604170492,
          0.5529538225168266,
          null
         ]
        },
        {
         "hoverinfo": "none",
         "line": {
          "color": "rgb(179, 0, 75)",
          "width": 5
         },
         "mode": "lines",
         "type": "scatter3d",
         "x": [
          0.0732515794519838,
          0.31004702442921817,
          null
         ],
         "y": [
          0.8701923673251484,
          0.5137939230177281,
          null
         ],
         "z": [
          0.6045679369860963,
          0.2871275509685244,
          null
         ]
        },
        {
         "hoverinfo": "none",
         "line": {
          "color": "rgb(189, 0, 65)",
          "width": 5
         },
         "mode": "lines",
         "type": "scatter3d",
         "x": [
          0.0732515794519838,
          0.501679709804501,
          null
         ],
         "y": [
          0.8701923673251484,
          0.6509351921205243,
          null
         ],
         "z": [
          0.6045679369860963,
          0.2557420715252684,
          null
         ]
        },
        {
         "hoverinfo": "none",
         "line": {
          "color": "rgb(219, 0, 35)",
          "width": 5
         },
         "mode": "lines",
         "type": "scatter3d",
         "x": [
          0.0732515794519838,
          0.48420574600251587,
          null
         ],
         "y": [
          0.8701923673251484,
          0.035867271739588924,
          null
         ],
         "z": [
          0.6045679369860963,
          0.6379515540609895,
          null
         ]
        },
        {
         "hoverinfo": "none",
         "line": {
          "color": "rgb(199, 0, 55)",
          "width": 5
         },
         "mode": "lines",
         "type": "scatter3d",
         "x": [
          0.0732515794519838,
          0.9899933823406909,
          null
         ],
         "y": [
          0.8701923673251484,
          0.8116762984959474,
          null
         ],
         "z": [
          0.6045679369860963,
          0.5529538225168266,
          null
         ]
        },
        {
         "hoverinfo": "none",
         "line": {
          "color": "rgb(185, 0, 70)",
          "width": 5
         },
         "mode": "lines",
         "type": "scatter3d",
         "x": [
          0.0732515794519838,
          0.45584553197330435,
          null
         ],
         "y": [
          0.8701923673251484,
          0.9314710267918207,
          null
         ],
         "z": [
          0.6045679369860963,
          0.08527216752661448,
          null
         ]
        },
        {
         "hoverinfo": "none",
         "line": {
          "color": "rgb(192, 0, 62)",
          "width": 5
         },
         "mode": "lines",
         "type": "scatter3d",
         "x": [
          0.0732515794519838,
          0.5361898427486588,
          null
         ],
         "y": [
          0.8701923673251484,
          0.446524506641108,
          null
         ],
         "z": [
          0.6045679369860963,
          0.4974441913413167,
          null
         ]
        },
        {
         "hoverinfo": "none",
         "line": {
          "color": "rgb(208, 0, 46)",
          "width": 5
         },
         "mode": "lines",
         "type": "scatter3d",
         "x": [
          0.0732515794519838,
          0.9084567300505447,
          null
         ],
         "y": [
          0.8701923673251484,
          0.20255587063475755,
          null
         ],
         "z": [
          0.6045679369860963,
          0.20213503161541646,
          null
         ]
        },
        {
         "hoverinfo": "none",
         "line": {
          "color": "rgb(221, 0, 33)",
          "width": 5
         },
         "mode": "lines",
         "type": "scatter3d",
         "x": [
          0.0732515794519838,
          0.29814384455948917,
          null
         ],
         "y": [
          0.8701923673251484,
          0.913970498959155,
          null
         ],
         "z": [
          0.6045679369860963,
          0.5172810096882628,
          null
         ]
        },
        {
         "hoverinfo": "none",
         "line": {
          "color": "rgb(230, 0, 24)",
          "width": 5
         },
         "mode": "lines",
         "type": "scatter3d",
         "x": [
          0.0732515794519838,
          0.37714417234346076,
          null
         ],
         "y": [
          0.8701923673251484,
          0.46490286413331594,
          null
         ],
         "z": [
          0.6045679369860963,
          0.9050642221969447,
          null
         ]
        },
        {
         "hoverinfo": "none",
         "line": {
          "color": "rgb(193, 0, 61)",
          "width": 5
         },
         "mode": "lines",
         "type": "scatter3d",
         "x": [
          0.0732515794519838,
          0.09140198066542637,
          null
         ],
         "y": [
          0.8701923673251484,
          0.6872679974496188,
          null
         ],
         "z": [
          0.6045679369860963,
          0.5976164817951554,
          null
         ]
        },
        {
         "hoverinfo": "none",
         "line": {
          "color": "rgb(141, 0, 113)",
          "width": 5
         },
         "mode": "lines",
         "type": "scatter3d",
         "x": [
          0.0732515794519838,
          0.7621712107473493,
          null
         ],
         "y": [
          0.8701923673251484,
          0.19617547662236412,
          null
         ],
         "z": [
          0.6045679369860963,
          0.6011715579787809,
          null
         ]
        },
        {
         "hoverinfo": "none",
         "line": {
          "color": "rgb(191, 0, 63)",
          "width": 5
         },
         "mode": "lines",
         "type": "scatter3d",
         "x": [
          0.0732515794519838,
          0.07126594641672113,
          null
         ],
         "y": [
          0.8701923673251484,
          0.29665635191560613,
          null
         ],
         "z": [
          0.6045679369860963,
          0.382696459182143,
          null
         ]
        },
        {
         "hoverinfo": "none",
         "line": {
          "color": "rgb(170, 0, 85)",
          "width": 5
         },
         "mode": "lines",
         "type": "scatter3d",
         "x": [
          0.7621712107473493,
          0.501679709804501,
          null
         ],
         "y": [
          0.19617547662236412,
          0.6509351921205243,
          null
         ],
         "z": [
          0.6011715579787809,
          0.2557420715252684,
          null
         ]
        },
        {
         "hoverinfo": "none",
         "line": {
          "color": "rgb(180, 0, 74)",
          "width": 5
         },
         "mode": "lines",
         "type": "scatter3d",
         "x": [
          0.7621712107473493,
          0.45584553197330435,
          null
         ],
         "y": [
          0.19617547662236412,
          0.9314710267918207,
          null
         ],
         "z": [
          0.6011715579787809,
          0.08527216752661448,
          null
         ]
        },
        {
         "hoverinfo": "none",
         "line": {
          "color": "rgb(147, 0, 107)",
          "width": 5
         },
         "mode": "lines",
         "type": "scatter3d",
         "x": [
          0.7621712107473493,
          0.5361898427486588,
          null
         ],
         "y": [
          0.19617547662236412,
          0.446524506641108,
          null
         ],
         "z": [
          0.6011715579787809,
          0.4974441913413167,
          null
         ]
        },
        {
         "hoverinfo": "none",
         "line": {
          "color": "rgb(191, 0, 63)",
          "width": 5
         },
         "mode": "lines",
         "type": "scatter3d",
         "x": [
          0.7621712107473493,
          0.9899933823406909,
          null
         ],
         "y": [
          0.19617547662236412,
          0.8116762984959474,
          null
         ],
         "z": [
          0.6011715579787809,
          0.5529538225168266,
          null
         ]
        },
        {
         "hoverinfo": "none",
         "line": {
          "color": "rgb(153, 0, 102)",
          "width": 5
         },
         "mode": "lines",
         "type": "scatter3d",
         "x": [
          0.7621712107473493,
          0.48420574600251587,
          null
         ],
         "y": [
          0.19617547662236412,
          0.035867271739588924,
          null
         ],
         "z": [
          0.6011715579787809,
          0.6379515540609895,
          null
         ]
        },
        {
         "hoverinfo": "none",
         "line": {
          "color": "rgb(113, 0, 141)",
          "width": 5
         },
         "mode": "lines",
         "type": "scatter3d",
         "x": [
          0.7621712107473493,
          0.29814384455948917,
          null
         ],
         "y": [
          0.19617547662236412,
          0.913970498959155,
          null
         ],
         "z": [
          0.6011715579787809,
          0.5172810096882628,
          null
         ]
        },
        {
         "hoverinfo": "none",
         "line": {
          "color": "rgb(143, 0, 111)",
          "width": 5
         },
         "mode": "lines",
         "type": "scatter3d",
         "x": [
          0.7621712107473493,
          0.09140198066542637,
          null
         ],
         "y": [
          0.19617547662236412,
          0.6872679974496188,
          null
         ],
         "z": [
          0.6011715579787809,
          0.5976164817951554,
          null
         ]
        },
        {
         "hoverinfo": "none",
         "line": {
          "color": "rgb(148, 0, 106)",
          "width": 5
         },
         "mode": "lines",
         "type": "scatter3d",
         "x": [
          0.7621712107473493,
          0.9084567300505447,
          null
         ],
         "y": [
          0.19617547662236412,
          0.20255587063475755,
          null
         ],
         "z": [
          0.6011715579787809,
          0.20213503161541646,
          null
         ]
        },
        {
         "hoverinfo": "none",
         "line": {
          "color": "rgb(102, 0, 153)",
          "width": 5
         },
         "mode": "lines",
         "type": "scatter3d",
         "x": [
          0.7621712107473493,
          0.37714417234346076,
          null
         ],
         "y": [
          0.19617547662236412,
          0.46490286413331594,
          null
         ],
         "z": [
          0.6011715579787809,
          0.9050642221969447,
          null
         ]
        },
        {
         "hoverinfo": "none",
         "line": {
          "color": "rgb(255, 0, 0)",
          "width": 5
         },
         "mode": "lines",
         "type": "scatter3d",
         "x": [
          0.7621712107473493,
          0.31004702442921817,
          null
         ],
         "y": [
          0.19617547662236412,
          0.5137939230177281,
          null
         ],
         "z": [
          0.6011715579787809,
          0.2871275509685244,
          null
         ]
        },
        {
         "hoverinfo": "none",
         "line": {
          "color": "rgb(255, 0, 0)",
          "width": 5
         },
         "mode": "lines",
         "type": "scatter3d",
         "x": [
          0.7621712107473493,
          0.07126594641672113,
          null
         ],
         "y": [
          0.19617547662236412,
          0.29665635191560613,
          null
         ],
         "z": [
          0.6011715579787809,
          0.382696459182143,
          null
         ]
        },
        {
         "hoverinfo": "none",
         "line": {
          "color": "rgb(171, 0, 83)",
          "width": 5
         },
         "mode": "lines",
         "type": "scatter3d",
         "x": [
          0.5361898427486588,
          0.45584553197330435,
          null
         ],
         "y": [
          0.446524506641108,
          0.9314710267918207,
          null
         ],
         "z": [
          0.4974441913413167,
          0.08527216752661448,
          null
         ]
        },
        {
         "hoverinfo": "none",
         "line": {
          "color": "rgb(182, 0, 72)",
          "width": 5
         },
         "mode": "lines",
         "type": "scatter3d",
         "x": [
          0.5361898427486588,
          0.501679709804501,
          null
         ],
         "y": [
          0.446524506641108,
          0.6509351921205243,
          null
         ],
         "z": [
          0.4974441913413167,
          0.2557420715252684,
          null
         ]
        },
        {
         "hoverinfo": "none",
         "line": {
          "color": "rgb(175, 0, 80)",
          "width": 5
         },
         "mode": "lines",
         "type": "scatter3d",
         "x": [
          0.5361898427486588,
          0.9084567300505447,
          null
         ],
         "y": [
          0.446524506641108,
          0.20255587063475755,
          null
         ],
         "z": [
          0.4974441913413167,
          0.20213503161541646,
          null
         ]
        },
        {
         "hoverinfo": "none",
         "line": {
          "color": "rgb(209, 0, 45)",
          "width": 5
         },
         "mode": "lines",
         "type": "scatter3d",
         "x": [
          0.5361898427486588,
          0.09140198066542637,
          null
         ],
         "y": [
          0.446524506641108,
          0.6872679974496188,
          null
         ],
         "z": [
          0.4974441913413167,
          0.5976164817951554,
          null
         ]
        },
        {
         "hoverinfo": "none",
         "line": {
          "color": "rgb(198, 0, 56)",
          "width": 5
         },
         "mode": "lines",
         "type": "scatter3d",
         "x": [
          0.5361898427486588,
          0.48420574600251587,
          null
         ],
         "y": [
          0.446524506641108,
          0.035867271739588924,
          null
         ],
         "z": [
          0.4974441913413167,
          0.6379515540609895,
          null
         ]
        },
        {
         "hoverinfo": "none",
         "line": {
          "color": "rgb(186, 0, 68)",
          "width": 5
         },
         "mode": "lines",
         "type": "scatter3d",
         "x": [
          0.5361898427486588,
          0.29814384455948917,
          null
         ],
         "y": [
          0.446524506641108,
          0.913970498959155,
          null
         ],
         "z": [
          0.4974441913413167,
          0.5172810096882628,
          null
         ]
        },
        {
         "hoverinfo": "none",
         "line": {
          "color": "rgb(184, 0, 70)",
          "width": 5
         },
         "mode": "lines",
         "type": "scatter3d",
         "x": [
          0.5361898427486588,
          0.37714417234346076,
          null
         ],
         "y": [
          0.446524506641108,
          0.46490286413331594,
          null
         ],
         "z": [
          0.4974441913413167,
          0.9050642221969447,
          null
         ]
        },
        {
         "hoverinfo": "none",
         "line": {
          "color": "rgb(193, 0, 61)",
          "width": 5
         },
         "mode": "lines",
         "type": "scatter3d",
         "x": [
          0.5361898427486588,
          0.31004702442921817,
          null
         ],
         "y": [
          0.446524506641108,
          0.5137939230177281,
          null
         ],
         "z": [
          0.4974441913413167,
          0.2871275509685244,
          null
         ]
        },
        {
         "hoverinfo": "none",
         "line": {
          "color": "rgb(162, 0, 92)",
          "width": 5
         },
         "mode": "lines",
         "type": "scatter3d",
         "x": [
          0.5361898427486588,
          0.9899933823406909,
          null
         ],
         "y": [
          0.446524506641108,
          0.8116762984959474,
          null
         ],
         "z": [
          0.4974441913413167,
          0.5529538225168266,
          null
         ]
        },
        {
         "hoverinfo": "none",
         "line": {
          "color": "rgb(255, 0, 0)",
          "width": 5
         },
         "mode": "lines",
         "type": "scatter3d",
         "x": [
          0.5361898427486588,
          0.07126594641672113,
          null
         ],
         "y": [
          0.446524506641108,
          0.29665635191560613,
          null
         ],
         "z": [
          0.4974441913413167,
          0.382696459182143,
          null
         ]
        },
        {
         "hoverinfo": "none",
         "line": {
          "color": "rgb(182, 0, 72)",
          "width": 5
         },
         "mode": "lines",
         "type": "scatter3d",
         "x": [
          0.09140198066542637,
          0.31004702442921817,
          null
         ],
         "y": [
          0.6872679974496188,
          0.5137939230177281,
          null
         ],
         "z": [
          0.5976164817951554,
          0.2871275509685244,
          null
         ]
        },
        {
         "hoverinfo": "none",
         "line": {
          "color": "rgb(198, 0, 56)",
          "width": 5
         },
         "mode": "lines",
         "type": "scatter3d",
         "x": [
          0.09140198066542637,
          0.45584553197330435,
          null
         ],
         "y": [
          0.6872679974496188,
          0.9314710267918207,
          null
         ],
         "z": [
          0.5976164817951554,
          0.08527216752661448,
          null
         ]
        },
        {
         "hoverinfo": "none",
         "line": {
          "color": "rgb(172, 0, 82)",
          "width": 5
         },
         "mode": "lines",
         "type": "scatter3d",
         "x": [
          0.09140198066542637,
          0.9084567300505447,
          null
         ],
         "y": [
          0.6872679974496188,
          0.20255587063475755,
          null
         ],
         "z": [
          0.5976164817951554,
          0.20213503161541646,
          null
         ]
        },
        {
         "hoverinfo": "none",
         "line": {
          "color": "rgb(201, 0, 53)",
          "width": 5
         },
         "mode": "lines",
         "type": "scatter3d",
         "x": [
          0.09140198066542637,
          0.37714417234346076,
          null
         ],
         "y": [
          0.6872679974496188,
          0.46490286413331594,
          null
         ],
         "z": [
          0.5976164817951554,
          0.9050642221969447,
          null
         ]
        },
        {
         "hoverinfo": "none",
         "line": {
          "color": "rgb(192, 0, 62)",
          "width": 5
         },
         "mode": "lines",
         "type": "scatter3d",
         "x": [
          0.09140198066542637,
          0.48420574600251587,
          null
         ],
         "y": [
          0.6872679974496188,
          0.035867271739588924,
          null
         ],
         "z": [
          0.5976164817951554,
          0.6379515540609895,
          null
         ]
        },
        {
         "hoverinfo": "none",
         "line": {
          "color": "rgb(170, 0, 85)",
          "width": 5
         },
         "mode": "lines",
         "type": "scatter3d",
         "x": [
          0.09140198066542637,
          0.9899933823406909,
          null
         ],
         "y": [
          0.6872679974496188,
          0.8116762984959474,
          null
         ],
         "z": [
          0.5976164817951554,
          0.5529538225168266,
          null
         ]
        },
        {
         "hoverinfo": "none",
         "line": {
          "color": "rgb(219, 0, 35)",
          "width": 5
         },
         "mode": "lines",
         "type": "scatter3d",
         "x": [
          0.09140198066542637,
          0.501679709804501,
          null
         ],
         "y": [
          0.6872679974496188,
          0.6509351921205243,
          null
         ],
         "z": [
          0.5976164817951554,
          0.2557420715252684,
          null
         ]
        },
        {
         "hoverinfo": "none",
         "line": {
          "color": "rgb(178, 0, 76)",
          "width": 5
         },
         "mode": "lines",
         "type": "scatter3d",
         "x": [
          0.09140198066542637,
          0.29814384455948917,
          null
         ],
         "y": [
          0.6872679974496188,
          0.913970498959155,
          null
         ],
         "z": [
          0.5976164817951554,
          0.5172810096882628,
          null
         ]
        },
        {
         "hoverinfo": "none",
         "line": {
          "color": "rgb(255, 0, 0)",
          "width": 5
         },
         "mode": "lines",
         "type": "scatter3d",
         "x": [
          0.09140198066542637,
          0.07126594641672113,
          null
         ],
         "y": [
          0.6872679974496188,
          0.29665635191560613,
          null
         ],
         "z": [
          0.5976164817951554,
          0.382696459182143,
          null
         ]
        },
        {
         "hoverinfo": "none",
         "line": {
          "color": "rgb(146, 0, 108)",
          "width": 5
         },
         "mode": "lines",
         "type": "scatter3d",
         "x": [
          0.31004702442921817,
          0.9899933823406909,
          null
         ],
         "y": [
          0.5137939230177281,
          0.8116762984959474,
          null
         ],
         "z": [
          0.2871275509685244,
          0.5529538225168266,
          null
         ]
        },
        {
         "hoverinfo": "none",
         "line": {
          "color": "rgb(163, 0, 91)",
          "width": 5
         },
         "mode": "lines",
         "type": "scatter3d",
         "x": [
          0.31004702442921817,
          0.501679709804501,
          null
         ],
         "y": [
          0.5137939230177281,
          0.6509351921205243,
          null
         ],
         "z": [
          0.2871275509685244,
          0.2557420715252684,
          null
         ]
        },
        {
         "hoverinfo": "none",
         "line": {
          "color": "rgb(127, 0, 127)",
          "width": 5
         },
         "mode": "lines",
         "type": "scatter3d",
         "x": [
          0.31004702442921817,
          0.29814384455948917,
          null
         ],
         "y": [
          0.5137939230177281,
          0.913970498959155,
          null
         ],
         "z": [
          0.2871275509685244,
          0.5172810096882628,
          null
         ]
        },
        {
         "hoverinfo": "none",
         "line": {
          "color": "rgb(156, 0, 98)",
          "width": 5
         },
         "mode": "lines",
         "type": "scatter3d",
         "x": [
          0.31004702442921817,
          0.9084567300505447,
          null
         ],
         "y": [
          0.5137939230177281,
          0.20255587063475755,
          null
         ],
         "z": [
          0.2871275509685244,
          0.20213503161541646,
          null
         ]
        },
        {
         "hoverinfo": "none",
         "line": {
          "color": "rgb(159, 0, 95)",
          "width": 5
         },
         "mode": "lines",
         "type": "scatter3d",
         "x": [
          0.31004702442921817,
          0.45584553197330435,
          null
         ],
         "y": [
          0.5137939230177281,
          0.9314710267918207,
          null
         ],
         "z": [
          0.2871275509685244,
          0.08527216752661448,
          null
         ]
        },
        {
         "hoverinfo": "none",
         "line": {
          "color": "rgb(177, 0, 77)",
          "width": 5
         },
         "mode": "lines",
         "type": "scatter3d",
         "x": [
          0.31004702442921817,
          0.48420574600251587,
          null
         ],
         "y": [
          0.5137939230177281,
          0.035867271739588924,
          null
         ],
         "z": [
          0.2871275509685244,
          0.6379515540609895,
          null
         ]
        },
        {
         "hoverinfo": "none",
         "line": {
          "color": "rgb(204, 0, 51)",
          "width": 5
         },
         "mode": "lines",
         "type": "scatter3d",
         "x": [
          0.31004702442921817,
          0.37714417234346076,
          null
         ],
         "y": [
          0.5137939230177281,
          0.46490286413331594,
          null
         ],
         "z": [
          0.2871275509685244,
          0.9050642221969447,
          null
         ]
        },
        {
         "hoverinfo": "none",
         "line": {
          "color": "rgb(255, 0, 0)",
          "width": 5
         },
         "mode": "lines",
         "type": "scatter3d",
         "x": [
          0.31004702442921817,
          0.07126594641672113,
          null
         ],
         "y": [
          0.5137939230177281,
          0.29665635191560613,
          null
         ],
         "z": [
          0.2871275509685244,
          0.382696459182143,
          null
         ]
        },
        {
         "hoverinfo": "none",
         "line": {
          "color": "rgb(177, 0, 77)",
          "width": 5
         },
         "mode": "lines",
         "type": "scatter3d",
         "x": [
          0.48420574600251587,
          0.501679709804501,
          null
         ],
         "y": [
          0.035867271739588924,
          0.6509351921205243,
          null
         ],
         "z": [
          0.6379515540609895,
          0.2557420715252684,
          null
         ]
        },
        {
         "hoverinfo": "none",
         "line": {
          "color": "rgb(170, 0, 85)",
          "width": 5
         },
         "mode": "lines",
         "type": "scatter3d",
         "x": [
          0.48420574600251587,
          0.37714417234346076,
          null
         ],
         "y": [
          0.035867271739588924,
          0.46490286413331594,
          null
         ],
         "z": [
          0.6379515540609895,
          0.9050642221969447,
          null
         ]
        },
        {
         "hoverinfo": "none",
         "line": {
          "color": "rgb(202, 0, 52)",
          "width": 5
         },
         "mode": "lines",
         "type": "scatter3d",
         "x": [
          0.48420574600251587,
          0.9084567300505447,
          null
         ],
         "y": [
          0.035867271739588924,
          0.20255587063475755,
          null
         ],
         "z": [
          0.6379515540609895,
          0.20213503161541646,
          null
         ]
        },
        {
         "hoverinfo": "none",
         "line": {
          "color": "rgb(143, 0, 111)",
          "width": 5
         },
         "mode": "lines",
         "type": "scatter3d",
         "x": [
          0.48420574600251587,
          0.45584553197330435,
          null
         ],
         "y": [
          0.035867271739588924,
          0.9314710267918207,
          null
         ],
         "z": [
          0.6379515540609895,
          0.08527216752661448,
          null
         ]
        },
        {
         "hoverinfo": "none",
         "line": {
          "color": "rgb(178, 0, 76)",
          "width": 5
         },
         "mode": "lines",
         "type": "scatter3d",
         "x": [
          0.48420574600251587,
          0.9899933823406909,
          null
         ],
         "y": [
          0.035867271739588924,
          0.8116762984959474,
          null
         ],
         "z": [
          0.6379515540609895,
          0.5529538225168266,
          null
         ]
        },
        {
         "hoverinfo": "none",
         "line": {
          "color": "rgb(200, 0, 54)",
          "width": 5
         },
         "mode": "lines",
         "type": "scatter3d",
         "x": [
          0.48420574600251587,
          0.29814384455948917,
          null
         ],
         "y": [
          0.035867271739588924,
          0.913970498959155,
          null
         ],
         "z": [
          0.6379515540609895,
          0.5172810096882628,
          null
         ]
        },
        {
         "hoverinfo": "none",
         "line": {
          "color": "rgb(255, 0, 0)",
          "width": 5
         },
         "mode": "lines",
         "type": "scatter3d",
         "x": [
          0.48420574600251587,
          0.07126594641672113,
          null
         ],
         "y": [
          0.035867271739588924,
          0.29665635191560613,
          null
         ],
         "z": [
          0.6379515540609895,
          0.382696459182143,
          null
         ]
        },
        {
         "hoverinfo": "none",
         "line": {
          "color": "rgb(169, 0, 85)",
          "width": 5
         },
         "mode": "lines",
         "type": "scatter3d",
         "x": [
          0.45584553197330435,
          0.9084567300505447,
          null
         ],
         "y": [
          0.9314710267918207,
          0.20255587063475755,
          null
         ],
         "z": [
          0.08527216752661448,
          0.20213503161541646,
          null
         ]
        },
        {
         "hoverinfo": "none",
         "line": {
          "color": "rgb(178, 0, 76)",
          "width": 5
         },
         "mode": "lines",
         "type": "scatter3d",
         "x": [
          0.45584553197330435,
          0.9899933823406909,
          null
         ],
         "y": [
          0.9314710267918207,
          0.8116762984959474,
          null
         ],
         "z": [
          0.08527216752661448,
          0.5529538225168266,
          null
         ]
        },
        {
         "hoverinfo": "none",
         "line": {
          "color": "rgb(200, 0, 54)",
          "width": 5
         },
         "mode": "lines",
         "type": "scatter3d",
         "x": [
          0.45584553197330435,
          0.37714417234346076,
          null
         ],
         "y": [
          0.9314710267918207,
          0.46490286413331594,
          null
         ],
         "z": [
          0.08527216752661448,
          0.9050642221969447,
          null
         ]
        },
        {
         "hoverinfo": "none",
         "line": {
          "color": "rgb(180, 0, 74)",
          "width": 5
         },
         "mode": "lines",
         "type": "scatter3d",
         "x": [
          0.45584553197330435,
          0.29814384455948917,
          null
         ],
         "y": [
          0.9314710267918207,
          0.913970498959155,
          null
         ],
         "z": [
          0.08527216752661448,
          0.5172810096882628,
          null
         ]
        },
        {
         "hoverinfo": "none",
         "line": {
          "color": "rgb(192, 0, 62)",
          "width": 5
         },
         "mode": "lines",
         "type": "scatter3d",
         "x": [
          0.45584553197330435,
          0.501679709804501,
          null
         ],
         "y": [
          0.9314710267918207,
          0.6509351921205243,
          null
         ],
         "z": [
          0.08527216752661448,
          0.2557420715252684,
          null
         ]
        },
        {
         "hoverinfo": "none",
         "line": {
          "color": "rgb(159, 0, 95)",
          "width": 5
         },
         "mode": "lines",
         "type": "scatter3d",
         "x": [
          0.45584553197330435,
          0.07126594641672113,
          null
         ],
         "y": [
          0.9314710267918207,
          0.29665635191560613,
          null
         ],
         "z": [
          0.08527216752661448,
          0.382696459182143,
          null
         ]
        },
        {
         "hoverinfo": "none",
         "line": {
          "color": "rgb(228, 0, 26)",
          "width": 5
         },
         "mode": "lines",
         "type": "scatter3d",
         "x": [
          0.501679709804501,
          0.37714417234346076,
          null
         ],
         "y": [
          0.6509351921205243,
          0.46490286413331594,
          null
         ],
         "z": [
          0.2557420715252684,
          0.9050642221969447,
          null
         ]
        },
        {
         "hoverinfo": "none",
         "line": {
          "color": "rgb(207, 0, 47)",
          "width": 5
         },
         "mode": "lines",
         "type": "scatter3d",
         "x": [
          0.501679709804501,
          0.9084567300505447,
          null
         ],
         "y": [
          0.6509351921205243,
          0.20255587063475755,
          null
         ],
         "z": [
          0.2557420715252684,
          0.20213503161541646,
          null
         ]
        },
        {
         "hoverinfo": "none",
         "line": {
          "color": "rgb(202, 0, 52)",
          "width": 5
         },
         "mode": "lines",
         "type": "scatter3d",
         "x": [
          0.501679709804501,
          0.9899933823406909,
          null
         ],
         "y": [
          0.6509351921205243,
          0.8116762984959474,
          null
         ],
         "z": [
          0.2557420715252684,
          0.5529538225168266,
          null
         ]
        },
        {
         "hoverinfo": "none",
         "line": {
          "color": "rgb(191, 0, 63)",
          "width": 5
         },
         "mode": "lines",
         "type": "scatter3d",
         "x": [
          0.501679709804501,
          0.29814384455948917,
          null
         ],
         "y": [
          0.6509351921205243,
          0.913970498959155,
          null
         ],
         "z": [
          0.2557420715252684,
          0.5172810096882628,
          null
         ]
        },
        {
         "hoverinfo": "none",
         "line": {
          "color": "rgb(228, 0, 26)",
          "width": 5
         },
         "mode": "lines",
         "type": "scatter3d",
         "x": [
          0.501679709804501,
          0.07126594641672113,
          null
         ],
         "y": [
          0.6509351921205243,
          0.29665635191560613,
          null
         ],
         "z": [
          0.2557420715252684,
          0.382696459182143,
          null
         ]
        },
        {
         "hoverinfo": "none",
         "line": {
          "color": "rgb(109, 0, 145)",
          "width": 5
         },
         "mode": "lines",
         "type": "scatter3d",
         "x": [
          0.9084567300505447,
          0.07126594641672113,
          null
         ],
         "y": [
          0.20255587063475755,
          0.29665635191560613,
          null
         ],
         "z": [
          0.20213503161541646,
          0.382696459182143,
          null
         ]
        },
        {
         "hoverinfo": "none",
         "line": {
          "color": "rgb(165, 0, 89)",
          "width": 5
         },
         "mode": "lines",
         "type": "scatter3d",
         "x": [
          0.9084567300505447,
          0.29814384455948917,
          null
         ],
         "y": [
          0.20255587063475755,
          0.913970498959155,
          null
         ],
         "z": [
          0.20213503161541646,
          0.5172810096882628,
          null
         ]
        },
        {
         "hoverinfo": "none",
         "line": {
          "color": "rgb(149, 0, 105)",
          "width": 5
         },
         "mode": "lines",
         "type": "scatter3d",
         "x": [
          0.9084567300505447,
          0.9899933823406909,
          null
         ],
         "y": [
          0.20255587063475755,
          0.8116762984959474,
          null
         ],
         "z": [
          0.20213503161541646,
          0.5529538225168266,
          null
         ]
        },
        {
         "hoverinfo": "none",
         "line": {
          "color": "rgb(139, 0, 115)",
          "width": 5
         },
         "mode": "lines",
         "type": "scatter3d",
         "x": [
          0.9084567300505447,
          0.37714417234346076,
          null
         ],
         "y": [
          0.20255587063475755,
          0.46490286413331594,
          null
         ],
         "z": [
          0.20213503161541646,
          0.9050642221969447,
          null
         ]
        },
        {
         "hoverinfo": "none",
         "line": {
          "color": "rgb(168, 0, 86)",
          "width": 5
         },
         "mode": "lines",
         "type": "scatter3d",
         "x": [
          0.29814384455948917,
          0.9899933823406909,
          null
         ],
         "y": [
          0.913970498959155,
          0.8116762984959474,
          null
         ],
         "z": [
          0.5172810096882628,
          0.5529538225168266,
          null
         ]
        },
        {
         "hoverinfo": "none",
         "line": {
          "color": "rgb(162, 0, 92)",
          "width": 5
         },
         "mode": "lines",
         "type": "scatter3d",
         "x": [
          0.29814384455948917,
          0.37714417234346076,
          null
         ],
         "y": [
          0.913970498959155,
          0.46490286413331594,
          null
         ],
         "z": [
          0.5172810096882628,
          0.9050642221969447,
          null
         ]
        },
        {
         "hoverinfo": "none",
         "line": {
          "color": "rgb(0, 0, 255)",
          "width": 5
         },
         "mode": "lines",
         "type": "scatter3d",
         "x": [
          0.29814384455948917,
          0.07126594641672113,
          null
         ],
         "y": [
          0.913970498959155,
          0.29665635191560613,
          null
         ],
         "z": [
          0.5172810096882628,
          0.382696459182143,
          null
         ]
        },
        {
         "hoverinfo": "none",
         "line": {
          "color": "rgb(170, 0, 85)",
          "width": 5
         },
         "mode": "lines",
         "type": "scatter3d",
         "x": [
          0.07126594641672113,
          0.9899933823406909,
          null
         ],
         "y": [
          0.29665635191560613,
          0.8116762984959474,
          null
         ],
         "z": [
          0.382696459182143,
          0.5529538225168266,
          null
         ]
        },
        {
         "hoverinfo": "none",
         "line": {
          "color": "rgb(255, 0, 0)",
          "width": 5
         },
         "mode": "lines",
         "type": "scatter3d",
         "x": [
          0.07126594641672113,
          0.37714417234346076,
          null
         ],
         "y": [
          0.29665635191560613,
          0.46490286413331594,
          null
         ],
         "z": [
          0.382696459182143,
          0.9050642221969447,
          null
         ]
        },
        {
         "hoverinfo": "none",
         "line": {
          "color": "rgb(246, 0, 8)",
          "width": 5
         },
         "mode": "lines",
         "type": "scatter3d",
         "x": [
          0.37714417234346076,
          0.9899933823406909,
          null
         ],
         "y": [
          0.46490286413331594,
          0.8116762984959474,
          null
         ],
         "z": [
          0.9050642221969447,
          0.5529538225168266,
          null
         ]
        },
        {
         "hoverinfo": "text",
         "marker": {
          "color": "black",
          "size": 7
         },
         "mode": "markers",
         "text": [
          "0",
          "1",
          "2",
          "3",
          "4",
          "5",
          "6",
          "7",
          "8",
          "9",
          "10",
          "11",
          "12",
          "13",
          "14",
          "15",
          "16",
          "17",
          "18",
          "19",
          "20",
          "21",
          "22",
          "23",
          "24",
          "25",
          "26",
          "27",
          "28",
          "29",
          "30",
          "31",
          "32",
          "33",
          "34",
          "35",
          "36",
          "37",
          "38",
          "39",
          "40"
         ],
         "type": "scatter3d",
         "x": [
          0.6180896727572683,
          0.17431887442556093,
          0.7169225457714316,
          0.22863149952659056,
          0.3134365643404181,
          0.9986539569111779,
          0.31711195372846235,
          0.8875933025193696,
          0.5130255378515045,
          0.12527795716484647,
          0.0033340205544437618,
          0.7437209924748747,
          0.029237130063550776,
          0.9089047824116294,
          0.9180647184255689,
          0.8835839599329588,
          0.8051085491850144,
          0.9775739396952102,
          0.6166831907594599,
          0.6089646957224183,
          0.7617676881945405,
          0.0732515794519838,
          0.7621712107473493,
          0.5361898427486588,
          0.09140198066542637,
          0.10335926390907879,
          0.20481290802910823,
          0.11982121399028323,
          0.31004702442921817,
          0.48420574600251587,
          0.45584553197330435,
          0.006854729051863684,
          0.501679709804501,
          0.9084567300505447,
          0.5536019883645787,
          0.29814384455948917,
          0.07126594641672113,
          0.5148091636000142,
          0.37714417234346076,
          0.7358462620750172,
          0.9899933823406909
         ],
         "y": [
          0.7247253437959559,
          0.21344233045675165,
          0.563633625071583,
          0.1360954571460199,
          0.636682795833173,
          0.9070542677416487,
          0.7704381704805616,
          0.6461442759851814,
          0.40759952541878663,
          0.42590819470648056,
          0.6742369240765245,
          0.8749951168782174,
          0.7177144516707746,
          0.8287590101380226,
          0.11968927821121444,
          0.4956555722359278,
          0.49025408520097213,
          0.7566101111621105,
          0.4796643500455977,
          0.6955439464952691,
          0.08734622035716166,
          0.8701923673251484,
          0.19617547662236412,
          0.446524506641108,
          0.6872679974496188,
          0.4375001130243038,
          0.9822486721046224,
          0.9006416687029409,
          0.5137939230177281,
          0.035867271739588924,
          0.9314710267918207,
          0.5525788593029939,
          0.6509351921205243,
          0.20255587063475755,
          0.9727414540037758,
          0.913970498959155,
          0.29665635191560613,
          0.2486128363222323,
          0.46490286413331594,
          0.5124759749468574,
          0.8116762984959474
         ],
         "z": [
          0.9661783936187667,
          0.09606559522275948,
          0.6996907251809341,
          0.2898998635484975,
          0.4307789375157499,
          0.9556434510807901,
          0.9062605770700303,
          0.9798251546705374,
          0.7089301009412372,
          0.22897111967207828,
          0.762704950461619,
          0.55808725432422,
          0.93407367262807,
          0.7249617247199894,
          0.538659340691881,
          0.36789989564170444,
          0.9234132190172856,
          0.7144959307654978,
          0.24412068820719213,
          0.5145541340751737,
          0.019985162604170492,
          0.6045679369860963,
          0.6011715579787809,
          0.4974441913413167,
          0.5976164817951554,
          0.3305124885485923,
          0.402703498510412,
          0.7785943612669638,
          0.2871275509685244,
          0.6379515540609895,
          0.08527216752661448,
          0.2723799070974574,
          0.2557420715252684,
          0.20213503161541646,
          0.9927001847951851,
          0.5172810096882628,
          0.382696459182143,
          0.20800326821710102,
          0.9050642221969447,
          0.06646011627868553,
          0.5529538225168266
         ]
        },
        {
         "hoverinfo": "none",
         "marker": {
          "color": [
           0,
           1
          ],
          "colorbar": {
           "ticktext": [
            "0% (Red)",
            "100% (Blue)"
           ],
           "tickvals": [
            0,
            1
           ],
           "title": {
            "text": "Proportion of Hole-Adjacent Edges"
           }
          },
          "colorscale": [
           [
            0,
            "rgb(255, 0, 0)"
           ],
           [
            1,
            "rgb(0, 0, 255)"
           ]
          ],
          "size": 0
         },
         "mode": "markers",
         "type": "scatter3d",
         "x": [
          null
         ],
         "y": [
          null
         ],
         "z": [
          null
         ]
        }
       ],
       "layout": {
        "height": 1000,
        "scene": {
         "xaxis": {
          "showbackground": false
         },
         "yaxis": {
          "showbackground": false
         },
         "zaxis": {
          "showbackground": false
         }
        },
        "showlegend": false,
        "template": {
         "data": {
          "bar": [
           {
            "error_x": {
             "color": "#2a3f5f"
            },
            "error_y": {
             "color": "#2a3f5f"
            },
            "marker": {
             "line": {
              "color": "#E5ECF6",
              "width": 0.5
             },
             "pattern": {
              "fillmode": "overlay",
              "size": 10,
              "solidity": 0.2
             }
            },
            "type": "bar"
           }
          ],
          "barpolar": [
           {
            "marker": {
             "line": {
              "color": "#E5ECF6",
              "width": 0.5
             },
             "pattern": {
              "fillmode": "overlay",
              "size": 10,
              "solidity": 0.2
             }
            },
            "type": "barpolar"
           }
          ],
          "carpet": [
           {
            "aaxis": {
             "endlinecolor": "#2a3f5f",
             "gridcolor": "white",
             "linecolor": "white",
             "minorgridcolor": "white",
             "startlinecolor": "#2a3f5f"
            },
            "baxis": {
             "endlinecolor": "#2a3f5f",
             "gridcolor": "white",
             "linecolor": "white",
             "minorgridcolor": "white",
             "startlinecolor": "#2a3f5f"
            },
            "type": "carpet"
           }
          ],
          "choropleth": [
           {
            "colorbar": {
             "outlinewidth": 0,
             "ticks": ""
            },
            "type": "choropleth"
           }
          ],
          "contour": [
           {
            "colorbar": {
             "outlinewidth": 0,
             "ticks": ""
            },
            "colorscale": [
             [
              0,
              "#0d0887"
             ],
             [
              0.1111111111111111,
              "#46039f"
             ],
             [
              0.2222222222222222,
              "#7201a8"
             ],
             [
              0.3333333333333333,
              "#9c179e"
             ],
             [
              0.4444444444444444,
              "#bd3786"
             ],
             [
              0.5555555555555556,
              "#d8576b"
             ],
             [
              0.6666666666666666,
              "#ed7953"
             ],
             [
              0.7777777777777778,
              "#fb9f3a"
             ],
             [
              0.8888888888888888,
              "#fdca26"
             ],
             [
              1,
              "#f0f921"
             ]
            ],
            "type": "contour"
           }
          ],
          "contourcarpet": [
           {
            "colorbar": {
             "outlinewidth": 0,
             "ticks": ""
            },
            "type": "contourcarpet"
           }
          ],
          "heatmap": [
           {
            "colorbar": {
             "outlinewidth": 0,
             "ticks": ""
            },
            "colorscale": [
             [
              0,
              "#0d0887"
             ],
             [
              0.1111111111111111,
              "#46039f"
             ],
             [
              0.2222222222222222,
              "#7201a8"
             ],
             [
              0.3333333333333333,
              "#9c179e"
             ],
             [
              0.4444444444444444,
              "#bd3786"
             ],
             [
              0.5555555555555556,
              "#d8576b"
             ],
             [
              0.6666666666666666,
              "#ed7953"
             ],
             [
              0.7777777777777778,
              "#fb9f3a"
             ],
             [
              0.8888888888888888,
              "#fdca26"
             ],
             [
              1,
              "#f0f921"
             ]
            ],
            "type": "heatmap"
           }
          ],
          "heatmapgl": [
           {
            "colorbar": {
             "outlinewidth": 0,
             "ticks": ""
            },
            "colorscale": [
             [
              0,
              "#0d0887"
             ],
             [
              0.1111111111111111,
              "#46039f"
             ],
             [
              0.2222222222222222,
              "#7201a8"
             ],
             [
              0.3333333333333333,
              "#9c179e"
             ],
             [
              0.4444444444444444,
              "#bd3786"
             ],
             [
              0.5555555555555556,
              "#d8576b"
             ],
             [
              0.6666666666666666,
              "#ed7953"
             ],
             [
              0.7777777777777778,
              "#fb9f3a"
             ],
             [
              0.8888888888888888,
              "#fdca26"
             ],
             [
              1,
              "#f0f921"
             ]
            ],
            "type": "heatmapgl"
           }
          ],
          "histogram": [
           {
            "marker": {
             "pattern": {
              "fillmode": "overlay",
              "size": 10,
              "solidity": 0.2
             }
            },
            "type": "histogram"
           }
          ],
          "histogram2d": [
           {
            "colorbar": {
             "outlinewidth": 0,
             "ticks": ""
            },
            "colorscale": [
             [
              0,
              "#0d0887"
             ],
             [
              0.1111111111111111,
              "#46039f"
             ],
             [
              0.2222222222222222,
              "#7201a8"
             ],
             [
              0.3333333333333333,
              "#9c179e"
             ],
             [
              0.4444444444444444,
              "#bd3786"
             ],
             [
              0.5555555555555556,
              "#d8576b"
             ],
             [
              0.6666666666666666,
              "#ed7953"
             ],
             [
              0.7777777777777778,
              "#fb9f3a"
             ],
             [
              0.8888888888888888,
              "#fdca26"
             ],
             [
              1,
              "#f0f921"
             ]
            ],
            "type": "histogram2d"
           }
          ],
          "histogram2dcontour": [
           {
            "colorbar": {
             "outlinewidth": 0,
             "ticks": ""
            },
            "colorscale": [
             [
              0,
              "#0d0887"
             ],
             [
              0.1111111111111111,
              "#46039f"
             ],
             [
              0.2222222222222222,
              "#7201a8"
             ],
             [
              0.3333333333333333,
              "#9c179e"
             ],
             [
              0.4444444444444444,
              "#bd3786"
             ],
             [
              0.5555555555555556,
              "#d8576b"
             ],
             [
              0.6666666666666666,
              "#ed7953"
             ],
             [
              0.7777777777777778,
              "#fb9f3a"
             ],
             [
              0.8888888888888888,
              "#fdca26"
             ],
             [
              1,
              "#f0f921"
             ]
            ],
            "type": "histogram2dcontour"
           }
          ],
          "mesh3d": [
           {
            "colorbar": {
             "outlinewidth": 0,
             "ticks": ""
            },
            "type": "mesh3d"
           }
          ],
          "parcoords": [
           {
            "line": {
             "colorbar": {
              "outlinewidth": 0,
              "ticks": ""
             }
            },
            "type": "parcoords"
           }
          ],
          "pie": [
           {
            "automargin": true,
            "type": "pie"
           }
          ],
          "scatter": [
           {
            "fillpattern": {
             "fillmode": "overlay",
             "size": 10,
             "solidity": 0.2
            },
            "type": "scatter"
           }
          ],
          "scatter3d": [
           {
            "line": {
             "colorbar": {
              "outlinewidth": 0,
              "ticks": ""
             }
            },
            "marker": {
             "colorbar": {
              "outlinewidth": 0,
              "ticks": ""
             }
            },
            "type": "scatter3d"
           }
          ],
          "scattercarpet": [
           {
            "marker": {
             "colorbar": {
              "outlinewidth": 0,
              "ticks": ""
             }
            },
            "type": "scattercarpet"
           }
          ],
          "scattergeo": [
           {
            "marker": {
             "colorbar": {
              "outlinewidth": 0,
              "ticks": ""
             }
            },
            "type": "scattergeo"
           }
          ],
          "scattergl": [
           {
            "marker": {
             "colorbar": {
              "outlinewidth": 0,
              "ticks": ""
             }
            },
            "type": "scattergl"
           }
          ],
          "scattermapbox": [
           {
            "marker": {
             "colorbar": {
              "outlinewidth": 0,
              "ticks": ""
             }
            },
            "type": "scattermapbox"
           }
          ],
          "scatterpolar": [
           {
            "marker": {
             "colorbar": {
              "outlinewidth": 0,
              "ticks": ""
             }
            },
            "type": "scatterpolar"
           }
          ],
          "scatterpolargl": [
           {
            "marker": {
             "colorbar": {
              "outlinewidth": 0,
              "ticks": ""
             }
            },
            "type": "scatterpolargl"
           }
          ],
          "scatterternary": [
           {
            "marker": {
             "colorbar": {
              "outlinewidth": 0,
              "ticks": ""
             }
            },
            "type": "scatterternary"
           }
          ],
          "surface": [
           {
            "colorbar": {
             "outlinewidth": 0,
             "ticks": ""
            },
            "colorscale": [
             [
              0,
              "#0d0887"
             ],
             [
              0.1111111111111111,
              "#46039f"
             ],
             [
              0.2222222222222222,
              "#7201a8"
             ],
             [
              0.3333333333333333,
              "#9c179e"
             ],
             [
              0.4444444444444444,
              "#bd3786"
             ],
             [
              0.5555555555555556,
              "#d8576b"
             ],
             [
              0.6666666666666666,
              "#ed7953"
             ],
             [
              0.7777777777777778,
              "#fb9f3a"
             ],
             [
              0.8888888888888888,
              "#fdca26"
             ],
             [
              1,
              "#f0f921"
             ]
            ],
            "type": "surface"
           }
          ],
          "table": [
           {
            "cells": {
             "fill": {
              "color": "#EBF0F8"
             },
             "line": {
              "color": "white"
             }
            },
            "header": {
             "fill": {
              "color": "#C8D4E3"
             },
             "line": {
              "color": "white"
             }
            },
            "type": "table"
           }
          ]
         },
         "layout": {
          "annotationdefaults": {
           "arrowcolor": "#2a3f5f",
           "arrowhead": 0,
           "arrowwidth": 1
          },
          "autotypenumbers": "strict",
          "coloraxis": {
           "colorbar": {
            "outlinewidth": 0,
            "ticks": ""
           }
          },
          "colorscale": {
           "diverging": [
            [
             0,
             "#8e0152"
            ],
            [
             0.1,
             "#c51b7d"
            ],
            [
             0.2,
             "#de77ae"
            ],
            [
             0.3,
             "#f1b6da"
            ],
            [
             0.4,
             "#fde0ef"
            ],
            [
             0.5,
             "#f7f7f7"
            ],
            [
             0.6,
             "#e6f5d0"
            ],
            [
             0.7,
             "#b8e186"
            ],
            [
             0.8,
             "#7fbc41"
            ],
            [
             0.9,
             "#4d9221"
            ],
            [
             1,
             "#276419"
            ]
           ],
           "sequential": [
            [
             0,
             "#0d0887"
            ],
            [
             0.1111111111111111,
             "#46039f"
            ],
            [
             0.2222222222222222,
             "#7201a8"
            ],
            [
             0.3333333333333333,
             "#9c179e"
            ],
            [
             0.4444444444444444,
             "#bd3786"
            ],
            [
             0.5555555555555556,
             "#d8576b"
            ],
            [
             0.6666666666666666,
             "#ed7953"
            ],
            [
             0.7777777777777778,
             "#fb9f3a"
            ],
            [
             0.8888888888888888,
             "#fdca26"
            ],
            [
             1,
             "#f0f921"
            ]
           ],
           "sequentialminus": [
            [
             0,
             "#0d0887"
            ],
            [
             0.1111111111111111,
             "#46039f"
            ],
            [
             0.2222222222222222,
             "#7201a8"
            ],
            [
             0.3333333333333333,
             "#9c179e"
            ],
            [
             0.4444444444444444,
             "#bd3786"
            ],
            [
             0.5555555555555556,
             "#d8576b"
            ],
            [
             0.6666666666666666,
             "#ed7953"
            ],
            [
             0.7777777777777778,
             "#fb9f3a"
            ],
            [
             0.8888888888888888,
             "#fdca26"
            ],
            [
             1,
             "#f0f921"
            ]
           ]
          },
          "colorway": [
           "#636efa",
           "#EF553B",
           "#00cc96",
           "#ab63fa",
           "#FFA15A",
           "#19d3f3",
           "#FF6692",
           "#B6E880",
           "#FF97FF",
           "#FECB52"
          ],
          "font": {
           "color": "#2a3f5f"
          },
          "geo": {
           "bgcolor": "white",
           "lakecolor": "white",
           "landcolor": "#E5ECF6",
           "showlakes": true,
           "showland": true,
           "subunitcolor": "white"
          },
          "hoverlabel": {
           "align": "left"
          },
          "hovermode": "closest",
          "mapbox": {
           "style": "light"
          },
          "paper_bgcolor": "white",
          "plot_bgcolor": "#E5ECF6",
          "polar": {
           "angularaxis": {
            "gridcolor": "white",
            "linecolor": "white",
            "ticks": ""
           },
           "bgcolor": "#E5ECF6",
           "radialaxis": {
            "gridcolor": "white",
            "linecolor": "white",
            "ticks": ""
           }
          },
          "scene": {
           "xaxis": {
            "backgroundcolor": "#E5ECF6",
            "gridcolor": "white",
            "gridwidth": 2,
            "linecolor": "white",
            "showbackground": true,
            "ticks": "",
            "zerolinecolor": "white"
           },
           "yaxis": {
            "backgroundcolor": "#E5ECF6",
            "gridcolor": "white",
            "gridwidth": 2,
            "linecolor": "white",
            "showbackground": true,
            "ticks": "",
            "zerolinecolor": "white"
           },
           "zaxis": {
            "backgroundcolor": "#E5ECF6",
            "gridcolor": "white",
            "gridwidth": 2,
            "linecolor": "white",
            "showbackground": true,
            "ticks": "",
            "zerolinecolor": "white"
           }
          },
          "shapedefaults": {
           "line": {
            "color": "#2a3f5f"
           }
          },
          "ternary": {
           "aaxis": {
            "gridcolor": "white",
            "linecolor": "white",
            "ticks": ""
           },
           "baxis": {
            "gridcolor": "white",
            "linecolor": "white",
            "ticks": ""
           },
           "bgcolor": "#E5ECF6",
           "caxis": {
            "gridcolor": "white",
            "linecolor": "white",
            "ticks": ""
           }
          },
          "title": {
           "x": 0.05
          },
          "xaxis": {
           "automargin": true,
           "gridcolor": "white",
           "linecolor": "white",
           "ticks": "",
           "title": {
            "standoff": 15
           },
           "zerolinecolor": "white",
           "zerolinewidth": 2
          },
          "yaxis": {
           "automargin": true,
           "gridcolor": "white",
           "linecolor": "white",
           "ticks": "",
           "title": {
            "standoff": 15
           },
           "zerolinecolor": "white",
           "zerolinewidth": 2
          }
         }
        },
        "width": 1200
       }
      }
     },
     "metadata": {},
     "output_type": "display_data"
    }
   ],
   "source": [
    "collapsed_G = nx.Graph()\n",
    "\n",
    "for i in range(len(coms)):\n",
    "    collapsed_G.add_node(i)\n",
    "\n",
    "hole_adjacent_edge_count = {}\n",
    "total_edge_count = {}\n",
    "\n",
    "original_cycle_edges = set()\n",
    "for cycle in big_rep_cycle_list1:\n",
    "    for i in range(len(cycle)):\n",
    "        u, v = cycle[i], cycle[(i + 1) % len(cycle)]\n",
    "        original_cycle_edges.add((u, v))\n",
    "        original_cycle_edges.add((v, u))\n",
    "\n",
    "for u, v in G.edges():\n",
    "    community_u = node_to_com_dict[u]\n",
    "    community_v = node_to_com_dict[v]\n",
    "    if community_u != community_v:\n",
    "        if collapsed_G.has_edge(community_u, community_v):\n",
    "            collapsed_G[community_u][community_v]['weight'] += 1\n",
    "        else:\n",
    "            collapsed_G.add_edge(community_u, community_v, weight=1)\n",
    "        \n",
    "        if (community_u, community_v) not in total_edge_count:\n",
    "            total_edge_count[(community_u, community_v)] = 0\n",
    "            hole_adjacent_edge_count[(community_u, community_v)] = 0\n",
    "        \n",
    "        total_edge_count[(community_u, community_v)] += 1\n",
    "        \n",
    "        if (u, v) in original_cycle_edges or (v, u) in original_cycle_edges:\n",
    "            hole_adjacent_edge_count[(community_u, community_v)] += 1\n",
    "\n",
    "edge_proportions = {edge: hole_adjacent_edge_count[edge] / total_edge_count[edge] for edge in total_edge_count}\n",
    "\n",
    "pos = {i: (np.random.random(), np.random.random(), np.random.random()) for i in collapsed_G.nodes}\n",
    "\n",
    "edge_trace = []\n",
    "for edge in collapsed_G.edges():\n",
    "    x0, y0, z0 = pos[edge[0]]\n",
    "    x1, y1, z1 = pos[edge[1]]\n",
    "    proportion = edge_proportions.get(edge, 0)\n",
    "    color = f'rgb({int(255 * (1 - proportion))}, 0, {int(255 * proportion)})'\n",
    "    \n",
    "    edge_trace.append(go.Scatter3d(\n",
    "        x=[x0, x1, None],\n",
    "        y=[y0, y1, None],\n",
    "        z=[z0, z1, None],\n",
    "        line=dict(width=5, color=color),\n",
    "        hoverinfo='none',\n",
    "        mode='lines'\n",
    "    ))\n",
    "\n",
    "# map original cycle edges to community edges\n",
    "collapsed_cycle_edges = set()\n",
    "for u, v in original_cycle_edges:\n",
    "    community_u = node_to_com_dict[u]\n",
    "    community_v = node_to_com_dict[v]\n",
    "    if community_u != community_v:\n",
    "        collapsed_cycle_edges.add((community_u, community_v))\n",
    "        collapsed_cycle_edges.add((community_v, community_u))\n",
    "\n",
    "# count edges part of any cycle and not part of any cycle\n",
    "cycle_edge_count = len([e for e in collapsed_G.edges() if (e in collapsed_cycle_edges or (e[1], e[0]) in collapsed_cycle_edges)])\n",
    "non_cycle_edge_count = len(collapsed_G.edges()) - cycle_edge_count\n",
    "\n",
    "# calculate percentages for gradient\n",
    "total_edges = len(collapsed_G.edges())\n",
    "percent_non_cycle = (non_cycle_edge_count / total_edges) * 100\n",
    "percent_cycle = (cycle_edge_count / total_edges) * 100\n",
    "\n",
    "print(f\"Number of edges not part of any cycle: {non_cycle_edge_count} ({percent_non_cycle:.2f}%)\")\n",
    "print(f\"Number of edges part of a cycle: {cycle_edge_count} ({percent_cycle:.2f}%)\")\n",
    "\n",
    "node_trace = go.Scatter3d(\n",
    "    x=[pos[node][0] for node in collapsed_G.nodes()],\n",
    "    y=[pos[node][1] for node in collapsed_G.nodes()],\n",
    "    z=[pos[node][2] for node in collapsed_G.nodes()],\n",
    "    mode='markers',\n",
    "    marker=dict(\n",
    "        size=7,\n",
    "        color='black',\n",
    "    ),\n",
    "    text=list(collapsed_G.nodes()),\n",
    "    hoverinfo='text'\n",
    ")\n",
    "\n",
    "# do color bar/key\n",
    "color_bar_trace = go.Scatter3d(\n",
    "    x=[None], y=[None], z=[None],\n",
    "    mode='markers',\n",
    "    marker=dict(\n",
    "        size=0,\n",
    "        color=[0, 1], \n",
    "        colorscale=[[0, 'rgb(255, 0, 0)'], [1, 'rgb(0, 0, 255)']],\n",
    "        colorbar=dict(\n",
    "            title=\"Proportion of Hole-Adjacent Edges\",\n",
    "            tickvals=[0, 1],\n",
    "            ticktext=[\"0% (Red)\", \"100% (Blue)\"]\n",
    "        )\n",
    "    ),\n",
    "    hoverinfo='none'\n",
    ")\n",
    "\n",
    "layout = go.Layout(\n",
    "    width=1200,\n",
    "    height=1000,\n",
    "    showlegend=False,\n",
    "    scene=dict(\n",
    "        xaxis=dict(showbackground=False),\n",
    "        yaxis=dict(showbackground=False),\n",
    "        zaxis=dict(showbackground=False)\n",
    "    ),\n",
    ")\n",
    "\n",
    "fig = go.Figure(data=edge_trace + [node_trace, color_bar_trace], layout=layout)\n",
    "fig.show()"
   ]
  },
  {
   "cell_type": "markdown",
   "metadata": {},
   "source": [
    "### Gradient, weighted"
   ]
  },
  {
   "cell_type": "code",
   "execution_count": 7,
   "metadata": {},
   "outputs": [
    {
     "name": "stdout",
     "output_type": "stream",
     "text": [
      "Number of edges not part of any cycle: 5 (1.02%)\n",
      "Number of edges part of a cycle: 486 (98.98%)\n"
     ]
    },
    {
     "data": {
      "application/vnd.plotly.v1+json": {
       "config": {
        "plotlyServerURL": "https://plot.ly"
       },
       "data": [
        {
         "hoverinfo": "none",
         "line": {
          "color": "rgb(163, 0, 91)",
          "width": 3.38561320754717
         },
         "mode": "lines",
         "type": "scatter3d",
         "x": [
          0.8221603901770754,
          0.6056962931843748,
          null
         ],
         "y": [
          0.6258079260801888,
          0.5916687419408222,
          null
         ],
         "z": [
          0.3699576720150295,
          0.44956743391166354,
          null
         ]
        },
        {
         "hoverinfo": "none",
         "line": {
          "color": "rgb(155, 0, 99)",
          "width": 3.6120283018867925
         },
         "mode": "lines",
         "type": "scatter3d",
         "x": [
          0.8221603901770754,
          0.011201830467100105,
          null
         ],
         "y": [
          0.6258079260801888,
          0.1464829749039792,
          null
         ],
         "z": [
          0.3699576720150295,
          0.8150512219980447,
          null
         ]
        },
        {
         "hoverinfo": "none",
         "line": {
          "color": "rgb(205, 0, 49)",
          "width": 4.125
         },
         "mode": "lines",
         "type": "scatter3d",
         "x": [
          0.8221603901770754,
          0.1824886837609898,
          null
         ],
         "y": [
          0.6258079260801888,
          0.17548987507358704,
          null
         ],
         "z": [
          0.3699576720150295,
          0.6271843652651261,
          null
         ]
        },
        {
         "hoverinfo": "none",
         "line": {
          "color": "rgb(204, 0, 51)",
          "width": 3.1839622641509435
         },
         "mode": "lines",
         "type": "scatter3d",
         "x": [
          0.8221603901770754,
          0.4403944332224933,
          null
         ],
         "y": [
          0.6258079260801888,
          0.31363312554250466,
          null
         ],
         "z": [
          0.3699576720150295,
          0.9346959222567455,
          null
         ]
        },
        {
         "hoverinfo": "none",
         "line": {
          "color": "rgb(204, 0, 50)",
          "width": 4.181603773584905
         },
         "mode": "lines",
         "type": "scatter3d",
         "x": [
          0.8221603901770754,
          0.08632051731650314,
          null
         ],
         "y": [
          0.6258079260801888,
          0.13318489045889448,
          null
         ],
         "z": [
          0.3699576720150295,
          0.27123394161463943,
          null
         ]
        },
        {
         "hoverinfo": "none",
         "line": {
          "color": "rgb(156, 0, 98)",
          "width": 3.580188679245283
         },
         "mode": "lines",
         "type": "scatter3d",
         "x": [
          0.8221603901770754,
          0.1843388531439707,
          null
         ],
         "y": [
          0.6258079260801888,
          0.9569094209645336,
          null
         ],
         "z": [
          0.3699576720150295,
          0.7357815843661885,
          null
         ]
        },
        {
         "hoverinfo": "none",
         "line": {
          "color": "rgb(172, 0, 82)",
          "width": 3.5235849056603774
         },
         "mode": "lines",
         "type": "scatter3d",
         "x": [
          0.8221603901770754,
          0.7646315870920991,
          null
         ],
         "y": [
          0.6258079260801888,
          0.994121002249538,
          null
         ],
         "z": [
          0.3699576720150295,
          0.05241069186266445,
          null
         ]
        },
        {
         "hoverinfo": "none",
         "line": {
          "color": "rgb(156, 0, 98)",
          "width": 3.357311320754717
         },
         "mode": "lines",
         "type": "scatter3d",
         "x": [
          0.8221603901770754,
          0.9980073115828699,
          null
         ],
         "y": [
          0.6258079260801888,
          0.9148244211621036,
          null
         ],
         "z": [
          0.3699576720150295,
          0.09355993675596497,
          null
         ]
        },
        {
         "hoverinfo": "none",
         "line": {
          "color": "rgb(167, 0, 87)",
          "width": 3.329009433962264
         },
         "mode": "lines",
         "type": "scatter3d",
         "x": [
          0.8221603901770754,
          0.17628094509891412,
          null
         ],
         "y": [
          0.6258079260801888,
          0.22833884872332644,
          null
         ],
         "z": [
          0.3699576720150295,
          0.889938195577574,
          null
         ]
        },
        {
         "hoverinfo": "none",
         "line": {
          "color": "rgb(178, 0, 76)",
          "width": 3.339622641509434
         },
         "mode": "lines",
         "type": "scatter3d",
         "x": [
          0.8221603901770754,
          0.4462581925357012,
          null
         ],
         "y": [
          0.6258079260801888,
          0.7092664124004832,
          null
         ],
         "z": [
          0.3699576720150295,
          0.9555305966584261,
          null
         ]
        },
        {
         "hoverinfo": "none",
         "line": {
          "color": "rgb(197, 0, 57)",
          "width": 3.3997641509433962
         },
         "mode": "lines",
         "type": "scatter3d",
         "x": [
          0.8221603901770754,
          0.2569820810932313,
          null
         ],
         "y": [
          0.6258079260801888,
          0.3569046374818059,
          null
         ],
         "z": [
          0.3699576720150295,
          0.09497509414440564,
          null
         ]
        },
        {
         "hoverinfo": "none",
         "line": {
          "color": "rgb(149, 0, 105)",
          "width": 3.311320754716981
         },
         "mode": "lines",
         "type": "scatter3d",
         "x": [
          0.8221603901770754,
          0.7181376075456939,
          null
         ],
         "y": [
          0.6258079260801888,
          0.6349186313634798,
          null
         ],
         "z": [
          0.3699576720150295,
          0.7180178907161859,
          null
         ]
        },
        {
         "hoverinfo": "none",
         "line": {
          "color": "rgb(209, 0, 45)",
          "width": 3.38561320754717
         },
         "mode": "lines",
         "type": "scatter3d",
         "x": [
          0.8221603901770754,
          0.8259862363808627,
          null
         ],
         "y": [
          0.6258079260801888,
          0.2111471902124571,
          null
         ],
         "z": [
          0.3699576720150295,
          0.7665621089368317,
          null
         ]
        },
        {
         "hoverinfo": "none",
         "line": {
          "color": "rgb(172, 0, 82)",
          "width": 3.6226415094339623
         },
         "mode": "lines",
         "type": "scatter3d",
         "x": [
          0.8221603901770754,
          0.8284340696291544,
          null
         ],
         "y": [
          0.6258079260801888,
          0.6917473564225821,
          null
         ],
         "z": [
          0.3699576720150295,
          0.3163445400366095,
          null
         ]
        },
        {
         "hoverinfo": "none",
         "line": {
          "color": "rgb(134, 0, 120)",
          "width": 3.5483490566037736
         },
         "mode": "lines",
         "type": "scatter3d",
         "x": [
          0.8221603901770754,
          0.39517423387251094,
          null
         ],
         "y": [
          0.6258079260801888,
          0.5490835876548705,
          null
         ],
         "z": [
          0.3699576720150295,
          0.6171909366473257,
          null
         ]
        },
        {
         "hoverinfo": "none",
         "line": {
          "color": "rgb(158, 0, 96)",
          "width": 3.4882075471698113
         },
         "mode": "lines",
         "type": "scatter3d",
         "x": [
          0.8221603901770754,
          0.2756674478584026,
          null
         ],
         "y": [
          0.6258079260801888,
          0.27963968524651295,
          null
         ],
         "z": [
          0.3699576720150295,
          0.37179483267150526,
          null
         ]
        },
        {
         "hoverinfo": "none",
         "line": {
          "color": "rgb(153, 0, 101)",
          "width": 3.9162735849056602
         },
         "mode": "lines",
         "type": "scatter3d",
         "x": [
          0.8221603901770754,
          0.07285509432239634,
          null
         ],
         "y": [
          0.6258079260801888,
          0.5042729416456374,
          null
         ],
         "z": [
          0.3699576720150295,
          0.2112323650275585,
          null
         ]
        },
        {
         "hoverinfo": "none",
         "line": {
          "color": "rgb(127, 0, 127)",
          "width": 3.1273584905660377
         },
         "mode": "lines",
         "type": "scatter3d",
         "x": [
          0.8221603901770754,
          0.9485324130365435,
          null
         ],
         "y": [
          0.6258079260801888,
          0.2356793768003087,
          null
         ],
         "z": [
          0.3699576720150295,
          0.5170673640919804,
          null
         ]
        },
        {
         "hoverinfo": "none",
         "line": {
          "color": "rgb(159, 0, 95)",
          "width": 3.1167452830188678
         },
         "mode": "lines",
         "type": "scatter3d",
         "x": [
          0.8221603901770754,
          0.7279986433760837,
          null
         ],
         "y": [
          0.6258079260801888,
          0.450788086644763,
          null
         ],
         "z": [
          0.3699576720150295,
          0.05386504773569423,
          null
         ]
        },
        {
         "hoverinfo": "none",
         "line": {
          "color": "rgb(204, 0, 51)",
          "width": 3.1132075471698113
         },
         "mode": "lines",
         "type": "scatter3d",
         "x": [
          0.8221603901770754,
          0.27686321902837085,
          null
         ],
         "y": [
          0.6258079260801888,
          0.8373484279802658,
          null
         ],
         "z": [
          0.3699576720150295,
          0.4042199553564215,
          null
         ]
        },
        {
         "hoverinfo": "none",
         "line": {
          "color": "rgb(160, 0, 94)",
          "width": 3.357311320754717
         },
         "mode": "lines",
         "type": "scatter3d",
         "x": [
          0.8221603901770754,
          0.14123353972115282,
          null
         ],
         "y": [
          0.6258079260801888,
          0.9501974615175286,
          null
         ],
         "z": [
          0.3699576720150295,
          0.3762295887850666,
          null
         ]
        },
        {
         "hoverinfo": "none",
         "line": {
          "color": "rgb(206, 0, 48)",
          "width": 3.1733490566037736
         },
         "mode": "lines",
         "type": "scatter3d",
         "x": [
          0.8221603901770754,
          0.5159810544350291,
          null
         ],
         "y": [
          0.6258079260801888,
          0.4963718910483257,
          null
         ],
         "z": [
          0.3699576720150295,
          0.23162234647955315,
          null
         ]
        },
        {
         "hoverinfo": "none",
         "line": {
          "color": "rgb(143, 0, 111)",
          "width": 3.099056603773585
         },
         "mode": "lines",
         "type": "scatter3d",
         "x": [
          0.8221603901770754,
          0.3995002317579539,
          null
         ],
         "y": [
          0.6258079260801888,
          0.15319802031102225,
          null
         ],
         "z": [
          0.3699576720150295,
          0.7598240496011175,
          null
         ]
        },
        {
         "hoverinfo": "none",
         "line": {
          "color": "rgb(172, 0, 82)",
          "width": 3.2441037735849054
         },
         "mode": "lines",
         "type": "scatter3d",
         "x": [
          0.8221603901770754,
          0.07306528718544647,
          null
         ],
         "y": [
          0.6258079260801888,
          0.16037298994551585,
          null
         ],
         "z": [
          0.3699576720150295,
          0.5202388383952486,
          null
         ]
        },
        {
         "hoverinfo": "none",
         "line": {
          "color": "rgb(185, 0, 69)",
          "width": 3.152122641509434
         },
         "mode": "lines",
         "type": "scatter3d",
         "x": [
          0.8221603901770754,
          0.8415273827891165,
          null
         ],
         "y": [
          0.6258079260801888,
          0.9471500458412451,
          null
         ],
         "z": [
          0.3699576720150295,
          0.048642871051601255,
          null
         ]
        },
        {
         "hoverinfo": "none",
         "line": {
          "color": "rgb(127, 0, 127)",
          "width": 3.063679245283019
         },
         "mode": "lines",
         "type": "scatter3d",
         "x": [
          0.8221603901770754,
          0.9383998934077977,
          null
         ],
         "y": [
          0.6258079260801888,
          0.32532543746089326,
          null
         ],
         "z": [
          0.3699576720150295,
          0.019471899465971276,
          null
         ]
        },
        {
         "hoverinfo": "none",
         "line": {
          "color": "rgb(191, 0, 63)",
          "width": 3.0919811320754715
         },
         "mode": "lines",
         "type": "scatter3d",
         "x": [
          0.8221603901770754,
          0.20776611441615878,
          null
         ],
         "y": [
          0.6258079260801888,
          0.9428665586908561,
          null
         ],
         "z": [
          0.3699576720150295,
          0.3828208035706665,
          null
         ]
        },
        {
         "hoverinfo": "none",
         "line": {
          "color": "rgb(139, 0, 115)",
          "width": 3.0601415094339623
         },
         "mode": "lines",
         "type": "scatter3d",
         "x": [
          0.8221603901770754,
          0.7176246895990278,
          null
         ],
         "y": [
          0.6258079260801888,
          0.12348549004815479,
          null
         ],
         "z": [
          0.3699576720150295,
          0.9890999641316434,
          null
         ]
        },
        {
         "hoverinfo": "none",
         "line": {
          "color": "rgb(127, 0, 127)",
          "width": 3.0247641509433962
         },
         "mode": "lines",
         "type": "scatter3d",
         "x": [
          0.8221603901770754,
          0.5149416782322986,
          null
         ],
         "y": [
          0.6258079260801888,
          0.9889810900996732,
          null
         ],
         "z": [
          0.3699576720150295,
          0.1770483821901393,
          null
         ]
        },
        {
         "hoverinfo": "none",
         "line": {
          "color": "rgb(255, 0, 0)",
          "width": 3.01061320754717
         },
         "mode": "lines",
         "type": "scatter3d",
         "x": [
          0.8221603901770754,
          0.16705182778560246,
          null
         ],
         "y": [
          0.6258079260801888,
          0.2397375514499933,
          null
         ],
         "z": [
          0.3699576720150295,
          0.5718158908671802,
          null
         ]
        },
        {
         "hoverinfo": "none",
         "line": {
          "color": "rgb(146, 0, 108)",
          "width": 3.3608490566037736
         },
         "mode": "lines",
         "type": "scatter3d",
         "x": [
          0.27686321902837085,
          0.6056962931843748,
          null
         ],
         "y": [
          0.8373484279802658,
          0.5916687419408222,
          null
         ],
         "z": [
          0.4042199553564215,
          0.44956743391166354,
          null
         ]
        },
        {
         "hoverinfo": "none",
         "line": {
          "color": "rgb(174, 0, 80)",
          "width": 4.185141509433962
         },
         "mode": "lines",
         "type": "scatter3d",
         "x": [
          0.27686321902837085,
          0.07306528718544647,
          null
         ],
         "y": [
          0.8373484279802658,
          0.16037298994551585,
          null
         ],
         "z": [
          0.4042199553564215,
          0.5202388383952486,
          null
         ]
        },
        {
         "hoverinfo": "none",
         "line": {
          "color": "rgb(191, 0, 63)",
          "width": 5.550707547169811
         },
         "mode": "lines",
         "type": "scatter3d",
         "x": [
          0.27686321902837085,
          0.7646315870920991,
          null
         ],
         "y": [
          0.8373484279802658,
          0.994121002249538,
          null
         ],
         "z": [
          0.4042199553564215,
          0.05241069186266445,
          null
         ]
        },
        {
         "hoverinfo": "none",
         "line": {
          "color": "rgb(193, 0, 61)",
          "width": 4.620283018867925
         },
         "mode": "lines",
         "type": "scatter3d",
         "x": [
          0.27686321902837085,
          0.39517423387251094,
          null
         ],
         "y": [
          0.8373484279802658,
          0.5490835876548705,
          null
         ],
         "z": [
          0.4042199553564215,
          0.6171909366473257,
          null
         ]
        },
        {
         "hoverinfo": "none",
         "line": {
          "color": "rgb(182, 0, 72)",
          "width": 4.011792452830189
         },
         "mode": "lines",
         "type": "scatter3d",
         "x": [
          0.27686321902837085,
          0.8284340696291544,
          null
         ],
         "y": [
          0.8373484279802658,
          0.6917473564225821,
          null
         ],
         "z": [
          0.4042199553564215,
          0.3163445400366095,
          null
         ]
        },
        {
         "hoverinfo": "none",
         "line": {
          "color": "rgb(210, 0, 44)",
          "width": 3.8242924528301887
         },
         "mode": "lines",
         "type": "scatter3d",
         "x": [
          0.27686321902837085,
          0.4462581925357012,
          null
         ],
         "y": [
          0.8373484279802658,
          0.7092664124004832,
          null
         ],
         "z": [
          0.4042199553564215,
          0.9555305966584261,
          null
         ]
        },
        {
         "hoverinfo": "none",
         "line": {
          "color": "rgb(174, 0, 80)",
          "width": 3.484669811320755
         },
         "mode": "lines",
         "type": "scatter3d",
         "x": [
          0.27686321902837085,
          0.17628094509891412,
          null
         ],
         "y": [
          0.8373484279802658,
          0.22833884872332644,
          null
         ],
         "z": [
          0.4042199553564215,
          0.889938195577574,
          null
         ]
        },
        {
         "hoverinfo": "none",
         "line": {
          "color": "rgb(129, 0, 125)",
          "width": 3.3962264150943398
         },
         "mode": "lines",
         "type": "scatter3d",
         "x": [
          0.27686321902837085,
          0.2756674478584026,
          null
         ],
         "y": [
          0.8373484279802658,
          0.27963968524651295,
          null
         ],
         "z": [
          0.4042199553564215,
          0.37179483267150526,
          null
         ]
        },
        {
         "hoverinfo": "none",
         "line": {
          "color": "rgb(179, 0, 75)",
          "width": 3.5306603773584904
         },
         "mode": "lines",
         "type": "scatter3d",
         "x": [
          0.27686321902837085,
          0.3995002317579539,
          null
         ],
         "y": [
          0.8373484279802658,
          0.15319802031102225,
          null
         ],
         "z": [
          0.4042199553564215,
          0.7598240496011175,
          null
         ]
        },
        {
         "hoverinfo": "none",
         "line": {
          "color": "rgb(173, 0, 81)",
          "width": 4.744103773584905
         },
         "mode": "lines",
         "type": "scatter3d",
         "x": [
          0.27686321902837085,
          0.14123353972115282,
          null
         ],
         "y": [
          0.8373484279802658,
          0.9501974615175286,
          null
         ],
         "z": [
          0.4042199553564215,
          0.3762295887850666,
          null
         ]
        },
        {
         "hoverinfo": "none",
         "line": {
          "color": "rgb(165, 0, 89)",
          "width": 4.32311320754717
         },
         "mode": "lines",
         "type": "scatter3d",
         "x": [
          0.27686321902837085,
          0.9980073115828699,
          null
         ],
         "y": [
          0.8373484279802658,
          0.9148244211621036,
          null
         ],
         "z": [
          0.4042199553564215,
          0.09355993675596497,
          null
         ]
        },
        {
         "hoverinfo": "none",
         "line": {
          "color": "rgb(182, 0, 72)",
          "width": 3.2476415094339623
         },
         "mode": "lines",
         "type": "scatter3d",
         "x": [
          0.27686321902837085,
          0.8259862363808627,
          null
         ],
         "y": [
          0.8373484279802658,
          0.2111471902124571,
          null
         ],
         "z": [
          0.4042199553564215,
          0.7665621089368317,
          null
         ]
        },
        {
         "hoverinfo": "none",
         "line": {
          "color": "rgb(154, 0, 100)",
          "width": 3.3360849056603774
         },
         "mode": "lines",
         "type": "scatter3d",
         "x": [
          0.27686321902837085,
          0.07285509432239634,
          null
         ],
         "y": [
          0.8373484279802658,
          0.5042729416456374,
          null
         ],
         "z": [
          0.4042199553564215,
          0.2112323650275585,
          null
         ]
        },
        {
         "hoverinfo": "none",
         "line": {
          "color": "rgb(198, 0, 56)",
          "width": 3.2122641509433962
         },
         "mode": "lines",
         "type": "scatter3d",
         "x": [
          0.27686321902837085,
          0.2569820810932313,
          null
         ],
         "y": [
          0.8373484279802658,
          0.3569046374818059,
          null
         ],
         "z": [
          0.4042199553564215,
          0.09497509414440564,
          null
         ]
        },
        {
         "hoverinfo": "none",
         "line": {
          "color": "rgb(85, 0, 170)",
          "width": 3.0212264150943398
         },
         "mode": "lines",
         "type": "scatter3d",
         "x": [
          0.27686321902837085,
          0.16705182778560246,
          null
         ],
         "y": [
          0.8373484279802658,
          0.2397375514499933,
          null
         ],
         "z": [
          0.4042199553564215,
          0.5718158908671802,
          null
         ]
        },
        {
         "hoverinfo": "none",
         "line": {
          "color": "rgb(180, 0, 74)",
          "width": 3.4917452830188678
         },
         "mode": "lines",
         "type": "scatter3d",
         "x": [
          0.27686321902837085,
          0.011201830467100105,
          null
         ],
         "y": [
          0.8373484279802658,
          0.1464829749039792,
          null
         ],
         "z": [
          0.4042199553564215,
          0.8150512219980447,
          null
         ]
        },
        {
         "hoverinfo": "none",
         "line": {
          "color": "rgb(85, 0, 170)",
          "width": 3.0955188679245285
         },
         "mode": "lines",
         "type": "scatter3d",
         "x": [
          0.27686321902837085,
          0.7176246895990278,
          null
         ],
         "y": [
          0.8373484279802658,
          0.12348549004815479,
          null
         ],
         "z": [
          0.4042199553564215,
          0.9890999641316434,
          null
         ]
        },
        {
         "hoverinfo": "none",
         "line": {
          "color": "rgb(182, 0, 72)",
          "width": 3.6898584905660377
         },
         "mode": "lines",
         "type": "scatter3d",
         "x": [
          0.27686321902837085,
          0.08632051731650314,
          null
         ],
         "y": [
          0.8373484279802658,
          0.13318489045889448,
          null
         ],
         "z": [
          0.4042199553564215,
          0.27123394161463943,
          null
         ]
        },
        {
         "hoverinfo": "none",
         "line": {
          "color": "rgb(145, 0, 109)",
          "width": 3.169811320754717
         },
         "mode": "lines",
         "type": "scatter3d",
         "x": [
          0.27686321902837085,
          0.1843388531439707,
          null
         ],
         "y": [
          0.8373484279802658,
          0.9569094209645336,
          null
         ],
         "z": [
          0.4042199553564215,
          0.7357815843661885,
          null
         ]
        },
        {
         "hoverinfo": "none",
         "line": {
          "color": "rgb(139, 0, 115)",
          "width": 3.088443396226415
         },
         "mode": "lines",
         "type": "scatter3d",
         "x": [
          0.27686321902837085,
          0.8415273827891165,
          null
         ],
         "y": [
          0.8373484279802658,
          0.9471500458412451,
          null
         ],
         "z": [
          0.4042199553564215,
          0.048642871051601255,
          null
         ]
        },
        {
         "hoverinfo": "none",
         "line": {
          "color": "rgb(226, 0, 28)",
          "width": 3.0389150943396226
         },
         "mode": "lines",
         "type": "scatter3d",
         "x": [
          0.27686321902837085,
          0.5149416782322986,
          null
         ],
         "y": [
          0.8373484279802658,
          0.9889810900996732,
          null
         ],
         "z": [
          0.4042199553564215,
          0.1770483821901393,
          null
         ]
        },
        {
         "hoverinfo": "none",
         "line": {
          "color": "rgb(213, 0, 41)",
          "width": 4.0790094339622645
         },
         "mode": "lines",
         "type": "scatter3d",
         "x": [
          0.27686321902837085,
          0.12705559846928383,
          null
         ],
         "y": [
          0.8373484279802658,
          0.9295935696226497,
          null
         ],
         "z": [
          0.4042199553564215,
          0.08932677785912801,
          null
         ]
        },
        {
         "hoverinfo": "none",
         "line": {
          "color": "rgb(200, 0, 54)",
          "width": 3.3148584905660377
         },
         "mode": "lines",
         "type": "scatter3d",
         "x": [
          0.27686321902837085,
          0.7181376075456939,
          null
         ],
         "y": [
          0.8373484279802658,
          0.6349186313634798,
          null
         ],
         "z": [
          0.4042199553564215,
          0.7180178907161859,
          null
         ]
        },
        {
         "hoverinfo": "none",
         "line": {
          "color": "rgb(132, 0, 122)",
          "width": 3.1591981132075473
         },
         "mode": "lines",
         "type": "scatter3d",
         "x": [
          0.27686321902837085,
          0.7279986433760837,
          null
         ],
         "y": [
          0.8373484279802658,
          0.450788086644763,
          null
         ],
         "z": [
          0.4042199553564215,
          0.05386504773569423,
          null
         ]
        },
        {
         "hoverinfo": "none",
         "line": {
          "color": "rgb(197, 0, 57)",
          "width": 3.240566037735849
         },
         "mode": "lines",
         "type": "scatter3d",
         "x": [
          0.27686321902837085,
          0.1824886837609898,
          null
         ],
         "y": [
          0.8373484279802658,
          0.17548987507358704,
          null
         ],
         "z": [
          0.4042199553564215,
          0.6271843652651261,
          null
         ]
        },
        {
         "hoverinfo": "none",
         "line": {
          "color": "rgb(221, 0, 34)",
          "width": 3.088443396226415
         },
         "mode": "lines",
         "type": "scatter3d",
         "x": [
          0.27686321902837085,
          0.5159810544350291,
          null
         ],
         "y": [
          0.8373484279802658,
          0.4963718910483257,
          null
         ],
         "z": [
          0.4042199553564215,
          0.23162234647955315,
          null
         ]
        },
        {
         "hoverinfo": "none",
         "line": {
          "color": "rgb(197, 0, 57)",
          "width": 3.3254716981132075
         },
         "mode": "lines",
         "type": "scatter3d",
         "x": [
          0.27686321902837085,
          0.4403944332224933,
          null
         ],
         "y": [
          0.8373484279802658,
          0.31363312554250466,
          null
         ],
         "z": [
          0.4042199553564215,
          0.9346959222567455,
          null
         ]
        },
        {
         "hoverinfo": "none",
         "line": {
          "color": "rgb(198, 0, 56)",
          "width": 3.0495283018867925
         },
         "mode": "lines",
         "type": "scatter3d",
         "x": [
          0.27686321902837085,
          0.20776611441615878,
          null
         ],
         "y": [
          0.8373484279802658,
          0.9428665586908561,
          null
         ],
         "z": [
          0.4042199553564215,
          0.3828208035706665,
          null
         ]
        },
        {
         "hoverinfo": "none",
         "line": {
          "color": "rgb(204, 0, 51)",
          "width": 3.0212264150943398
         },
         "mode": "lines",
         "type": "scatter3d",
         "x": [
          0.27686321902837085,
          0.9485324130365435,
          null
         ],
         "y": [
          0.8373484279802658,
          0.2356793768003087,
          null
         ],
         "z": [
          0.4042199553564215,
          0.5170673640919804,
          null
         ]
        },
        {
         "hoverinfo": "none",
         "line": {
          "color": "rgb(212, 0, 42)",
          "width": 3.017688679245283
         },
         "mode": "lines",
         "type": "scatter3d",
         "x": [
          0.27686321902837085,
          0.9383998934077977,
          null
         ],
         "y": [
          0.8373484279802658,
          0.32532543746089326,
          null
         ],
         "z": [
          0.4042199553564215,
          0.019471899465971276,
          null
         ]
        },
        {
         "hoverinfo": "none",
         "line": {
          "color": "rgb(197, 0, 57)",
          "width": 4.351415094339623
         },
         "mode": "lines",
         "type": "scatter3d",
         "x": [
          0.011201830467100105,
          0.17628094509891412,
          null
         ],
         "y": [
          0.1464829749039792,
          0.22833884872332644,
          null
         ],
         "z": [
          0.8150512219980447,
          0.889938195577574,
          null
         ]
        },
        {
         "hoverinfo": "none",
         "line": {
          "color": "rgb(181, 0, 73)",
          "width": 4.181603773584905
         },
         "mode": "lines",
         "type": "scatter3d",
         "x": [
          0.011201830467100105,
          0.6056962931843748,
          null
         ],
         "y": [
          0.1464829749039792,
          0.5916687419408222,
          null
         ],
         "z": [
          0.8150512219980447,
          0.44956743391166354,
          null
         ]
        },
        {
         "hoverinfo": "none",
         "line": {
          "color": "rgb(174, 0, 80)",
          "width": 3.75
         },
         "mode": "lines",
         "type": "scatter3d",
         "x": [
          0.011201830467100105,
          0.7279986433760837,
          null
         ],
         "y": [
          0.1464829749039792,
          0.450788086644763,
          null
         ],
         "z": [
          0.8150512219980447,
          0.05386504773569423,
          null
         ]
        },
        {
         "hoverinfo": "none",
         "line": {
          "color": "rgb(168, 0, 86)",
          "width": 3.8207547169811322
         },
         "mode": "lines",
         "type": "scatter3d",
         "x": [
          0.011201830467100105,
          0.8284340696291544,
          null
         ],
         "y": [
          0.1464829749039792,
          0.6917473564225821,
          null
         ],
         "z": [
          0.8150512219980447,
          0.3163445400366095,
          null
         ]
        },
        {
         "hoverinfo": "none",
         "line": {
          "color": "rgb(213, 0, 41)",
          "width": 5.971698113207547
         },
         "mode": "lines",
         "type": "scatter3d",
         "x": [
          0.011201830467100105,
          0.1824886837609898,
          null
         ],
         "y": [
          0.1464829749039792,
          0.17548987507358704,
          null
         ],
         "z": [
          0.8150512219980447,
          0.6271843652651261,
          null
         ]
        },
        {
         "hoverinfo": "none",
         "line": {
          "color": "rgb(173, 0, 81)",
          "width": 4.121462264150943
         },
         "mode": "lines",
         "type": "scatter3d",
         "x": [
          0.011201830467100105,
          0.7646315870920991,
          null
         ],
         "y": [
          0.1464829749039792,
          0.994121002249538,
          null
         ],
         "z": [
          0.8150512219980447,
          0.05241069186266445,
          null
         ]
        },
        {
         "hoverinfo": "none",
         "line": {
          "color": "rgb(168, 0, 86)",
          "width": 4.5424528301886795
         },
         "mode": "lines",
         "type": "scatter3d",
         "x": [
          0.011201830467100105,
          0.39517423387251094,
          null
         ],
         "y": [
          0.1464829749039792,
          0.5490835876548705,
          null
         ],
         "z": [
          0.8150512219980447,
          0.6171909366473257,
          null
         ]
        },
        {
         "hoverinfo": "none",
         "line": {
          "color": "rgb(190, 0, 64)",
          "width": 4.422169811320755
         },
         "mode": "lines",
         "type": "scatter3d",
         "x": [
          0.011201830467100105,
          0.1843388531439707,
          null
         ],
         "y": [
          0.1464829749039792,
          0.9569094209645336,
          null
         ],
         "z": [
          0.8150512219980447,
          0.7357815843661885,
          null
         ]
        },
        {
         "hoverinfo": "none",
         "line": {
          "color": "rgb(181, 0, 73)",
          "width": 4.224056603773585
         },
         "mode": "lines",
         "type": "scatter3d",
         "x": [
          0.011201830467100105,
          0.07306528718544647,
          null
         ],
         "y": [
          0.1464829749039792,
          0.16037298994551585,
          null
         ],
         "z": [
          0.8150512219980447,
          0.5202388383952486,
          null
         ]
        },
        {
         "hoverinfo": "none",
         "line": {
          "color": "rgb(213, 0, 41)",
          "width": 3.55188679245283
         },
         "mode": "lines",
         "type": "scatter3d",
         "x": [
          0.011201830467100105,
          0.9485324130365435,
          null
         ],
         "y": [
          0.1464829749039792,
          0.2356793768003087,
          null
         ],
         "z": [
          0.8150512219980447,
          0.5170673640919804,
          null
         ]
        },
        {
         "hoverinfo": "none",
         "line": {
          "color": "rgb(212, 0, 42)",
          "width": 4.255896226415095
         },
         "mode": "lines",
         "type": "scatter3d",
         "x": [
          0.011201830467100105,
          0.4403944332224933,
          null
         ],
         "y": [
          0.1464829749039792,
          0.31363312554250466,
          null
         ],
         "z": [
          0.8150512219980447,
          0.9346959222567455,
          null
         ]
        },
        {
         "hoverinfo": "none",
         "line": {
          "color": "rgb(211, 0, 43)",
          "width": 6.20872641509434
         },
         "mode": "lines",
         "type": "scatter3d",
         "x": [
          0.011201830467100105,
          0.9980073115828699,
          null
         ],
         "y": [
          0.1464829749039792,
          0.9148244211621036,
          null
         ],
         "z": [
          0.8150512219980447,
          0.09355993675596497,
          null
         ]
        },
        {
         "hoverinfo": "none",
         "line": {
          "color": "rgb(246, 0, 8)",
          "width": 3.4033018867924527
         },
         "mode": "lines",
         "type": "scatter3d",
         "x": [
          0.011201830467100105,
          0.5159810544350291,
          null
         ],
         "y": [
          0.1464829749039792,
          0.4963718910483257,
          null
         ],
         "z": [
          0.8150512219980447,
          0.23162234647955315,
          null
         ]
        },
        {
         "hoverinfo": "none",
         "line": {
          "color": "rgb(195, 0, 59)",
          "width": 3.640330188679245
         },
         "mode": "lines",
         "type": "scatter3d",
         "x": [
          0.011201830467100105,
          0.2569820810932313,
          null
         ],
         "y": [
          0.1464829749039792,
          0.3569046374818059,
          null
         ],
         "z": [
          0.8150512219980447,
          0.09497509414440564,
          null
         ]
        },
        {
         "hoverinfo": "none",
         "line": {
          "color": "rgb(194, 0, 60)",
          "width": 3.9941037735849054
         },
         "mode": "lines",
         "type": "scatter3d",
         "x": [
          0.011201830467100105,
          0.3995002317579539,
          null
         ],
         "y": [
          0.1464829749039792,
          0.15319802031102225,
          null
         ],
         "z": [
          0.8150512219980447,
          0.7598240496011175,
          null
         ]
        },
        {
         "hoverinfo": "none",
         "line": {
          "color": "rgb(164, 0, 90)",
          "width": 3.569575471698113
         },
         "mode": "lines",
         "type": "scatter3d",
         "x": [
          0.011201830467100105,
          0.14123353972115282,
          null
         ],
         "y": [
          0.1464829749039792,
          0.9501974615175286,
          null
         ],
         "z": [
          0.8150512219980447,
          0.3762295887850666,
          null
         ]
        },
        {
         "hoverinfo": "none",
         "line": {
          "color": "rgb(215, 0, 39)",
          "width": 6.877358490566038
         },
         "mode": "lines",
         "type": "scatter3d",
         "x": [
          0.011201830467100105,
          0.08632051731650314,
          null
         ],
         "y": [
          0.1464829749039792,
          0.13318489045889448,
          null
         ],
         "z": [
          0.8150512219980447,
          0.27123394161463943,
          null
         ]
        },
        {
         "hoverinfo": "none",
         "line": {
          "color": "rgb(209, 0, 45)",
          "width": 3.8101415094339623
         },
         "mode": "lines",
         "type": "scatter3d",
         "x": [
          0.011201830467100105,
          0.8259862363808627,
          null
         ],
         "y": [
          0.1464829749039792,
          0.2111471902124571,
          null
         ],
         "z": [
          0.8150512219980447,
          0.7665621089368317,
          null
         ]
        },
        {
         "hoverinfo": "none",
         "line": {
          "color": "rgb(175, 0, 79)",
          "width": 3.5483490566037736
         },
         "mode": "lines",
         "type": "scatter3d",
         "x": [
          0.011201830467100105,
          0.4462581925357012,
          null
         ],
         "y": [
          0.1464829749039792,
          0.7092664124004832,
          null
         ],
         "z": [
          0.8150512219980447,
          0.9555305966584261,
          null
         ]
        },
        {
         "hoverinfo": "none",
         "line": {
          "color": "rgb(174, 0, 80)",
          "width": 5.571933962264151
         },
         "mode": "lines",
         "type": "scatter3d",
         "x": [
          0.011201830467100105,
          0.07285509432239634,
          null
         ],
         "y": [
          0.1464829749039792,
          0.5042729416456374,
          null
         ],
         "z": [
          0.8150512219980447,
          0.2112323650275585,
          null
         ]
        },
        {
         "hoverinfo": "none",
         "line": {
          "color": "rgb(222, 0, 32)",
          "width": 3.357311320754717
         },
         "mode": "lines",
         "type": "scatter3d",
         "x": [
          0.011201830467100105,
          0.20776611441615878,
          null
         ],
         "y": [
          0.1464829749039792,
          0.9428665586908561,
          null
         ],
         "z": [
          0.8150512219980447,
          0.3828208035706665,
          null
         ]
        },
        {
         "hoverinfo": "none",
         "line": {
          "color": "rgb(195, 0, 59)",
          "width": 4.503537735849057
         },
         "mode": "lines",
         "type": "scatter3d",
         "x": [
          0.011201830467100105,
          0.2756674478584026,
          null
         ],
         "y": [
          0.1464829749039792,
          0.27963968524651295,
          null
         ],
         "z": [
          0.8150512219980447,
          0.37179483267150526,
          null
         ]
        },
        {
         "hoverinfo": "none",
         "line": {
          "color": "rgb(197, 0, 57)",
          "width": 3.7818396226415096
         },
         "mode": "lines",
         "type": "scatter3d",
         "x": [
          0.011201830467100105,
          0.7181376075456939,
          null
         ],
         "y": [
          0.1464829749039792,
          0.6349186313634798,
          null
         ],
         "z": [
          0.8150512219980447,
          0.7180178907161859,
          null
         ]
        },
        {
         "hoverinfo": "none",
         "line": {
          "color": "rgb(191, 0, 63)",
          "width": 3.035377358490566
         },
         "mode": "lines",
         "type": "scatter3d",
         "x": [
          0.011201830467100105,
          0.16705182778560246,
          null
         ],
         "y": [
          0.1464829749039792,
          0.2397375514499933,
          null
         ],
         "z": [
          0.8150512219980447,
          0.5718158908671802,
          null
         ]
        },
        {
         "hoverinfo": "none",
         "line": {
          "color": "rgb(191, 0, 63)",
          "width": 3.484669811320755
         },
         "mode": "lines",
         "type": "scatter3d",
         "x": [
          0.011201830467100105,
          0.8415273827891165,
          null
         ],
         "y": [
          0.1464829749039792,
          0.9471500458412451,
          null
         ],
         "z": [
          0.8150512219980447,
          0.048642871051601255,
          null
         ]
        },
        {
         "hoverinfo": "none",
         "line": {
          "color": "rgb(190, 0, 64)",
          "width": 3.4068396226415096
         },
         "mode": "lines",
         "type": "scatter3d",
         "x": [
          0.011201830467100105,
          0.7176246895990278,
          null
         ],
         "y": [
          0.1464829749039792,
          0.12348549004815479,
          null
         ],
         "z": [
          0.8150512219980447,
          0.9890999641316434,
          null
         ]
        },
        {
         "hoverinfo": "none",
         "line": {
          "color": "rgb(218, 0, 36)",
          "width": 3.0742924528301887
         },
         "mode": "lines",
         "type": "scatter3d",
         "x": [
          0.011201830467100105,
          0.12705559846928383,
          null
         ],
         "y": [
          0.1464829749039792,
          0.9295935696226497,
          null
         ],
         "z": [
          0.8150512219980447,
          0.08932677785912801,
          null
         ]
        },
        {
         "hoverinfo": "none",
         "line": {
          "color": "rgb(218, 0, 36)",
          "width": 3.123820754716981
         },
         "mode": "lines",
         "type": "scatter3d",
         "x": [
          0.011201830467100105,
          0.5149416782322986,
          null
         ],
         "y": [
          0.1464829749039792,
          0.9889810900996732,
          null
         ],
         "z": [
          0.8150512219980447,
          0.1770483821901393,
          null
         ]
        },
        {
         "hoverinfo": "none",
         "line": {
          "color": "rgb(180, 0, 74)",
          "width": 3.1839622641509435
         },
         "mode": "lines",
         "type": "scatter3d",
         "x": [
          0.011201830467100105,
          0.9383998934077977,
          null
         ],
         "y": [
          0.1464829749039792,
          0.32532543746089326,
          null
         ],
         "z": [
          0.8150512219980447,
          0.019471899465971276,
          null
         ]
        },
        {
         "hoverinfo": "none",
         "line": {
          "color": "rgb(227, 0, 27)",
          "width": 5.83372641509434
         },
         "mode": "lines",
         "type": "scatter3d",
         "x": [
          0.1824886837609898,
          0.17628094509891412,
          null
         ],
         "y": [
          0.17548987507358704,
          0.22833884872332644,
          null
         ],
         "z": [
          0.6271843652651261,
          0.889938195577574,
          null
         ]
        },
        {
         "hoverinfo": "none",
         "line": {
          "color": "rgb(200, 0, 54)",
          "width": 4.13561320754717
         },
         "mode": "lines",
         "type": "scatter3d",
         "x": [
          0.1824886837609898,
          0.7279986433760837,
          null
         ],
         "y": [
          0.17548987507358704,
          0.450788086644763,
          null
         ],
         "z": [
          0.6271843652651261,
          0.05386504773569423,
          null
         ]
        },
        {
         "hoverinfo": "none",
         "line": {
          "color": "rgb(205, 0, 49)",
          "width": 4.404481132075472
         },
         "mode": "lines",
         "type": "scatter3d",
         "x": [
          0.1824886837609898,
          0.8284340696291544,
          null
         ],
         "y": [
          0.17548987507358704,
          0.6917473564225821,
          null
         ],
         "z": [
          0.6271843652651261,
          0.3163445400366095,
          null
         ]
        },
        {
         "hoverinfo": "none",
         "line": {
          "color": "rgb(206, 0, 48)",
          "width": 4.768867924528302
         },
         "mode": "lines",
         "type": "scatter3d",
         "x": [
          0.1824886837609898,
          0.4403944332224933,
          null
         ],
         "y": [
          0.17548987507358704,
          0.31363312554250466,
          null
         ],
         "z": [
          0.6271843652651261,
          0.9346959222567455,
          null
         ]
        },
        {
         "hoverinfo": "none",
         "line": {
          "color": "rgb(212, 0, 42)",
          "width": 3.856132075471698
         },
         "mode": "lines",
         "type": "scatter3d",
         "x": [
          0.1824886837609898,
          0.9980073115828699,
          null
         ],
         "y": [
          0.17548987507358704,
          0.9148244211621036,
          null
         ],
         "z": [
          0.6271843652651261,
          0.09355993675596497,
          null
         ]
        },
        {
         "hoverinfo": "none",
         "line": {
          "color": "rgb(205, 0, 49)",
          "width": 7.245283018867925
         },
         "mode": "lines",
         "type": "scatter3d",
         "x": [
          0.1824886837609898,
          0.1843388531439707,
          null
         ],
         "y": [
          0.17548987507358704,
          0.9569094209645336,
          null
         ],
         "z": [
          0.6271843652651261,
          0.7357815843661885,
          null
         ]
        },
        {
         "hoverinfo": "none",
         "line": {
          "color": "rgb(227, 0, 27)",
          "width": 15
         },
         "mode": "lines",
         "type": "scatter3d",
         "x": [
          0.1824886837609898,
          0.08632051731650314,
          null
         ],
         "y": [
          0.17548987507358704,
          0.13318489045889448,
          null
         ],
         "z": [
          0.6271843652651261,
          0.27123394161463943,
          null
         ]
        },
        {
         "hoverinfo": "none",
         "line": {
          "color": "rgb(217, 0, 37)",
          "width": 6.318396226415095
         },
         "mode": "lines",
         "type": "scatter3d",
         "x": [
          0.1824886837609898,
          0.2569820810932313,
          null
         ],
         "y": [
          0.17548987507358704,
          0.3569046374818059,
          null
         ],
         "z": [
          0.6271843652651261,
          0.09497509414440564,
          null
         ]
        },
        {
         "hoverinfo": "none",
         "line": {
          "color": "rgb(191, 0, 63)",
          "width": 3.9622641509433962
         },
         "mode": "lines",
         "type": "scatter3d",
         "x": [
          0.1824886837609898,
          0.7181376075456939,
          null
         ],
         "y": [
          0.17548987507358704,
          0.6349186313634798,
          null
         ],
         "z": [
          0.6271843652651261,
          0.7180178907161859,
          null
         ]
        },
        {
         "hoverinfo": "none",
         "line": {
          "color": "rgb(174, 0, 80)",
          "width": 3.9410377358490565
         },
         "mode": "lines",
         "type": "scatter3d",
         "x": [
          0.1824886837609898,
          0.2756674478584026,
          null
         ],
         "y": [
          0.17548987507358704,
          0.27963968524651295,
          null
         ],
         "z": [
          0.6271843652651261,
          0.37179483267150526,
          null
         ]
        },
        {
         "hoverinfo": "none",
         "line": {
          "color": "rgb(207, 0, 47)",
          "width": 3.1308962264150946
         },
         "mode": "lines",
         "type": "scatter3d",
         "x": [
          0.1824886837609898,
          0.16705182778560246,
          null
         ],
         "y": [
          0.17548987507358704,
          0.2397375514499933,
          null
         ],
         "z": [
          0.6271843652651261,
          0.5718158908671802,
          null
         ]
        },
        {
         "hoverinfo": "none",
         "line": {
          "color": "rgb(213, 0, 41)",
          "width": 3.795990566037736
         },
         "mode": "lines",
         "type": "scatter3d",
         "x": [
          0.1824886837609898,
          0.4462581925357012,
          null
         ],
         "y": [
          0.17548987507358704,
          0.7092664124004832,
          null
         ],
         "z": [
          0.6271843652651261,
          0.9555305966584261,
          null
         ]
        },
        {
         "hoverinfo": "none",
         "line": {
          "color": "rgb(237, 0, 17)",
          "width": 4.4540094339622645
         },
         "mode": "lines",
         "type": "scatter3d",
         "x": [
          0.1824886837609898,
          0.20776611441615878,
          null
         ],
         "y": [
          0.17548987507358704,
          0.9428665586908561,
          null
         ],
         "z": [
          0.6271843652651261,
          0.3828208035706665,
          null
         ]
        },
        {
         "hoverinfo": "none",
         "line": {
          "color": "rgb(221, 0, 34)",
          "width": 4.128537735849057
         },
         "mode": "lines",
         "type": "scatter3d",
         "x": [
          0.1824886837609898,
          0.6056962931843748,
          null
         ],
         "y": [
          0.17548987507358704,
          0.5916687419408222,
          null
         ],
         "z": [
          0.6271843652651261,
          0.44956743391166354,
          null
         ]
        },
        {
         "hoverinfo": "none",
         "line": {
          "color": "rgb(237, 0, 17)",
          "width": 3.2264150943396226
         },
         "mode": "lines",
         "type": "scatter3d",
         "x": [
          0.1824886837609898,
          0.5159810544350291,
          null
         ],
         "y": [
          0.17548987507358704,
          0.4963718910483257,
          null
         ],
         "z": [
          0.6271843652651261,
          0.23162234647955315,
          null
         ]
        },
        {
         "hoverinfo": "none",
         "line": {
          "color": "rgb(192, 0, 62)",
          "width": 3.3537735849056602
         },
         "mode": "lines",
         "type": "scatter3d",
         "x": [
          0.1824886837609898,
          0.9383998934077977,
          null
         ],
         "y": [
          0.17548987507358704,
          0.32532543746089326,
          null
         ],
         "z": [
          0.6271843652651261,
          0.019471899465971276,
          null
         ]
        },
        {
         "hoverinfo": "none",
         "line": {
          "color": "rgb(197, 0, 57)",
          "width": 3.9375
         },
         "mode": "lines",
         "type": "scatter3d",
         "x": [
          0.1824886837609898,
          0.14123353972115282,
          null
         ],
         "y": [
          0.17548987507358704,
          0.9501974615175286,
          null
         ],
         "z": [
          0.6271843652651261,
          0.3762295887850666,
          null
         ]
        },
        {
         "hoverinfo": "none",
         "line": {
          "color": "rgb(174, 0, 80)",
          "width": 3.3254716981132075
         },
         "mode": "lines",
         "type": "scatter3d",
         "x": [
          0.1824886837609898,
          0.3995002317579539,
          null
         ],
         "y": [
          0.17548987507358704,
          0.15319802031102225,
          null
         ],
         "z": [
          0.6271843652651261,
          0.7598240496011175,
          null
         ]
        },
        {
         "hoverinfo": "none",
         "line": {
          "color": "rgb(207, 0, 47)",
          "width": 4.089622641509434
         },
         "mode": "lines",
         "type": "scatter3d",
         "x": [
          0.1824886837609898,
          0.8415273827891165,
          null
         ],
         "y": [
          0.17548987507358704,
          0.9471500458412451,
          null
         ],
         "z": [
          0.6271843652651261,
          0.048642871051601255,
          null
         ]
        },
        {
         "hoverinfo": "none",
         "line": {
          "color": "rgb(246, 0, 8)",
          "width": 3.19811320754717
         },
         "mode": "lines",
         "type": "scatter3d",
         "x": [
          0.1824886837609898,
          0.5149416782322986,
          null
         ],
         "y": [
          0.17548987507358704,
          0.9889810900996732,
          null
         ],
         "z": [
          0.6271843652651261,
          0.1770483821901393,
          null
         ]
        },
        {
         "hoverinfo": "none",
         "line": {
          "color": "rgb(177, 0, 77)",
          "width": 5.911556603773585
         },
         "mode": "lines",
         "type": "scatter3d",
         "x": [
          0.1824886837609898,
          0.07285509432239634,
          null
         ],
         "y": [
          0.17548987507358704,
          0.5042729416456374,
          null
         ],
         "z": [
          0.6271843652651261,
          0.2112323650275585,
          null
         ]
        },
        {
         "hoverinfo": "none",
         "line": {
          "color": "rgb(210, 0, 44)",
          "width": 3.813679245283019
         },
         "mode": "lines",
         "type": "scatter3d",
         "x": [
          0.1824886837609898,
          0.7646315870920991,
          null
         ],
         "y": [
          0.17548987507358704,
          0.994121002249538,
          null
         ],
         "z": [
          0.6271843652651261,
          0.05241069186266445,
          null
         ]
        },
        {
         "hoverinfo": "none",
         "line": {
          "color": "rgb(207, 0, 47)",
          "width": 5.129716981132075
         },
         "mode": "lines",
         "type": "scatter3d",
         "x": [
          0.1824886837609898,
          0.8259862363808627,
          null
         ],
         "y": [
          0.17548987507358704,
          0.2111471902124571,
          null
         ],
         "z": [
          0.6271843652651261,
          0.7665621089368317,
          null
         ]
        },
        {
         "hoverinfo": "none",
         "line": {
          "color": "rgb(212, 0, 42)",
          "width": 3.229952830188679
         },
         "mode": "lines",
         "type": "scatter3d",
         "x": [
          0.1824886837609898,
          0.7176246895990278,
          null
         ],
         "y": [
          0.17548987507358704,
          0.12348549004815479,
          null
         ],
         "z": [
          0.6271843652651261,
          0.9890999641316434,
          null
         ]
        },
        {
         "hoverinfo": "none",
         "line": {
          "color": "rgb(197, 0, 57)",
          "width": 3.5589622641509435
         },
         "mode": "lines",
         "type": "scatter3d",
         "x": [
          0.1824886837609898,
          0.07306528718544647,
          null
         ],
         "y": [
          0.17548987507358704,
          0.16037298994551585,
          null
         ],
         "z": [
          0.6271843652651261,
          0.5202388383952486,
          null
         ]
        },
        {
         "hoverinfo": "none",
         "line": {
          "color": "rgb(206, 0, 48)",
          "width": 3.608490566037736
         },
         "mode": "lines",
         "type": "scatter3d",
         "x": [
          0.1824886837609898,
          0.9485324130365435,
          null
         ],
         "y": [
          0.17548987507358704,
          0.2356793768003087,
          null
         ],
         "z": [
          0.6271843652651261,
          0.5170673640919804,
          null
         ]
        },
        {
         "hoverinfo": "none",
         "line": {
          "color": "rgb(185, 0, 69)",
          "width": 3.7783018867924527
         },
         "mode": "lines",
         "type": "scatter3d",
         "x": [
          0.1824886837609898,
          0.39517423387251094,
          null
         ],
         "y": [
          0.17548987507358704,
          0.5490835876548705,
          null
         ],
         "z": [
          0.6271843652651261,
          0.6171909366473257,
          null
         ]
        },
        {
         "hoverinfo": "none",
         "line": {
          "color": "rgb(255, 0, 0)",
          "width": 3.01061320754717
         },
         "mode": "lines",
         "type": "scatter3d",
         "x": [
          0.1824886837609898,
          0.12705559846928383,
          null
         ],
         "y": [
          0.17548987507358704,
          0.9295935696226497,
          null
         ],
         "z": [
          0.6271843652651261,
          0.08932677785912801,
          null
         ]
        },
        {
         "hoverinfo": "none",
         "line": {
          "color": "rgb(183, 0, 71)",
          "width": 3.311320754716981
         },
         "mode": "lines",
         "type": "scatter3d",
         "x": [
          0.8415273827891165,
          0.17628094509891412,
          null
         ],
         "y": [
          0.9471500458412451,
          0.22833884872332644,
          null
         ],
         "z": [
          0.048642871051601255,
          0.889938195577574,
          null
         ]
        },
        {
         "hoverinfo": "none",
         "line": {
          "color": "rgb(150, 0, 105)",
          "width": 3.1556603773584904
         },
         "mode": "lines",
         "type": "scatter3d",
         "x": [
          0.8415273827891165,
          0.4462581925357012,
          null
         ],
         "y": [
          0.9471500458412451,
          0.7092664124004832,
          null
         ],
         "z": [
          0.048642871051601255,
          0.9555305966584261,
          null
         ]
        },
        {
         "hoverinfo": "none",
         "line": {
          "color": "rgb(255, 0, 0)",
          "width": 3.169811320754717
         },
         "mode": "lines",
         "type": "scatter3d",
         "x": [
          0.8415273827891165,
          0.20776611441615878,
          null
         ],
         "y": [
          0.9471500458412451,
          0.9428665586908561,
          null
         ],
         "z": [
          0.048642871051601255,
          0.3828208035706665,
          null
         ]
        },
        {
         "hoverinfo": "none",
         "line": {
          "color": "rgb(159, 0, 95)",
          "width": 3.1627358490566038
         },
         "mode": "lines",
         "type": "scatter3d",
         "x": [
          0.8415273827891165,
          0.4403944332224933,
          null
         ],
         "y": [
          0.9471500458412451,
          0.31363312554250466,
          null
         ],
         "z": [
          0.048642871051601255,
          0.9346959222567455,
          null
         ]
        },
        {
         "hoverinfo": "none",
         "line": {
          "color": "rgb(230, 0, 24)",
          "width": 3.2582547169811322
         },
         "mode": "lines",
         "type": "scatter3d",
         "x": [
          0.8415273827891165,
          0.8259862363808627,
          null
         ],
         "y": [
          0.9471500458412451,
          0.2111471902124571,
          null
         ],
         "z": [
          0.048642871051601255,
          0.7665621089368317,
          null
         ]
        },
        {
         "hoverinfo": "none",
         "line": {
          "color": "rgb(178, 0, 76)",
          "width": 3.3148584905660377
         },
         "mode": "lines",
         "type": "scatter3d",
         "x": [
          0.8415273827891165,
          0.8284340696291544,
          null
         ],
         "y": [
          0.9471500458412451,
          0.6917473564225821,
          null
         ],
         "z": [
          0.048642871051601255,
          0.3163445400366095,
          null
         ]
        },
        {
         "hoverinfo": "none",
         "line": {
          "color": "rgb(172, 0, 82)",
          "width": 3.3077830188679247
         },
         "mode": "lines",
         "type": "scatter3d",
         "x": [
          0.8415273827891165,
          0.14123353972115282,
          null
         ],
         "y": [
          0.9471500458412451,
          0.9501974615175286,
          null
         ],
         "z": [
          0.048642871051601255,
          0.3762295887850666,
          null
         ]
        },
        {
         "hoverinfo": "none",
         "line": {
          "color": "rgb(191, 0, 63)",
          "width": 3.088443396226415
         },
         "mode": "lines",
         "type": "scatter3d",
         "x": [
          0.8415273827891165,
          0.9485324130365435,
          null
         ],
         "y": [
          0.9471500458412451,
          0.2356793768003087,
          null
         ],
         "z": [
          0.048642871051601255,
          0.5170673640919804,
          null
         ]
        },
        {
         "hoverinfo": "none",
         "line": {
          "color": "rgb(212, 0, 42)",
          "width": 4.4504716981132075
         },
         "mode": "lines",
         "type": "scatter3d",
         "x": [
          0.8415273827891165,
          0.08632051731650314,
          null
         ],
         "y": [
          0.9471500458412451,
          0.13318489045889448,
          null
         ],
         "z": [
          0.048642871051601255,
          0.27123394161463943,
          null
         ]
        },
        {
         "hoverinfo": "none",
         "line": {
          "color": "rgb(200, 0, 55)",
          "width": 3.3007075471698113
         },
         "mode": "lines",
         "type": "scatter3d",
         "x": [
          0.8415273827891165,
          0.6056962931843748,
          null
         ],
         "y": [
          0.9471500458412451,
          0.5916687419408222,
          null
         ],
         "z": [
          0.048642871051601255,
          0.44956743391166354,
          null
         ]
        },
        {
         "hoverinfo": "none",
         "line": {
          "color": "rgb(125, 0, 129)",
          "width": 3.732311320754717
         },
         "mode": "lines",
         "type": "scatter3d",
         "x": [
          0.8415273827891165,
          0.07285509432239634,
          null
         ],
         "y": [
          0.9471500458412451,
          0.5042729416456374,
          null
         ],
         "z": [
          0.048642871051601255,
          0.2112323650275585,
          null
         ]
        },
        {
         "hoverinfo": "none",
         "line": {
          "color": "rgb(138, 0, 116)",
          "width": 3.329009433962264
         },
         "mode": "lines",
         "type": "scatter3d",
         "x": [
          0.8415273827891165,
          0.7646315870920991,
          null
         ],
         "y": [
          0.9471500458412451,
          0.994121002249538,
          null
         ],
         "z": [
          0.048642871051601255,
          0.05241069186266445,
          null
         ]
        },
        {
         "hoverinfo": "none",
         "line": {
          "color": "rgb(170, 0, 85)",
          "width": 3.417452830188679
         },
         "mode": "lines",
         "type": "scatter3d",
         "x": [
          0.8415273827891165,
          0.1843388531439707,
          null
         ],
         "y": [
          0.9471500458412451,
          0.9569094209645336,
          null
         ],
         "z": [
          0.048642871051601255,
          0.7357815843661885,
          null
         ]
        },
        {
         "hoverinfo": "none",
         "line": {
          "color": "rgb(85, 0, 170)",
          "width": 3.0318396226415096
         },
         "mode": "lines",
         "type": "scatter3d",
         "x": [
          0.8415273827891165,
          0.5159810544350291,
          null
         ],
         "y": [
          0.9471500458412451,
          0.4963718910483257,
          null
         ],
         "z": [
          0.048642871051601255,
          0.23162234647955315,
          null
         ]
        },
        {
         "hoverinfo": "none",
         "line": {
          "color": "rgb(166, 0, 88)",
          "width": 3.1945754716981134
         },
         "mode": "lines",
         "type": "scatter3d",
         "x": [
          0.8415273827891165,
          0.07306528718544647,
          null
         ],
         "y": [
          0.9471500458412451,
          0.16037298994551585,
          null
         ],
         "z": [
          0.048642871051601255,
          0.5202388383952486,
          null
         ]
        },
        {
         "hoverinfo": "none",
         "line": {
          "color": "rgb(121, 0, 133)",
          "width": 3.2900943396226414
         },
         "mode": "lines",
         "type": "scatter3d",
         "x": [
          0.8415273827891165,
          0.39517423387251094,
          null
         ],
         "y": [
          0.9471500458412451,
          0.5490835876548705,
          null
         ],
         "z": [
          0.048642871051601255,
          0.6171909366473257,
          null
         ]
        },
        {
         "hoverinfo": "none",
         "line": {
          "color": "rgb(218, 0, 36)",
          "width": 3.106132075471698
         },
         "mode": "lines",
         "type": "scatter3d",
         "x": [
          0.8415273827891165,
          0.7279986433760837,
          null
         ],
         "y": [
          0.9471500458412451,
          0.450788086644763,
          null
         ],
         "z": [
          0.048642871051601255,
          0.05386504773569423,
          null
         ]
        },
        {
         "hoverinfo": "none",
         "line": {
          "color": "rgb(141, 0, 113)",
          "width": 3.2476415094339623
         },
         "mode": "lines",
         "type": "scatter3d",
         "x": [
          0.8415273827891165,
          0.7181376075456939,
          null
         ],
         "y": [
          0.9471500458412451,
          0.6349186313634798,
          null
         ],
         "z": [
          0.048642871051601255,
          0.7180178907161859,
          null
         ]
        },
        {
         "hoverinfo": "none",
         "line": {
          "color": "rgb(159, 0, 95)",
          "width": 3.1132075471698113
         },
         "mode": "lines",
         "type": "scatter3d",
         "x": [
          0.8415273827891165,
          0.3995002317579539,
          null
         ],
         "y": [
          0.9471500458412451,
          0.15319802031102225,
          null
         ],
         "z": [
          0.048642871051601255,
          0.7598240496011175,
          null
         ]
        },
        {
         "hoverinfo": "none",
         "line": {
          "color": "rgb(186, 0, 68)",
          "width": 3.4316037735849054
         },
         "mode": "lines",
         "type": "scatter3d",
         "x": [
          0.8415273827891165,
          0.9980073115828699,
          null
         ],
         "y": [
          0.9471500458412451,
          0.9148244211621036,
          null
         ],
         "z": [
          0.048642871051601255,
          0.09355993675596497,
          null
         ]
        },
        {
         "hoverinfo": "none",
         "line": {
          "color": "rgb(163, 0, 91)",
          "width": 3.3007075471698113
         },
         "mode": "lines",
         "type": "scatter3d",
         "x": [
          0.8415273827891165,
          0.2569820810932313,
          null
         ],
         "y": [
          0.9471500458412451,
          0.3569046374818059,
          null
         ],
         "z": [
          0.048642871051601255,
          0.09497509414440564,
          null
         ]
        },
        {
         "hoverinfo": "none",
         "line": {
          "color": "rgb(162, 0, 92)",
          "width": 3.145047169811321
         },
         "mode": "lines",
         "type": "scatter3d",
         "x": [
          0.8415273827891165,
          0.2756674478584026,
          null
         ],
         "y": [
          0.9471500458412451,
          0.27963968524651295,
          null
         ],
         "z": [
          0.048642871051601255,
          0.37179483267150526,
          null
         ]
        },
        {
         "hoverinfo": "none",
         "line": {
          "color": "rgb(255, 0, 0)",
          "width": 3.017688679245283
         },
         "mode": "lines",
         "type": "scatter3d",
         "x": [
          0.8415273827891165,
          0.5149416782322986,
          null
         ],
         "y": [
          0.9471500458412451,
          0.9889810900996732,
          null
         ],
         "z": [
          0.048642871051601255,
          0.1770483821901393,
          null
         ]
        },
        {
         "hoverinfo": "none",
         "line": {
          "color": "rgb(109, 0, 145)",
          "width": 3.0495283018867925
         },
         "mode": "lines",
         "type": "scatter3d",
         "x": [
          0.8415273827891165,
          0.9383998934077977,
          null
         ],
         "y": [
          0.9471500458412451,
          0.32532543746089326,
          null
         ],
         "z": [
          0.048642871051601255,
          0.019471899465971276,
          null
         ]
        },
        {
         "hoverinfo": "none",
         "line": {
          "color": "rgb(127, 0, 127)",
          "width": 3.035377358490566
         },
         "mode": "lines",
         "type": "scatter3d",
         "x": [
          0.8415273827891165,
          0.7176246895990278,
          null
         ],
         "y": [
          0.9471500458412451,
          0.12348549004815479,
          null
         ],
         "z": [
          0.048642871051601255,
          0.9890999641316434,
          null
         ]
        },
        {
         "hoverinfo": "none",
         "line": {
          "color": "rgb(170, 0, 85)",
          "width": 3.0247641509433962
         },
         "mode": "lines",
         "type": "scatter3d",
         "x": [
          0.8415273827891165,
          0.12705559846928383,
          null
         ],
         "y": [
          0.9471500458412451,
          0.9295935696226497,
          null
         ],
         "z": [
          0.048642871051601255,
          0.08932677785912801,
          null
         ]
        },
        {
         "hoverinfo": "none",
         "line": {
          "color": "rgb(170, 0, 85)",
          "width": 3.0141509433962264
         },
         "mode": "lines",
         "type": "scatter3d",
         "x": [
          0.8415273827891165,
          0.16705182778560246,
          null
         ],
         "y": [
          0.9471500458412451,
          0.2397375514499933,
          null
         ],
         "z": [
          0.048642871051601255,
          0.5718158908671802,
          null
         ]
        },
        {
         "hoverinfo": "none",
         "line": {
          "color": "rgb(160, 0, 94)",
          "width": 3.672169811320755
         },
         "mode": "lines",
         "type": "scatter3d",
         "x": [
          0.07285509432239634,
          0.4403944332224933,
          null
         ],
         "y": [
          0.5042729416456374,
          0.31363312554250466,
          null
         ],
         "z": [
          0.2112323650275585,
          0.9346959222567455,
          null
         ]
        },
        {
         "hoverinfo": "none",
         "line": {
          "color": "rgb(155, 0, 99)",
          "width": 3.6120283018867925
         },
         "mode": "lines",
         "type": "scatter3d",
         "x": [
          0.07285509432239634,
          0.7279986433760837,
          null
         ],
         "y": [
          0.5042729416456374,
          0.450788086644763,
          null
         ],
         "z": [
          0.2112323650275585,
          0.05386504773569423,
          null
         ]
        },
        {
         "hoverinfo": "none",
         "line": {
          "color": "rgb(145, 0, 109)",
          "width": 3.2900943396226414
         },
         "mode": "lines",
         "type": "scatter3d",
         "x": [
          0.07285509432239634,
          0.7176246895990278,
          null
         ],
         "y": [
          0.5042729416456374,
          0.12348549004815479,
          null
         ],
         "z": [
          0.2112323650275585,
          0.9890999641316434,
          null
         ]
        },
        {
         "hoverinfo": "none",
         "line": {
          "color": "rgb(146, 0, 108)",
          "width": 4.32311320754717
         },
         "mode": "lines",
         "type": "scatter3d",
         "x": [
          0.07285509432239634,
          0.8284340696291544,
          null
         ],
         "y": [
          0.5042729416456374,
          0.6917473564225821,
          null
         ],
         "z": [
          0.2112323650275585,
          0.3163445400366095,
          null
         ]
        },
        {
         "hoverinfo": "none",
         "line": {
          "color": "rgb(181, 0, 73)",
          "width": 7.273584905660377
         },
         "mode": "lines",
         "type": "scatter3d",
         "x": [
          0.07285509432239634,
          0.08632051731650314,
          null
         ],
         "y": [
          0.5042729416456374,
          0.13318489045889448,
          null
         ],
         "z": [
          0.2112323650275585,
          0.27123394161463943,
          null
         ]
        },
        {
         "hoverinfo": "none",
         "line": {
          "color": "rgb(156, 0, 98)",
          "width": 3.6650943396226414
         },
         "mode": "lines",
         "type": "scatter3d",
         "x": [
          0.07285509432239634,
          0.4462581925357012,
          null
         ],
         "y": [
          0.5042729416456374,
          0.7092664124004832,
          null
         ],
         "z": [
          0.2112323650275585,
          0.9555305966584261,
          null
         ]
        },
        {
         "hoverinfo": "none",
         "line": {
          "color": "rgb(158, 0, 96)",
          "width": 3.8808962264150946
         },
         "mode": "lines",
         "type": "scatter3d",
         "x": [
          0.07285509432239634,
          0.07306528718544647,
          null
         ],
         "y": [
          0.5042729416456374,
          0.16037298994551585,
          null
         ],
         "z": [
          0.2112323650275585,
          0.5202388383952486,
          null
         ]
        },
        {
         "hoverinfo": "none",
         "line": {
          "color": "rgb(151, 0, 103)",
          "width": 4.09316037735849
         },
         "mode": "lines",
         "type": "scatter3d",
         "x": [
          0.07285509432239634,
          0.7181376075456939,
          null
         ],
         "y": [
          0.5042729416456374,
          0.6349186313634798,
          null
         ],
         "z": [
          0.2112323650275585,
          0.7180178907161859,
          null
         ]
        },
        {
         "hoverinfo": "none",
         "line": {
          "color": "rgb(179, 0, 75)",
          "width": 4.588443396226415
         },
         "mode": "lines",
         "type": "scatter3d",
         "x": [
          0.07285509432239634,
          0.9980073115828699,
          null
         ],
         "y": [
          0.5042729416456374,
          0.9148244211621036,
          null
         ],
         "z": [
          0.2112323650275585,
          0.09355993675596497,
          null
         ]
        },
        {
         "hoverinfo": "none",
         "line": {
          "color": "rgb(148, 0, 106)",
          "width": 3.6898584905660377
         },
         "mode": "lines",
         "type": "scatter3d",
         "x": [
          0.07285509432239634,
          0.2756674478584026,
          null
         ],
         "y": [
          0.5042729416456374,
          0.27963968524651295,
          null
         ],
         "z": [
          0.2112323650275585,
          0.37179483267150526,
          null
         ]
        },
        {
         "hoverinfo": "none",
         "line": {
          "color": "rgb(168, 0, 86)",
          "width": 4.011792452830189
         },
         "mode": "lines",
         "type": "scatter3d",
         "x": [
          0.07285509432239634,
          0.7646315870920991,
          null
         ],
         "y": [
          0.5042729416456374,
          0.994121002249538,
          null
         ],
         "z": [
          0.2112323650275585,
          0.05241069186266445,
          null
         ]
        },
        {
         "hoverinfo": "none",
         "line": {
          "color": "rgb(144, 0, 110)",
          "width": 4.050707547169811
         },
         "mode": "lines",
         "type": "scatter3d",
         "x": [
          0.07285509432239634,
          0.8259862363808627,
          null
         ],
         "y": [
          0.5042729416456374,
          0.2111471902124571,
          null
         ],
         "z": [
          0.2112323650275585,
          0.7665621089368317,
          null
         ]
        },
        {
         "hoverinfo": "none",
         "line": {
          "color": "rgb(179, 0, 75)",
          "width": 3.8172169811320753
         },
         "mode": "lines",
         "type": "scatter3d",
         "x": [
          0.07285509432239634,
          0.2569820810932313,
          null
         ],
         "y": [
          0.5042729416456374,
          0.3569046374818059,
          null
         ],
         "z": [
          0.2112323650275585,
          0.09497509414440564,
          null
         ]
        },
        {
         "hoverinfo": "none",
         "line": {
          "color": "rgb(164, 0, 90)",
          "width": 3.785377358490566
         },
         "mode": "lines",
         "type": "scatter3d",
         "x": [
          0.07285509432239634,
          0.9485324130365435,
          null
         ],
         "y": [
          0.5042729416456374,
          0.2356793768003087,
          null
         ],
         "z": [
          0.2112323650275585,
          0.5170673640919804,
          null
         ]
        },
        {
         "hoverinfo": "none",
         "line": {
          "color": "rgb(162, 0, 92)",
          "width": 4.061320754716981
         },
         "mode": "lines",
         "type": "scatter3d",
         "x": [
          0.07285509432239634,
          0.17628094509891412,
          null
         ],
         "y": [
          0.5042729416456374,
          0.22833884872332644,
          null
         ],
         "z": [
          0.2112323650275585,
          0.889938195577574,
          null
         ]
        },
        {
         "hoverinfo": "none",
         "line": {
          "color": "rgb(161, 0, 93)",
          "width": 4.935141509433962
         },
         "mode": "lines",
         "type": "scatter3d",
         "x": [
          0.07285509432239634,
          0.1843388531439707,
          null
         ],
         "y": [
          0.5042729416456374,
          0.9569094209645336,
          null
         ],
         "z": [
          0.2112323650275585,
          0.7357815843661885,
          null
         ]
        },
        {
         "hoverinfo": "none",
         "line": {
          "color": "rgb(130, 0, 124)",
          "width": 4.4575471698113205
         },
         "mode": "lines",
         "type": "scatter3d",
         "x": [
          0.07285509432239634,
          0.39517423387251094,
          null
         ],
         "y": [
          0.5042729416456374,
          0.5490835876548705,
          null
         ],
         "z": [
          0.2112323650275585,
          0.6171909366473257,
          null
         ]
        },
        {
         "hoverinfo": "none",
         "line": {
          "color": "rgb(139, 0, 115)",
          "width": 3.714622641509434
         },
         "mode": "lines",
         "type": "scatter3d",
         "x": [
          0.07285509432239634,
          0.14123353972115282,
          null
         ],
         "y": [
          0.5042729416456374,
          0.9501974615175286,
          null
         ],
         "z": [
          0.2112323650275585,
          0.3762295887850666,
          null
         ]
        },
        {
         "hoverinfo": "none",
         "line": {
          "color": "rgb(242, 0, 12)",
          "width": 3.1804245283018866
         },
         "mode": "lines",
         "type": "scatter3d",
         "x": [
          0.07285509432239634,
          0.20776611441615878,
          null
         ],
         "y": [
          0.5042729416456374,
          0.9428665586908561,
          null
         ],
         "z": [
          0.2112323650275585,
          0.3828208035706665,
          null
         ]
        },
        {
         "hoverinfo": "none",
         "line": {
          "color": "rgb(227, 0, 27)",
          "width": 3.321933962264151
         },
         "mode": "lines",
         "type": "scatter3d",
         "x": [
          0.07285509432239634,
          0.5159810544350291,
          null
         ],
         "y": [
          0.5042729416456374,
          0.4963718910483257,
          null
         ],
         "z": [
          0.2112323650275585,
          0.23162234647955315,
          null
         ]
        },
        {
         "hoverinfo": "none",
         "line": {
          "color": "rgb(169, 0, 85)",
          "width": 4.0790094339622645
         },
         "mode": "lines",
         "type": "scatter3d",
         "x": [
          0.07285509432239634,
          0.6056962931843748,
          null
         ],
         "y": [
          0.5042729416456374,
          0.5916687419408222,
          null
         ],
         "z": [
          0.2112323650275585,
          0.44956743391166354,
          null
         ]
        },
        {
         "hoverinfo": "none",
         "line": {
          "color": "rgb(152, 0, 102)",
          "width": 3.555424528301887
         },
         "mode": "lines",
         "type": "scatter3d",
         "x": [
          0.07285509432239634,
          0.3995002317579539,
          null
         ],
         "y": [
          0.5042729416456374,
          0.15319802031102225,
          null
         ],
         "z": [
          0.2112323650275585,
          0.7598240496011175,
          null
         ]
        },
        {
         "hoverinfo": "none",
         "line": {
          "color": "rgb(191, 0, 63)",
          "width": 3.1591981132075473
         },
         "mode": "lines",
         "type": "scatter3d",
         "x": [
          0.07285509432239634,
          0.9383998934077977,
          null
         ],
         "y": [
          0.5042729416456374,
          0.32532543746089326,
          null
         ],
         "z": [
          0.2112323650275585,
          0.019471899465971276,
          null
         ]
        },
        {
         "hoverinfo": "none",
         "line": {
          "color": "rgb(159, 0, 95)",
          "width": 3.045990566037736
         },
         "mode": "lines",
         "type": "scatter3d",
         "x": [
          0.07285509432239634,
          0.16705182778560246,
          null
         ],
         "y": [
          0.5042729416456374,
          0.2397375514499933,
          null
         ],
         "z": [
          0.2112323650275585,
          0.5718158908671802,
          null
         ]
        },
        {
         "hoverinfo": "none",
         "line": {
          "color": "rgb(145, 0, 109)",
          "width": 3.1132075471698113
         },
         "mode": "lines",
         "type": "scatter3d",
         "x": [
          0.07285509432239634,
          0.5149416782322986,
          null
         ],
         "y": [
          0.5042729416456374,
          0.9889810900996732,
          null
         ],
         "z": [
          0.2112323650275585,
          0.1770483821901393,
          null
         ]
        },
        {
         "hoverinfo": "none",
         "line": {
          "color": "rgb(127, 0, 127)",
          "width": 3.053066037735849
         },
         "mode": "lines",
         "type": "scatter3d",
         "x": [
          0.07285509432239634,
          0.12705559846928383,
          null
         ],
         "y": [
          0.5042729416456374,
          0.9295935696226497,
          null
         ],
         "z": [
          0.2112323650275585,
          0.08932677785912801,
          null
         ]
        },
        {
         "hoverinfo": "none",
         "line": {
          "color": "rgb(210, 0, 44)",
          "width": 7.90683962264151
         },
         "mode": "lines",
         "type": "scatter3d",
         "x": [
          0.9980073115828699,
          0.4403944332224933,
          null
         ],
         "y": [
          0.9148244211621036,
          0.31363312554250466,
          null
         ],
         "z": [
          0.09355993675596497,
          0.9346959222567455,
          null
         ]
        },
        {
         "hoverinfo": "none",
         "line": {
          "color": "rgb(219, 0, 35)",
          "width": 3.569575471698113
         },
         "mode": "lines",
         "type": "scatter3d",
         "x": [
          0.9980073115828699,
          0.7279986433760837,
          null
         ],
         "y": [
          0.9148244211621036,
          0.450788086644763,
          null
         ],
         "z": [
          0.09355993675596497,
          0.05386504773569423,
          null
         ]
        },
        {
         "hoverinfo": "none",
         "line": {
          "color": "rgb(190, 0, 64)",
          "width": 5.257075471698114
         },
         "mode": "lines",
         "type": "scatter3d",
         "x": [
          0.9980073115828699,
          0.07306528718544647,
          null
         ],
         "y": [
          0.9148244211621036,
          0.16037298994551585,
          null
         ],
         "z": [
          0.09355993675596497,
          0.5202388383952486,
          null
         ]
        },
        {
         "hoverinfo": "none",
         "line": {
          "color": "rgb(199, 0, 55)",
          "width": 3.859669811320755
         },
         "mode": "lines",
         "type": "scatter3d",
         "x": [
          0.9980073115828699,
          0.7176246895990278,
          null
         ],
         "y": [
          0.9148244211621036,
          0.12348549004815479,
          null
         ],
         "z": [
          0.09355993675596497,
          0.9890999641316434,
          null
         ]
        },
        {
         "hoverinfo": "none",
         "line": {
          "color": "rgb(180, 0, 74)",
          "width": 4.181603773584905
         },
         "mode": "lines",
         "type": "scatter3d",
         "x": [
          0.9980073115828699,
          0.4462581925357012,
          null
         ],
         "y": [
          0.9148244211621036,
          0.7092664124004832,
          null
         ],
         "z": [
          0.09355993675596497,
          0.9555305966584261,
          null
         ]
        },
        {
         "hoverinfo": "none",
         "line": {
          "color": "rgb(180, 0, 74)",
          "width": 7.110849056603773
         },
         "mode": "lines",
         "type": "scatter3d",
         "x": [
          0.9980073115828699,
          0.3995002317579539,
          null
         ],
         "y": [
          0.9148244211621036,
          0.15319802031102225,
          null
         ],
         "z": [
          0.09355993675596497,
          0.7598240496011175,
          null
         ]
        },
        {
         "hoverinfo": "none",
         "line": {
          "color": "rgb(203, 0, 51)",
          "width": 4.5424528301886795
         },
         "mode": "lines",
         "type": "scatter3d",
         "x": [
          0.9980073115828699,
          0.7181376075456939,
          null
         ],
         "y": [
          0.9148244211621036,
          0.6349186313634798,
          null
         ],
         "z": [
          0.09355993675596497,
          0.7180178907161859,
          null
         ]
        },
        {
         "hoverinfo": "none",
         "line": {
          "color": "rgb(231, 0, 23)",
          "width": 4.48938679245283
         },
         "mode": "lines",
         "type": "scatter3d",
         "x": [
          0.9980073115828699,
          0.9485324130365435,
          null
         ],
         "y": [
          0.9148244211621036,
          0.2356793768003087,
          null
         ],
         "z": [
          0.09355993675596497,
          0.5170673640919804,
          null
         ]
        },
        {
         "hoverinfo": "none",
         "line": {
          "color": "rgb(191, 0, 63)",
          "width": 6.275943396226415
         },
         "mode": "lines",
         "type": "scatter3d",
         "x": [
          0.9980073115828699,
          0.7646315870920991,
          null
         ],
         "y": [
          0.9148244211621036,
          0.994121002249538,
          null
         ],
         "z": [
          0.09355993675596497,
          0.05241069186266445,
          null
         ]
        },
        {
         "hoverinfo": "none",
         "line": {
          "color": "rgb(184, 0, 70)",
          "width": 4.188679245283019
         },
         "mode": "lines",
         "type": "scatter3d",
         "x": [
          0.9980073115828699,
          0.8284340696291544,
          null
         ],
         "y": [
          0.9148244211621036,
          0.6917473564225821,
          null
         ],
         "z": [
          0.09355993675596497,
          0.3163445400366095,
          null
         ]
        },
        {
         "hoverinfo": "none",
         "line": {
          "color": "rgb(219, 0, 35)",
          "width": 4.107311320754717
         },
         "mode": "lines",
         "type": "scatter3d",
         "x": [
          0.9980073115828699,
          0.12705559846928383,
          null
         ],
         "y": [
          0.9148244211621036,
          0.9295935696226497,
          null
         ],
         "z": [
          0.09355993675596497,
          0.08932677785912801,
          null
         ]
        },
        {
         "hoverinfo": "none",
         "line": {
          "color": "rgb(198, 0, 56)",
          "width": 3.527122641509434
         },
         "mode": "lines",
         "type": "scatter3d",
         "x": [
          0.9980073115828699,
          0.2569820810932313,
          null
         ],
         "y": [
          0.9148244211621036,
          0.3569046374818059,
          null
         ],
         "z": [
          0.09355993675596497,
          0.09497509414440564,
          null
         ]
        },
        {
         "hoverinfo": "none",
         "line": {
          "color": "rgb(187, 0, 67)",
          "width": 6.286556603773585
         },
         "mode": "lines",
         "type": "scatter3d",
         "x": [
          0.9980073115828699,
          0.2756674478584026,
          null
         ],
         "y": [
          0.9148244211621036,
          0.27963968524651295,
          null
         ],
         "z": [
          0.09355993675596497,
          0.37179483267150526,
          null
         ]
        },
        {
         "hoverinfo": "none",
         "line": {
          "color": "rgb(246, 0, 8)",
          "width": 3.9587264150943398
         },
         "mode": "lines",
         "type": "scatter3d",
         "x": [
          0.9980073115828699,
          0.5159810544350291,
          null
         ],
         "y": [
          0.9148244211621036,
          0.4963718910483257,
          null
         ],
         "z": [
          0.09355993675596497,
          0.23162234647955315,
          null
         ]
        },
        {
         "hoverinfo": "none",
         "line": {
          "color": "rgb(216, 0, 38)",
          "width": 4.057783018867925
         },
         "mode": "lines",
         "type": "scatter3d",
         "x": [
          0.9980073115828699,
          0.08632051731650314,
          null
         ],
         "y": [
          0.9148244211621036,
          0.13318489045889448,
          null
         ],
         "z": [
          0.09355993675596497,
          0.27123394161463943,
          null
         ]
        },
        {
         "hoverinfo": "none",
         "line": {
          "color": "rgb(194, 0, 60)",
          "width": 3.75
         },
         "mode": "lines",
         "type": "scatter3d",
         "x": [
          0.9980073115828699,
          0.6056962931843748,
          null
         ],
         "y": [
          0.9148244211621036,
          0.5916687419408222,
          null
         ],
         "z": [
          0.09355993675596497,
          0.44956743391166354,
          null
         ]
        },
        {
         "hoverinfo": "none",
         "line": {
          "color": "rgb(158, 0, 96)",
          "width": 4.245283018867925
         },
         "mode": "lines",
         "type": "scatter3d",
         "x": [
          0.9980073115828699,
          0.39517423387251094,
          null
         ],
         "y": [
          0.9148244211621036,
          0.5490835876548705,
          null
         ],
         "z": [
          0.09355993675596497,
          0.6171909366473257,
          null
         ]
        },
        {
         "hoverinfo": "none",
         "line": {
          "color": "rgb(197, 0, 57)",
          "width": 3.827830188679245
         },
         "mode": "lines",
         "type": "scatter3d",
         "x": [
          0.9980073115828699,
          0.17628094509891412,
          null
         ],
         "y": [
          0.9148244211621036,
          0.22833884872332644,
          null
         ],
         "z": [
          0.09355993675596497,
          0.889938195577574,
          null
         ]
        },
        {
         "hoverinfo": "none",
         "line": {
          "color": "rgb(151, 0, 103)",
          "width": 3.990566037735849
         },
         "mode": "lines",
         "type": "scatter3d",
         "x": [
          0.9980073115828699,
          0.14123353972115282,
          null
         ],
         "y": [
          0.9148244211621036,
          0.9501974615175286,
          null
         ],
         "z": [
          0.09355993675596497,
          0.3762295887850666,
          null
         ]
        },
        {
         "hoverinfo": "none",
         "line": {
          "color": "rgb(199, 0, 55)",
          "width": 3.732311320754717
         },
         "mode": "lines",
         "type": "scatter3d",
         "x": [
          0.9980073115828699,
          0.1843388531439707,
          null
         ],
         "y": [
          0.9148244211621036,
          0.9569094209645336,
          null
         ],
         "z": [
          0.09355993675596497,
          0.7357815843661885,
          null
         ]
        },
        {
         "hoverinfo": "none",
         "line": {
          "color": "rgb(222, 0, 32)",
          "width": 3.3077830188679247
         },
         "mode": "lines",
         "type": "scatter3d",
         "x": [
          0.9980073115828699,
          0.20776611441615878,
          null
         ],
         "y": [
          0.9148244211621036,
          0.9428665586908561,
          null
         ],
         "z": [
          0.09355993675596497,
          0.3828208035706665,
          null
         ]
        },
        {
         "hoverinfo": "none",
         "line": {
          "color": "rgb(255, 0, 0)",
          "width": 3.134433962264151
         },
         "mode": "lines",
         "type": "scatter3d",
         "x": [
          0.9980073115828699,
          0.16705182778560246,
          null
         ],
         "y": [
          0.9148244211621036,
          0.2397375514499933,
          null
         ],
         "z": [
          0.09355993675596497,
          0.5718158908671802,
          null
         ]
        },
        {
         "hoverinfo": "none",
         "line": {
          "color": "rgb(166, 0, 88)",
          "width": 3.463443396226415
         },
         "mode": "lines",
         "type": "scatter3d",
         "x": [
          0.9980073115828699,
          0.8259862363808627,
          null
         ],
         "y": [
          0.9148244211621036,
          0.2111471902124571,
          null
         ],
         "z": [
          0.09355993675596497,
          0.7665621089368317,
          null
         ]
        },
        {
         "hoverinfo": "none",
         "line": {
          "color": "rgb(200, 0, 54)",
          "width": 3.088443396226415
         },
         "mode": "lines",
         "type": "scatter3d",
         "x": [
          0.9980073115828699,
          0.9383998934077977,
          null
         ],
         "y": [
          0.9148244211621036,
          0.32532543746089326,
          null
         ],
         "z": [
          0.09355993675596497,
          0.019471899465971276,
          null
         ]
        },
        {
         "hoverinfo": "none",
         "line": {
          "color": "rgb(210, 0, 44)",
          "width": 3.4033018867924527
         },
         "mode": "lines",
         "type": "scatter3d",
         "x": [
          0.9980073115828699,
          0.5149416782322986,
          null
         ],
         "y": [
          0.9148244211621036,
          0.9889810900996732,
          null
         ],
         "z": [
          0.09355993675596497,
          0.1770483821901393,
          null
         ]
        },
        {
         "hoverinfo": "none",
         "line": {
          "color": "rgb(204, 0, 51)",
          "width": 3.1627358490566038
         },
         "mode": "lines",
         "type": "scatter3d",
         "x": [
          0.20776611441615878,
          0.8284340696291544,
          null
         ],
         "y": [
          0.9428665586908561,
          0.6917473564225821,
          null
         ],
         "z": [
          0.3828208035706665,
          0.3163445400366095,
          null
         ]
        },
        {
         "hoverinfo": "none",
         "line": {
          "color": "rgb(217, 0, 37)",
          "width": 3.7110849056603774
         },
         "mode": "lines",
         "type": "scatter3d",
         "x": [
          0.20776611441615878,
          0.4403944332224933,
          null
         ],
         "y": [
          0.9428665586908561,
          0.31363312554250466,
          null
         ],
         "z": [
          0.3828208035706665,
          0.9346959222567455,
          null
         ]
        },
        {
         "hoverinfo": "none",
         "line": {
          "color": "rgb(220, 0, 34)",
          "width": 3.19811320754717
         },
         "mode": "lines",
         "type": "scatter3d",
         "x": [
          0.20776611441615878,
          0.3995002317579539,
          null
         ],
         "y": [
          0.9428665586908561,
          0.15319802031102225,
          null
         ],
         "z": [
          0.3828208035706665,
          0.7598240496011175,
          null
         ]
        },
        {
         "hoverinfo": "none",
         "line": {
          "color": "rgb(246, 0, 8)",
          "width": 3.38561320754717
         },
         "mode": "lines",
         "type": "scatter3d",
         "x": [
          0.20776611441615878,
          0.17628094509891412,
          null
         ],
         "y": [
          0.9428665586908561,
          0.22833884872332644,
          null
         ],
         "z": [
          0.3828208035706665,
          0.889938195577574,
          null
         ]
        },
        {
         "hoverinfo": "none",
         "line": {
          "color": "rgb(228, 0, 26)",
          "width": 3.1202830188679247
         },
         "mode": "lines",
         "type": "scatter3d",
         "x": [
          0.20776611441615878,
          0.6056962931843748,
          null
         ],
         "y": [
          0.9428665586908561,
          0.5916687419408222,
          null
         ],
         "z": [
          0.3828208035706665,
          0.44956743391166354,
          null
         ]
        },
        {
         "hoverinfo": "none",
         "line": {
          "color": "rgb(238, 0, 16)",
          "width": 3.838443396226415
         },
         "mode": "lines",
         "type": "scatter3d",
         "x": [
          0.20776611441615878,
          0.08632051731650314,
          null
         ],
         "y": [
          0.9428665586908561,
          0.13318489045889448,
          null
         ],
         "z": [
          0.3828208035706665,
          0.27123394161463943,
          null
         ]
        },
        {
         "hoverinfo": "none",
         "line": {
          "color": "rgb(239, 0, 15)",
          "width": 3.1025943396226414
         },
         "mode": "lines",
         "type": "scatter3d",
         "x": [
          0.20776611441615878,
          0.4462581925357012,
          null
         ],
         "y": [
          0.9428665586908561,
          0.7092664124004832,
          null
         ],
         "z": [
          0.3828208035706665,
          0.9555305966584261,
          null
         ]
        },
        {
         "hoverinfo": "none",
         "line": {
          "color": "rgb(248, 0, 6)",
          "width": 3.1875
         },
         "mode": "lines",
         "type": "scatter3d",
         "x": [
          0.20776611441615878,
          0.8259862363808627,
          null
         ],
         "y": [
          0.9428665586908561,
          0.2111471902124571,
          null
         ],
         "z": [
          0.3828208035706665,
          0.7665621089368317,
          null
         ]
        },
        {
         "hoverinfo": "none",
         "line": {
          "color": "rgb(223, 0, 31)",
          "width": 3.4457547169811322
         },
         "mode": "lines",
         "type": "scatter3d",
         "x": [
          0.20776611441615878,
          0.2569820810932313,
          null
         ],
         "y": [
          0.9428665586908561,
          0.3569046374818059,
          null
         ],
         "z": [
          0.3828208035706665,
          0.09497509414440564,
          null
         ]
        },
        {
         "hoverinfo": "none",
         "line": {
          "color": "rgb(233, 0, 21)",
          "width": 3.141509433962264
         },
         "mode": "lines",
         "type": "scatter3d",
         "x": [
          0.20776611441615878,
          0.2756674478584026,
          null
         ],
         "y": [
          0.9428665586908561,
          0.27963968524651295,
          null
         ],
         "z": [
          0.3828208035706665,
          0.37179483267150526,
          null
         ]
        },
        {
         "hoverinfo": "none",
         "line": {
          "color": "rgb(210, 0, 45)",
          "width": 3.2158018867924527
         },
         "mode": "lines",
         "type": "scatter3d",
         "x": [
          0.20776611441615878,
          0.1843388531439707,
          null
         ],
         "y": [
          0.9428665586908561,
          0.9569094209645336,
          null
         ],
         "z": [
          0.3828208035706665,
          0.7357815843661885,
          null
         ]
        },
        {
         "hoverinfo": "none",
         "line": {
          "color": "rgb(217, 0, 37)",
          "width": 3.152122641509434
         },
         "mode": "lines",
         "type": "scatter3d",
         "x": [
          0.20776611441615878,
          0.7646315870920991,
          null
         ],
         "y": [
          0.9428665586908561,
          0.994121002249538,
          null
         ],
         "z": [
          0.3828208035706665,
          0.05241069186266445,
          null
         ]
        },
        {
         "hoverinfo": "none",
         "line": {
          "color": "rgb(212, 0, 42)",
          "width": 3.0955188679245285
         },
         "mode": "lines",
         "type": "scatter3d",
         "x": [
          0.20776611441615878,
          0.14123353972115282,
          null
         ],
         "y": [
          0.9428665586908561,
          0.9501974615175286,
          null
         ],
         "z": [
          0.3828208035706665,
          0.3762295887850666,
          null
         ]
        },
        {
         "hoverinfo": "none",
         "line": {
          "color": "rgb(160, 0, 94)",
          "width": 3.1662735849056602
         },
         "mode": "lines",
         "type": "scatter3d",
         "x": [
          0.20776611441615878,
          0.07306528718544647,
          null
         ],
         "y": [
          0.9428665586908561,
          0.16037298994551585,
          null
         ],
         "z": [
          0.3828208035706665,
          0.5202388383952486,
          null
         ]
        },
        {
         "hoverinfo": "none",
         "line": {
          "color": "rgb(215, 0, 39)",
          "width": 3.2193396226415096
         },
         "mode": "lines",
         "type": "scatter3d",
         "x": [
          0.20776611441615878,
          0.39517423387251094,
          null
         ],
         "y": [
          0.9428665586908561,
          0.5490835876548705,
          null
         ],
         "z": [
          0.3828208035706665,
          0.6171909366473257,
          null
         ]
        },
        {
         "hoverinfo": "none",
         "line": {
          "color": "rgb(228, 0, 26)",
          "width": 3.1025943396226414
         },
         "mode": "lines",
         "type": "scatter3d",
         "x": [
          0.20776611441615878,
          0.7181376075456939,
          null
         ],
         "y": [
          0.9428665586908561,
          0.6349186313634798,
          null
         ],
         "z": [
          0.3828208035706665,
          0.7180178907161859,
          null
         ]
        },
        {
         "hoverinfo": "none",
         "line": {
          "color": "rgb(255, 0, 0)",
          "width": 3.0389150943396226
         },
         "mode": "lines",
         "type": "scatter3d",
         "x": [
          0.20776611441615878,
          0.7176246895990278,
          null
         ],
         "y": [
          0.9428665586908561,
          0.12348549004815479,
          null
         ],
         "z": [
          0.3828208035706665,
          0.9890999641316434,
          null
         ]
        },
        {
         "hoverinfo": "none",
         "line": {
          "color": "rgb(204, 0, 51)",
          "width": 3.042452830188679
         },
         "mode": "lines",
         "type": "scatter3d",
         "x": [
          0.20776611441615878,
          0.9485324130365435,
          null
         ],
         "y": [
          0.9428665586908561,
          0.2356793768003087,
          null
         ],
         "z": [
          0.3828208035706665,
          0.5170673640919804,
          null
         ]
        },
        {
         "hoverinfo": "none",
         "line": {
          "color": "rgb(255, 0, 0)",
          "width": 3.01061320754717
         },
         "mode": "lines",
         "type": "scatter3d",
         "x": [
          0.20776611441615878,
          0.9383998934077977,
          null
         ],
         "y": [
          0.9428665586908561,
          0.32532543746089326,
          null
         ],
         "z": [
          0.3828208035706665,
          0.019471899465971276,
          null
         ]
        },
        {
         "hoverinfo": "none",
         "line": {
          "color": "rgb(218, 0, 36)",
          "width": 3.0389150943396226
         },
         "mode": "lines",
         "type": "scatter3d",
         "x": [
          0.20776611441615878,
          0.7279986433760837,
          null
         ],
         "y": [
          0.9428665586908561,
          0.450788086644763,
          null
         ],
         "z": [
          0.3828208035706665,
          0.05386504773569423,
          null
         ]
        },
        {
         "hoverinfo": "none",
         "line": {
          "color": "rgb(255, 0, 0)",
          "width": 3.0070754716981134
         },
         "mode": "lines",
         "type": "scatter3d",
         "x": [
          0.20776611441615878,
          0.5159810544350291,
          null
         ],
         "y": [
          0.9428665586908561,
          0.4963718910483257,
          null
         ],
         "z": [
          0.3828208035706665,
          0.23162234647955315,
          null
         ]
        },
        {
         "hoverinfo": "none",
         "line": {
          "color": "rgb(255, 0, 0)",
          "width": 3.0070754716981134
         },
         "mode": "lines",
         "type": "scatter3d",
         "x": [
          0.20776611441615878,
          0.12705559846928383,
          null
         ],
         "y": [
          0.9428665586908561,
          0.9295935696226497,
          null
         ],
         "z": [
          0.3828208035706665,
          0.08932677785912801,
          null
         ]
        },
        {
         "hoverinfo": "none",
         "line": {
          "color": "rgb(153, 0, 102)",
          "width": 3.205188679245283
         },
         "mode": "lines",
         "type": "scatter3d",
         "x": [
          0.7176246895990278,
          0.14123353972115282,
          null
         ],
         "y": [
          0.12348549004815479,
          0.9501974615175286,
          null
         ],
         "z": [
          0.9890999641316434,
          0.3762295887850666,
          null
         ]
        },
        {
         "hoverinfo": "none",
         "line": {
          "color": "rgb(127, 0, 127)",
          "width": 3.3007075471698113
         },
         "mode": "lines",
         "type": "scatter3d",
         "x": [
          0.7176246895990278,
          0.8284340696291544,
          null
         ],
         "y": [
          0.12348549004815479,
          0.6917473564225821,
          null
         ],
         "z": [
          0.9890999641316434,
          0.3163445400366095,
          null
         ]
        },
        {
         "hoverinfo": "none",
         "line": {
          "color": "rgb(201, 0, 53)",
          "width": 3.297169811320755
         },
         "mode": "lines",
         "type": "scatter3d",
         "x": [
          0.7176246895990278,
          0.4403944332224933,
          null
         ],
         "y": [
          0.12348549004815479,
          0.31363312554250466,
          null
         ],
         "z": [
          0.9890999641316434,
          0.9346959222567455,
          null
         ]
        },
        {
         "hoverinfo": "none",
         "line": {
          "color": "rgb(153, 0, 102)",
          "width": 3.1273584905660377
         },
         "mode": "lines",
         "type": "scatter3d",
         "x": [
          0.7176246895990278,
          0.1843388531439707,
          null
         ],
         "y": [
          0.12348549004815479,
          0.9569094209645336,
          null
         ],
         "z": [
          0.9890999641316434,
          0.7357815843661885,
          null
         ]
        },
        {
         "hoverinfo": "none",
         "line": {
          "color": "rgb(198, 0, 56)",
          "width": 3.19811320754717
         },
         "mode": "lines",
         "type": "scatter3d",
         "x": [
          0.7176246895990278,
          0.8259862363808627,
          null
         ],
         "y": [
          0.12348549004815479,
          0.2111471902124571,
          null
         ],
         "z": [
          0.9890999641316434,
          0.7665621089368317,
          null
         ]
        },
        {
         "hoverinfo": "none",
         "line": {
          "color": "rgb(199, 0, 55)",
          "width": 3.4068396226415096
         },
         "mode": "lines",
         "type": "scatter3d",
         "x": [
          0.7176246895990278,
          0.08632051731650314,
          null
         ],
         "y": [
          0.12348549004815479,
          0.13318489045889448,
          null
         ],
         "z": [
          0.9890999641316434,
          0.27123394161463943,
          null
         ]
        },
        {
         "hoverinfo": "none",
         "line": {
          "color": "rgb(173, 0, 81)",
          "width": 3.286556603773585
         },
         "mode": "lines",
         "type": "scatter3d",
         "x": [
          0.7176246895990278,
          0.07306528718544647,
          null
         ],
         "y": [
          0.12348549004815479,
          0.16037298994551585,
          null
         ],
         "z": [
          0.9890999641316434,
          0.5202388383952486,
          null
         ]
        },
        {
         "hoverinfo": "none",
         "line": {
          "color": "rgb(127, 0, 127)",
          "width": 3.134433962264151
         },
         "mode": "lines",
         "type": "scatter3d",
         "x": [
          0.7176246895990278,
          0.7181376075456939,
          null
         ],
         "y": [
          0.12348549004815479,
          0.6349186313634798,
          null
         ],
         "z": [
          0.9890999641316434,
          0.7180178907161859,
          null
         ]
        },
        {
         "hoverinfo": "none",
         "line": {
          "color": "rgb(153, 0, 102)",
          "width": 3.0318396226415096
         },
         "mode": "lines",
         "type": "scatter3d",
         "x": [
          0.7176246895990278,
          0.5159810544350291,
          null
         ],
         "y": [
          0.12348549004815479,
          0.4963718910483257,
          null
         ],
         "z": [
          0.9890999641316434,
          0.23162234647955315,
          null
         ]
        },
        {
         "hoverinfo": "none",
         "line": {
          "color": "rgb(133, 0, 121)",
          "width": 3.1485849056603774
         },
         "mode": "lines",
         "type": "scatter3d",
         "x": [
          0.7176246895990278,
          0.4462581925357012,
          null
         ],
         "y": [
          0.12348549004815479,
          0.7092664124004832,
          null
         ],
         "z": [
          0.9890999641316434,
          0.9555305966584261,
          null
         ]
        },
        {
         "hoverinfo": "none",
         "line": {
          "color": "rgb(196, 0, 58)",
          "width": 3.4775943396226414
         },
         "mode": "lines",
         "type": "scatter3d",
         "x": [
          0.7176246895990278,
          0.7646315870920991,
          null
         ],
         "y": [
          0.12348549004815479,
          0.994121002249538,
          null
         ],
         "z": [
          0.9890999641316434,
          0.05241069186266445,
          null
         ]
        },
        {
         "hoverinfo": "none",
         "line": {
          "color": "rgb(135, 0, 120)",
          "width": 3.1591981132075473
         },
         "mode": "lines",
         "type": "scatter3d",
         "x": [
          0.7176246895990278,
          0.39517423387251094,
          null
         ],
         "y": [
          0.12348549004815479,
          0.5490835876548705,
          null
         ],
         "z": [
          0.9890999641316434,
          0.6171909366473257,
          null
         ]
        },
        {
         "hoverinfo": "none",
         "line": {
          "color": "rgb(143, 0, 111)",
          "width": 3.1556603773584904
         },
         "mode": "lines",
         "type": "scatter3d",
         "x": [
          0.7176246895990278,
          0.2756674478584026,
          null
         ],
         "y": [
          0.12348549004815479,
          0.27963968524651295,
          null
         ],
         "z": [
          0.9890999641316434,
          0.37179483267150526,
          null
         ]
        },
        {
         "hoverinfo": "none",
         "line": {
          "color": "rgb(198, 0, 56)",
          "width": 3.106132075471698
         },
         "mode": "lines",
         "type": "scatter3d",
         "x": [
          0.7176246895990278,
          0.9485324130365435,
          null
         ],
         "y": [
          0.12348549004815479,
          0.2356793768003087,
          null
         ],
         "z": [
          0.9890999641316434,
          0.5170673640919804,
          null
         ]
        },
        {
         "hoverinfo": "none",
         "line": {
          "color": "rgb(182, 0, 72)",
          "width": 3.141509433962264
         },
         "mode": "lines",
         "type": "scatter3d",
         "x": [
          0.7176246895990278,
          0.3995002317579539,
          null
         ],
         "y": [
          0.12348549004815479,
          0.15319802031102225,
          null
         ],
         "z": [
          0.9890999641316434,
          0.7598240496011175,
          null
         ]
        },
        {
         "hoverinfo": "none",
         "line": {
          "color": "rgb(179, 0, 75)",
          "width": 3.099056603773585
         },
         "mode": "lines",
         "type": "scatter3d",
         "x": [
          0.7176246895990278,
          0.2569820810932313,
          null
         ],
         "y": [
          0.12348549004815479,
          0.3569046374818059,
          null
         ],
         "z": [
          0.9890999641316434,
          0.09497509414440564,
          null
         ]
        },
        {
         "hoverinfo": "none",
         "line": {
          "color": "rgb(226, 0, 28)",
          "width": 3.1167452830188678
         },
         "mode": "lines",
         "type": "scatter3d",
         "x": [
          0.7176246895990278,
          0.6056962931843748,
          null
         ],
         "y": [
          0.12348549004815479,
          0.5916687419408222,
          null
         ],
         "z": [
          0.9890999641316434,
          0.44956743391166354,
          null
         ]
        },
        {
         "hoverinfo": "none",
         "line": {
          "color": "rgb(85, 0, 170)",
          "width": 3.035377358490566
         },
         "mode": "lines",
         "type": "scatter3d",
         "x": [
          0.7176246895990278,
          0.5149416782322986,
          null
         ],
         "y": [
          0.12348549004815479,
          0.9889810900996732,
          null
         ],
         "z": [
          0.9890999641316434,
          0.1770483821901393,
          null
         ]
        },
        {
         "hoverinfo": "none",
         "line": {
          "color": "rgb(159, 0, 95)",
          "width": 3.1273584905660377
         },
         "mode": "lines",
         "type": "scatter3d",
         "x": [
          0.7176246895990278,
          0.17628094509891412,
          null
         ],
         "y": [
          0.12348549004815479,
          0.22833884872332644,
          null
         ],
         "z": [
          0.9890999641316434,
          0.889938195577574,
          null
         ]
        },
        {
         "hoverinfo": "none",
         "line": {
          "color": "rgb(255, 0, 0)",
          "width": 3.0389150943396226
         },
         "mode": "lines",
         "type": "scatter3d",
         "x": [
          0.7176246895990278,
          0.7279986433760837,
          null
         ],
         "y": [
          0.12348549004815479,
          0.450788086644763,
          null
         ],
         "z": [
          0.9890999641316434,
          0.05386504773569423,
          null
         ]
        },
        {
         "hoverinfo": "none",
         "line": {
          "color": "rgb(85, 0, 170)",
          "width": 3.0389150943396226
         },
         "mode": "lines",
         "type": "scatter3d",
         "x": [
          0.7176246895990278,
          0.12705559846928383,
          null
         ],
         "y": [
          0.12348549004815479,
          0.9295935696226497,
          null
         ],
         "z": [
          0.9890999641316434,
          0.08932677785912801,
          null
         ]
        },
        {
         "hoverinfo": "none",
         "line": {
          "color": "rgb(127, 0, 127)",
          "width": 3.01061320754717
         },
         "mode": "lines",
         "type": "scatter3d",
         "x": [
          0.7176246895990278,
          0.16705182778560246,
          null
         ],
         "y": [
          0.12348549004815479,
          0.2397375514499933,
          null
         ],
         "z": [
          0.9890999641316434,
          0.5718158908671802,
          null
         ]
        },
        {
         "hoverinfo": "none",
         "line": {
          "color": "rgb(255, 0, 0)",
          "width": 3.0070754716981134
         },
         "mode": "lines",
         "type": "scatter3d",
         "x": [
          0.7176246895990278,
          0.9383998934077977,
          null
         ],
         "y": [
          0.12348549004815479,
          0.32532543746089326,
          null
         ],
         "z": [
          0.9890999641316434,
          0.019471899465971276,
          null
         ]
        },
        {
         "hoverinfo": "none",
         "line": {
          "color": "rgb(127, 0, 127)",
          "width": 3.2794811320754715
         },
         "mode": "lines",
         "type": "scatter3d",
         "x": [
          0.8284340696291544,
          0.7279986433760837,
          null
         ],
         "y": [
          0.6917473564225821,
          0.450788086644763,
          null
         ],
         "z": [
          0.3163445400366095,
          0.05386504773569423,
          null
         ]
        },
        {
         "hoverinfo": "none",
         "line": {
          "color": "rgb(189, 0, 65)",
          "width": 4.705188679245283
         },
         "mode": "lines",
         "type": "scatter3d",
         "x": [
          0.8284340696291544,
          0.08632051731650314,
          null
         ],
         "y": [
          0.6917473564225821,
          0.13318489045889448,
          null
         ],
         "z": [
          0.3163445400366095,
          0.27123394161463943,
          null
         ]
        },
        {
         "hoverinfo": "none",
         "line": {
          "color": "rgb(191, 0, 63)",
          "width": 3.19811320754717
         },
         "mode": "lines",
         "type": "scatter3d",
         "x": [
          0.8284340696291544,
          0.9485324130365435,
          null
         ],
         "y": [
          0.6917473564225821,
          0.2356793768003087,
          null
         ],
         "z": [
          0.3163445400366095,
          0.5170673640919804,
          null
         ]
        },
        {
         "hoverinfo": "none",
         "line": {
          "color": "rgb(153, 0, 101)",
          "width": 3.76061320754717
         },
         "mode": "lines",
         "type": "scatter3d",
         "x": [
          0.8284340696291544,
          0.6056962931843748,
          null
         ],
         "y": [
          0.6917473564225821,
          0.5916687419408222,
          null
         ],
         "z": [
          0.3163445400366095,
          0.44956743391166354,
          null
         ]
        },
        {
         "hoverinfo": "none",
         "line": {
          "color": "rgb(197, 0, 57)",
          "width": 3.297169811320755
         },
         "mode": "lines",
         "type": "scatter3d",
         "x": [
          0.8284340696291544,
          0.5159810544350291,
          null
         ],
         "y": [
          0.6917473564225821,
          0.4963718910483257,
          null
         ],
         "z": [
          0.3163445400366095,
          0.23162234647955315,
          null
         ]
        },
        {
         "hoverinfo": "none",
         "line": {
          "color": "rgb(172, 0, 82)",
          "width": 5.632075471698114
         },
         "mode": "lines",
         "type": "scatter3d",
         "x": [
          0.8284340696291544,
          0.4462581925357012,
          null
         ],
         "y": [
          0.6917473564225821,
          0.7092664124004832,
          null
         ],
         "z": [
          0.3163445400366095,
          0.9555305966584261,
          null
         ]
        },
        {
         "hoverinfo": "none",
         "line": {
          "color": "rgb(165, 0, 89)",
          "width": 3.5377358490566038
         },
         "mode": "lines",
         "type": "scatter3d",
         "x": [
          0.8284340696291544,
          0.4403944332224933,
          null
         ],
         "y": [
          0.6917473564225821,
          0.31363312554250466,
          null
         ],
         "z": [
          0.3163445400366095,
          0.9346959222567455,
          null
         ]
        },
        {
         "hoverinfo": "none",
         "line": {
          "color": "rgb(178, 0, 76)",
          "width": 5.023584905660377
         },
         "mode": "lines",
         "type": "scatter3d",
         "x": [
          0.8284340696291544,
          0.07306528718544647,
          null
         ],
         "y": [
          0.6917473564225821,
          0.16037298994551585,
          null
         ],
         "z": [
          0.3163445400366095,
          0.5202388383952486,
          null
         ]
        },
        {
         "hoverinfo": "none",
         "line": {
          "color": "rgb(157, 0, 97)",
          "width": 6.099056603773585
         },
         "mode": "lines",
         "type": "scatter3d",
         "x": [
          0.8284340696291544,
          0.7646315870920991,
          null
         ],
         "y": [
          0.6917473564225821,
          0.994121002249538,
          null
         ],
         "z": [
          0.3163445400366095,
          0.05241069186266445,
          null
         ]
        },
        {
         "hoverinfo": "none",
         "line": {
          "color": "rgb(154, 0, 100)",
          "width": 4.036556603773585
         },
         "mode": "lines",
         "type": "scatter3d",
         "x": [
          0.8284340696291544,
          0.1843388531439707,
          null
         ],
         "y": [
          0.6917473564225821,
          0.9569094209645336,
          null
         ],
         "z": [
          0.3163445400366095,
          0.7357815843661885,
          null
         ]
        },
        {
         "hoverinfo": "none",
         "line": {
          "color": "rgb(183, 0, 71)",
          "width": 4.47877358490566
         },
         "mode": "lines",
         "type": "scatter3d",
         "x": [
          0.8284340696291544,
          0.2569820810932313,
          null
         ],
         "y": [
          0.6917473564225821,
          0.3569046374818059,
          null
         ],
         "z": [
          0.3163445400366095,
          0.09497509414440564,
          null
         ]
        },
        {
         "hoverinfo": "none",
         "line": {
          "color": "rgb(153, 0, 101)",
          "width": 6.495283018867925
         },
         "mode": "lines",
         "type": "scatter3d",
         "x": [
          0.8284340696291544,
          0.14123353972115282,
          null
         ],
         "y": [
          0.6917473564225821,
          0.9501974615175286,
          null
         ],
         "z": [
          0.3163445400366095,
          0.3762295887850666,
          null
         ]
        },
        {
         "hoverinfo": "none",
         "line": {
          "color": "rgb(167, 0, 87)",
          "width": 3.5660377358490565
         },
         "mode": "lines",
         "type": "scatter3d",
         "x": [
          0.8284340696291544,
          0.17628094509891412,
          null
         ],
         "y": [
          0.6917473564225821,
          0.22833884872332644,
          null
         ],
         "z": [
          0.3163445400366095,
          0.889938195577574,
          null
         ]
        },
        {
         "hoverinfo": "none",
         "line": {
          "color": "rgb(152, 0, 102)",
          "width": 3.8808962264150946
         },
         "mode": "lines",
         "type": "scatter3d",
         "x": [
          0.8284340696291544,
          0.2756674478584026,
          null
         ],
         "y": [
          0.6917473564225821,
          0.27963968524651295,
          null
         ],
         "z": [
          0.3163445400366095,
          0.37179483267150526,
          null
         ]
        },
        {
         "hoverinfo": "none",
         "line": {
          "color": "rgb(191, 0, 63)",
          "width": 3.1379716981132075
         },
         "mode": "lines",
         "type": "scatter3d",
         "x": [
          0.8284340696291544,
          0.5149416782322986,
          null
         ],
         "y": [
          0.6917473564225821,
          0.9889810900996732,
          null
         ],
         "z": [
          0.3163445400366095,
          0.1770483821901393,
          null
         ]
        },
        {
         "hoverinfo": "none",
         "line": {
          "color": "rgb(145, 0, 109)",
          "width": 4.411556603773585
         },
         "mode": "lines",
         "type": "scatter3d",
         "x": [
          0.8284340696291544,
          0.39517423387251094,
          null
         ],
         "y": [
          0.6917473564225821,
          0.5490835876548705,
          null
         ],
         "z": [
          0.3163445400366095,
          0.6171909366473257,
          null
         ]
        },
        {
         "hoverinfo": "none",
         "line": {
          "color": "rgb(164, 0, 90)",
          "width": 3.5872641509433962
         },
         "mode": "lines",
         "type": "scatter3d",
         "x": [
          0.8284340696291544,
          0.3995002317579539,
          null
         ],
         "y": [
          0.6917473564225821,
          0.15319802031102225,
          null
         ],
         "z": [
          0.3163445400366095,
          0.7598240496011175,
          null
         ]
        },
        {
         "hoverinfo": "none",
         "line": {
          "color": "rgb(156, 0, 98)",
          "width": 3.6474056603773586
         },
         "mode": "lines",
         "type": "scatter3d",
         "x": [
          0.8284340696291544,
          0.8259862363808627,
          null
         ],
         "y": [
          0.6917473564225821,
          0.2111471902124571,
          null
         ],
         "z": [
          0.3163445400366095,
          0.7665621089368317,
          null
         ]
        },
        {
         "hoverinfo": "none",
         "line": {
          "color": "rgb(177, 0, 77)",
          "width": 4.29127358490566
         },
         "mode": "lines",
         "type": "scatter3d",
         "x": [
          0.8284340696291544,
          0.7181376075456939,
          null
         ],
         "y": [
          0.6917473564225821,
          0.6349186313634798,
          null
         ],
         "z": [
          0.3163445400366095,
          0.7180178907161859,
          null
         ]
        },
        {
         "hoverinfo": "none",
         "line": {
          "color": "rgb(150, 0, 104)",
          "width": 3.109669811320755
         },
         "mode": "lines",
         "type": "scatter3d",
         "x": [
          0.8284340696291544,
          0.9383998934077977,
          null
         ],
         "y": [
          0.6917473564225821,
          0.32532543746089326,
          null
         ],
         "z": [
          0.3163445400366095,
          0.019471899465971276,
          null
         ]
        },
        {
         "hoverinfo": "none",
         "line": {
          "color": "rgb(105, 0, 150)",
          "width": 3.1379716981132075
         },
         "mode": "lines",
         "type": "scatter3d",
         "x": [
          0.8284340696291544,
          0.16705182778560246,
          null
         ],
         "y": [
          0.6917473564225821,
          0.2397375514499933,
          null
         ],
         "z": [
          0.3163445400366095,
          0.5718158908671802,
          null
         ]
        },
        {
         "hoverinfo": "none",
         "line": {
          "color": "rgb(170, 0, 85)",
          "width": 3.0707547169811322
         },
         "mode": "lines",
         "type": "scatter3d",
         "x": [
          0.8284340696291544,
          0.12705559846928383,
          null
         ],
         "y": [
          0.6917473564225821,
          0.9295935696226497,
          null
         ],
         "z": [
          0.3163445400366095,
          0.08932677785912801,
          null
         ]
        },
        {
         "hoverinfo": "none",
         "line": {
          "color": "rgb(161, 0, 93)",
          "width": 3.55188679245283
         },
         "mode": "lines",
         "type": "scatter3d",
         "x": [
          0.17628094509891412,
          0.14123353972115282,
          null
         ],
         "y": [
          0.22833884872332644,
          0.9501974615175286,
          null
         ],
         "z": [
          0.889938195577574,
          0.3762295887850666,
          null
         ]
        },
        {
         "hoverinfo": "none",
         "line": {
          "color": "rgb(169, 0, 85)",
          "width": 3.597877358490566
         },
         "mode": "lines",
         "type": "scatter3d",
         "x": [
          0.17628094509891412,
          0.6056962931843748,
          null
         ],
         "y": [
          0.22833884872332644,
          0.5916687419408222,
          null
         ],
         "z": [
          0.889938195577574,
          0.44956743391166354,
          null
         ]
        },
        {
         "hoverinfo": "none",
         "line": {
          "color": "rgb(226, 0, 28)",
          "width": 3.1910377358490565
         },
         "mode": "lines",
         "type": "scatter3d",
         "x": [
          0.17628094509891412,
          0.7279986433760837,
          null
         ],
         "y": [
          0.22833884872332644,
          0.450788086644763,
          null
         ],
         "z": [
          0.889938195577574,
          0.05386504773569423,
          null
         ]
        },
        {
         "hoverinfo": "none",
         "line": {
          "color": "rgb(196, 0, 58)",
          "width": 3.392688679245283
         },
         "mode": "lines",
         "type": "scatter3d",
         "x": [
          0.17628094509891412,
          0.4462581925357012,
          null
         ],
         "y": [
          0.22833884872332644,
          0.7092664124004832,
          null
         ],
         "z": [
          0.889938195577574,
          0.9555305966584261,
          null
         ]
        },
        {
         "hoverinfo": "none",
         "line": {
          "color": "rgb(208, 0, 46)",
          "width": 3.4669811320754715
         },
         "mode": "lines",
         "type": "scatter3d",
         "x": [
          0.17628094509891412,
          0.4403944332224933,
          null
         ],
         "y": [
          0.22833884872332644,
          0.31363312554250466,
          null
         ],
         "z": [
          0.889938195577574,
          0.9346959222567455,
          null
         ]
        },
        {
         "hoverinfo": "none",
         "line": {
          "color": "rgb(199, 0, 55)",
          "width": 4.6379716981132075
         },
         "mode": "lines",
         "type": "scatter3d",
         "x": [
          0.17628094509891412,
          0.08632051731650314,
          null
         ],
         "y": [
          0.22833884872332644,
          0.13318489045889448,
          null
         ],
         "z": [
          0.889938195577574,
          0.27123394161463943,
          null
         ]
        },
        {
         "hoverinfo": "none",
         "line": {
          "color": "rgb(182, 0, 72)",
          "width": 3.3502358490566038
         },
         "mode": "lines",
         "type": "scatter3d",
         "x": [
          0.17628094509891412,
          0.3995002317579539,
          null
         ],
         "y": [
          0.22833884872332644,
          0.15319802031102225,
          null
         ],
         "z": [
          0.889938195577574,
          0.7598240496011175,
          null
         ]
        },
        {
         "hoverinfo": "none",
         "line": {
          "color": "rgb(177, 0, 77)",
          "width": 3.704009433962264
         },
         "mode": "lines",
         "type": "scatter3d",
         "x": [
          0.17628094509891412,
          0.1843388531439707,
          null
         ],
         "y": [
          0.22833884872332644,
          0.9569094209645336,
          null
         ],
         "z": [
          0.889938195577574,
          0.7357815843661885,
          null
         ]
        },
        {
         "hoverinfo": "none",
         "line": {
          "color": "rgb(179, 0, 75)",
          "width": 3.555424528301887
         },
         "mode": "lines",
         "type": "scatter3d",
         "x": [
          0.17628094509891412,
          0.8259862363808627,
          null
         ],
         "y": [
          0.22833884872332644,
          0.2111471902124571,
          null
         ],
         "z": [
          0.889938195577574,
          0.7665621089368317,
          null
         ]
        },
        {
         "hoverinfo": "none",
         "line": {
          "color": "rgb(165, 0, 89)",
          "width": 4.553066037735849
         },
         "mode": "lines",
         "type": "scatter3d",
         "x": [
          0.17628094509891412,
          0.39517423387251094,
          null
         ],
         "y": [
          0.22833884872332644,
          0.5490835876548705,
          null
         ],
         "z": [
          0.889938195577574,
          0.6171909366473257,
          null
         ]
        },
        {
         "hoverinfo": "none",
         "line": {
          "color": "rgb(167, 0, 87)",
          "width": 3.3502358490566038
         },
         "mode": "lines",
         "type": "scatter3d",
         "x": [
          0.17628094509891412,
          0.07306528718544647,
          null
         ],
         "y": [
          0.22833884872332644,
          0.16037298994551585,
          null
         ],
         "z": [
          0.889938195577574,
          0.5202388383952486,
          null
         ]
        },
        {
         "hoverinfo": "none",
         "line": {
          "color": "rgb(177, 0, 77)",
          "width": 3.891509433962264
         },
         "mode": "lines",
         "type": "scatter3d",
         "x": [
          0.17628094509891412,
          0.2756674478584026,
          null
         ],
         "y": [
          0.22833884872332644,
          0.27963968524651295,
          null
         ],
         "z": [
          0.889938195577574,
          0.37179483267150526,
          null
         ]
        },
        {
         "hoverinfo": "none",
         "line": {
          "color": "rgb(172, 0, 82)",
          "width": 3.8455188679245285
         },
         "mode": "lines",
         "type": "scatter3d",
         "x": [
          0.17628094509891412,
          0.7646315870920991,
          null
         ],
         "y": [
          0.22833884872332644,
          0.994121002249538,
          null
         ],
         "z": [
          0.889938195577574,
          0.05241069186266445,
          null
         ]
        },
        {
         "hoverinfo": "none",
         "line": {
          "color": "rgb(190, 0, 64)",
          "width": 3.4245283018867925
         },
         "mode": "lines",
         "type": "scatter3d",
         "x": [
          0.17628094509891412,
          0.2569820810932313,
          null
         ],
         "y": [
          0.22833884872332644,
          0.3569046374818059,
          null
         ],
         "z": [
          0.889938195577574,
          0.09497509414440564,
          null
         ]
        },
        {
         "hoverinfo": "none",
         "line": {
          "color": "rgb(172, 0, 82)",
          "width": 3.4705188679245285
         },
         "mode": "lines",
         "type": "scatter3d",
         "x": [
          0.17628094509891412,
          0.7181376075456939,
          null
         ],
         "y": [
          0.22833884872332644,
          0.6349186313634798,
          null
         ],
         "z": [
          0.889938195577574,
          0.7180178907161859,
          null
         ]
        },
        {
         "hoverinfo": "none",
         "line": {
          "color": "rgb(179, 0, 75)",
          "width": 3.077830188679245
         },
         "mode": "lines",
         "type": "scatter3d",
         "x": [
          0.17628094509891412,
          0.12705559846928383,
          null
         ],
         "y": [
          0.22833884872332644,
          0.9295935696226497,
          null
         ],
         "z": [
          0.889938195577574,
          0.08932677785912801,
          null
         ]
        },
        {
         "hoverinfo": "none",
         "line": {
          "color": "rgb(218, 0, 36)",
          "width": 3.109669811320755
         },
         "mode": "lines",
         "type": "scatter3d",
         "x": [
          0.17628094509891412,
          0.9485324130365435,
          null
         ],
         "y": [
          0.22833884872332644,
          0.2356793768003087,
          null
         ],
         "z": [
          0.889938195577574,
          0.5170673640919804,
          null
         ]
        },
        {
         "hoverinfo": "none",
         "line": {
          "color": "rgb(95, 0, 159)",
          "width": 3.0389150943396226
         },
         "mode": "lines",
         "type": "scatter3d",
         "x": [
          0.17628094509891412,
          0.9383998934077977,
          null
         ],
         "y": [
          0.22833884872332644,
          0.32532543746089326,
          null
         ],
         "z": [
          0.889938195577574,
          0.019471899465971276,
          null
         ]
        },
        {
         "hoverinfo": "none",
         "line": {
          "color": "rgb(226, 0, 28)",
          "width": 3.063679245283019
         },
         "mode": "lines",
         "type": "scatter3d",
         "x": [
          0.17628094509891412,
          0.5159810544350291,
          null
         ],
         "y": [
          0.22833884872332644,
          0.4963718910483257,
          null
         ],
         "z": [
          0.889938195577574,
          0.23162234647955315,
          null
         ]
        },
        {
         "hoverinfo": "none",
         "line": {
          "color": "rgb(198, 0, 56)",
          "width": 3.081367924528302
         },
         "mode": "lines",
         "type": "scatter3d",
         "x": [
          0.17628094509891412,
          0.5149416782322986,
          null
         ],
         "y": [
          0.22833884872332644,
          0.9889810900996732,
          null
         ],
         "z": [
          0.889938195577574,
          0.1770483821901393,
          null
         ]
        },
        {
         "hoverinfo": "none",
         "line": {
          "color": "rgb(191, 0, 63)",
          "width": 3.035377358490566
         },
         "mode": "lines",
         "type": "scatter3d",
         "x": [
          0.17628094509891412,
          0.16705182778560246,
          null
         ],
         "y": [
          0.22833884872332644,
          0.2397375514499933,
          null
         ],
         "z": [
          0.889938195577574,
          0.5718158908671802,
          null
         ]
        },
        {
         "hoverinfo": "none",
         "line": {
          "color": "rgb(145, 0, 109)",
          "width": 4.241745283018868
         },
         "mode": "lines",
         "type": "scatter3d",
         "x": [
          0.39517423387251094,
          0.6056962931843748,
          null
         ],
         "y": [
          0.5490835876548705,
          0.5916687419408222,
          null
         ],
         "z": [
          0.6171909366473257,
          0.44956743391166354,
          null
         ]
        },
        {
         "hoverinfo": "none",
         "line": {
          "color": "rgb(170, 0, 85)",
          "width": 3.2158018867924527
         },
         "mode": "lines",
         "type": "scatter3d",
         "x": [
          0.39517423387251094,
          0.7279986433760837,
          null
         ],
         "y": [
          0.5490835876548705,
          0.450788086644763,
          null
         ],
         "z": [
          0.6171909366473257,
          0.05386504773569423,
          null
         ]
        },
        {
         "hoverinfo": "none",
         "line": {
          "color": "rgb(174, 0, 80)",
          "width": 3.268867924528302
         },
         "mode": "lines",
         "type": "scatter3d",
         "x": [
          0.39517423387251094,
          0.4403944332224933,
          null
         ],
         "y": [
          0.5490835876548705,
          0.31363312554250466,
          null
         ],
         "z": [
          0.6171909366473257,
          0.9346959222567455,
          null
         ]
        },
        {
         "hoverinfo": "none",
         "line": {
          "color": "rgb(160, 0, 94)",
          "width": 4.839622641509434
         },
         "mode": "lines",
         "type": "scatter3d",
         "x": [
          0.39517423387251094,
          0.7646315870920991,
          null
         ],
         "y": [
          0.5490835876548705,
          0.994121002249538,
          null
         ],
         "z": [
          0.6171909366473257,
          0.05241069186266445,
          null
         ]
        },
        {
         "hoverinfo": "none",
         "line": {
          "color": "rgb(146, 0, 108)",
          "width": 3.6226415094339623
         },
         "mode": "lines",
         "type": "scatter3d",
         "x": [
          0.39517423387251094,
          0.1843388531439707,
          null
         ],
         "y": [
          0.5490835876548705,
          0.9569094209645336,
          null
         ],
         "z": [
          0.6171909366473257,
          0.7357815843661885,
          null
         ]
        },
        {
         "hoverinfo": "none",
         "line": {
          "color": "rgb(148, 0, 106)",
          "width": 3.7712264150943398
         },
         "mode": "lines",
         "type": "scatter3d",
         "x": [
          0.39517423387251094,
          0.3995002317579539,
          null
         ],
         "y": [
          0.5490835876548705,
          0.15319802031102225,
          null
         ],
         "z": [
          0.6171909366473257,
          0.7598240496011175,
          null
         ]
        },
        {
         "hoverinfo": "none",
         "line": {
          "color": "rgb(170, 0, 84)",
          "width": 5.0625
         },
         "mode": "lines",
         "type": "scatter3d",
         "x": [
          0.39517423387251094,
          0.14123353972115282,
          null
         ],
         "y": [
          0.5490835876548705,
          0.9501974615175286,
          null
         ],
         "z": [
          0.6171909366473257,
          0.3762295887850666,
          null
         ]
        },
        {
         "hoverinfo": "none",
         "line": {
          "color": "rgb(145, 0, 109)",
          "width": 3.5943396226415096
         },
         "mode": "lines",
         "type": "scatter3d",
         "x": [
          0.39517423387251094,
          0.07306528718544647,
          null
         ],
         "y": [
          0.5490835876548705,
          0.16037298994551585,
          null
         ],
         "z": [
          0.6171909366473257,
          0.5202388383952486,
          null
         ]
        },
        {
         "hoverinfo": "none",
         "line": {
          "color": "rgb(198, 0, 56)",
          "width": 3.643867924528302
         },
         "mode": "lines",
         "type": "scatter3d",
         "x": [
          0.39517423387251094,
          0.7181376075456939,
          null
         ],
         "y": [
          0.5490835876548705,
          0.6349186313634798,
          null
         ],
         "z": [
          0.6171909366473257,
          0.7180178907161859,
          null
         ]
        },
        {
         "hoverinfo": "none",
         "line": {
          "color": "rgb(164, 0, 90)",
          "width": 3.742924528301887
         },
         "mode": "lines",
         "type": "scatter3d",
         "x": [
          0.39517423387251094,
          0.4462581925357012,
          null
         ],
         "y": [
          0.5490835876548705,
          0.7092664124004832,
          null
         ],
         "z": [
          0.6171909366473257,
          0.9555305966584261,
          null
         ]
        },
        {
         "hoverinfo": "none",
         "line": {
          "color": "rgb(191, 0, 63)",
          "width": 5.716981132075471
         },
         "mode": "lines",
         "type": "scatter3d",
         "x": [
          0.39517423387251094,
          0.08632051731650314,
          null
         ],
         "y": [
          0.5490835876548705,
          0.13318489045889448,
          null
         ],
         "z": [
          0.6171909366473257,
          0.27123394161463943,
          null
         ]
        },
        {
         "hoverinfo": "none",
         "line": {
          "color": "rgb(158, 0, 96)",
          "width": 4.319575471698113
         },
         "mode": "lines",
         "type": "scatter3d",
         "x": [
          0.39517423387251094,
          0.2756674478584026,
          null
         ],
         "y": [
          0.5490835876548705,
          0.27963968524651295,
          null
         ],
         "z": [
          0.6171909366473257,
          0.37179483267150526,
          null
         ]
        },
        {
         "hoverinfo": "none",
         "line": {
          "color": "rgb(177, 0, 77)",
          "width": 3.6580188679245285
         },
         "mode": "lines",
         "type": "scatter3d",
         "x": [
          0.39517423387251094,
          0.8259862363808627,
          null
         ],
         "y": [
          0.5490835876548705,
          0.2111471902124571,
          null
         ],
         "z": [
          0.6171909366473257,
          0.7665621089368317,
          null
         ]
        },
        {
         "hoverinfo": "none",
         "line": {
          "color": "rgb(204, 0, 51)",
          "width": 3.205188679245283
         },
         "mode": "lines",
         "type": "scatter3d",
         "x": [
          0.39517423387251094,
          0.12705559846928383,
          null
         ],
         "y": [
          0.5490835876548705,
          0.9295935696226497,
          null
         ],
         "z": [
          0.6171909366473257,
          0.08932677785912801,
          null
         ]
        },
        {
         "hoverinfo": "none",
         "line": {
          "color": "rgb(189, 0, 65)",
          "width": 3.6332547169811322
         },
         "mode": "lines",
         "type": "scatter3d",
         "x": [
          0.39517423387251094,
          0.2569820810932313,
          null
         ],
         "y": [
          0.5490835876548705,
          0.3569046374818059,
          null
         ],
         "z": [
          0.6171909366473257,
          0.09497509414440564,
          null
         ]
        },
        {
         "hoverinfo": "none",
         "line": {
          "color": "rgb(255, 0, 0)",
          "width": 3.0707547169811322
         },
         "mode": "lines",
         "type": "scatter3d",
         "x": [
          0.39517423387251094,
          0.16705182778560246,
          null
         ],
         "y": [
          0.5490835876548705,
          0.2397375514499933,
          null
         ],
         "z": [
          0.6171909366473257,
          0.5718158908671802,
          null
         ]
        },
        {
         "hoverinfo": "none",
         "line": {
          "color": "rgb(182, 0, 72)",
          "width": 3.141509433962264
         },
         "mode": "lines",
         "type": "scatter3d",
         "x": [
          0.39517423387251094,
          0.9485324130365435,
          null
         ],
         "y": [
          0.5490835876548705,
          0.2356793768003087,
          null
         ],
         "z": [
          0.6171909366473257,
          0.5170673640919804,
          null
         ]
        },
        {
         "hoverinfo": "none",
         "line": {
          "color": "rgb(182, 0, 72)",
          "width": 3.056603773584906
         },
         "mode": "lines",
         "type": "scatter3d",
         "x": [
          0.39517423387251094,
          0.9383998934077977,
          null
         ],
         "y": [
          0.5490835876548705,
          0.32532543746089326,
          null
         ],
         "z": [
          0.6171909366473257,
          0.019471899465971276,
          null
         ]
        },
        {
         "hoverinfo": "none",
         "line": {
          "color": "rgb(102, 0, 153)",
          "width": 3.0955188679245285
         },
         "mode": "lines",
         "type": "scatter3d",
         "x": [
          0.39517423387251094,
          0.5149416782322986,
          null
         ],
         "y": [
          0.5490835876548705,
          0.9889810900996732,
          null
         ],
         "z": [
          0.6171909366473257,
          0.1770483821901393,
          null
         ]
        },
        {
         "hoverinfo": "none",
         "line": {
          "color": "rgb(212, 0, 42)",
          "width": 3.0849056603773586
         },
         "mode": "lines",
         "type": "scatter3d",
         "x": [
          0.39517423387251094,
          0.5159810544350291,
          null
         ],
         "y": [
          0.5490835876548705,
          0.4963718910483257,
          null
         ],
         "z": [
          0.6171909366473257,
          0.23162234647955315,
          null
         ]
        },
        {
         "hoverinfo": "none",
         "line": {
          "color": "rgb(208, 0, 46)",
          "width": 3.3608490566037736
         },
         "mode": "lines",
         "type": "scatter3d",
         "x": [
          0.9485324130365435,
          0.4403944332224933,
          null
         ],
         "y": [
          0.2356793768003087,
          0.31363312554250466,
          null
         ],
         "z": [
          0.5170673640919804,
          0.9346959222567455,
          null
         ]
        },
        {
         "hoverinfo": "none",
         "line": {
          "color": "rgb(221, 0, 33)",
          "width": 3.757075471698113
         },
         "mode": "lines",
         "type": "scatter3d",
         "x": [
          0.9485324130365435,
          0.08632051731650314,
          null
         ],
         "y": [
          0.2356793768003087,
          0.13318489045889448,
          null
         ],
         "z": [
          0.5170673640919804,
          0.27123394161463943,
          null
         ]
        },
        {
         "hoverinfo": "none",
         "line": {
          "color": "rgb(210, 0, 44)",
          "width": 3.1556603773584904
         },
         "mode": "lines",
         "type": "scatter3d",
         "x": [
          0.9485324130365435,
          0.07306528718544647,
          null
         ],
         "y": [
          0.2356793768003087,
          0.16037298994551585,
          null
         ],
         "z": [
          0.5170673640919804,
          0.5202388383952486,
          null
         ]
        },
        {
         "hoverinfo": "none",
         "line": {
          "color": "rgb(212, 0, 42)",
          "width": 3.1167452830188678
         },
         "mode": "lines",
         "type": "scatter3d",
         "x": [
          0.9485324130365435,
          0.6056962931843748,
          null
         ],
         "y": [
          0.2356793768003087,
          0.5916687419408222,
          null
         ],
         "z": [
          0.5170673640919804,
          0.44956743391166354,
          null
         ]
        },
        {
         "hoverinfo": "none",
         "line": {
          "color": "rgb(163, 0, 91)",
          "width": 3.1662735849056602
         },
         "mode": "lines",
         "type": "scatter3d",
         "x": [
          0.9485324130365435,
          0.2756674478584026,
          null
         ],
         "y": [
          0.2356793768003087,
          0.27963968524651295,
          null
         ],
         "z": [
          0.5170673640919804,
          0.37179483267150526,
          null
         ]
        },
        {
         "hoverinfo": "none",
         "line": {
          "color": "rgb(202, 0, 52)",
          "width": 3.55188679245283
         },
         "mode": "lines",
         "type": "scatter3d",
         "x": [
          0.9485324130365435,
          0.1843388531439707,
          null
         ],
         "y": [
          0.2356793768003087,
          0.9569094209645336,
          null
         ],
         "z": [
          0.5170673640919804,
          0.7357815843661885,
          null
         ]
        },
        {
         "hoverinfo": "none",
         "line": {
          "color": "rgb(196, 0, 58)",
          "width": 3.134433962264151
         },
         "mode": "lines",
         "type": "scatter3d",
         "x": [
          0.9485324130365435,
          0.3995002317579539,
          null
         ],
         "y": [
          0.2356793768003087,
          0.15319802031102225,
          null
         ],
         "z": [
          0.5170673640919804,
          0.7598240496011175,
          null
         ]
        },
        {
         "hoverinfo": "none",
         "line": {
          "color": "rgb(196, 0, 58)",
          "width": 3.106132075471698
         },
         "mode": "lines",
         "type": "scatter3d",
         "x": [
          0.9485324130365435,
          0.7279986433760837,
          null
         ],
         "y": [
          0.2356793768003087,
          0.450788086644763,
          null
         ],
         "z": [
          0.5170673640919804,
          0.05386504773569423,
          null
         ]
        },
        {
         "hoverinfo": "none",
         "line": {
          "color": "rgb(198, 0, 56)",
          "width": 3.2441037735849054
         },
         "mode": "lines",
         "type": "scatter3d",
         "x": [
          0.9485324130365435,
          0.4462581925357012,
          null
         ],
         "y": [
          0.2356793768003087,
          0.7092664124004832,
          null
         ],
         "z": [
          0.5170673640919804,
          0.9555305966584261,
          null
         ]
        },
        {
         "hoverinfo": "none",
         "line": {
          "color": "rgb(175, 0, 79)",
          "width": 3.1132075471698113
         },
         "mode": "lines",
         "type": "scatter3d",
         "x": [
          0.9485324130365435,
          0.8259862363808627,
          null
         ],
         "y": [
          0.2356793768003087,
          0.2111471902124571,
          null
         ],
         "z": [
          0.5170673640919804,
          0.7665621089368317,
          null
         ]
        },
        {
         "hoverinfo": "none",
         "line": {
          "color": "rgb(214, 0, 40)",
          "width": 3.205188679245283
         },
         "mode": "lines",
         "type": "scatter3d",
         "x": [
          0.9485324130365435,
          0.7181376075456939,
          null
         ],
         "y": [
          0.2356793768003087,
          0.6349186313634798,
          null
         ],
         "z": [
          0.5170673640919804,
          0.7180178907161859,
          null
         ]
        },
        {
         "hoverinfo": "none",
         "line": {
          "color": "rgb(255, 0, 0)",
          "width": 3.1804245283018866
         },
         "mode": "lines",
         "type": "scatter3d",
         "x": [
          0.9485324130365435,
          0.5159810544350291,
          null
         ],
         "y": [
          0.2356793768003087,
          0.4963718910483257,
          null
         ],
         "z": [
          0.5170673640919804,
          0.23162234647955315,
          null
         ]
        },
        {
         "hoverinfo": "none",
         "line": {
          "color": "rgb(109, 0, 145)",
          "width": 3.1132075471698113
         },
         "mode": "lines",
         "type": "scatter3d",
         "x": [
          0.9485324130365435,
          0.7646315870920991,
          null
         ],
         "y": [
          0.2356793768003087,
          0.994121002249538,
          null
         ],
         "z": [
          0.5170673640919804,
          0.05241069186266445,
          null
         ]
        },
        {
         "hoverinfo": "none",
         "line": {
          "color": "rgb(204, 0, 51)",
          "width": 3.088443396226415
         },
         "mode": "lines",
         "type": "scatter3d",
         "x": [
          0.9485324130365435,
          0.14123353972115282,
          null
         ],
         "y": [
          0.2356793768003087,
          0.9501974615175286,
          null
         ],
         "z": [
          0.5170673640919804,
          0.3762295887850666,
          null
         ]
        },
        {
         "hoverinfo": "none",
         "line": {
          "color": "rgb(176, 0, 78)",
          "width": 3.1556603773584904
         },
         "mode": "lines",
         "type": "scatter3d",
         "x": [
          0.9485324130365435,
          0.2569820810932313,
          null
         ],
         "y": [
          0.2356793768003087,
          0.3569046374818059,
          null
         ],
         "z": [
          0.5170673640919804,
          0.09497509414440564,
          null
         ]
        },
        {
         "hoverinfo": "none",
         "line": {
          "color": "rgb(63, 0, 191)",
          "width": 3.01061320754717
         },
         "mode": "lines",
         "type": "scatter3d",
         "x": [
          0.9485324130365435,
          0.16705182778560246,
          null
         ],
         "y": [
          0.2356793768003087,
          0.2397375514499933,
          null
         ],
         "z": [
          0.5170673640919804,
          0.5718158908671802,
          null
         ]
        },
        {
         "hoverinfo": "none",
         "line": {
          "color": "rgb(255, 0, 0)",
          "width": 3.0035377358490565
         },
         "mode": "lines",
         "type": "scatter3d",
         "x": [
          0.9485324130365435,
          0.12705559846928383,
          null
         ],
         "y": [
          0.2356793768003087,
          0.9295935696226497,
          null
         ],
         "z": [
          0.5170673640919804,
          0.08932677785912801,
          null
         ]
        },
        {
         "hoverinfo": "none",
         "line": {
          "color": "rgb(255, 0, 0)",
          "width": 3.01061320754717
         },
         "mode": "lines",
         "type": "scatter3d",
         "x": [
          0.9485324130365435,
          0.9383998934077977,
          null
         ],
         "y": [
          0.2356793768003087,
          0.32532543746089326,
          null
         ],
         "z": [
          0.5170673640919804,
          0.019471899465971276,
          null
         ]
        },
        {
         "hoverinfo": "none",
         "line": {
          "color": "rgb(0, 0, 255)",
          "width": 3.0035377358490565
         },
         "mode": "lines",
         "type": "scatter3d",
         "x": [
          0.9485324130365435,
          0.5149416782322986,
          null
         ],
         "y": [
          0.2356793768003087,
          0.9889810900996732,
          null
         ],
         "z": [
          0.5170673640919804,
          0.1770483821901393,
          null
         ]
        },
        {
         "hoverinfo": "none",
         "line": {
          "color": "rgb(162, 0, 92)",
          "width": 3.0707547169811322
         },
         "mode": "lines",
         "type": "scatter3d",
         "x": [
          0.5149416782322986,
          0.07306528718544647,
          null
         ],
         "y": [
          0.9889810900996732,
          0.16037298994551585,
          null
         ],
         "z": [
          0.1770483821901393,
          0.5202388383952486,
          null
         ]
        },
        {
         "hoverinfo": "none",
         "line": {
          "color": "rgb(223, 0, 31)",
          "width": 3.1733490566037736
         },
         "mode": "lines",
         "type": "scatter3d",
         "x": [
          0.5149416782322986,
          0.7646315870920991,
          null
         ],
         "y": [
          0.9889810900996732,
          0.994121002249538,
          null
         ],
         "z": [
          0.1770483821901393,
          0.05241069186266445,
          null
         ]
        },
        {
         "hoverinfo": "none",
         "line": {
          "color": "rgb(212, 0, 42)",
          "width": 3.063679245283019
         },
         "mode": "lines",
         "type": "scatter3d",
         "x": [
          0.5149416782322986,
          0.14123353972115282,
          null
         ],
         "y": [
          0.9889810900996732,
          0.9501974615175286,
          null
         ],
         "z": [
          0.1770483821901393,
          0.3762295887850666,
          null
         ]
        },
        {
         "hoverinfo": "none",
         "line": {
          "color": "rgb(191, 0, 63)",
          "width": 3.0318396226415096
         },
         "mode": "lines",
         "type": "scatter3d",
         "x": [
          0.5149416782322986,
          0.4462581925357012,
          null
         ],
         "y": [
          0.9889810900996732,
          0.7092664124004832,
          null
         ],
         "z": [
          0.1770483821901393,
          0.9555305966584261,
          null
         ]
        },
        {
         "hoverinfo": "none",
         "line": {
          "color": "rgb(191, 0, 63)",
          "width": 3.035377358490566
         },
         "mode": "lines",
         "type": "scatter3d",
         "x": [
          0.5149416782322986,
          0.8259862363808627,
          null
         ],
         "y": [
          0.9889810900996732,
          0.2111471902124571,
          null
         ],
         "z": [
          0.1770483821901393,
          0.7665621089368317,
          null
         ]
        },
        {
         "hoverinfo": "none",
         "line": {
          "color": "rgb(139, 0, 115)",
          "width": 3.0495283018867925
         },
         "mode": "lines",
         "type": "scatter3d",
         "x": [
          0.5149416782322986,
          0.7181376075456939,
          null
         ],
         "y": [
          0.9889810900996732,
          0.6349186313634798,
          null
         ],
         "z": [
          0.1770483821901393,
          0.7180178907161859,
          null
         ]
        },
        {
         "hoverinfo": "none",
         "line": {
          "color": "rgb(176, 0, 78)",
          "width": 3.081367924528302
         },
         "mode": "lines",
         "type": "scatter3d",
         "x": [
          0.5149416782322986,
          0.2756674478584026,
          null
         ],
         "y": [
          0.9889810900996732,
          0.27963968524651295,
          null
         ],
         "z": [
          0.1770483821901393,
          0.37179483267150526,
          null
         ]
        },
        {
         "hoverinfo": "none",
         "line": {
          "color": "rgb(223, 0, 31)",
          "width": 3.0318396226415096
         },
         "mode": "lines",
         "type": "scatter3d",
         "x": [
          0.5149416782322986,
          0.2569820810932313,
          null
         ],
         "y": [
          0.9889810900996732,
          0.3569046374818059,
          null
         ],
         "z": [
          0.1770483821901393,
          0.09497509414440564,
          null
         ]
        },
        {
         "hoverinfo": "none",
         "line": {
          "color": "rgb(170, 0, 85)",
          "width": 3.081367924528302
         },
         "mode": "lines",
         "type": "scatter3d",
         "x": [
          0.5149416782322986,
          0.4403944332224933,
          null
         ],
         "y": [
          0.9889810900996732,
          0.31363312554250466,
          null
         ],
         "z": [
          0.1770483821901393,
          0.9346959222567455,
          null
         ]
        },
        {
         "hoverinfo": "none",
         "line": {
          "color": "rgb(186, 0, 68)",
          "width": 3.1662735849056602
         },
         "mode": "lines",
         "type": "scatter3d",
         "x": [
          0.5149416782322986,
          0.08632051731650314,
          null
         ],
         "y": [
          0.9889810900996732,
          0.13318489045889448,
          null
         ],
         "z": [
          0.1770483821901393,
          0.27123394161463943,
          null
         ]
        },
        {
         "hoverinfo": "none",
         "line": {
          "color": "rgb(127, 0, 127)",
          "width": 3.01061320754717
         },
         "mode": "lines",
         "type": "scatter3d",
         "x": [
          0.5149416782322986,
          0.12705559846928383,
          null
         ],
         "y": [
          0.9889810900996732,
          0.9295935696226497,
          null
         ],
         "z": [
          0.1770483821901393,
          0.08932677785912801,
          null
         ]
        },
        {
         "hoverinfo": "none",
         "line": {
          "color": "rgb(255, 0, 0)",
          "width": 3.0035377358490565
         },
         "mode": "lines",
         "type": "scatter3d",
         "x": [
          0.5149416782322986,
          0.16705182778560246,
          null
         ],
         "y": [
          0.9889810900996732,
          0.2397375514499933,
          null
         ],
         "z": [
          0.1770483821901393,
          0.5718158908671802,
          null
         ]
        },
        {
         "hoverinfo": "none",
         "line": {
          "color": "rgb(255, 0, 0)",
          "width": 3.017688679245283
         },
         "mode": "lines",
         "type": "scatter3d",
         "x": [
          0.5149416782322986,
          0.7279986433760837,
          null
         ],
         "y": [
          0.9889810900996732,
          0.450788086644763,
          null
         ],
         "z": [
          0.1770483821901393,
          0.05386504773569423,
          null
         ]
        },
        {
         "hoverinfo": "none",
         "line": {
          "color": "rgb(127, 0, 127)",
          "width": 3.0672169811320753
         },
         "mode": "lines",
         "type": "scatter3d",
         "x": [
          0.5149416782322986,
          0.1843388531439707,
          null
         ],
         "y": [
          0.9889810900996732,
          0.9569094209645336,
          null
         ],
         "z": [
          0.1770483821901393,
          0.7357815843661885,
          null
         ]
        },
        {
         "hoverinfo": "none",
         "line": {
          "color": "rgb(187, 0, 68)",
          "width": 3.088443396226415
         },
         "mode": "lines",
         "type": "scatter3d",
         "x": [
          0.5149416782322986,
          0.3995002317579539,
          null
         ],
         "y": [
          0.9889810900996732,
          0.15319802031102225,
          null
         ],
         "z": [
          0.1770483821901393,
          0.7598240496011175,
          null
         ]
        },
        {
         "hoverinfo": "none",
         "line": {
          "color": "rgb(255, 0, 0)",
          "width": 3.0283018867924527
         },
         "mode": "lines",
         "type": "scatter3d",
         "x": [
          0.5149416782322986,
          0.6056962931843748,
          null
         ],
         "y": [
          0.9889810900996732,
          0.5916687419408222,
          null
         ],
         "z": [
          0.1770483821901393,
          0.44956743391166354,
          null
         ]
        },
        {
         "hoverinfo": "none",
         "line": {
          "color": "rgb(127, 0, 127)",
          "width": 3.0070754716981134
         },
         "mode": "lines",
         "type": "scatter3d",
         "x": [
          0.5149416782322986,
          0.5159810544350291,
          null
         ],
         "y": [
          0.9889810900996732,
          0.4963718910483257,
          null
         ],
         "z": [
          0.1770483821901393,
          0.23162234647955315,
          null
         ]
        },
        {
         "hoverinfo": "none",
         "line": {
          "color": "rgb(216, 0, 38)",
          "width": 6.619103773584905
         },
         "mode": "lines",
         "type": "scatter3d",
         "x": [
          0.6056962931843748,
          0.08632051731650314,
          null
         ],
         "y": [
          0.5916687419408222,
          0.13318489045889448,
          null
         ],
         "z": [
          0.44956743391166354,
          0.27123394161463943,
          null
         ]
        },
        {
         "hoverinfo": "none",
         "line": {
          "color": "rgb(192, 0, 62)",
          "width": 3.3431603773584904
         },
         "mode": "lines",
         "type": "scatter3d",
         "x": [
          0.6056962931843748,
          0.7279986433760837,
          null
         ],
         "y": [
          0.5916687419408222,
          0.450788086644763,
          null
         ],
         "z": [
          0.44956743391166354,
          0.05386504773569423,
          null
         ]
        },
        {
         "hoverinfo": "none",
         "line": {
          "color": "rgb(151, 0, 103)",
          "width": 3.357311320754717
         },
         "mode": "lines",
         "type": "scatter3d",
         "x": [
          0.6056962931843748,
          0.4462581925357012,
          null
         ],
         "y": [
          0.5916687419408222,
          0.7092664124004832,
          null
         ],
         "z": [
          0.44956743391166354,
          0.9555305966584261,
          null
         ]
        },
        {
         "hoverinfo": "none",
         "line": {
          "color": "rgb(129, 0, 125)",
          "width": 3.4033018867924527
         },
         "mode": "lines",
         "type": "scatter3d",
         "x": [
          0.6056962931843748,
          0.7181376075456939,
          null
         ],
         "y": [
          0.5916687419408222,
          0.6349186313634798,
          null
         ],
         "z": [
          0.44956743391166354,
          0.7180178907161859,
          null
         ]
        },
        {
         "hoverinfo": "none",
         "line": {
          "color": "rgb(165, 0, 89)",
          "width": 3.7464622641509435
         },
         "mode": "lines",
         "type": "scatter3d",
         "x": [
          0.6056962931843748,
          0.07306528718544647,
          null
         ],
         "y": [
          0.5916687419408222,
          0.16037298994551585,
          null
         ],
         "z": [
          0.44956743391166354,
          0.5202388383952486,
          null
         ]
        },
        {
         "hoverinfo": "none",
         "line": {
          "color": "rgb(177, 0, 77)",
          "width": 3.3608490566037736
         },
         "mode": "lines",
         "type": "scatter3d",
         "x": [
          0.6056962931843748,
          0.8259862363808627,
          null
         ],
         "y": [
          0.5916687419408222,
          0.2111471902124571,
          null
         ],
         "z": [
          0.44956743391166354,
          0.7665621089368317,
          null
         ]
        },
        {
         "hoverinfo": "none",
         "line": {
          "color": "rgb(174, 0, 80)",
          "width": 3.4492924528301887
         },
         "mode": "lines",
         "type": "scatter3d",
         "x": [
          0.6056962931843748,
          0.1843388531439707,
          null
         ],
         "y": [
          0.5916687419408222,
          0.9569094209645336,
          null
         ],
         "z": [
          0.44956743391166354,
          0.7357815843661885,
          null
         ]
        },
        {
         "hoverinfo": "none",
         "line": {
          "color": "rgb(143, 0, 111)",
          "width": 3.73938679245283
         },
         "mode": "lines",
         "type": "scatter3d",
         "x": [
          0.6056962931843748,
          0.14123353972115282,
          null
         ],
         "y": [
          0.5916687419408222,
          0.9501974615175286,
          null
         ],
         "z": [
          0.44956743391166354,
          0.3762295887850666,
          null
         ]
        },
        {
         "hoverinfo": "none",
         "line": {
          "color": "rgb(156, 0, 99)",
          "width": 3.5412735849056602
         },
         "mode": "lines",
         "type": "scatter3d",
         "x": [
          0.6056962931843748,
          0.7646315870920991,
          null
         ],
         "y": [
          0.5916687419408222,
          0.994121002249538,
          null
         ],
         "z": [
          0.44956743391166354,
          0.05241069186266445,
          null
         ]
        },
        {
         "hoverinfo": "none",
         "line": {
          "color": "rgb(176, 0, 78)",
          "width": 3.3679245283018866
         },
         "mode": "lines",
         "type": "scatter3d",
         "x": [
          0.6056962931843748,
          0.2569820810932313,
          null
         ],
         "y": [
          0.5916687419408222,
          0.3569046374818059,
          null
         ],
         "z": [
          0.44956743391166354,
          0.09497509414440564,
          null
         ]
        },
        {
         "hoverinfo": "none",
         "line": {
          "color": "rgb(201, 0, 53)",
          "width": 3.3007075471698113
         },
         "mode": "lines",
         "type": "scatter3d",
         "x": [
          0.6056962931843748,
          0.4403944332224933,
          null
         ],
         "y": [
          0.5916687419408222,
          0.31363312554250466,
          null
         ],
         "z": [
          0.44956743391166354,
          0.9346959222567455,
          null
         ]
        },
        {
         "hoverinfo": "none",
         "line": {
          "color": "rgb(143, 0, 111)",
          "width": 3.375
         },
         "mode": "lines",
         "type": "scatter3d",
         "x": [
          0.6056962931843748,
          0.3995002317579539,
          null
         ],
         "y": [
          0.5916687419408222,
          0.15319802031102225,
          null
         ],
         "z": [
          0.44956743391166354,
          0.7598240496011175,
          null
         ]
        },
        {
         "hoverinfo": "none",
         "line": {
          "color": "rgb(173, 0, 81)",
          "width": 3.544811320754717
         },
         "mode": "lines",
         "type": "scatter3d",
         "x": [
          0.6056962931843748,
          0.2756674478584026,
          null
         ],
         "y": [
          0.5916687419408222,
          0.27963968524651295,
          null
         ],
         "z": [
          0.44956743391166354,
          0.37179483267150526,
          null
         ]
        },
        {
         "hoverinfo": "none",
         "line": {
          "color": "rgb(185, 0, 69)",
          "width": 3.0601415094339623
         },
         "mode": "lines",
         "type": "scatter3d",
         "x": [
          0.6056962931843748,
          0.5159810544350291,
          null
         ],
         "y": [
          0.5916687419408222,
          0.4963718910483257,
          null
         ],
         "z": [
          0.44956743391166354,
          0.23162234647955315,
          null
         ]
        },
        {
         "hoverinfo": "none",
         "line": {
          "color": "rgb(255, 0, 0)",
          "width": 3.045990566037736
         },
         "mode": "lines",
         "type": "scatter3d",
         "x": [
          0.6056962931843748,
          0.9383998934077977,
          null
         ],
         "y": [
          0.5916687419408222,
          0.32532543746089326,
          null
         ],
         "z": [
          0.44956743391166354,
          0.019471899465971276,
          null
         ]
        },
        {
         "hoverinfo": "none",
         "line": {
          "color": "rgb(170, 0, 85)",
          "width": 3.045990566037736
         },
         "mode": "lines",
         "type": "scatter3d",
         "x": [
          0.6056962931843748,
          0.16705182778560246,
          null
         ],
         "y": [
          0.5916687419408222,
          0.2397375514499933,
          null
         ],
         "z": [
          0.44956743391166354,
          0.5718158908671802,
          null
         ]
        },
        {
         "hoverinfo": "none",
         "line": {
          "color": "rgb(127, 0, 127)",
          "width": 3.0035377358490565
         },
         "mode": "lines",
         "type": "scatter3d",
         "x": [
          0.6056962931843748,
          0.12705559846928383,
          null
         ],
         "y": [
          0.5916687419408222,
          0.9295935696226497,
          null
         ],
         "z": [
          0.44956743391166354,
          0.08932677785912801,
          null
         ]
        },
        {
         "hoverinfo": "none",
         "line": {
          "color": "rgb(153, 0, 102)",
          "width": 3.0955188679245285
         },
         "mode": "lines",
         "type": "scatter3d",
         "x": [
          0.16705182778560246,
          0.7646315870920991,
          null
         ],
         "y": [
          0.2397375514499933,
          0.994121002249538,
          null
         ],
         "z": [
          0.5718158908671802,
          0.05241069186266445,
          null
         ]
        },
        {
         "hoverinfo": "none",
         "line": {
          "color": "rgb(255, 0, 0)",
          "width": 3.045990566037736
         },
         "mode": "lines",
         "type": "scatter3d",
         "x": [
          0.16705182778560246,
          0.7181376075456939,
          null
         ],
         "y": [
          0.2397375514499933,
          0.6349186313634798,
          null
         ],
         "z": [
          0.5718158908671802,
          0.7180178907161859,
          null
         ]
        },
        {
         "hoverinfo": "none",
         "line": {
          "color": "rgb(191, 0, 63)",
          "width": 3.0707547169811322
         },
         "mode": "lines",
         "type": "scatter3d",
         "x": [
          0.16705182778560246,
          0.4462581925357012,
          null
         ],
         "y": [
          0.2397375514499933,
          0.7092664124004832,
          null
         ],
         "z": [
          0.5718158908671802,
          0.9555305966584261,
          null
         ]
        },
        {
         "hoverinfo": "none",
         "line": {
          "color": "rgb(156, 0, 98)",
          "width": 3.109669811320755
         },
         "mode": "lines",
         "type": "scatter3d",
         "x": [
          0.16705182778560246,
          0.14123353972115282,
          null
         ],
         "y": [
          0.2397375514499933,
          0.9501974615175286,
          null
         ],
         "z": [
          0.5718158908671802,
          0.3762295887850666,
          null
         ]
        },
        {
         "hoverinfo": "none",
         "line": {
          "color": "rgb(176, 0, 78)",
          "width": 3.0955188679245285
         },
         "mode": "lines",
         "type": "scatter3d",
         "x": [
          0.16705182778560246,
          0.2756674478584026,
          null
         ],
         "y": [
          0.2397375514499933,
          0.27963968524651295,
          null
         ],
         "z": [
          0.5718158908671802,
          0.37179483267150526,
          null
         ]
        },
        {
         "hoverinfo": "none",
         "line": {
          "color": "rgb(196, 0, 58)",
          "width": 3.077830188679245
         },
         "mode": "lines",
         "type": "scatter3d",
         "x": [
          0.16705182778560246,
          0.08632051731650314,
          null
         ],
         "y": [
          0.2397375514499933,
          0.13318489045889448,
          null
         ],
         "z": [
          0.5718158908671802,
          0.27123394161463943,
          null
         ]
        },
        {
         "hoverinfo": "none",
         "line": {
          "color": "rgb(204, 0, 51)",
          "width": 3.0212264150943398
         },
         "mode": "lines",
         "type": "scatter3d",
         "x": [
          0.16705182778560246,
          0.2569820810932313,
          null
         ],
         "y": [
          0.2397375514499933,
          0.3569046374818059,
          null
         ],
         "z": [
          0.5718158908671802,
          0.09497509414440564,
          null
         ]
        },
        {
         "hoverinfo": "none",
         "line": {
          "color": "rgb(170, 0, 85)",
          "width": 3.045990566037736
         },
         "mode": "lines",
         "type": "scatter3d",
         "x": [
          0.16705182778560246,
          0.07306528718544647,
          null
         ],
         "y": [
          0.2397375514499933,
          0.16037298994551585,
          null
         ],
         "z": [
          0.5718158908671802,
          0.5202388383952486,
          null
         ]
        },
        {
         "hoverinfo": "none",
         "line": {
          "color": "rgb(0, 0, 255)",
          "width": 3.0247641509433962
         },
         "mode": "lines",
         "type": "scatter3d",
         "x": [
          0.16705182778560246,
          0.4403944332224933,
          null
         ],
         "y": [
          0.2397375514499933,
          0.31363312554250466,
          null
         ],
         "z": [
          0.5718158908671802,
          0.9346959222567455,
          null
         ]
        },
        {
         "hoverinfo": "none",
         "line": {
          "color": "rgb(255, 0, 0)",
          "width": 3.0283018867924527
         },
         "mode": "lines",
         "type": "scatter3d",
         "x": [
          0.16705182778560246,
          0.5159810544350291,
          null
         ],
         "y": [
          0.2397375514499933,
          0.4963718910483257,
          null
         ],
         "z": [
          0.5718158908671802,
          0.23162234647955315,
          null
         ]
        },
        {
         "hoverinfo": "none",
         "line": {
          "color": "rgb(255, 0, 0)",
          "width": 3.0318396226415096
         },
         "mode": "lines",
         "type": "scatter3d",
         "x": [
          0.16705182778560246,
          0.1843388531439707,
          null
         ],
         "y": [
          0.2397375514499933,
          0.9569094209645336,
          null
         ],
         "z": [
          0.5718158908671802,
          0.7357815843661885,
          null
         ]
        },
        {
         "hoverinfo": "none",
         "line": {
          "color": "rgb(102, 0, 153)",
          "width": 3.0389150943396226
         },
         "mode": "lines",
         "type": "scatter3d",
         "x": [
          0.16705182778560246,
          0.3995002317579539,
          null
         ],
         "y": [
          0.2397375514499933,
          0.15319802031102225,
          null
         ],
         "z": [
          0.5718158908671802,
          0.7598240496011175,
          null
         ]
        },
        {
         "hoverinfo": "none",
         "line": {
          "color": "rgb(255, 0, 0)",
          "width": 3
         },
         "mode": "lines",
         "type": "scatter3d",
         "x": [
          0.16705182778560246,
          0.7279986433760837,
          null
         ],
         "y": [
          0.2397375514499933,
          0.450788086644763,
          null
         ],
         "z": [
          0.5718158908671802,
          0.05386504773569423,
          null
         ]
        },
        {
         "hoverinfo": "none",
         "line": {
          "color": "rgb(0, 0, 255)",
          "width": 3
         },
         "mode": "lines",
         "type": "scatter3d",
         "x": [
          0.16705182778560246,
          0.9383998934077977,
          null
         ],
         "y": [
          0.2397375514499933,
          0.32532543746089326,
          null
         ],
         "z": [
          0.5718158908671802,
          0.019471899465971276,
          null
         ]
        },
        {
         "hoverinfo": "none",
         "line": {
          "color": "rgb(255, 0, 0)",
          "width": 3.0035377358490565
         },
         "mode": "lines",
         "type": "scatter3d",
         "x": [
          0.16705182778560246,
          0.8259862363808627,
          null
         ],
         "y": [
          0.2397375514499933,
          0.2111471902124571,
          null
         ],
         "z": [
          0.5718158908671802,
          0.7665621089368317,
          null
         ]
        },
        {
         "hoverinfo": "none",
         "line": {
          "color": "rgb(192, 0, 62)",
          "width": 6.02122641509434
         },
         "mode": "lines",
         "type": "scatter3d",
         "x": [
          0.3995002317579539,
          0.7646315870920991,
          null
         ],
         "y": [
          0.15319802031102225,
          0.994121002249538,
          null
         ],
         "z": [
          0.7598240496011175,
          0.05241069186266445,
          null
         ]
        },
        {
         "hoverinfo": "none",
         "line": {
          "color": "rgb(172, 0, 82)",
          "width": 3.1804245283018866
         },
         "mode": "lines",
         "type": "scatter3d",
         "x": [
          0.3995002317579539,
          0.8259862363808627,
          null
         ],
         "y": [
          0.15319802031102225,
          0.2111471902124571,
          null
         ],
         "z": [
          0.7598240496011175,
          0.7665621089368317,
          null
         ]
        },
        {
         "hoverinfo": "none",
         "line": {
          "color": "rgb(212, 0, 42)",
          "width": 3.474056603773585
         },
         "mode": "lines",
         "type": "scatter3d",
         "x": [
          0.3995002317579539,
          0.08632051731650314,
          null
         ],
         "y": [
          0.15319802031102225,
          0.13318489045889448,
          null
         ],
         "z": [
          0.7598240496011175,
          0.27123394161463943,
          null
         ]
        },
        {
         "hoverinfo": "none",
         "line": {
          "color": "rgb(187, 0, 67)",
          "width": 3.8808962264150946
         },
         "mode": "lines",
         "type": "scatter3d",
         "x": [
          0.3995002317579539,
          0.4462581925357012,
          null
         ],
         "y": [
          0.15319802031102225,
          0.7092664124004832,
          null
         ],
         "z": [
          0.7598240496011175,
          0.9555305966584261,
          null
         ]
        },
        {
         "hoverinfo": "none",
         "line": {
          "color": "rgb(186, 0, 68)",
          "width": 3.6933962264150946
         },
         "mode": "lines",
         "type": "scatter3d",
         "x": [
          0.3995002317579539,
          0.07306528718544647,
          null
         ],
         "y": [
          0.15319802031102225,
          0.16037298994551585,
          null
         ],
         "z": [
          0.7598240496011175,
          0.5202388383952486,
          null
         ]
        },
        {
         "hoverinfo": "none",
         "line": {
          "color": "rgb(170, 0, 85)",
          "width": 4.6450471698113205
         },
         "mode": "lines",
         "type": "scatter3d",
         "x": [
          0.3995002317579539,
          0.2756674478584026,
          null
         ],
         "y": [
          0.15319802031102225,
          0.27963968524651295,
          null
         ],
         "z": [
          0.7598240496011175,
          0.37179483267150526,
          null
         ]
        },
        {
         "hoverinfo": "none",
         "line": {
          "color": "rgb(176, 0, 78)",
          "width": 3.3360849056603774
         },
         "mode": "lines",
         "type": "scatter3d",
         "x": [
          0.3995002317579539,
          0.4403944332224933,
          null
         ],
         "y": [
          0.15319802031102225,
          0.31363312554250466,
          null
         ],
         "z": [
          0.7598240496011175,
          0.9346959222567455,
          null
         ]
        },
        {
         "hoverinfo": "none",
         "line": {
          "color": "rgb(167, 0, 87)",
          "width": 4.5
         },
         "mode": "lines",
         "type": "scatter3d",
         "x": [
          0.3995002317579539,
          0.14123353972115282,
          null
         ],
         "y": [
          0.15319802031102225,
          0.9501974615175286,
          null
         ],
         "z": [
          0.7598240496011175,
          0.3762295887850666,
          null
         ]
        },
        {
         "hoverinfo": "none",
         "line": {
          "color": "rgb(183, 0, 71)",
          "width": 3.555424528301887
         },
         "mode": "lines",
         "type": "scatter3d",
         "x": [
          0.3995002317579539,
          0.7181376075456939,
          null
         ],
         "y": [
          0.15319802031102225,
          0.6349186313634798,
          null
         ],
         "z": [
          0.7598240496011175,
          0.7180178907161859,
          null
         ]
        },
        {
         "hoverinfo": "none",
         "line": {
          "color": "rgb(255, 0, 0)",
          "width": 3.106132075471698
         },
         "mode": "lines",
         "type": "scatter3d",
         "x": [
          0.3995002317579539,
          0.5159810544350291,
          null
         ],
         "y": [
          0.15319802031102225,
          0.4963718910483257,
          null
         ],
         "z": [
          0.7598240496011175,
          0.23162234647955315,
          null
         ]
        },
        {
         "hoverinfo": "none",
         "line": {
          "color": "rgb(164, 0, 90)",
          "width": 3.2370283018867925
         },
         "mode": "lines",
         "type": "scatter3d",
         "x": [
          0.3995002317579539,
          0.1843388531439707,
          null
         ],
         "y": [
          0.15319802031102225,
          0.9569094209645336,
          null
         ],
         "z": [
          0.7598240496011175,
          0.7357815843661885,
          null
         ]
        },
        {
         "hoverinfo": "none",
         "line": {
          "color": "rgb(175, 0, 79)",
          "width": 3.2547169811320753
         },
         "mode": "lines",
         "type": "scatter3d",
         "x": [
          0.3995002317579539,
          0.2569820810932313,
          null
         ],
         "y": [
          0.15319802031102225,
          0.3569046374818059,
          null
         ],
         "z": [
          0.7598240496011175,
          0.09497509414440564,
          null
         ]
        },
        {
         "hoverinfo": "none",
         "line": {
          "color": "rgb(201, 0, 53)",
          "width": 3.2087264150943398
         },
         "mode": "lines",
         "type": "scatter3d",
         "x": [
          0.3995002317579539,
          0.7279986433760837,
          null
         ],
         "y": [
          0.15319802031102225,
          0.450788086644763,
          null
         ],
         "z": [
          0.7598240496011175,
          0.05386504773569423,
          null
         ]
        },
        {
         "hoverinfo": "none",
         "line": {
          "color": "rgb(182, 0, 72)",
          "width": 3.0389150943396226
         },
         "mode": "lines",
         "type": "scatter3d",
         "x": [
          0.3995002317579539,
          0.9383998934077977,
          null
         ],
         "y": [
          0.15319802031102225,
          0.32532543746089326,
          null
         ],
         "z": [
          0.7598240496011175,
          0.019471899465971276,
          null
         ]
        },
        {
         "hoverinfo": "none",
         "line": {
          "color": "rgb(204, 0, 51)",
          "width": 3.056603773584906
         },
         "mode": "lines",
         "type": "scatter3d",
         "x": [
          0.3995002317579539,
          0.12705559846928383,
          null
         ],
         "y": [
          0.15319802031102225,
          0.9295935696226497,
          null
         ],
         "z": [
          0.7598240496011175,
          0.08932677785912801,
          null
         ]
        },
        {
         "hoverinfo": "none",
         "line": {
          "color": "rgb(187, 0, 68)",
          "width": 3.3502358490566038
         },
         "mode": "lines",
         "type": "scatter3d",
         "x": [
          0.4462581925357012,
          0.5159810544350291,
          null
         ],
         "y": [
          0.7092664124004832,
          0.4963718910483257,
          null
         ],
         "z": [
          0.9555305966584261,
          0.23162234647955315,
          null
         ]
        },
        {
         "hoverinfo": "none",
         "line": {
          "color": "rgb(191, 0, 63)",
          "width": 8.04127358490566
         },
         "mode": "lines",
         "type": "scatter3d",
         "x": [
          0.4462581925357012,
          0.7646315870920991,
          null
         ],
         "y": [
          0.7092664124004832,
          0.994121002249538,
          null
         ],
         "z": [
          0.9555305966584261,
          0.05241069186266445,
          null
         ]
        },
        {
         "hoverinfo": "none",
         "line": {
          "color": "rgb(181, 0, 73)",
          "width": 3.8632075471698113
         },
         "mode": "lines",
         "type": "scatter3d",
         "x": [
          0.4462581925357012,
          0.7181376075456939,
          null
         ],
         "y": [
          0.7092664124004832,
          0.6349186313634798,
          null
         ],
         "z": [
          0.9555305966584261,
          0.7180178907161859,
          null
         ]
        },
        {
         "hoverinfo": "none",
         "line": {
          "color": "rgb(185, 0, 69)",
          "width": 4.100235849056604
         },
         "mode": "lines",
         "type": "scatter3d",
         "x": [
          0.4462581925357012,
          0.07306528718544647,
          null
         ],
         "y": [
          0.7092664124004832,
          0.16037298994551585,
          null
         ],
         "z": [
          0.9555305966584261,
          0.5202388383952486,
          null
         ]
        },
        {
         "hoverinfo": "none",
         "line": {
          "color": "rgb(182, 0, 72)",
          "width": 4.036556603773585
         },
         "mode": "lines",
         "type": "scatter3d",
         "x": [
          0.4462581925357012,
          0.2756674478584026,
          null
         ],
         "y": [
          0.7092664124004832,
          0.27963968524651295,
          null
         ],
         "z": [
          0.9555305966584261,
          0.37179483267150526,
          null
         ]
        },
        {
         "hoverinfo": "none",
         "line": {
          "color": "rgb(205, 0, 49)",
          "width": 3.919811320754717
         },
         "mode": "lines",
         "type": "scatter3d",
         "x": [
          0.4462581925357012,
          0.08632051731650314,
          null
         ],
         "y": [
          0.7092664124004832,
          0.13318489045889448,
          null
         ],
         "z": [
          0.9555305966584261,
          0.27123394161463943,
          null
         ]
        },
        {
         "hoverinfo": "none",
         "line": {
          "color": "rgb(213, 0, 41)",
          "width": 4.033018867924528
         },
         "mode": "lines",
         "type": "scatter3d",
         "x": [
          0.4462581925357012,
          0.2569820810932313,
          null
         ],
         "y": [
          0.7092664124004832,
          0.3569046374818059,
          null
         ],
         "z": [
          0.9555305966584261,
          0.09497509414440564,
          null
         ]
        },
        {
         "hoverinfo": "none",
         "line": {
          "color": "rgb(127, 0, 127)",
          "width": 3.0495283018867925
         },
         "mode": "lines",
         "type": "scatter3d",
         "x": [
          0.4462581925357012,
          0.12705559846928383,
          null
         ],
         "y": [
          0.7092664124004832,
          0.9295935696226497,
          null
         ],
         "z": [
          0.9555305966584261,
          0.08932677785912801,
          null
         ]
        },
        {
         "hoverinfo": "none",
         "line": {
          "color": "rgb(194, 0, 60)",
          "width": 6.7040094339622645
         },
         "mode": "lines",
         "type": "scatter3d",
         "x": [
          0.4462581925357012,
          0.14123353972115282,
          null
         ],
         "y": [
          0.7092664124004832,
          0.9501974615175286,
          null
         ],
         "z": [
          0.9555305966584261,
          0.3762295887850666,
          null
         ]
        },
        {
         "hoverinfo": "none",
         "line": {
          "color": "rgb(207, 0, 47)",
          "width": 3.3431603773584904
         },
         "mode": "lines",
         "type": "scatter3d",
         "x": [
          0.4462581925357012,
          0.4403944332224933,
          null
         ],
         "y": [
          0.7092664124004832,
          0.31363312554250466,
          null
         ],
         "z": [
          0.9555305966584261,
          0.9346959222567455,
          null
         ]
        },
        {
         "hoverinfo": "none",
         "line": {
          "color": "rgb(154, 0, 100)",
          "width": 3.463443396226415
         },
         "mode": "lines",
         "type": "scatter3d",
         "x": [
          0.4462581925357012,
          0.1843388531439707,
          null
         ],
         "y": [
          0.7092664124004832,
          0.9569094209645336,
          null
         ],
         "z": [
          0.9555305966584261,
          0.7357815843661885,
          null
         ]
        },
        {
         "hoverinfo": "none",
         "line": {
          "color": "rgb(179, 0, 75)",
          "width": 3.481132075471698
         },
         "mode": "lines",
         "type": "scatter3d",
         "x": [
          0.4462581925357012,
          0.8259862363808627,
          null
         ],
         "y": [
          0.7092664124004832,
          0.2111471902124571,
          null
         ],
         "z": [
          0.9555305966584261,
          0.7665621089368317,
          null
         ]
        },
        {
         "hoverinfo": "none",
         "line": {
          "color": "rgb(220, 0, 34)",
          "width": 3.1733490566037736
         },
         "mode": "lines",
         "type": "scatter3d",
         "x": [
          0.4462581925357012,
          0.7279986433760837,
          null
         ],
         "y": [
          0.7092664124004832,
          0.450788086644763,
          null
         ],
         "z": [
          0.9555305966584261,
          0.05386504773569423,
          null
         ]
        },
        {
         "hoverinfo": "none",
         "line": {
          "color": "rgb(161, 0, 93)",
          "width": 3.1202830188679247
         },
         "mode": "lines",
         "type": "scatter3d",
         "x": [
          0.4462581925357012,
          0.9383998934077977,
          null
         ],
         "y": [
          0.7092664124004832,
          0.32532543746089326,
          null
         ],
         "z": [
          0.9555305966584261,
          0.019471899465971276,
          null
         ]
        },
        {
         "hoverinfo": "none",
         "line": {
          "color": "rgb(168, 0, 86)",
          "width": 3.417452830188679
         },
         "mode": "lines",
         "type": "scatter3d",
         "x": [
          0.07306528718544647,
          0.7279986433760837,
          null
         ],
         "y": [
          0.16037298994551585,
          0.450788086644763,
          null
         ],
         "z": [
          0.5202388383952486,
          0.05386504773569423,
          null
         ]
        },
        {
         "hoverinfo": "none",
         "line": {
          "color": "rgb(191, 0, 63)",
          "width": 3.8985849056603774
         },
         "mode": "lines",
         "type": "scatter3d",
         "x": [
          0.07306528718544647,
          0.4403944332224933,
          null
         ],
         "y": [
          0.16037298994551585,
          0.31363312554250466,
          null
         ],
         "z": [
          0.5202388383952486,
          0.9346959222567455,
          null
         ]
        },
        {
         "hoverinfo": "none",
         "line": {
          "color": "rgb(177, 0, 77)",
          "width": 4.379716981132075
         },
         "mode": "lines",
         "type": "scatter3d",
         "x": [
          0.07306528718544647,
          0.14123353972115282,
          null
         ],
         "y": [
          0.16037298994551585,
          0.9501974615175286,
          null
         ],
         "z": [
          0.5202388383952486,
          0.3762295887850666,
          null
         ]
        },
        {
         "hoverinfo": "none",
         "line": {
          "color": "rgb(207, 0, 47)",
          "width": 4.117924528301887
         },
         "mode": "lines",
         "type": "scatter3d",
         "x": [
          0.07306528718544647,
          0.7181376075456939,
          null
         ],
         "y": [
          0.16037298994551585,
          0.6349186313634798,
          null
         ],
         "z": [
          0.5202388383952486,
          0.7180178907161859,
          null
         ]
        },
        {
         "hoverinfo": "none",
         "line": {
          "color": "rgb(177, 0, 77)",
          "width": 4.797169811320755
         },
         "mode": "lines",
         "type": "scatter3d",
         "x": [
          0.07306528718544647,
          0.7646315870920991,
          null
         ],
         "y": [
          0.16037298994551585,
          0.994121002249538,
          null
         ],
         "z": [
          0.5202388383952486,
          0.05241069186266445,
          null
         ]
        },
        {
         "hoverinfo": "none",
         "line": {
          "color": "rgb(137, 0, 117)",
          "width": 3.063679245283019
         },
         "mode": "lines",
         "type": "scatter3d",
         "x": [
          0.07306528718544647,
          0.12705559846928383,
          null
         ],
         "y": [
          0.16037298994551585,
          0.9295935696226497,
          null
         ],
         "z": [
          0.5202388383952486,
          0.08932677785912801,
          null
         ]
        },
        {
         "hoverinfo": "none",
         "line": {
          "color": "rgb(170, 0, 85)",
          "width": 3.0707547169811322
         },
         "mode": "lines",
         "type": "scatter3d",
         "x": [
          0.07306528718544647,
          0.9383998934077977,
          null
         ],
         "y": [
          0.16037298994551585,
          0.32532543746089326,
          null
         ],
         "z": [
          0.5202388383952486,
          0.019471899465971276,
          null
         ]
        },
        {
         "hoverinfo": "none",
         "line": {
          "color": "rgb(207, 0, 47)",
          "width": 3.9658018867924527
         },
         "mode": "lines",
         "type": "scatter3d",
         "x": [
          0.07306528718544647,
          0.08632051731650314,
          null
         ],
         "y": [
          0.16037298994551585,
          0.13318489045889448,
          null
         ],
         "z": [
          0.5202388383952486,
          0.27123394161463943,
          null
         ]
        },
        {
         "hoverinfo": "none",
         "line": {
          "color": "rgb(159, 0, 96)",
          "width": 3.6297169811320753
         },
         "mode": "lines",
         "type": "scatter3d",
         "x": [
          0.07306528718544647,
          0.2756674478584026,
          null
         ],
         "y": [
          0.16037298994551585,
          0.27963968524651295,
          null
         ],
         "z": [
          0.5202388383952486,
          0.37179483267150526,
          null
         ]
        },
        {
         "hoverinfo": "none",
         "line": {
          "color": "rgb(188, 0, 66)",
          "width": 3.268867924528302
         },
         "mode": "lines",
         "type": "scatter3d",
         "x": [
          0.07306528718544647,
          0.5159810544350291,
          null
         ],
         "y": [
          0.16037298994551585,
          0.4963718910483257,
          null
         ],
         "z": [
          0.5202388383952486,
          0.23162234647955315,
          null
         ]
        },
        {
         "hoverinfo": "none",
         "line": {
          "color": "rgb(188, 0, 66)",
          "width": 3.55188679245283
         },
         "mode": "lines",
         "type": "scatter3d",
         "x": [
          0.07306528718544647,
          0.2569820810932313,
          null
         ],
         "y": [
          0.16037298994551585,
          0.3569046374818059,
          null
         ],
         "z": [
          0.5202388383952486,
          0.09497509414440564,
          null
         ]
        },
        {
         "hoverinfo": "none",
         "line": {
          "color": "rgb(195, 0, 59)",
          "width": 3.3183962264150946
         },
         "mode": "lines",
         "type": "scatter3d",
         "x": [
          0.07306528718544647,
          0.8259862363808627,
          null
         ],
         "y": [
          0.16037298994551585,
          0.2111471902124571,
          null
         ],
         "z": [
          0.5202388383952486,
          0.7665621089368317,
          null
         ]
        },
        {
         "hoverinfo": "none",
         "line": {
          "color": "rgb(190, 0, 64)",
          "width": 3.4952830188679247
         },
         "mode": "lines",
         "type": "scatter3d",
         "x": [
          0.07306528718544647,
          0.1843388531439707,
          null
         ],
         "y": [
          0.16037298994551585,
          0.9569094209645336,
          null
         ],
         "z": [
          0.5202388383952486,
          0.7357815843661885,
          null
         ]
        },
        {
         "hoverinfo": "none",
         "line": {
          "color": "rgb(179, 0, 75)",
          "width": 3.6191037735849054
         },
         "mode": "lines",
         "type": "scatter3d",
         "x": [
          0.08632051731650314,
          0.7279986433760837,
          null
         ],
         "y": [
          0.13318489045889448,
          0.450788086644763,
          null
         ],
         "z": [
          0.27123394161463943,
          0.05386504773569423,
          null
         ]
        },
        {
         "hoverinfo": "none",
         "line": {
          "color": "rgb(189, 0, 65)",
          "width": 3.7075471698113205
         },
         "mode": "lines",
         "type": "scatter3d",
         "x": [
          0.08632051731650314,
          0.4403944332224933,
          null
         ],
         "y": [
          0.13318489045889448,
          0.31363312554250466,
          null
         ],
         "z": [
          0.27123394161463943,
          0.9346959222567455,
          null
         ]
        },
        {
         "hoverinfo": "none",
         "line": {
          "color": "rgb(219, 0, 35)",
          "width": 7.591981132075472
         },
         "mode": "lines",
         "type": "scatter3d",
         "x": [
          0.08632051731650314,
          0.2569820810932313,
          null
         ],
         "y": [
          0.13318489045889448,
          0.3569046374818059,
          null
         ],
         "z": [
          0.27123394161463943,
          0.09497509414440564,
          null
         ]
        },
        {
         "hoverinfo": "none",
         "line": {
          "color": "rgb(199, 0, 55)",
          "width": 5.8620283018867925
         },
         "mode": "lines",
         "type": "scatter3d",
         "x": [
          0.08632051731650314,
          0.1843388531439707,
          null
         ],
         "y": [
          0.13318489045889448,
          0.9569094209645336,
          null
         ],
         "z": [
          0.27123394161463943,
          0.7357815843661885,
          null
         ]
        },
        {
         "hoverinfo": "none",
         "line": {
          "color": "rgb(185, 0, 70)",
          "width": 3.7252358490566038
         },
         "mode": "lines",
         "type": "scatter3d",
         "x": [
          0.08632051731650314,
          0.7646315870920991,
          null
         ],
         "y": [
          0.13318489045889448,
          0.994121002249538,
          null
         ],
         "z": [
          0.27123394161463943,
          0.05241069186266445,
          null
         ]
        },
        {
         "hoverinfo": "none",
         "line": {
          "color": "rgb(192, 0, 62)",
          "width": 3.7712264150943398
         },
         "mode": "lines",
         "type": "scatter3d",
         "x": [
          0.08632051731650314,
          0.2756674478584026,
          null
         ],
         "y": [
          0.13318489045889448,
          0.27963968524651295,
          null
         ],
         "z": [
          0.27123394161463943,
          0.37179483267150526,
          null
         ]
        },
        {
         "hoverinfo": "none",
         "line": {
          "color": "rgb(208, 0, 46)",
          "width": 5.136792452830189
         },
         "mode": "lines",
         "type": "scatter3d",
         "x": [
          0.08632051731650314,
          0.14123353972115282,
          null
         ],
         "y": [
          0.13318489045889448,
          0.9501974615175286,
          null
         ],
         "z": [
          0.27123394161463943,
          0.3762295887850666,
          null
         ]
        },
        {
         "hoverinfo": "none",
         "line": {
          "color": "rgb(221, 0, 33)",
          "width": 5.242924528301886
         },
         "mode": "lines",
         "type": "scatter3d",
         "x": [
          0.08632051731650314,
          0.8259862363808627,
          null
         ],
         "y": [
          0.13318489045889448,
          0.2111471902124571,
          null
         ],
         "z": [
          0.27123394161463943,
          0.7665621089368317,
          null
         ]
        },
        {
         "hoverinfo": "none",
         "line": {
          "color": "rgb(230, 0, 24)",
          "width": 3.106132075471698
         },
         "mode": "lines",
         "type": "scatter3d",
         "x": [
          0.08632051731650314,
          0.5159810544350291,
          null
         ],
         "y": [
          0.13318489045889448,
          0.4963718910483257,
          null
         ],
         "z": [
          0.27123394161463943,
          0.23162234647955315,
          null
         ]
        },
        {
         "hoverinfo": "none",
         "line": {
          "color": "rgb(193, 0, 61)",
          "width": 4.192216981132075
         },
         "mode": "lines",
         "type": "scatter3d",
         "x": [
          0.08632051731650314,
          0.7181376075456939,
          null
         ],
         "y": [
          0.13318489045889448,
          0.6349186313634798,
          null
         ],
         "z": [
          0.27123394161463943,
          0.7180178907161859,
          null
         ]
        },
        {
         "hoverinfo": "none",
         "line": {
          "color": "rgb(141, 0, 113)",
          "width": 3.152122641509434
         },
         "mode": "lines",
         "type": "scatter3d",
         "x": [
          0.08632051731650314,
          0.9383998934077977,
          null
         ],
         "y": [
          0.13318489045889448,
          0.32532543746089326,
          null
         ],
         "z": [
          0.27123394161463943,
          0.019471899465971276,
          null
         ]
        },
        {
         "hoverinfo": "none",
         "line": {
          "color": "rgb(191, 0, 63)",
          "width": 3.0318396226415096
         },
         "mode": "lines",
         "type": "scatter3d",
         "x": [
          0.08632051731650314,
          0.12705559846928383,
          null
         ],
         "y": [
          0.13318489045889448,
          0.9295935696226497,
          null
         ],
         "z": [
          0.27123394161463943,
          0.08932677785912801,
          null
         ]
        },
        {
         "hoverinfo": "none",
         "line": {
          "color": "rgb(170, 0, 85)",
          "width": 3.045990566037736
         },
         "mode": "lines",
         "type": "scatter3d",
         "x": [
          0.9383998934077977,
          0.4403944332224933,
          null
         ],
         "y": [
          0.32532543746089326,
          0.31363312554250466,
          null
         ],
         "z": [
          0.019471899465971276,
          0.9346959222567455,
          null
         ]
        },
        {
         "hoverinfo": "none",
         "line": {
          "color": "rgb(180, 0, 74)",
          "width": 3.152122641509434
         },
         "mode": "lines",
         "type": "scatter3d",
         "x": [
          0.9383998934077977,
          0.7646315870920991,
          null
         ],
         "y": [
          0.32532543746089326,
          0.994121002249538,
          null
         ],
         "z": [
          0.019471899465971276,
          0.05241069186266445,
          null
         ]
        },
        {
         "hoverinfo": "none",
         "line": {
          "color": "rgb(147, 0, 107)",
          "width": 3.145047169811321
         },
         "mode": "lines",
         "type": "scatter3d",
         "x": [
          0.9383998934077977,
          0.2756674478584026,
          null
         ],
         "y": [
          0.32532543746089326,
          0.27963968524651295,
          null
         ],
         "z": [
          0.019471899465971276,
          0.37179483267150526,
          null
         ]
        },
        {
         "hoverinfo": "none",
         "line": {
          "color": "rgb(191, 0, 63)",
          "width": 3.134433962264151
         },
         "mode": "lines",
         "type": "scatter3d",
         "x": [
          0.9383998934077977,
          0.1843388531439707,
          null
         ],
         "y": [
          0.32532543746089326,
          0.9569094209645336,
          null
         ],
         "z": [
          0.019471899465971276,
          0.7357815843661885,
          null
         ]
        },
        {
         "hoverinfo": "none",
         "line": {
          "color": "rgb(153, 0, 102)",
          "width": 3.0601415094339623
         },
         "mode": "lines",
         "type": "scatter3d",
         "x": [
          0.9383998934077977,
          0.2569820810932313,
          null
         ],
         "y": [
          0.32532543746089326,
          0.3569046374818059,
          null
         ],
         "z": [
          0.019471899465971276,
          0.09497509414440564,
          null
         ]
        },
        {
         "hoverinfo": "none",
         "line": {
          "color": "rgb(113, 0, 141)",
          "width": 3.053066037735849
         },
         "mode": "lines",
         "type": "scatter3d",
         "x": [
          0.9383998934077977,
          0.8259862363808627,
          null
         ],
         "y": [
          0.32532543746089326,
          0.2111471902124571,
          null
         ],
         "z": [
          0.019471899465971276,
          0.7665621089368317,
          null
         ]
        },
        {
         "hoverinfo": "none",
         "line": {
          "color": "rgb(143, 0, 111)",
          "width": 3.0955188679245285
         },
         "mode": "lines",
         "type": "scatter3d",
         "x": [
          0.9383998934077977,
          0.7181376075456939,
          null
         ],
         "y": [
          0.32532543746089326,
          0.6349186313634798,
          null
         ],
         "z": [
          0.019471899465971276,
          0.7180178907161859,
          null
         ]
        },
        {
         "hoverinfo": "none",
         "line": {
          "color": "rgb(148, 0, 106)",
          "width": 3.0742924528301887
         },
         "mode": "lines",
         "type": "scatter3d",
         "x": [
          0.9383998934077977,
          0.14123353972115282,
          null
         ],
         "y": [
          0.32532543746089326,
          0.9501974615175286,
          null
         ],
         "z": [
          0.019471899465971276,
          0.3762295887850666,
          null
         ]
        },
        {
         "hoverinfo": "none",
         "line": {
          "color": "rgb(102, 0, 153)",
          "width": 3.0212264150943398
         },
         "mode": "lines",
         "type": "scatter3d",
         "x": [
          0.9383998934077977,
          0.5159810544350291,
          null
         ],
         "y": [
          0.32532543746089326,
          0.4963718910483257,
          null
         ],
         "z": [
          0.019471899465971276,
          0.23162234647955315,
          null
         ]
        },
        {
         "hoverinfo": "none",
         "line": {
          "color": "rgb(255, 0, 0)",
          "width": 3.0141509433962264
         },
         "mode": "lines",
         "type": "scatter3d",
         "x": [
          0.9383998934077977,
          0.7279986433760837,
          null
         ],
         "y": [
          0.32532543746089326,
          0.450788086644763,
          null
         ],
         "z": [
          0.019471899465971276,
          0.05386504773569423,
          null
         ]
        },
        {
         "hoverinfo": "none",
         "line": {
          "color": "rgb(255, 0, 0)",
          "width": 3
         },
         "mode": "lines",
         "type": "scatter3d",
         "x": [
          0.9383998934077977,
          0.12705559846928383,
          null
         ],
         "y": [
          0.32532543746089326,
          0.9295935696226497,
          null
         ],
         "z": [
          0.019471899465971276,
          0.08932677785912801,
          null
         ]
        },
        {
         "hoverinfo": "none",
         "line": {
          "color": "rgb(171, 0, 83)",
          "width": 6.169811320754717
         },
         "mode": "lines",
         "type": "scatter3d",
         "x": [
          0.2756674478584026,
          0.7646315870920991,
          null
         ],
         "y": [
          0.27963968524651295,
          0.994121002249538,
          null
         ],
         "z": [
          0.37179483267150526,
          0.05241069186266445,
          null
         ]
        },
        {
         "hoverinfo": "none",
         "line": {
          "color": "rgb(182, 0, 72)",
          "width": 3.73938679245283
         },
         "mode": "lines",
         "type": "scatter3d",
         "x": [
          0.2756674478584026,
          0.4403944332224933,
          null
         ],
         "y": [
          0.27963968524651295,
          0.31363312554250466,
          null
         ],
         "z": [
          0.37179483267150526,
          0.9346959222567455,
          null
         ]
        },
        {
         "hoverinfo": "none",
         "line": {
          "color": "rgb(175, 0, 80)",
          "width": 4.018867924528302
         },
         "mode": "lines",
         "type": "scatter3d",
         "x": [
          0.2756674478584026,
          0.14123353972115282,
          null
         ],
         "y": [
          0.27963968524651295,
          0.9501974615175286,
          null
         ],
         "z": [
          0.37179483267150526,
          0.3762295887850666,
          null
         ]
        },
        {
         "hoverinfo": "none",
         "line": {
          "color": "rgb(209, 0, 45)",
          "width": 3.7783018867924527
         },
         "mode": "lines",
         "type": "scatter3d",
         "x": [
          0.2756674478584026,
          0.7181376075456939,
          null
         ],
         "y": [
          0.27963968524651295,
          0.6349186313634798,
          null
         ],
         "z": [
          0.37179483267150526,
          0.7180178907161859,
          null
         ]
        },
        {
         "hoverinfo": "none",
         "line": {
          "color": "rgb(198, 0, 56)",
          "width": 3.456367924528302
         },
         "mode": "lines",
         "type": "scatter3d",
         "x": [
          0.2756674478584026,
          0.2569820810932313,
          null
         ],
         "y": [
          0.27963968524651295,
          0.3569046374818059,
          null
         ],
         "z": [
          0.37179483267150526,
          0.09497509414440564,
          null
         ]
        },
        {
         "hoverinfo": "none",
         "line": {
          "color": "rgb(186, 0, 68)",
          "width": 3.4139150943396226
         },
         "mode": "lines",
         "type": "scatter3d",
         "x": [
          0.2756674478584026,
          0.8259862363808627,
          null
         ],
         "y": [
          0.27963968524651295,
          0.2111471902124571,
          null
         ],
         "z": [
          0.37179483267150526,
          0.7665621089368317,
          null
         ]
        },
        {
         "hoverinfo": "none",
         "line": {
          "color": "rgb(184, 0, 70)",
          "width": 3.2087264150943398
         },
         "mode": "lines",
         "type": "scatter3d",
         "x": [
          0.2756674478584026,
          0.5159810544350291,
          null
         ],
         "y": [
          0.27963968524651295,
          0.4963718910483257,
          null
         ],
         "z": [
          0.37179483267150526,
          0.23162234647955315,
          null
         ]
        },
        {
         "hoverinfo": "none",
         "line": {
          "color": "rgb(193, 0, 61)",
          "width": 3.1875
         },
         "mode": "lines",
         "type": "scatter3d",
         "x": [
          0.2756674478584026,
          0.7279986433760837,
          null
         ],
         "y": [
          0.27963968524651295,
          0.450788086644763,
          null
         ],
         "z": [
          0.37179483267150526,
          0.05386504773569423,
          null
         ]
        },
        {
         "hoverinfo": "none",
         "line": {
          "color": "rgb(162, 0, 92)",
          "width": 3.6049528301886795
         },
         "mode": "lines",
         "type": "scatter3d",
         "x": [
          0.2756674478584026,
          0.1843388531439707,
          null
         ],
         "y": [
          0.27963968524651295,
          0.9569094209645336,
          null
         ],
         "z": [
          0.37179483267150526,
          0.7357815843661885,
          null
         ]
        },
        {
         "hoverinfo": "none",
         "line": {
          "color": "rgb(255, 0, 0)",
          "width": 3.0212264150943398
         },
         "mode": "lines",
         "type": "scatter3d",
         "x": [
          0.2756674478584026,
          0.12705559846928383,
          null
         ],
         "y": [
          0.27963968524651295,
          0.9295935696226497,
          null
         ],
         "z": [
          0.37179483267150526,
          0.08932677785912801,
          null
         ]
        },
        {
         "hoverinfo": "none",
         "line": {
          "color": "rgb(182, 0, 72)",
          "width": 3.1556603773584904
         },
         "mode": "lines",
         "type": "scatter3d",
         "x": [
          0.7181376075456939,
          0.7279986433760837,
          null
         ],
         "y": [
          0.6349186313634798,
          0.450788086644763,
          null
         ],
         "z": [
          0.7180178907161859,
          0.05386504773569423,
          null
         ]
        },
        {
         "hoverinfo": "none",
         "line": {
          "color": "rgb(198, 0, 56)",
          "width": 5.80188679245283
         },
         "mode": "lines",
         "type": "scatter3d",
         "x": [
          0.7181376075456939,
          0.7646315870920991,
          null
         ],
         "y": [
          0.6349186313634798,
          0.994121002249538,
          null
         ],
         "z": [
          0.7180178907161859,
          0.05241069186266445,
          null
         ]
        },
        {
         "hoverinfo": "none",
         "line": {
          "color": "rgb(172, 0, 82)",
          "width": 4.001179245283019
         },
         "mode": "lines",
         "type": "scatter3d",
         "x": [
          0.7181376075456939,
          0.14123353972115282,
          null
         ],
         "y": [
          0.6349186313634798,
          0.9501974615175286,
          null
         ],
         "z": [
          0.7180178907161859,
          0.3762295887850666,
          null
         ]
        },
        {
         "hoverinfo": "none",
         "line": {
          "color": "rgb(201, 0, 53)",
          "width": 3.3077830188679247
         },
         "mode": "lines",
         "type": "scatter3d",
         "x": [
          0.7181376075456939,
          0.5159810544350291,
          null
         ],
         "y": [
          0.6349186313634798,
          0.4963718910483257,
          null
         ],
         "z": [
          0.7180178907161859,
          0.23162234647955315,
          null
         ]
        },
        {
         "hoverinfo": "none",
         "line": {
          "color": "rgb(192, 0, 62)",
          "width": 3.332547169811321
         },
         "mode": "lines",
         "type": "scatter3d",
         "x": [
          0.7181376075456939,
          0.2569820810932313,
          null
         ],
         "y": [
          0.6349186313634798,
          0.3569046374818059,
          null
         ],
         "z": [
          0.7180178907161859,
          0.09497509414440564,
          null
         ]
        },
        {
         "hoverinfo": "none",
         "line": {
          "color": "rgb(170, 0, 85)",
          "width": 3.626179245283019
         },
         "mode": "lines",
         "type": "scatter3d",
         "x": [
          0.7181376075456939,
          0.1843388531439707,
          null
         ],
         "y": [
          0.6349186313634798,
          0.9569094209645336,
          null
         ],
         "z": [
          0.7180178907161859,
          0.7357815843661885,
          null
         ]
        },
        {
         "hoverinfo": "none",
         "line": {
          "color": "rgb(219, 0, 35)",
          "width": 3.3962264150943398
         },
         "mode": "lines",
         "type": "scatter3d",
         "x": [
          0.7181376075456939,
          0.4403944332224933,
          null
         ],
         "y": [
          0.6349186313634798,
          0.31363312554250466,
          null
         ],
         "z": [
          0.7180178907161859,
          0.9346959222567455,
          null
         ]
        },
        {
         "hoverinfo": "none",
         "line": {
          "color": "rgb(178, 0, 76)",
          "width": 3.410377358490566
         },
         "mode": "lines",
         "type": "scatter3d",
         "x": [
          0.7181376075456939,
          0.8259862363808627,
          null
         ],
         "y": [
          0.6349186313634798,
          0.2111471902124571,
          null
         ],
         "z": [
          0.7180178907161859,
          0.7665621089368317,
          null
         ]
        },
        {
         "hoverinfo": "none",
         "line": {
          "color": "rgb(255, 0, 0)",
          "width": 3.0070754716981134
         },
         "mode": "lines",
         "type": "scatter3d",
         "x": [
          0.7181376075456939,
          0.12705559846928383,
          null
         ],
         "y": [
          0.6349186313634798,
          0.9295935696226497,
          null
         ],
         "z": [
          0.7180178907161859,
          0.08932677785912801,
          null
         ]
        },
        {
         "hoverinfo": "none",
         "line": {
          "color": "rgb(146, 0, 108)",
          "width": 3.2582547169811322
         },
         "mode": "lines",
         "type": "scatter3d",
         "x": [
          0.7279986433760837,
          0.1843388531439707,
          null
         ],
         "y": [
          0.450788086644763,
          0.9569094209645336,
          null
         ],
         "z": [
          0.05386504773569423,
          0.7357815843661885,
          null
         ]
        },
        {
         "hoverinfo": "none",
         "line": {
          "color": "rgb(163, 0, 91)",
          "width": 3.357311320754717
         },
         "mode": "lines",
         "type": "scatter3d",
         "x": [
          0.7279986433760837,
          0.4403944332224933,
          null
         ],
         "y": [
          0.450788086644763,
          0.31363312554250466,
          null
         ],
         "z": [
          0.05386504773569423,
          0.9346959222567455,
          null
         ]
        },
        {
         "hoverinfo": "none",
         "line": {
          "color": "rgb(127, 0, 127)",
          "width": 3.1273584905660377
         },
         "mode": "lines",
         "type": "scatter3d",
         "x": [
          0.7279986433760837,
          0.8259862363808627,
          null
         ],
         "y": [
          0.450788086644763,
          0.2111471902124571,
          null
         ],
         "z": [
          0.05386504773569423,
          0.7665621089368317,
          null
         ]
        },
        {
         "hoverinfo": "none",
         "line": {
          "color": "rgb(156, 0, 98)",
          "width": 3.2794811320754715
         },
         "mode": "lines",
         "type": "scatter3d",
         "x": [
          0.7279986433760837,
          0.14123353972115282,
          null
         ],
         "y": [
          0.450788086644763,
          0.9501974615175286,
          null
         ],
         "z": [
          0.05386504773569423,
          0.3762295887850666,
          null
         ]
        },
        {
         "hoverinfo": "none",
         "line": {
          "color": "rgb(159, 0, 95)",
          "width": 3.297169811320755
         },
         "mode": "lines",
         "type": "scatter3d",
         "x": [
          0.7279986433760837,
          0.7646315870920991,
          null
         ],
         "y": [
          0.450788086644763,
          0.994121002249538,
          null
         ],
         "z": [
          0.05386504773569423,
          0.05241069186266445,
          null
         ]
        },
        {
         "hoverinfo": "none",
         "line": {
          "color": "rgb(177, 0, 77)",
          "width": 3.1875
         },
         "mode": "lines",
         "type": "scatter3d",
         "x": [
          0.7279986433760837,
          0.2569820810932313,
          null
         ],
         "y": [
          0.450788086644763,
          0.3569046374818059,
          null
         ],
         "z": [
          0.05386504773569423,
          0.09497509414440564,
          null
         ]
        },
        {
         "hoverinfo": "none",
         "line": {
          "color": "rgb(204, 0, 51)",
          "width": 3.045990566037736
         },
         "mode": "lines",
         "type": "scatter3d",
         "x": [
          0.7279986433760837,
          0.5159810544350291,
          null
         ],
         "y": [
          0.450788086644763,
          0.4963718910483257,
          null
         ],
         "z": [
          0.05386504773569423,
          0.23162234647955315,
          null
         ]
        },
        {
         "hoverinfo": "none",
         "line": {
          "color": "rgb(255, 0, 0)",
          "width": 3.017688679245283
         },
         "mode": "lines",
         "type": "scatter3d",
         "x": [
          0.7279986433760837,
          0.12705559846928383,
          null
         ],
         "y": [
          0.450788086644763,
          0.9295935696226497,
          null
         ],
         "z": [
          0.05386504773569423,
          0.08932677785912801,
          null
         ]
        },
        {
         "hoverinfo": "none",
         "line": {
          "color": "rgb(177, 0, 77)",
          "width": 3.297169811320755
         },
         "mode": "lines",
         "type": "scatter3d",
         "x": [
          0.2569820810932313,
          0.4403944332224933,
          null
         ],
         "y": [
          0.3569046374818059,
          0.31363312554250466,
          null
         ],
         "z": [
          0.09497509414440564,
          0.9346959222567455,
          null
         ]
        },
        {
         "hoverinfo": "none",
         "line": {
          "color": "rgb(170, 0, 85)",
          "width": 3.0318396226415096
         },
         "mode": "lines",
         "type": "scatter3d",
         "x": [
          0.2569820810932313,
          0.5159810544350291,
          null
         ],
         "y": [
          0.3569046374818059,
          0.4963718910483257,
          null
         ],
         "z": [
          0.09497509414440564,
          0.23162234647955315,
          null
         ]
        },
        {
         "hoverinfo": "none",
         "line": {
          "color": "rgb(202, 0, 52)",
          "width": 4.418632075471698
         },
         "mode": "lines",
         "type": "scatter3d",
         "x": [
          0.2569820810932313,
          0.14123353972115282,
          null
         ],
         "y": [
          0.3569046374818059,
          0.9501974615175286,
          null
         ],
         "z": [
          0.09497509414440564,
          0.3762295887850666,
          null
         ]
        },
        {
         "hoverinfo": "none",
         "line": {
          "color": "rgb(143, 0, 111)",
          "width": 3.5235849056603774
         },
         "mode": "lines",
         "type": "scatter3d",
         "x": [
          0.2569820810932313,
          0.7646315870920991,
          null
         ],
         "y": [
          0.3569046374818059,
          0.994121002249538,
          null
         ],
         "z": [
          0.09497509414440564,
          0.05241069186266445,
          null
         ]
        },
        {
         "hoverinfo": "none",
         "line": {
          "color": "rgb(178, 0, 76)",
          "width": 3.9091981132075473
         },
         "mode": "lines",
         "type": "scatter3d",
         "x": [
          0.2569820810932313,
          0.1843388531439707,
          null
         ],
         "y": [
          0.3569046374818059,
          0.9569094209645336,
          null
         ],
         "z": [
          0.09497509414440564,
          0.7357815843661885,
          null
         ]
        },
        {
         "hoverinfo": "none",
         "line": {
          "color": "rgb(200, 0, 54)",
          "width": 3.4669811320754715
         },
         "mode": "lines",
         "type": "scatter3d",
         "x": [
          0.2569820810932313,
          0.8259862363808627,
          null
         ],
         "y": [
          0.3569046374818059,
          0.2111471902124571,
          null
         ],
         "z": [
          0.09497509414440564,
          0.7665621089368317,
          null
         ]
        },
        {
         "hoverinfo": "none",
         "line": {
          "color": "rgb(255, 0, 0)",
          "width": 3.0247641509433962
         },
         "mode": "lines",
         "type": "scatter3d",
         "x": [
          0.2569820810932313,
          0.12705559846928383,
          null
         ],
         "y": [
          0.3569046374818059,
          0.9295935696226497,
          null
         ],
         "z": [
          0.09497509414440564,
          0.08932677785912801,
          null
         ]
        },
        {
         "hoverinfo": "none",
         "line": {
          "color": "rgb(169, 0, 85)",
          "width": 8.929245283018869
         },
         "mode": "lines",
         "type": "scatter3d",
         "x": [
          0.7646315870920991,
          0.14123353972115282,
          null
         ],
         "y": [
          0.994121002249538,
          0.9501974615175286,
          null
         ],
         "z": [
          0.05241069186266445,
          0.3762295887850666,
          null
         ]
        },
        {
         "hoverinfo": "none",
         "line": {
          "color": "rgb(178, 0, 76)",
          "width": 3.6580188679245285
         },
         "mode": "lines",
         "type": "scatter3d",
         "x": [
          0.7646315870920991,
          0.1843388531439707,
          null
         ],
         "y": [
          0.994121002249538,
          0.9569094209645336,
          null
         ],
         "z": [
          0.05241069186266445,
          0.7357815843661885,
          null
         ]
        },
        {
         "hoverinfo": "none",
         "line": {
          "color": "rgb(200, 0, 54)",
          "width": 3.76061320754717
         },
         "mode": "lines",
         "type": "scatter3d",
         "x": [
          0.7646315870920991,
          0.5159810544350291,
          null
         ],
         "y": [
          0.994121002249538,
          0.4963718910483257,
          null
         ],
         "z": [
          0.05241069186266445,
          0.23162234647955315,
          null
         ]
        },
        {
         "hoverinfo": "none",
         "line": {
          "color": "rgb(180, 0, 74)",
          "width": 4.188679245283019
         },
         "mode": "lines",
         "type": "scatter3d",
         "x": [
          0.7646315870920991,
          0.8259862363808627,
          null
         ],
         "y": [
          0.994121002249538,
          0.2111471902124571,
          null
         ],
         "z": [
          0.05241069186266445,
          0.7665621089368317,
          null
         ]
        },
        {
         "hoverinfo": "none",
         "line": {
          "color": "rgb(192, 0, 62)",
          "width": 3.73938679245283
         },
         "mode": "lines",
         "type": "scatter3d",
         "x": [
          0.7646315870920991,
          0.4403944332224933,
          null
         ],
         "y": [
          0.994121002249538,
          0.31363312554250466,
          null
         ],
         "z": [
          0.05241069186266445,
          0.9346959222567455,
          null
         ]
        },
        {
         "hoverinfo": "none",
         "line": {
          "color": "rgb(159, 0, 95)",
          "width": 3.042452830188679
         },
         "mode": "lines",
         "type": "scatter3d",
         "x": [
          0.7646315870920991,
          0.12705559846928383,
          null
         ],
         "y": [
          0.994121002249538,
          0.9295935696226497,
          null
         ],
         "z": [
          0.05241069186266445,
          0.08932677785912801,
          null
         ]
        },
        {
         "hoverinfo": "none",
         "line": {
          "color": "rgb(228, 0, 26)",
          "width": 3.640330188679245
         },
         "mode": "lines",
         "type": "scatter3d",
         "x": [
          0.4403944332224933,
          0.5159810544350291,
          null
         ],
         "y": [
          0.31363312554250466,
          0.4963718910483257,
          null
         ],
         "z": [
          0.9346959222567455,
          0.23162234647955315,
          null
         ]
        },
        {
         "hoverinfo": "none",
         "line": {
          "color": "rgb(207, 0, 47)",
          "width": 3.2724056603773586
         },
         "mode": "lines",
         "type": "scatter3d",
         "x": [
          0.4403944332224933,
          0.14123353972115282,
          null
         ],
         "y": [
          0.31363312554250466,
          0.9501974615175286,
          null
         ],
         "z": [
          0.9346959222567455,
          0.3762295887850666,
          null
         ]
        },
        {
         "hoverinfo": "none",
         "line": {
          "color": "rgb(202, 0, 52)",
          "width": 3.555424528301887
         },
         "mode": "lines",
         "type": "scatter3d",
         "x": [
          0.4403944332224933,
          0.1843388531439707,
          null
         ],
         "y": [
          0.31363312554250466,
          0.9569094209645336,
          null
         ],
         "z": [
          0.9346959222567455,
          0.7357815843661885,
          null
         ]
        },
        {
         "hoverinfo": "none",
         "line": {
          "color": "rgb(191, 0, 63)",
          "width": 3.233490566037736
         },
         "mode": "lines",
         "type": "scatter3d",
         "x": [
          0.4403944332224933,
          0.8259862363808627,
          null
         ],
         "y": [
          0.31363312554250466,
          0.2111471902124571,
          null
         ],
         "z": [
          0.9346959222567455,
          0.7665621089368317,
          null
         ]
        },
        {
         "hoverinfo": "none",
         "line": {
          "color": "rgb(228, 0, 26)",
          "width": 3.169811320754717
         },
         "mode": "lines",
         "type": "scatter3d",
         "x": [
          0.4403944332224933,
          0.12705559846928383,
          null
         ],
         "y": [
          0.31363312554250466,
          0.9295935696226497,
          null
         ],
         "z": [
          0.9346959222567455,
          0.08932677785912801,
          null
         ]
        },
        {
         "hoverinfo": "none",
         "line": {
          "color": "rgb(109, 0, 145)",
          "width": 3.035377358490566
         },
         "mode": "lines",
         "type": "scatter3d",
         "x": [
          0.14123353972115282,
          0.12705559846928383,
          null
         ],
         "y": [
          0.9501974615175286,
          0.9295935696226497,
          null
         ],
         "z": [
          0.3762295887850666,
          0.08932677785912801,
          null
         ]
        },
        {
         "hoverinfo": "none",
         "line": {
          "color": "rgb(165, 0, 89)",
          "width": 3.6898584905660377
         },
         "mode": "lines",
         "type": "scatter3d",
         "x": [
          0.14123353972115282,
          0.8259862363808627,
          null
         ],
         "y": [
          0.9501974615175286,
          0.2111471902124571,
          null
         ],
         "z": [
          0.3762295887850666,
          0.7665621089368317,
          null
         ]
        },
        {
         "hoverinfo": "none",
         "line": {
          "color": "rgb(149, 0, 105)",
          "width": 3.5129716981132075
         },
         "mode": "lines",
         "type": "scatter3d",
         "x": [
          0.14123353972115282,
          0.1843388531439707,
          null
         ],
         "y": [
          0.9501974615175286,
          0.9569094209645336,
          null
         ],
         "z": [
          0.3762295887850666,
          0.7357815843661885,
          null
         ]
        },
        {
         "hoverinfo": "none",
         "line": {
          "color": "rgb(139, 0, 115)",
          "width": 3.134433962264151
         },
         "mode": "lines",
         "type": "scatter3d",
         "x": [
          0.14123353972115282,
          0.5159810544350291,
          null
         ],
         "y": [
          0.9501974615175286,
          0.4963718910483257,
          null
         ],
         "z": [
          0.3762295887850666,
          0.23162234647955315,
          null
         ]
        },
        {
         "hoverinfo": "none",
         "line": {
          "color": "rgb(168, 0, 86)",
          "width": 3.7216981132075473
         },
         "mode": "lines",
         "type": "scatter3d",
         "x": [
          0.8259862363808627,
          0.1843388531439707,
          null
         ],
         "y": [
          0.2111471902124571,
          0.9569094209645336,
          null
         ],
         "z": [
          0.7665621089368317,
          0.7357815843661885,
          null
         ]
        },
        {
         "hoverinfo": "none",
         "line": {
          "color": "rgb(162, 0, 92)",
          "width": 3.077830188679245
         },
         "mode": "lines",
         "type": "scatter3d",
         "x": [
          0.8259862363808627,
          0.5159810544350291,
          null
         ],
         "y": [
          0.2111471902124571,
          0.4963718910483257,
          null
         ],
         "z": [
          0.7665621089368317,
          0.23162234647955315,
          null
         ]
        },
        {
         "hoverinfo": "none",
         "line": {
          "color": "rgb(0, 0, 255)",
          "width": 3.0035377358490565
         },
         "mode": "lines",
         "type": "scatter3d",
         "x": [
          0.8259862363808627,
          0.12705559846928383,
          null
         ],
         "y": [
          0.2111471902124571,
          0.9295935696226497,
          null
         ],
         "z": [
          0.7665621089368317,
          0.08932677785912801,
          null
         ]
        },
        {
         "hoverinfo": "none",
         "line": {
          "color": "rgb(170, 0, 85)",
          "width": 3.0247641509433962
         },
         "mode": "lines",
         "type": "scatter3d",
         "x": [
          0.12705559846928383,
          0.1843388531439707,
          null
         ],
         "y": [
          0.9295935696226497,
          0.9569094209645336,
          null
         ],
         "z": [
          0.08932677785912801,
          0.7357815843661885,
          null
         ]
        },
        {
         "hoverinfo": "none",
         "line": {
          "color": "rgb(255, 0, 0)",
          "width": 3.0070754716981134
         },
         "mode": "lines",
         "type": "scatter3d",
         "x": [
          0.12705559846928383,
          0.5159810544350291,
          null
         ],
         "y": [
          0.9295935696226497,
          0.4963718910483257,
          null
         ],
         "z": [
          0.08932677785912801,
          0.23162234647955315,
          null
         ]
        },
        {
         "hoverinfo": "none",
         "line": {
          "color": "rgb(246, 0, 8)",
          "width": 3.19811320754717
         },
         "mode": "lines",
         "type": "scatter3d",
         "x": [
          0.5159810544350291,
          0.1843388531439707,
          null
         ],
         "y": [
          0.4963718910483257,
          0.9569094209645336,
          null
         ],
         "z": [
          0.23162234647955315,
          0.7357815843661885,
          null
         ]
        },
        {
         "hoverinfo": "text",
         "marker": {
          "color": "black",
          "size": 7
         },
         "mode": "markers",
         "text": [
          "0",
          "1",
          "2",
          "3",
          "4",
          "5",
          "6",
          "7",
          "8",
          "9",
          "10",
          "11",
          "12",
          "13",
          "14",
          "15",
          "16",
          "17",
          "18",
          "19",
          "20",
          "21",
          "22",
          "23",
          "24",
          "25",
          "26",
          "27",
          "28",
          "29",
          "30",
          "31",
          "32",
          "33",
          "34",
          "35",
          "36",
          "37",
          "38",
          "39",
          "40"
         ],
         "type": "scatter3d",
         "x": [
          0.8221603901770754,
          0.27686321902837085,
          0.011201830467100105,
          0.1824886837609898,
          0.8415273827891165,
          0.07285509432239634,
          0.8191313713534591,
          0.9980073115828699,
          0.20776611441615878,
          0.7176246895990278,
          0.8284340696291544,
          0.17628094509891412,
          0.39517423387251094,
          0.9485324130365435,
          0.5149416782322986,
          0.6056962931843748,
          0.16705182778560246,
          0.3995002317579539,
          0.7068994867864296,
          0.4462581925357012,
          0.07306528718544647,
          0.08632051731650314,
          0.9383998934077977,
          0.2756674478584026,
          0.7181376075456939,
          0.7578406153229841,
          0.8020237647591757,
          0.4705426840620368,
          0.7279986433760837,
          0.2569820810932313,
          0.7646315870920991,
          0.8842795946559863,
          0.4403944332224933,
          0.14123353972115282,
          0.17048821498066014,
          0.8259862363808627,
          0.12705559846928383,
          0.3961354259621165,
          0.5159810544350291,
          0.06510698753226496,
          0.1843388531439707
         ],
         "y": [
          0.6258079260801888,
          0.8373484279802658,
          0.1464829749039792,
          0.17548987507358704,
          0.9471500458412451,
          0.5042729416456374,
          0.9930920600101271,
          0.9148244211621036,
          0.9428665586908561,
          0.12348549004815479,
          0.6917473564225821,
          0.22833884872332644,
          0.5490835876548705,
          0.2356793768003087,
          0.9889810900996732,
          0.5916687419408222,
          0.2397375514499933,
          0.15319802031102225,
          0.341942406628458,
          0.7092664124004832,
          0.16037298994551585,
          0.13318489045889448,
          0.32532543746089326,
          0.27963968524651295,
          0.6349186313634798,
          0.4448945023019637,
          0.8292217302879903,
          0.21782044371790044,
          0.450788086644763,
          0.3569046374818059,
          0.994121002249538,
          0.3922665071770861,
          0.31363312554250466,
          0.9501974615175286,
          0.014514410887806584,
          0.2111471902124571,
          0.9295935696226497,
          0.7491691390300012,
          0.4963718910483257,
          0.830926694543611,
          0.9569094209645336
         ],
         "z": [
          0.3699576720150295,
          0.4042199553564215,
          0.8150512219980447,
          0.6271843652651261,
          0.048642871051601255,
          0.2112323650275585,
          0.9647515399673352,
          0.09355993675596497,
          0.3828208035706665,
          0.9890999641316434,
          0.3163445400366095,
          0.889938195577574,
          0.6171909366473257,
          0.5170673640919804,
          0.1770483821901393,
          0.44956743391166354,
          0.5718158908671802,
          0.7598240496011175,
          0.15308694471030215,
          0.9555305966584261,
          0.5202388383952486,
          0.27123394161463943,
          0.019471899465971276,
          0.37179483267150526,
          0.7180178907161859,
          0.08623408900236051,
          0.5668191490961129,
          0.56308977785083,
          0.05386504773569423,
          0.09497509414440564,
          0.05241069186266445,
          0.060192110512641395,
          0.9346959222567455,
          0.3762295887850666,
          0.9741675988520069,
          0.7665621089368317,
          0.08932677785912801,
          0.938091407790072,
          0.23162234647955315,
          0.3561204294710901,
          0.7357815843661885
         ]
        },
        {
         "hoverinfo": "none",
         "marker": {
          "color": [
           0,
           1
          ],
          "colorbar": {
           "ticktext": [
            "0% (Red)",
            "100% (Blue)"
           ],
           "tickvals": [
            0,
            1
           ],
           "title": {
            "text": "Proportion of Hole-Adjacent Edges"
           }
          },
          "colorscale": [
           [
            0,
            "rgb(255, 0, 0)"
           ],
           [
            1,
            "rgb(0, 0, 255)"
           ]
          ],
          "size": 0
         },
         "mode": "markers",
         "type": "scatter3d",
         "x": [
          null
         ],
         "y": [
          null
         ],
         "z": [
          null
         ]
        }
       ],
       "layout": {
        "height": 1000,
        "scene": {
         "xaxis": {
          "showbackground": false
         },
         "yaxis": {
          "showbackground": false
         },
         "zaxis": {
          "showbackground": false
         }
        },
        "showlegend": false,
        "template": {
         "data": {
          "bar": [
           {
            "error_x": {
             "color": "#2a3f5f"
            },
            "error_y": {
             "color": "#2a3f5f"
            },
            "marker": {
             "line": {
              "color": "#E5ECF6",
              "width": 0.5
             },
             "pattern": {
              "fillmode": "overlay",
              "size": 10,
              "solidity": 0.2
             }
            },
            "type": "bar"
           }
          ],
          "barpolar": [
           {
            "marker": {
             "line": {
              "color": "#E5ECF6",
              "width": 0.5
             },
             "pattern": {
              "fillmode": "overlay",
              "size": 10,
              "solidity": 0.2
             }
            },
            "type": "barpolar"
           }
          ],
          "carpet": [
           {
            "aaxis": {
             "endlinecolor": "#2a3f5f",
             "gridcolor": "white",
             "linecolor": "white",
             "minorgridcolor": "white",
             "startlinecolor": "#2a3f5f"
            },
            "baxis": {
             "endlinecolor": "#2a3f5f",
             "gridcolor": "white",
             "linecolor": "white",
             "minorgridcolor": "white",
             "startlinecolor": "#2a3f5f"
            },
            "type": "carpet"
           }
          ],
          "choropleth": [
           {
            "colorbar": {
             "outlinewidth": 0,
             "ticks": ""
            },
            "type": "choropleth"
           }
          ],
          "contour": [
           {
            "colorbar": {
             "outlinewidth": 0,
             "ticks": ""
            },
            "colorscale": [
             [
              0,
              "#0d0887"
             ],
             [
              0.1111111111111111,
              "#46039f"
             ],
             [
              0.2222222222222222,
              "#7201a8"
             ],
             [
              0.3333333333333333,
              "#9c179e"
             ],
             [
              0.4444444444444444,
              "#bd3786"
             ],
             [
              0.5555555555555556,
              "#d8576b"
             ],
             [
              0.6666666666666666,
              "#ed7953"
             ],
             [
              0.7777777777777778,
              "#fb9f3a"
             ],
             [
              0.8888888888888888,
              "#fdca26"
             ],
             [
              1,
              "#f0f921"
             ]
            ],
            "type": "contour"
           }
          ],
          "contourcarpet": [
           {
            "colorbar": {
             "outlinewidth": 0,
             "ticks": ""
            },
            "type": "contourcarpet"
           }
          ],
          "heatmap": [
           {
            "colorbar": {
             "outlinewidth": 0,
             "ticks": ""
            },
            "colorscale": [
             [
              0,
              "#0d0887"
             ],
             [
              0.1111111111111111,
              "#46039f"
             ],
             [
              0.2222222222222222,
              "#7201a8"
             ],
             [
              0.3333333333333333,
              "#9c179e"
             ],
             [
              0.4444444444444444,
              "#bd3786"
             ],
             [
              0.5555555555555556,
              "#d8576b"
             ],
             [
              0.6666666666666666,
              "#ed7953"
             ],
             [
              0.7777777777777778,
              "#fb9f3a"
             ],
             [
              0.8888888888888888,
              "#fdca26"
             ],
             [
              1,
              "#f0f921"
             ]
            ],
            "type": "heatmap"
           }
          ],
          "heatmapgl": [
           {
            "colorbar": {
             "outlinewidth": 0,
             "ticks": ""
            },
            "colorscale": [
             [
              0,
              "#0d0887"
             ],
             [
              0.1111111111111111,
              "#46039f"
             ],
             [
              0.2222222222222222,
              "#7201a8"
             ],
             [
              0.3333333333333333,
              "#9c179e"
             ],
             [
              0.4444444444444444,
              "#bd3786"
             ],
             [
              0.5555555555555556,
              "#d8576b"
             ],
             [
              0.6666666666666666,
              "#ed7953"
             ],
             [
              0.7777777777777778,
              "#fb9f3a"
             ],
             [
              0.8888888888888888,
              "#fdca26"
             ],
             [
              1,
              "#f0f921"
             ]
            ],
            "type": "heatmapgl"
           }
          ],
          "histogram": [
           {
            "marker": {
             "pattern": {
              "fillmode": "overlay",
              "size": 10,
              "solidity": 0.2
             }
            },
            "type": "histogram"
           }
          ],
          "histogram2d": [
           {
            "colorbar": {
             "outlinewidth": 0,
             "ticks": ""
            },
            "colorscale": [
             [
              0,
              "#0d0887"
             ],
             [
              0.1111111111111111,
              "#46039f"
             ],
             [
              0.2222222222222222,
              "#7201a8"
             ],
             [
              0.3333333333333333,
              "#9c179e"
             ],
             [
              0.4444444444444444,
              "#bd3786"
             ],
             [
              0.5555555555555556,
              "#d8576b"
             ],
             [
              0.6666666666666666,
              "#ed7953"
             ],
             [
              0.7777777777777778,
              "#fb9f3a"
             ],
             [
              0.8888888888888888,
              "#fdca26"
             ],
             [
              1,
              "#f0f921"
             ]
            ],
            "type": "histogram2d"
           }
          ],
          "histogram2dcontour": [
           {
            "colorbar": {
             "outlinewidth": 0,
             "ticks": ""
            },
            "colorscale": [
             [
              0,
              "#0d0887"
             ],
             [
              0.1111111111111111,
              "#46039f"
             ],
             [
              0.2222222222222222,
              "#7201a8"
             ],
             [
              0.3333333333333333,
              "#9c179e"
             ],
             [
              0.4444444444444444,
              "#bd3786"
             ],
             [
              0.5555555555555556,
              "#d8576b"
             ],
             [
              0.6666666666666666,
              "#ed7953"
             ],
             [
              0.7777777777777778,
              "#fb9f3a"
             ],
             [
              0.8888888888888888,
              "#fdca26"
             ],
             [
              1,
              "#f0f921"
             ]
            ],
            "type": "histogram2dcontour"
           }
          ],
          "mesh3d": [
           {
            "colorbar": {
             "outlinewidth": 0,
             "ticks": ""
            },
            "type": "mesh3d"
           }
          ],
          "parcoords": [
           {
            "line": {
             "colorbar": {
              "outlinewidth": 0,
              "ticks": ""
             }
            },
            "type": "parcoords"
           }
          ],
          "pie": [
           {
            "automargin": true,
            "type": "pie"
           }
          ],
          "scatter": [
           {
            "fillpattern": {
             "fillmode": "overlay",
             "size": 10,
             "solidity": 0.2
            },
            "type": "scatter"
           }
          ],
          "scatter3d": [
           {
            "line": {
             "colorbar": {
              "outlinewidth": 0,
              "ticks": ""
             }
            },
            "marker": {
             "colorbar": {
              "outlinewidth": 0,
              "ticks": ""
             }
            },
            "type": "scatter3d"
           }
          ],
          "scattercarpet": [
           {
            "marker": {
             "colorbar": {
              "outlinewidth": 0,
              "ticks": ""
             }
            },
            "type": "scattercarpet"
           }
          ],
          "scattergeo": [
           {
            "marker": {
             "colorbar": {
              "outlinewidth": 0,
              "ticks": ""
             }
            },
            "type": "scattergeo"
           }
          ],
          "scattergl": [
           {
            "marker": {
             "colorbar": {
              "outlinewidth": 0,
              "ticks": ""
             }
            },
            "type": "scattergl"
           }
          ],
          "scattermapbox": [
           {
            "marker": {
             "colorbar": {
              "outlinewidth": 0,
              "ticks": ""
             }
            },
            "type": "scattermapbox"
           }
          ],
          "scatterpolar": [
           {
            "marker": {
             "colorbar": {
              "outlinewidth": 0,
              "ticks": ""
             }
            },
            "type": "scatterpolar"
           }
          ],
          "scatterpolargl": [
           {
            "marker": {
             "colorbar": {
              "outlinewidth": 0,
              "ticks": ""
             }
            },
            "type": "scatterpolargl"
           }
          ],
          "scatterternary": [
           {
            "marker": {
             "colorbar": {
              "outlinewidth": 0,
              "ticks": ""
             }
            },
            "type": "scatterternary"
           }
          ],
          "surface": [
           {
            "colorbar": {
             "outlinewidth": 0,
             "ticks": ""
            },
            "colorscale": [
             [
              0,
              "#0d0887"
             ],
             [
              0.1111111111111111,
              "#46039f"
             ],
             [
              0.2222222222222222,
              "#7201a8"
             ],
             [
              0.3333333333333333,
              "#9c179e"
             ],
             [
              0.4444444444444444,
              "#bd3786"
             ],
             [
              0.5555555555555556,
              "#d8576b"
             ],
             [
              0.6666666666666666,
              "#ed7953"
             ],
             [
              0.7777777777777778,
              "#fb9f3a"
             ],
             [
              0.8888888888888888,
              "#fdca26"
             ],
             [
              1,
              "#f0f921"
             ]
            ],
            "type": "surface"
           }
          ],
          "table": [
           {
            "cells": {
             "fill": {
              "color": "#EBF0F8"
             },
             "line": {
              "color": "white"
             }
            },
            "header": {
             "fill": {
              "color": "#C8D4E3"
             },
             "line": {
              "color": "white"
             }
            },
            "type": "table"
           }
          ]
         },
         "layout": {
          "annotationdefaults": {
           "arrowcolor": "#2a3f5f",
           "arrowhead": 0,
           "arrowwidth": 1
          },
          "autotypenumbers": "strict",
          "coloraxis": {
           "colorbar": {
            "outlinewidth": 0,
            "ticks": ""
           }
          },
          "colorscale": {
           "diverging": [
            [
             0,
             "#8e0152"
            ],
            [
             0.1,
             "#c51b7d"
            ],
            [
             0.2,
             "#de77ae"
            ],
            [
             0.3,
             "#f1b6da"
            ],
            [
             0.4,
             "#fde0ef"
            ],
            [
             0.5,
             "#f7f7f7"
            ],
            [
             0.6,
             "#e6f5d0"
            ],
            [
             0.7,
             "#b8e186"
            ],
            [
             0.8,
             "#7fbc41"
            ],
            [
             0.9,
             "#4d9221"
            ],
            [
             1,
             "#276419"
            ]
           ],
           "sequential": [
            [
             0,
             "#0d0887"
            ],
            [
             0.1111111111111111,
             "#46039f"
            ],
            [
             0.2222222222222222,
             "#7201a8"
            ],
            [
             0.3333333333333333,
             "#9c179e"
            ],
            [
             0.4444444444444444,
             "#bd3786"
            ],
            [
             0.5555555555555556,
             "#d8576b"
            ],
            [
             0.6666666666666666,
             "#ed7953"
            ],
            [
             0.7777777777777778,
             "#fb9f3a"
            ],
            [
             0.8888888888888888,
             "#fdca26"
            ],
            [
             1,
             "#f0f921"
            ]
           ],
           "sequentialminus": [
            [
             0,
             "#0d0887"
            ],
            [
             0.1111111111111111,
             "#46039f"
            ],
            [
             0.2222222222222222,
             "#7201a8"
            ],
            [
             0.3333333333333333,
             "#9c179e"
            ],
            [
             0.4444444444444444,
             "#bd3786"
            ],
            [
             0.5555555555555556,
             "#d8576b"
            ],
            [
             0.6666666666666666,
             "#ed7953"
            ],
            [
             0.7777777777777778,
             "#fb9f3a"
            ],
            [
             0.8888888888888888,
             "#fdca26"
            ],
            [
             1,
             "#f0f921"
            ]
           ]
          },
          "colorway": [
           "#636efa",
           "#EF553B",
           "#00cc96",
           "#ab63fa",
           "#FFA15A",
           "#19d3f3",
           "#FF6692",
           "#B6E880",
           "#FF97FF",
           "#FECB52"
          ],
          "font": {
           "color": "#2a3f5f"
          },
          "geo": {
           "bgcolor": "white",
           "lakecolor": "white",
           "landcolor": "#E5ECF6",
           "showlakes": true,
           "showland": true,
           "subunitcolor": "white"
          },
          "hoverlabel": {
           "align": "left"
          },
          "hovermode": "closest",
          "mapbox": {
           "style": "light"
          },
          "paper_bgcolor": "white",
          "plot_bgcolor": "#E5ECF6",
          "polar": {
           "angularaxis": {
            "gridcolor": "white",
            "linecolor": "white",
            "ticks": ""
           },
           "bgcolor": "#E5ECF6",
           "radialaxis": {
            "gridcolor": "white",
            "linecolor": "white",
            "ticks": ""
           }
          },
          "scene": {
           "xaxis": {
            "backgroundcolor": "#E5ECF6",
            "gridcolor": "white",
            "gridwidth": 2,
            "linecolor": "white",
            "showbackground": true,
            "ticks": "",
            "zerolinecolor": "white"
           },
           "yaxis": {
            "backgroundcolor": "#E5ECF6",
            "gridcolor": "white",
            "gridwidth": 2,
            "linecolor": "white",
            "showbackground": true,
            "ticks": "",
            "zerolinecolor": "white"
           },
           "zaxis": {
            "backgroundcolor": "#E5ECF6",
            "gridcolor": "white",
            "gridwidth": 2,
            "linecolor": "white",
            "showbackground": true,
            "ticks": "",
            "zerolinecolor": "white"
           }
          },
          "shapedefaults": {
           "line": {
            "color": "#2a3f5f"
           }
          },
          "ternary": {
           "aaxis": {
            "gridcolor": "white",
            "linecolor": "white",
            "ticks": ""
           },
           "baxis": {
            "gridcolor": "white",
            "linecolor": "white",
            "ticks": ""
           },
           "bgcolor": "#E5ECF6",
           "caxis": {
            "gridcolor": "white",
            "linecolor": "white",
            "ticks": ""
           }
          },
          "title": {
           "x": 0.05
          },
          "xaxis": {
           "automargin": true,
           "gridcolor": "white",
           "linecolor": "white",
           "ticks": "",
           "title": {
            "standoff": 15
           },
           "zerolinecolor": "white",
           "zerolinewidth": 2
          },
          "yaxis": {
           "automargin": true,
           "gridcolor": "white",
           "linecolor": "white",
           "ticks": "",
           "title": {
            "standoff": 15
           },
           "zerolinecolor": "white",
           "zerolinewidth": 2
          }
         }
        },
        "width": 1200
       }
      }
     },
     "metadata": {},
     "output_type": "display_data"
    }
   ],
   "source": [
    "collapsed_G = nx.Graph()\n",
    "\n",
    "for i in range(len(coms)):\n",
    "    collapsed_G.add_node(i)\n",
    "\n",
    "hole_adjacent_edge_count = {}\n",
    "total_edge_count = {}\n",
    "\n",
    "original_cycle_edges = set()\n",
    "for cycle in big_rep_cycle_list1:\n",
    "    for i in range(len(cycle)):\n",
    "        u, v = cycle[i], cycle[(i + 1) % len(cycle)]\n",
    "        original_cycle_edges.add((u, v))\n",
    "        original_cycle_edges.add((v, u))\n",
    "\n",
    "for u, v in G.edges():\n",
    "    community_u = node_to_com_dict[u]\n",
    "    community_v = node_to_com_dict[v]\n",
    "    if community_u != community_v:\n",
    "        if collapsed_G.has_edge(community_u, community_v):\n",
    "            collapsed_G[community_u][community_v]['weight'] += 1\n",
    "        else:\n",
    "            collapsed_G.add_edge(community_u, community_v, weight=1)\n",
    "        \n",
    "        if (community_u, community_v) not in total_edge_count:\n",
    "            total_edge_count[(community_u, community_v)] = 0\n",
    "            hole_adjacent_edge_count[(community_u, community_v)] = 0\n",
    "        \n",
    "        total_edge_count[(community_u, community_v)] += 1\n",
    "        \n",
    "        if (u, v) in original_cycle_edges or (v, u) in original_cycle_edges:\n",
    "            hole_adjacent_edge_count[(community_u, community_v)] += 1\n",
    "\n",
    "edge_proportions = {edge: hole_adjacent_edge_count[edge] / total_edge_count[edge] for edge in total_edge_count}\n",
    "\n",
    "# get and normalize weight\n",
    "weights = [data['weight'] for u, v, data in collapsed_G.edges(data=True)]\n",
    "min_weight = min(weights)\n",
    "max_weight = max(weights)\n",
    "norm_weights = {edge: 3 + 12 * (data['weight'] - min_weight) / (max_weight - min_weight) for edge, data in collapsed_G.edges.items()}\n",
    "\n",
    "pos = {i: (np.random.random(), np.random.random(), np.random.random()) for i in collapsed_G.nodes}\n",
    "\n",
    "edge_trace = []\n",
    "for edge in collapsed_G.edges(data=True):\n",
    "    x0, y0, z0 = pos[edge[0]]\n",
    "    x1, y1, z1 = pos[edge[1]]\n",
    "    proportion = edge_proportions.get((edge[0], edge[1]), 0)\n",
    "    color = f'rgb({int(255 * (1 - proportion))}, 0, {int(255 * proportion)})'\n",
    "    weight = norm_weights[(edge[0], edge[1])]  # use weight for thickness of edge\n",
    "    \n",
    "    edge_trace.append(go.Scatter3d(\n",
    "        x=[x0, x1, None],\n",
    "        y=[y0, y1, None],\n",
    "        z=[z0, z1, None],\n",
    "        line=dict(width=weight, color=color),  # use weight for thickness\n",
    "        hoverinfo='none',\n",
    "        mode='lines'\n",
    "    ))\n",
    "\n",
    "collapsed_cycle_edges = set()\n",
    "for u, v in original_cycle_edges:\n",
    "    community_u = node_to_com_dict[u]\n",
    "    community_v = node_to_com_dict[v]\n",
    "    if community_u != community_v:\n",
    "        collapsed_cycle_edges.add((community_u, community_v))\n",
    "        collapsed_cycle_edges.add((community_v, community_u))\n",
    "\n",
    "cycle_edge_count = len([e for e in collapsed_G.edges() if (e in collapsed_cycle_edges or (e[1], e[0]) in collapsed_cycle_edges)])\n",
    "non_cycle_edge_count = len(collapsed_G.edges()) - cycle_edge_count\n",
    "\n",
    "total_edges = len(collapsed_G.edges())\n",
    "percent_non_cycle = (non_cycle_edge_count / total_edges) * 100\n",
    "percent_cycle = (cycle_edge_count / total_edges) * 100\n",
    "\n",
    "print(f\"Number of edges not part of any cycle: {non_cycle_edge_count} ({percent_non_cycle:.2f}%)\")\n",
    "print(f\"Number of edges part of a cycle: {cycle_edge_count} ({percent_cycle:.2f}%)\")\n",
    "\n",
    "node_trace = go.Scatter3d(\n",
    "    x=[pos[node][0] for node in collapsed_G.nodes()],\n",
    "    y=[pos[node][1] for node in collapsed_G.nodes()],\n",
    "    z=[pos[node][2] for node in collapsed_G.nodes()],\n",
    "    mode='markers',\n",
    "    marker=dict(\n",
    "        size=7,\n",
    "        color='black',\n",
    "    ),\n",
    "    text=list(collapsed_G.nodes()),\n",
    "    hoverinfo='text'\n",
    ")\n",
    "\n",
    "color_bar_trace = go.Scatter3d(\n",
    "    x=[None], y=[None], z=[None],\n",
    "    mode='markers',\n",
    "    marker=dict(\n",
    "        size=0,\n",
    "        color=[0, 1],\n",
    "        colorscale=[[0, 'rgb(255, 0, 0)'], [1, 'rgb(0, 0, 255)']],\n",
    "        colorbar=dict(\n",
    "            title=\"Proportion of Hole-Adjacent Edges\",\n",
    "            tickvals=[0, 1],\n",
    "            ticktext=[\"0% (Red)\", \"100% (Blue)\"]\n",
    "        )\n",
    "    ),\n",
    "    hoverinfo='none'\n",
    ")\n",
    "\n",
    "layout = go.Layout(\n",
    "    width=1200,\n",
    "    height=1000,\n",
    "    showlegend=False,\n",
    "    scene=dict(\n",
    "        xaxis=dict(showbackground=False),\n",
    "        yaxis=dict(showbackground=False),\n",
    "        zaxis=dict(showbackground=False)\n",
    "    ),\n",
    ")\n",
    "\n",
    "fig = go.Figure(data=edge_trace + [node_trace, color_bar_trace], layout=layout)\n",
    "fig.show()"
   ]
  }
 ],
 "metadata": {
  "kernelspec": {
   "display_name": "base",
   "language": "python",
   "name": "python3"
  },
  "language_info": {
   "codemirror_mode": {
    "name": "ipython",
    "version": 3
   },
   "file_extension": ".py",
   "mimetype": "text/x-python",
   "name": "python",
   "nbconvert_exporter": "python",
   "pygments_lexer": "ipython3",
   "version": "3.11.9"
  }
 },
 "nbformat": 4,
 "nbformat_minor": 2
}
