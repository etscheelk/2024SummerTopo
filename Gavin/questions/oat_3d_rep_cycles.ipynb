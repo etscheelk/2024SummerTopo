{
 "cells": [
  {
   "cell_type": "markdown",
   "metadata": {},
   "source": [
    "## 3D Void Representative Cycles\n",
    "Look at the 3D cycle representatives created via optimization."
   ]
  },
  {
   "cell_type": "markdown",
   "metadata": {},
   "source": [
    "#### Preliminaries"
   ]
  },
  {
   "cell_type": "code",
   "execution_count": 1,
   "metadata": {},
   "outputs": [],
   "source": [
    "# load some packages\n",
    "import plotly.graph_objects as go\n",
    "import oatpy as oat\n",
    "import numpy as np\n",
    "import time # keep track of how long optmization takes\n",
    "\n",
    "# enviorment\n",
    "np.random.seed(10) # use numpy randomization to generate points\n",
    "n = 150 # number of points"
   ]
  },
  {
   "cell_type": "markdown",
   "metadata": {},
   "source": [
    "#### Data\n",
    "We create a dataset that has two spheres connected by two bars."
   ]
  },
  {
   "cell_type": "code",
   "execution_count": 2,
   "metadata": {},
   "outputs": [],
   "source": [
    "def gen_sphere(n: int,\n",
    "               r: float = 1,\n",
    "               x: float = 0,\n",
    "               y: float = 0,\n",
    "               z: float = 0\n",
    "               ) -> np.ndarray:\n",
    "    '''\n",
    "    Randomly create pointset along a radius r sphere with n points centered (x, y, z).\n",
    "    '''\n",
    "    theta = np.random.uniform(0, 2*np.pi, n) # use sphereical coords with random angles and set radius\n",
    "    phi = np.random.uniform(0, 2*np.pi, n)\n",
    "\n",
    "    X = r * np.sin(phi) * np.cos(theta) # convert to cartasian coords\n",
    "    Y = r * np.sin(phi) * np.sin(theta)\n",
    "    Z = r * np.cos(phi)\n",
    "\n",
    "    pts = np.column_stack((X, Y, Z)) # combine, each row is one coord\n",
    "    pts += np.array([x, y, z]) # center the circle at (x, y, z)\n",
    "    return pts\n",
    "\n",
    "\n",
    "def gen_bar(n: int,\n",
    "            start: np.ndarray[float],\n",
    "            end: np.ndarray[float],\n",
    "            ) -> np.ndarray:\n",
    "    '''\n",
    "    Create a 3d pointset between the start and end points\n",
    "    '''\n",
    "    p = end-start # difference vector\n",
    "    len = sum((p)**2)**(1/2) # disatnce from start to end\n",
    "    R = np.random.uniform(0, len, n) # the locations of the points along the line from start to end\n",
    "    theta = np.arctan2(p[1], p[0]) if [0] != 0 else np.sign(p[1]) * np.pi / 2 # spherical angles of the points\n",
    "    phi = np.arctan2(sum((p[:2])**2)**(1/2), p[2])\n",
    "    \n",
    "    X = R * np.sin(phi) * np.cos(theta) # convert to cartasian coords\n",
    "    Y = R * np.sin(phi) * np.sin(theta)\n",
    "    Z = R * np.cos(phi)\n",
    "\n",
    "    pts = np.column_stack((X, Y, Z)) # combine, each row is one coord\n",
    "    pts += start # start the bar at the start\n",
    "    return pts\n",
    "\n",
    "\n",
    "def add_noise(pts: np.ndarray,\n",
    "              sigma: float\n",
    "              ) -> np.ndarray:\n",
    "    '''\n",
    "    Shifts the points around to add noise. Points move in a normally distrubuted ball around the current location\n",
    "    '''\n",
    "    n = pts.shape[0] # number of points\n",
    "    R = np.random.normal(0, sigma, n) # distance from current point\n",
    "    theta = np.random.uniform(0, 2*np.pi, n) # angles\n",
    "    phi = np.random.uniform(0, 2*np.pi, n)\n",
    "\n",
    "    X = R * np.sin(phi) * np.cos(theta) # noise from point in cartasian coords\n",
    "    Y = R * np.sin(phi) * np.sin(theta)\n",
    "    Z = R * np.cos(phi)\n",
    "\n",
    "    noise = np.column_stack((X, Y, Z)) # combine, each row is one coord\n",
    "    return pts + noise\n",
    "\n",
    "\n",
    "def gen_points(n: int,\n",
    "               r: float = 2,\n",
    "               sigma: float = 0\n",
    "               ) -> np.ndarray:\n",
    "    '''\n",
    "    Create an n pointed set around our shape with two spheres connected by tow bars.\n",
    "    '''\n",
    "    sphere_n = int(n // 2.3) # number of points in the sphere, 2.3 chosen based on vibes but it creates a nice shape imo\n",
    "    bar_n = int((n - 2*sphere_n) / 2) # number of points in the bar\n",
    "\n",
    "    top_sphere = gen_sphere(sphere_n, r, z=1.5*r) # gen the two spheres\n",
    "    bottom_sphere = gen_sphere(sphere_n, r, z=-1.5*r)\n",
    "    left_bar = gen_bar(bar_n, np.array([0, -r, -1.5*r]), np.array([0, -r, 1.5*r])) # gen the two bars\n",
    "    right_bar = gen_bar(bar_n, np.array([0, r, -1.5*r]), np.array([0, r, 1.5*r]))\n",
    "\n",
    "    pts = np.row_stack((top_sphere, bottom_sphere, left_bar, right_bar))\n",
    "    pts = add_noise(pts, sigma=sigma) # add noise (I dont think this is nessisary but it feels better)\n",
    "    return pts"
   ]
  },
  {
   "cell_type": "code",
   "execution_count": 3,
   "metadata": {},
   "outputs": [
    {
     "data": {
      "application/vnd.plotly.v1+json": {
       "config": {
        "plotlyServerURL": "https://plot.ly"
       },
       "data": [
        {
         "mode": "markers",
         "type": "scatter3d",
         "x": [
          0.24099609440026062,
          0.9459052428491446,
          -1.2427045372250942,
          -0.051433884491928344,
          1.9179147019474416,
          0.0754626231401496,
          0.27381987748991166,
          0.2510943827771924,
          -0.6543556064212848,
          1.3900071023527665,
          -0.21097111053364545,
          -1.3265316306145045,
          -1.9975758492810571,
          1.428568242818934,
          0.3820626767257851,
          0.8653877369989628,
          0.050284467166277394,
          0.30281210229156447,
          1.7319507989908225,
          -0.42613233208472867,
          -0.38145899499988223,
          1.1755128883777133,
          -1.4023996712301636,
          0.28939832272322746,
          0.8044254643756292,
          -0.2849236394818316,
          -1.3671731797173003,
          -0.7478125174610569,
          0.15686007340957897,
          -1.4301347061514855,
          0.038120431923179945,
          0.2841074831430881,
          0.6081727314115856,
          -0.6611496622885924,
          -0.16802735966394808,
          0.314816552902814,
          -1.267561305073793,
          0.32158348836488515,
          0.3781032990515907,
          1.3922760595743457,
          1.7918764466752988,
          -0.41115390446729533,
          0.17363260716907167,
          1.0112948663369463,
          0.6726181657977889,
          0.0752765168142189,
          -0.0003143404862772023,
          -1.3220352347871873,
          -0.7553679388430606,
          0.22296383036584522,
          -1.3804651799529948,
          1.0241862428159756,
          0.7730788287989033,
          -0.7747460622295846,
          -1.175819160789283,
          1.846831097242284,
          -2.0009077138690374,
          -1.2116814739390598,
          -0.9116729555413463,
          -0.0769326800570269,
          0.9176555584372866,
          1.385766410760012,
          -1.7667019399941535,
          1.308766089156314,
          0.5611589264039794,
          0.02810579618190706,
          1.618112135878201,
          -0.276692694367083,
          -1.1818678999432266,
          0.9735511531324905,
          -1.5321167248268441,
          1.7330410892795574,
          -1.249974037907788,
          -1.5274169251558738,
          1.3777876509564166,
          -1.7811237798388304,
          -0.4519813457193348,
          1.847175189041157,
          -0.067985045970385,
          1.3612634595715207,
          -0.46525843550395174,
          -0.7198117268327708,
          0.33387231496310743,
          -0.5749288027657355,
          -1.1170972807902728,
          -1.726124292717342,
          0.091053934578192,
          -0.5907857116655164,
          0.7984630001581839,
          0.7004525998294572,
          0.6374409857886782,
          0.921827816575034,
          -0.48950262235808173,
          0.5278699220456626,
          1.6320943743723864,
          -0.23401791608013084,
          0.30224127660263383,
          -1.603032987285266,
          -1.9521437022080457,
          0.10740838136713324,
          -1.4698954876636652,
          1.4934444449079516,
          -0.7914628162275198,
          -0.2573073144405479,
          0.5718938626093497,
          0.2839383912534662,
          0.7857777065117224,
          -0.7027719005322292,
          -0.028288646358340813,
          0.9313326391467384,
          1.8799150493201464,
          0.025550207269889828,
          -0.858317222688285,
          -1.0293062544086706,
          -1.8305868041779985,
          1.6541292253816107,
          -0.5801050348866499,
          0.3262893526784785,
          -0.14355848546193928,
          1.1526599178993406,
          0.06599489994353995,
          -1.4206287666285864,
          1.6319422235778331,
          -1.1158212707807034,
          0.992486455386081,
          1.614923263661248,
          -0.4270534678090496,
          -1.032615769203239,
          -0.20529353390905727,
          1.6895743523475837,
          -0.0580367711141819,
          -0.08791134182694263,
          0.0034330498951731766,
          0.0602048127945789,
          0.0038751215520781606,
          -0.004107802203620115,
          0.00030699942611696785,
          0.030054986951496263,
          -0.04147959269645468,
          0.0008904902078022412,
          -0.04523940174082875,
          0.0793416345217721,
          0.009172657410361598,
          0.007245773443079769,
          0.024082448999190174,
          -0.0012355370448450629,
          -0.005330616052466133,
          0.0012390063529189148,
          0.031612720466174866,
          0.0025169867137333018
         ],
         "y": [
          -1.7476052209964665,
          0.12685903843803312,
          -1.5024055848795577,
          -1.7143091900793404,
          0.04414064637729072,
          0.486863053300648,
          0.8161151670239568,
          -1.9150650182830506,
          -1.453456184287172,
          0.8351029557944165,
          -0.49248511095161834,
          0.4150590213769577,
          -0.10884434771632476,
          0.13535003088990571,
          -0.9090657178199161,
          0.7367793633647386,
          0.15707416426202359,
          -1.1065394062637077,
          -0.9858056293223536,
          -1.771005596398586,
          -0.09685613084306363,
          1.4982394958239371,
          1.4433971126081504,
          0.5494492368446982,
          -0.2788426990847904,
          0.12383498411973237,
          -1.2861180258481681,
          -0.08034516108672493,
          0.21260138399146494,
          -1.0084700761900411,
          -0.05750698793205378,
          0.03895142204402945,
          -0.39532082598516183,
          1.6569648340403553,
          -0.20630481449570964,
          -0.8875572885007396,
          -1.092033054514339,
          -0.6676161747495057,
          0.15602097986643623,
          1.4013205573594216,
          0.5318638041688013,
          0.9460457570517548,
          0.36685896263074136,
          -1.2867864134332472,
          -0.5983590273228785,
          -1.92577980971974,
          -0.12075071218273561,
          1.1813571260909517,
          1.4396273133734907,
          0.6796936141855081,
          1.0184959320925155,
          0.6698150810525435,
          -1.6731390378686097,
          -1.0543904890481512,
          1.082859545206985,
          -0.6504445935146318,
          0.17312731333002584,
          0.3341742447711287,
          1.7814698854923972,
          0.36626534150191814,
          0.628736270449864,
          -0.9150184648699894,
          -0.391095917714064,
          0.7857618086863001,
          0.10558335764546403,
          1.9553705995848876,
          0.3597136279748002,
          -1.868495987950347,
          1.091451170019377,
          -0.5041787491042742,
          0.6046859214132598,
          0.8054779465634925,
          -0.3586816847433397,
          -0.09834271450726173,
          -0.13925086826455357,
          -0.8920835959741598,
          1.6984481629067298,
          0.7517014682053901,
          0.07751694951020073,
          0.7949841766627928,
          -1.8613633476481592,
          -0.9772883216067014,
          -0.14132988552696407,
          -1.7181337873166074,
          -0.9053291863516476,
          0.688105961817672,
          0.3035129501304215,
          -0.0017357943494776852,
          -1.767258363456707,
          0.45023444752292696,
          -1.978452463165785,
          0.45565402069794725,
          -0.3186581756695339,
          1.3417850932441002,
          -0.728831053803635,
          1.1378487771444106,
          0.07686332243632069,
          -0.2749900740378073,
          0.7494786720949622,
          2.125075140108281,
          -0.653722943776779,
          -1.2362081819165895,
          -1.4593409916921396,
          0.34276153409432897,
          0.39927054310509696,
          -1.3317723898605132,
          -1.2796615564307725,
          -0.5223773980242754,
          0.13919795014982983,
          0.8268751084247568,
          0.4147035000307109,
          -1.2206213725102897,
          -1.725897817331749,
          0.1693001021043674,
          -0.1490772129887783,
          -0.17744716016586437,
          0.6390374077864617,
          0.6500807799647356,
          0.012558869163499941,
          -1.6124871635418012,
          1.3017780779622958,
          0.3980138609502213,
          -0.9907558784263603,
          -0.963166242499383,
          -1.4833456085074883,
          1.0681981614918616,
          -1.9476266721345303,
          -0.5468934715903268,
          -0.7224704021926796,
          1.0576432769200679,
          -1.9943961191374964,
          -2.1053743094778308,
          -1.9939639357111911,
          -2.030827272895107,
          -1.9813820502248392,
          -2.0060292468328815,
          -1.998163849556661,
          -1.9288236365001172,
          -1.924170770976584,
          -1.9974441481967997,
          2.0112222357451683,
          2.0244619359137648,
          2.0532752855476555,
          2.0303713259266076,
          2.02500410438344,
          1.9986287885397835,
          2.0153242752451432,
          1.9972030204277498,
          1.9823759696867074,
          1.9940671793216906
         ],
         "z": [
          1.7718982034046589,
          4.808711710014879,
          2.2168445140677053,
          2.181124770639634,
          3.3497903234254616,
          4.9119876676043095,
          1.2660045319720652,
          2.2779439780736563,
          1.7539391359529475,
          1.9736145668827791,
          4.913908259523104,
          4.472479709600413,
          3.0917823180322355,
          4.419827525123646,
          1.2602299999452078,
          1.5286060314292322,
          0.9423131105068911,
          1.420379173642134,
          2.8436417281679276,
          2.347328547939448,
          5.148964907558796,
          2.3397316312611207,
          3.0398756883539493,
          1.067459268968439,
          1.2107006707210386,
          1.0326364351571597,
          2.4673502172485042,
          4.885548809801875,
          5.02605830348917,
          1.968024853033125,
          1.0101018315357009,
          4.979603968101325,
          1.120678913771407,
          2.1229338503279274,
          1.0148777778630715,
          1.2363314173565474,
          4.270476611270691,
          4.835517752105704,
          0.9397508143469961,
          3.3978273853249337,
          2.693139047428864,
          1.2661963940858865,
          4.9017780888025175,
          1.8090659987749391,
          1.0633059420962128,
          2.3812833285399044,
          1.0783098400599351,
          2.0759746076843704,
          4.158272106449291,
          5.067796625937391,
          2.0027713611039273,
          4.5701376997292416,
          3.8825563191108943,
          4.513429460406471,
          1.703834842441142,
          3.417238510080346,
          3.0391920053441197,
          4.563045420130074,
          2.9444954157550165,
          0.9994763090786639,
          1.4282243131069274,
          4.246172929706724,
          3.816602450607879,
          1.7904264776064551,
          4.903593006872568,
          -3.531881024024637,
          -3.976227760896973,
          -2.315656130400948,
          -4.1393812643242756,
          -1.1698713116776536,
          -2.307847417278273,
          -2.6631773633094395,
          -4.420231999984052,
          -1.7039205242935374,
          -4.552750484795351,
          -3.011164588777639,
          -2.047936425594996,
          -3.187465593527785,
          -5.091143773350528,
          -4.227334756344423,
          -2.644665183432333,
          -1.3775171909159523,
          -0.9858194841039267,
          -3.918909044431429,
          -1.5724519356972684,
          -3.71858035833136,
          -1.0744583719032046,
          -1.0225772506821031,
          -2.2150919774361517,
          -1.2306140207453098,
          -2.9658850219311237,
          -1.2723625404960142,
          -4.974766610014017,
          -1.6353246580142529,
          -2.1737361925192813,
          -4.64521067451492,
          -1.0225105071804235,
          -1.849885093125241,
          -3.28793858924212,
          -3.4846121946922533,
          -4.2929738555603745,
          -2.44625814745755,
          -1.8924629711874934,
          -4.968346230694227,
          -4.8902316185402315,
          -1.5151734698088253,
          -4.428858863876677,
          -4.8090539032060695,
          -5.1138643119641625,
          -1.423706285712594,
          -3.6035212351000263,
          -4.596863485992853,
          -2.440221732467188,
          -4.629847152182607,
          -2.035003963598543,
          -1.9817294745096616,
          -4.839073036656689,
          -1.001366793488078,
          -0.9580805036439568,
          -2.7345238974034647,
          -4.495326412169657,
          -4.355059813083419,
          -2.4121065507397965,
          -4.400331008607225,
          -2.2450128414866706,
          -3.482139085831931,
          -3.3177790639022575,
          -4.592154257942372,
          -1.1467835041254488,
          -3.435263372401116,
          -1.353087474491003,
          -2.2859999249738587,
          -0.3126509655891242,
          2.6419902186734854,
          1.0245452017759669,
          -1.88764009078263,
          -2.7177358148123627,
          2.77446322776386,
          2.19886835848439,
          2.008583445215219,
          2.7433886097008684,
          0.6042759787701203,
          2.554404614949136,
          -2.100836548359392,
          -2.3837866296332604,
          -0.7706732763346871,
          1.6030544061443506,
          -1.099930915645859,
          0.8182821434535248,
          -2.9392989971087986
         ]
        }
       ],
       "layout": {
        "height": 500,
        "margin": {
         "b": 20,
         "l": 20,
         "r": 20,
         "t": 20
        },
        "template": {
         "data": {
          "bar": [
           {
            "error_x": {
             "color": "#2a3f5f"
            },
            "error_y": {
             "color": "#2a3f5f"
            },
            "marker": {
             "line": {
              "color": "#E5ECF6",
              "width": 0.5
             },
             "pattern": {
              "fillmode": "overlay",
              "size": 10,
              "solidity": 0.2
             }
            },
            "type": "bar"
           }
          ],
          "barpolar": [
           {
            "marker": {
             "line": {
              "color": "#E5ECF6",
              "width": 0.5
             },
             "pattern": {
              "fillmode": "overlay",
              "size": 10,
              "solidity": 0.2
             }
            },
            "type": "barpolar"
           }
          ],
          "carpet": [
           {
            "aaxis": {
             "endlinecolor": "#2a3f5f",
             "gridcolor": "white",
             "linecolor": "white",
             "minorgridcolor": "white",
             "startlinecolor": "#2a3f5f"
            },
            "baxis": {
             "endlinecolor": "#2a3f5f",
             "gridcolor": "white",
             "linecolor": "white",
             "minorgridcolor": "white",
             "startlinecolor": "#2a3f5f"
            },
            "type": "carpet"
           }
          ],
          "choropleth": [
           {
            "colorbar": {
             "outlinewidth": 0,
             "ticks": ""
            },
            "type": "choropleth"
           }
          ],
          "contour": [
           {
            "colorbar": {
             "outlinewidth": 0,
             "ticks": ""
            },
            "colorscale": [
             [
              0,
              "#0d0887"
             ],
             [
              0.1111111111111111,
              "#46039f"
             ],
             [
              0.2222222222222222,
              "#7201a8"
             ],
             [
              0.3333333333333333,
              "#9c179e"
             ],
             [
              0.4444444444444444,
              "#bd3786"
             ],
             [
              0.5555555555555556,
              "#d8576b"
             ],
             [
              0.6666666666666666,
              "#ed7953"
             ],
             [
              0.7777777777777778,
              "#fb9f3a"
             ],
             [
              0.8888888888888888,
              "#fdca26"
             ],
             [
              1,
              "#f0f921"
             ]
            ],
            "type": "contour"
           }
          ],
          "contourcarpet": [
           {
            "colorbar": {
             "outlinewidth": 0,
             "ticks": ""
            },
            "type": "contourcarpet"
           }
          ],
          "heatmap": [
           {
            "colorbar": {
             "outlinewidth": 0,
             "ticks": ""
            },
            "colorscale": [
             [
              0,
              "#0d0887"
             ],
             [
              0.1111111111111111,
              "#46039f"
             ],
             [
              0.2222222222222222,
              "#7201a8"
             ],
             [
              0.3333333333333333,
              "#9c179e"
             ],
             [
              0.4444444444444444,
              "#bd3786"
             ],
             [
              0.5555555555555556,
              "#d8576b"
             ],
             [
              0.6666666666666666,
              "#ed7953"
             ],
             [
              0.7777777777777778,
              "#fb9f3a"
             ],
             [
              0.8888888888888888,
              "#fdca26"
             ],
             [
              1,
              "#f0f921"
             ]
            ],
            "type": "heatmap"
           }
          ],
          "heatmapgl": [
           {
            "colorbar": {
             "outlinewidth": 0,
             "ticks": ""
            },
            "colorscale": [
             [
              0,
              "#0d0887"
             ],
             [
              0.1111111111111111,
              "#46039f"
             ],
             [
              0.2222222222222222,
              "#7201a8"
             ],
             [
              0.3333333333333333,
              "#9c179e"
             ],
             [
              0.4444444444444444,
              "#bd3786"
             ],
             [
              0.5555555555555556,
              "#d8576b"
             ],
             [
              0.6666666666666666,
              "#ed7953"
             ],
             [
              0.7777777777777778,
              "#fb9f3a"
             ],
             [
              0.8888888888888888,
              "#fdca26"
             ],
             [
              1,
              "#f0f921"
             ]
            ],
            "type": "heatmapgl"
           }
          ],
          "histogram": [
           {
            "marker": {
             "pattern": {
              "fillmode": "overlay",
              "size": 10,
              "solidity": 0.2
             }
            },
            "type": "histogram"
           }
          ],
          "histogram2d": [
           {
            "colorbar": {
             "outlinewidth": 0,
             "ticks": ""
            },
            "colorscale": [
             [
              0,
              "#0d0887"
             ],
             [
              0.1111111111111111,
              "#46039f"
             ],
             [
              0.2222222222222222,
              "#7201a8"
             ],
             [
              0.3333333333333333,
              "#9c179e"
             ],
             [
              0.4444444444444444,
              "#bd3786"
             ],
             [
              0.5555555555555556,
              "#d8576b"
             ],
             [
              0.6666666666666666,
              "#ed7953"
             ],
             [
              0.7777777777777778,
              "#fb9f3a"
             ],
             [
              0.8888888888888888,
              "#fdca26"
             ],
             [
              1,
              "#f0f921"
             ]
            ],
            "type": "histogram2d"
           }
          ],
          "histogram2dcontour": [
           {
            "colorbar": {
             "outlinewidth": 0,
             "ticks": ""
            },
            "colorscale": [
             [
              0,
              "#0d0887"
             ],
             [
              0.1111111111111111,
              "#46039f"
             ],
             [
              0.2222222222222222,
              "#7201a8"
             ],
             [
              0.3333333333333333,
              "#9c179e"
             ],
             [
              0.4444444444444444,
              "#bd3786"
             ],
             [
              0.5555555555555556,
              "#d8576b"
             ],
             [
              0.6666666666666666,
              "#ed7953"
             ],
             [
              0.7777777777777778,
              "#fb9f3a"
             ],
             [
              0.8888888888888888,
              "#fdca26"
             ],
             [
              1,
              "#f0f921"
             ]
            ],
            "type": "histogram2dcontour"
           }
          ],
          "mesh3d": [
           {
            "colorbar": {
             "outlinewidth": 0,
             "ticks": ""
            },
            "type": "mesh3d"
           }
          ],
          "parcoords": [
           {
            "line": {
             "colorbar": {
              "outlinewidth": 0,
              "ticks": ""
             }
            },
            "type": "parcoords"
           }
          ],
          "pie": [
           {
            "automargin": true,
            "type": "pie"
           }
          ],
          "scatter": [
           {
            "fillpattern": {
             "fillmode": "overlay",
             "size": 10,
             "solidity": 0.2
            },
            "type": "scatter"
           }
          ],
          "scatter3d": [
           {
            "line": {
             "colorbar": {
              "outlinewidth": 0,
              "ticks": ""
             }
            },
            "marker": {
             "colorbar": {
              "outlinewidth": 0,
              "ticks": ""
             }
            },
            "type": "scatter3d"
           }
          ],
          "scattercarpet": [
           {
            "marker": {
             "colorbar": {
              "outlinewidth": 0,
              "ticks": ""
             }
            },
            "type": "scattercarpet"
           }
          ],
          "scattergeo": [
           {
            "marker": {
             "colorbar": {
              "outlinewidth": 0,
              "ticks": ""
             }
            },
            "type": "scattergeo"
           }
          ],
          "scattergl": [
           {
            "marker": {
             "colorbar": {
              "outlinewidth": 0,
              "ticks": ""
             }
            },
            "type": "scattergl"
           }
          ],
          "scattermapbox": [
           {
            "marker": {
             "colorbar": {
              "outlinewidth": 0,
              "ticks": ""
             }
            },
            "type": "scattermapbox"
           }
          ],
          "scatterpolar": [
           {
            "marker": {
             "colorbar": {
              "outlinewidth": 0,
              "ticks": ""
             }
            },
            "type": "scatterpolar"
           }
          ],
          "scatterpolargl": [
           {
            "marker": {
             "colorbar": {
              "outlinewidth": 0,
              "ticks": ""
             }
            },
            "type": "scatterpolargl"
           }
          ],
          "scatterternary": [
           {
            "marker": {
             "colorbar": {
              "outlinewidth": 0,
              "ticks": ""
             }
            },
            "type": "scatterternary"
           }
          ],
          "surface": [
           {
            "colorbar": {
             "outlinewidth": 0,
             "ticks": ""
            },
            "colorscale": [
             [
              0,
              "#0d0887"
             ],
             [
              0.1111111111111111,
              "#46039f"
             ],
             [
              0.2222222222222222,
              "#7201a8"
             ],
             [
              0.3333333333333333,
              "#9c179e"
             ],
             [
              0.4444444444444444,
              "#bd3786"
             ],
             [
              0.5555555555555556,
              "#d8576b"
             ],
             [
              0.6666666666666666,
              "#ed7953"
             ],
             [
              0.7777777777777778,
              "#fb9f3a"
             ],
             [
              0.8888888888888888,
              "#fdca26"
             ],
             [
              1,
              "#f0f921"
             ]
            ],
            "type": "surface"
           }
          ],
          "table": [
           {
            "cells": {
             "fill": {
              "color": "#EBF0F8"
             },
             "line": {
              "color": "white"
             }
            },
            "header": {
             "fill": {
              "color": "#C8D4E3"
             },
             "line": {
              "color": "white"
             }
            },
            "type": "table"
           }
          ]
         },
         "layout": {
          "annotationdefaults": {
           "arrowcolor": "#2a3f5f",
           "arrowhead": 0,
           "arrowwidth": 1
          },
          "autotypenumbers": "strict",
          "coloraxis": {
           "colorbar": {
            "outlinewidth": 0,
            "ticks": ""
           }
          },
          "colorscale": {
           "diverging": [
            [
             0,
             "#8e0152"
            ],
            [
             0.1,
             "#c51b7d"
            ],
            [
             0.2,
             "#de77ae"
            ],
            [
             0.3,
             "#f1b6da"
            ],
            [
             0.4,
             "#fde0ef"
            ],
            [
             0.5,
             "#f7f7f7"
            ],
            [
             0.6,
             "#e6f5d0"
            ],
            [
             0.7,
             "#b8e186"
            ],
            [
             0.8,
             "#7fbc41"
            ],
            [
             0.9,
             "#4d9221"
            ],
            [
             1,
             "#276419"
            ]
           ],
           "sequential": [
            [
             0,
             "#0d0887"
            ],
            [
             0.1111111111111111,
             "#46039f"
            ],
            [
             0.2222222222222222,
             "#7201a8"
            ],
            [
             0.3333333333333333,
             "#9c179e"
            ],
            [
             0.4444444444444444,
             "#bd3786"
            ],
            [
             0.5555555555555556,
             "#d8576b"
            ],
            [
             0.6666666666666666,
             "#ed7953"
            ],
            [
             0.7777777777777778,
             "#fb9f3a"
            ],
            [
             0.8888888888888888,
             "#fdca26"
            ],
            [
             1,
             "#f0f921"
            ]
           ],
           "sequentialminus": [
            [
             0,
             "#0d0887"
            ],
            [
             0.1111111111111111,
             "#46039f"
            ],
            [
             0.2222222222222222,
             "#7201a8"
            ],
            [
             0.3333333333333333,
             "#9c179e"
            ],
            [
             0.4444444444444444,
             "#bd3786"
            ],
            [
             0.5555555555555556,
             "#d8576b"
            ],
            [
             0.6666666666666666,
             "#ed7953"
            ],
            [
             0.7777777777777778,
             "#fb9f3a"
            ],
            [
             0.8888888888888888,
             "#fdca26"
            ],
            [
             1,
             "#f0f921"
            ]
           ]
          },
          "colorway": [
           "#636efa",
           "#EF553B",
           "#00cc96",
           "#ab63fa",
           "#FFA15A",
           "#19d3f3",
           "#FF6692",
           "#B6E880",
           "#FF97FF",
           "#FECB52"
          ],
          "font": {
           "color": "#2a3f5f"
          },
          "geo": {
           "bgcolor": "white",
           "lakecolor": "white",
           "landcolor": "#E5ECF6",
           "showlakes": true,
           "showland": true,
           "subunitcolor": "white"
          },
          "hoverlabel": {
           "align": "left"
          },
          "hovermode": "closest",
          "mapbox": {
           "style": "light"
          },
          "paper_bgcolor": "white",
          "plot_bgcolor": "#E5ECF6",
          "polar": {
           "angularaxis": {
            "gridcolor": "white",
            "linecolor": "white",
            "ticks": ""
           },
           "bgcolor": "#E5ECF6",
           "radialaxis": {
            "gridcolor": "white",
            "linecolor": "white",
            "ticks": ""
           }
          },
          "scene": {
           "xaxis": {
            "backgroundcolor": "#E5ECF6",
            "gridcolor": "white",
            "gridwidth": 2,
            "linecolor": "white",
            "showbackground": true,
            "ticks": "",
            "zerolinecolor": "white"
           },
           "yaxis": {
            "backgroundcolor": "#E5ECF6",
            "gridcolor": "white",
            "gridwidth": 2,
            "linecolor": "white",
            "showbackground": true,
            "ticks": "",
            "zerolinecolor": "white"
           },
           "zaxis": {
            "backgroundcolor": "#E5ECF6",
            "gridcolor": "white",
            "gridwidth": 2,
            "linecolor": "white",
            "showbackground": true,
            "ticks": "",
            "zerolinecolor": "white"
           }
          },
          "shapedefaults": {
           "line": {
            "color": "#2a3f5f"
           }
          },
          "ternary": {
           "aaxis": {
            "gridcolor": "white",
            "linecolor": "white",
            "ticks": ""
           },
           "baxis": {
            "gridcolor": "white",
            "linecolor": "white",
            "ticks": ""
           },
           "bgcolor": "#E5ECF6",
           "caxis": {
            "gridcolor": "white",
            "linecolor": "white",
            "ticks": ""
           }
          },
          "title": {
           "x": 0.05
          },
          "xaxis": {
           "automargin": true,
           "gridcolor": "white",
           "linecolor": "white",
           "ticks": "",
           "title": {
            "standoff": 15
           },
           "zerolinecolor": "white",
           "zerolinewidth": 2
          },
          "yaxis": {
           "automargin": true,
           "gridcolor": "white",
           "linecolor": "white",
           "ticks": "",
           "title": {
            "standoff": 15
           },
           "zerolinecolor": "white",
           "zerolinewidth": 2
          }
         }
        },
        "width": 300
       }
      }
     },
     "metadata": {},
     "output_type": "display_data"
    }
   ],
   "source": [
    "dta = gen_points(n, sigma=0.1)\n",
    "\n",
    "# plotly plotting\n",
    "trace = go.Scatter3d(x=dta[:, 0], y=dta[:, 1], z=dta[:, 2], mode='markers')\n",
    "fig = go.Figure(trace)\n",
    "fig.update_layout(\n",
    "        width=300, \n",
    "        height=500,\n",
    "        margin=dict(l=20, r=20, t=20, b=20),\n",
    "    )  \n",
    "fig.show()"
   ]
  },
  {
   "cell_type": "markdown",
   "metadata": {},
   "source": [
    "#### Solve Homology\n",
    "We use `homology_dimension_max=2` here to find the trapped voids. It does take much longer tho."
   ]
  },
  {
   "cell_type": "code",
   "execution_count": 4,
   "metadata": {},
   "outputs": [],
   "source": [
    "# setup problem\n",
    "enclosing = oat.dissimilarity.enclosing_from_cloud(dta) # max fintration radius\n",
    "dissimilairty_matrix = oat.dissimilarity.matrix_from_cloud( # distance matrix\n",
    "        cloud=dta,\n",
    "        dissimilarity_max=enclosing + 1e-10 # i belive any elements past this are removed (returns a sparse matrix)\n",
    "    )\n",
    "# add 1e-10 to elimite some numerical error (greg says to do it)\n",
    "factored = oat.rust.FactoredBoundaryMatrixVr( # two functions that do this, idk what the other one is\n",
    "        dissimilarity_matrix=dissimilairty_matrix,\n",
    "        homology_dimension_max=2\n",
    "    )\n",
    "\n",
    "# solve homology\n",
    "homology = factored.homology( # solve homology\n",
    "        return_cycle_representatives=True, # These need to be true to be able to make a barcode, makes the problem take ~30% longer (1:30ish)\n",
    "        return_bounding_chains=False\n",
    "    )"
   ]
  },
  {
   "cell_type": "markdown",
   "metadata": {},
   "source": [
    "#### Visualize Homology\n",
    "See a persistence diagram for the homology.\n",
    "\n",
    "Based on the data input, we expect there to be only one 1D cycle, 1 large 2D cycle, and 2 large 3d cycles, which is what we see."
   ]
  },
  {
   "cell_type": "code",
   "execution_count": 5,
   "metadata": {},
   "outputs": [
    {
     "data": {
      "application/vnd.plotly.v1+json": {
       "config": {
        "plotlyServerURL": "https://plot.ly"
       },
       "data": [
        {
         "line": {
          "color": "black"
         },
         "mode": "lines",
         "showlegend": false,
         "type": "scatter",
         "x": [
          0,
          3.9582908157535925
         ],
         "y": [
          0,
          3.9582908157535925
         ]
        },
        {
         "legendgroup": "0",
         "marker": {
          "color": "#636EFA"
         },
         "mode": "markers",
         "name": "Dimension 0",
         "showlegend": true,
         "text": [
          "birth filtration = 0.0<br>death filtration = 0.5567909418391603<br>interval length = 0.5567909418391603<br>birth simplex = [149]<br>cyle representative nnz = 2<br>row of dataframe = 0"
         ],
         "type": "scatter",
         "x": [
          0
         ],
         "y": [
          0.5567909418391603
         ]
        },
        {
         "legendgroup": "0",
         "marker": {
          "color": "#636EFA"
         },
         "mode": "markers",
         "name": "Dimension 0",
         "showlegend": false,
         "text": [
          "birth filtration = 0.0<br>death filtration = 0.22326646929776994<br>interval length = 0.22326646929776994<br>birth simplex = [148]<br>cyle representative nnz = 2<br>row of dataframe = 1"
         ],
         "type": "scatter",
         "x": [
          0
         ],
         "y": [
          0.22326646929776994
         ]
        },
        {
         "legendgroup": "0",
         "marker": {
          "color": "#636EFA"
         },
         "mode": "markers",
         "name": "Dimension 0",
         "showlegend": false,
         "text": [
          "birth filtration = 0.0<br>death filtration = 0.32927002478892986<br>interval length = 0.32927002478892986<br>birth simplex = [147]<br>cyle representative nnz = 2<br>row of dataframe = 2"
         ],
         "type": "scatter",
         "x": [
          0
         ],
         "y": [
          0.32927002478892986
         ]
        },
        {
         "legendgroup": "0",
         "marker": {
          "color": "#636EFA"
         },
         "mode": "markers",
         "name": "Dimension 0",
         "showlegend": false,
         "text": [
          "birth filtration = 0.0<br>death filtration = 0.7863319307017744<br>interval length = 0.7863319307017744<br>birth simplex = [146]<br>cyle representative nnz = 2<br>row of dataframe = 3"
         ],
         "type": "scatter",
         "x": [
          0
         ],
         "y": [
          0.7863319307017744
         ]
        },
        {
         "legendgroup": "0",
         "marker": {
          "color": "#636EFA"
         },
         "mode": "markers",
         "name": "Dimension 0",
         "showlegend": false,
         "text": [
          "birth filtration = 0.0<br>death filtration = 0.9967744178119359<br>interval length = 0.9967744178119359<br>birth simplex = [145]<br>cyle representative nnz = 2<br>row of dataframe = 4"
         ],
         "type": "scatter",
         "x": [
          0
         ],
         "y": [
          0.9967744178119359
         ]
        },
        {
         "legendgroup": "0",
         "marker": {
          "color": "#636EFA"
         },
         "mode": "markers",
         "name": "Dimension 0",
         "showlegend": false,
         "text": [
          "birth filtration = 0.0<br>death filtration = 0.28350137425374855<br>interval length = 0.28350137425374855<br>birth simplex = [144]<br>cyle representative nnz = 2<br>row of dataframe = 5"
         ],
         "type": "scatter",
         "x": [
          0
         ],
         "y": [
          0.28350137425374855
         ]
        },
        {
         "legendgroup": "0",
         "marker": {
          "color": "#636EFA"
         },
         "mode": "markers",
         "name": "Dimension 0",
         "showlegend": false,
         "text": [
          "birth filtration = 0.0<br>death filtration = 0.5690878281177862<br>interval length = 0.5690878281177862<br>birth simplex = [143]<br>cyle representative nnz = 2<br>row of dataframe = 6"
         ],
         "type": "scatter",
         "x": [
          0
         ],
         "y": [
          0.5690878281177862
         ]
        },
        {
         "legendgroup": "0",
         "marker": {
          "color": "#636EFA"
         },
         "mode": "markers",
         "name": "Dimension 0",
         "showlegend": false,
         "text": [
          "birth filtration = 0.0<br>death filtration = 0.2011071392345034<br>interval length = 0.2011071392345034<br>birth simplex = [142]<br>cyle representative nnz = 2<br>row of dataframe = 7"
         ],
         "type": "scatter",
         "x": [
          0
         ],
         "y": [
          0.2011071392345034
         ]
        },
        {
         "legendgroup": "0",
         "marker": {
          "color": "#636EFA"
         },
         "mode": "markers",
         "name": "Dimension 0",
         "showlegend": false,
         "text": [
          "birth filtration = 0.0<br>death filtration = 0.9103816490853135<br>interval length = 0.9103816490853135<br>birth simplex = [141]<br>cyle representative nnz = 2<br>row of dataframe = 8"
         ],
         "type": "scatter",
         "x": [
          0
         ],
         "y": [
          0.9103816490853135
         ]
        },
        {
         "legendgroup": "0",
         "marker": {
          "color": "#636EFA"
         },
         "mode": "markers",
         "name": "Dimension 0",
         "showlegend": false,
         "text": [
          "birth filtration = 0.0<br>death filtration = 0.890258955014392<br>interval length = 0.890258955014392<br>birth simplex = [140]<br>cyle representative nnz = 2<br>row of dataframe = 9"
         ],
         "type": "scatter",
         "x": [
          0
         ],
         "y": [
          0.890258955014392
         ]
        },
        {
         "legendgroup": "0",
         "marker": {
          "color": "#636EFA"
         },
         "mode": "markers",
         "name": "Dimension 0",
         "showlegend": false,
         "text": [
          "birth filtration = 0.0<br>death filtration = 0.208260797925163<br>interval length = 0.208260797925163<br>birth simplex = [139]<br>cyle representative nnz = 2<br>row of dataframe = 10"
         ],
         "type": "scatter",
         "x": [
          0
         ],
         "y": [
          0.208260797925163
         ]
        },
        {
         "legendgroup": "0",
         "marker": {
          "color": "#636EFA"
         },
         "mode": "markers",
         "name": "Dimension 0",
         "showlegend": false,
         "text": [
          "birth filtration = 0.0<br>death filtration = 0.21084545518327966<br>interval length = 0.21084545518327966<br>birth simplex = [138]<br>cyle representative nnz = 2<br>row of dataframe = 11"
         ],
         "type": "scatter",
         "x": [
          0
         ],
         "y": [
          0.21084545518327966
         ]
        },
        {
         "legendgroup": "0",
         "marker": {
          "color": "#636EFA"
         },
         "mode": "markers",
         "name": "Dimension 0",
         "showlegend": false,
         "text": [
          "birth filtration = 0.0<br>death filtration = 0.16989070596600622<br>interval length = 0.16989070596600622<br>birth simplex = [137]<br>cyle representative nnz = 2<br>row of dataframe = 12"
         ],
         "type": "scatter",
         "x": [
          0
         ],
         "y": [
          0.16989070596600622
         ]
        },
        {
         "legendgroup": "0",
         "marker": {
          "color": "#636EFA"
         },
         "mode": "markers",
         "name": "Dimension 0",
         "showlegend": false,
         "text": [
          "birth filtration = 0.0<br>death filtration = 0.4535112314205624<br>interval length = 0.4535112314205624<br>birth simplex = [136]<br>cyle representative nnz = 2<br>row of dataframe = 13"
         ],
         "type": "scatter",
         "x": [
          0
         ],
         "y": [
          0.4535112314205624
         ]
        },
        {
         "legendgroup": "0",
         "marker": {
          "color": "#636EFA"
         },
         "mode": "markers",
         "name": "Dimension 0",
         "showlegend": false,
         "text": [
          "birth filtration = 0.0<br>death filtration = 0.4190262906097777<br>interval length = 0.4190262906097777<br>birth simplex = [135]<br>cyle representative nnz = 2<br>row of dataframe = 14"
         ],
         "type": "scatter",
         "x": [
          0
         ],
         "y": [
          0.4190262906097777
         ]
        },
        {
         "legendgroup": "0",
         "marker": {
          "color": "#636EFA"
         },
         "mode": "markers",
         "name": "Dimension 0",
         "showlegend": false,
         "text": [
          "birth filtration = 0.0<br>death filtration = 0.8181775300580895<br>interval length = 0.8181775300580895<br>birth simplex = [134]<br>cyle representative nnz = 2<br>row of dataframe = 15"
         ],
         "type": "scatter",
         "x": [
          0
         ],
         "y": [
          0.8181775300580895
         ]
        },
        {
         "legendgroup": "0",
         "marker": {
          "color": "#636EFA"
         },
         "mode": "markers",
         "name": "Dimension 0",
         "showlegend": false,
         "text": [
          "birth filtration = 0.0<br>death filtration = 0.28147861081218717<br>interval length = 0.28147861081218717<br>birth simplex = [133]<br>cyle representative nnz = 2<br>row of dataframe = 16"
         ],
         "type": "scatter",
         "x": [
          0
         ],
         "y": [
          0.28147861081218717
         ]
        },
        {
         "legendgroup": "0",
         "marker": {
          "color": "#636EFA"
         },
         "mode": "markers",
         "name": "Dimension 0",
         "showlegend": false,
         "text": [
          "birth filtration = 0.0<br>death filtration = 1.0422508597901783<br>interval length = 1.0422508597901783<br>birth simplex = [132]<br>cyle representative nnz = 2<br>row of dataframe = 17"
         ],
         "type": "scatter",
         "x": [
          0
         ],
         "y": [
          1.0422508597901783
         ]
        },
        {
         "legendgroup": "0",
         "marker": {
          "color": "#636EFA"
         },
         "mode": "markers",
         "name": "Dimension 0",
         "showlegend": false,
         "text": [
          "birth filtration = 0.0<br>death filtration = 0.30435050319803386<br>interval length = 0.30435050319803386<br>birth simplex = [131]<br>cyle representative nnz = 2<br>row of dataframe = 18"
         ],
         "type": "scatter",
         "x": [
          0
         ],
         "y": [
          0.30435050319803386
         ]
        },
        {
         "legendgroup": "0",
         "marker": {
          "color": "#636EFA"
         },
         "mode": "markers",
         "name": "Dimension 0",
         "showlegend": false,
         "text": [
          "birth filtration = 0.0<br>death filtration = 0.5373920011797318<br>interval length = 0.5373920011797318<br>birth simplex = [130]<br>cyle representative nnz = 2<br>row of dataframe = 19"
         ],
         "type": "scatter",
         "x": [
          0
         ],
         "y": [
          0.5373920011797318
         ]
        },
        {
         "legendgroup": "0",
         "marker": {
          "color": "#636EFA"
         },
         "mode": "markers",
         "name": "Dimension 0",
         "showlegend": false,
         "text": [
          "birth filtration = 0.0<br>death filtration = 0.08877794286886194<br>interval length = 0.08877794286886194<br>birth simplex = [129]<br>cyle representative nnz = 2<br>row of dataframe = 20"
         ],
         "type": "scatter",
         "x": [
          0
         ],
         "y": [
          0.08877794286886194
         ]
        },
        {
         "legendgroup": "0",
         "marker": {
          "color": "#636EFA"
         },
         "mode": "markers",
         "name": "Dimension 0",
         "showlegend": false,
         "text": [
          "birth filtration = 0.0<br>death filtration = 0.6187884752675286<br>interval length = 0.6187884752675286<br>birth simplex = [128]<br>cyle representative nnz = 2<br>row of dataframe = 21"
         ],
         "type": "scatter",
         "x": [
          0
         ],
         "y": [
          0.6187884752675286
         ]
        },
        {
         "legendgroup": "0",
         "marker": {
          "color": "#636EFA"
         },
         "mode": "markers",
         "name": "Dimension 0",
         "showlegend": false,
         "text": [
          "birth filtration = 0.0<br>death filtration = 0.33500083054204766<br>interval length = 0.33500083054204766<br>birth simplex = [127]<br>cyle representative nnz = 2<br>row of dataframe = 22"
         ],
         "type": "scatter",
         "x": [
          0
         ],
         "y": [
          0.33500083054204766
         ]
        },
        {
         "legendgroup": "0",
         "marker": {
          "color": "#636EFA"
         },
         "mode": "markers",
         "name": "Dimension 0",
         "showlegend": false,
         "text": [
          "birth filtration = 0.0<br>death filtration = 0.6602206845908469<br>interval length = 0.6602206845908469<br>birth simplex = [126]<br>cyle representative nnz = 2<br>row of dataframe = 23"
         ],
         "type": "scatter",
         "x": [
          0
         ],
         "y": [
          0.6602206845908469
         ]
        },
        {
         "legendgroup": "0",
         "marker": {
          "color": "#636EFA"
         },
         "mode": "markers",
         "name": "Dimension 0",
         "showlegend": false,
         "text": [
          "birth filtration = 0.0<br>death filtration = 0.4240780037453948<br>interval length = 0.4240780037453948<br>birth simplex = [125]<br>cyle representative nnz = 2<br>row of dataframe = 24"
         ],
         "type": "scatter",
         "x": [
          0
         ],
         "y": [
          0.4240780037453948
         ]
        },
        {
         "legendgroup": "0",
         "marker": {
          "color": "#636EFA"
         },
         "mode": "markers",
         "name": "Dimension 0",
         "showlegend": false,
         "text": [
          "birth filtration = 0.0<br>death filtration = 0.34517649356083985<br>interval length = 0.34517649356083985<br>birth simplex = [124]<br>cyle representative nnz = 2<br>row of dataframe = 25"
         ],
         "type": "scatter",
         "x": [
          0
         ],
         "y": [
          0.34517649356083985
         ]
        },
        {
         "legendgroup": "0",
         "marker": {
          "color": "#636EFA"
         },
         "mode": "markers",
         "name": "Dimension 0",
         "showlegend": false,
         "text": [
          "birth filtration = 0.0<br>death filtration = 0.4658350934381771<br>interval length = 0.4658350934381771<br>birth simplex = [123]<br>cyle representative nnz = 2<br>row of dataframe = 26"
         ],
         "type": "scatter",
         "x": [
          0
         ],
         "y": [
          0.4658350934381771
         ]
        },
        {
         "legendgroup": "0",
         "marker": {
          "color": "#636EFA"
         },
         "mode": "markers",
         "name": "Dimension 0",
         "showlegend": false,
         "text": [
          "birth filtration = 0.0<br>death filtration = 0.2838922322704924<br>interval length = 0.2838922322704924<br>birth simplex = [122]<br>cyle representative nnz = 2<br>row of dataframe = 27"
         ],
         "type": "scatter",
         "x": [
          0
         ],
         "y": [
          0.2838922322704924
         ]
        },
        {
         "legendgroup": "0",
         "marker": {
          "color": "#636EFA"
         },
         "mode": "markers",
         "name": "Dimension 0",
         "showlegend": false,
         "text": [
          "birth filtration = 0.0<br>death filtration = 0.5300484636188634<br>interval length = 0.5300484636188634<br>birth simplex = [121]<br>cyle representative nnz = 2<br>row of dataframe = 28"
         ],
         "type": "scatter",
         "x": [
          0
         ],
         "y": [
          0.5300484636188634
         ]
        },
        {
         "legendgroup": "0",
         "marker": {
          "color": "#636EFA"
         },
         "mode": "markers",
         "name": "Dimension 0",
         "showlegend": false,
         "text": [
          "birth filtration = 0.0<br>death filtration = 0.3732905002057744<br>interval length = 0.3732905002057744<br>birth simplex = [120]<br>cyle representative nnz = 2<br>row of dataframe = 29"
         ],
         "type": "scatter",
         "x": [
          0
         ],
         "y": [
          0.3732905002057744
         ]
        },
        {
         "legendgroup": "0",
         "marker": {
          "color": "#636EFA"
         },
         "mode": "markers",
         "name": "Dimension 0",
         "showlegend": false,
         "text": [
          "birth filtration = 0.0<br>death filtration = 0.530993552875119<br>interval length = 0.530993552875119<br>birth simplex = [119]<br>cyle representative nnz = 2<br>row of dataframe = 30"
         ],
         "type": "scatter",
         "x": [
          0
         ],
         "y": [
          0.530993552875119
         ]
        },
        {
         "legendgroup": "0",
         "marker": {
          "color": "#636EFA"
         },
         "mode": "markers",
         "name": "Dimension 0",
         "showlegend": false,
         "text": [
          "birth filtration = 0.0<br>death filtration = 0.39146018071952066<br>interval length = 0.39146018071952066<br>birth simplex = [118]<br>cyle representative nnz = 2<br>row of dataframe = 31"
         ],
         "type": "scatter",
         "x": [
          0
         ],
         "y": [
          0.39146018071952066
         ]
        },
        {
         "legendgroup": "0",
         "marker": {
          "color": "#636EFA"
         },
         "mode": "markers",
         "name": "Dimension 0",
         "showlegend": false,
         "text": [
          "birth filtration = 0.0<br>death filtration = 0.42519094703450266<br>interval length = 0.42519094703450266<br>birth simplex = [117]<br>cyle representative nnz = 2<br>row of dataframe = 32"
         ],
         "type": "scatter",
         "x": [
          0
         ],
         "y": [
          0.42519094703450266
         ]
        },
        {
         "legendgroup": "0",
         "marker": {
          "color": "#636EFA"
         },
         "mode": "markers",
         "name": "Dimension 0",
         "showlegend": false,
         "text": [
          "birth filtration = 0.0<br>death filtration = 0.45682526238585275<br>interval length = 0.45682526238585275<br>birth simplex = [116]<br>cyle representative nnz = 2<br>row of dataframe = 33"
         ],
         "type": "scatter",
         "x": [
          0
         ],
         "y": [
          0.45682526238585275
         ]
        },
        {
         "legendgroup": "0",
         "marker": {
          "color": "#636EFA"
         },
         "mode": "markers",
         "name": "Dimension 0",
         "showlegend": false,
         "text": [
          "birth filtration = 0.0<br>death filtration = 0.5842741758652119<br>interval length = 0.5842741758652119<br>birth simplex = [115]<br>cyle representative nnz = 2<br>row of dataframe = 34"
         ],
         "type": "scatter",
         "x": [
          0
         ],
         "y": [
          0.5842741758652119
         ]
        },
        {
         "legendgroup": "0",
         "marker": {
          "color": "#636EFA"
         },
         "mode": "markers",
         "name": "Dimension 0",
         "showlegend": false,
         "text": [
          "birth filtration = 0.0<br>death filtration = 0.31922372149530864<br>interval length = 0.31922372149530864<br>birth simplex = [114]<br>cyle representative nnz = 2<br>row of dataframe = 35"
         ],
         "type": "scatter",
         "x": [
          0
         ],
         "y": [
          0.31922372149530864
         ]
        },
        {
         "legendgroup": "0",
         "marker": {
          "color": "#636EFA"
         },
         "mode": "markers",
         "name": "Dimension 0",
         "showlegend": false,
         "text": [
          "birth filtration = 0.0<br>death filtration = 0.6094239492738484<br>interval length = 0.6094239492738484<br>birth simplex = [113]<br>cyle representative nnz = 2<br>row of dataframe = 36"
         ],
         "type": "scatter",
         "x": [
          0
         ],
         "y": [
          0.6094239492738484
         ]
        },
        {
         "legendgroup": "0",
         "marker": {
          "color": "#636EFA"
         },
         "mode": "markers",
         "name": "Dimension 0",
         "showlegend": false,
         "text": [
          "birth filtration = 0.0<br>death filtration = 0.46329606595487405<br>interval length = 0.46329606595487405<br>birth simplex = [112]<br>cyle representative nnz = 2<br>row of dataframe = 37"
         ],
         "type": "scatter",
         "x": [
          0
         ],
         "y": [
          0.46329606595487405
         ]
        },
        {
         "legendgroup": "0",
         "marker": {
          "color": "#636EFA"
         },
         "mode": "markers",
         "name": "Dimension 0",
         "showlegend": false,
         "text": [
          "birth filtration = 0.0<br>death filtration = 0.7808054475816969<br>interval length = 0.7808054475816969<br>birth simplex = [111]<br>cyle representative nnz = 2<br>row of dataframe = 38"
         ],
         "type": "scatter",
         "x": [
          0
         ],
         "y": [
          0.7808054475816969
         ]
        },
        {
         "legendgroup": "0",
         "marker": {
          "color": "#636EFA"
         },
         "mode": "markers",
         "name": "Dimension 0",
         "showlegend": false,
         "text": [
          "birth filtration = 0.0<br>death filtration = 0.4587753326924263<br>interval length = 0.4587753326924263<br>birth simplex = [110]<br>cyle representative nnz = 2<br>row of dataframe = 39"
         ],
         "type": "scatter",
         "x": [
          0
         ],
         "y": [
          0.4587753326924263
         ]
        },
        {
         "legendgroup": "0",
         "marker": {
          "color": "#636EFA"
         },
         "mode": "markers",
         "name": "Dimension 0",
         "showlegend": false,
         "text": [
          "birth filtration = 0.0<br>death filtration = 0.40099921052462956<br>interval length = 0.40099921052462956<br>birth simplex = [109]<br>cyle representative nnz = 2<br>row of dataframe = 40"
         ],
         "type": "scatter",
         "x": [
          0
         ],
         "y": [
          0.40099921052462956
         ]
        },
        {
         "legendgroup": "0",
         "marker": {
          "color": "#636EFA"
         },
         "mode": "markers",
         "name": "Dimension 0",
         "showlegend": false,
         "text": [
          "birth filtration = 0.0<br>death filtration = 0.07678914543709071<br>interval length = 0.07678914543709071<br>birth simplex = [108]<br>cyle representative nnz = 2<br>row of dataframe = 41"
         ],
         "type": "scatter",
         "x": [
          0
         ],
         "y": [
          0.07678914543709071
         ]
        },
        {
         "legendgroup": "0",
         "marker": {
          "color": "#636EFA"
         },
         "mode": "markers",
         "name": "Dimension 0",
         "showlegend": false,
         "text": [
          "birth filtration = 0.0<br>death filtration = 0.3382986960769421<br>interval length = 0.3382986960769421<br>birth simplex = [107]<br>cyle representative nnz = 2<br>row of dataframe = 42"
         ],
         "type": "scatter",
         "x": [
          0
         ],
         "y": [
          0.3382986960769421
         ]
        },
        {
         "legendgroup": "0",
         "marker": {
          "color": "#636EFA"
         },
         "mode": "markers",
         "name": "Dimension 0",
         "showlegend": false,
         "text": [
          "birth filtration = 0.0<br>death filtration = 1.0310298316617548<br>interval length = 1.0310298316617548<br>birth simplex = [106]<br>cyle representative nnz = 2<br>row of dataframe = 43"
         ],
         "type": "scatter",
         "x": [
          0
         ],
         "y": [
          1.0310298316617548
         ]
        },
        {
         "legendgroup": "0",
         "marker": {
          "color": "#636EFA"
         },
         "mode": "markers",
         "name": "Dimension 0",
         "showlegend": false,
         "text": [
          "birth filtration = 0.0<br>death filtration = 0.7630786906705527<br>interval length = 0.7630786906705527<br>birth simplex = [105]<br>cyle representative nnz = 2<br>row of dataframe = 44"
         ],
         "type": "scatter",
         "x": [
          0
         ],
         "y": [
          0.7630786906705527
         ]
        },
        {
         "legendgroup": "0",
         "marker": {
          "color": "#636EFA"
         },
         "mode": "markers",
         "name": "Dimension 0",
         "showlegend": false,
         "text": [
          "birth filtration = 0.0<br>death filtration = 0.6912802465319474<br>interval length = 0.6912802465319474<br>birth simplex = [104]<br>cyle representative nnz = 2<br>row of dataframe = 45"
         ],
         "type": "scatter",
         "x": [
          0
         ],
         "y": [
          0.6912802465319474
         ]
        },
        {
         "legendgroup": "0",
         "marker": {
          "color": "#636EFA"
         },
         "mode": "markers",
         "name": "Dimension 0",
         "showlegend": false,
         "text": [
          "birth filtration = 0.0<br>death filtration = 0.3392096623254722<br>interval length = 0.3392096623254722<br>birth simplex = [103]<br>cyle representative nnz = 2<br>row of dataframe = 46"
         ],
         "type": "scatter",
         "x": [
          0
         ],
         "y": [
          0.3392096623254722
         ]
        },
        {
         "legendgroup": "0",
         "marker": {
          "color": "#636EFA"
         },
         "mode": "markers",
         "name": "Dimension 0",
         "showlegend": false,
         "text": [
          "birth filtration = 0.0<br>death filtration = 0.6128309012418938<br>interval length = 0.6128309012418938<br>birth simplex = [102]<br>cyle representative nnz = 2<br>row of dataframe = 47"
         ],
         "type": "scatter",
         "x": [
          0
         ],
         "y": [
          0.6128309012418938
         ]
        },
        {
         "legendgroup": "0",
         "marker": {
          "color": "#636EFA"
         },
         "mode": "markers",
         "name": "Dimension 0",
         "showlegend": false,
         "text": [
          "birth filtration = 0.0<br>death filtration = 0.35415401251671064<br>interval length = 0.35415401251671064<br>birth simplex = [101]<br>cyle representative nnz = 2<br>row of dataframe = 48"
         ],
         "type": "scatter",
         "x": [
          0
         ],
         "y": [
          0.35415401251671064
         ]
        },
        {
         "legendgroup": "0",
         "marker": {
          "color": "#636EFA"
         },
         "mode": "markers",
         "name": "Dimension 0",
         "showlegend": false,
         "text": [
          "birth filtration = 0.0<br>death filtration = 0.38937054834299095<br>interval length = 0.38937054834299095<br>birth simplex = [100]<br>cyle representative nnz = 2<br>row of dataframe = 49"
         ],
         "type": "scatter",
         "x": [
          0
         ],
         "y": [
          0.38937054834299095
         ]
        },
        {
         "legendgroup": "0",
         "marker": {
          "color": "#636EFA"
         },
         "mode": "markers",
         "name": "Dimension 0",
         "showlegend": false,
         "text": [
          "birth filtration = 0.0<br>death filtration = 0.19319128685779313<br>interval length = 0.19319128685779313<br>birth simplex = [99]<br>cyle representative nnz = 2<br>row of dataframe = 50"
         ],
         "type": "scatter",
         "x": [
          0
         ],
         "y": [
          0.19319128685779313
         ]
        },
        {
         "legendgroup": "0",
         "marker": {
          "color": "#636EFA"
         },
         "mode": "markers",
         "name": "Dimension 0",
         "showlegend": false,
         "text": [
          "birth filtration = 0.0<br>death filtration = 0.49020782971880084<br>interval length = 0.49020782971880084<br>birth simplex = [98]<br>cyle representative nnz = 2<br>row of dataframe = 51"
         ],
         "type": "scatter",
         "x": [
          0
         ],
         "y": [
          0.49020782971880084
         ]
        },
        {
         "legendgroup": "0",
         "marker": {
          "color": "#636EFA"
         },
         "mode": "markers",
         "name": "Dimension 0",
         "showlegend": false,
         "text": [
          "birth filtration = 0.0<br>death filtration = 0.24130423501317813<br>interval length = 0.24130423501317813<br>birth simplex = [97]<br>cyle representative nnz = 2<br>row of dataframe = 52"
         ],
         "type": "scatter",
         "x": [
          0
         ],
         "y": [
          0.24130423501317813
         ]
        },
        {
         "legendgroup": "0",
         "marker": {
          "color": "#636EFA"
         },
         "mode": "markers",
         "name": "Dimension 0",
         "showlegend": false,
         "text": [
          "birth filtration = 0.0<br>death filtration = 0.223506218623713<br>interval length = 0.223506218623713<br>birth simplex = [96]<br>cyle representative nnz = 2<br>row of dataframe = 53"
         ],
         "type": "scatter",
         "x": [
          0
         ],
         "y": [
          0.223506218623713
         ]
        },
        {
         "legendgroup": "0",
         "marker": {
          "color": "#636EFA"
         },
         "mode": "markers",
         "name": "Dimension 0",
         "showlegend": false,
         "text": [
          "birth filtration = 0.0<br>death filtration = 0.6373160059654365<br>interval length = 0.6373160059654365<br>birth simplex = [95]<br>cyle representative nnz = 2<br>row of dataframe = 54"
         ],
         "type": "scatter",
         "x": [
          0
         ],
         "y": [
          0.6373160059654365
         ]
        },
        {
         "legendgroup": "0",
         "marker": {
          "color": "#636EFA"
         },
         "mode": "markers",
         "name": "Dimension 0",
         "showlegend": false,
         "text": [
          "birth filtration = 0.0<br>death filtration = 0.5837954337379402<br>interval length = 0.5837954337379402<br>birth simplex = [94]<br>cyle representative nnz = 2<br>row of dataframe = 55"
         ],
         "type": "scatter",
         "x": [
          0
         ],
         "y": [
          0.5837954337379402
         ]
        },
        {
         "legendgroup": "0",
         "marker": {
          "color": "#636EFA"
         },
         "mode": "markers",
         "name": "Dimension 0",
         "showlegend": false,
         "text": [
          "birth filtration = 0.0<br>death filtration = 0.687529484497096<br>interval length = 0.687529484497096<br>birth simplex = [93]<br>cyle representative nnz = 2<br>row of dataframe = 56"
         ],
         "type": "scatter",
         "x": [
          0
         ],
         "y": [
          0.687529484497096
         ]
        },
        {
         "legendgroup": "0",
         "marker": {
          "color": "#636EFA"
         },
         "mode": "markers",
         "name": "Dimension 0",
         "showlegend": false,
         "text": [
          "birth filtration = 0.0<br>death filtration = 0.3955293562789899<br>interval length = 0.3955293562789899<br>birth simplex = [92]<br>cyle representative nnz = 2<br>row of dataframe = 57"
         ],
         "type": "scatter",
         "x": [
          0
         ],
         "y": [
          0.3955293562789899
         ]
        },
        {
         "legendgroup": "0",
         "marker": {
          "color": "#636EFA"
         },
         "mode": "markers",
         "name": "Dimension 0",
         "showlegend": false,
         "text": [
          "birth filtration = 0.0<br>death filtration = 0.22534262194251106<br>interval length = 0.22534262194251106<br>birth simplex = [91]<br>cyle representative nnz = 2<br>row of dataframe = 58"
         ],
         "type": "scatter",
         "x": [
          0
         ],
         "y": [
          0.22534262194251106
         ]
        },
        {
         "legendgroup": "0",
         "marker": {
          "color": "#636EFA"
         },
         "mode": "markers",
         "name": "Dimension 0",
         "showlegend": false,
         "text": [
          "birth filtration = 0.0<br>death filtration = 0.6729852290183095<br>interval length = 0.6729852290183095<br>birth simplex = [90]<br>cyle representative nnz = 2<br>row of dataframe = 59"
         ],
         "type": "scatter",
         "x": [
          0
         ],
         "y": [
          0.6729852290183095
         ]
        },
        {
         "legendgroup": "0",
         "marker": {
          "color": "#636EFA"
         },
         "mode": "markers",
         "name": "Dimension 0",
         "showlegend": false,
         "text": [
          "birth filtration = 0.0<br>death filtration = 0.48217318809130716<br>interval length = 0.48217318809130716<br>birth simplex = [89]<br>cyle representative nnz = 2<br>row of dataframe = 60"
         ],
         "type": "scatter",
         "x": [
          0
         ],
         "y": [
          0.48217318809130716
         ]
        },
        {
         "legendgroup": "0",
         "marker": {
          "color": "#636EFA"
         },
         "mode": "markers",
         "name": "Dimension 0",
         "showlegend": false,
         "text": [
          "birth filtration = 0.0<br>death filtration = 0.6840367565601783<br>interval length = 0.6840367565601783<br>birth simplex = [88]<br>cyle representative nnz = 2<br>row of dataframe = 61"
         ],
         "type": "scatter",
         "x": [
          0
         ],
         "y": [
          0.6840367565601783
         ]
        },
        {
         "legendgroup": "0",
         "marker": {
          "color": "#636EFA"
         },
         "mode": "markers",
         "name": "Dimension 0",
         "showlegend": false,
         "text": [
          "birth filtration = 0.0<br>death filtration = 0.45208003676472763<br>interval length = 0.45208003676472763<br>birth simplex = [87]<br>cyle representative nnz = 2<br>row of dataframe = 62"
         ],
         "type": "scatter",
         "x": [
          0
         ],
         "y": [
          0.45208003676472763
         ]
        },
        {
         "legendgroup": "0",
         "marker": {
          "color": "#636EFA"
         },
         "mode": "markers",
         "name": "Dimension 0",
         "showlegend": false,
         "text": [
          "birth filtration = 0.0<br>death filtration = 0.3141157872735458<br>interval length = 0.3141157872735458<br>birth simplex = [86]<br>cyle representative nnz = 2<br>row of dataframe = 63"
         ],
         "type": "scatter",
         "x": [
          0
         ],
         "y": [
          0.3141157872735458
         ]
        },
        {
         "legendgroup": "0",
         "marker": {
          "color": "#636EFA"
         },
         "mode": "markers",
         "name": "Dimension 0",
         "showlegend": false,
         "text": [
          "birth filtration = 0.0<br>death filtration = 0.7632738956412798<br>interval length = 0.7632738956412798<br>birth simplex = [85]<br>cyle representative nnz = 2<br>row of dataframe = 64"
         ],
         "type": "scatter",
         "x": [
          0
         ],
         "y": [
          0.7632738956412798
         ]
        },
        {
         "legendgroup": "0",
         "marker": {
          "color": "#636EFA"
         },
         "mode": "markers",
         "name": "Dimension 0",
         "showlegend": false,
         "text": [
          "birth filtration = 0.0<br>death filtration = 0.4483452723659872<br>interval length = 0.4483452723659872<br>birth simplex = [84]<br>cyle representative nnz = 2<br>row of dataframe = 65"
         ],
         "type": "scatter",
         "x": [
          0
         ],
         "y": [
          0.4483452723659872
         ]
        },
        {
         "legendgroup": "0",
         "marker": {
          "color": "#636EFA"
         },
         "mode": "markers",
         "name": "Dimension 0",
         "showlegend": false,
         "text": [
          "birth filtration = 0.0<br>death filtration = 0.6796935168068686<br>interval length = 0.6796935168068686<br>birth simplex = [83]<br>cyle representative nnz = 2<br>row of dataframe = 66"
         ],
         "type": "scatter",
         "x": [
          0
         ],
         "y": [
          0.6796935168068686
         ]
        },
        {
         "legendgroup": "0",
         "marker": {
          "color": "#636EFA"
         },
         "mode": "markers",
         "name": "Dimension 0",
         "showlegend": false,
         "text": [
          "birth filtration = 0.0<br>death filtration = 0.7581051305948971<br>interval length = 0.7581051305948971<br>birth simplex = [82]<br>cyle representative nnz = 2<br>row of dataframe = 67"
         ],
         "type": "scatter",
         "x": [
          0
         ],
         "y": [
          0.7581051305948971
         ]
        },
        {
         "legendgroup": "0",
         "marker": {
          "color": "#636EFA"
         },
         "mode": "markers",
         "name": "Dimension 0",
         "showlegend": false,
         "text": [
          "birth filtration = 0.0<br>death filtration = 0.7089977517365065<br>interval length = 0.7089977517365065<br>birth simplex = [81]<br>cyle representative nnz = 2<br>row of dataframe = 68"
         ],
         "type": "scatter",
         "x": [
          0
         ],
         "y": [
          0.7089977517365065
         ]
        },
        {
         "legendgroup": "0",
         "marker": {
          "color": "#636EFA"
         },
         "mode": "markers",
         "name": "Dimension 0",
         "showlegend": false,
         "text": [
          "birth filtration = 0.0<br>death filtration = 0.37928204579809177<br>interval length = 0.37928204579809177<br>birth simplex = [80]<br>cyle representative nnz = 2<br>row of dataframe = 69"
         ],
         "type": "scatter",
         "x": [
          0
         ],
         "y": [
          0.37928204579809177
         ]
        },
        {
         "legendgroup": "0",
         "marker": {
          "color": "#636EFA"
         },
         "mode": "markers",
         "name": "Dimension 0",
         "showlegend": false,
         "text": [
          "birth filtration = 0.0<br>death filtration = 0.5643460075505853<br>interval length = 0.5643460075505853<br>birth simplex = [79]<br>cyle representative nnz = 2<br>row of dataframe = 70"
         ],
         "type": "scatter",
         "x": [
          0
         ],
         "y": [
          0.5643460075505853
         ]
        },
        {
         "legendgroup": "0",
         "marker": {
          "color": "#636EFA"
         },
         "mode": "markers",
         "name": "Dimension 0",
         "showlegend": false,
         "text": [
          "birth filtration = 0.0<br>death filtration = 0.590063929723881<br>interval length = 0.590063929723881<br>birth simplex = [78]<br>cyle representative nnz = 2<br>row of dataframe = 71"
         ],
         "type": "scatter",
         "x": [
          0
         ],
         "y": [
          0.590063929723881
         ]
        },
        {
         "legendgroup": "0",
         "marker": {
          "color": "#636EFA"
         },
         "mode": "markers",
         "name": "Dimension 0",
         "showlegend": false,
         "text": [
          "birth filtration = 0.0<br>death filtration = 0.5364157211426964<br>interval length = 0.5364157211426964<br>birth simplex = [77]<br>cyle representative nnz = 2<br>row of dataframe = 72"
         ],
         "type": "scatter",
         "x": [
          0
         ],
         "y": [
          0.5364157211426964
         ]
        },
        {
         "legendgroup": "0",
         "marker": {
          "color": "#636EFA"
         },
         "mode": "markers",
         "name": "Dimension 0",
         "showlegend": false,
         "text": [
          "birth filtration = 0.0<br>death filtration = 0.5705539185041918<br>interval length = 0.5705539185041918<br>birth simplex = [76]<br>cyle representative nnz = 2<br>row of dataframe = 73"
         ],
         "type": "scatter",
         "x": [
          0
         ],
         "y": [
          0.5705539185041918
         ]
        },
        {
         "legendgroup": "0",
         "marker": {
          "color": "#636EFA"
         },
         "mode": "markers",
         "name": "Dimension 0",
         "showlegend": false,
         "text": [
          "birth filtration = 0.0<br>death filtration = 1.2277600099709391<br>interval length = 1.2277600099709391<br>birth simplex = [75]<br>cyle representative nnz = 2<br>row of dataframe = 74"
         ],
         "type": "scatter",
         "x": [
          0
         ],
         "y": [
          1.2277600099709391
         ]
        },
        {
         "legendgroup": "0",
         "marker": {
          "color": "#636EFA"
         },
         "mode": "markers",
         "name": "Dimension 0",
         "showlegend": false,
         "text": [
          "birth filtration = 0.0<br>death filtration = 0.799437225635333<br>interval length = 0.799437225635333<br>birth simplex = [74]<br>cyle representative nnz = 2<br>row of dataframe = 75"
         ],
         "type": "scatter",
         "x": [
          0
         ],
         "y": [
          0.799437225635333
         ]
        },
        {
         "legendgroup": "0",
         "marker": {
          "color": "#636EFA"
         },
         "mode": "markers",
         "name": "Dimension 0",
         "showlegend": false,
         "text": [
          "birth filtration = 0.0<br>death filtration = 0.842870134836822<br>interval length = 0.842870134836822<br>birth simplex = [73]<br>cyle representative nnz = 2<br>row of dataframe = 76"
         ],
         "type": "scatter",
         "x": [
          0
         ],
         "y": [
          0.842870134836822
         ]
        },
        {
         "legendgroup": "0",
         "marker": {
          "color": "#636EFA"
         },
         "mode": "markers",
         "name": "Dimension 0",
         "showlegend": false,
         "text": [
          "birth filtration = 0.0<br>death filtration = 0.7644470481755202<br>interval length = 0.7644470481755202<br>birth simplex = [72]<br>cyle representative nnz = 2<br>row of dataframe = 77"
         ],
         "type": "scatter",
         "x": [
          0
         ],
         "y": [
          0.7644470481755202
         ]
        },
        {
         "legendgroup": "0",
         "marker": {
          "color": "#636EFA"
         },
         "mode": "markers",
         "name": "Dimension 0",
         "showlegend": false,
         "text": [
          "birth filtration = 0.0<br>death filtration = 0.5392556450316262<br>interval length = 0.5392556450316262<br>birth simplex = [71]<br>cyle representative nnz = 2<br>row of dataframe = 78"
         ],
         "type": "scatter",
         "x": [
          0
         ],
         "y": [
          0.5392556450316262
         ]
        },
        {
         "legendgroup": "0",
         "marker": {
          "color": "#636EFA"
         },
         "mode": "markers",
         "name": "Dimension 0",
         "showlegend": false,
         "text": [
          "birth filtration = 0.0<br>death filtration = 0.8553869307321409<br>interval length = 0.8553869307321409<br>birth simplex = [70]<br>cyle representative nnz = 2<br>row of dataframe = 79"
         ],
         "type": "scatter",
         "x": [
          0
         ],
         "y": [
          0.8553869307321409
         ]
        },
        {
         "legendgroup": "0",
         "marker": {
          "color": "#636EFA"
         },
         "mode": "markers",
         "name": "Dimension 0",
         "showlegend": false,
         "text": [
          "birth filtration = 0.0<br>death filtration = 0.7613724898811896<br>interval length = 0.7613724898811896<br>birth simplex = [69]<br>cyle representative nnz = 2<br>row of dataframe = 80"
         ],
         "type": "scatter",
         "x": [
          0
         ],
         "y": [
          0.7613724898811896
         ]
        },
        {
         "legendgroup": "0",
         "marker": {
          "color": "#636EFA"
         },
         "mode": "markers",
         "name": "Dimension 0",
         "showlegend": false,
         "text": [
          "birth filtration = 0.0<br>death filtration = 1.0263350448239004<br>interval length = 1.0263350448239004<br>birth simplex = [68]<br>cyle representative nnz = 2<br>row of dataframe = 81"
         ],
         "type": "scatter",
         "x": [
          0
         ],
         "y": [
          1.0263350448239004
         ]
        },
        {
         "legendgroup": "0",
         "marker": {
          "color": "#636EFA"
         },
         "mode": "markers",
         "name": "Dimension 0",
         "showlegend": false,
         "text": [
          "birth filtration = 0.0<br>death filtration = 0.9807659374186877<br>interval length = 0.9807659374186877<br>birth simplex = [67]<br>cyle representative nnz = 2<br>row of dataframe = 82"
         ],
         "type": "scatter",
         "x": [
          0
         ],
         "y": [
          0.9807659374186877
         ]
        },
        {
         "legendgroup": "0",
         "marker": {
          "color": "#636EFA"
         },
         "mode": "markers",
         "name": "Dimension 0",
         "showlegend": false,
         "text": [
          "birth filtration = 0.0<br>death filtration = 1.0333033771417959<br>interval length = 1.0333033771417959<br>birth simplex = [66]<br>cyle representative nnz = 2<br>row of dataframe = 83"
         ],
         "type": "scatter",
         "x": [
          0
         ],
         "y": [
          1.0333033771417959
         ]
        },
        {
         "legendgroup": "0",
         "marker": {
          "color": "#636EFA"
         },
         "mode": "markers",
         "name": "Dimension 0",
         "showlegend": false,
         "text": [
          "birth filtration = 0.0<br>death filtration = 1.337255431578287<br>interval length = 1.337255431578287<br>birth simplex = [65]<br>cyle representative nnz = 2<br>row of dataframe = 84"
         ],
         "type": "scatter",
         "x": [
          0
         ],
         "y": [
          1.337255431578287
         ]
        },
        {
         "legendgroup": "0",
         "marker": {
          "color": "#636EFA"
         },
         "mode": "markers",
         "name": "Dimension 0",
         "showlegend": false,
         "text": [
          "birth filtration = 0.0<br>death filtration = 0.2949152137171906<br>interval length = 0.2949152137171906<br>birth simplex = [64]<br>cyle representative nnz = 2<br>row of dataframe = 85"
         ],
         "type": "scatter",
         "x": [
          0
         ],
         "y": [
          0.2949152137171906
         ]
        },
        {
         "legendgroup": "0",
         "marker": {
          "color": "#636EFA"
         },
         "mode": "markers",
         "name": "Dimension 0",
         "showlegend": false,
         "text": [
          "birth filtration = 0.0<br>death filtration = 0.2063795703935867<br>interval length = 0.2063795703935867<br>birth simplex = [63]<br>cyle representative nnz = 2<br>row of dataframe = 86"
         ],
         "type": "scatter",
         "x": [
          0
         ],
         "y": [
          0.2063795703935867
         ]
        },
        {
         "legendgroup": "0",
         "marker": {
          "color": "#636EFA"
         },
         "mode": "markers",
         "name": "Dimension 0",
         "showlegend": false,
         "text": [
          "birth filtration = 0.0<br>death filtration = 0.8113771843862629<br>interval length = 0.8113771843862629<br>birth simplex = [62]<br>cyle representative nnz = 2<br>row of dataframe = 87"
         ],
         "type": "scatter",
         "x": [
          0
         ],
         "y": [
          0.8113771843862629
         ]
        },
        {
         "legendgroup": "0",
         "marker": {
          "color": "#636EFA"
         },
         "mode": "markers",
         "name": "Dimension 0",
         "showlegend": false,
         "text": [
          "birth filtration = 0.0<br>death filtration = 0.984739686702164<br>interval length = 0.984739686702164<br>birth simplex = [61]<br>cyle representative nnz = 2<br>row of dataframe = 88"
         ],
         "type": "scatter",
         "x": [
          0
         ],
         "y": [
          0.984739686702164
         ]
        },
        {
         "legendgroup": "0",
         "marker": {
          "color": "#636EFA"
         },
         "mode": "markers",
         "name": "Dimension 0",
         "showlegend": false,
         "text": [
          "birth filtration = 0.0<br>death filtration = 0.15646636845616144<br>interval length = 0.15646636845616144<br>birth simplex = [60]<br>cyle representative nnz = 2<br>row of dataframe = 89"
         ],
         "type": "scatter",
         "x": [
          0
         ],
         "y": [
          0.15646636845616144
         ]
        },
        {
         "legendgroup": "0",
         "marker": {
          "color": "#636EFA"
         },
         "mode": "markers",
         "name": "Dimension 0",
         "showlegend": false,
         "text": [
          "birth filtration = 0.0<br>death filtration = 0.2514215234493753<br>interval length = 0.2514215234493753<br>birth simplex = [59]<br>cyle representative nnz = 2<br>row of dataframe = 90"
         ],
         "type": "scatter",
         "x": [
          0
         ],
         "y": [
          0.2514215234493753
         ]
        },
        {
         "legendgroup": "0",
         "marker": {
          "color": "#636EFA"
         },
         "mode": "markers",
         "name": "Dimension 0",
         "showlegend": false,
         "text": [
          "birth filtration = 0.0<br>death filtration = 0.6034925895629735<br>interval length = 0.6034925895629735<br>birth simplex = [58]<br>cyle representative nnz = 2<br>row of dataframe = 91"
         ],
         "type": "scatter",
         "x": [
          0
         ],
         "y": [
          0.6034925895629735
         ]
        },
        {
         "legendgroup": "0",
         "marker": {
          "color": "#636EFA"
         },
         "mode": "markers",
         "name": "Dimension 0",
         "showlegend": false,
         "text": [
          "birth filtration = 0.0<br>death filtration = 0.16713782785082304<br>interval length = 0.16713782785082304<br>birth simplex = [57]<br>cyle representative nnz = 2<br>row of dataframe = 92"
         ],
         "type": "scatter",
         "x": [
          0
         ],
         "y": [
          0.16713782785082304
         ]
        },
        {
         "legendgroup": "0",
         "marker": {
          "color": "#636EFA"
         },
         "mode": "markers",
         "name": "Dimension 0",
         "showlegend": false,
         "text": [
          "birth filtration = 0.0<br>death filtration = 0.2868533770822726<br>interval length = 0.2868533770822726<br>birth simplex = [56]<br>cyle representative nnz = 2<br>row of dataframe = 93"
         ],
         "type": "scatter",
         "x": [
          0
         ],
         "y": [
          0.2868533770822726
         ]
        },
        {
         "legendgroup": "0",
         "marker": {
          "color": "#636EFA"
         },
         "mode": "markers",
         "name": "Dimension 0",
         "showlegend": false,
         "text": [
          "birth filtration = 0.0<br>death filtration = 0.6742979871574996<br>interval length = 0.6742979871574996<br>birth simplex = [55]<br>cyle representative nnz = 2<br>row of dataframe = 94"
         ],
         "type": "scatter",
         "x": [
          0
         ],
         "y": [
          0.6742979871574996
         ]
        },
        {
         "legendgroup": "0",
         "marker": {
          "color": "#636EFA"
         },
         "mode": "markers",
         "name": "Dimension 0",
         "showlegend": false,
         "text": [
          "birth filtration = 0.0<br>death filtration = 0.36794797192392453<br>interval length = 0.36794797192392453<br>birth simplex = [54]<br>cyle representative nnz = 2<br>row of dataframe = 95"
         ],
         "type": "scatter",
         "x": [
          0
         ],
         "y": [
          0.36794797192392453
         ]
        },
        {
         "legendgroup": "0",
         "marker": {
          "color": "#636EFA"
         },
         "mode": "markers",
         "name": "Dimension 0",
         "showlegend": false,
         "text": [
          "birth filtration = 0.0<br>death filtration = 0.5507357925699629<br>interval length = 0.5507357925699629<br>birth simplex = [53]<br>cyle representative nnz = 2<br>row of dataframe = 96"
         ],
         "type": "scatter",
         "x": [
          0
         ],
         "y": [
          0.5507357925699629
         ]
        },
        {
         "legendgroup": "0",
         "marker": {
          "color": "#636EFA"
         },
         "mode": "markers",
         "name": "Dimension 0",
         "showlegend": false,
         "text": [
          "birth filtration = 0.0<br>death filtration = 1.0403604739677041<br>interval length = 1.0403604739677041<br>birth simplex = [52]<br>cyle representative nnz = 2<br>row of dataframe = 97"
         ],
         "type": "scatter",
         "x": [
          0
         ],
         "y": [
          1.0403604739677041
         ]
        },
        {
         "legendgroup": "0",
         "marker": {
          "color": "#636EFA"
         },
         "mode": "markers",
         "name": "Dimension 0",
         "showlegend": false,
         "text": [
          "birth filtration = 0.0<br>death filtration = 0.5982029233890355<br>interval length = 0.5982029233890355<br>birth simplex = [51]<br>cyle representative nnz = 2<br>row of dataframe = 98"
         ],
         "type": "scatter",
         "x": [
          0
         ],
         "y": [
          0.5982029233890355
         ]
        },
        {
         "legendgroup": "0",
         "marker": {
          "color": "#636EFA"
         },
         "mode": "markers",
         "name": "Dimension 0",
         "showlegend": false,
         "text": [
          "birth filtration = 0.0<br>death filtration = 0.1878737403486519<br>interval length = 0.1878737403486519<br>birth simplex = [50]<br>cyle representative nnz = 2<br>row of dataframe = 99"
         ],
         "type": "scatter",
         "x": [
          0
         ],
         "y": [
          0.1878737403486519
         ]
        },
        {
         "legendgroup": "0",
         "marker": {
          "color": "#636EFA"
         },
         "mode": "markers",
         "name": "Dimension 0",
         "showlegend": false,
         "text": [
          "birth filtration = 0.0<br>death filtration = 0.28847298459482706<br>interval length = 0.28847298459482706<br>birth simplex = [49]<br>cyle representative nnz = 2<br>row of dataframe = 100"
         ],
         "type": "scatter",
         "x": [
          0
         ],
         "y": [
          0.28847298459482706
         ]
        },
        {
         "legendgroup": "0",
         "marker": {
          "color": "#636EFA"
         },
         "mode": "markers",
         "name": "Dimension 0",
         "showlegend": false,
         "text": [
          "birth filtration = 0.0<br>death filtration = 1.214370028303009<br>interval length = 1.214370028303009<br>birth simplex = [48]<br>cyle representative nnz = 2<br>row of dataframe = 101"
         ],
         "type": "scatter",
         "x": [
          0
         ],
         "y": [
          1.214370028303009
         ]
        },
        {
         "legendgroup": "0",
         "marker": {
          "color": "#636EFA"
         },
         "mode": "markers",
         "name": "Dimension 0",
         "showlegend": false,
         "text": [
          "birth filtration = 0.0<br>death filtration = 0.8155842091821894<br>interval length = 0.8155842091821894<br>birth simplex = [47]<br>cyle representative nnz = 2<br>row of dataframe = 102"
         ],
         "type": "scatter",
         "x": [
          0
         ],
         "y": [
          0.8155842091821894
         ]
        },
        {
         "legendgroup": "0",
         "marker": {
          "color": "#636EFA"
         },
         "mode": "markers",
         "name": "Dimension 0",
         "showlegend": false,
         "text": [
          "birth filtration = 0.0<br>death filtration = 0.10064458661102972<br>interval length = 0.10064458661102972<br>birth simplex = [46]<br>cyle representative nnz = 2<br>row of dataframe = 103"
         ],
         "type": "scatter",
         "x": [
          0
         ],
         "y": [
          0.10064458661102972
         ]
        },
        {
         "legendgroup": "0",
         "marker": {
          "color": "#636EFA"
         },
         "mode": "markers",
         "name": "Dimension 0",
         "showlegend": false,
         "text": [
          "birth filtration = 0.0<br>death filtration = 0.20421985726684838<br>interval length = 0.20421985726684838<br>birth simplex = [45]<br>cyle representative nnz = 2<br>row of dataframe = 104"
         ],
         "type": "scatter",
         "x": [
          0
         ],
         "y": [
          0.20421985726684838
         ]
        },
        {
         "legendgroup": "0",
         "marker": {
          "color": "#636EFA"
         },
         "mode": "markers",
         "name": "Dimension 0",
         "showlegend": false,
         "text": [
          "birth filtration = 0.0<br>death filtration = 0.22061138477994344<br>interval length = 0.22061138477994344<br>birth simplex = [44]<br>cyle representative nnz = 2<br>row of dataframe = 105"
         ],
         "type": "scatter",
         "x": [
          0
         ],
         "y": [
          0.22061138477994344
         ]
        },
        {
         "legendgroup": "0",
         "marker": {
          "color": "#636EFA"
         },
         "mode": "markers",
         "name": "Dimension 0",
         "showlegend": false,
         "text": [
          "birth filtration = 0.0<br>death filtration = 0.8279578845417079<br>interval length = 0.8279578845417079<br>birth simplex = [43]<br>cyle representative nnz = 2<br>row of dataframe = 106"
         ],
         "type": "scatter",
         "x": [
          0
         ],
         "y": [
          0.8279578845417079
         ]
        },
        {
         "legendgroup": "0",
         "marker": {
          "color": "#636EFA"
         },
         "mode": "markers",
         "name": "Dimension 0",
         "showlegend": false,
         "text": [
          "birth filtration = 0.0<br>death filtration = 0.1553787728135989<br>interval length = 0.1553787728135989<br>birth simplex = [42]<br>cyle representative nnz = 2<br>row of dataframe = 107"
         ],
         "type": "scatter",
         "x": [
          0
         ],
         "y": [
          0.1553787728135989
         ]
        },
        {
         "legendgroup": "0",
         "marker": {
          "color": "#636EFA"
         },
         "mode": "markers",
         "name": "Dimension 0",
         "showlegend": false,
         "text": [
          "birth filtration = 0.0<br>death filtration = 0.6971879782417378<br>interval length = 0.6971879782417378<br>birth simplex = [41]<br>cyle representative nnz = 2<br>row of dataframe = 108"
         ],
         "type": "scatter",
         "x": [
          0
         ],
         "y": [
          0.6971879782417378
         ]
        },
        {
         "legendgroup": "0",
         "marker": {
          "color": "#636EFA"
         },
         "mode": "markers",
         "name": "Dimension 0",
         "showlegend": false,
         "text": [
          "birth filtration = 0.0<br>death filtration = 0.827617314165266<br>interval length = 0.827617314165266<br>birth simplex = [40]<br>cyle representative nnz = 2<br>row of dataframe = 109"
         ],
         "type": "scatter",
         "x": [
          0
         ],
         "y": [
          0.827617314165266
         ]
        },
        {
         "legendgroup": "0",
         "marker": {
          "color": "#636EFA"
         },
         "mode": "markers",
         "name": "Dimension 0",
         "showlegend": false,
         "text": [
          "birth filtration = 0.0<br>death filtration = 1.0844105208767472<br>interval length = 1.0844105208767472<br>birth simplex = [39]<br>cyle representative nnz = 2<br>row of dataframe = 110"
         ],
         "type": "scatter",
         "x": [
          0
         ],
         "y": [
          1.0844105208767472
         ]
        },
        {
         "legendgroup": "0",
         "marker": {
          "color": "#636EFA"
         },
         "mode": "markers",
         "name": "Dimension 0",
         "showlegend": false,
         "text": [
          "birth filtration = 0.0<br>death filtration = 0.327830537164605<br>interval length = 0.327830537164605<br>birth simplex = [38]<br>cyle representative nnz = 2<br>row of dataframe = 111"
         ],
         "type": "scatter",
         "x": [
          0
         ],
         "y": [
          0.327830537164605
         ]
        },
        {
         "legendgroup": "0",
         "marker": {
          "color": "#636EFA"
         },
         "mode": "markers",
         "name": "Dimension 0",
         "showlegend": false,
         "text": [
          "birth filtration = 0.0<br>death filtration = 0.5660656869729095<br>interval length = 0.5660656869729095<br>birth simplex = [37]<br>cyle representative nnz = 2<br>row of dataframe = 112"
         ],
         "type": "scatter",
         "x": [
          0
         ],
         "y": [
          0.5660656869729095
         ]
        },
        {
         "legendgroup": "0",
         "marker": {
          "color": "#636EFA"
         },
         "mode": "markers",
         "name": "Dimension 0",
         "showlegend": false,
         "text": [
          "birth filtration = 0.0<br>death filtration = 0.891046081095398<br>interval length = 0.891046081095398<br>birth simplex = [36]<br>cyle representative nnz = 2<br>row of dataframe = 113"
         ],
         "type": "scatter",
         "x": [
          0
         ],
         "y": [
          0.891046081095398
         ]
        },
        {
         "legendgroup": "0",
         "marker": {
          "color": "#636EFA"
         },
         "mode": "markers",
         "name": "Dimension 0",
         "showlegend": false,
         "text": [
          "birth filtration = 0.0<br>death filtration = 0.07453721185246595<br>interval length = 0.07453721185246595<br>birth simplex = [35]<br>cyle representative nnz = 2<br>row of dataframe = 114"
         ],
         "type": "scatter",
         "x": [
          0
         ],
         "y": [
          0.07453721185246595
         ]
        },
        {
         "legendgroup": "0",
         "marker": {
          "color": "#636EFA"
         },
         "mode": "markers",
         "name": "Dimension 0",
         "showlegend": false,
         "text": [
          "birth filtration = 0.0<br>death filtration = 0.19867256413207987<br>interval length = 0.19867256413207987<br>birth simplex = [34]<br>cyle representative nnz = 2<br>row of dataframe = 115"
         ],
         "type": "scatter",
         "x": [
          0
         ],
         "y": [
          0.19867256413207987
         ]
        },
        {
         "legendgroup": "0",
         "marker": {
          "color": "#636EFA"
         },
         "mode": "markers",
         "name": "Dimension 0",
         "showlegend": false,
         "text": [
          "birth filtration = 0.0<br>death filtration = 0.8678864177335017<br>interval length = 0.8678864177335017<br>birth simplex = [33]<br>cyle representative nnz = 2<br>row of dataframe = 116"
         ],
         "type": "scatter",
         "x": [
          0
         ],
         "y": [
          0.8678864177335017
         ]
        },
        {
         "legendgroup": "0",
         "marker": {
          "color": "#636EFA"
         },
         "mode": "markers",
         "name": "Dimension 0",
         "showlegend": false,
         "text": [
          "birth filtration = 0.0<br>death filtration = 0.24532877117528182<br>interval length = 0.24532877117528182<br>birth simplex = [32]<br>cyle representative nnz = 2<br>row of dataframe = 117"
         ],
         "type": "scatter",
         "x": [
          0
         ],
         "y": [
          0.24532877117528182
         ]
        },
        {
         "legendgroup": "0",
         "marker": {
          "color": "#636EFA"
         },
         "mode": "markers",
         "name": "Dimension 0",
         "showlegend": false,
         "text": [
          "birth filtration = 0.0<br>death filtration = 0.22023673137004116<br>interval length = 0.22023673137004116<br>birth simplex = [31]<br>cyle representative nnz = 2<br>row of dataframe = 118"
         ],
         "type": "scatter",
         "x": [
          0
         ],
         "y": [
          0.22023673137004116
         ]
        },
        {
         "legendgroup": "0",
         "marker": {
          "color": "#636EFA"
         },
         "mode": "markers",
         "name": "Dimension 0",
         "showlegend": false,
         "text": [
          "birth filtration = 0.0<br>death filtration = 0.22536269728829325<br>interval length = 0.22536269728829325<br>birth simplex = [30]<br>cyle representative nnz = 2<br>row of dataframe = 119"
         ],
         "type": "scatter",
         "x": [
          0
         ],
         "y": [
          0.22536269728829325
         ]
        },
        {
         "legendgroup": "0",
         "marker": {
          "color": "#636EFA"
         },
         "mode": "markers",
         "name": "Dimension 0",
         "showlegend": false,
         "text": [
          "birth filtration = 0.0<br>death filtration = 0.5747854879075371<br>interval length = 0.5747854879075371<br>birth simplex = [29]<br>cyle representative nnz = 2<br>row of dataframe = 120"
         ],
         "type": "scatter",
         "x": [
          0
         ],
         "y": [
          0.5747854879075371
         ]
        },
        {
         "legendgroup": "0",
         "marker": {
          "color": "#636EFA"
         },
         "mode": "markers",
         "name": "Dimension 0",
         "showlegend": false,
         "text": [
          "birth filtration = 0.0<br>death filtration = 0.19880213836608052<br>interval length = 0.19880213836608052<br>birth simplex = [28]<br>cyle representative nnz = 2<br>row of dataframe = 121"
         ],
         "type": "scatter",
         "x": [
          0
         ],
         "y": [
          0.19880213836608052
         ]
        },
        {
         "legendgroup": "0",
         "marker": {
          "color": "#636EFA"
         },
         "mode": "markers",
         "name": "Dimension 0",
         "showlegend": false,
         "text": [
          "birth filtration = 0.0<br>death filtration = 0.45152580889633426<br>interval length = 0.45152580889633426<br>birth simplex = [27]<br>cyle representative nnz = 2<br>row of dataframe = 122"
         ],
         "type": "scatter",
         "x": [
          0
         ],
         "y": [
          0.45152580889633426
         ]
        },
        {
         "legendgroup": "0",
         "marker": {
          "color": "#636EFA"
         },
         "mode": "markers",
         "name": "Dimension 0",
         "showlegend": false,
         "text": [
          "birth filtration = 0.0<br>death filtration = 0.35358995811775534<br>interval length = 0.35358995811775534<br>birth simplex = [26]<br>cyle representative nnz = 2<br>row of dataframe = 123"
         ],
         "type": "scatter",
         "x": [
          0
         ],
         "y": [
          0.35358995811775534
         ]
        },
        {
         "legendgroup": "0",
         "marker": {
          "color": "#636EFA"
         },
         "mode": "markers",
         "name": "Dimension 0",
         "showlegend": false,
         "text": [
          "birth filtration = 0.0<br>death filtration = 0.3211421980127289<br>interval length = 0.3211421980127289<br>birth simplex = [25]<br>cyle representative nnz = 2<br>row of dataframe = 124"
         ],
         "type": "scatter",
         "x": [
          0
         ],
         "y": [
          0.3211421980127289
         ]
        },
        {
         "legendgroup": "0",
         "marker": {
          "color": "#636EFA"
         },
         "mode": "markers",
         "name": "Dimension 0",
         "showlegend": false,
         "text": [
          "birth filtration = 0.0<br>death filtration = 0.46876457236997715<br>interval length = 0.46876457236997715<br>birth simplex = [24]<br>cyle representative nnz = 2<br>row of dataframe = 125"
         ],
         "type": "scatter",
         "x": [
          0
         ],
         "y": [
          0.46876457236997715
         ]
        },
        {
         "legendgroup": "0",
         "marker": {
          "color": "#636EFA"
         },
         "mode": "markers",
         "name": "Dimension 0",
         "showlegend": false,
         "text": [
          "birth filtration = 0.0<br>death filtration = 0.3328267232892151<br>interval length = 0.3328267232892151<br>birth simplex = [23]<br>cyle representative nnz = 2<br>row of dataframe = 126"
         ],
         "type": "scatter",
         "x": [
          0
         ],
         "y": [
          0.3328267232892151
         ]
        },
        {
         "legendgroup": "0",
         "marker": {
          "color": "#636EFA"
         },
         "mode": "markers",
         "name": "Dimension 0",
         "showlegend": false,
         "text": [
          "birth filtration = 0.0<br>death filtration = 0.8916043844296364<br>interval length = 0.8916043844296364<br>birth simplex = [22]<br>cyle representative nnz = 2<br>row of dataframe = 127"
         ],
         "type": "scatter",
         "x": [
          0
         ],
         "y": [
          0.8916043844296364
         ]
        },
        {
         "legendgroup": "0",
         "marker": {
          "color": "#636EFA"
         },
         "mode": "markers",
         "name": "Dimension 0",
         "showlegend": false,
         "text": [
          "birth filtration = 0.0<br>death filtration = 0.7872734870298342<br>interval length = 0.7872734870298342<br>birth simplex = [21]<br>cyle representative nnz = 2<br>row of dataframe = 128"
         ],
         "type": "scatter",
         "x": [
          0
         ],
         "y": [
          0.7872734870298342
         ]
        },
        {
         "legendgroup": "0",
         "marker": {
          "color": "#636EFA"
         },
         "mode": "markers",
         "name": "Dimension 0",
         "showlegend": false,
         "text": [
          "birth filtration = 0.0<br>death filtration = 0.4907545582440205<br>interval length = 0.4907545582440205<br>birth simplex = [20]<br>cyle representative nnz = 2<br>row of dataframe = 129"
         ],
         "type": "scatter",
         "x": [
          0
         ],
         "y": [
          0.4907545582440205
         ]
        },
        {
         "legendgroup": "0",
         "marker": {
          "color": "#636EFA"
         },
         "mode": "markers",
         "name": "Dimension 0",
         "showlegend": false,
         "text": [
          "birth filtration = 0.0<br>death filtration = 0.41380805297468265<br>interval length = 0.41380805297468265<br>birth simplex = [19]<br>cyle representative nnz = 2<br>row of dataframe = 130"
         ],
         "type": "scatter",
         "x": [
          0
         ],
         "y": [
          0.41380805297468265
         ]
        },
        {
         "legendgroup": "0",
         "marker": {
          "color": "#636EFA"
         },
         "mode": "markers",
         "name": "Dimension 0",
         "showlegend": false,
         "text": [
          "birth filtration = 0.0<br>death filtration = 0.7014633220750968<br>interval length = 0.7014633220750968<br>birth simplex = [18]<br>cyle representative nnz = 2<br>row of dataframe = 131"
         ],
         "type": "scatter",
         "x": [
          0
         ],
         "y": [
          0.7014633220750968
         ]
        },
        {
         "legendgroup": "0",
         "marker": {
          "color": "#636EFA"
         },
         "mode": "markers",
         "name": "Dimension 0",
         "showlegend": false,
         "text": [
          "birth filtration = 0.0<br>death filtration = 0.2663161073077592<br>interval length = 0.2663161073077592<br>birth simplex = [17]<br>cyle representative nnz = 2<br>row of dataframe = 132"
         ],
         "type": "scatter",
         "x": [
          0
         ],
         "y": [
          0.2663161073077592
         ]
        },
        {
         "legendgroup": "0",
         "marker": {
          "color": "#636EFA"
         },
         "mode": "markers",
         "name": "Dimension 0",
         "showlegend": false,
         "text": [
          "birth filtration = 0.0<br>death filtration = 0.4151824008147697<br>interval length = 0.4151824008147697<br>birth simplex = [16]<br>cyle representative nnz = 2<br>row of dataframe = 133"
         ],
         "type": "scatter",
         "x": [
          0
         ],
         "y": [
          0.4151824008147697
         ]
        },
        {
         "legendgroup": "0",
         "marker": {
          "color": "#636EFA"
         },
         "mode": "markers",
         "name": "Dimension 0",
         "showlegend": false,
         "text": [
          "birth filtration = 0.0<br>death filtration = 0.5172364924750457<br>interval length = 0.5172364924750457<br>birth simplex = [15]<br>cyle representative nnz = 2<br>row of dataframe = 134"
         ],
         "type": "scatter",
         "x": [
          0
         ],
         "y": [
          0.5172364924750457
         ]
        },
        {
         "legendgroup": "0",
         "marker": {
          "color": "#636EFA"
         },
         "mode": "markers",
         "name": "Dimension 0",
         "showlegend": false,
         "text": [
          "birth filtration = 0.0<br>death filtration = 0.6242152735615183<br>interval length = 0.6242152735615183<br>birth simplex = [14]<br>cyle representative nnz = 2<br>row of dataframe = 135"
         ],
         "type": "scatter",
         "x": [
          0
         ],
         "y": [
          0.6242152735615183
         ]
        },
        {
         "legendgroup": "0",
         "marker": {
          "color": "#636EFA"
         },
         "mode": "markers",
         "name": "Dimension 0",
         "showlegend": false,
         "text": [
          "birth filtration = 0.0<br>death filtration = 0.6198923920739577<br>interval length = 0.6198923920739577<br>birth simplex = [13]<br>cyle representative nnz = 2<br>row of dataframe = 136"
         ],
         "type": "scatter",
         "x": [
          0
         ],
         "y": [
          0.6198923920739577
         ]
        },
        {
         "legendgroup": "0",
         "marker": {
          "color": "#636EFA"
         },
         "mode": "markers",
         "name": "Dimension 0",
         "showlegend": false,
         "text": [
          "birth filtration = 0.0<br>death filtration = 0.9728597005179319<br>interval length = 0.9728597005179319<br>birth simplex = [12]<br>cyle representative nnz = 2<br>row of dataframe = 137"
         ],
         "type": "scatter",
         "x": [
          0
         ],
         "y": [
          0.9728597005179319
         ]
        },
        {
         "legendgroup": "0",
         "marker": {
          "color": "#636EFA"
         },
         "mode": "markers",
         "name": "Dimension 0",
         "showlegend": false,
         "text": [
          "birth filtration = 0.0<br>death filtration = 0.7007204742024749<br>interval length = 0.7007204742024749<br>birth simplex = [11]<br>cyle representative nnz = 2<br>row of dataframe = 138"
         ],
         "type": "scatter",
         "x": [
          0
         ],
         "y": [
          0.7007204742024749
         ]
        },
        {
         "legendgroup": "0",
         "marker": {
          "color": "#636EFA"
         },
         "mode": "markers",
         "name": "Dimension 0",
         "showlegend": false,
         "text": [
          "birth filtration = 0.0<br>death filtration = 0.6329750439193639<br>interval length = 0.6329750439193639<br>birth simplex = [10]<br>cyle representative nnz = 2<br>row of dataframe = 139"
         ],
         "type": "scatter",
         "x": [
          0
         ],
         "y": [
          0.6329750439193639
         ]
        },
        {
         "legendgroup": "0",
         "marker": {
          "color": "#636EFA"
         },
         "mode": "markers",
         "name": "Dimension 0",
         "showlegend": false,
         "text": [
          "birth filtration = 0.0<br>death filtration = 0.6520784076041216<br>interval length = 0.6520784076041216<br>birth simplex = [9]<br>cyle representative nnz = 2<br>row of dataframe = 140"
         ],
         "type": "scatter",
         "x": [
          0
         ],
         "y": [
          0.6520784076041216
         ]
        },
        {
         "legendgroup": "0",
         "marker": {
          "color": "#636EFA"
         },
         "mode": "markers",
         "name": "Dimension 0",
         "showlegend": false,
         "text": [
          "birth filtration = 0.0<br>death filtration = 0.7106577842667232<br>interval length = 0.7106577842667232<br>birth simplex = [8]<br>cyle representative nnz = 2<br>row of dataframe = 141"
         ],
         "type": "scatter",
         "x": [
          0
         ],
         "y": [
          0.7106577842667232
         ]
        },
        {
         "legendgroup": "0",
         "marker": {
          "color": "#636EFA"
         },
         "mode": "markers",
         "name": "Dimension 0",
         "showlegend": false,
         "text": [
          "birth filtration = 0.0<br>death filtration = 0.21658670184039353<br>interval length = 0.21658670184039353<br>birth simplex = [7]<br>cyle representative nnz = 2<br>row of dataframe = 142"
         ],
         "type": "scatter",
         "x": [
          0
         ],
         "y": [
          0.21658670184039353
         ]
        },
        {
         "legendgroup": "0",
         "marker": {
          "color": "#636EFA"
         },
         "mode": "markers",
         "name": "Dimension 0",
         "showlegend": false,
         "text": [
          "birth filtration = 0.0<br>death filtration = 0.733724897993642<br>interval length = 0.733724897993642<br>birth simplex = [6]<br>cyle representative nnz = 2<br>row of dataframe = 143"
         ],
         "type": "scatter",
         "x": [
          0
         ],
         "y": [
          0.733724897993642
         ]
        },
        {
         "legendgroup": "0",
         "marker": {
          "color": "#636EFA"
         },
         "mode": "markers",
         "name": "Dimension 0",
         "showlegend": false,
         "text": [
          "birth filtration = 0.0<br>death filtration = 0.39684360030710775<br>interval length = 0.39684360030710775<br>birth simplex = [5]<br>cyle representative nnz = 2<br>row of dataframe = 144"
         ],
         "type": "scatter",
         "x": [
          0
         ],
         "y": [
          0.39684360030710775
         ]
        },
        {
         "legendgroup": "0",
         "marker": {
          "color": "#636EFA"
         },
         "mode": "markers",
         "name": "Dimension 0",
         "showlegend": false,
         "text": [
          "birth filtration = 0.0<br>death filtration = 0.8781619617644333<br>interval length = 0.8781619617644333<br>birth simplex = [4]<br>cyle representative nnz = 2<br>row of dataframe = 145"
         ],
         "type": "scatter",
         "x": [
          0
         ],
         "y": [
          0.8781619617644333
         ]
        },
        {
         "legendgroup": "0",
         "marker": {
          "color": "#636EFA"
         },
         "mode": "markers",
         "name": "Dimension 0",
         "showlegend": false,
         "text": [
          "birth filtration = 0.0<br>death filtration = 0.4196309025800677<br>interval length = 0.4196309025800677<br>birth simplex = [3]<br>cyle representative nnz = 2<br>row of dataframe = 146"
         ],
         "type": "scatter",
         "x": [
          0
         ],
         "y": [
          0.4196309025800677
         ]
        },
        {
         "legendgroup": "0",
         "marker": {
          "color": "#636EFA"
         },
         "mode": "markers",
         "name": "Dimension 0",
         "showlegend": false,
         "text": [
          "birth filtration = 0.0<br>death filtration = 0.7502212322268056<br>interval length = 0.7502212322268056<br>birth simplex = [2]<br>cyle representative nnz = 2<br>row of dataframe = 147"
         ],
         "type": "scatter",
         "x": [
          0
         ],
         "y": [
          0.7502212322268056
         ]
        },
        {
         "legendgroup": "0",
         "marker": {
          "color": "#636EFA"
         },
         "mode": "markers",
         "name": "Dimension 0",
         "showlegend": false,
         "text": [
          "birth filtration = 0.0<br>death filtration = 1.065486692653606<br>interval length = 1.065486692653606<br>birth simplex = [1]<br>cyle representative nnz = 2<br>row of dataframe = 148"
         ],
         "type": "scatter",
         "x": [
          0
         ],
         "y": [
          1.065486692653606
         ]
        },
        {
         "legendgroup": "0",
         "marker": {
          "color": "#636EFA"
         },
         "mode": "markers",
         "name": "Dimension 0",
         "showlegend": false,
         "text": [
          "birth filtration = 0.0<br>death filtration = 3.628433247774127<br>interval length = inf<br>birth simplex = [0]<br>cyle representative nnz = 1<br>row of dataframe = 149"
         ],
         "type": "scatter",
         "x": [
          0
         ],
         "y": [
          3.628433247774127
         ]
        },
        {
         "legendgroup": "1",
         "marker": {
          "color": "#EF553B"
         },
         "mode": "markers",
         "name": "Dimension 1",
         "showlegend": true,
         "text": [
          "birth filtration = 1.948895813372284<br>death filtration = 1.9715887874374696<br>interval length = 0.022692974065185556<br>birth simplex = [38, 82]<br>cyle representative nnz = 6<br>row of dataframe = 150"
         ],
         "type": "scatter",
         "x": [
          1.948895813372284
         ],
         "y": [
          1.9715887874374696
         ]
        },
        {
         "legendgroup": "1",
         "marker": {
          "color": "#EF553B"
         },
         "mode": "markers",
         "name": "Dimension 1",
         "showlegend": false,
         "text": [
          "birth filtration = 1.9157128306472138<br>death filtration = 2.1266262953815662<br>interval length = 0.21091346473435246<br>birth simplex = [16, 118]<br>cyle representative nnz = 19<br>row of dataframe = 151"
         ],
         "type": "scatter",
         "x": [
          1.9157128306472138
         ],
         "y": [
          2.1266262953815662
         ]
        },
        {
         "legendgroup": "1",
         "marker": {
          "color": "#EF553B"
         },
         "mode": "markers",
         "name": "Dimension 1",
         "showlegend": false,
         "text": [
          "birth filtration = 1.8186640345112235<br>death filtration = 1.8655527898076059<br>interval length = 0.04688875529638237<br>birth simplex = [65, 125]<br>cyle representative nnz = 13<br>row of dataframe = 152"
         ],
         "type": "scatter",
         "x": [
          1.8186640345112235
         ],
         "y": [
          1.8655527898076059
         ]
        },
        {
         "legendgroup": "1",
         "marker": {
          "color": "#EF553B"
         },
         "mode": "markers",
         "name": "Dimension 1",
         "showlegend": false,
         "text": [
          "birth filtration = 1.5590259785245169<br>death filtration = 1.990289822637685<br>interval length = 0.4312638441131682<br>birth simplex = [70, 76]<br>cyle representative nnz = 15<br>row of dataframe = 153"
         ],
         "type": "scatter",
         "x": [
          1.5590259785245169
         ],
         "y": [
          1.990289822637685
         ]
        },
        {
         "legendgroup": "1",
         "marker": {
          "color": "#EF553B"
         },
         "mode": "markers",
         "name": "Dimension 1",
         "showlegend": false,
         "text": [
          "birth filtration = 1.4742103945856488<br>death filtration = 2.0278721804859443<br>interval length = 0.5536617859002955<br>birth simplex = [12, 26]<br>cyle representative nnz = 33<br>row of dataframe = 154"
         ],
         "type": "scatter",
         "x": [
          1.4742103945856488
         ],
         "y": [
          2.0278721804859443
         ]
        },
        {
         "legendgroup": "1",
         "marker": {
          "color": "#EF553B"
         },
         "mode": "markers",
         "name": "Dimension 1",
         "showlegend": false,
         "text": [
          "birth filtration = 1.4300006462679975<br>death filtration = 1.6274159831471329<br>interval length = 0.19741533687913537<br>birth simplex = [39, 51]<br>cyle representative nnz = 10<br>row of dataframe = 155"
         ],
         "type": "scatter",
         "x": [
          1.4300006462679975
         ],
         "y": [
          1.6274159831471329
         ]
        },
        {
         "legendgroup": "1",
         "marker": {
          "color": "#EF553B"
         },
         "mode": "markers",
         "name": "Dimension 1",
         "showlegend": false,
         "text": [
          "birth filtration = 1.4042071455038108<br>death filtration = 1.765103246599306<br>interval length = 0.3608961010954952<br>birth simplex = [22, 56]<br>cyle representative nnz = 13<br>row of dataframe = 156"
         ],
         "type": "scatter",
         "x": [
          1.4042071455038108
         ],
         "y": [
          1.765103246599306
         ]
        },
        {
         "legendgroup": "1",
         "marker": {
          "color": "#EF553B"
         },
         "mode": "markers",
         "name": "Dimension 1",
         "showlegend": false,
         "text": [
          "birth filtration = 1.3775505385263318<br>death filtration = 2.127908703266093<br>interval length = 0.7503581647397612<br>birth simplex = [141, 145]<br>cyle representative nnz = 38<br>row of dataframe = 157"
         ],
         "type": "scatter",
         "x": [
          1.3775505385263318
         ],
         "y": [
          2.127908703266093
         ]
        },
        {
         "legendgroup": "1",
         "marker": {
          "color": "#EF553B"
         },
         "mode": "markers",
         "name": "Dimension 1",
         "showlegend": false,
         "text": [
          "birth filtration = 1.3685005819619303<br>death filtration = 1.584613749541727<br>interval length = 0.2161131675797967<br>birth simplex = [75, 112]<br>cyle representative nnz = 7<br>row of dataframe = 158"
         ],
         "type": "scatter",
         "x": [
          1.3685005819619303
         ],
         "y": [
          1.584613749541727
         ]
        },
        {
         "legendgroup": "1",
         "marker": {
          "color": "#EF553B"
         },
         "mode": "markers",
         "name": "Dimension 1",
         "showlegend": false,
         "text": [
          "birth filtration = 1.3584289980054394<br>death filtration = 1.8375180766116028<br>interval length = 0.47908907860616345<br>birth simplex = [52, 137]<br>cyle representative nnz = 12<br>row of dataframe = 159"
         ],
         "type": "scatter",
         "x": [
          1.3584289980054394
         ],
         "y": [
          1.8375180766116028
         ]
        },
        {
         "legendgroup": "1",
         "marker": {
          "color": "#EF553B"
         },
         "mode": "markers",
         "name": "Dimension 1",
         "showlegend": false,
         "text": [
          "birth filtration = 1.3404155500352586<br>death filtration = 1.7208327164786976<br>interval length = 0.38041716644343904<br>birth simplex = [75, 100]<br>cyle representative nnz = 15<br>row of dataframe = 160"
         ],
         "type": "scatter",
         "x": [
          1.3404155500352586
         ],
         "y": [
          1.7208327164786976
         ]
        },
        {
         "legendgroup": "1",
         "marker": {
          "color": "#EF553B"
         },
         "mode": "markers",
         "name": "Dimension 1",
         "showlegend": false,
         "text": [
          "birth filtration = 1.3093886940754917<br>death filtration = 1.5486672019945367<br>interval length = 0.23927850791904492<br>birth simplex = [21, 142]<br>cyle representative nnz = 11<br>row of dataframe = 161"
         ],
         "type": "scatter",
         "x": [
          1.3093886940754917
         ],
         "y": [
          1.5486672019945367
         ]
        },
        {
         "legendgroup": "1",
         "marker": {
          "color": "#EF553B"
         },
         "mode": "markers",
         "name": "Dimension 1",
         "showlegend": false,
         "text": [
          "birth filtration = 1.2962566665295383<br>death filtration = 2.006638066064449<br>interval length = 0.7103813995349109<br>birth simplex = [18, 43]<br>cyle representative nnz = 17<br>row of dataframe = 162"
         ],
         "type": "scatter",
         "x": [
          1.2962566665295383
         ],
         "y": [
          2.006638066064449
         ]
        },
        {
         "legendgroup": "1",
         "marker": {
          "color": "#EF553B"
         },
         "mode": "markers",
         "name": "Dimension 1",
         "showlegend": false,
         "text": [
          "birth filtration = 1.290876231766243<br>death filtration = 1.7320087264315964<br>interval length = 0.4411324946653534<br>birth simplex = [74, 106]<br>cyle representative nnz = 8<br>row of dataframe = 163"
         ],
         "type": "scatter",
         "x": [
          1.290876231766243
         ],
         "y": [
          1.7320087264315964
         ]
        },
        {
         "legendgroup": "1",
         "marker": {
          "color": "#EF553B"
         },
         "mode": "markers",
         "name": "Dimension 1",
         "showlegend": false,
         "text": [
          "birth filtration = 1.2706460786665446<br>death filtration = 2.14268705370805<br>interval length = 0.8720409750415055<br>birth simplex = [48, 58]<br>cyle representative nnz = 24<br>row of dataframe = 164"
         ],
         "type": "scatter",
         "x": [
          1.2706460786665446
         ],
         "y": [
          2.14268705370805
         ]
        },
        {
         "legendgroup": "1",
         "marker": {
          "color": "#EF553B"
         },
         "mode": "markers",
         "name": "Dimension 1",
         "showlegend": false,
         "text": [
          "birth filtration = 1.2413784697515817<br>death filtration = 1.2631058777022048<br>interval length = 0.021727407950623112<br>birth simplex = [37, 61]<br>cyle representative nnz = 9<br>row of dataframe = 165"
         ],
         "type": "scatter",
         "x": [
          1.2413784697515817
         ],
         "y": [
          1.2631058777022048
         ]
        },
        {
         "legendgroup": "1",
         "marker": {
          "color": "#EF553B"
         },
         "mode": "markers",
         "name": "Dimension 1",
         "showlegend": false,
         "text": [
          "birth filtration = 1.1986409274058851<br>death filtration = 2.117475192402971<br>interval length = 0.918834264997086<br>birth simplex = [71, 115]<br>cyle representative nnz = 37<br>row of dataframe = 166"
         ],
         "type": "scatter",
         "x": [
          1.1986409274058851
         ],
         "y": [
          2.117475192402971
         ]
        },
        {
         "legendgroup": "1",
         "marker": {
          "color": "#EF553B"
         },
         "mode": "markers",
         "name": "Dimension 1",
         "showlegend": false,
         "text": [
          "birth filtration = 1.188369121362017<br>death filtration = 1.1994510474469409<br>interval length = 0.011081926084923976<br>birth simplex = [39, 40]<br>cyle representative nnz = 4<br>row of dataframe = 167"
         ],
         "type": "scatter",
         "x": [
          1.188369121362017
         ],
         "y": [
          1.1994510474469409
         ]
        },
        {
         "legendgroup": "1",
         "marker": {
          "color": "#EF553B"
         },
         "mode": "markers",
         "name": "Dimension 1",
         "showlegend": false,
         "text": [
          "birth filtration = 1.1801519910176226<br>death filtration = 1.34074670994149<br>interval length = 0.16059471892386745<br>birth simplex = [4, 13]<br>cyle representative nnz = 4<br>row of dataframe = 168"
         ],
         "type": "scatter",
         "x": [
          1.1801519910176226
         ],
         "y": [
          1.34074670994149
         ]
        },
        {
         "legendgroup": "1",
         "marker": {
          "color": "#EF553B"
         },
         "mode": "markers",
         "name": "Dimension 1",
         "showlegend": false,
         "text": [
          "birth filtration = 1.1648372351718268<br>death filtration = 2.164304046591996<br>interval length = 0.9994668114201692<br>birth simplex = [65, 120]<br>cyle representative nnz = 28<br>row of dataframe = 169"
         ],
         "type": "scatter",
         "x": [
          1.1648372351718268
         ],
         "y": [
          2.164304046591996
         ]
        },
        {
         "legendgroup": "1",
         "marker": {
          "color": "#EF553B"
         },
         "mode": "markers",
         "name": "Dimension 1",
         "showlegend": false,
         "text": [
          "birth filtration = 1.162256246962062<br>death filtration = 1.181459713695341<br>interval length = 0.019203466733278995<br>birth simplex = [73, 87]<br>cyle representative nnz = 7<br>row of dataframe = 170"
         ],
         "type": "scatter",
         "x": [
          1.162256246962062
         ],
         "y": [
          1.181459713695341
         ]
        },
        {
         "legendgroup": "1",
         "marker": {
          "color": "#EF553B"
         },
         "mode": "markers",
         "name": "Dimension 1",
         "showlegend": false,
         "text": [
          "birth filtration = 1.1312429341112489<br>death filtration = 1.1991076218720826<br>interval length = 0.06786468776083376<br>birth simplex = [69, 105]<br>cyle representative nnz = 15<br>row of dataframe = 171"
         ],
         "type": "scatter",
         "x": [
          1.1312429341112489
         ],
         "y": [
          1.1991076218720826
         ]
        },
        {
         "legendgroup": "1",
         "marker": {
          "color": "#EF553B"
         },
         "mode": "markers",
         "name": "Dimension 1",
         "showlegend": false,
         "text": [
          "birth filtration = 1.1286322102189819<br>death filtration = 1.4565322919426231<br>interval length = 0.32790008172364127<br>birth simplex = [11, 62]<br>cyle representative nnz = 8<br>row of dataframe = 172"
         ],
         "type": "scatter",
         "x": [
          1.1286322102189819
         ],
         "y": [
          1.4565322919426231
         ]
        },
        {
         "legendgroup": "1",
         "marker": {
          "color": "#EF553B"
         },
         "mode": "markers",
         "name": "Dimension 1",
         "showlegend": false,
         "text": [
          "birth filtration = 1.10862695267322<br>death filtration = 1.4543230704850494<br>interval length = 0.3456961178118294<br>birth simplex = [69, 115]<br>cyle representative nnz = 19<br>row of dataframe = 173"
         ],
         "type": "scatter",
         "x": [
          1.10862695267322
         ],
         "y": [
          1.4543230704850494
         ]
        },
        {
         "legendgroup": "1",
         "marker": {
          "color": "#EF553B"
         },
         "mode": "markers",
         "name": "Dimension 1",
         "showlegend": false,
         "text": [
          "birth filtration = 1.1074311413893627<br>death filtration = 1.1171324012645643<br>interval length = 0.00970125987520154<br>birth simplex = [104, 120]<br>cyle representative nnz = 6<br>row of dataframe = 174"
         ],
         "type": "scatter",
         "x": [
          1.1074311413893627
         ],
         "y": [
          1.1171324012645643
         ]
        },
        {
         "legendgroup": "1",
         "marker": {
          "color": "#EF553B"
         },
         "mode": "markers",
         "name": "Dimension 1",
         "showlegend": false,
         "text": [
          "birth filtration = 1.0760884293307076<br>death filtration = 1.7321838970361243<br>interval length = 0.6560954677054167<br>birth simplex = [70, 98]<br>cyle representative nnz = 18<br>row of dataframe = 175"
         ],
         "type": "scatter",
         "x": [
          1.0760884293307076
         ],
         "y": [
          1.7321838970361243
         ]
        },
        {
         "legendgroup": "1",
         "marker": {
          "color": "#EF553B"
         },
         "mode": "markers",
         "name": "Dimension 1",
         "showlegend": false,
         "text": [
          "birth filtration = 1.0460916610285889<br>death filtration = 1.186438793003525<br>interval length = 0.1403471319749361<br>birth simplex = [83, 123]<br>cyle representative nnz = 5<br>row of dataframe = 176"
         ],
         "type": "scatter",
         "x": [
          1.0460916610285889
         ],
         "y": [
          1.186438793003525
         ]
        },
        {
         "legendgroup": "1",
         "marker": {
          "color": "#EF553B"
         },
         "mode": "markers",
         "name": "Dimension 1",
         "showlegend": false,
         "text": [
          "birth filtration = 1.0021121147330336<br>death filtration = 1.1326345033928407<br>interval length = 0.13052238865980703<br>birth simplex = [22, 47]<br>cyle representative nnz = 4<br>row of dataframe = 177"
         ],
         "type": "scatter",
         "x": [
          1.0021121147330336
         ],
         "y": [
          1.1326345033928407
         ]
        },
        {
         "legendgroup": "1",
         "marker": {
          "color": "#EF553B"
         },
         "mode": "markers",
         "name": "Dimension 1",
         "showlegend": false,
         "text": [
          "birth filtration = 0.9186605428771648<br>death filtration = 0.9432962759065645<br>interval length = 0.024635733029399698<br>birth simplex = [58, 140]<br>cyle representative nnz = 4<br>row of dataframe = 178"
         ],
         "type": "scatter",
         "x": [
          0.9186605428771648
         ],
         "y": [
          0.9432962759065645
         ]
        },
        {
         "legendgroup": "1",
         "marker": {
          "color": "#EF553B"
         },
         "mode": "markers",
         "name": "Dimension 1",
         "showlegend": false,
         "text": [
          "birth filtration = 0.8990862948709981<br>death filtration = 0.9710927722251598<br>interval length = 0.07200647735416166<br>birth simplex = [88, 135]<br>cyle representative nnz = 7<br>row of dataframe = 179"
         ],
         "type": "scatter",
         "x": [
          0.8990862948709981
         ],
         "y": [
          0.9710927722251598
         ]
        },
        {
         "legendgroup": "1",
         "marker": {
          "color": "#EF553B"
         },
         "mode": "markers",
         "name": "Dimension 1",
         "showlegend": false,
         "text": [
          "birth filtration = 0.8638911711497005<br>death filtration = 1.146781964052192<br>interval length = 0.2828907929024914<br>birth simplex = [105, 128]<br>cyle representative nnz = 10<br>row of dataframe = 180"
         ],
         "type": "scatter",
         "x": [
          0.8638911711497005
         ],
         "y": [
          1.146781964052192
         ]
        },
        {
         "legendgroup": "1",
         "marker": {
          "color": "#EF553B"
         },
         "mode": "markers",
         "name": "Dimension 1",
         "showlegend": false,
         "text": [
          "birth filtration = 0.8332501215526941<br>death filtration = 0.8637616117693776<br>interval length = 0.030511490216683534<br>birth simplex = [79, 125]<br>cyle representative nnz = 6<br>row of dataframe = 181"
         ],
         "type": "scatter",
         "x": [
          0.8332501215526941
         ],
         "y": [
          0.8637616117693776
         ]
        },
        {
         "legendgroup": "1",
         "marker": {
          "color": "#EF553B"
         },
         "mode": "markers",
         "name": "Dimension 1",
         "showlegend": false,
         "text": [
          "birth filtration = 0.7220824450475947<br>death filtration = 0.7292760304884297<br>interval length = 0.0071935854408350375<br>birth simplex = [31, 37]<br>cyle representative nnz = 5<br>row of dataframe = 182"
         ],
         "type": "scatter",
         "x": [
          0.7220824450475947
         ],
         "y": [
          0.7292760304884297
         ]
        },
        {
         "legendgroup": "1",
         "marker": {
          "color": "#EF553B"
         },
         "mode": "markers",
         "name": "Dimension 1",
         "showlegend": false,
         "text": [
          "birth filtration = 0.6827959744341687<br>death filtration = 0.8606119089654344<br>interval length = 0.17781593453126565<br>birth simplex = [113, 116]<br>cyle representative nnz = 9<br>row of dataframe = 183"
         ],
         "type": "scatter",
         "x": [
          0.6827959744341687
         ],
         "y": [
          0.8606119089654344
         ]
        },
        {
         "legendgroup": "1",
         "marker": {
          "color": "#EF553B"
         },
         "mode": "markers",
         "name": "Dimension 1",
         "showlegend": false,
         "text": [
          "birth filtration = 0.490718726659497<br>death filtration = 0.5051837856775131<br>interval length = 0.014465059018016091<br>birth simplex = [80, 136]<br>cyle representative nnz = 4<br>row of dataframe = 184"
         ],
         "type": "scatter",
         "x": [
          0.490718726659497
         ],
         "y": [
          0.5051837856775131
         ]
        },
        {
         "legendgroup": "1",
         "marker": {
          "color": "#EF553B"
         },
         "mode": "markers",
         "name": "Dimension 1",
         "showlegend": false,
         "text": [
          "birth filtration = 0.4823372932875233<br>death filtration = 0.5404951447274247<br>interval length = 0.058157851439901376<br>birth simplex = [100, 123]<br>cyle representative nnz = 4<br>row of dataframe = 185"
         ],
         "type": "scatter",
         "x": [
          0.4823372932875233
         ],
         "y": [
          0.5404951447274247
         ]
        },
        {
         "legendgroup": "1",
         "marker": {
          "color": "#EF553B"
         },
         "mode": "markers",
         "name": "Dimension 1",
         "showlegend": false,
         "text": [
          "birth filtration = 0.4230411511852788<br>death filtration = 0.47623019064445293<br>interval length = 0.05318903945917414<br>birth simplex = [23, 38]<br>cyle representative nnz = 4<br>row of dataframe = 186"
         ],
         "type": "scatter",
         "x": [
          0.4230411511852788
         ],
         "y": [
          0.47623019064445293
         ]
        },
        {
         "legendgroup": "1",
         "marker": {
          "color": "#EF553B"
         },
         "mode": "markers",
         "name": "Dimension 1",
         "showlegend": false,
         "text": [
          "birth filtration = 0.3506742031772431<br>death filtration = 0.3711471288558396<br>interval length = 0.020472925678596487<br>birth simplex = [25, 34]<br>cyle representative nnz = 6<br>row of dataframe = 187"
         ],
         "type": "scatter",
         "x": [
          0.3506742031772431
         ],
         "y": [
          0.3711471288558396
         ]
        },
        {
         "legendgroup": "2",
         "marker": {
          "color": "#00CC96"
         },
         "mode": "markers",
         "name": "Dimension 2",
         "showlegend": true,
         "text": [
          "birth filtration = 2.278622023368625<br>death filtration = 3.2985756797946606<br>interval length = 1.0199536564260354<br>birth simplex = [39, 48, 140]<br>cyle representative nnz = 86<br>row of dataframe = 188"
         ],
         "type": "scatter",
         "x": [
          2.278622023368625
         ],
         "y": [
          3.2985756797946606
         ]
        },
        {
         "legendgroup": "2",
         "marker": {
          "color": "#00CC96"
         },
         "mode": "markers",
         "name": "Dimension 2",
         "showlegend": false,
         "text": [
          "birth filtration = 2.1792640204803706<br>death filtration = 3.2963239179004344<br>interval length = 1.1170598974200638<br>birth simplex = [101, 106, 110]<br>cyle representative nnz = 104<br>row of dataframe = 189"
         ],
         "type": "scatter",
         "x": [
          2.1792640204803706
         ],
         "y": [
          3.2963239179004344
         ]
        }
       ],
       "layout": {
        "height": 500,
        "margin": {
         "b": 20,
         "l": 20,
         "r": 20,
         "t": 20
        },
        "shapes": [
         {
          "line": {
           "dash": "dot"
          },
          "type": "line",
          "x0": 0,
          "x1": 1,
          "xref": "x domain",
          "y0": 3.628433247774127,
          "y1": 3.628433247774127,
          "yref": "y"
         }
        ],
        "template": {
         "data": {
          "bar": [
           {
            "error_x": {
             "color": "#2a3f5f"
            },
            "error_y": {
             "color": "#2a3f5f"
            },
            "marker": {
             "line": {
              "color": "#E5ECF6",
              "width": 0.5
             },
             "pattern": {
              "fillmode": "overlay",
              "size": 10,
              "solidity": 0.2
             }
            },
            "type": "bar"
           }
          ],
          "barpolar": [
           {
            "marker": {
             "line": {
              "color": "#E5ECF6",
              "width": 0.5
             },
             "pattern": {
              "fillmode": "overlay",
              "size": 10,
              "solidity": 0.2
             }
            },
            "type": "barpolar"
           }
          ],
          "carpet": [
           {
            "aaxis": {
             "endlinecolor": "#2a3f5f",
             "gridcolor": "white",
             "linecolor": "white",
             "minorgridcolor": "white",
             "startlinecolor": "#2a3f5f"
            },
            "baxis": {
             "endlinecolor": "#2a3f5f",
             "gridcolor": "white",
             "linecolor": "white",
             "minorgridcolor": "white",
             "startlinecolor": "#2a3f5f"
            },
            "type": "carpet"
           }
          ],
          "choropleth": [
           {
            "colorbar": {
             "outlinewidth": 0,
             "ticks": ""
            },
            "type": "choropleth"
           }
          ],
          "contour": [
           {
            "colorbar": {
             "outlinewidth": 0,
             "ticks": ""
            },
            "colorscale": [
             [
              0,
              "#0d0887"
             ],
             [
              0.1111111111111111,
              "#46039f"
             ],
             [
              0.2222222222222222,
              "#7201a8"
             ],
             [
              0.3333333333333333,
              "#9c179e"
             ],
             [
              0.4444444444444444,
              "#bd3786"
             ],
             [
              0.5555555555555556,
              "#d8576b"
             ],
             [
              0.6666666666666666,
              "#ed7953"
             ],
             [
              0.7777777777777778,
              "#fb9f3a"
             ],
             [
              0.8888888888888888,
              "#fdca26"
             ],
             [
              1,
              "#f0f921"
             ]
            ],
            "type": "contour"
           }
          ],
          "contourcarpet": [
           {
            "colorbar": {
             "outlinewidth": 0,
             "ticks": ""
            },
            "type": "contourcarpet"
           }
          ],
          "heatmap": [
           {
            "colorbar": {
             "outlinewidth": 0,
             "ticks": ""
            },
            "colorscale": [
             [
              0,
              "#0d0887"
             ],
             [
              0.1111111111111111,
              "#46039f"
             ],
             [
              0.2222222222222222,
              "#7201a8"
             ],
             [
              0.3333333333333333,
              "#9c179e"
             ],
             [
              0.4444444444444444,
              "#bd3786"
             ],
             [
              0.5555555555555556,
              "#d8576b"
             ],
             [
              0.6666666666666666,
              "#ed7953"
             ],
             [
              0.7777777777777778,
              "#fb9f3a"
             ],
             [
              0.8888888888888888,
              "#fdca26"
             ],
             [
              1,
              "#f0f921"
             ]
            ],
            "type": "heatmap"
           }
          ],
          "heatmapgl": [
           {
            "colorbar": {
             "outlinewidth": 0,
             "ticks": ""
            },
            "colorscale": [
             [
              0,
              "#0d0887"
             ],
             [
              0.1111111111111111,
              "#46039f"
             ],
             [
              0.2222222222222222,
              "#7201a8"
             ],
             [
              0.3333333333333333,
              "#9c179e"
             ],
             [
              0.4444444444444444,
              "#bd3786"
             ],
             [
              0.5555555555555556,
              "#d8576b"
             ],
             [
              0.6666666666666666,
              "#ed7953"
             ],
             [
              0.7777777777777778,
              "#fb9f3a"
             ],
             [
              0.8888888888888888,
              "#fdca26"
             ],
             [
              1,
              "#f0f921"
             ]
            ],
            "type": "heatmapgl"
           }
          ],
          "histogram": [
           {
            "marker": {
             "pattern": {
              "fillmode": "overlay",
              "size": 10,
              "solidity": 0.2
             }
            },
            "type": "histogram"
           }
          ],
          "histogram2d": [
           {
            "colorbar": {
             "outlinewidth": 0,
             "ticks": ""
            },
            "colorscale": [
             [
              0,
              "#0d0887"
             ],
             [
              0.1111111111111111,
              "#46039f"
             ],
             [
              0.2222222222222222,
              "#7201a8"
             ],
             [
              0.3333333333333333,
              "#9c179e"
             ],
             [
              0.4444444444444444,
              "#bd3786"
             ],
             [
              0.5555555555555556,
              "#d8576b"
             ],
             [
              0.6666666666666666,
              "#ed7953"
             ],
             [
              0.7777777777777778,
              "#fb9f3a"
             ],
             [
              0.8888888888888888,
              "#fdca26"
             ],
             [
              1,
              "#f0f921"
             ]
            ],
            "type": "histogram2d"
           }
          ],
          "histogram2dcontour": [
           {
            "colorbar": {
             "outlinewidth": 0,
             "ticks": ""
            },
            "colorscale": [
             [
              0,
              "#0d0887"
             ],
             [
              0.1111111111111111,
              "#46039f"
             ],
             [
              0.2222222222222222,
              "#7201a8"
             ],
             [
              0.3333333333333333,
              "#9c179e"
             ],
             [
              0.4444444444444444,
              "#bd3786"
             ],
             [
              0.5555555555555556,
              "#d8576b"
             ],
             [
              0.6666666666666666,
              "#ed7953"
             ],
             [
              0.7777777777777778,
              "#fb9f3a"
             ],
             [
              0.8888888888888888,
              "#fdca26"
             ],
             [
              1,
              "#f0f921"
             ]
            ],
            "type": "histogram2dcontour"
           }
          ],
          "mesh3d": [
           {
            "colorbar": {
             "outlinewidth": 0,
             "ticks": ""
            },
            "type": "mesh3d"
           }
          ],
          "parcoords": [
           {
            "line": {
             "colorbar": {
              "outlinewidth": 0,
              "ticks": ""
             }
            },
            "type": "parcoords"
           }
          ],
          "pie": [
           {
            "automargin": true,
            "type": "pie"
           }
          ],
          "scatter": [
           {
            "fillpattern": {
             "fillmode": "overlay",
             "size": 10,
             "solidity": 0.2
            },
            "type": "scatter"
           }
          ],
          "scatter3d": [
           {
            "line": {
             "colorbar": {
              "outlinewidth": 0,
              "ticks": ""
             }
            },
            "marker": {
             "colorbar": {
              "outlinewidth": 0,
              "ticks": ""
             }
            },
            "type": "scatter3d"
           }
          ],
          "scattercarpet": [
           {
            "marker": {
             "colorbar": {
              "outlinewidth": 0,
              "ticks": ""
             }
            },
            "type": "scattercarpet"
           }
          ],
          "scattergeo": [
           {
            "marker": {
             "colorbar": {
              "outlinewidth": 0,
              "ticks": ""
             }
            },
            "type": "scattergeo"
           }
          ],
          "scattergl": [
           {
            "marker": {
             "colorbar": {
              "outlinewidth": 0,
              "ticks": ""
             }
            },
            "type": "scattergl"
           }
          ],
          "scattermapbox": [
           {
            "marker": {
             "colorbar": {
              "outlinewidth": 0,
              "ticks": ""
             }
            },
            "type": "scattermapbox"
           }
          ],
          "scatterpolar": [
           {
            "marker": {
             "colorbar": {
              "outlinewidth": 0,
              "ticks": ""
             }
            },
            "type": "scatterpolar"
           }
          ],
          "scatterpolargl": [
           {
            "marker": {
             "colorbar": {
              "outlinewidth": 0,
              "ticks": ""
             }
            },
            "type": "scatterpolargl"
           }
          ],
          "scatterternary": [
           {
            "marker": {
             "colorbar": {
              "outlinewidth": 0,
              "ticks": ""
             }
            },
            "type": "scatterternary"
           }
          ],
          "surface": [
           {
            "colorbar": {
             "outlinewidth": 0,
             "ticks": ""
            },
            "colorscale": [
             [
              0,
              "#0d0887"
             ],
             [
              0.1111111111111111,
              "#46039f"
             ],
             [
              0.2222222222222222,
              "#7201a8"
             ],
             [
              0.3333333333333333,
              "#9c179e"
             ],
             [
              0.4444444444444444,
              "#bd3786"
             ],
             [
              0.5555555555555556,
              "#d8576b"
             ],
             [
              0.6666666666666666,
              "#ed7953"
             ],
             [
              0.7777777777777778,
              "#fb9f3a"
             ],
             [
              0.8888888888888888,
              "#fdca26"
             ],
             [
              1,
              "#f0f921"
             ]
            ],
            "type": "surface"
           }
          ],
          "table": [
           {
            "cells": {
             "fill": {
              "color": "#EBF0F8"
             },
             "line": {
              "color": "white"
             }
            },
            "header": {
             "fill": {
              "color": "#C8D4E3"
             },
             "line": {
              "color": "white"
             }
            },
            "type": "table"
           }
          ]
         },
         "layout": {
          "annotationdefaults": {
           "arrowcolor": "#2a3f5f",
           "arrowhead": 0,
           "arrowwidth": 1
          },
          "autotypenumbers": "strict",
          "coloraxis": {
           "colorbar": {
            "outlinewidth": 0,
            "ticks": ""
           }
          },
          "colorscale": {
           "diverging": [
            [
             0,
             "#8e0152"
            ],
            [
             0.1,
             "#c51b7d"
            ],
            [
             0.2,
             "#de77ae"
            ],
            [
             0.3,
             "#f1b6da"
            ],
            [
             0.4,
             "#fde0ef"
            ],
            [
             0.5,
             "#f7f7f7"
            ],
            [
             0.6,
             "#e6f5d0"
            ],
            [
             0.7,
             "#b8e186"
            ],
            [
             0.8,
             "#7fbc41"
            ],
            [
             0.9,
             "#4d9221"
            ],
            [
             1,
             "#276419"
            ]
           ],
           "sequential": [
            [
             0,
             "#0d0887"
            ],
            [
             0.1111111111111111,
             "#46039f"
            ],
            [
             0.2222222222222222,
             "#7201a8"
            ],
            [
             0.3333333333333333,
             "#9c179e"
            ],
            [
             0.4444444444444444,
             "#bd3786"
            ],
            [
             0.5555555555555556,
             "#d8576b"
            ],
            [
             0.6666666666666666,
             "#ed7953"
            ],
            [
             0.7777777777777778,
             "#fb9f3a"
            ],
            [
             0.8888888888888888,
             "#fdca26"
            ],
            [
             1,
             "#f0f921"
            ]
           ],
           "sequentialminus": [
            [
             0,
             "#0d0887"
            ],
            [
             0.1111111111111111,
             "#46039f"
            ],
            [
             0.2222222222222222,
             "#7201a8"
            ],
            [
             0.3333333333333333,
             "#9c179e"
            ],
            [
             0.4444444444444444,
             "#bd3786"
            ],
            [
             0.5555555555555556,
             "#d8576b"
            ],
            [
             0.6666666666666666,
             "#ed7953"
            ],
            [
             0.7777777777777778,
             "#fb9f3a"
            ],
            [
             0.8888888888888888,
             "#fdca26"
            ],
            [
             1,
             "#f0f921"
            ]
           ]
          },
          "colorway": [
           "#636efa",
           "#EF553B",
           "#00cc96",
           "#ab63fa",
           "#FFA15A",
           "#19d3f3",
           "#FF6692",
           "#B6E880",
           "#FF97FF",
           "#FECB52"
          ],
          "font": {
           "color": "#2a3f5f"
          },
          "geo": {
           "bgcolor": "white",
           "lakecolor": "white",
           "landcolor": "#E5ECF6",
           "showlakes": true,
           "showland": true,
           "subunitcolor": "white"
          },
          "hoverlabel": {
           "align": "left"
          },
          "hovermode": "closest",
          "mapbox": {
           "style": "light"
          },
          "paper_bgcolor": "white",
          "plot_bgcolor": "#E5ECF6",
          "polar": {
           "angularaxis": {
            "gridcolor": "white",
            "linecolor": "white",
            "ticks": ""
           },
           "bgcolor": "#E5ECF6",
           "radialaxis": {
            "gridcolor": "white",
            "linecolor": "white",
            "ticks": ""
           }
          },
          "scene": {
           "xaxis": {
            "backgroundcolor": "#E5ECF6",
            "gridcolor": "white",
            "gridwidth": 2,
            "linecolor": "white",
            "showbackground": true,
            "ticks": "",
            "zerolinecolor": "white"
           },
           "yaxis": {
            "backgroundcolor": "#E5ECF6",
            "gridcolor": "white",
            "gridwidth": 2,
            "linecolor": "white",
            "showbackground": true,
            "ticks": "",
            "zerolinecolor": "white"
           },
           "zaxis": {
            "backgroundcolor": "#E5ECF6",
            "gridcolor": "white",
            "gridwidth": 2,
            "linecolor": "white",
            "showbackground": true,
            "ticks": "",
            "zerolinecolor": "white"
           }
          },
          "shapedefaults": {
           "line": {
            "color": "#2a3f5f"
           }
          },
          "ternary": {
           "aaxis": {
            "gridcolor": "white",
            "linecolor": "white",
            "ticks": ""
           },
           "baxis": {
            "gridcolor": "white",
            "linecolor": "white",
            "ticks": ""
           },
           "bgcolor": "#E5ECF6",
           "caxis": {
            "gridcolor": "white",
            "linecolor": "white",
            "ticks": ""
           }
          },
          "title": {
           "x": 0.05
          },
          "xaxis": {
           "automargin": true,
           "gridcolor": "white",
           "linecolor": "white",
           "ticks": "",
           "title": {
            "standoff": 15
           },
           "zerolinecolor": "white",
           "zerolinewidth": 2
          },
          "yaxis": {
           "automargin": true,
           "gridcolor": "white",
           "linecolor": "white",
           "ticks": "",
           "title": {
            "standoff": 15
           },
           "zerolinecolor": "white",
           "zerolinewidth": 2
          }
         }
        },
        "width": 600
       }
      }
     },
     "metadata": {},
     "output_type": "display_data"
    }
   ],
   "source": [
    "# Persistance diagram\n",
    "fig = oat.plot.pd(homology)\n",
    "fig.update_layout(\n",
    "        width=600, \n",
    "        height=500,\n",
    "        margin=dict(l=20, r=20, t=20, b=20)\n",
    "    )\n",
    "fig.show()"
   ]
  },
  {
   "cell_type": "markdown",
   "metadata": {},
   "source": [
    "#### Find Representative 2D Cycles (Around 3D Voids)\n",
    "To find representative cycles, we use the factored matrix and the `optimize_cycle` method.\n",
    "\n",
    "We do this both the largest and second largest 3D Void."
   ]
  },
  {
   "cell_type": "code",
   "execution_count": 6,
   "metadata": {},
   "outputs": [
    {
     "data": {
      "application/vnd.plotly.v1+json": {
       "config": {
        "plotlyServerURL": "https://plot.ly"
       },
       "data": [
        {
         "mode": "markers",
         "name": "Data",
         "opacity": 0.5,
         "showlegend": true,
         "type": "scatter3d",
         "x": [
          0.24099609440026062,
          0.9459052428491446,
          -1.2427045372250942,
          -0.051433884491928344,
          1.9179147019474416,
          0.0754626231401496,
          0.27381987748991166,
          0.2510943827771924,
          -0.6543556064212848,
          1.3900071023527665,
          -0.21097111053364545,
          -1.3265316306145045,
          -1.9975758492810571,
          1.428568242818934,
          0.3820626767257851,
          0.8653877369989628,
          0.050284467166277394,
          0.30281210229156447,
          1.7319507989908225,
          -0.42613233208472867,
          -0.38145899499988223,
          1.1755128883777133,
          -1.4023996712301636,
          0.28939832272322746,
          0.8044254643756292,
          -0.2849236394818316,
          -1.3671731797173003,
          -0.7478125174610569,
          0.15686007340957897,
          -1.4301347061514855,
          0.038120431923179945,
          0.2841074831430881,
          0.6081727314115856,
          -0.6611496622885924,
          -0.16802735966394808,
          0.314816552902814,
          -1.267561305073793,
          0.32158348836488515,
          0.3781032990515907,
          1.3922760595743457,
          1.7918764466752988,
          -0.41115390446729533,
          0.17363260716907167,
          1.0112948663369463,
          0.6726181657977889,
          0.0752765168142189,
          -0.0003143404862772023,
          -1.3220352347871873,
          -0.7553679388430606,
          0.22296383036584522,
          -1.3804651799529948,
          1.0241862428159756,
          0.7730788287989033,
          -0.7747460622295846,
          -1.175819160789283,
          1.846831097242284,
          -2.0009077138690374,
          -1.2116814739390598,
          -0.9116729555413463,
          -0.0769326800570269,
          0.9176555584372866,
          1.385766410760012,
          -1.7667019399941535,
          1.308766089156314,
          0.5611589264039794,
          0.02810579618190706,
          1.618112135878201,
          -0.276692694367083,
          -1.1818678999432266,
          0.9735511531324905,
          -1.5321167248268441,
          1.7330410892795574,
          -1.249974037907788,
          -1.5274169251558738,
          1.3777876509564166,
          -1.7811237798388304,
          -0.4519813457193348,
          1.847175189041157,
          -0.067985045970385,
          1.3612634595715207,
          -0.46525843550395174,
          -0.7198117268327708,
          0.33387231496310743,
          -0.5749288027657355,
          -1.1170972807902728,
          -1.726124292717342,
          0.091053934578192,
          -0.5907857116655164,
          0.7984630001581839,
          0.7004525998294572,
          0.6374409857886782,
          0.921827816575034,
          -0.48950262235808173,
          0.5278699220456626,
          1.6320943743723864,
          -0.23401791608013084,
          0.30224127660263383,
          -1.603032987285266,
          -1.9521437022080457,
          0.10740838136713324,
          -1.4698954876636652,
          1.4934444449079516,
          -0.7914628162275198,
          -0.2573073144405479,
          0.5718938626093497,
          0.2839383912534662,
          0.7857777065117224,
          -0.7027719005322292,
          -0.028288646358340813,
          0.9313326391467384,
          1.8799150493201464,
          0.025550207269889828,
          -0.858317222688285,
          -1.0293062544086706,
          -1.8305868041779985,
          1.6541292253816107,
          -0.5801050348866499,
          0.3262893526784785,
          -0.14355848546193928,
          1.1526599178993406,
          0.06599489994353995,
          -1.4206287666285864,
          1.6319422235778331,
          -1.1158212707807034,
          0.992486455386081,
          1.614923263661248,
          -0.4270534678090496,
          -1.032615769203239,
          -0.20529353390905727,
          1.6895743523475837,
          -0.0580367711141819,
          -0.08791134182694263,
          0.0034330498951731766,
          0.0602048127945789,
          0.0038751215520781606,
          -0.004107802203620115,
          0.00030699942611696785,
          0.030054986951496263,
          -0.04147959269645468,
          0.0008904902078022412,
          -0.04523940174082875,
          0.0793416345217721,
          0.009172657410361598,
          0.007245773443079769,
          0.024082448999190174,
          -0.0012355370448450629,
          -0.005330616052466133,
          0.0012390063529189148,
          0.031612720466174866,
          0.0025169867137333018
         ],
         "y": [
          -1.7476052209964665,
          0.12685903843803312,
          -1.5024055848795577,
          -1.7143091900793404,
          0.04414064637729072,
          0.486863053300648,
          0.8161151670239568,
          -1.9150650182830506,
          -1.453456184287172,
          0.8351029557944165,
          -0.49248511095161834,
          0.4150590213769577,
          -0.10884434771632476,
          0.13535003088990571,
          -0.9090657178199161,
          0.7367793633647386,
          0.15707416426202359,
          -1.1065394062637077,
          -0.9858056293223536,
          -1.771005596398586,
          -0.09685613084306363,
          1.4982394958239371,
          1.4433971126081504,
          0.5494492368446982,
          -0.2788426990847904,
          0.12383498411973237,
          -1.2861180258481681,
          -0.08034516108672493,
          0.21260138399146494,
          -1.0084700761900411,
          -0.05750698793205378,
          0.03895142204402945,
          -0.39532082598516183,
          1.6569648340403553,
          -0.20630481449570964,
          -0.8875572885007396,
          -1.092033054514339,
          -0.6676161747495057,
          0.15602097986643623,
          1.4013205573594216,
          0.5318638041688013,
          0.9460457570517548,
          0.36685896263074136,
          -1.2867864134332472,
          -0.5983590273228785,
          -1.92577980971974,
          -0.12075071218273561,
          1.1813571260909517,
          1.4396273133734907,
          0.6796936141855081,
          1.0184959320925155,
          0.6698150810525435,
          -1.6731390378686097,
          -1.0543904890481512,
          1.082859545206985,
          -0.6504445935146318,
          0.17312731333002584,
          0.3341742447711287,
          1.7814698854923972,
          0.36626534150191814,
          0.628736270449864,
          -0.9150184648699894,
          -0.391095917714064,
          0.7857618086863001,
          0.10558335764546403,
          1.9553705995848876,
          0.3597136279748002,
          -1.868495987950347,
          1.091451170019377,
          -0.5041787491042742,
          0.6046859214132598,
          0.8054779465634925,
          -0.3586816847433397,
          -0.09834271450726173,
          -0.13925086826455357,
          -0.8920835959741598,
          1.6984481629067298,
          0.7517014682053901,
          0.07751694951020073,
          0.7949841766627928,
          -1.8613633476481592,
          -0.9772883216067014,
          -0.14132988552696407,
          -1.7181337873166074,
          -0.9053291863516476,
          0.688105961817672,
          0.3035129501304215,
          -0.0017357943494776852,
          -1.767258363456707,
          0.45023444752292696,
          -1.978452463165785,
          0.45565402069794725,
          -0.3186581756695339,
          1.3417850932441002,
          -0.728831053803635,
          1.1378487771444106,
          0.07686332243632069,
          -0.2749900740378073,
          0.7494786720949622,
          2.125075140108281,
          -0.653722943776779,
          -1.2362081819165895,
          -1.4593409916921396,
          0.34276153409432897,
          0.39927054310509696,
          -1.3317723898605132,
          -1.2796615564307725,
          -0.5223773980242754,
          0.13919795014982983,
          0.8268751084247568,
          0.4147035000307109,
          -1.2206213725102897,
          -1.725897817331749,
          0.1693001021043674,
          -0.1490772129887783,
          -0.17744716016586437,
          0.6390374077864617,
          0.6500807799647356,
          0.012558869163499941,
          -1.6124871635418012,
          1.3017780779622958,
          0.3980138609502213,
          -0.9907558784263603,
          -0.963166242499383,
          -1.4833456085074883,
          1.0681981614918616,
          -1.9476266721345303,
          -0.5468934715903268,
          -0.7224704021926796,
          1.0576432769200679,
          -1.9943961191374964,
          -2.1053743094778308,
          -1.9939639357111911,
          -2.030827272895107,
          -1.9813820502248392,
          -2.0060292468328815,
          -1.998163849556661,
          -1.9288236365001172,
          -1.924170770976584,
          -1.9974441481967997,
          2.0112222357451683,
          2.0244619359137648,
          2.0532752855476555,
          2.0303713259266076,
          2.02500410438344,
          1.9986287885397835,
          2.0153242752451432,
          1.9972030204277498,
          1.9823759696867074,
          1.9940671793216906
         ],
         "z": [
          1.7718982034046589,
          4.808711710014879,
          2.2168445140677053,
          2.181124770639634,
          3.3497903234254616,
          4.9119876676043095,
          1.2660045319720652,
          2.2779439780736563,
          1.7539391359529475,
          1.9736145668827791,
          4.913908259523104,
          4.472479709600413,
          3.0917823180322355,
          4.419827525123646,
          1.2602299999452078,
          1.5286060314292322,
          0.9423131105068911,
          1.420379173642134,
          2.8436417281679276,
          2.347328547939448,
          5.148964907558796,
          2.3397316312611207,
          3.0398756883539493,
          1.067459268968439,
          1.2107006707210386,
          1.0326364351571597,
          2.4673502172485042,
          4.885548809801875,
          5.02605830348917,
          1.968024853033125,
          1.0101018315357009,
          4.979603968101325,
          1.120678913771407,
          2.1229338503279274,
          1.0148777778630715,
          1.2363314173565474,
          4.270476611270691,
          4.835517752105704,
          0.9397508143469961,
          3.3978273853249337,
          2.693139047428864,
          1.2661963940858865,
          4.9017780888025175,
          1.8090659987749391,
          1.0633059420962128,
          2.3812833285399044,
          1.0783098400599351,
          2.0759746076843704,
          4.158272106449291,
          5.067796625937391,
          2.0027713611039273,
          4.5701376997292416,
          3.8825563191108943,
          4.513429460406471,
          1.703834842441142,
          3.417238510080346,
          3.0391920053441197,
          4.563045420130074,
          2.9444954157550165,
          0.9994763090786639,
          1.4282243131069274,
          4.246172929706724,
          3.816602450607879,
          1.7904264776064551,
          4.903593006872568,
          -3.531881024024637,
          -3.976227760896973,
          -2.315656130400948,
          -4.1393812643242756,
          -1.1698713116776536,
          -2.307847417278273,
          -2.6631773633094395,
          -4.420231999984052,
          -1.7039205242935374,
          -4.552750484795351,
          -3.011164588777639,
          -2.047936425594996,
          -3.187465593527785,
          -5.091143773350528,
          -4.227334756344423,
          -2.644665183432333,
          -1.3775171909159523,
          -0.9858194841039267,
          -3.918909044431429,
          -1.5724519356972684,
          -3.71858035833136,
          -1.0744583719032046,
          -1.0225772506821031,
          -2.2150919774361517,
          -1.2306140207453098,
          -2.9658850219311237,
          -1.2723625404960142,
          -4.974766610014017,
          -1.6353246580142529,
          -2.1737361925192813,
          -4.64521067451492,
          -1.0225105071804235,
          -1.849885093125241,
          -3.28793858924212,
          -3.4846121946922533,
          -4.2929738555603745,
          -2.44625814745755,
          -1.8924629711874934,
          -4.968346230694227,
          -4.8902316185402315,
          -1.5151734698088253,
          -4.428858863876677,
          -4.8090539032060695,
          -5.1138643119641625,
          -1.423706285712594,
          -3.6035212351000263,
          -4.596863485992853,
          -2.440221732467188,
          -4.629847152182607,
          -2.035003963598543,
          -1.9817294745096616,
          -4.839073036656689,
          -1.001366793488078,
          -0.9580805036439568,
          -2.7345238974034647,
          -4.495326412169657,
          -4.355059813083419,
          -2.4121065507397965,
          -4.400331008607225,
          -2.2450128414866706,
          -3.482139085831931,
          -3.3177790639022575,
          -4.592154257942372,
          -1.1467835041254488,
          -3.435263372401116,
          -1.353087474491003,
          -2.2859999249738587,
          -0.3126509655891242,
          2.6419902186734854,
          1.0245452017759669,
          -1.88764009078263,
          -2.7177358148123627,
          2.77446322776386,
          2.19886835848439,
          2.008583445215219,
          2.7433886097008684,
          0.6042759787701203,
          2.554404614949136,
          -2.100836548359392,
          -2.3837866296332604,
          -0.7706732763346871,
          1.6030544061443506,
          -1.099930915645859,
          0.8182821434535248,
          -2.9392989971087986
         ]
        },
        {
         "i": [
          0
         ],
         "j": [
          1
         ],
         "k": [
          2
         ],
         "legendgroup": "opti",
         "name": "Non-Optimal Cycle",
         "opacity": 0.5,
         "showlegend": true,
         "type": "mesh3d",
         "x": [
          1.3922760595743457,
          -0.7553679388430606,
          -0.04523940174082875
         ],
         "y": [
          1.4013205573594216,
          1.4396273133734907,
          2.0112222357451683
         ],
         "z": [
          3.3978273853249337,
          4.158272106449291,
          2.7433886097008684
         ]
        },
        {
         "i": [
          0
         ],
         "j": [
          1
         ],
         "k": [
          2
         ],
         "legendgroup": "opti",
         "name": "Non-Optimal Cycle",
         "opacity": 0.5,
         "showlegend": false,
         "type": "mesh3d",
         "x": [
          0.9459052428491446,
          1.3922760595743457,
          -0.7553679388430606
         ],
         "y": [
          0.12685903843803312,
          1.4013205573594216,
          1.4396273133734907
         ],
         "z": [
          4.808711710014879,
          3.3978273853249337,
          4.158272106449291
         ]
        },
        {
         "i": [
          0
         ],
         "j": [
          1
         ],
         "k": [
          2
         ],
         "legendgroup": "opti",
         "name": "Non-Optimal Cycle",
         "opacity": 0.5,
         "showlegend": false,
         "type": "mesh3d",
         "x": [
          0.9459052428491446,
          0.0754626231401496,
          -0.7553679388430606
         ],
         "y": [
          0.12685903843803312,
          0.486863053300648,
          1.4396273133734907
         ],
         "z": [
          4.808711710014879,
          4.9119876676043095,
          4.158272106449291
         ]
        },
        {
         "i": [
          0
         ],
         "j": [
          1
         ],
         "k": [
          2
         ],
         "legendgroup": "opti",
         "name": "Non-Optimal Cycle",
         "opacity": 0.5,
         "showlegend": false,
         "type": "mesh3d",
         "x": [
          -1.3671731797173003,
          -0.7747460622295846,
          0.030054986951496263
         ],
         "y": [
          -1.2861180258481681,
          -1.0543904890481512,
          -1.9288236365001172
         ],
         "z": [
          2.4673502172485042,
          4.513429460406471,
          2.77446322776386
         ]
        },
        {
         "i": [
          0
         ],
         "j": [
          1
         ],
         "k": [
          2
         ],
         "legendgroup": "opti",
         "name": "Non-Optimal Cycle",
         "opacity": 0.5,
         "showlegend": false,
         "type": "mesh3d",
         "x": [
          -1.9975758492810571,
          -1.3671731797173003,
          -0.7747460622295846
         ],
         "y": [
          -0.10884434771632476,
          -1.2861180258481681,
          -1.0543904890481512
         ],
         "z": [
          3.0917823180322355,
          2.4673502172485042,
          4.513429460406471
         ]
        },
        {
         "i": [
          0
         ],
         "j": [
          1
         ],
         "k": [
          2
         ],
         "legendgroup": "opti",
         "name": "Non-Optimal Cycle",
         "opacity": 0.5,
         "showlegend": false,
         "type": "mesh3d",
         "x": [
          0.7730788287989033,
          -0.7747460622295846,
          0.030054986951496263
         ],
         "y": [
          -1.6731390378686097,
          -1.0543904890481512,
          -1.9288236365001172
         ],
         "z": [
          3.8825563191108943,
          4.513429460406471,
          2.77446322776386
         ]
        },
        {
         "i": [
          0
         ],
         "j": [
          1
         ],
         "k": [
          2
         ],
         "legendgroup": "opti",
         "name": "Non-Optimal Cycle",
         "opacity": 0.5,
         "showlegend": false,
         "type": "mesh3d",
         "x": [
          -1.3265316306145045,
          -1.9975758492810571,
          -0.7747460622295846
         ],
         "y": [
          0.4150590213769577,
          -0.10884434771632476,
          -1.0543904890481512
         ],
         "z": [
          4.472479709600413,
          3.0917823180322355,
          4.513429460406471
         ]
        },
        {
         "i": [
          0
         ],
         "j": [
          1
         ],
         "k": [
          2
         ],
         "legendgroup": "opti",
         "name": "Non-Optimal Cycle",
         "opacity": 0.5,
         "showlegend": false,
         "type": "mesh3d",
         "x": [
          -0.2849236394818316,
          -1.4301347061514855,
          -1.3804651799529948
         ],
         "y": [
          0.12383498411973237,
          -1.0084700761900411,
          1.0184959320925155
         ],
         "z": [
          1.0326364351571597,
          1.968024853033125,
          2.0027713611039273
         ]
        },
        {
         "i": [
          0
         ],
         "j": [
          1
         ],
         "k": [
          2
         ],
         "legendgroup": "opti",
         "name": "Non-Optimal Cycle",
         "opacity": 0.5,
         "showlegend": false,
         "type": "mesh3d",
         "x": [
          -1.9975758492810571,
          -1.4301347061514855,
          -1.3804651799529948
         ],
         "y": [
          -0.10884434771632476,
          -1.0084700761900411,
          1.0184959320925155
         ],
         "z": [
          3.0917823180322355,
          1.968024853033125,
          2.0027713611039273
         ]
        },
        {
         "i": [
          0
         ],
         "j": [
          1
         ],
         "k": [
          2
         ],
         "legendgroup": "opti",
         "name": "Non-Optimal Cycle",
         "opacity": 0.5,
         "showlegend": false,
         "type": "mesh3d",
         "x": [
          1.7319507989908225,
          0.8044254643756292,
          1.7918764466752988
         ],
         "y": [
          -0.9858056293223536,
          -0.2788426990847904,
          0.5318638041688013
         ],
         "z": [
          2.8436417281679276,
          1.2107006707210386,
          2.693139047428864
         ]
        },
        {
         "i": [
          0
         ],
         "j": [
          1
         ],
         "k": [
          2
         ],
         "legendgroup": "opti",
         "name": "Non-Optimal Cycle",
         "opacity": 0.5,
         "showlegend": false,
         "type": "mesh3d",
         "x": [
          0.24099609440026062,
          1.7319507989908225,
          0.8044254643756292
         ],
         "y": [
          -1.7476052209964665,
          -0.9858056293223536,
          -0.2788426990847904
         ],
         "z": [
          1.7718982034046589,
          2.8436417281679276,
          1.2107006707210386
         ]
        },
        {
         "i": [
          0
         ],
         "j": [
          1
         ],
         "k": [
          2
         ],
         "legendgroup": "opti",
         "name": "Non-Optimal Cycle",
         "opacity": 0.5,
         "showlegend": false,
         "type": "mesh3d",
         "x": [
          0.24099609440026062,
          0.2510943827771924,
          1.7319507989908225
         ],
         "y": [
          -1.7476052209964665,
          -1.9150650182830506,
          -0.9858056293223536
         ],
         "z": [
          1.7718982034046589,
          2.2779439780736563,
          2.8436417281679276
         ]
        },
        {
         "i": [
          0
         ],
         "j": [
          1
         ],
         "k": [
          2
         ],
         "legendgroup": "opti",
         "name": "Non-Optimal Cycle",
         "opacity": 0.5,
         "showlegend": false,
         "type": "mesh3d",
         "x": [
          1.3900071023527665,
          0.8044254643756292,
          1.7918764466752988
         ],
         "y": [
          0.8351029557944165,
          -0.2788426990847904,
          0.5318638041688013
         ],
         "z": [
          1.9736145668827791,
          1.2107006707210386,
          2.693139047428864
         ]
        },
        {
         "i": [
          0
         ],
         "j": [
          1
         ],
         "k": [
          2
         ],
         "legendgroup": "opti",
         "name": "Non-Optimal Cycle",
         "opacity": 0.5,
         "showlegend": false,
         "type": "mesh3d",
         "x": [
          0.9459052428491446,
          1.9179147019474416,
          1.3922760595743457
         ],
         "y": [
          0.12685903843803312,
          0.04414064637729072,
          1.4013205573594216
         ],
         "z": [
          4.808711710014879,
          3.3497903234254616,
          3.3978273853249337
         ]
        },
        {
         "i": [
          0
         ],
         "j": [
          1
         ],
         "k": [
          2
         ],
         "legendgroup": "opti",
         "name": "Non-Optimal Cycle",
         "opacity": 0.5,
         "showlegend": false,
         "type": "mesh3d",
         "x": [
          -0.6543556064212848,
          -0.2849236394818316,
          -1.4301347061514855
         ],
         "y": [
          -1.453456184287172,
          0.12383498411973237,
          -1.0084700761900411
         ],
         "z": [
          1.7539391359529475,
          1.0326364351571597,
          1.968024853033125
         ]
        },
        {
         "i": [
          0
         ],
         "j": [
          1
         ],
         "k": [
          2
         ],
         "legendgroup": "opti",
         "name": "Non-Optimal Cycle",
         "opacity": 0.5,
         "showlegend": false,
         "type": "mesh3d",
         "x": [
          0.2510943827771924,
          1.7319507989908225,
          0.7730788287989033
         ],
         "y": [
          -1.9150650182830506,
          -0.9858056293223536,
          -1.6731390378686097
         ],
         "z": [
          2.2779439780736563,
          2.8436417281679276,
          3.8825563191108943
         ]
        },
        {
         "i": [
          0
         ],
         "j": [
          1
         ],
         "k": [
          2
         ],
         "legendgroup": "opti",
         "name": "Non-Optimal Cycle",
         "opacity": 0.5,
         "showlegend": false,
         "type": "mesh3d",
         "x": [
          0.32158348836488515,
          0.7730788287989033,
          -0.7747460622295846
         ],
         "y": [
          -0.6676161747495057,
          -1.6731390378686097,
          -1.0543904890481512
         ],
         "z": [
          4.835517752105704,
          3.8825563191108943,
          4.513429460406471
         ]
        },
        {
         "i": [
          0
         ],
         "j": [
          1
         ],
         "k": [
          2
         ],
         "legendgroup": "opti",
         "name": "Non-Optimal Cycle",
         "opacity": 0.5,
         "showlegend": false,
         "type": "mesh3d",
         "x": [
          -0.6543556064212848,
          0.3820626767257851,
          -0.2849236394818316
         ],
         "y": [
          -1.453456184287172,
          -0.9090657178199161,
          0.12383498411973237
         ],
         "z": [
          1.7539391359529475,
          1.2602299999452078,
          1.0326364351571597
         ]
        },
        {
         "i": [
          0
         ],
         "j": [
          1
         ],
         "k": [
          2
         ],
         "legendgroup": "opti",
         "name": "Non-Optimal Cycle",
         "opacity": 0.5,
         "showlegend": false,
         "type": "mesh3d",
         "x": [
          -1.3265316306145045,
          -1.4023996712301636,
          -0.7553679388430606
         ],
         "y": [
          0.4150590213769577,
          1.4433971126081504,
          1.4396273133734907
         ],
         "z": [
          4.472479709600413,
          3.0398756883539493,
          4.158272106449291
         ]
        },
        {
         "i": [
          0
         ],
         "j": [
          1
         ],
         "k": [
          2
         ],
         "legendgroup": "opti",
         "name": "Non-Optimal Cycle",
         "opacity": 0.5,
         "showlegend": false,
         "type": "mesh3d",
         "x": [
          -1.3265316306145045,
          -1.9975758492810571,
          -1.4023996712301636
         ],
         "y": [
          0.4150590213769577,
          -0.10884434771632476,
          1.4433971126081504
         ],
         "z": [
          4.472479709600413,
          3.0917823180322355,
          3.0398756883539493
         ]
        },
        {
         "i": [
          0
         ],
         "j": [
          1
         ],
         "k": [
          2
         ],
         "legendgroup": "opti",
         "name": "Non-Optimal Cycle",
         "opacity": 0.5,
         "showlegend": false,
         "type": "mesh3d",
         "x": [
          0.9459052428491446,
          1.9179147019474416,
          1.428568242818934
         ],
         "y": [
          0.12685903843803312,
          0.04414064637729072,
          0.13535003088990571
         ],
         "z": [
          4.808711710014879,
          3.3497903234254616,
          4.419827525123646
         ]
        },
        {
         "i": [
          0
         ],
         "j": [
          1
         ],
         "k": [
          2
         ],
         "legendgroup": "opti",
         "name": "Non-Optimal Cycle",
         "opacity": 0.5,
         "showlegend": false,
         "type": "mesh3d",
         "x": [
          -0.2849236394818316,
          -0.41115390446729533,
          -1.3804651799529948
         ],
         "y": [
          0.12383498411973237,
          0.9460457570517548,
          1.0184959320925155
         ],
         "z": [
          1.0326364351571597,
          1.2661963940858865,
          2.0027713611039273
         ]
        },
        {
         "i": [
          0
         ],
         "j": [
          1
         ],
         "k": [
          2
         ],
         "legendgroup": "opti",
         "name": "Non-Optimal Cycle",
         "opacity": 0.5,
         "showlegend": false,
         "type": "mesh3d",
         "x": [
          0.2510943827771924,
          0.0752765168142189,
          0.7730788287989033
         ],
         "y": [
          -1.9150650182830506,
          -1.92577980971974,
          -1.6731390378686097
         ],
         "z": [
          2.2779439780736563,
          2.3812833285399044,
          3.8825563191108943
         ]
        },
        {
         "i": [
          0
         ],
         "j": [
          1
         ],
         "k": [
          2
         ],
         "legendgroup": "opti",
         "name": "Non-Optimal Cycle",
         "opacity": 0.5,
         "showlegend": false,
         "type": "mesh3d",
         "x": [
          1.1755128883777133,
          1.3922760595743457,
          -0.04523940174082875
         ],
         "y": [
          1.4982394958239371,
          1.4013205573594216,
          2.0112222357451683
         ],
         "z": [
          2.3397316312611207,
          3.3978273853249337,
          2.7433886097008684
         ]
        },
        {
         "i": [
          0
         ],
         "j": [
          1
         ],
         "k": [
          2
         ],
         "legendgroup": "opti",
         "name": "Non-Optimal Cycle",
         "opacity": 0.5,
         "showlegend": false,
         "type": "mesh3d",
         "x": [
          -1.9975758492810571,
          -1.4023996712301636,
          -1.3804651799529948
         ],
         "y": [
          -0.10884434771632476,
          1.4433971126081504,
          1.0184959320925155
         ],
         "z": [
          3.0917823180322355,
          3.0398756883539493,
          2.0027713611039273
         ]
        },
        {
         "i": [
          0
         ],
         "j": [
          1
         ],
         "k": [
          2
         ],
         "legendgroup": "opti",
         "name": "Non-Optimal Cycle",
         "opacity": 0.5,
         "showlegend": false,
         "type": "mesh3d",
         "x": [
          -1.4023996712301636,
          -0.7553679388430606,
          -0.04523940174082875
         ],
         "y": [
          1.4433971126081504,
          1.4396273133734907,
          2.0112222357451683
         ],
         "z": [
          3.0398756883539493,
          4.158272106449291,
          2.7433886097008684
         ]
        },
        {
         "i": [
          0
         ],
         "j": [
          1
         ],
         "k": [
          2
         ],
         "legendgroup": "opti",
         "name": "Non-Optimal Cycle",
         "opacity": 0.5,
         "showlegend": false,
         "type": "mesh3d",
         "x": [
          0.0752765168142189,
          0.7730788287989033,
          0.0602048127945789
         ],
         "y": [
          -1.92577980971974,
          -1.6731390378686097,
          -2.030827272895107
         ],
         "z": [
          2.3812833285399044,
          3.8825563191108943,
          2.6419902186734854
         ]
        },
        {
         "i": [
          0
         ],
         "j": [
          1
         ],
         "k": [
          2
         ],
         "legendgroup": "opti",
         "name": "Non-Optimal Cycle",
         "opacity": 0.5,
         "showlegend": false,
         "type": "mesh3d",
         "x": [
          0.24099609440026062,
          0.3820626767257851,
          0.8044254643756292
         ],
         "y": [
          -1.7476052209964665,
          -0.9090657178199161,
          -0.2788426990847904
         ],
         "z": [
          1.7718982034046589,
          1.2602299999452078,
          1.2107006707210386
         ]
        },
        {
         "i": [
          0
         ],
         "j": [
          1
         ],
         "k": [
          2
         ],
         "legendgroup": "opti",
         "name": "Non-Optimal Cycle",
         "opacity": 0.5,
         "showlegend": false,
         "type": "mesh3d",
         "x": [
          1.7319507989908225,
          0.7730788287989033,
          1.846831097242284
         ],
         "y": [
          -0.9858056293223536,
          -1.6731390378686097,
          -0.6504445935146318
         ],
         "z": [
          2.8436417281679276,
          3.8825563191108943,
          3.417238510080346
         ]
        },
        {
         "i": [
          0
         ],
         "j": [
          1
         ],
         "k": [
          2
         ],
         "legendgroup": "opti",
         "name": "Non-Optimal Cycle",
         "opacity": 0.5,
         "showlegend": false,
         "type": "mesh3d",
         "x": [
          -0.21097111053364545,
          -1.3265316306145045,
          -0.7747460622295846
         ],
         "y": [
          -0.49248511095161834,
          0.4150590213769577,
          -1.0543904890481512
         ],
         "z": [
          4.913908259523104,
          4.472479709600413,
          4.513429460406471
         ]
        },
        {
         "i": [
          0
         ],
         "j": [
          1
         ],
         "k": [
          2
         ],
         "legendgroup": "opti",
         "name": "Non-Optimal Cycle",
         "opacity": 0.5,
         "showlegend": false,
         "type": "mesh3d",
         "x": [
          -1.2427045372250942,
          -1.3671731797173003,
          0.030054986951496263
         ],
         "y": [
          -1.5024055848795577,
          -1.2861180258481681,
          -1.9288236365001172
         ],
         "z": [
          2.2168445140677053,
          2.4673502172485042,
          2.77446322776386
         ]
        },
        {
         "i": [
          0
         ],
         "j": [
          1
         ],
         "k": [
          2
         ],
         "legendgroup": "opti",
         "name": "Non-Optimal Cycle",
         "opacity": 0.5,
         "showlegend": false,
         "type": "mesh3d",
         "x": [
          0.7730788287989033,
          1.846831097242284,
          1.385766410760012
         ],
         "y": [
          -1.6731390378686097,
          -0.6504445935146318,
          -0.9150184648699894
         ],
         "z": [
          3.8825563191108943,
          3.417238510080346,
          4.246172929706724
         ]
        },
        {
         "i": [
          0
         ],
         "j": [
          1
         ],
         "k": [
          2
         ],
         "legendgroup": "opti",
         "name": "Non-Optimal Cycle",
         "opacity": 0.5,
         "showlegend": false,
         "type": "mesh3d",
         "x": [
          0.8653877369989628,
          1.1755128883777133,
          -0.005330616052466133
         ],
         "y": [
          0.7367793633647386,
          1.4982394958239371,
          2.0153242752451432
         ],
         "z": [
          1.5286060314292322,
          2.3397316312611207,
          1.6030544061443506
         ]
        },
        {
         "i": [
          0
         ],
         "j": [
          1
         ],
         "k": [
          2
         ],
         "legendgroup": "opti",
         "name": "Non-Optimal Cycle",
         "opacity": 0.5,
         "showlegend": false,
         "type": "mesh3d",
         "x": [
          0.27381987748991166,
          0.8653877369989628,
          -0.005330616052466133
         ],
         "y": [
          0.8161151670239568,
          0.7367793633647386,
          2.0153242752451432
         ],
         "z": [
          1.2660045319720652,
          1.5286060314292322,
          1.6030544061443506
         ]
        },
        {
         "i": [
          0
         ],
         "j": [
          1
         ],
         "k": [
          2
         ],
         "legendgroup": "opti",
         "name": "Non-Optimal Cycle",
         "opacity": 0.5,
         "showlegend": false,
         "type": "mesh3d",
         "x": [
          -1.9975758492810571,
          -1.3671731797173003,
          -1.4301347061514855
         ],
         "y": [
          -0.10884434771632476,
          -1.2861180258481681,
          -1.0084700761900411
         ],
         "z": [
          3.0917823180322355,
          2.4673502172485042,
          1.968024853033125
         ]
        },
        {
         "i": [
          0
         ],
         "j": [
          1
         ],
         "k": [
          2
         ],
         "legendgroup": "opti",
         "name": "Non-Optimal Cycle",
         "opacity": 0.5,
         "showlegend": false,
         "type": "mesh3d",
         "x": [
          1.9179147019474416,
          1.7319507989908225,
          1.7918764466752988
         ],
         "y": [
          0.04414064637729072,
          -0.9858056293223536,
          0.5318638041688013
         ],
         "z": [
          3.3497903234254616,
          2.8436417281679276,
          2.693139047428864
         ]
        },
        {
         "i": [
          0
         ],
         "j": [
          1
         ],
         "k": [
          2
         ],
         "legendgroup": "opti",
         "name": "Non-Optimal Cycle",
         "opacity": 0.5,
         "showlegend": false,
         "type": "mesh3d",
         "x": [
          0.0754626231401496,
          -0.21097111053364545,
          -1.3265316306145045
         ],
         "y": [
          0.486863053300648,
          -0.49248511095161834,
          0.4150590213769577
         ],
         "z": [
          4.9119876676043095,
          4.913908259523104,
          4.472479709600413
         ]
        },
        {
         "i": [
          0
         ],
         "j": [
          1
         ],
         "k": [
          2
         ],
         "legendgroup": "opti",
         "name": "Non-Optimal Cycle",
         "opacity": 0.5,
         "showlegend": false,
         "type": "mesh3d",
         "x": [
          -1.4023996712301636,
          -0.6611496622885924,
          -0.04523940174082875
         ],
         "y": [
          1.4433971126081504,
          1.6569648340403553,
          2.0112222357451683
         ],
         "z": [
          3.0398756883539493,
          2.1229338503279274,
          2.7433886097008684
         ]
        },
        {
         "i": [
          0
         ],
         "j": [
          1
         ],
         "k": [
          2
         ],
         "legendgroup": "opti",
         "name": "Non-Optimal Cycle",
         "opacity": 0.5,
         "showlegend": false,
         "type": "mesh3d",
         "x": [
          1.1755128883777133,
          -0.04523940174082875,
          -0.005330616052466133
         ],
         "y": [
          1.4982394958239371,
          2.0112222357451683,
          2.0153242752451432
         ],
         "z": [
          2.3397316312611207,
          2.7433886097008684,
          1.6030544061443506
         ]
        },
        {
         "i": [
          0
         ],
         "j": [
          1
         ],
         "k": [
          2
         ],
         "legendgroup": "opti",
         "name": "Non-Optimal Cycle",
         "opacity": 0.5,
         "showlegend": false,
         "type": "mesh3d",
         "x": [
          0.7730788287989033,
          0.0602048127945789,
          0.030054986951496263
         ],
         "y": [
          -1.6731390378686097,
          -2.030827272895107,
          -1.9288236365001172
         ],
         "z": [
          3.8825563191108943,
          2.6419902186734854,
          2.77446322776386
         ]
        },
        {
         "i": [
          0
         ],
         "j": [
          1
         ],
         "k": [
          2
         ],
         "legendgroup": "opti",
         "name": "Non-Optimal Cycle",
         "opacity": 0.5,
         "showlegend": false,
         "type": "mesh3d",
         "x": [
          0.0754626231401496,
          -1.3265316306145045,
          -0.7553679388430606
         ],
         "y": [
          0.486863053300648,
          0.4150590213769577,
          1.4396273133734907
         ],
         "z": [
          4.9119876676043095,
          4.472479709600413,
          4.158272106449291
         ]
        },
        {
         "i": [
          0
         ],
         "j": [
          1
         ],
         "k": [
          2
         ],
         "legendgroup": "opti",
         "name": "Non-Optimal Cycle",
         "opacity": 0.5,
         "showlegend": false,
         "type": "mesh3d",
         "x": [
          0.27381987748991166,
          1.3900071023527665,
          0.8044254643756292
         ],
         "y": [
          0.8161151670239568,
          0.8351029557944165,
          -0.2788426990847904
         ],
         "z": [
          1.2660045319720652,
          1.9736145668827791,
          1.2107006707210386
         ]
        },
        {
         "i": [
          0
         ],
         "j": [
          1
         ],
         "k": [
          2
         ],
         "legendgroup": "opti",
         "name": "Non-Optimal Cycle",
         "opacity": 0.5,
         "showlegend": false,
         "type": "mesh3d",
         "x": [
          0.32158348836488515,
          0.7730788287989033,
          1.385766410760012
         ],
         "y": [
          -0.6676161747495057,
          -1.6731390378686097,
          -0.9150184648699894
         ],
         "z": [
          4.835517752105704,
          3.8825563191108943,
          4.246172929706724
         ]
        },
        {
         "i": [
          0
         ],
         "j": [
          1
         ],
         "k": [
          2
         ],
         "legendgroup": "opti",
         "name": "Non-Optimal Cycle",
         "opacity": 0.5,
         "showlegend": false,
         "type": "mesh3d",
         "x": [
          1.9179147019474416,
          1.3922760595743457,
          1.7918764466752988
         ],
         "y": [
          0.04414064637729072,
          1.4013205573594216,
          0.5318638041688013
         ],
         "z": [
          3.3497903234254616,
          3.3978273853249337,
          2.693139047428864
         ]
        },
        {
         "i": [
          0
         ],
         "j": [
          1
         ],
         "k": [
          2
         ],
         "legendgroup": "opti",
         "name": "Non-Optimal Cycle",
         "opacity": 0.5,
         "showlegend": false,
         "type": "mesh3d",
         "x": [
          -1.2427045372250942,
          -0.051433884491928344,
          0.030054986951496263
         ],
         "y": [
          -1.5024055848795577,
          -1.7143091900793404,
          -1.9288236365001172
         ],
         "z": [
          2.2168445140677053,
          2.181124770639634,
          2.77446322776386
         ]
        },
        {
         "i": [
          0
         ],
         "j": [
          1
         ],
         "k": [
          2
         ],
         "legendgroup": "opti",
         "name": "Non-Optimal Cycle",
         "opacity": 0.5,
         "showlegend": false,
         "type": "mesh3d",
         "x": [
          1.428568242818934,
          1.846831097242284,
          1.385766410760012
         ],
         "y": [
          0.13535003088990571,
          -0.6504445935146318,
          -0.9150184648699894
         ],
         "z": [
          4.419827525123646,
          3.417238510080346,
          4.246172929706724
         ]
        },
        {
         "i": [
          0
         ],
         "j": [
          1
         ],
         "k": [
          2
         ],
         "legendgroup": "opti",
         "name": "Non-Optimal Cycle",
         "opacity": 0.5,
         "showlegend": false,
         "type": "mesh3d",
         "x": [
          1.9179147019474416,
          1.428568242818934,
          1.846831097242284
         ],
         "y": [
          0.04414064637729072,
          0.13535003088990571,
          -0.6504445935146318
         ],
         "z": [
          3.3497903234254616,
          4.419827525123646,
          3.417238510080346
         ]
        },
        {
         "i": [
          0
         ],
         "j": [
          1
         ],
         "k": [
          2
         ],
         "legendgroup": "opti",
         "name": "Non-Optimal Cycle",
         "opacity": 0.5,
         "showlegend": false,
         "type": "mesh3d",
         "x": [
          0.27381987748991166,
          1.3900071023527665,
          0.8653877369989628
         ],
         "y": [
          0.8161151670239568,
          0.8351029557944165,
          0.7367793633647386
         ],
         "z": [
          1.2660045319720652,
          1.9736145668827791,
          1.5286060314292322
         ]
        },
        {
         "i": [
          0
         ],
         "j": [
          1
         ],
         "k": [
          2
         ],
         "legendgroup": "opti",
         "name": "Non-Optimal Cycle",
         "opacity": 0.5,
         "showlegend": false,
         "type": "mesh3d",
         "x": [
          0.27381987748991166,
          -0.41115390446729533,
          -0.005330616052466133
         ],
         "y": [
          0.8161151670239568,
          0.9460457570517548,
          2.0153242752451432
         ],
         "z": [
          1.2660045319720652,
          1.2661963940858865,
          1.6030544061443506
         ]
        },
        {
         "i": [
          0
         ],
         "j": [
          1
         ],
         "k": [
          2
         ],
         "legendgroup": "opti",
         "name": "Non-Optimal Cycle",
         "opacity": 0.5,
         "showlegend": false,
         "type": "mesh3d",
         "x": [
          0.24099609440026062,
          -0.6543556064212848,
          0.3820626767257851
         ],
         "y": [
          -1.7476052209964665,
          -1.453456184287172,
          -0.9090657178199161
         ],
         "z": [
          1.7718982034046589,
          1.7539391359529475,
          1.2602299999452078
         ]
        },
        {
         "i": [
          0
         ],
         "j": [
          1
         ],
         "k": [
          2
         ],
         "legendgroup": "opti",
         "name": "Non-Optimal Cycle",
         "opacity": 0.5,
         "showlegend": false,
         "type": "mesh3d",
         "x": [
          0.9459052428491446,
          0.32158348836488515,
          1.385766410760012
         ],
         "y": [
          0.12685903843803312,
          -0.6676161747495057,
          -0.9150184648699894
         ],
         "z": [
          4.808711710014879,
          4.835517752105704,
          4.246172929706724
         ]
        },
        {
         "i": [
          0
         ],
         "j": [
          1
         ],
         "k": [
          2
         ],
         "legendgroup": "opti",
         "name": "Non-Optimal Cycle",
         "opacity": 0.5,
         "showlegend": false,
         "type": "mesh3d",
         "x": [
          0.9459052428491446,
          1.428568242818934,
          1.385766410760012
         ],
         "y": [
          0.12685903843803312,
          0.13535003088990571,
          -0.9150184648699894
         ],
         "z": [
          4.808711710014879,
          4.419827525123646,
          4.246172929706724
         ]
        },
        {
         "i": [
          0
         ],
         "j": [
          1
         ],
         "k": [
          2
         ],
         "legendgroup": "opti",
         "name": "Non-Optimal Cycle",
         "opacity": 0.5,
         "showlegend": false,
         "type": "mesh3d",
         "x": [
          0.3820626767257851,
          0.050284467166277394,
          -0.2849236394818316
         ],
         "y": [
          -0.9090657178199161,
          0.15707416426202359,
          0.12383498411973237
         ],
         "z": [
          1.2602299999452078,
          0.9423131105068911,
          1.0326364351571597
         ]
        },
        {
         "i": [
          0
         ],
         "j": [
          1
         ],
         "k": [
          2
         ],
         "legendgroup": "opti",
         "name": "Non-Optimal Cycle",
         "opacity": 0.5,
         "showlegend": false,
         "type": "mesh3d",
         "x": [
          -0.6611496622885924,
          -0.41115390446729533,
          -1.3804651799529948
         ],
         "y": [
          1.6569648340403553,
          0.9460457570517548,
          1.0184959320925155
         ],
         "z": [
          2.1229338503279274,
          1.2661963940858865,
          2.0027713611039273
         ]
        },
        {
         "i": [
          0
         ],
         "j": [
          1
         ],
         "k": [
          2
         ],
         "legendgroup": "opti",
         "name": "Non-Optimal Cycle",
         "opacity": 0.5,
         "showlegend": false,
         "type": "mesh3d",
         "x": [
          0.27381987748991166,
          0.8653877369989628,
          0.8044254643756292
         ],
         "y": [
          0.8161151670239568,
          0.7367793633647386,
          -0.2788426990847904
         ],
         "z": [
          1.2660045319720652,
          1.5286060314292322,
          1.2107006707210386
         ]
        },
        {
         "i": [
          0
         ],
         "j": [
          1
         ],
         "k": [
          2
         ],
         "legendgroup": "opti",
         "name": "Non-Optimal Cycle",
         "opacity": 0.5,
         "showlegend": false,
         "type": "mesh3d",
         "x": [
          -1.2427045372250942,
          -0.051433884491928344,
          -0.6543556064212848
         ],
         "y": [
          -1.5024055848795577,
          -1.7143091900793404,
          -1.453456184287172
         ],
         "z": [
          2.2168445140677053,
          2.181124770639634,
          1.7539391359529475
         ]
        },
        {
         "i": [
          0
         ],
         "j": [
          1
         ],
         "k": [
          2
         ],
         "legendgroup": "opti",
         "name": "Non-Optimal Cycle",
         "opacity": 0.5,
         "showlegend": false,
         "type": "mesh3d",
         "x": [
          -0.21097111053364545,
          0.32158348836488515,
          -0.7747460622295846
         ],
         "y": [
          -0.49248511095161834,
          -0.6676161747495057,
          -1.0543904890481512
         ],
         "z": [
          4.913908259523104,
          4.835517752105704,
          4.513429460406471
         ]
        },
        {
         "i": [
          0
         ],
         "j": [
          1
         ],
         "k": [
          2
         ],
         "legendgroup": "opti",
         "name": "Non-Optimal Cycle",
         "opacity": 0.5,
         "showlegend": false,
         "type": "mesh3d",
         "x": [
          1.1755128883777133,
          1.3922760595743457,
          1.7918764466752988
         ],
         "y": [
          1.4982394958239371,
          1.4013205573594216,
          0.5318638041688013
         ],
         "z": [
          2.3397316312611207,
          3.3978273853249337,
          2.693139047428864
         ]
        },
        {
         "i": [
          0
         ],
         "j": [
          1
         ],
         "k": [
          2
         ],
         "legendgroup": "opti",
         "name": "Non-Optimal Cycle",
         "opacity": 0.5,
         "showlegend": false,
         "type": "mesh3d",
         "x": [
          1.3900071023527665,
          1.1755128883777133,
          1.7918764466752988
         ],
         "y": [
          0.8351029557944165,
          1.4982394958239371,
          0.5318638041688013
         ],
         "z": [
          1.9736145668827791,
          2.3397316312611207,
          2.693139047428864
         ]
        },
        {
         "i": [
          0
         ],
         "j": [
          1
         ],
         "k": [
          2
         ],
         "legendgroup": "opti",
         "name": "Non-Optimal Cycle",
         "opacity": 0.5,
         "showlegend": false,
         "type": "mesh3d",
         "x": [
          -1.4023996712301636,
          -0.6611496622885924,
          -1.3220352347871873
         ],
         "y": [
          1.4433971126081504,
          1.6569648340403553,
          1.1813571260909517
         ],
         "z": [
          3.0398756883539493,
          2.1229338503279274,
          2.0759746076843704
         ]
        },
        {
         "i": [
          0
         ],
         "j": [
          1
         ],
         "k": [
          2
         ],
         "legendgroup": "opti",
         "name": "Non-Optimal Cycle",
         "opacity": 0.5,
         "showlegend": false,
         "type": "mesh3d",
         "x": [
          -0.6611496622885924,
          -0.41115390446729533,
          -0.005330616052466133
         ],
         "y": [
          1.6569648340403553,
          0.9460457570517548,
          2.0153242752451432
         ],
         "z": [
          2.1229338503279274,
          1.2661963940858865,
          1.6030544061443506
         ]
        },
        {
         "i": [
          0
         ],
         "j": [
          1
         ],
         "k": [
          2
         ],
         "legendgroup": "opti",
         "name": "Non-Optimal Cycle",
         "opacity": 0.5,
         "showlegend": false,
         "type": "mesh3d",
         "x": [
          1.9179147019474416,
          1.7319507989908225,
          1.846831097242284
         ],
         "y": [
          0.04414064637729072,
          -0.9858056293223536,
          -0.6504445935146318
         ],
         "z": [
          3.3497903234254616,
          2.8436417281679276,
          3.417238510080346
         ]
        },
        {
         "i": [
          0
         ],
         "j": [
          1
         ],
         "k": [
          2
         ],
         "legendgroup": "opti",
         "name": "Non-Optimal Cycle",
         "opacity": 0.5,
         "showlegend": false,
         "type": "mesh3d",
         "x": [
          0.3820626767257851,
          0.050284467166277394,
          0.8044254643756292
         ],
         "y": [
          -0.9090657178199161,
          0.15707416426202359,
          -0.2788426990847904
         ],
         "z": [
          1.2602299999452078,
          0.9423131105068911,
          1.2107006707210386
         ]
        },
        {
         "i": [
          0
         ],
         "j": [
          1
         ],
         "k": [
          2
         ],
         "legendgroup": "opti",
         "name": "Non-Optimal Cycle",
         "opacity": 0.5,
         "showlegend": false,
         "type": "mesh3d",
         "x": [
          1.3900071023527665,
          0.8653877369989628,
          1.1755128883777133
         ],
         "y": [
          0.8351029557944165,
          0.7367793633647386,
          1.4982394958239371
         ],
         "z": [
          1.9736145668827791,
          1.5286060314292322,
          2.3397316312611207
         ]
        },
        {
         "i": [
          0
         ],
         "j": [
          1
         ],
         "k": [
          2
         ],
         "legendgroup": "opti",
         "name": "Non-Optimal Cycle",
         "opacity": 0.5,
         "showlegend": false,
         "type": "mesh3d",
         "x": [
          -0.6611496622885924,
          -0.04523940174082875,
          -0.005330616052466133
         ],
         "y": [
          1.6569648340403553,
          2.0112222357451683,
          2.0153242752451432
         ],
         "z": [
          2.1229338503279274,
          2.7433886097008684,
          1.6030544061443506
         ]
        },
        {
         "i": [
          0
         ],
         "j": [
          1
         ],
         "k": [
          2
         ],
         "legendgroup": "opti",
         "name": "Non-Optimal Cycle",
         "opacity": 0.5,
         "showlegend": false,
         "type": "mesh3d",
         "x": [
          -1.4023996712301636,
          -1.3220352347871873,
          -1.3804651799529948
         ],
         "y": [
          1.4433971126081504,
          1.1813571260909517,
          1.0184959320925155
         ],
         "z": [
          3.0398756883539493,
          2.0759746076843704,
          2.0027713611039273
         ]
        },
        {
         "i": [
          0
         ],
         "j": [
          1
         ],
         "k": [
          2
         ],
         "legendgroup": "opti",
         "name": "Non-Optimal Cycle",
         "opacity": 0.5,
         "showlegend": false,
         "type": "mesh3d",
         "x": [
          0.8653877369989628,
          0.28939832272322746,
          0.8044254643756292
         ],
         "y": [
          0.7367793633647386,
          0.5494492368446982,
          -0.2788426990847904
         ],
         "z": [
          1.5286060314292322,
          1.067459268968439,
          1.2107006707210386
         ]
        },
        {
         "i": [
          0
         ],
         "j": [
          1
         ],
         "k": [
          2
         ],
         "legendgroup": "opti",
         "name": "Non-Optimal Cycle",
         "opacity": 0.5,
         "showlegend": false,
         "type": "mesh3d",
         "x": [
          0.0754626231401496,
          -0.21097111053364545,
          -0.38145899499988223
         ],
         "y": [
          0.486863053300648,
          -0.49248511095161834,
          -0.09685613084306363
         ],
         "z": [
          4.9119876676043095,
          4.913908259523104,
          5.148964907558796
         ]
        },
        {
         "i": [
          0
         ],
         "j": [
          1
         ],
         "k": [
          2
         ],
         "legendgroup": "opti",
         "name": "Non-Optimal Cycle",
         "opacity": 0.5,
         "showlegend": false,
         "type": "mesh3d",
         "x": [
          0.9459052428491446,
          0.15686007340957897,
          0.32158348836488515
         ],
         "y": [
          0.12685903843803312,
          0.21260138399146494,
          -0.6676161747495057
         ],
         "z": [
          4.808711710014879,
          5.02605830348917,
          4.835517752105704
         ]
        },
        {
         "i": [
          0
         ],
         "j": [
          1
         ],
         "k": [
          2
         ],
         "legendgroup": "opti",
         "name": "Non-Optimal Cycle",
         "opacity": 0.5,
         "showlegend": false,
         "type": "mesh3d",
         "x": [
          0.050284467166277394,
          0.28939832272322746,
          0.8044254643756292
         ],
         "y": [
          0.15707416426202359,
          0.5494492368446982,
          -0.2788426990847904
         ],
         "z": [
          0.9423131105068911,
          1.067459268968439,
          1.2107006707210386
         ]
        },
        {
         "i": [
          0
         ],
         "j": [
          1
         ],
         "k": [
          2
         ],
         "legendgroup": "opti",
         "name": "Non-Optimal Cycle",
         "opacity": 0.5,
         "showlegend": false,
         "type": "mesh3d",
         "x": [
          -0.6611496622885924,
          -1.3220352347871873,
          -1.3804651799529948
         ],
         "y": [
          1.6569648340403553,
          1.1813571260909517,
          1.0184959320925155
         ],
         "z": [
          2.1229338503279274,
          2.0759746076843704,
          2.0027713611039273
         ]
        },
        {
         "i": [
          0
         ],
         "j": [
          1
         ],
         "k": [
          2
         ],
         "legendgroup": "opti",
         "name": "Non-Optimal Cycle",
         "opacity": 0.5,
         "showlegend": false,
         "type": "mesh3d",
         "x": [
          0.9459052428491446,
          0.0754626231401496,
          0.15686007340957897
         ],
         "y": [
          0.12685903843803312,
          0.486863053300648,
          0.21260138399146494
         ],
         "z": [
          4.808711710014879,
          4.9119876676043095,
          5.02605830348917
         ]
        },
        {
         "i": [
          0
         ],
         "j": [
          1
         ],
         "k": [
          2
         ],
         "legendgroup": "opti",
         "name": "Non-Optimal Cycle",
         "opacity": 0.5,
         "showlegend": false,
         "type": "mesh3d",
         "x": [
          0.24099609440026062,
          -0.051433884491928344,
          -0.6543556064212848
         ],
         "y": [
          -1.7476052209964665,
          -1.7143091900793404,
          -1.453456184287172
         ],
         "z": [
          1.7718982034046589,
          2.181124770639634,
          1.7539391359529475
         ]
        },
        {
         "i": [
          0
         ],
         "j": [
          1
         ],
         "k": [
          2
         ],
         "legendgroup": "opti",
         "name": "Non-Optimal Cycle",
         "opacity": 0.5,
         "showlegend": false,
         "type": "mesh3d",
         "x": [
          -1.2427045372250942,
          -0.6543556064212848,
          -1.4301347061514855
         ],
         "y": [
          -1.5024055848795577,
          -1.453456184287172,
          -1.0084700761900411
         ],
         "z": [
          2.2168445140677053,
          1.7539391359529475,
          1.968024853033125
         ]
        },
        {
         "i": [
          0
         ],
         "j": [
          1
         ],
         "k": [
          2
         ],
         "legendgroup": "opti",
         "name": "Non-Optimal Cycle",
         "opacity": 0.5,
         "showlegend": false,
         "type": "mesh3d",
         "x": [
          -0.21097111053364545,
          0.15686007340957897,
          0.32158348836488515
         ],
         "y": [
          -0.49248511095161834,
          0.21260138399146494,
          -0.6676161747495057
         ],
         "z": [
          4.913908259523104,
          5.02605830348917,
          4.835517752105704
         ]
        },
        {
         "i": [
          0
         ],
         "j": [
          1
         ],
         "k": [
          2
         ],
         "legendgroup": "opti",
         "name": "Non-Optimal Cycle",
         "opacity": 0.5,
         "showlegend": false,
         "type": "mesh3d",
         "x": [
          0.28939832272322746,
          -0.2849236394818316,
          -0.41115390446729533
         ],
         "y": [
          0.5494492368446982,
          0.12383498411973237,
          0.9460457570517548
         ],
         "z": [
          1.067459268968439,
          1.0326364351571597,
          1.2661963940858865
         ]
        },
        {
         "i": [
          0
         ],
         "j": [
          1
         ],
         "k": [
          2
         ],
         "legendgroup": "opti",
         "name": "Non-Optimal Cycle",
         "opacity": 0.5,
         "showlegend": false,
         "type": "mesh3d",
         "x": [
          0.27381987748991166,
          0.28939832272322746,
          -0.41115390446729533
         ],
         "y": [
          0.8161151670239568,
          0.5494492368446982,
          0.9460457570517548
         ],
         "z": [
          1.2660045319720652,
          1.067459268968439,
          1.2661963940858865
         ]
        },
        {
         "i": [
          0
         ],
         "j": [
          1
         ],
         "k": [
          2
         ],
         "legendgroup": "opti",
         "name": "Non-Optimal Cycle",
         "opacity": 0.5,
         "showlegend": false,
         "type": "mesh3d",
         "x": [
          -0.21097111053364545,
          -0.38145899499988223,
          0.15686007340957897
         ],
         "y": [
          -0.49248511095161834,
          -0.09685613084306363,
          0.21260138399146494
         ],
         "z": [
          4.913908259523104,
          5.148964907558796,
          5.02605830348917
         ]
        },
        {
         "i": [
          0
         ],
         "j": [
          1
         ],
         "k": [
          2
         ],
         "legendgroup": "opti",
         "name": "Non-Optimal Cycle",
         "opacity": 0.5,
         "showlegend": false,
         "type": "mesh3d",
         "x": [
          0.0754626231401496,
          -0.38145899499988223,
          0.15686007340957897
         ],
         "y": [
          0.486863053300648,
          -0.09685613084306363,
          0.21260138399146494
         ],
         "z": [
          4.9119876676043095,
          5.148964907558796,
          5.02605830348917
         ]
        },
        {
         "i": [
          0
         ],
         "j": [
          1
         ],
         "k": [
          2
         ],
         "legendgroup": "opti",
         "name": "Non-Optimal Cycle",
         "opacity": 0.5,
         "showlegend": false,
         "type": "mesh3d",
         "x": [
          0.27381987748991166,
          0.8653877369989628,
          0.28939832272322746
         ],
         "y": [
          0.8161151670239568,
          0.7367793633647386,
          0.5494492368446982
         ],
         "z": [
          1.2660045319720652,
          1.5286060314292322,
          1.067459268968439
         ]
        },
        {
         "i": [
          0
         ],
         "j": [
          1
         ],
         "k": [
          2
         ],
         "legendgroup": "opti",
         "name": "Non-Optimal Cycle",
         "opacity": 0.5,
         "showlegend": false,
         "type": "mesh3d",
         "x": [
          0.050284467166277394,
          0.28939832272322746,
          -0.2849236394818316
         ],
         "y": [
          0.15707416426202359,
          0.5494492368446982,
          0.12383498411973237
         ],
         "z": [
          0.9423131105068911,
          1.067459268968439,
          1.0326364351571597
         ]
        },
        {
         "i": [
          0
         ],
         "j": [
          1
         ],
         "k": [
          2
         ],
         "legendgroup": "opti",
         "name": "Non-Optimal Cycle",
         "opacity": 0.5,
         "showlegend": false,
         "type": "mesh3d",
         "x": [
          -0.051433884491928344,
          0.2510943827771924,
          0.030054986951496263
         ],
         "y": [
          -1.7143091900793404,
          -1.9150650182830506,
          -1.9288236365001172
         ],
         "z": [
          2.181124770639634,
          2.2779439780736563,
          2.77446322776386
         ]
        },
        {
         "i": [
          0
         ],
         "j": [
          1
         ],
         "k": [
          2
         ],
         "legendgroup": "opti",
         "name": "Non-Optimal Cycle",
         "opacity": 0.5,
         "showlegend": false,
         "type": "mesh3d",
         "x": [
          -1.2427045372250942,
          -1.3671731797173003,
          -1.4301347061514855
         ],
         "y": [
          -1.5024055848795577,
          -1.2861180258481681,
          -1.0084700761900411
         ],
         "z": [
          2.2168445140677053,
          2.4673502172485042,
          1.968024853033125
         ]
        },
        {
         "i": [
          0
         ],
         "j": [
          1
         ],
         "k": [
          2
         ],
         "legendgroup": "opti",
         "name": "Non-Optimal Cycle",
         "opacity": 0.5,
         "showlegend": false,
         "type": "mesh3d",
         "x": [
          0.2510943827771924,
          0.0752765168142189,
          0.030054986951496263
         ],
         "y": [
          -1.9150650182830506,
          -1.92577980971974,
          -1.9288236365001172
         ],
         "z": [
          2.2779439780736563,
          2.3812833285399044,
          2.77446322776386
         ]
        },
        {
         "i": [
          0
         ],
         "j": [
          1
         ],
         "k": [
          2
         ],
         "legendgroup": "opti",
         "name": "Non-Optimal Cycle",
         "opacity": 0.5,
         "showlegend": false,
         "type": "mesh3d",
         "x": [
          0.24099609440026062,
          -0.051433884491928344,
          0.2510943827771924
         ],
         "y": [
          -1.7476052209964665,
          -1.7143091900793404,
          -1.9150650182830506
         ],
         "z": [
          1.7718982034046589,
          2.181124770639634,
          2.2779439780736563
         ]
        },
        {
         "i": [
          0
         ],
         "j": [
          1
         ],
         "k": [
          2
         ],
         "legendgroup": "opti",
         "name": "Non-Optimal Cycle",
         "opacity": 0.5,
         "showlegend": false,
         "type": "mesh3d",
         "x": [
          0.0752765168142189,
          0.0602048127945789,
          0.030054986951496263
         ],
         "y": [
          -1.92577980971974,
          -2.030827272895107,
          -1.9288236365001172
         ],
         "z": [
          2.3812833285399044,
          2.6419902186734854,
          2.77446322776386
         ]
        }
       ],
       "layout": {
        "height": 500,
        "margin": {
         "b": 20,
         "l": 20,
         "r": 20,
         "t": 20
        },
        "template": {
         "data": {
          "bar": [
           {
            "error_x": {
             "color": "#2a3f5f"
            },
            "error_y": {
             "color": "#2a3f5f"
            },
            "marker": {
             "line": {
              "color": "#E5ECF6",
              "width": 0.5
             },
             "pattern": {
              "fillmode": "overlay",
              "size": 10,
              "solidity": 0.2
             }
            },
            "type": "bar"
           }
          ],
          "barpolar": [
           {
            "marker": {
             "line": {
              "color": "#E5ECF6",
              "width": 0.5
             },
             "pattern": {
              "fillmode": "overlay",
              "size": 10,
              "solidity": 0.2
             }
            },
            "type": "barpolar"
           }
          ],
          "carpet": [
           {
            "aaxis": {
             "endlinecolor": "#2a3f5f",
             "gridcolor": "white",
             "linecolor": "white",
             "minorgridcolor": "white",
             "startlinecolor": "#2a3f5f"
            },
            "baxis": {
             "endlinecolor": "#2a3f5f",
             "gridcolor": "white",
             "linecolor": "white",
             "minorgridcolor": "white",
             "startlinecolor": "#2a3f5f"
            },
            "type": "carpet"
           }
          ],
          "choropleth": [
           {
            "colorbar": {
             "outlinewidth": 0,
             "ticks": ""
            },
            "type": "choropleth"
           }
          ],
          "contour": [
           {
            "colorbar": {
             "outlinewidth": 0,
             "ticks": ""
            },
            "colorscale": [
             [
              0,
              "#0d0887"
             ],
             [
              0.1111111111111111,
              "#46039f"
             ],
             [
              0.2222222222222222,
              "#7201a8"
             ],
             [
              0.3333333333333333,
              "#9c179e"
             ],
             [
              0.4444444444444444,
              "#bd3786"
             ],
             [
              0.5555555555555556,
              "#d8576b"
             ],
             [
              0.6666666666666666,
              "#ed7953"
             ],
             [
              0.7777777777777778,
              "#fb9f3a"
             ],
             [
              0.8888888888888888,
              "#fdca26"
             ],
             [
              1,
              "#f0f921"
             ]
            ],
            "type": "contour"
           }
          ],
          "contourcarpet": [
           {
            "colorbar": {
             "outlinewidth": 0,
             "ticks": ""
            },
            "type": "contourcarpet"
           }
          ],
          "heatmap": [
           {
            "colorbar": {
             "outlinewidth": 0,
             "ticks": ""
            },
            "colorscale": [
             [
              0,
              "#0d0887"
             ],
             [
              0.1111111111111111,
              "#46039f"
             ],
             [
              0.2222222222222222,
              "#7201a8"
             ],
             [
              0.3333333333333333,
              "#9c179e"
             ],
             [
              0.4444444444444444,
              "#bd3786"
             ],
             [
              0.5555555555555556,
              "#d8576b"
             ],
             [
              0.6666666666666666,
              "#ed7953"
             ],
             [
              0.7777777777777778,
              "#fb9f3a"
             ],
             [
              0.8888888888888888,
              "#fdca26"
             ],
             [
              1,
              "#f0f921"
             ]
            ],
            "type": "heatmap"
           }
          ],
          "heatmapgl": [
           {
            "colorbar": {
             "outlinewidth": 0,
             "ticks": ""
            },
            "colorscale": [
             [
              0,
              "#0d0887"
             ],
             [
              0.1111111111111111,
              "#46039f"
             ],
             [
              0.2222222222222222,
              "#7201a8"
             ],
             [
              0.3333333333333333,
              "#9c179e"
             ],
             [
              0.4444444444444444,
              "#bd3786"
             ],
             [
              0.5555555555555556,
              "#d8576b"
             ],
             [
              0.6666666666666666,
              "#ed7953"
             ],
             [
              0.7777777777777778,
              "#fb9f3a"
             ],
             [
              0.8888888888888888,
              "#fdca26"
             ],
             [
              1,
              "#f0f921"
             ]
            ],
            "type": "heatmapgl"
           }
          ],
          "histogram": [
           {
            "marker": {
             "pattern": {
              "fillmode": "overlay",
              "size": 10,
              "solidity": 0.2
             }
            },
            "type": "histogram"
           }
          ],
          "histogram2d": [
           {
            "colorbar": {
             "outlinewidth": 0,
             "ticks": ""
            },
            "colorscale": [
             [
              0,
              "#0d0887"
             ],
             [
              0.1111111111111111,
              "#46039f"
             ],
             [
              0.2222222222222222,
              "#7201a8"
             ],
             [
              0.3333333333333333,
              "#9c179e"
             ],
             [
              0.4444444444444444,
              "#bd3786"
             ],
             [
              0.5555555555555556,
              "#d8576b"
             ],
             [
              0.6666666666666666,
              "#ed7953"
             ],
             [
              0.7777777777777778,
              "#fb9f3a"
             ],
             [
              0.8888888888888888,
              "#fdca26"
             ],
             [
              1,
              "#f0f921"
             ]
            ],
            "type": "histogram2d"
           }
          ],
          "histogram2dcontour": [
           {
            "colorbar": {
             "outlinewidth": 0,
             "ticks": ""
            },
            "colorscale": [
             [
              0,
              "#0d0887"
             ],
             [
              0.1111111111111111,
              "#46039f"
             ],
             [
              0.2222222222222222,
              "#7201a8"
             ],
             [
              0.3333333333333333,
              "#9c179e"
             ],
             [
              0.4444444444444444,
              "#bd3786"
             ],
             [
              0.5555555555555556,
              "#d8576b"
             ],
             [
              0.6666666666666666,
              "#ed7953"
             ],
             [
              0.7777777777777778,
              "#fb9f3a"
             ],
             [
              0.8888888888888888,
              "#fdca26"
             ],
             [
              1,
              "#f0f921"
             ]
            ],
            "type": "histogram2dcontour"
           }
          ],
          "mesh3d": [
           {
            "colorbar": {
             "outlinewidth": 0,
             "ticks": ""
            },
            "type": "mesh3d"
           }
          ],
          "parcoords": [
           {
            "line": {
             "colorbar": {
              "outlinewidth": 0,
              "ticks": ""
             }
            },
            "type": "parcoords"
           }
          ],
          "pie": [
           {
            "automargin": true,
            "type": "pie"
           }
          ],
          "scatter": [
           {
            "fillpattern": {
             "fillmode": "overlay",
             "size": 10,
             "solidity": 0.2
            },
            "type": "scatter"
           }
          ],
          "scatter3d": [
           {
            "line": {
             "colorbar": {
              "outlinewidth": 0,
              "ticks": ""
             }
            },
            "marker": {
             "colorbar": {
              "outlinewidth": 0,
              "ticks": ""
             }
            },
            "type": "scatter3d"
           }
          ],
          "scattercarpet": [
           {
            "marker": {
             "colorbar": {
              "outlinewidth": 0,
              "ticks": ""
             }
            },
            "type": "scattercarpet"
           }
          ],
          "scattergeo": [
           {
            "marker": {
             "colorbar": {
              "outlinewidth": 0,
              "ticks": ""
             }
            },
            "type": "scattergeo"
           }
          ],
          "scattergl": [
           {
            "marker": {
             "colorbar": {
              "outlinewidth": 0,
              "ticks": ""
             }
            },
            "type": "scattergl"
           }
          ],
          "scattermapbox": [
           {
            "marker": {
             "colorbar": {
              "outlinewidth": 0,
              "ticks": ""
             }
            },
            "type": "scattermapbox"
           }
          ],
          "scatterpolar": [
           {
            "marker": {
             "colorbar": {
              "outlinewidth": 0,
              "ticks": ""
             }
            },
            "type": "scatterpolar"
           }
          ],
          "scatterpolargl": [
           {
            "marker": {
             "colorbar": {
              "outlinewidth": 0,
              "ticks": ""
             }
            },
            "type": "scatterpolargl"
           }
          ],
          "scatterternary": [
           {
            "marker": {
             "colorbar": {
              "outlinewidth": 0,
              "ticks": ""
             }
            },
            "type": "scatterternary"
           }
          ],
          "surface": [
           {
            "colorbar": {
             "outlinewidth": 0,
             "ticks": ""
            },
            "colorscale": [
             [
              0,
              "#0d0887"
             ],
             [
              0.1111111111111111,
              "#46039f"
             ],
             [
              0.2222222222222222,
              "#7201a8"
             ],
             [
              0.3333333333333333,
              "#9c179e"
             ],
             [
              0.4444444444444444,
              "#bd3786"
             ],
             [
              0.5555555555555556,
              "#d8576b"
             ],
             [
              0.6666666666666666,
              "#ed7953"
             ],
             [
              0.7777777777777778,
              "#fb9f3a"
             ],
             [
              0.8888888888888888,
              "#fdca26"
             ],
             [
              1,
              "#f0f921"
             ]
            ],
            "type": "surface"
           }
          ],
          "table": [
           {
            "cells": {
             "fill": {
              "color": "#EBF0F8"
             },
             "line": {
              "color": "white"
             }
            },
            "header": {
             "fill": {
              "color": "#C8D4E3"
             },
             "line": {
              "color": "white"
             }
            },
            "type": "table"
           }
          ]
         },
         "layout": {
          "annotationdefaults": {
           "arrowcolor": "#2a3f5f",
           "arrowhead": 0,
           "arrowwidth": 1
          },
          "autotypenumbers": "strict",
          "coloraxis": {
           "colorbar": {
            "outlinewidth": 0,
            "ticks": ""
           }
          },
          "colorscale": {
           "diverging": [
            [
             0,
             "#8e0152"
            ],
            [
             0.1,
             "#c51b7d"
            ],
            [
             0.2,
             "#de77ae"
            ],
            [
             0.3,
             "#f1b6da"
            ],
            [
             0.4,
             "#fde0ef"
            ],
            [
             0.5,
             "#f7f7f7"
            ],
            [
             0.6,
             "#e6f5d0"
            ],
            [
             0.7,
             "#b8e186"
            ],
            [
             0.8,
             "#7fbc41"
            ],
            [
             0.9,
             "#4d9221"
            ],
            [
             1,
             "#276419"
            ]
           ],
           "sequential": [
            [
             0,
             "#0d0887"
            ],
            [
             0.1111111111111111,
             "#46039f"
            ],
            [
             0.2222222222222222,
             "#7201a8"
            ],
            [
             0.3333333333333333,
             "#9c179e"
            ],
            [
             0.4444444444444444,
             "#bd3786"
            ],
            [
             0.5555555555555556,
             "#d8576b"
            ],
            [
             0.6666666666666666,
             "#ed7953"
            ],
            [
             0.7777777777777778,
             "#fb9f3a"
            ],
            [
             0.8888888888888888,
             "#fdca26"
            ],
            [
             1,
             "#f0f921"
            ]
           ],
           "sequentialminus": [
            [
             0,
             "#0d0887"
            ],
            [
             0.1111111111111111,
             "#46039f"
            ],
            [
             0.2222222222222222,
             "#7201a8"
            ],
            [
             0.3333333333333333,
             "#9c179e"
            ],
            [
             0.4444444444444444,
             "#bd3786"
            ],
            [
             0.5555555555555556,
             "#d8576b"
            ],
            [
             0.6666666666666666,
             "#ed7953"
            ],
            [
             0.7777777777777778,
             "#fb9f3a"
            ],
            [
             0.8888888888888888,
             "#fdca26"
            ],
            [
             1,
             "#f0f921"
            ]
           ]
          },
          "colorway": [
           "#636efa",
           "#EF553B",
           "#00cc96",
           "#ab63fa",
           "#FFA15A",
           "#19d3f3",
           "#FF6692",
           "#B6E880",
           "#FF97FF",
           "#FECB52"
          ],
          "font": {
           "color": "#2a3f5f"
          },
          "geo": {
           "bgcolor": "white",
           "lakecolor": "white",
           "landcolor": "#E5ECF6",
           "showlakes": true,
           "showland": true,
           "subunitcolor": "white"
          },
          "hoverlabel": {
           "align": "left"
          },
          "hovermode": "closest",
          "mapbox": {
           "style": "light"
          },
          "paper_bgcolor": "white",
          "plot_bgcolor": "#E5ECF6",
          "polar": {
           "angularaxis": {
            "gridcolor": "white",
            "linecolor": "white",
            "ticks": ""
           },
           "bgcolor": "#E5ECF6",
           "radialaxis": {
            "gridcolor": "white",
            "linecolor": "white",
            "ticks": ""
           }
          },
          "scene": {
           "xaxis": {
            "backgroundcolor": "#E5ECF6",
            "gridcolor": "white",
            "gridwidth": 2,
            "linecolor": "white",
            "showbackground": true,
            "ticks": "",
            "zerolinecolor": "white"
           },
           "yaxis": {
            "backgroundcolor": "#E5ECF6",
            "gridcolor": "white",
            "gridwidth": 2,
            "linecolor": "white",
            "showbackground": true,
            "ticks": "",
            "zerolinecolor": "white"
           },
           "zaxis": {
            "backgroundcolor": "#E5ECF6",
            "gridcolor": "white",
            "gridwidth": 2,
            "linecolor": "white",
            "showbackground": true,
            "ticks": "",
            "zerolinecolor": "white"
           }
          },
          "shapedefaults": {
           "line": {
            "color": "#2a3f5f"
           }
          },
          "ternary": {
           "aaxis": {
            "gridcolor": "white",
            "linecolor": "white",
            "ticks": ""
           },
           "baxis": {
            "gridcolor": "white",
            "linecolor": "white",
            "ticks": ""
           },
           "bgcolor": "#E5ECF6",
           "caxis": {
            "gridcolor": "white",
            "linecolor": "white",
            "ticks": ""
           }
          },
          "title": {
           "x": 0.05
          },
          "xaxis": {
           "automargin": true,
           "gridcolor": "white",
           "linecolor": "white",
           "ticks": "",
           "title": {
            "standoff": 15
           },
           "zerolinecolor": "white",
           "zerolinewidth": 2
          },
          "yaxis": {
           "automargin": true,
           "gridcolor": "white",
           "linecolor": "white",
           "ticks": "",
           "title": {
            "standoff": 15
           },
           "zerolinecolor": "white",
           "zerolinewidth": 2
          }
         }
        },
        "width": 400
       }
      }
     },
     "metadata": {},
     "output_type": "display_data"
    }
   ],
   "source": [
    "## 2nd Largest Representative 3D Hole\n",
    "# cycle to optimize\n",
    "i = homology[homology['dimension'] == 2].sort_values('cycle nnz').index[-2] # 2nd largest 2d cycle (3d void)\n",
    "\n",
    "# get the cycle\n",
    "nonoptimal_faces = homology.loc[i, 'cycle representative']['simplex'].tolist()\n",
    "\n",
    "# plotting\n",
    "trace_dta = go.Scatter3d( # data plot\n",
    "        x=dta[:, 0],\n",
    "        y=dta[:, 1],\n",
    "        z=dta[:, 2],\n",
    "        mode='markers',\n",
    "        showlegend=True,\n",
    "        name='Data',\n",
    "        opacity=0.5\n",
    "    )\n",
    "traces_nonoptimal = [oat.plot.triangle__trace3d(triangle=tri, coo=dta) for tri in nonoptimal_faces] # optimal cycle plot\n",
    "for n, trace in enumerate(traces_nonoptimal): # plot optimal cycle\n",
    "    trace.update(\n",
    "            showlegend=(n==0),\n",
    "            legendgroup='opti',\n",
    "            opacity=0.5,\n",
    "            name='Non-Optimal Cycle'\n",
    "        )\n",
    "fig = go.Figure(data=[trace_dta]+traces_nonoptimal)\n",
    "fig.update_layout(\n",
    "        width=400, \n",
    "        height=500,\n",
    "        margin=dict(l=20, r=20, t=20, b=20)\n",
    "    )\n",
    "# fig.write_html('void_2.html')\n",
    "fig.show()"
   ]
  },
  {
   "cell_type": "code",
   "execution_count": 7,
   "metadata": {},
   "outputs": [
    {
     "name": "stdout",
     "output_type": "stream",
     "text": [
      "\n",
      "Finished construcing L1 optimization program.\n",
      "Constraint matrix has 65388 nonzero entries.\n",
      "Passing program to solver.\n",
      "\n",
      "Done solving.\n",
      "MINILP solution: Solution { direction: Minimize, num_vars: 18138, num_constraints: 19828, objective: 60.65644241944831 }\n",
      "Optimization took 73.00003123283386 secs\n"
     ]
    }
   ],
   "source": [
    "## 2nd Largest Representative 3D Hole (Optimized)\n",
    "# optimization problem\n",
    "start = time.time()\n",
    "optimal = factored.optimize_cycle(\n",
    "        birth_simplex=homology['birth simplex'][i], # same i as above\n",
    "        problem_type='preserve PH basis'\n",
    "    )\n",
    "print(f'Optimization took {time.time() - start} secs')\n",
    "optimal_faces = optimal['chain']['optimal cycle']['simplex'].tolist() # bounding box of optimal cycle\n",
    "\n",
    "# # plotting\n",
    "# trace_dta = go.Scatter3d( # data plot\n",
    "#         x=dta[:, 0],\n",
    "#         y=dta[:, 1],\n",
    "#         z=dta[:, 2],\n",
    "#         mode='markers',\n",
    "#         showlegend=True,\n",
    "#         name='Data',\n",
    "#         opacity=0.5\n",
    "#     )\n",
    "# traces_optimal = [oat.plot.triangle__trace3d(triangle=tri, coo=dta) for tri in optimal_faces] # optimal cycle plot\n",
    "# for n, trace in enumerate(traces_optimal): # plot optimal cycle\n",
    "#     trace.update(\n",
    "#             showlegend=(n==0),\n",
    "#             legendgroup='opti',\n",
    "#             opacity=0.5,\n",
    "#             name='Optimal Cycle'\n",
    "#         )\n",
    "# fig = go.Figure(data=[trace_dta]+traces_optimal)\n",
    "# fig.update_layout(\n",
    "#         width=400, \n",
    "#         height=500,\n",
    "#         margin=dict(l=20, r=20, t=20, b=20)\n",
    "#     )\n",
    "# fig.show()\n",
    "# # Essentially, there's a lot of degenerate faces that have a coefficeint close to 0 that aren't -1 or 1 in the optimization problem.\n",
    "# # This causes the result to be an ugly mess that's not what we want."
   ]
  },
  {
   "cell_type": "code",
   "execution_count": 8,
   "metadata": {},
   "outputs": [
    {
     "name": "stdout",
     "output_type": "stream",
     "text": [
      "Removing 3721/3751 simplicies from the cycle, 30 simplicies left\n"
     ]
    },
    {
     "data": {
      "application/vnd.plotly.v1+json": {
       "config": {
        "plotlyServerURL": "https://plot.ly"
       },
       "data": [
        {
         "mode": "markers",
         "name": "Data",
         "opacity": 0.5,
         "showlegend": true,
         "type": "scatter3d",
         "x": [
          0.24099609440026062,
          0.9459052428491446,
          -1.2427045372250942,
          -0.051433884491928344,
          1.9179147019474416,
          0.0754626231401496,
          0.27381987748991166,
          0.2510943827771924,
          -0.6543556064212848,
          1.3900071023527665,
          -0.21097111053364545,
          -1.3265316306145045,
          -1.9975758492810571,
          1.428568242818934,
          0.3820626767257851,
          0.8653877369989628,
          0.050284467166277394,
          0.30281210229156447,
          1.7319507989908225,
          -0.42613233208472867,
          -0.38145899499988223,
          1.1755128883777133,
          -1.4023996712301636,
          0.28939832272322746,
          0.8044254643756292,
          -0.2849236394818316,
          -1.3671731797173003,
          -0.7478125174610569,
          0.15686007340957897,
          -1.4301347061514855,
          0.038120431923179945,
          0.2841074831430881,
          0.6081727314115856,
          -0.6611496622885924,
          -0.16802735966394808,
          0.314816552902814,
          -1.267561305073793,
          0.32158348836488515,
          0.3781032990515907,
          1.3922760595743457,
          1.7918764466752988,
          -0.41115390446729533,
          0.17363260716907167,
          1.0112948663369463,
          0.6726181657977889,
          0.0752765168142189,
          -0.0003143404862772023,
          -1.3220352347871873,
          -0.7553679388430606,
          0.22296383036584522,
          -1.3804651799529948,
          1.0241862428159756,
          0.7730788287989033,
          -0.7747460622295846,
          -1.175819160789283,
          1.846831097242284,
          -2.0009077138690374,
          -1.2116814739390598,
          -0.9116729555413463,
          -0.0769326800570269,
          0.9176555584372866,
          1.385766410760012,
          -1.7667019399941535,
          1.308766089156314,
          0.5611589264039794,
          0.02810579618190706,
          1.618112135878201,
          -0.276692694367083,
          -1.1818678999432266,
          0.9735511531324905,
          -1.5321167248268441,
          1.7330410892795574,
          -1.249974037907788,
          -1.5274169251558738,
          1.3777876509564166,
          -1.7811237798388304,
          -0.4519813457193348,
          1.847175189041157,
          -0.067985045970385,
          1.3612634595715207,
          -0.46525843550395174,
          -0.7198117268327708,
          0.33387231496310743,
          -0.5749288027657355,
          -1.1170972807902728,
          -1.726124292717342,
          0.091053934578192,
          -0.5907857116655164,
          0.7984630001581839,
          0.7004525998294572,
          0.6374409857886782,
          0.921827816575034,
          -0.48950262235808173,
          0.5278699220456626,
          1.6320943743723864,
          -0.23401791608013084,
          0.30224127660263383,
          -1.603032987285266,
          -1.9521437022080457,
          0.10740838136713324,
          -1.4698954876636652,
          1.4934444449079516,
          -0.7914628162275198,
          -0.2573073144405479,
          0.5718938626093497,
          0.2839383912534662,
          0.7857777065117224,
          -0.7027719005322292,
          -0.028288646358340813,
          0.9313326391467384,
          1.8799150493201464,
          0.025550207269889828,
          -0.858317222688285,
          -1.0293062544086706,
          -1.8305868041779985,
          1.6541292253816107,
          -0.5801050348866499,
          0.3262893526784785,
          -0.14355848546193928,
          1.1526599178993406,
          0.06599489994353995,
          -1.4206287666285864,
          1.6319422235778331,
          -1.1158212707807034,
          0.992486455386081,
          1.614923263661248,
          -0.4270534678090496,
          -1.032615769203239,
          -0.20529353390905727,
          1.6895743523475837,
          -0.0580367711141819,
          -0.08791134182694263,
          0.0034330498951731766,
          0.0602048127945789,
          0.0038751215520781606,
          -0.004107802203620115,
          0.00030699942611696785,
          0.030054986951496263,
          -0.04147959269645468,
          0.0008904902078022412,
          -0.04523940174082875,
          0.0793416345217721,
          0.009172657410361598,
          0.007245773443079769,
          0.024082448999190174,
          -0.0012355370448450629,
          -0.005330616052466133,
          0.0012390063529189148,
          0.031612720466174866,
          0.0025169867137333018
         ],
         "y": [
          -1.7476052209964665,
          0.12685903843803312,
          -1.5024055848795577,
          -1.7143091900793404,
          0.04414064637729072,
          0.486863053300648,
          0.8161151670239568,
          -1.9150650182830506,
          -1.453456184287172,
          0.8351029557944165,
          -0.49248511095161834,
          0.4150590213769577,
          -0.10884434771632476,
          0.13535003088990571,
          -0.9090657178199161,
          0.7367793633647386,
          0.15707416426202359,
          -1.1065394062637077,
          -0.9858056293223536,
          -1.771005596398586,
          -0.09685613084306363,
          1.4982394958239371,
          1.4433971126081504,
          0.5494492368446982,
          -0.2788426990847904,
          0.12383498411973237,
          -1.2861180258481681,
          -0.08034516108672493,
          0.21260138399146494,
          -1.0084700761900411,
          -0.05750698793205378,
          0.03895142204402945,
          -0.39532082598516183,
          1.6569648340403553,
          -0.20630481449570964,
          -0.8875572885007396,
          -1.092033054514339,
          -0.6676161747495057,
          0.15602097986643623,
          1.4013205573594216,
          0.5318638041688013,
          0.9460457570517548,
          0.36685896263074136,
          -1.2867864134332472,
          -0.5983590273228785,
          -1.92577980971974,
          -0.12075071218273561,
          1.1813571260909517,
          1.4396273133734907,
          0.6796936141855081,
          1.0184959320925155,
          0.6698150810525435,
          -1.6731390378686097,
          -1.0543904890481512,
          1.082859545206985,
          -0.6504445935146318,
          0.17312731333002584,
          0.3341742447711287,
          1.7814698854923972,
          0.36626534150191814,
          0.628736270449864,
          -0.9150184648699894,
          -0.391095917714064,
          0.7857618086863001,
          0.10558335764546403,
          1.9553705995848876,
          0.3597136279748002,
          -1.868495987950347,
          1.091451170019377,
          -0.5041787491042742,
          0.6046859214132598,
          0.8054779465634925,
          -0.3586816847433397,
          -0.09834271450726173,
          -0.13925086826455357,
          -0.8920835959741598,
          1.6984481629067298,
          0.7517014682053901,
          0.07751694951020073,
          0.7949841766627928,
          -1.8613633476481592,
          -0.9772883216067014,
          -0.14132988552696407,
          -1.7181337873166074,
          -0.9053291863516476,
          0.688105961817672,
          0.3035129501304215,
          -0.0017357943494776852,
          -1.767258363456707,
          0.45023444752292696,
          -1.978452463165785,
          0.45565402069794725,
          -0.3186581756695339,
          1.3417850932441002,
          -0.728831053803635,
          1.1378487771444106,
          0.07686332243632069,
          -0.2749900740378073,
          0.7494786720949622,
          2.125075140108281,
          -0.653722943776779,
          -1.2362081819165895,
          -1.4593409916921396,
          0.34276153409432897,
          0.39927054310509696,
          -1.3317723898605132,
          -1.2796615564307725,
          -0.5223773980242754,
          0.13919795014982983,
          0.8268751084247568,
          0.4147035000307109,
          -1.2206213725102897,
          -1.725897817331749,
          0.1693001021043674,
          -0.1490772129887783,
          -0.17744716016586437,
          0.6390374077864617,
          0.6500807799647356,
          0.012558869163499941,
          -1.6124871635418012,
          1.3017780779622958,
          0.3980138609502213,
          -0.9907558784263603,
          -0.963166242499383,
          -1.4833456085074883,
          1.0681981614918616,
          -1.9476266721345303,
          -0.5468934715903268,
          -0.7224704021926796,
          1.0576432769200679,
          -1.9943961191374964,
          -2.1053743094778308,
          -1.9939639357111911,
          -2.030827272895107,
          -1.9813820502248392,
          -2.0060292468328815,
          -1.998163849556661,
          -1.9288236365001172,
          -1.924170770976584,
          -1.9974441481967997,
          2.0112222357451683,
          2.0244619359137648,
          2.0532752855476555,
          2.0303713259266076,
          2.02500410438344,
          1.9986287885397835,
          2.0153242752451432,
          1.9972030204277498,
          1.9823759696867074,
          1.9940671793216906
         ],
         "z": [
          1.7718982034046589,
          4.808711710014879,
          2.2168445140677053,
          2.181124770639634,
          3.3497903234254616,
          4.9119876676043095,
          1.2660045319720652,
          2.2779439780736563,
          1.7539391359529475,
          1.9736145668827791,
          4.913908259523104,
          4.472479709600413,
          3.0917823180322355,
          4.419827525123646,
          1.2602299999452078,
          1.5286060314292322,
          0.9423131105068911,
          1.420379173642134,
          2.8436417281679276,
          2.347328547939448,
          5.148964907558796,
          2.3397316312611207,
          3.0398756883539493,
          1.067459268968439,
          1.2107006707210386,
          1.0326364351571597,
          2.4673502172485042,
          4.885548809801875,
          5.02605830348917,
          1.968024853033125,
          1.0101018315357009,
          4.979603968101325,
          1.120678913771407,
          2.1229338503279274,
          1.0148777778630715,
          1.2363314173565474,
          4.270476611270691,
          4.835517752105704,
          0.9397508143469961,
          3.3978273853249337,
          2.693139047428864,
          1.2661963940858865,
          4.9017780888025175,
          1.8090659987749391,
          1.0633059420962128,
          2.3812833285399044,
          1.0783098400599351,
          2.0759746076843704,
          4.158272106449291,
          5.067796625937391,
          2.0027713611039273,
          4.5701376997292416,
          3.8825563191108943,
          4.513429460406471,
          1.703834842441142,
          3.417238510080346,
          3.0391920053441197,
          4.563045420130074,
          2.9444954157550165,
          0.9994763090786639,
          1.4282243131069274,
          4.246172929706724,
          3.816602450607879,
          1.7904264776064551,
          4.903593006872568,
          -3.531881024024637,
          -3.976227760896973,
          -2.315656130400948,
          -4.1393812643242756,
          -1.1698713116776536,
          -2.307847417278273,
          -2.6631773633094395,
          -4.420231999984052,
          -1.7039205242935374,
          -4.552750484795351,
          -3.011164588777639,
          -2.047936425594996,
          -3.187465593527785,
          -5.091143773350528,
          -4.227334756344423,
          -2.644665183432333,
          -1.3775171909159523,
          -0.9858194841039267,
          -3.918909044431429,
          -1.5724519356972684,
          -3.71858035833136,
          -1.0744583719032046,
          -1.0225772506821031,
          -2.2150919774361517,
          -1.2306140207453098,
          -2.9658850219311237,
          -1.2723625404960142,
          -4.974766610014017,
          -1.6353246580142529,
          -2.1737361925192813,
          -4.64521067451492,
          -1.0225105071804235,
          -1.849885093125241,
          -3.28793858924212,
          -3.4846121946922533,
          -4.2929738555603745,
          -2.44625814745755,
          -1.8924629711874934,
          -4.968346230694227,
          -4.8902316185402315,
          -1.5151734698088253,
          -4.428858863876677,
          -4.8090539032060695,
          -5.1138643119641625,
          -1.423706285712594,
          -3.6035212351000263,
          -4.596863485992853,
          -2.440221732467188,
          -4.629847152182607,
          -2.035003963598543,
          -1.9817294745096616,
          -4.839073036656689,
          -1.001366793488078,
          -0.9580805036439568,
          -2.7345238974034647,
          -4.495326412169657,
          -4.355059813083419,
          -2.4121065507397965,
          -4.400331008607225,
          -2.2450128414866706,
          -3.482139085831931,
          -3.3177790639022575,
          -4.592154257942372,
          -1.1467835041254488,
          -3.435263372401116,
          -1.353087474491003,
          -2.2859999249738587,
          -0.3126509655891242,
          2.6419902186734854,
          1.0245452017759669,
          -1.88764009078263,
          -2.7177358148123627,
          2.77446322776386,
          2.19886835848439,
          2.008583445215219,
          2.7433886097008684,
          0.6042759787701203,
          2.554404614949136,
          -2.100836548359392,
          -2.3837866296332604,
          -0.7706732763346871,
          1.6030544061443506,
          -1.099930915645859,
          0.8182821434535248,
          -2.9392989971087986
         ]
        },
        {
         "i": [
          0
         ],
         "j": [
          1
         ],
         "k": [
          2
         ],
         "legendgroup": "opti",
         "name": "Optimal Cycle",
         "opacity": 0.5,
         "showlegend": true,
         "type": "mesh3d",
         "x": [
          1.3922760595743457,
          -0.7553679388430606,
          -0.04523940174082875
         ],
         "y": [
          1.4013205573594216,
          1.4396273133734907,
          2.0112222357451683
         ],
         "z": [
          3.3978273853249337,
          4.158272106449291,
          2.7433886097008684
         ]
        },
        {
         "i": [
          0
         ],
         "j": [
          1
         ],
         "k": [
          2
         ],
         "legendgroup": "opti",
         "name": "Optimal Cycle",
         "opacity": 0.5,
         "showlegend": false,
         "type": "mesh3d",
         "x": [
          1.3922760595743457,
          -0.7553679388430606,
          0.5611589264039794
         ],
         "y": [
          1.4013205573594216,
          1.4396273133734907,
          0.10558335764546403
         ],
         "z": [
          3.3978273853249337,
          4.158272106449291,
          4.903593006872568
         ]
        },
        {
         "i": [
          0
         ],
         "j": [
          1
         ],
         "k": [
          2
         ],
         "legendgroup": "opti",
         "name": "Optimal Cycle",
         "opacity": 0.5,
         "showlegend": false,
         "type": "mesh3d",
         "x": [
          -1.267561305073793,
          0.7730788287989033,
          0.5611589264039794
         ],
         "y": [
          -1.092033054514339,
          -1.6731390378686097,
          0.10558335764546403
         ],
         "z": [
          4.270476611270691,
          3.8825563191108943,
          4.903593006872568
         ]
        },
        {
         "i": [
          0
         ],
         "j": [
          1
         ],
         "k": [
          2
         ],
         "legendgroup": "opti",
         "name": "Optimal Cycle",
         "opacity": 0.5,
         "showlegend": false,
         "type": "mesh3d",
         "x": [
          -1.3265316306145045,
          -1.267561305073793,
          0.5611589264039794
         ],
         "y": [
          0.4150590213769577,
          -1.092033054514339,
          0.10558335764546403
         ],
         "z": [
          4.472479709600413,
          4.270476611270691,
          4.903593006872568
         ]
        },
        {
         "i": [
          0
         ],
         "j": [
          1
         ],
         "k": [
          2
         ],
         "legendgroup": "opti",
         "name": "Optimal Cycle",
         "opacity": 0.5,
         "showlegend": false,
         "type": "mesh3d",
         "x": [
          1.9179147019474416,
          1.0112948663369463,
          0.7730788287989033
         ],
         "y": [
          0.04414064637729072,
          -1.2867864134332472,
          -1.6731390378686097
         ],
         "z": [
          3.3497903234254616,
          1.8090659987749391,
          3.8825563191108943
         ]
        },
        {
         "i": [
          0
         ],
         "j": [
          1
         ],
         "k": [
          2
         ],
         "legendgroup": "opti",
         "name": "Optimal Cycle",
         "opacity": 0.5,
         "showlegend": false,
         "type": "mesh3d",
         "x": [
          1.9179147019474416,
          0.8653877369989628,
          1.0112948663369463
         ],
         "y": [
          0.04414064637729072,
          0.7367793633647386,
          -1.2867864134332472
         ],
         "z": [
          3.3497903234254616,
          1.5286060314292322,
          1.8090659987749391
         ]
        },
        {
         "i": [
          0
         ],
         "j": [
          1
         ],
         "k": [
          2
         ],
         "legendgroup": "opti",
         "name": "Optimal Cycle",
         "opacity": 0.5,
         "showlegend": false,
         "type": "mesh3d",
         "x": [
          1.9179147019474416,
          0.8653877369989628,
          1.3922760595743457
         ],
         "y": [
          0.04414064637729072,
          0.7367793633647386,
          1.4013205573594216
         ],
         "z": [
          3.3497903234254616,
          1.5286060314292322,
          3.3978273853249337
         ]
        },
        {
         "i": [
          0
         ],
         "j": [
          1
         ],
         "k": [
          2
         ],
         "legendgroup": "opti",
         "name": "Optimal Cycle",
         "opacity": 0.5,
         "showlegend": false,
         "type": "mesh3d",
         "x": [
          -0.42613233208472867,
          -1.267561305073793,
          0.7730788287989033
         ],
         "y": [
          -1.771005596398586,
          -1.092033054514339,
          -1.6731390378686097
         ],
         "z": [
          2.347328547939448,
          4.270476611270691,
          3.8825563191108943
         ]
        },
        {
         "i": [
          0
         ],
         "j": [
          1
         ],
         "k": [
          2
         ],
         "legendgroup": "opti",
         "name": "Optimal Cycle",
         "opacity": 0.5,
         "showlegend": false,
         "type": "mesh3d",
         "x": [
          -0.42613233208472867,
          -1.3671731797173003,
          -1.267561305073793
         ],
         "y": [
          -1.771005596398586,
          -1.2861180258481681,
          -1.092033054514339
         ],
         "z": [
          2.347328547939448,
          2.4673502172485042,
          4.270476611270691
         ]
        },
        {
         "i": [
          0
         ],
         "j": [
          1
         ],
         "k": [
          2
         ],
         "legendgroup": "opti",
         "name": "Optimal Cycle",
         "opacity": 0.5,
         "showlegend": false,
         "type": "mesh3d",
         "x": [
          1.9179147019474416,
          1.3922760595743457,
          0.5611589264039794
         ],
         "y": [
          0.04414064637729072,
          1.4013205573594216,
          0.10558335764546403
         ],
         "z": [
          3.3497903234254616,
          3.3978273853249337,
          4.903593006872568
         ]
        },
        {
         "i": [
          0
         ],
         "j": [
          1
         ],
         "k": [
          2
         ],
         "legendgroup": "opti",
         "name": "Optimal Cycle",
         "opacity": 0.5,
         "showlegend": false,
         "type": "mesh3d",
         "x": [
          1.9179147019474416,
          0.7730788287989033,
          0.5611589264039794
         ],
         "y": [
          0.04414064637729072,
          -1.6731390378686097,
          0.10558335764546403
         ],
         "z": [
          3.3497903234254616,
          3.8825563191108943,
          4.903593006872568
         ]
        },
        {
         "i": [
          0
         ],
         "j": [
          1
         ],
         "k": [
          2
         ],
         "legendgroup": "opti",
         "name": "Optimal Cycle",
         "opacity": 0.5,
         "showlegend": false,
         "type": "mesh3d",
         "x": [
          -1.4301347061514855,
          -0.16802735966394808,
          -1.175819160789283
         ],
         "y": [
          -1.0084700761900411,
          -0.20630481449570964,
          1.082859545206985
         ],
         "z": [
          1.968024853033125,
          1.0148777778630715,
          1.703834842441142
         ]
        },
        {
         "i": [
          0
         ],
         "j": [
          1
         ],
         "k": [
          2
         ],
         "legendgroup": "opti",
         "name": "Optimal Cycle",
         "opacity": 0.5,
         "showlegend": false,
         "type": "mesh3d",
         "x": [
          -1.9975758492810571,
          -1.4301347061514855,
          -1.175819160789283
         ],
         "y": [
          -0.10884434771632476,
          -1.0084700761900411,
          1.082859545206985
         ],
         "z": [
          3.0917823180322355,
          1.968024853033125,
          1.703834842441142
         ]
        },
        {
         "i": [
          0
         ],
         "j": [
          1
         ],
         "k": [
          2
         ],
         "legendgroup": "opti",
         "name": "Optimal Cycle",
         "opacity": 0.5,
         "showlegend": false,
         "type": "mesh3d",
         "x": [
          -0.42613233208472867,
          1.0112948663369463,
          0.7730788287989033
         ],
         "y": [
          -1.771005596398586,
          -1.2867864134332472,
          -1.6731390378686097
         ],
         "z": [
          2.347328547939448,
          1.8090659987749391,
          3.8825563191108943
         ]
        },
        {
         "i": [
          0
         ],
         "j": [
          1
         ],
         "k": [
          2
         ],
         "legendgroup": "opti",
         "name": "Optimal Cycle",
         "opacity": 0.5,
         "showlegend": false,
         "type": "mesh3d",
         "x": [
          0.8653877369989628,
          -1.175819160789283,
          -0.04523940174082875
         ],
         "y": [
          0.7367793633647386,
          1.082859545206985,
          2.0112222357451683
         ],
         "z": [
          1.5286060314292322,
          1.703834842441142,
          2.7433886097008684
         ]
        },
        {
         "i": [
          0
         ],
         "j": [
          1
         ],
         "k": [
          2
         ],
         "legendgroup": "opti",
         "name": "Optimal Cycle",
         "opacity": 0.5,
         "showlegend": false,
         "type": "mesh3d",
         "x": [
          0.8653877369989628,
          -0.16802735966394808,
          -1.175819160789283
         ],
         "y": [
          0.7367793633647386,
          -0.20630481449570964,
          1.082859545206985
         ],
         "z": [
          1.5286060314292322,
          1.0148777778630715,
          1.703834842441142
         ]
        },
        {
         "i": [
          0
         ],
         "j": [
          1
         ],
         "k": [
          2
         ],
         "legendgroup": "opti",
         "name": "Optimal Cycle",
         "opacity": 0.5,
         "showlegend": false,
         "type": "mesh3d",
         "x": [
          -0.42613233208472867,
          -0.16802735966394808,
          1.0112948663369463
         ],
         "y": [
          -1.771005596398586,
          -0.20630481449570964,
          -1.2867864134332472
         ],
         "z": [
          2.347328547939448,
          1.0148777778630715,
          1.8090659987749391
         ]
        },
        {
         "i": [
          0
         ],
         "j": [
          1
         ],
         "k": [
          2
         ],
         "legendgroup": "opti",
         "name": "Optimal Cycle",
         "opacity": 0.5,
         "showlegend": false,
         "type": "mesh3d",
         "x": [
          -0.42613233208472867,
          -1.4301347061514855,
          -0.16802735966394808
         ],
         "y": [
          -1.771005596398586,
          -1.0084700761900411,
          -0.20630481449570964
         ],
         "z": [
          2.347328547939448,
          1.968024853033125,
          1.0148777778630715
         ]
        },
        {
         "i": [
          0
         ],
         "j": [
          1
         ],
         "k": [
          2
         ],
         "legendgroup": "opti",
         "name": "Optimal Cycle",
         "opacity": 0.5,
         "showlegend": false,
         "type": "mesh3d",
         "x": [
          0.8653877369989628,
          1.3922760595743457,
          -0.04523940174082875
         ],
         "y": [
          0.7367793633647386,
          1.4013205573594216,
          2.0112222357451683
         ],
         "z": [
          1.5286060314292322,
          3.3978273853249337,
          2.7433886097008684
         ]
        },
        {
         "i": [
          0
         ],
         "j": [
          1
         ],
         "k": [
          2
         ],
         "legendgroup": "opti",
         "name": "Optimal Cycle",
         "opacity": 0.5,
         "showlegend": false,
         "type": "mesh3d",
         "x": [
          0.8653877369989628,
          -0.16802735966394808,
          1.0112948663369463
         ],
         "y": [
          0.7367793633647386,
          -0.20630481449570964,
          -1.2867864134332472
         ],
         "z": [
          1.5286060314292322,
          1.0148777778630715,
          1.8090659987749391
         ]
        },
        {
         "i": [
          0
         ],
         "j": [
          1
         ],
         "k": [
          2
         ],
         "legendgroup": "opti",
         "name": "Optimal Cycle",
         "opacity": 0.5,
         "showlegend": false,
         "type": "mesh3d",
         "x": [
          -1.3265316306145045,
          -0.7553679388430606,
          0.5611589264039794
         ],
         "y": [
          0.4150590213769577,
          1.4396273133734907,
          0.10558335764546403
         ],
         "z": [
          4.472479709600413,
          4.158272106449291,
          4.903593006872568
         ]
        },
        {
         "i": [
          0
         ],
         "j": [
          1
         ],
         "k": [
          2
         ],
         "legendgroup": "opti",
         "name": "Optimal Cycle",
         "opacity": 0.5,
         "showlegend": false,
         "type": "mesh3d",
         "x": [
          -1.9975758492810571,
          -1.4023996712301636,
          -1.175819160789283
         ],
         "y": [
          -0.10884434771632476,
          1.4433971126081504,
          1.082859545206985
         ],
         "z": [
          3.0917823180322355,
          3.0398756883539493,
          1.703834842441142
         ]
        },
        {
         "i": [
          0
         ],
         "j": [
          1
         ],
         "k": [
          2
         ],
         "legendgroup": "opti",
         "name": "Optimal Cycle",
         "opacity": 0.5,
         "showlegend": false,
         "type": "mesh3d",
         "x": [
          -1.9975758492810571,
          -1.3671731797173003,
          -1.267561305073793
         ],
         "y": [
          -0.10884434771632476,
          -1.2861180258481681,
          -1.092033054514339
         ],
         "z": [
          3.0917823180322355,
          2.4673502172485042,
          4.270476611270691
         ]
        },
        {
         "i": [
          0
         ],
         "j": [
          1
         ],
         "k": [
          2
         ],
         "legendgroup": "opti",
         "name": "Optimal Cycle",
         "opacity": 0.5,
         "showlegend": false,
         "type": "mesh3d",
         "x": [
          -1.4023996712301636,
          -1.175819160789283,
          -0.04523940174082875
         ],
         "y": [
          1.4433971126081504,
          1.082859545206985,
          2.0112222357451683
         ],
         "z": [
          3.0398756883539493,
          1.703834842441142,
          2.7433886097008684
         ]
        },
        {
         "i": [
          0
         ],
         "j": [
          1
         ],
         "k": [
          2
         ],
         "legendgroup": "opti",
         "name": "Optimal Cycle",
         "opacity": 0.5,
         "showlegend": false,
         "type": "mesh3d",
         "x": [
          -1.3265316306145045,
          -1.4023996712301636,
          -0.7553679388430606
         ],
         "y": [
          0.4150590213769577,
          1.4433971126081504,
          1.4396273133734907
         ],
         "z": [
          4.472479709600413,
          3.0398756883539493,
          4.158272106449291
         ]
        },
        {
         "i": [
          0
         ],
         "j": [
          1
         ],
         "k": [
          2
         ],
         "legendgroup": "opti",
         "name": "Optimal Cycle",
         "opacity": 0.5,
         "showlegend": false,
         "type": "mesh3d",
         "x": [
          -1.3265316306145045,
          -1.9975758492810571,
          -1.4023996712301636
         ],
         "y": [
          0.4150590213769577,
          -0.10884434771632476,
          1.4433971126081504
         ],
         "z": [
          4.472479709600413,
          3.0917823180322355,
          3.0398756883539493
         ]
        },
        {
         "i": [
          0
         ],
         "j": [
          1
         ],
         "k": [
          2
         ],
         "legendgroup": "opti",
         "name": "Optimal Cycle",
         "opacity": 0.5,
         "showlegend": false,
         "type": "mesh3d",
         "x": [
          -1.3265316306145045,
          -1.9975758492810571,
          -1.267561305073793
         ],
         "y": [
          0.4150590213769577,
          -0.10884434771632476,
          -1.092033054514339
         ],
         "z": [
          4.472479709600413,
          3.0917823180322355,
          4.270476611270691
         ]
        },
        {
         "i": [
          0
         ],
         "j": [
          1
         ],
         "k": [
          2
         ],
         "legendgroup": "opti",
         "name": "Optimal Cycle",
         "opacity": 0.5,
         "showlegend": false,
         "type": "mesh3d",
         "x": [
          -1.4023996712301636,
          -0.7553679388430606,
          -0.04523940174082875
         ],
         "y": [
          1.4433971126081504,
          1.4396273133734907,
          2.0112222357451683
         ],
         "z": [
          3.0398756883539493,
          4.158272106449291,
          2.7433886097008684
         ]
        },
        {
         "i": [
          0
         ],
         "j": [
          1
         ],
         "k": [
          2
         ],
         "legendgroup": "opti",
         "name": "Optimal Cycle",
         "opacity": 0.5,
         "showlegend": false,
         "type": "mesh3d",
         "x": [
          -1.9975758492810571,
          -1.3671731797173003,
          -1.4301347061514855
         ],
         "y": [
          -0.10884434771632476,
          -1.2861180258481681,
          -1.0084700761900411
         ],
         "z": [
          3.0917823180322355,
          2.4673502172485042,
          1.968024853033125
         ]
        },
        {
         "i": [
          0
         ],
         "j": [
          1
         ],
         "k": [
          2
         ],
         "legendgroup": "opti",
         "name": "Optimal Cycle",
         "opacity": 0.5,
         "showlegend": false,
         "type": "mesh3d",
         "x": [
          -0.42613233208472867,
          -1.3671731797173003,
          -1.4301347061514855
         ],
         "y": [
          -1.771005596398586,
          -1.2861180258481681,
          -1.0084700761900411
         ],
         "z": [
          2.347328547939448,
          2.4673502172485042,
          1.968024853033125
         ]
        }
       ],
       "layout": {
        "height": 500,
        "margin": {
         "b": 20,
         "l": 20,
         "r": 20,
         "t": 20
        },
        "template": {
         "data": {
          "bar": [
           {
            "error_x": {
             "color": "#2a3f5f"
            },
            "error_y": {
             "color": "#2a3f5f"
            },
            "marker": {
             "line": {
              "color": "#E5ECF6",
              "width": 0.5
             },
             "pattern": {
              "fillmode": "overlay",
              "size": 10,
              "solidity": 0.2
             }
            },
            "type": "bar"
           }
          ],
          "barpolar": [
           {
            "marker": {
             "line": {
              "color": "#E5ECF6",
              "width": 0.5
             },
             "pattern": {
              "fillmode": "overlay",
              "size": 10,
              "solidity": 0.2
             }
            },
            "type": "barpolar"
           }
          ],
          "carpet": [
           {
            "aaxis": {
             "endlinecolor": "#2a3f5f",
             "gridcolor": "white",
             "linecolor": "white",
             "minorgridcolor": "white",
             "startlinecolor": "#2a3f5f"
            },
            "baxis": {
             "endlinecolor": "#2a3f5f",
             "gridcolor": "white",
             "linecolor": "white",
             "minorgridcolor": "white",
             "startlinecolor": "#2a3f5f"
            },
            "type": "carpet"
           }
          ],
          "choropleth": [
           {
            "colorbar": {
             "outlinewidth": 0,
             "ticks": ""
            },
            "type": "choropleth"
           }
          ],
          "contour": [
           {
            "colorbar": {
             "outlinewidth": 0,
             "ticks": ""
            },
            "colorscale": [
             [
              0,
              "#0d0887"
             ],
             [
              0.1111111111111111,
              "#46039f"
             ],
             [
              0.2222222222222222,
              "#7201a8"
             ],
             [
              0.3333333333333333,
              "#9c179e"
             ],
             [
              0.4444444444444444,
              "#bd3786"
             ],
             [
              0.5555555555555556,
              "#d8576b"
             ],
             [
              0.6666666666666666,
              "#ed7953"
             ],
             [
              0.7777777777777778,
              "#fb9f3a"
             ],
             [
              0.8888888888888888,
              "#fdca26"
             ],
             [
              1,
              "#f0f921"
             ]
            ],
            "type": "contour"
           }
          ],
          "contourcarpet": [
           {
            "colorbar": {
             "outlinewidth": 0,
             "ticks": ""
            },
            "type": "contourcarpet"
           }
          ],
          "heatmap": [
           {
            "colorbar": {
             "outlinewidth": 0,
             "ticks": ""
            },
            "colorscale": [
             [
              0,
              "#0d0887"
             ],
             [
              0.1111111111111111,
              "#46039f"
             ],
             [
              0.2222222222222222,
              "#7201a8"
             ],
             [
              0.3333333333333333,
              "#9c179e"
             ],
             [
              0.4444444444444444,
              "#bd3786"
             ],
             [
              0.5555555555555556,
              "#d8576b"
             ],
             [
              0.6666666666666666,
              "#ed7953"
             ],
             [
              0.7777777777777778,
              "#fb9f3a"
             ],
             [
              0.8888888888888888,
              "#fdca26"
             ],
             [
              1,
              "#f0f921"
             ]
            ],
            "type": "heatmap"
           }
          ],
          "heatmapgl": [
           {
            "colorbar": {
             "outlinewidth": 0,
             "ticks": ""
            },
            "colorscale": [
             [
              0,
              "#0d0887"
             ],
             [
              0.1111111111111111,
              "#46039f"
             ],
             [
              0.2222222222222222,
              "#7201a8"
             ],
             [
              0.3333333333333333,
              "#9c179e"
             ],
             [
              0.4444444444444444,
              "#bd3786"
             ],
             [
              0.5555555555555556,
              "#d8576b"
             ],
             [
              0.6666666666666666,
              "#ed7953"
             ],
             [
              0.7777777777777778,
              "#fb9f3a"
             ],
             [
              0.8888888888888888,
              "#fdca26"
             ],
             [
              1,
              "#f0f921"
             ]
            ],
            "type": "heatmapgl"
           }
          ],
          "histogram": [
           {
            "marker": {
             "pattern": {
              "fillmode": "overlay",
              "size": 10,
              "solidity": 0.2
             }
            },
            "type": "histogram"
           }
          ],
          "histogram2d": [
           {
            "colorbar": {
             "outlinewidth": 0,
             "ticks": ""
            },
            "colorscale": [
             [
              0,
              "#0d0887"
             ],
             [
              0.1111111111111111,
              "#46039f"
             ],
             [
              0.2222222222222222,
              "#7201a8"
             ],
             [
              0.3333333333333333,
              "#9c179e"
             ],
             [
              0.4444444444444444,
              "#bd3786"
             ],
             [
              0.5555555555555556,
              "#d8576b"
             ],
             [
              0.6666666666666666,
              "#ed7953"
             ],
             [
              0.7777777777777778,
              "#fb9f3a"
             ],
             [
              0.8888888888888888,
              "#fdca26"
             ],
             [
              1,
              "#f0f921"
             ]
            ],
            "type": "histogram2d"
           }
          ],
          "histogram2dcontour": [
           {
            "colorbar": {
             "outlinewidth": 0,
             "ticks": ""
            },
            "colorscale": [
             [
              0,
              "#0d0887"
             ],
             [
              0.1111111111111111,
              "#46039f"
             ],
             [
              0.2222222222222222,
              "#7201a8"
             ],
             [
              0.3333333333333333,
              "#9c179e"
             ],
             [
              0.4444444444444444,
              "#bd3786"
             ],
             [
              0.5555555555555556,
              "#d8576b"
             ],
             [
              0.6666666666666666,
              "#ed7953"
             ],
             [
              0.7777777777777778,
              "#fb9f3a"
             ],
             [
              0.8888888888888888,
              "#fdca26"
             ],
             [
              1,
              "#f0f921"
             ]
            ],
            "type": "histogram2dcontour"
           }
          ],
          "mesh3d": [
           {
            "colorbar": {
             "outlinewidth": 0,
             "ticks": ""
            },
            "type": "mesh3d"
           }
          ],
          "parcoords": [
           {
            "line": {
             "colorbar": {
              "outlinewidth": 0,
              "ticks": ""
             }
            },
            "type": "parcoords"
           }
          ],
          "pie": [
           {
            "automargin": true,
            "type": "pie"
           }
          ],
          "scatter": [
           {
            "fillpattern": {
             "fillmode": "overlay",
             "size": 10,
             "solidity": 0.2
            },
            "type": "scatter"
           }
          ],
          "scatter3d": [
           {
            "line": {
             "colorbar": {
              "outlinewidth": 0,
              "ticks": ""
             }
            },
            "marker": {
             "colorbar": {
              "outlinewidth": 0,
              "ticks": ""
             }
            },
            "type": "scatter3d"
           }
          ],
          "scattercarpet": [
           {
            "marker": {
             "colorbar": {
              "outlinewidth": 0,
              "ticks": ""
             }
            },
            "type": "scattercarpet"
           }
          ],
          "scattergeo": [
           {
            "marker": {
             "colorbar": {
              "outlinewidth": 0,
              "ticks": ""
             }
            },
            "type": "scattergeo"
           }
          ],
          "scattergl": [
           {
            "marker": {
             "colorbar": {
              "outlinewidth": 0,
              "ticks": ""
             }
            },
            "type": "scattergl"
           }
          ],
          "scattermapbox": [
           {
            "marker": {
             "colorbar": {
              "outlinewidth": 0,
              "ticks": ""
             }
            },
            "type": "scattermapbox"
           }
          ],
          "scatterpolar": [
           {
            "marker": {
             "colorbar": {
              "outlinewidth": 0,
              "ticks": ""
             }
            },
            "type": "scatterpolar"
           }
          ],
          "scatterpolargl": [
           {
            "marker": {
             "colorbar": {
              "outlinewidth": 0,
              "ticks": ""
             }
            },
            "type": "scatterpolargl"
           }
          ],
          "scatterternary": [
           {
            "marker": {
             "colorbar": {
              "outlinewidth": 0,
              "ticks": ""
             }
            },
            "type": "scatterternary"
           }
          ],
          "surface": [
           {
            "colorbar": {
             "outlinewidth": 0,
             "ticks": ""
            },
            "colorscale": [
             [
              0,
              "#0d0887"
             ],
             [
              0.1111111111111111,
              "#46039f"
             ],
             [
              0.2222222222222222,
              "#7201a8"
             ],
             [
              0.3333333333333333,
              "#9c179e"
             ],
             [
              0.4444444444444444,
              "#bd3786"
             ],
             [
              0.5555555555555556,
              "#d8576b"
             ],
             [
              0.6666666666666666,
              "#ed7953"
             ],
             [
              0.7777777777777778,
              "#fb9f3a"
             ],
             [
              0.8888888888888888,
              "#fdca26"
             ],
             [
              1,
              "#f0f921"
             ]
            ],
            "type": "surface"
           }
          ],
          "table": [
           {
            "cells": {
             "fill": {
              "color": "#EBF0F8"
             },
             "line": {
              "color": "white"
             }
            },
            "header": {
             "fill": {
              "color": "#C8D4E3"
             },
             "line": {
              "color": "white"
             }
            },
            "type": "table"
           }
          ]
         },
         "layout": {
          "annotationdefaults": {
           "arrowcolor": "#2a3f5f",
           "arrowhead": 0,
           "arrowwidth": 1
          },
          "autotypenumbers": "strict",
          "coloraxis": {
           "colorbar": {
            "outlinewidth": 0,
            "ticks": ""
           }
          },
          "colorscale": {
           "diverging": [
            [
             0,
             "#8e0152"
            ],
            [
             0.1,
             "#c51b7d"
            ],
            [
             0.2,
             "#de77ae"
            ],
            [
             0.3,
             "#f1b6da"
            ],
            [
             0.4,
             "#fde0ef"
            ],
            [
             0.5,
             "#f7f7f7"
            ],
            [
             0.6,
             "#e6f5d0"
            ],
            [
             0.7,
             "#b8e186"
            ],
            [
             0.8,
             "#7fbc41"
            ],
            [
             0.9,
             "#4d9221"
            ],
            [
             1,
             "#276419"
            ]
           ],
           "sequential": [
            [
             0,
             "#0d0887"
            ],
            [
             0.1111111111111111,
             "#46039f"
            ],
            [
             0.2222222222222222,
             "#7201a8"
            ],
            [
             0.3333333333333333,
             "#9c179e"
            ],
            [
             0.4444444444444444,
             "#bd3786"
            ],
            [
             0.5555555555555556,
             "#d8576b"
            ],
            [
             0.6666666666666666,
             "#ed7953"
            ],
            [
             0.7777777777777778,
             "#fb9f3a"
            ],
            [
             0.8888888888888888,
             "#fdca26"
            ],
            [
             1,
             "#f0f921"
            ]
           ],
           "sequentialminus": [
            [
             0,
             "#0d0887"
            ],
            [
             0.1111111111111111,
             "#46039f"
            ],
            [
             0.2222222222222222,
             "#7201a8"
            ],
            [
             0.3333333333333333,
             "#9c179e"
            ],
            [
             0.4444444444444444,
             "#bd3786"
            ],
            [
             0.5555555555555556,
             "#d8576b"
            ],
            [
             0.6666666666666666,
             "#ed7953"
            ],
            [
             0.7777777777777778,
             "#fb9f3a"
            ],
            [
             0.8888888888888888,
             "#fdca26"
            ],
            [
             1,
             "#f0f921"
            ]
           ]
          },
          "colorway": [
           "#636efa",
           "#EF553B",
           "#00cc96",
           "#ab63fa",
           "#FFA15A",
           "#19d3f3",
           "#FF6692",
           "#B6E880",
           "#FF97FF",
           "#FECB52"
          ],
          "font": {
           "color": "#2a3f5f"
          },
          "geo": {
           "bgcolor": "white",
           "lakecolor": "white",
           "landcolor": "#E5ECF6",
           "showlakes": true,
           "showland": true,
           "subunitcolor": "white"
          },
          "hoverlabel": {
           "align": "left"
          },
          "hovermode": "closest",
          "mapbox": {
           "style": "light"
          },
          "paper_bgcolor": "white",
          "plot_bgcolor": "#E5ECF6",
          "polar": {
           "angularaxis": {
            "gridcolor": "white",
            "linecolor": "white",
            "ticks": ""
           },
           "bgcolor": "#E5ECF6",
           "radialaxis": {
            "gridcolor": "white",
            "linecolor": "white",
            "ticks": ""
           }
          },
          "scene": {
           "xaxis": {
            "backgroundcolor": "#E5ECF6",
            "gridcolor": "white",
            "gridwidth": 2,
            "linecolor": "white",
            "showbackground": true,
            "ticks": "",
            "zerolinecolor": "white"
           },
           "yaxis": {
            "backgroundcolor": "#E5ECF6",
            "gridcolor": "white",
            "gridwidth": 2,
            "linecolor": "white",
            "showbackground": true,
            "ticks": "",
            "zerolinecolor": "white"
           },
           "zaxis": {
            "backgroundcolor": "#E5ECF6",
            "gridcolor": "white",
            "gridwidth": 2,
            "linecolor": "white",
            "showbackground": true,
            "ticks": "",
            "zerolinecolor": "white"
           }
          },
          "shapedefaults": {
           "line": {
            "color": "#2a3f5f"
           }
          },
          "ternary": {
           "aaxis": {
            "gridcolor": "white",
            "linecolor": "white",
            "ticks": ""
           },
           "baxis": {
            "gridcolor": "white",
            "linecolor": "white",
            "ticks": ""
           },
           "bgcolor": "#E5ECF6",
           "caxis": {
            "gridcolor": "white",
            "linecolor": "white",
            "ticks": ""
           }
          },
          "title": {
           "x": 0.05
          },
          "xaxis": {
           "automargin": true,
           "gridcolor": "white",
           "linecolor": "white",
           "ticks": "",
           "title": {
            "standoff": 15
           },
           "zerolinecolor": "white",
           "zerolinewidth": 2
          },
          "yaxis": {
           "automargin": true,
           "gridcolor": "white",
           "linecolor": "white",
           "ticks": "",
           "title": {
            "standoff": 15
           },
           "zerolinecolor": "white",
           "zerolinewidth": 2
          }
         }
        },
        "width": 400
       }
      }
     },
     "metadata": {},
     "output_type": "display_data"
    }
   ],
   "source": [
    "## 2nd Largest Representative 3D Hole (Optimized and rounded)\n",
    "# use optimal dataframe from above (the optmization problem takes too long, i don't wanna do it twice)\n",
    "filter = optimal.loc['optimal cycle', 'chain']['coefficient'].astype(float).round() != 0 # mark locations where the cofficicents are close to 0 to be removed\n",
    "print(f'Removing {sum(1-filter)}/{len(filter)} simplicies from the cycle, {sum(filter)} simplicies left')\n",
    "optimal_faces = optimal.loc['optimal cycle', 'chain'][filter]['simplex'].tolist()\n",
    "# maybe want some assert statement to make sure we have a real cycle\n",
    "\n",
    "# plotting\n",
    "trace_dta = go.Scatter3d( # data plot\n",
    "        x=dta[:, 0],\n",
    "        y=dta[:, 1],\n",
    "        z=dta[:, 2],\n",
    "        mode='markers',\n",
    "        showlegend=True,\n",
    "        name='Data',\n",
    "        opacity=0.5\n",
    "    )\n",
    "traces_optimal = [oat.plot.triangle__trace3d(triangle=tri, coo=dta) for tri in optimal_faces] # optimal cycle plot\n",
    "for n, trace in enumerate(traces_optimal): # plot optimal cycle\n",
    "    trace.update(\n",
    "            showlegend=(n==0),\n",
    "            legendgroup='opti',\n",
    "            opacity=0.5,\n",
    "            name='Optimal Cycle'\n",
    "        )\n",
    "fig = go.Figure(data=[trace_dta]+traces_optimal)\n",
    "fig.update_layout(\n",
    "        width=400, \n",
    "        height=500,\n",
    "        margin=dict(l=20, r=20, t=20, b=20)\n",
    "    )\n",
    "fig.show()\n",
    "# rounding solves this problem (I think)"
   ]
  },
  {
   "cell_type": "code",
   "execution_count": 9,
   "metadata": {},
   "outputs": [
    {
     "data": {
      "application/vnd.plotly.v1+json": {
       "config": {
        "plotlyServerURL": "https://plot.ly"
       },
       "data": [
        {
         "mode": "markers",
         "name": "Data",
         "opacity": 0.5,
         "showlegend": true,
         "type": "scatter3d",
         "x": [
          0.24099609440026062,
          0.9459052428491446,
          -1.2427045372250942,
          -0.051433884491928344,
          1.9179147019474416,
          0.0754626231401496,
          0.27381987748991166,
          0.2510943827771924,
          -0.6543556064212848,
          1.3900071023527665,
          -0.21097111053364545,
          -1.3265316306145045,
          -1.9975758492810571,
          1.428568242818934,
          0.3820626767257851,
          0.8653877369989628,
          0.050284467166277394,
          0.30281210229156447,
          1.7319507989908225,
          -0.42613233208472867,
          -0.38145899499988223,
          1.1755128883777133,
          -1.4023996712301636,
          0.28939832272322746,
          0.8044254643756292,
          -0.2849236394818316,
          -1.3671731797173003,
          -0.7478125174610569,
          0.15686007340957897,
          -1.4301347061514855,
          0.038120431923179945,
          0.2841074831430881,
          0.6081727314115856,
          -0.6611496622885924,
          -0.16802735966394808,
          0.314816552902814,
          -1.267561305073793,
          0.32158348836488515,
          0.3781032990515907,
          1.3922760595743457,
          1.7918764466752988,
          -0.41115390446729533,
          0.17363260716907167,
          1.0112948663369463,
          0.6726181657977889,
          0.0752765168142189,
          -0.0003143404862772023,
          -1.3220352347871873,
          -0.7553679388430606,
          0.22296383036584522,
          -1.3804651799529948,
          1.0241862428159756,
          0.7730788287989033,
          -0.7747460622295846,
          -1.175819160789283,
          1.846831097242284,
          -2.0009077138690374,
          -1.2116814739390598,
          -0.9116729555413463,
          -0.0769326800570269,
          0.9176555584372866,
          1.385766410760012,
          -1.7667019399941535,
          1.308766089156314,
          0.5611589264039794,
          0.02810579618190706,
          1.618112135878201,
          -0.276692694367083,
          -1.1818678999432266,
          0.9735511531324905,
          -1.5321167248268441,
          1.7330410892795574,
          -1.249974037907788,
          -1.5274169251558738,
          1.3777876509564166,
          -1.7811237798388304,
          -0.4519813457193348,
          1.847175189041157,
          -0.067985045970385,
          1.3612634595715207,
          -0.46525843550395174,
          -0.7198117268327708,
          0.33387231496310743,
          -0.5749288027657355,
          -1.1170972807902728,
          -1.726124292717342,
          0.091053934578192,
          -0.5907857116655164,
          0.7984630001581839,
          0.7004525998294572,
          0.6374409857886782,
          0.921827816575034,
          -0.48950262235808173,
          0.5278699220456626,
          1.6320943743723864,
          -0.23401791608013084,
          0.30224127660263383,
          -1.603032987285266,
          -1.9521437022080457,
          0.10740838136713324,
          -1.4698954876636652,
          1.4934444449079516,
          -0.7914628162275198,
          -0.2573073144405479,
          0.5718938626093497,
          0.2839383912534662,
          0.7857777065117224,
          -0.7027719005322292,
          -0.028288646358340813,
          0.9313326391467384,
          1.8799150493201464,
          0.025550207269889828,
          -0.858317222688285,
          -1.0293062544086706,
          -1.8305868041779985,
          1.6541292253816107,
          -0.5801050348866499,
          0.3262893526784785,
          -0.14355848546193928,
          1.1526599178993406,
          0.06599489994353995,
          -1.4206287666285864,
          1.6319422235778331,
          -1.1158212707807034,
          0.992486455386081,
          1.614923263661248,
          -0.4270534678090496,
          -1.032615769203239,
          -0.20529353390905727,
          1.6895743523475837,
          -0.0580367711141819,
          -0.08791134182694263,
          0.0034330498951731766,
          0.0602048127945789,
          0.0038751215520781606,
          -0.004107802203620115,
          0.00030699942611696785,
          0.030054986951496263,
          -0.04147959269645468,
          0.0008904902078022412,
          -0.04523940174082875,
          0.0793416345217721,
          0.009172657410361598,
          0.007245773443079769,
          0.024082448999190174,
          -0.0012355370448450629,
          -0.005330616052466133,
          0.0012390063529189148,
          0.031612720466174866,
          0.0025169867137333018
         ],
         "y": [
          -1.7476052209964665,
          0.12685903843803312,
          -1.5024055848795577,
          -1.7143091900793404,
          0.04414064637729072,
          0.486863053300648,
          0.8161151670239568,
          -1.9150650182830506,
          -1.453456184287172,
          0.8351029557944165,
          -0.49248511095161834,
          0.4150590213769577,
          -0.10884434771632476,
          0.13535003088990571,
          -0.9090657178199161,
          0.7367793633647386,
          0.15707416426202359,
          -1.1065394062637077,
          -0.9858056293223536,
          -1.771005596398586,
          -0.09685613084306363,
          1.4982394958239371,
          1.4433971126081504,
          0.5494492368446982,
          -0.2788426990847904,
          0.12383498411973237,
          -1.2861180258481681,
          -0.08034516108672493,
          0.21260138399146494,
          -1.0084700761900411,
          -0.05750698793205378,
          0.03895142204402945,
          -0.39532082598516183,
          1.6569648340403553,
          -0.20630481449570964,
          -0.8875572885007396,
          -1.092033054514339,
          -0.6676161747495057,
          0.15602097986643623,
          1.4013205573594216,
          0.5318638041688013,
          0.9460457570517548,
          0.36685896263074136,
          -1.2867864134332472,
          -0.5983590273228785,
          -1.92577980971974,
          -0.12075071218273561,
          1.1813571260909517,
          1.4396273133734907,
          0.6796936141855081,
          1.0184959320925155,
          0.6698150810525435,
          -1.6731390378686097,
          -1.0543904890481512,
          1.082859545206985,
          -0.6504445935146318,
          0.17312731333002584,
          0.3341742447711287,
          1.7814698854923972,
          0.36626534150191814,
          0.628736270449864,
          -0.9150184648699894,
          -0.391095917714064,
          0.7857618086863001,
          0.10558335764546403,
          1.9553705995848876,
          0.3597136279748002,
          -1.868495987950347,
          1.091451170019377,
          -0.5041787491042742,
          0.6046859214132598,
          0.8054779465634925,
          -0.3586816847433397,
          -0.09834271450726173,
          -0.13925086826455357,
          -0.8920835959741598,
          1.6984481629067298,
          0.7517014682053901,
          0.07751694951020073,
          0.7949841766627928,
          -1.8613633476481592,
          -0.9772883216067014,
          -0.14132988552696407,
          -1.7181337873166074,
          -0.9053291863516476,
          0.688105961817672,
          0.3035129501304215,
          -0.0017357943494776852,
          -1.767258363456707,
          0.45023444752292696,
          -1.978452463165785,
          0.45565402069794725,
          -0.3186581756695339,
          1.3417850932441002,
          -0.728831053803635,
          1.1378487771444106,
          0.07686332243632069,
          -0.2749900740378073,
          0.7494786720949622,
          2.125075140108281,
          -0.653722943776779,
          -1.2362081819165895,
          -1.4593409916921396,
          0.34276153409432897,
          0.39927054310509696,
          -1.3317723898605132,
          -1.2796615564307725,
          -0.5223773980242754,
          0.13919795014982983,
          0.8268751084247568,
          0.4147035000307109,
          -1.2206213725102897,
          -1.725897817331749,
          0.1693001021043674,
          -0.1490772129887783,
          -0.17744716016586437,
          0.6390374077864617,
          0.6500807799647356,
          0.012558869163499941,
          -1.6124871635418012,
          1.3017780779622958,
          0.3980138609502213,
          -0.9907558784263603,
          -0.963166242499383,
          -1.4833456085074883,
          1.0681981614918616,
          -1.9476266721345303,
          -0.5468934715903268,
          -0.7224704021926796,
          1.0576432769200679,
          -1.9943961191374964,
          -2.1053743094778308,
          -1.9939639357111911,
          -2.030827272895107,
          -1.9813820502248392,
          -2.0060292468328815,
          -1.998163849556661,
          -1.9288236365001172,
          -1.924170770976584,
          -1.9974441481967997,
          2.0112222357451683,
          2.0244619359137648,
          2.0532752855476555,
          2.0303713259266076,
          2.02500410438344,
          1.9986287885397835,
          2.0153242752451432,
          1.9972030204277498,
          1.9823759696867074,
          1.9940671793216906
         ],
         "z": [
          1.7718982034046589,
          4.808711710014879,
          2.2168445140677053,
          2.181124770639634,
          3.3497903234254616,
          4.9119876676043095,
          1.2660045319720652,
          2.2779439780736563,
          1.7539391359529475,
          1.9736145668827791,
          4.913908259523104,
          4.472479709600413,
          3.0917823180322355,
          4.419827525123646,
          1.2602299999452078,
          1.5286060314292322,
          0.9423131105068911,
          1.420379173642134,
          2.8436417281679276,
          2.347328547939448,
          5.148964907558796,
          2.3397316312611207,
          3.0398756883539493,
          1.067459268968439,
          1.2107006707210386,
          1.0326364351571597,
          2.4673502172485042,
          4.885548809801875,
          5.02605830348917,
          1.968024853033125,
          1.0101018315357009,
          4.979603968101325,
          1.120678913771407,
          2.1229338503279274,
          1.0148777778630715,
          1.2363314173565474,
          4.270476611270691,
          4.835517752105704,
          0.9397508143469961,
          3.3978273853249337,
          2.693139047428864,
          1.2661963940858865,
          4.9017780888025175,
          1.8090659987749391,
          1.0633059420962128,
          2.3812833285399044,
          1.0783098400599351,
          2.0759746076843704,
          4.158272106449291,
          5.067796625937391,
          2.0027713611039273,
          4.5701376997292416,
          3.8825563191108943,
          4.513429460406471,
          1.703834842441142,
          3.417238510080346,
          3.0391920053441197,
          4.563045420130074,
          2.9444954157550165,
          0.9994763090786639,
          1.4282243131069274,
          4.246172929706724,
          3.816602450607879,
          1.7904264776064551,
          4.903593006872568,
          -3.531881024024637,
          -3.976227760896973,
          -2.315656130400948,
          -4.1393812643242756,
          -1.1698713116776536,
          -2.307847417278273,
          -2.6631773633094395,
          -4.420231999984052,
          -1.7039205242935374,
          -4.552750484795351,
          -3.011164588777639,
          -2.047936425594996,
          -3.187465593527785,
          -5.091143773350528,
          -4.227334756344423,
          -2.644665183432333,
          -1.3775171909159523,
          -0.9858194841039267,
          -3.918909044431429,
          -1.5724519356972684,
          -3.71858035833136,
          -1.0744583719032046,
          -1.0225772506821031,
          -2.2150919774361517,
          -1.2306140207453098,
          -2.9658850219311237,
          -1.2723625404960142,
          -4.974766610014017,
          -1.6353246580142529,
          -2.1737361925192813,
          -4.64521067451492,
          -1.0225105071804235,
          -1.849885093125241,
          -3.28793858924212,
          -3.4846121946922533,
          -4.2929738555603745,
          -2.44625814745755,
          -1.8924629711874934,
          -4.968346230694227,
          -4.8902316185402315,
          -1.5151734698088253,
          -4.428858863876677,
          -4.8090539032060695,
          -5.1138643119641625,
          -1.423706285712594,
          -3.6035212351000263,
          -4.596863485992853,
          -2.440221732467188,
          -4.629847152182607,
          -2.035003963598543,
          -1.9817294745096616,
          -4.839073036656689,
          -1.001366793488078,
          -0.9580805036439568,
          -2.7345238974034647,
          -4.495326412169657,
          -4.355059813083419,
          -2.4121065507397965,
          -4.400331008607225,
          -2.2450128414866706,
          -3.482139085831931,
          -3.3177790639022575,
          -4.592154257942372,
          -1.1467835041254488,
          -3.435263372401116,
          -1.353087474491003,
          -2.2859999249738587,
          -0.3126509655891242,
          2.6419902186734854,
          1.0245452017759669,
          -1.88764009078263,
          -2.7177358148123627,
          2.77446322776386,
          2.19886835848439,
          2.008583445215219,
          2.7433886097008684,
          0.6042759787701203,
          2.554404614949136,
          -2.100836548359392,
          -2.3837866296332604,
          -0.7706732763346871,
          1.6030544061443506,
          -1.099930915645859,
          0.8182821434535248,
          -2.9392989971087986
         ]
        },
        {
         "i": [
          0
         ],
         "j": [
          1
         ],
         "k": [
          2
         ],
         "legendgroup": "opti",
         "name": "Non-Optimal cycle",
         "opacity": 0.5,
         "showlegend": true,
         "type": "mesh3d",
         "x": [
          1.4934444449079516,
          0.7857777065117224,
          1.8799150493201464
         ],
         "y": [
          -1.2362081819165895,
          -1.2796615564307725,
          0.4147035000307109
         ],
         "z": [
          -2.44625814745755,
          -4.428858863876677,
          -3.6035212351000263
         ]
        },
        {
         "i": [
          0
         ],
         "j": [
          1
         ],
         "k": [
          2
         ],
         "legendgroup": "opti",
         "name": "Non-Optimal cycle",
         "opacity": 0.5,
         "showlegend": false,
         "type": "mesh3d",
         "x": [
          1.618112135878201,
          0.7857777065117224,
          1.8799150493201464
         ],
         "y": [
          0.3597136279748002,
          -1.2796615564307725,
          0.4147035000307109
         ],
         "z": [
          -3.976227760896973,
          -4.428858863876677,
          -3.6035212351000263
         ]
        },
        {
         "i": [
          0
         ],
         "j": [
          1
         ],
         "k": [
          2
         ],
         "legendgroup": "opti",
         "name": "Non-Optimal cycle",
         "opacity": 0.5,
         "showlegend": false,
         "type": "mesh3d",
         "x": [
          -1.5321167248268441,
          -0.4519813457193348,
          0.0025169867137333018
         ],
         "y": [
          0.6046859214132598,
          1.6984481629067298,
          1.9940671793216906
         ],
         "z": [
          -2.307847417278273,
          -2.047936425594996,
          -2.9392989971087986
         ]
        },
        {
         "i": [
          0
         ],
         "j": [
          1
         ],
         "k": [
          2
         ],
         "legendgroup": "opti",
         "name": "Non-Optimal cycle",
         "opacity": 0.5,
         "showlegend": false,
         "type": "mesh3d",
         "x": [
          -1.1818678999432266,
          -1.5321167248268441,
          0.0025169867137333018
         ],
         "y": [
          1.091451170019377,
          0.6046859214132598,
          1.9940671793216906
         ],
         "z": [
          -4.1393812643242756,
          -2.307847417278273,
          -2.9392989971087986
         ]
        },
        {
         "i": [
          0
         ],
         "j": [
          1
         ],
         "k": [
          2
         ],
         "legendgroup": "opti",
         "name": "Non-Optimal cycle",
         "opacity": 0.5,
         "showlegend": false,
         "type": "mesh3d",
         "x": [
          1.7330410892795574,
          1.614923263661248,
          0.0025169867137333018
         ],
         "y": [
          0.8054779465634925,
          1.0681981614918616,
          1.9940671793216906
         ],
         "z": [
          -2.6631773633094395,
          -3.482139085831931,
          -2.9392989971087986
         ]
        },
        {
         "i": [
          0
         ],
         "j": [
          1
         ],
         "k": [
          2
         ],
         "legendgroup": "opti",
         "name": "Non-Optimal cycle",
         "opacity": 0.5,
         "showlegend": false,
         "type": "mesh3d",
         "x": [
          1.7330410892795574,
          0.5278699220456626,
          0.0025169867137333018
         ],
         "y": [
          0.8054779465634925,
          1.3417850932441002,
          1.9940671793216906
         ],
         "z": [
          -2.6631773633094395,
          -1.6353246580142529,
          -2.9392989971087986
         ]
        },
        {
         "i": [
          0
         ],
         "j": [
          1
         ],
         "k": [
          2
         ],
         "legendgroup": "opti",
         "name": "Non-Optimal cycle",
         "opacity": 0.5,
         "showlegend": false,
         "type": "mesh3d",
         "x": [
          0.6374409857886782,
          1.4934444449079516,
          0.7857777065117224
         ],
         "y": [
          -1.978452463165785,
          -1.2362081819165895,
          -1.2796615564307725
         ],
         "z": [
          -2.9658850219311237,
          -2.44625814745755,
          -4.428858863876677
         ]
        },
        {
         "i": [
          0
         ],
         "j": [
          1
         ],
         "k": [
          2
         ],
         "legendgroup": "opti",
         "name": "Non-Optimal cycle",
         "opacity": 0.5,
         "showlegend": false,
         "type": "mesh3d",
         "x": [
          1.6320943743723864,
          1.4934444449079516,
          1.8799150493201464
         ],
         "y": [
          -0.728831053803635,
          -1.2362081819165895,
          0.4147035000307109
         ],
         "z": [
          -2.1737361925192813,
          -2.44625814745755,
          -3.6035212351000263
         ]
        },
        {
         "i": [
          0
         ],
         "j": [
          1
         ],
         "k": [
          2
         ],
         "legendgroup": "opti",
         "name": "Non-Optimal cycle",
         "opacity": 0.5,
         "showlegend": false,
         "type": "mesh3d",
         "x": [
          -0.4519813457193348,
          0.091053934578192,
          -0.5907857116655164
         ],
         "y": [
          1.6984481629067298,
          0.3035129501304215,
          -0.0017357943494776852
         ],
         "z": [
          -2.047936425594996,
          -1.0744583719032046,
          -1.0225772506821031
         ]
        },
        {
         "i": [
          0
         ],
         "j": [
          1
         ],
         "k": [
          2
         ],
         "legendgroup": "opti",
         "name": "Non-Optimal cycle",
         "opacity": 0.5,
         "showlegend": false,
         "type": "mesh3d",
         "x": [
          -1.5321167248268441,
          -0.4519813457193348,
          -0.5907857116655164
         ],
         "y": [
          0.6046859214132598,
          1.6984481629067298,
          -0.0017357943494776852
         ],
         "z": [
          -2.307847417278273,
          -2.047936425594996,
          -1.0225772506821031
         ]
        },
        {
         "i": [
          0
         ],
         "j": [
          1
         ],
         "k": [
          2
         ],
         "legendgroup": "opti",
         "name": "Non-Optimal cycle",
         "opacity": 0.5,
         "showlegend": false,
         "type": "mesh3d",
         "x": [
          0.02810579618190706,
          1.614923263661248,
          0.0025169867137333018
         ],
         "y": [
          1.9553705995848876,
          1.0681981614918616,
          1.9940671793216906
         ],
         "z": [
          -3.531881024024637,
          -3.482139085831931,
          -2.9392989971087986
         ]
        },
        {
         "i": [
          0
         ],
         "j": [
          1
         ],
         "k": [
          2
         ],
         "legendgroup": "opti",
         "name": "Non-Optimal cycle",
         "opacity": 0.5,
         "showlegend": false,
         "type": "mesh3d",
         "x": [
          -1.1818678999432266,
          -1.5321167248268441,
          -1.726124292717342
         ],
         "y": [
          1.091451170019377,
          0.6046859214132598,
          0.688105961817672
         ],
         "z": [
          -4.1393812643242756,
          -2.307847417278273,
          -3.71858035833136
         ]
        },
        {
         "i": [
          0
         ],
         "j": [
          1
         ],
         "k": [
          2
         ],
         "legendgroup": "opti",
         "name": "Non-Optimal cycle",
         "opacity": 0.5,
         "showlegend": false,
         "type": "mesh3d",
         "x": [
          0.02810579618190706,
          -1.1818678999432266,
          0.0025169867137333018
         ],
         "y": [
          1.9553705995848876,
          1.091451170019377,
          1.9940671793216906
         ],
         "z": [
          -3.531881024024637,
          -4.1393812643242756,
          -2.9392989971087986
         ]
        },
        {
         "i": [
          0
         ],
         "j": [
          1
         ],
         "k": [
          2
         ],
         "legendgroup": "opti",
         "name": "Non-Optimal cycle",
         "opacity": 0.5,
         "showlegend": false,
         "type": "mesh3d",
         "x": [
          1.618112135878201,
          1.3777876509564166,
          0.7857777065117224
         ],
         "y": [
          0.3597136279748002,
          -0.13925086826455357,
          -1.2796615564307725
         ],
         "z": [
          -3.976227760896973,
          -4.552750484795351,
          -4.428858863876677
         ]
        },
        {
         "i": [
          0
         ],
         "j": [
          1
         ],
         "k": [
          2
         ],
         "legendgroup": "opti",
         "name": "Non-Optimal cycle",
         "opacity": 0.5,
         "showlegend": false,
         "type": "mesh3d",
         "x": [
          1.3612634595715207,
          0.06599489994353995,
          1.614923263661248
         ],
         "y": [
          0.7949841766627928,
          1.3017780779622958,
          1.0681981614918616
         ],
         "z": [
          -4.227334756344423,
          -4.495326412169657,
          -3.482139085831931
         ]
        },
        {
         "i": [
          0
         ],
         "j": [
          1
         ],
         "k": [
          2
         ],
         "legendgroup": "opti",
         "name": "Non-Optimal cycle",
         "opacity": 0.5,
         "showlegend": false,
         "type": "mesh3d",
         "x": [
          0.02810579618190706,
          0.06599489994353995,
          1.614923263661248
         ],
         "y": [
          1.9553705995848876,
          1.3017780779622958,
          1.0681981614918616
         ],
         "z": [
          -3.531881024024637,
          -4.495326412169657,
          -3.482139085831931
         ]
        },
        {
         "i": [
          0
         ],
         "j": [
          1
         ],
         "k": [
          2
         ],
         "legendgroup": "opti",
         "name": "Non-Optimal cycle",
         "opacity": 0.5,
         "showlegend": false,
         "type": "mesh3d",
         "x": [
          1.7330410892795574,
          1.6320943743723864,
          1.8799150493201464
         ],
         "y": [
          0.8054779465634925,
          -0.728831053803635,
          0.4147035000307109
         ],
         "z": [
          -2.6631773633094395,
          -2.1737361925192813,
          -3.6035212351000263
         ]
        },
        {
         "i": [
          0
         ],
         "j": [
          1
         ],
         "k": [
          2
         ],
         "legendgroup": "opti",
         "name": "Non-Optimal cycle",
         "opacity": 0.5,
         "showlegend": false,
         "type": "mesh3d",
         "x": [
          -0.4519813457193348,
          0.091053934578192,
          0.5278699220456626
         ],
         "y": [
          1.6984481629067298,
          0.3035129501304215,
          1.3417850932441002
         ],
         "z": [
          -2.047936425594996,
          -1.0744583719032046,
          -1.6353246580142529
         ]
        },
        {
         "i": [
          0
         ],
         "j": [
          1
         ],
         "k": [
          2
         ],
         "legendgroup": "opti",
         "name": "Non-Optimal cycle",
         "opacity": 0.5,
         "showlegend": false,
         "type": "mesh3d",
         "x": [
          -1.249974037907788,
          -1.7811237798388304,
          -1.726124292717342
         ],
         "y": [
          -0.3586816847433397,
          -0.8920835959741598,
          0.688105961817672
         ],
         "z": [
          -4.420231999984052,
          -3.011164588777639,
          -3.71858035833136
         ]
        },
        {
         "i": [
          0
         ],
         "j": [
          1
         ],
         "k": [
          2
         ],
         "legendgroup": "opti",
         "name": "Non-Optimal cycle",
         "opacity": 0.5,
         "showlegend": false,
         "type": "mesh3d",
         "x": [
          -1.5321167248268441,
          -1.7811237798388304,
          -1.726124292717342
         ],
         "y": [
          0.6046859214132598,
          -0.8920835959741598,
          0.688105961817672
         ],
         "z": [
          -2.307847417278273,
          -3.011164588777639,
          -3.71858035833136
         ]
        },
        {
         "i": [
          0
         ],
         "j": [
          1
         ],
         "k": [
          2
         ],
         "legendgroup": "opti",
         "name": "Non-Optimal cycle",
         "opacity": 0.5,
         "showlegend": false,
         "type": "mesh3d",
         "x": [
          1.3777876509564166,
          0.7857777065117224,
          0.025550207269889828
         ],
         "y": [
          -0.13925086826455357,
          -1.2796615564307725,
          -1.2206213725102897
         ],
         "z": [
          -4.552750484795351,
          -4.428858863876677,
          -4.596863485992853
         ]
        },
        {
         "i": [
          0
         ],
         "j": [
          1
         ],
         "k": [
          2
         ],
         "legendgroup": "opti",
         "name": "Non-Optimal cycle",
         "opacity": 0.5,
         "showlegend": false,
         "type": "mesh3d",
         "x": [
          1.3777876509564166,
          -0.067985045970385,
          0.025550207269889828
         ],
         "y": [
          -0.13925086826455357,
          0.07751694951020073,
          -1.2206213725102897
         ],
         "z": [
          -4.552750484795351,
          -5.091143773350528,
          -4.596863485992853
         ]
        },
        {
         "i": [
          0
         ],
         "j": [
          1
         ],
         "k": [
          2
         ],
         "legendgroup": "opti",
         "name": "Non-Optimal cycle",
         "opacity": 0.5,
         "showlegend": false,
         "type": "mesh3d",
         "x": [
          -1.7811237798388304,
          -0.46525843550395174,
          -0.5749288027657355
         ],
         "y": [
          -0.8920835959741598,
          -1.8613633476481592,
          -1.7181337873166074
         ],
         "z": [
          -3.011164588777639,
          -2.644665183432333,
          -3.918909044431429
         ]
        },
        {
         "i": [
          0
         ],
         "j": [
          1
         ],
         "k": [
          2
         ],
         "legendgroup": "opti",
         "name": "Non-Optimal cycle",
         "opacity": 0.5,
         "showlegend": false,
         "type": "mesh3d",
         "x": [
          -1.249974037907788,
          -1.7811237798388304,
          -0.5749288027657355
         ],
         "y": [
          -0.3586816847433397,
          -0.8920835959741598,
          -1.7181337873166074
         ],
         "z": [
          -4.420231999984052,
          -3.011164588777639,
          -3.918909044431429
         ]
        },
        {
         "i": [
          0
         ],
         "j": [
          1
         ],
         "k": [
          2
         ],
         "legendgroup": "opti",
         "name": "Non-Optimal cycle",
         "opacity": 0.5,
         "showlegend": false,
         "type": "mesh3d",
         "x": [
          -1.5321167248268441,
          -1.5274169251558738,
          -0.5907857116655164
         ],
         "y": [
          0.6046859214132598,
          -0.09834271450726173,
          -0.0017357943494776852
         ],
         "z": [
          -2.307847417278273,
          -1.7039205242935374,
          -1.0225772506821031
         ]
        },
        {
         "i": [
          0
         ],
         "j": [
          1
         ],
         "k": [
          2
         ],
         "legendgroup": "opti",
         "name": "Non-Optimal cycle",
         "opacity": 0.5,
         "showlegend": false,
         "type": "mesh3d",
         "x": [
          -1.7811237798388304,
          -0.46525843550395174,
          -1.1170972807902728
         ],
         "y": [
          -0.8920835959741598,
          -1.8613633476481592,
          -0.9053291863516476
         ],
         "z": [
          -3.011164588777639,
          -2.644665183432333,
          -1.5724519356972684
         ]
        },
        {
         "i": [
          0
         ],
         "j": [
          1
         ],
         "k": [
          2
         ],
         "legendgroup": "opti",
         "name": "Non-Optimal cycle",
         "opacity": 0.5,
         "showlegend": false,
         "type": "mesh3d",
         "x": [
          -1.5321167248268441,
          -1.5274169251558738,
          -1.7811237798388304
         ],
         "y": [
          0.6046859214132598,
          -0.09834271450726173,
          -0.8920835959741598
         ],
         "z": [
          -2.307847417278273,
          -1.7039205242935374,
          -3.011164588777639
         ]
        },
        {
         "i": [
          0
         ],
         "j": [
          1
         ],
         "k": [
          2
         ],
         "legendgroup": "opti",
         "name": "Non-Optimal cycle",
         "opacity": 0.5,
         "showlegend": false,
         "type": "mesh3d",
         "x": [
          1.7330410892795574,
          0.921827816575034,
          0.5278699220456626
         ],
         "y": [
          0.8054779465634925,
          0.45565402069794725,
          1.3417850932441002
         ],
         "z": [
          -2.6631773633094395,
          -1.2723625404960142,
          -1.6353246580142529
         ]
        },
        {
         "i": [
          0
         ],
         "j": [
          1
         ],
         "k": [
          2
         ],
         "legendgroup": "opti",
         "name": "Non-Optimal cycle",
         "opacity": 0.5,
         "showlegend": false,
         "type": "mesh3d",
         "x": [
          1.7330410892795574,
          0.921827816575034,
          0.9313326391467384
         ],
         "y": [
          0.8054779465634925,
          0.45565402069794725,
          0.8268751084247568
         ],
         "z": [
          -2.6631773633094395,
          -1.2723625404960142,
          -1.423706285712594
         ]
        },
        {
         "i": [
          0
         ],
         "j": [
          1
         ],
         "k": [
          2
         ],
         "legendgroup": "opti",
         "name": "Non-Optimal cycle",
         "opacity": 0.5,
         "showlegend": false,
         "type": "mesh3d",
         "x": [
          -0.5749288027657355,
          0.6374409857886782,
          0.7857777065117224
         ],
         "y": [
          -1.7181337873166074,
          -1.978452463165785,
          -1.2796615564307725
         ],
         "z": [
          -3.918909044431429,
          -2.9658850219311237,
          -4.428858863876677
         ]
        },
        {
         "i": [
          0
         ],
         "j": [
          1
         ],
         "k": [
          2
         ],
         "legendgroup": "opti",
         "name": "Non-Optimal cycle",
         "opacity": 0.5,
         "showlegend": false,
         "type": "mesh3d",
         "x": [
          1.7330410892795574,
          1.6320943743723864,
          1.6541292253816107
         ],
         "y": [
          0.8054779465634925,
          -0.728831053803635,
          -0.17744716016586437
         ],
         "z": [
          -2.6631773633094395,
          -2.1737361925192813,
          -1.9817294745096616
         ]
        },
        {
         "i": [
          0
         ],
         "j": [
          1
         ],
         "k": [
          2
         ],
         "legendgroup": "opti",
         "name": "Non-Optimal cycle",
         "opacity": 0.5,
         "showlegend": false,
         "type": "mesh3d",
         "x": [
          0.02810579618190706,
          -1.1818678999432266,
          -0.23401791608013084
         ],
         "y": [
          1.9553705995848876,
          1.091451170019377,
          1.1378487771444106
         ],
         "z": [
          -3.531881024024637,
          -4.1393812643242756,
          -4.64521067451492
         ]
        },
        {
         "i": [
          0
         ],
         "j": [
          1
         ],
         "k": [
          2
         ],
         "legendgroup": "opti",
         "name": "Non-Optimal cycle",
         "opacity": 0.5,
         "showlegend": false,
         "type": "mesh3d",
         "x": [
          -1.249974037907788,
          -0.5749288027657355,
          -1.4698954876636652
         ],
         "y": [
          -0.3586816847433397,
          -1.7181337873166074,
          -0.653722943776779
         ],
         "z": [
          -4.420231999984052,
          -3.918909044431429,
          -4.2929738555603745
         ]
        },
        {
         "i": [
          0
         ],
         "j": [
          1
         ],
         "k": [
          2
         ],
         "legendgroup": "opti",
         "name": "Non-Optimal cycle",
         "opacity": 0.5,
         "showlegend": false,
         "type": "mesh3d",
         "x": [
          -1.5274169251558738,
          -1.7811237798388304,
          -1.1170972807902728
         ],
         "y": [
          -0.09834271450726173,
          -0.8920835959741598,
          -0.9053291863516476
         ],
         "z": [
          -1.7039205242935374,
          -3.011164588777639,
          -1.5724519356972684
         ]
        },
        {
         "i": [
          0
         ],
         "j": [
          1
         ],
         "k": [
          2
         ],
         "legendgroup": "opti",
         "name": "Non-Optimal cycle",
         "opacity": 0.5,
         "showlegend": false,
         "type": "mesh3d",
         "x": [
          -0.276692694367083,
          -0.46525843550395174,
          -1.1170972807902728
         ],
         "y": [
          -1.868495987950347,
          -1.8613633476481592,
          -0.9053291863516476
         ],
         "z": [
          -2.315656130400948,
          -2.644665183432333,
          -1.5724519356972684
         ]
        },
        {
         "i": [
          0
         ],
         "j": [
          1
         ],
         "k": [
          2
         ],
         "legendgroup": "opti",
         "name": "Non-Optimal cycle",
         "opacity": 0.5,
         "showlegend": false,
         "type": "mesh3d",
         "x": [
          -0.46525843550395174,
          -0.5749288027657355,
          0.6374409857886782
         ],
         "y": [
          -1.8613633476481592,
          -1.7181337873166074,
          -1.978452463165785
         ],
         "z": [
          -2.644665183432333,
          -3.918909044431429,
          -2.9658850219311237
         ]
        },
        {
         "i": [
          0
         ],
         "j": [
          1
         ],
         "k": [
          2
         ],
         "legendgroup": "opti",
         "name": "Non-Optimal cycle",
         "opacity": 0.5,
         "showlegend": false,
         "type": "mesh3d",
         "x": [
          1.3777876509564166,
          -0.067985045970385,
          0.5718938626093497
         ],
         "y": [
          -0.13925086826455357,
          0.07751694951020073,
          0.39927054310509696
         ],
         "z": [
          -4.552750484795351,
          -5.091143773350528,
          -4.8902316185402315
         ]
        },
        {
         "i": [
          0
         ],
         "j": [
          1
         ],
         "k": [
          2
         ],
         "legendgroup": "opti",
         "name": "Non-Optimal cycle",
         "opacity": 0.5,
         "showlegend": false,
         "type": "mesh3d",
         "x": [
          -0.4519813457193348,
          0.5278699220456626,
          0.0025169867137333018
         ],
         "y": [
          1.6984481629067298,
          1.3417850932441002,
          1.9940671793216906
         ],
         "z": [
          -2.047936425594996,
          -1.6353246580142529,
          -2.9392989971087986
         ]
        },
        {
         "i": [
          0
         ],
         "j": [
          1
         ],
         "k": [
          2
         ],
         "legendgroup": "opti",
         "name": "Non-Optimal cycle",
         "opacity": 0.5,
         "showlegend": false,
         "type": "mesh3d",
         "x": [
          -0.5749288027657355,
          0.7857777065117224,
          0.025550207269889828
         ],
         "y": [
          -1.7181337873166074,
          -1.2796615564307725,
          -1.2206213725102897
         ],
         "z": [
          -3.918909044431429,
          -4.428858863876677,
          -4.596863485992853
         ]
        },
        {
         "i": [
          0
         ],
         "j": [
          1
         ],
         "k": [
          2
         ],
         "legendgroup": "opti",
         "name": "Non-Optimal cycle",
         "opacity": 0.5,
         "showlegend": false,
         "type": "mesh3d",
         "x": [
          -0.276692694367083,
          -0.7198117268327708,
          -1.1170972807902728
         ],
         "y": [
          -1.868495987950347,
          -0.9772883216067014,
          -0.9053291863516476
         ],
         "z": [
          -2.315656130400948,
          -1.3775171909159523,
          -1.5724519356972684
         ]
        },
        {
         "i": [
          0
         ],
         "j": [
          1
         ],
         "k": [
          2
         ],
         "legendgroup": "opti",
         "name": "Non-Optimal cycle",
         "opacity": 0.5,
         "showlegend": false,
         "type": "mesh3d",
         "x": [
          1.7330410892795574,
          0.9313326391467384,
          1.6541292253816107
         ],
         "y": [
          0.8054779465634925,
          0.8268751084247568,
          -0.17744716016586437
         ],
         "z": [
          -2.6631773633094395,
          -1.423706285712594,
          -1.9817294745096616
         ]
        },
        {
         "i": [
          0
         ],
         "j": [
          1
         ],
         "k": [
          2
         ],
         "legendgroup": "opti",
         "name": "Non-Optimal cycle",
         "opacity": 0.5,
         "showlegend": false,
         "type": "mesh3d",
         "x": [
          0.9735511531324905,
          0.2839383912534662,
          0.992486455386081
         ],
         "y": [
          -0.5041787491042742,
          -1.3317723898605132,
          -1.4833456085074883
         ],
         "z": [
          -1.1698713116776536,
          -1.5151734698088253,
          -2.2450128414866706
         ]
        },
        {
         "i": [
          0
         ],
         "j": [
          1
         ],
         "k": [
          2
         ],
         "legendgroup": "opti",
         "name": "Non-Optimal cycle",
         "opacity": 0.5,
         "showlegend": false,
         "type": "mesh3d",
         "x": [
          0.9735511531324905,
          1.6320943743723864,
          0.992486455386081
         ],
         "y": [
          -0.5041787491042742,
          -0.728831053803635,
          -1.4833456085074883
         ],
         "z": [
          -1.1698713116776536,
          -2.1737361925192813,
          -2.2450128414866706
         ]
        },
        {
         "i": [
          0
         ],
         "j": [
          1
         ],
         "k": [
          2
         ],
         "legendgroup": "opti",
         "name": "Non-Optimal cycle",
         "opacity": 0.5,
         "showlegend": false,
         "type": "mesh3d",
         "x": [
          -0.5749288027657355,
          -1.4698954876636652,
          -1.1158212707807034
         ],
         "y": [
          -1.7181337873166074,
          -0.653722943776779,
          -0.963166242499383
         ],
         "z": [
          -3.918909044431429,
          -4.2929738555603745,
          -4.400331008607225
         ]
        },
        {
         "i": [
          0
         ],
         "j": [
          1
         ],
         "k": [
          2
         ],
         "legendgroup": "opti",
         "name": "Non-Optimal cycle",
         "opacity": 0.5,
         "showlegend": false,
         "type": "mesh3d",
         "x": [
          1.3612634595715207,
          0.5718938626093497,
          0.06599489994353995
         ],
         "y": [
          0.7949841766627928,
          0.39927054310509696,
          1.3017780779622958
         ],
         "z": [
          -4.227334756344423,
          -4.8902316185402315,
          -4.495326412169657
         ]
        },
        {
         "i": [
          0
         ],
         "j": [
          1
         ],
         "k": [
          2
         ],
         "legendgroup": "opti",
         "name": "Non-Optimal cycle",
         "opacity": 0.5,
         "showlegend": false,
         "type": "mesh3d",
         "x": [
          0.02810579618190706,
          -0.23401791608013084,
          0.06599489994353995
         ],
         "y": [
          1.9553705995848876,
          1.1378487771444106,
          1.3017780779622958
         ],
         "z": [
          -3.531881024024637,
          -4.64521067451492,
          -4.495326412169657
         ]
        },
        {
         "i": [
          0
         ],
         "j": [
          1
         ],
         "k": [
          2
         ],
         "legendgroup": "opti",
         "name": "Non-Optimal cycle",
         "opacity": 0.5,
         "showlegend": false,
         "type": "mesh3d",
         "x": [
          -0.067985045970385,
          -0.48950262235808173,
          0.025550207269889828
         ],
         "y": [
          0.07751694951020073,
          -0.3186581756695339,
          -1.2206213725102897
         ],
         "z": [
          -5.091143773350528,
          -4.974766610014017,
          -4.596863485992853
         ]
        },
        {
         "i": [
          0
         ],
         "j": [
          1
         ],
         "k": [
          2
         ],
         "legendgroup": "opti",
         "name": "Non-Optimal cycle",
         "opacity": 0.5,
         "showlegend": false,
         "type": "mesh3d",
         "x": [
          -0.276692694367083,
          -0.7198117268327708,
          -0.7914628162275198
         ],
         "y": [
          -1.868495987950347,
          -0.9772883216067014,
          -1.4593409916921396
         ],
         "z": [
          -2.315656130400948,
          -1.3775171909159523,
          -1.8924629711874934
         ]
        },
        {
         "i": [
          0
         ],
         "j": [
          1
         ],
         "k": [
          2
         ],
         "legendgroup": "opti",
         "name": "Non-Optimal cycle",
         "opacity": 0.5,
         "showlegend": false,
         "type": "mesh3d",
         "x": [
          0.9735511531324905,
          0.9313326391467384,
          1.6541292253816107
         ],
         "y": [
          -0.5041787491042742,
          0.8268751084247568,
          -0.17744716016586437
         ],
         "z": [
          -1.1698713116776536,
          -1.423706285712594,
          -1.9817294745096616
         ]
        },
        {
         "i": [
          0
         ],
         "j": [
          1
         ],
         "k": [
          2
         ],
         "legendgroup": "opti",
         "name": "Non-Optimal cycle",
         "opacity": 0.5,
         "showlegend": false,
         "type": "mesh3d",
         "x": [
          0.9735511531324905,
          0.33387231496310743,
          0.9313326391467384
         ],
         "y": [
          -0.5041787491042742,
          -0.14132988552696407,
          0.8268751084247568
         ],
         "z": [
          -1.1698713116776536,
          -0.9858194841039267,
          -1.423706285712594
         ]
        },
        {
         "i": [
          0
         ],
         "j": [
          1
         ],
         "k": [
          2
         ],
         "legendgroup": "opti",
         "name": "Non-Optimal cycle",
         "opacity": 0.5,
         "showlegend": false,
         "type": "mesh3d",
         "x": [
          -1.249974037907788,
          -1.726124292717342,
          -1.0293062544086706
         ],
         "y": [
          -0.3586816847433397,
          0.688105961817672,
          0.1693001021043674
         ],
         "z": [
          -4.420231999984052,
          -3.71858035833136,
          -4.629847152182607
         ]
        },
        {
         "i": [
          0
         ],
         "j": [
          1
         ],
         "k": [
          2
         ],
         "legendgroup": "opti",
         "name": "Non-Optimal cycle",
         "opacity": 0.5,
         "showlegend": false,
         "type": "mesh3d",
         "x": [
          -1.1818678999432266,
          -1.726124292717342,
          -1.0293062544086706
         ],
         "y": [
          1.091451170019377,
          0.688105961817672,
          0.1693001021043674
         ],
         "z": [
          -4.1393812643242756,
          -3.71858035833136,
          -4.629847152182607
         ]
        },
        {
         "i": [
          0
         ],
         "j": [
          1
         ],
         "k": [
          2
         ],
         "legendgroup": "opti",
         "name": "Non-Optimal cycle",
         "opacity": 0.5,
         "showlegend": false,
         "type": "mesh3d",
         "x": [
          0.091053934578192,
          0.7004525998294572,
          0.5278699220456626
         ],
         "y": [
          0.3035129501304215,
          0.45023444752292696,
          1.3417850932441002
         ],
         "z": [
          -1.0744583719032046,
          -1.2306140207453098,
          -1.6353246580142529
         ]
        },
        {
         "i": [
          0
         ],
         "j": [
          1
         ],
         "k": [
          2
         ],
         "legendgroup": "opti",
         "name": "Non-Optimal cycle",
         "opacity": 0.5,
         "showlegend": false,
         "type": "mesh3d",
         "x": [
          0.7984630001581839,
          0.6374409857886782,
          1.4934444449079516
         ],
         "y": [
          -1.767258363456707,
          -1.978452463165785,
          -1.2362081819165895
         ],
         "z": [
          -2.2150919774361517,
          -2.9658850219311237,
          -2.44625814745755
         ]
        },
        {
         "i": [
          0
         ],
         "j": [
          1
         ],
         "k": [
          2
         ],
         "legendgroup": "opti",
         "name": "Non-Optimal cycle",
         "opacity": 0.5,
         "showlegend": false,
         "type": "mesh3d",
         "x": [
          0.9735511531324905,
          1.6320943743723864,
          1.6541292253816107
         ],
         "y": [
          -0.5041787491042742,
          -0.728831053803635,
          -0.17744716016586437
         ],
         "z": [
          -1.1698713116776536,
          -2.1737361925192813,
          -1.9817294745096616
         ]
        },
        {
         "i": [
          0
         ],
         "j": [
          1
         ],
         "k": [
          2
         ],
         "legendgroup": "opti",
         "name": "Non-Optimal cycle",
         "opacity": 0.5,
         "showlegend": false,
         "type": "mesh3d",
         "x": [
          0.33387231496310743,
          0.091053934578192,
          0.9313326391467384
         ],
         "y": [
          -0.14132988552696407,
          0.3035129501304215,
          0.8268751084247568
         ],
         "z": [
          -0.9858194841039267,
          -1.0744583719032046,
          -1.423706285712594
         ]
        },
        {
         "i": [
          0
         ],
         "j": [
          1
         ],
         "k": [
          2
         ],
         "legendgroup": "opti",
         "name": "Non-Optimal cycle",
         "opacity": 0.5,
         "showlegend": false,
         "type": "mesh3d",
         "x": [
          0.9735511531324905,
          0.2839383912534662,
          -0.20529353390905727
         ],
         "y": [
          -0.5041787491042742,
          -1.3317723898605132,
          -0.7224704021926796
         ],
         "z": [
          -1.1698713116776536,
          -1.5151734698088253,
          -1.1467835041254488
         ]
        },
        {
         "i": [
          0
         ],
         "j": [
          1
         ],
         "k": [
          2
         ],
         "legendgroup": "opti",
         "name": "Non-Optimal cycle",
         "opacity": 0.5,
         "showlegend": false,
         "type": "mesh3d",
         "x": [
          0.9735511531324905,
          0.33387231496310743,
          -0.20529353390905727
         ],
         "y": [
          -0.5041787491042742,
          -0.14132988552696407,
          -0.7224704021926796
         ],
         "z": [
          -1.1698713116776536,
          -0.9858194841039267,
          -1.1467835041254488
         ]
        },
        {
         "i": [
          0
         ],
         "j": [
          1
         ],
         "k": [
          2
         ],
         "legendgroup": "opti",
         "name": "Non-Optimal cycle",
         "opacity": 0.5,
         "showlegend": false,
         "type": "mesh3d",
         "x": [
          -0.48950262235808173,
          0.025550207269889828,
          -1.1158212707807034
         ],
         "y": [
          -0.3186581756695339,
          -1.2206213725102897,
          -0.963166242499383
         ],
         "z": [
          -4.974766610014017,
          -4.596863485992853,
          -4.400331008607225
         ]
        },
        {
         "i": [
          0
         ],
         "j": [
          1
         ],
         "k": [
          2
         ],
         "legendgroup": "opti",
         "name": "Non-Optimal cycle",
         "opacity": 0.5,
         "showlegend": false,
         "type": "mesh3d",
         "x": [
          -0.5749288027657355,
          0.025550207269889828,
          -1.1158212707807034
         ],
         "y": [
          -1.7181337873166074,
          -1.2206213725102897,
          -0.963166242499383
         ],
         "z": [
          -3.918909044431429,
          -4.596863485992853,
          -4.400331008607225
         ]
        },
        {
         "i": [
          0
         ],
         "j": [
          1
         ],
         "k": [
          2
         ],
         "legendgroup": "opti",
         "name": "Non-Optimal cycle",
         "opacity": 0.5,
         "showlegend": false,
         "type": "mesh3d",
         "x": [
          -0.7198117268327708,
          -1.1170972807902728,
          -0.5907857116655164
         ],
         "y": [
          -0.9772883216067014,
          -0.9053291863516476,
          -0.0017357943494776852
         ],
         "z": [
          -1.3775171909159523,
          -1.5724519356972684,
          -1.0225772506821031
         ]
        },
        {
         "i": [
          0
         ],
         "j": [
          1
         ],
         "k": [
          2
         ],
         "legendgroup": "opti",
         "name": "Non-Optimal cycle",
         "opacity": 0.5,
         "showlegend": false,
         "type": "mesh3d",
         "x": [
          -1.5274169251558738,
          -1.1170972807902728,
          -0.5907857116655164
         ],
         "y": [
          -0.09834271450726173,
          -0.9053291863516476,
          -0.0017357943494776852
         ],
         "z": [
          -1.7039205242935374,
          -1.5724519356972684,
          -1.0225772506821031
         ]
        },
        {
         "i": [
          0
         ],
         "j": [
          1
         ],
         "k": [
          2
         ],
         "legendgroup": "opti",
         "name": "Non-Optimal cycle",
         "opacity": 0.5,
         "showlegend": false,
         "type": "mesh3d",
         "x": [
          -0.276692694367083,
          -0.46525843550395174,
          0.6374409857886782
         ],
         "y": [
          -1.868495987950347,
          -1.8613633476481592,
          -1.978452463165785
         ],
         "z": [
          -2.315656130400948,
          -2.644665183432333,
          -2.9658850219311237
         ]
        },
        {
         "i": [
          0
         ],
         "j": [
          1
         ],
         "k": [
          2
         ],
         "legendgroup": "opti",
         "name": "Non-Optimal cycle",
         "opacity": 0.5,
         "showlegend": false,
         "type": "mesh3d",
         "x": [
          -0.7198117268327708,
          -0.7914628162275198,
          0.2839383912534662
         ],
         "y": [
          -0.9772883216067014,
          -1.4593409916921396,
          -1.3317723898605132
         ],
         "z": [
          -1.3775171909159523,
          -1.8924629711874934,
          -1.5151734698088253
         ]
        },
        {
         "i": [
          0
         ],
         "j": [
          1
         ],
         "k": [
          2
         ],
         "legendgroup": "opti",
         "name": "Non-Optimal cycle",
         "opacity": 0.5,
         "showlegend": false,
         "type": "mesh3d",
         "x": [
          -0.276692694367083,
          -0.7914628162275198,
          0.2839383912534662
         ],
         "y": [
          -1.868495987950347,
          -1.4593409916921396,
          -1.3317723898605132
         ],
         "z": [
          -2.315656130400948,
          -1.8924629711874934,
          -1.5151734698088253
         ]
        },
        {
         "i": [
          0
         ],
         "j": [
          1
         ],
         "k": [
          2
         ],
         "legendgroup": "opti",
         "name": "Non-Optimal cycle",
         "opacity": 0.5,
         "showlegend": false,
         "type": "mesh3d",
         "x": [
          -0.276692694367083,
          0.7984630001581839,
          0.6374409857886782
         ],
         "y": [
          -1.868495987950347,
          -1.767258363456707,
          -1.978452463165785
         ],
         "z": [
          -2.315656130400948,
          -2.2150919774361517,
          -2.9658850219311237
         ]
        },
        {
         "i": [
          0
         ],
         "j": [
          1
         ],
         "k": [
          2
         ],
         "legendgroup": "opti",
         "name": "Non-Optimal cycle",
         "opacity": 0.5,
         "showlegend": false,
         "type": "mesh3d",
         "x": [
          -0.2573073144405479,
          0.5718938626093497,
          0.06599489994353995
         ],
         "y": [
          0.34276153409432897,
          0.39927054310509696,
          1.3017780779622958
         ],
         "z": [
          -4.968346230694227,
          -4.8902316185402315,
          -4.495326412169657
         ]
        },
        {
         "i": [
          0
         ],
         "j": [
          1
         ],
         "k": [
          2
         ],
         "legendgroup": "opti",
         "name": "Non-Optimal cycle",
         "opacity": 0.5,
         "showlegend": false,
         "type": "mesh3d",
         "x": [
          -0.23401791608013084,
          -0.2573073144405479,
          0.06599489994353995
         ],
         "y": [
          1.1378487771444106,
          0.34276153409432897,
          1.3017780779622958
         ],
         "z": [
          -4.64521067451492,
          -4.968346230694227,
          -4.495326412169657
         ]
        },
        {
         "i": [
          0
         ],
         "j": [
          1
         ],
         "k": [
          2
         ],
         "legendgroup": "opti",
         "name": "Non-Optimal cycle",
         "opacity": 0.5,
         "showlegend": false,
         "type": "mesh3d",
         "x": [
          -0.276692694367083,
          0.7984630001581839,
          0.2839383912534662
         ],
         "y": [
          -1.868495987950347,
          -1.767258363456707,
          -1.3317723898605132
         ],
         "z": [
          -2.315656130400948,
          -2.2150919774361517,
          -1.5151734698088253
         ]
        },
        {
         "i": [
          0
         ],
         "j": [
          1
         ],
         "k": [
          2
         ],
         "legendgroup": "opti",
         "name": "Non-Optimal cycle",
         "opacity": 0.5,
         "showlegend": false,
         "type": "mesh3d",
         "x": [
          1.3777876509564166,
          1.3612634595715207,
          0.5718938626093497
         ],
         "y": [
          -0.13925086826455357,
          0.7949841766627928,
          0.39927054310509696
         ],
         "z": [
          -4.552750484795351,
          -4.227334756344423,
          -4.8902316185402315
         ]
        },
        {
         "i": [
          0
         ],
         "j": [
          1
         ],
         "k": [
          2
         ],
         "legendgroup": "opti",
         "name": "Non-Optimal cycle",
         "opacity": 0.5,
         "showlegend": false,
         "type": "mesh3d",
         "x": [
          -1.1818678999432266,
          -0.23401791608013084,
          -0.5801050348866499
         ],
         "y": [
          1.091451170019377,
          1.1378487771444106,
          0.6390374077864617
         ],
         "z": [
          -4.1393812643242756,
          -4.64521067451492,
          -4.839073036656689
         ]
        },
        {
         "i": [
          0
         ],
         "j": [
          1
         ],
         "k": [
          2
         ],
         "legendgroup": "opti",
         "name": "Non-Optimal cycle",
         "opacity": 0.5,
         "showlegend": false,
         "type": "mesh3d",
         "x": [
          -0.7198117268327708,
          0.2839383912534662,
          -0.20529353390905727
         ],
         "y": [
          -0.9772883216067014,
          -1.3317723898605132,
          -0.7224704021926796
         ],
         "z": [
          -1.3775171909159523,
          -1.5151734698088253,
          -1.1467835041254488
         ]
        },
        {
         "i": [
          0
         ],
         "j": [
          1
         ],
         "k": [
          2
         ],
         "legendgroup": "opti",
         "name": "Non-Optimal cycle",
         "opacity": 0.5,
         "showlegend": false,
         "type": "mesh3d",
         "x": [
          -1.249974037907788,
          -0.48950262235808173,
          -1.1158212707807034
         ],
         "y": [
          -0.3586816847433397,
          -0.3186581756695339,
          -0.963166242499383
         ],
         "z": [
          -4.420231999984052,
          -4.974766610014017,
          -4.400331008607225
         ]
        },
        {
         "i": [
          0
         ],
         "j": [
          1
         ],
         "k": [
          2
         ],
         "legendgroup": "opti",
         "name": "Non-Optimal cycle",
         "opacity": 0.5,
         "showlegend": false,
         "type": "mesh3d",
         "x": [
          -1.1818678999432266,
          -1.0293062544086706,
          -0.5801050348866499
         ],
         "y": [
          1.091451170019377,
          0.1693001021043674,
          0.6390374077864617
         ],
         "z": [
          -4.1393812643242756,
          -4.629847152182607,
          -4.839073036656689
         ]
        },
        {
         "i": [
          0
         ],
         "j": [
          1
         ],
         "k": [
          2
         ],
         "legendgroup": "opti",
         "name": "Non-Optimal cycle",
         "opacity": 0.5,
         "showlegend": false,
         "type": "mesh3d",
         "x": [
          0.091053934578192,
          0.7004525998294572,
          0.9313326391467384
         ],
         "y": [
          0.3035129501304215,
          0.45023444752292696,
          0.8268751084247568
         ],
         "z": [
          -1.0744583719032046,
          -1.2306140207453098,
          -1.423706285712594
         ]
        },
        {
         "i": [
          0
         ],
         "j": [
          1
         ],
         "k": [
          2
         ],
         "legendgroup": "opti",
         "name": "Non-Optimal cycle",
         "opacity": 0.5,
         "showlegend": false,
         "type": "mesh3d",
         "x": [
          -0.7198117268327708,
          -0.5907857116655164,
          -0.20529353390905727
         ],
         "y": [
          -0.9772883216067014,
          -0.0017357943494776852,
          -0.7224704021926796
         ],
         "z": [
          -1.3775171909159523,
          -1.0225772506821031,
          -1.1467835041254488
         ]
        },
        {
         "i": [
          0
         ],
         "j": [
          1
         ],
         "k": [
          2
         ],
         "legendgroup": "opti",
         "name": "Non-Optimal cycle",
         "opacity": 0.5,
         "showlegend": false,
         "type": "mesh3d",
         "x": [
          0.7004525998294572,
          0.921827816575034,
          0.5278699220456626
         ],
         "y": [
          0.45023444752292696,
          0.45565402069794725,
          1.3417850932441002
         ],
         "z": [
          -1.2306140207453098,
          -1.2723625404960142,
          -1.6353246580142529
         ]
        },
        {
         "i": [
          0
         ],
         "j": [
          1
         ],
         "k": [
          2
         ],
         "legendgroup": "opti",
         "name": "Non-Optimal cycle",
         "opacity": 0.5,
         "showlegend": false,
         "type": "mesh3d",
         "x": [
          1.7330410892795574,
          1.847175189041157,
          1.8799150493201464
         ],
         "y": [
          0.8054779465634925,
          0.7517014682053901,
          0.4147035000307109
         ],
         "z": [
          -2.6631773633094395,
          -3.187465593527785,
          -3.6035212351000263
         ]
        },
        {
         "i": [
          0
         ],
         "j": [
          1
         ],
         "k": [
          2
         ],
         "legendgroup": "opti",
         "name": "Non-Optimal cycle",
         "opacity": 0.5,
         "showlegend": false,
         "type": "mesh3d",
         "x": [
          0.7984630001581839,
          0.2839383912534662,
          0.992486455386081
         ],
         "y": [
          -1.767258363456707,
          -1.3317723898605132,
          -1.4833456085074883
         ],
         "z": [
          -2.2150919774361517,
          -1.5151734698088253,
          -2.2450128414866706
         ]
        },
        {
         "i": [
          0
         ],
         "j": [
          1
         ],
         "k": [
          2
         ],
         "legendgroup": "opti",
         "name": "Non-Optimal cycle",
         "opacity": 0.5,
         "showlegend": false,
         "type": "mesh3d",
         "x": [
          1.6320943743723864,
          1.4934444449079516,
          0.992486455386081
         ],
         "y": [
          -0.728831053803635,
          -1.2362081819165895,
          -1.4833456085074883
         ],
         "z": [
          -2.1737361925192813,
          -2.44625814745755,
          -2.2450128414866706
         ]
        },
        {
         "i": [
          0
         ],
         "j": [
          1
         ],
         "k": [
          2
         ],
         "legendgroup": "opti",
         "name": "Non-Optimal cycle",
         "opacity": 0.5,
         "showlegend": false,
         "type": "mesh3d",
         "x": [
          1.618112135878201,
          1.3777876509564166,
          1.3612634595715207
         ],
         "y": [
          0.3597136279748002,
          -0.13925086826455357,
          0.7949841766627928
         ],
         "z": [
          -3.976227760896973,
          -4.552750484795351,
          -4.227334756344423
         ]
        },
        {
         "i": [
          0
         ],
         "j": [
          1
         ],
         "k": [
          2
         ],
         "legendgroup": "opti",
         "name": "Non-Optimal cycle",
         "opacity": 0.5,
         "showlegend": false,
         "type": "mesh3d",
         "x": [
          -1.249974037907788,
          -0.48950262235808173,
          -0.7027719005322292
         ],
         "y": [
          -0.3586816847433397,
          -0.3186581756695339,
          -0.5223773980242754
         ],
         "z": [
          -4.420231999984052,
          -4.974766610014017,
          -4.8090539032060695
         ]
        },
        {
         "i": [
          0
         ],
         "j": [
          1
         ],
         "k": [
          2
         ],
         "legendgroup": "opti",
         "name": "Non-Optimal cycle",
         "opacity": 0.5,
         "showlegend": false,
         "type": "mesh3d",
         "x": [
          0.7984630001581839,
          1.4934444449079516,
          1.1526599178993406
         ],
         "y": [
          -1.767258363456707,
          -1.2362081819165895,
          -1.6124871635418012
         ],
         "z": [
          -2.2150919774361517,
          -2.44625814745755,
          -2.7345238974034647
         ]
        },
        {
         "i": [
          0
         ],
         "j": [
          1
         ],
         "k": [
          2
         ],
         "legendgroup": "opti",
         "name": "Non-Optimal cycle",
         "opacity": 0.5,
         "showlegend": false,
         "type": "mesh3d",
         "x": [
          1.7330410892795574,
          1.847175189041157,
          1.614923263661248
         ],
         "y": [
          0.8054779465634925,
          0.7517014682053901,
          1.0681981614918616
         ],
         "z": [
          -2.6631773633094395,
          -3.187465593527785,
          -3.482139085831931
         ]
        },
        {
         "i": [
          0
         ],
         "j": [
          1
         ],
         "k": [
          2
         ],
         "legendgroup": "opti",
         "name": "Non-Optimal cycle",
         "opacity": 0.5,
         "showlegend": false,
         "type": "mesh3d",
         "x": [
          1.618112135878201,
          1.8799150493201464,
          1.614923263661248
         ],
         "y": [
          0.3597136279748002,
          0.4147035000307109,
          1.0681981614918616
         ],
         "z": [
          -3.976227760896973,
          -3.6035212351000263,
          -3.482139085831931
         ]
        },
        {
         "i": [
          0
         ],
         "j": [
          1
         ],
         "k": [
          2
         ],
         "legendgroup": "opti",
         "name": "Non-Optimal cycle",
         "opacity": 0.5,
         "showlegend": false,
         "type": "mesh3d",
         "x": [
          1.618112135878201,
          1.3612634595715207,
          1.614923263661248
         ],
         "y": [
          0.3597136279748002,
          0.7949841766627928,
          1.0681981614918616
         ],
         "z": [
          -3.976227760896973,
          -4.227334756344423,
          -3.482139085831931
         ]
        },
        {
         "i": [
          0
         ],
         "j": [
          1
         ],
         "k": [
          2
         ],
         "legendgroup": "opti",
         "name": "Non-Optimal cycle",
         "opacity": 0.5,
         "showlegend": false,
         "type": "mesh3d",
         "x": [
          -0.2573073144405479,
          -1.0293062544086706,
          -0.5801050348866499
         ],
         "y": [
          0.34276153409432897,
          0.1693001021043674,
          0.6390374077864617
         ],
         "z": [
          -4.968346230694227,
          -4.629847152182607,
          -4.839073036656689
         ]
        },
        {
         "i": [
          0
         ],
         "j": [
          1
         ],
         "k": [
          2
         ],
         "legendgroup": "opti",
         "name": "Non-Optimal cycle",
         "opacity": 0.5,
         "showlegend": false,
         "type": "mesh3d",
         "x": [
          -0.48950262235808173,
          -0.2573073144405479,
          -1.0293062544086706
         ],
         "y": [
          -0.3186581756695339,
          0.34276153409432897,
          0.1693001021043674
         ],
         "z": [
          -4.974766610014017,
          -4.968346230694227,
          -4.629847152182607
         ]
        },
        {
         "i": [
          0
         ],
         "j": [
          1
         ],
         "k": [
          2
         ],
         "legendgroup": "opti",
         "name": "Non-Optimal cycle",
         "opacity": 0.5,
         "showlegend": false,
         "type": "mesh3d",
         "x": [
          -0.23401791608013084,
          -0.2573073144405479,
          -0.5801050348866499
         ],
         "y": [
          1.1378487771444106,
          0.34276153409432897,
          0.6390374077864617
         ],
         "z": [
          -4.64521067451492,
          -4.968346230694227,
          -4.839073036656689
         ]
        },
        {
         "i": [
          0
         ],
         "j": [
          1
         ],
         "k": [
          2
         ],
         "legendgroup": "opti",
         "name": "Non-Optimal cycle",
         "opacity": 0.5,
         "showlegend": false,
         "type": "mesh3d",
         "x": [
          -0.067985045970385,
          -0.2573073144405479,
          0.5718938626093497
         ],
         "y": [
          0.07751694951020073,
          0.34276153409432897,
          0.39927054310509696
         ],
         "z": [
          -5.091143773350528,
          -4.968346230694227,
          -4.8902316185402315
         ]
        },
        {
         "i": [
          0
         ],
         "j": [
          1
         ],
         "k": [
          2
         ],
         "legendgroup": "opti",
         "name": "Non-Optimal cycle",
         "opacity": 0.5,
         "showlegend": false,
         "type": "mesh3d",
         "x": [
          -0.5907857116655164,
          -0.14355848546193928,
          -0.20529353390905727
         ],
         "y": [
          -0.0017357943494776852,
          0.012558869163499941,
          -0.7224704021926796
         ],
         "z": [
          -1.0225772506821031,
          -0.9580805036439568,
          -1.1467835041254488
         ]
        },
        {
         "i": [
          0
         ],
         "j": [
          1
         ],
         "k": [
          2
         ],
         "legendgroup": "opti",
         "name": "Non-Optimal cycle",
         "opacity": 0.5,
         "showlegend": false,
         "type": "mesh3d",
         "x": [
          0.33387231496310743,
          -0.14355848546193928,
          -0.20529353390905727
         ],
         "y": [
          -0.14132988552696407,
          0.012558869163499941,
          -0.7224704021926796
         ],
         "z": [
          -0.9858194841039267,
          -0.9580805036439568,
          -1.1467835041254488
         ]
        },
        {
         "i": [
          0
         ],
         "j": [
          1
         ],
         "k": [
          2
         ],
         "legendgroup": "opti",
         "name": "Non-Optimal cycle",
         "opacity": 0.5,
         "showlegend": false,
         "type": "mesh3d",
         "x": [
          -0.48950262235808173,
          -0.7027719005322292,
          -1.0293062544086706
         ],
         "y": [
          -0.3186581756695339,
          -0.5223773980242754,
          0.1693001021043674
         ],
         "z": [
          -4.974766610014017,
          -4.8090539032060695,
          -4.629847152182607
         ]
        },
        {
         "i": [
          0
         ],
         "j": [
          1
         ],
         "k": [
          2
         ],
         "legendgroup": "opti",
         "name": "Non-Optimal cycle",
         "opacity": 0.5,
         "showlegend": false,
         "type": "mesh3d",
         "x": [
          -1.249974037907788,
          -0.7027719005322292,
          -1.0293062544086706
         ],
         "y": [
          -0.3586816847433397,
          -0.5223773980242754,
          0.1693001021043674
         ],
         "z": [
          -4.420231999984052,
          -4.8090539032060695,
          -4.629847152182607
         ]
        },
        {
         "i": [
          0
         ],
         "j": [
          1
         ],
         "k": [
          2
         ],
         "legendgroup": "opti",
         "name": "Non-Optimal cycle",
         "opacity": 0.5,
         "showlegend": false,
         "type": "mesh3d",
         "x": [
          0.091053934578192,
          -0.5907857116655164,
          -0.14355848546193928
         ],
         "y": [
          0.3035129501304215,
          -0.0017357943494776852,
          0.012558869163499941
         ],
         "z": [
          -1.0744583719032046,
          -1.0225772506821031,
          -0.9580805036439568
         ]
        },
        {
         "i": [
          0
         ],
         "j": [
          1
         ],
         "k": [
          2
         ],
         "legendgroup": "opti",
         "name": "Non-Optimal cycle",
         "opacity": 0.5,
         "showlegend": false,
         "type": "mesh3d",
         "x": [
          1.847175189041157,
          1.8799150493201464,
          1.614923263661248
         ],
         "y": [
          0.7517014682053901,
          0.4147035000307109,
          1.0681981614918616
         ],
         "z": [
          -3.187465593527785,
          -3.6035212351000263,
          -3.482139085831931
         ]
        },
        {
         "i": [
          0
         ],
         "j": [
          1
         ],
         "k": [
          2
         ],
         "legendgroup": "opti",
         "name": "Non-Optimal cycle",
         "opacity": 0.5,
         "showlegend": false,
         "type": "mesh3d",
         "x": [
          -0.067985045970385,
          -0.48950262235808173,
          -0.2573073144405479
         ],
         "y": [
          0.07751694951020073,
          -0.3186581756695339,
          0.34276153409432897
         ],
         "z": [
          -5.091143773350528,
          -4.974766610014017,
          -4.968346230694227
         ]
        },
        {
         "i": [
          0
         ],
         "j": [
          1
         ],
         "k": [
          2
         ],
         "legendgroup": "opti",
         "name": "Non-Optimal cycle",
         "opacity": 0.5,
         "showlegend": false,
         "type": "mesh3d",
         "x": [
          0.7984630001581839,
          1.1526599178993406,
          0.992486455386081
         ],
         "y": [
          -1.767258363456707,
          -1.6124871635418012,
          -1.4833456085074883
         ],
         "z": [
          -2.2150919774361517,
          -2.7345238974034647,
          -2.2450128414866706
         ]
        },
        {
         "i": [
          0
         ],
         "j": [
          1
         ],
         "k": [
          2
         ],
         "legendgroup": "opti",
         "name": "Non-Optimal cycle",
         "opacity": 0.5,
         "showlegend": false,
         "type": "mesh3d",
         "x": [
          -1.249974037907788,
          -1.4698954876636652,
          -1.1158212707807034
         ],
         "y": [
          -0.3586816847433397,
          -0.653722943776779,
          -0.963166242499383
         ],
         "z": [
          -4.420231999984052,
          -4.2929738555603745,
          -4.400331008607225
         ]
        },
        {
         "i": [
          0
         ],
         "j": [
          1
         ],
         "k": [
          2
         ],
         "legendgroup": "opti",
         "name": "Non-Optimal cycle",
         "opacity": 0.5,
         "showlegend": false,
         "type": "mesh3d",
         "x": [
          1.4934444449079516,
          1.1526599178993406,
          0.992486455386081
         ],
         "y": [
          -1.2362081819165895,
          -1.6124871635418012,
          -1.4833456085074883
         ],
         "z": [
          -2.44625814745755,
          -2.7345238974034647,
          -2.2450128414866706
         ]
        },
        {
         "i": [
          0
         ],
         "j": [
          1
         ],
         "k": [
          2
         ],
         "legendgroup": "opti",
         "name": "Non-Optimal cycle",
         "opacity": 0.5,
         "showlegend": false,
         "type": "mesh3d",
         "x": [
          0.33387231496310743,
          0.091053934578192,
          0.30224127660263383
         ],
         "y": [
          -0.14132988552696407,
          0.3035129501304215,
          0.07686332243632069
         ],
         "z": [
          -0.9858194841039267,
          -1.0744583719032046,
          -1.0225105071804235
         ]
        },
        {
         "i": [
          0
         ],
         "j": [
          1
         ],
         "k": [
          2
         ],
         "legendgroup": "opti",
         "name": "Non-Optimal cycle",
         "opacity": 0.5,
         "showlegend": false,
         "type": "mesh3d",
         "x": [
          0.33387231496310743,
          0.30224127660263383,
          -0.14355848546193928
         ],
         "y": [
          -0.14132988552696407,
          0.07686332243632069,
          0.012558869163499941
         ],
         "z": [
          -0.9858194841039267,
          -1.0225105071804235,
          -0.9580805036439568
         ]
        },
        {
         "i": [
          0
         ],
         "j": [
          1
         ],
         "k": [
          2
         ],
         "legendgroup": "opti",
         "name": "Non-Optimal cycle",
         "opacity": 0.5,
         "showlegend": false,
         "type": "mesh3d",
         "x": [
          0.7004525998294572,
          0.921827816575034,
          0.9313326391467384
         ],
         "y": [
          0.45023444752292696,
          0.45565402069794725,
          0.8268751084247568
         ],
         "z": [
          -1.2306140207453098,
          -1.2723625404960142,
          -1.423706285712594
         ]
        },
        {
         "i": [
          0
         ],
         "j": [
          1
         ],
         "k": [
          2
         ],
         "legendgroup": "opti",
         "name": "Non-Optimal cycle",
         "opacity": 0.5,
         "showlegend": false,
         "type": "mesh3d",
         "x": [
          0.091053934578192,
          0.30224127660263383,
          -0.14355848546193928
         ],
         "y": [
          0.3035129501304215,
          0.07686332243632069,
          0.012558869163499941
         ],
         "z": [
          -1.0744583719032046,
          -1.0225105071804235,
          -0.9580805036439568
         ]
        }
       ],
       "layout": {
        "height": 500,
        "margin": {
         "b": 20,
         "l": 20,
         "r": 20,
         "t": 20
        },
        "template": {
         "data": {
          "bar": [
           {
            "error_x": {
             "color": "#2a3f5f"
            },
            "error_y": {
             "color": "#2a3f5f"
            },
            "marker": {
             "line": {
              "color": "#E5ECF6",
              "width": 0.5
             },
             "pattern": {
              "fillmode": "overlay",
              "size": 10,
              "solidity": 0.2
             }
            },
            "type": "bar"
           }
          ],
          "barpolar": [
           {
            "marker": {
             "line": {
              "color": "#E5ECF6",
              "width": 0.5
             },
             "pattern": {
              "fillmode": "overlay",
              "size": 10,
              "solidity": 0.2
             }
            },
            "type": "barpolar"
           }
          ],
          "carpet": [
           {
            "aaxis": {
             "endlinecolor": "#2a3f5f",
             "gridcolor": "white",
             "linecolor": "white",
             "minorgridcolor": "white",
             "startlinecolor": "#2a3f5f"
            },
            "baxis": {
             "endlinecolor": "#2a3f5f",
             "gridcolor": "white",
             "linecolor": "white",
             "minorgridcolor": "white",
             "startlinecolor": "#2a3f5f"
            },
            "type": "carpet"
           }
          ],
          "choropleth": [
           {
            "colorbar": {
             "outlinewidth": 0,
             "ticks": ""
            },
            "type": "choropleth"
           }
          ],
          "contour": [
           {
            "colorbar": {
             "outlinewidth": 0,
             "ticks": ""
            },
            "colorscale": [
             [
              0,
              "#0d0887"
             ],
             [
              0.1111111111111111,
              "#46039f"
             ],
             [
              0.2222222222222222,
              "#7201a8"
             ],
             [
              0.3333333333333333,
              "#9c179e"
             ],
             [
              0.4444444444444444,
              "#bd3786"
             ],
             [
              0.5555555555555556,
              "#d8576b"
             ],
             [
              0.6666666666666666,
              "#ed7953"
             ],
             [
              0.7777777777777778,
              "#fb9f3a"
             ],
             [
              0.8888888888888888,
              "#fdca26"
             ],
             [
              1,
              "#f0f921"
             ]
            ],
            "type": "contour"
           }
          ],
          "contourcarpet": [
           {
            "colorbar": {
             "outlinewidth": 0,
             "ticks": ""
            },
            "type": "contourcarpet"
           }
          ],
          "heatmap": [
           {
            "colorbar": {
             "outlinewidth": 0,
             "ticks": ""
            },
            "colorscale": [
             [
              0,
              "#0d0887"
             ],
             [
              0.1111111111111111,
              "#46039f"
             ],
             [
              0.2222222222222222,
              "#7201a8"
             ],
             [
              0.3333333333333333,
              "#9c179e"
             ],
             [
              0.4444444444444444,
              "#bd3786"
             ],
             [
              0.5555555555555556,
              "#d8576b"
             ],
             [
              0.6666666666666666,
              "#ed7953"
             ],
             [
              0.7777777777777778,
              "#fb9f3a"
             ],
             [
              0.8888888888888888,
              "#fdca26"
             ],
             [
              1,
              "#f0f921"
             ]
            ],
            "type": "heatmap"
           }
          ],
          "heatmapgl": [
           {
            "colorbar": {
             "outlinewidth": 0,
             "ticks": ""
            },
            "colorscale": [
             [
              0,
              "#0d0887"
             ],
             [
              0.1111111111111111,
              "#46039f"
             ],
             [
              0.2222222222222222,
              "#7201a8"
             ],
             [
              0.3333333333333333,
              "#9c179e"
             ],
             [
              0.4444444444444444,
              "#bd3786"
             ],
             [
              0.5555555555555556,
              "#d8576b"
             ],
             [
              0.6666666666666666,
              "#ed7953"
             ],
             [
              0.7777777777777778,
              "#fb9f3a"
             ],
             [
              0.8888888888888888,
              "#fdca26"
             ],
             [
              1,
              "#f0f921"
             ]
            ],
            "type": "heatmapgl"
           }
          ],
          "histogram": [
           {
            "marker": {
             "pattern": {
              "fillmode": "overlay",
              "size": 10,
              "solidity": 0.2
             }
            },
            "type": "histogram"
           }
          ],
          "histogram2d": [
           {
            "colorbar": {
             "outlinewidth": 0,
             "ticks": ""
            },
            "colorscale": [
             [
              0,
              "#0d0887"
             ],
             [
              0.1111111111111111,
              "#46039f"
             ],
             [
              0.2222222222222222,
              "#7201a8"
             ],
             [
              0.3333333333333333,
              "#9c179e"
             ],
             [
              0.4444444444444444,
              "#bd3786"
             ],
             [
              0.5555555555555556,
              "#d8576b"
             ],
             [
              0.6666666666666666,
              "#ed7953"
             ],
             [
              0.7777777777777778,
              "#fb9f3a"
             ],
             [
              0.8888888888888888,
              "#fdca26"
             ],
             [
              1,
              "#f0f921"
             ]
            ],
            "type": "histogram2d"
           }
          ],
          "histogram2dcontour": [
           {
            "colorbar": {
             "outlinewidth": 0,
             "ticks": ""
            },
            "colorscale": [
             [
              0,
              "#0d0887"
             ],
             [
              0.1111111111111111,
              "#46039f"
             ],
             [
              0.2222222222222222,
              "#7201a8"
             ],
             [
              0.3333333333333333,
              "#9c179e"
             ],
             [
              0.4444444444444444,
              "#bd3786"
             ],
             [
              0.5555555555555556,
              "#d8576b"
             ],
             [
              0.6666666666666666,
              "#ed7953"
             ],
             [
              0.7777777777777778,
              "#fb9f3a"
             ],
             [
              0.8888888888888888,
              "#fdca26"
             ],
             [
              1,
              "#f0f921"
             ]
            ],
            "type": "histogram2dcontour"
           }
          ],
          "mesh3d": [
           {
            "colorbar": {
             "outlinewidth": 0,
             "ticks": ""
            },
            "type": "mesh3d"
           }
          ],
          "parcoords": [
           {
            "line": {
             "colorbar": {
              "outlinewidth": 0,
              "ticks": ""
             }
            },
            "type": "parcoords"
           }
          ],
          "pie": [
           {
            "automargin": true,
            "type": "pie"
           }
          ],
          "scatter": [
           {
            "fillpattern": {
             "fillmode": "overlay",
             "size": 10,
             "solidity": 0.2
            },
            "type": "scatter"
           }
          ],
          "scatter3d": [
           {
            "line": {
             "colorbar": {
              "outlinewidth": 0,
              "ticks": ""
             }
            },
            "marker": {
             "colorbar": {
              "outlinewidth": 0,
              "ticks": ""
             }
            },
            "type": "scatter3d"
           }
          ],
          "scattercarpet": [
           {
            "marker": {
             "colorbar": {
              "outlinewidth": 0,
              "ticks": ""
             }
            },
            "type": "scattercarpet"
           }
          ],
          "scattergeo": [
           {
            "marker": {
             "colorbar": {
              "outlinewidth": 0,
              "ticks": ""
             }
            },
            "type": "scattergeo"
           }
          ],
          "scattergl": [
           {
            "marker": {
             "colorbar": {
              "outlinewidth": 0,
              "ticks": ""
             }
            },
            "type": "scattergl"
           }
          ],
          "scattermapbox": [
           {
            "marker": {
             "colorbar": {
              "outlinewidth": 0,
              "ticks": ""
             }
            },
            "type": "scattermapbox"
           }
          ],
          "scatterpolar": [
           {
            "marker": {
             "colorbar": {
              "outlinewidth": 0,
              "ticks": ""
             }
            },
            "type": "scatterpolar"
           }
          ],
          "scatterpolargl": [
           {
            "marker": {
             "colorbar": {
              "outlinewidth": 0,
              "ticks": ""
             }
            },
            "type": "scatterpolargl"
           }
          ],
          "scatterternary": [
           {
            "marker": {
             "colorbar": {
              "outlinewidth": 0,
              "ticks": ""
             }
            },
            "type": "scatterternary"
           }
          ],
          "surface": [
           {
            "colorbar": {
             "outlinewidth": 0,
             "ticks": ""
            },
            "colorscale": [
             [
              0,
              "#0d0887"
             ],
             [
              0.1111111111111111,
              "#46039f"
             ],
             [
              0.2222222222222222,
              "#7201a8"
             ],
             [
              0.3333333333333333,
              "#9c179e"
             ],
             [
              0.4444444444444444,
              "#bd3786"
             ],
             [
              0.5555555555555556,
              "#d8576b"
             ],
             [
              0.6666666666666666,
              "#ed7953"
             ],
             [
              0.7777777777777778,
              "#fb9f3a"
             ],
             [
              0.8888888888888888,
              "#fdca26"
             ],
             [
              1,
              "#f0f921"
             ]
            ],
            "type": "surface"
           }
          ],
          "table": [
           {
            "cells": {
             "fill": {
              "color": "#EBF0F8"
             },
             "line": {
              "color": "white"
             }
            },
            "header": {
             "fill": {
              "color": "#C8D4E3"
             },
             "line": {
              "color": "white"
             }
            },
            "type": "table"
           }
          ]
         },
         "layout": {
          "annotationdefaults": {
           "arrowcolor": "#2a3f5f",
           "arrowhead": 0,
           "arrowwidth": 1
          },
          "autotypenumbers": "strict",
          "coloraxis": {
           "colorbar": {
            "outlinewidth": 0,
            "ticks": ""
           }
          },
          "colorscale": {
           "diverging": [
            [
             0,
             "#8e0152"
            ],
            [
             0.1,
             "#c51b7d"
            ],
            [
             0.2,
             "#de77ae"
            ],
            [
             0.3,
             "#f1b6da"
            ],
            [
             0.4,
             "#fde0ef"
            ],
            [
             0.5,
             "#f7f7f7"
            ],
            [
             0.6,
             "#e6f5d0"
            ],
            [
             0.7,
             "#b8e186"
            ],
            [
             0.8,
             "#7fbc41"
            ],
            [
             0.9,
             "#4d9221"
            ],
            [
             1,
             "#276419"
            ]
           ],
           "sequential": [
            [
             0,
             "#0d0887"
            ],
            [
             0.1111111111111111,
             "#46039f"
            ],
            [
             0.2222222222222222,
             "#7201a8"
            ],
            [
             0.3333333333333333,
             "#9c179e"
            ],
            [
             0.4444444444444444,
             "#bd3786"
            ],
            [
             0.5555555555555556,
             "#d8576b"
            ],
            [
             0.6666666666666666,
             "#ed7953"
            ],
            [
             0.7777777777777778,
             "#fb9f3a"
            ],
            [
             0.8888888888888888,
             "#fdca26"
            ],
            [
             1,
             "#f0f921"
            ]
           ],
           "sequentialminus": [
            [
             0,
             "#0d0887"
            ],
            [
             0.1111111111111111,
             "#46039f"
            ],
            [
             0.2222222222222222,
             "#7201a8"
            ],
            [
             0.3333333333333333,
             "#9c179e"
            ],
            [
             0.4444444444444444,
             "#bd3786"
            ],
            [
             0.5555555555555556,
             "#d8576b"
            ],
            [
             0.6666666666666666,
             "#ed7953"
            ],
            [
             0.7777777777777778,
             "#fb9f3a"
            ],
            [
             0.8888888888888888,
             "#fdca26"
            ],
            [
             1,
             "#f0f921"
            ]
           ]
          },
          "colorway": [
           "#636efa",
           "#EF553B",
           "#00cc96",
           "#ab63fa",
           "#FFA15A",
           "#19d3f3",
           "#FF6692",
           "#B6E880",
           "#FF97FF",
           "#FECB52"
          ],
          "font": {
           "color": "#2a3f5f"
          },
          "geo": {
           "bgcolor": "white",
           "lakecolor": "white",
           "landcolor": "#E5ECF6",
           "showlakes": true,
           "showland": true,
           "subunitcolor": "white"
          },
          "hoverlabel": {
           "align": "left"
          },
          "hovermode": "closest",
          "mapbox": {
           "style": "light"
          },
          "paper_bgcolor": "white",
          "plot_bgcolor": "#E5ECF6",
          "polar": {
           "angularaxis": {
            "gridcolor": "white",
            "linecolor": "white",
            "ticks": ""
           },
           "bgcolor": "#E5ECF6",
           "radialaxis": {
            "gridcolor": "white",
            "linecolor": "white",
            "ticks": ""
           }
          },
          "scene": {
           "xaxis": {
            "backgroundcolor": "#E5ECF6",
            "gridcolor": "white",
            "gridwidth": 2,
            "linecolor": "white",
            "showbackground": true,
            "ticks": "",
            "zerolinecolor": "white"
           },
           "yaxis": {
            "backgroundcolor": "#E5ECF6",
            "gridcolor": "white",
            "gridwidth": 2,
            "linecolor": "white",
            "showbackground": true,
            "ticks": "",
            "zerolinecolor": "white"
           },
           "zaxis": {
            "backgroundcolor": "#E5ECF6",
            "gridcolor": "white",
            "gridwidth": 2,
            "linecolor": "white",
            "showbackground": true,
            "ticks": "",
            "zerolinecolor": "white"
           }
          },
          "shapedefaults": {
           "line": {
            "color": "#2a3f5f"
           }
          },
          "ternary": {
           "aaxis": {
            "gridcolor": "white",
            "linecolor": "white",
            "ticks": ""
           },
           "baxis": {
            "gridcolor": "white",
            "linecolor": "white",
            "ticks": ""
           },
           "bgcolor": "#E5ECF6",
           "caxis": {
            "gridcolor": "white",
            "linecolor": "white",
            "ticks": ""
           }
          },
          "title": {
           "x": 0.05
          },
          "xaxis": {
           "automargin": true,
           "gridcolor": "white",
           "linecolor": "white",
           "ticks": "",
           "title": {
            "standoff": 15
           },
           "zerolinecolor": "white",
           "zerolinewidth": 2
          },
          "yaxis": {
           "automargin": true,
           "gridcolor": "white",
           "linecolor": "white",
           "ticks": "",
           "title": {
            "standoff": 15
           },
           "zerolinecolor": "white",
           "zerolinewidth": 2
          }
         }
        },
        "width": 400
       }
      }
     },
     "metadata": {},
     "output_type": "display_data"
    }
   ],
   "source": [
    "## Largest Representative 3D Hole (Not Optimized)\n",
    "# cycle to optimize\n",
    "i = homology[homology['dimension'] == 2].sort_values('cycle nnz').index[-1] # largest 2d cycle (3d void)\n",
    "\n",
    "# get the cycle\n",
    "nonoptimal_faces = homology.loc[i, 'cycle representative']['simplex'].tolist()\n",
    "\n",
    "# plotting\n",
    "trace_dta = go.Scatter3d( # data plot\n",
    "        x=dta[:, 0],\n",
    "        y=dta[:, 1],\n",
    "        z=dta[:, 2],\n",
    "        mode='markers',\n",
    "        showlegend=True,\n",
    "        name='Data',\n",
    "        opacity=0.5\n",
    "    )\n",
    "traces_nonoptimal = [oat.plot.triangle__trace3d(triangle=tri, coo=dta) for tri in nonoptimal_faces] # optimal cycle plot\n",
    "for n, trace in enumerate(traces_nonoptimal): # plot optimal cycle\n",
    "    trace.update(\n",
    "            showlegend=(n==0),\n",
    "            legendgroup='opti',\n",
    "            opacity=0.5,\n",
    "            name='Non-Optimal cycle'\n",
    "        )\n",
    "fig = go.Figure(data=[trace_dta]+traces_nonoptimal)\n",
    "fig.update_layout(\n",
    "        width=400, \n",
    "        height=500,\n",
    "        margin=dict(l=20, r=20, t=20, b=20)\n",
    "    )\n",
    "fig.show()"
   ]
  },
  {
   "cell_type": "code",
   "execution_count": 10,
   "metadata": {},
   "outputs": [
    {
     "name": "stdout",
     "output_type": "stream",
     "text": [
      "\n",
      "Finished construcing L1 optimization program.\n",
      "Constraint matrix has 50878 nonzero entries.\n",
      "Passing program to solver.\n",
      "\n",
      "Done solving.\n",
      "MINILP solution: Solution { direction: Minimize, num_vars: 15034, num_constraints: 16566, objective: 70.8639326137705 }\n",
      "Optimization took 32.24985074996948 secs\n"
     ]
    }
   ],
   "source": [
    "## Largest Representative 3D Hole (Optimized)\n",
    "# cycle to optimize\n",
    "i = homology[homology['dimension'] == 2].sort_values('cycle nnz').index[-1] # largest 2d cycle (3d void)\n",
    "\n",
    "# optimization problem\n",
    "start = time.time()\n",
    "optimal = factored.optimize_cycle(\n",
    "        birth_simplex=homology['birth simplex'][i], \n",
    "        problem_type='preserve PH basis'\n",
    "    )\n",
    "print(f'Optimization took {time.time() - start} secs') # the notebook doesn't tell me how long it takes and I want to know\n",
    "optimal_faces = optimal['chain']['optimal cycle']['simplex'].tolist() # bounding box of optimal cycle\n",
    "\n",
    "# # plotting\n",
    "# trace_dta = go.Scatter3d( # data plot\n",
    "#         x=dta[:, 0],\n",
    "#         y=dta[:, 1],\n",
    "#         z=dta[:, 2],\n",
    "#         mode='markers',\n",
    "#         showlegend=True,\n",
    "#         name='Data',\n",
    "#         opacity=0.5\n",
    "#     )\n",
    "# traces_optimal = [oat.plot.triangle__trace3d(triangle=tri, coo=dta) for tri in optimal_faces] # optimal cycle plot\n",
    "# for n, trace in enumerate(traces_optimal): # plot optimal cycle\n",
    "#     trace.update(\n",
    "#             showlegend=(n==0),\n",
    "#             legendgroup='opti',\n",
    "#             opacity=0.5,\n",
    "#             name='Optimal cycle'\n",
    "#         )\n",
    "# fig = go.Figure(data=[trace_dta]+traces_optimal)\n",
    "# fig.update_layout(\n",
    "#         width=400, \n",
    "#         height=500,\n",
    "#         margin=dict(l=20, r=20, t=20, b=20)\n",
    "#     )\n",
    "# fig.show()"
   ]
  },
  {
   "cell_type": "code",
   "execution_count": 11,
   "metadata": {},
   "outputs": [
    {
     "name": "stdout",
     "output_type": "stream",
     "text": [
      "Removing 2992/3028 simplicies from the cycle, 36 simplicies left\n"
     ]
    },
    {
     "data": {
      "application/vnd.plotly.v1+json": {
       "config": {
        "plotlyServerURL": "https://plot.ly"
       },
       "data": [
        {
         "mode": "markers",
         "name": "Data",
         "opacity": 0.5,
         "showlegend": true,
         "type": "scatter3d",
         "x": [
          0.24099609440026062,
          0.9459052428491446,
          -1.2427045372250942,
          -0.051433884491928344,
          1.9179147019474416,
          0.0754626231401496,
          0.27381987748991166,
          0.2510943827771924,
          -0.6543556064212848,
          1.3900071023527665,
          -0.21097111053364545,
          -1.3265316306145045,
          -1.9975758492810571,
          1.428568242818934,
          0.3820626767257851,
          0.8653877369989628,
          0.050284467166277394,
          0.30281210229156447,
          1.7319507989908225,
          -0.42613233208472867,
          -0.38145899499988223,
          1.1755128883777133,
          -1.4023996712301636,
          0.28939832272322746,
          0.8044254643756292,
          -0.2849236394818316,
          -1.3671731797173003,
          -0.7478125174610569,
          0.15686007340957897,
          -1.4301347061514855,
          0.038120431923179945,
          0.2841074831430881,
          0.6081727314115856,
          -0.6611496622885924,
          -0.16802735966394808,
          0.314816552902814,
          -1.267561305073793,
          0.32158348836488515,
          0.3781032990515907,
          1.3922760595743457,
          1.7918764466752988,
          -0.41115390446729533,
          0.17363260716907167,
          1.0112948663369463,
          0.6726181657977889,
          0.0752765168142189,
          -0.0003143404862772023,
          -1.3220352347871873,
          -0.7553679388430606,
          0.22296383036584522,
          -1.3804651799529948,
          1.0241862428159756,
          0.7730788287989033,
          -0.7747460622295846,
          -1.175819160789283,
          1.846831097242284,
          -2.0009077138690374,
          -1.2116814739390598,
          -0.9116729555413463,
          -0.0769326800570269,
          0.9176555584372866,
          1.385766410760012,
          -1.7667019399941535,
          1.308766089156314,
          0.5611589264039794,
          0.02810579618190706,
          1.618112135878201,
          -0.276692694367083,
          -1.1818678999432266,
          0.9735511531324905,
          -1.5321167248268441,
          1.7330410892795574,
          -1.249974037907788,
          -1.5274169251558738,
          1.3777876509564166,
          -1.7811237798388304,
          -0.4519813457193348,
          1.847175189041157,
          -0.067985045970385,
          1.3612634595715207,
          -0.46525843550395174,
          -0.7198117268327708,
          0.33387231496310743,
          -0.5749288027657355,
          -1.1170972807902728,
          -1.726124292717342,
          0.091053934578192,
          -0.5907857116655164,
          0.7984630001581839,
          0.7004525998294572,
          0.6374409857886782,
          0.921827816575034,
          -0.48950262235808173,
          0.5278699220456626,
          1.6320943743723864,
          -0.23401791608013084,
          0.30224127660263383,
          -1.603032987285266,
          -1.9521437022080457,
          0.10740838136713324,
          -1.4698954876636652,
          1.4934444449079516,
          -0.7914628162275198,
          -0.2573073144405479,
          0.5718938626093497,
          0.2839383912534662,
          0.7857777065117224,
          -0.7027719005322292,
          -0.028288646358340813,
          0.9313326391467384,
          1.8799150493201464,
          0.025550207269889828,
          -0.858317222688285,
          -1.0293062544086706,
          -1.8305868041779985,
          1.6541292253816107,
          -0.5801050348866499,
          0.3262893526784785,
          -0.14355848546193928,
          1.1526599178993406,
          0.06599489994353995,
          -1.4206287666285864,
          1.6319422235778331,
          -1.1158212707807034,
          0.992486455386081,
          1.614923263661248,
          -0.4270534678090496,
          -1.032615769203239,
          -0.20529353390905727,
          1.6895743523475837,
          -0.0580367711141819,
          -0.08791134182694263,
          0.0034330498951731766,
          0.0602048127945789,
          0.0038751215520781606,
          -0.004107802203620115,
          0.00030699942611696785,
          0.030054986951496263,
          -0.04147959269645468,
          0.0008904902078022412,
          -0.04523940174082875,
          0.0793416345217721,
          0.009172657410361598,
          0.007245773443079769,
          0.024082448999190174,
          -0.0012355370448450629,
          -0.005330616052466133,
          0.0012390063529189148,
          0.031612720466174866,
          0.0025169867137333018
         ],
         "y": [
          -1.7476052209964665,
          0.12685903843803312,
          -1.5024055848795577,
          -1.7143091900793404,
          0.04414064637729072,
          0.486863053300648,
          0.8161151670239568,
          -1.9150650182830506,
          -1.453456184287172,
          0.8351029557944165,
          -0.49248511095161834,
          0.4150590213769577,
          -0.10884434771632476,
          0.13535003088990571,
          -0.9090657178199161,
          0.7367793633647386,
          0.15707416426202359,
          -1.1065394062637077,
          -0.9858056293223536,
          -1.771005596398586,
          -0.09685613084306363,
          1.4982394958239371,
          1.4433971126081504,
          0.5494492368446982,
          -0.2788426990847904,
          0.12383498411973237,
          -1.2861180258481681,
          -0.08034516108672493,
          0.21260138399146494,
          -1.0084700761900411,
          -0.05750698793205378,
          0.03895142204402945,
          -0.39532082598516183,
          1.6569648340403553,
          -0.20630481449570964,
          -0.8875572885007396,
          -1.092033054514339,
          -0.6676161747495057,
          0.15602097986643623,
          1.4013205573594216,
          0.5318638041688013,
          0.9460457570517548,
          0.36685896263074136,
          -1.2867864134332472,
          -0.5983590273228785,
          -1.92577980971974,
          -0.12075071218273561,
          1.1813571260909517,
          1.4396273133734907,
          0.6796936141855081,
          1.0184959320925155,
          0.6698150810525435,
          -1.6731390378686097,
          -1.0543904890481512,
          1.082859545206985,
          -0.6504445935146318,
          0.17312731333002584,
          0.3341742447711287,
          1.7814698854923972,
          0.36626534150191814,
          0.628736270449864,
          -0.9150184648699894,
          -0.391095917714064,
          0.7857618086863001,
          0.10558335764546403,
          1.9553705995848876,
          0.3597136279748002,
          -1.868495987950347,
          1.091451170019377,
          -0.5041787491042742,
          0.6046859214132598,
          0.8054779465634925,
          -0.3586816847433397,
          -0.09834271450726173,
          -0.13925086826455357,
          -0.8920835959741598,
          1.6984481629067298,
          0.7517014682053901,
          0.07751694951020073,
          0.7949841766627928,
          -1.8613633476481592,
          -0.9772883216067014,
          -0.14132988552696407,
          -1.7181337873166074,
          -0.9053291863516476,
          0.688105961817672,
          0.3035129501304215,
          -0.0017357943494776852,
          -1.767258363456707,
          0.45023444752292696,
          -1.978452463165785,
          0.45565402069794725,
          -0.3186581756695339,
          1.3417850932441002,
          -0.728831053803635,
          1.1378487771444106,
          0.07686332243632069,
          -0.2749900740378073,
          0.7494786720949622,
          2.125075140108281,
          -0.653722943776779,
          -1.2362081819165895,
          -1.4593409916921396,
          0.34276153409432897,
          0.39927054310509696,
          -1.3317723898605132,
          -1.2796615564307725,
          -0.5223773980242754,
          0.13919795014982983,
          0.8268751084247568,
          0.4147035000307109,
          -1.2206213725102897,
          -1.725897817331749,
          0.1693001021043674,
          -0.1490772129887783,
          -0.17744716016586437,
          0.6390374077864617,
          0.6500807799647356,
          0.012558869163499941,
          -1.6124871635418012,
          1.3017780779622958,
          0.3980138609502213,
          -0.9907558784263603,
          -0.963166242499383,
          -1.4833456085074883,
          1.0681981614918616,
          -1.9476266721345303,
          -0.5468934715903268,
          -0.7224704021926796,
          1.0576432769200679,
          -1.9943961191374964,
          -2.1053743094778308,
          -1.9939639357111911,
          -2.030827272895107,
          -1.9813820502248392,
          -2.0060292468328815,
          -1.998163849556661,
          -1.9288236365001172,
          -1.924170770976584,
          -1.9974441481967997,
          2.0112222357451683,
          2.0244619359137648,
          2.0532752855476555,
          2.0303713259266076,
          2.02500410438344,
          1.9986287885397835,
          2.0153242752451432,
          1.9972030204277498,
          1.9823759696867074,
          1.9940671793216906
         ],
         "z": [
          1.7718982034046589,
          4.808711710014879,
          2.2168445140677053,
          2.181124770639634,
          3.3497903234254616,
          4.9119876676043095,
          1.2660045319720652,
          2.2779439780736563,
          1.7539391359529475,
          1.9736145668827791,
          4.913908259523104,
          4.472479709600413,
          3.0917823180322355,
          4.419827525123646,
          1.2602299999452078,
          1.5286060314292322,
          0.9423131105068911,
          1.420379173642134,
          2.8436417281679276,
          2.347328547939448,
          5.148964907558796,
          2.3397316312611207,
          3.0398756883539493,
          1.067459268968439,
          1.2107006707210386,
          1.0326364351571597,
          2.4673502172485042,
          4.885548809801875,
          5.02605830348917,
          1.968024853033125,
          1.0101018315357009,
          4.979603968101325,
          1.120678913771407,
          2.1229338503279274,
          1.0148777778630715,
          1.2363314173565474,
          4.270476611270691,
          4.835517752105704,
          0.9397508143469961,
          3.3978273853249337,
          2.693139047428864,
          1.2661963940858865,
          4.9017780888025175,
          1.8090659987749391,
          1.0633059420962128,
          2.3812833285399044,
          1.0783098400599351,
          2.0759746076843704,
          4.158272106449291,
          5.067796625937391,
          2.0027713611039273,
          4.5701376997292416,
          3.8825563191108943,
          4.513429460406471,
          1.703834842441142,
          3.417238510080346,
          3.0391920053441197,
          4.563045420130074,
          2.9444954157550165,
          0.9994763090786639,
          1.4282243131069274,
          4.246172929706724,
          3.816602450607879,
          1.7904264776064551,
          4.903593006872568,
          -3.531881024024637,
          -3.976227760896973,
          -2.315656130400948,
          -4.1393812643242756,
          -1.1698713116776536,
          -2.307847417278273,
          -2.6631773633094395,
          -4.420231999984052,
          -1.7039205242935374,
          -4.552750484795351,
          -3.011164588777639,
          -2.047936425594996,
          -3.187465593527785,
          -5.091143773350528,
          -4.227334756344423,
          -2.644665183432333,
          -1.3775171909159523,
          -0.9858194841039267,
          -3.918909044431429,
          -1.5724519356972684,
          -3.71858035833136,
          -1.0744583719032046,
          -1.0225772506821031,
          -2.2150919774361517,
          -1.2306140207453098,
          -2.9658850219311237,
          -1.2723625404960142,
          -4.974766610014017,
          -1.6353246580142529,
          -2.1737361925192813,
          -4.64521067451492,
          -1.0225105071804235,
          -1.849885093125241,
          -3.28793858924212,
          -3.4846121946922533,
          -4.2929738555603745,
          -2.44625814745755,
          -1.8924629711874934,
          -4.968346230694227,
          -4.8902316185402315,
          -1.5151734698088253,
          -4.428858863876677,
          -4.8090539032060695,
          -5.1138643119641625,
          -1.423706285712594,
          -3.6035212351000263,
          -4.596863485992853,
          -2.440221732467188,
          -4.629847152182607,
          -2.035003963598543,
          -1.9817294745096616,
          -4.839073036656689,
          -1.001366793488078,
          -0.9580805036439568,
          -2.7345238974034647,
          -4.495326412169657,
          -4.355059813083419,
          -2.4121065507397965,
          -4.400331008607225,
          -2.2450128414866706,
          -3.482139085831931,
          -3.3177790639022575,
          -4.592154257942372,
          -1.1467835041254488,
          -3.435263372401116,
          -1.353087474491003,
          -2.2859999249738587,
          -0.3126509655891242,
          2.6419902186734854,
          1.0245452017759669,
          -1.88764009078263,
          -2.7177358148123627,
          2.77446322776386,
          2.19886835848439,
          2.008583445215219,
          2.7433886097008684,
          0.6042759787701203,
          2.554404614949136,
          -2.100836548359392,
          -2.3837866296332604,
          -0.7706732763346871,
          1.6030544061443506,
          -1.099930915645859,
          0.8182821434535248,
          -2.9392989971087986
         ]
        },
        {
         "i": [
          0
         ],
         "j": [
          1
         ],
         "k": [
          2
         ],
         "legendgroup": "opti",
         "name": "Optimal Cycle",
         "opacity": 0.5,
         "showlegend": true,
         "type": "mesh3d",
         "x": [
          1.4934444449079516,
          0.7857777065117224,
          1.8799150493201464
         ],
         "y": [
          -1.2362081819165895,
          -1.2796615564307725,
          0.4147035000307109
         ],
         "z": [
          -2.44625814745755,
          -4.428858863876677,
          -3.6035212351000263
         ]
        },
        {
         "i": [
          0
         ],
         "j": [
          1
         ],
         "k": [
          2
         ],
         "legendgroup": "opti",
         "name": "Optimal Cycle",
         "opacity": 0.5,
         "showlegend": false,
         "type": "mesh3d",
         "x": [
          1.3777876509564166,
          0.7857777065117224,
          1.8799150493201464
         ],
         "y": [
          -0.13925086826455357,
          -1.2796615564307725,
          0.4147035000307109
         ],
         "z": [
          -4.552750484795351,
          -4.428858863876677,
          -3.6035212351000263
         ]
        },
        {
         "i": [
          0
         ],
         "j": [
          1
         ],
         "k": [
          2
         ],
         "legendgroup": "opti",
         "name": "Optimal Cycle",
         "opacity": 0.5,
         "showlegend": false,
         "type": "mesh3d",
         "x": [
          -1.5321167248268441,
          -0.4519813457193348,
          0.0025169867137333018
         ],
         "y": [
          0.6046859214132598,
          1.6984481629067298,
          1.9940671793216906
         ],
         "z": [
          -2.307847417278273,
          -2.047936425594996,
          -2.9392989971087986
         ]
        },
        {
         "i": [
          0
         ],
         "j": [
          1
         ],
         "k": [
          2
         ],
         "legendgroup": "opti",
         "name": "Optimal Cycle",
         "opacity": 0.5,
         "showlegend": false,
         "type": "mesh3d",
         "x": [
          -1.1818678999432266,
          -1.5321167248268441,
          0.0025169867137333018
         ],
         "y": [
          1.091451170019377,
          0.6046859214132598,
          1.9940671793216906
         ],
         "z": [
          -4.1393812643242756,
          -2.307847417278273,
          -2.9392989971087986
         ]
        },
        {
         "i": [
          0
         ],
         "j": [
          1
         ],
         "k": [
          2
         ],
         "legendgroup": "opti",
         "name": "Optimal Cycle",
         "opacity": 0.5,
         "showlegend": false,
         "type": "mesh3d",
         "x": [
          0.5278699220456626,
          1.614923263661248,
          0.0025169867137333018
         ],
         "y": [
          1.3417850932441002,
          1.0681981614918616,
          1.9940671793216906
         ],
         "z": [
          -1.6353246580142529,
          -3.482139085831931,
          -2.9392989971087986
         ]
        },
        {
         "i": [
          0
         ],
         "j": [
          1
         ],
         "k": [
          2
         ],
         "legendgroup": "opti",
         "name": "Optimal Cycle",
         "opacity": 0.5,
         "showlegend": false,
         "type": "mesh3d",
         "x": [
          0.5278699220456626,
          1.6541292253816107,
          1.614923263661248
         ],
         "y": [
          1.3417850932441002,
          -0.17744716016586437,
          1.0681981614918616
         ],
         "z": [
          -1.6353246580142529,
          -1.9817294745096616,
          -3.482139085831931
         ]
        },
        {
         "i": [
          0
         ],
         "j": [
          1
         ],
         "k": [
          2
         ],
         "legendgroup": "opti",
         "name": "Optimal Cycle",
         "opacity": 0.5,
         "showlegend": false,
         "type": "mesh3d",
         "x": [
          1.3777876509564166,
          -0.7027719005322292,
          0.06599489994353995
         ],
         "y": [
          -0.13925086826455357,
          -0.5223773980242754,
          1.3017780779622958
         ],
         "z": [
          -4.552750484795351,
          -4.8090539032060695,
          -4.495326412169657
         ]
        },
        {
         "i": [
          0
         ],
         "j": [
          1
         ],
         "k": [
          2
         ],
         "legendgroup": "opti",
         "name": "Optimal Cycle",
         "opacity": 0.5,
         "showlegend": false,
         "type": "mesh3d",
         "x": [
          1.3777876509564166,
          0.7857777065117224,
          -0.7027719005322292
         ],
         "y": [
          -0.13925086826455357,
          -1.2796615564307725,
          -0.5223773980242754
         ],
         "z": [
          -4.552750484795351,
          -4.428858863876677,
          -4.8090539032060695
         ]
        },
        {
         "i": [
          0
         ],
         "j": [
          1
         ],
         "k": [
          2
         ],
         "legendgroup": "opti",
         "name": "Optimal Cycle",
         "opacity": 0.5,
         "showlegend": false,
         "type": "mesh3d",
         "x": [
          -1.7811237798388304,
          -1.726124292717342,
          -0.7027719005322292
         ],
         "y": [
          -0.8920835959741598,
          0.688105961817672,
          -0.5223773980242754
         ],
         "z": [
          -3.011164588777639,
          -3.71858035833136,
          -4.8090539032060695
         ]
        },
        {
         "i": [
          0
         ],
         "j": [
          1
         ],
         "k": [
          2
         ],
         "legendgroup": "opti",
         "name": "Optimal Cycle",
         "opacity": 0.5,
         "showlegend": false,
         "type": "mesh3d",
         "x": [
          -1.7811237798388304,
          -0.5749288027657355,
          -0.7027719005322292
         ],
         "y": [
          -0.8920835959741598,
          -1.7181337873166074,
          -0.5223773980242754
         ],
         "z": [
          -3.011164588777639,
          -3.918909044431429,
          -4.8090539032060695
         ]
        },
        {
         "i": [
          0
         ],
         "j": [
          1
         ],
         "k": [
          2
         ],
         "legendgroup": "opti",
         "name": "Optimal Cycle",
         "opacity": 0.5,
         "showlegend": false,
         "type": "mesh3d",
         "x": [
          -1.7811237798388304,
          -1.1170972807902728,
          0.00030699942611696785
         ],
         "y": [
          -0.8920835959741598,
          -0.9053291863516476,
          -1.998163849556661
         ],
         "z": [
          -3.011164588777639,
          -1.5724519356972684,
          -2.7177358148123627
         ]
        },
        {
         "i": [
          0
         ],
         "j": [
          1
         ],
         "k": [
          2
         ],
         "legendgroup": "opti",
         "name": "Optimal Cycle",
         "opacity": 0.5,
         "showlegend": false,
         "type": "mesh3d",
         "x": [
          -1.7811237798388304,
          -0.5749288027657355,
          0.00030699942611696785
         ],
         "y": [
          -0.8920835959741598,
          -1.7181337873166074,
          -1.998163849556661
         ],
         "z": [
          -3.011164588777639,
          -3.918909044431429,
          -2.7177358148123627
         ]
        },
        {
         "i": [
          0
         ],
         "j": [
          1
         ],
         "k": [
          2
         ],
         "legendgroup": "opti",
         "name": "Optimal Cycle",
         "opacity": 0.5,
         "showlegend": false,
         "type": "mesh3d",
         "x": [
          1.4934444449079516,
          0.7857777065117224,
          0.00030699942611696785
         ],
         "y": [
          -1.2362081819165895,
          -1.2796615564307725,
          -1.998163849556661
         ],
         "z": [
          -2.44625814745755,
          -4.428858863876677,
          -2.7177358148123627
         ]
        },
        {
         "i": [
          0
         ],
         "j": [
          1
         ],
         "k": [
          2
         ],
         "legendgroup": "opti",
         "name": "Optimal Cycle",
         "opacity": 0.5,
         "showlegend": false,
         "type": "mesh3d",
         "x": [
          -1.5321167248268441,
          -1.1170972807902728,
          0.091053934578192
         ],
         "y": [
          0.6046859214132598,
          -0.9053291863516476,
          0.3035129501304215
         ],
         "z": [
          -2.307847417278273,
          -1.5724519356972684,
          -1.0744583719032046
         ]
        },
        {
         "i": [
          0
         ],
         "j": [
          1
         ],
         "k": [
          2
         ],
         "legendgroup": "opti",
         "name": "Optimal Cycle",
         "opacity": 0.5,
         "showlegend": false,
         "type": "mesh3d",
         "x": [
          -1.5321167248268441,
          -0.4519813457193348,
          0.091053934578192
         ],
         "y": [
          0.6046859214132598,
          1.6984481629067298,
          0.3035129501304215
         ],
         "z": [
          -2.307847417278273,
          -2.047936425594996,
          -1.0744583719032046
         ]
        },
        {
         "i": [
          0
         ],
         "j": [
          1
         ],
         "k": [
          2
         ],
         "legendgroup": "opti",
         "name": "Optimal Cycle",
         "opacity": 0.5,
         "showlegend": false,
         "type": "mesh3d",
         "x": [
          1.4934444449079516,
          1.8799150493201464,
          1.6541292253816107
         ],
         "y": [
          -1.2362081819165895,
          0.4147035000307109,
          -0.17744716016586437
         ],
         "z": [
          -2.44625814745755,
          -3.6035212351000263,
          -1.9817294745096616
         ]
        },
        {
         "i": [
          0
         ],
         "j": [
          1
         ],
         "k": [
          2
         ],
         "legendgroup": "opti",
         "name": "Optimal Cycle",
         "opacity": 0.5,
         "showlegend": false,
         "type": "mesh3d",
         "x": [
          -0.5749288027657355,
          0.7857777065117224,
          0.00030699942611696785
         ],
         "y": [
          -1.7181337873166074,
          -1.2796615564307725,
          -1.998163849556661
         ],
         "z": [
          -3.918909044431429,
          -4.428858863876677,
          -2.7177358148123627
         ]
        },
        {
         "i": [
          0
         ],
         "j": [
          1
         ],
         "k": [
          2
         ],
         "legendgroup": "opti",
         "name": "Optimal Cycle",
         "opacity": 0.5,
         "showlegend": false,
         "type": "mesh3d",
         "x": [
          -1.1818678999432266,
          -0.7027719005322292,
          0.06599489994353995
         ],
         "y": [
          1.091451170019377,
          -0.5223773980242754,
          1.3017780779622958
         ],
         "z": [
          -4.1393812643242756,
          -4.8090539032060695,
          -4.495326412169657
         ]
        },
        {
         "i": [
          0
         ],
         "j": [
          1
         ],
         "k": [
          2
         ],
         "legendgroup": "opti",
         "name": "Optimal Cycle",
         "opacity": 0.5,
         "showlegend": false,
         "type": "mesh3d",
         "x": [
          1.8799150493201464,
          1.6541292253816107,
          1.614923263661248
         ],
         "y": [
          0.4147035000307109,
          -0.17744716016586437,
          1.0681981614918616
         ],
         "z": [
          -3.6035212351000263,
          -1.9817294745096616,
          -3.482139085831931
         ]
        },
        {
         "i": [
          0
         ],
         "j": [
          1
         ],
         "k": [
          2
         ],
         "legendgroup": "opti",
         "name": "Optimal Cycle",
         "opacity": 0.5,
         "showlegend": false,
         "type": "mesh3d",
         "x": [
          1.3777876509564166,
          0.06599489994353995,
          1.614923263661248
         ],
         "y": [
          -0.13925086826455357,
          1.3017780779622958,
          1.0681981614918616
         ],
         "z": [
          -4.552750484795351,
          -4.495326412169657,
          -3.482139085831931
         ]
        },
        {
         "i": [
          0
         ],
         "j": [
          1
         ],
         "k": [
          2
         ],
         "legendgroup": "opti",
         "name": "Optimal Cycle",
         "opacity": 0.5,
         "showlegend": false,
         "type": "mesh3d",
         "x": [
          -1.1170972807902728,
          0.2839383912534662,
          0.00030699942611696785
         ],
         "y": [
          -0.9053291863516476,
          -1.3317723898605132,
          -1.998163849556661
         ],
         "z": [
          -1.5724519356972684,
          -1.5151734698088253,
          -2.7177358148123627
         ]
        },
        {
         "i": [
          0
         ],
         "j": [
          1
         ],
         "k": [
          2
         ],
         "legendgroup": "opti",
         "name": "Optimal Cycle",
         "opacity": 0.5,
         "showlegend": false,
         "type": "mesh3d",
         "x": [
          0.06599489994353995,
          1.614923263661248,
          0.0025169867137333018
         ],
         "y": [
          1.3017780779622958,
          1.0681981614918616,
          1.9940671793216906
         ],
         "z": [
          -4.495326412169657,
          -3.482139085831931,
          -2.9392989971087986
         ]
        },
        {
         "i": [
          0
         ],
         "j": [
          1
         ],
         "k": [
          2
         ],
         "legendgroup": "opti",
         "name": "Optimal Cycle",
         "opacity": 0.5,
         "showlegend": false,
         "type": "mesh3d",
         "x": [
          -1.1818678999432266,
          -1.5321167248268441,
          -1.726124292717342
         ],
         "y": [
          1.091451170019377,
          0.6046859214132598,
          0.688105961817672
         ],
         "z": [
          -4.1393812643242756,
          -2.307847417278273,
          -3.71858035833136
         ]
        },
        {
         "i": [
          0
         ],
         "j": [
          1
         ],
         "k": [
          2
         ],
         "legendgroup": "opti",
         "name": "Optimal Cycle",
         "opacity": 0.5,
         "showlegend": false,
         "type": "mesh3d",
         "x": [
          -1.1818678999432266,
          -1.726124292717342,
          -0.7027719005322292
         ],
         "y": [
          1.091451170019377,
          0.688105961817672,
          -0.5223773980242754
         ],
         "z": [
          -4.1393812643242756,
          -3.71858035833136,
          -4.8090539032060695
         ]
        },
        {
         "i": [
          0
         ],
         "j": [
          1
         ],
         "k": [
          2
         ],
         "legendgroup": "opti",
         "name": "Optimal Cycle",
         "opacity": 0.5,
         "showlegend": false,
         "type": "mesh3d",
         "x": [
          0.091053934578192,
          0.5278699220456626,
          1.6541292253816107
         ],
         "y": [
          0.3035129501304215,
          1.3417850932441002,
          -0.17744716016586437
         ],
         "z": [
          -1.0744583719032046,
          -1.6353246580142529,
          -1.9817294745096616
         ]
        },
        {
         "i": [
          0
         ],
         "j": [
          1
         ],
         "k": [
          2
         ],
         "legendgroup": "opti",
         "name": "Optimal Cycle",
         "opacity": 0.5,
         "showlegend": false,
         "type": "mesh3d",
         "x": [
          -1.1818678999432266,
          0.06599489994353995,
          0.0025169867137333018
         ],
         "y": [
          1.091451170019377,
          1.3017780779622958,
          1.9940671793216906
         ],
         "z": [
          -4.1393812643242756,
          -4.495326412169657,
          -2.9392989971087986
         ]
        },
        {
         "i": [
          0
         ],
         "j": [
          1
         ],
         "k": [
          2
         ],
         "legendgroup": "opti",
         "name": "Optimal Cycle",
         "opacity": 0.5,
         "showlegend": false,
         "type": "mesh3d",
         "x": [
          0.091053934578192,
          0.2839383912534662,
          1.6541292253816107
         ],
         "y": [
          0.3035129501304215,
          -1.3317723898605132,
          -0.17744716016586437
         ],
         "z": [
          -1.0744583719032046,
          -1.5151734698088253,
          -1.9817294745096616
         ]
        },
        {
         "i": [
          0
         ],
         "j": [
          1
         ],
         "k": [
          2
         ],
         "legendgroup": "opti",
         "name": "Optimal Cycle",
         "opacity": 0.5,
         "showlegend": false,
         "type": "mesh3d",
         "x": [
          1.4934444449079516,
          0.2839383912534662,
          1.6541292253816107
         ],
         "y": [
          -1.2362081819165895,
          -1.3317723898605132,
          -0.17744716016586437
         ],
         "z": [
          -2.44625814745755,
          -1.5151734698088253,
          -1.9817294745096616
         ]
        },
        {
         "i": [
          0
         ],
         "j": [
          1
         ],
         "k": [
          2
         ],
         "legendgroup": "opti",
         "name": "Optimal Cycle",
         "opacity": 0.5,
         "showlegend": false,
         "type": "mesh3d",
         "x": [
          -0.4519813457193348,
          0.091053934578192,
          0.5278699220456626
         ],
         "y": [
          1.6984481629067298,
          0.3035129501304215,
          1.3417850932441002
         ],
         "z": [
          -2.047936425594996,
          -1.0744583719032046,
          -1.6353246580142529
         ]
        },
        {
         "i": [
          0
         ],
         "j": [
          1
         ],
         "k": [
          2
         ],
         "legendgroup": "opti",
         "name": "Optimal Cycle",
         "opacity": 0.5,
         "showlegend": false,
         "type": "mesh3d",
         "x": [
          -1.1170972807902728,
          0.091053934578192,
          0.2839383912534662
         ],
         "y": [
          -0.9053291863516476,
          0.3035129501304215,
          -1.3317723898605132
         ],
         "z": [
          -1.5724519356972684,
          -1.0744583719032046,
          -1.5151734698088253
         ]
        },
        {
         "i": [
          0
         ],
         "j": [
          1
         ],
         "k": [
          2
         ],
         "legendgroup": "opti",
         "name": "Optimal Cycle",
         "opacity": 0.5,
         "showlegend": false,
         "type": "mesh3d",
         "x": [
          -1.5321167248268441,
          -1.7811237798388304,
          -1.726124292717342
         ],
         "y": [
          0.6046859214132598,
          -0.8920835959741598,
          0.688105961817672
         ],
         "z": [
          -2.307847417278273,
          -3.011164588777639,
          -3.71858035833136
         ]
        },
        {
         "i": [
          0
         ],
         "j": [
          1
         ],
         "k": [
          2
         ],
         "legendgroup": "opti",
         "name": "Optimal Cycle",
         "opacity": 0.5,
         "showlegend": false,
         "type": "mesh3d",
         "x": [
          -1.5321167248268441,
          -1.7811237798388304,
          -1.1170972807902728
         ],
         "y": [
          0.6046859214132598,
          -0.8920835959741598,
          -0.9053291863516476
         ],
         "z": [
          -2.307847417278273,
          -3.011164588777639,
          -1.5724519356972684
         ]
        },
        {
         "i": [
          0
         ],
         "j": [
          1
         ],
         "k": [
          2
         ],
         "legendgroup": "opti",
         "name": "Optimal Cycle",
         "opacity": 0.5,
         "showlegend": false,
         "type": "mesh3d",
         "x": [
          -0.5749288027657355,
          0.7857777065117224,
          -0.7027719005322292
         ],
         "y": [
          -1.7181337873166074,
          -1.2796615564307725,
          -0.5223773980242754
         ],
         "z": [
          -3.918909044431429,
          -4.428858863876677,
          -4.8090539032060695
         ]
        },
        {
         "i": [
          0
         ],
         "j": [
          1
         ],
         "k": [
          2
         ],
         "legendgroup": "opti",
         "name": "Optimal Cycle",
         "opacity": 0.5,
         "showlegend": false,
         "type": "mesh3d",
         "x": [
          1.4934444449079516,
          0.2839383912534662,
          0.00030699942611696785
         ],
         "y": [
          -1.2362081819165895,
          -1.3317723898605132,
          -1.998163849556661
         ],
         "z": [
          -2.44625814745755,
          -1.5151734698088253,
          -2.7177358148123627
         ]
        },
        {
         "i": [
          0
         ],
         "j": [
          1
         ],
         "k": [
          2
         ],
         "legendgroup": "opti",
         "name": "Optimal Cycle",
         "opacity": 0.5,
         "showlegend": false,
         "type": "mesh3d",
         "x": [
          1.3777876509564166,
          1.8799150493201464,
          1.614923263661248
         ],
         "y": [
          -0.13925086826455357,
          0.4147035000307109,
          1.0681981614918616
         ],
         "z": [
          -4.552750484795351,
          -3.6035212351000263,
          -3.482139085831931
         ]
        },
        {
         "i": [
          0
         ],
         "j": [
          1
         ],
         "k": [
          2
         ],
         "legendgroup": "opti",
         "name": "Optimal Cycle",
         "opacity": 0.5,
         "showlegend": false,
         "type": "mesh3d",
         "x": [
          -0.4519813457193348,
          0.5278699220456626,
          0.0025169867137333018
         ],
         "y": [
          1.6984481629067298,
          1.3417850932441002,
          1.9940671793216906
         ],
         "z": [
          -2.047936425594996,
          -1.6353246580142529,
          -2.9392989971087986
         ]
        }
       ],
       "layout": {
        "height": 500,
        "margin": {
         "b": 20,
         "l": 20,
         "r": 20,
         "t": 20
        },
        "template": {
         "data": {
          "bar": [
           {
            "error_x": {
             "color": "#2a3f5f"
            },
            "error_y": {
             "color": "#2a3f5f"
            },
            "marker": {
             "line": {
              "color": "#E5ECF6",
              "width": 0.5
             },
             "pattern": {
              "fillmode": "overlay",
              "size": 10,
              "solidity": 0.2
             }
            },
            "type": "bar"
           }
          ],
          "barpolar": [
           {
            "marker": {
             "line": {
              "color": "#E5ECF6",
              "width": 0.5
             },
             "pattern": {
              "fillmode": "overlay",
              "size": 10,
              "solidity": 0.2
             }
            },
            "type": "barpolar"
           }
          ],
          "carpet": [
           {
            "aaxis": {
             "endlinecolor": "#2a3f5f",
             "gridcolor": "white",
             "linecolor": "white",
             "minorgridcolor": "white",
             "startlinecolor": "#2a3f5f"
            },
            "baxis": {
             "endlinecolor": "#2a3f5f",
             "gridcolor": "white",
             "linecolor": "white",
             "minorgridcolor": "white",
             "startlinecolor": "#2a3f5f"
            },
            "type": "carpet"
           }
          ],
          "choropleth": [
           {
            "colorbar": {
             "outlinewidth": 0,
             "ticks": ""
            },
            "type": "choropleth"
           }
          ],
          "contour": [
           {
            "colorbar": {
             "outlinewidth": 0,
             "ticks": ""
            },
            "colorscale": [
             [
              0,
              "#0d0887"
             ],
             [
              0.1111111111111111,
              "#46039f"
             ],
             [
              0.2222222222222222,
              "#7201a8"
             ],
             [
              0.3333333333333333,
              "#9c179e"
             ],
             [
              0.4444444444444444,
              "#bd3786"
             ],
             [
              0.5555555555555556,
              "#d8576b"
             ],
             [
              0.6666666666666666,
              "#ed7953"
             ],
             [
              0.7777777777777778,
              "#fb9f3a"
             ],
             [
              0.8888888888888888,
              "#fdca26"
             ],
             [
              1,
              "#f0f921"
             ]
            ],
            "type": "contour"
           }
          ],
          "contourcarpet": [
           {
            "colorbar": {
             "outlinewidth": 0,
             "ticks": ""
            },
            "type": "contourcarpet"
           }
          ],
          "heatmap": [
           {
            "colorbar": {
             "outlinewidth": 0,
             "ticks": ""
            },
            "colorscale": [
             [
              0,
              "#0d0887"
             ],
             [
              0.1111111111111111,
              "#46039f"
             ],
             [
              0.2222222222222222,
              "#7201a8"
             ],
             [
              0.3333333333333333,
              "#9c179e"
             ],
             [
              0.4444444444444444,
              "#bd3786"
             ],
             [
              0.5555555555555556,
              "#d8576b"
             ],
             [
              0.6666666666666666,
              "#ed7953"
             ],
             [
              0.7777777777777778,
              "#fb9f3a"
             ],
             [
              0.8888888888888888,
              "#fdca26"
             ],
             [
              1,
              "#f0f921"
             ]
            ],
            "type": "heatmap"
           }
          ],
          "heatmapgl": [
           {
            "colorbar": {
             "outlinewidth": 0,
             "ticks": ""
            },
            "colorscale": [
             [
              0,
              "#0d0887"
             ],
             [
              0.1111111111111111,
              "#46039f"
             ],
             [
              0.2222222222222222,
              "#7201a8"
             ],
             [
              0.3333333333333333,
              "#9c179e"
             ],
             [
              0.4444444444444444,
              "#bd3786"
             ],
             [
              0.5555555555555556,
              "#d8576b"
             ],
             [
              0.6666666666666666,
              "#ed7953"
             ],
             [
              0.7777777777777778,
              "#fb9f3a"
             ],
             [
              0.8888888888888888,
              "#fdca26"
             ],
             [
              1,
              "#f0f921"
             ]
            ],
            "type": "heatmapgl"
           }
          ],
          "histogram": [
           {
            "marker": {
             "pattern": {
              "fillmode": "overlay",
              "size": 10,
              "solidity": 0.2
             }
            },
            "type": "histogram"
           }
          ],
          "histogram2d": [
           {
            "colorbar": {
             "outlinewidth": 0,
             "ticks": ""
            },
            "colorscale": [
             [
              0,
              "#0d0887"
             ],
             [
              0.1111111111111111,
              "#46039f"
             ],
             [
              0.2222222222222222,
              "#7201a8"
             ],
             [
              0.3333333333333333,
              "#9c179e"
             ],
             [
              0.4444444444444444,
              "#bd3786"
             ],
             [
              0.5555555555555556,
              "#d8576b"
             ],
             [
              0.6666666666666666,
              "#ed7953"
             ],
             [
              0.7777777777777778,
              "#fb9f3a"
             ],
             [
              0.8888888888888888,
              "#fdca26"
             ],
             [
              1,
              "#f0f921"
             ]
            ],
            "type": "histogram2d"
           }
          ],
          "histogram2dcontour": [
           {
            "colorbar": {
             "outlinewidth": 0,
             "ticks": ""
            },
            "colorscale": [
             [
              0,
              "#0d0887"
             ],
             [
              0.1111111111111111,
              "#46039f"
             ],
             [
              0.2222222222222222,
              "#7201a8"
             ],
             [
              0.3333333333333333,
              "#9c179e"
             ],
             [
              0.4444444444444444,
              "#bd3786"
             ],
             [
              0.5555555555555556,
              "#d8576b"
             ],
             [
              0.6666666666666666,
              "#ed7953"
             ],
             [
              0.7777777777777778,
              "#fb9f3a"
             ],
             [
              0.8888888888888888,
              "#fdca26"
             ],
             [
              1,
              "#f0f921"
             ]
            ],
            "type": "histogram2dcontour"
           }
          ],
          "mesh3d": [
           {
            "colorbar": {
             "outlinewidth": 0,
             "ticks": ""
            },
            "type": "mesh3d"
           }
          ],
          "parcoords": [
           {
            "line": {
             "colorbar": {
              "outlinewidth": 0,
              "ticks": ""
             }
            },
            "type": "parcoords"
           }
          ],
          "pie": [
           {
            "automargin": true,
            "type": "pie"
           }
          ],
          "scatter": [
           {
            "fillpattern": {
             "fillmode": "overlay",
             "size": 10,
             "solidity": 0.2
            },
            "type": "scatter"
           }
          ],
          "scatter3d": [
           {
            "line": {
             "colorbar": {
              "outlinewidth": 0,
              "ticks": ""
             }
            },
            "marker": {
             "colorbar": {
              "outlinewidth": 0,
              "ticks": ""
             }
            },
            "type": "scatter3d"
           }
          ],
          "scattercarpet": [
           {
            "marker": {
             "colorbar": {
              "outlinewidth": 0,
              "ticks": ""
             }
            },
            "type": "scattercarpet"
           }
          ],
          "scattergeo": [
           {
            "marker": {
             "colorbar": {
              "outlinewidth": 0,
              "ticks": ""
             }
            },
            "type": "scattergeo"
           }
          ],
          "scattergl": [
           {
            "marker": {
             "colorbar": {
              "outlinewidth": 0,
              "ticks": ""
             }
            },
            "type": "scattergl"
           }
          ],
          "scattermapbox": [
           {
            "marker": {
             "colorbar": {
              "outlinewidth": 0,
              "ticks": ""
             }
            },
            "type": "scattermapbox"
           }
          ],
          "scatterpolar": [
           {
            "marker": {
             "colorbar": {
              "outlinewidth": 0,
              "ticks": ""
             }
            },
            "type": "scatterpolar"
           }
          ],
          "scatterpolargl": [
           {
            "marker": {
             "colorbar": {
              "outlinewidth": 0,
              "ticks": ""
             }
            },
            "type": "scatterpolargl"
           }
          ],
          "scatterternary": [
           {
            "marker": {
             "colorbar": {
              "outlinewidth": 0,
              "ticks": ""
             }
            },
            "type": "scatterternary"
           }
          ],
          "surface": [
           {
            "colorbar": {
             "outlinewidth": 0,
             "ticks": ""
            },
            "colorscale": [
             [
              0,
              "#0d0887"
             ],
             [
              0.1111111111111111,
              "#46039f"
             ],
             [
              0.2222222222222222,
              "#7201a8"
             ],
             [
              0.3333333333333333,
              "#9c179e"
             ],
             [
              0.4444444444444444,
              "#bd3786"
             ],
             [
              0.5555555555555556,
              "#d8576b"
             ],
             [
              0.6666666666666666,
              "#ed7953"
             ],
             [
              0.7777777777777778,
              "#fb9f3a"
             ],
             [
              0.8888888888888888,
              "#fdca26"
             ],
             [
              1,
              "#f0f921"
             ]
            ],
            "type": "surface"
           }
          ],
          "table": [
           {
            "cells": {
             "fill": {
              "color": "#EBF0F8"
             },
             "line": {
              "color": "white"
             }
            },
            "header": {
             "fill": {
              "color": "#C8D4E3"
             },
             "line": {
              "color": "white"
             }
            },
            "type": "table"
           }
          ]
         },
         "layout": {
          "annotationdefaults": {
           "arrowcolor": "#2a3f5f",
           "arrowhead": 0,
           "arrowwidth": 1
          },
          "autotypenumbers": "strict",
          "coloraxis": {
           "colorbar": {
            "outlinewidth": 0,
            "ticks": ""
           }
          },
          "colorscale": {
           "diverging": [
            [
             0,
             "#8e0152"
            ],
            [
             0.1,
             "#c51b7d"
            ],
            [
             0.2,
             "#de77ae"
            ],
            [
             0.3,
             "#f1b6da"
            ],
            [
             0.4,
             "#fde0ef"
            ],
            [
             0.5,
             "#f7f7f7"
            ],
            [
             0.6,
             "#e6f5d0"
            ],
            [
             0.7,
             "#b8e186"
            ],
            [
             0.8,
             "#7fbc41"
            ],
            [
             0.9,
             "#4d9221"
            ],
            [
             1,
             "#276419"
            ]
           ],
           "sequential": [
            [
             0,
             "#0d0887"
            ],
            [
             0.1111111111111111,
             "#46039f"
            ],
            [
             0.2222222222222222,
             "#7201a8"
            ],
            [
             0.3333333333333333,
             "#9c179e"
            ],
            [
             0.4444444444444444,
             "#bd3786"
            ],
            [
             0.5555555555555556,
             "#d8576b"
            ],
            [
             0.6666666666666666,
             "#ed7953"
            ],
            [
             0.7777777777777778,
             "#fb9f3a"
            ],
            [
             0.8888888888888888,
             "#fdca26"
            ],
            [
             1,
             "#f0f921"
            ]
           ],
           "sequentialminus": [
            [
             0,
             "#0d0887"
            ],
            [
             0.1111111111111111,
             "#46039f"
            ],
            [
             0.2222222222222222,
             "#7201a8"
            ],
            [
             0.3333333333333333,
             "#9c179e"
            ],
            [
             0.4444444444444444,
             "#bd3786"
            ],
            [
             0.5555555555555556,
             "#d8576b"
            ],
            [
             0.6666666666666666,
             "#ed7953"
            ],
            [
             0.7777777777777778,
             "#fb9f3a"
            ],
            [
             0.8888888888888888,
             "#fdca26"
            ],
            [
             1,
             "#f0f921"
            ]
           ]
          },
          "colorway": [
           "#636efa",
           "#EF553B",
           "#00cc96",
           "#ab63fa",
           "#FFA15A",
           "#19d3f3",
           "#FF6692",
           "#B6E880",
           "#FF97FF",
           "#FECB52"
          ],
          "font": {
           "color": "#2a3f5f"
          },
          "geo": {
           "bgcolor": "white",
           "lakecolor": "white",
           "landcolor": "#E5ECF6",
           "showlakes": true,
           "showland": true,
           "subunitcolor": "white"
          },
          "hoverlabel": {
           "align": "left"
          },
          "hovermode": "closest",
          "mapbox": {
           "style": "light"
          },
          "paper_bgcolor": "white",
          "plot_bgcolor": "#E5ECF6",
          "polar": {
           "angularaxis": {
            "gridcolor": "white",
            "linecolor": "white",
            "ticks": ""
           },
           "bgcolor": "#E5ECF6",
           "radialaxis": {
            "gridcolor": "white",
            "linecolor": "white",
            "ticks": ""
           }
          },
          "scene": {
           "xaxis": {
            "backgroundcolor": "#E5ECF6",
            "gridcolor": "white",
            "gridwidth": 2,
            "linecolor": "white",
            "showbackground": true,
            "ticks": "",
            "zerolinecolor": "white"
           },
           "yaxis": {
            "backgroundcolor": "#E5ECF6",
            "gridcolor": "white",
            "gridwidth": 2,
            "linecolor": "white",
            "showbackground": true,
            "ticks": "",
            "zerolinecolor": "white"
           },
           "zaxis": {
            "backgroundcolor": "#E5ECF6",
            "gridcolor": "white",
            "gridwidth": 2,
            "linecolor": "white",
            "showbackground": true,
            "ticks": "",
            "zerolinecolor": "white"
           }
          },
          "shapedefaults": {
           "line": {
            "color": "#2a3f5f"
           }
          },
          "ternary": {
           "aaxis": {
            "gridcolor": "white",
            "linecolor": "white",
            "ticks": ""
           },
           "baxis": {
            "gridcolor": "white",
            "linecolor": "white",
            "ticks": ""
           },
           "bgcolor": "#E5ECF6",
           "caxis": {
            "gridcolor": "white",
            "linecolor": "white",
            "ticks": ""
           }
          },
          "title": {
           "x": 0.05
          },
          "xaxis": {
           "automargin": true,
           "gridcolor": "white",
           "linecolor": "white",
           "ticks": "",
           "title": {
            "standoff": 15
           },
           "zerolinecolor": "white",
           "zerolinewidth": 2
          },
          "yaxis": {
           "automargin": true,
           "gridcolor": "white",
           "linecolor": "white",
           "ticks": "",
           "title": {
            "standoff": 15
           },
           "zerolinecolor": "white",
           "zerolinewidth": 2
          }
         }
        },
        "width": 400
       }
      }
     },
     "metadata": {},
     "output_type": "display_data"
    }
   ],
   "source": [
    "## 2nd Largest Representative 3D Hole (Optimized and rounded)\n",
    "# use optimal dataframe from above (the optmization problem takes too long, i don't wanna do it twice)\n",
    "filter = optimal.loc['optimal cycle', 'chain']['coefficient'].astype(float).round() != 0 # mark locations where the cofficicents are close to 0 to be removed\n",
    "print(f'Removing {sum(1-filter)}/{len(filter)} simplicies from the cycle, {sum(filter)} simplicies left')\n",
    "optimal_faces = optimal.loc['optimal cycle', 'chain'][filter]['simplex'].tolist()\n",
    "# maybe want some assert statement to make sure we have a real cycle\n",
    "\n",
    "# plotting\n",
    "trace_dta = go.Scatter3d( # data plot\n",
    "        x=dta[:, 0],\n",
    "        y=dta[:, 1],\n",
    "        z=dta[:, 2],\n",
    "        mode='markers',\n",
    "        showlegend=True,\n",
    "        name='Data',\n",
    "        opacity=0.5\n",
    "    )\n",
    "traces_optimal = [oat.plot.triangle__trace3d(triangle=tri, coo=dta) for tri in optimal_faces] # optimal cycle plot\n",
    "for n, trace in enumerate(traces_optimal): # plot optimal cycle\n",
    "    trace.update(\n",
    "            showlegend=(n==0),\n",
    "            legendgroup='opti',\n",
    "            opacity=0.5,\n",
    "            name='Optimal Cycle'\n",
    "        )\n",
    "fig = go.Figure(data=[trace_dta]+traces_optimal)\n",
    "fig.update_layout(\n",
    "        width=400, \n",
    "        height=500,\n",
    "        margin=dict(l=20, r=20, t=20, b=20)\n",
    "    )\n",
    "fig.show()"
   ]
  }
 ],
 "metadata": {
  "kernelspec": {
   "display_name": "base",
   "language": "python",
   "name": "python3"
  },
  "language_info": {
   "codemirror_mode": {
    "name": "ipython",
    "version": 3
   },
   "file_extension": ".py",
   "mimetype": "text/x-python",
   "name": "python",
   "nbconvert_exporter": "python",
   "pygments_lexer": "ipython3",
   "version": "3.12.4"
  }
 },
 "nbformat": 4,
 "nbformat_minor": 2
}
