{
 "cells": [
  {
   "cell_type": "markdown",
   "metadata": {},
   "source": [
    "## Saving Objects\n",
    "I need to be able to save the `factored` and `homology` objects. `pickle` can save `homology`, but it doesn't work for the object type `factored` is."
   ]
  },
  {
   "cell_type": "markdown",
   "metadata": {},
   "source": [
    "#### Preliminaries"
   ]
  },
  {
   "cell_type": "code",
   "execution_count": 13,
   "metadata": {},
   "outputs": [],
   "source": [
    "# load some packages\n",
    "import plotly.graph_objects as go # oat uses plotly not matplotlib, theres a bit of a learning curve here but it should work fine\n",
    "import pandas as pd\n",
    "import oatpy as oat\n",
    "import numpy as np\n",
    "import pickle\n",
    "\n",
    "# configuration\n",
    "DATA_PATH = 'datasets/CCMathTopologyScavengerHunt/'"
   ]
  },
  {
   "cell_type": "markdown",
   "metadata": {},
   "source": [
    "#### Setup\n",
    "Make the point cloud and calculate homology."
   ]
  },
  {
   "cell_type": "code",
   "execution_count": 14,
   "metadata": {},
   "outputs": [
    {
     "data": {
      "application/vnd.plotly.v1+json": {
       "config": {
        "plotlyServerURL": "https://plot.ly"
       },
       "data": [
        {
         "mode": "markers",
         "type": "scatter",
         "x": [
          3.27,
          -0.52,
          3.13,
          3.96,
          -3.69,
          -0.06,
          4.3,
          -3.54,
          3.19,
          1.86,
          5.33,
          4.53,
          -4.93,
          -3.69,
          -1.42,
          3.58,
          -2.22,
          -3.75,
          1.52,
          2.11,
          -0.26,
          1.24,
          1.78,
          -3.11,
          3.79,
          -4.09,
          4.54,
          5.13,
          3.5,
          4.48,
          -2.99,
          -3.71,
          -4.13,
          -5.82,
          -6.06,
          4.23,
          6.37,
          3.45,
          -4.68,
          3.37,
          3.56,
          -1.83,
          -5.62,
          -2.81,
          -3.97,
          2.18,
          3.27,
          6.15,
          -4.08,
          3.42,
          -2.19,
          5.05,
          2.7,
          -2.98,
          3.1,
          4.49,
          4.25,
          3.73,
          5.75,
          0.76,
          -4.45,
          3.79,
          0.96,
          -4.67,
          3.51,
          -3.86,
          -1.16,
          -3.14,
          -4.17,
          5.61,
          -2.92,
          -1.49,
          -4.29,
          -4.37,
          3.38,
          2.16,
          -4.2,
          1.88,
          1.66,
          -1.05,
          -1.08,
          2.41,
          5.26,
          -1.69,
          3.9,
          2.25,
          -1.01,
          2.97,
          -5.33,
          3.97,
          -4.28,
          1.41,
          1.71,
          -4.12,
          -4.98,
          -4.6,
          -1.48,
          -3.54,
          -2.02,
          4.47,
          4.42,
          -1.72,
          -5.67,
          -3.21,
          -4.3,
          -3.35,
          -0.95,
          -5.25,
          -3.2,
          -2.26,
          -2.07,
          1.02,
          0.83,
          -0.72,
          3.06,
          1.98,
          -3.72,
          -1.5,
          3.87,
          -2.92,
          -2.9,
          4.17,
          5.68,
          -2.07,
          0.51,
          3.95,
          3.38,
          3.02,
          -4.02,
          4.66,
          6.64,
          6.11,
          2.09,
          3.15,
          -1.58,
          -6,
          -2.56,
          -5.56,
          -3.71,
          1.71,
          3.39,
          2.12,
          1.83,
          5.04,
          -4.26,
          -4.32,
          4.78,
          3.19,
          1.68,
          -4.99,
          3.09,
          4.23,
          3.77,
          2.43,
          -1.52,
          -5.78,
          5.84,
          4.1,
          5.96,
          4.01,
          6.21,
          5.21,
          6.5,
          3.96,
          4.89,
          6.38,
          6.53,
          5.72,
          5.86,
          4.46,
          6.32,
          3.65,
          6.15,
          4.59,
          4.46,
          6.12,
          4.83,
          6.16,
          6.03,
          5.84,
          6.17,
          4.38,
          3.88,
          3.74,
          5.05,
          4.45,
          5.72,
          3.76,
          6.62,
          6.39,
          6,
          3.89,
          6.43,
          4.56,
          3.81,
          6.15,
          6.41,
          4.95,
          4.42,
          3.8,
          6.29,
          4,
          5.03,
          4.19,
          6.35,
          5.53,
          4.53,
          -4.22,
          -3.7,
          -6.55,
          -6.31,
          -5.86,
          -3.92,
          -4.67,
          -6.05,
          -5.01,
          -5.86,
          -6.06,
          -4.98,
          -3.93,
          -3.8,
          -3.58,
          -3.68,
          -4.23,
          -3.71,
          -6.14,
          -4.29,
          -6.34,
          -4.93,
          -6.02,
          -4.86,
          -5.69,
          -6.16,
          -6.31,
          -4.23,
          -5.95,
          -3.56,
          -4.88,
          -5.6,
          -5.6,
          -3.53,
          -6.08,
          -4.02,
          -6.21,
          -5.31,
          -3.87,
          -4.53,
          -4.47,
          -5.67,
          -3.78,
          -5.47,
          -6.31,
          -5.94,
          -6.56,
          -5.8,
          -4.73,
          -6.22,
          0.59,
          -1.43,
          1.27,
          -1.27,
          -0.37,
          1.02,
          -1.29,
          0.09,
          0.94,
          -1.32,
          0.38,
          -1.66,
          -1.23,
          -1.38,
          0.56,
          1.26,
          -1.11,
          1.27,
          -0.69,
          0.44,
          0.78,
          1.57,
          0.89,
          0.37,
          0.35,
          1.47,
          -0.85,
          0.53,
          -0.23,
          0.27,
          -0.33,
          -0.99,
          0.13,
          1.18,
          -1.21,
          1.47,
          -0.49,
          0.73,
          -0.31,
          -1.14,
          -0.11,
          -0.1,
          1.14,
          1.6,
          1.63,
          -0.93,
          -1.11,
          1.06,
          1.35,
          -0.29,
          -0.66,
          -1.13,
          -1.64,
          1.45,
          0.9,
          0.43,
          -1.38,
          -0.32,
          -0.19,
          0.78,
          -1.37,
          -1.13,
          0.77,
          -1.36,
          -1.01,
          0.5,
          0.58,
          -1.11,
          -1.37,
          1.29,
          -1.08,
          -1.36,
          1.13,
          -0.05,
          -0.63,
          0.87,
          0.67,
          0.15,
          -0.82,
          -1.24,
          1.02,
          -1.41,
          -0.3,
          -0.43,
          1.45,
          -0.92,
          1.41,
          1.02,
          -1.08,
          -1.08,
          -1.11,
          -0.13,
          0.18,
          -0.29,
          1.09,
          0.64,
          0.09,
          -0.9,
          0.63,
          -0.86
         ],
         "y": [
          -1.73,
          3.89,
          3.72,
          -0.8,
          -3.41,
          4.09,
          -4.21,
          4.17,
          -2.16,
          -3.36,
          1.28,
          3.04,
          -3.19,
          3.08,
          -4.4,
          3.68,
          -4.4,
          1.76,
          3.96,
          4.1,
          -3.84,
          -5.4,
          -4.05,
          3.59,
          0.78,
          2.89,
          3.73,
          2.54,
          1.55,
          -3.74,
          2.25,
          -0.39,
          -1.53,
          -1.46,
          1.34,
          0.92,
          -0.95,
          4.3,
          1.95,
          -3.78,
          -1.72,
          -4.2,
          1.18,
          2.63,
          3.25,
          -3.03,
          -2.29,
          -1.21,
          0.67,
          -0.87,
          4.68,
          -1.77,
          -5.17,
          3.58,
          4.83,
          -1.07,
          -3.56,
          2.59,
          1.06,
          3.95,
          1.47,
          0.65,
          4.15,
          0.91,
          2.3,
          -2.01,
          5.63,
          3.47,
          -1.9,
          -1.99,
          2.94,
          4.36,
          2.92,
          3.21,
          3.57,
          3.71,
          -0.63,
          4.95,
          -5.49,
          4.63,
          4.97,
          -4.61,
          -1.12,
          -3.99,
          1.11,
          -4.49,
          -4.92,
          -3.67,
          2.07,
          -2.83,
          -2.94,
          3.86,
          4.12,
          -3.86,
          2.91,
          -2.02,
          3.08,
          3.82,
          3.44,
          -1.54,
          2.24,
          -3.9,
          2.71,
          2.47,
          1.11,
          -3.2,
          5.05,
          0.95,
          -3.33,
          5.71,
          -4.73,
          -5.77,
          -3.87,
          -3.93,
          -2.28,
          5.82,
          -3.63,
          3.25,
          -3.94,
          -3.21,
          -4.23,
          3.39,
          -1.19,
          3.74,
          4.17,
          2.3,
          5.38,
          -3.74,
          -0.93,
          -2.71,
          0.07,
          -1.76,
          4.88,
          3.07,
          3.5,
          1.09,
          3.77,
          -2.26,
          1.92,
          -3.57,
          -2.1,
          -3.85,
          -4.22,
          1.22,
          1.72,
          3.42,
          -2.08,
          -3.66,
          -5.59,
          2.13,
          5.6,
          1.24,
          3.07,
          4.47,
          -5.1,
          0.78,
          1.63,
          1.16,
          0.99,
          -1.09,
          0.16,
          -1.32,
          -0.69,
          -1.01,
          1.42,
          -0.37,
          0.27,
          -0.77,
          0.92,
          -1.23,
          0.63,
          0.27,
          0.17,
          -1.2,
          -1.3,
          0.87,
          1.53,
          -0.77,
          0.86,
          1.24,
          -0.88,
          -1.41,
          -0.64,
          -0.04,
          -1.34,
          -1.28,
          -0.84,
          -0.05,
          0.32,
          -0.75,
          0.82,
          0.76,
          0.03,
          1.19,
          -0.88,
          1.04,
          -0.39,
          1.32,
          1.26,
          -0.74,
          0.51,
          -1.32,
          1.46,
          -1.18,
          0.8,
          1.46,
          1.16,
          1.1,
          0.57,
          -0.14,
          0.59,
          0.9,
          0.97,
          1.45,
          -1.39,
          1.29,
          -1.3,
          0.83,
          -1.32,
          -0.78,
          1.1,
          0,
          0.35,
          1.02,
          -0.65,
          -0.38,
          1.44,
          -0.09,
          -1.37,
          -0.92,
          -1.52,
          1.54,
          -0.84,
          -0.07,
          -1.18,
          1.13,
          0.5,
          -1.25,
          1.56,
          -1.44,
          -0.24,
          -0.77,
          0.97,
          -0.46,
          -1.33,
          0.89,
          1.41,
          -1.41,
          1.16,
          -0.33,
          1.62,
          -0.29,
          -1.15,
          -0.55,
          -1.24,
          -1.2,
          -0.25,
          3.8,
          4.8,
          5.37,
          4.83,
          6.53,
          4.17,
          5.2,
          6.51,
          3.86,
          4.47,
          6.36,
          4.84,
          5.81,
          5.29,
          6.31,
          5.62,
          5.59,
          5.6,
          6.07,
          6.05,
          6.55,
          4.75,
          3.86,
          6.23,
          3.54,
          4.97,
          5.58,
          3.47,
          3.64,
          3.65,
          6.25,
          4.29,
          3.52,
          5.88,
          4.85,
          4.72,
          3.88,
          3.99,
          3.35,
          5.29,
          6.46,
          6.52,
          6.01,
          4.69,
          5.37,
          5.86,
          3.73,
          6.17,
          5.03,
          3.65,
          -3.85,
          -5.88,
          -5.38,
          -4.45,
          -6.08,
          -3.72,
          -5.69,
          -3.71,
          -6.18,
          -6,
          -5.83,
          -5.81,
          -6.55,
          -5.02,
          -5.76,
          -3.52,
          -6.2,
          -6.08,
          -5.25,
          -5.63,
          -5.78,
          -4.69,
          -4.25,
          -6.09,
          -6.13,
          -6.14,
          -4.05,
          -6.19,
          -5.79,
          -4.74,
          -4.04,
          -5.85,
          -6.75,
          -3.65,
          -4.12,
          -3.79,
          -4.99,
          -6.1,
          -6.2,
          -4.3,
          -5.58,
          -6.37,
          -3.71,
          -6.32,
          -4.38,
          -3.27,
          -3.67,
          -4.14,
          -3.77,
          -5.94
         ]
        }
       ],
       "layout": {
        "height": 500,
        "margin": {
         "b": 20,
         "l": 20,
         "r": 20,
         "t": 20
        },
        "template": {
         "data": {
          "bar": [
           {
            "error_x": {
             "color": "#2a3f5f"
            },
            "error_y": {
             "color": "#2a3f5f"
            },
            "marker": {
             "line": {
              "color": "#E5ECF6",
              "width": 0.5
             },
             "pattern": {
              "fillmode": "overlay",
              "size": 10,
              "solidity": 0.2
             }
            },
            "type": "bar"
           }
          ],
          "barpolar": [
           {
            "marker": {
             "line": {
              "color": "#E5ECF6",
              "width": 0.5
             },
             "pattern": {
              "fillmode": "overlay",
              "size": 10,
              "solidity": 0.2
             }
            },
            "type": "barpolar"
           }
          ],
          "carpet": [
           {
            "aaxis": {
             "endlinecolor": "#2a3f5f",
             "gridcolor": "white",
             "linecolor": "white",
             "minorgridcolor": "white",
             "startlinecolor": "#2a3f5f"
            },
            "baxis": {
             "endlinecolor": "#2a3f5f",
             "gridcolor": "white",
             "linecolor": "white",
             "minorgridcolor": "white",
             "startlinecolor": "#2a3f5f"
            },
            "type": "carpet"
           }
          ],
          "choropleth": [
           {
            "colorbar": {
             "outlinewidth": 0,
             "ticks": ""
            },
            "type": "choropleth"
           }
          ],
          "contour": [
           {
            "colorbar": {
             "outlinewidth": 0,
             "ticks": ""
            },
            "colorscale": [
             [
              0,
              "#0d0887"
             ],
             [
              0.1111111111111111,
              "#46039f"
             ],
             [
              0.2222222222222222,
              "#7201a8"
             ],
             [
              0.3333333333333333,
              "#9c179e"
             ],
             [
              0.4444444444444444,
              "#bd3786"
             ],
             [
              0.5555555555555556,
              "#d8576b"
             ],
             [
              0.6666666666666666,
              "#ed7953"
             ],
             [
              0.7777777777777778,
              "#fb9f3a"
             ],
             [
              0.8888888888888888,
              "#fdca26"
             ],
             [
              1,
              "#f0f921"
             ]
            ],
            "type": "contour"
           }
          ],
          "contourcarpet": [
           {
            "colorbar": {
             "outlinewidth": 0,
             "ticks": ""
            },
            "type": "contourcarpet"
           }
          ],
          "heatmap": [
           {
            "colorbar": {
             "outlinewidth": 0,
             "ticks": ""
            },
            "colorscale": [
             [
              0,
              "#0d0887"
             ],
             [
              0.1111111111111111,
              "#46039f"
             ],
             [
              0.2222222222222222,
              "#7201a8"
             ],
             [
              0.3333333333333333,
              "#9c179e"
             ],
             [
              0.4444444444444444,
              "#bd3786"
             ],
             [
              0.5555555555555556,
              "#d8576b"
             ],
             [
              0.6666666666666666,
              "#ed7953"
             ],
             [
              0.7777777777777778,
              "#fb9f3a"
             ],
             [
              0.8888888888888888,
              "#fdca26"
             ],
             [
              1,
              "#f0f921"
             ]
            ],
            "type": "heatmap"
           }
          ],
          "heatmapgl": [
           {
            "colorbar": {
             "outlinewidth": 0,
             "ticks": ""
            },
            "colorscale": [
             [
              0,
              "#0d0887"
             ],
             [
              0.1111111111111111,
              "#46039f"
             ],
             [
              0.2222222222222222,
              "#7201a8"
             ],
             [
              0.3333333333333333,
              "#9c179e"
             ],
             [
              0.4444444444444444,
              "#bd3786"
             ],
             [
              0.5555555555555556,
              "#d8576b"
             ],
             [
              0.6666666666666666,
              "#ed7953"
             ],
             [
              0.7777777777777778,
              "#fb9f3a"
             ],
             [
              0.8888888888888888,
              "#fdca26"
             ],
             [
              1,
              "#f0f921"
             ]
            ],
            "type": "heatmapgl"
           }
          ],
          "histogram": [
           {
            "marker": {
             "pattern": {
              "fillmode": "overlay",
              "size": 10,
              "solidity": 0.2
             }
            },
            "type": "histogram"
           }
          ],
          "histogram2d": [
           {
            "colorbar": {
             "outlinewidth": 0,
             "ticks": ""
            },
            "colorscale": [
             [
              0,
              "#0d0887"
             ],
             [
              0.1111111111111111,
              "#46039f"
             ],
             [
              0.2222222222222222,
              "#7201a8"
             ],
             [
              0.3333333333333333,
              "#9c179e"
             ],
             [
              0.4444444444444444,
              "#bd3786"
             ],
             [
              0.5555555555555556,
              "#d8576b"
             ],
             [
              0.6666666666666666,
              "#ed7953"
             ],
             [
              0.7777777777777778,
              "#fb9f3a"
             ],
             [
              0.8888888888888888,
              "#fdca26"
             ],
             [
              1,
              "#f0f921"
             ]
            ],
            "type": "histogram2d"
           }
          ],
          "histogram2dcontour": [
           {
            "colorbar": {
             "outlinewidth": 0,
             "ticks": ""
            },
            "colorscale": [
             [
              0,
              "#0d0887"
             ],
             [
              0.1111111111111111,
              "#46039f"
             ],
             [
              0.2222222222222222,
              "#7201a8"
             ],
             [
              0.3333333333333333,
              "#9c179e"
             ],
             [
              0.4444444444444444,
              "#bd3786"
             ],
             [
              0.5555555555555556,
              "#d8576b"
             ],
             [
              0.6666666666666666,
              "#ed7953"
             ],
             [
              0.7777777777777778,
              "#fb9f3a"
             ],
             [
              0.8888888888888888,
              "#fdca26"
             ],
             [
              1,
              "#f0f921"
             ]
            ],
            "type": "histogram2dcontour"
           }
          ],
          "mesh3d": [
           {
            "colorbar": {
             "outlinewidth": 0,
             "ticks": ""
            },
            "type": "mesh3d"
           }
          ],
          "parcoords": [
           {
            "line": {
             "colorbar": {
              "outlinewidth": 0,
              "ticks": ""
             }
            },
            "type": "parcoords"
           }
          ],
          "pie": [
           {
            "automargin": true,
            "type": "pie"
           }
          ],
          "scatter": [
           {
            "fillpattern": {
             "fillmode": "overlay",
             "size": 10,
             "solidity": 0.2
            },
            "type": "scatter"
           }
          ],
          "scatter3d": [
           {
            "line": {
             "colorbar": {
              "outlinewidth": 0,
              "ticks": ""
             }
            },
            "marker": {
             "colorbar": {
              "outlinewidth": 0,
              "ticks": ""
             }
            },
            "type": "scatter3d"
           }
          ],
          "scattercarpet": [
           {
            "marker": {
             "colorbar": {
              "outlinewidth": 0,
              "ticks": ""
             }
            },
            "type": "scattercarpet"
           }
          ],
          "scattergeo": [
           {
            "marker": {
             "colorbar": {
              "outlinewidth": 0,
              "ticks": ""
             }
            },
            "type": "scattergeo"
           }
          ],
          "scattergl": [
           {
            "marker": {
             "colorbar": {
              "outlinewidth": 0,
              "ticks": ""
             }
            },
            "type": "scattergl"
           }
          ],
          "scattermapbox": [
           {
            "marker": {
             "colorbar": {
              "outlinewidth": 0,
              "ticks": ""
             }
            },
            "type": "scattermapbox"
           }
          ],
          "scatterpolar": [
           {
            "marker": {
             "colorbar": {
              "outlinewidth": 0,
              "ticks": ""
             }
            },
            "type": "scatterpolar"
           }
          ],
          "scatterpolargl": [
           {
            "marker": {
             "colorbar": {
              "outlinewidth": 0,
              "ticks": ""
             }
            },
            "type": "scatterpolargl"
           }
          ],
          "scatterternary": [
           {
            "marker": {
             "colorbar": {
              "outlinewidth": 0,
              "ticks": ""
             }
            },
            "type": "scatterternary"
           }
          ],
          "surface": [
           {
            "colorbar": {
             "outlinewidth": 0,
             "ticks": ""
            },
            "colorscale": [
             [
              0,
              "#0d0887"
             ],
             [
              0.1111111111111111,
              "#46039f"
             ],
             [
              0.2222222222222222,
              "#7201a8"
             ],
             [
              0.3333333333333333,
              "#9c179e"
             ],
             [
              0.4444444444444444,
              "#bd3786"
             ],
             [
              0.5555555555555556,
              "#d8576b"
             ],
             [
              0.6666666666666666,
              "#ed7953"
             ],
             [
              0.7777777777777778,
              "#fb9f3a"
             ],
             [
              0.8888888888888888,
              "#fdca26"
             ],
             [
              1,
              "#f0f921"
             ]
            ],
            "type": "surface"
           }
          ],
          "table": [
           {
            "cells": {
             "fill": {
              "color": "#EBF0F8"
             },
             "line": {
              "color": "white"
             }
            },
            "header": {
             "fill": {
              "color": "#C8D4E3"
             },
             "line": {
              "color": "white"
             }
            },
            "type": "table"
           }
          ]
         },
         "layout": {
          "annotationdefaults": {
           "arrowcolor": "#2a3f5f",
           "arrowhead": 0,
           "arrowwidth": 1
          },
          "autotypenumbers": "strict",
          "coloraxis": {
           "colorbar": {
            "outlinewidth": 0,
            "ticks": ""
           }
          },
          "colorscale": {
           "diverging": [
            [
             0,
             "#8e0152"
            ],
            [
             0.1,
             "#c51b7d"
            ],
            [
             0.2,
             "#de77ae"
            ],
            [
             0.3,
             "#f1b6da"
            ],
            [
             0.4,
             "#fde0ef"
            ],
            [
             0.5,
             "#f7f7f7"
            ],
            [
             0.6,
             "#e6f5d0"
            ],
            [
             0.7,
             "#b8e186"
            ],
            [
             0.8,
             "#7fbc41"
            ],
            [
             0.9,
             "#4d9221"
            ],
            [
             1,
             "#276419"
            ]
           ],
           "sequential": [
            [
             0,
             "#0d0887"
            ],
            [
             0.1111111111111111,
             "#46039f"
            ],
            [
             0.2222222222222222,
             "#7201a8"
            ],
            [
             0.3333333333333333,
             "#9c179e"
            ],
            [
             0.4444444444444444,
             "#bd3786"
            ],
            [
             0.5555555555555556,
             "#d8576b"
            ],
            [
             0.6666666666666666,
             "#ed7953"
            ],
            [
             0.7777777777777778,
             "#fb9f3a"
            ],
            [
             0.8888888888888888,
             "#fdca26"
            ],
            [
             1,
             "#f0f921"
            ]
           ],
           "sequentialminus": [
            [
             0,
             "#0d0887"
            ],
            [
             0.1111111111111111,
             "#46039f"
            ],
            [
             0.2222222222222222,
             "#7201a8"
            ],
            [
             0.3333333333333333,
             "#9c179e"
            ],
            [
             0.4444444444444444,
             "#bd3786"
            ],
            [
             0.5555555555555556,
             "#d8576b"
            ],
            [
             0.6666666666666666,
             "#ed7953"
            ],
            [
             0.7777777777777778,
             "#fb9f3a"
            ],
            [
             0.8888888888888888,
             "#fdca26"
            ],
            [
             1,
             "#f0f921"
            ]
           ]
          },
          "colorway": [
           "#636efa",
           "#EF553B",
           "#00cc96",
           "#ab63fa",
           "#FFA15A",
           "#19d3f3",
           "#FF6692",
           "#B6E880",
           "#FF97FF",
           "#FECB52"
          ],
          "font": {
           "color": "#2a3f5f"
          },
          "geo": {
           "bgcolor": "white",
           "lakecolor": "white",
           "landcolor": "#E5ECF6",
           "showlakes": true,
           "showland": true,
           "subunitcolor": "white"
          },
          "hoverlabel": {
           "align": "left"
          },
          "hovermode": "closest",
          "mapbox": {
           "style": "light"
          },
          "paper_bgcolor": "white",
          "plot_bgcolor": "#E5ECF6",
          "polar": {
           "angularaxis": {
            "gridcolor": "white",
            "linecolor": "white",
            "ticks": ""
           },
           "bgcolor": "#E5ECF6",
           "radialaxis": {
            "gridcolor": "white",
            "linecolor": "white",
            "ticks": ""
           }
          },
          "scene": {
           "xaxis": {
            "backgroundcolor": "#E5ECF6",
            "gridcolor": "white",
            "gridwidth": 2,
            "linecolor": "white",
            "showbackground": true,
            "ticks": "",
            "zerolinecolor": "white"
           },
           "yaxis": {
            "backgroundcolor": "#E5ECF6",
            "gridcolor": "white",
            "gridwidth": 2,
            "linecolor": "white",
            "showbackground": true,
            "ticks": "",
            "zerolinecolor": "white"
           },
           "zaxis": {
            "backgroundcolor": "#E5ECF6",
            "gridcolor": "white",
            "gridwidth": 2,
            "linecolor": "white",
            "showbackground": true,
            "ticks": "",
            "zerolinecolor": "white"
           }
          },
          "shapedefaults": {
           "line": {
            "color": "#2a3f5f"
           }
          },
          "ternary": {
           "aaxis": {
            "gridcolor": "white",
            "linecolor": "white",
            "ticks": ""
           },
           "baxis": {
            "gridcolor": "white",
            "linecolor": "white",
            "ticks": ""
           },
           "bgcolor": "#E5ECF6",
           "caxis": {
            "gridcolor": "white",
            "linecolor": "white",
            "ticks": ""
           }
          },
          "title": {
           "x": 0.05
          },
          "xaxis": {
           "automargin": true,
           "gridcolor": "white",
           "linecolor": "white",
           "ticks": "",
           "title": {
            "standoff": 15
           },
           "zerolinecolor": "white",
           "zerolinewidth": 2
          },
          "yaxis": {
           "automargin": true,
           "gridcolor": "white",
           "linecolor": "white",
           "ticks": "",
           "title": {
            "standoff": 15
           },
           "zerolinecolor": "white",
           "zerolinewidth": 2
          }
         }
        },
        "width": 500
       }
      }
     },
     "metadata": {},
     "output_type": "display_data"
    }
   ],
   "source": [
    "# Pull the cloud\n",
    "FILE = 'points2.csv'\n",
    "\n",
    "dta = np.array(pd.read_csv(DATA_PATH + FILE, header=None)) # oat uses np arrays as coordinate inputs\n",
    "\n",
    "# plotly plotting\n",
    "trace = go.Scatter(x=dta[:, 0], y=dta[:, 1], mode='markers')\n",
    "fig = go.Figure(trace)\n",
    "fig.update_layout(\n",
    "        width=500, \n",
    "        height=500,\n",
    "        margin=dict(l=20, r=20, t=20, b=20)\n",
    "    )\n",
    "fig.show()"
   ]
  },
  {
   "cell_type": "markdown",
   "metadata": {},
   "source": [
    "#### Homology\n",
    "Find homology"
   ]
  },
  {
   "cell_type": "code",
   "execution_count": 15,
   "metadata": {},
   "outputs": [],
   "source": [
    "# setup problem\n",
    "enclosing = oat.dissimilarity.enclosing_from_cloud(dta) # max fintration radius\n",
    "dissimilairty_matrix = oat.dissimilarity.matrix_from_cloud( # distance matrix\n",
    "        cloud=dta,\n",
    "        dissimilarity_max=enclosing + 1e-10 # i belive any elements past this are removed (returns a sparse matrix)\n",
    "    )\n",
    "# add 1e-10 to elimite some numerical error (greg says to do it)\n",
    "factored = oat.rust.FactoredBoundaryMatrixVr( # two functions that do this, idk what the other one is\n",
    "        dissimilarity_matrix=dissimilairty_matrix,\n",
    "        homology_dimension_max=1\n",
    "    )\n",
    "\n",
    "# solve homology\n",
    "homology = factored.homology( # solve homology\n",
    "        return_cycle_representatives=True, # These need to be true to be able to make a barcode\n",
    "        return_bounding_chains=True\n",
    "    )"
   ]
  },
  {
   "cell_type": "markdown",
   "metadata": {},
   "source": [
    "#### Save Everything\n",
    "Idk how to do this."
   ]
  },
  {
   "cell_type": "code",
   "execution_count": 16,
   "metadata": {},
   "outputs": [],
   "source": [
    "## this works for the homology dataframe, but not for the `factored` object\n",
    "filehandler = open(\"Gavin/testing/test.obj\", \"wb\")\n",
    "pickle.dump(homology, filehandler)\n",
    "filehandler.close()\n",
    "\n",
    "file = open(\"Gavin/testing/test.obj\",'rb')\n",
    "homology_file = pickle.load(file)\n",
    "file.close()"
   ]
  },
  {
   "cell_type": "code",
   "execution_count": 21,
   "metadata": {},
   "outputs": [
    {
     "ename": "NameError",
     "evalue": "name 'factored' is not defined",
     "output_type": "error",
     "traceback": [
      "\u001b[0;31m---------------------------------------------------------------------------\u001b[0m",
      "\u001b[0;31mNameError\u001b[0m                                 Traceback (most recent call last)",
      "Cell \u001b[0;32mIn[21], line 5\u001b[0m\n\u001b[1;32m      1\u001b[0m \u001b[38;5;66;03m## save factored\u001b[39;00m\n\u001b[1;32m      2\u001b[0m \u001b[38;5;66;03m# TODO\u001b[39;00m\n\u001b[1;32m      3\u001b[0m \u001b[38;5;66;03m# No idea how to do this here\u001b[39;00m\n\u001b[0;32m----> 5\u001b[0m factored_file \u001b[38;5;241m=\u001b[39m \u001b[43mfactored\u001b[49m \u001b[38;5;66;03m# this needs to not do that\u001b[39;00m\n\u001b[1;32m      6\u001b[0m \u001b[38;5;66;03m# help please\u001b[39;00m\n\u001b[1;32m      7\u001b[0m \u001b[38;5;66;03m# I need it\u001b[39;00m\n",
      "\u001b[0;31mNameError\u001b[0m: name 'factored' is not defined"
     ]
    }
   ],
   "source": [
    "## save factored\n",
    "# TODO\n",
    "# No idea how to do this here\n",
    "\n",
    "factored_file = factored # this needs to not do that\n",
    "# help please\n",
    "# I need it"
   ]
  },
  {
   "cell_type": "code",
   "execution_count": 18,
   "metadata": {},
   "outputs": [],
   "source": [
    "# no cheating\n",
    "del homology\n",
    "del factored"
   ]
  },
  {
   "cell_type": "markdown",
   "metadata": {},
   "source": [
    "#### Check Everything\n",
    "Make sure we can visualize homology and calculate an optimal cycle"
   ]
  },
  {
   "cell_type": "code",
   "execution_count": 19,
   "metadata": {},
   "outputs": [
    {
     "data": {
      "application/vnd.plotly.v1+json": {
       "config": {
        "plotlyServerURL": "https://plot.ly"
       },
       "data": [
        {
         "line": {
          "color": "black"
         },
         "mode": "lines",
         "showlegend": false,
         "type": "scatter",
         "x": [
          0,
          7.833169473463472
         ],
         "y": [
          0,
          7.833169473463472
         ]
        },
        {
         "legendgroup": "0",
         "marker": {
          "color": "#636EFA"
         },
         "mode": "markers",
         "name": "Dimension 0",
         "showlegend": true,
         "text": [
          "birth filtration = 0.0<br>death filtration = 0.1552417469626006<br>interval length = 0.1552417469626006<br>birth simplex = [356]<br>cyle representative nnz = 2<br>bounding chain nnz = 1.0<br>row of dataframe = 0"
         ],
         "type": "scatter",
         "x": [
          0
         ],
         "y": [
          0.1552417469626006
         ]
        },
        {
         "legendgroup": "0",
         "marker": {
          "color": "#636EFA"
         },
         "mode": "markers",
         "name": "Dimension 0",
         "showlegend": false,
         "text": [
          "birth filtration = 0.0<br>death filtration = 0.206155281280883<br>interval length = 0.206155281280883<br>birth simplex = [355]<br>cyle representative nnz = 2<br>bounding chain nnz = 1.0<br>row of dataframe = 1"
         ],
         "type": "scatter",
         "x": [
          0
         ],
         "y": [
          0.206155281280883
         ]
        },
        {
         "legendgroup": "0",
         "marker": {
          "color": "#636EFA"
         },
         "mode": "markers",
         "name": "Dimension 0",
         "showlegend": false,
         "text": [
          "birth filtration = 0.0<br>death filtration = 0.24083189157584606<br>interval length = 0.24083189157584606<br>birth simplex = [354]<br>cyle representative nnz = 2<br>bounding chain nnz = 1.0<br>row of dataframe = 2"
         ],
         "type": "scatter",
         "x": [
          0
         ],
         "y": [
          0.24083189157584606
         ]
        },
        {
         "legendgroup": "0",
         "marker": {
          "color": "#636EFA"
         },
         "mode": "markers",
         "name": "Dimension 0",
         "showlegend": false,
         "text": [
          "birth filtration = 0.0<br>death filtration = 0.09848857801796106<br>interval length = 0.09848857801796106<br>birth simplex = [353]<br>cyle representative nnz = 2<br>bounding chain nnz = 1.0<br>row of dataframe = 3"
         ],
         "type": "scatter",
         "x": [
          0
         ],
         "y": [
          0.09848857801796106
         ]
        },
        {
         "legendgroup": "0",
         "marker": {
          "color": "#636EFA"
         },
         "mode": "markers",
         "name": "Dimension 0",
         "showlegend": false,
         "text": [
          "birth filtration = 0.0<br>death filtration = 0.2865309756378881<br>interval length = 0.2865309756378881<br>birth simplex = [352]<br>cyle representative nnz = 2<br>bounding chain nnz = 4.0<br>row of dataframe = 4"
         ],
         "type": "scatter",
         "x": [
          0
         ],
         "y": [
          0.2865309756378881
         ]
        },
        {
         "legendgroup": "0",
         "marker": {
          "color": "#636EFA"
         },
         "mode": "markers",
         "name": "Dimension 0",
         "showlegend": false,
         "text": [
          "birth filtration = 0.0<br>death filtration = 0.13601470508735428<br>interval length = 0.13601470508735428<br>birth simplex = [351]<br>cyle representative nnz = 2<br>bounding chain nnz = 1.0<br>row of dataframe = 5"
         ],
         "type": "scatter",
         "x": [
          0
         ],
         "y": [
          0.13601470508735428
         ]
        },
        {
         "legendgroup": "0",
         "marker": {
          "color": "#636EFA"
         },
         "mode": "markers",
         "name": "Dimension 0",
         "showlegend": false,
         "text": [
          "birth filtration = 0.0<br>death filtration = 0.16763054614240203<br>interval length = 0.16763054614240203<br>birth simplex = [350]<br>cyle representative nnz = 2<br>bounding chain nnz = 1.0<br>row of dataframe = 6"
         ],
         "type": "scatter",
         "x": [
          0
         ],
         "y": [
          0.16763054614240203
         ]
        },
        {
         "legendgroup": "0",
         "marker": {
          "color": "#636EFA"
         },
         "mode": "markers",
         "name": "Dimension 0",
         "showlegend": false,
         "text": [
          "birth filtration = 0.0<br>death filtration = 0.2501999200639361<br>interval length = 0.2501999200639361<br>birth simplex = [349]<br>cyle representative nnz = 2<br>bounding chain nnz = 3.0<br>row of dataframe = 7"
         ],
         "type": "scatter",
         "x": [
          0
         ],
         "y": [
          0.2501999200639361
         ]
        },
        {
         "legendgroup": "0",
         "marker": {
          "color": "#636EFA"
         },
         "mode": "markers",
         "name": "Dimension 0",
         "showlegend": false,
         "text": [
          "birth filtration = 0.0<br>death filtration = 0.17204650534085297<br>interval length = 0.17204650534085297<br>birth simplex = [348]<br>cyle representative nnz = 2<br>bounding chain nnz = 2.0<br>row of dataframe = 8"
         ],
         "type": "scatter",
         "x": [
          0
         ],
         "y": [
          0.17204650534085297
         ]
        },
        {
         "legendgroup": "0",
         "marker": {
          "color": "#636EFA"
         },
         "mode": "markers",
         "name": "Dimension 0",
         "showlegend": false,
         "text": [
          "birth filtration = 0.0<br>death filtration = 0.20223748416156703<br>interval length = 0.20223748416156703<br>birth simplex = [347]<br>cyle representative nnz = 2<br>bounding chain nnz = 3.0<br>row of dataframe = 9"
         ],
         "type": "scatter",
         "x": [
          0
         ],
         "y": [
          0.20223748416156703
         ]
        },
        {
         "legendgroup": "0",
         "marker": {
          "color": "#636EFA"
         },
         "mode": "markers",
         "name": "Dimension 0",
         "showlegend": false,
         "text": [
          "birth filtration = 0.0<br>death filtration = 0.27658633371878627<br>interval length = 0.27658633371878627<br>birth simplex = [346]<br>cyle representative nnz = 2<br>bounding chain nnz = 2.0<br>row of dataframe = 10"
         ],
         "type": "scatter",
         "x": [
          0
         ],
         "y": [
          0.27658633371878627
         ]
        },
        {
         "legendgroup": "0",
         "marker": {
          "color": "#636EFA"
         },
         "mode": "markers",
         "name": "Dimension 0",
         "showlegend": false,
         "text": [
          "birth filtration = 0.0<br>death filtration = 0.12369316876852993<br>interval length = 0.12369316876852993<br>birth simplex = [345]<br>cyle representative nnz = 2<br>bounding chain nnz = 1.0<br>row of dataframe = 11"
         ],
         "type": "scatter",
         "x": [
          0
         ],
         "y": [
          0.12369316876852993
         ]
        },
        {
         "legendgroup": "0",
         "marker": {
          "color": "#636EFA"
         },
         "mode": "markers",
         "name": "Dimension 0",
         "showlegend": false,
         "text": [
          "birth filtration = 0.0<br>death filtration = 0.12165525060596433<br>interval length = 0.12165525060596433<br>birth simplex = [344]<br>cyle representative nnz = 2<br>bounding chain nnz = 1.0<br>row of dataframe = 12"
         ],
         "type": "scatter",
         "x": [
          0
         ],
         "y": [
          0.12165525060596433
         ]
        },
        {
         "legendgroup": "0",
         "marker": {
          "color": "#636EFA"
         },
         "mode": "markers",
         "name": "Dimension 0",
         "showlegend": false,
         "text": [
          "birth filtration = 0.0<br>death filtration = 0.44384682042344303<br>interval length = 0.44384682042344303<br>birth simplex = [343]<br>cyle representative nnz = 2<br>bounding chain nnz = 26.0<br>row of dataframe = 13"
         ],
         "type": "scatter",
         "x": [
          0
         ],
         "y": [
          0.44384682042344303
         ]
        },
        {
         "legendgroup": "0",
         "marker": {
          "color": "#636EFA"
         },
         "mode": "markers",
         "name": "Dimension 0",
         "showlegend": false,
         "text": [
          "birth filtration = 0.0<br>death filtration = 0.2441311123146742<br>interval length = 0.2441311123146742<br>birth simplex = [342]<br>cyle representative nnz = 2<br>bounding chain nnz = 1.0<br>row of dataframe = 14"
         ],
         "type": "scatter",
         "x": [
          0
         ],
         "y": [
          0.2441311123146742
         ]
        },
        {
         "legendgroup": "0",
         "marker": {
          "color": "#636EFA"
         },
         "mode": "markers",
         "name": "Dimension 0",
         "showlegend": false,
         "text": [
          "birth filtration = 0.0<br>death filtration = 0.33000000000000007<br>interval length = 0.33000000000000007<br>birth simplex = [341]<br>cyle representative nnz = 2<br>bounding chain nnz = 1.0<br>row of dataframe = 15"
         ],
         "type": "scatter",
         "x": [
          0
         ],
         "y": [
          0.33000000000000007
         ]
        },
        {
         "legendgroup": "0",
         "marker": {
          "color": "#636EFA"
         },
         "mode": "markers",
         "name": "Dimension 0",
         "showlegend": false,
         "text": [
          "birth filtration = 0.0<br>death filtration = 0.1252996408614167<br>interval length = 0.1252996408614167<br>birth simplex = [340]<br>cyle representative nnz = 2<br>bounding chain nnz = 1.0<br>row of dataframe = 16"
         ],
         "type": "scatter",
         "x": [
          0
         ],
         "y": [
          0.1252996408614167
         ]
        },
        {
         "legendgroup": "0",
         "marker": {
          "color": "#636EFA"
         },
         "mode": "markers",
         "name": "Dimension 0",
         "showlegend": false,
         "text": [
          "birth filtration = 0.0<br>death filtration = 0.4162931659299729<br>interval length = 0.4162931659299729<br>birth simplex = [339]<br>cyle representative nnz = 2<br>bounding chain nnz = 17.0<br>row of dataframe = 17"
         ],
         "type": "scatter",
         "x": [
          0
         ],
         "y": [
          0.4162931659299729
         ]
        },
        {
         "legendgroup": "0",
         "marker": {
          "color": "#636EFA"
         },
         "mode": "markers",
         "name": "Dimension 0",
         "showlegend": false,
         "text": [
          "birth filtration = 0.0<br>death filtration = 0.04472135954999543<br>interval length = 0.04472135954999543<br>birth simplex = [338]<br>cyle representative nnz = 2<br>bounding chain nnz = 1.0<br>row of dataframe = 18"
         ],
         "type": "scatter",
         "x": [
          0
         ],
         "y": [
          0.04472135954999543
         ]
        },
        {
         "legendgroup": "0",
         "marker": {
          "color": "#636EFA"
         },
         "mode": "markers",
         "name": "Dimension 0",
         "showlegend": false,
         "text": [
          "birth filtration = 0.0<br>death filtration = 0.23706539182259387<br>interval length = 0.23706539182259387<br>birth simplex = [337]<br>cyle representative nnz = 2<br>bounding chain nnz = 1.0<br>row of dataframe = 19"
         ],
         "type": "scatter",
         "x": [
          0
         ],
         "y": [
          0.23706539182259387
         ]
        },
        {
         "legendgroup": "0",
         "marker": {
          "color": "#636EFA"
         },
         "mode": "markers",
         "name": "Dimension 0",
         "showlegend": false,
         "text": [
          "birth filtration = 0.0<br>death filtration = 0.13000000000000003<br>interval length = 0.13000000000000003<br>birth simplex = [336]<br>cyle representative nnz = 2<br>bounding chain nnz = 1.0<br>row of dataframe = 20"
         ],
         "type": "scatter",
         "x": [
          0
         ],
         "y": [
          0.13000000000000003
         ]
        },
        {
         "legendgroup": "0",
         "marker": {
          "color": "#636EFA"
         },
         "mode": "markers",
         "name": "Dimension 0",
         "showlegend": false,
         "text": [
          "birth filtration = 0.0<br>death filtration = 0.19235384061671354<br>interval length = 0.19235384061671354<br>birth simplex = [335]<br>cyle representative nnz = 2<br>bounding chain nnz = 4.0<br>row of dataframe = 21"
         ],
         "type": "scatter",
         "x": [
          0
         ],
         "y": [
          0.19235384061671354
         ]
        },
        {
         "legendgroup": "0",
         "marker": {
          "color": "#636EFA"
         },
         "mode": "markers",
         "name": "Dimension 0",
         "showlegend": false,
         "text": [
          "birth filtration = 0.0<br>death filtration = 0.2236067977499792<br>interval length = 0.2236067977499792<br>birth simplex = [334]<br>cyle representative nnz = 2<br>bounding chain nnz = 2.0<br>row of dataframe = 22"
         ],
         "type": "scatter",
         "x": [
          0
         ],
         "y": [
          0.2236067977499792
         ]
        },
        {
         "legendgroup": "0",
         "marker": {
          "color": "#636EFA"
         },
         "mode": "markers",
         "name": "Dimension 0",
         "showlegend": false,
         "text": [
          "birth filtration = 0.0<br>death filtration = 0.24083189157584564<br>interval length = 0.24083189157584564<br>birth simplex = [333]<br>cyle representative nnz = 2<br>bounding chain nnz = 1.0<br>row of dataframe = 23"
         ],
         "type": "scatter",
         "x": [
          0
         ],
         "y": [
          0.24083189157584564
         ]
        },
        {
         "legendgroup": "0",
         "marker": {
          "color": "#636EFA"
         },
         "mode": "markers",
         "name": "Dimension 0",
         "showlegend": false,
         "text": [
          "birth filtration = 0.0<br>death filtration = 0.06708203932499335<br>interval length = 0.06708203932499335<br>birth simplex = [332]<br>cyle representative nnz = 2<br>bounding chain nnz = 1.0<br>row of dataframe = 24"
         ],
         "type": "scatter",
         "x": [
          0
         ],
         "y": [
          0.06708203932499335
         ]
        },
        {
         "legendgroup": "0",
         "marker": {
          "color": "#636EFA"
         },
         "mode": "markers",
         "name": "Dimension 0",
         "showlegend": false,
         "text": [
          "birth filtration = 0.0<br>death filtration = 0.2983286778035256<br>interval length = 0.2983286778035256<br>birth simplex = [331]<br>cyle representative nnz = 2<br>bounding chain nnz = 6.0<br>row of dataframe = 25"
         ],
         "type": "scatter",
         "x": [
          0
         ],
         "y": [
          0.2983286778035256
         ]
        },
        {
         "legendgroup": "0",
         "marker": {
          "color": "#636EFA"
         },
         "mode": "markers",
         "name": "Dimension 0",
         "showlegend": false,
         "text": [
          "birth filtration = 0.0<br>death filtration = 0.1664331697709323<br>interval length = 0.1664331697709323<br>birth simplex = [330]<br>cyle representative nnz = 2<br>bounding chain nnz = 1.0<br>row of dataframe = 26"
         ],
         "type": "scatter",
         "x": [
          0
         ],
         "y": [
          0.1664331697709323
         ]
        },
        {
         "legendgroup": "0",
         "marker": {
          "color": "#636EFA"
         },
         "mode": "markers",
         "name": "Dimension 0",
         "showlegend": false,
         "text": [
          "birth filtration = 0.0<br>death filtration = 0.25495097567963926<br>interval length = 0.25495097567963926<br>birth simplex = [329]<br>cyle representative nnz = 2<br>bounding chain nnz = 2.0<br>row of dataframe = 27"
         ],
         "type": "scatter",
         "x": [
          0
         ],
         "y": [
          0.25495097567963926
         ]
        },
        {
         "legendgroup": "0",
         "marker": {
          "color": "#636EFA"
         },
         "mode": "markers",
         "name": "Dimension 0",
         "showlegend": false,
         "text": [
          "birth filtration = 0.0<br>death filtration = 0.29206163733020446<br>interval length = 0.29206163733020446<br>birth simplex = [328]<br>cyle representative nnz = 2<br>bounding chain nnz = 2.0<br>row of dataframe = 28"
         ],
         "type": "scatter",
         "x": [
          0
         ],
         "y": [
          0.29206163733020446
         ]
        },
        {
         "legendgroup": "0",
         "marker": {
          "color": "#636EFA"
         },
         "mode": "markers",
         "name": "Dimension 0",
         "showlegend": false,
         "text": [
          "birth filtration = 0.0<br>death filtration = 0.05830951894845252<br>interval length = 0.05830951894845252<br>birth simplex = [327]<br>cyle representative nnz = 2<br>bounding chain nnz = 1.0<br>row of dataframe = 29"
         ],
         "type": "scatter",
         "x": [
          0
         ],
         "y": [
          0.05830951894845252
         ]
        },
        {
         "legendgroup": "0",
         "marker": {
          "color": "#636EFA"
         },
         "mode": "markers",
         "name": "Dimension 0",
         "showlegend": false,
         "text": [
          "birth filtration = 0.0<br>death filtration = 0.23537204591879596<br>interval length = 0.23537204591879596<br>birth simplex = [326]<br>cyle representative nnz = 2<br>bounding chain nnz = 1.0<br>row of dataframe = 30"
         ],
         "type": "scatter",
         "x": [
          0
         ],
         "y": [
          0.23537204591879596
         ]
        },
        {
         "legendgroup": "0",
         "marker": {
          "color": "#636EFA"
         },
         "mode": "markers",
         "name": "Dimension 0",
         "showlegend": false,
         "text": [
          "birth filtration = 0.0<br>death filtration = 0.21213203435596445<br>interval length = 0.21213203435596445<br>birth simplex = [325]<br>cyle representative nnz = 2<br>bounding chain nnz = 1.0<br>row of dataframe = 31"
         ],
         "type": "scatter",
         "x": [
          0
         ],
         "y": [
          0.21213203435596445
         ]
        },
        {
         "legendgroup": "0",
         "marker": {
          "color": "#636EFA"
         },
         "mode": "markers",
         "name": "Dimension 0",
         "showlegend": false,
         "text": [
          "birth filtration = 0.0<br>death filtration = 0.20099751242241795<br>interval length = 0.20099751242241795<br>birth simplex = [324]<br>cyle representative nnz = 2<br>bounding chain nnz = 1.0<br>row of dataframe = 32"
         ],
         "type": "scatter",
         "x": [
          0
         ],
         "y": [
          0.20099751242241795
         ]
        },
        {
         "legendgroup": "0",
         "marker": {
          "color": "#636EFA"
         },
         "mode": "markers",
         "name": "Dimension 0",
         "showlegend": false,
         "text": [
          "birth filtration = 0.0<br>death filtration = 0.2828427124746192<br>interval length = 0.2828427124746192<br>birth simplex = [323]<br>cyle representative nnz = 2<br>bounding chain nnz = 2.0<br>row of dataframe = 33"
         ],
         "type": "scatter",
         "x": [
          0
         ],
         "y": [
          0.2828427124746192
         ]
        },
        {
         "legendgroup": "0",
         "marker": {
          "color": "#636EFA"
         },
         "mode": "markers",
         "name": "Dimension 0",
         "showlegend": false,
         "text": [
          "birth filtration = 0.0<br>death filtration = 0.2118962010041711<br>interval length = 0.2118962010041711<br>birth simplex = [322]<br>cyle representative nnz = 2<br>bounding chain nnz = 1.0<br>row of dataframe = 34"
         ],
         "type": "scatter",
         "x": [
          0
         ],
         "y": [
          0.2118962010041711
         ]
        },
        {
         "legendgroup": "0",
         "marker": {
          "color": "#636EFA"
         },
         "mode": "markers",
         "name": "Dimension 0",
         "showlegend": false,
         "text": [
          "birth filtration = 0.0<br>death filtration = 0.07280109889280537<br>interval length = 0.07280109889280537<br>birth simplex = [321]<br>cyle representative nnz = 2<br>bounding chain nnz = 3.0<br>row of dataframe = 35"
         ],
         "type": "scatter",
         "x": [
          0
         ],
         "y": [
          0.07280109889280537
         ]
        },
        {
         "legendgroup": "0",
         "marker": {
          "color": "#636EFA"
         },
         "mode": "markers",
         "name": "Dimension 0",
         "showlegend": false,
         "text": [
          "birth filtration = 0.0<br>death filtration = 0.17888543819998315<br>interval length = 0.17888543819998315<br>birth simplex = [320]<br>cyle representative nnz = 2<br>bounding chain nnz = 1.0<br>row of dataframe = 36"
         ],
         "type": "scatter",
         "x": [
          0
         ],
         "y": [
          0.17888543819998315
         ]
        },
        {
         "legendgroup": "0",
         "marker": {
          "color": "#636EFA"
         },
         "mode": "markers",
         "name": "Dimension 0",
         "showlegend": false,
         "text": [
          "birth filtration = 0.0<br>death filtration = 0.39824615503479727<br>interval length = 0.39824615503479727<br>birth simplex = [319]<br>cyle representative nnz = 2<br>bounding chain nnz = 7.0<br>row of dataframe = 37"
         ],
         "type": "scatter",
         "x": [
          0
         ],
         "y": [
          0.39824615503479727
         ]
        },
        {
         "legendgroup": "0",
         "marker": {
          "color": "#636EFA"
         },
         "mode": "markers",
         "name": "Dimension 0",
         "showlegend": false,
         "text": [
          "birth filtration = 0.0<br>death filtration = 0.07000000000000028<br>interval length = 0.07000000000000028<br>birth simplex = [318]<br>cyle representative nnz = 2<br>bounding chain nnz = 1.0<br>row of dataframe = 38"
         ],
         "type": "scatter",
         "x": [
          0
         ],
         "y": [
          0.07000000000000028
         ]
        },
        {
         "legendgroup": "0",
         "marker": {
          "color": "#636EFA"
         },
         "mode": "markers",
         "name": "Dimension 0",
         "showlegend": false,
         "text": [
          "birth filtration = 0.0<br>death filtration = 0.14035668847618166<br>interval length = 0.14035668847618166<br>birth simplex = [317]<br>cyle representative nnz = 2<br>bounding chain nnz = 1.0<br>row of dataframe = 39"
         ],
         "type": "scatter",
         "x": [
          0
         ],
         "y": [
          0.14035668847618166
         ]
        },
        {
         "legendgroup": "0",
         "marker": {
          "color": "#636EFA"
         },
         "mode": "markers",
         "name": "Dimension 0",
         "showlegend": false,
         "text": [
          "birth filtration = 0.0<br>death filtration = 0.14422205101855962<br>interval length = 0.14422205101855962<br>birth simplex = [316]<br>cyle representative nnz = 2<br>bounding chain nnz = 1.0<br>row of dataframe = 40"
         ],
         "type": "scatter",
         "x": [
          0
         ],
         "y": [
          0.14422205101855962
         ]
        },
        {
         "legendgroup": "0",
         "marker": {
          "color": "#636EFA"
         },
         "mode": "markers",
         "name": "Dimension 0",
         "showlegend": false,
         "text": [
          "birth filtration = 0.0<br>death filtration = 0.38948684188300914<br>interval length = 0.38948684188300914<br>birth simplex = [315]<br>cyle representative nnz = 2<br>bounding chain nnz = 8.0<br>row of dataframe = 41"
         ],
         "type": "scatter",
         "x": [
          0
         ],
         "y": [
          0.38948684188300914
         ]
        },
        {
         "legendgroup": "0",
         "marker": {
          "color": "#636EFA"
         },
         "mode": "markers",
         "name": "Dimension 0",
         "showlegend": false,
         "text": [
          "birth filtration = 0.0<br>death filtration = 0.14317821063276343<br>interval length = 0.14317821063276343<br>birth simplex = [314]<br>cyle representative nnz = 2<br>bounding chain nnz = 1.0<br>row of dataframe = 42"
         ],
         "type": "scatter",
         "x": [
          0
         ],
         "y": [
          0.14317821063276343
         ]
        },
        {
         "legendgroup": "0",
         "marker": {
          "color": "#636EFA"
         },
         "mode": "markers",
         "name": "Dimension 0",
         "showlegend": false,
         "text": [
          "birth filtration = 0.0<br>death filtration = 0.24083189157584617<br>interval length = 0.24083189157584617<br>birth simplex = [313]<br>cyle representative nnz = 2<br>bounding chain nnz = 3.0<br>row of dataframe = 43"
         ],
         "type": "scatter",
         "x": [
          0
         ],
         "y": [
          0.24083189157584617
         ]
        },
        {
         "legendgroup": "0",
         "marker": {
          "color": "#636EFA"
         },
         "mode": "markers",
         "name": "Dimension 0",
         "showlegend": false,
         "text": [
          "birth filtration = 0.0<br>death filtration = 0.22360679774997896<br>interval length = 0.22360679774997896<br>birth simplex = [312]<br>cyle representative nnz = 2<br>bounding chain nnz = 2.0<br>row of dataframe = 44"
         ],
         "type": "scatter",
         "x": [
          0
         ],
         "y": [
          0.22360679774997896
         ]
        },
        {
         "legendgroup": "0",
         "marker": {
          "color": "#636EFA"
         },
         "mode": "markers",
         "name": "Dimension 0",
         "showlegend": false,
         "text": [
          "birth filtration = 0.0<br>death filtration = 0.33000000000000007<br>interval length = 0.33000000000000007<br>birth simplex = [311]<br>cyle representative nnz = 2<br>bounding chain nnz = 4.0<br>row of dataframe = 45"
         ],
         "type": "scatter",
         "x": [
          0
         ],
         "y": [
          0.33000000000000007
         ]
        },
        {
         "legendgroup": "0",
         "marker": {
          "color": "#636EFA"
         },
         "mode": "markers",
         "name": "Dimension 0",
         "showlegend": false,
         "text": [
          "birth filtration = 0.0<br>death filtration = 0.33734255586866013<br>interval length = 0.33734255586866013<br>birth simplex = [310]<br>cyle representative nnz = 2<br>bounding chain nnz = 2.0<br>row of dataframe = 46"
         ],
         "type": "scatter",
         "x": [
          0
         ],
         "y": [
          0.33734255586866013
         ]
        },
        {
         "legendgroup": "0",
         "marker": {
          "color": "#636EFA"
         },
         "mode": "markers",
         "name": "Dimension 0",
         "showlegend": false,
         "text": [
          "birth filtration = 0.0<br>death filtration = 0.2996664812754337<br>interval length = 0.2996664812754337<br>birth simplex = [309]<br>cyle representative nnz = 2<br>bounding chain nnz = 2.0<br>row of dataframe = 47"
         ],
         "type": "scatter",
         "x": [
          0
         ],
         "y": [
          0.2996664812754337
         ]
        },
        {
         "legendgroup": "0",
         "marker": {
          "color": "#636EFA"
         },
         "mode": "markers",
         "name": "Dimension 0",
         "showlegend": false,
         "text": [
          "birth filtration = 0.0<br>death filtration = 0.40459856648287856<br>interval length = 0.40459856648287856<br>birth simplex = [308]<br>cyle representative nnz = 2<br>bounding chain nnz = 10.0<br>row of dataframe = 48"
         ],
         "type": "scatter",
         "x": [
          0
         ],
         "y": [
          0.40459856648287856
         ]
        },
        {
         "legendgroup": "0",
         "marker": {
          "color": "#636EFA"
         },
         "mode": "markers",
         "name": "Dimension 0",
         "showlegend": false,
         "text": [
          "birth filtration = 0.0<br>death filtration = 0.10000000000000002<br>interval length = 0.10000000000000002<br>birth simplex = [307]<br>cyle representative nnz = 2<br>bounding chain nnz = 1.0<br>row of dataframe = 49"
         ],
         "type": "scatter",
         "x": [
          0
         ],
         "y": [
          0.10000000000000002
         ]
        },
        {
         "legendgroup": "0",
         "marker": {
          "color": "#636EFA"
         },
         "mode": "markers",
         "name": "Dimension 0",
         "showlegend": false,
         "text": [
          "birth filtration = 0.0<br>death filtration = 0.060827625302982136<br>interval length = 0.060827625302982136<br>birth simplex = [306]<br>cyle representative nnz = 2<br>bounding chain nnz = 1.0<br>row of dataframe = 50"
         ],
         "type": "scatter",
         "x": [
          0
         ],
         "y": [
          0.060827625302982136
         ]
        },
        {
         "legendgroup": "0",
         "marker": {
          "color": "#636EFA"
         },
         "mode": "markers",
         "name": "Dimension 0",
         "showlegend": false,
         "text": [
          "birth filtration = 0.0<br>death filtration = 0.1341640786499875<br>interval length = 0.1341640786499875<br>birth simplex = [305]<br>cyle representative nnz = 2<br>bounding chain nnz = 1.0<br>row of dataframe = 51"
         ],
         "type": "scatter",
         "x": [
          0
         ],
         "y": [
          0.1341640786499875
         ]
        },
        {
         "legendgroup": "0",
         "marker": {
          "color": "#636EFA"
         },
         "mode": "markers",
         "name": "Dimension 0",
         "showlegend": false,
         "text": [
          "birth filtration = 0.0<br>death filtration = 0.17888543819998323<br>interval length = 0.17888543819998323<br>birth simplex = [304]<br>cyle representative nnz = 2<br>bounding chain nnz = 2.0<br>row of dataframe = 52"
         ],
         "type": "scatter",
         "x": [
          0
         ],
         "y": [
          0.17888543819998323
         ]
        },
        {
         "legendgroup": "0",
         "marker": {
          "color": "#636EFA"
         },
         "mode": "markers",
         "name": "Dimension 0",
         "showlegend": false,
         "text": [
          "birth filtration = 0.0<br>death filtration = 0.5232590180780452<br>interval length = 0.5232590180780452<br>birth simplex = [303]<br>cyle representative nnz = 2<br>bounding chain nnz = 8.0<br>row of dataframe = 53"
         ],
         "type": "scatter",
         "x": [
          0
         ],
         "y": [
          0.5232590180780452
         ]
        },
        {
         "legendgroup": "0",
         "marker": {
          "color": "#636EFA"
         },
         "mode": "markers",
         "name": "Dimension 0",
         "showlegend": false,
         "text": [
          "birth filtration = 0.0<br>death filtration = 0.291204395571221<br>interval length = 0.291204395571221<br>birth simplex = [302]<br>cyle representative nnz = 2<br>bounding chain nnz = 3.0<br>row of dataframe = 54"
         ],
         "type": "scatter",
         "x": [
          0
         ],
         "y": [
          0.291204395571221
         ]
        },
        {
         "legendgroup": "0",
         "marker": {
          "color": "#636EFA"
         },
         "mode": "markers",
         "name": "Dimension 0",
         "showlegend": false,
         "text": [
          "birth filtration = 0.0<br>death filtration = 0.3599999999999999<br>interval length = 0.3599999999999999<br>birth simplex = [301]<br>cyle representative nnz = 2<br>bounding chain nnz = 1.0<br>row of dataframe = 55"
         ],
         "type": "scatter",
         "x": [
          0
         ],
         "y": [
          0.3599999999999999
         ]
        },
        {
         "legendgroup": "0",
         "marker": {
          "color": "#636EFA"
         },
         "mode": "markers",
         "name": "Dimension 0",
         "showlegend": false,
         "text": [
          "birth filtration = 0.0<br>death filtration = 0.06708203932499335<br>interval length = 0.06708203932499335<br>birth simplex = [300]<br>cyle representative nnz = 2<br>bounding chain nnz = 1.0<br>row of dataframe = 56"
         ],
         "type": "scatter",
         "x": [
          0
         ],
         "y": [
          0.06708203932499335
         ]
        },
        {
         "legendgroup": "0",
         "marker": {
          "color": "#636EFA"
         },
         "mode": "markers",
         "name": "Dimension 0",
         "showlegend": false,
         "text": [
          "birth filtration = 0.0<br>death filtration = 0.13601470508735433<br>interval length = 0.13601470508735433<br>birth simplex = [299]<br>cyle representative nnz = 2<br>bounding chain nnz = 1.0<br>row of dataframe = 57"
         ],
         "type": "scatter",
         "x": [
          0
         ],
         "y": [
          0.13601470508735433
         ]
        },
        {
         "legendgroup": "0",
         "marker": {
          "color": "#636EFA"
         },
         "mode": "markers",
         "name": "Dimension 0",
         "showlegend": false,
         "text": [
          "birth filtration = 0.0<br>death filtration = 0.06082762530298181<br>interval length = 0.06082762530298181<br>birth simplex = [298]<br>cyle representative nnz = 2<br>bounding chain nnz = 1.0<br>row of dataframe = 58"
         ],
         "type": "scatter",
         "x": [
          0
         ],
         "y": [
          0.06082762530298181
         ]
        },
        {
         "legendgroup": "0",
         "marker": {
          "color": "#636EFA"
         },
         "mode": "markers",
         "name": "Dimension 0",
         "showlegend": false,
         "text": [
          "birth filtration = 0.0<br>death filtration = 0.19026297590440447<br>interval length = 0.19026297590440447<br>birth simplex = [297]<br>cyle representative nnz = 2<br>bounding chain nnz = 2.0<br>row of dataframe = 59"
         ],
         "type": "scatter",
         "x": [
          0
         ],
         "y": [
          0.19026297590440447
         ]
        },
        {
         "legendgroup": "0",
         "marker": {
          "color": "#636EFA"
         },
         "mode": "markers",
         "name": "Dimension 0",
         "showlegend": false,
         "text": [
          "birth filtration = 0.0<br>death filtration = 0.17492855684535907<br>interval length = 0.17492855684535907<br>birth simplex = [296]<br>cyle representative nnz = 2<br>bounding chain nnz = 1.0<br>row of dataframe = 60"
         ],
         "type": "scatter",
         "x": [
          0
         ],
         "y": [
          0.17492855684535907
         ]
        },
        {
         "legendgroup": "0",
         "marker": {
          "color": "#636EFA"
         },
         "mode": "markers",
         "name": "Dimension 0",
         "showlegend": false,
         "text": [
          "birth filtration = 0.0<br>death filtration = 0.30066592756745797<br>interval length = 0.30066592756745797<br>birth simplex = [295]<br>cyle representative nnz = 2<br>bounding chain nnz = 2.0<br>row of dataframe = 61"
         ],
         "type": "scatter",
         "x": [
          0
         ],
         "y": [
          0.30066592756745797
         ]
        },
        {
         "legendgroup": "0",
         "marker": {
          "color": "#636EFA"
         },
         "mode": "markers",
         "name": "Dimension 0",
         "showlegend": false,
         "text": [
          "birth filtration = 0.0<br>death filtration = 0.050000000000000044<br>interval length = 0.050000000000000044<br>birth simplex = [294]<br>cyle representative nnz = 2<br>bounding chain nnz = 1.0<br>row of dataframe = 62"
         ],
         "type": "scatter",
         "x": [
          0
         ],
         "y": [
          0.050000000000000044
         ]
        },
        {
         "legendgroup": "0",
         "marker": {
          "color": "#636EFA"
         },
         "mode": "markers",
         "name": "Dimension 0",
         "showlegend": false,
         "text": [
          "birth filtration = 0.0<br>death filtration = 0.031622776601683895<br>interval length = 0.031622776601683895<br>birth simplex = [293]<br>cyle representative nnz = 2<br>bounding chain nnz = 1.0<br>row of dataframe = 63"
         ],
         "type": "scatter",
         "x": [
          0
         ],
         "y": [
          0.031622776601683895
         ]
        },
        {
         "legendgroup": "0",
         "marker": {
          "color": "#636EFA"
         },
         "mode": "markers",
         "name": "Dimension 0",
         "showlegend": false,
         "text": [
          "birth filtration = 0.0<br>death filtration = 0.10440306508910566<br>interval length = 0.10440306508910566<br>birth simplex = [292]<br>cyle representative nnz = 2<br>bounding chain nnz = 1.0<br>row of dataframe = 64"
         ],
         "type": "scatter",
         "x": [
          0
         ],
         "y": [
          0.10440306508910566
         ]
        },
        {
         "legendgroup": "0",
         "marker": {
          "color": "#636EFA"
         },
         "mode": "markers",
         "name": "Dimension 0",
         "showlegend": false,
         "text": [
          "birth filtration = 0.0<br>death filtration = 0.0632455532033675<br>interval length = 0.0632455532033675<br>birth simplex = [291]<br>cyle representative nnz = 2<br>bounding chain nnz = 1.0<br>row of dataframe = 65"
         ],
         "type": "scatter",
         "x": [
          0
         ],
         "y": [
          0.0632455532033675
         ]
        },
        {
         "legendgroup": "0",
         "marker": {
          "color": "#636EFA"
         },
         "mode": "markers",
         "name": "Dimension 0",
         "showlegend": false,
         "text": [
          "birth filtration = 0.0<br>death filtration = 0.27202941017470866<br>interval length = 0.27202941017470866<br>birth simplex = [290]<br>cyle representative nnz = 2<br>bounding chain nnz = 3.0<br>row of dataframe = 66"
         ],
         "type": "scatter",
         "x": [
          0
         ],
         "y": [
          0.27202941017470866
         ]
        },
        {
         "legendgroup": "0",
         "marker": {
          "color": "#636EFA"
         },
         "mode": "markers",
         "name": "Dimension 0",
         "showlegend": false,
         "text": [
          "birth filtration = 0.0<br>death filtration = 0.19104973174542794<br>interval length = 0.19104973174542794<br>birth simplex = [289]<br>cyle representative nnz = 2<br>bounding chain nnz = 2.0<br>row of dataframe = 67"
         ],
         "type": "scatter",
         "x": [
          0
         ],
         "y": [
          0.19104973174542794
         ]
        },
        {
         "legendgroup": "0",
         "marker": {
          "color": "#636EFA"
         },
         "mode": "markers",
         "name": "Dimension 0",
         "showlegend": false,
         "text": [
          "birth filtration = 0.0<br>death filtration = 0.34525353003264125<br>interval length = 0.34525353003264125<br>birth simplex = [288]<br>cyle representative nnz = 2<br>bounding chain nnz = 7.0<br>row of dataframe = 68"
         ],
         "type": "scatter",
         "x": [
          0
         ],
         "y": [
          0.34525353003264125
         ]
        },
        {
         "legendgroup": "0",
         "marker": {
          "color": "#636EFA"
         },
         "mode": "markers",
         "name": "Dimension 0",
         "showlegend": false,
         "text": [
          "birth filtration = 0.0<br>death filtration = 0.2828427124746193<br>interval length = 0.2828427124746193<br>birth simplex = [287]<br>cyle representative nnz = 2<br>bounding chain nnz = 1.0<br>row of dataframe = 69"
         ],
         "type": "scatter",
         "x": [
          0
         ],
         "y": [
          0.2828427124746193
         ]
        },
        {
         "legendgroup": "0",
         "marker": {
          "color": "#636EFA"
         },
         "mode": "markers",
         "name": "Dimension 0",
         "showlegend": false,
         "text": [
          "birth filtration = 0.0<br>death filtration = 0.1360147050873543<br>interval length = 0.1360147050873543<br>birth simplex = [286]<br>cyle representative nnz = 2<br>bounding chain nnz = 1.0<br>row of dataframe = 70"
         ],
         "type": "scatter",
         "x": [
          0
         ],
         "y": [
          0.1360147050873543
         ]
        },
        {
         "legendgroup": "0",
         "marker": {
          "color": "#636EFA"
         },
         "mode": "markers",
         "name": "Dimension 0",
         "showlegend": false,
         "text": [
          "birth filtration = 0.0<br>death filtration = 0.3047950130825634<br>interval length = 0.3047950130825634<br>birth simplex = [285]<br>cyle representative nnz = 2<br>bounding chain nnz = 3.0<br>row of dataframe = 71"
         ],
         "type": "scatter",
         "x": [
          0
         ],
         "y": [
          0.3047950130825634
         ]
        },
        {
         "legendgroup": "0",
         "marker": {
          "color": "#636EFA"
         },
         "mode": "markers",
         "name": "Dimension 0",
         "showlegend": false,
         "text": [
          "birth filtration = 0.0<br>death filtration = 0.19313207915827965<br>interval length = 0.19313207915827965<br>birth simplex = [284]<br>cyle representative nnz = 2<br>bounding chain nnz = 1.0<br>row of dataframe = 72"
         ],
         "type": "scatter",
         "x": [
          0
         ],
         "y": [
          0.19313207915827965
         ]
        },
        {
         "legendgroup": "0",
         "marker": {
          "color": "#636EFA"
         },
         "mode": "markers",
         "name": "Dimension 0",
         "showlegend": false,
         "text": [
          "birth filtration = 0.0<br>death filtration = 0.26019223662515384<br>interval length = 0.26019223662515384<br>birth simplex = [283]<br>cyle representative nnz = 2<br>bounding chain nnz = 2.0<br>row of dataframe = 73"
         ],
         "type": "scatter",
         "x": [
          0
         ],
         "y": [
          0.26019223662515384
         ]
        },
        {
         "legendgroup": "0",
         "marker": {
          "color": "#636EFA"
         },
         "mode": "markers",
         "name": "Dimension 0",
         "showlegend": false,
         "text": [
          "birth filtration = 0.0<br>death filtration = 0.24166091947189125<br>interval length = 0.24166091947189125<br>birth simplex = [282]<br>cyle representative nnz = 2<br>bounding chain nnz = 1.0<br>row of dataframe = 74"
         ],
         "type": "scatter",
         "x": [
          0
         ],
         "y": [
          0.24166091947189125
         ]
        },
        {
         "legendgroup": "0",
         "marker": {
          "color": "#636EFA"
         },
         "mode": "markers",
         "name": "Dimension 0",
         "showlegend": false,
         "text": [
          "birth filtration = 0.0<br>death filtration = 0.33541019662496807<br>interval length = 0.33541019662496807<br>birth simplex = [281]<br>cyle representative nnz = 2<br>bounding chain nnz = 3.0<br>row of dataframe = 75"
         ],
         "type": "scatter",
         "x": [
          0
         ],
         "y": [
          0.33541019662496807
         ]
        },
        {
         "legendgroup": "0",
         "marker": {
          "color": "#636EFA"
         },
         "mode": "markers",
         "name": "Dimension 0",
         "showlegend": false,
         "text": [
          "birth filtration = 0.0<br>death filtration = 0.13038404810405288<br>interval length = 0.13038404810405288<br>birth simplex = [280]<br>cyle representative nnz = 2<br>bounding chain nnz = 1.0<br>row of dataframe = 76"
         ],
         "type": "scatter",
         "x": [
          0
         ],
         "y": [
          0.13038404810405288
         ]
        },
        {
         "legendgroup": "0",
         "marker": {
          "color": "#636EFA"
         },
         "mode": "markers",
         "name": "Dimension 0",
         "showlegend": false,
         "text": [
          "birth filtration = 0.0<br>death filtration = 0.04999999999999993<br>interval length = 0.04999999999999993<br>birth simplex = [279]<br>cyle representative nnz = 2<br>bounding chain nnz = 1.0<br>row of dataframe = 77"
         ],
         "type": "scatter",
         "x": [
          0
         ],
         "y": [
          0.04999999999999993
         ]
        },
        {
         "legendgroup": "0",
         "marker": {
          "color": "#636EFA"
         },
         "mode": "markers",
         "name": "Dimension 0",
         "showlegend": false,
         "text": [
          "birth filtration = 0.0<br>death filtration = 0.3492849839314595<br>interval length = 0.3492849839314595<br>birth simplex = [278]<br>cyle representative nnz = 2<br>bounding chain nnz = 3.0<br>row of dataframe = 78"
         ],
         "type": "scatter",
         "x": [
          0
         ],
         "y": [
          0.3492849839314595
         ]
        },
        {
         "legendgroup": "0",
         "marker": {
          "color": "#636EFA"
         },
         "mode": "markers",
         "name": "Dimension 0",
         "showlegend": false,
         "text": [
          "birth filtration = 0.0<br>death filtration = 0.32557641192199427<br>interval length = 0.32557641192199427<br>birth simplex = [277]<br>cyle representative nnz = 2<br>bounding chain nnz = 2.0<br>row of dataframe = 79"
         ],
         "type": "scatter",
         "x": [
          0
         ],
         "y": [
          0.32557641192199427
         ]
        },
        {
         "legendgroup": "0",
         "marker": {
          "color": "#636EFA"
         },
         "mode": "markers",
         "name": "Dimension 0",
         "showlegend": false,
         "text": [
          "birth filtration = 0.0<br>death filtration = 0.1931320791582802<br>interval length = 0.1931320791582802<br>birth simplex = [276]<br>cyle representative nnz = 2<br>bounding chain nnz = 2.0<br>row of dataframe = 80"
         ],
         "type": "scatter",
         "x": [
          0
         ],
         "y": [
          0.1931320791582802
         ]
        },
        {
         "legendgroup": "0",
         "marker": {
          "color": "#636EFA"
         },
         "mode": "markers",
         "name": "Dimension 0",
         "showlegend": false,
         "text": [
          "birth filtration = 0.0<br>death filtration = 0.3189043743820395<br>interval length = 0.3189043743820395<br>birth simplex = [275]<br>cyle representative nnz = 2<br>bounding chain nnz = 4.0<br>row of dataframe = 81"
         ],
         "type": "scatter",
         "x": [
          0
         ],
         "y": [
          0.3189043743820395
         ]
        },
        {
         "legendgroup": "0",
         "marker": {
          "color": "#636EFA"
         },
         "mode": "markers",
         "name": "Dimension 0",
         "showlegend": false,
         "text": [
          "birth filtration = 0.0<br>death filtration = 0.022360679774998313<br>interval length = 0.022360679774998313<br>birth simplex = [274]<br>cyle representative nnz = 2<br>bounding chain nnz = 1.0<br>row of dataframe = 82"
         ],
         "type": "scatter",
         "x": [
          0
         ],
         "y": [
          0.022360679774998313
         ]
        },
        {
         "legendgroup": "0",
         "marker": {
          "color": "#636EFA"
         },
         "mode": "markers",
         "name": "Dimension 0",
         "showlegend": false,
         "text": [
          "birth filtration = 0.0<br>death filtration = 0.06403124237432836<br>interval length = 0.06403124237432836<br>birth simplex = [273]<br>cyle representative nnz = 2<br>bounding chain nnz = 1.0<br>row of dataframe = 83"
         ],
         "type": "scatter",
         "x": [
          0
         ],
         "y": [
          0.06403124237432836
         ]
        },
        {
         "legendgroup": "0",
         "marker": {
          "color": "#636EFA"
         },
         "mode": "markers",
         "name": "Dimension 0",
         "showlegend": false,
         "text": [
          "birth filtration = 0.0<br>death filtration = 0.22999999999999954<br>interval length = 0.22999999999999954<br>birth simplex = [272]<br>cyle representative nnz = 2<br>bounding chain nnz = 2.0<br>row of dataframe = 84"
         ],
         "type": "scatter",
         "x": [
          0
         ],
         "y": [
          0.22999999999999954
         ]
        },
        {
         "legendgroup": "0",
         "marker": {
          "color": "#636EFA"
         },
         "mode": "markers",
         "name": "Dimension 0",
         "showlegend": false,
         "text": [
          "birth filtration = 0.0<br>death filtration = 0.1868154169226943<br>interval length = 0.1868154169226943<br>birth simplex = [271]<br>cyle representative nnz = 2<br>bounding chain nnz = 1.0<br>row of dataframe = 85"
         ],
         "type": "scatter",
         "x": [
          0
         ],
         "y": [
          0.1868154169226943
         ]
        },
        {
         "legendgroup": "0",
         "marker": {
          "color": "#636EFA"
         },
         "mode": "markers",
         "name": "Dimension 0",
         "showlegend": false,
         "text": [
          "birth filtration = 0.0<br>death filtration = 0.12727922061357835<br>interval length = 0.12727922061357835<br>birth simplex = [270]<br>cyle representative nnz = 2<br>bounding chain nnz = 1.0<br>row of dataframe = 86"
         ],
         "type": "scatter",
         "x": [
          0
         ],
         "y": [
          0.12727922061357835
         ]
        },
        {
         "legendgroup": "0",
         "marker": {
          "color": "#636EFA"
         },
         "mode": "markers",
         "name": "Dimension 0",
         "showlegend": false,
         "text": [
          "birth filtration = 0.0<br>death filtration = 0.19313207915827943<br>interval length = 0.19313207915827943<br>birth simplex = [269]<br>cyle representative nnz = 2<br>bounding chain nnz = 1.0<br>row of dataframe = 87"
         ],
         "type": "scatter",
         "x": [
          0
         ],
         "y": [
          0.19313207915827943
         ]
        },
        {
         "legendgroup": "0",
         "marker": {
          "color": "#636EFA"
         },
         "mode": "markers",
         "name": "Dimension 0",
         "showlegend": false,
         "text": [
          "birth filtration = 0.0<br>death filtration = 0.23345235059857503<br>interval length = 0.23345235059857503<br>birth simplex = [268]<br>cyle representative nnz = 2<br>bounding chain nnz = 4.0<br>row of dataframe = 88"
         ],
         "type": "scatter",
         "x": [
          0
         ],
         "y": [
          0.23345235059857503
         ]
        },
        {
         "legendgroup": "0",
         "marker": {
          "color": "#636EFA"
         },
         "mode": "markers",
         "name": "Dimension 0",
         "showlegend": false,
         "text": [
          "birth filtration = 0.0<br>death filtration = 0.32649655434628994<br>interval length = 0.32649655434628994<br>birth simplex = [267]<br>cyle representative nnz = 2<br>bounding chain nnz = 4.0<br>row of dataframe = 89"
         ],
         "type": "scatter",
         "x": [
          0
         ],
         "y": [
          0.32649655434628994
         ]
        },
        {
         "legendgroup": "0",
         "marker": {
          "color": "#636EFA"
         },
         "mode": "markers",
         "name": "Dimension 0",
         "showlegend": false,
         "text": [
          "birth filtration = 0.0<br>death filtration = 0.2024845673131655<br>interval length = 0.2024845673131655<br>birth simplex = [266]<br>cyle representative nnz = 2<br>bounding chain nnz = 1.0<br>row of dataframe = 90"
         ],
         "type": "scatter",
         "x": [
          0
         ],
         "y": [
          0.2024845673131655
         ]
        },
        {
         "legendgroup": "0",
         "marker": {
          "color": "#636EFA"
         },
         "mode": "markers",
         "name": "Dimension 0",
         "showlegend": false,
         "text": [
          "birth filtration = 0.0<br>death filtration = 0.15811388300841914<br>interval length = 0.15811388300841914<br>birth simplex = [265]<br>cyle representative nnz = 2<br>bounding chain nnz = 2.0<br>row of dataframe = 91"
         ],
         "type": "scatter",
         "x": [
          0
         ],
         "y": [
          0.15811388300841914
         ]
        },
        {
         "legendgroup": "0",
         "marker": {
          "color": "#636EFA"
         },
         "mode": "markers",
         "name": "Dimension 0",
         "showlegend": false,
         "text": [
          "birth filtration = 0.0<br>death filtration = 0.2692582403567253<br>interval length = 0.2692582403567253<br>birth simplex = [264]<br>cyle representative nnz = 2<br>bounding chain nnz = 3.0<br>row of dataframe = 92"
         ],
         "type": "scatter",
         "x": [
          0
         ],
         "y": [
          0.2692582403567253
         ]
        },
        {
         "legendgroup": "0",
         "marker": {
          "color": "#636EFA"
         },
         "mode": "markers",
         "name": "Dimension 0",
         "showlegend": false,
         "text": [
          "birth filtration = 0.0<br>death filtration = 0.3014962686336265<br>interval length = 0.3014962686336265<br>birth simplex = [263]<br>cyle representative nnz = 2<br>bounding chain nnz = 3.0<br>row of dataframe = 93"
         ],
         "type": "scatter",
         "x": [
          0
         ],
         "y": [
          0.3014962686336265
         ]
        },
        {
         "legendgroup": "0",
         "marker": {
          "color": "#636EFA"
         },
         "mode": "markers",
         "name": "Dimension 0",
         "showlegend": false,
         "text": [
          "birth filtration = 0.0<br>death filtration = 0.0632455532033675<br>interval length = 0.0632455532033675<br>birth simplex = [262]<br>cyle representative nnz = 2<br>bounding chain nnz = 1.0<br>row of dataframe = 94"
         ],
         "type": "scatter",
         "x": [
          0
         ],
         "y": [
          0.0632455532033675
         ]
        },
        {
         "legendgroup": "0",
         "marker": {
          "color": "#636EFA"
         },
         "mode": "markers",
         "name": "Dimension 0",
         "showlegend": false,
         "text": [
          "birth filtration = 0.0<br>death filtration = 0.4024922359499619<br>interval length = 0.4024922359499619<br>birth simplex = [261]<br>cyle representative nnz = 2<br>bounding chain nnz = 6.0<br>row of dataframe = 95"
         ],
         "type": "scatter",
         "x": [
          0
         ],
         "y": [
          0.4024922359499619
         ]
        },
        {
         "legendgroup": "0",
         "marker": {
          "color": "#636EFA"
         },
         "mode": "markers",
         "name": "Dimension 0",
         "showlegend": false,
         "text": [
          "birth filtration = 0.0<br>death filtration = 0.16278820596099702<br>interval length = 0.16278820596099702<br>birth simplex = [260]<br>cyle representative nnz = 2<br>bounding chain nnz = 1.0<br>row of dataframe = 96"
         ],
         "type": "scatter",
         "x": [
          0
         ],
         "y": [
          0.16278820596099702
         ]
        },
        {
         "legendgroup": "0",
         "marker": {
          "color": "#636EFA"
         },
         "mode": "markers",
         "name": "Dimension 0",
         "showlegend": false,
         "text": [
          "birth filtration = 0.0<br>death filtration = 0.3689173349139343<br>interval length = 0.3689173349139343<br>birth simplex = [259]<br>cyle representative nnz = 2<br>bounding chain nnz = 4.0<br>row of dataframe = 97"
         ],
         "type": "scatter",
         "x": [
          0
         ],
         "y": [
          0.3689173349139343
         ]
        },
        {
         "legendgroup": "0",
         "marker": {
          "color": "#636EFA"
         },
         "mode": "markers",
         "name": "Dimension 0",
         "showlegend": false,
         "text": [
          "birth filtration = 0.0<br>death filtration = 0.1769180601295413<br>interval length = 0.1769180601295413<br>birth simplex = [258]<br>cyle representative nnz = 2<br>bounding chain nnz = 3.0<br>row of dataframe = 98"
         ],
         "type": "scatter",
         "x": [
          0
         ],
         "y": [
          0.1769180601295413
         ]
        },
        {
         "legendgroup": "0",
         "marker": {
          "color": "#636EFA"
         },
         "mode": "markers",
         "name": "Dimension 0",
         "showlegend": false,
         "text": [
          "birth filtration = 0.0<br>death filtration = 0.22671568097509295<br>interval length = 0.22671568097509295<br>birth simplex = [257]<br>cyle representative nnz = 2<br>bounding chain nnz = 1.0<br>row of dataframe = 99"
         ],
         "type": "scatter",
         "x": [
          0
         ],
         "y": [
          0.22671568097509295
         ]
        },
        {
         "legendgroup": "0",
         "marker": {
          "color": "#636EFA"
         },
         "mode": "markers",
         "name": "Dimension 0",
         "showlegend": false,
         "text": [
          "birth filtration = 0.0<br>death filtration = 0.09848857801796092<br>interval length = 0.09848857801796092<br>birth simplex = [256]<br>cyle representative nnz = 2<br>bounding chain nnz = 1.0<br>row of dataframe = 100"
         ],
         "type": "scatter",
         "x": [
          0
         ],
         "y": [
          0.09848857801796092
         ]
        },
        {
         "legendgroup": "0",
         "marker": {
          "color": "#636EFA"
         },
         "mode": "markers",
         "name": "Dimension 0",
         "showlegend": false,
         "text": [
          "birth filtration = 0.0<br>death filtration = 0.15811388300841847<br>interval length = 0.15811388300841847<br>birth simplex = [255]<br>cyle representative nnz = 2<br>bounding chain nnz = 2.0<br>row of dataframe = 101"
         ],
         "type": "scatter",
         "x": [
          0
         ],
         "y": [
          0.15811388300841847
         ]
        },
        {
         "legendgroup": "0",
         "marker": {
          "color": "#636EFA"
         },
         "mode": "markers",
         "name": "Dimension 0",
         "showlegend": false,
         "text": [
          "birth filtration = 0.0<br>death filtration = 0.0848528137423861<br>interval length = 0.0848528137423861<br>birth simplex = [254]<br>cyle representative nnz = 2<br>bounding chain nnz = 1.0<br>row of dataframe = 102"
         ],
         "type": "scatter",
         "x": [
          0
         ],
         "y": [
          0.0848528137423861
         ]
        },
        {
         "legendgroup": "0",
         "marker": {
          "color": "#636EFA"
         },
         "mode": "markers",
         "name": "Dimension 0",
         "showlegend": false,
         "text": [
          "birth filtration = 0.0<br>death filtration = 0.3606937759374287<br>interval length = 0.3606937759374287<br>birth simplex = [253]<br>cyle representative nnz = 2<br>bounding chain nnz = 22.0<br>row of dataframe = 103"
         ],
         "type": "scatter",
         "x": [
          0
         ],
         "y": [
          0.3606937759374287
         ]
        },
        {
         "legendgroup": "0",
         "marker": {
          "color": "#636EFA"
         },
         "mode": "markers",
         "name": "Dimension 0",
         "showlegend": false,
         "text": [
          "birth filtration = 0.0<br>death filtration = 0.1664331697709329<br>interval length = 0.1664331697709329<br>birth simplex = [252]<br>cyle representative nnz = 2<br>bounding chain nnz = 3.0<br>row of dataframe = 104"
         ],
         "type": "scatter",
         "x": [
          0
         ],
         "y": [
          0.1664331697709329
         ]
        },
        {
         "legendgroup": "0",
         "marker": {
          "color": "#636EFA"
         },
         "mode": "markers",
         "name": "Dimension 0",
         "showlegend": false,
         "text": [
          "birth filtration = 0.0<br>death filtration = 0.15264337522473753<br>interval length = 0.15264337522473753<br>birth simplex = [251]<br>cyle representative nnz = 2<br>bounding chain nnz = 2.0<br>row of dataframe = 105"
         ],
         "type": "scatter",
         "x": [
          0
         ],
         "y": [
          0.15264337522473753
         ]
        },
        {
         "legendgroup": "0",
         "marker": {
          "color": "#636EFA"
         },
         "mode": "markers",
         "name": "Dimension 0",
         "showlegend": false,
         "text": [
          "birth filtration = 0.0<br>death filtration = 0.14317821063276345<br>interval length = 0.14317821063276345<br>birth simplex = [250]<br>cyle representative nnz = 2<br>bounding chain nnz = 2.0<br>row of dataframe = 106"
         ],
         "type": "scatter",
         "x": [
          0
         ],
         "y": [
          0.14317821063276345
         ]
        },
        {
         "legendgroup": "0",
         "marker": {
          "color": "#636EFA"
         },
         "mode": "markers",
         "name": "Dimension 0",
         "showlegend": false,
         "text": [
          "birth filtration = 0.0<br>death filtration = 0.09219544457292875<br>interval length = 0.09219544457292875<br>birth simplex = [249]<br>cyle representative nnz = 2<br>bounding chain nnz = 1.0<br>row of dataframe = 107"
         ],
         "type": "scatter",
         "x": [
          0
         ],
         "y": [
          0.09219544457292875
         ]
        },
        {
         "legendgroup": "0",
         "marker": {
          "color": "#636EFA"
         },
         "mode": "markers",
         "name": "Dimension 0",
         "showlegend": false,
         "text": [
          "birth filtration = 0.0<br>death filtration = 0.05385164807134488<br>interval length = 0.05385164807134488<br>birth simplex = [248]<br>cyle representative nnz = 2<br>bounding chain nnz = 1.0<br>row of dataframe = 108"
         ],
         "type": "scatter",
         "x": [
          0
         ],
         "y": [
          0.05385164807134488
         ]
        },
        {
         "legendgroup": "0",
         "marker": {
          "color": "#636EFA"
         },
         "mode": "markers",
         "name": "Dimension 0",
         "showlegend": false,
         "text": [
          "birth filtration = 0.0<br>death filtration = 0.33241540277189274<br>interval length = 0.33241540277189274<br>birth simplex = [247]<br>cyle representative nnz = 2<br>bounding chain nnz = 5.0<br>row of dataframe = 109"
         ],
         "type": "scatter",
         "x": [
          0
         ],
         "y": [
          0.33241540277189274
         ]
        },
        {
         "legendgroup": "0",
         "marker": {
          "color": "#636EFA"
         },
         "mode": "markers",
         "name": "Dimension 0",
         "showlegend": false,
         "text": [
          "birth filtration = 0.0<br>death filtration = 0.10000000000000009<br>interval length = 0.10000000000000009<br>birth simplex = [246]<br>cyle representative nnz = 2<br>bounding chain nnz = 1.0<br>row of dataframe = 110"
         ],
         "type": "scatter",
         "x": [
          0
         ],
         "y": [
          0.10000000000000009
         ]
        },
        {
         "legendgroup": "0",
         "marker": {
          "color": "#636EFA"
         },
         "mode": "markers",
         "name": "Dimension 0",
         "showlegend": false,
         "text": [
          "birth filtration = 0.0<br>death filtration = 0.0943398113205659<br>interval length = 0.0943398113205659<br>birth simplex = [245]<br>cyle representative nnz = 2<br>bounding chain nnz = 1.0<br>row of dataframe = 111"
         ],
         "type": "scatter",
         "x": [
          0
         ],
         "y": [
          0.0943398113205659
         ]
        },
        {
         "legendgroup": "0",
         "marker": {
          "color": "#636EFA"
         },
         "mode": "markers",
         "name": "Dimension 0",
         "showlegend": false,
         "text": [
          "birth filtration = 0.0<br>death filtration = 0.3101612483854164<br>interval length = 0.3101612483854164<br>birth simplex = [244]<br>cyle representative nnz = 2<br>bounding chain nnz = 2.0<br>row of dataframe = 112"
         ],
         "type": "scatter",
         "x": [
          0
         ],
         "y": [
          0.3101612483854164
         ]
        },
        {
         "legendgroup": "0",
         "marker": {
          "color": "#636EFA"
         },
         "mode": "markers",
         "name": "Dimension 0",
         "showlegend": false,
         "text": [
          "birth filtration = 0.0<br>death filtration = 0.10630145812734669<br>interval length = 0.10630145812734669<br>birth simplex = [243]<br>cyle representative nnz = 2<br>bounding chain nnz = 1.0<br>row of dataframe = 113"
         ],
         "type": "scatter",
         "x": [
          0
         ],
         "y": [
          0.10630145812734669
         ]
        },
        {
         "legendgroup": "0",
         "marker": {
          "color": "#636EFA"
         },
         "mode": "markers",
         "name": "Dimension 0",
         "showlegend": false,
         "text": [
          "birth filtration = 0.0<br>death filtration = 0.09999999999999964<br>interval length = 0.09999999999999964<br>birth simplex = [242]<br>cyle representative nnz = 2<br>bounding chain nnz = 1.0<br>row of dataframe = 114"
         ],
         "type": "scatter",
         "x": [
          0
         ],
         "y": [
          0.09999999999999964
         ]
        },
        {
         "legendgroup": "0",
         "marker": {
          "color": "#636EFA"
         },
         "mode": "markers",
         "name": "Dimension 0",
         "showlegend": false,
         "text": [
          "birth filtration = 0.0<br>death filtration = 0.10630145812734651<br>interval length = 0.10630145812734651<br>birth simplex = [241]<br>cyle representative nnz = 2<br>bounding chain nnz = 1.0<br>row of dataframe = 115"
         ],
         "type": "scatter",
         "x": [
          0
         ],
         "y": [
          0.10630145812734651
         ]
        },
        {
         "legendgroup": "0",
         "marker": {
          "color": "#636EFA"
         },
         "mode": "markers",
         "name": "Dimension 0",
         "showlegend": false,
         "text": [
          "birth filtration = 0.0<br>death filtration = 0.23430749027719977<br>interval length = 0.23430749027719977<br>birth simplex = [240]<br>cyle representative nnz = 2<br>bounding chain nnz = 1.0<br>row of dataframe = 116"
         ],
         "type": "scatter",
         "x": [
          0
         ],
         "y": [
          0.23430749027719977
         ]
        },
        {
         "legendgroup": "0",
         "marker": {
          "color": "#636EFA"
         },
         "mode": "markers",
         "name": "Dimension 0",
         "showlegend": false,
         "text": [
          "birth filtration = 0.0<br>death filtration = 0.22090722034374585<br>interval length = 0.22090722034374585<br>birth simplex = [239]<br>cyle representative nnz = 2<br>bounding chain nnz = 1.0<br>row of dataframe = 117"
         ],
         "type": "scatter",
         "x": [
          0
         ],
         "y": [
          0.22090722034374585
         ]
        },
        {
         "legendgroup": "0",
         "marker": {
          "color": "#636EFA"
         },
         "mode": "markers",
         "name": "Dimension 0",
         "showlegend": false,
         "text": [
          "birth filtration = 0.0<br>death filtration = 0.09219544457292961<br>interval length = 0.09219544457292961<br>birth simplex = [238]<br>cyle representative nnz = 2<br>bounding chain nnz = 1.0<br>row of dataframe = 118"
         ],
         "type": "scatter",
         "x": [
          0
         ],
         "y": [
          0.09219544457292961
         ]
        },
        {
         "legendgroup": "0",
         "marker": {
          "color": "#636EFA"
         },
         "mode": "markers",
         "name": "Dimension 0",
         "showlegend": false,
         "text": [
          "birth filtration = 0.0<br>death filtration = 0.1220655561573375<br>interval length = 0.1220655561573375<br>birth simplex = [237]<br>cyle representative nnz = 2<br>bounding chain nnz = 1.0<br>row of dataframe = 119"
         ],
         "type": "scatter",
         "x": [
          0
         ],
         "y": [
          0.1220655561573375
         ]
        },
        {
         "legendgroup": "0",
         "marker": {
          "color": "#636EFA"
         },
         "mode": "markers",
         "name": "Dimension 0",
         "showlegend": false,
         "text": [
          "birth filtration = 0.0<br>death filtration = 0.15652475842498537<br>interval length = 0.15652475842498537<br>birth simplex = [236]<br>cyle representative nnz = 2<br>bounding chain nnz = 1.0<br>row of dataframe = 120"
         ],
         "type": "scatter",
         "x": [
          0
         ],
         "y": [
          0.15652475842498537
         ]
        },
        {
         "legendgroup": "0",
         "marker": {
          "color": "#636EFA"
         },
         "mode": "markers",
         "name": "Dimension 0",
         "showlegend": false,
         "text": [
          "birth filtration = 0.0<br>death filtration = 0.06403124237432824<br>interval length = 0.06403124237432824<br>birth simplex = [235]<br>cyle representative nnz = 2<br>bounding chain nnz = 1.0<br>row of dataframe = 121"
         ],
         "type": "scatter",
         "x": [
          0
         ],
         "y": [
          0.06403124237432824
         ]
        },
        {
         "legendgroup": "0",
         "marker": {
          "color": "#636EFA"
         },
         "mode": "markers",
         "name": "Dimension 0",
         "showlegend": false,
         "text": [
          "birth filtration = 0.0<br>death filtration = 0.3264965543462906<br>interval length = 0.3264965543462906<br>birth simplex = [234]<br>cyle representative nnz = 2<br>bounding chain nnz = 4.0<br>row of dataframe = 122"
         ],
         "type": "scatter",
         "x": [
          0
         ],
         "y": [
          0.3264965543462906
         ]
        },
        {
         "legendgroup": "0",
         "marker": {
          "color": "#636EFA"
         },
         "mode": "markers",
         "name": "Dimension 0",
         "showlegend": false,
         "text": [
          "birth filtration = 0.0<br>death filtration = 0.03605551275464009<br>interval length = 0.03605551275464009<br>birth simplex = [233]<br>cyle representative nnz = 2<br>bounding chain nnz = 1.0<br>row of dataframe = 123"
         ],
         "type": "scatter",
         "x": [
          0
         ],
         "y": [
          0.03605551275464009
         ]
        },
        {
         "legendgroup": "0",
         "marker": {
          "color": "#636EFA"
         },
         "mode": "markers",
         "name": "Dimension 0",
         "showlegend": false,
         "text": [
          "birth filtration = 0.0<br>death filtration = 0.16124515496597153<br>interval length = 0.16124515496597153<br>birth simplex = [232]<br>cyle representative nnz = 2<br>bounding chain nnz = 1.0<br>row of dataframe = 124"
         ],
         "type": "scatter",
         "x": [
          0
         ],
         "y": [
          0.16124515496597153
         ]
        },
        {
         "legendgroup": "0",
         "marker": {
          "color": "#636EFA"
         },
         "mode": "markers",
         "name": "Dimension 0",
         "showlegend": false,
         "text": [
          "birth filtration = 0.0<br>death filtration = 0.3667424164178451<br>interval length = 0.3667424164178451<br>birth simplex = [231]<br>cyle representative nnz = 2<br>bounding chain nnz = 4.0<br>row of dataframe = 125"
         ],
         "type": "scatter",
         "x": [
          0
         ],
         "y": [
          0.3667424164178451
         ]
        },
        {
         "legendgroup": "0",
         "marker": {
          "color": "#636EFA"
         },
         "mode": "markers",
         "name": "Dimension 0",
         "showlegend": false,
         "text": [
          "birth filtration = 0.0<br>death filtration = 0.16552945357246815<br>interval length = 0.16552945357246815<br>birth simplex = [230]<br>cyle representative nnz = 2<br>bounding chain nnz = 2.0<br>row of dataframe = 126"
         ],
         "type": "scatter",
         "x": [
          0
         ],
         "y": [
          0.16552945357246815
         ]
        },
        {
         "legendgroup": "0",
         "marker": {
          "color": "#636EFA"
         },
         "mode": "markers",
         "name": "Dimension 0",
         "showlegend": false,
         "text": [
          "birth filtration = 0.0<br>death filtration = 0.243515913237718<br>interval length = 0.243515913237718<br>birth simplex = [229]<br>cyle representative nnz = 2<br>bounding chain nnz = 4.0<br>row of dataframe = 127"
         ],
         "type": "scatter",
         "x": [
          0
         ],
         "y": [
          0.243515913237718
         ]
        },
        {
         "legendgroup": "0",
         "marker": {
          "color": "#636EFA"
         },
         "mode": "markers",
         "name": "Dimension 0",
         "showlegend": false,
         "text": [
          "birth filtration = 0.0<br>death filtration = 0.07071067811865529<br>interval length = 0.07071067811865529<br>birth simplex = [228]<br>cyle representative nnz = 2<br>bounding chain nnz = 1.0<br>row of dataframe = 128"
         ],
         "type": "scatter",
         "x": [
          0
         ],
         "y": [
          0.07071067811865529
         ]
        },
        {
         "legendgroup": "0",
         "marker": {
          "color": "#636EFA"
         },
         "mode": "markers",
         "name": "Dimension 0",
         "showlegend": false,
         "text": [
          "birth filtration = 0.0<br>death filtration = 0.20000000000000007<br>interval length = 0.20000000000000007<br>birth simplex = [227]<br>cyle representative nnz = 2<br>bounding chain nnz = 2.0<br>row of dataframe = 129"
         ],
         "type": "scatter",
         "x": [
          0
         ],
         "y": [
          0.20000000000000007
         ]
        },
        {
         "legendgroup": "0",
         "marker": {
          "color": "#636EFA"
         },
         "mode": "markers",
         "name": "Dimension 0",
         "showlegend": false,
         "text": [
          "birth filtration = 0.0<br>death filtration = 0.16278820596099722<br>interval length = 0.16278820596099722<br>birth simplex = [226]<br>cyle representative nnz = 2<br>bounding chain nnz = 1.0<br>row of dataframe = 130"
         ],
         "type": "scatter",
         "x": [
          0
         ],
         "y": [
          0.16278820596099722
         ]
        },
        {
         "legendgroup": "0",
         "marker": {
          "color": "#636EFA"
         },
         "mode": "markers",
         "name": "Dimension 0",
         "showlegend": false,
         "text": [
          "birth filtration = 0.0<br>death filtration = 0.215870331449229<br>interval length = 0.215870331449229<br>birth simplex = [225]<br>cyle representative nnz = 2<br>bounding chain nnz = 3.0<br>row of dataframe = 131"
         ],
         "type": "scatter",
         "x": [
          0
         ],
         "y": [
          0.215870331449229
         ]
        },
        {
         "legendgroup": "0",
         "marker": {
          "color": "#636EFA"
         },
         "mode": "markers",
         "name": "Dimension 0",
         "showlegend": false,
         "text": [
          "birth filtration = 0.0<br>death filtration = 0.25553864678361293<br>interval length = 0.25553864678361293<br>birth simplex = [224]<br>cyle representative nnz = 2<br>bounding chain nnz = 2.0<br>row of dataframe = 132"
         ],
         "type": "scatter",
         "x": [
          0
         ],
         "y": [
          0.25553864678361293
         ]
        },
        {
         "legendgroup": "0",
         "marker": {
          "color": "#636EFA"
         },
         "mode": "markers",
         "name": "Dimension 0",
         "showlegend": false,
         "text": [
          "birth filtration = 0.0<br>death filtration = 0.08062257748298565<br>interval length = 0.08062257748298565<br>birth simplex = [223]<br>cyle representative nnz = 2<br>bounding chain nnz = 2.0<br>row of dataframe = 133"
         ],
         "type": "scatter",
         "x": [
          0
         ],
         "y": [
          0.08062257748298565
         ]
        },
        {
         "legendgroup": "0",
         "marker": {
          "color": "#636EFA"
         },
         "mode": "markers",
         "name": "Dimension 0",
         "showlegend": false,
         "text": [
          "birth filtration = 0.0<br>death filtration = 0.19209372712298553<br>interval length = 0.19209372712298553<br>birth simplex = [222]<br>cyle representative nnz = 2<br>bounding chain nnz = 2.0<br>row of dataframe = 134"
         ],
         "type": "scatter",
         "x": [
          0
         ],
         "y": [
          0.19209372712298553
         ]
        },
        {
         "legendgroup": "0",
         "marker": {
          "color": "#636EFA"
         },
         "mode": "markers",
         "name": "Dimension 0",
         "showlegend": false,
         "text": [
          "birth filtration = 0.0<br>death filtration = 0.2451530134426253<br>interval length = 0.2451530134426253<br>birth simplex = [221]<br>cyle representative nnz = 2<br>bounding chain nnz = 2.0<br>row of dataframe = 135"
         ],
         "type": "scatter",
         "x": [
          0
         ],
         "y": [
          0.2451530134426253
         ]
        },
        {
         "legendgroup": "0",
         "marker": {
          "color": "#636EFA"
         },
         "mode": "markers",
         "name": "Dimension 0",
         "showlegend": false,
         "text": [
          "birth filtration = 0.0<br>death filtration = 0.17691806012954148<br>interval length = 0.17691806012954148<br>birth simplex = [220]<br>cyle representative nnz = 2<br>bounding chain nnz = 1.0<br>row of dataframe = 136"
         ],
         "type": "scatter",
         "x": [
          0
         ],
         "y": [
          0.17691806012954148
         ]
        },
        {
         "legendgroup": "0",
         "marker": {
          "color": "#636EFA"
         },
         "mode": "markers",
         "name": "Dimension 0",
         "showlegend": false,
         "text": [
          "birth filtration = 0.0<br>death filtration = 0.17492855684535874<br>interval length = 0.17492855684535874<br>birth simplex = [219]<br>cyle representative nnz = 2<br>bounding chain nnz = 1.0<br>row of dataframe = 137"
         ],
         "type": "scatter",
         "x": [
          0
         ],
         "y": [
          0.17492855684535874
         ]
        },
        {
         "legendgroup": "0",
         "marker": {
          "color": "#636EFA"
         },
         "mode": "markers",
         "name": "Dimension 0",
         "showlegend": false,
         "text": [
          "birth filtration = 0.0<br>death filtration = 0.33015148038438275<br>interval length = 0.33015148038438275<br>birth simplex = [218]<br>cyle representative nnz = 2<br>bounding chain nnz = 3.0<br>row of dataframe = 138"
         ],
         "type": "scatter",
         "x": [
          0
         ],
         "y": [
          0.33015148038438275
         ]
        },
        {
         "legendgroup": "0",
         "marker": {
          "color": "#636EFA"
         },
         "mode": "markers",
         "name": "Dimension 0",
         "showlegend": false,
         "text": [
          "birth filtration = 0.0<br>death filtration = 0.21189620100417025<br>interval length = 0.21189620100417025<br>birth simplex = [217]<br>cyle representative nnz = 2<br>bounding chain nnz = 2.0<br>row of dataframe = 139"
         ],
         "type": "scatter",
         "x": [
          0
         ],
         "y": [
          0.21189620100417025
         ]
        },
        {
         "legendgroup": "0",
         "marker": {
          "color": "#636EFA"
         },
         "mode": "markers",
         "name": "Dimension 0",
         "showlegend": false,
         "text": [
          "birth filtration = 0.0<br>death filtration = 0.16492422502470636<br>interval length = 0.16492422502470636<br>birth simplex = [216]<br>cyle representative nnz = 2<br>bounding chain nnz = 1.0<br>row of dataframe = 140"
         ],
         "type": "scatter",
         "x": [
          0
         ],
         "y": [
          0.16492422502470636
         ]
        },
        {
         "legendgroup": "0",
         "marker": {
          "color": "#636EFA"
         },
         "mode": "markers",
         "name": "Dimension 0",
         "showlegend": false,
         "text": [
          "birth filtration = 0.0<br>death filtration = 0.37576588456111853<br>interval length = 0.37576588456111853<br>birth simplex = [215]<br>cyle representative nnz = 2<br>bounding chain nnz = 16.0<br>row of dataframe = 141"
         ],
         "type": "scatter",
         "x": [
          0
         ],
         "y": [
          0.37576588456111853
         ]
        },
        {
         "legendgroup": "0",
         "marker": {
          "color": "#636EFA"
         },
         "mode": "markers",
         "name": "Dimension 0",
         "showlegend": false,
         "text": [
          "birth filtration = 0.0<br>death filtration = 0.21023796041628587<br>interval length = 0.21023796041628587<br>birth simplex = [214]<br>cyle representative nnz = 2<br>bounding chain nnz = 2.0<br>row of dataframe = 142"
         ],
         "type": "scatter",
         "x": [
          0
         ],
         "y": [
          0.21023796041628587
         ]
        },
        {
         "legendgroup": "0",
         "marker": {
          "color": "#636EFA"
         },
         "mode": "markers",
         "name": "Dimension 0",
         "showlegend": false,
         "text": [
          "birth filtration = 0.0<br>death filtration = 0.14560219778561007<br>interval length = 0.14560219778561007<br>birth simplex = [213]<br>cyle representative nnz = 2<br>bounding chain nnz = 2.0<br>row of dataframe = 143"
         ],
         "type": "scatter",
         "x": [
          0
         ],
         "y": [
          0.14560219778561007
         ]
        },
        {
         "legendgroup": "0",
         "marker": {
          "color": "#636EFA"
         },
         "mode": "markers",
         "name": "Dimension 0",
         "showlegend": false,
         "text": [
          "birth filtration = 0.0<br>death filtration = 0.21587033144922987<br>interval length = 0.21587033144922987<br>birth simplex = [212]<br>cyle representative nnz = 2<br>bounding chain nnz = 4.0<br>row of dataframe = 144"
         ],
         "type": "scatter",
         "x": [
          0
         ],
         "y": [
          0.21587033144922987
         ]
        },
        {
         "legendgroup": "0",
         "marker": {
          "color": "#636EFA"
         },
         "mode": "markers",
         "name": "Dimension 0",
         "showlegend": false,
         "text": [
          "birth filtration = 0.0<br>death filtration = 0.14422205101855962<br>interval length = 0.14422205101855962<br>birth simplex = [211]<br>cyle representative nnz = 2<br>bounding chain nnz = 1.0<br>row of dataframe = 145"
         ],
         "type": "scatter",
         "x": [
          0
         ],
         "y": [
          0.14422205101855962
         ]
        },
        {
         "legendgroup": "0",
         "marker": {
          "color": "#636EFA"
         },
         "mode": "markers",
         "name": "Dimension 0",
         "showlegend": false,
         "text": [
          "birth filtration = 0.0<br>death filtration = 0.34655446902326914<br>interval length = 0.34655446902326914<br>birth simplex = [210]<br>cyle representative nnz = 2<br>bounding chain nnz = 5.0<br>row of dataframe = 146"
         ],
         "type": "scatter",
         "x": [
          0
         ],
         "y": [
          0.34655446902326914
         ]
        },
        {
         "legendgroup": "0",
         "marker": {
          "color": "#636EFA"
         },
         "mode": "markers",
         "name": "Dimension 0",
         "showlegend": false,
         "text": [
          "birth filtration = 0.0<br>death filtration = 0.33615472627943216<br>interval length = 0.33615472627943216<br>birth simplex = [209]<br>cyle representative nnz = 2<br>bounding chain nnz = 22.0<br>row of dataframe = 147"
         ],
         "type": "scatter",
         "x": [
          0
         ],
         "y": [
          0.33615472627943216
         ]
        },
        {
         "legendgroup": "0",
         "marker": {
          "color": "#636EFA"
         },
         "mode": "markers",
         "name": "Dimension 0",
         "showlegend": false,
         "text": [
          "birth filtration = 0.0<br>death filtration = 0.3623534186398688<br>interval length = 0.3623534186398688<br>birth simplex = [208]<br>cyle representative nnz = 2<br>bounding chain nnz = 2.0<br>row of dataframe = 148"
         ],
         "type": "scatter",
         "x": [
          0
         ],
         "y": [
          0.3623534186398688
         ]
        },
        {
         "legendgroup": "0",
         "marker": {
          "color": "#636EFA"
         },
         "mode": "markers",
         "name": "Dimension 0",
         "showlegend": false,
         "text": [
          "birth filtration = 0.0<br>death filtration = 0.08062257748298557<br>interval length = 0.08062257748298557<br>birth simplex = [207]<br>cyle representative nnz = 2<br>bounding chain nnz = 1.0<br>row of dataframe = 149"
         ],
         "type": "scatter",
         "x": [
          0
         ],
         "y": [
          0.08062257748298557
         ]
        },
        {
         "legendgroup": "0",
         "marker": {
          "color": "#636EFA"
         },
         "mode": "markers",
         "name": "Dimension 0",
         "showlegend": false,
         "text": [
          "birth filtration = 0.0<br>death filtration = 0.04242640687119242<br>interval length = 0.04242640687119242<br>birth simplex = [206]<br>cyle representative nnz = 2<br>bounding chain nnz = 1.0<br>row of dataframe = 150"
         ],
         "type": "scatter",
         "x": [
          0
         ],
         "y": [
          0.04242640687119242
         ]
        },
        {
         "legendgroup": "0",
         "marker": {
          "color": "#636EFA"
         },
         "mode": "markers",
         "name": "Dimension 0",
         "showlegend": false,
         "text": [
          "birth filtration = 0.0<br>death filtration = 0.2690724809414743<br>interval length = 0.2690724809414743<br>birth simplex = [205]<br>cyle representative nnz = 2<br>bounding chain nnz = 1.0<br>row of dataframe = 151"
         ],
         "type": "scatter",
         "x": [
          0
         ],
         "y": [
          0.2690724809414743
         ]
        },
        {
         "legendgroup": "0",
         "marker": {
          "color": "#636EFA"
         },
         "mode": "markers",
         "name": "Dimension 0",
         "showlegend": false,
         "text": [
          "birth filtration = 0.0<br>death filtration = 0.17262676501632063<br>interval length = 0.17262676501632063<br>birth simplex = [204]<br>cyle representative nnz = 2<br>bounding chain nnz = 1.0<br>row of dataframe = 152"
         ],
         "type": "scatter",
         "x": [
          0
         ],
         "y": [
          0.17262676501632063
         ]
        },
        {
         "legendgroup": "0",
         "marker": {
          "color": "#636EFA"
         },
         "mode": "markers",
         "name": "Dimension 0",
         "showlegend": false,
         "text": [
          "birth filtration = 0.0<br>death filtration = 0.20124611797498157<br>interval length = 0.20124611797498157<br>birth simplex = [203]<br>cyle representative nnz = 2<br>bounding chain nnz = 4.0<br>row of dataframe = 153"
         ],
         "type": "scatter",
         "x": [
          0
         ],
         "y": [
          0.20124611797498157
         ]
        },
        {
         "legendgroup": "0",
         "marker": {
          "color": "#636EFA"
         },
         "mode": "markers",
         "name": "Dimension 0",
         "showlegend": false,
         "text": [
          "birth filtration = 0.0<br>death filtration = 0.14560219778561093<br>interval length = 0.14560219778561093<br>birth simplex = [202]<br>cyle representative nnz = 2<br>bounding chain nnz = 3.0<br>row of dataframe = 154"
         ],
         "type": "scatter",
         "x": [
          0
         ],
         "y": [
          0.14560219778561093
         ]
        },
        {
         "legendgroup": "0",
         "marker": {
          "color": "#636EFA"
         },
         "mode": "markers",
         "name": "Dimension 0",
         "showlegend": false,
         "text": [
          "birth filtration = 0.0<br>death filtration = 0.23021728866442673<br>interval length = 0.23021728866442673<br>birth simplex = [201]<br>cyle representative nnz = 2<br>bounding chain nnz = 4.0<br>row of dataframe = 155"
         ],
         "type": "scatter",
         "x": [
          0
         ],
         "y": [
          0.23021728866442673
         ]
        },
        {
         "legendgroup": "0",
         "marker": {
          "color": "#636EFA"
         },
         "mode": "markers",
         "name": "Dimension 0",
         "showlegend": false,
         "text": [
          "birth filtration = 0.0<br>death filtration = 0.12369316876852987<br>interval length = 0.12369316876852987<br>birth simplex = [200]<br>cyle representative nnz = 2<br>bounding chain nnz = 1.0<br>row of dataframe = 156"
         ],
         "type": "scatter",
         "x": [
          0
         ],
         "y": [
          0.12369316876852987
         ]
        },
        {
         "legendgroup": "0",
         "marker": {
          "color": "#636EFA"
         },
         "mode": "markers",
         "name": "Dimension 0",
         "showlegend": false,
         "text": [
          "birth filtration = 0.0<br>death filtration = 0.128062484748657<br>interval length = 0.128062484748657<br>birth simplex = [199]<br>cyle representative nnz = 2<br>bounding chain nnz = 1.0<br>row of dataframe = 157"
         ],
         "type": "scatter",
         "x": [
          0
         ],
         "y": [
          0.128062484748657
         ]
        },
        {
         "legendgroup": "0",
         "marker": {
          "color": "#636EFA"
         },
         "mode": "markers",
         "name": "Dimension 0",
         "showlegend": false,
         "text": [
          "birth filtration = 0.0<br>death filtration = 0.14866068747318537<br>interval length = 0.14866068747318537<br>birth simplex = [198]<br>cyle representative nnz = 2<br>bounding chain nnz = 2.0<br>row of dataframe = 158"
         ],
         "type": "scatter",
         "x": [
          0
         ],
         "y": [
          0.14866068747318537
         ]
        },
        {
         "legendgroup": "0",
         "marker": {
          "color": "#636EFA"
         },
         "mode": "markers",
         "name": "Dimension 0",
         "showlegend": false,
         "text": [
          "birth filtration = 0.0<br>death filtration = 0.11661903789690616<br>interval length = 0.11661903789690616<br>birth simplex = [197]<br>cyle representative nnz = 2<br>bounding chain nnz = 1.0<br>row of dataframe = 159"
         ],
         "type": "scatter",
         "x": [
          0
         ],
         "y": [
          0.11661903789690616
         ]
        },
        {
         "legendgroup": "0",
         "marker": {
          "color": "#636EFA"
         },
         "mode": "markers",
         "name": "Dimension 0",
         "showlegend": false,
         "text": [
          "birth filtration = 0.0<br>death filtration = 0.036055512754640105<br>interval length = 0.036055512754640105<br>birth simplex = [196]<br>cyle representative nnz = 2<br>bounding chain nnz = 1.0<br>row of dataframe = 160"
         ],
         "type": "scatter",
         "x": [
          0
         ],
         "y": [
          0.036055512754640105
         ]
        },
        {
         "legendgroup": "0",
         "marker": {
          "color": "#636EFA"
         },
         "mode": "markers",
         "name": "Dimension 0",
         "showlegend": false,
         "text": [
          "birth filtration = 0.0<br>death filtration = 0.17262676501632077<br>interval length = 0.17262676501632077<br>birth simplex = [195]<br>cyle representative nnz = 2<br>bounding chain nnz = 3.0<br>row of dataframe = 161"
         ],
         "type": "scatter",
         "x": [
          0
         ],
         "y": [
          0.17262676501632077
         ]
        },
        {
         "legendgroup": "0",
         "marker": {
          "color": "#636EFA"
         },
         "mode": "markers",
         "name": "Dimension 0",
         "showlegend": false,
         "text": [
          "birth filtration = 0.0<br>death filtration = 0.14035668847618202<br>interval length = 0.14035668847618202<br>birth simplex = [194]<br>cyle representative nnz = 2<br>bounding chain nnz = 2.0<br>row of dataframe = 162"
         ],
         "type": "scatter",
         "x": [
          0
         ],
         "y": [
          0.14035668847618202
         ]
        },
        {
         "legendgroup": "0",
         "marker": {
          "color": "#636EFA"
         },
         "mode": "markers",
         "name": "Dimension 0",
         "showlegend": false,
         "text": [
          "birth filtration = 0.0<br>death filtration = 0.1910497317454275<br>interval length = 0.1910497317454275<br>birth simplex = [193]<br>cyle representative nnz = 2<br>bounding chain nnz = 3.0<br>row of dataframe = 163"
         ],
         "type": "scatter",
         "x": [
          0
         ],
         "y": [
          0.1910497317454275
         ]
        },
        {
         "legendgroup": "0",
         "marker": {
          "color": "#636EFA"
         },
         "mode": "markers",
         "name": "Dimension 0",
         "showlegend": false,
         "text": [
          "birth filtration = 0.0<br>death filtration = 0.21377558326431947<br>interval length = 0.21377558326431947<br>birth simplex = [192]<br>cyle representative nnz = 2<br>bounding chain nnz = 1.0<br>row of dataframe = 164"
         ],
         "type": "scatter",
         "x": [
          0
         ],
         "y": [
          0.21377558326431947
         ]
        },
        {
         "legendgroup": "0",
         "marker": {
          "color": "#636EFA"
         },
         "mode": "markers",
         "name": "Dimension 0",
         "showlegend": false,
         "text": [
          "birth filtration = 0.0<br>death filtration = 0.10198039027185579<br>interval length = 0.10198039027185579<br>birth simplex = [191]<br>cyle representative nnz = 2<br>bounding chain nnz = 1.0<br>row of dataframe = 165"
         ],
         "type": "scatter",
         "x": [
          0
         ],
         "y": [
          0.10198039027185579
         ]
        },
        {
         "legendgroup": "0",
         "marker": {
          "color": "#636EFA"
         },
         "mode": "markers",
         "name": "Dimension 0",
         "showlegend": false,
         "text": [
          "birth filtration = 0.0<br>death filtration = 0.050000000000000176<br>interval length = 0.050000000000000176<br>birth simplex = [190]<br>cyle representative nnz = 2<br>bounding chain nnz = 1.0<br>row of dataframe = 166"
         ],
         "type": "scatter",
         "x": [
          0
         ],
         "y": [
          0.050000000000000176
         ]
        },
        {
         "legendgroup": "0",
         "marker": {
          "color": "#636EFA"
         },
         "mode": "markers",
         "name": "Dimension 0",
         "showlegend": false,
         "text": [
          "birth filtration = 0.0<br>death filtration = 0.12529964086141698<br>interval length = 0.12529964086141698<br>birth simplex = [189]<br>cyle representative nnz = 2<br>bounding chain nnz = 1.0<br>row of dataframe = 167"
         ],
         "type": "scatter",
         "x": [
          0
         ],
         "y": [
          0.12529964086141698
         ]
        },
        {
         "legendgroup": "0",
         "marker": {
          "color": "#636EFA"
         },
         "mode": "markers",
         "name": "Dimension 0",
         "showlegend": false,
         "text": [
          "birth filtration = 0.0<br>death filtration = 0.10295630140986987<br>interval length = 0.10295630140986987<br>birth simplex = [188]<br>cyle representative nnz = 2<br>bounding chain nnz = 1.0<br>row of dataframe = 168"
         ],
         "type": "scatter",
         "x": [
          0
         ],
         "y": [
          0.10295630140986987
         ]
        },
        {
         "legendgroup": "0",
         "marker": {
          "color": "#636EFA"
         },
         "mode": "markers",
         "name": "Dimension 0",
         "showlegend": false,
         "text": [
          "birth filtration = 0.0<br>death filtration = 0.022360679774997515<br>interval length = 0.022360679774997515<br>birth simplex = [187]<br>cyle representative nnz = 2<br>bounding chain nnz = 1.0<br>row of dataframe = 169"
         ],
         "type": "scatter",
         "x": [
          0
         ],
         "y": [
          0.022360679774997515
         ]
        },
        {
         "legendgroup": "0",
         "marker": {
          "color": "#636EFA"
         },
         "mode": "markers",
         "name": "Dimension 0",
         "showlegend": false,
         "text": [
          "birth filtration = 0.0<br>death filtration = 0.06999999999999995<br>interval length = 0.06999999999999995<br>birth simplex = [186]<br>cyle representative nnz = 2<br>bounding chain nnz = 1.0<br>row of dataframe = 170"
         ],
         "type": "scatter",
         "x": [
          0
         ],
         "y": [
          0.06999999999999995
         ]
        },
        {
         "legendgroup": "0",
         "marker": {
          "color": "#636EFA"
         },
         "mode": "markers",
         "name": "Dimension 0",
         "showlegend": false,
         "text": [
          "birth filtration = 0.0<br>death filtration = 0.022360679774997817<br>interval length = 0.022360679774997817<br>birth simplex = [185]<br>cyle representative nnz = 2<br>bounding chain nnz = 1.0<br>row of dataframe = 171"
         ],
         "type": "scatter",
         "x": [
          0
         ],
         "y": [
          0.022360679774997817
         ]
        },
        {
         "legendgroup": "0",
         "marker": {
          "color": "#636EFA"
         },
         "mode": "markers",
         "name": "Dimension 0",
         "showlegend": false,
         "text": [
          "birth filtration = 0.0<br>death filtration = 0.16124515496597114<br>interval length = 0.16124515496597114<br>birth simplex = [184]<br>cyle representative nnz = 2<br>bounding chain nnz = 1.0<br>row of dataframe = 172"
         ],
         "type": "scatter",
         "x": [
          0
         ],
         "y": [
          0.16124515496597114
         ]
        },
        {
         "legendgroup": "0",
         "marker": {
          "color": "#636EFA"
         },
         "mode": "markers",
         "name": "Dimension 0",
         "showlegend": false,
         "text": [
          "birth filtration = 0.0<br>death filtration = 0.32280024783137956<br>interval length = 0.32280024783137956<br>birth simplex = [183]<br>cyle representative nnz = 2<br>bounding chain nnz = 1.0<br>row of dataframe = 173"
         ],
         "type": "scatter",
         "x": [
          0
         ],
         "y": [
          0.32280024783137956
         ]
        },
        {
         "legendgroup": "0",
         "marker": {
          "color": "#636EFA"
         },
         "mode": "markers",
         "name": "Dimension 0",
         "showlegend": false,
         "text": [
          "birth filtration = 0.0<br>death filtration = 0.1699999999999999<br>interval length = 0.1699999999999999<br>birth simplex = [182]<br>cyle representative nnz = 2<br>bounding chain nnz = 3.0<br>row of dataframe = 174"
         ],
         "type": "scatter",
         "x": [
          0
         ],
         "y": [
          0.1699999999999999
         ]
        },
        {
         "legendgroup": "0",
         "marker": {
          "color": "#636EFA"
         },
         "mode": "markers",
         "name": "Dimension 0",
         "showlegend": false,
         "text": [
          "birth filtration = 0.0<br>death filtration = 0.1360147050873544<br>interval length = 0.1360147050873544<br>birth simplex = [181]<br>cyle representative nnz = 2<br>bounding chain nnz = 3.0<br>row of dataframe = 175"
         ],
         "type": "scatter",
         "x": [
          0
         ],
         "y": [
          0.1360147050873544
         ]
        },
        {
         "legendgroup": "0",
         "marker": {
          "color": "#636EFA"
         },
         "mode": "markers",
         "name": "Dimension 0",
         "showlegend": false,
         "text": [
          "birth filtration = 0.0<br>death filtration = 0.11045361017187257<br>interval length = 0.11045361017187257<br>birth simplex = [180]<br>cyle representative nnz = 2<br>bounding chain nnz = 1.0<br>row of dataframe = 176"
         ],
         "type": "scatter",
         "x": [
          0
         ],
         "y": [
          0.11045361017187257
         ]
        },
        {
         "legendgroup": "0",
         "marker": {
          "color": "#636EFA"
         },
         "mode": "markers",
         "name": "Dimension 0",
         "showlegend": false,
         "text": [
          "birth filtration = 0.0<br>death filtration = 0.20124611797498096<br>interval length = 0.20124611797498096<br>birth simplex = [179]<br>cyle representative nnz = 2<br>bounding chain nnz = 1.0<br>row of dataframe = 177"
         ],
         "type": "scatter",
         "x": [
          0
         ],
         "y": [
          0.20124611797498096
         ]
        },
        {
         "legendgroup": "0",
         "marker": {
          "color": "#636EFA"
         },
         "mode": "markers",
         "name": "Dimension 0",
         "showlegend": false,
         "text": [
          "birth filtration = 0.0<br>death filtration = 0.09055385138137402<br>interval length = 0.09055385138137402<br>birth simplex = [178]<br>cyle representative nnz = 2<br>bounding chain nnz = 1.0<br>row of dataframe = 178"
         ],
         "type": "scatter",
         "x": [
          0
         ],
         "y": [
          0.09055385138137402
         ]
        },
        {
         "legendgroup": "0",
         "marker": {
          "color": "#636EFA"
         },
         "mode": "markers",
         "name": "Dimension 0",
         "showlegend": false,
         "text": [
          "birth filtration = 0.0<br>death filtration = 0.21189620100417106<br>interval length = 0.21189620100417106<br>birth simplex = [177]<br>cyle representative nnz = 2<br>bounding chain nnz = 2.0<br>row of dataframe = 179"
         ],
         "type": "scatter",
         "x": [
          0
         ],
         "y": [
          0.21189620100417106
         ]
        },
        {
         "legendgroup": "0",
         "marker": {
          "color": "#636EFA"
         },
         "mode": "markers",
         "name": "Dimension 0",
         "showlegend": false,
         "text": [
          "birth filtration = 0.0<br>death filtration = 0.12529964086141657<br>interval length = 0.12529964086141657<br>birth simplex = [176]<br>cyle representative nnz = 2<br>bounding chain nnz = 1.0<br>row of dataframe = 180"
         ],
         "type": "scatter",
         "x": [
          0
         ],
         "y": [
          0.12529964086141657
         ]
        },
        {
         "legendgroup": "0",
         "marker": {
          "color": "#636EFA"
         },
         "mode": "markers",
         "name": "Dimension 0",
         "showlegend": false,
         "text": [
          "birth filtration = 0.0<br>death filtration = 0.14764823060233415<br>interval length = 0.14764823060233415<br>birth simplex = [175]<br>cyle representative nnz = 2<br>bounding chain nnz = 2.0<br>row of dataframe = 181"
         ],
         "type": "scatter",
         "x": [
          0
         ],
         "y": [
          0.14764823060233415
         ]
        },
        {
         "legendgroup": "0",
         "marker": {
          "color": "#636EFA"
         },
         "mode": "markers",
         "name": "Dimension 0",
         "showlegend": false,
         "text": [
          "birth filtration = 0.0<br>death filtration = 0.050990195135927854<br>interval length = 0.050990195135927854<br>birth simplex = [174]<br>cyle representative nnz = 2<br>bounding chain nnz = 2.0<br>row of dataframe = 182"
         ],
         "type": "scatter",
         "x": [
          0
         ],
         "y": [
          0.050990195135927854
         ]
        },
        {
         "legendgroup": "0",
         "marker": {
          "color": "#636EFA"
         },
         "mode": "markers",
         "name": "Dimension 0",
         "showlegend": false,
         "text": [
          "birth filtration = 0.0<br>death filtration = 0.13341664064126324<br>interval length = 0.13341664064126324<br>birth simplex = [173]<br>cyle representative nnz = 2<br>bounding chain nnz = 1.0<br>row of dataframe = 183"
         ],
         "type": "scatter",
         "x": [
          0
         ],
         "y": [
          0.13341664064126324
         ]
        },
        {
         "legendgroup": "0",
         "marker": {
          "color": "#636EFA"
         },
         "mode": "markers",
         "name": "Dimension 0",
         "showlegend": false,
         "text": [
          "birth filtration = 0.0<br>death filtration = 0.060827625302981816<br>interval length = 0.060827625302981816<br>birth simplex = [172]<br>cyle representative nnz = 2<br>bounding chain nnz = 1.0<br>row of dataframe = 184"
         ],
         "type": "scatter",
         "x": [
          0
         ],
         "y": [
          0.060827625302981816
         ]
        },
        {
         "legendgroup": "0",
         "marker": {
          "color": "#636EFA"
         },
         "mode": "markers",
         "name": "Dimension 0",
         "showlegend": false,
         "text": [
          "birth filtration = 0.0<br>death filtration = 0.4049691346263318<br>interval length = 0.4049691346263318<br>birth simplex = [171]<br>cyle representative nnz = 2<br>bounding chain nnz = 12.0<br>row of dataframe = 185"
         ],
         "type": "scatter",
         "x": [
          0
         ],
         "y": [
          0.4049691346263318
         ]
        },
        {
         "legendgroup": "0",
         "marker": {
          "color": "#636EFA"
         },
         "mode": "markers",
         "name": "Dimension 0",
         "showlegend": false,
         "text": [
          "birth filtration = 0.0<br>death filtration = 0.2404163056034257<br>interval length = 0.2404163056034257<br>birth simplex = [170]<br>cyle representative nnz = 2<br>bounding chain nnz = 6.0<br>row of dataframe = 186"
         ],
         "type": "scatter",
         "x": [
          0
         ],
         "y": [
          0.2404163056034257
         ]
        },
        {
         "legendgroup": "0",
         "marker": {
          "color": "#636EFA"
         },
         "mode": "markers",
         "name": "Dimension 0",
         "showlegend": false,
         "text": [
          "birth filtration = 0.0<br>death filtration = 0.15811388300841897<br>interval length = 0.15811388300841897<br>birth simplex = [169]<br>cyle representative nnz = 2<br>bounding chain nnz = 4.0<br>row of dataframe = 187"
         ],
         "type": "scatter",
         "x": [
          0
         ],
         "y": [
          0.15811388300841897
         ]
        },
        {
         "legendgroup": "0",
         "marker": {
          "color": "#636EFA"
         },
         "mode": "markers",
         "name": "Dimension 0",
         "showlegend": false,
         "text": [
          "birth filtration = 0.0<br>death filtration = 0.1220655561573367<br>interval length = 0.1220655561573367<br>birth simplex = [168]<br>cyle representative nnz = 2<br>bounding chain nnz = 1.0<br>row of dataframe = 188"
         ],
         "type": "scatter",
         "x": [
          0
         ],
         "y": [
          0.1220655561573367
         ]
        },
        {
         "legendgroup": "0",
         "marker": {
          "color": "#636EFA"
         },
         "mode": "markers",
         "name": "Dimension 0",
         "showlegend": false,
         "text": [
          "birth filtration = 0.0<br>death filtration = 0.3522782990761707<br>interval length = 0.3522782990761707<br>birth simplex = [167]<br>cyle representative nnz = 2<br>bounding chain nnz = 2.0<br>row of dataframe = 189"
         ],
         "type": "scatter",
         "x": [
          0
         ],
         "y": [
          0.3522782990761707
         ]
        },
        {
         "legendgroup": "0",
         "marker": {
          "color": "#636EFA"
         },
         "mode": "markers",
         "name": "Dimension 0",
         "showlegend": false,
         "text": [
          "birth filtration = 0.0<br>death filtration = 0.2282542442102663<br>interval length = 0.2282542442102663<br>birth simplex = [166]<br>cyle representative nnz = 2<br>bounding chain nnz = 1.0<br>row of dataframe = 190"
         ],
         "type": "scatter",
         "x": [
          0
         ],
         "y": [
          0.2282542442102663
         ]
        },
        {
         "legendgroup": "0",
         "marker": {
          "color": "#636EFA"
         },
         "mode": "markers",
         "name": "Dimension 0",
         "showlegend": false,
         "text": [
          "birth filtration = 0.0<br>death filtration = 0.3132091952673164<br>interval length = 0.3132091952673164<br>birth simplex = [165]<br>cyle representative nnz = 2<br>bounding chain nnz = 4.0<br>row of dataframe = 191"
         ],
         "type": "scatter",
         "x": [
          0
         ],
         "y": [
          0.3132091952673164
         ]
        },
        {
         "legendgroup": "0",
         "marker": {
          "color": "#636EFA"
         },
         "mode": "markers",
         "name": "Dimension 0",
         "showlegend": false,
         "text": [
          "birth filtration = 0.0<br>death filtration = 0.1345362404707371<br>interval length = 0.1345362404707371<br>birth simplex = [164]<br>cyle representative nnz = 2<br>bounding chain nnz = 2.0<br>row of dataframe = 192"
         ],
         "type": "scatter",
         "x": [
          0
         ],
         "y": [
          0.1345362404707371
         ]
        },
        {
         "legendgroup": "0",
         "marker": {
          "color": "#636EFA"
         },
         "mode": "markers",
         "name": "Dimension 0",
         "showlegend": false,
         "text": [
          "birth filtration = 0.0<br>death filtration = 0.094339811320566<br>interval length = 0.094339811320566<br>birth simplex = [163]<br>cyle representative nnz = 2<br>bounding chain nnz = 1.0<br>row of dataframe = 193"
         ],
         "type": "scatter",
         "x": [
          0
         ],
         "y": [
          0.094339811320566
         ]
        },
        {
         "legendgroup": "0",
         "marker": {
          "color": "#636EFA"
         },
         "mode": "markers",
         "name": "Dimension 0",
         "showlegend": false,
         "text": [
          "birth filtration = 0.0<br>death filtration = 0.20099751242241773<br>interval length = 0.20099751242241773<br>birth simplex = [162]<br>cyle representative nnz = 2<br>bounding chain nnz = 2.0<br>row of dataframe = 194"
         ],
         "type": "scatter",
         "x": [
          0
         ],
         "y": [
          0.20099751242241773
         ]
        },
        {
         "legendgroup": "0",
         "marker": {
          "color": "#636EFA"
         },
         "mode": "markers",
         "name": "Dimension 0",
         "showlegend": false,
         "text": [
          "birth filtration = 0.0<br>death filtration = 0.20615528128088292<br>interval length = 0.20615528128088292<br>birth simplex = [161]<br>cyle representative nnz = 2<br>bounding chain nnz = 1.0<br>row of dataframe = 195"
         ],
         "type": "scatter",
         "x": [
          0
         ],
         "y": [
          0.20615528128088292
         ]
        },
        {
         "legendgroup": "0",
         "marker": {
          "color": "#636EFA"
         },
         "mode": "markers",
         "name": "Dimension 0",
         "showlegend": false,
         "text": [
          "birth filtration = 0.0<br>death filtration = 0.25553864678361254<br>interval length = 0.25553864678361254<br>birth simplex = [160]<br>cyle representative nnz = 2<br>bounding chain nnz = 2.0<br>row of dataframe = 196"
         ],
         "type": "scatter",
         "x": [
          0
         ],
         "y": [
          0.25553864678361254
         ]
        },
        {
         "legendgroup": "0",
         "marker": {
          "color": "#636EFA"
         },
         "mode": "markers",
         "name": "Dimension 0",
         "showlegend": false,
         "text": [
          "birth filtration = 0.0<br>death filtration = 0.19849433241279202<br>interval length = 0.19849433241279202<br>birth simplex = [159]<br>cyle representative nnz = 2<br>bounding chain nnz = 3.0<br>row of dataframe = 197"
         ],
         "type": "scatter",
         "x": [
          0
         ],
         "y": [
          0.19849433241279202
         ]
        },
        {
         "legendgroup": "0",
         "marker": {
          "color": "#636EFA"
         },
         "mode": "markers",
         "name": "Dimension 0",
         "showlegend": false,
         "text": [
          "birth filtration = 0.0<br>death filtration = 0.17804493814764877<br>interval length = 0.17804493814764877<br>birth simplex = [158]<br>cyle representative nnz = 2<br>bounding chain nnz = 2.0<br>row of dataframe = 198"
         ],
         "type": "scatter",
         "x": [
          0
         ],
         "y": [
          0.17804493814764877
         ]
        },
        {
         "legendgroup": "0",
         "marker": {
          "color": "#636EFA"
         },
         "mode": "markers",
         "name": "Dimension 0",
         "showlegend": false,
         "text": [
          "birth filtration = 0.0<br>death filtration = 0.15264337522473817<br>interval length = 0.15264337522473817<br>birth simplex = [157]<br>cyle representative nnz = 2<br>bounding chain nnz = 1.0<br>row of dataframe = 199"
         ],
         "type": "scatter",
         "x": [
          0
         ],
         "y": [
          0.15264337522473817
         ]
        },
        {
         "legendgroup": "0",
         "marker": {
          "color": "#636EFA"
         },
         "mode": "markers",
         "name": "Dimension 0",
         "showlegend": false,
         "text": [
          "birth filtration = 0.0<br>death filtration = 0.3535533905932734<br>interval length = 0.3535533905932734<br>birth simplex = [156]<br>cyle representative nnz = 2<br>bounding chain nnz = 2.0<br>row of dataframe = 200"
         ],
         "type": "scatter",
         "x": [
          0
         ],
         "y": [
          0.3535533905932734
         ]
        },
        {
         "legendgroup": "0",
         "marker": {
          "color": "#636EFA"
         },
         "mode": "markers",
         "name": "Dimension 0",
         "showlegend": false,
         "text": [
          "birth filtration = 0.0<br>death filtration = 0.2360084744241188<br>interval length = 0.2360084744241188<br>birth simplex = [155]<br>cyle representative nnz = 2<br>bounding chain nnz = 2.0<br>row of dataframe = 201"
         ],
         "type": "scatter",
         "x": [
          0
         ],
         "y": [
          0.2360084744241188
         ]
        },
        {
         "legendgroup": "0",
         "marker": {
          "color": "#636EFA"
         },
         "mode": "markers",
         "name": "Dimension 0",
         "showlegend": false,
         "text": [
          "birth filtration = 0.0<br>death filtration = 0.3046309242345558<br>interval length = 0.3046309242345558<br>birth simplex = [154]<br>cyle representative nnz = 2<br>bounding chain nnz = 4.0<br>row of dataframe = 202"
         ],
         "type": "scatter",
         "x": [
          0
         ],
         "y": [
          0.3046309242345558
         ]
        },
        {
         "legendgroup": "0",
         "marker": {
          "color": "#636EFA"
         },
         "mode": "markers",
         "name": "Dimension 0",
         "showlegend": false,
         "text": [
          "birth filtration = 0.0<br>death filtration = 0.4891829923454006<br>interval length = 0.4891829923454006<br>birth simplex = [153]<br>cyle representative nnz = 2<br>bounding chain nnz = 16.0<br>row of dataframe = 203"
         ],
         "type": "scatter",
         "x": [
          0
         ],
         "y": [
          0.4891829923454006
         ]
        },
        {
         "legendgroup": "0",
         "marker": {
          "color": "#636EFA"
         },
         "mode": "markers",
         "name": "Dimension 0",
         "showlegend": false,
         "text": [
          "birth filtration = 0.0<br>death filtration = 0.4816637831516918<br>interval length = 0.4816637831516918<br>birth simplex = [152]<br>cyle representative nnz = 2<br>bounding chain nnz = 1.0<br>row of dataframe = 204"
         ],
         "type": "scatter",
         "x": [
          0
         ],
         "y": [
          0.4816637831516918
         ]
        },
        {
         "legendgroup": "0",
         "marker": {
          "color": "#636EFA"
         },
         "mode": "markers",
         "name": "Dimension 0",
         "showlegend": false,
         "text": [
          "birth filtration = 0.0<br>death filtration = 0.20615528128088273<br>interval length = 0.20615528128088273<br>birth simplex = [151]<br>cyle representative nnz = 2<br>bounding chain nnz = 2.0<br>row of dataframe = 205"
         ],
         "type": "scatter",
         "x": [
          0
         ],
         "y": [
          0.20615528128088273
         ]
        },
        {
         "legendgroup": "0",
         "marker": {
          "color": "#636EFA"
         },
         "mode": "markers",
         "name": "Dimension 0",
         "showlegend": false,
         "text": [
          "birth filtration = 0.0<br>death filtration = 0.3640054944640258<br>interval length = 0.3640054944640258<br>birth simplex = [150]<br>cyle representative nnz = 2<br>bounding chain nnz = 1.0<br>row of dataframe = 206"
         ],
         "type": "scatter",
         "x": [
          0
         ],
         "y": [
          0.3640054944640258
         ]
        },
        {
         "legendgroup": "0",
         "marker": {
          "color": "#636EFA"
         },
         "mode": "markers",
         "name": "Dimension 0",
         "showlegend": false,
         "text": [
          "birth filtration = 0.0<br>death filtration = 0.34525353003264125<br>interval length = 0.34525353003264125<br>birth simplex = [149]<br>cyle representative nnz = 2<br>bounding chain nnz = 1.0<br>row of dataframe = 207"
         ],
         "type": "scatter",
         "x": [
          0
         ],
         "y": [
          0.34525353003264125
         ]
        },
        {
         "legendgroup": "0",
         "marker": {
          "color": "#636EFA"
         },
         "mode": "markers",
         "name": "Dimension 0",
         "showlegend": false,
         "text": [
          "birth filtration = 0.0<br>death filtration = 0.10198039027185535<br>interval length = 0.10198039027185535<br>birth simplex = [148]<br>cyle representative nnz = 2<br>bounding chain nnz = 1.0<br>row of dataframe = 208"
         ],
         "type": "scatter",
         "x": [
          0
         ],
         "y": [
          0.10198039027185535
         ]
        },
        {
         "legendgroup": "0",
         "marker": {
          "color": "#636EFA"
         },
         "mode": "markers",
         "name": "Dimension 0",
         "showlegend": false,
         "text": [
          "birth filtration = 0.0<br>death filtration = 0.18788294228055932<br>interval length = 0.18788294228055932<br>birth simplex = [147]<br>cyle representative nnz = 2<br>bounding chain nnz = 2.0<br>row of dataframe = 209"
         ],
         "type": "scatter",
         "x": [
          0
         ],
         "y": [
          0.18788294228055932
         ]
        },
        {
         "legendgroup": "0",
         "marker": {
          "color": "#636EFA"
         },
         "mode": "markers",
         "name": "Dimension 0",
         "showlegend": false,
         "text": [
          "birth filtration = 0.0<br>death filtration = 0.4110960958218891<br>interval length = 0.4110960958218891<br>birth simplex = [146]<br>cyle representative nnz = 2<br>bounding chain nnz = 1.0<br>row of dataframe = 210"
         ],
         "type": "scatter",
         "x": [
          0
         ],
         "y": [
          0.4110960958218891
         ]
        },
        {
         "legendgroup": "0",
         "marker": {
          "color": "#636EFA"
         },
         "mode": "markers",
         "name": "Dimension 0",
         "showlegend": false,
         "text": [
          "birth filtration = 0.0<br>death filtration = 0.21587033144922896<br>interval length = 0.21587033144922896<br>birth simplex = [145]<br>cyle representative nnz = 2<br>bounding chain nnz = 1.0<br>row of dataframe = 211"
         ],
         "type": "scatter",
         "x": [
          0
         ],
         "y": [
          0.21587033144922896
         ]
        },
        {
         "legendgroup": "0",
         "marker": {
          "color": "#636EFA"
         },
         "mode": "markers",
         "name": "Dimension 0",
         "showlegend": false,
         "text": [
          "birth filtration = 0.0<br>death filtration = 0.28160255680657453<br>interval length = 0.28160255680657453<br>birth simplex = [144]<br>cyle representative nnz = 2<br>bounding chain nnz = 2.0<br>row of dataframe = 212"
         ],
         "type": "scatter",
         "x": [
          0
         ],
         "y": [
          0.28160255680657453
         ]
        },
        {
         "legendgroup": "0",
         "marker": {
          "color": "#636EFA"
         },
         "mode": "markers",
         "name": "Dimension 0",
         "showlegend": false,
         "text": [
          "birth filtration = 0.0<br>death filtration = 0.296141857899217<br>interval length = 0.296141857899217<br>birth simplex = [143]<br>cyle representative nnz = 2<br>bounding chain nnz = 1.0<br>row of dataframe = 213"
         ],
         "type": "scatter",
         "x": [
          0
         ],
         "y": [
          0.296141857899217
         ]
        },
        {
         "legendgroup": "0",
         "marker": {
          "color": "#636EFA"
         },
         "mode": "markers",
         "name": "Dimension 0",
         "showlegend": false,
         "text": [
          "birth filtration = 0.0<br>death filtration = 0.17720045146669347<br>interval length = 0.17720045146669347<br>birth simplex = [142]<br>cyle representative nnz = 2<br>bounding chain nnz = 1.0<br>row of dataframe = 214"
         ],
         "type": "scatter",
         "x": [
          0
         ],
         "y": [
          0.17720045146669347
         ]
        },
        {
         "legendgroup": "0",
         "marker": {
          "color": "#636EFA"
         },
         "mode": "markers",
         "name": "Dimension 0",
         "showlegend": false,
         "text": [
          "birth filtration = 0.0<br>death filtration = 0.3944616584663203<br>interval length = 0.3944616584663203<br>birth simplex = [141]<br>cyle representative nnz = 2<br>bounding chain nnz = 17.0<br>row of dataframe = 215"
         ],
         "type": "scatter",
         "x": [
          0
         ],
         "y": [
          0.3944616584663203
         ]
        },
        {
         "legendgroup": "0",
         "marker": {
          "color": "#636EFA"
         },
         "mode": "markers",
         "name": "Dimension 0",
         "showlegend": false,
         "text": [
          "birth filtration = 0.0<br>death filtration = 0.20880613017821117<br>interval length = 0.20880613017821117<br>birth simplex = [140]<br>cyle representative nnz = 2<br>bounding chain nnz = 1.0<br>row of dataframe = 216"
         ],
         "type": "scatter",
         "x": [
          0
         ],
         "y": [
          0.20880613017821117
         ]
        },
        {
         "legendgroup": "0",
         "marker": {
          "color": "#636EFA"
         },
         "mode": "markers",
         "name": "Dimension 0",
         "showlegend": false,
         "text": [
          "birth filtration = 0.0<br>death filtration = 0.25806975801127885<br>interval length = 0.25806975801127885<br>birth simplex = [139]<br>cyle representative nnz = 2<br>bounding chain nnz = 1.0<br>row of dataframe = 217"
         ],
         "type": "scatter",
         "x": [
          0
         ],
         "y": [
          0.25806975801127885
         ]
        },
        {
         "legendgroup": "0",
         "marker": {
          "color": "#636EFA"
         },
         "mode": "markers",
         "name": "Dimension 0",
         "showlegend": false,
         "text": [
          "birth filtration = 0.0<br>death filtration = 0.16492422502470636<br>interval length = 0.16492422502470636<br>birth simplex = [138]<br>cyle representative nnz = 2<br>bounding chain nnz = 1.0<br>row of dataframe = 218"
         ],
         "type": "scatter",
         "x": [
          0
         ],
         "y": [
          0.16492422502470636
         ]
        },
        {
         "legendgroup": "0",
         "marker": {
          "color": "#636EFA"
         },
         "mode": "markers",
         "name": "Dimension 0",
         "showlegend": false,
         "text": [
          "birth filtration = 0.0<br>death filtration = 0.8209750300709515<br>interval length = 0.8209750300709515<br>birth simplex = [137]<br>cyle representative nnz = 2<br>bounding chain nnz = 130.0<br>row of dataframe = 219"
         ],
         "type": "scatter",
         "x": [
          0
         ],
         "y": [
          0.8209750300709515
         ]
        },
        {
         "legendgroup": "0",
         "marker": {
          "color": "#636EFA"
         },
         "mode": "markers",
         "name": "Dimension 0",
         "showlegend": false,
         "text": [
          "birth filtration = 0.0<br>death filtration = 0.4609772228646443<br>interval length = 0.4609772228646443<br>birth simplex = [136]<br>cyle representative nnz = 2<br>bounding chain nnz = 2.0<br>row of dataframe = 220"
         ],
         "type": "scatter",
         "x": [
          0
         ],
         "y": [
          0.4609772228646443
         ]
        },
        {
         "legendgroup": "0",
         "marker": {
          "color": "#636EFA"
         },
         "mode": "markers",
         "name": "Dimension 0",
         "showlegend": false,
         "text": [
          "birth filtration = 0.0<br>death filtration = 0.23706539182259387<br>interval length = 0.23706539182259387<br>birth simplex = [135]<br>cyle representative nnz = 2<br>bounding chain nnz = 2.0<br>row of dataframe = 221"
         ],
         "type": "scatter",
         "x": [
          0
         ],
         "y": [
          0.23706539182259387
         ]
        },
        {
         "legendgroup": "0",
         "marker": {
          "color": "#636EFA"
         },
         "mode": "markers",
         "name": "Dimension 0",
         "showlegend": false,
         "text": [
          "birth filtration = 0.0<br>death filtration = 0.2624880949681338<br>interval length = 0.2624880949681338<br>birth simplex = [134]<br>cyle representative nnz = 2<br>bounding chain nnz = 2.0<br>row of dataframe = 222"
         ],
         "type": "scatter",
         "x": [
          0
         ],
         "y": [
          0.2624880949681338
         ]
        },
        {
         "legendgroup": "0",
         "marker": {
          "color": "#636EFA"
         },
         "mode": "markers",
         "name": "Dimension 0",
         "showlegend": false,
         "text": [
          "birth filtration = 0.0<br>death filtration = 0.5503635162326805<br>interval length = 0.5503635162326805<br>birth simplex = [133]<br>cyle representative nnz = 2<br>bounding chain nnz = 2.0<br>row of dataframe = 223"
         ],
         "type": "scatter",
         "x": [
          0
         ],
         "y": [
          0.5503635162326805
         ]
        },
        {
         "legendgroup": "0",
         "marker": {
          "color": "#636EFA"
         },
         "mode": "markers",
         "name": "Dimension 0",
         "showlegend": false,
         "text": [
          "birth filtration = 0.0<br>death filtration = 0.2213594362117866<br>interval length = 0.2213594362117866<br>birth simplex = [132]<br>cyle representative nnz = 2<br>bounding chain nnz = 1.0<br>row of dataframe = 224"
         ],
         "type": "scatter",
         "x": [
          0
         ],
         "y": [
          0.2213594362117866
         ]
        },
        {
         "legendgroup": "0",
         "marker": {
          "color": "#636EFA"
         },
         "mode": "markers",
         "name": "Dimension 0",
         "showlegend": false,
         "text": [
          "birth filtration = 0.0<br>death filtration = 0.5503635162326805<br>interval length = 0.5503635162326805<br>birth simplex = [131]<br>cyle representative nnz = 2<br>bounding chain nnz = 1.0<br>row of dataframe = 225"
         ],
         "type": "scatter",
         "x": [
          0
         ],
         "y": [
          0.5503635162326805
         ]
        },
        {
         "legendgroup": "0",
         "marker": {
          "color": "#636EFA"
         },
         "mode": "markers",
         "name": "Dimension 0",
         "showlegend": false,
         "text": [
          "birth filtration = 0.0<br>death filtration = 0.33941125496954294<br>interval length = 0.33941125496954294<br>birth simplex = [130]<br>cyle representative nnz = 2<br>bounding chain nnz = 9.0<br>row of dataframe = 226"
         ],
         "type": "scatter",
         "x": [
          0
         ],
         "y": [
          0.33941125496954294
         ]
        },
        {
         "legendgroup": "0",
         "marker": {
          "color": "#636EFA"
         },
         "mode": "markers",
         "name": "Dimension 0",
         "showlegend": false,
         "text": [
          "birth filtration = 0.0<br>death filtration = 0.6413267497929585<br>interval length = 0.6413267497929585<br>birth simplex = [129]<br>cyle representative nnz = 2<br>bounding chain nnz = 10.0<br>row of dataframe = 227"
         ],
         "type": "scatter",
         "x": [
          0
         ],
         "y": [
          0.6413267497929585
         ]
        },
        {
         "legendgroup": "0",
         "marker": {
          "color": "#636EFA"
         },
         "mode": "markers",
         "name": "Dimension 0",
         "showlegend": false,
         "text": [
          "birth filtration = 0.0<br>death filtration = 0.26<br>interval length = 0.26<br>birth simplex = [128]<br>cyle representative nnz = 2<br>bounding chain nnz = 3.0<br>row of dataframe = 228"
         ],
         "type": "scatter",
         "x": [
          0
         ],
         "y": [
          0.26
         ]
        },
        {
         "legendgroup": "0",
         "marker": {
          "color": "#636EFA"
         },
         "mode": "markers",
         "name": "Dimension 0",
         "showlegend": false,
         "text": [
          "birth filtration = 0.0<br>death filtration = 0.08602325267042639<br>interval length = 0.08602325267042639<br>birth simplex = [127]<br>cyle representative nnz = 2<br>bounding chain nnz = 1.0<br>row of dataframe = 229"
         ],
         "type": "scatter",
         "x": [
          0
         ],
         "y": [
          0.08602325267042639
         ]
        },
        {
         "legendgroup": "0",
         "marker": {
          "color": "#636EFA"
         },
         "mode": "markers",
         "name": "Dimension 0",
         "showlegend": false,
         "text": [
          "birth filtration = 0.0<br>death filtration = 0.6171709649683786<br>interval length = 0.6171709649683786<br>birth simplex = [126]<br>cyle representative nnz = 2<br>bounding chain nnz = 1.0<br>row of dataframe = 230"
         ],
         "type": "scatter",
         "x": [
          0
         ],
         "y": [
          0.6171709649683786
         ]
        },
        {
         "legendgroup": "0",
         "marker": {
          "color": "#636EFA"
         },
         "mode": "markers",
         "name": "Dimension 0",
         "showlegend": false,
         "text": [
          "birth filtration = 0.0<br>death filtration = 0.3640054944640261<br>interval length = 0.3640054944640261<br>birth simplex = [125]<br>cyle representative nnz = 2<br>bounding chain nnz = 1.0<br>row of dataframe = 231"
         ],
         "type": "scatter",
         "x": [
          0
         ],
         "y": [
          0.3640054944640261
         ]
        },
        {
         "legendgroup": "0",
         "marker": {
          "color": "#636EFA"
         },
         "mode": "markers",
         "name": "Dimension 0",
         "showlegend": false,
         "text": [
          "birth filtration = 0.0<br>death filtration = 0.2842534080710377<br>interval length = 0.2842534080710377<br>birth simplex = [124]<br>cyle representative nnz = 2<br>bounding chain nnz = 2.0<br>row of dataframe = 232"
         ],
         "type": "scatter",
         "x": [
          0
         ],
         "y": [
          0.2842534080710377
         ]
        },
        {
         "legendgroup": "0",
         "marker": {
          "color": "#636EFA"
         },
         "mode": "markers",
         "name": "Dimension 0",
         "showlegend": false,
         "text": [
          "birth filtration = 0.0<br>death filtration = 0.30413812651491123<br>interval length = 0.30413812651491123<br>birth simplex = [123]<br>cyle representative nnz = 2<br>bounding chain nnz = 1.0<br>row of dataframe = 233"
         ],
         "type": "scatter",
         "x": [
          0
         ],
         "y": [
          0.30413812651491123
         ]
        },
        {
         "legendgroup": "0",
         "marker": {
          "color": "#636EFA"
         },
         "mode": "markers",
         "name": "Dimension 0",
         "showlegend": false,
         "text": [
          "birth filtration = 0.0<br>death filtration = 0.4257933771208753<br>interval length = 0.4257933771208753<br>birth simplex = [122]<br>cyle representative nnz = 2<br>bounding chain nnz = 1.0<br>row of dataframe = 234"
         ],
         "type": "scatter",
         "x": [
          0
         ],
         "y": [
          0.4257933771208753
         ]
        },
        {
         "legendgroup": "0",
         "marker": {
          "color": "#636EFA"
         },
         "mode": "markers",
         "name": "Dimension 0",
         "showlegend": false,
         "text": [
          "birth filtration = 0.0<br>death filtration = 0.502095608425328<br>interval length = 0.502095608425328<br>birth simplex = [121]<br>cyle representative nnz = 2<br>bounding chain nnz = 1.0<br>row of dataframe = 235"
         ],
         "type": "scatter",
         "x": [
          0
         ],
         "y": [
          0.502095608425328
         ]
        },
        {
         "legendgroup": "0",
         "marker": {
          "color": "#636EFA"
         },
         "mode": "markers",
         "name": "Dimension 0",
         "showlegend": false,
         "text": [
          "birth filtration = 0.0<br>death filtration = 0.7009279563550019<br>interval length = 0.7009279563550019<br>birth simplex = [120]<br>cyle representative nnz = 2<br>bounding chain nnz = 21.0<br>row of dataframe = 236"
         ],
         "type": "scatter",
         "x": [
          0
         ],
         "y": [
          0.7009279563550019
         ]
        },
        {
         "legendgroup": "0",
         "marker": {
          "color": "#636EFA"
         },
         "mode": "markers",
         "name": "Dimension 0",
         "showlegend": false,
         "text": [
          "birth filtration = 0.0<br>death filtration = 0.3046309242345566<br>interval length = 0.3046309242345566<br>birth simplex = [119]<br>cyle representative nnz = 2<br>bounding chain nnz = 2.0<br>row of dataframe = 237"
         ],
         "type": "scatter",
         "x": [
          0
         ],
         "y": [
          0.3046309242345566
         ]
        },
        {
         "legendgroup": "0",
         "marker": {
          "color": "#636EFA"
         },
         "mode": "markers",
         "name": "Dimension 0",
         "showlegend": false,
         "text": [
          "birth filtration = 0.0<br>death filtration = 0.5077400909914439<br>interval length = 0.5077400909914439<br>birth simplex = [118]<br>cyle representative nnz = 2<br>bounding chain nnz = 1.0<br>row of dataframe = 238"
         ],
         "type": "scatter",
         "x": [
          0
         ],
         "y": [
          0.5077400909914439
         ]
        },
        {
         "legendgroup": "0",
         "marker": {
          "color": "#636EFA"
         },
         "mode": "markers",
         "name": "Dimension 0",
         "showlegend": false,
         "text": [
          "birth filtration = 0.0<br>death filtration = 0.17117242768623683<br>interval length = 0.17117242768623683<br>birth simplex = [117]<br>cyle representative nnz = 2<br>bounding chain nnz = 1.0<br>row of dataframe = 239"
         ],
         "type": "scatter",
         "x": [
          0
         ],
         "y": [
          0.17117242768623683
         ]
        },
        {
         "legendgroup": "0",
         "marker": {
          "color": "#636EFA"
         },
         "mode": "markers",
         "name": "Dimension 0",
         "showlegend": false,
         "text": [
          "birth filtration = 0.0<br>death filtration = 0.22203603311174497<br>interval length = 0.22203603311174497<br>birth simplex = [116]<br>cyle representative nnz = 2<br>bounding chain nnz = 1.0<br>row of dataframe = 240"
         ],
         "type": "scatter",
         "x": [
          0
         ],
         "y": [
          0.22203603311174497
         ]
        },
        {
         "legendgroup": "0",
         "marker": {
          "color": "#636EFA"
         },
         "mode": "markers",
         "name": "Dimension 0",
         "showlegend": false,
         "text": [
          "birth filtration = 0.0<br>death filtration = 0.5700877125495692<br>interval length = 0.5700877125495692<br>birth simplex = [115]<br>cyle representative nnz = 2<br>bounding chain nnz = 24.0<br>row of dataframe = 241"
         ],
         "type": "scatter",
         "x": [
          0
         ],
         "y": [
          0.5700877125495692
         ]
        },
        {
         "legendgroup": "0",
         "marker": {
          "color": "#636EFA"
         },
         "mode": "markers",
         "name": "Dimension 0",
         "showlegend": false,
         "text": [
          "birth filtration = 0.0<br>death filtration = 0.176918060129541<br>interval length = 0.176918060129541<br>birth simplex = [114]<br>cyle representative nnz = 2<br>bounding chain nnz = 1.0<br>row of dataframe = 242"
         ],
         "type": "scatter",
         "x": [
          0
         ],
         "y": [
          0.176918060129541
         ]
        },
        {
         "legendgroup": "0",
         "marker": {
          "color": "#636EFA"
         },
         "mode": "markers",
         "name": "Dimension 0",
         "showlegend": false,
         "text": [
          "birth filtration = 0.0<br>death filtration = 0.30479501308256357<br>interval length = 0.30479501308256357<br>birth simplex = [113]<br>cyle representative nnz = 2<br>bounding chain nnz = 4.0<br>row of dataframe = 243"
         ],
         "type": "scatter",
         "x": [
          0
         ],
         "y": [
          0.30479501308256357
         ]
        },
        {
         "legendgroup": "0",
         "marker": {
          "color": "#636EFA"
         },
         "mode": "markers",
         "name": "Dimension 0",
         "showlegend": false,
         "text": [
          "birth filtration = 0.0<br>death filtration = 0.3453983207834109<br>interval length = 0.3453983207834109<br>birth simplex = [112]<br>cyle representative nnz = 2<br>bounding chain nnz = 4.0<br>row of dataframe = 244"
         ],
         "type": "scatter",
         "x": [
          0
         ],
         "y": [
          0.3453983207834109
         ]
        },
        {
         "legendgroup": "0",
         "marker": {
          "color": "#636EFA"
         },
         "mode": "markers",
         "name": "Dimension 0",
         "showlegend": false,
         "text": [
          "birth filtration = 0.0<br>death filtration = 0.30413812651491084<br>interval length = 0.30413812651491084<br>birth simplex = [111]<br>cyle representative nnz = 2<br>bounding chain nnz = 2.0<br>row of dataframe = 245"
         ],
         "type": "scatter",
         "x": [
          0
         ],
         "y": [
          0.30413812651491084
         ]
        },
        {
         "legendgroup": "0",
         "marker": {
          "color": "#636EFA"
         },
         "mode": "markers",
         "name": "Dimension 0",
         "showlegend": false,
         "text": [
          "birth filtration = 0.0<br>death filtration = 0.36249137920783736<br>interval length = 0.36249137920783736<br>birth simplex = [110]<br>cyle representative nnz = 2<br>bounding chain nnz = 1.0<br>row of dataframe = 246"
         ],
         "type": "scatter",
         "x": [
          0
         ],
         "y": [
          0.36249137920783736
         ]
        },
        {
         "legendgroup": "0",
         "marker": {
          "color": "#636EFA"
         },
         "mode": "markers",
         "name": "Dimension 0",
         "showlegend": false,
         "text": [
          "birth filtration = 0.0<br>death filtration = 0.9750897394599124<br>interval length = 0.9750897394599124<br>birth simplex = [109]<br>cyle representative nnz = 2<br>bounding chain nnz = 79.0<br>row of dataframe = 247"
         ],
         "type": "scatter",
         "x": [
          0
         ],
         "y": [
          0.9750897394599124
         ]
        },
        {
         "legendgroup": "0",
         "marker": {
          "color": "#636EFA"
         },
         "mode": "markers",
         "name": "Dimension 0",
         "showlegend": false,
         "text": [
          "birth filtration = 0.0<br>death filtration = 0.19849433241279196<br>interval length = 0.19849433241279196<br>birth simplex = [108]<br>cyle representative nnz = 2<br>bounding chain nnz = 1.0<br>row of dataframe = 248"
         ],
         "type": "scatter",
         "x": [
          0
         ],
         "y": [
          0.19849433241279196
         ]
        },
        {
         "legendgroup": "0",
         "marker": {
          "color": "#636EFA"
         },
         "mode": "markers",
         "name": "Dimension 0",
         "showlegend": false,
         "text": [
          "birth filtration = 0.0<br>death filtration = 0.41617304093369645<br>interval length = 0.41617304093369645<br>birth simplex = [107]<br>cyle representative nnz = 2<br>bounding chain nnz = 17.0<br>row of dataframe = 249"
         ],
         "type": "scatter",
         "x": [
          0
         ],
         "y": [
          0.41617304093369645
         ]
        },
        {
         "legendgroup": "0",
         "marker": {
          "color": "#636EFA"
         },
         "mode": "markers",
         "name": "Dimension 0",
         "showlegend": false,
         "text": [
          "birth filtration = 0.0<br>death filtration = 0.15264337522473762<br>interval length = 0.15264337522473762<br>birth simplex = [106]<br>cyle representative nnz = 2<br>bounding chain nnz = 1.0<br>row of dataframe = 250"
         ],
         "type": "scatter",
         "x": [
          0
         ],
         "y": [
          0.15264337522473762
         ]
        },
        {
         "legendgroup": "0",
         "marker": {
          "color": "#636EFA"
         },
         "mode": "markers",
         "name": "Dimension 0",
         "showlegend": false,
         "text": [
          "birth filtration = 0.0<br>death filtration = 0.39962482405376154<br>interval length = 0.39962482405376154<br>birth simplex = [105]<br>cyle representative nnz = 2<br>bounding chain nnz = 1.0<br>row of dataframe = 251"
         ],
         "type": "scatter",
         "x": [
          0
         ],
         "y": [
          0.39962482405376154
         ]
        },
        {
         "legendgroup": "0",
         "marker": {
          "color": "#636EFA"
         },
         "mode": "markers",
         "name": "Dimension 0",
         "showlegend": false,
         "text": [
          "birth filtration = 0.0<br>death filtration = 0.30413812651491096<br>interval length = 0.30413812651491096<br>birth simplex = [104]<br>cyle representative nnz = 2<br>bounding chain nnz = 6.0<br>row of dataframe = 252"
         ],
         "type": "scatter",
         "x": [
          0
         ],
         "y": [
          0.30413812651491096
         ]
        },
        {
         "legendgroup": "0",
         "marker": {
          "color": "#636EFA"
         },
         "mode": "markers",
         "name": "Dimension 0",
         "showlegend": false,
         "text": [
          "birth filtration = 0.0<br>death filtration = 0.31112698372208086<br>interval length = 0.31112698372208086<br>birth simplex = [103]<br>cyle representative nnz = 2<br>bounding chain nnz = 1.0<br>row of dataframe = 253"
         ],
         "type": "scatter",
         "x": [
          0
         ],
         "y": [
          0.31112698372208086
         ]
        },
        {
         "legendgroup": "0",
         "marker": {
          "color": "#636EFA"
         },
         "mode": "markers",
         "name": "Dimension 0",
         "showlegend": false,
         "text": [
          "birth filtration = 0.0<br>death filtration = 0.718401002226472<br>interval length = 0.718401002226472<br>birth simplex = [102]<br>cyle representative nnz = 2<br>bounding chain nnz = 60.0<br>row of dataframe = 254"
         ],
         "type": "scatter",
         "x": [
          0
         ],
         "y": [
          0.718401002226472
         ]
        },
        {
         "legendgroup": "0",
         "marker": {
          "color": "#636EFA"
         },
         "mode": "markers",
         "name": "Dimension 0",
         "showlegend": false,
         "text": [
          "birth filtration = 0.0<br>death filtration = 0.09486832980505168<br>interval length = 0.09486832980505168<br>birth simplex = [101]<br>cyle representative nnz = 2<br>bounding chain nnz = 1.0<br>row of dataframe = 255"
         ],
         "type": "scatter",
         "x": [
          0
         ],
         "y": [
          0.09486832980505168
         ]
        },
        {
         "legendgroup": "0",
         "marker": {
          "color": "#636EFA"
         },
         "mode": "markers",
         "name": "Dimension 0",
         "showlegend": false,
         "text": [
          "birth filtration = 0.0<br>death filtration = 0.47381430961928506<br>interval length = 0.47381430961928506<br>birth simplex = [100]<br>cyle representative nnz = 2<br>bounding chain nnz = 2.0<br>row of dataframe = 256"
         ],
         "type": "scatter",
         "x": [
          0
         ],
         "y": [
          0.47381430961928506
         ]
        },
        {
         "legendgroup": "0",
         "marker": {
          "color": "#636EFA"
         },
         "mode": "markers",
         "name": "Dimension 0",
         "showlegend": false,
         "text": [
          "birth filtration = 0.0<br>death filtration = 0.16278820596099702<br>interval length = 0.16278820596099702<br>birth simplex = [99]<br>cyle representative nnz = 2<br>bounding chain nnz = 5.0<br>row of dataframe = 257"
         ],
         "type": "scatter",
         "x": [
          0
         ],
         "y": [
          0.16278820596099702
         ]
        },
        {
         "legendgroup": "0",
         "marker": {
          "color": "#636EFA"
         },
         "mode": "markers",
         "name": "Dimension 0",
         "showlegend": false,
         "text": [
          "birth filtration = 0.0<br>death filtration = 0.4440720662234903<br>interval length = 0.4440720662234903<br>birth simplex = [98]<br>cyle representative nnz = 2<br>bounding chain nnz = 3.0<br>row of dataframe = 258"
         ],
         "type": "scatter",
         "x": [
          0
         ],
         "y": [
          0.4440720662234903
         ]
        },
        {
         "legendgroup": "0",
         "marker": {
          "color": "#636EFA"
         },
         "mode": "markers",
         "name": "Dimension 0",
         "showlegend": false,
         "text": [
          "birth filtration = 0.0<br>death filtration = 0.3500000000000001<br>interval length = 0.3500000000000001<br>birth simplex = [97]<br>cyle representative nnz = 2<br>bounding chain nnz = 1.0<br>row of dataframe = 259"
         ],
         "type": "scatter",
         "x": [
          0
         ],
         "y": [
          0.3500000000000001
         ]
        },
        {
         "legendgroup": "0",
         "marker": {
          "color": "#636EFA"
         },
         "mode": "markers",
         "name": "Dimension 0",
         "showlegend": false,
         "text": [
          "birth filtration = 0.0<br>death filtration = 0.49091750834534326<br>interval length = 0.49091750834534326<br>birth simplex = [96]<br>cyle representative nnz = 2<br>bounding chain nnz = 9.0<br>row of dataframe = 260"
         ],
         "type": "scatter",
         "x": [
          0
         ],
         "y": [
          0.49091750834534326
         ]
        },
        {
         "legendgroup": "0",
         "marker": {
          "color": "#636EFA"
         },
         "mode": "markers",
         "name": "Dimension 0",
         "showlegend": false,
         "text": [
          "birth filtration = 0.0<br>death filtration = 0.4464302857109941<br>interval length = 0.4464302857109941<br>birth simplex = [95]<br>cyle representative nnz = 2<br>bounding chain nnz = 8.0<br>row of dataframe = 261"
         ],
         "type": "scatter",
         "x": [
          0
         ],
         "y": [
          0.4464302857109941
         ]
        },
        {
         "legendgroup": "0",
         "marker": {
          "color": "#636EFA"
         },
         "mode": "markers",
         "name": "Dimension 0",
         "showlegend": false,
         "text": [
          "birth filtration = 0.0<br>death filtration = 0.6797793759742938<br>interval length = 0.6797793759742938<br>birth simplex = [94]<br>cyle representative nnz = 2<br>bounding chain nnz = 59.0<br>row of dataframe = 262"
         ],
         "type": "scatter",
         "x": [
          0
         ],
         "y": [
          0.6797793759742938
         ]
        },
        {
         "legendgroup": "0",
         "marker": {
          "color": "#636EFA"
         },
         "mode": "markers",
         "name": "Dimension 0",
         "showlegend": false,
         "text": [
          "birth filtration = 0.0<br>death filtration = 0.461410879802373<br>interval length = 0.461410879802373<br>birth simplex = [93]<br>cyle representative nnz = 2<br>bounding chain nnz = 2.0<br>row of dataframe = 263"
         ],
         "type": "scatter",
         "x": [
          0
         ],
         "y": [
          0.461410879802373
         ]
        },
        {
         "legendgroup": "0",
         "marker": {
          "color": "#636EFA"
         },
         "mode": "markers",
         "name": "Dimension 0",
         "showlegend": false,
         "text": [
          "birth filtration = 0.0<br>death filtration = 0.24839484696748446<br>interval length = 0.24839484696748446<br>birth simplex = [92]<br>cyle representative nnz = 2<br>bounding chain nnz = 1.0<br>row of dataframe = 264"
         ],
         "type": "scatter",
         "x": [
          0
         ],
         "y": [
          0.24839484696748446
         ]
        },
        {
         "legendgroup": "0",
         "marker": {
          "color": "#636EFA"
         },
         "mode": "markers",
         "name": "Dimension 0",
         "showlegend": false,
         "text": [
          "birth filtration = 0.0<br>death filtration = 0.1486606874731852<br>interval length = 0.1486606874731852<br>birth simplex = [91]<br>cyle representative nnz = 2<br>bounding chain nnz = 1.0<br>row of dataframe = 265"
         ],
         "type": "scatter",
         "x": [
          0
         ],
         "y": [
          0.1486606874731852
         ]
        },
        {
         "legendgroup": "0",
         "marker": {
          "color": "#636EFA"
         },
         "mode": "markers",
         "name": "Dimension 0",
         "showlegend": false,
         "text": [
          "birth filtration = 0.0<br>death filtration = 0.6964194138592055<br>interval length = 0.6964194138592055<br>birth simplex = [90]<br>cyle representative nnz = 2<br>bounding chain nnz = 1.0<br>row of dataframe = 266"
         ],
         "type": "scatter",
         "x": [
          0
         ],
         "y": [
          0.6964194138592055
         ]
        },
        {
         "legendgroup": "0",
         "marker": {
          "color": "#636EFA"
         },
         "mode": "markers",
         "name": "Dimension 0",
         "showlegend": false,
         "text": [
          "birth filtration = 0.0<br>death filtration = 0.700357051795725<br>interval length = 0.700357051795725<br>birth simplex = [89]<br>cyle representative nnz = 2<br>bounding chain nnz = 11.0<br>row of dataframe = 267"
         ],
         "type": "scatter",
         "x": [
          0
         ],
         "y": [
          0.700357051795725
         ]
        },
        {
         "legendgroup": "0",
         "marker": {
          "color": "#636EFA"
         },
         "mode": "markers",
         "name": "Dimension 0",
         "showlegend": false,
         "text": [
          "birth filtration = 0.0<br>death filtration = 0.3584689665786988<br>interval length = 0.3584689665786988<br>birth simplex = [88]<br>cyle representative nnz = 2<br>bounding chain nnz = 2.0<br>row of dataframe = 268"
         ],
         "type": "scatter",
         "x": [
          0
         ],
         "y": [
          0.3584689665786988
         ]
        },
        {
         "legendgroup": "0",
         "marker": {
          "color": "#636EFA"
         },
         "mode": "markers",
         "name": "Dimension 0",
         "showlegend": false,
         "text": [
          "birth filtration = 0.0<br>death filtration = 0.2163330765278393<br>interval length = 0.2163330765278393<br>birth simplex = [87]<br>cyle representative nnz = 2<br>bounding chain nnz = 3.0<br>row of dataframe = 269"
         ],
         "type": "scatter",
         "x": [
          0
         ],
         "y": [
          0.2163330765278393
         ]
        },
        {
         "legendgroup": "0",
         "marker": {
          "color": "#636EFA"
         },
         "mode": "markers",
         "name": "Dimension 0",
         "showlegend": false,
         "text": [
          "birth filtration = 0.0<br>death filtration = 0.29614185789921693<br>interval length = 0.29614185789921693<br>birth simplex = [86]<br>cyle representative nnz = 2<br>bounding chain nnz = 3.0<br>row of dataframe = 270"
         ],
         "type": "scatter",
         "x": [
          0
         ],
         "y": [
          0.29614185789921693
         ]
        },
        {
         "legendgroup": "0",
         "marker": {
          "color": "#636EFA"
         },
         "mode": "markers",
         "name": "Dimension 0",
         "showlegend": false,
         "text": [
          "birth filtration = 0.0<br>death filtration = 0.20000000000000018<br>interval length = 0.20000000000000018<br>birth simplex = [85]<br>cyle representative nnz = 2<br>bounding chain nnz = 1.0<br>row of dataframe = 271"
         ],
         "type": "scatter",
         "x": [
          0
         ],
         "y": [
          0.20000000000000018
         ]
        },
        {
         "legendgroup": "0",
         "marker": {
          "color": "#636EFA"
         },
         "mode": "markers",
         "name": "Dimension 0",
         "showlegend": false,
         "text": [
          "birth filtration = 0.0<br>death filtration = 0.27294688127912387<br>interval length = 0.27294688127912387<br>birth simplex = [84]<br>cyle representative nnz = 2<br>bounding chain nnz = 2.0<br>row of dataframe = 272"
         ],
         "type": "scatter",
         "x": [
          0
         ],
         "y": [
          0.27294688127912387
         ]
        },
        {
         "legendgroup": "0",
         "marker": {
          "color": "#636EFA"
         },
         "mode": "markers",
         "name": "Dimension 0",
         "showlegend": false,
         "text": [
          "birth filtration = 0.0<br>death filtration = 0.2523885892824793<br>interval length = 0.2523885892824793<br>birth simplex = [83]<br>cyle representative nnz = 2<br>bounding chain nnz = 1.0<br>row of dataframe = 273"
         ],
         "type": "scatter",
         "x": [
          0
         ],
         "y": [
          0.2523885892824793
         ]
        },
        {
         "legendgroup": "0",
         "marker": {
          "color": "#636EFA"
         },
         "mode": "markers",
         "name": "Dimension 0",
         "showlegend": false,
         "text": [
          "birth filtration = 0.0<br>death filtration = 0.42999999999999994<br>interval length = 0.42999999999999994<br>birth simplex = [82]<br>cyle representative nnz = 2<br>bounding chain nnz = 3.0<br>row of dataframe = 274"
         ],
         "type": "scatter",
         "x": [
          0
         ],
         "y": [
          0.42999999999999994
         ]
        },
        {
         "legendgroup": "0",
         "marker": {
          "color": "#636EFA"
         },
         "mode": "markers",
         "name": "Dimension 0",
         "showlegend": false,
         "text": [
          "birth filtration = 0.0<br>death filtration = 0.4992995093127973<br>interval length = 0.4992995093127973<br>birth simplex = [81]<br>cyle representative nnz = 2<br>bounding chain nnz = 5.0<br>row of dataframe = 275"
         ],
         "type": "scatter",
         "x": [
          0
         ],
         "y": [
          0.4992995093127973
         ]
        },
        {
         "legendgroup": "0",
         "marker": {
          "color": "#636EFA"
         },
         "mode": "markers",
         "name": "Dimension 0",
         "showlegend": false,
         "text": [
          "birth filtration = 0.0<br>death filtration = 0.2720294101747086<br>interval length = 0.2720294101747086<br>birth simplex = [80]<br>cyle representative nnz = 2<br>bounding chain nnz = 2.0<br>row of dataframe = 276"
         ],
         "type": "scatter",
         "x": [
          0
         ],
         "y": [
          0.2720294101747086
         ]
        },
        {
         "legendgroup": "0",
         "marker": {
          "color": "#636EFA"
         },
         "mode": "markers",
         "name": "Dimension 0",
         "showlegend": false,
         "text": [
          "birth filtration = 0.0<br>death filtration = 0.30610455730027947<br>interval length = 0.30610455730027947<br>birth simplex = [79]<br>cyle representative nnz = 2<br>bounding chain nnz = 6.0<br>row of dataframe = 277"
         ],
         "type": "scatter",
         "x": [
          0
         ],
         "y": [
          0.30610455730027947
         ]
        },
        {
         "legendgroup": "0",
         "marker": {
          "color": "#636EFA"
         },
         "mode": "markers",
         "name": "Dimension 0",
         "showlegend": false,
         "text": [
          "birth filtration = 0.0<br>death filtration = 0.3920459156782531<br>interval length = 0.3920459156782531<br>birth simplex = [78]<br>cyle representative nnz = 2<br>bounding chain nnz = 3.0<br>row of dataframe = 278"
         ],
         "type": "scatter",
         "x": [
          0
         ],
         "y": [
          0.3920459156782531
         ]
        },
        {
         "legendgroup": "0",
         "marker": {
          "color": "#636EFA"
         },
         "mode": "markers",
         "name": "Dimension 0",
         "showlegend": false,
         "text": [
          "birth filtration = 0.0<br>death filtration = 0.4720169488482378<br>interval length = 0.4720169488482378<br>birth simplex = [77]<br>cyle representative nnz = 2<br>bounding chain nnz = 22.0<br>row of dataframe = 279"
         ],
         "type": "scatter",
         "x": [
          0
         ],
         "y": [
          0.4720169488482378
         ]
        },
        {
         "legendgroup": "0",
         "marker": {
          "color": "#636EFA"
         },
         "mode": "markers",
         "name": "Dimension 0",
         "showlegend": false,
         "text": [
          "birth filtration = 0.0<br>death filtration = 0.30886890422961005<br>interval length = 0.30886890422961005<br>birth simplex = [76]<br>cyle representative nnz = 2<br>bounding chain nnz = 3.0<br>row of dataframe = 280"
         ],
         "type": "scatter",
         "x": [
          0
         ],
         "y": [
          0.30886890422961005
         ]
        },
        {
         "legendgroup": "0",
         "marker": {
          "color": "#636EFA"
         },
         "mode": "markers",
         "name": "Dimension 0",
         "showlegend": false,
         "text": [
          "birth filtration = 0.0<br>death filtration = 0.3931920650267497<br>interval length = 0.3931920650267497<br>birth simplex = [75]<br>cyle representative nnz = 2<br>bounding chain nnz = 1.0<br>row of dataframe = 281"
         ],
         "type": "scatter",
         "x": [
          0
         ],
         "y": [
          0.3931920650267497
         ]
        },
        {
         "legendgroup": "0",
         "marker": {
          "color": "#636EFA"
         },
         "mode": "markers",
         "name": "Dimension 0",
         "showlegend": false,
         "text": [
          "birth filtration = 0.0<br>death filtration = 0.22825424421026685<br>interval length = 0.22825424421026685<br>birth simplex = [74]<br>cyle representative nnz = 2<br>bounding chain nnz = 1.0<br>row of dataframe = 282"
         ],
         "type": "scatter",
         "x": [
          0
         ],
         "y": [
          0.22825424421026685
         ]
        },
        {
         "legendgroup": "0",
         "marker": {
          "color": "#636EFA"
         },
         "mode": "markers",
         "name": "Dimension 0",
         "showlegend": false,
         "text": [
          "birth filtration = 0.0<br>death filtration = 0.3008321791298265<br>interval length = 0.3008321791298265<br>birth simplex = [73]<br>cyle representative nnz = 2<br>bounding chain nnz = 2.0<br>row of dataframe = 283"
         ],
         "type": "scatter",
         "x": [
          0
         ],
         "y": [
          0.3008321791298265
         ]
        },
        {
         "legendgroup": "0",
         "marker": {
          "color": "#636EFA"
         },
         "mode": "markers",
         "name": "Dimension 0",
         "showlegend": false,
         "text": [
          "birth filtration = 0.0<br>death filtration = 0.202237484161567<br>interval length = 0.202237484161567<br>birth simplex = [72]<br>cyle representative nnz = 2<br>bounding chain nnz = 1.0<br>row of dataframe = 284"
         ],
         "type": "scatter",
         "x": [
          0
         ],
         "y": [
          0.202237484161567
         ]
        },
        {
         "legendgroup": "0",
         "marker": {
          "color": "#636EFA"
         },
         "mode": "markers",
         "name": "Dimension 0",
         "showlegend": false,
         "text": [
          "birth filtration = 0.0<br>death filtration = 0.3138470965295044<br>interval length = 0.3138470965295044<br>birth simplex = [71]<br>cyle representative nnz = 2<br>bounding chain nnz = 8.0<br>row of dataframe = 285"
         ],
         "type": "scatter",
         "x": [
          0
         ],
         "y": [
          0.3138470965295044
         ]
        },
        {
         "legendgroup": "0",
         "marker": {
          "color": "#636EFA"
         },
         "mode": "markers",
         "name": "Dimension 0",
         "showlegend": false,
         "text": [
          "birth filtration = 0.0<br>death filtration = 0.3289376840679705<br>interval length = 0.3289376840679705<br>birth simplex = [70]<br>cyle representative nnz = 2<br>bounding chain nnz = 1.0<br>row of dataframe = 286"
         ],
         "type": "scatter",
         "x": [
          0
         ],
         "y": [
          0.3289376840679705
         ]
        },
        {
         "legendgroup": "0",
         "marker": {
          "color": "#636EFA"
         },
         "mode": "markers",
         "name": "Dimension 0",
         "showlegend": false,
         "text": [
          "birth filtration = 0.0<br>death filtration = 0.5514526271584895<br>interval length = 0.5514526271584895<br>birth simplex = [69]<br>cyle representative nnz = 2<br>bounding chain nnz = 17.0<br>row of dataframe = 287"
         ],
         "type": "scatter",
         "x": [
          0
         ],
         "y": [
          0.5514526271584895
         ]
        },
        {
         "legendgroup": "0",
         "marker": {
          "color": "#636EFA"
         },
         "mode": "markers",
         "name": "Dimension 0",
         "showlegend": false,
         "text": [
          "birth filtration = 0.0<br>death filtration = 0.3289376840679705<br>interval length = 0.3289376840679705<br>birth simplex = [68]<br>cyle representative nnz = 2<br>bounding chain nnz = 1.0<br>row of dataframe = 288"
         ],
         "type": "scatter",
         "x": [
          0
         ],
         "y": [
          0.3289376840679705
         ]
        },
        {
         "legendgroup": "0",
         "marker": {
          "color": "#636EFA"
         },
         "mode": "markers",
         "name": "Dimension 0",
         "showlegend": false,
         "text": [
          "birth filtration = 0.0<br>death filtration = 0.12369316876852955<br>interval length = 0.12369316876852955<br>birth simplex = [67]<br>cyle representative nnz = 2<br>bounding chain nnz = 1.0<br>row of dataframe = 289"
         ],
         "type": "scatter",
         "x": [
          0
         ],
         "y": [
          0.12369316876852955
         ]
        },
        {
         "legendgroup": "0",
         "marker": {
          "color": "#636EFA"
         },
         "mode": "markers",
         "name": "Dimension 0",
         "showlegend": false,
         "text": [
          "birth filtration = 0.0<br>death filtration = 0.5326349594234313<br>interval length = 0.5326349594234313<br>birth simplex = [66]<br>cyle representative nnz = 2<br>bounding chain nnz = 40.0<br>row of dataframe = 290"
         ],
         "type": "scatter",
         "x": [
          0
         ],
         "y": [
          0.5326349594234313
         ]
        },
        {
         "legendgroup": "0",
         "marker": {
          "color": "#636EFA"
         },
         "mode": "markers",
         "name": "Dimension 0",
         "showlegend": false,
         "text": [
          "birth filtration = 0.0<br>death filtration = 0.3721558813185678<br>interval length = 0.3721558813185678<br>birth simplex = [65]<br>cyle representative nnz = 2<br>bounding chain nnz = 8.0<br>row of dataframe = 291"
         ],
         "type": "scatter",
         "x": [
          0
         ],
         "y": [
          0.3721558813185678
         ]
        },
        {
         "legendgroup": "0",
         "marker": {
          "color": "#636EFA"
         },
         "mode": "markers",
         "name": "Dimension 0",
         "showlegend": false,
         "text": [
          "birth filtration = 0.0<br>death filtration = 0.3640054944640261<br>interval length = 0.3640054944640261<br>birth simplex = [64]<br>cyle representative nnz = 2<br>bounding chain nnz = 1.0<br>row of dataframe = 292"
         ],
         "type": "scatter",
         "x": [
          0
         ],
         "y": [
          0.3640054944640261
         ]
        },
        {
         "legendgroup": "0",
         "marker": {
          "color": "#636EFA"
         },
         "mode": "markers",
         "name": "Dimension 0",
         "showlegend": false,
         "text": [
          "birth filtration = 0.0<br>death filtration = 0.42059481689626194<br>interval length = 0.42059481689626194<br>birth simplex = [63]<br>cyle representative nnz = 2<br>bounding chain nnz = 12.0<br>row of dataframe = 293"
         ],
         "type": "scatter",
         "x": [
          0
         ],
         "y": [
          0.42059481689626194
         ]
        },
        {
         "legendgroup": "0",
         "marker": {
          "color": "#636EFA"
         },
         "mode": "markers",
         "name": "Dimension 0",
         "showlegend": false,
         "text": [
          "birth filtration = 0.0<br>death filtration = 0.280178514522438<br>interval length = 0.280178514522438<br>birth simplex = [62]<br>cyle representative nnz = 2<br>bounding chain nnz = 2.0<br>row of dataframe = 294"
         ],
         "type": "scatter",
         "x": [
          0
         ],
         "y": [
          0.280178514522438
         ]
        },
        {
         "legendgroup": "0",
         "marker": {
          "color": "#636EFA"
         },
         "mode": "markers",
         "name": "Dimension 0",
         "showlegend": false,
         "text": [
          "birth filtration = 0.0<br>death filtration = 0.13<br>interval length = 0.13<br>birth simplex = [61]<br>cyle representative nnz = 2<br>bounding chain nnz = 1.0<br>row of dataframe = 295"
         ],
         "type": "scatter",
         "x": [
          0
         ],
         "y": [
          0.13
         ]
        },
        {
         "legendgroup": "0",
         "marker": {
          "color": "#636EFA"
         },
         "mode": "markers",
         "name": "Dimension 0",
         "showlegend": false,
         "text": [
          "birth filtration = 0.0<br>death filtration = 0.3301514803843834<br>interval length = 0.3301514803843834<br>birth simplex = [60]<br>cyle representative nnz = 2<br>bounding chain nnz = 8.0<br>row of dataframe = 296"
         ],
         "type": "scatter",
         "x": [
          0
         ],
         "y": [
          0.3301514803843834
         ]
        },
        {
         "legendgroup": "0",
         "marker": {
          "color": "#636EFA"
         },
         "mode": "markers",
         "name": "Dimension 0",
         "showlegend": false,
         "text": [
          "birth filtration = 0.0<br>death filtration = 0.37947331922020555<br>interval length = 0.37947331922020555<br>birth simplex = [59]<br>cyle representative nnz = 2<br>bounding chain nnz = 9.0<br>row of dataframe = 297"
         ],
         "type": "scatter",
         "x": [
          0
         ],
         "y": [
          0.37947331922020555
         ]
        },
        {
         "legendgroup": "0",
         "marker": {
          "color": "#636EFA"
         },
         "mode": "markers",
         "name": "Dimension 0",
         "showlegend": false,
         "text": [
          "birth filtration = 0.0<br>death filtration = 0.3801315561749639<br>interval length = 0.3801315561749639<br>birth simplex = [58]<br>cyle representative nnz = 2<br>bounding chain nnz = 3.0<br>row of dataframe = 298"
         ],
         "type": "scatter",
         "x": [
          0
         ],
         "y": [
          0.3801315561749639
         ]
        },
        {
         "legendgroup": "0",
         "marker": {
          "color": "#636EFA"
         },
         "mode": "markers",
         "name": "Dimension 0",
         "showlegend": false,
         "text": [
          "birth filtration = 0.0<br>death filtration = 0.512249938994628<br>interval length = 0.512249938994628<br>birth simplex = [57]<br>cyle representative nnz = 2<br>bounding chain nnz = 3.0<br>row of dataframe = 299"
         ],
         "type": "scatter",
         "x": [
          0
         ],
         "y": [
          0.512249938994628
         ]
        },
        {
         "legendgroup": "0",
         "marker": {
          "color": "#636EFA"
         },
         "mode": "markers",
         "name": "Dimension 0",
         "showlegend": false,
         "text": [
          "birth filtration = 0.0<br>death filtration = 0.29206163733020507<br>interval length = 0.29206163733020507<br>birth simplex = [56]<br>cyle representative nnz = 2<br>bounding chain nnz = 1.0<br>row of dataframe = 300"
         ],
         "type": "scatter",
         "x": [
          0
         ],
         "y": [
          0.29206163733020507
         ]
        },
        {
         "legendgroup": "0",
         "marker": {
          "color": "#636EFA"
         },
         "mode": "markers",
         "name": "Dimension 0",
         "showlegend": false,
         "text": [
          "birth filtration = 0.0<br>death filtration = 0.2745906043549192<br>interval length = 0.2745906043549192<br>birth simplex = [55]<br>cyle representative nnz = 2<br>bounding chain nnz = 6.0<br>row of dataframe = 301"
         ],
         "type": "scatter",
         "x": [
          0
         ],
         "y": [
          0.2745906043549192
         ]
        },
        {
         "legendgroup": "0",
         "marker": {
          "color": "#636EFA"
         },
         "mode": "markers",
         "name": "Dimension 0",
         "showlegend": false,
         "text": [
          "birth filtration = 0.0<br>death filtration = 0.6351377803280169<br>interval length = 0.6351377803280169<br>birth simplex = [54]<br>cyle representative nnz = 2<br>bounding chain nnz = 4.0<br>row of dataframe = 302"
         ],
         "type": "scatter",
         "x": [
          0
         ],
         "y": [
          0.6351377803280169
         ]
        },
        {
         "legendgroup": "0",
         "marker": {
          "color": "#636EFA"
         },
         "mode": "markers",
         "name": "Dimension 0",
         "showlegend": false,
         "text": [
          "birth filtration = 0.0<br>death filtration = 0.13038404810405285<br>interval length = 0.13038404810405285<br>birth simplex = [53]<br>cyle representative nnz = 2<br>bounding chain nnz = 1.0<br>row of dataframe = 303"
         ],
         "type": "scatter",
         "x": [
          0
         ],
         "y": [
          0.13038404810405285
         ]
        },
        {
         "legendgroup": "0",
         "marker": {
          "color": "#636EFA"
         },
         "mode": "markers",
         "name": "Dimension 0",
         "showlegend": false,
         "text": [
          "birth filtration = 0.0<br>death filtration = 0.6306346010171021<br>interval length = 0.6306346010171021<br>birth simplex = [52]<br>cyle representative nnz = 2<br>bounding chain nnz = 6.0<br>row of dataframe = 304"
         ],
         "type": "scatter",
         "x": [
          0
         ],
         "y": [
          0.6306346010171021
         ]
        },
        {
         "legendgroup": "0",
         "marker": {
          "color": "#636EFA"
         },
         "mode": "markers",
         "name": "Dimension 0",
         "showlegend": false,
         "text": [
          "birth filtration = 0.0<br>death filtration = 0.4400000000000004<br>interval length = 0.4400000000000004<br>birth simplex = [51]<br>cyle representative nnz = 2<br>bounding chain nnz = 27.0<br>row of dataframe = 305"
         ],
         "type": "scatter",
         "x": [
          0
         ],
         "y": [
          0.4400000000000004
         ]
        },
        {
         "legendgroup": "0",
         "marker": {
          "color": "#636EFA"
         },
         "mode": "markers",
         "name": "Dimension 0",
         "showlegend": false,
         "text": [
          "birth filtration = 0.0<br>death filtration = 0.5536244214266565<br>interval length = 0.5536244214266565<br>birth simplex = [50]<br>cyle representative nnz = 2<br>bounding chain nnz = 47.0<br>row of dataframe = 306"
         ],
         "type": "scatter",
         "x": [
          0
         ],
         "y": [
          0.5536244214266565
         ]
        },
        {
         "legendgroup": "0",
         "marker": {
          "color": "#636EFA"
         },
         "mode": "markers",
         "name": "Dimension 0",
         "showlegend": false,
         "text": [
          "birth filtration = 0.0<br>death filtration = 0.3901281840626233<br>interval length = 0.3901281840626233<br>birth simplex = [49]<br>cyle representative nnz = 2<br>bounding chain nnz = 2.0<br>row of dataframe = 307"
         ],
         "type": "scatter",
         "x": [
          0
         ],
         "y": [
          0.3901281840626233
         ]
        },
        {
         "legendgroup": "0",
         "marker": {
          "color": "#636EFA"
         },
         "mode": "markers",
         "name": "Dimension 0",
         "showlegend": false,
         "text": [
          "birth filtration = 0.0<br>death filtration = 0.3640054944640259<br>interval length = 0.3640054944640259<br>birth simplex = [48]<br>cyle representative nnz = 2<br>bounding chain nnz = 7.0<br>row of dataframe = 308"
         ],
         "type": "scatter",
         "x": [
          0
         ],
         "y": [
          0.3640054944640259
         ]
        },
        {
         "legendgroup": "0",
         "marker": {
          "color": "#636EFA"
         },
         "mode": "markers",
         "name": "Dimension 0",
         "showlegend": false,
         "text": [
          "birth filtration = 0.0<br>death filtration = 0.3306055050963307<br>interval length = 0.3306055050963307<br>birth simplex = [47]<br>cyle representative nnz = 2<br>bounding chain nnz = 2.0<br>row of dataframe = 309"
         ],
         "type": "scatter",
         "x": [
          0
         ],
         "y": [
          0.3306055050963307
         ]
        },
        {
         "legendgroup": "0",
         "marker": {
          "color": "#636EFA"
         },
         "mode": "markers",
         "name": "Dimension 0",
         "showlegend": false,
         "text": [
          "birth filtration = 0.0<br>death filtration = 0.15264337522473742<br>interval length = 0.15264337522473742<br>birth simplex = [46]<br>cyle representative nnz = 2<br>bounding chain nnz = 1.0<br>row of dataframe = 310"
         ],
         "type": "scatter",
         "x": [
          0
         ],
         "y": [
          0.15264337522473742
         ]
        },
        {
         "legendgroup": "0",
         "marker": {
          "color": "#636EFA"
         },
         "mode": "markers",
         "name": "Dimension 0",
         "showlegend": false,
         "text": [
          "birth filtration = 0.0<br>death filtration = 0.45967379738244823<br>interval length = 0.45967379738244823<br>birth simplex = [45]<br>cyle representative nnz = 2<br>bounding chain nnz = 1.0<br>row of dataframe = 311"
         ],
         "type": "scatter",
         "x": [
          0
         ],
         "y": [
          0.45967379738244823
         ]
        },
        {
         "legendgroup": "0",
         "marker": {
          "color": "#636EFA"
         },
         "mode": "markers",
         "name": "Dimension 0",
         "showlegend": false,
         "text": [
          "birth filtration = 0.0<br>death filtration = 0.32756678708318415<br>interval length = 0.32756678708318415<br>birth simplex = [44]<br>cyle representative nnz = 2<br>bounding chain nnz = 1.0<br>row of dataframe = 312"
         ],
         "type": "scatter",
         "x": [
          0
         ],
         "y": [
          0.32756678708318415
         ]
        },
        {
         "legendgroup": "0",
         "marker": {
          "color": "#636EFA"
         },
         "mode": "markers",
         "name": "Dimension 0",
         "showlegend": false,
         "text": [
          "birth filtration = 0.0<br>death filtration = 0.42047592083257274<br>interval length = 0.42047592083257274<br>birth simplex = [43]<br>cyle representative nnz = 2<br>bounding chain nnz = 1.0<br>row of dataframe = 313"
         ],
         "type": "scatter",
         "x": [
          0
         ],
         "y": [
          0.42047592083257274
         ]
        },
        {
         "legendgroup": "0",
         "marker": {
          "color": "#636EFA"
         },
         "mode": "markers",
         "name": "Dimension 0",
         "showlegend": false,
         "text": [
          "birth filtration = 0.0<br>death filtration = 0.2816025568065747<br>interval length = 0.2816025568065747<br>birth simplex = [42]<br>cyle representative nnz = 2<br>bounding chain nnz = 3.0<br>row of dataframe = 314"
         ],
         "type": "scatter",
         "x": [
          0
         ],
         "y": [
          0.2816025568065747
         ]
        },
        {
         "legendgroup": "0",
         "marker": {
          "color": "#636EFA"
         },
         "mode": "markers",
         "name": "Dimension 0",
         "showlegend": false,
         "text": [
          "birth filtration = 0.0<br>death filtration = 0.4382921400162227<br>interval length = 0.4382921400162227<br>birth simplex = [41]<br>cyle representative nnz = 2<br>bounding chain nnz = 1.0<br>row of dataframe = 315"
         ],
         "type": "scatter",
         "x": [
          0
         ],
         "y": [
          0.4382921400162227
         ]
        },
        {
         "legendgroup": "0",
         "marker": {
          "color": "#636EFA"
         },
         "mode": "markers",
         "name": "Dimension 0",
         "showlegend": false,
         "text": [
          "birth filtration = 0.0<br>death filtration = 0.2901723625709382<br>interval length = 0.2901723625709382<br>birth simplex = [40]<br>cyle representative nnz = 2<br>bounding chain nnz = 1.0<br>row of dataframe = 316"
         ],
         "type": "scatter",
         "x": [
          0
         ],
         "y": [
          0.2901723625709382
         ]
        },
        {
         "legendgroup": "0",
         "marker": {
          "color": "#636EFA"
         },
         "mode": "markers",
         "name": "Dimension 0",
         "showlegend": false,
         "text": [
          "birth filtration = 0.0<br>death filtration = 0.5249761899362676<br>interval length = 0.5249761899362676<br>birth simplex = [39]<br>cyle representative nnz = 2<br>bounding chain nnz = 2.0<br>row of dataframe = 317"
         ],
         "type": "scatter",
         "x": [
          0
         ],
         "y": [
          0.5249761899362676
         ]
        },
        {
         "legendgroup": "0",
         "marker": {
          "color": "#636EFA"
         },
         "mode": "markers",
         "name": "Dimension 0",
         "showlegend": false,
         "text": [
          "birth filtration = 0.0<br>death filtration = 0.4712748667179268<br>interval length = 0.4712748667179268<br>birth simplex = [38]<br>cyle representative nnz = 2<br>bounding chain nnz = 24.0<br>row of dataframe = 318"
         ],
         "type": "scatter",
         "x": [
          0
         ],
         "y": [
          0.4712748667179268
         ]
        },
        {
         "legendgroup": "0",
         "marker": {
          "color": "#636EFA"
         },
         "mode": "markers",
         "name": "Dimension 0",
         "showlegend": false,
         "text": [
          "birth filtration = 0.0<br>death filtration = 0.6334824385884739<br>interval length = 0.6334824385884739<br>birth simplex = [37]<br>cyle representative nnz = 2<br>bounding chain nnz = 3.0<br>row of dataframe = 319"
         ],
         "type": "scatter",
         "x": [
          0
         ],
         "y": [
          0.6334824385884739
         ]
        },
        {
         "legendgroup": "0",
         "marker": {
          "color": "#636EFA"
         },
         "mode": "markers",
         "name": "Dimension 0",
         "showlegend": false,
         "text": [
          "birth filtration = 0.0<br>death filtration = 0.4031128874149275<br>interval length = 0.4031128874149275<br>birth simplex = [36]<br>cyle representative nnz = 2<br>bounding chain nnz = 18.0<br>row of dataframe = 320"
         ],
         "type": "scatter",
         "x": [
          0
         ],
         "y": [
          0.4031128874149275
         ]
        },
        {
         "legendgroup": "0",
         "marker": {
          "color": "#636EFA"
         },
         "mode": "markers",
         "name": "Dimension 0",
         "showlegend": false,
         "text": [
          "birth filtration = 0.0<br>death filtration = 0.3478505426185218<br>interval length = 0.3478505426185218<br>birth simplex = [35]<br>cyle representative nnz = 2<br>bounding chain nnz = 3.0<br>row of dataframe = 321"
         ],
         "type": "scatter",
         "x": [
          0
         ],
         "y": [
          0.3478505426185218
         ]
        },
        {
         "legendgroup": "0",
         "marker": {
          "color": "#636EFA"
         },
         "mode": "markers",
         "name": "Dimension 0",
         "showlegend": false,
         "text": [
          "birth filtration = 0.0<br>death filtration = 0.4356604182158394<br>interval length = 0.4356604182158394<br>birth simplex = [34]<br>cyle representative nnz = 2<br>bounding chain nnz = 21.0<br>row of dataframe = 322"
         ],
         "type": "scatter",
         "x": [
          0
         ],
         "y": [
          0.4356604182158394
         ]
        },
        {
         "legendgroup": "0",
         "marker": {
          "color": "#636EFA"
         },
         "mode": "markers",
         "name": "Dimension 0",
         "showlegend": false,
         "text": [
          "birth filtration = 0.0<br>death filtration = 0.33421549934136857<br>interval length = 0.33421549934136857<br>birth simplex = [33]<br>cyle representative nnz = 2<br>bounding chain nnz = 11.0<br>row of dataframe = 323"
         ],
         "type": "scatter",
         "x": [
          0
         ],
         "y": [
          0.33421549934136857
         ]
        },
        {
         "legendgroup": "0",
         "marker": {
          "color": "#636EFA"
         },
         "mode": "markers",
         "name": "Dimension 0",
         "showlegend": false,
         "text": [
          "birth filtration = 0.0<br>death filtration = 0.36055512754639885<br>interval length = 0.36055512754639885<br>birth simplex = [32]<br>cyle representative nnz = 2<br>bounding chain nnz = 6.0<br>row of dataframe = 324"
         ],
         "type": "scatter",
         "x": [
          0
         ],
         "y": [
          0.36055512754639885
         ]
        },
        {
         "legendgroup": "0",
         "marker": {
          "color": "#636EFA"
         },
         "mode": "markers",
         "name": "Dimension 0",
         "showlegend": false,
         "text": [
          "birth filtration = 0.0<br>death filtration = 0.5115662224971462<br>interval length = 0.5115662224971462<br>birth simplex = [31]<br>cyle representative nnz = 2<br>bounding chain nnz = 14.0<br>row of dataframe = 325"
         ],
         "type": "scatter",
         "x": [
          0
         ],
         "y": [
          0.5115662224971462
         ]
        },
        {
         "legendgroup": "0",
         "marker": {
          "color": "#636EFA"
         },
         "mode": "markers",
         "name": "Dimension 0",
         "showlegend": false,
         "text": [
          "birth filtration = 0.0<br>death filtration = 0.5738466694161433<br>interval length = 0.5738466694161433<br>birth simplex = [30]<br>cyle representative nnz = 2<br>bounding chain nnz = 56.0<br>row of dataframe = 326"
         ],
         "type": "scatter",
         "x": [
          0
         ],
         "y": [
          0.5738466694161433
         ]
        },
        {
         "legendgroup": "0",
         "marker": {
          "color": "#636EFA"
         },
         "mode": "markers",
         "name": "Dimension 0",
         "showlegend": false,
         "text": [
          "birth filtration = 0.0<br>death filtration = 0.5032891812864647<br>interval length = 0.5032891812864647<br>birth simplex = [29]<br>cyle representative nnz = 2<br>bounding chain nnz = 1.0<br>row of dataframe = 327"
         ],
         "type": "scatter",
         "x": [
          0
         ],
         "y": [
          0.5032891812864647
         ]
        },
        {
         "legendgroup": "0",
         "marker": {
          "color": "#636EFA"
         },
         "mode": "markers",
         "name": "Dimension 0",
         "showlegend": false,
         "text": [
          "birth filtration = 0.0<br>death filtration = 0.5946427498927401<br>interval length = 0.5946427498927401<br>birth simplex = [28]<br>cyle representative nnz = 2<br>bounding chain nnz = 43.0<br>row of dataframe = 328"
         ],
         "type": "scatter",
         "x": [
          0
         ],
         "y": [
          0.5946427498927401
         ]
        },
        {
         "legendgroup": "0",
         "marker": {
          "color": "#636EFA"
         },
         "mode": "markers",
         "name": "Dimension 0",
         "showlegend": false,
         "text": [
          "birth filtration = 0.0<br>death filtration = 0.7707788269017253<br>interval length = 0.7707788269017253<br>birth simplex = [27]<br>cyle representative nnz = 2<br>bounding chain nnz = 48.0<br>row of dataframe = 329"
         ],
         "type": "scatter",
         "x": [
          0
         ],
         "y": [
          0.7707788269017253
         ]
        },
        {
         "legendgroup": "0",
         "marker": {
          "color": "#636EFA"
         },
         "mode": "markers",
         "name": "Dimension 0",
         "showlegend": false,
         "text": [
          "birth filtration = 0.0<br>death filtration = 0.5024937810560445<br>interval length = 0.5024937810560445<br>birth simplex = [26]<br>cyle representative nnz = 2<br>bounding chain nnz = 2.0<br>row of dataframe = 330"
         ],
         "type": "scatter",
         "x": [
          0
         ],
         "y": [
          0.5024937810560445
         ]
        },
        {
         "legendgroup": "0",
         "marker": {
          "color": "#636EFA"
         },
         "mode": "markers",
         "name": "Dimension 0",
         "showlegend": false,
         "text": [
          "birth filtration = 0.0<br>death filtration = 0.3794733192202053<br>interval length = 0.3794733192202053<br>birth simplex = [25]<br>cyle representative nnz = 2<br>bounding chain nnz = 2.0<br>row of dataframe = 331"
         ],
         "type": "scatter",
         "x": [
          0
         ],
         "y": [
          0.3794733192202053
         ]
        },
        {
         "legendgroup": "0",
         "marker": {
          "color": "#636EFA"
         },
         "mode": "markers",
         "name": "Dimension 0",
         "showlegend": false,
         "text": [
          "birth filtration = 0.0<br>death filtration = 0.4022437072223754<br>interval length = 0.4022437072223754<br>birth simplex = [24]<br>cyle representative nnz = 2<br>bounding chain nnz = 10.0<br>row of dataframe = 332"
         ],
         "type": "scatter",
         "x": [
          0
         ],
         "y": [
          0.4022437072223754
         ]
        },
        {
         "legendgroup": "0",
         "marker": {
          "color": "#636EFA"
         },
         "mode": "markers",
         "name": "Dimension 0",
         "showlegend": false,
         "text": [
          "birth filtration = 0.0<br>death filtration = 0.4876474136094645<br>interval length = 0.4876474136094645<br>birth simplex = [23]<br>cyle representative nnz = 2<br>bounding chain nnz = 2.0<br>row of dataframe = 333"
         ],
         "type": "scatter",
         "x": [
          0
         ],
         "y": [
          0.4876474136094645
         ]
        },
        {
         "legendgroup": "0",
         "marker": {
          "color": "#636EFA"
         },
         "mode": "markers",
         "name": "Dimension 0",
         "showlegend": false,
         "text": [
          "birth filtration = 0.0<br>death filtration = 0.38910152916687435<br>interval length = 0.38910152916687435<br>birth simplex = [22]<br>cyle representative nnz = 2<br>bounding chain nnz = 16.0<br>row of dataframe = 334"
         ],
         "type": "scatter",
         "x": [
          0
         ],
         "y": [
          0.38910152916687435
         ]
        },
        {
         "legendgroup": "0",
         "marker": {
          "color": "#636EFA"
         },
         "mode": "markers",
         "name": "Dimension 0",
         "showlegend": false,
         "text": [
          "birth filtration = 0.0<br>death filtration = 0.43011626335213127<br>interval length = 0.43011626335213127<br>birth simplex = [21]<br>cyle representative nnz = 2<br>bounding chain nnz = 25.0<br>row of dataframe = 335"
         ],
         "type": "scatter",
         "x": [
          0
         ],
         "y": [
          0.43011626335213127
         ]
        },
        {
         "legendgroup": "0",
         "marker": {
          "color": "#636EFA"
         },
         "mode": "markers",
         "name": "Dimension 0",
         "showlegend": false,
         "text": [
          "birth filtration = 0.0<br>death filtration = 0.35440090293338705<br>interval length = 0.35440090293338705<br>birth simplex = [20]<br>cyle representative nnz = 2<br>bounding chain nnz = 7.0<br>row of dataframe = 336"
         ],
         "type": "scatter",
         "x": [
          0
         ],
         "y": [
          0.35440090293338705
         ]
        },
        {
         "legendgroup": "0",
         "marker": {
          "color": "#636EFA"
         },
         "mode": "markers",
         "name": "Dimension 0",
         "showlegend": false,
         "text": [
          "birth filtration = 0.0<br>death filtration = 0.4004996878900156<br>interval length = 0.4004996878900156<br>birth simplex = [19]<br>cyle representative nnz = 2<br>bounding chain nnz = 2.0<br>row of dataframe = 337"
         ],
         "type": "scatter",
         "x": [
          0
         ],
         "y": [
          0.4004996878900156
         ]
        },
        {
         "legendgroup": "0",
         "marker": {
          "color": "#636EFA"
         },
         "mode": "markers",
         "name": "Dimension 0",
         "showlegend": false,
         "text": [
          "birth filtration = 0.0<br>death filtration = 0.47<br>interval length = 0.47<br>birth simplex = [18]<br>cyle representative nnz = 2<br>bounding chain nnz = 13.0<br>row of dataframe = 338"
         ],
         "type": "scatter",
         "x": [
          0
         ],
         "y": [
          0.47
         ]
        },
        {
         "legendgroup": "0",
         "marker": {
          "color": "#636EFA"
         },
         "mode": "markers",
         "name": "Dimension 0",
         "showlegend": false,
         "text": [
          "birth filtration = 0.0<br>death filtration = 0.7247068372797376<br>interval length = 0.7247068372797376<br>birth simplex = [17]<br>cyle representative nnz = 2<br>bounding chain nnz = 73.0<br>row of dataframe = 339"
         ],
         "type": "scatter",
         "x": [
          0
         ],
         "y": [
          0.7247068372797376
         ]
        },
        {
         "legendgroup": "0",
         "marker": {
          "color": "#636EFA"
         },
         "mode": "markers",
         "name": "Dimension 0",
         "showlegend": false,
         "text": [
          "birth filtration = 0.0<br>death filtration = 0.45617978911828194<br>interval length = 0.45617978911828194<br>birth simplex = [16]<br>cyle representative nnz = 2<br>bounding chain nnz = 2.0<br>row of dataframe = 340"
         ],
         "type": "scatter",
         "x": [
          0
         ],
         "y": [
          0.45617978911828194
         ]
        },
        {
         "legendgroup": "0",
         "marker": {
          "color": "#636EFA"
         },
         "mode": "markers",
         "name": "Dimension 0",
         "showlegend": false,
         "text": [
          "birth filtration = 0.0<br>death filtration = 0.2915475947422652<br>interval length = 0.2915475947422652<br>birth simplex = [15]<br>cyle representative nnz = 2<br>bounding chain nnz = 2.0<br>row of dataframe = 341"
         ],
         "type": "scatter",
         "x": [
          0
         ],
         "y": [
          0.2915475947422652
         ]
        },
        {
         "legendgroup": "0",
         "marker": {
          "color": "#636EFA"
         },
         "mode": "markers",
         "name": "Dimension 0",
         "showlegend": false,
         "text": [
          "birth filtration = 0.0<br>death filtration = 0.4850773134253961<br>interval length = 0.4850773134253961<br>birth simplex = [14]<br>cyle representative nnz = 2<br>bounding chain nnz = 18.0<br>row of dataframe = 342"
         ],
         "type": "scatter",
         "x": [
          0
         ],
         "y": [
          0.4850773134253961
         ]
        },
        {
         "legendgroup": "0",
         "marker": {
          "color": "#636EFA"
         },
         "mode": "markers",
         "name": "Dimension 0",
         "showlegend": false,
         "text": [
          "birth filtration = 0.0<br>death filtration = 0.6742403132415029<br>interval length = 0.6742403132415029<br>birth simplex = [13]<br>cyle representative nnz = 2<br>bounding chain nnz = 54.0<br>row of dataframe = 343"
         ],
         "type": "scatter",
         "x": [
          0
         ],
         "y": [
          0.6742403132415029
         ]
        },
        {
         "legendgroup": "0",
         "marker": {
          "color": "#636EFA"
         },
         "mode": "markers",
         "name": "Dimension 0",
         "showlegend": false,
         "text": [
          "birth filtration = 0.0<br>death filtration = 0.7543208866258447<br>interval length = 0.7543208866258447<br>birth simplex = [12]<br>cyle representative nnz = 2<br>bounding chain nnz = 2.0<br>row of dataframe = 344"
         ],
         "type": "scatter",
         "x": [
          0
         ],
         "y": [
          0.7543208866258447
         ]
        },
        {
         "legendgroup": "0",
         "marker": {
          "color": "#636EFA"
         },
         "mode": "markers",
         "name": "Dimension 0",
         "showlegend": false,
         "text": [
          "birth filtration = 0.0<br>death filtration = 0.6200000000000001<br>interval length = 0.6200000000000001<br>birth simplex = [11]<br>cyle representative nnz = 2<br>bounding chain nnz = 5.0<br>row of dataframe = 345"
         ],
         "type": "scatter",
         "x": [
          0
         ],
         "y": [
          0.6200000000000001
         ]
        },
        {
         "legendgroup": "0",
         "marker": {
          "color": "#636EFA"
         },
         "mode": "markers",
         "name": "Dimension 0",
         "showlegend": false,
         "text": [
          "birth filtration = 0.0<br>death filtration = 0.4808326112068523<br>interval length = 0.4808326112068523<br>birth simplex = [10]<br>cyle representative nnz = 2<br>bounding chain nnz = 33.0<br>row of dataframe = 346"
         ],
         "type": "scatter",
         "x": [
          0
         ],
         "y": [
          0.4808326112068523
         ]
        },
        {
         "legendgroup": "0",
         "marker": {
          "color": "#636EFA"
         },
         "mode": "markers",
         "name": "Dimension 0",
         "showlegend": false,
         "text": [
          "birth filtration = 0.0<br>death filtration = 0.8688498144098324<br>interval length = 0.8688498144098324<br>birth simplex = [9]<br>cyle representative nnz = 2<br>bounding chain nnz = 23.0<br>row of dataframe = 347"
         ],
         "type": "scatter",
         "x": [
          0
         ],
         "y": [
          0.8688498144098324
         ]
        },
        {
         "legendgroup": "0",
         "marker": {
          "color": "#636EFA"
         },
         "mode": "markers",
         "name": "Dimension 0",
         "showlegend": false,
         "text": [
          "birth filtration = 0.0<br>death filtration = 0.38897300677553465<br>interval length = 0.38897300677553465<br>birth simplex = [8]<br>cyle representative nnz = 2<br>bounding chain nnz = 2.0<br>row of dataframe = 348"
         ],
         "type": "scatter",
         "x": [
          0
         ],
         "y": [
          0.38897300677553465
         ]
        },
        {
         "legendgroup": "0",
         "marker": {
          "color": "#636EFA"
         },
         "mode": "markers",
         "name": "Dimension 0",
         "showlegend": false,
         "text": [
          "birth filtration = 0.0<br>death filtration = 0.5727128425310541<br>interval length = 0.5727128425310541<br>birth simplex = [7]<br>cyle representative nnz = 2<br>bounding chain nnz = 54.0<br>row of dataframe = 349"
         ],
         "type": "scatter",
         "x": [
          0
         ],
         "y": [
          0.5727128425310541
         ]
        },
        {
         "legendgroup": "0",
         "marker": {
          "color": "#636EFA"
         },
         "mode": "markers",
         "name": "Dimension 0",
         "showlegend": false,
         "text": [
          "birth filtration = 0.0<br>death filtration = 0.7818567643756751<br>interval length = 0.7818567643756751<br>birth simplex = [6]<br>cyle representative nnz = 2<br>bounding chain nnz = 14.0<br>row of dataframe = 350"
         ],
         "type": "scatter",
         "x": [
          0
         ],
         "y": [
          0.7818567643756751
         ]
        },
        {
         "legendgroup": "0",
         "marker": {
          "color": "#636EFA"
         },
         "mode": "markers",
         "name": "Dimension 0",
         "showlegend": false,
         "text": [
          "birth filtration = 0.0<br>death filtration = 0.4785394445602159<br>interval length = 0.4785394445602159<br>birth simplex = [5]<br>cyle representative nnz = 2<br>bounding chain nnz = 2.0<br>row of dataframe = 351"
         ],
         "type": "scatter",
         "x": [
          0
         ],
         "y": [
          0.4785394445602159
         ]
        },
        {
         "legendgroup": "0",
         "marker": {
          "color": "#636EFA"
         },
         "mode": "markers",
         "name": "Dimension 0",
         "showlegend": false,
         "text": [
          "birth filtration = 0.0<br>death filtration = 0.9486832980505142<br>interval length = 0.9486832980505142<br>birth simplex = [4]<br>cyle representative nnz = 2<br>bounding chain nnz = 43.0<br>row of dataframe = 352"
         ],
         "type": "scatter",
         "x": [
          0
         ],
         "y": [
          0.9486832980505142
         ]
        },
        {
         "legendgroup": "0",
         "marker": {
          "color": "#636EFA"
         },
         "mode": "markers",
         "name": "Dimension 0",
         "showlegend": false,
         "text": [
          "birth filtration = 0.0<br>death filtration = 0.5946427498927401<br>interval length = 0.5946427498927401<br>birth simplex = [3]<br>cyle representative nnz = 2<br>bounding chain nnz = 6.0<br>row of dataframe = 353"
         ],
         "type": "scatter",
         "x": [
          0
         ],
         "y": [
          0.5946427498927401
         ]
        },
        {
         "legendgroup": "0",
         "marker": {
          "color": "#636EFA"
         },
         "mode": "markers",
         "name": "Dimension 0",
         "showlegend": false,
         "text": [
          "birth filtration = 0.0<br>death filtration = 0.7500666637039668<br>interval length = 0.7500666637039668<br>birth simplex = [2]<br>cyle representative nnz = 2<br>bounding chain nnz = 49.0<br>row of dataframe = 354"
         ],
         "type": "scatter",
         "x": [
          0
         ],
         "y": [
          0.7500666637039668
         ]
        },
        {
         "legendgroup": "0",
         "marker": {
          "color": "#636EFA"
         },
         "mode": "markers",
         "name": "Dimension 0",
         "showlegend": false,
         "text": [
          "birth filtration = 0.0<br>death filtration = 0.7605918747922569<br>interval length = 0.7605918747922569<br>birth simplex = [1]<br>cyle representative nnz = 2<br>bounding chain nnz = 68.0<br>row of dataframe = 355"
         ],
         "type": "scatter",
         "x": [
          0
         ],
         "y": [
          0.7605918747922569
         ]
        },
        {
         "legendgroup": "0",
         "marker": {
          "color": "#636EFA"
         },
         "mode": "markers",
         "name": "Dimension 0",
         "showlegend": false,
         "text": [
          "birth filtration = 0.0<br>death filtration = 7.1804053506748495<br>interval length = inf<br>birth simplex = [0]<br>cyle representative nnz = 1<br>bounding chain nnz = nan<br>row of dataframe = 356"
         ],
         "type": "scatter",
         "x": [
          0
         ],
         "y": [
          7.1804053506748495
         ]
        },
        {
         "legendgroup": "1",
         "marker": {
          "color": "#EF553B"
         },
         "mode": "markers",
         "name": "Dimension 1",
         "showlegend": true,
         "text": [
          "birth filtration = 1.1562439189029277<br>death filtration = 1.3723337786413334<br>interval length = 0.21608985973840578<br>birth simplex = [45, 114]<br>cyle representative nnz = 28<br>bounding chain nnz = 48.0<br>row of dataframe = 357"
         ],
         "type": "scatter",
         "x": [
          1.1562439189029277
         ],
         "y": [
          1.3723337786413334
         ]
        },
        {
         "legendgroup": "1",
         "marker": {
          "color": "#EF553B"
         },
         "mode": "markers",
         "name": "Dimension 1",
         "showlegend": false,
         "text": [
          "birth filtration = 1.131591799192624<br>death filtration = 1.232233744059949<br>interval length = 0.1006419448673248<br>birth simplex = [115, 150]<br>cyle representative nnz = 12<br>bounding chain nnz = 16.0<br>row of dataframe = 358"
         ],
         "type": "scatter",
         "x": [
          1.131591799192624
         ],
         "y": [
          1.232233744059949
         ]
        },
        {
         "legendgroup": "1",
         "marker": {
          "color": "#EF553B"
         },
         "mode": "markers",
         "name": "Dimension 1",
         "showlegend": false,
         "text": [
          "birth filtration = 1.1232987136109434<br>death filtration = 1.2156479753612885<br>interval length = 0.09234926175034519<br>birth simplex = [12, 137]<br>cyle representative nnz = 12<br>bounding chain nnz = 18.0<br>row of dataframe = 359"
         ],
         "type": "scatter",
         "x": [
          1.1232987136109434
         ],
         "y": [
          1.2156479753612885
         ]
        },
        {
         "legendgroup": "1",
         "marker": {
          "color": "#EF553B"
         },
         "mode": "markers",
         "name": "Dimension 1",
         "showlegend": false,
         "text": [
          "birth filtration = 1.0881176406988358<br>death filtration = 1.1562439189029277<br>interval length = 0.0681262782040919<br>birth simplex = [52, 78]<br>cyle representative nnz = 12<br>bounding chain nnz = 12.0<br>row of dataframe = 360"
         ],
         "type": "scatter",
         "x": [
          1.0881176406988358
         ],
         "y": [
          1.1562439189029277
         ]
        },
        {
         "legendgroup": "1",
         "marker": {
          "color": "#EF553B"
         },
         "mode": "markers",
         "name": "Dimension 1",
         "showlegend": false,
         "text": [
          "birth filtration = 0.9895453501482384<br>death filtration = 0.9900505037623081<br>interval length = 0.0005051536140696644<br>birth simplex = [95, 137]<br>cyle representative nnz = 10<br>bounding chain nnz = 16.0<br>row of dataframe = 361"
         ],
         "type": "scatter",
         "x": [
          0.9895453501482384
         ],
         "y": [
          0.9900505037623081
         ]
        },
        {
         "legendgroup": "1",
         "marker": {
          "color": "#EF553B"
         },
         "mode": "markers",
         "name": "Dimension 1",
         "showlegend": false,
         "text": [
          "birth filtration = 0.9740636529508734<br>death filtration = 6.527641227886226<br>interval length = 5.553577574935353<br>birth simplex = [90, 95]<br>cyle representative nnz = 158<br>bounding chain nnz = 308.0<br>row of dataframe = 362"
         ],
         "type": "scatter",
         "x": [
          0.9740636529508734
         ],
         "y": [
          6.527641227886226
         ]
        },
        {
         "legendgroup": "1",
         "marker": {
          "color": "#EF553B"
         },
         "mode": "markers",
         "name": "Dimension 1",
         "showlegend": false,
         "text": [
          "birth filtration = 0.9700515450222218<br>death filtration = 1.0340696301506973<br>interval length = 0.06401808512847551<br>birth simplex = [2, 75]<br>cyle representative nnz = 8<br>bounding chain nnz = 6.0<br>row of dataframe = 363"
         ],
         "type": "scatter",
         "x": [
          0.9700515450222218
         ],
         "y": [
          1.0340696301506973
         ]
        },
        {
         "legendgroup": "1",
         "marker": {
          "color": "#EF553B"
         },
         "mode": "markers",
         "name": "Dimension 1",
         "showlegend": false,
         "text": [
          "birth filtration = 0.884081444212014<br>death filtration = 1.2720062892926278<br>interval length = 0.38792484508061387<br>birth simplex = [46, 89]<br>cyle representative nnz = 15<br>bounding chain nnz = 29.0<br>row of dataframe = 364"
         ],
         "type": "scatter",
         "x": [
          0.884081444212014
         ],
         "y": [
          1.2720062892926278
         ]
        },
        {
         "legendgroup": "1",
         "marker": {
          "color": "#EF553B"
         },
         "mode": "markers",
         "name": "Dimension 1",
         "showlegend": false,
         "text": [
          "birth filtration = 0.848999411071645<br>death filtration = 0.864696478540303<br>interval length = 0.015697067468657955<br>birth simplex = [71, 123]<br>cyle representative nnz = 8<br>bounding chain nnz = 6.0<br>row of dataframe = 365"
         ],
         "type": "scatter",
         "x": [
          0.848999411071645
         ],
         "y": [
          0.864696478540303
         ]
        },
        {
         "legendgroup": "1",
         "marker": {
          "color": "#EF553B"
         },
         "mode": "markers",
         "name": "Dimension 1",
         "showlegend": false,
         "text": [
          "birth filtration = 0.8198780397107855<br>death filtration = 1.0963576058932596<br>interval length = 0.27647956618247405<br>birth simplex = [100, 176]<br>cyle representative nnz = 13<br>bounding chain nnz = 13.0<br>row of dataframe = 366"
         ],
         "type": "scatter",
         "x": [
          0.8198780397107855
         ],
         "y": [
          1.0963576058932596
         ]
        },
        {
         "legendgroup": "1",
         "marker": {
          "color": "#EF553B"
         },
         "mode": "markers",
         "name": "Dimension 1",
         "showlegend": false,
         "text": [
          "birth filtration = 0.7810249675906652<br>death filtration = 0.9178779875342913<br>interval length = 0.1368530199436261<br>birth simplex = [11, 27]<br>cyle representative nnz = 7<br>bounding chain nnz = 5.0<br>row of dataframe = 367"
         ],
         "type": "scatter",
         "x": [
          0.7810249675906652
         ],
         "y": [
          0.9178779875342913
         ]
        },
        {
         "legendgroup": "1",
         "marker": {
          "color": "#EF553B"
         },
         "mode": "markers",
         "name": "Dimension 1",
         "showlegend": false,
         "text": [
          "birth filtration = 0.7800640999302559<br>death filtration = 0.8937561188601729<br>interval length = 0.11369201892991698<br>birth simplex = [94, 149]<br>cyle representative nnz = 4<br>bounding chain nnz = 2.0<br>row of dataframe = 368"
         ],
         "type": "scatter",
         "x": [
          0.7800640999302559
         ],
         "y": [
          0.8937561188601729
         ]
        },
        {
         "legendgroup": "1",
         "marker": {
          "color": "#EF553B"
         },
         "mode": "markers",
         "name": "Dimension 1",
         "showlegend": false,
         "text": [
          "birth filtration = 0.776208734813001<br>death filtration = 0.7826237921249264<br>interval length = 0.006415057311925376<br>birth simplex = [13, 103]<br>cyle representative nnz = 6<br>bounding chain nnz = 8.0<br>row of dataframe = 369"
         ],
         "type": "scatter",
         "x": [
          0.776208734813001
         ],
         "y": [
          0.7826237921249264
         ]
        },
        {
         "legendgroup": "1",
         "marker": {
          "color": "#EF553B"
         },
         "mode": "markers",
         "name": "Dimension 1",
         "showlegend": false,
         "text": [
          "birth filtration = 0.7433034373659255<br>death filtration = 1.1098198051936181<br>interval length = 0.3665163678276926<br>birth simplex = [103, 138]<br>cyle representative nnz = 26<br>bounding chain nnz = 42.0<br>row of dataframe = 370"
         ],
         "type": "scatter",
         "x": [
          0.7433034373659255
         ],
         "y": [
          1.1098198051936181
         ]
        },
        {
         "legendgroup": "1",
         "marker": {
          "color": "#EF553B"
         },
         "mode": "markers",
         "name": "Dimension 1",
         "showlegend": false,
         "text": [
          "birth filtration = 0.7140028011149535<br>death filtration = 0.7550496672405065<br>interval length = 0.04104686612555297<br>birth simplex = [44, 97]<br>cyle representative nnz = 5<br>bounding chain nnz = 3.0<br>row of dataframe = 371"
         ],
         "type": "scatter",
         "x": [
          0.7140028011149535
         ],
         "y": [
          0.7550496672405065
         ]
        },
        {
         "legendgroup": "1",
         "marker": {
          "color": "#EF553B"
         },
         "mode": "markers",
         "name": "Dimension 1",
         "showlegend": false,
         "text": [
          "birth filtration = 0.6628725367670615<br>death filtration = 0.7111258679024408<br>interval length = 0.04825333113537933<br>birth simplex = [110, 154]<br>cyle representative nnz = 8<br>bounding chain nnz = 6.0<br>row of dataframe = 372"
         ],
         "type": "scatter",
         "x": [
          0.6628725367670615
         ],
         "y": [
          0.7111258679024408
         ]
        },
        {
         "legendgroup": "1",
         "marker": {
          "color": "#EF553B"
         },
         "mode": "markers",
         "name": "Dimension 1",
         "showlegend": false,
         "text": [
          "birth filtration = 0.6599999999999999<br>death filtration = 1.9097905644337025<br>interval length = 1.2497905644337026<br>birth simplex = [210, 233]<br>cyle representative nnz = 47<br>bounding chain nnz = 79.0<br>row of dataframe = 373"
         ],
         "type": "scatter",
         "x": [
          0.6599999999999999
         ],
         "y": [
          1.9097905644337025
         ]
        },
        {
         "legendgroup": "1",
         "marker": {
          "color": "#EF553B"
         },
         "mode": "markers",
         "name": "Dimension 1",
         "showlegend": false,
         "text": [
          "birth filtration = 0.6226556030423241<br>death filtration = 0.6239390995922599<br>interval length = 0.0012834965499357587<br>birth simplex = [99, 146]<br>cyle representative nnz = 9<br>bounding chain nnz = 7.0<br>row of dataframe = 374"
         ],
         "type": "scatter",
         "x": [
          0.6226556030423241
         ],
         "y": [
          0.6239390995922599
         ]
        },
        {
         "legendgroup": "1",
         "marker": {
          "color": "#EF553B"
         },
         "mode": "markers",
         "name": "Dimension 1",
         "showlegend": false,
         "text": [
          "birth filtration = 0.6113100686231171<br>death filtration = 1.8813027401245126<br>interval length = 1.2699926715013956<br>birth simplex = [1, 303]<br>cyle representative nnz = 47<br>bounding chain nnz = 75.0<br>row of dataframe = 375"
         ],
         "type": "scatter",
         "x": [
          0.6113100686231171
         ],
         "y": [
          1.8813027401245126
         ]
        },
        {
         "legendgroup": "1",
         "marker": {
          "color": "#EF553B"
         },
         "mode": "markers",
         "name": "Dimension 1",
         "showlegend": false,
         "text": [
          "birth filtration = 0.6020797289396148<br>death filtration = 2.072003861000264<br>interval length = 1.4699241320606493<br>birth simplex = [182, 187]<br>cyle representative nnz = 49<br>bounding chain nnz = 73.0<br>row of dataframe = 376"
         ],
         "type": "scatter",
         "x": [
          0.6020797289396148
         ],
         "y": [
          2.072003861000264
         ]
        },
        {
         "legendgroup": "1",
         "marker": {
          "color": "#EF553B"
         },
         "mode": "markers",
         "name": "Dimension 1",
         "showlegend": false,
         "text": [
          "birth filtration = 0.6016643582596534<br>death filtration = 0.8030566605165541<br>interval length = 0.20139230225690075<br>birth simplex = [51, 69]<br>cyle representative nnz = 12<br>bounding chain nnz = 12.0<br>row of dataframe = 377"
         ],
         "type": "scatter",
         "x": [
          0.6016643582596534
         ],
         "y": [
          0.8030566605165541
         ]
        },
        {
         "legendgroup": "1",
         "marker": {
          "color": "#EF553B"
         },
         "mode": "markers",
         "name": "Dimension 1",
         "showlegend": false,
         "text": [
          "birth filtration = 0.5805170109479999<br>death filtration = 0.7802563681252466<br>interval length = 0.19973935717724667<br>birth simplex = [92, 300]<br>cyle representative nnz = 7<br>bounding chain nnz = 7.0<br>row of dataframe = 378"
         ],
         "type": "scatter",
         "x": [
          0.5805170109479999
         ],
         "y": [
          0.7802563681252466
         ]
        },
        {
         "legendgroup": "1",
         "marker": {
          "color": "#EF553B"
         },
         "mode": "markers",
         "name": "Dimension 1",
         "showlegend": false,
         "text": [
          "birth filtration = 0.5661271941887265<br>death filtration = 0.6198386886924697<br>interval length = 0.05371149450374324<br>birth simplex = [215, 250]<br>cyle representative nnz = 6<br>bounding chain nnz = 4.0<br>row of dataframe = 379"
         ],
         "type": "scatter",
         "x": [
          0.5661271941887265
         ],
         "y": [
          0.6198386886924697
         ]
        },
        {
         "legendgroup": "1",
         "marker": {
          "color": "#EF553B"
         },
         "mode": "markers",
         "name": "Dimension 1",
         "showlegend": false,
         "text": [
          "birth filtration = 0.5635601121442151<br>death filtration = 0.6236986451805071<br>interval length = 0.06013853303629202<br>birth simplex = [95, 230]<br>cyle representative nnz = 9<br>bounding chain nnz = 9.0<br>row of dataframe = 380"
         ],
         "type": "scatter",
         "x": [
          0.5635601121442151
         ],
         "y": [
          0.6236986451805071
         ]
        },
        {
         "legendgroup": "1",
         "marker": {
          "color": "#EF553B"
         },
         "mode": "markers",
         "name": "Dimension 1",
         "showlegend": false,
         "text": [
          "birth filtration = 0.5414794548272354<br>death filtration = 2.0905740838343903<br>interval length = 1.549094629007155<br>birth simplex = [310, 343]<br>cyle representative nnz = 43<br>bounding chain nnz = 61.0<br>row of dataframe = 381"
         ],
         "type": "scatter",
         "x": [
          0.5414794548272354
         ],
         "y": [
          2.0905740838343903
         ]
        },
        {
         "legendgroup": "1",
         "marker": {
          "color": "#EF553B"
         },
         "mode": "markers",
         "name": "Dimension 1",
         "showlegend": false,
         "text": [
          "birth filtration = 0.537401153701776<br>death filtration = 0.6419501538281616<br>interval length = 0.10454900012638557<br>birth simplex = [56, 118]<br>cyle representative nnz = 4<br>bounding chain nnz = 2.0<br>row of dataframe = 382"
         ],
         "type": "scatter",
         "x": [
          0.537401153701776
         ],
         "y": [
          0.6419501538281616
         ]
        },
        {
         "legendgroup": "1",
         "marker": {
          "color": "#EF553B"
         },
         "mode": "markers",
         "name": "Dimension 1",
         "showlegend": false,
         "text": [
          "birth filtration = 0.5099019513592784<br>death filtration = 0.5192301994298866<br>interval length = 0.00932824807060817<br>birth simplex = [63, 215]<br>cyle representative nnz = 7<br>bounding chain nnz = 5.0<br>row of dataframe = 383"
         ],
         "type": "scatter",
         "x": [
          0.5099019513592784
         ],
         "y": [
          0.5192301994298866
         ]
        },
        {
         "legendgroup": "1",
         "marker": {
          "color": "#EF553B"
         },
         "mode": "markers",
         "name": "Dimension 1",
         "showlegend": false,
         "text": [
          "birth filtration = 0.4788527957525151<br>death filtration = 0.8178630692236933<br>interval length = 0.33901027347117824<br>birth simplex = [38, 144]<br>cyle representative nnz = 14<br>bounding chain nnz = 20.0<br>row of dataframe = 384"
         ],
         "type": "scatter",
         "x": [
          0.4788527957525151
         ],
         "y": [
          0.8178630692236933
         ]
        },
        {
         "legendgroup": "1",
         "marker": {
          "color": "#EF553B"
         },
         "mode": "markers",
         "name": "Dimension 1",
         "showlegend": false,
         "text": [
          "birth filtration = 0.4704253394535637<br>death filtration = 0.5672741841473138<br>interval length = 0.0968488446937501<br>birth simplex = [47, 122]<br>cyle representative nnz = 6<br>bounding chain nnz = 6.0<br>row of dataframe = 385"
         ],
         "type": "scatter",
         "x": [
          0.4704253394535637
         ],
         "y": [
          0.5672741841473138
         ]
        },
        {
         "legendgroup": "1",
         "marker": {
          "color": "#EF553B"
         },
         "mode": "markers",
         "name": "Dimension 1",
         "showlegend": false,
         "text": [
          "birth filtration = 0.4308131845707606<br>death filtration = 0.4404543109109046<br>interval length = 0.009641126340143968<br>birth simplex = [282, 301]<br>cyle representative nnz = 4<br>bounding chain nnz = 2.0<br>row of dataframe = 386"
         ],
         "type": "scatter",
         "x": [
          0.4308131845707606
         ],
         "y": [
          0.4404543109109046
         ]
        },
        {
         "legendgroup": "1",
         "marker": {
          "color": "#EF553B"
         },
         "mode": "markers",
         "name": "Dimension 1",
         "showlegend": false,
         "text": [
          "birth filtration = 0.4205948168962611<br>death filtration = 0.4295346318982904<br>interval length = 0.008939815002029283<br>birth simplex = [34, 231]<br>cyle representative nnz = 5<br>bounding chain nnz = 7.0<br>row of dataframe = 387"
         ],
         "type": "scatter",
         "x": [
          0.4205948168962611
         ],
         "y": [
          0.4295346318982904
         ]
        },
        {
         "legendgroup": "1",
         "marker": {
          "color": "#EF553B"
         },
         "mode": "markers",
         "name": "Dimension 1",
         "showlegend": false,
         "text": [
          "birth filtration = 0.42011903075200013<br>death filtration = 0.44011362169330814<br>interval length = 0.01999459094130801<br>birth simplex = [325, 347]<br>cyle representative nnz = 7<br>bounding chain nnz = 7.0<br>row of dataframe = 388"
         ],
         "type": "scatter",
         "x": [
          0.42011903075200013
         ],
         "y": [
          0.44011362169330814
         ]
        },
        {
         "legendgroup": "1",
         "marker": {
          "color": "#EF553B"
         },
         "mode": "markers",
         "name": "Dimension 1",
         "showlegend": false,
         "text": [
          "birth filtration = 0.3891015291668744<br>death filtration = 0.42520583250938604<br>interval length = 0.036104303342511634<br>birth simplex = [44, 145]<br>cyle representative nnz = 5<br>bounding chain nnz = 3.0<br>row of dataframe = 389"
         ],
         "type": "scatter",
         "x": [
          0.3891015291668744
         ],
         "y": [
          0.42520583250938604
         ]
        },
        {
         "legendgroup": "1",
         "marker": {
          "color": "#EF553B"
         },
         "mode": "markers",
         "name": "Dimension 1",
         "showlegend": false,
         "text": [
          "birth filtration = 0.375765884561119<br>death filtration = 0.3807886552931959<br>interval length = 0.005022770732076909<br>birth simplex = [35, 191]<br>cyle representative nnz = 5<br>bounding chain nnz = 5.0<br>row of dataframe = 390"
         ],
         "type": "scatter",
         "x": [
          0.375765884561119
         ],
         "y": [
          0.3807886552931959
         ]
        },
        {
         "legendgroup": "1",
         "marker": {
          "color": "#EF553B"
         },
         "mode": "markers",
         "name": "Dimension 1",
         "showlegend": false,
         "text": [
          "birth filtration = 0.3667424164178449<br>death filtration = 0.3773592452822643<br>interval length = 0.010616828864419392<br>birth simplex = [310, 351]<br>cyle representative nnz = 4<br>bounding chain nnz = 2.0<br>row of dataframe = 391"
         ],
         "type": "scatter",
         "x": [
          0.3667424164178449
         ],
         "y": [
          0.3773592452822643
         ]
        },
        {
         "legendgroup": "1",
         "marker": {
          "color": "#EF553B"
         },
         "mode": "markers",
         "name": "Dimension 1",
         "showlegend": false,
         "text": [
          "birth filtration = 0.3478505426185218<br>death filtration = 0.3634556369077253<br>interval length = 0.015605094289203536<br>birth simplex = [258, 266]<br>cyle representative nnz = 5<br>bounding chain nnz = 3.0<br>row of dataframe = 392"
         ],
         "type": "scatter",
         "x": [
          0.3478505426185218
         ],
         "y": [
          0.3634556369077253
         ]
        },
        {
         "legendgroup": "1",
         "marker": {
          "color": "#EF553B"
         },
         "mode": "markers",
         "name": "Dimension 1",
         "showlegend": false,
         "text": [
          "birth filtration = 0.311448230047949<br>death filtration = 0.3255764119219944<br>interval length = 0.014128181874045354<br>birth simplex = [80, 263]<br>cyle representative nnz = 4<br>bounding chain nnz = 2.0<br>row of dataframe = 393"
         ],
         "type": "scatter",
         "x": [
          0.311448230047949
         ],
         "y": [
          0.3255764119219944
         ]
        },
        {
         "legendgroup": "1",
         "marker": {
          "color": "#EF553B"
         },
         "mode": "markers",
         "name": "Dimension 1",
         "showlegend": false,
         "text": [
          "birth filtration = 0.304138126514911<br>death filtration = 0.3244996147917594<br>interval length = 0.020361488276848416<br>birth simplex = [269, 302]<br>cyle representative nnz = 5<br>bounding chain nnz = 3.0<br>row of dataframe = 394"
         ],
         "type": "scatter",
         "x": [
          0.304138126514911
         ],
         "y": [
          0.3244996147917594
         ]
        },
        {
         "legendgroup": "1",
         "marker": {
          "color": "#EF553B"
         },
         "mode": "markers",
         "name": "Dimension 1",
         "showlegend": false,
         "text": [
          "birth filtration = 0.23086792761230346<br>death filtration = 0.25553864678361254<br>interval length = 0.024670719171309086<br>birth simplex = [177, 189]<br>cyle representative nnz = 4<br>bounding chain nnz = 2.0<br>row of dataframe = 395"
         ],
         "type": "scatter",
         "x": [
          0.23086792761230346
         ],
         "y": [
          0.25553864678361254
         ]
        },
        {
         "legendgroup": "1",
         "marker": {
          "color": "#EF553B"
         },
         "mode": "markers",
         "name": "Dimension 1",
         "showlegend": false,
         "text": [
          "birth filtration = 0.19646882704388538<br>death filtration = 0.2000000000000001<br>interval length = 0.0035311729561147143<br>birth simplex = [158, 195]<br>cyle representative nnz = 4<br>bounding chain nnz = 2.0<br>row of dataframe = 396"
         ],
         "type": "scatter",
         "x": [
          0.19646882704388538
         ],
         "y": [
          0.2000000000000001
         ]
        },
        {
         "legendgroup": "1",
         "marker": {
          "color": "#EF553B"
         },
         "mode": "markers",
         "name": "Dimension 1",
         "showlegend": false,
         "text": [
          "birth filtration = 0.17204650534085233<br>death filtration = 0.17464249196572987<br>interval length = 0.002595986624877533<br>birth simplex = [168, 190]<br>cyle representative nnz = 4<br>bounding chain nnz = 2.0<br>row of dataframe = 397"
         ],
         "type": "scatter",
         "x": [
          0.17204650534085233
         ],
         "y": [
          0.17464249196572987
         ]
        }
       ],
       "layout": {
        "height": 500,
        "margin": {
         "b": 20,
         "l": 20,
         "r": 20,
         "t": 20
        },
        "shapes": [
         {
          "line": {
           "dash": "dot"
          },
          "type": "line",
          "x0": 0,
          "x1": 1,
          "xref": "x domain",
          "y0": 7.1804053506748495,
          "y1": 7.1804053506748495,
          "yref": "y"
         }
        ],
        "template": {
         "data": {
          "bar": [
           {
            "error_x": {
             "color": "#2a3f5f"
            },
            "error_y": {
             "color": "#2a3f5f"
            },
            "marker": {
             "line": {
              "color": "#E5ECF6",
              "width": 0.5
             },
             "pattern": {
              "fillmode": "overlay",
              "size": 10,
              "solidity": 0.2
             }
            },
            "type": "bar"
           }
          ],
          "barpolar": [
           {
            "marker": {
             "line": {
              "color": "#E5ECF6",
              "width": 0.5
             },
             "pattern": {
              "fillmode": "overlay",
              "size": 10,
              "solidity": 0.2
             }
            },
            "type": "barpolar"
           }
          ],
          "carpet": [
           {
            "aaxis": {
             "endlinecolor": "#2a3f5f",
             "gridcolor": "white",
             "linecolor": "white",
             "minorgridcolor": "white",
             "startlinecolor": "#2a3f5f"
            },
            "baxis": {
             "endlinecolor": "#2a3f5f",
             "gridcolor": "white",
             "linecolor": "white",
             "minorgridcolor": "white",
             "startlinecolor": "#2a3f5f"
            },
            "type": "carpet"
           }
          ],
          "choropleth": [
           {
            "colorbar": {
             "outlinewidth": 0,
             "ticks": ""
            },
            "type": "choropleth"
           }
          ],
          "contour": [
           {
            "colorbar": {
             "outlinewidth": 0,
             "ticks": ""
            },
            "colorscale": [
             [
              0,
              "#0d0887"
             ],
             [
              0.1111111111111111,
              "#46039f"
             ],
             [
              0.2222222222222222,
              "#7201a8"
             ],
             [
              0.3333333333333333,
              "#9c179e"
             ],
             [
              0.4444444444444444,
              "#bd3786"
             ],
             [
              0.5555555555555556,
              "#d8576b"
             ],
             [
              0.6666666666666666,
              "#ed7953"
             ],
             [
              0.7777777777777778,
              "#fb9f3a"
             ],
             [
              0.8888888888888888,
              "#fdca26"
             ],
             [
              1,
              "#f0f921"
             ]
            ],
            "type": "contour"
           }
          ],
          "contourcarpet": [
           {
            "colorbar": {
             "outlinewidth": 0,
             "ticks": ""
            },
            "type": "contourcarpet"
           }
          ],
          "heatmap": [
           {
            "colorbar": {
             "outlinewidth": 0,
             "ticks": ""
            },
            "colorscale": [
             [
              0,
              "#0d0887"
             ],
             [
              0.1111111111111111,
              "#46039f"
             ],
             [
              0.2222222222222222,
              "#7201a8"
             ],
             [
              0.3333333333333333,
              "#9c179e"
             ],
             [
              0.4444444444444444,
              "#bd3786"
             ],
             [
              0.5555555555555556,
              "#d8576b"
             ],
             [
              0.6666666666666666,
              "#ed7953"
             ],
             [
              0.7777777777777778,
              "#fb9f3a"
             ],
             [
              0.8888888888888888,
              "#fdca26"
             ],
             [
              1,
              "#f0f921"
             ]
            ],
            "type": "heatmap"
           }
          ],
          "heatmapgl": [
           {
            "colorbar": {
             "outlinewidth": 0,
             "ticks": ""
            },
            "colorscale": [
             [
              0,
              "#0d0887"
             ],
             [
              0.1111111111111111,
              "#46039f"
             ],
             [
              0.2222222222222222,
              "#7201a8"
             ],
             [
              0.3333333333333333,
              "#9c179e"
             ],
             [
              0.4444444444444444,
              "#bd3786"
             ],
             [
              0.5555555555555556,
              "#d8576b"
             ],
             [
              0.6666666666666666,
              "#ed7953"
             ],
             [
              0.7777777777777778,
              "#fb9f3a"
             ],
             [
              0.8888888888888888,
              "#fdca26"
             ],
             [
              1,
              "#f0f921"
             ]
            ],
            "type": "heatmapgl"
           }
          ],
          "histogram": [
           {
            "marker": {
             "pattern": {
              "fillmode": "overlay",
              "size": 10,
              "solidity": 0.2
             }
            },
            "type": "histogram"
           }
          ],
          "histogram2d": [
           {
            "colorbar": {
             "outlinewidth": 0,
             "ticks": ""
            },
            "colorscale": [
             [
              0,
              "#0d0887"
             ],
             [
              0.1111111111111111,
              "#46039f"
             ],
             [
              0.2222222222222222,
              "#7201a8"
             ],
             [
              0.3333333333333333,
              "#9c179e"
             ],
             [
              0.4444444444444444,
              "#bd3786"
             ],
             [
              0.5555555555555556,
              "#d8576b"
             ],
             [
              0.6666666666666666,
              "#ed7953"
             ],
             [
              0.7777777777777778,
              "#fb9f3a"
             ],
             [
              0.8888888888888888,
              "#fdca26"
             ],
             [
              1,
              "#f0f921"
             ]
            ],
            "type": "histogram2d"
           }
          ],
          "histogram2dcontour": [
           {
            "colorbar": {
             "outlinewidth": 0,
             "ticks": ""
            },
            "colorscale": [
             [
              0,
              "#0d0887"
             ],
             [
              0.1111111111111111,
              "#46039f"
             ],
             [
              0.2222222222222222,
              "#7201a8"
             ],
             [
              0.3333333333333333,
              "#9c179e"
             ],
             [
              0.4444444444444444,
              "#bd3786"
             ],
             [
              0.5555555555555556,
              "#d8576b"
             ],
             [
              0.6666666666666666,
              "#ed7953"
             ],
             [
              0.7777777777777778,
              "#fb9f3a"
             ],
             [
              0.8888888888888888,
              "#fdca26"
             ],
             [
              1,
              "#f0f921"
             ]
            ],
            "type": "histogram2dcontour"
           }
          ],
          "mesh3d": [
           {
            "colorbar": {
             "outlinewidth": 0,
             "ticks": ""
            },
            "type": "mesh3d"
           }
          ],
          "parcoords": [
           {
            "line": {
             "colorbar": {
              "outlinewidth": 0,
              "ticks": ""
             }
            },
            "type": "parcoords"
           }
          ],
          "pie": [
           {
            "automargin": true,
            "type": "pie"
           }
          ],
          "scatter": [
           {
            "fillpattern": {
             "fillmode": "overlay",
             "size": 10,
             "solidity": 0.2
            },
            "type": "scatter"
           }
          ],
          "scatter3d": [
           {
            "line": {
             "colorbar": {
              "outlinewidth": 0,
              "ticks": ""
             }
            },
            "marker": {
             "colorbar": {
              "outlinewidth": 0,
              "ticks": ""
             }
            },
            "type": "scatter3d"
           }
          ],
          "scattercarpet": [
           {
            "marker": {
             "colorbar": {
              "outlinewidth": 0,
              "ticks": ""
             }
            },
            "type": "scattercarpet"
           }
          ],
          "scattergeo": [
           {
            "marker": {
             "colorbar": {
              "outlinewidth": 0,
              "ticks": ""
             }
            },
            "type": "scattergeo"
           }
          ],
          "scattergl": [
           {
            "marker": {
             "colorbar": {
              "outlinewidth": 0,
              "ticks": ""
             }
            },
            "type": "scattergl"
           }
          ],
          "scattermapbox": [
           {
            "marker": {
             "colorbar": {
              "outlinewidth": 0,
              "ticks": ""
             }
            },
            "type": "scattermapbox"
           }
          ],
          "scatterpolar": [
           {
            "marker": {
             "colorbar": {
              "outlinewidth": 0,
              "ticks": ""
             }
            },
            "type": "scatterpolar"
           }
          ],
          "scatterpolargl": [
           {
            "marker": {
             "colorbar": {
              "outlinewidth": 0,
              "ticks": ""
             }
            },
            "type": "scatterpolargl"
           }
          ],
          "scatterternary": [
           {
            "marker": {
             "colorbar": {
              "outlinewidth": 0,
              "ticks": ""
             }
            },
            "type": "scatterternary"
           }
          ],
          "surface": [
           {
            "colorbar": {
             "outlinewidth": 0,
             "ticks": ""
            },
            "colorscale": [
             [
              0,
              "#0d0887"
             ],
             [
              0.1111111111111111,
              "#46039f"
             ],
             [
              0.2222222222222222,
              "#7201a8"
             ],
             [
              0.3333333333333333,
              "#9c179e"
             ],
             [
              0.4444444444444444,
              "#bd3786"
             ],
             [
              0.5555555555555556,
              "#d8576b"
             ],
             [
              0.6666666666666666,
              "#ed7953"
             ],
             [
              0.7777777777777778,
              "#fb9f3a"
             ],
             [
              0.8888888888888888,
              "#fdca26"
             ],
             [
              1,
              "#f0f921"
             ]
            ],
            "type": "surface"
           }
          ],
          "table": [
           {
            "cells": {
             "fill": {
              "color": "#EBF0F8"
             },
             "line": {
              "color": "white"
             }
            },
            "header": {
             "fill": {
              "color": "#C8D4E3"
             },
             "line": {
              "color": "white"
             }
            },
            "type": "table"
           }
          ]
         },
         "layout": {
          "annotationdefaults": {
           "arrowcolor": "#2a3f5f",
           "arrowhead": 0,
           "arrowwidth": 1
          },
          "autotypenumbers": "strict",
          "coloraxis": {
           "colorbar": {
            "outlinewidth": 0,
            "ticks": ""
           }
          },
          "colorscale": {
           "diverging": [
            [
             0,
             "#8e0152"
            ],
            [
             0.1,
             "#c51b7d"
            ],
            [
             0.2,
             "#de77ae"
            ],
            [
             0.3,
             "#f1b6da"
            ],
            [
             0.4,
             "#fde0ef"
            ],
            [
             0.5,
             "#f7f7f7"
            ],
            [
             0.6,
             "#e6f5d0"
            ],
            [
             0.7,
             "#b8e186"
            ],
            [
             0.8,
             "#7fbc41"
            ],
            [
             0.9,
             "#4d9221"
            ],
            [
             1,
             "#276419"
            ]
           ],
           "sequential": [
            [
             0,
             "#0d0887"
            ],
            [
             0.1111111111111111,
             "#46039f"
            ],
            [
             0.2222222222222222,
             "#7201a8"
            ],
            [
             0.3333333333333333,
             "#9c179e"
            ],
            [
             0.4444444444444444,
             "#bd3786"
            ],
            [
             0.5555555555555556,
             "#d8576b"
            ],
            [
             0.6666666666666666,
             "#ed7953"
            ],
            [
             0.7777777777777778,
             "#fb9f3a"
            ],
            [
             0.8888888888888888,
             "#fdca26"
            ],
            [
             1,
             "#f0f921"
            ]
           ],
           "sequentialminus": [
            [
             0,
             "#0d0887"
            ],
            [
             0.1111111111111111,
             "#46039f"
            ],
            [
             0.2222222222222222,
             "#7201a8"
            ],
            [
             0.3333333333333333,
             "#9c179e"
            ],
            [
             0.4444444444444444,
             "#bd3786"
            ],
            [
             0.5555555555555556,
             "#d8576b"
            ],
            [
             0.6666666666666666,
             "#ed7953"
            ],
            [
             0.7777777777777778,
             "#fb9f3a"
            ],
            [
             0.8888888888888888,
             "#fdca26"
            ],
            [
             1,
             "#f0f921"
            ]
           ]
          },
          "colorway": [
           "#636efa",
           "#EF553B",
           "#00cc96",
           "#ab63fa",
           "#FFA15A",
           "#19d3f3",
           "#FF6692",
           "#B6E880",
           "#FF97FF",
           "#FECB52"
          ],
          "font": {
           "color": "#2a3f5f"
          },
          "geo": {
           "bgcolor": "white",
           "lakecolor": "white",
           "landcolor": "#E5ECF6",
           "showlakes": true,
           "showland": true,
           "subunitcolor": "white"
          },
          "hoverlabel": {
           "align": "left"
          },
          "hovermode": "closest",
          "mapbox": {
           "style": "light"
          },
          "paper_bgcolor": "white",
          "plot_bgcolor": "#E5ECF6",
          "polar": {
           "angularaxis": {
            "gridcolor": "white",
            "linecolor": "white",
            "ticks": ""
           },
           "bgcolor": "#E5ECF6",
           "radialaxis": {
            "gridcolor": "white",
            "linecolor": "white",
            "ticks": ""
           }
          },
          "scene": {
           "xaxis": {
            "backgroundcolor": "#E5ECF6",
            "gridcolor": "white",
            "gridwidth": 2,
            "linecolor": "white",
            "showbackground": true,
            "ticks": "",
            "zerolinecolor": "white"
           },
           "yaxis": {
            "backgroundcolor": "#E5ECF6",
            "gridcolor": "white",
            "gridwidth": 2,
            "linecolor": "white",
            "showbackground": true,
            "ticks": "",
            "zerolinecolor": "white"
           },
           "zaxis": {
            "backgroundcolor": "#E5ECF6",
            "gridcolor": "white",
            "gridwidth": 2,
            "linecolor": "white",
            "showbackground": true,
            "ticks": "",
            "zerolinecolor": "white"
           }
          },
          "shapedefaults": {
           "line": {
            "color": "#2a3f5f"
           }
          },
          "ternary": {
           "aaxis": {
            "gridcolor": "white",
            "linecolor": "white",
            "ticks": ""
           },
           "baxis": {
            "gridcolor": "white",
            "linecolor": "white",
            "ticks": ""
           },
           "bgcolor": "#E5ECF6",
           "caxis": {
            "gridcolor": "white",
            "linecolor": "white",
            "ticks": ""
           }
          },
          "title": {
           "x": 0.05
          },
          "xaxis": {
           "automargin": true,
           "gridcolor": "white",
           "linecolor": "white",
           "ticks": "",
           "title": {
            "standoff": 15
           },
           "zerolinecolor": "white",
           "zerolinewidth": 2
          },
          "yaxis": {
           "automargin": true,
           "gridcolor": "white",
           "linecolor": "white",
           "ticks": "",
           "title": {
            "standoff": 15
           },
           "zerolinecolor": "white",
           "zerolinewidth": 2
          }
         }
        },
        "width": 600
       }
      }
     },
     "metadata": {},
     "output_type": "display_data"
    }
   ],
   "source": [
    "# Persistance diagram\n",
    "fig = oat.plot.pd(homology_file)\n",
    "fig.update_layout(\n",
    "        width=600, \n",
    "        height=500,\n",
    "        margin=dict(l=20, r=20, t=20, b=20)\n",
    "    )\n",
    "fig.show()"
   ]
  },
  {
   "cell_type": "code",
   "execution_count": 20,
   "metadata": {},
   "outputs": [
    {
     "name": "stdout",
     "output_type": "stream",
     "text": [
      "\n",
      "Finished construcing L1 optimization program.\n",
      "Constraint matrix has 9546 nonzero entries.\n",
      "Passing program to solver.\n",
      "Optimizaiton took 0 days 00:00:00.673720\n",
      "\n",
      "Done solving.\n",
      "MINILP solution: Solution { direction: Minimize, num_vars: 4029, num_constraints: 4384, objective: 30.28212752065371 }\n"
     ]
    },
    {
     "data": {
      "application/vnd.plotly.v1+json": {
       "config": {
        "plotlyServerURL": "https://plot.ly"
       },
       "data": [
        {
         "mode": "markers",
         "name": "Data",
         "opacity": 0.5,
         "showlegend": true,
         "type": "scatter",
         "x": [
          3.27,
          -0.52,
          3.13,
          3.96,
          -3.69,
          -0.06,
          4.3,
          -3.54,
          3.19,
          1.86,
          5.33,
          4.53,
          -4.93,
          -3.69,
          -1.42,
          3.58,
          -2.22,
          -3.75,
          1.52,
          2.11,
          -0.26,
          1.24,
          1.78,
          -3.11,
          3.79,
          -4.09,
          4.54,
          5.13,
          3.5,
          4.48,
          -2.99,
          -3.71,
          -4.13,
          -5.82,
          -6.06,
          4.23,
          6.37,
          3.45,
          -4.68,
          3.37,
          3.56,
          -1.83,
          -5.62,
          -2.81,
          -3.97,
          2.18,
          3.27,
          6.15,
          -4.08,
          3.42,
          -2.19,
          5.05,
          2.7,
          -2.98,
          3.1,
          4.49,
          4.25,
          3.73,
          5.75,
          0.76,
          -4.45,
          3.79,
          0.96,
          -4.67,
          3.51,
          -3.86,
          -1.16,
          -3.14,
          -4.17,
          5.61,
          -2.92,
          -1.49,
          -4.29,
          -4.37,
          3.38,
          2.16,
          -4.2,
          1.88,
          1.66,
          -1.05,
          -1.08,
          2.41,
          5.26,
          -1.69,
          3.9,
          2.25,
          -1.01,
          2.97,
          -5.33,
          3.97,
          -4.28,
          1.41,
          1.71,
          -4.12,
          -4.98,
          -4.6,
          -1.48,
          -3.54,
          -2.02,
          4.47,
          4.42,
          -1.72,
          -5.67,
          -3.21,
          -4.3,
          -3.35,
          -0.95,
          -5.25,
          -3.2,
          -2.26,
          -2.07,
          1.02,
          0.83,
          -0.72,
          3.06,
          1.98,
          -3.72,
          -1.5,
          3.87,
          -2.92,
          -2.9,
          4.17,
          5.68,
          -2.07,
          0.51,
          3.95,
          3.38,
          3.02,
          -4.02,
          4.66,
          6.64,
          6.11,
          2.09,
          3.15,
          -1.58,
          -6,
          -2.56,
          -5.56,
          -3.71,
          1.71,
          3.39,
          2.12,
          1.83,
          5.04,
          -4.26,
          -4.32,
          4.78,
          3.19,
          1.68,
          -4.99,
          3.09,
          4.23,
          3.77,
          2.43,
          -1.52,
          -5.78,
          5.84,
          4.1,
          5.96,
          4.01,
          6.21,
          5.21,
          6.5,
          3.96,
          4.89,
          6.38,
          6.53,
          5.72,
          5.86,
          4.46,
          6.32,
          3.65,
          6.15,
          4.59,
          4.46,
          6.12,
          4.83,
          6.16,
          6.03,
          5.84,
          6.17,
          4.38,
          3.88,
          3.74,
          5.05,
          4.45,
          5.72,
          3.76,
          6.62,
          6.39,
          6,
          3.89,
          6.43,
          4.56,
          3.81,
          6.15,
          6.41,
          4.95,
          4.42,
          3.8,
          6.29,
          4,
          5.03,
          4.19,
          6.35,
          5.53,
          4.53,
          -4.22,
          -3.7,
          -6.55,
          -6.31,
          -5.86,
          -3.92,
          -4.67,
          -6.05,
          -5.01,
          -5.86,
          -6.06,
          -4.98,
          -3.93,
          -3.8,
          -3.58,
          -3.68,
          -4.23,
          -3.71,
          -6.14,
          -4.29,
          -6.34,
          -4.93,
          -6.02,
          -4.86,
          -5.69,
          -6.16,
          -6.31,
          -4.23,
          -5.95,
          -3.56,
          -4.88,
          -5.6,
          -5.6,
          -3.53,
          -6.08,
          -4.02,
          -6.21,
          -5.31,
          -3.87,
          -4.53,
          -4.47,
          -5.67,
          -3.78,
          -5.47,
          -6.31,
          -5.94,
          -6.56,
          -5.8,
          -4.73,
          -6.22,
          0.59,
          -1.43,
          1.27,
          -1.27,
          -0.37,
          1.02,
          -1.29,
          0.09,
          0.94,
          -1.32,
          0.38,
          -1.66,
          -1.23,
          -1.38,
          0.56,
          1.26,
          -1.11,
          1.27,
          -0.69,
          0.44,
          0.78,
          1.57,
          0.89,
          0.37,
          0.35,
          1.47,
          -0.85,
          0.53,
          -0.23,
          0.27,
          -0.33,
          -0.99,
          0.13,
          1.18,
          -1.21,
          1.47,
          -0.49,
          0.73,
          -0.31,
          -1.14,
          -0.11,
          -0.1,
          1.14,
          1.6,
          1.63,
          -0.93,
          -1.11,
          1.06,
          1.35,
          -0.29,
          -0.66,
          -1.13,
          -1.64,
          1.45,
          0.9,
          0.43,
          -1.38,
          -0.32,
          -0.19,
          0.78,
          -1.37,
          -1.13,
          0.77,
          -1.36,
          -1.01,
          0.5,
          0.58,
          -1.11,
          -1.37,
          1.29,
          -1.08,
          -1.36,
          1.13,
          -0.05,
          -0.63,
          0.87,
          0.67,
          0.15,
          -0.82,
          -1.24,
          1.02,
          -1.41,
          -0.3,
          -0.43,
          1.45,
          -0.92,
          1.41,
          1.02,
          -1.08,
          -1.08,
          -1.11,
          -0.13,
          0.18,
          -0.29,
          1.09,
          0.64,
          0.09,
          -0.9,
          0.63,
          -0.86
         ],
         "y": [
          -1.73,
          3.89,
          3.72,
          -0.8,
          -3.41,
          4.09,
          -4.21,
          4.17,
          -2.16,
          -3.36,
          1.28,
          3.04,
          -3.19,
          3.08,
          -4.4,
          3.68,
          -4.4,
          1.76,
          3.96,
          4.1,
          -3.84,
          -5.4,
          -4.05,
          3.59,
          0.78,
          2.89,
          3.73,
          2.54,
          1.55,
          -3.74,
          2.25,
          -0.39,
          -1.53,
          -1.46,
          1.34,
          0.92,
          -0.95,
          4.3,
          1.95,
          -3.78,
          -1.72,
          -4.2,
          1.18,
          2.63,
          3.25,
          -3.03,
          -2.29,
          -1.21,
          0.67,
          -0.87,
          4.68,
          -1.77,
          -5.17,
          3.58,
          4.83,
          -1.07,
          -3.56,
          2.59,
          1.06,
          3.95,
          1.47,
          0.65,
          4.15,
          0.91,
          2.3,
          -2.01,
          5.63,
          3.47,
          -1.9,
          -1.99,
          2.94,
          4.36,
          2.92,
          3.21,
          3.57,
          3.71,
          -0.63,
          4.95,
          -5.49,
          4.63,
          4.97,
          -4.61,
          -1.12,
          -3.99,
          1.11,
          -4.49,
          -4.92,
          -3.67,
          2.07,
          -2.83,
          -2.94,
          3.86,
          4.12,
          -3.86,
          2.91,
          -2.02,
          3.08,
          3.82,
          3.44,
          -1.54,
          2.24,
          -3.9,
          2.71,
          2.47,
          1.11,
          -3.2,
          5.05,
          0.95,
          -3.33,
          5.71,
          -4.73,
          -5.77,
          -3.87,
          -3.93,
          -2.28,
          5.82,
          -3.63,
          3.25,
          -3.94,
          -3.21,
          -4.23,
          3.39,
          -1.19,
          3.74,
          4.17,
          2.3,
          5.38,
          -3.74,
          -0.93,
          -2.71,
          0.07,
          -1.76,
          4.88,
          3.07,
          3.5,
          1.09,
          3.77,
          -2.26,
          1.92,
          -3.57,
          -2.1,
          -3.85,
          -4.22,
          1.22,
          1.72,
          3.42,
          -2.08,
          -3.66,
          -5.59,
          2.13,
          5.6,
          1.24,
          3.07,
          4.47,
          -5.1,
          0.78,
          1.63,
          1.16,
          0.99,
          -1.09,
          0.16,
          -1.32,
          -0.69,
          -1.01,
          1.42,
          -0.37,
          0.27,
          -0.77,
          0.92,
          -1.23,
          0.63,
          0.27,
          0.17,
          -1.2,
          -1.3,
          0.87,
          1.53,
          -0.77,
          0.86,
          1.24,
          -0.88,
          -1.41,
          -0.64,
          -0.04,
          -1.34,
          -1.28,
          -0.84,
          -0.05,
          0.32,
          -0.75,
          0.82,
          0.76,
          0.03,
          1.19,
          -0.88,
          1.04,
          -0.39,
          1.32,
          1.26,
          -0.74,
          0.51,
          -1.32,
          1.46,
          -1.18,
          0.8,
          1.46,
          1.16,
          1.1,
          0.57,
          -0.14,
          0.59,
          0.9,
          0.97,
          1.45,
          -1.39,
          1.29,
          -1.3,
          0.83,
          -1.32,
          -0.78,
          1.1,
          0,
          0.35,
          1.02,
          -0.65,
          -0.38,
          1.44,
          -0.09,
          -1.37,
          -0.92,
          -1.52,
          1.54,
          -0.84,
          -0.07,
          -1.18,
          1.13,
          0.5,
          -1.25,
          1.56,
          -1.44,
          -0.24,
          -0.77,
          0.97,
          -0.46,
          -1.33,
          0.89,
          1.41,
          -1.41,
          1.16,
          -0.33,
          1.62,
          -0.29,
          -1.15,
          -0.55,
          -1.24,
          -1.2,
          -0.25,
          3.8,
          4.8,
          5.37,
          4.83,
          6.53,
          4.17,
          5.2,
          6.51,
          3.86,
          4.47,
          6.36,
          4.84,
          5.81,
          5.29,
          6.31,
          5.62,
          5.59,
          5.6,
          6.07,
          6.05,
          6.55,
          4.75,
          3.86,
          6.23,
          3.54,
          4.97,
          5.58,
          3.47,
          3.64,
          3.65,
          6.25,
          4.29,
          3.52,
          5.88,
          4.85,
          4.72,
          3.88,
          3.99,
          3.35,
          5.29,
          6.46,
          6.52,
          6.01,
          4.69,
          5.37,
          5.86,
          3.73,
          6.17,
          5.03,
          3.65,
          -3.85,
          -5.88,
          -5.38,
          -4.45,
          -6.08,
          -3.72,
          -5.69,
          -3.71,
          -6.18,
          -6,
          -5.83,
          -5.81,
          -6.55,
          -5.02,
          -5.76,
          -3.52,
          -6.2,
          -6.08,
          -5.25,
          -5.63,
          -5.78,
          -4.69,
          -4.25,
          -6.09,
          -6.13,
          -6.14,
          -4.05,
          -6.19,
          -5.79,
          -4.74,
          -4.04,
          -5.85,
          -6.75,
          -3.65,
          -4.12,
          -3.79,
          -4.99,
          -6.1,
          -6.2,
          -4.3,
          -5.58,
          -6.37,
          -3.71,
          -6.32,
          -4.38,
          -3.27,
          -3.67,
          -4.14,
          -3.77,
          -5.94
         ]
        },
        {
         "legendgroup": "opti",
         "line": {
          "color": "black"
         },
         "mode": "lines",
         "name": "Optimal Cycle",
         "opacity": 0.5,
         "showlegend": true,
         "type": "scatter",
         "x": [
          -4.28,
          -4.4399999999999995,
          -4.6
         ],
         "y": [
          -2.94,
          -2.48,
          -2.02
         ]
        },
        {
         "legendgroup": "opti",
         "line": {
          "color": "black"
         },
         "mode": "lines",
         "name": "Optimal Cycle",
         "opacity": 0.5,
         "showlegend": false,
         "type": "scatter",
         "x": [
          3.13,
          2.645,
          2.16
         ],
         "y": [
          3.72,
          3.715,
          3.71
         ]
        },
        {
         "legendgroup": "opti",
         "line": {
          "color": "black"
         },
         "mode": "lines",
         "name": "Optimal Cycle",
         "opacity": 0.5,
         "showlegend": false,
         "type": "scatter",
         "x": [
          -4.28,
          -3.8150000000000004,
          -3.35
         ],
         "y": [
          -2.94,
          -3.0700000000000003,
          -3.2
         ]
        },
        {
         "legendgroup": "opti",
         "line": {
          "color": "black"
         },
         "mode": "lines",
         "name": "Optimal Cycle",
         "opacity": 0.5,
         "showlegend": false,
         "type": "scatter",
         "x": [
          -4.23,
          -4.005,
          -3.78
         ],
         "y": [
          -1.18,
          -0.755,
          -0.33
         ]
        },
        {
         "legendgroup": "opti",
         "line": {
          "color": "black"
         },
         "mode": "lines",
         "name": "Optimal Cycle",
         "opacity": 0.5,
         "showlegend": false,
         "type": "scatter",
         "x": [
          -2.07,
          -1.5899999999999999,
          -1.11
         ],
         "y": [
          3.74,
          3.7350000000000003,
          3.73
         ]
        },
        {
         "legendgroup": "opti",
         "line": {
          "color": "black"
         },
         "mode": "lines",
         "name": "Optimal Cycle",
         "opacity": 0.5,
         "showlegend": false,
         "type": "scatter",
         "x": [
          -0.26,
          0.20500000000000002,
          0.67
         ],
         "y": [
          -3.84,
          -3.945,
          -4.05
         ]
        },
        {
         "legendgroup": "opti",
         "line": {
          "color": "black"
         },
         "mode": "lines",
         "name": "Optimal Cycle",
         "opacity": 0.5,
         "showlegend": false,
         "type": "scatter",
         "x": [
          -3.2,
          -3.05,
          -2.9
         ],
         "y": [
          -3.33,
          -3.7800000000000002,
          -4.23
         ]
        },
        {
         "legendgroup": "opti",
         "line": {
          "color": "black"
         },
         "mode": "lines",
         "name": "Optimal Cycle",
         "opacity": 0.5,
         "showlegend": false,
         "type": "scatter",
         "x": [
          3.5,
          3.645,
          3.79
         ],
         "y": [
          1.55,
          1.1,
          0.65
         ]
        },
        {
         "legendgroup": "opti",
         "line": {
          "color": "black"
         },
         "mode": "lines",
         "name": "Optimal Cycle",
         "opacity": 0.5,
         "showlegend": false,
         "type": "scatter",
         "x": [
          3.97,
          3.68,
          3.39
         ],
         "y": [
          -2.83,
          -2.465,
          -2.1
         ]
        },
        {
         "legendgroup": "opti",
         "line": {
          "color": "black"
         },
         "mode": "lines",
         "name": "Optimal Cycle",
         "opacity": 0.5,
         "showlegend": false,
         "type": "scatter",
         "x": [
          -1.83,
          -1.365,
          -0.9
         ],
         "y": [
          -4.2,
          -4.17,
          -4.14
         ]
        },
        {
         "legendgroup": "opti",
         "line": {
          "color": "black"
         },
         "mode": "lines",
         "name": "Optimal Cycle",
         "opacity": 0.5,
         "showlegend": false,
         "type": "scatter",
         "x": [
          -4.6,
          -4.415,
          -4.23
         ],
         "y": [
          -2.02,
          -1.6,
          -1.18
         ]
        },
        {
         "legendgroup": "opti",
         "line": {
          "color": "black"
         },
         "mode": "lines",
         "name": "Optimal Cycle",
         "opacity": 0.5,
         "showlegend": false,
         "type": "scatter",
         "x": [
          3.37,
          3.81,
          4.25
         ],
         "y": [
          -3.78,
          -3.67,
          -3.56
         ]
        },
        {
         "legendgroup": "opti",
         "line": {
          "color": "black"
         },
         "mode": "lines",
         "name": "Optimal Cycle",
         "opacity": 0.5,
         "showlegend": false,
         "type": "scatter",
         "x": [
          3.02,
          2.5700000000000003,
          2.12
         ],
         "y": [
          -3.74,
          -3.795,
          -3.85
         ]
        },
        {
         "legendgroup": "opti",
         "line": {
          "color": "black"
         },
         "mode": "lines",
         "name": "Optimal Cycle",
         "opacity": 0.5,
         "showlegend": false,
         "type": "scatter",
         "x": [
          -2.92,
          -2.74,
          -2.56
         ],
         "y": [
          2.94,
          3.355,
          3.77
         ]
        },
        {
         "legendgroup": "opti",
         "line": {
          "color": "black"
         },
         "mode": "lines",
         "name": "Optimal Cycle",
         "opacity": 0.5,
         "showlegend": false,
         "type": "scatter",
         "x": [
          -3.7,
          -3.74,
          -3.78
         ],
         "y": [
          0.57,
          0.11999999999999997,
          -0.33
         ]
        },
        {
         "legendgroup": "opti",
         "line": {
          "color": "black"
         },
         "mode": "lines",
         "name": "Optimal Cycle",
         "opacity": 0.5,
         "showlegend": false,
         "type": "scatter",
         "x": [
          0.59,
          0.15,
          -0.29
         ],
         "y": [
          3.8,
          3.7249999999999996,
          3.65
         ]
        },
        {
         "legendgroup": "opti",
         "line": {
          "color": "black"
         },
         "mode": "lines",
         "name": "Optimal Cycle",
         "opacity": 0.5,
         "showlegend": false,
         "type": "scatter",
         "x": [
          -3.75,
          -3.48,
          -3.21
         ],
         "y": [
          1.76,
          2.115,
          2.47
         ]
        },
        {
         "legendgroup": "opti",
         "line": {
          "color": "black"
         },
         "mode": "lines",
         "name": "Optimal Cycle",
         "opacity": 0.5,
         "showlegend": false,
         "type": "scatter",
         "x": [
          3.56,
          3.685,
          3.81
         ],
         "y": [
          -1.72,
          -1.3,
          -0.88
         ]
        },
        {
         "legendgroup": "opti",
         "line": {
          "color": "black"
         },
         "mode": "lines",
         "name": "Optimal Cycle",
         "opacity": 0.5,
         "showlegend": false,
         "type": "scatter",
         "x": [
          3.51,
          3.33,
          3.15
         ],
         "y": [
          2.3,
          2.6849999999999996,
          3.07
         ]
        },
        {
         "legendgroup": "opti",
         "line": {
          "color": "black"
         },
         "mode": "lines",
         "name": "Optimal Cycle",
         "opacity": 0.5,
         "showlegend": false,
         "type": "scatter",
         "x": [
          3.76,
          3.785,
          3.81
         ],
         "y": [
          -0.05,
          -0.465,
          -0.88
         ]
        },
        {
         "legendgroup": "opti",
         "line": {
          "color": "black"
         },
         "mode": "lines",
         "name": "Optimal Cycle",
         "opacity": 0.5,
         "showlegend": false,
         "type": "scatter",
         "x": [
          -1.11,
          -0.7000000000000001,
          -0.29
         ],
         "y": [
          3.73,
          3.69,
          3.65
         ]
        },
        {
         "legendgroup": "opti",
         "line": {
          "color": "black"
         },
         "mode": "lines",
         "name": "Optimal Cycle",
         "opacity": 0.5,
         "showlegend": false,
         "type": "scatter",
         "x": [
          1.41,
          1,
          0.59
         ],
         "y": [
          3.86,
          3.83,
          3.8
         ]
        },
        {
         "legendgroup": "opti",
         "line": {
          "color": "black"
         },
         "mode": "lines",
         "name": "Optimal Cycle",
         "opacity": 0.5,
         "showlegend": false,
         "type": "scatter",
         "x": [
          4.25,
          4.11,
          3.97
         ],
         "y": [
          -3.56,
          -3.1950000000000003,
          -2.83
         ]
        },
        {
         "legendgroup": "opti",
         "line": {
          "color": "black"
         },
         "mode": "lines",
         "name": "Optimal Cycle",
         "opacity": 0.5,
         "showlegend": false,
         "type": "scatter",
         "x": [
          2.16,
          1.7850000000000001,
          1.41
         ],
         "y": [
          3.71,
          3.785,
          3.86
         ]
        },
        {
         "legendgroup": "opti",
         "line": {
          "color": "black"
         },
         "mode": "lines",
         "name": "Optimal Cycle",
         "opacity": 0.5,
         "showlegend": false,
         "type": "scatter",
         "x": [
          1.78,
          1.4,
          1.02
         ],
         "y": [
          -4.05,
          -4.045,
          -4.04
         ]
        },
        {
         "legendgroup": "opti",
         "line": {
          "color": "black"
         },
         "mode": "lines",
         "name": "Optimal Cycle",
         "opacity": 0.5,
         "showlegend": false,
         "type": "scatter",
         "x": [
          3.5,
          3.505,
          3.51
         ],
         "y": [
          1.55,
          1.9249999999999998,
          2.3
         ]
        },
        {
         "legendgroup": "opti",
         "line": {
          "color": "black"
         },
         "mode": "lines",
         "name": "Optimal Cycle",
         "opacity": 0.5,
         "showlegend": false,
         "type": "scatter",
         "x": [
          -0.26,
          -0.5800000000000001,
          -0.9
         ],
         "y": [
          -3.84,
          -3.9899999999999998,
          -4.14
         ]
        },
        {
         "legendgroup": "opti",
         "line": {
          "color": "black"
         },
         "mode": "lines",
         "name": "Optimal Cycle",
         "opacity": 0.5,
         "showlegend": false,
         "type": "scatter",
         "x": [
          -2.22,
          -2.56,
          -2.9
         ],
         "y": [
          -4.4,
          -4.315,
          -4.23
         ]
        },
        {
         "legendgroup": "opti",
         "line": {
          "color": "black"
         },
         "mode": "lines",
         "name": "Optimal Cycle",
         "opacity": 0.5,
         "showlegend": false,
         "type": "scatter",
         "x": [
          3.79,
          3.775,
          3.76
         ],
         "y": [
          0.65,
          0.3,
          -0.05
         ]
        },
        {
         "legendgroup": "opti",
         "line": {
          "color": "black"
         },
         "mode": "lines",
         "name": "Optimal Cycle",
         "opacity": 0.5,
         "showlegend": false,
         "type": "scatter",
         "x": [
          -3.75,
          -3.775,
          -3.8
         ],
         "y": [
          1.76,
          1.4300000000000002,
          1.1
         ]
        },
        {
         "legendgroup": "opti",
         "line": {
          "color": "black"
         },
         "mode": "lines",
         "name": "Optimal Cycle",
         "opacity": 0.5,
         "showlegend": false,
         "type": "scatter",
         "x": [
          3.13,
          3.1399999999999997,
          3.15
         ],
         "y": [
          3.72,
          3.395,
          3.07
         ]
        },
        {
         "legendgroup": "opti",
         "line": {
          "color": "black"
         },
         "mode": "lines",
         "name": "Optimal Cycle",
         "opacity": 0.5,
         "showlegend": false,
         "type": "scatter",
         "x": [
          -2.92,
          -3.065,
          -3.21
         ],
         "y": [
          2.94,
          2.705,
          2.47
         ]
        },
        {
         "legendgroup": "opti",
         "line": {
          "color": "black"
         },
         "mode": "lines",
         "name": "Optimal Cycle",
         "opacity": 0.5,
         "showlegend": false,
         "type": "scatter",
         "x": [
          -3.7,
          -3.75,
          -3.8
         ],
         "y": [
          0.57,
          0.835,
          1.1
         ]
        },
        {
         "legendgroup": "opti",
         "line": {
          "color": "black"
         },
         "mode": "lines",
         "name": "Optimal Cycle",
         "opacity": 0.5,
         "showlegend": false,
         "type": "scatter",
         "x": [
          -2.07,
          -2.315,
          -2.56
         ],
         "y": [
          3.74,
          3.755,
          3.77
         ]
        },
        {
         "legendgroup": "opti",
         "line": {
          "color": "black"
         },
         "mode": "lines",
         "name": "Optimal Cycle",
         "opacity": 0.5,
         "showlegend": false,
         "type": "scatter",
         "x": [
          -2.22,
          -2.0250000000000004,
          -1.83
         ],
         "y": [
          -4.4,
          -4.300000000000001,
          -4.2
         ]
        },
        {
         "legendgroup": "opti",
         "line": {
          "color": "black"
         },
         "mode": "lines",
         "name": "Optimal Cycle",
         "opacity": 0.5,
         "showlegend": false,
         "type": "scatter",
         "x": [
          3.56,
          3.475,
          3.39
         ],
         "y": [
          -1.72,
          -1.9100000000000001,
          -2.1
         ]
        },
        {
         "legendgroup": "opti",
         "line": {
          "color": "black"
         },
         "mode": "lines",
         "name": "Optimal Cycle",
         "opacity": 0.5,
         "showlegend": false,
         "type": "scatter",
         "x": [
          1.78,
          1.9500000000000002,
          2.12
         ],
         "y": [
          -4.05,
          -3.95,
          -3.85
         ]
        },
        {
         "legendgroup": "opti",
         "line": {
          "color": "black"
         },
         "mode": "lines",
         "name": "Optimal Cycle",
         "opacity": 0.5,
         "showlegend": false,
         "type": "scatter",
         "x": [
          3.37,
          3.1950000000000003,
          3.02
         ],
         "y": [
          -3.78,
          -3.76,
          -3.74
         ]
        },
        {
         "legendgroup": "opti",
         "line": {
          "color": "black"
         },
         "mode": "lines",
         "name": "Optimal Cycle",
         "opacity": 0.5,
         "showlegend": false,
         "type": "scatter",
         "x": [
          0.67,
          0.845,
          1.02
         ],
         "y": [
          -4.05,
          -4.045,
          -4.04
         ]
        },
        {
         "legendgroup": "opti",
         "line": {
          "color": "black"
         },
         "mode": "lines",
         "name": "Optimal Cycle",
         "opacity": 0.5,
         "showlegend": false,
         "type": "scatter",
         "x": [
          -3.35,
          -3.2750000000000004,
          -3.2
         ],
         "y": [
          -3.2,
          -3.265,
          -3.33
         ]
        }
       ],
       "layout": {
        "height": 500,
        "margin": {
         "b": 20,
         "l": 20,
         "r": 20,
         "t": 20
        },
        "template": {
         "data": {
          "bar": [
           {
            "error_x": {
             "color": "#2a3f5f"
            },
            "error_y": {
             "color": "#2a3f5f"
            },
            "marker": {
             "line": {
              "color": "#E5ECF6",
              "width": 0.5
             },
             "pattern": {
              "fillmode": "overlay",
              "size": 10,
              "solidity": 0.2
             }
            },
            "type": "bar"
           }
          ],
          "barpolar": [
           {
            "marker": {
             "line": {
              "color": "#E5ECF6",
              "width": 0.5
             },
             "pattern": {
              "fillmode": "overlay",
              "size": 10,
              "solidity": 0.2
             }
            },
            "type": "barpolar"
           }
          ],
          "carpet": [
           {
            "aaxis": {
             "endlinecolor": "#2a3f5f",
             "gridcolor": "white",
             "linecolor": "white",
             "minorgridcolor": "white",
             "startlinecolor": "#2a3f5f"
            },
            "baxis": {
             "endlinecolor": "#2a3f5f",
             "gridcolor": "white",
             "linecolor": "white",
             "minorgridcolor": "white",
             "startlinecolor": "#2a3f5f"
            },
            "type": "carpet"
           }
          ],
          "choropleth": [
           {
            "colorbar": {
             "outlinewidth": 0,
             "ticks": ""
            },
            "type": "choropleth"
           }
          ],
          "contour": [
           {
            "colorbar": {
             "outlinewidth": 0,
             "ticks": ""
            },
            "colorscale": [
             [
              0,
              "#0d0887"
             ],
             [
              0.1111111111111111,
              "#46039f"
             ],
             [
              0.2222222222222222,
              "#7201a8"
             ],
             [
              0.3333333333333333,
              "#9c179e"
             ],
             [
              0.4444444444444444,
              "#bd3786"
             ],
             [
              0.5555555555555556,
              "#d8576b"
             ],
             [
              0.6666666666666666,
              "#ed7953"
             ],
             [
              0.7777777777777778,
              "#fb9f3a"
             ],
             [
              0.8888888888888888,
              "#fdca26"
             ],
             [
              1,
              "#f0f921"
             ]
            ],
            "type": "contour"
           }
          ],
          "contourcarpet": [
           {
            "colorbar": {
             "outlinewidth": 0,
             "ticks": ""
            },
            "type": "contourcarpet"
           }
          ],
          "heatmap": [
           {
            "colorbar": {
             "outlinewidth": 0,
             "ticks": ""
            },
            "colorscale": [
             [
              0,
              "#0d0887"
             ],
             [
              0.1111111111111111,
              "#46039f"
             ],
             [
              0.2222222222222222,
              "#7201a8"
             ],
             [
              0.3333333333333333,
              "#9c179e"
             ],
             [
              0.4444444444444444,
              "#bd3786"
             ],
             [
              0.5555555555555556,
              "#d8576b"
             ],
             [
              0.6666666666666666,
              "#ed7953"
             ],
             [
              0.7777777777777778,
              "#fb9f3a"
             ],
             [
              0.8888888888888888,
              "#fdca26"
             ],
             [
              1,
              "#f0f921"
             ]
            ],
            "type": "heatmap"
           }
          ],
          "heatmapgl": [
           {
            "colorbar": {
             "outlinewidth": 0,
             "ticks": ""
            },
            "colorscale": [
             [
              0,
              "#0d0887"
             ],
             [
              0.1111111111111111,
              "#46039f"
             ],
             [
              0.2222222222222222,
              "#7201a8"
             ],
             [
              0.3333333333333333,
              "#9c179e"
             ],
             [
              0.4444444444444444,
              "#bd3786"
             ],
             [
              0.5555555555555556,
              "#d8576b"
             ],
             [
              0.6666666666666666,
              "#ed7953"
             ],
             [
              0.7777777777777778,
              "#fb9f3a"
             ],
             [
              0.8888888888888888,
              "#fdca26"
             ],
             [
              1,
              "#f0f921"
             ]
            ],
            "type": "heatmapgl"
           }
          ],
          "histogram": [
           {
            "marker": {
             "pattern": {
              "fillmode": "overlay",
              "size": 10,
              "solidity": 0.2
             }
            },
            "type": "histogram"
           }
          ],
          "histogram2d": [
           {
            "colorbar": {
             "outlinewidth": 0,
             "ticks": ""
            },
            "colorscale": [
             [
              0,
              "#0d0887"
             ],
             [
              0.1111111111111111,
              "#46039f"
             ],
             [
              0.2222222222222222,
              "#7201a8"
             ],
             [
              0.3333333333333333,
              "#9c179e"
             ],
             [
              0.4444444444444444,
              "#bd3786"
             ],
             [
              0.5555555555555556,
              "#d8576b"
             ],
             [
              0.6666666666666666,
              "#ed7953"
             ],
             [
              0.7777777777777778,
              "#fb9f3a"
             ],
             [
              0.8888888888888888,
              "#fdca26"
             ],
             [
              1,
              "#f0f921"
             ]
            ],
            "type": "histogram2d"
           }
          ],
          "histogram2dcontour": [
           {
            "colorbar": {
             "outlinewidth": 0,
             "ticks": ""
            },
            "colorscale": [
             [
              0,
              "#0d0887"
             ],
             [
              0.1111111111111111,
              "#46039f"
             ],
             [
              0.2222222222222222,
              "#7201a8"
             ],
             [
              0.3333333333333333,
              "#9c179e"
             ],
             [
              0.4444444444444444,
              "#bd3786"
             ],
             [
              0.5555555555555556,
              "#d8576b"
             ],
             [
              0.6666666666666666,
              "#ed7953"
             ],
             [
              0.7777777777777778,
              "#fb9f3a"
             ],
             [
              0.8888888888888888,
              "#fdca26"
             ],
             [
              1,
              "#f0f921"
             ]
            ],
            "type": "histogram2dcontour"
           }
          ],
          "mesh3d": [
           {
            "colorbar": {
             "outlinewidth": 0,
             "ticks": ""
            },
            "type": "mesh3d"
           }
          ],
          "parcoords": [
           {
            "line": {
             "colorbar": {
              "outlinewidth": 0,
              "ticks": ""
             }
            },
            "type": "parcoords"
           }
          ],
          "pie": [
           {
            "automargin": true,
            "type": "pie"
           }
          ],
          "scatter": [
           {
            "fillpattern": {
             "fillmode": "overlay",
             "size": 10,
             "solidity": 0.2
            },
            "type": "scatter"
           }
          ],
          "scatter3d": [
           {
            "line": {
             "colorbar": {
              "outlinewidth": 0,
              "ticks": ""
             }
            },
            "marker": {
             "colorbar": {
              "outlinewidth": 0,
              "ticks": ""
             }
            },
            "type": "scatter3d"
           }
          ],
          "scattercarpet": [
           {
            "marker": {
             "colorbar": {
              "outlinewidth": 0,
              "ticks": ""
             }
            },
            "type": "scattercarpet"
           }
          ],
          "scattergeo": [
           {
            "marker": {
             "colorbar": {
              "outlinewidth": 0,
              "ticks": ""
             }
            },
            "type": "scattergeo"
           }
          ],
          "scattergl": [
           {
            "marker": {
             "colorbar": {
              "outlinewidth": 0,
              "ticks": ""
             }
            },
            "type": "scattergl"
           }
          ],
          "scattermapbox": [
           {
            "marker": {
             "colorbar": {
              "outlinewidth": 0,
              "ticks": ""
             }
            },
            "type": "scattermapbox"
           }
          ],
          "scatterpolar": [
           {
            "marker": {
             "colorbar": {
              "outlinewidth": 0,
              "ticks": ""
             }
            },
            "type": "scatterpolar"
           }
          ],
          "scatterpolargl": [
           {
            "marker": {
             "colorbar": {
              "outlinewidth": 0,
              "ticks": ""
             }
            },
            "type": "scatterpolargl"
           }
          ],
          "scatterternary": [
           {
            "marker": {
             "colorbar": {
              "outlinewidth": 0,
              "ticks": ""
             }
            },
            "type": "scatterternary"
           }
          ],
          "surface": [
           {
            "colorbar": {
             "outlinewidth": 0,
             "ticks": ""
            },
            "colorscale": [
             [
              0,
              "#0d0887"
             ],
             [
              0.1111111111111111,
              "#46039f"
             ],
             [
              0.2222222222222222,
              "#7201a8"
             ],
             [
              0.3333333333333333,
              "#9c179e"
             ],
             [
              0.4444444444444444,
              "#bd3786"
             ],
             [
              0.5555555555555556,
              "#d8576b"
             ],
             [
              0.6666666666666666,
              "#ed7953"
             ],
             [
              0.7777777777777778,
              "#fb9f3a"
             ],
             [
              0.8888888888888888,
              "#fdca26"
             ],
             [
              1,
              "#f0f921"
             ]
            ],
            "type": "surface"
           }
          ],
          "table": [
           {
            "cells": {
             "fill": {
              "color": "#EBF0F8"
             },
             "line": {
              "color": "white"
             }
            },
            "header": {
             "fill": {
              "color": "#C8D4E3"
             },
             "line": {
              "color": "white"
             }
            },
            "type": "table"
           }
          ]
         },
         "layout": {
          "annotationdefaults": {
           "arrowcolor": "#2a3f5f",
           "arrowhead": 0,
           "arrowwidth": 1
          },
          "autotypenumbers": "strict",
          "coloraxis": {
           "colorbar": {
            "outlinewidth": 0,
            "ticks": ""
           }
          },
          "colorscale": {
           "diverging": [
            [
             0,
             "#8e0152"
            ],
            [
             0.1,
             "#c51b7d"
            ],
            [
             0.2,
             "#de77ae"
            ],
            [
             0.3,
             "#f1b6da"
            ],
            [
             0.4,
             "#fde0ef"
            ],
            [
             0.5,
             "#f7f7f7"
            ],
            [
             0.6,
             "#e6f5d0"
            ],
            [
             0.7,
             "#b8e186"
            ],
            [
             0.8,
             "#7fbc41"
            ],
            [
             0.9,
             "#4d9221"
            ],
            [
             1,
             "#276419"
            ]
           ],
           "sequential": [
            [
             0,
             "#0d0887"
            ],
            [
             0.1111111111111111,
             "#46039f"
            ],
            [
             0.2222222222222222,
             "#7201a8"
            ],
            [
             0.3333333333333333,
             "#9c179e"
            ],
            [
             0.4444444444444444,
             "#bd3786"
            ],
            [
             0.5555555555555556,
             "#d8576b"
            ],
            [
             0.6666666666666666,
             "#ed7953"
            ],
            [
             0.7777777777777778,
             "#fb9f3a"
            ],
            [
             0.8888888888888888,
             "#fdca26"
            ],
            [
             1,
             "#f0f921"
            ]
           ],
           "sequentialminus": [
            [
             0,
             "#0d0887"
            ],
            [
             0.1111111111111111,
             "#46039f"
            ],
            [
             0.2222222222222222,
             "#7201a8"
            ],
            [
             0.3333333333333333,
             "#9c179e"
            ],
            [
             0.4444444444444444,
             "#bd3786"
            ],
            [
             0.5555555555555556,
             "#d8576b"
            ],
            [
             0.6666666666666666,
             "#ed7953"
            ],
            [
             0.7777777777777778,
             "#fb9f3a"
            ],
            [
             0.8888888888888888,
             "#fdca26"
            ],
            [
             1,
             "#f0f921"
            ]
           ]
          },
          "colorway": [
           "#636efa",
           "#EF553B",
           "#00cc96",
           "#ab63fa",
           "#FFA15A",
           "#19d3f3",
           "#FF6692",
           "#B6E880",
           "#FF97FF",
           "#FECB52"
          ],
          "font": {
           "color": "#2a3f5f"
          },
          "geo": {
           "bgcolor": "white",
           "lakecolor": "white",
           "landcolor": "#E5ECF6",
           "showlakes": true,
           "showland": true,
           "subunitcolor": "white"
          },
          "hoverlabel": {
           "align": "left"
          },
          "hovermode": "closest",
          "mapbox": {
           "style": "light"
          },
          "paper_bgcolor": "white",
          "plot_bgcolor": "#E5ECF6",
          "polar": {
           "angularaxis": {
            "gridcolor": "white",
            "linecolor": "white",
            "ticks": ""
           },
           "bgcolor": "#E5ECF6",
           "radialaxis": {
            "gridcolor": "white",
            "linecolor": "white",
            "ticks": ""
           }
          },
          "scene": {
           "xaxis": {
            "backgroundcolor": "#E5ECF6",
            "gridcolor": "white",
            "gridwidth": 2,
            "linecolor": "white",
            "showbackground": true,
            "ticks": "",
            "zerolinecolor": "white"
           },
           "yaxis": {
            "backgroundcolor": "#E5ECF6",
            "gridcolor": "white",
            "gridwidth": 2,
            "linecolor": "white",
            "showbackground": true,
            "ticks": "",
            "zerolinecolor": "white"
           },
           "zaxis": {
            "backgroundcolor": "#E5ECF6",
            "gridcolor": "white",
            "gridwidth": 2,
            "linecolor": "white",
            "showbackground": true,
            "ticks": "",
            "zerolinecolor": "white"
           }
          },
          "shapedefaults": {
           "line": {
            "color": "#2a3f5f"
           }
          },
          "ternary": {
           "aaxis": {
            "gridcolor": "white",
            "linecolor": "white",
            "ticks": ""
           },
           "baxis": {
            "gridcolor": "white",
            "linecolor": "white",
            "ticks": ""
           },
           "bgcolor": "#E5ECF6",
           "caxis": {
            "gridcolor": "white",
            "linecolor": "white",
            "ticks": ""
           }
          },
          "title": {
           "x": 0.05
          },
          "xaxis": {
           "automargin": true,
           "gridcolor": "white",
           "linecolor": "white",
           "ticks": "",
           "title": {
            "standoff": 15
           },
           "zerolinecolor": "white",
           "zerolinewidth": 2
          },
          "yaxis": {
           "automargin": true,
           "gridcolor": "white",
           "linecolor": "white",
           "ticks": "",
           "title": {
            "standoff": 15
           },
           "zerolinecolor": "white",
           "zerolinewidth": 2
          }
         }
        },
        "width": 600
       }
      }
     },
     "metadata": {},
     "output_type": "display_data"
    }
   ],
   "source": [
    "# cycle to optimize\n",
    "i = homology_file[homology_file['dimension'] == 1].sort_values('cycle nnz').index[-1] # pick the largest cycle the optimize (could pick any what forms an actual cycle, this one's just easy)\n",
    "\n",
    "# optimization problem\n",
    "start = pd.Timestamp.now()\n",
    "optimal = factored_file.optimize_cycle(\n",
    "        birth_simplex=homology_file['birth simplex'][i], \n",
    "        problem_type='preserve PH basis'\n",
    "    )\n",
    "print(f'Optimizaiton took {pd.Timestamp.now() - start}')\n",
    "optimal_edges = optimal['chain']['optimal cycle']['simplex'].tolist() # bounding box of optimal cycle\n",
    "\n",
    "# plotting\n",
    "trace_dta = go.Scatter( # data plot\n",
    "        x=dta[:, 0],\n",
    "        y=dta[:, 1],\n",
    "        mode='markers',\n",
    "        showlegend=True,\n",
    "        name='Data',\n",
    "        opacity=0.5\n",
    "    )\n",
    "traces_optimal = [oat.plot.edge__trace2d(edge, dta) for edge in optimal_edges] # optimal cycle plot\n",
    "for n, trace in enumerate(traces_optimal): # plot optimal cycle\n",
    "    trace.update(\n",
    "            showlegend=(n==0),\n",
    "            legendgroup='opti',\n",
    "            opacity=0.5,\n",
    "            name='Optimal Cycle',\n",
    "            line=dict(color='black')\n",
    "        )\n",
    "fig = go.Figure(data=[trace_dta]+traces_optimal)\n",
    "fig.update_layout(\n",
    "        width=600, \n",
    "        height=500,\n",
    "        margin=dict(l=20, r=20, t=20, b=20)\n",
    "    )\n",
    "fig.show()"
   ]
  }
 ],
 "metadata": {
  "kernelspec": {
   "display_name": "base",
   "language": "python",
   "name": "python3"
  },
  "language_info": {
   "codemirror_mode": {
    "name": "ipython",
    "version": 3
   },
   "file_extension": ".py",
   "mimetype": "text/x-python",
   "name": "python",
   "nbconvert_exporter": "python",
   "pygments_lexer": "ipython3",
   "version": "3.12.3"
  }
 },
 "nbformat": 4,
 "nbformat_minor": 2
}
