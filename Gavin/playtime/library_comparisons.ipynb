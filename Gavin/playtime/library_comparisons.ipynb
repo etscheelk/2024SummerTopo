{
 "cells": [
  {
   "cell_type": "markdown",
   "metadata": {},
   "source": [
    "## Library Comparisons\n",
    "There are a number of TDA libraries. In this notebook, we test how quickly each of them run and how accurate they all are compared to each other. We focus on comparing `OATpy`, `Ripser`, and `GUDHI`, although more could be added (ex. `Giotto TDA` or `scikit-tda`).\n",
    "\n",
    "In general, we find that `Ripser` is the fastest, `OATpy` is a few times slower, and `GUDHI` is the slowest by orders of magnitude for point clouds and that `GUDHI` is that fastest, `Ripser` is a few times slower, and `OATpy` is much, much slower for networks. The barcodes from the libraries are all similar, with `OATpy` and `GUDHI` finding homological features with the same birth and death times and `Ripser` finding features with birth and death times that are very close to the other libraries.\n",
    "\n",
    "This means `Ripser` and `GUDHI` are the preferred libraries for speed depending on the initial input, but `OATpy` is similar enough, especially considering the additional features the library has, that it's also a really good option."
   ]
  },
  {
   "cell_type": "markdown",
   "metadata": {},
   "source": [
    "#### Preliminaries\n",
    "A couple important packages and the TDA libraries for comparison"
   ]
  },
  {
   "cell_type": "code",
   "execution_count": 1,
   "metadata": {},
   "outputs": [],
   "source": [
    "# general libraries\n",
    "import sys; sys.path.append('/Users/gavinengelstad/hera/build/bindings/python') # hera\n",
    "import Gavin.utils.random_complexes as rc\n",
    "import Gavin.utils.compare_barcodes as cb\n",
    "import Gavin.utils.make_network_v1 as mn\n",
    "import matplotlib.pyplot as plt\n",
    "import networkx as nx\n",
    "from time import time\n",
    "import pandas as pd\n",
    "import numpy as np\n",
    "\n",
    "# tda libraries\n",
    "from gudhi import RipsComplex\n",
    "from ripser import ripser\n",
    "import oatpy as oat"
   ]
  },
  {
   "cell_type": "markdown",
   "metadata": {},
   "source": [
    "#### Test Functions\n",
    "Any tests will be done in the following functions. Each function will have a clearly specified number of dimensions to search for homology for and max filtration value to keep everything even.\n",
    "\n",
    "Some tests will use point clouds and others will use networks to get a good view of all applications of the libraries."
   ]
  },
  {
   "cell_type": "code",
   "execution_count": 2,
   "metadata": {},
   "outputs": [],
   "source": [
    "## ripser functions\n",
    "def ripser_from_cloud(cloud, max_dim, max_filtration):\n",
    "    start = time()\n",
    "\n",
    "    res = ripser(X=cloud, maxdim=max_dim, thresh=max_filtration)\n",
    "\n",
    "    time_to_solve = time() - start\n",
    "\n",
    "    return cb.format_ripser_output(res), time_to_solve\n",
    "\n",
    "\n",
    "def ripser_from_adj_martix(adj, max_dim):\n",
    "    start = time()\n",
    "\n",
    "    res = ripser(X=adj, maxdim=max_dim, distance_matrix=True)\n",
    "\n",
    "    time_to_solve = time() - start\n",
    "\n",
    "    return cb.format_ripser_output(res), time_to_solve\n"
   ]
  },
  {
   "cell_type": "code",
   "execution_count": 3,
   "metadata": {},
   "outputs": [],
   "source": [
    "## oat functions\n",
    "def oat_from_cloud(cloud, max_dim, max_filtration):\n",
    "    start = time()\n",
    "\n",
    "    dissimilairty_matrix = oat.dissimilarity.matrix_from_cloud( # distance matrix\n",
    "            cloud=cloud,\n",
    "            dissimilarity_max=max_filtration # i belive any elements past this are removed (returns a sparse matrix)\n",
    "        )\n",
    "    # add 1e-10 to elimite some numerical error (greg says to do it)\n",
    "    factored = oat.rust.FactoredBoundaryMatrixVr( # two functions that do this, idk what the other one is\n",
    "            dissimilarity_matrix=dissimilairty_matrix,\n",
    "            homology_dimension_max=max_dim\n",
    "        )\n",
    "    res = factored.homology( # solve homology\n",
    "            return_cycle_representatives=False, # These need to be true to be able to make a barcode, but false to be a bit faster\n",
    "            return_bounding_chains=False\n",
    "        )\n",
    "\n",
    "    time_to_solve = time() - start\n",
    "\n",
    "    return cb.format_oat_output(res), time_to_solve\n",
    "\n",
    "\n",
    "def oat_from_adj_martix(adj, max_dim):\n",
    "    start = time()\n",
    "\n",
    "    factored = oat.rust.FactoredBoundaryMatrixVr( # two functions that do this, idk what the other one is\n",
    "            dissimilarity_matrix=adj,\n",
    "            homology_dimension_max=max_dim\n",
    "        )\n",
    "    res = factored.homology( # solve homology\n",
    "            return_cycle_representatives=False, # These need to be true to be able to make a barcode, but false to be a bit faster\n",
    "            return_bounding_chains=False\n",
    "        )\n",
    "    \n",
    "    time_to_solve = time() - start\n",
    "\n",
    "    return cb.format_oat_output(res), time_to_solve"
   ]
  },
  {
   "cell_type": "code",
   "execution_count": 4,
   "metadata": {},
   "outputs": [],
   "source": [
    "## gudhi functions\n",
    "def gudhi_from_cloud(cloud, max_dim, max_filtration):\n",
    "    start = time()\n",
    "\n",
    "    # calculate homology\n",
    "    rips = RipsComplex(points=cloud, max_edge_length=max_filtration)\n",
    "    simplex_tree = rips.create_simplex_tree(max_dimension=max_dim+1) # +1 otherwise we only get max_dim-1 dimentional features\n",
    "    res = simplex_tree.persistence()\n",
    "\n",
    "    time_to_solve = time() - start\n",
    "\n",
    "    return cb.format_guhdi_output(res), time_to_solve\n",
    "\n",
    "\n",
    "def gudhi_from_adj_martix(adj, max_dim):\n",
    "    adj = adj.toarray() # gudhi doesn't like sparse matricies\n",
    "    adj[adj == 0] = np.inf\n",
    "\n",
    "    start = time()\n",
    "\n",
    "    # calculate homology\n",
    "    rips = RipsComplex(distance_matrix=adj, max_edge_length=1)\n",
    "    simplex_tree = rips.create_simplex_tree(max_dimension=max_dim+1) # +1 otherwise we only get max_dim-1 dimentional features\n",
    "    res = simplex_tree.persistence()\n",
    "\n",
    "    time_to_solve = time() - start\n",
    "\n",
    "    return cb.format_guhdi_output(res), time_to_solve\n"
   ]
  },
  {
   "cell_type": "markdown",
   "metadata": {},
   "source": [
    "### Test 1: 2D Point Cloud\n",
    "Test all the libraries on a 2D point cloud"
   ]
  },
  {
   "cell_type": "markdown",
   "metadata": {},
   "source": [
    "#### Set Up the Test"
   ]
  },
  {
   "cell_type": "code",
   "execution_count": 5,
   "metadata": {},
   "outputs": [
    {
     "data": {
      "text/plain": [
       "[<matplotlib.lines.Line2D at 0x30ef809b0>]"
      ]
     },
     "execution_count": 5,
     "metadata": {},
     "output_type": "execute_result"
    },
    {
     "data": {
      "image/png": "[encoded data removed]",
      "text/plain": [
       "<Figure size 640x480 with 1 Axes>"
      ]
     },
     "metadata": {},
     "output_type": "display_data"
    }
   ],
   "source": [
    "# test parameters\n",
    "MAX_DIMENSION = 2\n",
    "NUMBER_OF_POINTS = 250\n",
    "\n",
    "# get points\n",
    "pts = oat.point_cloud.annulus(npoints=NUMBER_OF_POINTS, random_seed=10)\n",
    "enclosing = oat.dissimilarity.enclosing_from_cloud(pts) + 1e-10  # max filtration radius\n",
    "enclosing\n",
    "\n",
    "# plot it\n",
    "ax = plt.subplot()\n",
    "ax.plot(pts[:, 0], pts[:, 1], '.')"
   ]
  },
  {
   "cell_type": "markdown",
   "metadata": {},
   "source": [
    "#### Use the Three Libraries\n",
    "Calculate homology using all three libraries. Keep track of\n",
    "1. The barcodes we find\n",
    "2. How long they all take"
   ]
  },
  {
   "cell_type": "code",
   "execution_count": 6,
   "metadata": {},
   "outputs": [],
   "source": [
    "ripser_res, ripser_t = ripser_from_cloud(pts, MAX_DIMENSION, enclosing)\n",
    "oat_res, oat_t = oat_from_cloud(pts, MAX_DIMENSION, enclosing)\n",
    "gudhi_res, gudhi_t = gudhi_from_cloud(pts, MAX_DIMENSION, enclosing)"
   ]
  },
  {
   "cell_type": "markdown",
   "metadata": {},
   "source": [
    "#### Comparisons\n",
    "The first code block compares the time each library took. The other ones use different distance metrics and different dimensions to compare the outputted barcodes."
   ]
  },
  {
   "cell_type": "code",
   "execution_count": 7,
   "metadata": {},
   "outputs": [
    {
     "data": {
      "text/html": [
       "<div>\n",
       "<style scoped>\n",
       "    .dataframe tbody tr th:only-of-type {\n",
       "        vertical-align: middle;\n",
       "    }\n",
       "\n",
       "    .dataframe tbody tr th {\n",
       "        vertical-align: top;\n",
       "    }\n",
       "\n",
       "    .dataframe thead th {\n",
       "        text-align: right;\n",
       "    }\n",
       "</style>\n",
       "<table border=\"1\" class=\"dataframe\">\n",
       "  <thead>\n",
       "    <tr style=\"text-align: right;\">\n",
       "      <th></th>\n",
       "      <th>Library</th>\n",
       "      <th>Time (sec)</th>\n",
       "    </tr>\n",
       "  </thead>\n",
       "  <tbody>\n",
       "    <tr>\n",
       "      <th>0</th>\n",
       "      <td>Ripser</td>\n",
       "      <td>0.982275</td>\n",
       "    </tr>\n",
       "    <tr>\n",
       "      <th>1</th>\n",
       "      <td>OAT</td>\n",
       "      <td>3.615429</td>\n",
       "    </tr>\n",
       "    <tr>\n",
       "      <th>2</th>\n",
       "      <td>GUDHI</td>\n",
       "      <td>49.269042</td>\n",
       "    </tr>\n",
       "  </tbody>\n",
       "</table>\n",
       "</div>"
      ],
      "text/plain": [
       "  Library  Time (sec)\n",
       "0  Ripser    0.982275\n",
       "1     OAT    3.615429\n",
       "2   GUDHI   49.269042"
      ]
     },
     "execution_count": 7,
     "metadata": {},
     "output_type": "execute_result"
    }
   ],
   "source": [
    "## Time it takes\n",
    "pd.DataFrame(data={'Library': ['Ripser', 'OAT', 'GUDHI'], 'Time (sec)': [ripser_t, oat_t, gudhi_t]})"
   ]
  },
  {
   "cell_type": "code",
   "execution_count": 8,
   "metadata": {},
   "outputs": [
    {
     "data": {
      "text/html": [
       "<div>\n",
       "<style scoped>\n",
       "    .dataframe tbody tr th:only-of-type {\n",
       "        vertical-align: middle;\n",
       "    }\n",
       "\n",
       "    .dataframe tbody tr th {\n",
       "        vertical-align: top;\n",
       "    }\n",
       "\n",
       "    .dataframe thead th {\n",
       "        text-align: right;\n",
       "    }\n",
       "</style>\n",
       "<table border=\"1\" class=\"dataframe\">\n",
       "  <thead>\n",
       "    <tr style=\"text-align: right;\">\n",
       "      <th></th>\n",
       "      <th>Ripser</th>\n",
       "      <th>OAT</th>\n",
       "      <th>GUDHI</th>\n",
       "    </tr>\n",
       "  </thead>\n",
       "  <tbody>\n",
       "    <tr>\n",
       "      <th>Ripser</th>\n",
       "      <td>0.000000</td>\n",
       "      <td>0.000004</td>\n",
       "      <td>0.000004</td>\n",
       "    </tr>\n",
       "    <tr>\n",
       "      <th>OAT</th>\n",
       "      <td>0.000004</td>\n",
       "      <td>0.000000</td>\n",
       "      <td>0.000000</td>\n",
       "    </tr>\n",
       "    <tr>\n",
       "      <th>GUDHI</th>\n",
       "      <td>0.000004</td>\n",
       "      <td>0.000000</td>\n",
       "      <td>0.000000</td>\n",
       "    </tr>\n",
       "  </tbody>\n",
       "</table>\n",
       "</div>"
      ],
      "text/plain": [
       "          Ripser       OAT     GUDHI\n",
       "Ripser  0.000000  0.000004  0.000004\n",
       "OAT     0.000004  0.000000  0.000000\n",
       "GUDHI   0.000004  0.000000  0.000000"
      ]
     },
     "execution_count": 8,
     "metadata": {},
     "output_type": "execute_result"
    }
   ],
   "source": [
    "## Wasserstein Distance between dimension 0 features\n",
    "cb.barcode_distance_matrix(\n",
    "        [ripser_res, oat_res, gudhi_res],\n",
    "        cb.wasserstein_distance,\n",
    "        dim=0,\n",
    "        labels=['Ripser', 'OAT', 'GUDHI'],\n",
    "    )"
   ]
  },
  {
   "cell_type": "code",
   "execution_count": 9,
   "metadata": {},
   "outputs": [
    {
     "data": {
      "text/html": [
       "<div>\n",
       "<style scoped>\n",
       "    .dataframe tbody tr th:only-of-type {\n",
       "        vertical-align: middle;\n",
       "    }\n",
       "\n",
       "    .dataframe tbody tr th {\n",
       "        vertical-align: top;\n",
       "    }\n",
       "\n",
       "    .dataframe thead th {\n",
       "        text-align: right;\n",
       "    }\n",
       "</style>\n",
       "<table border=\"1\" class=\"dataframe\">\n",
       "  <thead>\n",
       "    <tr style=\"text-align: right;\">\n",
       "      <th></th>\n",
       "      <th>Ripser</th>\n",
       "      <th>OAT</th>\n",
       "      <th>GUDHI</th>\n",
       "    </tr>\n",
       "  </thead>\n",
       "  <tbody>\n",
       "    <tr>\n",
       "      <th>Ripser</th>\n",
       "      <td>0.000000e+00</td>\n",
       "      <td>3.494091e-07</td>\n",
       "      <td>3.494091e-07</td>\n",
       "    </tr>\n",
       "    <tr>\n",
       "      <th>OAT</th>\n",
       "      <td>3.494091e-07</td>\n",
       "      <td>0.000000e+00</td>\n",
       "      <td>0.000000e+00</td>\n",
       "    </tr>\n",
       "    <tr>\n",
       "      <th>GUDHI</th>\n",
       "      <td>3.494091e-07</td>\n",
       "      <td>0.000000e+00</td>\n",
       "      <td>0.000000e+00</td>\n",
       "    </tr>\n",
       "  </tbody>\n",
       "</table>\n",
       "</div>"
      ],
      "text/plain": [
       "              Ripser           OAT         GUDHI\n",
       "Ripser  0.000000e+00  3.494091e-07  3.494091e-07\n",
       "OAT     3.494091e-07  0.000000e+00  0.000000e+00\n",
       "GUDHI   3.494091e-07  0.000000e+00  0.000000e+00"
      ]
     },
     "execution_count": 9,
     "metadata": {},
     "output_type": "execute_result"
    }
   ],
   "source": [
    "## Wasserstein Distance between dimension 1 features\n",
    "cb.barcode_distance_matrix(\n",
    "        [ripser_res, oat_res, gudhi_res],\n",
    "        cb.wasserstein_distance,\n",
    "        dim=1,\n",
    "        labels=['Ripser', 'OAT', 'GUDHI'],\n",
    "    )"
   ]
  },
  {
   "cell_type": "code",
   "execution_count": 10,
   "metadata": {},
   "outputs": [
    {
     "data": {
      "text/html": [
       "<div>\n",
       "<style scoped>\n",
       "    .dataframe tbody tr th:only-of-type {\n",
       "        vertical-align: middle;\n",
       "    }\n",
       "\n",
       "    .dataframe tbody tr th {\n",
       "        vertical-align: top;\n",
       "    }\n",
       "\n",
       "    .dataframe thead th {\n",
       "        text-align: right;\n",
       "    }\n",
       "</style>\n",
       "<table border=\"1\" class=\"dataframe\">\n",
       "  <thead>\n",
       "    <tr style=\"text-align: right;\">\n",
       "      <th></th>\n",
       "      <th>Ripser</th>\n",
       "      <th>OAT</th>\n",
       "      <th>GUDHI</th>\n",
       "    </tr>\n",
       "  </thead>\n",
       "  <tbody>\n",
       "    <tr>\n",
       "      <th>Ripser</th>\n",
       "      <td>0.000000e+00</td>\n",
       "      <td>6.029070e-08</td>\n",
       "      <td>6.029070e-08</td>\n",
       "    </tr>\n",
       "    <tr>\n",
       "      <th>OAT</th>\n",
       "      <td>6.029070e-08</td>\n",
       "      <td>0.000000e+00</td>\n",
       "      <td>0.000000e+00</td>\n",
       "    </tr>\n",
       "    <tr>\n",
       "      <th>GUDHI</th>\n",
       "      <td>6.029070e-08</td>\n",
       "      <td>0.000000e+00</td>\n",
       "      <td>0.000000e+00</td>\n",
       "    </tr>\n",
       "  </tbody>\n",
       "</table>\n",
       "</div>"
      ],
      "text/plain": [
       "              Ripser           OAT         GUDHI\n",
       "Ripser  0.000000e+00  6.029070e-08  6.029070e-08\n",
       "OAT     6.029070e-08  0.000000e+00  0.000000e+00\n",
       "GUDHI   6.029070e-08  0.000000e+00  0.000000e+00"
      ]
     },
     "execution_count": 10,
     "metadata": {},
     "output_type": "execute_result"
    }
   ],
   "source": [
    "## Wasserstein Distance between dimension 2 features\n",
    "cb.barcode_distance_matrix(\n",
    "        [ripser_res, oat_res, gudhi_res],\n",
    "        cb.wasserstein_distance,\n",
    "        dim=2,\n",
    "        labels=['Ripser', 'OAT', 'GUDHI'],\n",
    "    )"
   ]
  },
  {
   "cell_type": "code",
   "execution_count": 11,
   "metadata": {},
   "outputs": [
    {
     "data": {
      "text/html": [
       "<div>\n",
       "<style scoped>\n",
       "    .dataframe tbody tr th:only-of-type {\n",
       "        vertical-align: middle;\n",
       "    }\n",
       "\n",
       "    .dataframe tbody tr th {\n",
       "        vertical-align: top;\n",
       "    }\n",
       "\n",
       "    .dataframe thead th {\n",
       "        text-align: right;\n",
       "    }\n",
       "</style>\n",
       "<table border=\"1\" class=\"dataframe\">\n",
       "  <thead>\n",
       "    <tr style=\"text-align: right;\">\n",
       "      <th></th>\n",
       "      <th>Ripser</th>\n",
       "      <th>OAT</th>\n",
       "      <th>GUDHI</th>\n",
       "    </tr>\n",
       "  </thead>\n",
       "  <tbody>\n",
       "    <tr>\n",
       "      <th>Ripser</th>\n",
       "      <td>0.000000</td>\n",
       "      <td>0.000013</td>\n",
       "      <td>0.000013</td>\n",
       "    </tr>\n",
       "    <tr>\n",
       "      <th>OAT</th>\n",
       "      <td>0.000013</td>\n",
       "      <td>0.000000</td>\n",
       "      <td>0.000000</td>\n",
       "    </tr>\n",
       "    <tr>\n",
       "      <th>GUDHI</th>\n",
       "      <td>0.000013</td>\n",
       "      <td>0.000000</td>\n",
       "      <td>0.000000</td>\n",
       "    </tr>\n",
       "  </tbody>\n",
       "</table>\n",
       "</div>"
      ],
      "text/plain": [
       "          Ripser       OAT     GUDHI\n",
       "Ripser  0.000000  0.000013  0.000013\n",
       "OAT     0.000013  0.000000  0.000000\n",
       "GUDHI   0.000013  0.000000  0.000000"
      ]
     },
     "execution_count": 11,
     "metadata": {},
     "output_type": "execute_result"
    }
   ],
   "source": [
    "## Persistance Images Distance between dimension 0 features\n",
    "cb.barcode_distance_matrix(\n",
    "        [ripser_res, oat_res, gudhi_res],\n",
    "        cb.persistance_image_distance,\n",
    "        dim=0,\n",
    "        labels=['Ripser', 'OAT', 'GUDHI'],\n",
    "    )"
   ]
  },
  {
   "cell_type": "code",
   "execution_count": 12,
   "metadata": {},
   "outputs": [
    {
     "data": {
      "text/html": [
       "<div>\n",
       "<style scoped>\n",
       "    .dataframe tbody tr th:only-of-type {\n",
       "        vertical-align: middle;\n",
       "    }\n",
       "\n",
       "    .dataframe tbody tr th {\n",
       "        vertical-align: top;\n",
       "    }\n",
       "\n",
       "    .dataframe thead th {\n",
       "        text-align: right;\n",
       "    }\n",
       "</style>\n",
       "<table border=\"1\" class=\"dataframe\">\n",
       "  <thead>\n",
       "    <tr style=\"text-align: right;\">\n",
       "      <th></th>\n",
       "      <th>Ripser</th>\n",
       "      <th>OAT</th>\n",
       "      <th>GUDHI</th>\n",
       "    </tr>\n",
       "  </thead>\n",
       "  <tbody>\n",
       "    <tr>\n",
       "      <th>Ripser</th>\n",
       "      <td>0.000000e+00</td>\n",
       "      <td>3.229759e-07</td>\n",
       "      <td>3.229759e-07</td>\n",
       "    </tr>\n",
       "    <tr>\n",
       "      <th>OAT</th>\n",
       "      <td>3.229759e-07</td>\n",
       "      <td>0.000000e+00</td>\n",
       "      <td>0.000000e+00</td>\n",
       "    </tr>\n",
       "    <tr>\n",
       "      <th>GUDHI</th>\n",
       "      <td>3.229759e-07</td>\n",
       "      <td>0.000000e+00</td>\n",
       "      <td>0.000000e+00</td>\n",
       "    </tr>\n",
       "  </tbody>\n",
       "</table>\n",
       "</div>"
      ],
      "text/plain": [
       "              Ripser           OAT         GUDHI\n",
       "Ripser  0.000000e+00  3.229759e-07  3.229759e-07\n",
       "OAT     3.229759e-07  0.000000e+00  0.000000e+00\n",
       "GUDHI   3.229759e-07  0.000000e+00  0.000000e+00"
      ]
     },
     "execution_count": 12,
     "metadata": {},
     "output_type": "execute_result"
    }
   ],
   "source": [
    "## Persistance Images Distance between dimension 1 features\n",
    "cb.barcode_distance_matrix(\n",
    "        [ripser_res, oat_res, gudhi_res],\n",
    "        cb.persistance_image_distance,\n",
    "        dim=1,\n",
    "        labels=['Ripser', 'OAT', 'GUDHI'],\n",
    "    )"
   ]
  },
  {
   "cell_type": "code",
   "execution_count": 13,
   "metadata": {},
   "outputs": [
    {
     "data": {
      "text/html": [
       "<div>\n",
       "<style scoped>\n",
       "    .dataframe tbody tr th:only-of-type {\n",
       "        vertical-align: middle;\n",
       "    }\n",
       "\n",
       "    .dataframe tbody tr th {\n",
       "        vertical-align: top;\n",
       "    }\n",
       "\n",
       "    .dataframe thead th {\n",
       "        text-align: right;\n",
       "    }\n",
       "</style>\n",
       "<table border=\"1\" class=\"dataframe\">\n",
       "  <thead>\n",
       "    <tr style=\"text-align: right;\">\n",
       "      <th></th>\n",
       "      <th>Ripser</th>\n",
       "      <th>OAT</th>\n",
       "      <th>GUDHI</th>\n",
       "    </tr>\n",
       "  </thead>\n",
       "  <tbody>\n",
       "    <tr>\n",
       "      <th>Ripser</th>\n",
       "      <td>0.000000e+00</td>\n",
       "      <td>8.265055e-08</td>\n",
       "      <td>8.265055e-08</td>\n",
       "    </tr>\n",
       "    <tr>\n",
       "      <th>OAT</th>\n",
       "      <td>8.265055e-08</td>\n",
       "      <td>0.000000e+00</td>\n",
       "      <td>0.000000e+00</td>\n",
       "    </tr>\n",
       "    <tr>\n",
       "      <th>GUDHI</th>\n",
       "      <td>8.265055e-08</td>\n",
       "      <td>0.000000e+00</td>\n",
       "      <td>0.000000e+00</td>\n",
       "    </tr>\n",
       "  </tbody>\n",
       "</table>\n",
       "</div>"
      ],
      "text/plain": [
       "              Ripser           OAT         GUDHI\n",
       "Ripser  0.000000e+00  8.265055e-08  8.265055e-08\n",
       "OAT     8.265055e-08  0.000000e+00  0.000000e+00\n",
       "GUDHI   8.265055e-08  0.000000e+00  0.000000e+00"
      ]
     },
     "execution_count": 13,
     "metadata": {},
     "output_type": "execute_result"
    }
   ],
   "source": [
    "## Persistance Images Distance between dimension 2 features\n",
    "cb.barcode_distance_matrix(\n",
    "        [ripser_res, oat_res, gudhi_res],\n",
    "        cb.persistance_image_distance,\n",
    "        dim=2,\n",
    "        labels=['Ripser', 'OAT', 'GUDHI'],\n",
    "    )"
   ]
  },
  {
   "cell_type": "markdown",
   "metadata": {},
   "source": [
    "### Test 2: 3D Point Cloud\n",
    "\n",
    "Test all the libraries on a 3D point cloud."
   ]
  },
  {
   "cell_type": "markdown",
   "metadata": {},
   "source": [
    "#### Set Up the Test"
   ]
  },
  {
   "cell_type": "code",
   "execution_count": 14,
   "metadata": {},
   "outputs": [
    {
     "data": {
      "text/plain": [
       "[<mpl_toolkits.mplot3d.art3d.Line3D at 0x30f6aac60>]"
      ]
     },
     "execution_count": 14,
     "metadata": {},
     "output_type": "execute_result"
    },
    {
     "data": {
      "image/png": "[encoded data removed]",
      "text/plain": [
       "<Figure size 640x480 with 1 Axes>"
      ]
     },
     "metadata": {},
     "output_type": "display_data"
    }
   ],
   "source": [
    "# test parameters\n",
    "MAX_DIMENSION = 2\n",
    "NUMBER_OF_POINTS = 250\n",
    "\n",
    "# get points\n",
    "pts = oat.point_cloud.slice_of_sphere(npoints=NUMBER_OF_POINTS, random_seed=10)\n",
    "enclosing = oat.dissimilarity.enclosing_from_cloud(pts) + 1e-10  # max filtration radius\n",
    "enclosing\n",
    "\n",
    "# plot it\n",
    "ax = plt.figure().add_subplot(projection='3d')\n",
    "ax.plot(pts[:, 0], pts[:, 1], '.', zs=pts[:, 2])"
   ]
  },
  {
   "cell_type": "markdown",
   "metadata": {},
   "source": [
    "#### Use the Three Libraries\n",
    "Calculate homology using all three libraries. Keep track of\n",
    "1. The barcodes we find\n",
    "2. How long they all take"
   ]
  },
  {
   "cell_type": "code",
   "execution_count": 15,
   "metadata": {},
   "outputs": [],
   "source": [
    "ripser_res, ripser_t = ripser_from_cloud(pts, MAX_DIMENSION, enclosing)\n",
    "oat_res, oat_t = oat_from_cloud(pts, MAX_DIMENSION, enclosing)\n",
    "gudhi_res, gudhi_t = gudhi_from_cloud(pts, MAX_DIMENSION, enclosing)"
   ]
  },
  {
   "cell_type": "markdown",
   "metadata": {},
   "source": [
    "#### Comparisons\n",
    "The first code block compares the time each library took. The other ones use different distance metrics and different dimensions to compare the outputted barcodes."
   ]
  },
  {
   "cell_type": "code",
   "execution_count": 16,
   "metadata": {},
   "outputs": [
    {
     "data": {
      "text/html": [
       "<div>\n",
       "<style scoped>\n",
       "    .dataframe tbody tr th:only-of-type {\n",
       "        vertical-align: middle;\n",
       "    }\n",
       "\n",
       "    .dataframe tbody tr th {\n",
       "        vertical-align: top;\n",
       "    }\n",
       "\n",
       "    .dataframe thead th {\n",
       "        text-align: right;\n",
       "    }\n",
       "</style>\n",
       "<table border=\"1\" class=\"dataframe\">\n",
       "  <thead>\n",
       "    <tr style=\"text-align: right;\">\n",
       "      <th></th>\n",
       "      <th>Library</th>\n",
       "      <th>Time (sec)</th>\n",
       "    </tr>\n",
       "  </thead>\n",
       "  <tbody>\n",
       "    <tr>\n",
       "      <th>0</th>\n",
       "      <td>Ripser</td>\n",
       "      <td>3.177810</td>\n",
       "    </tr>\n",
       "    <tr>\n",
       "      <th>1</th>\n",
       "      <td>OAT</td>\n",
       "      <td>37.587881</td>\n",
       "    </tr>\n",
       "    <tr>\n",
       "      <th>2</th>\n",
       "      <td>GUDHI</td>\n",
       "      <td>131.934257</td>\n",
       "    </tr>\n",
       "  </tbody>\n",
       "</table>\n",
       "</div>"
      ],
      "text/plain": [
       "  Library  Time (sec)\n",
       "0  Ripser    3.177810\n",
       "1     OAT   37.587881\n",
       "2   GUDHI  131.934257"
      ]
     },
     "execution_count": 16,
     "metadata": {},
     "output_type": "execute_result"
    }
   ],
   "source": [
    "## Time it takes\n",
    "pd.DataFrame(data={'Library': ['Ripser', 'OAT', 'GUDHI'], 'Time (sec)': [ripser_t, oat_t, gudhi_t]})"
   ]
  },
  {
   "cell_type": "code",
   "execution_count": 17,
   "metadata": {},
   "outputs": [
    {
     "data": {
      "text/html": [
       "<div>\n",
       "<style scoped>\n",
       "    .dataframe tbody tr th:only-of-type {\n",
       "        vertical-align: middle;\n",
       "    }\n",
       "\n",
       "    .dataframe tbody tr th {\n",
       "        vertical-align: top;\n",
       "    }\n",
       "\n",
       "    .dataframe thead th {\n",
       "        text-align: right;\n",
       "    }\n",
       "</style>\n",
       "<table border=\"1\" class=\"dataframe\">\n",
       "  <thead>\n",
       "    <tr style=\"text-align: right;\">\n",
       "      <th></th>\n",
       "      <th>Ripser</th>\n",
       "      <th>OAT</th>\n",
       "      <th>GUDHI</th>\n",
       "    </tr>\n",
       "  </thead>\n",
       "  <tbody>\n",
       "    <tr>\n",
       "      <th>Ripser</th>\n",
       "      <td>0.000000</td>\n",
       "      <td>0.000004</td>\n",
       "      <td>0.000004</td>\n",
       "    </tr>\n",
       "    <tr>\n",
       "      <th>OAT</th>\n",
       "      <td>0.000004</td>\n",
       "      <td>0.000000</td>\n",
       "      <td>0.000000</td>\n",
       "    </tr>\n",
       "    <tr>\n",
       "      <th>GUDHI</th>\n",
       "      <td>0.000004</td>\n",
       "      <td>0.000000</td>\n",
       "      <td>0.000000</td>\n",
       "    </tr>\n",
       "  </tbody>\n",
       "</table>\n",
       "</div>"
      ],
      "text/plain": [
       "          Ripser       OAT     GUDHI\n",
       "Ripser  0.000000  0.000004  0.000004\n",
       "OAT     0.000004  0.000000  0.000000\n",
       "GUDHI   0.000004  0.000000  0.000000"
      ]
     },
     "execution_count": 17,
     "metadata": {},
     "output_type": "execute_result"
    }
   ],
   "source": [
    "## Wasserstein Distance between dimension 0 features\n",
    "cb.barcode_distance_matrix(\n",
    "        [ripser_res, oat_res, gudhi_res],\n",
    "        cb.wasserstein_distance,\n",
    "        dim=0,\n",
    "        labels=['Ripser', 'OAT', 'GUDHI'],\n",
    "    )"
   ]
  },
  {
   "cell_type": "code",
   "execution_count": 18,
   "metadata": {},
   "outputs": [
    {
     "data": {
      "text/html": [
       "<div>\n",
       "<style scoped>\n",
       "    .dataframe tbody tr th:only-of-type {\n",
       "        vertical-align: middle;\n",
       "    }\n",
       "\n",
       "    .dataframe tbody tr th {\n",
       "        vertical-align: top;\n",
       "    }\n",
       "\n",
       "    .dataframe thead th {\n",
       "        text-align: right;\n",
       "    }\n",
       "</style>\n",
       "<table border=\"1\" class=\"dataframe\">\n",
       "  <thead>\n",
       "    <tr style=\"text-align: right;\">\n",
       "      <th></th>\n",
       "      <th>Ripser</th>\n",
       "      <th>OAT</th>\n",
       "      <th>GUDHI</th>\n",
       "    </tr>\n",
       "  </thead>\n",
       "  <tbody>\n",
       "    <tr>\n",
       "      <th>Ripser</th>\n",
       "      <td>0.000000</td>\n",
       "      <td>0.000005</td>\n",
       "      <td>0.000005</td>\n",
       "    </tr>\n",
       "    <tr>\n",
       "      <th>OAT</th>\n",
       "      <td>0.000005</td>\n",
       "      <td>0.000000</td>\n",
       "      <td>0.000000</td>\n",
       "    </tr>\n",
       "    <tr>\n",
       "      <th>GUDHI</th>\n",
       "      <td>0.000005</td>\n",
       "      <td>0.000000</td>\n",
       "      <td>0.000000</td>\n",
       "    </tr>\n",
       "  </tbody>\n",
       "</table>\n",
       "</div>"
      ],
      "text/plain": [
       "          Ripser       OAT     GUDHI\n",
       "Ripser  0.000000  0.000005  0.000005\n",
       "OAT     0.000005  0.000000  0.000000\n",
       "GUDHI   0.000005  0.000000  0.000000"
      ]
     },
     "execution_count": 18,
     "metadata": {},
     "output_type": "execute_result"
    }
   ],
   "source": [
    "## Wasserstein Distance between dimension 1 features\n",
    "cb.barcode_distance_matrix(\n",
    "        [ripser_res, oat_res, gudhi_res],\n",
    "        cb.wasserstein_distance,\n",
    "        dim=1,\n",
    "        labels=['Ripser', 'OAT', 'GUDHI'],\n",
    "    )"
   ]
  },
  {
   "cell_type": "code",
   "execution_count": 19,
   "metadata": {},
   "outputs": [
    {
     "data": {
      "text/html": [
       "<div>\n",
       "<style scoped>\n",
       "    .dataframe tbody tr th:only-of-type {\n",
       "        vertical-align: middle;\n",
       "    }\n",
       "\n",
       "    .dataframe tbody tr th {\n",
       "        vertical-align: top;\n",
       "    }\n",
       "\n",
       "    .dataframe thead th {\n",
       "        text-align: right;\n",
       "    }\n",
       "</style>\n",
       "<table border=\"1\" class=\"dataframe\">\n",
       "  <thead>\n",
       "    <tr style=\"text-align: right;\">\n",
       "      <th></th>\n",
       "      <th>Ripser</th>\n",
       "      <th>OAT</th>\n",
       "      <th>GUDHI</th>\n",
       "    </tr>\n",
       "  </thead>\n",
       "  <tbody>\n",
       "    <tr>\n",
       "      <th>Ripser</th>\n",
       "      <td>0.000000e+00</td>\n",
       "      <td>1.150975e-08</td>\n",
       "      <td>1.150975e-08</td>\n",
       "    </tr>\n",
       "    <tr>\n",
       "      <th>OAT</th>\n",
       "      <td>1.150975e-08</td>\n",
       "      <td>0.000000e+00</td>\n",
       "      <td>0.000000e+00</td>\n",
       "    </tr>\n",
       "    <tr>\n",
       "      <th>GUDHI</th>\n",
       "      <td>1.150975e-08</td>\n",
       "      <td>0.000000e+00</td>\n",
       "      <td>0.000000e+00</td>\n",
       "    </tr>\n",
       "  </tbody>\n",
       "</table>\n",
       "</div>"
      ],
      "text/plain": [
       "              Ripser           OAT         GUDHI\n",
       "Ripser  0.000000e+00  1.150975e-08  1.150975e-08\n",
       "OAT     1.150975e-08  0.000000e+00  0.000000e+00\n",
       "GUDHI   1.150975e-08  0.000000e+00  0.000000e+00"
      ]
     },
     "execution_count": 19,
     "metadata": {},
     "output_type": "execute_result"
    }
   ],
   "source": [
    "## Wasserstein Distance between dimension 2 features\n",
    "cb.barcode_distance_matrix(\n",
    "        [ripser_res, oat_res, gudhi_res],\n",
    "        cb.wasserstein_distance,\n",
    "        dim=2,\n",
    "        labels=['Ripser', 'OAT', 'GUDHI'],\n",
    "    )"
   ]
  },
  {
   "cell_type": "code",
   "execution_count": 20,
   "metadata": {},
   "outputs": [
    {
     "data": {
      "text/html": [
       "<div>\n",
       "<style scoped>\n",
       "    .dataframe tbody tr th:only-of-type {\n",
       "        vertical-align: middle;\n",
       "    }\n",
       "\n",
       "    .dataframe tbody tr th {\n",
       "        vertical-align: top;\n",
       "    }\n",
       "\n",
       "    .dataframe thead th {\n",
       "        text-align: right;\n",
       "    }\n",
       "</style>\n",
       "<table border=\"1\" class=\"dataframe\">\n",
       "  <thead>\n",
       "    <tr style=\"text-align: right;\">\n",
       "      <th></th>\n",
       "      <th>Ripser</th>\n",
       "      <th>OAT</th>\n",
       "      <th>GUDHI</th>\n",
       "    </tr>\n",
       "  </thead>\n",
       "  <tbody>\n",
       "    <tr>\n",
       "      <th>Ripser</th>\n",
       "      <td>0.000000</td>\n",
       "      <td>0.000009</td>\n",
       "      <td>0.000009</td>\n",
       "    </tr>\n",
       "    <tr>\n",
       "      <th>OAT</th>\n",
       "      <td>0.000009</td>\n",
       "      <td>0.000000</td>\n",
       "      <td>0.000000</td>\n",
       "    </tr>\n",
       "    <tr>\n",
       "      <th>GUDHI</th>\n",
       "      <td>0.000009</td>\n",
       "      <td>0.000000</td>\n",
       "      <td>0.000000</td>\n",
       "    </tr>\n",
       "  </tbody>\n",
       "</table>\n",
       "</div>"
      ],
      "text/plain": [
       "          Ripser       OAT     GUDHI\n",
       "Ripser  0.000000  0.000009  0.000009\n",
       "OAT     0.000009  0.000000  0.000000\n",
       "GUDHI   0.000009  0.000000  0.000000"
      ]
     },
     "execution_count": 20,
     "metadata": {},
     "output_type": "execute_result"
    }
   ],
   "source": [
    "## Persistance Images Distance between dimension 0 features\n",
    "cb.barcode_distance_matrix(\n",
    "        [ripser_res, oat_res, gudhi_res],\n",
    "        cb.persistance_image_distance,\n",
    "        dim=0,\n",
    "        labels=['Ripser', 'OAT', 'GUDHI'],\n",
    "    )"
   ]
  },
  {
   "cell_type": "code",
   "execution_count": 21,
   "metadata": {},
   "outputs": [
    {
     "data": {
      "text/html": [
       "<div>\n",
       "<style scoped>\n",
       "    .dataframe tbody tr th:only-of-type {\n",
       "        vertical-align: middle;\n",
       "    }\n",
       "\n",
       "    .dataframe tbody tr th {\n",
       "        vertical-align: top;\n",
       "    }\n",
       "\n",
       "    .dataframe thead th {\n",
       "        text-align: right;\n",
       "    }\n",
       "</style>\n",
       "<table border=\"1\" class=\"dataframe\">\n",
       "  <thead>\n",
       "    <tr style=\"text-align: right;\">\n",
       "      <th></th>\n",
       "      <th>Ripser</th>\n",
       "      <th>OAT</th>\n",
       "      <th>GUDHI</th>\n",
       "    </tr>\n",
       "  </thead>\n",
       "  <tbody>\n",
       "    <tr>\n",
       "      <th>Ripser</th>\n",
       "      <td>0.00000</td>\n",
       "      <td>0.00001</td>\n",
       "      <td>0.00001</td>\n",
       "    </tr>\n",
       "    <tr>\n",
       "      <th>OAT</th>\n",
       "      <td>0.00001</td>\n",
       "      <td>0.00000</td>\n",
       "      <td>0.00000</td>\n",
       "    </tr>\n",
       "    <tr>\n",
       "      <th>GUDHI</th>\n",
       "      <td>0.00001</td>\n",
       "      <td>0.00000</td>\n",
       "      <td>0.00000</td>\n",
       "    </tr>\n",
       "  </tbody>\n",
       "</table>\n",
       "</div>"
      ],
      "text/plain": [
       "         Ripser      OAT    GUDHI\n",
       "Ripser  0.00000  0.00001  0.00001\n",
       "OAT     0.00001  0.00000  0.00000\n",
       "GUDHI   0.00001  0.00000  0.00000"
      ]
     },
     "execution_count": 21,
     "metadata": {},
     "output_type": "execute_result"
    }
   ],
   "source": [
    "## Persistance Images Distance between dimension 1 features\n",
    "cb.barcode_distance_matrix(\n",
    "        [ripser_res, oat_res, gudhi_res],\n",
    "        cb.persistance_image_distance,\n",
    "        dim=1,\n",
    "        labels=['Ripser', 'OAT', 'GUDHI'],\n",
    "    )"
   ]
  },
  {
   "cell_type": "code",
   "execution_count": 22,
   "metadata": {},
   "outputs": [
    {
     "data": {
      "text/html": [
       "<div>\n",
       "<style scoped>\n",
       "    .dataframe tbody tr th:only-of-type {\n",
       "        vertical-align: middle;\n",
       "    }\n",
       "\n",
       "    .dataframe tbody tr th {\n",
       "        vertical-align: top;\n",
       "    }\n",
       "\n",
       "    .dataframe thead th {\n",
       "        text-align: right;\n",
       "    }\n",
       "</style>\n",
       "<table border=\"1\" class=\"dataframe\">\n",
       "  <thead>\n",
       "    <tr style=\"text-align: right;\">\n",
       "      <th></th>\n",
       "      <th>Ripser</th>\n",
       "      <th>OAT</th>\n",
       "      <th>GUDHI</th>\n",
       "    </tr>\n",
       "  </thead>\n",
       "  <tbody>\n",
       "    <tr>\n",
       "      <th>Ripser</th>\n",
       "      <td>0.000000e+00</td>\n",
       "      <td>2.992254e-07</td>\n",
       "      <td>2.992254e-07</td>\n",
       "    </tr>\n",
       "    <tr>\n",
       "      <th>OAT</th>\n",
       "      <td>2.992254e-07</td>\n",
       "      <td>0.000000e+00</td>\n",
       "      <td>0.000000e+00</td>\n",
       "    </tr>\n",
       "    <tr>\n",
       "      <th>GUDHI</th>\n",
       "      <td>2.992254e-07</td>\n",
       "      <td>0.000000e+00</td>\n",
       "      <td>0.000000e+00</td>\n",
       "    </tr>\n",
       "  </tbody>\n",
       "</table>\n",
       "</div>"
      ],
      "text/plain": [
       "              Ripser           OAT         GUDHI\n",
       "Ripser  0.000000e+00  2.992254e-07  2.992254e-07\n",
       "OAT     2.992254e-07  0.000000e+00  0.000000e+00\n",
       "GUDHI   2.992254e-07  0.000000e+00  0.000000e+00"
      ]
     },
     "execution_count": 22,
     "metadata": {},
     "output_type": "execute_result"
    }
   ],
   "source": [
    "## Persistance Images Distance between dimension 2 features\n",
    "cb.barcode_distance_matrix(\n",
    "        [ripser_res, oat_res, gudhi_res],\n",
    "        cb.persistance_image_distance,\n",
    "        dim=2,\n",
    "        labels=['Ripser', 'OAT', 'GUDHI'],\n",
    "    )"
   ]
  },
  {
   "cell_type": "markdown",
   "metadata": {},
   "source": [
    "### Test 3: Random Network\n",
    "\n",
    "Test all the libraries on an adjacency matrix for a randomly created network."
   ]
  },
  {
   "cell_type": "markdown",
   "metadata": {},
   "source": [
    "#### Set Up the Test"
   ]
  },
  {
   "cell_type": "code",
   "execution_count": 23,
   "metadata": {},
   "outputs": [
    {
     "data": {
      "text/plain": [
       "<200x200 sparse matrix of type '<class 'numpy.float64'>'\n",
       "\twith 10150 stored elements in Compressed Sparse Row format>"
      ]
     },
     "execution_count": 23,
     "metadata": {},
     "output_type": "execute_result"
    }
   ],
   "source": [
    "# test parameters\n",
    "MAX_DIMENSION = 2\n",
    "NUMBER_OF_NODES = 200\n",
    "NETWORK_DENSITY = 0.25\n",
    "\n",
    "# get points\n",
    "adj = rc.erdos_renyi_complex(\n",
    "        NUMBER_OF_NODES,\n",
    "        density=NETWORK_DENSITY,\n",
    "        seed=10\n",
    "    )\n",
    "\n",
    "# check\n",
    "adj"
   ]
  },
  {
   "cell_type": "markdown",
   "metadata": {},
   "source": [
    "#### Use the Three Libraries\n",
    "Calculate homology using all three libraries. Keep track of\n",
    "1. The barcodes we find\n",
    "2. How long they all take"
   ]
  },
  {
   "cell_type": "code",
   "execution_count": 24,
   "metadata": {},
   "outputs": [],
   "source": [
    "ripser_res, ripser_t = ripser_from_adj_martix(adj, MAX_DIMENSION)\n",
    "oat_res, oat_t = oat_from_adj_martix(adj, MAX_DIMENSION)\n",
    "gudhi_res, gudhi_t = gudhi_from_adj_martix(adj, MAX_DIMENSION)"
   ]
  },
  {
   "cell_type": "markdown",
   "metadata": {},
   "source": [
    "#### Comparisons\n",
    "The first code block compares the time each library took. The other ones use different distance metrics and different dimensions to compare the outputted barcodes."
   ]
  },
  {
   "cell_type": "code",
   "execution_count": 25,
   "metadata": {},
   "outputs": [
    {
     "data": {
      "text/html": [
       "<div>\n",
       "<style scoped>\n",
       "    .dataframe tbody tr th:only-of-type {\n",
       "        vertical-align: middle;\n",
       "    }\n",
       "\n",
       "    .dataframe tbody tr th {\n",
       "        vertical-align: top;\n",
       "    }\n",
       "\n",
       "    .dataframe thead th {\n",
       "        text-align: right;\n",
       "    }\n",
       "</style>\n",
       "<table border=\"1\" class=\"dataframe\">\n",
       "  <thead>\n",
       "    <tr style=\"text-align: right;\">\n",
       "      <th></th>\n",
       "      <th>Library</th>\n",
       "      <th>Time (sec)</th>\n",
       "    </tr>\n",
       "  </thead>\n",
       "  <tbody>\n",
       "    <tr>\n",
       "      <th>0</th>\n",
       "      <td>Ripser</td>\n",
       "      <td>17.742723</td>\n",
       "    </tr>\n",
       "    <tr>\n",
       "      <th>1</th>\n",
       "      <td>OAT</td>\n",
       "      <td>152.500693</td>\n",
       "    </tr>\n",
       "    <tr>\n",
       "      <th>2</th>\n",
       "      <td>GUDHI</td>\n",
       "      <td>1.515167</td>\n",
       "    </tr>\n",
       "  </tbody>\n",
       "</table>\n",
       "</div>"
      ],
      "text/plain": [
       "  Library  Time (sec)\n",
       "0  Ripser   17.742723\n",
       "1     OAT  152.500693\n",
       "2   GUDHI    1.515167"
      ]
     },
     "execution_count": 25,
     "metadata": {},
     "output_type": "execute_result"
    }
   ],
   "source": [
    "## Time it takes\n",
    "pd.DataFrame(data={'Library': ['Ripser', 'OAT', 'GUDHI'], 'Time (sec)': [ripser_t, oat_t, gudhi_t]})"
   ]
  },
  {
   "cell_type": "code",
   "execution_count": 26,
   "metadata": {},
   "outputs": [
    {
     "data": {
      "text/html": [
       "<div>\n",
       "<style scoped>\n",
       "    .dataframe tbody tr th:only-of-type {\n",
       "        vertical-align: middle;\n",
       "    }\n",
       "\n",
       "    .dataframe tbody tr th {\n",
       "        vertical-align: top;\n",
       "    }\n",
       "\n",
       "    .dataframe thead th {\n",
       "        text-align: right;\n",
       "    }\n",
       "</style>\n",
       "<table border=\"1\" class=\"dataframe\">\n",
       "  <thead>\n",
       "    <tr style=\"text-align: right;\">\n",
       "      <th></th>\n",
       "      <th>Ripser</th>\n",
       "      <th>OAT</th>\n",
       "      <th>GUDHI</th>\n",
       "    </tr>\n",
       "  </thead>\n",
       "  <tbody>\n",
       "    <tr>\n",
       "      <th>Ripser</th>\n",
       "      <td>0.000000</td>\n",
       "      <td>0.000002</td>\n",
       "      <td>0.000002</td>\n",
       "    </tr>\n",
       "    <tr>\n",
       "      <th>OAT</th>\n",
       "      <td>0.000002</td>\n",
       "      <td>0.000000</td>\n",
       "      <td>0.000000</td>\n",
       "    </tr>\n",
       "    <tr>\n",
       "      <th>GUDHI</th>\n",
       "      <td>0.000002</td>\n",
       "      <td>0.000000</td>\n",
       "      <td>0.000000</td>\n",
       "    </tr>\n",
       "  </tbody>\n",
       "</table>\n",
       "</div>"
      ],
      "text/plain": [
       "          Ripser       OAT     GUDHI\n",
       "Ripser  0.000000  0.000002  0.000002\n",
       "OAT     0.000002  0.000000  0.000000\n",
       "GUDHI   0.000002  0.000000  0.000000"
      ]
     },
     "execution_count": 26,
     "metadata": {},
     "output_type": "execute_result"
    }
   ],
   "source": [
    "## Wasserstein Distance between dimension 0 features\n",
    "cb.barcode_distance_matrix(\n",
    "        [ripser_res, oat_res, gudhi_res],\n",
    "        cb.wasserstein_distance,\n",
    "        dim=0,\n",
    "        labels=['Ripser', 'OAT', 'GUDHI'],\n",
    "    )"
   ]
  },
  {
   "cell_type": "code",
   "execution_count": 27,
   "metadata": {},
   "outputs": [
    {
     "data": {
      "text/html": [
       "<div>\n",
       "<style scoped>\n",
       "    .dataframe tbody tr th:only-of-type {\n",
       "        vertical-align: middle;\n",
       "    }\n",
       "\n",
       "    .dataframe tbody tr th {\n",
       "        vertical-align: top;\n",
       "    }\n",
       "\n",
       "    .dataframe thead th {\n",
       "        text-align: right;\n",
       "    }\n",
       "</style>\n",
       "<table border=\"1\" class=\"dataframe\">\n",
       "  <thead>\n",
       "    <tr style=\"text-align: right;\">\n",
       "      <th></th>\n",
       "      <th>Ripser</th>\n",
       "      <th>OAT</th>\n",
       "      <th>GUDHI</th>\n",
       "    </tr>\n",
       "  </thead>\n",
       "  <tbody>\n",
       "    <tr>\n",
       "      <th>Ripser</th>\n",
       "      <td>0.000000</td>\n",
       "      <td>0.017699</td>\n",
       "      <td>0.017699</td>\n",
       "    </tr>\n",
       "    <tr>\n",
       "      <th>OAT</th>\n",
       "      <td>0.017699</td>\n",
       "      <td>0.000000</td>\n",
       "      <td>0.000000</td>\n",
       "    </tr>\n",
       "    <tr>\n",
       "      <th>GUDHI</th>\n",
       "      <td>0.017699</td>\n",
       "      <td>0.000000</td>\n",
       "      <td>0.000000</td>\n",
       "    </tr>\n",
       "  </tbody>\n",
       "</table>\n",
       "</div>"
      ],
      "text/plain": [
       "          Ripser       OAT     GUDHI\n",
       "Ripser  0.000000  0.017699  0.017699\n",
       "OAT     0.017699  0.000000  0.000000\n",
       "GUDHI   0.017699  0.000000  0.000000"
      ]
     },
     "execution_count": 27,
     "metadata": {},
     "output_type": "execute_result"
    }
   ],
   "source": [
    "## Wasserstein Distance between dimension 1 features\n",
    "cb.barcode_distance_matrix(\n",
    "        [ripser_res, oat_res, gudhi_res],\n",
    "        cb.wasserstein_distance,\n",
    "        dim=1,\n",
    "        labels=['Ripser', 'OAT', 'GUDHI'],\n",
    "    )"
   ]
  },
  {
   "cell_type": "code",
   "execution_count": 28,
   "metadata": {},
   "outputs": [
    {
     "data": {
      "text/html": [
       "<div>\n",
       "<style scoped>\n",
       "    .dataframe tbody tr th:only-of-type {\n",
       "        vertical-align: middle;\n",
       "    }\n",
       "\n",
       "    .dataframe tbody tr th {\n",
       "        vertical-align: top;\n",
       "    }\n",
       "\n",
       "    .dataframe thead th {\n",
       "        text-align: right;\n",
       "    }\n",
       "</style>\n",
       "<table border=\"1\" class=\"dataframe\">\n",
       "  <thead>\n",
       "    <tr style=\"text-align: right;\">\n",
       "      <th></th>\n",
       "      <th>Ripser</th>\n",
       "      <th>OAT</th>\n",
       "      <th>GUDHI</th>\n",
       "    </tr>\n",
       "  </thead>\n",
       "  <tbody>\n",
       "    <tr>\n",
       "      <th>Ripser</th>\n",
       "      <td>0.000000</td>\n",
       "      <td>0.027243</td>\n",
       "      <td>0.027243</td>\n",
       "    </tr>\n",
       "    <tr>\n",
       "      <th>OAT</th>\n",
       "      <td>0.027243</td>\n",
       "      <td>0.000000</td>\n",
       "      <td>0.000000</td>\n",
       "    </tr>\n",
       "    <tr>\n",
       "      <th>GUDHI</th>\n",
       "      <td>0.027243</td>\n",
       "      <td>0.000000</td>\n",
       "      <td>0.000000</td>\n",
       "    </tr>\n",
       "  </tbody>\n",
       "</table>\n",
       "</div>"
      ],
      "text/plain": [
       "          Ripser       OAT     GUDHI\n",
       "Ripser  0.000000  0.027243  0.027243\n",
       "OAT     0.027243  0.000000  0.000000\n",
       "GUDHI   0.027243  0.000000  0.000000"
      ]
     },
     "execution_count": 28,
     "metadata": {},
     "output_type": "execute_result"
    }
   ],
   "source": [
    "## Wasserstein Distance between dimension 2 features\n",
    "cb.barcode_distance_matrix(\n",
    "        [ripser_res, oat_res, gudhi_res],\n",
    "        cb.wasserstein_distance,\n",
    "        dim=2,\n",
    "        labels=['Ripser', 'OAT', 'GUDHI'],\n",
    "    )"
   ]
  },
  {
   "cell_type": "code",
   "execution_count": 29,
   "metadata": {},
   "outputs": [
    {
     "data": {
      "text/html": [
       "<div>\n",
       "<style scoped>\n",
       "    .dataframe tbody tr th:only-of-type {\n",
       "        vertical-align: middle;\n",
       "    }\n",
       "\n",
       "    .dataframe tbody tr th {\n",
       "        vertical-align: top;\n",
       "    }\n",
       "\n",
       "    .dataframe thead th {\n",
       "        text-align: right;\n",
       "    }\n",
       "</style>\n",
       "<table border=\"1\" class=\"dataframe\">\n",
       "  <thead>\n",
       "    <tr style=\"text-align: right;\">\n",
       "      <th></th>\n",
       "      <th>Ripser</th>\n",
       "      <th>OAT</th>\n",
       "      <th>GUDHI</th>\n",
       "    </tr>\n",
       "  </thead>\n",
       "  <tbody>\n",
       "    <tr>\n",
       "      <th>Ripser</th>\n",
       "      <td>0.000000</td>\n",
       "      <td>0.000005</td>\n",
       "      <td>0.000005</td>\n",
       "    </tr>\n",
       "    <tr>\n",
       "      <th>OAT</th>\n",
       "      <td>0.000005</td>\n",
       "      <td>0.000000</td>\n",
       "      <td>0.000000</td>\n",
       "    </tr>\n",
       "    <tr>\n",
       "      <th>GUDHI</th>\n",
       "      <td>0.000005</td>\n",
       "      <td>0.000000</td>\n",
       "      <td>0.000000</td>\n",
       "    </tr>\n",
       "  </tbody>\n",
       "</table>\n",
       "</div>"
      ],
      "text/plain": [
       "          Ripser       OAT     GUDHI\n",
       "Ripser  0.000000  0.000005  0.000005\n",
       "OAT     0.000005  0.000000  0.000000\n",
       "GUDHI   0.000005  0.000000  0.000000"
      ]
     },
     "execution_count": 29,
     "metadata": {},
     "output_type": "execute_result"
    }
   ],
   "source": [
    "## Persistance Images Distance between dimension 0 features\n",
    "cb.barcode_distance_matrix(\n",
    "        [ripser_res, oat_res, gudhi_res],\n",
    "        cb.persistance_image_distance,\n",
    "        dim=0,\n",
    "        labels=['Ripser', 'OAT', 'GUDHI'],\n",
    "    )"
   ]
  },
  {
   "cell_type": "code",
   "execution_count": 30,
   "metadata": {},
   "outputs": [
    {
     "data": {
      "text/html": [
       "<div>\n",
       "<style scoped>\n",
       "    .dataframe tbody tr th:only-of-type {\n",
       "        vertical-align: middle;\n",
       "    }\n",
       "\n",
       "    .dataframe tbody tr th {\n",
       "        vertical-align: top;\n",
       "    }\n",
       "\n",
       "    .dataframe thead th {\n",
       "        text-align: right;\n",
       "    }\n",
       "</style>\n",
       "<table border=\"1\" class=\"dataframe\">\n",
       "  <thead>\n",
       "    <tr style=\"text-align: right;\">\n",
       "      <th></th>\n",
       "      <th>Ripser</th>\n",
       "      <th>OAT</th>\n",
       "      <th>GUDHI</th>\n",
       "    </tr>\n",
       "  </thead>\n",
       "  <tbody>\n",
       "    <tr>\n",
       "      <th>Ripser</th>\n",
       "      <td>0.00000</td>\n",
       "      <td>0.00641</td>\n",
       "      <td>0.00641</td>\n",
       "    </tr>\n",
       "    <tr>\n",
       "      <th>OAT</th>\n",
       "      <td>0.00641</td>\n",
       "      <td>0.00000</td>\n",
       "      <td>0.00000</td>\n",
       "    </tr>\n",
       "    <tr>\n",
       "      <th>GUDHI</th>\n",
       "      <td>0.00641</td>\n",
       "      <td>0.00000</td>\n",
       "      <td>0.00000</td>\n",
       "    </tr>\n",
       "  </tbody>\n",
       "</table>\n",
       "</div>"
      ],
      "text/plain": [
       "         Ripser      OAT    GUDHI\n",
       "Ripser  0.00000  0.00641  0.00641\n",
       "OAT     0.00641  0.00000  0.00000\n",
       "GUDHI   0.00641  0.00000  0.00000"
      ]
     },
     "execution_count": 30,
     "metadata": {},
     "output_type": "execute_result"
    }
   ],
   "source": [
    "## Persistance Images Distance between dimension 1 features\n",
    "cb.barcode_distance_matrix(\n",
    "        [ripser_res, oat_res, gudhi_res],\n",
    "        cb.persistance_image_distance,\n",
    "        dim=1,\n",
    "        labels=['Ripser', 'OAT', 'GUDHI'],\n",
    "    )"
   ]
  },
  {
   "cell_type": "code",
   "execution_count": 31,
   "metadata": {},
   "outputs": [
    {
     "data": {
      "text/html": [
       "<div>\n",
       "<style scoped>\n",
       "    .dataframe tbody tr th:only-of-type {\n",
       "        vertical-align: middle;\n",
       "    }\n",
       "\n",
       "    .dataframe tbody tr th {\n",
       "        vertical-align: top;\n",
       "    }\n",
       "\n",
       "    .dataframe thead th {\n",
       "        text-align: right;\n",
       "    }\n",
       "</style>\n",
       "<table border=\"1\" class=\"dataframe\">\n",
       "  <thead>\n",
       "    <tr style=\"text-align: right;\">\n",
       "      <th></th>\n",
       "      <th>Ripser</th>\n",
       "      <th>OAT</th>\n",
       "      <th>GUDHI</th>\n",
       "    </tr>\n",
       "  </thead>\n",
       "  <tbody>\n",
       "    <tr>\n",
       "      <th>Ripser</th>\n",
       "      <td>0.000000</td>\n",
       "      <td>0.021741</td>\n",
       "      <td>0.021741</td>\n",
       "    </tr>\n",
       "    <tr>\n",
       "      <th>OAT</th>\n",
       "      <td>0.021741</td>\n",
       "      <td>0.000000</td>\n",
       "      <td>0.000000</td>\n",
       "    </tr>\n",
       "    <tr>\n",
       "      <th>GUDHI</th>\n",
       "      <td>0.021741</td>\n",
       "      <td>0.000000</td>\n",
       "      <td>0.000000</td>\n",
       "    </tr>\n",
       "  </tbody>\n",
       "</table>\n",
       "</div>"
      ],
      "text/plain": [
       "          Ripser       OAT     GUDHI\n",
       "Ripser  0.000000  0.021741  0.021741\n",
       "OAT     0.021741  0.000000  0.000000\n",
       "GUDHI   0.021741  0.000000  0.000000"
      ]
     },
     "execution_count": 31,
     "metadata": {},
     "output_type": "execute_result"
    }
   ],
   "source": [
    "## Persistance Images Distance between dimension 2 features\n",
    "cb.barcode_distance_matrix(\n",
    "        [ripser_res, oat_res, gudhi_res],\n",
    "        cb.persistance_image_distance,\n",
    "        dim=2,\n",
    "        labels=['Ripser', 'OAT', 'GUDHI'],\n",
    "    )"
   ]
  },
  {
   "cell_type": "markdown",
   "metadata": {},
   "source": [
    "### Test 4: Real Network\n",
    "\n",
    "Test all the libraries on an adjacency matrix for a thresholded version of the network."
   ]
  },
  {
   "cell_type": "code",
   "execution_count": 32,
   "metadata": {},
   "outputs": [
    {
     "data": {
      "text/plain": [
       "'The network has 8337 nodes and 147629 edges'"
      ]
     },
     "execution_count": 32,
     "metadata": {},
     "output_type": "execute_result"
    }
   ],
   "source": [
    "# test parameters\n",
    "MAX_DIMENSION = 2\n",
    "NETWORK_DENSITY = 0.25\n",
    "DATA_PATH = 'datasets/concept_network/'\n",
    "CONCEPT_FILE = 'articles_category_for_2l_abstracts_concepts_processed_v1_EX_102.csv.gz' # Applied Mathematics\n",
    "\n",
    "# config\n",
    "G = mn.gen_concept_network(\n",
    "        DATA_PATH+CONCEPT_FILE,\n",
    "        relevance_cutoff=0.7,\n",
    "        min_article_freq=0.00006, # 0.006%\n",
    "        max_article_freq=0.0005, # 0.05%\n",
    "        normalize_year=True,\n",
    "        year_min=1920\n",
    "    ) # use a filtered data file to make the samples\n",
    "adj = nx.adjacency_matrix(G, weight='norm_year') # adjacency matrix\n",
    "node_births = np.array(list(nx.get_node_attributes(G, 'norm_year').values())) # node orgin years, these break the cycle reps (idk why)\n",
    "adj.setdiag(node_births)\n",
    "f'The network has {len(G.nodes)} nodes and {len(G.edges)} edges'"
   ]
  },
  {
   "cell_type": "markdown",
   "metadata": {},
   "source": [
    "#### Use the Three Libraries\n",
    "Calculate homology using all three libraries. Keep track of\n",
    "1. The barcodes we find\n",
    "2. How long they all take"
   ]
  },
  {
   "cell_type": "code",
   "execution_count": 33,
   "metadata": {},
   "outputs": [],
   "source": [
    "ripser_res, ripser_t = ripser_from_adj_martix(adj, MAX_DIMENSION)\n",
    "oat_res, oat_t = oat_from_adj_martix(adj, MAX_DIMENSION)\n",
    "gudhi_res, gudhi_t = gudhi_from_adj_martix(adj, MAX_DIMENSION)"
   ]
  },
  {
   "cell_type": "markdown",
   "metadata": {},
   "source": [
    "#### Comparisons\n",
    "The first code block compares the time each library took. The other ones use different distance metrics and different dimensions to compare the outputted barcodes."
   ]
  },
  {
   "cell_type": "code",
   "execution_count": 34,
   "metadata": {},
   "outputs": [
    {
     "data": {
      "text/html": [
       "<div>\n",
       "<style scoped>\n",
       "    .dataframe tbody tr th:only-of-type {\n",
       "        vertical-align: middle;\n",
       "    }\n",
       "\n",
       "    .dataframe tbody tr th {\n",
       "        vertical-align: top;\n",
       "    }\n",
       "\n",
       "    .dataframe thead th {\n",
       "        text-align: right;\n",
       "    }\n",
       "</style>\n",
       "<table border=\"1\" class=\"dataframe\">\n",
       "  <thead>\n",
       "    <tr style=\"text-align: right;\">\n",
       "      <th></th>\n",
       "      <th>Library</th>\n",
       "      <th>Time (sec)</th>\n",
       "    </tr>\n",
       "  </thead>\n",
       "  <tbody>\n",
       "    <tr>\n",
       "      <th>0</th>\n",
       "      <td>Ripser</td>\n",
       "      <td>17.633925</td>\n",
       "    </tr>\n",
       "    <tr>\n",
       "      <th>1</th>\n",
       "      <td>OAT</td>\n",
       "      <td>152.088452</td>\n",
       "    </tr>\n",
       "    <tr>\n",
       "      <th>2</th>\n",
       "      <td>GUDHI</td>\n",
       "      <td>6.190452</td>\n",
       "    </tr>\n",
       "  </tbody>\n",
       "</table>\n",
       "</div>"
      ],
      "text/plain": [
       "  Library  Time (sec)\n",
       "0  Ripser   17.633925\n",
       "1     OAT  152.088452\n",
       "2   GUDHI    6.190452"
      ]
     },
     "execution_count": 34,
     "metadata": {},
     "output_type": "execute_result"
    }
   ],
   "source": [
    "## Time it takes\n",
    "pd.DataFrame(data={'Library': ['Ripser', 'OAT', 'GUDHI'], 'Time (sec)': [ripser_t, oat_t, gudhi_t]})"
   ]
  },
  {
   "cell_type": "code",
   "execution_count": 35,
   "metadata": {},
   "outputs": [
    {
     "data": {
      "text/html": [
       "<div>\n",
       "<style scoped>\n",
       "    .dataframe tbody tr th:only-of-type {\n",
       "        vertical-align: middle;\n",
       "    }\n",
       "\n",
       "    .dataframe tbody tr th {\n",
       "        vertical-align: top;\n",
       "    }\n",
       "\n",
       "    .dataframe thead th {\n",
       "        text-align: right;\n",
       "    }\n",
       "</style>\n",
       "<table border=\"1\" class=\"dataframe\">\n",
       "  <thead>\n",
       "    <tr style=\"text-align: right;\">\n",
       "      <th></th>\n",
       "      <th>Ripser</th>\n",
       "      <th>OAT</th>\n",
       "      <th>GUDHI</th>\n",
       "    </tr>\n",
       "  </thead>\n",
       "  <tbody>\n",
       "    <tr>\n",
       "      <th>Ripser</th>\n",
       "      <td>0.000000</td>\n",
       "      <td>0.000059</td>\n",
       "      <td>3120.623768</td>\n",
       "    </tr>\n",
       "    <tr>\n",
       "      <th>OAT</th>\n",
       "      <td>0.000059</td>\n",
       "      <td>0.000000</td>\n",
       "      <td>3120.623762</td>\n",
       "    </tr>\n",
       "    <tr>\n",
       "      <th>GUDHI</th>\n",
       "      <td>3120.623768</td>\n",
       "      <td>3120.623762</td>\n",
       "      <td>0.000000</td>\n",
       "    </tr>\n",
       "  </tbody>\n",
       "</table>\n",
       "</div>"
      ],
      "text/plain": [
       "             Ripser          OAT        GUDHI\n",
       "Ripser     0.000000     0.000059  3120.623768\n",
       "OAT        0.000059     0.000000  3120.623762\n",
       "GUDHI   3120.623768  3120.623762     0.000000"
      ]
     },
     "execution_count": 35,
     "metadata": {},
     "output_type": "execute_result"
    }
   ],
   "source": [
    "## Wasserstein Distance between dimension 0 features\n",
    "cb.barcode_distance_matrix(\n",
    "        [ripser_res, oat_res, gudhi_res],\n",
    "        cb.wasserstein_distance,\n",
    "        dim=0,\n",
    "        labels=['Ripser', 'OAT', 'GUDHI'],\n",
    "    )"
   ]
  },
  {
   "cell_type": "code",
   "execution_count": 36,
   "metadata": {},
   "outputs": [
    {
     "data": {
      "text/html": [
       "<div>\n",
       "<style scoped>\n",
       "    .dataframe tbody tr th:only-of-type {\n",
       "        vertical-align: middle;\n",
       "    }\n",
       "\n",
       "    .dataframe tbody tr th {\n",
       "        vertical-align: top;\n",
       "    }\n",
       "\n",
       "    .dataframe thead th {\n",
       "        text-align: right;\n",
       "    }\n",
       "</style>\n",
       "<table border=\"1\" class=\"dataframe\">\n",
       "  <thead>\n",
       "    <tr style=\"text-align: right;\">\n",
       "      <th></th>\n",
       "      <th>Ripser</th>\n",
       "      <th>OAT</th>\n",
       "      <th>GUDHI</th>\n",
       "    </tr>\n",
       "  </thead>\n",
       "  <tbody>\n",
       "    <tr>\n",
       "      <th>Ripser</th>\n",
       "      <td>0.000000</td>\n",
       "      <td>0.000522</td>\n",
       "      <td>0.000522</td>\n",
       "    </tr>\n",
       "    <tr>\n",
       "      <th>OAT</th>\n",
       "      <td>0.000522</td>\n",
       "      <td>0.000000</td>\n",
       "      <td>0.000000</td>\n",
       "    </tr>\n",
       "    <tr>\n",
       "      <th>GUDHI</th>\n",
       "      <td>0.000522</td>\n",
       "      <td>0.000000</td>\n",
       "      <td>0.000000</td>\n",
       "    </tr>\n",
       "  </tbody>\n",
       "</table>\n",
       "</div>"
      ],
      "text/plain": [
       "          Ripser       OAT     GUDHI\n",
       "Ripser  0.000000  0.000522  0.000522\n",
       "OAT     0.000522  0.000000  0.000000\n",
       "GUDHI   0.000522  0.000000  0.000000"
      ]
     },
     "execution_count": 36,
     "metadata": {},
     "output_type": "execute_result"
    }
   ],
   "source": [
    "## Wasserstein Distance between dimension 1 features\n",
    "cb.barcode_distance_matrix(\n",
    "        [ripser_res, oat_res, gudhi_res],\n",
    "        cb.wasserstein_distance,\n",
    "        dim=1,\n",
    "        labels=['Ripser', 'OAT', 'GUDHI'],\n",
    "    )"
   ]
  },
  {
   "cell_type": "code",
   "execution_count": 37,
   "metadata": {},
   "outputs": [
    {
     "data": {
      "text/html": [
       "<div>\n",
       "<style scoped>\n",
       "    .dataframe tbody tr th:only-of-type {\n",
       "        vertical-align: middle;\n",
       "    }\n",
       "\n",
       "    .dataframe tbody tr th {\n",
       "        vertical-align: top;\n",
       "    }\n",
       "\n",
       "    .dataframe thead th {\n",
       "        text-align: right;\n",
       "    }\n",
       "</style>\n",
       "<table border=\"1\" class=\"dataframe\">\n",
       "  <thead>\n",
       "    <tr style=\"text-align: right;\">\n",
       "      <th></th>\n",
       "      <th>Ripser</th>\n",
       "      <th>OAT</th>\n",
       "      <th>GUDHI</th>\n",
       "    </tr>\n",
       "  </thead>\n",
       "  <tbody>\n",
       "    <tr>\n",
       "      <th>Ripser</th>\n",
       "      <td>0.000000</td>\n",
       "      <td>0.000068</td>\n",
       "      <td>0.000068</td>\n",
       "    </tr>\n",
       "    <tr>\n",
       "      <th>OAT</th>\n",
       "      <td>0.000068</td>\n",
       "      <td>0.000000</td>\n",
       "      <td>0.000000</td>\n",
       "    </tr>\n",
       "    <tr>\n",
       "      <th>GUDHI</th>\n",
       "      <td>0.000068</td>\n",
       "      <td>0.000000</td>\n",
       "      <td>0.000000</td>\n",
       "    </tr>\n",
       "  </tbody>\n",
       "</table>\n",
       "</div>"
      ],
      "text/plain": [
       "          Ripser       OAT     GUDHI\n",
       "Ripser  0.000000  0.000068  0.000068\n",
       "OAT     0.000068  0.000000  0.000000\n",
       "GUDHI   0.000068  0.000000  0.000000"
      ]
     },
     "execution_count": 37,
     "metadata": {},
     "output_type": "execute_result"
    }
   ],
   "source": [
    "## Wasserstein Distance between dimension 2 features\n",
    "cb.barcode_distance_matrix(\n",
    "        [ripser_res, oat_res, gudhi_res],\n",
    "        cb.wasserstein_distance,\n",
    "        dim=2,\n",
    "        labels=['Ripser', 'OAT', 'GUDHI'],\n",
    "    )"
   ]
  },
  {
   "cell_type": "code",
   "execution_count": 38,
   "metadata": {},
   "outputs": [
    {
     "data": {
      "text/html": [
       "<div>\n",
       "<style scoped>\n",
       "    .dataframe tbody tr th:only-of-type {\n",
       "        vertical-align: middle;\n",
       "    }\n",
       "\n",
       "    .dataframe tbody tr th {\n",
       "        vertical-align: top;\n",
       "    }\n",
       "\n",
       "    .dataframe thead th {\n",
       "        text-align: right;\n",
       "    }\n",
       "</style>\n",
       "<table border=\"1\" class=\"dataframe\">\n",
       "  <thead>\n",
       "    <tr style=\"text-align: right;\">\n",
       "      <th></th>\n",
       "      <th>Ripser</th>\n",
       "      <th>OAT</th>\n",
       "      <th>GUDHI</th>\n",
       "    </tr>\n",
       "  </thead>\n",
       "  <tbody>\n",
       "    <tr>\n",
       "      <th>Ripser</th>\n",
       "      <td>0.000000</td>\n",
       "      <td>0.000028</td>\n",
       "      <td>12684.018571</td>\n",
       "    </tr>\n",
       "    <tr>\n",
       "      <th>OAT</th>\n",
       "      <td>0.000028</td>\n",
       "      <td>0.000000</td>\n",
       "      <td>12684.018571</td>\n",
       "    </tr>\n",
       "    <tr>\n",
       "      <th>GUDHI</th>\n",
       "      <td>12684.018571</td>\n",
       "      <td>12684.018571</td>\n",
       "      <td>0.000000</td>\n",
       "    </tr>\n",
       "  </tbody>\n",
       "</table>\n",
       "</div>"
      ],
      "text/plain": [
       "              Ripser           OAT         GUDHI\n",
       "Ripser      0.000000      0.000028  12684.018571\n",
       "OAT         0.000028      0.000000  12684.018571\n",
       "GUDHI   12684.018571  12684.018571      0.000000"
      ]
     },
     "execution_count": 38,
     "metadata": {},
     "output_type": "execute_result"
    }
   ],
   "source": [
    "## Persistance Images Distance between dimension 0 features\n",
    "cb.barcode_distance_matrix(\n",
    "        [ripser_res, oat_res, gudhi_res],\n",
    "        cb.persistance_image_distance,\n",
    "        dim=0,\n",
    "        labels=['Ripser', 'OAT', 'GUDHI'],\n",
    "    )"
   ]
  },
  {
   "cell_type": "code",
   "execution_count": 39,
   "metadata": {},
   "outputs": [
    {
     "data": {
      "text/html": [
       "<div>\n",
       "<style scoped>\n",
       "    .dataframe tbody tr th:only-of-type {\n",
       "        vertical-align: middle;\n",
       "    }\n",
       "\n",
       "    .dataframe tbody tr th {\n",
       "        vertical-align: top;\n",
       "    }\n",
       "\n",
       "    .dataframe thead th {\n",
       "        text-align: right;\n",
       "    }\n",
       "</style>\n",
       "<table border=\"1\" class=\"dataframe\">\n",
       "  <thead>\n",
       "    <tr style=\"text-align: right;\">\n",
       "      <th></th>\n",
       "      <th>Ripser</th>\n",
       "      <th>OAT</th>\n",
       "      <th>GUDHI</th>\n",
       "    </tr>\n",
       "  </thead>\n",
       "  <tbody>\n",
       "    <tr>\n",
       "      <th>Ripser</th>\n",
       "      <td>0.000000</td>\n",
       "      <td>0.000565</td>\n",
       "      <td>0.000565</td>\n",
       "    </tr>\n",
       "    <tr>\n",
       "      <th>OAT</th>\n",
       "      <td>0.000565</td>\n",
       "      <td>0.000000</td>\n",
       "      <td>0.000000</td>\n",
       "    </tr>\n",
       "    <tr>\n",
       "      <th>GUDHI</th>\n",
       "      <td>0.000565</td>\n",
       "      <td>0.000000</td>\n",
       "      <td>0.000000</td>\n",
       "    </tr>\n",
       "  </tbody>\n",
       "</table>\n",
       "</div>"
      ],
      "text/plain": [
       "          Ripser       OAT     GUDHI\n",
       "Ripser  0.000000  0.000565  0.000565\n",
       "OAT     0.000565  0.000000  0.000000\n",
       "GUDHI   0.000565  0.000000  0.000000"
      ]
     },
     "execution_count": 39,
     "metadata": {},
     "output_type": "execute_result"
    }
   ],
   "source": [
    "## Persistance Images Distance between dimension 1 features\n",
    "cb.barcode_distance_matrix(\n",
    "        [ripser_res, oat_res, gudhi_res],\n",
    "        cb.persistance_image_distance,\n",
    "        dim=1,\n",
    "        labels=['Ripser', 'OAT', 'GUDHI'],\n",
    "    )"
   ]
  },
  {
   "cell_type": "code",
   "execution_count": 40,
   "metadata": {},
   "outputs": [
    {
     "data": {
      "text/html": [
       "<div>\n",
       "<style scoped>\n",
       "    .dataframe tbody tr th:only-of-type {\n",
       "        vertical-align: middle;\n",
       "    }\n",
       "\n",
       "    .dataframe tbody tr th {\n",
       "        vertical-align: top;\n",
       "    }\n",
       "\n",
       "    .dataframe thead th {\n",
       "        text-align: right;\n",
       "    }\n",
       "</style>\n",
       "<table border=\"1\" class=\"dataframe\">\n",
       "  <thead>\n",
       "    <tr style=\"text-align: right;\">\n",
       "      <th></th>\n",
       "      <th>Ripser</th>\n",
       "      <th>OAT</th>\n",
       "      <th>GUDHI</th>\n",
       "    </tr>\n",
       "  </thead>\n",
       "  <tbody>\n",
       "    <tr>\n",
       "      <th>Ripser</th>\n",
       "      <td>0.000000</td>\n",
       "      <td>0.000175</td>\n",
       "      <td>0.000175</td>\n",
       "    </tr>\n",
       "    <tr>\n",
       "      <th>OAT</th>\n",
       "      <td>0.000175</td>\n",
       "      <td>0.000000</td>\n",
       "      <td>0.000000</td>\n",
       "    </tr>\n",
       "    <tr>\n",
       "      <th>GUDHI</th>\n",
       "      <td>0.000175</td>\n",
       "      <td>0.000000</td>\n",
       "      <td>0.000000</td>\n",
       "    </tr>\n",
       "  </tbody>\n",
       "</table>\n",
       "</div>"
      ],
      "text/plain": [
       "          Ripser       OAT     GUDHI\n",
       "Ripser  0.000000  0.000175  0.000175\n",
       "OAT     0.000175  0.000000  0.000000\n",
       "GUDHI   0.000175  0.000000  0.000000"
      ]
     },
     "execution_count": 40,
     "metadata": {},
     "output_type": "execute_result"
    }
   ],
   "source": [
    "## Persistance Images Distance between dimension 2 features\n",
    "cb.barcode_distance_matrix(\n",
    "        [ripser_res, oat_res, gudhi_res],\n",
    "        cb.persistance_image_distance,\n",
    "        dim=2,\n",
    "        labels=['Ripser', 'OAT', 'GUDHI'],\n",
    "    )"
   ]
  }
 ],
 "metadata": {
  "kernelspec": {
   "display_name": "base",
   "language": "python",
   "name": "python3"
  },
  "language_info": {
   "codemirror_mode": {
    "name": "ipython",
    "version": 3
   },
   "file_extension": ".py",
   "mimetype": "text/x-python",
   "name": "python",
   "nbconvert_exporter": "python",
   "pygments_lexer": "ipython3",
   "version": "3.12.4"
  }
 },
 "nbformat": 4,
 "nbformat_minor": 2
}
