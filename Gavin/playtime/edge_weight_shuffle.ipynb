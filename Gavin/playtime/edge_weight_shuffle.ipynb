{
 "cells": [
  {
   "cell_type": "markdown",
   "metadata": {},
   "source": [
    "## Edge Weight Shuffle\n",
    "\n",
    "Adam has the cool idea for a null model to shuffle the edge weights that we filter on to test whether the observed persistence diagram is a result of the shape of the network or the specific combination of shape and filtration parameter. We implement that here."
   ]
  },
  {
   "cell_type": "markdown",
   "metadata": {},
   "source": [
    "#### Preliminaries"
   ]
  },
  {
   "cell_type": "code",
   "execution_count": 1,
   "metadata": {},
   "outputs": [],
   "source": [
    "# load some packages\n",
    "import Gavin.utils.random_complexes as rc\n",
    "import Gavin.utils.make_network as mn\n",
    "from time import time\n",
    "import oatpy as oat\n",
    "\n",
    "# config\n",
    "DATA_PATH = 'datasets/concept_network/'\n",
    "CONCEPT_FILE = 'articles_category_for_2l_abstracts_concepts_processed_v1_EX_102.csv.gz' # Applied Mathematics\n",
    "# CONCEPT_FILE = 'concepts_Applied Economics_1402.csv.gz' # Applied Econ\n",
    "# CONCEPT_FILE = 'concepts_Zoology_608.csv' # Zoology\n",
    "MIN_RELEVANCE= 0.7\n",
    "MIN_FREQ = 0.0006 # 0.006%\n",
    "MAX_FREQ = 0.005 # 0.05%\n",
    "MIN_YEAR = 1920"
   ]
  },
  {
   "cell_type": "markdown",
   "metadata": {},
   "source": [
    "#### Original Network\n",
    "Use the data file to create the original network and calculate homology."
   ]
  },
  {
   "cell_type": "code",
   "execution_count": 2,
   "metadata": {},
   "outputs": [],
   "source": [
    "# create the network\n",
    "G_orig = mn.gen_concept_network(\n",
    "        DATA_PATH + CONCEPT_FILE,\n",
    "        min_relevance=MIN_RELEVANCE,\n",
    "        min_year=MIN_YEAR,\n",
    "        min_articles=MIN_FREQ,\n",
    "        max_articles=MAX_FREQ,\n",
    "        normalize_year=True\n",
    "    )\n",
    "adj_orig = mn.adj_matrix(G_orig, 'norm_year', True, 0.) # fill in diagnal with 0s since the shuffled version likley won't work without that"
   ]
  },
  {
   "cell_type": "code",
   "execution_count": null,
   "metadata": {},
   "outputs": [
    {
     "data": {
      "text/plain": [
       "'Homology calculation took 3.0503900051116943 secs'"
      ]
     },
     "execution_count": 3,
     "metadata": {},
     "output_type": "execute_result"
    }
   ],
   "source": [
    "# homology calculation\n",
    "start = time()\n",
    "\n",
    "# setup the problem\n",
    "factored_orig = oat.rust.FactoredBoundaryMatrixVr( # two functions that do this, idk what the other one is\n",
    "        dissimilarity_matrix=adj_orig,\n",
    "        homology_dimension_max=2\n",
    "    )\n",
    "\n",
    "# solve homology\n",
    "homology_orig = factored_orig.homology( # solve homology\n",
    "        return_cycle_representatives=True, # These need to be true to be able to make a barcode, makes the problem take ~30% longer (1:30ish)\n",
    "        return_bounding_chains=True\n",
    "    )\n",
    "\n",
    "f'Homology calculation took {time() - start} secs'"
   ]
  },
  {
   "cell_type": "code",
   "execution_count": null,
   "metadata": {},
   "outputs": [
    {
     "data": {
      "application/vnd.plotly.v1+json": {
       "config": {
        "plotlyServerURL": "https://plot.ly"
       },
       "data": [
        {
         "line": {
          "color": "black"
         },
         "mode": "lines",
         "showlegend": false,
         "type": "scatter",
         "x": [
          0,
          1.1782178217821782
         ],
         "y": [
          0,
          1.1782178217821782
         ]
        },
        {
         "legendgroup": "0",
         "marker": {
          "color": "#636EFA"
         },
         "mode": "markers",
         "name": "Dimension 0",
         "showlegend": true,
         "text": [
          "birth filtration = 0.9108910891089109<br>death filtration = 0.9603960396039604<br>interval length = 0.04950495049504944<br>birth simplex = [8]<br>cyle representative nnz = 2<br>bounding chain nnz = 6.0<br>row of dataframe = 0"
         ],
         "type": "scatter",
         "x": [
          0.9108910891089109
         ],
         "y": [
          0.9603960396039604
         ]
        },
        {
         "legendgroup": "0",
         "marker": {
          "color": "#636EFA"
         },
         "mode": "markers",
         "name": "Dimension 0",
         "showlegend": false,
         "text": [
          "birth filtration = 0.8316831683168316<br>death filtration = 0.8712871287128713<br>interval length = 0.03960396039603964<br>birth simplex = [101]<br>cyle representative nnz = 2<br>bounding chain nnz = 6.0<br>row of dataframe = 1"
         ],
         "type": "scatter",
         "x": [
          0.8316831683168316
         ],
         "y": [
          0.8712871287128713
         ]
        },
        {
         "legendgroup": "0",
         "marker": {
          "color": "#636EFA"
         },
         "mode": "markers",
         "name": "Dimension 0",
         "showlegend": false,
         "text": [
          "birth filtration = 0.8118811881188119<br>death filtration = 0.8316831683168316<br>interval length = 0.01980198019801971<br>birth simplex = [35]<br>cyle representative nnz = 2<br>bounding chain nnz = 13.0<br>row of dataframe = 2"
         ],
         "type": "scatter",
         "x": [
          0.8118811881188119
         ],
         "y": [
          0.8316831683168316
         ]
        },
        {
         "legendgroup": "0",
         "marker": {
          "color": "#636EFA"
         },
         "mode": "markers",
         "name": "Dimension 0",
         "showlegend": false,
         "text": [
          "birth filtration = 0.801980198019802<br>death filtration = 0.8316831683168316<br>interval length = 0.02970297029702962<br>birth simplex = [23]<br>cyle representative nnz = 2<br>bounding chain nnz = 14.0<br>row of dataframe = 3"
         ],
         "type": "scatter",
         "x": [
          0.801980198019802
         ],
         "y": [
          0.8316831683168316
         ]
        },
        {
         "legendgroup": "0",
         "marker": {
          "color": "#636EFA"
         },
         "mode": "markers",
         "name": "Dimension 0",
         "showlegend": false,
         "text": [
          "birth filtration = 0.7920792079207921<br>death filtration = 0.9207920792079208<br>interval length = 0.12871287128712872<br>birth simplex = [95]<br>cyle representative nnz = 2<br>bounding chain nnz = 4.0<br>row of dataframe = 4"
         ],
         "type": "scatter",
         "x": [
          0.7920792079207921
         ],
         "y": [
          0.9207920792079208
         ]
        },
        {
         "legendgroup": "0",
         "marker": {
          "color": "#636EFA"
         },
         "mode": "markers",
         "name": "Dimension 0",
         "showlegend": false,
         "text": [
          "birth filtration = 0.7920792079207921<br>death filtration = 0.8415841584158416<br>interval length = 0.04950495049504944<br>birth simplex = [64]<br>cyle representative nnz = 2<br>bounding chain nnz = 5.0<br>row of dataframe = 5"
         ],
         "type": "scatter",
         "x": [
          0.7920792079207921
         ],
         "y": [
          0.8415841584158416
         ]
        },
        {
         "legendgroup": "0",
         "marker": {
          "color": "#636EFA"
         },
         "mode": "markers",
         "name": "Dimension 0",
         "showlegend": false,
         "text": [
          "birth filtration = 0.7821782178217822<br>death filtration = 0.7920792079207921<br>interval length = 0.00990099009900991<br>birth simplex = [6]<br>cyle representative nnz = 2<br>bounding chain nnz = 13.0<br>row of dataframe = 6"
         ],
         "type": "scatter",
         "x": [
          0.7821782178217822
         ],
         "y": [
          0.7920792079207921
         ]
        },
        {
         "legendgroup": "0",
         "marker": {
          "color": "#636EFA"
         },
         "mode": "markers",
         "name": "Dimension 0",
         "showlegend": false,
         "text": [
          "birth filtration = 0.7623762376237624<br>death filtration = 0.8316831683168316<br>interval length = 0.06930693069306926<br>birth simplex = [49]<br>cyle representative nnz = 2<br>bounding chain nnz = 14.0<br>row of dataframe = 7"
         ],
         "type": "scatter",
         "x": [
          0.7623762376237624
         ],
         "y": [
          0.8316831683168316
         ]
        },
        {
         "legendgroup": "0",
         "marker": {
          "color": "#636EFA"
         },
         "mode": "markers",
         "name": "Dimension 0",
         "showlegend": false,
         "text": [
          "birth filtration = 0.7524752475247525<br>death filtration = 0.8316831683168316<br>interval length = 0.07920792079207917<br>birth simplex = [48]<br>cyle representative nnz = 2<br>bounding chain nnz = 7.0<br>row of dataframe = 8"
         ],
         "type": "scatter",
         "x": [
          0.7524752475247525
         ],
         "y": [
          0.8316831683168316
         ]
        },
        {
         "legendgroup": "0",
         "marker": {
          "color": "#636EFA"
         },
         "mode": "markers",
         "name": "Dimension 0",
         "showlegend": false,
         "text": [
          "birth filtration = 0.7326732673267327<br>death filtration = 0.8712871287128713<br>interval length = 0.13861386138613863<br>birth simplex = [87]<br>cyle representative nnz = 2<br>bounding chain nnz = 6.0<br>row of dataframe = 9"
         ],
         "type": "scatter",
         "x": [
          0.7326732673267327
         ],
         "y": [
          0.8712871287128713
         ]
        },
        {
         "legendgroup": "0",
         "marker": {
          "color": "#636EFA"
         },
         "mode": "markers",
         "name": "Dimension 0",
         "showlegend": false,
         "text": [
          "birth filtration = 0.7326732673267327<br>death filtration = 0.7920792079207921<br>interval length = 0.05940594059405946<br>birth simplex = [39]<br>cyle representative nnz = 2<br>bounding chain nnz = 5.0<br>row of dataframe = 10"
         ],
         "type": "scatter",
         "x": [
          0.7326732673267327
         ],
         "y": [
          0.7920792079207921
         ]
        },
        {
         "legendgroup": "0",
         "marker": {
          "color": "#636EFA"
         },
         "mode": "markers",
         "name": "Dimension 0",
         "showlegend": false,
         "text": [
          "birth filtration = 0.7029702970297029<br>death filtration = 0.7326732673267327<br>interval length = 0.02970297029702973<br>birth simplex = [7]<br>cyle representative nnz = 2<br>bounding chain nnz = 13.0<br>row of dataframe = 11"
         ],
         "type": "scatter",
         "x": [
          0.7029702970297029
         ],
         "y": [
          0.7326732673267327
         ]
        },
        {
         "legendgroup": "0",
         "marker": {
          "color": "#636EFA"
         },
         "mode": "markers",
         "name": "Dimension 0",
         "showlegend": false,
         "text": [
          "birth filtration = 0.6633663366336634<br>death filtration = 0.7128712871287128<br>interval length = 0.04950495049504944<br>birth simplex = [99]<br>cyle representative nnz = 2<br>bounding chain nnz = 6.0<br>row of dataframe = 12"
         ],
         "type": "scatter",
         "x": [
          0.6633663366336634
         ],
         "y": [
          0.7128712871287128
         ]
        },
        {
         "legendgroup": "0",
         "marker": {
          "color": "#636EFA"
         },
         "mode": "markers",
         "name": "Dimension 0",
         "showlegend": false,
         "text": [
          "birth filtration = 0.6435643564356436<br>death filtration = 0.7524752475247525<br>interval length = 0.1089108910891089<br>birth simplex = [1]<br>cyle representative nnz = 2<br>bounding chain nnz = 13.0<br>row of dataframe = 13"
         ],
         "type": "scatter",
         "x": [
          0.6435643564356436
         ],
         "y": [
          0.7524752475247525
         ]
        },
        {
         "legendgroup": "0",
         "marker": {
          "color": "#636EFA"
         },
         "mode": "markers",
         "name": "Dimension 0",
         "showlegend": false,
         "text": [
          "birth filtration = 0.6039603960396039<br>death filtration = 0.6435643564356436<br>interval length = 0.03960396039603964<br>birth simplex = [29]<br>cyle representative nnz = 2<br>bounding chain nnz = 5.0<br>row of dataframe = 14"
         ],
         "type": "scatter",
         "x": [
          0.6039603960396039
         ],
         "y": [
          0.6435643564356436
         ]
        },
        {
         "legendgroup": "0",
         "marker": {
          "color": "#636EFA"
         },
         "mode": "markers",
         "name": "Dimension 0",
         "showlegend": false,
         "text": [
          "birth filtration = 0.594059405940594<br>death filtration = 0.7029702970297029<br>interval length = 0.1089108910891089<br>birth simplex = [19]<br>cyle representative nnz = 2<br>bounding chain nnz = 2.0<br>row of dataframe = 15"
         ],
         "type": "scatter",
         "x": [
          0.594059405940594
         ],
         "y": [
          0.7029702970297029
         ]
        },
        {
         "legendgroup": "0",
         "marker": {
          "color": "#636EFA"
         },
         "mode": "markers",
         "name": "Dimension 0",
         "showlegend": false,
         "text": [
          "birth filtration = 0.5742574257425742<br>death filtration = 0.6633663366336634<br>interval length = 0.08910891089108919<br>birth simplex = [58]<br>cyle representative nnz = 2<br>bounding chain nnz = 4.0<br>row of dataframe = 16"
         ],
         "type": "scatter",
         "x": [
          0.5742574257425742
         ],
         "y": [
          0.6633663366336634
         ]
        },
        {
         "legendgroup": "0",
         "marker": {
          "color": "#636EFA"
         },
         "mode": "markers",
         "name": "Dimension 0",
         "showlegend": false,
         "text": [
          "birth filtration = 0.5643564356435643<br>death filtration = 0.6138613861386139<br>interval length = 0.04950495049504955<br>birth simplex = [47]<br>cyle representative nnz = 2<br>bounding chain nnz = 5.0<br>row of dataframe = 17"
         ],
         "type": "scatter",
         "x": [
          0.5643564356435643
         ],
         "y": [
          0.6138613861386139
         ]
        },
        {
         "legendgroup": "0",
         "marker": {
          "color": "#636EFA"
         },
         "mode": "markers",
         "name": "Dimension 0",
         "showlegend": false,
         "text": [
          "birth filtration = 0.5544554455445545<br>death filtration = 0.6039603960396039<br>interval length = 0.04950495049504944<br>birth simplex = [65]<br>cyle representative nnz = 2<br>bounding chain nnz = 11.0<br>row of dataframe = 18"
         ],
         "type": "scatter",
         "x": [
          0.5544554455445545
         ],
         "y": [
          0.6039603960396039
         ]
        },
        {
         "legendgroup": "0",
         "marker": {
          "color": "#636EFA"
         },
         "mode": "markers",
         "name": "Dimension 0",
         "showlegend": false,
         "text": [
          "birth filtration = 0.5544554455445545<br>death filtration = 0.7326732673267327<br>interval length = 0.17821782178217815<br>birth simplex = [50]<br>cyle representative nnz = 2<br>bounding chain nnz = 14.0<br>row of dataframe = 19"
         ],
         "type": "scatter",
         "x": [
          0.5544554455445545
         ],
         "y": [
          0.7326732673267327
         ]
        },
        {
         "legendgroup": "0",
         "marker": {
          "color": "#636EFA"
         },
         "mode": "markers",
         "name": "Dimension 0",
         "showlegend": false,
         "text": [
          "birth filtration = 0.5445544554455446<br>death filtration = 0.7722772277227723<br>interval length = 0.2277227722772277<br>birth simplex = [91]<br>cyle representative nnz = 2<br>bounding chain nnz = 4.0<br>row of dataframe = 20"
         ],
         "type": "scatter",
         "x": [
          0.5445544554455446
         ],
         "y": [
          0.7722772277227723
         ]
        },
        {
         "legendgroup": "0",
         "marker": {
          "color": "#636EFA"
         },
         "mode": "markers",
         "name": "Dimension 0",
         "showlegend": false,
         "text": [
          "birth filtration = 0.5247524752475248<br>death filtration = 0.5742574257425742<br>interval length = 0.04950495049504944<br>birth simplex = [88]<br>cyle representative nnz = 2<br>bounding chain nnz = 6.0<br>row of dataframe = 21"
         ],
         "type": "scatter",
         "x": [
          0.5247524752475248
         ],
         "y": [
          0.5742574257425742
         ]
        },
        {
         "legendgroup": "0",
         "marker": {
          "color": "#636EFA"
         },
         "mode": "markers",
         "name": "Dimension 0",
         "showlegend": false,
         "text": [
          "birth filtration = 0.504950495049505<br>death filtration = 0.6039603960396039<br>interval length = 0.09900990099009899<br>birth simplex = [81]<br>cyle representative nnz = 2<br>bounding chain nnz = 11.0<br>row of dataframe = 22"
         ],
         "type": "scatter",
         "x": [
          0.504950495049505
         ],
         "y": [
          0.6039603960396039
         ]
        },
        {
         "legendgroup": "0",
         "marker": {
          "color": "#636EFA"
         },
         "mode": "markers",
         "name": "Dimension 0",
         "showlegend": false,
         "text": [
          "birth filtration = 0.504950495049505<br>death filtration = 0.5148514851485149<br>interval length = 0.00990099009900991<br>birth simplex = [68]<br>cyle representative nnz = 2<br>bounding chain nnz = 5.0<br>row of dataframe = 23"
         ],
         "type": "scatter",
         "x": [
          0.504950495049505
         ],
         "y": [
          0.5148514851485149
         ]
        },
        {
         "legendgroup": "0",
         "marker": {
          "color": "#636EFA"
         },
         "mode": "markers",
         "name": "Dimension 0",
         "showlegend": false,
         "text": [
          "birth filtration = 0.49504950495049505<br>death filtration = 0.594059405940594<br>interval length = 0.09900990099009899<br>birth simplex = [77]<br>cyle representative nnz = 2<br>bounding chain nnz = 11.0<br>row of dataframe = 24"
         ],
         "type": "scatter",
         "x": [
          0.49504950495049505
         ],
         "y": [
          0.594059405940594
         ]
        },
        {
         "legendgroup": "0",
         "marker": {
          "color": "#636EFA"
         },
         "mode": "markers",
         "name": "Dimension 0",
         "showlegend": false,
         "text": [
          "birth filtration = 0.48514851485148514<br>death filtration = 0.49504950495049505<br>interval length = 0.00990099009900991<br>birth simplex = [59]<br>cyle representative nnz = 2<br>bounding chain nnz = 1.0<br>row of dataframe = 25"
         ],
         "type": "scatter",
         "x": [
          0.48514851485148514
         ],
         "y": [
          0.49504950495049505
         ]
        },
        {
         "legendgroup": "0",
         "marker": {
          "color": "#636EFA"
         },
         "mode": "markers",
         "name": "Dimension 0",
         "showlegend": false,
         "text": [
          "birth filtration = 0.4752475247524752<br>death filtration = 0.49504950495049505<br>interval length = 0.01980198019801982<br>birth simplex = [83]<br>cyle representative nnz = 2<br>bounding chain nnz = 7.0<br>row of dataframe = 26"
         ],
         "type": "scatter",
         "x": [
          0.4752475247524752
         ],
         "y": [
          0.49504950495049505
         ]
        },
        {
         "legendgroup": "0",
         "marker": {
          "color": "#636EFA"
         },
         "mode": "markers",
         "name": "Dimension 0",
         "showlegend": false,
         "text": [
          "birth filtration = 0.4752475247524752<br>death filtration = 0.5445544554455446<br>interval length = 0.06930693069306937<br>birth simplex = [76]<br>cyle representative nnz = 2<br>bounding chain nnz = 5.0<br>row of dataframe = 27"
         ],
         "type": "scatter",
         "x": [
          0.4752475247524752
         ],
         "y": [
          0.5445544554455446
         ]
        },
        {
         "legendgroup": "0",
         "marker": {
          "color": "#636EFA"
         },
         "mode": "markers",
         "name": "Dimension 0",
         "showlegend": false,
         "text": [
          "birth filtration = 0.4752475247524752<br>death filtration = 0.504950495049505<br>interval length = 0.02970297029702973<br>birth simplex = [73]<br>cyle representative nnz = 2<br>bounding chain nnz = 4.0<br>row of dataframe = 28"
         ],
         "type": "scatter",
         "x": [
          0.4752475247524752
         ],
         "y": [
          0.504950495049505
         ]
        },
        {
         "legendgroup": "0",
         "marker": {
          "color": "#636EFA"
         },
         "mode": "markers",
         "name": "Dimension 0",
         "showlegend": false,
         "text": [
          "birth filtration = 0.46534653465346537<br>death filtration = 0.5148514851485149<br>interval length = 0.04950495049504949<br>birth simplex = [44]<br>cyle representative nnz = 2<br>bounding chain nnz = 6.0<br>row of dataframe = 29"
         ],
         "type": "scatter",
         "x": [
          0.46534653465346537
         ],
         "y": [
          0.5148514851485149
         ]
        },
        {
         "legendgroup": "0",
         "marker": {
          "color": "#636EFA"
         },
         "mode": "markers",
         "name": "Dimension 0",
         "showlegend": false,
         "text": [
          "birth filtration = 0.46534653465346537<br>death filtration = 0.504950495049505<br>interval length = 0.039603960396039584<br>birth simplex = [30]<br>cyle representative nnz = 2<br>bounding chain nnz = 3.0<br>row of dataframe = 30"
         ],
         "type": "scatter",
         "x": [
          0.46534653465346537
         ],
         "y": [
          0.504950495049505
         ]
        },
        {
         "legendgroup": "0",
         "marker": {
          "color": "#636EFA"
         },
         "mode": "markers",
         "name": "Dimension 0",
         "showlegend": false,
         "text": [
          "birth filtration = 0.45544554455445546<br>death filtration = 0.46534653465346537<br>interval length = 0.00990099009900991<br>birth simplex = [93]<br>cyle representative nnz = 2<br>bounding chain nnz = 3.0<br>row of dataframe = 31"
         ],
         "type": "scatter",
         "x": [
          0.45544554455445546
         ],
         "y": [
          0.46534653465346537
         ]
        },
        {
         "legendgroup": "0",
         "marker": {
          "color": "#636EFA"
         },
         "mode": "markers",
         "name": "Dimension 0",
         "showlegend": false,
         "text": [
          "birth filtration = 0.45544554455445546<br>death filtration = 0.46534653465346537<br>interval length = 0.00990099009900991<br>birth simplex = [42]<br>cyle representative nnz = 2<br>bounding chain nnz = 4.0<br>row of dataframe = 32"
         ],
         "type": "scatter",
         "x": [
          0.45544554455445546
         ],
         "y": [
          0.46534653465346537
         ]
        },
        {
         "legendgroup": "0",
         "marker": {
          "color": "#636EFA"
         },
         "mode": "markers",
         "name": "Dimension 0",
         "showlegend": false,
         "text": [
          "birth filtration = 0.45544554455445546<br>death filtration = 0.5148514851485149<br>interval length = 0.0594059405940594<br>birth simplex = [33]<br>cyle representative nnz = 2<br>bounding chain nnz = 9.0<br>row of dataframe = 33"
         ],
         "type": "scatter",
         "x": [
          0.45544554455445546
         ],
         "y": [
          0.5148514851485149
         ]
        },
        {
         "legendgroup": "0",
         "marker": {
          "color": "#636EFA"
         },
         "mode": "markers",
         "name": "Dimension 0",
         "showlegend": false,
         "text": [
          "birth filtration = 0.44554455445544555<br>death filtration = 0.5148514851485149<br>interval length = 0.06930693069306931<br>birth simplex = [84]<br>cyle representative nnz = 2<br>bounding chain nnz = 7.0<br>row of dataframe = 34"
         ],
         "type": "scatter",
         "x": [
          0.44554455445544555
         ],
         "y": [
          0.5148514851485149
         ]
        },
        {
         "legendgroup": "0",
         "marker": {
          "color": "#636EFA"
         },
         "mode": "markers",
         "name": "Dimension 0",
         "showlegend": false,
         "text": [
          "birth filtration = 0.43564356435643564<br>death filtration = 0.5148514851485149<br>interval length = 0.07920792079207922<br>birth simplex = [90]<br>cyle representative nnz = 2<br>bounding chain nnz = 8.0<br>row of dataframe = 35"
         ],
         "type": "scatter",
         "x": [
          0.43564356435643564
         ],
         "y": [
          0.5148514851485149
         ]
        },
        {
         "legendgroup": "0",
         "marker": {
          "color": "#636EFA"
         },
         "mode": "markers",
         "name": "Dimension 0",
         "showlegend": false,
         "text": [
          "birth filtration = 0.43564356435643564<br>death filtration = 0.46534653465346537<br>interval length = 0.02970297029702973<br>birth simplex = [74]<br>cyle representative nnz = 2<br>bounding chain nnz = 6.0<br>row of dataframe = 36"
         ],
         "type": "scatter",
         "x": [
          0.43564356435643564
         ],
         "y": [
          0.46534653465346537
         ]
        },
        {
         "legendgroup": "0",
         "marker": {
          "color": "#636EFA"
         },
         "mode": "markers",
         "name": "Dimension 0",
         "showlegend": false,
         "text": [
          "birth filtration = 0.43564356435643564<br>death filtration = 0.5247524752475248<br>interval length = 0.08910891089108913<br>birth simplex = [61]<br>cyle representative nnz = 2<br>bounding chain nnz = 6.0<br>row of dataframe = 37"
         ],
         "type": "scatter",
         "x": [
          0.43564356435643564
         ],
         "y": [
          0.5247524752475248
         ]
        },
        {
         "legendgroup": "0",
         "marker": {
          "color": "#636EFA"
         },
         "mode": "markers",
         "name": "Dimension 0",
         "showlegend": false,
         "text": [
          "birth filtration = 0.43564356435643564<br>death filtration = 0.48514851485148514<br>interval length = 0.04950495049504949<br>birth simplex = [57]<br>cyle representative nnz = 2<br>bounding chain nnz = 6.0<br>row of dataframe = 38"
         ],
         "type": "scatter",
         "x": [
          0.43564356435643564
         ],
         "y": [
          0.48514851485148514
         ]
        },
        {
         "legendgroup": "0",
         "marker": {
          "color": "#636EFA"
         },
         "mode": "markers",
         "name": "Dimension 0",
         "showlegend": false,
         "text": [
          "birth filtration = 0.42574257425742573<br>death filtration = 0.5445544554455446<br>interval length = 0.11881188118811886<br>birth simplex = [54]<br>cyle representative nnz = 2<br>bounding chain nnz = 10.0<br>row of dataframe = 39"
         ],
         "type": "scatter",
         "x": [
          0.42574257425742573
         ],
         "y": [
          0.5445544554455446
         ]
        },
        {
         "legendgroup": "0",
         "marker": {
          "color": "#636EFA"
         },
         "mode": "markers",
         "name": "Dimension 0",
         "showlegend": false,
         "text": [
          "birth filtration = 0.42574257425742573<br>death filtration = 0.45544554455445546<br>interval length = 0.02970297029702973<br>birth simplex = [40]<br>cyle representative nnz = 2<br>bounding chain nnz = 1.0<br>row of dataframe = 40"
         ],
         "type": "scatter",
         "x": [
          0.42574257425742573
         ],
         "y": [
          0.45544554455445546
         ]
        },
        {
         "legendgroup": "0",
         "marker": {
          "color": "#636EFA"
         },
         "mode": "markers",
         "name": "Dimension 0",
         "showlegend": false,
         "text": [
          "birth filtration = 0.42574257425742573<br>death filtration = 0.49504950495049505<br>interval length = 0.06930693069306931<br>birth simplex = [16]<br>cyle representative nnz = 2<br>bounding chain nnz = 7.0<br>row of dataframe = 41"
         ],
         "type": "scatter",
         "x": [
          0.42574257425742573
         ],
         "y": [
          0.49504950495049505
         ]
        },
        {
         "legendgroup": "0",
         "marker": {
          "color": "#636EFA"
         },
         "mode": "markers",
         "name": "Dimension 0",
         "showlegend": false,
         "text": [
          "birth filtration = 0.42574257425742573<br>death filtration = 0.45544554455445546<br>interval length = 0.02970297029702973<br>birth simplex = [9]<br>cyle representative nnz = 2<br>bounding chain nnz = 1.0<br>row of dataframe = 42"
         ],
         "type": "scatter",
         "x": [
          0.42574257425742573
         ],
         "y": [
          0.45544554455445546
         ]
        },
        {
         "legendgroup": "0",
         "marker": {
          "color": "#636EFA"
         },
         "mode": "markers",
         "name": "Dimension 0",
         "showlegend": false,
         "text": [
          "birth filtration = 0.42574257425742573<br>death filtration = 0.6237623762376238<br>interval length = 0.19801980198019803<br>birth simplex = [5]<br>cyle representative nnz = 2<br>bounding chain nnz = 12.0<br>row of dataframe = 43"
         ],
         "type": "scatter",
         "x": [
          0.42574257425742573
         ],
         "y": [
          0.6237623762376238
         ]
        },
        {
         "legendgroup": "0",
         "marker": {
          "color": "#636EFA"
         },
         "mode": "markers",
         "name": "Dimension 0",
         "showlegend": false,
         "text": [
          "birth filtration = 0.42574257425742573<br>death filtration = 0.5544554455445545<br>interval length = 0.12871287128712877<br>birth simplex = [4]<br>cyle representative nnz = 2<br>bounding chain nnz = 11.0<br>row of dataframe = 44"
         ],
         "type": "scatter",
         "x": [
          0.42574257425742573
         ],
         "y": [
          0.5544554455445545
         ]
        },
        {
         "legendgroup": "0",
         "marker": {
          "color": "#636EFA"
         },
         "mode": "markers",
         "name": "Dimension 0",
         "showlegend": false,
         "text": [
          "birth filtration = 0.4158415841584158<br>death filtration = 0.43564356435643564<br>interval length = 0.01980198019801982<br>birth simplex = [75]<br>cyle representative nnz = 2<br>bounding chain nnz = 2.0<br>row of dataframe = 45"
         ],
         "type": "scatter",
         "x": [
          0.4158415841584158
         ],
         "y": [
          0.43564356435643564
         ]
        },
        {
         "legendgroup": "0",
         "marker": {
          "color": "#636EFA"
         },
         "mode": "markers",
         "name": "Dimension 0",
         "showlegend": false,
         "text": [
          "birth filtration = 0.4158415841584158<br>death filtration = 0.504950495049505<br>interval length = 0.08910891089108913<br>birth simplex = [72]<br>cyle representative nnz = 2<br>bounding chain nnz = 2.0<br>row of dataframe = 46"
         ],
         "type": "scatter",
         "x": [
          0.4158415841584158
         ],
         "y": [
          0.504950495049505
         ]
        },
        {
         "legendgroup": "0",
         "marker": {
          "color": "#636EFA"
         },
         "mode": "markers",
         "name": "Dimension 0",
         "showlegend": false,
         "text": [
          "birth filtration = 0.40594059405940597<br>death filtration = 0.43564356435643564<br>interval length = 0.029702970297029674<br>birth simplex = [100]<br>cyle representative nnz = 2<br>bounding chain nnz = 2.0<br>row of dataframe = 47"
         ],
         "type": "scatter",
         "x": [
          0.40594059405940597
         ],
         "y": [
          0.43564356435643564
         ]
        },
        {
         "legendgroup": "0",
         "marker": {
          "color": "#636EFA"
         },
         "mode": "markers",
         "name": "Dimension 0",
         "showlegend": false,
         "text": [
          "birth filtration = 0.40594059405940597<br>death filtration = 0.45544554455445546<br>interval length = 0.04950495049504949<br>birth simplex = [80]<br>cyle representative nnz = 2<br>bounding chain nnz = 2.0<br>row of dataframe = 48"
         ],
         "type": "scatter",
         "x": [
          0.40594059405940597
         ],
         "y": [
          0.45544554455445546
         ]
        },
        {
         "legendgroup": "0",
         "marker": {
          "color": "#636EFA"
         },
         "mode": "markers",
         "name": "Dimension 0",
         "showlegend": false,
         "text": [
          "birth filtration = 0.40594059405940597<br>death filtration = 0.42574257425742573<br>interval length = 0.019801980198019764<br>birth simplex = [69]<br>cyle representative nnz = 2<br>bounding chain nnz = 2.0<br>row of dataframe = 49"
         ],
         "type": "scatter",
         "x": [
          0.40594059405940597
         ],
         "y": [
          0.42574257425742573
         ]
        },
        {
         "legendgroup": "0",
         "marker": {
          "color": "#636EFA"
         },
         "mode": "markers",
         "name": "Dimension 0",
         "showlegend": false,
         "text": [
          "birth filtration = 0.40594059405940597<br>death filtration = 0.45544554455445546<br>interval length = 0.04950495049504949<br>birth simplex = [60]<br>cyle representative nnz = 2<br>bounding chain nnz = 3.0<br>row of dataframe = 50"
         ],
         "type": "scatter",
         "x": [
          0.40594059405940597
         ],
         "y": [
          0.45544554455445546
         ]
        },
        {
         "legendgroup": "0",
         "marker": {
          "color": "#636EFA"
         },
         "mode": "markers",
         "name": "Dimension 0",
         "showlegend": false,
         "text": [
          "birth filtration = 0.40594059405940597<br>death filtration = 0.4752475247524752<br>interval length = 0.06930693069306926<br>birth simplex = [56]<br>cyle representative nnz = 2<br>bounding chain nnz = 5.0<br>row of dataframe = 51"
         ],
         "type": "scatter",
         "x": [
          0.40594059405940597
         ],
         "y": [
          0.4752475247524752
         ]
        },
        {
         "legendgroup": "0",
         "marker": {
          "color": "#636EFA"
         },
         "mode": "markers",
         "name": "Dimension 0",
         "showlegend": false,
         "text": [
          "birth filtration = 0.39603960396039606<br>death filtration = 0.45544554455445546<br>interval length = 0.0594059405940594<br>birth simplex = [82]<br>cyle representative nnz = 2<br>bounding chain nnz = 2.0<br>row of dataframe = 52"
         ],
         "type": "scatter",
         "x": [
          0.39603960396039606
         ],
         "y": [
          0.45544554455445546
         ]
        },
        {
         "legendgroup": "0",
         "marker": {
          "color": "#636EFA"
         },
         "mode": "markers",
         "name": "Dimension 0",
         "showlegend": false,
         "text": [
          "birth filtration = 0.39603960396039606<br>death filtration = 0.43564356435643564<br>interval length = 0.039603960396039584<br>birth simplex = [28]<br>cyle representative nnz = 2<br>bounding chain nnz = 3.0<br>row of dataframe = 53"
         ],
         "type": "scatter",
         "x": [
          0.39603960396039606
         ],
         "y": [
          0.43564356435643564
         ]
        },
        {
         "legendgroup": "0",
         "marker": {
          "color": "#636EFA"
         },
         "mode": "markers",
         "name": "Dimension 0",
         "showlegend": false,
         "text": [
          "birth filtration = 0.38613861386138615<br>death filtration = 0.48514851485148514<br>interval length = 0.09900990099009899<br>birth simplex = [34]<br>cyle representative nnz = 2<br>bounding chain nnz = 3.0<br>row of dataframe = 54"
         ],
         "type": "scatter",
         "x": [
          0.38613861386138615
         ],
         "y": [
          0.48514851485148514
         ]
        },
        {
         "legendgroup": "0",
         "marker": {
          "color": "#636EFA"
         },
         "mode": "markers",
         "name": "Dimension 0",
         "showlegend": false,
         "text": [
          "birth filtration = 0.37623762376237624<br>death filtration = 0.43564356435643564<br>interval length = 0.0594059405940594<br>birth simplex = [86]<br>cyle representative nnz = 2<br>bounding chain nnz = 1.0<br>row of dataframe = 55"
         ],
         "type": "scatter",
         "x": [
          0.37623762376237624
         ],
         "y": [
          0.43564356435643564
         ]
        },
        {
         "legendgroup": "0",
         "marker": {
          "color": "#636EFA"
         },
         "mode": "markers",
         "name": "Dimension 0",
         "showlegend": false,
         "text": [
          "birth filtration = 0.36633663366336633<br>death filtration = 0.48514851485148514<br>interval length = 0.1188118811881188<br>birth simplex = [51]<br>cyle representative nnz = 2<br>bounding chain nnz = 3.0<br>row of dataframe = 56"
         ],
         "type": "scatter",
         "x": [
          0.36633663366336633
         ],
         "y": [
          0.48514851485148514
         ]
        },
        {
         "legendgroup": "0",
         "marker": {
          "color": "#636EFA"
         },
         "mode": "markers",
         "name": "Dimension 0",
         "showlegend": false,
         "text": [
          "birth filtration = 0.36633663366336633<br>death filtration = 0.40594059405940597<br>interval length = 0.03960396039603964<br>birth simplex = [36]<br>cyle representative nnz = 2<br>bounding chain nnz = 1.0<br>row of dataframe = 57"
         ],
         "type": "scatter",
         "x": [
          0.36633663366336633
         ],
         "y": [
          0.40594059405940597
         ]
        },
        {
         "legendgroup": "0",
         "marker": {
          "color": "#636EFA"
         },
         "mode": "markers",
         "name": "Dimension 0",
         "showlegend": false,
         "text": [
          "birth filtration = 0.36633663366336633<br>death filtration = 0.44554455445544555<br>interval length = 0.07920792079207922<br>birth simplex = [0]<br>cyle representative nnz = 2<br>bounding chain nnz = 1.0<br>row of dataframe = 58"
         ],
         "type": "scatter",
         "x": [
          0.36633663366336633
         ],
         "y": [
          0.44554455445544555
         ]
        },
        {
         "legendgroup": "0",
         "marker": {
          "color": "#636EFA"
         },
         "mode": "markers",
         "name": "Dimension 0",
         "showlegend": false,
         "text": [
          "birth filtration = 0.3564356435643564<br>death filtration = 0.5148514851485149<br>interval length = 0.15841584158415845<br>birth simplex = [96]<br>cyle representative nnz = 2<br>bounding chain nnz = 5.0<br>row of dataframe = 59"
         ],
         "type": "scatter",
         "x": [
          0.3564356435643564
         ],
         "y": [
          0.5148514851485149
         ]
        },
        {
         "legendgroup": "0",
         "marker": {
          "color": "#636EFA"
         },
         "mode": "markers",
         "name": "Dimension 0",
         "showlegend": false,
         "text": [
          "birth filtration = 0.3564356435643564<br>death filtration = 0.504950495049505<br>interval length = 0.14851485148514854<br>birth simplex = [14]<br>cyle representative nnz = 2<br>bounding chain nnz = 3.0<br>row of dataframe = 60"
         ],
         "type": "scatter",
         "x": [
          0.3564356435643564
         ],
         "y": [
          0.504950495049505
         ]
        },
        {
         "legendgroup": "0",
         "marker": {
          "color": "#636EFA"
         },
         "mode": "markers",
         "name": "Dimension 0",
         "showlegend": false,
         "text": [
          "birth filtration = 0.3465346534653465<br>death filtration = 0.6138613861386139<br>interval length = 0.26732673267326734<br>birth simplex = [21]<br>cyle representative nnz = 2<br>bounding chain nnz = 3.0<br>row of dataframe = 61"
         ],
         "type": "scatter",
         "x": [
          0.3465346534653465
         ],
         "y": [
          0.6138613861386139
         ]
        },
        {
         "legendgroup": "0",
         "marker": {
          "color": "#636EFA"
         },
         "mode": "markers",
         "name": "Dimension 0",
         "showlegend": false,
         "text": [
          "birth filtration = 0.33663366336633666<br>death filtration = 0.40594059405940597<br>interval length = 0.06930693069306931<br>birth simplex = [70]<br>cyle representative nnz = 2<br>bounding chain nnz = 3.0<br>row of dataframe = 62"
         ],
         "type": "scatter",
         "x": [
          0.33663366336633666
         ],
         "y": [
          0.40594059405940597
         ]
        },
        {
         "legendgroup": "0",
         "marker": {
          "color": "#636EFA"
         },
         "mode": "markers",
         "name": "Dimension 0",
         "showlegend": false,
         "text": [
          "birth filtration = 0.32673267326732675<br>death filtration = 0.3564356435643564<br>interval length = 0.029702970297029674<br>birth simplex = [27]<br>cyle representative nnz = 2<br>bounding chain nnz = 1.0<br>row of dataframe = 63"
         ],
         "type": "scatter",
         "x": [
          0.32673267326732675
         ],
         "y": [
          0.3564356435643564
         ]
        },
        {
         "legendgroup": "0",
         "marker": {
          "color": "#636EFA"
         },
         "mode": "markers",
         "name": "Dimension 0",
         "showlegend": false,
         "text": [
          "birth filtration = 0.27722772277227725<br>death filtration = 0.48514851485148514<br>interval length = 0.20792079207920788<br>birth simplex = [52]<br>cyle representative nnz = 2<br>bounding chain nnz = 5.0<br>row of dataframe = 64"
         ],
         "type": "scatter",
         "x": [
          0.27722772277227725
         ],
         "y": [
          0.48514851485148514
         ]
        },
        {
         "legendgroup": "0",
         "marker": {
          "color": "#636EFA"
         },
         "mode": "markers",
         "name": "Dimension 0",
         "showlegend": false,
         "text": [
          "birth filtration = 0.16831683168316833<br>death filtration = 0.44554455445544555<br>interval length = 0.27722772277227725<br>birth simplex = [37]<br>cyle representative nnz = 2<br>bounding chain nnz = 3.0<br>row of dataframe = 65"
         ],
         "type": "scatter",
         "x": [
          0.16831683168316833
         ],
         "y": [
          0.44554455445544555
         ]
        },
        {
         "legendgroup": "0",
         "marker": {
          "color": "#636EFA"
         },
         "mode": "markers",
         "name": "Dimension 0",
         "showlegend": false,
         "text": [
          "birth filtration = 0.10891089108910891<br>death filtration = 0.504950495049505<br>interval length = 0.39603960396039606<br>birth simplex = [53]<br>cyle representative nnz = 2<br>bounding chain nnz = 4.0<br>row of dataframe = 66"
         ],
         "type": "scatter",
         "x": [
          0.10891089108910891
         ],
         "y": [
          0.504950495049505
         ]
        },
        {
         "legendgroup": "0",
         "marker": {
          "color": "#636EFA"
         },
         "mode": "markers",
         "name": "Dimension 0",
         "showlegend": false,
         "text": [
          "birth filtration = 0.04950495049504951<br>death filtration = 1.0841584158415842<br>interval length = inf<br>birth simplex = [55]<br>cyle representative nnz = 1<br>bounding chain nnz = nan<br>row of dataframe = 67"
         ],
         "type": "scatter",
         "x": [
          0.04950495049504951
         ],
         "y": [
          1.0841584158415842
         ]
        },
        {
         "legendgroup": "1",
         "marker": {
          "color": "#EF553B"
         },
         "mode": "markers",
         "name": "Dimension 1",
         "showlegend": true,
         "text": [
          "birth filtration = 0.9801980198019802<br>death filtration = 0.9900990099009901<br>interval length = 0.00990099009900991<br>birth simplex = [8, 23]<br>cyle representative nnz = 17<br>bounding chain nnz = 86.0<br>row of dataframe = 68"
         ],
         "type": "scatter",
         "x": [
          0.9801980198019802
         ],
         "y": [
          0.9900990099009901
         ]
        },
        {
         "legendgroup": "1",
         "marker": {
          "color": "#EF553B"
         },
         "mode": "markers",
         "name": "Dimension 1",
         "showlegend": false,
         "text": [
          "birth filtration = 0.9702970297029703<br>death filtration = 0.9801980198019802<br>interval length = 0.00990099009900991<br>birth simplex = [8, 30]<br>cyle representative nnz = 10<br>bounding chain nnz = 80.0<br>row of dataframe = 69"
         ],
         "type": "scatter",
         "x": [
          0.9702970297029703
         ],
         "y": [
          0.9801980198019802
         ]
        },
        {
         "legendgroup": "1",
         "marker": {
          "color": "#EF553B"
         },
         "mode": "markers",
         "name": "Dimension 1",
         "showlegend": false,
         "text": [
          "birth filtration = 0.9405940594059405<br>death filtration = 0.9603960396039604<br>interval length = 0.01980198019801982<br>birth simplex = [64, 101]<br>cyle representative nnz = 12<br>bounding chain nnz = 80.0<br>row of dataframe = 70"
         ],
         "type": "scatter",
         "x": [
          0.9405940594059405
         ],
         "y": [
          0.9603960396039604
         ]
        },
        {
         "legendgroup": "1",
         "marker": {
          "color": "#EF553B"
         },
         "mode": "markers",
         "name": "Dimension 1",
         "showlegend": false,
         "text": [
          "birth filtration = 0.9306930693069307<br>death filtration = 1.0841584158415842<br>interval length = inf<br>birth simplex = [76, 95]<br>cyle representative nnz = 8<br>bounding chain nnz = nan<br>row of dataframe = 71"
         ],
         "type": "scatter",
         "x": [
          0.9306930693069307
         ],
         "y": [
          1.0841584158415842
         ]
        },
        {
         "legendgroup": "1",
         "marker": {
          "color": "#EF553B"
         },
         "mode": "markers",
         "name": "Dimension 1",
         "showlegend": false,
         "text": [
          "birth filtration = 0.9306930693069307<br>death filtration = 0.9405940594059405<br>interval length = 0.009900990099009799<br>birth simplex = [58, 77]<br>cyle representative nnz = 10<br>bounding chain nnz = 89.0<br>row of dataframe = 72"
         ],
         "type": "scatter",
         "x": [
          0.9306930693069307
         ],
         "y": [
          0.9405940594059405
         ]
        },
        {
         "legendgroup": "1",
         "marker": {
          "color": "#EF553B"
         },
         "mode": "markers",
         "name": "Dimension 1",
         "showlegend": false,
         "text": [
          "birth filtration = 0.9108910891089109<br>death filtration = 0.9405940594059405<br>interval length = 0.02970297029702962<br>birth simplex = [2, 64]<br>cyle representative nnz = 9<br>bounding chain nnz = 39.0<br>row of dataframe = 73"
         ],
         "type": "scatter",
         "x": [
          0.9108910891089109
         ],
         "y": [
          0.9405940594059405
         ]
        },
        {
         "legendgroup": "1",
         "marker": {
          "color": "#EF553B"
         },
         "mode": "markers",
         "name": "Dimension 1",
         "showlegend": false,
         "text": [
          "birth filtration = 0.8811881188118812<br>death filtration = 0.9603960396039604<br>interval length = 0.07920792079207917<br>birth simplex = [21, 101]<br>cyle representative nnz = 10<br>bounding chain nnz = 56.0<br>row of dataframe = 74"
         ],
         "type": "scatter",
         "x": [
          0.8811881188118812
         ],
         "y": [
          0.9603960396039604
         ]
        },
        {
         "legendgroup": "1",
         "marker": {
          "color": "#EF553B"
         },
         "mode": "markers",
         "name": "Dimension 1",
         "showlegend": false,
         "text": [
          "birth filtration = 0.8712871287128713<br>death filtration = 0.8910891089108911<br>interval length = 0.01980198019801982<br>birth simplex = [62, 63]<br>cyle representative nnz = 11<br>bounding chain nnz = 51.0<br>row of dataframe = 75"
         ],
         "type": "scatter",
         "x": [
          0.8712871287128713
         ],
         "y": [
          0.8910891089108911
         ]
        },
        {
         "legendgroup": "1",
         "marker": {
          "color": "#EF553B"
         },
         "mode": "markers",
         "name": "Dimension 1",
         "showlegend": false,
         "text": [
          "birth filtration = 0.8514851485148515<br>death filtration = 0.8613861386138614<br>interval length = 0.00990099009900991<br>birth simplex = [2, 77]<br>cyle representative nnz = 11<br>bounding chain nnz = 46.0<br>row of dataframe = 76"
         ],
         "type": "scatter",
         "x": [
          0.8514851485148515
         ],
         "y": [
          0.8613861386138614
         ]
        },
        {
         "legendgroup": "1",
         "marker": {
          "color": "#EF553B"
         },
         "mode": "markers",
         "name": "Dimension 1",
         "showlegend": false,
         "text": [
          "birth filtration = 0.8514851485148515<br>death filtration = 0.8712871287128713<br>interval length = 0.01980198019801982<br>birth simplex = [0, 48]<br>cyle representative nnz = 6<br>bounding chain nnz = 48.0<br>row of dataframe = 77"
         ],
         "type": "scatter",
         "x": [
          0.8514851485148515
         ],
         "y": [
          0.8712871287128713
         ]
        },
        {
         "legendgroup": "1",
         "marker": {
          "color": "#EF553B"
         },
         "mode": "markers",
         "name": "Dimension 1",
         "showlegend": false,
         "text": [
          "birth filtration = 0.8415841584158416<br>death filtration = 0.9603960396039604<br>interval length = 0.1188118811881188<br>birth simplex = [58, 64]<br>cyle representative nnz = 6<br>bounding chain nnz = 44.0<br>row of dataframe = 78"
         ],
         "type": "scatter",
         "x": [
          0.8415841584158416
         ],
         "y": [
          0.9603960396039604
         ]
        },
        {
         "legendgroup": "1",
         "marker": {
          "color": "#EF553B"
         },
         "mode": "markers",
         "name": "Dimension 1",
         "showlegend": false,
         "text": [
          "birth filtration = 0.8415841584158416<br>death filtration = 0.8514851485148515<br>interval length = 0.00990099009900991<br>birth simplex = [14, 22]<br>cyle representative nnz = 17<br>bounding chain nnz = 67.0<br>row of dataframe = 79"
         ],
         "type": "scatter",
         "x": [
          0.8415841584158416
         ],
         "y": [
          0.8514851485148515
         ]
        },
        {
         "legendgroup": "1",
         "marker": {
          "color": "#EF553B"
         },
         "mode": "markers",
         "name": "Dimension 1",
         "showlegend": false,
         "text": [
          "birth filtration = 0.8316831683168316<br>death filtration = 0.8415841584158416<br>interval length = 0.00990099009900991<br>birth simplex = [25, 67]<br>cyle representative nnz = 8<br>bounding chain nnz = 40.0<br>row of dataframe = 80"
         ],
         "type": "scatter",
         "x": [
          0.8316831683168316
         ],
         "y": [
          0.8415841584158416
         ]
        },
        {
         "legendgroup": "1",
         "marker": {
          "color": "#EF553B"
         },
         "mode": "markers",
         "name": "Dimension 1",
         "showlegend": false,
         "text": [
          "birth filtration = 0.8118811881188119<br>death filtration = 0.8415841584158416<br>interval length = 0.02970297029702962<br>birth simplex = [13, 65]<br>cyle representative nnz = 6<br>bounding chain nnz = 4.0<br>row of dataframe = 81"
         ],
         "type": "scatter",
         "x": [
          0.8118811881188119
         ],
         "y": [
          0.8415841584158416
         ]
        },
        {
         "legendgroup": "1",
         "marker": {
          "color": "#EF553B"
         },
         "mode": "markers",
         "name": "Dimension 1",
         "showlegend": false,
         "text": [
          "birth filtration = 0.8118811881188119<br>death filtration = 0.8217821782178217<br>interval length = 0.009900990099009799<br>birth simplex = [0, 52]<br>cyle representative nnz = 15<br>bounding chain nnz = 45.0<br>row of dataframe = 82"
         ],
         "type": "scatter",
         "x": [
          0.8118811881188119
         ],
         "y": [
          0.8217821782178217
         ]
        },
        {
         "legendgroup": "1",
         "marker": {
          "color": "#EF553B"
         },
         "mode": "markers",
         "name": "Dimension 1",
         "showlegend": false,
         "text": [
          "birth filtration = 0.801980198019802<br>death filtration = 0.8118811881188119<br>interval length = 0.00990099009900991<br>birth simplex = [9, 77]<br>cyle representative nnz = 14<br>bounding chain nnz = 55.0<br>row of dataframe = 83"
         ],
         "type": "scatter",
         "x": [
          0.801980198019802
         ],
         "y": [
          0.8118811881188119
         ]
        },
        {
         "legendgroup": "1",
         "marker": {
          "color": "#EF553B"
         },
         "mode": "markers",
         "name": "Dimension 1",
         "showlegend": false,
         "text": [
          "birth filtration = 0.7920792079207921<br>death filtration = 0.801980198019802<br>interval length = 0.00990099009900991<br>birth simplex = [30, 77]<br>cyle representative nnz = 13<br>bounding chain nnz = 49.0<br>row of dataframe = 84"
         ],
         "type": "scatter",
         "x": [
          0.7920792079207921
         ],
         "y": [
          0.801980198019802
         ]
        },
        {
         "legendgroup": "1",
         "marker": {
          "color": "#EF553B"
         },
         "mode": "markers",
         "name": "Dimension 1",
         "showlegend": false,
         "text": [
          "birth filtration = 0.7821782178217822<br>death filtration = 0.8217821782178217<br>interval length = 0.03960396039603953<br>birth simplex = [91, 93]<br>cyle representative nnz = 8<br>bounding chain nnz = 6.0<br>row of dataframe = 85"
         ],
         "type": "scatter",
         "x": [
          0.7821782178217822
         ],
         "y": [
          0.8217821782178217
         ]
        },
        {
         "legendgroup": "1",
         "marker": {
          "color": "#EF553B"
         },
         "mode": "markers",
         "name": "Dimension 1",
         "showlegend": false,
         "text": [
          "birth filtration = 0.7821782178217822<br>death filtration = 0.801980198019802<br>interval length = 0.01980198019801982<br>birth simplex = [18, 42]<br>cyle representative nnz = 10<br>bounding chain nnz = 40.0<br>row of dataframe = 86"
         ],
         "type": "scatter",
         "x": [
          0.7821782178217822
         ],
         "y": [
          0.801980198019802
         ]
        },
        {
         "legendgroup": "1",
         "marker": {
          "color": "#EF553B"
         },
         "mode": "markers",
         "name": "Dimension 1",
         "showlegend": false,
         "text": [
          "birth filtration = 0.7623762376237624<br>death filtration = 0.7722772277227723<br>interval length = 0.00990099009900991<br>birth simplex = [7, 26]<br>cyle representative nnz = 7<br>bounding chain nnz = 27.0<br>row of dataframe = 87"
         ],
         "type": "scatter",
         "x": [
          0.7623762376237624
         ],
         "y": [
          0.7722772277227723
         ]
        },
        {
         "legendgroup": "1",
         "marker": {
          "color": "#EF553B"
         },
         "mode": "markers",
         "name": "Dimension 1",
         "showlegend": false,
         "text": [
          "birth filtration = 0.7623762376237624<br>death filtration = 0.8118811881188119<br>interval length = 0.04950495049504955<br>birth simplex = [5, 33]<br>cyle representative nnz = 4<br>bounding chain nnz = 2.0<br>row of dataframe = 88"
         ],
         "type": "scatter",
         "x": [
          0.7623762376237624
         ],
         "y": [
          0.8118811881188119
         ]
        },
        {
         "legendgroup": "1",
         "marker": {
          "color": "#EF553B"
         },
         "mode": "markers",
         "name": "Dimension 1",
         "showlegend": false,
         "text": [
          "birth filtration = 0.7425742574257426<br>death filtration = 0.7722772277227723<br>interval length = 0.02970297029702973<br>birth simplex = [34, 50]<br>cyle representative nnz = 4<br>bounding chain nnz = 6.0<br>row of dataframe = 89"
         ],
         "type": "scatter",
         "x": [
          0.7425742574257426
         ],
         "y": [
          0.7722772277227723
         ]
        },
        {
         "legendgroup": "1",
         "marker": {
          "color": "#EF553B"
         },
         "mode": "markers",
         "name": "Dimension 1",
         "showlegend": false,
         "text": [
          "birth filtration = 0.7425742574257426<br>death filtration = 0.801980198019802<br>interval length = 0.05940594059405946<br>birth simplex = [29, 34]<br>cyle representative nnz = 9<br>bounding chain nnz = 23.0<br>row of dataframe = 90"
         ],
         "type": "scatter",
         "x": [
          0.7425742574257426
         ],
         "y": [
          0.801980198019802
         ]
        },
        {
         "legendgroup": "1",
         "marker": {
          "color": "#EF553B"
         },
         "mode": "markers",
         "name": "Dimension 1",
         "showlegend": false,
         "text": [
          "birth filtration = 0.7425742574257426<br>death filtration = 0.7623762376237624<br>interval length = 0.01980198019801982<br>birth simplex = [5, 70]<br>cyle representative nnz = 10<br>bounding chain nnz = 73.0<br>row of dataframe = 91"
         ],
         "type": "scatter",
         "x": [
          0.7425742574257426
         ],
         "y": [
          0.7623762376237624
         ]
        },
        {
         "legendgroup": "1",
         "marker": {
          "color": "#EF553B"
         },
         "mode": "markers",
         "name": "Dimension 1",
         "showlegend": false,
         "text": [
          "birth filtration = 0.7326732673267327<br>death filtration = 0.7920792079207921<br>interval length = 0.05940594059405946<br>birth simplex = [50, 94]<br>cyle representative nnz = 17<br>bounding chain nnz = 89.0<br>row of dataframe = 92"
         ],
         "type": "scatter",
         "x": [
          0.7326732673267327
         ],
         "y": [
          0.7920792079207921
         ]
        },
        {
         "legendgroup": "1",
         "marker": {
          "color": "#EF553B"
         },
         "mode": "markers",
         "name": "Dimension 1",
         "showlegend": false,
         "text": [
          "birth filtration = 0.7326732673267327<br>death filtration = 0.8316831683168316<br>interval length = 0.09900990099009899<br>birth simplex = [33, 82]<br>cyle representative nnz = 15<br>bounding chain nnz = 51.0<br>row of dataframe = 93"
         ],
         "type": "scatter",
         "x": [
          0.7326732673267327
         ],
         "y": [
          0.8316831683168316
         ]
        },
        {
         "legendgroup": "1",
         "marker": {
          "color": "#EF553B"
         },
         "mode": "markers",
         "name": "Dimension 1",
         "showlegend": false,
         "text": [
          "birth filtration = 0.7326732673267327<br>death filtration = 0.7821782178217822<br>interval length = 0.04950495049504955<br>birth simplex = [7, 41]<br>cyle representative nnz = 10<br>bounding chain nnz = 78.0<br>row of dataframe = 94"
         ],
         "type": "scatter",
         "x": [
          0.7326732673267327
         ],
         "y": [
          0.7821782178217822
         ]
        },
        {
         "legendgroup": "1",
         "marker": {
          "color": "#EF553B"
         },
         "mode": "markers",
         "name": "Dimension 1",
         "showlegend": false,
         "text": [
          "birth filtration = 0.7326732673267327<br>death filtration = 0.801980198019802<br>interval length = 0.06930693069306937<br>birth simplex = [5, 86]<br>cyle representative nnz = 15<br>bounding chain nnz = 83.0<br>row of dataframe = 95"
         ],
         "type": "scatter",
         "x": [
          0.7326732673267327
         ],
         "y": [
          0.801980198019802
         ]
        },
        {
         "legendgroup": "1",
         "marker": {
          "color": "#EF553B"
         },
         "mode": "markers",
         "name": "Dimension 1",
         "showlegend": false,
         "text": [
          "birth filtration = 0.7326732673267327<br>death filtration = 0.7425742574257426<br>interval length = 0.00990099009900991<br>birth simplex = [3, 99]<br>cyle representative nnz = 8<br>bounding chain nnz = 38.0<br>row of dataframe = 96"
         ],
         "type": "scatter",
         "x": [
          0.7326732673267327
         ],
         "y": [
          0.7425742574257426
         ]
        },
        {
         "legendgroup": "1",
         "marker": {
          "color": "#EF553B"
         },
         "mode": "markers",
         "name": "Dimension 1",
         "showlegend": false,
         "text": [
          "birth filtration = 0.7227722772277227<br>death filtration = 0.7920792079207921<br>interval length = 0.06930693069306937<br>birth simplex = [47, 96]<br>cyle representative nnz = 11<br>bounding chain nnz = 21.0<br>row of dataframe = 97"
         ],
         "type": "scatter",
         "x": [
          0.7227722772277227
         ],
         "y": [
          0.7920792079207921
         ]
        },
        {
         "legendgroup": "1",
         "marker": {
          "color": "#EF553B"
         },
         "mode": "markers",
         "name": "Dimension 1",
         "showlegend": false,
         "text": [
          "birth filtration = 0.7227722772277227<br>death filtration = 0.7524752475247525<br>interval length = 0.02970297029702973<br>birth simplex = [4, 38]<br>cyle representative nnz = 11<br>bounding chain nnz = 51.0<br>row of dataframe = 98"
         ],
         "type": "scatter",
         "x": [
          0.7227722772277227
         ],
         "y": [
          0.7524752475247525
         ]
        },
        {
         "legendgroup": "1",
         "marker": {
          "color": "#EF553B"
         },
         "mode": "markers",
         "name": "Dimension 1",
         "showlegend": false,
         "text": [
          "birth filtration = 0.7128712871287128<br>death filtration = 0.7326732673267327<br>interval length = 0.01980198019801982<br>birth simplex = [4, 37]<br>cyle representative nnz = 7<br>bounding chain nnz = 47.0<br>row of dataframe = 99"
         ],
         "type": "scatter",
         "x": [
          0.7128712871287128
         ],
         "y": [
          0.7326732673267327
         ]
        },
        {
         "legendgroup": "1",
         "marker": {
          "color": "#EF553B"
         },
         "mode": "markers",
         "name": "Dimension 1",
         "showlegend": false,
         "text": [
          "birth filtration = 0.7029702970297029<br>death filtration = 0.7128712871287128<br>interval length = 0.00990099009900991<br>birth simplex = [32, 100]<br>cyle representative nnz = 13<br>bounding chain nnz = 48.0<br>row of dataframe = 100"
         ],
         "type": "scatter",
         "x": [
          0.7029702970297029
         ],
         "y": [
          0.7128712871287128
         ]
        },
        {
         "legendgroup": "1",
         "marker": {
          "color": "#EF553B"
         },
         "mode": "markers",
         "name": "Dimension 1",
         "showlegend": false,
         "text": [
          "birth filtration = 0.693069306930693<br>death filtration = 0.7128712871287128<br>interval length = 0.01980198019801982<br>birth simplex = [17, 32]<br>cyle representative nnz = 4<br>bounding chain nnz = 22.0<br>row of dataframe = 101"
         ],
         "type": "scatter",
         "x": [
          0.693069306930693
         ],
         "y": [
          0.7128712871287128
         ]
        },
        {
         "legendgroup": "1",
         "marker": {
          "color": "#EF553B"
         },
         "mode": "markers",
         "name": "Dimension 1",
         "showlegend": false,
         "text": [
          "birth filtration = 0.6831683168316832<br>death filtration = 0.7029702970297029<br>interval length = 0.01980198019801971<br>birth simplex = [67, 71]<br>cyle representative nnz = 10<br>bounding chain nnz = 22.0<br>row of dataframe = 102"
         ],
         "type": "scatter",
         "x": [
          0.6831683168316832
         ],
         "y": [
          0.7029702970297029
         ]
        },
        {
         "legendgroup": "1",
         "marker": {
          "color": "#EF553B"
         },
         "mode": "markers",
         "name": "Dimension 1",
         "showlegend": false,
         "text": [
          "birth filtration = 0.6831683168316832<br>death filtration = 0.8712871287128713<br>interval length = 0.18811881188118806<br>birth simplex = [58, 68]<br>cyle representative nnz = 10<br>bounding chain nnz = 61.0<br>row of dataframe = 103"
         ],
         "type": "scatter",
         "x": [
          0.6831683168316832
         ],
         "y": [
          0.8712871287128713
         ]
        },
        {
         "legendgroup": "1",
         "marker": {
          "color": "#EF553B"
         },
         "mode": "markers",
         "name": "Dimension 1",
         "showlegend": false,
         "text": [
          "birth filtration = 0.6831683168316832<br>death filtration = 0.7128712871287128<br>interval length = 0.02970297029702962<br>birth simplex = [12, 32]<br>cyle representative nnz = 5<br>bounding chain nnz = 31.0<br>row of dataframe = 104"
         ],
         "type": "scatter",
         "x": [
          0.6831683168316832
         ],
         "y": [
          0.7128712871287128
         ]
        },
        {
         "legendgroup": "1",
         "marker": {
          "color": "#EF553B"
         },
         "mode": "markers",
         "name": "Dimension 1",
         "showlegend": false,
         "text": [
          "birth filtration = 0.6732673267326733<br>death filtration = 0.7425742574257426<br>interval length = 0.06930693069306926<br>birth simplex = [61, 88]<br>cyle representative nnz = 9<br>bounding chain nnz = 50.0<br>row of dataframe = 105"
         ],
         "type": "scatter",
         "x": [
          0.6732673267326733
         ],
         "y": [
          0.7425742574257426
         ]
        },
        {
         "legendgroup": "1",
         "marker": {
          "color": "#EF553B"
         },
         "mode": "markers",
         "name": "Dimension 1",
         "showlegend": false,
         "text": [
          "birth filtration = 0.6732673267326733<br>death filtration = 0.6831683168316832<br>interval length = 0.00990099009900991<br>birth simplex = [21, 24]<br>cyle representative nnz = 4<br>bounding chain nnz = 34.0<br>row of dataframe = 106"
         ],
         "type": "scatter",
         "x": [
          0.6732673267326733
         ],
         "y": [
          0.6831683168316832
         ]
        },
        {
         "legendgroup": "1",
         "marker": {
          "color": "#EF553B"
         },
         "mode": "markers",
         "name": "Dimension 1",
         "showlegend": false,
         "text": [
          "birth filtration = 0.6732673267326733<br>death filtration = 0.7227722772277227<br>interval length = 0.04950495049504944<br>birth simplex = [4, 43]<br>cyle representative nnz = 9<br>bounding chain nnz = 46.0<br>row of dataframe = 107"
         ],
         "type": "scatter",
         "x": [
          0.6732673267326733
         ],
         "y": [
          0.7227722772277227
         ]
        },
        {
         "legendgroup": "1",
         "marker": {
          "color": "#EF553B"
         },
         "mode": "markers",
         "name": "Dimension 1",
         "showlegend": false,
         "text": [
          "birth filtration = 0.6633663366336634<br>death filtration = 0.7227722772277227<br>interval length = 0.05940594059405935<br>birth simplex = [72, 74]<br>cyle representative nnz = 9<br>bounding chain nnz = 25.0<br>row of dataframe = 108"
         ],
         "type": "scatter",
         "x": [
          0.6633663366336634
         ],
         "y": [
          0.7227722772277227
         ]
        },
        {
         "legendgroup": "1",
         "marker": {
          "color": "#EF553B"
         },
         "mode": "markers",
         "name": "Dimension 1",
         "showlegend": false,
         "text": [
          "birth filtration = 0.6534653465346535<br>death filtration = 0.8316831683168316<br>interval length = 0.17821782178217815<br>birth simplex = [33, 68]<br>cyle representative nnz = 15<br>bounding chain nnz = 61.0<br>row of dataframe = 109"
         ],
         "type": "scatter",
         "x": [
          0.6534653465346535
         ],
         "y": [
          0.8316831683168316
         ]
        },
        {
         "legendgroup": "1",
         "marker": {
          "color": "#EF553B"
         },
         "mode": "markers",
         "name": "Dimension 1",
         "showlegend": false,
         "text": [
          "birth filtration = 0.6534653465346535<br>death filtration = 0.693069306930693<br>interval length = 0.03960396039603953<br>birth simplex = [20, 25]<br>cyle representative nnz = 4<br>bounding chain nnz = 38.0<br>row of dataframe = 110"
         ],
         "type": "scatter",
         "x": [
          0.6534653465346535
         ],
         "y": [
          0.693069306930693
         ]
        },
        {
         "legendgroup": "1",
         "marker": {
          "color": "#EF553B"
         },
         "mode": "markers",
         "name": "Dimension 1",
         "showlegend": false,
         "text": [
          "birth filtration = 0.6435643564356436<br>death filtration = 0.7029702970297029<br>interval length = 0.05940594059405935<br>birth simplex = [73, 93]<br>cyle representative nnz = 4<br>bounding chain nnz = 2.0<br>row of dataframe = 111"
         ],
         "type": "scatter",
         "x": [
          0.6435643564356436
         ],
         "y": [
          0.7029702970297029
         ]
        },
        {
         "legendgroup": "1",
         "marker": {
          "color": "#EF553B"
         },
         "mode": "markers",
         "name": "Dimension 1",
         "showlegend": false,
         "text": [
          "birth filtration = 0.6435643564356436<br>death filtration = 0.7128712871287128<br>interval length = 0.06930693069306926<br>birth simplex = [36, 54]<br>cyle representative nnz = 10<br>bounding chain nnz = 58.0<br>row of dataframe = 112"
         ],
         "type": "scatter",
         "x": [
          0.6435643564356436
         ],
         "y": [
          0.7128712871287128
         ]
        },
        {
         "legendgroup": "1",
         "marker": {
          "color": "#EF553B"
         },
         "mode": "markers",
         "name": "Dimension 1",
         "showlegend": false,
         "text": [
          "birth filtration = 0.6435643564356436<br>death filtration = 0.7227722772277227<br>interval length = 0.07920792079207917<br>birth simplex = [16, 40]<br>cyle representative nnz = 9<br>bounding chain nnz = 23.0<br>row of dataframe = 113"
         ],
         "type": "scatter",
         "x": [
          0.6435643564356436
         ],
         "y": [
          0.7227722772277227
         ]
        },
        {
         "legendgroup": "1",
         "marker": {
          "color": "#EF553B"
         },
         "mode": "markers",
         "name": "Dimension 1",
         "showlegend": false,
         "text": [
          "birth filtration = 0.6336633663366337<br>death filtration = 0.801980198019802<br>interval length = 0.16831683168316836<br>birth simplex = [66, 74]<br>cyle representative nnz = 7<br>bounding chain nnz = 51.0<br>row of dataframe = 114"
         ],
         "type": "scatter",
         "x": [
          0.6336633663366337
         ],
         "y": [
          0.801980198019802
         ]
        },
        {
         "legendgroup": "1",
         "marker": {
          "color": "#EF553B"
         },
         "mode": "markers",
         "name": "Dimension 1",
         "showlegend": false,
         "text": [
          "birth filtration = 0.6336633663366337<br>death filtration = 0.7128712871287128<br>interval length = 0.07920792079207917<br>birth simplex = [32, 37]<br>cyle representative nnz = 7<br>bounding chain nnz = 56.0<br>row of dataframe = 115"
         ],
         "type": "scatter",
         "x": [
          0.6336633663366337
         ],
         "y": [
          0.7128712871287128
         ]
        },
        {
         "legendgroup": "1",
         "marker": {
          "color": "#EF553B"
         },
         "mode": "markers",
         "name": "Dimension 1",
         "showlegend": false,
         "text": [
          "birth filtration = 0.6336633663366337<br>death filtration = 0.6732673267326733<br>interval length = 0.03960396039603964<br>birth simplex = [30, 59]<br>cyle representative nnz = 12<br>bounding chain nnz = 24.0<br>row of dataframe = 116"
         ],
         "type": "scatter",
         "x": [
          0.6336633663366337
         ],
         "y": [
          0.6732673267326733
         ]
        },
        {
         "legendgroup": "1",
         "marker": {
          "color": "#EF553B"
         },
         "mode": "markers",
         "name": "Dimension 1",
         "showlegend": false,
         "text": [
          "birth filtration = 0.6237623762376238<br>death filtration = 0.6534653465346535<br>interval length = 0.02970297029702973<br>birth simplex = [54, 85]<br>cyle representative nnz = 8<br>bounding chain nnz = 30.0<br>row of dataframe = 117"
         ],
         "type": "scatter",
         "x": [
          0.6237623762376238
         ],
         "y": [
          0.6534653465346535
         ]
        },
        {
         "legendgroup": "1",
         "marker": {
          "color": "#EF553B"
         },
         "mode": "markers",
         "name": "Dimension 1",
         "showlegend": false,
         "text": [
          "birth filtration = 0.6237623762376238<br>death filtration = 0.6435643564356436<br>interval length = 0.01980198019801982<br>birth simplex = [16, 54]<br>cyle representative nnz = 4<br>bounding chain nnz = 34.0<br>row of dataframe = 118"
         ],
         "type": "scatter",
         "x": [
          0.6237623762376238
         ],
         "y": [
          0.6435643564356436
         ]
        },
        {
         "legendgroup": "1",
         "marker": {
          "color": "#EF553B"
         },
         "mode": "markers",
         "name": "Dimension 1",
         "showlegend": false,
         "text": [
          "birth filtration = 0.6237623762376238<br>death filtration = 0.693069306930693<br>interval length = 0.06930693069306926<br>birth simplex = [2, 46]<br>cyle representative nnz = 14<br>bounding chain nnz = 52.0<br>row of dataframe = 119"
         ],
         "type": "scatter",
         "x": [
          0.6237623762376238
         ],
         "y": [
          0.693069306930693
         ]
        },
        {
         "legendgroup": "1",
         "marker": {
          "color": "#EF553B"
         },
         "mode": "markers",
         "name": "Dimension 1",
         "showlegend": false,
         "text": [
          "birth filtration = 0.6237623762376238<br>death filtration = 0.6732673267326733<br>interval length = 0.04950495049504955<br>birth simplex = [2, 3]<br>cyle representative nnz = 11<br>bounding chain nnz = 37.0<br>row of dataframe = 120"
         ],
         "type": "scatter",
         "x": [
          0.6237623762376238
         ],
         "y": [
          0.6732673267326733
         ]
        },
        {
         "legendgroup": "1",
         "marker": {
          "color": "#EF553B"
         },
         "mode": "markers",
         "name": "Dimension 1",
         "showlegend": false,
         "text": [
          "birth filtration = 0.6138613861386139<br>death filtration = 0.7524752475247525<br>interval length = 0.13861386138613863<br>birth simplex = [71, 81]<br>cyle representative nnz = 12<br>bounding chain nnz = 64.0<br>row of dataframe = 121"
         ],
         "type": "scatter",
         "x": [
          0.6138613861386139
         ],
         "y": [
          0.7524752475247525
         ]
        },
        {
         "legendgroup": "1",
         "marker": {
          "color": "#EF553B"
         },
         "mode": "markers",
         "name": "Dimension 1",
         "showlegend": false,
         "text": [
          "birth filtration = 0.6138613861386139<br>death filtration = 0.6435643564356436<br>interval length = 0.02970297029702973<br>birth simplex = [30, 89]<br>cyle representative nnz = 5<br>bounding chain nnz = 3.0<br>row of dataframe = 122"
         ],
         "type": "scatter",
         "x": [
          0.6138613861386139
         ],
         "y": [
          0.6435643564356436
         ]
        },
        {
         "legendgroup": "1",
         "marker": {
          "color": "#EF553B"
         },
         "mode": "markers",
         "name": "Dimension 1",
         "showlegend": false,
         "text": [
          "birth filtration = 0.6138613861386139<br>death filtration = 0.6435643564356436<br>interval length = 0.02970297029702973<br>birth simplex = [10, 76]<br>cyle representative nnz = 4<br>bounding chain nnz = 12.0<br>row of dataframe = 123"
         ],
         "type": "scatter",
         "x": [
          0.6138613861386139
         ],
         "y": [
          0.6435643564356436
         ]
        },
        {
         "legendgroup": "1",
         "marker": {
          "color": "#EF553B"
         },
         "mode": "markers",
         "name": "Dimension 1",
         "showlegend": false,
         "text": [
          "birth filtration = 0.6039603960396039<br>death filtration = 0.6336633663366337<br>interval length = 0.02970297029702973<br>birth simplex = [80, 90]<br>cyle representative nnz = 8<br>bounding chain nnz = 8.0<br>row of dataframe = 124"
         ],
         "type": "scatter",
         "x": [
          0.6039603960396039
         ],
         "y": [
          0.6336633663366337
         ]
        },
        {
         "legendgroup": "1",
         "marker": {
          "color": "#EF553B"
         },
         "mode": "markers",
         "name": "Dimension 1",
         "showlegend": false,
         "text": [
          "birth filtration = 0.6039603960396039<br>death filtration = 0.6237623762376238<br>interval length = 0.01980198019801982<br>birth simplex = [60, 67]<br>cyle representative nnz = 7<br>bounding chain nnz = 5.0<br>row of dataframe = 125"
         ],
         "type": "scatter",
         "x": [
          0.6039603960396039
         ],
         "y": [
          0.6237623762376238
         ]
        },
        {
         "legendgroup": "1",
         "marker": {
          "color": "#EF553B"
         },
         "mode": "markers",
         "name": "Dimension 1",
         "showlegend": false,
         "text": [
          "birth filtration = 0.6039603960396039<br>death filtration = 0.6237623762376238<br>interval length = 0.01980198019801982<br>birth simplex = [20, 96]<br>cyle representative nnz = 5<br>bounding chain nnz = 3.0<br>row of dataframe = 126"
         ],
         "type": "scatter",
         "x": [
          0.6039603960396039
         ],
         "y": [
          0.6237623762376238
         ]
        },
        {
         "legendgroup": "1",
         "marker": {
          "color": "#EF553B"
         },
         "mode": "markers",
         "name": "Dimension 1",
         "showlegend": false,
         "text": [
          "birth filtration = 0.6039603960396039<br>death filtration = 0.6138613861386139<br>interval length = 0.00990099009900991<br>birth simplex = [9, 45]<br>cyle representative nnz = 7<br>bounding chain nnz = 13.0<br>row of dataframe = 127"
         ],
         "type": "scatter",
         "x": [
          0.6039603960396039
         ],
         "y": [
          0.6138613861386139
         ]
        },
        {
         "legendgroup": "1",
         "marker": {
          "color": "#EF553B"
         },
         "mode": "markers",
         "name": "Dimension 1",
         "showlegend": false,
         "text": [
          "birth filtration = 0.6039603960396039<br>death filtration = 0.6336633663366337<br>interval length = 0.02970297029702973<br>birth simplex = [2, 37]<br>cyle representative nnz = 9<br>bounding chain nnz = 13.0<br>row of dataframe = 128"
         ],
         "type": "scatter",
         "x": [
          0.6039603960396039
         ],
         "y": [
          0.6336633663366337
         ]
        },
        {
         "legendgroup": "1",
         "marker": {
          "color": "#EF553B"
         },
         "mode": "markers",
         "name": "Dimension 1",
         "showlegend": false,
         "text": [
          "birth filtration = 0.594059405940594<br>death filtration = 0.7227722772277227<br>interval length = 0.12871287128712872<br>birth simplex = [68, 75]<br>cyle representative nnz = 11<br>bounding chain nnz = 30.0<br>row of dataframe = 129"
         ],
         "type": "scatter",
         "x": [
          0.594059405940594
         ],
         "y": [
          0.7227722772277227
         ]
        },
        {
         "legendgroup": "1",
         "marker": {
          "color": "#EF553B"
         },
         "mode": "markers",
         "name": "Dimension 1",
         "showlegend": false,
         "text": [
          "birth filtration = 0.594059405940594<br>death filtration = 0.6237623762376238<br>interval length = 0.02970297029702973<br>birth simplex = [59, 62]<br>cyle representative nnz = 8<br>bounding chain nnz = 10.0<br>row of dataframe = 130"
         ],
         "type": "scatter",
         "x": [
          0.594059405940594
         ],
         "y": [
          0.6237623762376238
         ]
        },
        {
         "legendgroup": "1",
         "marker": {
          "color": "#EF553B"
         },
         "mode": "markers",
         "name": "Dimension 1",
         "showlegend": false,
         "text": [
          "birth filtration = 0.594059405940594<br>death filtration = 0.6732673267326733<br>interval length = 0.07920792079207928<br>birth simplex = [33, 89]<br>cyle representative nnz = 6<br>bounding chain nnz = 38.0<br>row of dataframe = 131"
         ],
         "type": "scatter",
         "x": [
          0.594059405940594
         ],
         "y": [
          0.6732673267326733
         ]
        },
        {
         "legendgroup": "1",
         "marker": {
          "color": "#EF553B"
         },
         "mode": "markers",
         "name": "Dimension 1",
         "showlegend": false,
         "text": [
          "birth filtration = 0.594059405940594<br>death filtration = 0.6633663366336634<br>interval length = 0.06930693069306937<br>birth simplex = [31, 52]<br>cyle representative nnz = 7<br>bounding chain nnz = 13.0<br>row of dataframe = 132"
         ],
         "type": "scatter",
         "x": [
          0.594059405940594
         ],
         "y": [
          0.6633663366336634
         ]
        },
        {
         "legendgroup": "1",
         "marker": {
          "color": "#EF553B"
         },
         "mode": "markers",
         "name": "Dimension 1",
         "showlegend": false,
         "text": [
          "birth filtration = 0.5841584158415841<br>death filtration = 0.6831683168316832<br>interval length = 0.0990099009900991<br>birth simplex = [62, 67]<br>cyle representative nnz = 7<br>bounding chain nnz = 13.0<br>row of dataframe = 133"
         ],
         "type": "scatter",
         "x": [
          0.5841584158415841
         ],
         "y": [
          0.6831683168316832
         ]
        },
        {
         "legendgroup": "1",
         "marker": {
          "color": "#EF553B"
         },
         "mode": "markers",
         "name": "Dimension 1",
         "showlegend": false,
         "text": [
          "birth filtration = 0.5841584158415841<br>death filtration = 0.6138613861386139<br>interval length = 0.02970297029702973<br>birth simplex = [41, 89]<br>cyle representative nnz = 10<br>bounding chain nnz = 8.0<br>row of dataframe = 134"
         ],
         "type": "scatter",
         "x": [
          0.5841584158415841
         ],
         "y": [
          0.6138613861386139
         ]
        },
        {
         "legendgroup": "1",
         "marker": {
          "color": "#EF553B"
         },
         "mode": "markers",
         "name": "Dimension 1",
         "showlegend": false,
         "text": [
          "birth filtration = 0.5841584158415841<br>death filtration = 0.6039603960396039<br>interval length = 0.01980198019801982<br>birth simplex = [34, 54]<br>cyle representative nnz = 16<br>bounding chain nnz = 28.0<br>row of dataframe = 135"
         ],
         "type": "scatter",
         "x": [
          0.5841584158415841
         ],
         "y": [
          0.6039603960396039
         ]
        },
        {
         "legendgroup": "1",
         "marker": {
          "color": "#EF553B"
         },
         "mode": "markers",
         "name": "Dimension 1",
         "showlegend": false,
         "text": [
          "birth filtration = 0.5841584158415841<br>death filtration = 0.6138613861386139<br>interval length = 0.02970297029702973<br>birth simplex = [27, 89]<br>cyle representative nnz = 7<br>bounding chain nnz = 7.0<br>row of dataframe = 136"
         ],
         "type": "scatter",
         "x": [
          0.5841584158415841
         ],
         "y": [
          0.6138613861386139
         ]
        },
        {
         "legendgroup": "1",
         "marker": {
          "color": "#EF553B"
         },
         "mode": "markers",
         "name": "Dimension 1",
         "showlegend": false,
         "text": [
          "birth filtration = 0.5841584158415841<br>death filtration = 0.6336633663366337<br>interval length = 0.04950495049504955<br>birth simplex = [27, 34]<br>cyle representative nnz = 5<br>bounding chain nnz = 17.0<br>row of dataframe = 137"
         ],
         "type": "scatter",
         "x": [
          0.5841584158415841
         ],
         "y": [
          0.6336633663366337
         ]
        },
        {
         "legendgroup": "1",
         "marker": {
          "color": "#EF553B"
         },
         "mode": "markers",
         "name": "Dimension 1",
         "showlegend": false,
         "text": [
          "birth filtration = 0.5841584158415841<br>death filtration = 0.6633663366336634<br>interval length = 0.07920792079207928<br>birth simplex = [16, 78]<br>cyle representative nnz = 6<br>bounding chain nnz = 12.0<br>row of dataframe = 138"
         ],
         "type": "scatter",
         "x": [
          0.5841584158415841
         ],
         "y": [
          0.6633663366336634
         ]
        },
        {
         "legendgroup": "1",
         "marker": {
          "color": "#EF553B"
         },
         "mode": "markers",
         "name": "Dimension 1",
         "showlegend": false,
         "text": [
          "birth filtration = 0.5841584158415841<br>death filtration = 0.594059405940594<br>interval length = 0.00990099009900991<br>birth simplex = [14, 34]<br>cyle representative nnz = 7<br>bounding chain nnz = 21.0<br>row of dataframe = 139"
         ],
         "type": "scatter",
         "x": [
          0.5841584158415841
         ],
         "y": [
          0.594059405940594
         ]
        },
        {
         "legendgroup": "1",
         "marker": {
          "color": "#EF553B"
         },
         "mode": "markers",
         "name": "Dimension 1",
         "showlegend": false,
         "text": [
          "birth filtration = 0.5841584158415841<br>death filtration = 0.8316831683168316<br>interval length = 0.24752475247524752<br>birth simplex = [0, 90]<br>cyle representative nnz = 7<br>bounding chain nnz = 57.0<br>row of dataframe = 140"
         ],
         "type": "scatter",
         "x": [
          0.5841584158415841
         ],
         "y": [
          0.8316831683168316
         ]
        },
        {
         "legendgroup": "1",
         "marker": {
          "color": "#EF553B"
         },
         "mode": "markers",
         "name": "Dimension 1",
         "showlegend": false,
         "text": [
          "birth filtration = 0.5742574257425742<br>death filtration = 0.5841584158415841<br>interval length = 0.00990099009900991<br>birth simplex = [73, 84]<br>cyle representative nnz = 5<br>bounding chain nnz = 3.0<br>row of dataframe = 141"
         ],
         "type": "scatter",
         "x": [
          0.5742574257425742
         ],
         "y": [
          0.5841584158415841
         ]
        },
        {
         "legendgroup": "1",
         "marker": {
          "color": "#EF553B"
         },
         "mode": "markers",
         "name": "Dimension 1",
         "showlegend": false,
         "text": [
          "birth filtration = 0.5742574257425742<br>death filtration = 0.6534653465346535<br>interval length = 0.07920792079207928<br>birth simplex = [54, 59]<br>cyle representative nnz = 5<br>bounding chain nnz = 44.0<br>row of dataframe = 142"
         ],
         "type": "scatter",
         "x": [
          0.5742574257425742
         ],
         "y": [
          0.6534653465346535
         ]
        },
        {
         "legendgroup": "1",
         "marker": {
          "color": "#EF553B"
         },
         "mode": "markers",
         "name": "Dimension 1",
         "showlegend": false,
         "text": [
          "birth filtration = 0.5742574257425742<br>death filtration = 0.594059405940594<br>interval length = 0.01980198019801982<br>birth simplex = [44, 57]<br>cyle representative nnz = 10<br>bounding chain nnz = 34.0<br>row of dataframe = 143"
         ],
         "type": "scatter",
         "x": [
          0.5742574257425742
         ],
         "y": [
          0.594059405940594
         ]
        },
        {
         "legendgroup": "1",
         "marker": {
          "color": "#EF553B"
         },
         "mode": "markers",
         "name": "Dimension 1",
         "showlegend": false,
         "text": [
          "birth filtration = 0.5742574257425742<br>death filtration = 0.6336633663366337<br>interval length = 0.05940594059405946<br>birth simplex = [36, 45]<br>cyle representative nnz = 8<br>bounding chain nnz = 24.0<br>row of dataframe = 144"
         ],
         "type": "scatter",
         "x": [
          0.5742574257425742
         ],
         "y": [
          0.6336633663366337
         ]
        },
        {
         "legendgroup": "1",
         "marker": {
          "color": "#EF553B"
         },
         "mode": "markers",
         "name": "Dimension 1",
         "showlegend": false,
         "text": [
          "birth filtration = 0.5742574257425742<br>death filtration = 0.7821782178217822<br>interval length = 0.207920792079208<br>birth simplex = [33, 45]<br>cyle representative nnz = 16<br>bounding chain nnz = 52.0<br>row of dataframe = 145"
         ],
         "type": "scatter",
         "x": [
          0.5742574257425742
         ],
         "y": [
          0.7821782178217822
         ]
        },
        {
         "legendgroup": "1",
         "marker": {
          "color": "#EF553B"
         },
         "mode": "markers",
         "name": "Dimension 1",
         "showlegend": false,
         "text": [
          "birth filtration = 0.5742574257425742<br>death filtration = 0.6732673267326733<br>interval length = 0.0990099009900991<br>birth simplex = [27, 73]<br>cyle representative nnz = 6<br>bounding chain nnz = 26.0<br>row of dataframe = 146"
         ],
         "type": "scatter",
         "x": [
          0.5742574257425742
         ],
         "y": [
          0.6732673267326733
         ]
        },
        {
         "legendgroup": "1",
         "marker": {
          "color": "#EF553B"
         },
         "mode": "markers",
         "name": "Dimension 1",
         "showlegend": false,
         "text": [
          "birth filtration = 0.5742574257425742<br>death filtration = 0.6732673267326733<br>interval length = 0.0990099009900991<br>birth simplex = [2, 52]<br>cyle representative nnz = 13<br>bounding chain nnz = 34.0<br>row of dataframe = 147"
         ],
         "type": "scatter",
         "x": [
          0.5742574257425742
         ],
         "y": [
          0.6732673267326733
         ]
        },
        {
         "legendgroup": "1",
         "marker": {
          "color": "#EF553B"
         },
         "mode": "markers",
         "name": "Dimension 1",
         "showlegend": false,
         "text": [
          "birth filtration = 0.5643564356435643<br>death filtration = 0.6237623762376238<br>interval length = 0.05940594059405946<br>birth simplex = [82, 96]<br>cyle representative nnz = 5<br>bounding chain nnz = 7.0<br>row of dataframe = 148"
         ],
         "type": "scatter",
         "x": [
          0.5643564356435643
         ],
         "y": [
          0.6237623762376238
         ]
        },
        {
         "legendgroup": "1",
         "marker": {
          "color": "#EF553B"
         },
         "mode": "markers",
         "name": "Dimension 1",
         "showlegend": false,
         "text": [
          "birth filtration = 0.5643564356435643<br>death filtration = 0.6435643564356436<br>interval length = 0.07920792079207928<br>birth simplex = [57, 85]<br>cyle representative nnz = 10<br>bounding chain nnz = 34.0<br>row of dataframe = 149"
         ],
         "type": "scatter",
         "x": [
          0.5643564356435643
         ],
         "y": [
          0.6435643564356436
         ]
        },
        {
         "legendgroup": "1",
         "marker": {
          "color": "#EF553B"
         },
         "mode": "markers",
         "name": "Dimension 1",
         "showlegend": false,
         "text": [
          "birth filtration = 0.5643564356435643<br>death filtration = 0.8118811881188119<br>interval length = 0.24752475247524763<br>birth simplex = [54, 83]<br>cyle representative nnz = 6<br>bounding chain nnz = 49.0<br>row of dataframe = 150"
         ],
         "type": "scatter",
         "x": [
          0.5643564356435643
         ],
         "y": [
          0.8118811881188119
         ]
        },
        {
         "legendgroup": "1",
         "marker": {
          "color": "#EF553B"
         },
         "mode": "markers",
         "name": "Dimension 1",
         "showlegend": false,
         "text": [
          "birth filtration = 0.5643564356435643<br>death filtration = 0.6039603960396039<br>interval length = 0.03960396039603964<br>birth simplex = [38, 92]<br>cyle representative nnz = 9<br>bounding chain nnz = 9.0<br>row of dataframe = 151"
         ],
         "type": "scatter",
         "x": [
          0.5643564356435643
         ],
         "y": [
          0.6039603960396039
         ]
        },
        {
         "legendgroup": "1",
         "marker": {
          "color": "#EF553B"
         },
         "mode": "markers",
         "name": "Dimension 1",
         "showlegend": false,
         "text": [
          "birth filtration = 0.5643564356435643<br>death filtration = 0.7029702970297029<br>interval length = 0.13861386138613863<br>birth simplex = [2, 71]<br>cyle representative nnz = 10<br>bounding chain nnz = 42.0<br>row of dataframe = 152"
         ],
         "type": "scatter",
         "x": [
          0.5643564356435643
         ],
         "y": [
          0.7029702970297029
         ]
        },
        {
         "legendgroup": "1",
         "marker": {
          "color": "#EF553B"
         },
         "mode": "markers",
         "name": "Dimension 1",
         "showlegend": false,
         "text": [
          "birth filtration = 0.5544554455445545<br>death filtration = 0.693069306930693<br>interval length = 0.13861386138613851<br>birth simplex = [46, 92]<br>cyle representative nnz = 8<br>bounding chain nnz = 10.0<br>row of dataframe = 153"
         ],
         "type": "scatter",
         "x": [
          0.5544554455445545
         ],
         "y": [
          0.693069306930693
         ]
        },
        {
         "legendgroup": "1",
         "marker": {
          "color": "#EF553B"
         },
         "mode": "markers",
         "name": "Dimension 1",
         "showlegend": false,
         "text": [
          "birth filtration = 0.5544554455445545<br>death filtration = 0.594059405940594<br>interval length = 0.03960396039603953<br>birth simplex = [43, 56]<br>cyle representative nnz = 7<br>bounding chain nnz = 17.0<br>row of dataframe = 154"
         ],
         "type": "scatter",
         "x": [
          0.5544554455445545
         ],
         "y": [
          0.594059405940594
         ]
        },
        {
         "legendgroup": "1",
         "marker": {
          "color": "#EF553B"
         },
         "mode": "markers",
         "name": "Dimension 1",
         "showlegend": false,
         "text": [
          "birth filtration = 0.5544554455445545<br>death filtration = 0.7326732673267327<br>interval length = 0.17821782178217815<br>birth simplex = [31, 53]<br>cyle representative nnz = 7<br>bounding chain nnz = 19.0<br>row of dataframe = 155"
         ],
         "type": "scatter",
         "x": [
          0.5544554455445545
         ],
         "y": [
          0.7326732673267327
         ]
        },
        {
         "legendgroup": "1",
         "marker": {
          "color": "#EF553B"
         },
         "mode": "markers",
         "name": "Dimension 1",
         "showlegend": false,
         "text": [
          "birth filtration = 0.5544554455445545<br>death filtration = 0.5841584158415841<br>interval length = 0.02970297029702962<br>birth simplex = [16, 93]<br>cyle representative nnz = 4<br>bounding chain nnz = 2.0<br>row of dataframe = 156"
         ],
         "type": "scatter",
         "x": [
          0.5544554455445545
         ],
         "y": [
          0.5841584158415841
         ]
        },
        {
         "legendgroup": "1",
         "marker": {
          "color": "#EF553B"
         },
         "mode": "markers",
         "name": "Dimension 1",
         "showlegend": false,
         "text": [
          "birth filtration = 0.5544554455445545<br>death filtration = 0.7326732673267327<br>interval length = 0.17821782178217815<br>birth simplex = [14, 45]<br>cyle representative nnz = 8<br>bounding chain nnz = 10.0<br>row of dataframe = 157"
         ],
         "type": "scatter",
         "x": [
          0.5544554455445545
         ],
         "y": [
          0.7326732673267327
         ]
        },
        {
         "legendgroup": "1",
         "marker": {
          "color": "#EF553B"
         },
         "mode": "markers",
         "name": "Dimension 1",
         "showlegend": false,
         "text": [
          "birth filtration = 0.5445544554455446<br>death filtration = 0.5544554455445545<br>interval length = 0.00990099009900991<br>birth simplex = [52, 75]<br>cyle representative nnz = 6<br>bounding chain nnz = 6.0<br>row of dataframe = 158"
         ],
         "type": "scatter",
         "x": [
          0.5445544554455446
         ],
         "y": [
          0.5544554455445545
         ]
        },
        {
         "legendgroup": "1",
         "marker": {
          "color": "#EF553B"
         },
         "mode": "markers",
         "name": "Dimension 1",
         "showlegend": false,
         "text": [
          "birth filtration = 0.5445544554455446<br>death filtration = 0.6039603960396039<br>interval length = 0.05940594059405935<br>birth simplex = [45, 80]<br>cyle representative nnz = 9<br>bounding chain nnz = 15.0<br>row of dataframe = 159"
         ],
         "type": "scatter",
         "x": [
          0.5445544554455446
         ],
         "y": [
          0.6039603960396039
         ]
        },
        {
         "legendgroup": "1",
         "marker": {
          "color": "#EF553B"
         },
         "mode": "markers",
         "name": "Dimension 1",
         "showlegend": false,
         "text": [
          "birth filtration = 0.5445544554455446<br>death filtration = 0.5841584158415841<br>interval length = 0.03960396039603953<br>birth simplex = [20, 59]<br>cyle representative nnz = 5<br>bounding chain nnz = 5.0<br>row of dataframe = 160"
         ],
         "type": "scatter",
         "x": [
          0.5445544554455446
         ],
         "y": [
          0.5841584158415841
         ]
        },
        {
         "legendgroup": "1",
         "marker": {
          "color": "#EF553B"
         },
         "mode": "markers",
         "name": "Dimension 1",
         "showlegend": false,
         "text": [
          "birth filtration = 0.5346534653465347<br>death filtration = 0.6435643564356436<br>interval length = 0.1089108910891089<br>birth simplex = [16, 30]<br>cyle representative nnz = 6<br>bounding chain nnz = 8.0<br>row of dataframe = 161"
         ],
         "type": "scatter",
         "x": [
          0.5346534653465347
         ],
         "y": [
          0.6435643564356436
         ]
        },
        {
         "legendgroup": "1",
         "marker": {
          "color": "#EF553B"
         },
         "mode": "markers",
         "name": "Dimension 1",
         "showlegend": false,
         "text": [
          "birth filtration = 0.5346534653465347<br>death filtration = 0.5643564356435643<br>interval length = 0.02970297029702962<br>birth simplex = [14, 53]<br>cyle representative nnz = 6<br>bounding chain nnz = 4.0<br>row of dataframe = 162"
         ],
         "type": "scatter",
         "x": [
          0.5346534653465347
         ],
         "y": [
          0.5643564356435643
         ]
        },
        {
         "legendgroup": "1",
         "marker": {
          "color": "#EF553B"
         },
         "mode": "markers",
         "name": "Dimension 1",
         "showlegend": false,
         "text": [
          "birth filtration = 0.5346534653465347<br>death filtration = 0.6237623762376238<br>interval length = 0.08910891089108908<br>birth simplex = [12, 52]<br>cyle representative nnz = 10<br>bounding chain nnz = 24.0<br>row of dataframe = 163"
         ],
         "type": "scatter",
         "x": [
          0.5346534653465347
         ],
         "y": [
          0.6237623762376238
         ]
        },
        {
         "legendgroup": "1",
         "marker": {
          "color": "#EF553B"
         },
         "mode": "markers",
         "name": "Dimension 1",
         "showlegend": false,
         "text": [
          "birth filtration = 0.5247524752475248<br>death filtration = 0.6336633663366337<br>interval length = 0.1089108910891089<br>birth simplex = [79, 89]<br>cyle representative nnz = 9<br>bounding chain nnz = 11.0<br>row of dataframe = 164"
         ],
         "type": "scatter",
         "x": [
          0.5247524752475248
         ],
         "y": [
          0.6336633663366337
         ]
        },
        {
         "legendgroup": "1",
         "marker": {
          "color": "#EF553B"
         },
         "mode": "markers",
         "name": "Dimension 1",
         "showlegend": false,
         "text": [
          "birth filtration = 0.5247524752475248<br>death filtration = 0.5346534653465347<br>interval length = 0.00990099009900991<br>birth simplex = [69, 83]<br>cyle representative nnz = 5<br>bounding chain nnz = 7.0<br>row of dataframe = 165"
         ],
         "type": "scatter",
         "x": [
          0.5247524752475248
         ],
         "y": [
          0.5346534653465347
         ]
        },
        {
         "legendgroup": "1",
         "marker": {
          "color": "#EF553B"
         },
         "mode": "markers",
         "name": "Dimension 1",
         "showlegend": false,
         "text": [
          "birth filtration = 0.5247524752475248<br>death filtration = 0.6336633663366337<br>interval length = 0.1089108910891089<br>birth simplex = [45, 52]<br>cyle representative nnz = 8<br>bounding chain nnz = 24.0<br>row of dataframe = 166"
         ],
         "type": "scatter",
         "x": [
          0.5247524752475248
         ],
         "y": [
          0.6336633663366337
         ]
        },
        {
         "legendgroup": "1",
         "marker": {
          "color": "#EF553B"
         },
         "mode": "markers",
         "name": "Dimension 1",
         "showlegend": false,
         "text": [
          "birth filtration = 0.5247524752475248<br>death filtration = 0.5643564356435643<br>interval length = 0.03960396039603953<br>birth simplex = [40, 100]<br>cyle representative nnz = 5<br>bounding chain nnz = 3.0<br>row of dataframe = 167"
         ],
         "type": "scatter",
         "x": [
          0.5247524752475248
         ],
         "y": [
          0.5643564356435643
         ]
        },
        {
         "legendgroup": "1",
         "marker": {
          "color": "#EF553B"
         },
         "mode": "markers",
         "name": "Dimension 1",
         "showlegend": false,
         "text": [
          "birth filtration = 0.5247524752475248<br>death filtration = 0.6831683168316832<br>interval length = 0.15841584158415845<br>birth simplex = [36, 90]<br>cyle representative nnz = 10<br>bounding chain nnz = 46.0<br>row of dataframe = 168"
         ],
         "type": "scatter",
         "x": [
          0.5247524752475248
         ],
         "y": [
          0.6831683168316832
         ]
        },
        {
         "legendgroup": "1",
         "marker": {
          "color": "#EF553B"
         },
         "mode": "markers",
         "name": "Dimension 1",
         "showlegend": false,
         "text": [
          "birth filtration = 0.5148514851485149<br>death filtration = 0.5247524752475248<br>interval length = 0.00990099009900991<br>birth simplex = [57, 78]<br>cyle representative nnz = 9<br>bounding chain nnz = 11.0<br>row of dataframe = 169"
         ],
         "type": "scatter",
         "x": [
          0.5148514851485149
         ],
         "y": [
          0.5247524752475248
         ]
        },
        {
         "legendgroup": "1",
         "marker": {
          "color": "#EF553B"
         },
         "mode": "markers",
         "name": "Dimension 1",
         "showlegend": false,
         "text": [
          "birth filtration = 0.5148514851485149<br>death filtration = 0.6633663366336634<br>interval length = 0.14851485148514854<br>birth simplex = [42, 90]<br>cyle representative nnz = 6<br>bounding chain nnz = 12.0<br>row of dataframe = 170"
         ],
         "type": "scatter",
         "x": [
          0.5148514851485149
         ],
         "y": [
          0.6633663366336634
         ]
        },
        {
         "legendgroup": "1",
         "marker": {
          "color": "#EF553B"
         },
         "mode": "markers",
         "name": "Dimension 1",
         "showlegend": false,
         "text": [
          "birth filtration = 0.5148514851485149<br>death filtration = 0.5247524752475248<br>interval length = 0.00990099009900991<br>birth simplex = [41, 97]<br>cyle representative nnz = 9<br>bounding chain nnz = 13.0<br>row of dataframe = 171"
         ],
         "type": "scatter",
         "x": [
          0.5148514851485149
         ],
         "y": [
          0.5247524752475248
         ]
        },
        {
         "legendgroup": "1",
         "marker": {
          "color": "#EF553B"
         },
         "mode": "markers",
         "name": "Dimension 1",
         "showlegend": false,
         "text": [
          "birth filtration = 0.5148514851485149<br>death filtration = 0.5247524752475248<br>interval length = 0.00990099009900991<br>birth simplex = [27, 74]<br>cyle representative nnz = 7<br>bounding chain nnz = 5.0<br>row of dataframe = 172"
         ],
         "type": "scatter",
         "x": [
          0.5148514851485149
         ],
         "y": [
          0.5247524752475248
         ]
        },
        {
         "legendgroup": "1",
         "marker": {
          "color": "#EF553B"
         },
         "mode": "markers",
         "name": "Dimension 1",
         "showlegend": false,
         "text": [
          "birth filtration = 0.5148514851485149<br>death filtration = 0.6039603960396039<br>interval length = 0.08910891089108908<br>birth simplex = [9, 40]<br>cyle representative nnz = 6<br>bounding chain nnz = 10.0<br>row of dataframe = 173"
         ],
         "type": "scatter",
         "x": [
          0.5148514851485149
         ],
         "y": [
          0.6039603960396039
         ]
        },
        {
         "legendgroup": "1",
         "marker": {
          "color": "#EF553B"
         },
         "mode": "markers",
         "name": "Dimension 1",
         "showlegend": false,
         "text": [
          "birth filtration = 0.504950495049505<br>death filtration = 0.5742574257425742<br>interval length = 0.06930693069306926<br>birth simplex = [24, 83]<br>cyle representative nnz = 7<br>bounding chain nnz = 5.0<br>row of dataframe = 174"
         ],
         "type": "scatter",
         "x": [
          0.504950495049505
         ],
         "y": [
          0.5742574257425742
         ]
        },
        {
         "legendgroup": "1",
         "marker": {
          "color": "#EF553B"
         },
         "mode": "markers",
         "name": "Dimension 1",
         "showlegend": false,
         "text": [
          "birth filtration = 0.504950495049505<br>death filtration = 0.5148514851485149<br>interval length = 0.00990099009900991<br>birth simplex = [11, 40]<br>cyle representative nnz = 7<br>bounding chain nnz = 7.0<br>row of dataframe = 175"
         ],
         "type": "scatter",
         "x": [
          0.504950495049505
         ],
         "y": [
          0.5148514851485149
         ]
        },
        {
         "legendgroup": "1",
         "marker": {
          "color": "#EF553B"
         },
         "mode": "markers",
         "name": "Dimension 1",
         "showlegend": false,
         "text": [
          "birth filtration = 0.49504950495049505<br>death filtration = 0.5247524752475248<br>interval length = 0.02970297029702973<br>birth simplex = [57, 93]<br>cyle representative nnz = 7<br>bounding chain nnz = 9.0<br>row of dataframe = 176"
         ],
         "type": "scatter",
         "x": [
          0.49504950495049505
         ],
         "y": [
          0.5247524752475248
         ]
        },
        {
         "legendgroup": "1",
         "marker": {
          "color": "#EF553B"
         },
         "mode": "markers",
         "name": "Dimension 1",
         "showlegend": false,
         "text": [
          "birth filtration = 0.49504950495049505<br>death filtration = 0.6138613861386139<br>interval length = 0.1188118811881188<br>birth simplex = [55, 82]<br>cyle representative nnz = 6<br>bounding chain nnz = 14.0<br>row of dataframe = 177"
         ],
         "type": "scatter",
         "x": [
          0.49504950495049505
         ],
         "y": [
          0.6138613861386139
         ]
        },
        {
         "legendgroup": "1",
         "marker": {
          "color": "#EF553B"
         },
         "mode": "markers",
         "name": "Dimension 1",
         "showlegend": false,
         "text": [
          "birth filtration = 0.49504950495049505<br>death filtration = 0.6633663366336634<br>interval length = 0.16831683168316836<br>birth simplex = [42, 56]<br>cyle representative nnz = 10<br>bounding chain nnz = 34.0<br>row of dataframe = 178"
         ],
         "type": "scatter",
         "x": [
          0.49504950495049505
         ],
         "y": [
          0.6633663366336634
         ]
        },
        {
         "legendgroup": "1",
         "marker": {
          "color": "#EF553B"
         },
         "mode": "markers",
         "name": "Dimension 1",
         "showlegend": false,
         "text": [
          "birth filtration = 0.49504950495049505<br>death filtration = 0.504950495049505<br>interval length = 0.00990099009900991<br>birth simplex = [37, 55]<br>cyle representative nnz = 7<br>bounding chain nnz = 5.0<br>row of dataframe = 179"
         ],
         "type": "scatter",
         "x": [
          0.49504950495049505
         ],
         "y": [
          0.504950495049505
         ]
        },
        {
         "legendgroup": "1",
         "marker": {
          "color": "#EF553B"
         },
         "mode": "markers",
         "name": "Dimension 1",
         "showlegend": false,
         "text": [
          "birth filtration = 0.48514851485148514<br>death filtration = 0.49504950495049505<br>interval length = 0.00990099009900991<br>birth simplex = [57, 74]<br>cyle representative nnz = 5<br>bounding chain nnz = 3.0<br>row of dataframe = 180"
         ],
         "type": "scatter",
         "x": [
          0.48514851485148514
         ],
         "y": [
          0.49504950495049505
         ]
        },
        {
         "legendgroup": "1",
         "marker": {
          "color": "#EF553B"
         },
         "mode": "markers",
         "name": "Dimension 1",
         "showlegend": false,
         "text": [
          "birth filtration = 0.48514851485148514<br>death filtration = 0.5247524752475248<br>interval length = 0.03960396039603964<br>birth simplex = [43, 75]<br>cyle representative nnz = 6<br>bounding chain nnz = 8.0<br>row of dataframe = 181"
         ],
         "type": "scatter",
         "x": [
          0.48514851485148514
         ],
         "y": [
          0.5247524752475248
         ]
        },
        {
         "legendgroup": "1",
         "marker": {
          "color": "#EF553B"
         },
         "mode": "markers",
         "name": "Dimension 1",
         "showlegend": false,
         "text": [
          "birth filtration = 0.4752475247524752<br>death filtration = 0.504950495049505<br>interval length = 0.02970297029702973<br>birth simplex = [70, 94]<br>cyle representative nnz = 8<br>bounding chain nnz = 10.0<br>row of dataframe = 182"
         ],
         "type": "scatter",
         "x": [
          0.4752475247524752
         ],
         "y": [
          0.504950495049505
         ]
        },
        {
         "legendgroup": "1",
         "marker": {
          "color": "#EF553B"
         },
         "mode": "markers",
         "name": "Dimension 1",
         "showlegend": false,
         "text": [
          "birth filtration = 0.4752475247524752<br>death filtration = 0.49504950495049505<br>interval length = 0.01980198019801982<br>birth simplex = [20, 42]<br>cyle representative nnz = 4<br>bounding chain nnz = 2.0<br>row of dataframe = 183"
         ],
         "type": "scatter",
         "x": [
          0.4752475247524752
         ],
         "y": [
          0.49504950495049505
         ]
        },
        {
         "legendgroup": "1",
         "marker": {
          "color": "#EF553B"
         },
         "mode": "markers",
         "name": "Dimension 1",
         "showlegend": false,
         "text": [
          "birth filtration = 0.4752475247524752<br>death filtration = 0.49504950495049505<br>interval length = 0.01980198019801982<br>birth simplex = [11, 42]<br>cyle representative nnz = 6<br>bounding chain nnz = 4.0<br>row of dataframe = 184"
         ],
         "type": "scatter",
         "x": [
          0.4752475247524752
         ],
         "y": [
          0.49504950495049505
         ]
        },
        {
         "legendgroup": "1",
         "marker": {
          "color": "#EF553B"
         },
         "mode": "markers",
         "name": "Dimension 1",
         "showlegend": false,
         "text": [
          "birth filtration = 0.4752475247524752<br>death filtration = 0.6633663366336634<br>interval length = 0.18811881188118817<br>birth simplex = [10, 28]<br>cyle representative nnz = 9<br>bounding chain nnz = 19.0<br>row of dataframe = 185"
         ],
         "type": "scatter",
         "x": [
          0.4752475247524752
         ],
         "y": [
          0.6633663366336634
         ]
        },
        {
         "legendgroup": "1",
         "marker": {
          "color": "#EF553B"
         },
         "mode": "markers",
         "name": "Dimension 1",
         "showlegend": false,
         "text": [
          "birth filtration = 0.43564356435643564<br>death filtration = 0.45544554455445546<br>interval length = 0.01980198019801982<br>birth simplex = [69, 70]<br>cyle representative nnz = 6<br>bounding chain nnz = 4.0<br>row of dataframe = 186"
         ],
         "type": "scatter",
         "x": [
          0.43564356435643564
         ],
         "y": [
          0.45544554455445546
         ]
        },
        {
         "legendgroup": "1",
         "marker": {
          "color": "#EF553B"
         },
         "mode": "markers",
         "name": "Dimension 1",
         "showlegend": false,
         "text": [
          "birth filtration = 0.4158415841584158<br>death filtration = 0.42574257425742573<br>interval length = 0.00990099009900991<br>birth simplex = [55, 70]<br>cyle representative nnz = 4<br>bounding chain nnz = 2.0<br>row of dataframe = 187"
         ],
         "type": "scatter",
         "x": [
          0.4158415841584158
         ],
         "y": [
          0.42574257425742573
         ]
        },
        {
         "legendgroup": "2",
         "marker": {
          "color": "#00CC96"
         },
         "mode": "markers",
         "name": "Dimension 2",
         "showlegend": true,
         "text": [
          "birth filtration = 0.9801980198019802<br>death filtration = 0.9900990099009901<br>interval length = 0.00990099009900991<br>birth simplex = [18, 64, 98]<br>cyle representative nnz = 20<br>bounding chain nnz = 110.0<br>row of dataframe = 188"
         ],
         "type": "scatter",
         "x": [
          0.9801980198019802
         ],
         "y": [
          0.9900990099009901
         ]
        },
        {
         "legendgroup": "2",
         "marker": {
          "color": "#00CC96"
         },
         "mode": "markers",
         "name": "Dimension 2",
         "showlegend": false,
         "text": [
          "birth filtration = 0.9603960396039604<br>death filtration = 0.9801980198019802<br>interval length = 0.01980198019801982<br>birth simplex = [58, 64, 77]<br>cyle representative nnz = 110<br>bounding chain nnz = 509.0<br>row of dataframe = 189"
         ],
         "type": "scatter",
         "x": [
          0.9603960396039604
         ],
         "y": [
          0.9801980198019802
         ]
        },
        {
         "legendgroup": "2",
         "marker": {
          "color": "#00CC96"
         },
         "mode": "markers",
         "name": "Dimension 2",
         "showlegend": false,
         "text": [
          "birth filtration = 0.9504950495049505<br>death filtration = 0.9702970297029703<br>interval length = 0.01980198019801982<br>birth simplex = [35, 61, 81]<br>cyle representative nnz = 40<br>bounding chain nnz = 506.0<br>row of dataframe = 190"
         ],
         "type": "scatter",
         "x": [
          0.9504950495049505
         ],
         "y": [
          0.9702970297029703
         ]
        },
        {
         "legendgroup": "2",
         "marker": {
          "color": "#00CC96"
         },
         "mode": "markers",
         "name": "Dimension 2",
         "showlegend": false,
         "text": [
          "birth filtration = 0.9504950495049505<br>death filtration = 0.9603960396039604<br>interval length = 0.00990099009900991<br>birth simplex = [25, 32, 68]<br>cyle representative nnz = 54<br>bounding chain nnz = 410.0<br>row of dataframe = 191"
         ],
         "type": "scatter",
         "x": [
          0.9504950495049505
         ],
         "y": [
          0.9603960396039604
         ]
        },
        {
         "legendgroup": "2",
         "marker": {
          "color": "#00CC96"
         },
         "mode": "markers",
         "name": "Dimension 2",
         "showlegend": false,
         "text": [
          "birth filtration = 0.9306930693069307<br>death filtration = 0.9504950495049505<br>interval length = 0.01980198019801971<br>birth simplex = [12, 15, 50]<br>cyle representative nnz = 89<br>bounding chain nnz = 249.0<br>row of dataframe = 192"
         ],
         "type": "scatter",
         "x": [
          0.9306930693069307
         ],
         "y": [
          0.9504950495049505
         ]
        },
        {
         "legendgroup": "2",
         "marker": {
          "color": "#00CC96"
         },
         "mode": "markers",
         "name": "Dimension 2",
         "showlegend": false,
         "text": [
          "birth filtration = 0.9207920792079208<br>death filtration = 0.9504950495049505<br>interval length = 0.02970297029702962<br>birth simplex = [15, 63, 64]<br>cyle representative nnz = 77<br>bounding chain nnz = 234.0<br>row of dataframe = 193"
         ],
         "type": "scatter",
         "x": [
          0.9207920792079208
         ],
         "y": [
          0.9504950495049505
         ]
        },
        {
         "legendgroup": "2",
         "marker": {
          "color": "#00CC96"
         },
         "mode": "markers",
         "name": "Dimension 2",
         "showlegend": false,
         "text": [
          "birth filtration = 0.9207920792079208<br>death filtration = 0.9504950495049505<br>interval length = 0.02970297029702962<br>birth simplex = [15, 54, 64]<br>cyle representative nnz = 22<br>bounding chain nnz = 14.0<br>row of dataframe = 194"
         ],
         "type": "scatter",
         "x": [
          0.9207920792079208
         ],
         "y": [
          0.9504950495049505
         ]
        },
        {
         "legendgroup": "2",
         "marker": {
          "color": "#00CC96"
         },
         "mode": "markers",
         "name": "Dimension 2",
         "showlegend": false,
         "text": [
          "birth filtration = 0.9108910891089109<br>death filtration = 0.9306930693069307<br>interval length = 0.01980198019801982<br>birth simplex = [29, 63, 77]<br>cyle representative nnz = 10<br>bounding chain nnz = 5.0<br>row of dataframe = 195"
         ],
         "type": "scatter",
         "x": [
          0.9108910891089109
         ],
         "y": [
          0.9306930693069307
         ]
        },
        {
         "legendgroup": "2",
         "marker": {
          "color": "#00CC96"
         },
         "mode": "markers",
         "name": "Dimension 2",
         "showlegend": false,
         "text": [
          "birth filtration = 0.900990099009901<br>death filtration = 0.9603960396039604<br>interval length = 0.05940594059405935<br>birth simplex = [54, 77, 86]<br>cyle representative nnz = 40<br>bounding chain nnz = 380.0<br>row of dataframe = 196"
         ],
         "type": "scatter",
         "x": [
          0.900990099009901
         ],
         "y": [
          0.9603960396039604
         ]
        },
        {
         "legendgroup": "2",
         "marker": {
          "color": "#00CC96"
         },
         "mode": "markers",
         "name": "Dimension 2",
         "showlegend": false,
         "text": [
          "birth filtration = 0.900990099009901<br>death filtration = 0.9108910891089109<br>interval length = 0.00990099009900991<br>birth simplex = [54, 66, 79]<br>cyle representative nnz = 46<br>bounding chain nnz = 132.0<br>row of dataframe = 197"
         ],
         "type": "scatter",
         "x": [
          0.900990099009901
         ],
         "y": [
          0.9108910891089109
         ]
        },
        {
         "legendgroup": "2",
         "marker": {
          "color": "#00CC96"
         },
         "mode": "markers",
         "name": "Dimension 2",
         "showlegend": false,
         "text": [
          "birth filtration = 0.900990099009901<br>death filtration = 0.9207920792079208<br>interval length = 0.01980198019801982<br>birth simplex = [39, 62, 68]<br>cyle representative nnz = 20<br>bounding chain nnz = 299.0<br>row of dataframe = 198"
         ],
         "type": "scatter",
         "x": [
          0.900990099009901
         ],
         "y": [
          0.9207920792079208
         ]
        },
        {
         "legendgroup": "2",
         "marker": {
          "color": "#00CC96"
         },
         "mode": "markers",
         "name": "Dimension 2",
         "showlegend": false,
         "text": [
          "birth filtration = 0.900990099009901<br>death filtration = 0.9801980198019802<br>interval length = 0.07920792079207917<br>birth simplex = [33, 47, 77]<br>cyle representative nnz = 125<br>bounding chain nnz = 691.0<br>row of dataframe = 199"
         ],
         "type": "scatter",
         "x": [
          0.900990099009901
         ],
         "y": [
          0.9801980198019802
         ]
        },
        {
         "legendgroup": "2",
         "marker": {
          "color": "#00CC96"
         },
         "mode": "markers",
         "name": "Dimension 2",
         "showlegend": false,
         "text": [
          "birth filtration = 0.900990099009901<br>death filtration = 0.9108910891089109<br>interval length = 0.00990099009900991<br>birth simplex = [15, 18, 42]<br>cyle representative nnz = 40<br>bounding chain nnz = 183.0<br>row of dataframe = 200"
         ],
         "type": "scatter",
         "x": [
          0.900990099009901
         ],
         "y": [
          0.9108910891089109
         ]
        },
        {
         "legendgroup": "2",
         "marker": {
          "color": "#00CC96"
         },
         "mode": "markers",
         "name": "Dimension 2",
         "showlegend": false,
         "text": [
          "birth filtration = 0.8910891089108911<br>death filtration = 0.9306930693069307<br>interval length = 0.03960396039603964<br>birth simplex = [62, 63, 77]<br>cyle representative nnz = 59<br>bounding chain nnz = 414.0<br>row of dataframe = 201"
         ],
         "type": "scatter",
         "x": [
          0.8910891089108911
         ],
         "y": [
          0.9306930693069307
         ]
        },
        {
         "legendgroup": "2",
         "marker": {
          "color": "#00CC96"
         },
         "mode": "markers",
         "name": "Dimension 2",
         "showlegend": false,
         "text": [
          "birth filtration = 0.8910891089108911<br>death filtration = 0.9108910891089109<br>interval length = 0.01980198019801982<br>birth simplex = [40, 48, 82]<br>cyle representative nnz = 30<br>bounding chain nnz = 159.0<br>row of dataframe = 202"
         ],
         "type": "scatter",
         "x": [
          0.8910891089108911
         ],
         "y": [
          0.9108910891089109
         ]
        },
        {
         "legendgroup": "2",
         "marker": {
          "color": "#00CC96"
         },
         "mode": "markers",
         "name": "Dimension 2",
         "showlegend": false,
         "text": [
          "birth filtration = 0.8910891089108911<br>death filtration = 0.9108910891089109<br>interval length = 0.01980198019801982<br>birth simplex = [28, 62, 87]<br>cyle representative nnz = 62<br>bounding chain nnz = 311.0<br>row of dataframe = 203"
         ],
         "type": "scatter",
         "x": [
          0.8910891089108911
         ],
         "y": [
          0.9108910891089109
         ]
        },
        {
         "legendgroup": "2",
         "marker": {
          "color": "#00CC96"
         },
         "mode": "markers",
         "name": "Dimension 2",
         "showlegend": false,
         "text": [
          "birth filtration = 0.8910891089108911<br>death filtration = 0.9108910891089109<br>interval length = 0.01980198019801982<br>birth simplex = [15, 30, 65]<br>cyle representative nnz = 60<br>bounding chain nnz = 363.0<br>row of dataframe = 204"
         ],
         "type": "scatter",
         "x": [
          0.8910891089108911
         ],
         "y": [
          0.9108910891089109
         ]
        },
        {
         "legendgroup": "2",
         "marker": {
          "color": "#00CC96"
         },
         "mode": "markers",
         "name": "Dimension 2",
         "showlegend": false,
         "text": [
          "birth filtration = 0.8910891089108911<br>death filtration = 0.9108910891089109<br>interval length = 0.01980198019801982<br>birth simplex = [15, 18, 39]<br>cyle representative nnz = 48<br>bounding chain nnz = 501.0<br>row of dataframe = 205"
         ],
         "type": "scatter",
         "x": [
          0.8910891089108911
         ],
         "y": [
          0.9108910891089109
         ]
        },
        {
         "legendgroup": "2",
         "marker": {
          "color": "#00CC96"
         },
         "mode": "markers",
         "name": "Dimension 2",
         "showlegend": false,
         "text": [
          "birth filtration = 0.8910891089108911<br>death filtration = 0.900990099009901<br>interval length = 0.00990099009900991<br>birth simplex = [1, 15, 83]<br>cyle representative nnz = 18<br>bounding chain nnz = 443.0<br>row of dataframe = 206"
         ],
         "type": "scatter",
         "x": [
          0.8910891089108911
         ],
         "y": [
          0.900990099009901
         ]
        },
        {
         "legendgroup": "2",
         "marker": {
          "color": "#00CC96"
         },
         "mode": "markers",
         "name": "Dimension 2",
         "showlegend": false,
         "text": [
          "birth filtration = 0.8811881188118812<br>death filtration = 0.8910891089108911<br>interval length = 0.00990099009900991<br>birth simplex = [18, 39, 77]<br>cyle representative nnz = 84<br>bounding chain nnz = 329.0<br>row of dataframe = 207"
         ],
         "type": "scatter",
         "x": [
          0.8811881188118812
         ],
         "y": [
          0.8910891089108911
         ]
        },
        {
         "legendgroup": "2",
         "marker": {
          "color": "#00CC96"
         },
         "mode": "markers",
         "name": "Dimension 2",
         "showlegend": false,
         "text": [
          "birth filtration = 0.8811881188118812<br>death filtration = 0.900990099009901<br>interval length = 0.01980198019801982<br>birth simplex = [15, 30, 74]<br>cyle representative nnz = 34<br>bounding chain nnz = 425.0<br>row of dataframe = 208"
         ],
         "type": "scatter",
         "x": [
          0.8811881188118812
         ],
         "y": [
          0.900990099009901
         ]
        },
        {
         "legendgroup": "2",
         "marker": {
          "color": "#00CC96"
         },
         "mode": "markers",
         "name": "Dimension 2",
         "showlegend": false,
         "text": [
          "birth filtration = 0.8811881188118812<br>death filtration = 0.8910891089108911<br>interval length = 0.00990099009900991<br>birth simplex = [14, 23, 35]<br>cyle representative nnz = 12<br>bounding chain nnz = 7.0<br>row of dataframe = 209"
         ],
         "type": "scatter",
         "x": [
          0.8811881188118812
         ],
         "y": [
          0.8910891089108911
         ]
        },
        {
         "legendgroup": "2",
         "marker": {
          "color": "#00CC96"
         },
         "mode": "markers",
         "name": "Dimension 2",
         "showlegend": false,
         "text": [
          "birth filtration = 0.8811881188118812<br>death filtration = 0.8910891089108911<br>interval length = 0.00990099009900991<br>birth simplex = [7, 72, 81]<br>cyle representative nnz = 38<br>bounding chain nnz = 94.0<br>row of dataframe = 210"
         ],
         "type": "scatter",
         "x": [
          0.8811881188118812
         ],
         "y": [
          0.8910891089108911
         ]
        },
        {
         "legendgroup": "2",
         "marker": {
          "color": "#00CC96"
         },
         "mode": "markers",
         "name": "Dimension 2",
         "showlegend": false,
         "text": [
          "birth filtration = 0.8811881188118812<br>death filtration = 0.900990099009901<br>interval length = 0.01980198019801982<br>birth simplex = [0, 3, 37]<br>cyle representative nnz = 50<br>bounding chain nnz = 224.0<br>row of dataframe = 211"
         ],
         "type": "scatter",
         "x": [
          0.8811881188118812
         ],
         "y": [
          0.900990099009901
         ]
        },
        {
         "legendgroup": "2",
         "marker": {
          "color": "#00CC96"
         },
         "mode": "markers",
         "name": "Dimension 2",
         "showlegend": false,
         "text": [
          "birth filtration = 0.8712871287128713<br>death filtration = 0.9801980198019802<br>interval length = 0.1089108910891089<br>birth simplex = [71, 76, 81]<br>cyle representative nnz = 59<br>bounding chain nnz = 468.0<br>row of dataframe = 212"
         ],
         "type": "scatter",
         "x": [
          0.8712871287128713
         ],
         "y": [
          0.9801980198019802
         ]
        },
        {
         "legendgroup": "2",
         "marker": {
          "color": "#00CC96"
         },
         "mode": "markers",
         "name": "Dimension 2",
         "showlegend": false,
         "text": [
          "birth filtration = 0.8712871287128713<br>death filtration = 0.8910891089108911<br>interval length = 0.01980198019801982<br>birth simplex = [61, 65, 81]<br>cyle representative nnz = 30<br>bounding chain nnz = 63.0<br>row of dataframe = 213"
         ],
         "type": "scatter",
         "x": [
          0.8712871287128713
         ],
         "y": [
          0.8910891089108911
         ]
        },
        {
         "legendgroup": "2",
         "marker": {
          "color": "#00CC96"
         },
         "mode": "markers",
         "name": "Dimension 2",
         "showlegend": false,
         "text": [
          "birth filtration = 0.8712871287128713<br>death filtration = 0.900990099009901<br>interval length = 0.02970297029702973<br>birth simplex = [33, 72, 84]<br>cyle representative nnz = 52<br>bounding chain nnz = 192.0<br>row of dataframe = 214"
         ],
         "type": "scatter",
         "x": [
          0.8712871287128713
         ],
         "y": [
          0.900990099009901
         ]
        },
        {
         "legendgroup": "2",
         "marker": {
          "color": "#00CC96"
         },
         "mode": "markers",
         "name": "Dimension 2",
         "showlegend": false,
         "text": [
          "birth filtration = 0.8712871287128713<br>death filtration = 0.8811881188118812<br>interval length = 0.00990099009900991<br>birth simplex = [33, 72, 81]<br>cyle representative nnz = 64<br>bounding chain nnz = 354.0<br>row of dataframe = 215"
         ],
         "type": "scatter",
         "x": [
          0.8712871287128713
         ],
         "y": [
          0.8811881188118812
         ]
        },
        {
         "legendgroup": "2",
         "marker": {
          "color": "#00CC96"
         },
         "mode": "markers",
         "name": "Dimension 2",
         "showlegend": false,
         "text": [
          "birth filtration = 0.8712871287128713<br>death filtration = 0.9108910891089109<br>interval length = 0.03960396039603964<br>birth simplex = [15, 27, 84]<br>cyle representative nnz = 51<br>bounding chain nnz = 497.0<br>row of dataframe = 216"
         ],
         "type": "scatter",
         "x": [
          0.8712871287128713
         ],
         "y": [
          0.9108910891089109
         ]
        },
        {
         "legendgroup": "2",
         "marker": {
          "color": "#00CC96"
         },
         "mode": "markers",
         "name": "Dimension 2",
         "showlegend": false,
         "text": [
          "birth filtration = 0.8613861386138614<br>death filtration = 0.8910891089108911<br>interval length = 0.02970297029702973<br>birth simplex = [72, 84, 86]<br>cyle representative nnz = 46<br>bounding chain nnz = 77.0<br>row of dataframe = 217"
         ],
         "type": "scatter",
         "x": [
          0.8613861386138614
         ],
         "y": [
          0.8910891089108911
         ]
        },
        {
         "legendgroup": "2",
         "marker": {
          "color": "#00CC96"
         },
         "mode": "markers",
         "name": "Dimension 2",
         "showlegend": false,
         "text": [
          "birth filtration = 0.8613861386138614<br>death filtration = 0.900990099009901<br>interval length = 0.03960396039603964<br>birth simplex = [24, 70, 77]<br>cyle representative nnz = 42<br>bounding chain nnz = 223.0<br>row of dataframe = 218"
         ],
         "type": "scatter",
         "x": [
          0.8613861386138614
         ],
         "y": [
          0.900990099009901
         ]
        },
        {
         "legendgroup": "2",
         "marker": {
          "color": "#00CC96"
         },
         "mode": "markers",
         "name": "Dimension 2",
         "showlegend": false,
         "text": [
          "birth filtration = 0.8613861386138614<br>death filtration = 0.9306930693069307<br>interval length = 0.06930693069306937<br>birth simplex = [18, 42, 73]<br>cyle representative nnz = 52<br>bounding chain nnz = 231.0<br>row of dataframe = 219"
         ],
         "type": "scatter",
         "x": [
          0.8613861386138614
         ],
         "y": [
          0.9306930693069307
         ]
        },
        {
         "legendgroup": "2",
         "marker": {
          "color": "#00CC96"
         },
         "mode": "markers",
         "name": "Dimension 2",
         "showlegend": false,
         "text": [
          "birth filtration = 0.8613861386138614<br>death filtration = 0.8811881188118812<br>interval length = 0.01980198019801982<br>birth simplex = [14, 31, 93]<br>cyle representative nnz = 50<br>bounding chain nnz = 164.0<br>row of dataframe = 220"
         ],
         "type": "scatter",
         "x": [
          0.8613861386138614
         ],
         "y": [
          0.8811881188118812
         ]
        },
        {
         "legendgroup": "2",
         "marker": {
          "color": "#00CC96"
         },
         "mode": "markers",
         "name": "Dimension 2",
         "showlegend": false,
         "text": [
          "birth filtration = 0.8514851485148515<br>death filtration = 0.900990099009901<br>interval length = 0.04950495049504955<br>birth simplex = [32, 37, 67]<br>cyle representative nnz = 50<br>bounding chain nnz = 382.0<br>row of dataframe = 221"
         ],
         "type": "scatter",
         "x": [
          0.8514851485148515
         ],
         "y": [
          0.900990099009901
         ]
        },
        {
         "legendgroup": "2",
         "marker": {
          "color": "#00CC96"
         },
         "mode": "markers",
         "name": "Dimension 2",
         "showlegend": false,
         "text": [
          "birth filtration = 0.8514851485148515<br>death filtration = 0.8613861386138614<br>interval length = 0.00990099009900991<br>birth simplex = [31, 33, 92]<br>cyle representative nnz = 54<br>bounding chain nnz = 140.0<br>row of dataframe = 222"
         ],
         "type": "scatter",
         "x": [
          0.8514851485148515
         ],
         "y": [
          0.8613861386138614
         ]
        },
        {
         "legendgroup": "2",
         "marker": {
          "color": "#00CC96"
         },
         "mode": "markers",
         "name": "Dimension 2",
         "showlegend": false,
         "text": [
          "birth filtration = 0.8316831683168316<br>death filtration = 0.8613861386138614<br>interval length = 0.02970297029702973<br>birth simplex = [73, 89, 93]<br>cyle representative nnz = 86<br>bounding chain nnz = 282.0<br>row of dataframe = 223"
         ],
         "type": "scatter",
         "x": [
          0.8316831683168316
         ],
         "y": [
          0.8613861386138614
         ]
        },
        {
         "legendgroup": "2",
         "marker": {
          "color": "#00CC96"
         },
         "mode": "markers",
         "name": "Dimension 2",
         "showlegend": false,
         "text": [
          "birth filtration = 0.8316831683168316<br>death filtration = 0.8811881188118812<br>interval length = 0.04950495049504955<br>birth simplex = [54, 66, 74]<br>cyle representative nnz = 29<br>bounding chain nnz = 88.0<br>row of dataframe = 224"
         ],
         "type": "scatter",
         "x": [
          0.8316831683168316
         ],
         "y": [
          0.8811881188118812
         ]
        },
        {
         "legendgroup": "2",
         "marker": {
          "color": "#00CC96"
         },
         "mode": "markers",
         "name": "Dimension 2",
         "showlegend": false,
         "text": [
          "birth filtration = 0.8316831683168316<br>death filtration = 0.9108910891089109<br>interval length = 0.07920792079207928<br>birth simplex = [51, 71, 81]<br>cyle representative nnz = 55<br>bounding chain nnz = 452.0<br>row of dataframe = 225"
         ],
         "type": "scatter",
         "x": [
          0.8316831683168316
         ],
         "y": [
          0.9108910891089109
         ]
        },
        {
         "legendgroup": "2",
         "marker": {
          "color": "#00CC96"
         },
         "mode": "markers",
         "name": "Dimension 2",
         "showlegend": false,
         "text": [
          "birth filtration = 0.8316831683168316<br>death filtration = 0.9108910891089109<br>interval length = 0.07920792079207928<br>birth simplex = [51, 61, 81]<br>cyle representative nnz = 24<br>bounding chain nnz = 310.0<br>row of dataframe = 226"
         ],
         "type": "scatter",
         "x": [
          0.8316831683168316
         ],
         "y": [
          0.9108910891089109
         ]
        },
        {
         "legendgroup": "2",
         "marker": {
          "color": "#00CC96"
         },
         "mode": "markers",
         "name": "Dimension 2",
         "showlegend": false,
         "text": [
          "birth filtration = 0.8316831683168316<br>death filtration = 0.8514851485148515<br>interval length = 0.01980198019801982<br>birth simplex = [45, 51, 81]<br>cyle representative nnz = 50<br>bounding chain nnz = 344.0<br>row of dataframe = 227"
         ],
         "type": "scatter",
         "x": [
          0.8316831683168316
         ],
         "y": [
          0.8514851485148515
         ]
        },
        {
         "legendgroup": "2",
         "marker": {
          "color": "#00CC96"
         },
         "mode": "markers",
         "name": "Dimension 2",
         "showlegend": false,
         "text": [
          "birth filtration = 0.8316831683168316<br>death filtration = 0.900990099009901<br>interval length = 0.06930693069306937<br>birth simplex = [33, 43, 54]<br>cyle representative nnz = 58<br>bounding chain nnz = 289.0<br>row of dataframe = 228"
         ],
         "type": "scatter",
         "x": [
          0.8316831683168316
         ],
         "y": [
          0.900990099009901
         ]
        },
        {
         "legendgroup": "2",
         "marker": {
          "color": "#00CC96"
         },
         "mode": "markers",
         "name": "Dimension 2",
         "showlegend": false,
         "text": [
          "birth filtration = 0.8217821782178217<br>death filtration = 0.8316831683168316<br>interval length = 0.00990099009900991<br>birth simplex = [61, 73, 77]<br>cyle representative nnz = 22<br>bounding chain nnz = 43.0<br>row of dataframe = 229"
         ],
         "type": "scatter",
         "x": [
          0.8217821782178217
         ],
         "y": [
          0.8316831683168316
         ]
        },
        {
         "legendgroup": "2",
         "marker": {
          "color": "#00CC96"
         },
         "mode": "markers",
         "name": "Dimension 2",
         "showlegend": false,
         "text": [
          "birth filtration = 0.8217821782178217<br>death filtration = 0.8316831683168316<br>interval length = 0.00990099009900991<br>birth simplex = [50, 70, 91]<br>cyle representative nnz = 64<br>bounding chain nnz = 317.0<br>row of dataframe = 230"
         ],
         "type": "scatter",
         "x": [
          0.8217821782178217
         ],
         "y": [
          0.8316831683168316
         ]
        },
        {
         "legendgroup": "2",
         "marker": {
          "color": "#00CC96"
         },
         "mode": "markers",
         "name": "Dimension 2",
         "showlegend": false,
         "text": [
          "birth filtration = 0.8217821782178217<br>death filtration = 0.8811881188118812<br>interval length = 0.05940594059405946<br>birth simplex = [40, 71, 76]<br>cyle representative nnz = 44<br>bounding chain nnz = 155.0<br>row of dataframe = 231"
         ],
         "type": "scatter",
         "x": [
          0.8217821782178217
         ],
         "y": [
          0.8811881188118812
         ]
        },
        {
         "legendgroup": "2",
         "marker": {
          "color": "#00CC96"
         },
         "mode": "markers",
         "name": "Dimension 2",
         "showlegend": false,
         "text": [
          "birth filtration = 0.8217821782178217<br>death filtration = 0.8613861386138614<br>interval length = 0.03960396039603964<br>birth simplex = [26, 29, 86]<br>cyle representative nnz = 48<br>bounding chain nnz = 161.0<br>row of dataframe = 232"
         ],
         "type": "scatter",
         "x": [
          0.8217821782178217
         ],
         "y": [
          0.8613861386138614
         ]
        },
        {
         "legendgroup": "2",
         "marker": {
          "color": "#00CC96"
         },
         "mode": "markers",
         "name": "Dimension 2",
         "showlegend": false,
         "text": [
          "birth filtration = 0.8217821782178217<br>death filtration = 0.8316831683168316<br>interval length = 0.00990099009900991<br>birth simplex = [7, 16, 25]<br>cyle representative nnz = 38<br>bounding chain nnz = 190.0<br>row of dataframe = 233"
         ],
         "type": "scatter",
         "x": [
          0.8217821782178217
         ],
         "y": [
          0.8316831683168316
         ]
        },
        {
         "legendgroup": "2",
         "marker": {
          "color": "#00CC96"
         },
         "mode": "markers",
         "name": "Dimension 2",
         "showlegend": false,
         "text": [
          "birth filtration = 0.8118811881188119<br>death filtration = 0.8217821782178217<br>interval length = 0.009900990099009799<br>birth simplex = [26, 44, 50]<br>cyle representative nnz = 93<br>bounding chain nnz = 254.0<br>row of dataframe = 234"
         ],
         "type": "scatter",
         "x": [
          0.8118811881188119
         ],
         "y": [
          0.8217821782178217
         ]
        },
        {
         "legendgroup": "2",
         "marker": {
          "color": "#00CC96"
         },
         "mode": "markers",
         "name": "Dimension 2",
         "showlegend": false,
         "text": [
          "birth filtration = 0.8118811881188119<br>death filtration = 0.8316831683168316<br>interval length = 0.01980198019801971<br>birth simplex = [9, 73, 77]<br>cyle representative nnz = 48<br>bounding chain nnz = 261.0<br>row of dataframe = 235"
         ],
         "type": "scatter",
         "x": [
          0.8118811881188119
         ],
         "y": [
          0.8316831683168316
         ]
        },
        {
         "legendgroup": "2",
         "marker": {
          "color": "#00CC96"
         },
         "mode": "markers",
         "name": "Dimension 2",
         "showlegend": false,
         "text": [
          "birth filtration = 0.8118811881188119<br>death filtration = 0.8316831683168316<br>interval length = 0.01980198019801971<br>birth simplex = [9, 73, 76]<br>cyle representative nnz = 26<br>bounding chain nnz = 17.0<br>row of dataframe = 236"
         ],
         "type": "scatter",
         "x": [
          0.8118811881188119
         ],
         "y": [
          0.8316831683168316
         ]
        },
        {
         "legendgroup": "2",
         "marker": {
          "color": "#00CC96"
         },
         "mode": "markers",
         "name": "Dimension 2",
         "showlegend": false,
         "text": [
          "birth filtration = 0.8118811881188119<br>death filtration = 0.8514851485148515<br>interval length = 0.03960396039603953<br>birth simplex = [9, 24, 76]<br>cyle representative nnz = 34<br>bounding chain nnz = 198.0<br>row of dataframe = 237"
         ],
         "type": "scatter",
         "x": [
          0.8118811881188119
         ],
         "y": [
          0.8514851485148515
         ]
        },
        {
         "legendgroup": "2",
         "marker": {
          "color": "#00CC96"
         },
         "mode": "markers",
         "name": "Dimension 2",
         "showlegend": false,
         "text": [
          "birth filtration = 0.8118811881188119<br>death filtration = 0.8712871287128713<br>interval length = 0.05940594059405935<br>birth simplex = [4, 29, 86]<br>cyle representative nnz = 42<br>bounding chain nnz = 118.0<br>row of dataframe = 238"
         ],
         "type": "scatter",
         "x": [
          0.8118811881188119
         ],
         "y": [
          0.8712871287128713
         ]
        },
        {
         "legendgroup": "2",
         "marker": {
          "color": "#00CC96"
         },
         "mode": "markers",
         "name": "Dimension 2",
         "showlegend": false,
         "text": [
          "birth filtration = 0.801980198019802<br>death filtration = 0.8118811881188119<br>interval length = 0.00990099009900991<br>birth simplex = [66, 73, 84]<br>cyle representative nnz = 40<br>bounding chain nnz = 83.0<br>row of dataframe = 239"
         ],
         "type": "scatter",
         "x": [
          0.801980198019802
         ],
         "y": [
          0.8118811881188119
         ]
        },
        {
         "legendgroup": "2",
         "marker": {
          "color": "#00CC96"
         },
         "mode": "markers",
         "name": "Dimension 2",
         "showlegend": false,
         "text": [
          "birth filtration = 0.801980198019802<br>death filtration = 0.8217821782178217<br>interval length = 0.01980198019801971<br>birth simplex = [1, 7, 50]<br>cyle representative nnz = 56<br>bounding chain nnz = 168.0<br>row of dataframe = 240"
         ],
         "type": "scatter",
         "x": [
          0.801980198019802
         ],
         "y": [
          0.8217821782178217
         ]
        },
        {
         "legendgroup": "2",
         "marker": {
          "color": "#00CC96"
         },
         "mode": "markers",
         "name": "Dimension 2",
         "showlegend": false,
         "text": [
          "birth filtration = 0.801980198019802<br>death filtration = 0.8217821782178217<br>interval length = 0.01980198019801971<br>birth simplex = [1, 7, 42]<br>cyle representative nnz = 32<br>bounding chain nnz = 100.0<br>row of dataframe = 241"
         ],
         "type": "scatter",
         "x": [
          0.801980198019802
         ],
         "y": [
          0.8217821782178217
         ]
        },
        {
         "legendgroup": "2",
         "marker": {
          "color": "#00CC96"
         },
         "mode": "markers",
         "name": "Dimension 2",
         "showlegend": false,
         "text": [
          "birth filtration = 0.7920792079207921<br>death filtration = 0.8316831683168316<br>interval length = 0.03960396039603953<br>birth simplex = [50, 70, 75]<br>cyle representative nnz = 37<br>bounding chain nnz = 170.0<br>row of dataframe = 242"
         ],
         "type": "scatter",
         "x": [
          0.7920792079207921
         ],
         "y": [
          0.8316831683168316
         ]
        },
        {
         "legendgroup": "2",
         "marker": {
          "color": "#00CC96"
         },
         "mode": "markers",
         "name": "Dimension 2",
         "showlegend": false,
         "text": [
          "birth filtration = 0.7920792079207921<br>death filtration = 0.8712871287128713<br>interval length = 0.07920792079207917<br>birth simplex = [36, 54, 56]<br>cyle representative nnz = 20<br>bounding chain nnz = 90.0<br>row of dataframe = 243"
         ],
         "type": "scatter",
         "x": [
          0.7920792079207921
         ],
         "y": [
          0.8712871287128713
         ]
        },
        {
         "legendgroup": "2",
         "marker": {
          "color": "#00CC96"
         },
         "mode": "markers",
         "name": "Dimension 2",
         "showlegend": false,
         "text": [
          "birth filtration = 0.7920792079207921<br>death filtration = 0.801980198019802<br>interval length = 0.00990099009900991<br>birth simplex = [14, 45, 53]<br>cyle representative nnz = 32<br>bounding chain nnz = 98.0<br>row of dataframe = 244"
         ],
         "type": "scatter",
         "x": [
          0.7920792079207921
         ],
         "y": [
          0.801980198019802
         ]
        },
        {
         "legendgroup": "2",
         "marker": {
          "color": "#00CC96"
         },
         "mode": "markers",
         "name": "Dimension 2",
         "showlegend": false,
         "text": [
          "birth filtration = 0.7920792079207921<br>death filtration = 0.801980198019802<br>interval length = 0.00990099009900991<br>birth simplex = [9, 51, 85]<br>cyle representative nnz = 44<br>bounding chain nnz = 133.0<br>row of dataframe = 245"
         ],
         "type": "scatter",
         "x": [
          0.7920792079207921
         ],
         "y": [
          0.801980198019802
         ]
        },
        {
         "legendgroup": "2",
         "marker": {
          "color": "#00CC96"
         },
         "mode": "markers",
         "name": "Dimension 2",
         "showlegend": false,
         "text": [
          "birth filtration = 0.7920792079207921<br>death filtration = 0.801980198019802<br>interval length = 0.00990099009900991<br>birth simplex = [3, 45, 70]<br>cyle representative nnz = 38<br>bounding chain nnz = 81.0<br>row of dataframe = 246"
         ],
         "type": "scatter",
         "x": [
          0.7920792079207921
         ],
         "y": [
          0.801980198019802
         ]
        },
        {
         "legendgroup": "2",
         "marker": {
          "color": "#00CC96"
         },
         "mode": "markers",
         "name": "Dimension 2",
         "showlegend": false,
         "text": [
          "birth filtration = 0.7821782178217822<br>death filtration = 0.8118811881188119<br>interval length = 0.02970297029702973<br>birth simplex = [51, 85, 93]<br>cyle representative nnz = 30<br>bounding chain nnz = 54.0<br>row of dataframe = 247"
         ],
         "type": "scatter",
         "x": [
          0.7821782178217822
         ],
         "y": [
          0.8118811881188119
         ]
        },
        {
         "legendgroup": "2",
         "marker": {
          "color": "#00CC96"
         },
         "mode": "markers",
         "name": "Dimension 2",
         "showlegend": false,
         "text": [
          "birth filtration = 0.7821782178217822<br>death filtration = 0.8118811881188119<br>interval length = 0.02970297029702973<br>birth simplex = [21, 85, 93]<br>cyle representative nnz = 36<br>bounding chain nnz = 130.0<br>row of dataframe = 248"
         ],
         "type": "scatter",
         "x": [
          0.7821782178217822
         ],
         "y": [
          0.8118811881188119
         ]
        },
        {
         "legendgroup": "2",
         "marker": {
          "color": "#00CC96"
         },
         "mode": "markers",
         "name": "Dimension 2",
         "showlegend": false,
         "text": [
          "birth filtration = 0.7821782178217822<br>death filtration = 0.801980198019802<br>interval length = 0.01980198019801982<br>birth simplex = [21, 24, 93]<br>cyle representative nnz = 43<br>bounding chain nnz = 210.0<br>row of dataframe = 249"
         ],
         "type": "scatter",
         "x": [
          0.7821782178217822
         ],
         "y": [
          0.801980198019802
         ]
        },
        {
         "legendgroup": "2",
         "marker": {
          "color": "#00CC96"
         },
         "mode": "markers",
         "name": "Dimension 2",
         "showlegend": false,
         "text": [
          "birth filtration = 0.7722772277227723<br>death filtration = 0.8514851485148515<br>interval length = 0.07920792079207917<br>birth simplex = [52, 67, 71]<br>cyle representative nnz = 34<br>bounding chain nnz = 141.0<br>row of dataframe = 250"
         ],
         "type": "scatter",
         "x": [
          0.7722772277227723
         ],
         "y": [
          0.8514851485148515
         ]
        },
        {
         "legendgroup": "2",
         "marker": {
          "color": "#00CC96"
         },
         "mode": "markers",
         "name": "Dimension 2",
         "showlegend": false,
         "text": [
          "birth filtration = 0.7722772277227723<br>death filtration = 0.8217821782178217<br>interval length = 0.04950495049504944<br>birth simplex = [41, 70, 72]<br>cyle representative nnz = 20<br>bounding chain nnz = 45.0<br>row of dataframe = 251"
         ],
         "type": "scatter",
         "x": [
          0.7722772277227723
         ],
         "y": [
          0.8217821782178217
         ]
        },
        {
         "legendgroup": "2",
         "marker": {
          "color": "#00CC96"
         },
         "mode": "markers",
         "name": "Dimension 2",
         "showlegend": false,
         "text": [
          "birth filtration = 0.7722772277227723<br>death filtration = 0.8217821782178217<br>interval length = 0.04950495049504944<br>birth simplex = [34, 72, 74]<br>cyle representative nnz = 18<br>bounding chain nnz = 48.0<br>row of dataframe = 252"
         ],
         "type": "scatter",
         "x": [
          0.7722772277227723
         ],
         "y": [
          0.8217821782178217
         ]
        },
        {
         "legendgroup": "2",
         "marker": {
          "color": "#00CC96"
         },
         "mode": "markers",
         "name": "Dimension 2",
         "showlegend": false,
         "text": [
          "birth filtration = 0.7722772277227723<br>death filtration = 0.7821782178217822<br>interval length = 0.00990099009900991<br>birth simplex = [31, 51, 88]<br>cyle representative nnz = 38<br>bounding chain nnz = 114.0<br>row of dataframe = 253"
         ],
         "type": "scatter",
         "x": [
          0.7722772277227723
         ],
         "y": [
          0.7821782178217822
         ]
        },
        {
         "legendgroup": "2",
         "marker": {
          "color": "#00CC96"
         },
         "mode": "markers",
         "name": "Dimension 2",
         "showlegend": false,
         "text": [
          "birth filtration = 0.7722772277227723<br>death filtration = 0.7920792079207921<br>interval length = 0.01980198019801982<br>birth simplex = [19, 80, 100]<br>cyle representative nnz = 16<br>bounding chain nnz = 98.0<br>row of dataframe = 254"
         ],
         "type": "scatter",
         "x": [
          0.7722772277227723
         ],
         "y": [
          0.7920792079207921
         ]
        },
        {
         "legendgroup": "2",
         "marker": {
          "color": "#00CC96"
         },
         "mode": "markers",
         "name": "Dimension 2",
         "showlegend": false,
         "text": [
          "birth filtration = 0.7722772277227723<br>death filtration = 0.8118811881188119<br>interval length = 0.03960396039603964<br>birth simplex = [16, 56, 90]<br>cyle representative nnz = 18<br>bounding chain nnz = 61.0<br>row of dataframe = 255"
         ],
         "type": "scatter",
         "x": [
          0.7722772277227723
         ],
         "y": [
          0.8118811881188119
         ]
        },
        {
         "legendgroup": "2",
         "marker": {
          "color": "#00CC96"
         },
         "mode": "markers",
         "name": "Dimension 2",
         "showlegend": false,
         "text": [
          "birth filtration = 0.7722772277227723<br>death filtration = 0.8217821782178217<br>interval length = 0.04950495049504944<br>birth simplex = [14, 38, 45]<br>cyle representative nnz = 12<br>bounding chain nnz = 62.0<br>row of dataframe = 256"
         ],
         "type": "scatter",
         "x": [
          0.7722772277227723
         ],
         "y": [
          0.8217821782178217
         ]
        },
        {
         "legendgroup": "2",
         "marker": {
          "color": "#00CC96"
         },
         "mode": "markers",
         "name": "Dimension 2",
         "showlegend": false,
         "text": [
          "birth filtration = 0.7722772277227723<br>death filtration = 0.7821782178217822<br>interval length = 0.00990099009900991<br>birth simplex = [9, 46, 53]<br>cyle representative nnz = 32<br>bounding chain nnz = 97.0<br>row of dataframe = 257"
         ],
         "type": "scatter",
         "x": [
          0.7722772277227723
         ],
         "y": [
          0.7821782178217822
         ]
        },
        {
         "legendgroup": "2",
         "marker": {
          "color": "#00CC96"
         },
         "mode": "markers",
         "name": "Dimension 2",
         "showlegend": false,
         "text": [
          "birth filtration = 0.7722772277227723<br>death filtration = 0.7821782178217822<br>interval length = 0.00990099009900991<br>birth simplex = [7, 20, 41]<br>cyle representative nnz = 26<br>bounding chain nnz = 33.0<br>row of dataframe = 258"
         ],
         "type": "scatter",
         "x": [
          0.7722772277227723
         ],
         "y": [
          0.7821782178217822
         ]
        },
        {
         "legendgroup": "2",
         "marker": {
          "color": "#00CC96"
         },
         "mode": "markers",
         "name": "Dimension 2",
         "showlegend": false,
         "text": [
          "birth filtration = 0.7722772277227723<br>death filtration = 0.8217821782178217<br>interval length = 0.04950495049504944<br>birth simplex = [5, 78, 97]<br>cyle representative nnz = 36<br>bounding chain nnz = 76.0<br>row of dataframe = 259"
         ],
         "type": "scatter",
         "x": [
          0.7722772277227723
         ],
         "y": [
          0.8217821782178217
         ]
        },
        {
         "legendgroup": "2",
         "marker": {
          "color": "#00CC96"
         },
         "mode": "markers",
         "name": "Dimension 2",
         "showlegend": false,
         "text": [
          "birth filtration = 0.7623762376237624<br>death filtration = 0.7722772277227723<br>interval length = 0.00990099009900991<br>birth simplex = [29, 44, 57]<br>cyle representative nnz = 46<br>bounding chain nnz = 81.0<br>row of dataframe = 260"
         ],
         "type": "scatter",
         "x": [
          0.7623762376237624
         ],
         "y": [
          0.7722772277227723
         ]
        },
        {
         "legendgroup": "2",
         "marker": {
          "color": "#00CC96"
         },
         "mode": "markers",
         "name": "Dimension 2",
         "showlegend": false,
         "text": [
          "birth filtration = 0.7623762376237624<br>death filtration = 0.7920792079207921<br>interval length = 0.02970297029702973<br>birth simplex = [19, 60, 96]<br>cyle representative nnz = 12<br>bounding chain nnz = 87.0<br>row of dataframe = 261"
         ],
         "type": "scatter",
         "x": [
          0.7623762376237624
         ],
         "y": [
          0.7920792079207921
         ]
        },
        {
         "legendgroup": "2",
         "marker": {
          "color": "#00CC96"
         },
         "mode": "markers",
         "name": "Dimension 2",
         "showlegend": false,
         "text": [
          "birth filtration = 0.7623762376237624<br>death filtration = 0.8118811881188119<br>interval length = 0.04950495049504955<br>birth simplex = [9, 41, 80]<br>cyle representative nnz = 30<br>bounding chain nnz = 102.0<br>row of dataframe = 262"
         ],
         "type": "scatter",
         "x": [
          0.7623762376237624
         ],
         "y": [
          0.8118811881188119
         ]
        },
        {
         "legendgroup": "2",
         "marker": {
          "color": "#00CC96"
         },
         "mode": "markers",
         "name": "Dimension 2",
         "showlegend": false,
         "text": [
          "birth filtration = 0.7524752475247525<br>death filtration = 0.7920792079207921<br>interval length = 0.03960396039603964<br>birth simplex = [60, 61, 84]<br>cyle representative nnz = 12<br>bounding chain nnz = 12.0<br>row of dataframe = 263"
         ],
         "type": "scatter",
         "x": [
          0.7524752475247525
         ],
         "y": [
          0.7920792079207921
         ]
        },
        {
         "legendgroup": "2",
         "marker": {
          "color": "#00CC96"
         },
         "mode": "markers",
         "name": "Dimension 2",
         "showlegend": false,
         "text": [
          "birth filtration = 0.7524752475247525<br>death filtration = 0.801980198019802<br>interval length = 0.04950495049504955<br>birth simplex = [51, 71, 82]<br>cyle representative nnz = 24<br>bounding chain nnz = 42.0<br>row of dataframe = 264"
         ],
         "type": "scatter",
         "x": [
          0.7524752475247525
         ],
         "y": [
          0.801980198019802
         ]
        },
        {
         "legendgroup": "2",
         "marker": {
          "color": "#00CC96"
         },
         "mode": "markers",
         "name": "Dimension 2",
         "showlegend": false,
         "text": [
          "birth filtration = 0.7524752475247525<br>death filtration = 0.9306930693069307<br>interval length = 0.17821782178217827<br>birth simplex = [43, 71, 82]<br>cyle representative nnz = 41<br>bounding chain nnz = 77.0<br>row of dataframe = 265"
         ],
         "type": "scatter",
         "x": [
          0.7524752475247525
         ],
         "y": [
          0.9306930693069307
         ]
        },
        {
         "legendgroup": "2",
         "marker": {
          "color": "#00CC96"
         },
         "mode": "markers",
         "name": "Dimension 2",
         "showlegend": false,
         "text": [
          "birth filtration = 0.7524752475247525<br>death filtration = 0.8217821782178217<br>interval length = 0.06930693069306926<br>birth simplex = [32, 51, 85]<br>cyle representative nnz = 38<br>bounding chain nnz = 242.0<br>row of dataframe = 266"
         ],
         "type": "scatter",
         "x": [
          0.7524752475247525
         ],
         "y": [
          0.8217821782178217
         ]
        },
        {
         "legendgroup": "2",
         "marker": {
          "color": "#00CC96"
         },
         "mode": "markers",
         "name": "Dimension 2",
         "showlegend": false,
         "text": [
          "birth filtration = 0.7524752475247525<br>death filtration = 0.7821782178217822<br>interval length = 0.02970297029702973<br>birth simplex = [20, 74, 92]<br>cyle representative nnz = 26<br>bounding chain nnz = 56.0<br>row of dataframe = 267"
         ],
         "type": "scatter",
         "x": [
          0.7524752475247525
         ],
         "y": [
          0.7821782178217822
         ]
        },
        {
         "legendgroup": "2",
         "marker": {
          "color": "#00CC96"
         },
         "mode": "markers",
         "name": "Dimension 2",
         "showlegend": false,
         "text": [
          "birth filtration = 0.7524752475247525<br>death filtration = 0.7623762376237624<br>interval length = 0.00990099009900991<br>birth simplex = [17, 21, 25]<br>cyle representative nnz = 36<br>bounding chain nnz = 71.0<br>row of dataframe = 268"
         ],
         "type": "scatter",
         "x": [
          0.7524752475247525
         ],
         "y": [
          0.7623762376237624
         ]
        },
        {
         "legendgroup": "2",
         "marker": {
          "color": "#00CC96"
         },
         "mode": "markers",
         "name": "Dimension 2",
         "showlegend": false,
         "text": [
          "birth filtration = 0.7524752475247525<br>death filtration = 0.7722772277227723<br>interval length = 0.01980198019801982<br>birth simplex = [2, 52, 94]<br>cyle representative nnz = 22<br>bounding chain nnz = 60.0<br>row of dataframe = 269"
         ],
         "type": "scatter",
         "x": [
          0.7524752475247525
         ],
         "y": [
          0.7722772277227723
         ]
        },
        {
         "legendgroup": "2",
         "marker": {
          "color": "#00CC96"
         },
         "mode": "markers",
         "name": "Dimension 2",
         "showlegend": false,
         "text": [
          "birth filtration = 0.7425742574257426<br>death filtration = 0.8217821782178217<br>interval length = 0.07920792079207917<br>birth simplex = [51, 82, 85]<br>cyle representative nnz = 34<br>bounding chain nnz = 93.0<br>row of dataframe = 270"
         ],
         "type": "scatter",
         "x": [
          0.7425742574257426
         ],
         "y": [
          0.8217821782178217
         ]
        },
        {
         "legendgroup": "2",
         "marker": {
          "color": "#00CC96"
         },
         "mode": "markers",
         "name": "Dimension 2",
         "showlegend": false,
         "text": [
          "birth filtration = 0.7425742574257426<br>death filtration = 0.8415841584158416<br>interval length = 0.09900990099009899<br>birth simplex = [51, 72, 74]<br>cyle representative nnz = 20<br>bounding chain nnz = 80.0<br>row of dataframe = 271"
         ],
         "type": "scatter",
         "x": [
          0.7425742574257426
         ],
         "y": [
          0.8415841584158416
         ]
        },
        {
         "legendgroup": "2",
         "marker": {
          "color": "#00CC96"
         },
         "mode": "markers",
         "name": "Dimension 2",
         "showlegend": false,
         "text": [
          "birth filtration = 0.7425742574257426<br>death filtration = 0.7722772277227723<br>interval length = 0.02970297029702973<br>birth simplex = [38, 42, 51]<br>cyle representative nnz = 36<br>bounding chain nnz = 75.0<br>row of dataframe = 272"
         ],
         "type": "scatter",
         "x": [
          0.7425742574257426
         ],
         "y": [
          0.7722772277227723
         ]
        },
        {
         "legendgroup": "2",
         "marker": {
          "color": "#00CC96"
         },
         "mode": "markers",
         "name": "Dimension 2",
         "showlegend": false,
         "text": [
          "birth filtration = 0.7425742574257426<br>death filtration = 0.7722772277227723<br>interval length = 0.02970297029702973<br>birth simplex = [3, 41, 44]<br>cyle representative nnz = 30<br>bounding chain nnz = 47.0<br>row of dataframe = 273"
         ],
         "type": "scatter",
         "x": [
          0.7425742574257426
         ],
         "y": [
          0.7722772277227723
         ]
        },
        {
         "legendgroup": "2",
         "marker": {
          "color": "#00CC96"
         },
         "mode": "markers",
         "name": "Dimension 2",
         "showlegend": false,
         "text": [
          "birth filtration = 0.7326732673267327<br>death filtration = 0.7722772277227723<br>interval length = 0.03960396039603964<br>birth simplex = [61, 73, 89]<br>cyle representative nnz = 24<br>bounding chain nnz = 47.0<br>row of dataframe = 274"
         ],
         "type": "scatter",
         "x": [
          0.7326732673267327
         ],
         "y": [
          0.7722772277227723
         ]
        },
        {
         "legendgroup": "2",
         "marker": {
          "color": "#00CC96"
         },
         "mode": "markers",
         "name": "Dimension 2",
         "showlegend": false,
         "text": [
          "birth filtration = 0.7326732673267327<br>death filtration = 0.7425742574257426<br>interval length = 0.00990099009900991<br>birth simplex = [32, 37, 89]<br>cyle representative nnz = 20<br>bounding chain nnz = 43.0<br>row of dataframe = 275"
         ],
         "type": "scatter",
         "x": [
          0.7326732673267327
         ],
         "y": [
          0.7425742574257426
         ]
        },
        {
         "legendgroup": "2",
         "marker": {
          "color": "#00CC96"
         },
         "mode": "markers",
         "name": "Dimension 2",
         "showlegend": false,
         "text": [
          "birth filtration = 0.7326732673267327<br>death filtration = 0.7623762376237624<br>interval length = 0.02970297029702973<br>birth simplex = [32, 37, 42]<br>cyle representative nnz = 34<br>bounding chain nnz = 78.0<br>row of dataframe = 276"
         ],
         "type": "scatter",
         "x": [
          0.7326732673267327
         ],
         "y": [
          0.7623762376237624
         ]
        },
        {
         "legendgroup": "2",
         "marker": {
          "color": "#00CC96"
         },
         "mode": "markers",
         "name": "Dimension 2",
         "showlegend": false,
         "text": [
          "birth filtration = 0.7326732673267327<br>death filtration = 0.7425742574257426<br>interval length = 0.00990099009900991<br>birth simplex = [20, 32, 89]<br>cyle representative nnz = 20<br>bounding chain nnz = 16.0<br>row of dataframe = 277"
         ],
         "type": "scatter",
         "x": [
          0.7326732673267327
         ],
         "y": [
          0.7425742574257426
         ]
        },
        {
         "legendgroup": "2",
         "marker": {
          "color": "#00CC96"
         },
         "mode": "markers",
         "name": "Dimension 2",
         "showlegend": false,
         "text": [
          "birth filtration = 0.7326732673267327<br>death filtration = 0.7524752475247525<br>interval length = 0.01980198019801982<br>birth simplex = [20, 32, 42]<br>cyle representative nnz = 26<br>bounding chain nnz = 16.0<br>row of dataframe = 278"
         ],
         "type": "scatter",
         "x": [
          0.7326732673267327
         ],
         "y": [
          0.7524752475247525
         ]
        },
        {
         "legendgroup": "2",
         "marker": {
          "color": "#00CC96"
         },
         "mode": "markers",
         "name": "Dimension 2",
         "showlegend": false,
         "text": [
          "birth filtration = 0.7326732673267327<br>death filtration = 0.7623762376237624<br>interval length = 0.02970297029702973<br>birth simplex = [19, 80, 92]<br>cyle representative nnz = 24<br>bounding chain nnz = 47.0<br>row of dataframe = 279"
         ],
         "type": "scatter",
         "x": [
          0.7326732673267327
         ],
         "y": [
          0.7623762376237624
         ]
        },
        {
         "legendgroup": "2",
         "marker": {
          "color": "#00CC96"
         },
         "mode": "markers",
         "name": "Dimension 2",
         "showlegend": false,
         "text": [
          "birth filtration = 0.7326732673267327<br>death filtration = 0.8118811881188119<br>interval length = 0.07920792079207928<br>birth simplex = [16, 37, 40]<br>cyle representative nnz = 33<br>bounding chain nnz = 52.0<br>row of dataframe = 280"
         ],
         "type": "scatter",
         "x": [
          0.7326732673267327
         ],
         "y": [
          0.8118811881188119
         ]
        },
        {
         "legendgroup": "2",
         "marker": {
          "color": "#00CC96"
         },
         "mode": "markers",
         "name": "Dimension 2",
         "showlegend": false,
         "text": [
          "birth filtration = 0.7326732673267327<br>death filtration = 0.7524752475247525<br>interval length = 0.01980198019801982<br>birth simplex = [3, 75, 92]<br>cyle representative nnz = 18<br>bounding chain nnz = 36.0<br>row of dataframe = 281"
         ],
         "type": "scatter",
         "x": [
          0.7326732673267327
         ],
         "y": [
          0.7524752475247525
         ]
        },
        {
         "legendgroup": "2",
         "marker": {
          "color": "#00CC96"
         },
         "mode": "markers",
         "name": "Dimension 2",
         "showlegend": false,
         "text": [
          "birth filtration = 0.7326732673267327<br>death filtration = 0.7722772277227723<br>interval length = 0.03960396039603964<br>birth simplex = [2, 45, 52]<br>cyle representative nnz = 16<br>bounding chain nnz = 29.0<br>row of dataframe = 282"
         ],
         "type": "scatter",
         "x": [
          0.7326732673267327
         ],
         "y": [
          0.7722772277227723
         ]
        },
        {
         "legendgroup": "2",
         "marker": {
          "color": "#00CC96"
         },
         "mode": "markers",
         "name": "Dimension 2",
         "showlegend": false,
         "text": [
          "birth filtration = 0.7326732673267327<br>death filtration = 0.7524752475247525<br>interval length = 0.01980198019801982<br>birth simplex = [2, 11, 57]<br>cyle representative nnz = 28<br>bounding chain nnz = 23.0<br>row of dataframe = 283"
         ],
         "type": "scatter",
         "x": [
          0.7326732673267327
         ],
         "y": [
          0.7524752475247525
         ]
        },
        {
         "legendgroup": "2",
         "marker": {
          "color": "#00CC96"
         },
         "mode": "markers",
         "name": "Dimension 2",
         "showlegend": false,
         "text": [
          "birth filtration = 0.7227722772277227<br>death filtration = 0.7821782178217822<br>interval length = 0.05940594059405946<br>birth simplex = [52, 75, 92]<br>cyle representative nnz = 26<br>bounding chain nnz = 61.0<br>row of dataframe = 284"
         ],
         "type": "scatter",
         "x": [
          0.7227722772277227
         ],
         "y": [
          0.7821782178217822
         ]
        },
        {
         "legendgroup": "2",
         "marker": {
          "color": "#00CC96"
         },
         "mode": "markers",
         "name": "Dimension 2",
         "showlegend": false,
         "text": [
          "birth filtration = 0.7227722772277227<br>death filtration = 0.7524752475247525<br>interval length = 0.02970297029702973<br>birth simplex = [43, 84, 94]<br>cyle representative nnz = 30<br>bounding chain nnz = 56.0<br>row of dataframe = 285"
         ],
         "type": "scatter",
         "x": [
          0.7227722772277227
         ],
         "y": [
          0.7524752475247525
         ]
        },
        {
         "legendgroup": "2",
         "marker": {
          "color": "#00CC96"
         },
         "mode": "markers",
         "name": "Dimension 2",
         "showlegend": false,
         "text": [
          "birth filtration = 0.7227722772277227<br>death filtration = 0.7821782178217822<br>interval length = 0.05940594059405946<br>birth simplex = [42, 46, 69]<br>cyle representative nnz = 38<br>bounding chain nnz = 113.0<br>row of dataframe = 286"
         ],
         "type": "scatter",
         "x": [
          0.7227722772277227
         ],
         "y": [
          0.7821782178217822
         ]
        },
        {
         "legendgroup": "2",
         "marker": {
          "color": "#00CC96"
         },
         "mode": "markers",
         "name": "Dimension 2",
         "showlegend": false,
         "text": [
          "birth filtration = 0.7227722772277227<br>death filtration = 0.801980198019802<br>interval length = 0.07920792079207928<br>birth simplex = [41, 80, 86]<br>cyle representative nnz = 28<br>bounding chain nnz = 121.0<br>row of dataframe = 287"
         ],
         "type": "scatter",
         "x": [
          0.7227722772277227
         ],
         "y": [
          0.801980198019802
         ]
        },
        {
         "legendgroup": "2",
         "marker": {
          "color": "#00CC96"
         },
         "mode": "markers",
         "name": "Dimension 2",
         "showlegend": false,
         "text": [
          "birth filtration = 0.7227722772277227<br>death filtration = 0.7425742574257426<br>interval length = 0.01980198019801982<br>birth simplex = [25, 27, 43]<br>cyle representative nnz = 46<br>bounding chain nnz = 62.0<br>row of dataframe = 288"
         ],
         "type": "scatter",
         "x": [
          0.7227722772277227
         ],
         "y": [
          0.7425742574257426
         ]
        },
        {
         "legendgroup": "2",
         "marker": {
          "color": "#00CC96"
         },
         "mode": "markers",
         "name": "Dimension 2",
         "showlegend": false,
         "text": [
          "birth filtration = 0.7227722772277227<br>death filtration = 0.7524752475247525<br>interval length = 0.02970297029702973<br>birth simplex = [20, 34, 40]<br>cyle representative nnz = 26<br>bounding chain nnz = 47.0<br>row of dataframe = 289"
         ],
         "type": "scatter",
         "x": [
          0.7227722772277227
         ],
         "y": [
          0.7524752475247525
         ]
        },
        {
         "legendgroup": "2",
         "marker": {
          "color": "#00CC96"
         },
         "mode": "markers",
         "name": "Dimension 2",
         "showlegend": false,
         "text": [
          "birth filtration = 0.7227722772277227<br>death filtration = 0.8118811881188119<br>interval length = 0.08910891089108919<br>birth simplex = [16, 41, 80]<br>cyle representative nnz = 28<br>bounding chain nnz = 42.0<br>row of dataframe = 290"
         ],
         "type": "scatter",
         "x": [
          0.7227722772277227
         ],
         "y": [
          0.8118811881188119
         ]
        },
        {
         "legendgroup": "2",
         "marker": {
          "color": "#00CC96"
         },
         "mode": "markers",
         "name": "Dimension 2",
         "showlegend": false,
         "text": [
          "birth filtration = 0.7227722772277227<br>death filtration = 0.8118811881188119<br>interval length = 0.08910891089108919<br>birth simplex = [16, 40, 80]<br>cyle representative nnz = 34<br>bounding chain nnz = 58.0<br>row of dataframe = 291"
         ],
         "type": "scatter",
         "x": [
          0.7227722772277227
         ],
         "y": [
          0.8118811881188119
         ]
        },
        {
         "legendgroup": "2",
         "marker": {
          "color": "#00CC96"
         },
         "mode": "markers",
         "name": "Dimension 2",
         "showlegend": false,
         "text": [
          "birth filtration = 0.7227722772277227<br>death filtration = 0.7326732673267327<br>interval length = 0.00990099009900991<br>birth simplex = [3, 27, 69]<br>cyle representative nnz = 24<br>bounding chain nnz = 40.0<br>row of dataframe = 292"
         ],
         "type": "scatter",
         "x": [
          0.7227722772277227
         ],
         "y": [
          0.7326732673267327
         ]
        },
        {
         "legendgroup": "2",
         "marker": {
          "color": "#00CC96"
         },
         "mode": "markers",
         "name": "Dimension 2",
         "showlegend": false,
         "text": [
          "birth filtration = 0.7128712871287128<br>death filtration = 0.8613861386138614<br>interval length = 0.14851485148514854<br>birth simplex = [45, 52, 96]<br>cyle representative nnz = 32<br>bounding chain nnz = 201.0<br>row of dataframe = 293"
         ],
         "type": "scatter",
         "x": [
          0.7128712871287128
         ],
         "y": [
          0.8613861386138614
         ]
        },
        {
         "legendgroup": "2",
         "marker": {
          "color": "#00CC96"
         },
         "mode": "markers",
         "name": "Dimension 2",
         "showlegend": false,
         "text": [
          "birth filtration = 0.7128712871287128<br>death filtration = 0.7920792079207921<br>interval length = 0.07920792079207928<br>birth simplex = [42, 78, 93]<br>cyle representative nnz = 28<br>bounding chain nnz = 41.0<br>row of dataframe = 294"
         ],
         "type": "scatter",
         "x": [
          0.7128712871287128
         ],
         "y": [
          0.7920792079207921
         ]
        },
        {
         "legendgroup": "2",
         "marker": {
          "color": "#00CC96"
         },
         "mode": "markers",
         "name": "Dimension 2",
         "showlegend": false,
         "text": [
          "birth filtration = 0.7128712871287128<br>death filtration = 0.7227722772277227<br>interval length = 0.00990099009900991<br>birth simplex = [42, 70, 83]<br>cyle representative nnz = 32<br>bounding chain nnz = 32.0<br>row of dataframe = 295"
         ],
         "type": "scatter",
         "x": [
          0.7128712871287128
         ],
         "y": [
          0.7227722772277227
         ]
        },
        {
         "legendgroup": "2",
         "marker": {
          "color": "#00CC96"
         },
         "mode": "markers",
         "name": "Dimension 2",
         "showlegend": false,
         "text": [
          "birth filtration = 0.7128712871287128<br>death filtration = 0.8613861386138614<br>interval length = 0.14851485148514854<br>birth simplex = [27, 73, 84]<br>cyle representative nnz = 36<br>bounding chain nnz = 64.0<br>row of dataframe = 296"
         ],
         "type": "scatter",
         "x": [
          0.7128712871287128
         ],
         "y": [
          0.8613861386138614
         ]
        },
        {
         "legendgroup": "2",
         "marker": {
          "color": "#00CC96"
         },
         "mode": "markers",
         "name": "Dimension 2",
         "showlegend": false,
         "text": [
          "birth filtration = 0.7128712871287128<br>death filtration = 0.801980198019802<br>interval length = 0.08910891089108919<br>birth simplex = [24, 70, 80]<br>cyle representative nnz = 16<br>bounding chain nnz = 18.0<br>row of dataframe = 297"
         ],
         "type": "scatter",
         "x": [
          0.7128712871287128
         ],
         "y": [
          0.801980198019802
         ]
        },
        {
         "legendgroup": "2",
         "marker": {
          "color": "#00CC96"
         },
         "mode": "markers",
         "name": "Dimension 2",
         "showlegend": false,
         "text": [
          "birth filtration = 0.7128712871287128<br>death filtration = 0.7524752475247525<br>interval length = 0.03960396039603964<br>birth simplex = [11, 36, 90]<br>cyle representative nnz = 16<br>bounding chain nnz = 40.0<br>row of dataframe = 298"
         ],
         "type": "scatter",
         "x": [
          0.7128712871287128
         ],
         "y": [
          0.7524752475247525
         ]
        },
        {
         "legendgroup": "2",
         "marker": {
          "color": "#00CC96"
         },
         "mode": "markers",
         "name": "Dimension 2",
         "showlegend": false,
         "text": [
          "birth filtration = 0.7029702970297029<br>death filtration = 0.7425742574257426<br>interval length = 0.03960396039603964<br>birth simplex = [54, 83, 85]<br>cyle representative nnz = 26<br>bounding chain nnz = 25.0<br>row of dataframe = 299"
         ],
         "type": "scatter",
         "x": [
          0.7029702970297029
         ],
         "y": [
          0.7425742574257426
         ]
        },
        {
         "legendgroup": "2",
         "marker": {
          "color": "#00CC96"
         },
         "mode": "markers",
         "name": "Dimension 2",
         "showlegend": false,
         "text": [
          "birth filtration = 0.7029702970297029<br>death filtration = 0.7425742574257426<br>interval length = 0.03960396039603964<br>birth simplex = [44, 83, 85]<br>cyle representative nnz = 42<br>bounding chain nnz = 101.0<br>row of dataframe = 300"
         ],
         "type": "scatter",
         "x": [
          0.7029702970297029
         ],
         "y": [
          0.7425742574257426
         ]
        },
        {
         "legendgroup": "2",
         "marker": {
          "color": "#00CC96"
         },
         "mode": "markers",
         "name": "Dimension 2",
         "showlegend": false,
         "text": [
          "birth filtration = 0.7029702970297029<br>death filtration = 0.8118811881188119<br>interval length = 0.10891089108910901<br>birth simplex = [38, 75, 92]<br>cyle representative nnz = 28<br>bounding chain nnz = 108.0<br>row of dataframe = 301"
         ],
         "type": "scatter",
         "x": [
          0.7029702970297029
         ],
         "y": [
          0.8118811881188119
         ]
        },
        {
         "legendgroup": "2",
         "marker": {
          "color": "#00CC96"
         },
         "mode": "markers",
         "name": "Dimension 2",
         "showlegend": false,
         "text": [
          "birth filtration = 0.7029702970297029<br>death filtration = 0.7425742574257426<br>interval length = 0.03960396039603964<br>birth simplex = [36, 40, 69]<br>cyle representative nnz = 20<br>bounding chain nnz = 32.0<br>row of dataframe = 302"
         ],
         "type": "scatter",
         "x": [
          0.7029702970297029
         ],
         "y": [
          0.7425742574257426
         ]
        },
        {
         "legendgroup": "2",
         "marker": {
          "color": "#00CC96"
         },
         "mode": "markers",
         "name": "Dimension 2",
         "showlegend": false,
         "text": [
          "birth filtration = 0.7029702970297029<br>death filtration = 0.7821782178217822<br>interval length = 0.07920792079207928<br>birth simplex = [27, 69, 90]<br>cyle representative nnz = 22<br>bounding chain nnz = 40.0<br>row of dataframe = 303"
         ],
         "type": "scatter",
         "x": [
          0.7029702970297029
         ],
         "y": [
          0.7821782178217822
         ]
        },
        {
         "legendgroup": "2",
         "marker": {
          "color": "#00CC96"
         },
         "mode": "markers",
         "name": "Dimension 2",
         "showlegend": false,
         "text": [
          "birth filtration = 0.7029702970297029<br>death filtration = 0.7227722772277227<br>interval length = 0.01980198019801982<br>birth simplex = [24, 37, 56]<br>cyle representative nnz = 20<br>bounding chain nnz = 23.0<br>row of dataframe = 304"
         ],
         "type": "scatter",
         "x": [
          0.7029702970297029
         ],
         "y": [
          0.7227722772277227
         ]
        },
        {
         "legendgroup": "2",
         "marker": {
          "color": "#00CC96"
         },
         "mode": "markers",
         "name": "Dimension 2",
         "showlegend": false,
         "text": [
          "birth filtration = 0.7029702970297029<br>death filtration = 0.7821782178217822<br>interval length = 0.07920792079207928<br>birth simplex = [21, 27, 90]<br>cyle representative nnz = 26<br>bounding chain nnz = 134.0<br>row of dataframe = 305"
         ],
         "type": "scatter",
         "x": [
          0.7029702970297029
         ],
         "y": [
          0.7821782178217822
         ]
        },
        {
         "legendgroup": "2",
         "marker": {
          "color": "#00CC96"
         },
         "mode": "markers",
         "name": "Dimension 2",
         "showlegend": false,
         "text": [
          "birth filtration = 0.7029702970297029<br>death filtration = 0.7524752475247525<br>interval length = 0.04950495049504955<br>birth simplex = [3, 36, 90]<br>cyle representative nnz = 36<br>bounding chain nnz = 102.0<br>row of dataframe = 306"
         ],
         "type": "scatter",
         "x": [
          0.7029702970297029
         ],
         "y": [
          0.7524752475247525
         ]
        },
        {
         "legendgroup": "2",
         "marker": {
          "color": "#00CC96"
         },
         "mode": "markers",
         "name": "Dimension 2",
         "showlegend": false,
         "text": [
          "birth filtration = 0.693069306930693<br>death filtration = 0.7128712871287128<br>interval length = 0.01980198019801982<br>birth simplex = [55, 80, 86]<br>cyle representative nnz = 24<br>bounding chain nnz = 29.0<br>row of dataframe = 307"
         ],
         "type": "scatter",
         "x": [
          0.693069306930693
         ],
         "y": [
          0.7128712871287128
         ]
        },
        {
         "legendgroup": "2",
         "marker": {
          "color": "#00CC96"
         },
         "mode": "markers",
         "name": "Dimension 2",
         "showlegend": false,
         "text": [
          "birth filtration = 0.693069306930693<br>death filtration = 0.7425742574257426<br>interval length = 0.04950495049504955<br>birth simplex = [24, 54, 56]<br>cyle representative nnz = 20<br>bounding chain nnz = 51.0<br>row of dataframe = 308"
         ],
         "type": "scatter",
         "x": [
          0.693069306930693
         ],
         "y": [
          0.7425742574257426
         ]
        },
        {
         "legendgroup": "2",
         "marker": {
          "color": "#00CC96"
         },
         "mode": "markers",
         "name": "Dimension 2",
         "showlegend": false,
         "text": [
          "birth filtration = 0.693069306930693<br>death filtration = 0.7425742574257426<br>interval length = 0.04950495049504955<br>birth simplex = [12, 31, 53]<br>cyle representative nnz = 8<br>bounding chain nnz = 8.0<br>row of dataframe = 309"
         ],
         "type": "scatter",
         "x": [
          0.693069306930693
         ],
         "y": [
          0.7425742574257426
         ]
        },
        {
         "legendgroup": "2",
         "marker": {
          "color": "#00CC96"
         },
         "mode": "markers",
         "name": "Dimension 2",
         "showlegend": false,
         "text": [
          "birth filtration = 0.693069306930693<br>death filtration = 0.7128712871287128<br>interval length = 0.01980198019801982<br>birth simplex = [12, 31, 52]<br>cyle representative nnz = 20<br>bounding chain nnz = 43.0<br>row of dataframe = 310"
         ],
         "type": "scatter",
         "x": [
          0.693069306930693
         ],
         "y": [
          0.7128712871287128
         ]
        },
        {
         "legendgroup": "2",
         "marker": {
          "color": "#00CC96"
         },
         "mode": "markers",
         "name": "Dimension 2",
         "showlegend": false,
         "text": [
          "birth filtration = 0.6831683168316832<br>death filtration = 0.7425742574257426<br>interval length = 0.05940594059405935<br>birth simplex = [54, 74, 83]<br>cyle representative nnz = 45<br>bounding chain nnz = 38.0<br>row of dataframe = 311"
         ],
         "type": "scatter",
         "x": [
          0.6831683168316832
         ],
         "y": [
          0.7425742574257426
         ]
        },
        {
         "legendgroup": "2",
         "marker": {
          "color": "#00CC96"
         },
         "mode": "markers",
         "name": "Dimension 2",
         "showlegend": false,
         "text": [
          "birth filtration = 0.6831683168316832<br>death filtration = 0.7623762376237624<br>interval length = 0.07920792079207917<br>birth simplex = [54, 59, 83]<br>cyle representative nnz = 45<br>bounding chain nnz = 58.0<br>row of dataframe = 312"
         ],
         "type": "scatter",
         "x": [
          0.6831683168316832
         ],
         "y": [
          0.7623762376237624
         ]
        },
        {
         "legendgroup": "2",
         "marker": {
          "color": "#00CC96"
         },
         "mode": "markers",
         "name": "Dimension 2",
         "showlegend": false,
         "text": [
          "birth filtration = 0.6831683168316832<br>death filtration = 0.7425742574257426<br>interval length = 0.05940594059405935<br>birth simplex = [51, 53, 100]<br>cyle representative nnz = 14<br>bounding chain nnz = 16.0<br>row of dataframe = 313"
         ],
         "type": "scatter",
         "x": [
          0.6831683168316832
         ],
         "y": [
          0.7425742574257426
         ]
        },
        {
         "legendgroup": "2",
         "marker": {
          "color": "#00CC96"
         },
         "mode": "markers",
         "name": "Dimension 2",
         "showlegend": false,
         "text": [
          "birth filtration = 0.6831683168316832<br>death filtration = 0.7029702970297029<br>interval length = 0.01980198019801971<br>birth simplex = [36, 40, 80]<br>cyle representative nnz = 18<br>bounding chain nnz = 11.0<br>row of dataframe = 314"
         ],
         "type": "scatter",
         "x": [
          0.6831683168316832
         ],
         "y": [
          0.7029702970297029
         ]
        },
        {
         "legendgroup": "2",
         "marker": {
          "color": "#00CC96"
         },
         "mode": "markers",
         "name": "Dimension 2",
         "showlegend": false,
         "text": [
          "birth filtration = 0.6831683168316832<br>death filtration = 0.693069306930693<br>interval length = 0.009900990099009799<br>birth simplex = [28, 41, 59]<br>cyle representative nnz = 27<br>bounding chain nnz = 23.0<br>row of dataframe = 315"
         ],
         "type": "scatter",
         "x": [
          0.6831683168316832
         ],
         "y": [
          0.693069306930693
         ]
        },
        {
         "legendgroup": "2",
         "marker": {
          "color": "#00CC96"
         },
         "mode": "markers",
         "name": "Dimension 2",
         "showlegend": false,
         "text": [
          "birth filtration = 0.6831683168316832<br>death filtration = 0.7623762376237624<br>interval length = 0.07920792079207917<br>birth simplex = [24, 54, 83]<br>cyle representative nnz = 36<br>bounding chain nnz = 67.0<br>row of dataframe = 316"
         ],
         "type": "scatter",
         "x": [
          0.6831683168316832
         ],
         "y": [
          0.7623762376237624
         ]
        },
        {
         "legendgroup": "2",
         "marker": {
          "color": "#00CC96"
         },
         "mode": "markers",
         "name": "Dimension 2",
         "showlegend": false,
         "text": [
          "birth filtration = 0.6831683168316832<br>death filtration = 0.7425742574257426<br>interval length = 0.05940594059405935<br>birth simplex = [20, 69, 89]<br>cyle representative nnz = 22<br>bounding chain nnz = 35.0<br>row of dataframe = 317"
         ],
         "type": "scatter",
         "x": [
          0.6831683168316832
         ],
         "y": [
          0.7425742574257426
         ]
        },
        {
         "legendgroup": "2",
         "marker": {
          "color": "#00CC96"
         },
         "mode": "markers",
         "name": "Dimension 2",
         "showlegend": false,
         "text": [
          "birth filtration = 0.6831683168316832<br>death filtration = 0.7128712871287128<br>interval length = 0.02970297029702962<br>birth simplex = [20, 54, 89]<br>cyle representative nnz = 18<br>bounding chain nnz = 15.0<br>row of dataframe = 318"
         ],
         "type": "scatter",
         "x": [
          0.6831683168316832
         ],
         "y": [
          0.7128712871287128
         ]
        },
        {
         "legendgroup": "2",
         "marker": {
          "color": "#00CC96"
         },
         "mode": "markers",
         "name": "Dimension 2",
         "showlegend": false,
         "text": [
          "birth filtration = 0.6831683168316832<br>death filtration = 0.7326732673267327<br>interval length = 0.04950495049504944<br>birth simplex = [20, 41, 59]<br>cyle representative nnz = 26<br>bounding chain nnz = 19.0<br>row of dataframe = 319"
         ],
         "type": "scatter",
         "x": [
          0.6831683168316832
         ],
         "y": [
          0.7326732673267327
         ]
        },
        {
         "legendgroup": "2",
         "marker": {
          "color": "#00CC96"
         },
         "mode": "markers",
         "name": "Dimension 2",
         "showlegend": false,
         "text": [
          "birth filtration = 0.6831683168316832<br>death filtration = 0.7029702970297029<br>interval length = 0.01980198019801971<br>birth simplex = [16, 27, 89]<br>cyle representative nnz = 8<br>bounding chain nnz = 45.0<br>row of dataframe = 320"
         ],
         "type": "scatter",
         "x": [
          0.6831683168316832
         ],
         "y": [
          0.7029702970297029
         ]
        },
        {
         "legendgroup": "2",
         "marker": {
          "color": "#00CC96"
         },
         "mode": "markers",
         "name": "Dimension 2",
         "showlegend": false,
         "text": [
          "birth filtration = 0.6831683168316832<br>death filtration = 0.7326732673267327<br>interval length = 0.04950495049504944<br>birth simplex = [3, 41, 42]<br>cyle representative nnz = 18<br>bounding chain nnz = 40.0<br>row of dataframe = 321"
         ],
         "type": "scatter",
         "x": [
          0.6831683168316832
         ],
         "y": [
          0.7326732673267327
         ]
        },
        {
         "legendgroup": "2",
         "marker": {
          "color": "#00CC96"
         },
         "mode": "markers",
         "name": "Dimension 2",
         "showlegend": false,
         "text": [
          "birth filtration = 0.6732673267326733<br>death filtration = 0.7128712871287128<br>interval length = 0.03960396039603953<br>birth simplex = [54, 79, 89]<br>cyle representative nnz = 10<br>bounding chain nnz = 22.0<br>row of dataframe = 322"
         ],
         "type": "scatter",
         "x": [
          0.6732673267326733
         ],
         "y": [
          0.7128712871287128
         ]
        },
        {
         "legendgroup": "2",
         "marker": {
          "color": "#00CC96"
         },
         "mode": "markers",
         "name": "Dimension 2",
         "showlegend": false,
         "text": [
          "birth filtration = 0.6732673267326733<br>death filtration = 0.7227722772277227<br>interval length = 0.04950495049504944<br>birth simplex = [44, 57, 85]<br>cyle representative nnz = 32<br>bounding chain nnz = 59.0<br>row of dataframe = 323"
         ],
         "type": "scatter",
         "x": [
          0.6732673267326733
         ],
         "y": [
          0.7227722772277227
         ]
        },
        {
         "legendgroup": "2",
         "marker": {
          "color": "#00CC96"
         },
         "mode": "markers",
         "name": "Dimension 2",
         "showlegend": false,
         "text": [
          "birth filtration = 0.6732673267326733<br>death filtration = 0.7425742574257426<br>interval length = 0.06930693069306926<br>birth simplex = [44, 56, 85]<br>cyle representative nnz = 36<br>bounding chain nnz = 122.0<br>row of dataframe = 324"
         ],
         "type": "scatter",
         "x": [
          0.6732673267326733
         ],
         "y": [
          0.7425742574257426
         ]
        },
        {
         "legendgroup": "2",
         "marker": {
          "color": "#00CC96"
         },
         "mode": "markers",
         "name": "Dimension 2",
         "showlegend": false,
         "text": [
          "birth filtration = 0.6732673267326733<br>death filtration = 0.7128712871287128<br>interval length = 0.03960396039603953<br>birth simplex = [12, 86, 96]<br>cyle representative nnz = 20<br>bounding chain nnz = 25.0<br>row of dataframe = 325"
         ],
         "type": "scatter",
         "x": [
          0.6732673267326733
         ],
         "y": [
          0.7128712871287128
         ]
        },
        {
         "legendgroup": "2",
         "marker": {
          "color": "#00CC96"
         },
         "mode": "markers",
         "name": "Dimension 2",
         "showlegend": false,
         "text": [
          "birth filtration = 0.6732673267326733<br>death filtration = 0.6831683168316832<br>interval length = 0.00990099009900991<br>birth simplex = [11, 37, 41]<br>cyle representative nnz = 10<br>bounding chain nnz = 5.0<br>row of dataframe = 326"
         ],
         "type": "scatter",
         "x": [
          0.6732673267326733
         ],
         "y": [
          0.6831683168316832
         ]
        },
        {
         "legendgroup": "2",
         "marker": {
          "color": "#00CC96"
         },
         "mode": "markers",
         "name": "Dimension 2",
         "showlegend": false,
         "text": [
          "birth filtration = 0.6633663366336634<br>death filtration = 0.7524752475247525<br>interval length = 0.08910891089108908<br>birth simplex = [79, 89, 97]<br>cyle representative nnz = 43<br>bounding chain nnz = 87.0<br>row of dataframe = 327"
         ],
         "type": "scatter",
         "x": [
          0.6633663366336634
         ],
         "y": [
          0.7524752475247525
         ]
        },
        {
         "legendgroup": "2",
         "marker": {
          "color": "#00CC96"
         },
         "mode": "markers",
         "name": "Dimension 2",
         "showlegend": false,
         "text": [
          "birth filtration = 0.6633663366336634<br>death filtration = 0.6831683168316832<br>interval length = 0.01980198019801982<br>birth simplex = [75, 89, 97]<br>cyle representative nnz = 12<br>bounding chain nnz = 7.0<br>row of dataframe = 328"
         ],
         "type": "scatter",
         "x": [
          0.6633663366336634
         ],
         "y": [
          0.6831683168316832
         ]
        },
        {
         "legendgroup": "2",
         "marker": {
          "color": "#00CC96"
         },
         "mode": "markers",
         "name": "Dimension 2",
         "showlegend": false,
         "text": [
          "birth filtration = 0.6633663366336634<br>death filtration = 0.7128712871287128<br>interval length = 0.04950495049504944<br>birth simplex = [59, 76, 94]<br>cyle representative nnz = 22<br>bounding chain nnz = 19.0<br>row of dataframe = 329"
         ],
         "type": "scatter",
         "x": [
          0.6633663366336634
         ],
         "y": [
          0.7128712871287128
         ]
        },
        {
         "legendgroup": "2",
         "marker": {
          "color": "#00CC96"
         },
         "mode": "markers",
         "name": "Dimension 2",
         "showlegend": false,
         "text": [
          "birth filtration = 0.6633663366336634<br>death filtration = 0.7623762376237624<br>interval length = 0.09900990099009899<br>birth simplex = [52, 59, 94]<br>cyle representative nnz = 18<br>bounding chain nnz = 33.0<br>row of dataframe = 330"
         ],
         "type": "scatter",
         "x": [
          0.6633663366336634
         ],
         "y": [
          0.7623762376237624
         ]
        },
        {
         "legendgroup": "2",
         "marker": {
          "color": "#00CC96"
         },
         "mode": "markers",
         "name": "Dimension 2",
         "showlegend": false,
         "text": [
          "birth filtration = 0.6633663366336634<br>death filtration = 0.7227722772277227<br>interval length = 0.05940594059405935<br>birth simplex = [41, 89, 97]<br>cyle representative nnz = 20<br>bounding chain nnz = 41.0<br>row of dataframe = 331"
         ],
         "type": "scatter",
         "x": [
          0.6633663366336634
         ],
         "y": [
          0.7227722772277227
         ]
        },
        {
         "legendgroup": "2",
         "marker": {
          "color": "#00CC96"
         },
         "mode": "markers",
         "name": "Dimension 2",
         "showlegend": false,
         "text": [
          "birth filtration = 0.6633663366336634<br>death filtration = 0.693069306930693<br>interval length = 0.02970297029702962<br>birth simplex = [34, 59, 60]<br>cyle representative nnz = 16<br>bounding chain nnz = 14.0<br>row of dataframe = 332"
         ],
         "type": "scatter",
         "x": [
          0.6633663366336634
         ],
         "y": [
          0.693069306930693
         ]
        },
        {
         "legendgroup": "2",
         "marker": {
          "color": "#00CC96"
         },
         "mode": "markers",
         "name": "Dimension 2",
         "showlegend": false,
         "text": [
          "birth filtration = 0.6633663366336634<br>death filtration = 0.7722772277227723<br>interval length = 0.1089108910891089<br>birth simplex = [31, 52, 100]<br>cyle representative nnz = 22<br>bounding chain nnz = 67.0<br>row of dataframe = 333"
         ],
         "type": "scatter",
         "x": [
          0.6633663366336634
         ],
         "y": [
          0.7722772277227723
         ]
        },
        {
         "legendgroup": "2",
         "marker": {
          "color": "#00CC96"
         },
         "mode": "markers",
         "name": "Dimension 2",
         "showlegend": false,
         "text": [
          "birth filtration = 0.6633663366336634<br>death filtration = 0.6732673267326733<br>interval length = 0.00990099009900991<br>birth simplex = [28, 41, 43]<br>cyle representative nnz = 20<br>bounding chain nnz = 13.0<br>row of dataframe = 334"
         ],
         "type": "scatter",
         "x": [
          0.6633663366336634
         ],
         "y": [
          0.6732673267326733
         ]
        },
        {
         "legendgroup": "2",
         "marker": {
          "color": "#00CC96"
         },
         "mode": "markers",
         "name": "Dimension 2",
         "showlegend": false,
         "text": [
          "birth filtration = 0.6633663366336634<br>death filtration = 0.6831683168316832<br>interval length = 0.01980198019801982<br>birth simplex = [28, 41, 42]<br>cyle representative nnz = 12<br>bounding chain nnz = 7.0<br>row of dataframe = 335"
         ],
         "type": "scatter",
         "x": [
          0.6633663366336634
         ],
         "y": [
          0.6831683168316832
         ]
        },
        {
         "legendgroup": "2",
         "marker": {
          "color": "#00CC96"
         },
         "mode": "markers",
         "name": "Dimension 2",
         "showlegend": false,
         "text": [
          "birth filtration = 0.6633663366336634<br>death filtration = 0.8118811881188119<br>interval length = 0.14851485148514854<br>birth simplex = [24, 93, 94]<br>cyle representative nnz = 34<br>bounding chain nnz = 60.0<br>row of dataframe = 336"
         ],
         "type": "scatter",
         "x": [
          0.6633663366336634
         ],
         "y": [
          0.8118811881188119
         ]
        },
        {
         "legendgroup": "2",
         "marker": {
          "color": "#00CC96"
         },
         "mode": "markers",
         "name": "Dimension 2",
         "showlegend": false,
         "text": [
          "birth filtration = 0.6633663366336634<br>death filtration = 0.8118811881188119<br>interval length = 0.14851485148514854<br>birth simplex = [16, 41, 90]<br>cyle representative nnz = 16<br>bounding chain nnz = 68.0<br>row of dataframe = 337"
         ],
         "type": "scatter",
         "x": [
          0.6633663366336634
         ],
         "y": [
          0.8118811881188119
         ]
        },
        {
         "legendgroup": "2",
         "marker": {
          "color": "#00CC96"
         },
         "mode": "markers",
         "name": "Dimension 2",
         "showlegend": false,
         "text": [
          "birth filtration = 0.6633663366336634<br>death filtration = 0.7425742574257426<br>interval length = 0.07920792079207917<br>birth simplex = [16, 41, 85]<br>cyle representative nnz = 18<br>bounding chain nnz = 15.0<br>row of dataframe = 338"
         ],
         "type": "scatter",
         "x": [
          0.6633663366336634
         ],
         "y": [
          0.7425742574257426
         ]
        },
        {
         "legendgroup": "2",
         "marker": {
          "color": "#00CC96"
         },
         "mode": "markers",
         "name": "Dimension 2",
         "showlegend": false,
         "text": [
          "birth filtration = 0.6534653465346535<br>death filtration = 0.7029702970297029<br>interval length = 0.04950495049504944<br>birth simplex = [36, 40, 96]<br>cyle representative nnz = 20<br>bounding chain nnz = 22.0<br>row of dataframe = 339"
         ],
         "type": "scatter",
         "x": [
          0.6534653465346535
         ],
         "y": [
          0.7029702970297029
         ]
        },
        {
         "legendgroup": "2",
         "marker": {
          "color": "#00CC96"
         },
         "mode": "markers",
         "name": "Dimension 2",
         "showlegend": false,
         "text": [
          "birth filtration = 0.6435643564356436<br>death filtration = 0.7524752475247525<br>interval length = 0.1089108910891089<br>birth simplex = [42, 44, 83]<br>cyle representative nnz = 10<br>bounding chain nnz = 47.0<br>row of dataframe = 340"
         ],
         "type": "scatter",
         "x": [
          0.6435643564356436
         ],
         "y": [
          0.7524752475247525
         ]
        },
        {
         "legendgroup": "2",
         "marker": {
          "color": "#00CC96"
         },
         "mode": "markers",
         "name": "Dimension 2",
         "showlegend": false,
         "text": [
          "birth filtration = 0.6336633663366337<br>death filtration = 0.693069306930693<br>interval length = 0.05940594059405935<br>birth simplex = [42, 44, 57]<br>cyle representative nnz = 41<br>bounding chain nnz = 66.0<br>row of dataframe = 341"
         ],
         "type": "scatter",
         "x": [
          0.6336633663366337
         ],
         "y": [
          0.693069306930693
         ]
        },
        {
         "legendgroup": "2",
         "marker": {
          "color": "#00CC96"
         },
         "mode": "markers",
         "name": "Dimension 2",
         "showlegend": false,
         "text": [
          "birth filtration = 0.6237623762376238<br>death filtration = 0.6732673267326733<br>interval length = 0.04950495049504955<br>birth simplex = [52, 55, 94]<br>cyle representative nnz = 20<br>bounding chain nnz = 33.0<br>row of dataframe = 342"
         ],
         "type": "scatter",
         "x": [
          0.6237623762376238
         ],
         "y": [
          0.6732673267326733
         ]
        },
        {
         "legendgroup": "2",
         "marker": {
          "color": "#00CC96"
         },
         "mode": "markers",
         "name": "Dimension 2",
         "showlegend": false,
         "text": [
          "birth filtration = 0.6237623762376238<br>death filtration = 0.6732673267326733<br>interval length = 0.04950495049504955<br>birth simplex = [43, 52, 55]<br>cyle representative nnz = 22<br>bounding chain nnz = 22.0<br>row of dataframe = 343"
         ],
         "type": "scatter",
         "x": [
          0.6237623762376238
         ],
         "y": [
          0.6732673267326733
         ]
        },
        {
         "legendgroup": "2",
         "marker": {
          "color": "#00CC96"
         },
         "mode": "markers",
         "name": "Dimension 2",
         "showlegend": false,
         "text": [
          "birth filtration = 0.6237623762376238<br>death filtration = 0.7128712871287128<br>interval length = 0.08910891089108908<br>birth simplex = [37, 94, 96]<br>cyle representative nnz = 8<br>bounding chain nnz = 14.0<br>row of dataframe = 344"
         ],
         "type": "scatter",
         "x": [
          0.6237623762376238
         ],
         "y": [
          0.7128712871287128
         ]
        },
        {
         "legendgroup": "2",
         "marker": {
          "color": "#00CC96"
         },
         "mode": "markers",
         "name": "Dimension 2",
         "showlegend": false,
         "text": [
          "birth filtration = 0.6138613861386139<br>death filtration = 0.6237623762376238<br>interval length = 0.00990099009900991<br>birth simplex = [51, 55, 82]<br>cyle representative nnz = 10<br>bounding chain nnz = 5.0<br>row of dataframe = 345"
         ],
         "type": "scatter",
         "x": [
          0.6138613861386139
         ],
         "y": [
          0.6237623762376238
         ]
        },
        {
         "legendgroup": "2",
         "marker": {
          "color": "#00CC96"
         },
         "mode": "markers",
         "name": "Dimension 2",
         "showlegend": false,
         "text": [
          "birth filtration = 0.6138613861386139<br>death filtration = 0.6831683168316832<br>interval length = 0.06930693069306937<br>birth simplex = [36, 37, 55]<br>cyle representative nnz = 16<br>bounding chain nnz = 15.0<br>row of dataframe = 346"
         ],
         "type": "scatter",
         "x": [
          0.6138613861386139
         ],
         "y": [
          0.6831683168316832
         ]
        },
        {
         "legendgroup": "2",
         "marker": {
          "color": "#00CC96"
         },
         "mode": "markers",
         "name": "Dimension 2",
         "showlegend": false,
         "text": [
          "birth filtration = 0.6039603960396039<br>death filtration = 0.7722772277227723<br>interval length = 0.16831683168316836<br>birth simplex = [40, 51, 69]<br>cyle representative nnz = 16<br>bounding chain nnz = 37.0<br>row of dataframe = 347"
         ],
         "type": "scatter",
         "x": [
          0.6039603960396039
         ],
         "y": [
          0.7722772277227723
         ]
        },
        {
         "legendgroup": "2",
         "marker": {
          "color": "#00CC96"
         },
         "mode": "markers",
         "name": "Dimension 2",
         "showlegend": false,
         "text": [
          "birth filtration = 0.6039603960396039<br>death filtration = 0.6435643564356436<br>interval length = 0.03960396039603964<br>birth simplex = [34, 56, 79]<br>cyle representative nnz = 22<br>bounding chain nnz = 14.0<br>row of dataframe = 348"
         ],
         "type": "scatter",
         "x": [
          0.6039603960396039
         ],
         "y": [
          0.6435643564356436
         ]
        },
        {
         "legendgroup": "2",
         "marker": {
          "color": "#00CC96"
         },
         "mode": "markers",
         "name": "Dimension 2",
         "showlegend": false,
         "text": [
          "birth filtration = 0.5841584158415841<br>death filtration = 0.6732673267326733<br>interval length = 0.08910891089108919<br>birth simplex = [37, 75, 94]<br>cyle representative nnz = 14<br>bounding chain nnz = 23.0<br>row of dataframe = 349"
         ],
         "type": "scatter",
         "x": [
          0.5841584158415841
         ],
         "y": [
          0.6732673267326733
         ]
        },
        {
         "legendgroup": "2",
         "marker": {
          "color": "#00CC96"
         },
         "mode": "markers",
         "name": "Dimension 2",
         "showlegend": false,
         "text": [
          "birth filtration = 0.5247524752475248<br>death filtration = 0.693069306930693<br>interval length = 0.16831683168316824<br>birth simplex = [43, 74, 97]<br>cyle representative nnz = 22<br>bounding chain nnz = 35.0<br>row of dataframe = 350"
         ],
         "type": "scatter",
         "x": [
          0.5247524752475248
         ],
         "y": [
          0.693069306930693
         ]
        },
        {
         "legendgroup": "2",
         "marker": {
          "color": "#00CC96"
         },
         "mode": "markers",
         "name": "Dimension 2",
         "showlegend": false,
         "text": [
          "birth filtration = 0.5247524752475248<br>death filtration = 0.6732673267326733<br>interval length = 0.14851485148514854<br>birth simplex = [11, 55, 74]<br>cyle representative nnz = 8<br>bounding chain nnz = 4.0<br>row of dataframe = 351"
         ],
         "type": "scatter",
         "x": [
          0.5247524752475248
         ],
         "y": [
          0.6732673267326733
         ]
        }
       ],
       "layout": {
        "height": 500,
        "margin": {
         "b": 20,
         "l": 20,
         "r": 20,
         "t": 20
        },
        "shapes": [
         {
          "line": {
           "dash": "dot"
          },
          "type": "line",
          "x0": 0,
          "x1": 1,
          "xref": "x domain",
          "y0": 1.0841584158415842,
          "y1": 1.0841584158415842,
          "yref": "y"
         }
        ],
        "template": {
         "data": {
          "bar": [
           {
            "error_x": {
             "color": "#2a3f5f"
            },
            "error_y": {
             "color": "#2a3f5f"
            },
            "marker": {
             "line": {
              "color": "#E5ECF6",
              "width": 0.5
             },
             "pattern": {
              "fillmode": "overlay",
              "size": 10,
              "solidity": 0.2
             }
            },
            "type": "bar"
           }
          ],
          "barpolar": [
           {
            "marker": {
             "line": {
              "color": "#E5ECF6",
              "width": 0.5
             },
             "pattern": {
              "fillmode": "overlay",
              "size": 10,
              "solidity": 0.2
             }
            },
            "type": "barpolar"
           }
          ],
          "carpet": [
           {
            "aaxis": {
             "endlinecolor": "#2a3f5f",
             "gridcolor": "white",
             "linecolor": "white",
             "minorgridcolor": "white",
             "startlinecolor": "#2a3f5f"
            },
            "baxis": {
             "endlinecolor": "#2a3f5f",
             "gridcolor": "white",
             "linecolor": "white",
             "minorgridcolor": "white",
             "startlinecolor": "#2a3f5f"
            },
            "type": "carpet"
           }
          ],
          "choropleth": [
           {
            "colorbar": {
             "outlinewidth": 0,
             "ticks": ""
            },
            "type": "choropleth"
           }
          ],
          "contour": [
           {
            "colorbar": {
             "outlinewidth": 0,
             "ticks": ""
            },
            "colorscale": [
             [
              0,
              "#0d0887"
             ],
             [
              0.1111111111111111,
              "#46039f"
             ],
             [
              0.2222222222222222,
              "#7201a8"
             ],
             [
              0.3333333333333333,
              "#9c179e"
             ],
             [
              0.4444444444444444,
              "#bd3786"
             ],
             [
              0.5555555555555556,
              "#d8576b"
             ],
             [
              0.6666666666666666,
              "#ed7953"
             ],
             [
              0.7777777777777778,
              "#fb9f3a"
             ],
             [
              0.8888888888888888,
              "#fdca26"
             ],
             [
              1,
              "#f0f921"
             ]
            ],
            "type": "contour"
           }
          ],
          "contourcarpet": [
           {
            "colorbar": {
             "outlinewidth": 0,
             "ticks": ""
            },
            "type": "contourcarpet"
           }
          ],
          "heatmap": [
           {
            "colorbar": {
             "outlinewidth": 0,
             "ticks": ""
            },
            "colorscale": [
             [
              0,
              "#0d0887"
             ],
             [
              0.1111111111111111,
              "#46039f"
             ],
             [
              0.2222222222222222,
              "#7201a8"
             ],
             [
              0.3333333333333333,
              "#9c179e"
             ],
             [
              0.4444444444444444,
              "#bd3786"
             ],
             [
              0.5555555555555556,
              "#d8576b"
             ],
             [
              0.6666666666666666,
              "#ed7953"
             ],
             [
              0.7777777777777778,
              "#fb9f3a"
             ],
             [
              0.8888888888888888,
              "#fdca26"
             ],
             [
              1,
              "#f0f921"
             ]
            ],
            "type": "heatmap"
           }
          ],
          "heatmapgl": [
           {
            "colorbar": {
             "outlinewidth": 0,
             "ticks": ""
            },
            "colorscale": [
             [
              0,
              "#0d0887"
             ],
             [
              0.1111111111111111,
              "#46039f"
             ],
             [
              0.2222222222222222,
              "#7201a8"
             ],
             [
              0.3333333333333333,
              "#9c179e"
             ],
             [
              0.4444444444444444,
              "#bd3786"
             ],
             [
              0.5555555555555556,
              "#d8576b"
             ],
             [
              0.6666666666666666,
              "#ed7953"
             ],
             [
              0.7777777777777778,
              "#fb9f3a"
             ],
             [
              0.8888888888888888,
              "#fdca26"
             ],
             [
              1,
              "#f0f921"
             ]
            ],
            "type": "heatmapgl"
           }
          ],
          "histogram": [
           {
            "marker": {
             "pattern": {
              "fillmode": "overlay",
              "size": 10,
              "solidity": 0.2
             }
            },
            "type": "histogram"
           }
          ],
          "histogram2d": [
           {
            "colorbar": {
             "outlinewidth": 0,
             "ticks": ""
            },
            "colorscale": [
             [
              0,
              "#0d0887"
             ],
             [
              0.1111111111111111,
              "#46039f"
             ],
             [
              0.2222222222222222,
              "#7201a8"
             ],
             [
              0.3333333333333333,
              "#9c179e"
             ],
             [
              0.4444444444444444,
              "#bd3786"
             ],
             [
              0.5555555555555556,
              "#d8576b"
             ],
             [
              0.6666666666666666,
              "#ed7953"
             ],
             [
              0.7777777777777778,
              "#fb9f3a"
             ],
             [
              0.8888888888888888,
              "#fdca26"
             ],
             [
              1,
              "#f0f921"
             ]
            ],
            "type": "histogram2d"
           }
          ],
          "histogram2dcontour": [
           {
            "colorbar": {
             "outlinewidth": 0,
             "ticks": ""
            },
            "colorscale": [
             [
              0,
              "#0d0887"
             ],
             [
              0.1111111111111111,
              "#46039f"
             ],
             [
              0.2222222222222222,
              "#7201a8"
             ],
             [
              0.3333333333333333,
              "#9c179e"
             ],
             [
              0.4444444444444444,
              "#bd3786"
             ],
             [
              0.5555555555555556,
              "#d8576b"
             ],
             [
              0.6666666666666666,
              "#ed7953"
             ],
             [
              0.7777777777777778,
              "#fb9f3a"
             ],
             [
              0.8888888888888888,
              "#fdca26"
             ],
             [
              1,
              "#f0f921"
             ]
            ],
            "type": "histogram2dcontour"
           }
          ],
          "mesh3d": [
           {
            "colorbar": {
             "outlinewidth": 0,
             "ticks": ""
            },
            "type": "mesh3d"
           }
          ],
          "parcoords": [
           {
            "line": {
             "colorbar": {
              "outlinewidth": 0,
              "ticks": ""
             }
            },
            "type": "parcoords"
           }
          ],
          "pie": [
           {
            "automargin": true,
            "type": "pie"
           }
          ],
          "scatter": [
           {
            "fillpattern": {
             "fillmode": "overlay",
             "size": 10,
             "solidity": 0.2
            },
            "type": "scatter"
           }
          ],
          "scatter3d": [
           {
            "line": {
             "colorbar": {
              "outlinewidth": 0,
              "ticks": ""
             }
            },
            "marker": {
             "colorbar": {
              "outlinewidth": 0,
              "ticks": ""
             }
            },
            "type": "scatter3d"
           }
          ],
          "scattercarpet": [
           {
            "marker": {
             "colorbar": {
              "outlinewidth": 0,
              "ticks": ""
             }
            },
            "type": "scattercarpet"
           }
          ],
          "scattergeo": [
           {
            "marker": {
             "colorbar": {
              "outlinewidth": 0,
              "ticks": ""
             }
            },
            "type": "scattergeo"
           }
          ],
          "scattergl": [
           {
            "marker": {
             "colorbar": {
              "outlinewidth": 0,
              "ticks": ""
             }
            },
            "type": "scattergl"
           }
          ],
          "scattermapbox": [
           {
            "marker": {
             "colorbar": {
              "outlinewidth": 0,
              "ticks": ""
             }
            },
            "type": "scattermapbox"
           }
          ],
          "scatterpolar": [
           {
            "marker": {
             "colorbar": {
              "outlinewidth": 0,
              "ticks": ""
             }
            },
            "type": "scatterpolar"
           }
          ],
          "scatterpolargl": [
           {
            "marker": {
             "colorbar": {
              "outlinewidth": 0,
              "ticks": ""
             }
            },
            "type": "scatterpolargl"
           }
          ],
          "scatterternary": [
           {
            "marker": {
             "colorbar": {
              "outlinewidth": 0,
              "ticks": ""
             }
            },
            "type": "scatterternary"
           }
          ],
          "surface": [
           {
            "colorbar": {
             "outlinewidth": 0,
             "ticks": ""
            },
            "colorscale": [
             [
              0,
              "#0d0887"
             ],
             [
              0.1111111111111111,
              "#46039f"
             ],
             [
              0.2222222222222222,
              "#7201a8"
             ],
             [
              0.3333333333333333,
              "#9c179e"
             ],
             [
              0.4444444444444444,
              "#bd3786"
             ],
             [
              0.5555555555555556,
              "#d8576b"
             ],
             [
              0.6666666666666666,
              "#ed7953"
             ],
             [
              0.7777777777777778,
              "#fb9f3a"
             ],
             [
              0.8888888888888888,
              "#fdca26"
             ],
             [
              1,
              "#f0f921"
             ]
            ],
            "type": "surface"
           }
          ],
          "table": [
           {
            "cells": {
             "fill": {
              "color": "#EBF0F8"
             },
             "line": {
              "color": "white"
             }
            },
            "header": {
             "fill": {
              "color": "#C8D4E3"
             },
             "line": {
              "color": "white"
             }
            },
            "type": "table"
           }
          ]
         },
         "layout": {
          "annotationdefaults": {
           "arrowcolor": "#2a3f5f",
           "arrowhead": 0,
           "arrowwidth": 1
          },
          "autotypenumbers": "strict",
          "coloraxis": {
           "colorbar": {
            "outlinewidth": 0,
            "ticks": ""
           }
          },
          "colorscale": {
           "diverging": [
            [
             0,
             "#8e0152"
            ],
            [
             0.1,
             "#c51b7d"
            ],
            [
             0.2,
             "#de77ae"
            ],
            [
             0.3,
             "#f1b6da"
            ],
            [
             0.4,
             "#fde0ef"
            ],
            [
             0.5,
             "#f7f7f7"
            ],
            [
             0.6,
             "#e6f5d0"
            ],
            [
             0.7,
             "#b8e186"
            ],
            [
             0.8,
             "#7fbc41"
            ],
            [
             0.9,
             "#4d9221"
            ],
            [
             1,
             "#276419"
            ]
           ],
           "sequential": [
            [
             0,
             "#0d0887"
            ],
            [
             0.1111111111111111,
             "#46039f"
            ],
            [
             0.2222222222222222,
             "#7201a8"
            ],
            [
             0.3333333333333333,
             "#9c179e"
            ],
            [
             0.4444444444444444,
             "#bd3786"
            ],
            [
             0.5555555555555556,
             "#d8576b"
            ],
            [
             0.6666666666666666,
             "#ed7953"
            ],
            [
             0.7777777777777778,
             "#fb9f3a"
            ],
            [
             0.8888888888888888,
             "#fdca26"
            ],
            [
             1,
             "#f0f921"
            ]
           ],
           "sequentialminus": [
            [
             0,
             "#0d0887"
            ],
            [
             0.1111111111111111,
             "#46039f"
            ],
            [
             0.2222222222222222,
             "#7201a8"
            ],
            [
             0.3333333333333333,
             "#9c179e"
            ],
            [
             0.4444444444444444,
             "#bd3786"
            ],
            [
             0.5555555555555556,
             "#d8576b"
            ],
            [
             0.6666666666666666,
             "#ed7953"
            ],
            [
             0.7777777777777778,
             "#fb9f3a"
            ],
            [
             0.8888888888888888,
             "#fdca26"
            ],
            [
             1,
             "#f0f921"
            ]
           ]
          },
          "colorway": [
           "#636efa",
           "#EF553B",
           "#00cc96",
           "#ab63fa",
           "#FFA15A",
           "#19d3f3",
           "#FF6692",
           "#B6E880",
           "#FF97FF",
           "#FECB52"
          ],
          "font": {
           "color": "#2a3f5f"
          },
          "geo": {
           "bgcolor": "white",
           "lakecolor": "white",
           "landcolor": "#E5ECF6",
           "showlakes": true,
           "showland": true,
           "subunitcolor": "white"
          },
          "hoverlabel": {
           "align": "left"
          },
          "hovermode": "closest",
          "mapbox": {
           "style": "light"
          },
          "paper_bgcolor": "white",
          "plot_bgcolor": "#E5ECF6",
          "polar": {
           "angularaxis": {
            "gridcolor": "white",
            "linecolor": "white",
            "ticks": ""
           },
           "bgcolor": "#E5ECF6",
           "radialaxis": {
            "gridcolor": "white",
            "linecolor": "white",
            "ticks": ""
           }
          },
          "scene": {
           "xaxis": {
            "backgroundcolor": "#E5ECF6",
            "gridcolor": "white",
            "gridwidth": 2,
            "linecolor": "white",
            "showbackground": true,
            "ticks": "",
            "zerolinecolor": "white"
           },
           "yaxis": {
            "backgroundcolor": "#E5ECF6",
            "gridcolor": "white",
            "gridwidth": 2,
            "linecolor": "white",
            "showbackground": true,
            "ticks": "",
            "zerolinecolor": "white"
           },
           "zaxis": {
            "backgroundcolor": "#E5ECF6",
            "gridcolor": "white",
            "gridwidth": 2,
            "linecolor": "white",
            "showbackground": true,
            "ticks": "",
            "zerolinecolor": "white"
           }
          },
          "shapedefaults": {
           "line": {
            "color": "#2a3f5f"
           }
          },
          "ternary": {
           "aaxis": {
            "gridcolor": "white",
            "linecolor": "white",
            "ticks": ""
           },
           "baxis": {
            "gridcolor": "white",
            "linecolor": "white",
            "ticks": ""
           },
           "bgcolor": "#E5ECF6",
           "caxis": {
            "gridcolor": "white",
            "linecolor": "white",
            "ticks": ""
           }
          },
          "title": {
           "x": 0.05
          },
          "xaxis": {
           "automargin": true,
           "gridcolor": "white",
           "linecolor": "white",
           "ticks": "",
           "title": {
            "standoff": 15
           },
           "zerolinecolor": "white",
           "zerolinewidth": 2
          },
          "yaxis": {
           "automargin": true,
           "gridcolor": "white",
           "linecolor": "white",
           "ticks": "",
           "title": {
            "standoff": 15
           },
           "zerolinecolor": "white",
           "zerolinewidth": 2
          }
         }
        },
        "width": 600
       }
      }
     },
     "metadata": {},
     "output_type": "display_data"
    }
   ],
   "source": [
    "# persistance diagram\n",
    "fig = oat.plot.pd(homology_orig)\n",
    "fig.update_layout(\n",
    "        width=600, \n",
    "        height=500,\n",
    "        margin=dict(l=20, r=20, t=20, b=20)\n",
    "    )\n",
    "fig.show()"
   ]
  },
  {
   "cell_type": "code",
   "execution_count": null,
   "metadata": {},
   "outputs": [
    {
     "data": {
      "application/vnd.plotly.v1+json": {
       "config": {
        "plotlyServerURL": "https://plot.ly"
       },
       "data": [
        {
         "hoverinfo": "text",
         "hovertext": [
          "birth 0.04950495049504951<br>death inf<br>homology dimension 0<br>row of dataframe 67",
          "birth 0.04950495049504951<br>death inf<br>homology dimension 0<br>row of dataframe 67",
          "birth 0.04950495049504951<br>death inf<br>homology dimension 0<br>row of dataframe 67",
          "birth 0.10891089108910891<br>death 0.504950495049505<br>homology dimension 0<br>row of dataframe 66",
          "birth 0.10891089108910891<br>death 0.504950495049505<br>homology dimension 0<br>row of dataframe 66",
          "birth 0.10891089108910891<br>death 0.504950495049505<br>homology dimension 0<br>row of dataframe 66",
          "birth 0.16831683168316833<br>death 0.44554455445544555<br>homology dimension 0<br>row of dataframe 65",
          "birth 0.16831683168316833<br>death 0.44554455445544555<br>homology dimension 0<br>row of dataframe 65",
          "birth 0.16831683168316833<br>death 0.44554455445544555<br>homology dimension 0<br>row of dataframe 65",
          "birth 0.27722772277227725<br>death 0.48514851485148514<br>homology dimension 0<br>row of dataframe 64",
          "birth 0.27722772277227725<br>death 0.48514851485148514<br>homology dimension 0<br>row of dataframe 64",
          "birth 0.27722772277227725<br>death 0.48514851485148514<br>homology dimension 0<br>row of dataframe 64",
          "birth 0.32673267326732675<br>death 0.3564356435643564<br>homology dimension 0<br>row of dataframe 63",
          "birth 0.32673267326732675<br>death 0.3564356435643564<br>homology dimension 0<br>row of dataframe 63",
          "birth 0.32673267326732675<br>death 0.3564356435643564<br>homology dimension 0<br>row of dataframe 63",
          "birth 0.33663366336633666<br>death 0.40594059405940597<br>homology dimension 0<br>row of dataframe 62",
          "birth 0.33663366336633666<br>death 0.40594059405940597<br>homology dimension 0<br>row of dataframe 62",
          "birth 0.33663366336633666<br>death 0.40594059405940597<br>homology dimension 0<br>row of dataframe 62",
          "birth 0.3465346534653465<br>death 0.6138613861386139<br>homology dimension 0<br>row of dataframe 61",
          "birth 0.3465346534653465<br>death 0.6138613861386139<br>homology dimension 0<br>row of dataframe 61",
          "birth 0.3465346534653465<br>death 0.6138613861386139<br>homology dimension 0<br>row of dataframe 61",
          "birth 0.3564356435643564<br>death 0.504950495049505<br>homology dimension 0<br>row of dataframe 60",
          "birth 0.3564356435643564<br>death 0.504950495049505<br>homology dimension 0<br>row of dataframe 60",
          "birth 0.3564356435643564<br>death 0.504950495049505<br>homology dimension 0<br>row of dataframe 60",
          "birth 0.3564356435643564<br>death 0.5148514851485149<br>homology dimension 0<br>row of dataframe 59",
          "birth 0.3564356435643564<br>death 0.5148514851485149<br>homology dimension 0<br>row of dataframe 59",
          "birth 0.3564356435643564<br>death 0.5148514851485149<br>homology dimension 0<br>row of dataframe 59",
          "birth 0.36633663366336633<br>death 0.40594059405940597<br>homology dimension 0<br>row of dataframe 57",
          "birth 0.36633663366336633<br>death 0.40594059405940597<br>homology dimension 0<br>row of dataframe 57",
          "birth 0.36633663366336633<br>death 0.40594059405940597<br>homology dimension 0<br>row of dataframe 57",
          "birth 0.36633663366336633<br>death 0.44554455445544555<br>homology dimension 0<br>row of dataframe 58",
          "birth 0.36633663366336633<br>death 0.44554455445544555<br>homology dimension 0<br>row of dataframe 58",
          "birth 0.36633663366336633<br>death 0.44554455445544555<br>homology dimension 0<br>row of dataframe 58",
          "birth 0.36633663366336633<br>death 0.48514851485148514<br>homology dimension 0<br>row of dataframe 56",
          "birth 0.36633663366336633<br>death 0.48514851485148514<br>homology dimension 0<br>row of dataframe 56",
          "birth 0.36633663366336633<br>death 0.48514851485148514<br>homology dimension 0<br>row of dataframe 56",
          "birth 0.37623762376237624<br>death 0.43564356435643564<br>homology dimension 0<br>row of dataframe 55",
          "birth 0.37623762376237624<br>death 0.43564356435643564<br>homology dimension 0<br>row of dataframe 55",
          "birth 0.37623762376237624<br>death 0.43564356435643564<br>homology dimension 0<br>row of dataframe 55",
          "birth 0.38613861386138615<br>death 0.48514851485148514<br>homology dimension 0<br>row of dataframe 54",
          "birth 0.38613861386138615<br>death 0.48514851485148514<br>homology dimension 0<br>row of dataframe 54",
          "birth 0.38613861386138615<br>death 0.48514851485148514<br>homology dimension 0<br>row of dataframe 54",
          "birth 0.39603960396039606<br>death 0.43564356435643564<br>homology dimension 0<br>row of dataframe 53",
          "birth 0.39603960396039606<br>death 0.43564356435643564<br>homology dimension 0<br>row of dataframe 53",
          "birth 0.39603960396039606<br>death 0.43564356435643564<br>homology dimension 0<br>row of dataframe 53",
          "birth 0.39603960396039606<br>death 0.45544554455445546<br>homology dimension 0<br>row of dataframe 52",
          "birth 0.39603960396039606<br>death 0.45544554455445546<br>homology dimension 0<br>row of dataframe 52",
          "birth 0.39603960396039606<br>death 0.45544554455445546<br>homology dimension 0<br>row of dataframe 52",
          "birth 0.40594059405940597<br>death 0.42574257425742573<br>homology dimension 0<br>row of dataframe 49",
          "birth 0.40594059405940597<br>death 0.42574257425742573<br>homology dimension 0<br>row of dataframe 49",
          "birth 0.40594059405940597<br>death 0.42574257425742573<br>homology dimension 0<br>row of dataframe 49",
          "birth 0.40594059405940597<br>death 0.43564356435643564<br>homology dimension 0<br>row of dataframe 47",
          "birth 0.40594059405940597<br>death 0.43564356435643564<br>homology dimension 0<br>row of dataframe 47",
          "birth 0.40594059405940597<br>death 0.43564356435643564<br>homology dimension 0<br>row of dataframe 47",
          "birth 0.40594059405940597<br>death 0.45544554455445546<br>homology dimension 0<br>row of dataframe 48",
          "birth 0.40594059405940597<br>death 0.45544554455445546<br>homology dimension 0<br>row of dataframe 48",
          "birth 0.40594059405940597<br>death 0.45544554455445546<br>homology dimension 0<br>row of dataframe 48",
          "birth 0.40594059405940597<br>death 0.45544554455445546<br>homology dimension 0<br>row of dataframe 50",
          "birth 0.40594059405940597<br>death 0.45544554455445546<br>homology dimension 0<br>row of dataframe 50",
          "birth 0.40594059405940597<br>death 0.45544554455445546<br>homology dimension 0<br>row of dataframe 50",
          "birth 0.40594059405940597<br>death 0.4752475247524752<br>homology dimension 0<br>row of dataframe 51",
          "birth 0.40594059405940597<br>death 0.4752475247524752<br>homology dimension 0<br>row of dataframe 51",
          "birth 0.40594059405940597<br>death 0.4752475247524752<br>homology dimension 0<br>row of dataframe 51",
          "birth 0.4158415841584158<br>death 0.43564356435643564<br>homology dimension 0<br>row of dataframe 45",
          "birth 0.4158415841584158<br>death 0.43564356435643564<br>homology dimension 0<br>row of dataframe 45",
          "birth 0.4158415841584158<br>death 0.43564356435643564<br>homology dimension 0<br>row of dataframe 45",
          "birth 0.4158415841584158<br>death 0.504950495049505<br>homology dimension 0<br>row of dataframe 46",
          "birth 0.4158415841584158<br>death 0.504950495049505<br>homology dimension 0<br>row of dataframe 46",
          "birth 0.4158415841584158<br>death 0.504950495049505<br>homology dimension 0<br>row of dataframe 46",
          "birth 0.42574257425742573<br>death 0.45544554455445546<br>homology dimension 0<br>row of dataframe 40",
          "birth 0.42574257425742573<br>death 0.45544554455445546<br>homology dimension 0<br>row of dataframe 40",
          "birth 0.42574257425742573<br>death 0.45544554455445546<br>homology dimension 0<br>row of dataframe 40",
          "birth 0.42574257425742573<br>death 0.45544554455445546<br>homology dimension 0<br>row of dataframe 42",
          "birth 0.42574257425742573<br>death 0.45544554455445546<br>homology dimension 0<br>row of dataframe 42",
          "birth 0.42574257425742573<br>death 0.45544554455445546<br>homology dimension 0<br>row of dataframe 42",
          "birth 0.42574257425742573<br>death 0.49504950495049505<br>homology dimension 0<br>row of dataframe 41",
          "birth 0.42574257425742573<br>death 0.49504950495049505<br>homology dimension 0<br>row of dataframe 41",
          "birth 0.42574257425742573<br>death 0.49504950495049505<br>homology dimension 0<br>row of dataframe 41",
          "birth 0.42574257425742573<br>death 0.5445544554455446<br>homology dimension 0<br>row of dataframe 39",
          "birth 0.42574257425742573<br>death 0.5445544554455446<br>homology dimension 0<br>row of dataframe 39",
          "birth 0.42574257425742573<br>death 0.5445544554455446<br>homology dimension 0<br>row of dataframe 39",
          "birth 0.42574257425742573<br>death 0.5544554455445545<br>homology dimension 0<br>row of dataframe 44",
          "birth 0.42574257425742573<br>death 0.5544554455445545<br>homology dimension 0<br>row of dataframe 44",
          "birth 0.42574257425742573<br>death 0.5544554455445545<br>homology dimension 0<br>row of dataframe 44",
          "birth 0.42574257425742573<br>death 0.6237623762376238<br>homology dimension 0<br>row of dataframe 43",
          "birth 0.42574257425742573<br>death 0.6237623762376238<br>homology dimension 0<br>row of dataframe 43",
          "birth 0.42574257425742573<br>death 0.6237623762376238<br>homology dimension 0<br>row of dataframe 43",
          "birth 0.43564356435643564<br>death 0.46534653465346537<br>homology dimension 0<br>row of dataframe 36",
          "birth 0.43564356435643564<br>death 0.46534653465346537<br>homology dimension 0<br>row of dataframe 36",
          "birth 0.43564356435643564<br>death 0.46534653465346537<br>homology dimension 0<br>row of dataframe 36",
          "birth 0.43564356435643564<br>death 0.48514851485148514<br>homology dimension 0<br>row of dataframe 38",
          "birth 0.43564356435643564<br>death 0.48514851485148514<br>homology dimension 0<br>row of dataframe 38",
          "birth 0.43564356435643564<br>death 0.48514851485148514<br>homology dimension 0<br>row of dataframe 38",
          "birth 0.43564356435643564<br>death 0.5148514851485149<br>homology dimension 0<br>row of dataframe 35",
          "birth 0.43564356435643564<br>death 0.5148514851485149<br>homology dimension 0<br>row of dataframe 35",
          "birth 0.43564356435643564<br>death 0.5148514851485149<br>homology dimension 0<br>row of dataframe 35",
          "birth 0.43564356435643564<br>death 0.5247524752475248<br>homology dimension 0<br>row of dataframe 37",
          "birth 0.43564356435643564<br>death 0.5247524752475248<br>homology dimension 0<br>row of dataframe 37",
          "birth 0.43564356435643564<br>death 0.5247524752475248<br>homology dimension 0<br>row of dataframe 37",
          "birth 0.44554455445544555<br>death 0.5148514851485149<br>homology dimension 0<br>row of dataframe 34",
          "birth 0.44554455445544555<br>death 0.5148514851485149<br>homology dimension 0<br>row of dataframe 34",
          "birth 0.44554455445544555<br>death 0.5148514851485149<br>homology dimension 0<br>row of dataframe 34",
          "birth 0.45544554455445546<br>death 0.46534653465346537<br>homology dimension 0<br>row of dataframe 31",
          "birth 0.45544554455445546<br>death 0.46534653465346537<br>homology dimension 0<br>row of dataframe 31",
          "birth 0.45544554455445546<br>death 0.46534653465346537<br>homology dimension 0<br>row of dataframe 31",
          "birth 0.45544554455445546<br>death 0.46534653465346537<br>homology dimension 0<br>row of dataframe 32",
          "birth 0.45544554455445546<br>death 0.46534653465346537<br>homology dimension 0<br>row of dataframe 32",
          "birth 0.45544554455445546<br>death 0.46534653465346537<br>homology dimension 0<br>row of dataframe 32",
          "birth 0.45544554455445546<br>death 0.5148514851485149<br>homology dimension 0<br>row of dataframe 33",
          "birth 0.45544554455445546<br>death 0.5148514851485149<br>homology dimension 0<br>row of dataframe 33",
          "birth 0.45544554455445546<br>death 0.5148514851485149<br>homology dimension 0<br>row of dataframe 33",
          "birth 0.46534653465346537<br>death 0.504950495049505<br>homology dimension 0<br>row of dataframe 30",
          "birth 0.46534653465346537<br>death 0.504950495049505<br>homology dimension 0<br>row of dataframe 30",
          "birth 0.46534653465346537<br>death 0.504950495049505<br>homology dimension 0<br>row of dataframe 30",
          "birth 0.46534653465346537<br>death 0.5148514851485149<br>homology dimension 0<br>row of dataframe 29",
          "birth 0.46534653465346537<br>death 0.5148514851485149<br>homology dimension 0<br>row of dataframe 29",
          "birth 0.46534653465346537<br>death 0.5148514851485149<br>homology dimension 0<br>row of dataframe 29",
          "birth 0.4752475247524752<br>death 0.49504950495049505<br>homology dimension 0<br>row of dataframe 26",
          "birth 0.4752475247524752<br>death 0.49504950495049505<br>homology dimension 0<br>row of dataframe 26",
          "birth 0.4752475247524752<br>death 0.49504950495049505<br>homology dimension 0<br>row of dataframe 26",
          "birth 0.4752475247524752<br>death 0.504950495049505<br>homology dimension 0<br>row of dataframe 28",
          "birth 0.4752475247524752<br>death 0.504950495049505<br>homology dimension 0<br>row of dataframe 28",
          "birth 0.4752475247524752<br>death 0.504950495049505<br>homology dimension 0<br>row of dataframe 28",
          "birth 0.4752475247524752<br>death 0.5445544554455446<br>homology dimension 0<br>row of dataframe 27",
          "birth 0.4752475247524752<br>death 0.5445544554455446<br>homology dimension 0<br>row of dataframe 27",
          "birth 0.4752475247524752<br>death 0.5445544554455446<br>homology dimension 0<br>row of dataframe 27",
          "birth 0.48514851485148514<br>death 0.49504950495049505<br>homology dimension 0<br>row of dataframe 25",
          "birth 0.48514851485148514<br>death 0.49504950495049505<br>homology dimension 0<br>row of dataframe 25",
          "birth 0.48514851485148514<br>death 0.49504950495049505<br>homology dimension 0<br>row of dataframe 25",
          "birth 0.49504950495049505<br>death 0.594059405940594<br>homology dimension 0<br>row of dataframe 24",
          "birth 0.49504950495049505<br>death 0.594059405940594<br>homology dimension 0<br>row of dataframe 24",
          "birth 0.49504950495049505<br>death 0.594059405940594<br>homology dimension 0<br>row of dataframe 24",
          "birth 0.504950495049505<br>death 0.5148514851485149<br>homology dimension 0<br>row of dataframe 23",
          "birth 0.504950495049505<br>death 0.5148514851485149<br>homology dimension 0<br>row of dataframe 23",
          "birth 0.504950495049505<br>death 0.5148514851485149<br>homology dimension 0<br>row of dataframe 23",
          "birth 0.504950495049505<br>death 0.6039603960396039<br>homology dimension 0<br>row of dataframe 22",
          "birth 0.504950495049505<br>death 0.6039603960396039<br>homology dimension 0<br>row of dataframe 22",
          "birth 0.504950495049505<br>death 0.6039603960396039<br>homology dimension 0<br>row of dataframe 22",
          "birth 0.5247524752475248<br>death 0.5742574257425742<br>homology dimension 0<br>row of dataframe 21",
          "birth 0.5247524752475248<br>death 0.5742574257425742<br>homology dimension 0<br>row of dataframe 21",
          "birth 0.5247524752475248<br>death 0.5742574257425742<br>homology dimension 0<br>row of dataframe 21",
          "birth 0.5445544554455446<br>death 0.7722772277227723<br>homology dimension 0<br>row of dataframe 20",
          "birth 0.5445544554455446<br>death 0.7722772277227723<br>homology dimension 0<br>row of dataframe 20",
          "birth 0.5445544554455446<br>death 0.7722772277227723<br>homology dimension 0<br>row of dataframe 20",
          "birth 0.5544554455445545<br>death 0.6039603960396039<br>homology dimension 0<br>row of dataframe 18",
          "birth 0.5544554455445545<br>death 0.6039603960396039<br>homology dimension 0<br>row of dataframe 18",
          "birth 0.5544554455445545<br>death 0.6039603960396039<br>homology dimension 0<br>row of dataframe 18",
          "birth 0.5544554455445545<br>death 0.7326732673267327<br>homology dimension 0<br>row of dataframe 19",
          "birth 0.5544554455445545<br>death 0.7326732673267327<br>homology dimension 0<br>row of dataframe 19",
          "birth 0.5544554455445545<br>death 0.7326732673267327<br>homology dimension 0<br>row of dataframe 19",
          "birth 0.5643564356435643<br>death 0.6138613861386139<br>homology dimension 0<br>row of dataframe 17",
          "birth 0.5643564356435643<br>death 0.6138613861386139<br>homology dimension 0<br>row of dataframe 17",
          "birth 0.5643564356435643<br>death 0.6138613861386139<br>homology dimension 0<br>row of dataframe 17",
          "birth 0.5742574257425742<br>death 0.6633663366336634<br>homology dimension 0<br>row of dataframe 16",
          "birth 0.5742574257425742<br>death 0.6633663366336634<br>homology dimension 0<br>row of dataframe 16",
          "birth 0.5742574257425742<br>death 0.6633663366336634<br>homology dimension 0<br>row of dataframe 16",
          "birth 0.594059405940594<br>death 0.7029702970297029<br>homology dimension 0<br>row of dataframe 15",
          "birth 0.594059405940594<br>death 0.7029702970297029<br>homology dimension 0<br>row of dataframe 15",
          "birth 0.594059405940594<br>death 0.7029702970297029<br>homology dimension 0<br>row of dataframe 15",
          "birth 0.6039603960396039<br>death 0.6435643564356436<br>homology dimension 0<br>row of dataframe 14",
          "birth 0.6039603960396039<br>death 0.6435643564356436<br>homology dimension 0<br>row of dataframe 14",
          "birth 0.6039603960396039<br>death 0.6435643564356436<br>homology dimension 0<br>row of dataframe 14",
          "birth 0.6435643564356436<br>death 0.7524752475247525<br>homology dimension 0<br>row of dataframe 13",
          "birth 0.6435643564356436<br>death 0.7524752475247525<br>homology dimension 0<br>row of dataframe 13",
          "birth 0.6435643564356436<br>death 0.7524752475247525<br>homology dimension 0<br>row of dataframe 13",
          "birth 0.6633663366336634<br>death 0.7128712871287128<br>homology dimension 0<br>row of dataframe 12",
          "birth 0.6633663366336634<br>death 0.7128712871287128<br>homology dimension 0<br>row of dataframe 12",
          "birth 0.6633663366336634<br>death 0.7128712871287128<br>homology dimension 0<br>row of dataframe 12",
          "birth 0.7029702970297029<br>death 0.7326732673267327<br>homology dimension 0<br>row of dataframe 11",
          "birth 0.7029702970297029<br>death 0.7326732673267327<br>homology dimension 0<br>row of dataframe 11",
          "birth 0.7029702970297029<br>death 0.7326732673267327<br>homology dimension 0<br>row of dataframe 11",
          "birth 0.7326732673267327<br>death 0.7920792079207921<br>homology dimension 0<br>row of dataframe 10",
          "birth 0.7326732673267327<br>death 0.7920792079207921<br>homology dimension 0<br>row of dataframe 10",
          "birth 0.7326732673267327<br>death 0.7920792079207921<br>homology dimension 0<br>row of dataframe 10",
          "birth 0.7326732673267327<br>death 0.8712871287128713<br>homology dimension 0<br>row of dataframe 9",
          "birth 0.7326732673267327<br>death 0.8712871287128713<br>homology dimension 0<br>row of dataframe 9",
          "birth 0.7326732673267327<br>death 0.8712871287128713<br>homology dimension 0<br>row of dataframe 9",
          "birth 0.7524752475247525<br>death 0.8316831683168316<br>homology dimension 0<br>row of dataframe 8",
          "birth 0.7524752475247525<br>death 0.8316831683168316<br>homology dimension 0<br>row of dataframe 8",
          "birth 0.7524752475247525<br>death 0.8316831683168316<br>homology dimension 0<br>row of dataframe 8",
          "birth 0.7623762376237624<br>death 0.8316831683168316<br>homology dimension 0<br>row of dataframe 7",
          "birth 0.7623762376237624<br>death 0.8316831683168316<br>homology dimension 0<br>row of dataframe 7",
          "birth 0.7623762376237624<br>death 0.8316831683168316<br>homology dimension 0<br>row of dataframe 7",
          "birth 0.7821782178217822<br>death 0.7920792079207921<br>homology dimension 0<br>row of dataframe 6",
          "birth 0.7821782178217822<br>death 0.7920792079207921<br>homology dimension 0<br>row of dataframe 6",
          "birth 0.7821782178217822<br>death 0.7920792079207921<br>homology dimension 0<br>row of dataframe 6",
          "birth 0.7920792079207921<br>death 0.8415841584158416<br>homology dimension 0<br>row of dataframe 5",
          "birth 0.7920792079207921<br>death 0.8415841584158416<br>homology dimension 0<br>row of dataframe 5",
          "birth 0.7920792079207921<br>death 0.8415841584158416<br>homology dimension 0<br>row of dataframe 5",
          "birth 0.7920792079207921<br>death 0.9207920792079208<br>homology dimension 0<br>row of dataframe 4",
          "birth 0.7920792079207921<br>death 0.9207920792079208<br>homology dimension 0<br>row of dataframe 4",
          "birth 0.7920792079207921<br>death 0.9207920792079208<br>homology dimension 0<br>row of dataframe 4",
          "birth 0.801980198019802<br>death 0.8316831683168316<br>homology dimension 0<br>row of dataframe 3",
          "birth 0.801980198019802<br>death 0.8316831683168316<br>homology dimension 0<br>row of dataframe 3",
          "birth 0.801980198019802<br>death 0.8316831683168316<br>homology dimension 0<br>row of dataframe 3",
          "birth 0.8118811881188119<br>death 0.8316831683168316<br>homology dimension 0<br>row of dataframe 2",
          "birth 0.8118811881188119<br>death 0.8316831683168316<br>homology dimension 0<br>row of dataframe 2",
          "birth 0.8118811881188119<br>death 0.8316831683168316<br>homology dimension 0<br>row of dataframe 2",
          "birth 0.8316831683168316<br>death 0.8712871287128713<br>homology dimension 0<br>row of dataframe 1",
          "birth 0.8316831683168316<br>death 0.8712871287128713<br>homology dimension 0<br>row of dataframe 1",
          "birth 0.8316831683168316<br>death 0.8712871287128713<br>homology dimension 0<br>row of dataframe 1",
          "birth 0.9108910891089109<br>death 0.9603960396039604<br>homology dimension 0<br>row of dataframe 0",
          "birth 0.9108910891089109<br>death 0.9603960396039604<br>homology dimension 0<br>row of dataframe 0",
          "birth 0.9108910891089109<br>death 0.9603960396039604<br>homology dimension 0<br>row of dataframe 0"
         ],
         "line": {
          "color": "#636EFA"
         },
         "mode": "lines",
         "name": "Dim 0",
         "type": "scatter",
         "x": [
          0.04950495049504951,
          1.0891089108910892,
          null,
          0.10891089108910891,
          0.504950495049505,
          null,
          0.16831683168316833,
          0.44554455445544555,
          null,
          0.27722772277227725,
          0.48514851485148514,
          null,
          0.32673267326732675,
          0.3564356435643564,
          null,
          0.33663366336633666,
          0.40594059405940597,
          null,
          0.3465346534653465,
          0.6138613861386139,
          null,
          0.3564356435643564,
          0.504950495049505,
          null,
          0.3564356435643564,
          0.5148514851485149,
          null,
          0.36633663366336633,
          0.40594059405940597,
          null,
          0.36633663366336633,
          0.44554455445544555,
          null,
          0.36633663366336633,
          0.48514851485148514,
          null,
          0.37623762376237624,
          0.43564356435643564,
          null,
          0.38613861386138615,
          0.48514851485148514,
          null,
          0.39603960396039606,
          0.43564356435643564,
          null,
          0.39603960396039606,
          0.45544554455445546,
          null,
          0.40594059405940597,
          0.42574257425742573,
          null,
          0.40594059405940597,
          0.43564356435643564,
          null,
          0.40594059405940597,
          0.45544554455445546,
          null,
          0.40594059405940597,
          0.45544554455445546,
          null,
          0.40594059405940597,
          0.4752475247524752,
          null,
          0.4158415841584158,
          0.43564356435643564,
          null,
          0.4158415841584158,
          0.504950495049505,
          null,
          0.42574257425742573,
          0.45544554455445546,
          null,
          0.42574257425742573,
          0.45544554455445546,
          null,
          0.42574257425742573,
          0.49504950495049505,
          null,
          0.42574257425742573,
          0.5445544554455446,
          null,
          0.42574257425742573,
          0.5544554455445545,
          null,
          0.42574257425742573,
          0.6237623762376238,
          null,
          0.43564356435643564,
          0.46534653465346537,
          null,
          0.43564356435643564,
          0.48514851485148514,
          null,
          0.43564356435643564,
          0.5148514851485149,
          null,
          0.43564356435643564,
          0.5247524752475248,
          null,
          0.44554455445544555,
          0.5148514851485149,
          null,
          0.45544554455445546,
          0.46534653465346537,
          null,
          0.45544554455445546,
          0.46534653465346537,
          null,
          0.45544554455445546,
          0.5148514851485149,
          null,
          0.46534653465346537,
          0.504950495049505,
          null,
          0.46534653465346537,
          0.5148514851485149,
          null,
          0.4752475247524752,
          0.49504950495049505,
          null,
          0.4752475247524752,
          0.504950495049505,
          null,
          0.4752475247524752,
          0.5445544554455446,
          null,
          0.48514851485148514,
          0.49504950495049505,
          null,
          0.49504950495049505,
          0.594059405940594,
          null,
          0.504950495049505,
          0.5148514851485149,
          null,
          0.504950495049505,
          0.6039603960396039,
          null,
          0.5247524752475248,
          0.5742574257425742,
          null,
          0.5445544554455446,
          0.7722772277227723,
          null,
          0.5544554455445545,
          0.6039603960396039,
          null,
          0.5544554455445545,
          0.7326732673267327,
          null,
          0.5643564356435643,
          0.6138613861386139,
          null,
          0.5742574257425742,
          0.6633663366336634,
          null,
          0.594059405940594,
          0.7029702970297029,
          null,
          0.6039603960396039,
          0.6435643564356436,
          null,
          0.6435643564356436,
          0.7524752475247525,
          null,
          0.6633663366336634,
          0.7128712871287128,
          null,
          0.7029702970297029,
          0.7326732673267327,
          null,
          0.7326732673267327,
          0.7920792079207921,
          null,
          0.7326732673267327,
          0.8712871287128713,
          null,
          0.7524752475247525,
          0.8316831683168316,
          null,
          0.7623762376237624,
          0.8316831683168316,
          null,
          0.7821782178217822,
          0.7920792079207921,
          null,
          0.7920792079207921,
          0.8415841584158416,
          null,
          0.7920792079207921,
          0.9207920792079208,
          null,
          0.801980198019802,
          0.8316831683168316,
          null,
          0.8118811881188119,
          0.8316831683168316,
          null,
          0.8316831683168316,
          0.8712871287128713,
          null,
          0.9108910891089109,
          0.9603960396039604,
          null
         ],
         "y": [
          0,
          0,
          null,
          1,
          1,
          null,
          2,
          2,
          null,
          3,
          3,
          null,
          4,
          4,
          null,
          5,
          5,
          null,
          6,
          6,
          null,
          7,
          7,
          null,
          8,
          8,
          null,
          9,
          9,
          null,
          10,
          10,
          null,
          11,
          11,
          null,
          12,
          12,
          null,
          13,
          13,
          null,
          14,
          14,
          null,
          15,
          15,
          null,
          16,
          16,
          null,
          17,
          17,
          null,
          18,
          18,
          null,
          19,
          19,
          null,
          20,
          20,
          null,
          21,
          21,
          null,
          22,
          22,
          null,
          23,
          23,
          null,
          24,
          24,
          null,
          25,
          25,
          null,
          26,
          26,
          null,
          27,
          27,
          null,
          28,
          28,
          null,
          29,
          29,
          null,
          30,
          30,
          null,
          31,
          31,
          null,
          32,
          32,
          null,
          33,
          33,
          null,
          34,
          34,
          null,
          35,
          35,
          null,
          36,
          36,
          null,
          37,
          37,
          null,
          38,
          38,
          null,
          39,
          39,
          null,
          40,
          40,
          null,
          41,
          41,
          null,
          42,
          42,
          null,
          43,
          43,
          null,
          44,
          44,
          null,
          45,
          45,
          null,
          46,
          46,
          null,
          47,
          47,
          null,
          48,
          48,
          null,
          49,
          49,
          null,
          50,
          50,
          null,
          51,
          51,
          null,
          52,
          52,
          null,
          53,
          53,
          null,
          54,
          54,
          null,
          55,
          55,
          null,
          56,
          56,
          null,
          57,
          57,
          null,
          58,
          58,
          null,
          59,
          59,
          null,
          60,
          60,
          null,
          61,
          61,
          null,
          62,
          62,
          null,
          63,
          63,
          null,
          64,
          64,
          null,
          65,
          65,
          null,
          66,
          66,
          null,
          67,
          67,
          null
         ]
        },
        {
         "hoverinfo": "text",
         "hovertext": [
          "birth 0.4158415841584158<br>death 0.42574257425742573<br>homology dimension 1<br>row of dataframe 187",
          "birth 0.4158415841584158<br>death 0.42574257425742573<br>homology dimension 1<br>row of dataframe 187",
          "birth 0.4158415841584158<br>death 0.42574257425742573<br>homology dimension 1<br>row of dataframe 187",
          "birth 0.43564356435643564<br>death 0.45544554455445546<br>homology dimension 1<br>row of dataframe 186",
          "birth 0.43564356435643564<br>death 0.45544554455445546<br>homology dimension 1<br>row of dataframe 186",
          "birth 0.43564356435643564<br>death 0.45544554455445546<br>homology dimension 1<br>row of dataframe 186",
          "birth 0.4752475247524752<br>death 0.49504950495049505<br>homology dimension 1<br>row of dataframe 183",
          "birth 0.4752475247524752<br>death 0.49504950495049505<br>homology dimension 1<br>row of dataframe 183",
          "birth 0.4752475247524752<br>death 0.49504950495049505<br>homology dimension 1<br>row of dataframe 183",
          "birth 0.4752475247524752<br>death 0.49504950495049505<br>homology dimension 1<br>row of dataframe 184",
          "birth 0.4752475247524752<br>death 0.49504950495049505<br>homology dimension 1<br>row of dataframe 184",
          "birth 0.4752475247524752<br>death 0.49504950495049505<br>homology dimension 1<br>row of dataframe 184",
          "birth 0.4752475247524752<br>death 0.504950495049505<br>homology dimension 1<br>row of dataframe 182",
          "birth 0.4752475247524752<br>death 0.504950495049505<br>homology dimension 1<br>row of dataframe 182",
          "birth 0.4752475247524752<br>death 0.504950495049505<br>homology dimension 1<br>row of dataframe 182",
          "birth 0.4752475247524752<br>death 0.6633663366336634<br>homology dimension 1<br>row of dataframe 185",
          "birth 0.4752475247524752<br>death 0.6633663366336634<br>homology dimension 1<br>row of dataframe 185",
          "birth 0.4752475247524752<br>death 0.6633663366336634<br>homology dimension 1<br>row of dataframe 185",
          "birth 0.48514851485148514<br>death 0.49504950495049505<br>homology dimension 1<br>row of dataframe 180",
          "birth 0.48514851485148514<br>death 0.49504950495049505<br>homology dimension 1<br>row of dataframe 180",
          "birth 0.48514851485148514<br>death 0.49504950495049505<br>homology dimension 1<br>row of dataframe 180",
          "birth 0.48514851485148514<br>death 0.5247524752475248<br>homology dimension 1<br>row of dataframe 181",
          "birth 0.48514851485148514<br>death 0.5247524752475248<br>homology dimension 1<br>row of dataframe 181",
          "birth 0.48514851485148514<br>death 0.5247524752475248<br>homology dimension 1<br>row of dataframe 181",
          "birth 0.49504950495049505<br>death 0.504950495049505<br>homology dimension 1<br>row of dataframe 179",
          "birth 0.49504950495049505<br>death 0.504950495049505<br>homology dimension 1<br>row of dataframe 179",
          "birth 0.49504950495049505<br>death 0.504950495049505<br>homology dimension 1<br>row of dataframe 179",
          "birth 0.49504950495049505<br>death 0.5247524752475248<br>homology dimension 1<br>row of dataframe 176",
          "birth 0.49504950495049505<br>death 0.5247524752475248<br>homology dimension 1<br>row of dataframe 176",
          "birth 0.49504950495049505<br>death 0.5247524752475248<br>homology dimension 1<br>row of dataframe 176",
          "birth 0.49504950495049505<br>death 0.6138613861386139<br>homology dimension 1<br>row of dataframe 177",
          "birth 0.49504950495049505<br>death 0.6138613861386139<br>homology dimension 1<br>row of dataframe 177",
          "birth 0.49504950495049505<br>death 0.6138613861386139<br>homology dimension 1<br>row of dataframe 177",
          "birth 0.49504950495049505<br>death 0.6633663366336634<br>homology dimension 1<br>row of dataframe 178",
          "birth 0.49504950495049505<br>death 0.6633663366336634<br>homology dimension 1<br>row of dataframe 178",
          "birth 0.49504950495049505<br>death 0.6633663366336634<br>homology dimension 1<br>row of dataframe 178",
          "birth 0.504950495049505<br>death 0.5148514851485149<br>homology dimension 1<br>row of dataframe 175",
          "birth 0.504950495049505<br>death 0.5148514851485149<br>homology dimension 1<br>row of dataframe 175",
          "birth 0.504950495049505<br>death 0.5148514851485149<br>homology dimension 1<br>row of dataframe 175",
          "birth 0.504950495049505<br>death 0.5742574257425742<br>homology dimension 1<br>row of dataframe 174",
          "birth 0.504950495049505<br>death 0.5742574257425742<br>homology dimension 1<br>row of dataframe 174",
          "birth 0.504950495049505<br>death 0.5742574257425742<br>homology dimension 1<br>row of dataframe 174",
          "birth 0.5148514851485149<br>death 0.5247524752475248<br>homology dimension 1<br>row of dataframe 169",
          "birth 0.5148514851485149<br>death 0.5247524752475248<br>homology dimension 1<br>row of dataframe 169",
          "birth 0.5148514851485149<br>death 0.5247524752475248<br>homology dimension 1<br>row of dataframe 169",
          "birth 0.5148514851485149<br>death 0.5247524752475248<br>homology dimension 1<br>row of dataframe 171",
          "birth 0.5148514851485149<br>death 0.5247524752475248<br>homology dimension 1<br>row of dataframe 171",
          "birth 0.5148514851485149<br>death 0.5247524752475248<br>homology dimension 1<br>row of dataframe 171",
          "birth 0.5148514851485149<br>death 0.5247524752475248<br>homology dimension 1<br>row of dataframe 172",
          "birth 0.5148514851485149<br>death 0.5247524752475248<br>homology dimension 1<br>row of dataframe 172",
          "birth 0.5148514851485149<br>death 0.5247524752475248<br>homology dimension 1<br>row of dataframe 172",
          "birth 0.5148514851485149<br>death 0.6039603960396039<br>homology dimension 1<br>row of dataframe 173",
          "birth 0.5148514851485149<br>death 0.6039603960396039<br>homology dimension 1<br>row of dataframe 173",
          "birth 0.5148514851485149<br>death 0.6039603960396039<br>homology dimension 1<br>row of dataframe 173",
          "birth 0.5148514851485149<br>death 0.6633663366336634<br>homology dimension 1<br>row of dataframe 170",
          "birth 0.5148514851485149<br>death 0.6633663366336634<br>homology dimension 1<br>row of dataframe 170",
          "birth 0.5148514851485149<br>death 0.6633663366336634<br>homology dimension 1<br>row of dataframe 170",
          "birth 0.5247524752475248<br>death 0.5346534653465347<br>homology dimension 1<br>row of dataframe 165",
          "birth 0.5247524752475248<br>death 0.5346534653465347<br>homology dimension 1<br>row of dataframe 165",
          "birth 0.5247524752475248<br>death 0.5346534653465347<br>homology dimension 1<br>row of dataframe 165",
          "birth 0.5247524752475248<br>death 0.5643564356435643<br>homology dimension 1<br>row of dataframe 167",
          "birth 0.5247524752475248<br>death 0.5643564356435643<br>homology dimension 1<br>row of dataframe 167",
          "birth 0.5247524752475248<br>death 0.5643564356435643<br>homology dimension 1<br>row of dataframe 167",
          "birth 0.5247524752475248<br>death 0.6336633663366337<br>homology dimension 1<br>row of dataframe 164",
          "birth 0.5247524752475248<br>death 0.6336633663366337<br>homology dimension 1<br>row of dataframe 164",
          "birth 0.5247524752475248<br>death 0.6336633663366337<br>homology dimension 1<br>row of dataframe 164",
          "birth 0.5247524752475248<br>death 0.6336633663366337<br>homology dimension 1<br>row of dataframe 166",
          "birth 0.5247524752475248<br>death 0.6336633663366337<br>homology dimension 1<br>row of dataframe 166",
          "birth 0.5247524752475248<br>death 0.6336633663366337<br>homology dimension 1<br>row of dataframe 166",
          "birth 0.5247524752475248<br>death 0.6831683168316832<br>homology dimension 1<br>row of dataframe 168",
          "birth 0.5247524752475248<br>death 0.6831683168316832<br>homology dimension 1<br>row of dataframe 168",
          "birth 0.5247524752475248<br>death 0.6831683168316832<br>homology dimension 1<br>row of dataframe 168",
          "birth 0.5346534653465347<br>death 0.5643564356435643<br>homology dimension 1<br>row of dataframe 162",
          "birth 0.5346534653465347<br>death 0.5643564356435643<br>homology dimension 1<br>row of dataframe 162",
          "birth 0.5346534653465347<br>death 0.5643564356435643<br>homology dimension 1<br>row of dataframe 162",
          "birth 0.5346534653465347<br>death 0.6237623762376238<br>homology dimension 1<br>row of dataframe 163",
          "birth 0.5346534653465347<br>death 0.6237623762376238<br>homology dimension 1<br>row of dataframe 163",
          "birth 0.5346534653465347<br>death 0.6237623762376238<br>homology dimension 1<br>row of dataframe 163",
          "birth 0.5346534653465347<br>death 0.6435643564356436<br>homology dimension 1<br>row of dataframe 161",
          "birth 0.5346534653465347<br>death 0.6435643564356436<br>homology dimension 1<br>row of dataframe 161",
          "birth 0.5346534653465347<br>death 0.6435643564356436<br>homology dimension 1<br>row of dataframe 161",
          "birth 0.5445544554455446<br>death 0.5544554455445545<br>homology dimension 1<br>row of dataframe 158",
          "birth 0.5445544554455446<br>death 0.5544554455445545<br>homology dimension 1<br>row of dataframe 158",
          "birth 0.5445544554455446<br>death 0.5544554455445545<br>homology dimension 1<br>row of dataframe 158",
          "birth 0.5445544554455446<br>death 0.5841584158415841<br>homology dimension 1<br>row of dataframe 160",
          "birth 0.5445544554455446<br>death 0.5841584158415841<br>homology dimension 1<br>row of dataframe 160",
          "birth 0.5445544554455446<br>death 0.5841584158415841<br>homology dimension 1<br>row of dataframe 160",
          "birth 0.5445544554455446<br>death 0.6039603960396039<br>homology dimension 1<br>row of dataframe 159",
          "birth 0.5445544554455446<br>death 0.6039603960396039<br>homology dimension 1<br>row of dataframe 159",
          "birth 0.5445544554455446<br>death 0.6039603960396039<br>homology dimension 1<br>row of dataframe 159",
          "birth 0.5544554455445545<br>death 0.5841584158415841<br>homology dimension 1<br>row of dataframe 156",
          "birth 0.5544554455445545<br>death 0.5841584158415841<br>homology dimension 1<br>row of dataframe 156",
          "birth 0.5544554455445545<br>death 0.5841584158415841<br>homology dimension 1<br>row of dataframe 156",
          "birth 0.5544554455445545<br>death 0.594059405940594<br>homology dimension 1<br>row of dataframe 154",
          "birth 0.5544554455445545<br>death 0.594059405940594<br>homology dimension 1<br>row of dataframe 154",
          "birth 0.5544554455445545<br>death 0.594059405940594<br>homology dimension 1<br>row of dataframe 154",
          "birth 0.5544554455445545<br>death 0.693069306930693<br>homology dimension 1<br>row of dataframe 153",
          "birth 0.5544554455445545<br>death 0.693069306930693<br>homology dimension 1<br>row of dataframe 153",
          "birth 0.5544554455445545<br>death 0.693069306930693<br>homology dimension 1<br>row of dataframe 153",
          "birth 0.5544554455445545<br>death 0.7326732673267327<br>homology dimension 1<br>row of dataframe 155",
          "birth 0.5544554455445545<br>death 0.7326732673267327<br>homology dimension 1<br>row of dataframe 155",
          "birth 0.5544554455445545<br>death 0.7326732673267327<br>homology dimension 1<br>row of dataframe 155",
          "birth 0.5544554455445545<br>death 0.7326732673267327<br>homology dimension 1<br>row of dataframe 157",
          "birth 0.5544554455445545<br>death 0.7326732673267327<br>homology dimension 1<br>row of dataframe 157",
          "birth 0.5544554455445545<br>death 0.7326732673267327<br>homology dimension 1<br>row of dataframe 157",
          "birth 0.5643564356435643<br>death 0.6039603960396039<br>homology dimension 1<br>row of dataframe 151",
          "birth 0.5643564356435643<br>death 0.6039603960396039<br>homology dimension 1<br>row of dataframe 151",
          "birth 0.5643564356435643<br>death 0.6039603960396039<br>homology dimension 1<br>row of dataframe 151",
          "birth 0.5643564356435643<br>death 0.6237623762376238<br>homology dimension 1<br>row of dataframe 148",
          "birth 0.5643564356435643<br>death 0.6237623762376238<br>homology dimension 1<br>row of dataframe 148",
          "birth 0.5643564356435643<br>death 0.6237623762376238<br>homology dimension 1<br>row of dataframe 148",
          "birth 0.5643564356435643<br>death 0.6435643564356436<br>homology dimension 1<br>row of dataframe 149",
          "birth 0.5643564356435643<br>death 0.6435643564356436<br>homology dimension 1<br>row of dataframe 149",
          "birth 0.5643564356435643<br>death 0.6435643564356436<br>homology dimension 1<br>row of dataframe 149",
          "birth 0.5643564356435643<br>death 0.7029702970297029<br>homology dimension 1<br>row of dataframe 152",
          "birth 0.5643564356435643<br>death 0.7029702970297029<br>homology dimension 1<br>row of dataframe 152",
          "birth 0.5643564356435643<br>death 0.7029702970297029<br>homology dimension 1<br>row of dataframe 152",
          "birth 0.5643564356435643<br>death 0.8118811881188119<br>homology dimension 1<br>row of dataframe 150",
          "birth 0.5643564356435643<br>death 0.8118811881188119<br>homology dimension 1<br>row of dataframe 150",
          "birth 0.5643564356435643<br>death 0.8118811881188119<br>homology dimension 1<br>row of dataframe 150",
          "birth 0.5742574257425742<br>death 0.5841584158415841<br>homology dimension 1<br>row of dataframe 141",
          "birth 0.5742574257425742<br>death 0.5841584158415841<br>homology dimension 1<br>row of dataframe 141",
          "birth 0.5742574257425742<br>death 0.5841584158415841<br>homology dimension 1<br>row of dataframe 141",
          "birth 0.5742574257425742<br>death 0.594059405940594<br>homology dimension 1<br>row of dataframe 143",
          "birth 0.5742574257425742<br>death 0.594059405940594<br>homology dimension 1<br>row of dataframe 143",
          "birth 0.5742574257425742<br>death 0.594059405940594<br>homology dimension 1<br>row of dataframe 143",
          "birth 0.5742574257425742<br>death 0.6336633663366337<br>homology dimension 1<br>row of dataframe 144",
          "birth 0.5742574257425742<br>death 0.6336633663366337<br>homology dimension 1<br>row of dataframe 144",
          "birth 0.5742574257425742<br>death 0.6336633663366337<br>homology dimension 1<br>row of dataframe 144",
          "birth 0.5742574257425742<br>death 0.6534653465346535<br>homology dimension 1<br>row of dataframe 142",
          "birth 0.5742574257425742<br>death 0.6534653465346535<br>homology dimension 1<br>row of dataframe 142",
          "birth 0.5742574257425742<br>death 0.6534653465346535<br>homology dimension 1<br>row of dataframe 142",
          "birth 0.5742574257425742<br>death 0.6732673267326733<br>homology dimension 1<br>row of dataframe 146",
          "birth 0.5742574257425742<br>death 0.6732673267326733<br>homology dimension 1<br>row of dataframe 146",
          "birth 0.5742574257425742<br>death 0.6732673267326733<br>homology dimension 1<br>row of dataframe 146",
          "birth 0.5742574257425742<br>death 0.6732673267326733<br>homology dimension 1<br>row of dataframe 147",
          "birth 0.5742574257425742<br>death 0.6732673267326733<br>homology dimension 1<br>row of dataframe 147",
          "birth 0.5742574257425742<br>death 0.6732673267326733<br>homology dimension 1<br>row of dataframe 147",
          "birth 0.5742574257425742<br>death 0.7821782178217822<br>homology dimension 1<br>row of dataframe 145",
          "birth 0.5742574257425742<br>death 0.7821782178217822<br>homology dimension 1<br>row of dataframe 145",
          "birth 0.5742574257425742<br>death 0.7821782178217822<br>homology dimension 1<br>row of dataframe 145",
          "birth 0.5841584158415841<br>death 0.594059405940594<br>homology dimension 1<br>row of dataframe 139",
          "birth 0.5841584158415841<br>death 0.594059405940594<br>homology dimension 1<br>row of dataframe 139",
          "birth 0.5841584158415841<br>death 0.594059405940594<br>homology dimension 1<br>row of dataframe 139",
          "birth 0.5841584158415841<br>death 0.6039603960396039<br>homology dimension 1<br>row of dataframe 135",
          "birth 0.5841584158415841<br>death 0.6039603960396039<br>homology dimension 1<br>row of dataframe 135",
          "birth 0.5841584158415841<br>death 0.6039603960396039<br>homology dimension 1<br>row of dataframe 135",
          "birth 0.5841584158415841<br>death 0.6138613861386139<br>homology dimension 1<br>row of dataframe 134",
          "birth 0.5841584158415841<br>death 0.6138613861386139<br>homology dimension 1<br>row of dataframe 134",
          "birth 0.5841584158415841<br>death 0.6138613861386139<br>homology dimension 1<br>row of dataframe 134",
          "birth 0.5841584158415841<br>death 0.6138613861386139<br>homology dimension 1<br>row of dataframe 136",
          "birth 0.5841584158415841<br>death 0.6138613861386139<br>homology dimension 1<br>row of dataframe 136",
          "birth 0.5841584158415841<br>death 0.6138613861386139<br>homology dimension 1<br>row of dataframe 136",
          "birth 0.5841584158415841<br>death 0.6336633663366337<br>homology dimension 1<br>row of dataframe 137",
          "birth 0.5841584158415841<br>death 0.6336633663366337<br>homology dimension 1<br>row of dataframe 137",
          "birth 0.5841584158415841<br>death 0.6336633663366337<br>homology dimension 1<br>row of dataframe 137",
          "birth 0.5841584158415841<br>death 0.6633663366336634<br>homology dimension 1<br>row of dataframe 138",
          "birth 0.5841584158415841<br>death 0.6633663366336634<br>homology dimension 1<br>row of dataframe 138",
          "birth 0.5841584158415841<br>death 0.6633663366336634<br>homology dimension 1<br>row of dataframe 138",
          "birth 0.5841584158415841<br>death 0.6831683168316832<br>homology dimension 1<br>row of dataframe 133",
          "birth 0.5841584158415841<br>death 0.6831683168316832<br>homology dimension 1<br>row of dataframe 133",
          "birth 0.5841584158415841<br>death 0.6831683168316832<br>homology dimension 1<br>row of dataframe 133",
          "birth 0.5841584158415841<br>death 0.8316831683168316<br>homology dimension 1<br>row of dataframe 140",
          "birth 0.5841584158415841<br>death 0.8316831683168316<br>homology dimension 1<br>row of dataframe 140",
          "birth 0.5841584158415841<br>death 0.8316831683168316<br>homology dimension 1<br>row of dataframe 140",
          "birth 0.594059405940594<br>death 0.6237623762376238<br>homology dimension 1<br>row of dataframe 130",
          "birth 0.594059405940594<br>death 0.6237623762376238<br>homology dimension 1<br>row of dataframe 130",
          "birth 0.594059405940594<br>death 0.6237623762376238<br>homology dimension 1<br>row of dataframe 130",
          "birth 0.594059405940594<br>death 0.6633663366336634<br>homology dimension 1<br>row of dataframe 132",
          "birth 0.594059405940594<br>death 0.6633663366336634<br>homology dimension 1<br>row of dataframe 132",
          "birth 0.594059405940594<br>death 0.6633663366336634<br>homology dimension 1<br>row of dataframe 132",
          "birth 0.594059405940594<br>death 0.6732673267326733<br>homology dimension 1<br>row of dataframe 131",
          "birth 0.594059405940594<br>death 0.6732673267326733<br>homology dimension 1<br>row of dataframe 131",
          "birth 0.594059405940594<br>death 0.6732673267326733<br>homology dimension 1<br>row of dataframe 131",
          "birth 0.594059405940594<br>death 0.7227722772277227<br>homology dimension 1<br>row of dataframe 129",
          "birth 0.594059405940594<br>death 0.7227722772277227<br>homology dimension 1<br>row of dataframe 129",
          "birth 0.594059405940594<br>death 0.7227722772277227<br>homology dimension 1<br>row of dataframe 129",
          "birth 0.6039603960396039<br>death 0.6138613861386139<br>homology dimension 1<br>row of dataframe 127",
          "birth 0.6039603960396039<br>death 0.6138613861386139<br>homology dimension 1<br>row of dataframe 127",
          "birth 0.6039603960396039<br>death 0.6138613861386139<br>homology dimension 1<br>row of dataframe 127",
          "birth 0.6039603960396039<br>death 0.6237623762376238<br>homology dimension 1<br>row of dataframe 125",
          "birth 0.6039603960396039<br>death 0.6237623762376238<br>homology dimension 1<br>row of dataframe 125",
          "birth 0.6039603960396039<br>death 0.6237623762376238<br>homology dimension 1<br>row of dataframe 125",
          "birth 0.6039603960396039<br>death 0.6237623762376238<br>homology dimension 1<br>row of dataframe 126",
          "birth 0.6039603960396039<br>death 0.6237623762376238<br>homology dimension 1<br>row of dataframe 126",
          "birth 0.6039603960396039<br>death 0.6237623762376238<br>homology dimension 1<br>row of dataframe 126",
          "birth 0.6039603960396039<br>death 0.6336633663366337<br>homology dimension 1<br>row of dataframe 124",
          "birth 0.6039603960396039<br>death 0.6336633663366337<br>homology dimension 1<br>row of dataframe 124",
          "birth 0.6039603960396039<br>death 0.6336633663366337<br>homology dimension 1<br>row of dataframe 124",
          "birth 0.6039603960396039<br>death 0.6336633663366337<br>homology dimension 1<br>row of dataframe 128",
          "birth 0.6039603960396039<br>death 0.6336633663366337<br>homology dimension 1<br>row of dataframe 128",
          "birth 0.6039603960396039<br>death 0.6336633663366337<br>homology dimension 1<br>row of dataframe 128",
          "birth 0.6138613861386139<br>death 0.6435643564356436<br>homology dimension 1<br>row of dataframe 122",
          "birth 0.6138613861386139<br>death 0.6435643564356436<br>homology dimension 1<br>row of dataframe 122",
          "birth 0.6138613861386139<br>death 0.6435643564356436<br>homology dimension 1<br>row of dataframe 122",
          "birth 0.6138613861386139<br>death 0.6435643564356436<br>homology dimension 1<br>row of dataframe 123",
          "birth 0.6138613861386139<br>death 0.6435643564356436<br>homology dimension 1<br>row of dataframe 123",
          "birth 0.6138613861386139<br>death 0.6435643564356436<br>homology dimension 1<br>row of dataframe 123",
          "birth 0.6138613861386139<br>death 0.7524752475247525<br>homology dimension 1<br>row of dataframe 121",
          "birth 0.6138613861386139<br>death 0.7524752475247525<br>homology dimension 1<br>row of dataframe 121",
          "birth 0.6138613861386139<br>death 0.7524752475247525<br>homology dimension 1<br>row of dataframe 121",
          "birth 0.6237623762376238<br>death 0.6435643564356436<br>homology dimension 1<br>row of dataframe 118",
          "birth 0.6237623762376238<br>death 0.6435643564356436<br>homology dimension 1<br>row of dataframe 118",
          "birth 0.6237623762376238<br>death 0.6435643564356436<br>homology dimension 1<br>row of dataframe 118",
          "birth 0.6237623762376238<br>death 0.6534653465346535<br>homology dimension 1<br>row of dataframe 117",
          "birth 0.6237623762376238<br>death 0.6534653465346535<br>homology dimension 1<br>row of dataframe 117",
          "birth 0.6237623762376238<br>death 0.6534653465346535<br>homology dimension 1<br>row of dataframe 117",
          "birth 0.6237623762376238<br>death 0.6732673267326733<br>homology dimension 1<br>row of dataframe 120",
          "birth 0.6237623762376238<br>death 0.6732673267326733<br>homology dimension 1<br>row of dataframe 120",
          "birth 0.6237623762376238<br>death 0.6732673267326733<br>homology dimension 1<br>row of dataframe 120",
          "birth 0.6237623762376238<br>death 0.693069306930693<br>homology dimension 1<br>row of dataframe 119",
          "birth 0.6237623762376238<br>death 0.693069306930693<br>homology dimension 1<br>row of dataframe 119",
          "birth 0.6237623762376238<br>death 0.693069306930693<br>homology dimension 1<br>row of dataframe 119",
          "birth 0.6336633663366337<br>death 0.6732673267326733<br>homology dimension 1<br>row of dataframe 116",
          "birth 0.6336633663366337<br>death 0.6732673267326733<br>homology dimension 1<br>row of dataframe 116",
          "birth 0.6336633663366337<br>death 0.6732673267326733<br>homology dimension 1<br>row of dataframe 116",
          "birth 0.6336633663366337<br>death 0.7128712871287128<br>homology dimension 1<br>row of dataframe 115",
          "birth 0.6336633663366337<br>death 0.7128712871287128<br>homology dimension 1<br>row of dataframe 115",
          "birth 0.6336633663366337<br>death 0.7128712871287128<br>homology dimension 1<br>row of dataframe 115",
          "birth 0.6336633663366337<br>death 0.801980198019802<br>homology dimension 1<br>row of dataframe 114",
          "birth 0.6336633663366337<br>death 0.801980198019802<br>homology dimension 1<br>row of dataframe 114",
          "birth 0.6336633663366337<br>death 0.801980198019802<br>homology dimension 1<br>row of dataframe 114",
          "birth 0.6435643564356436<br>death 0.7029702970297029<br>homology dimension 1<br>row of dataframe 111",
          "birth 0.6435643564356436<br>death 0.7029702970297029<br>homology dimension 1<br>row of dataframe 111",
          "birth 0.6435643564356436<br>death 0.7029702970297029<br>homology dimension 1<br>row of dataframe 111",
          "birth 0.6435643564356436<br>death 0.7128712871287128<br>homology dimension 1<br>row of dataframe 112",
          "birth 0.6435643564356436<br>death 0.7128712871287128<br>homology dimension 1<br>row of dataframe 112",
          "birth 0.6435643564356436<br>death 0.7128712871287128<br>homology dimension 1<br>row of dataframe 112",
          "birth 0.6435643564356436<br>death 0.7227722772277227<br>homology dimension 1<br>row of dataframe 113",
          "birth 0.6435643564356436<br>death 0.7227722772277227<br>homology dimension 1<br>row of dataframe 113",
          "birth 0.6435643564356436<br>death 0.7227722772277227<br>homology dimension 1<br>row of dataframe 113",
          "birth 0.6534653465346535<br>death 0.693069306930693<br>homology dimension 1<br>row of dataframe 110",
          "birth 0.6534653465346535<br>death 0.693069306930693<br>homology dimension 1<br>row of dataframe 110",
          "birth 0.6534653465346535<br>death 0.693069306930693<br>homology dimension 1<br>row of dataframe 110",
          "birth 0.6534653465346535<br>death 0.8316831683168316<br>homology dimension 1<br>row of dataframe 109",
          "birth 0.6534653465346535<br>death 0.8316831683168316<br>homology dimension 1<br>row of dataframe 109",
          "birth 0.6534653465346535<br>death 0.8316831683168316<br>homology dimension 1<br>row of dataframe 109",
          "birth 0.6633663366336634<br>death 0.7227722772277227<br>homology dimension 1<br>row of dataframe 108",
          "birth 0.6633663366336634<br>death 0.7227722772277227<br>homology dimension 1<br>row of dataframe 108",
          "birth 0.6633663366336634<br>death 0.7227722772277227<br>homology dimension 1<br>row of dataframe 108",
          "birth 0.6732673267326733<br>death 0.6831683168316832<br>homology dimension 1<br>row of dataframe 106",
          "birth 0.6732673267326733<br>death 0.6831683168316832<br>homology dimension 1<br>row of dataframe 106",
          "birth 0.6732673267326733<br>death 0.6831683168316832<br>homology dimension 1<br>row of dataframe 106",
          "birth 0.6732673267326733<br>death 0.7227722772277227<br>homology dimension 1<br>row of dataframe 107",
          "birth 0.6732673267326733<br>death 0.7227722772277227<br>homology dimension 1<br>row of dataframe 107",
          "birth 0.6732673267326733<br>death 0.7227722772277227<br>homology dimension 1<br>row of dataframe 107",
          "birth 0.6732673267326733<br>death 0.7425742574257426<br>homology dimension 1<br>row of dataframe 105",
          "birth 0.6732673267326733<br>death 0.7425742574257426<br>homology dimension 1<br>row of dataframe 105",
          "birth 0.6732673267326733<br>death 0.7425742574257426<br>homology dimension 1<br>row of dataframe 105",
          "birth 0.6831683168316832<br>death 0.7029702970297029<br>homology dimension 1<br>row of dataframe 102",
          "birth 0.6831683168316832<br>death 0.7029702970297029<br>homology dimension 1<br>row of dataframe 102",
          "birth 0.6831683168316832<br>death 0.7029702970297029<br>homology dimension 1<br>row of dataframe 102",
          "birth 0.6831683168316832<br>death 0.7128712871287128<br>homology dimension 1<br>row of dataframe 104",
          "birth 0.6831683168316832<br>death 0.7128712871287128<br>homology dimension 1<br>row of dataframe 104",
          "birth 0.6831683168316832<br>death 0.7128712871287128<br>homology dimension 1<br>row of dataframe 104",
          "birth 0.6831683168316832<br>death 0.8712871287128713<br>homology dimension 1<br>row of dataframe 103",
          "birth 0.6831683168316832<br>death 0.8712871287128713<br>homology dimension 1<br>row of dataframe 103",
          "birth 0.6831683168316832<br>death 0.8712871287128713<br>homology dimension 1<br>row of dataframe 103",
          "birth 0.693069306930693<br>death 0.7128712871287128<br>homology dimension 1<br>row of dataframe 101",
          "birth 0.693069306930693<br>death 0.7128712871287128<br>homology dimension 1<br>row of dataframe 101",
          "birth 0.693069306930693<br>death 0.7128712871287128<br>homology dimension 1<br>row of dataframe 101",
          "birth 0.7029702970297029<br>death 0.7128712871287128<br>homology dimension 1<br>row of dataframe 100",
          "birth 0.7029702970297029<br>death 0.7128712871287128<br>homology dimension 1<br>row of dataframe 100",
          "birth 0.7029702970297029<br>death 0.7128712871287128<br>homology dimension 1<br>row of dataframe 100",
          "birth 0.7128712871287128<br>death 0.7326732673267327<br>homology dimension 1<br>row of dataframe 99",
          "birth 0.7128712871287128<br>death 0.7326732673267327<br>homology dimension 1<br>row of dataframe 99",
          "birth 0.7128712871287128<br>death 0.7326732673267327<br>homology dimension 1<br>row of dataframe 99",
          "birth 0.7227722772277227<br>death 0.7524752475247525<br>homology dimension 1<br>row of dataframe 98",
          "birth 0.7227722772277227<br>death 0.7524752475247525<br>homology dimension 1<br>row of dataframe 98",
          "birth 0.7227722772277227<br>death 0.7524752475247525<br>homology dimension 1<br>row of dataframe 98",
          "birth 0.7227722772277227<br>death 0.7920792079207921<br>homology dimension 1<br>row of dataframe 97",
          "birth 0.7227722772277227<br>death 0.7920792079207921<br>homology dimension 1<br>row of dataframe 97",
          "birth 0.7227722772277227<br>death 0.7920792079207921<br>homology dimension 1<br>row of dataframe 97",
          "birth 0.7326732673267327<br>death 0.7425742574257426<br>homology dimension 1<br>row of dataframe 96",
          "birth 0.7326732673267327<br>death 0.7425742574257426<br>homology dimension 1<br>row of dataframe 96",
          "birth 0.7326732673267327<br>death 0.7425742574257426<br>homology dimension 1<br>row of dataframe 96",
          "birth 0.7326732673267327<br>death 0.7821782178217822<br>homology dimension 1<br>row of dataframe 94",
          "birth 0.7326732673267327<br>death 0.7821782178217822<br>homology dimension 1<br>row of dataframe 94",
          "birth 0.7326732673267327<br>death 0.7821782178217822<br>homology dimension 1<br>row of dataframe 94",
          "birth 0.7326732673267327<br>death 0.7920792079207921<br>homology dimension 1<br>row of dataframe 92",
          "birth 0.7326732673267327<br>death 0.7920792079207921<br>homology dimension 1<br>row of dataframe 92",
          "birth 0.7326732673267327<br>death 0.7920792079207921<br>homology dimension 1<br>row of dataframe 92",
          "birth 0.7326732673267327<br>death 0.801980198019802<br>homology dimension 1<br>row of dataframe 95",
          "birth 0.7326732673267327<br>death 0.801980198019802<br>homology dimension 1<br>row of dataframe 95",
          "birth 0.7326732673267327<br>death 0.801980198019802<br>homology dimension 1<br>row of dataframe 95",
          "birth 0.7326732673267327<br>death 0.8316831683168316<br>homology dimension 1<br>row of dataframe 93",
          "birth 0.7326732673267327<br>death 0.8316831683168316<br>homology dimension 1<br>row of dataframe 93",
          "birth 0.7326732673267327<br>death 0.8316831683168316<br>homology dimension 1<br>row of dataframe 93",
          "birth 0.7425742574257426<br>death 0.7623762376237624<br>homology dimension 1<br>row of dataframe 91",
          "birth 0.7425742574257426<br>death 0.7623762376237624<br>homology dimension 1<br>row of dataframe 91",
          "birth 0.7425742574257426<br>death 0.7623762376237624<br>homology dimension 1<br>row of dataframe 91",
          "birth 0.7425742574257426<br>death 0.7722772277227723<br>homology dimension 1<br>row of dataframe 89",
          "birth 0.7425742574257426<br>death 0.7722772277227723<br>homology dimension 1<br>row of dataframe 89",
          "birth 0.7425742574257426<br>death 0.7722772277227723<br>homology dimension 1<br>row of dataframe 89",
          "birth 0.7425742574257426<br>death 0.801980198019802<br>homology dimension 1<br>row of dataframe 90",
          "birth 0.7425742574257426<br>death 0.801980198019802<br>homology dimension 1<br>row of dataframe 90",
          "birth 0.7425742574257426<br>death 0.801980198019802<br>homology dimension 1<br>row of dataframe 90",
          "birth 0.7623762376237624<br>death 0.7722772277227723<br>homology dimension 1<br>row of dataframe 87",
          "birth 0.7623762376237624<br>death 0.7722772277227723<br>homology dimension 1<br>row of dataframe 87",
          "birth 0.7623762376237624<br>death 0.7722772277227723<br>homology dimension 1<br>row of dataframe 87",
          "birth 0.7623762376237624<br>death 0.8118811881188119<br>homology dimension 1<br>row of dataframe 88",
          "birth 0.7623762376237624<br>death 0.8118811881188119<br>homology dimension 1<br>row of dataframe 88",
          "birth 0.7623762376237624<br>death 0.8118811881188119<br>homology dimension 1<br>row of dataframe 88",
          "birth 0.7821782178217822<br>death 0.801980198019802<br>homology dimension 1<br>row of dataframe 86",
          "birth 0.7821782178217822<br>death 0.801980198019802<br>homology dimension 1<br>row of dataframe 86",
          "birth 0.7821782178217822<br>death 0.801980198019802<br>homology dimension 1<br>row of dataframe 86",
          "birth 0.7821782178217822<br>death 0.8217821782178217<br>homology dimension 1<br>row of dataframe 85",
          "birth 0.7821782178217822<br>death 0.8217821782178217<br>homology dimension 1<br>row of dataframe 85",
          "birth 0.7821782178217822<br>death 0.8217821782178217<br>homology dimension 1<br>row of dataframe 85",
          "birth 0.7920792079207921<br>death 0.801980198019802<br>homology dimension 1<br>row of dataframe 84",
          "birth 0.7920792079207921<br>death 0.801980198019802<br>homology dimension 1<br>row of dataframe 84",
          "birth 0.7920792079207921<br>death 0.801980198019802<br>homology dimension 1<br>row of dataframe 84",
          "birth 0.801980198019802<br>death 0.8118811881188119<br>homology dimension 1<br>row of dataframe 83",
          "birth 0.801980198019802<br>death 0.8118811881188119<br>homology dimension 1<br>row of dataframe 83",
          "birth 0.801980198019802<br>death 0.8118811881188119<br>homology dimension 1<br>row of dataframe 83",
          "birth 0.8118811881188119<br>death 0.8217821782178217<br>homology dimension 1<br>row of dataframe 82",
          "birth 0.8118811881188119<br>death 0.8217821782178217<br>homology dimension 1<br>row of dataframe 82",
          "birth 0.8118811881188119<br>death 0.8217821782178217<br>homology dimension 1<br>row of dataframe 82",
          "birth 0.8118811881188119<br>death 0.8415841584158416<br>homology dimension 1<br>row of dataframe 81",
          "birth 0.8118811881188119<br>death 0.8415841584158416<br>homology dimension 1<br>row of dataframe 81",
          "birth 0.8118811881188119<br>death 0.8415841584158416<br>homology dimension 1<br>row of dataframe 81",
          "birth 0.8316831683168316<br>death 0.8415841584158416<br>homology dimension 1<br>row of dataframe 80",
          "birth 0.8316831683168316<br>death 0.8415841584158416<br>homology dimension 1<br>row of dataframe 80",
          "birth 0.8316831683168316<br>death 0.8415841584158416<br>homology dimension 1<br>row of dataframe 80",
          "birth 0.8415841584158416<br>death 0.8514851485148515<br>homology dimension 1<br>row of dataframe 79",
          "birth 0.8415841584158416<br>death 0.8514851485148515<br>homology dimension 1<br>row of dataframe 79",
          "birth 0.8415841584158416<br>death 0.8514851485148515<br>homology dimension 1<br>row of dataframe 79",
          "birth 0.8415841584158416<br>death 0.9603960396039604<br>homology dimension 1<br>row of dataframe 78",
          "birth 0.8415841584158416<br>death 0.9603960396039604<br>homology dimension 1<br>row of dataframe 78",
          "birth 0.8415841584158416<br>death 0.9603960396039604<br>homology dimension 1<br>row of dataframe 78",
          "birth 0.8514851485148515<br>death 0.8613861386138614<br>homology dimension 1<br>row of dataframe 76",
          "birth 0.8514851485148515<br>death 0.8613861386138614<br>homology dimension 1<br>row of dataframe 76",
          "birth 0.8514851485148515<br>death 0.8613861386138614<br>homology dimension 1<br>row of dataframe 76",
          "birth 0.8514851485148515<br>death 0.8712871287128713<br>homology dimension 1<br>row of dataframe 77",
          "birth 0.8514851485148515<br>death 0.8712871287128713<br>homology dimension 1<br>row of dataframe 77",
          "birth 0.8514851485148515<br>death 0.8712871287128713<br>homology dimension 1<br>row of dataframe 77",
          "birth 0.8712871287128713<br>death 0.8910891089108911<br>homology dimension 1<br>row of dataframe 75",
          "birth 0.8712871287128713<br>death 0.8910891089108911<br>homology dimension 1<br>row of dataframe 75",
          "birth 0.8712871287128713<br>death 0.8910891089108911<br>homology dimension 1<br>row of dataframe 75",
          "birth 0.8811881188118812<br>death 0.9603960396039604<br>homology dimension 1<br>row of dataframe 74",
          "birth 0.8811881188118812<br>death 0.9603960396039604<br>homology dimension 1<br>row of dataframe 74",
          "birth 0.8811881188118812<br>death 0.9603960396039604<br>homology dimension 1<br>row of dataframe 74",
          "birth 0.9108910891089109<br>death 0.9405940594059405<br>homology dimension 1<br>row of dataframe 73",
          "birth 0.9108910891089109<br>death 0.9405940594059405<br>homology dimension 1<br>row of dataframe 73",
          "birth 0.9108910891089109<br>death 0.9405940594059405<br>homology dimension 1<br>row of dataframe 73",
          "birth 0.9306930693069307<br>death 0.9405940594059405<br>homology dimension 1<br>row of dataframe 72",
          "birth 0.9306930693069307<br>death 0.9405940594059405<br>homology dimension 1<br>row of dataframe 72",
          "birth 0.9306930693069307<br>death 0.9405940594059405<br>homology dimension 1<br>row of dataframe 72",
          "birth 0.9306930693069307<br>death inf<br>homology dimension 1<br>row of dataframe 71",
          "birth 0.9306930693069307<br>death inf<br>homology dimension 1<br>row of dataframe 71",
          "birth 0.9306930693069307<br>death inf<br>homology dimension 1<br>row of dataframe 71",
          "birth 0.9405940594059405<br>death 0.9603960396039604<br>homology dimension 1<br>row of dataframe 70",
          "birth 0.9405940594059405<br>death 0.9603960396039604<br>homology dimension 1<br>row of dataframe 70",
          "birth 0.9405940594059405<br>death 0.9603960396039604<br>homology dimension 1<br>row of dataframe 70",
          "birth 0.9702970297029703<br>death 0.9801980198019802<br>homology dimension 1<br>row of dataframe 69",
          "birth 0.9702970297029703<br>death 0.9801980198019802<br>homology dimension 1<br>row of dataframe 69",
          "birth 0.9702970297029703<br>death 0.9801980198019802<br>homology dimension 1<br>row of dataframe 69",
          "birth 0.9801980198019802<br>death 0.9900990099009901<br>homology dimension 1<br>row of dataframe 68",
          "birth 0.9801980198019802<br>death 0.9900990099009901<br>homology dimension 1<br>row of dataframe 68",
          "birth 0.9801980198019802<br>death 0.9900990099009901<br>homology dimension 1<br>row of dataframe 68"
         ],
         "line": {
          "color": "#EF553B"
         },
         "mode": "lines",
         "name": "Dim 1",
         "type": "scatter",
         "x": [
          0.4158415841584158,
          0.42574257425742573,
          null,
          0.43564356435643564,
          0.45544554455445546,
          null,
          0.4752475247524752,
          0.49504950495049505,
          null,
          0.4752475247524752,
          0.49504950495049505,
          null,
          0.4752475247524752,
          0.504950495049505,
          null,
          0.4752475247524752,
          0.6633663366336634,
          null,
          0.48514851485148514,
          0.49504950495049505,
          null,
          0.48514851485148514,
          0.5247524752475248,
          null,
          0.49504950495049505,
          0.504950495049505,
          null,
          0.49504950495049505,
          0.5247524752475248,
          null,
          0.49504950495049505,
          0.6138613861386139,
          null,
          0.49504950495049505,
          0.6633663366336634,
          null,
          0.504950495049505,
          0.5148514851485149,
          null,
          0.504950495049505,
          0.5742574257425742,
          null,
          0.5148514851485149,
          0.5247524752475248,
          null,
          0.5148514851485149,
          0.5247524752475248,
          null,
          0.5148514851485149,
          0.5247524752475248,
          null,
          0.5148514851485149,
          0.6039603960396039,
          null,
          0.5148514851485149,
          0.6633663366336634,
          null,
          0.5247524752475248,
          0.5346534653465347,
          null,
          0.5247524752475248,
          0.5643564356435643,
          null,
          0.5247524752475248,
          0.6336633663366337,
          null,
          0.5247524752475248,
          0.6336633663366337,
          null,
          0.5247524752475248,
          0.6831683168316832,
          null,
          0.5346534653465347,
          0.5643564356435643,
          null,
          0.5346534653465347,
          0.6237623762376238,
          null,
          0.5346534653465347,
          0.6435643564356436,
          null,
          0.5445544554455446,
          0.5544554455445545,
          null,
          0.5445544554455446,
          0.5841584158415841,
          null,
          0.5445544554455446,
          0.6039603960396039,
          null,
          0.5544554455445545,
          0.5841584158415841,
          null,
          0.5544554455445545,
          0.594059405940594,
          null,
          0.5544554455445545,
          0.693069306930693,
          null,
          0.5544554455445545,
          0.7326732673267327,
          null,
          0.5544554455445545,
          0.7326732673267327,
          null,
          0.5643564356435643,
          0.6039603960396039,
          null,
          0.5643564356435643,
          0.6237623762376238,
          null,
          0.5643564356435643,
          0.6435643564356436,
          null,
          0.5643564356435643,
          0.7029702970297029,
          null,
          0.5643564356435643,
          0.8118811881188119,
          null,
          0.5742574257425742,
          0.5841584158415841,
          null,
          0.5742574257425742,
          0.594059405940594,
          null,
          0.5742574257425742,
          0.6336633663366337,
          null,
          0.5742574257425742,
          0.6534653465346535,
          null,
          0.5742574257425742,
          0.6732673267326733,
          null,
          0.5742574257425742,
          0.6732673267326733,
          null,
          0.5742574257425742,
          0.7821782178217822,
          null,
          0.5841584158415841,
          0.594059405940594,
          null,
          0.5841584158415841,
          0.6039603960396039,
          null,
          0.5841584158415841,
          0.6138613861386139,
          null,
          0.5841584158415841,
          0.6138613861386139,
          null,
          0.5841584158415841,
          0.6336633663366337,
          null,
          0.5841584158415841,
          0.6633663366336634,
          null,
          0.5841584158415841,
          0.6831683168316832,
          null,
          0.5841584158415841,
          0.8316831683168316,
          null,
          0.594059405940594,
          0.6237623762376238,
          null,
          0.594059405940594,
          0.6633663366336634,
          null,
          0.594059405940594,
          0.6732673267326733,
          null,
          0.594059405940594,
          0.7227722772277227,
          null,
          0.6039603960396039,
          0.6138613861386139,
          null,
          0.6039603960396039,
          0.6237623762376238,
          null,
          0.6039603960396039,
          0.6237623762376238,
          null,
          0.6039603960396039,
          0.6336633663366337,
          null,
          0.6039603960396039,
          0.6336633663366337,
          null,
          0.6138613861386139,
          0.6435643564356436,
          null,
          0.6138613861386139,
          0.6435643564356436,
          null,
          0.6138613861386139,
          0.7524752475247525,
          null,
          0.6237623762376238,
          0.6435643564356436,
          null,
          0.6237623762376238,
          0.6534653465346535,
          null,
          0.6237623762376238,
          0.6732673267326733,
          null,
          0.6237623762376238,
          0.693069306930693,
          null,
          0.6336633663366337,
          0.6732673267326733,
          null,
          0.6336633663366337,
          0.7128712871287128,
          null,
          0.6336633663366337,
          0.801980198019802,
          null,
          0.6435643564356436,
          0.7029702970297029,
          null,
          0.6435643564356436,
          0.7128712871287128,
          null,
          0.6435643564356436,
          0.7227722772277227,
          null,
          0.6534653465346535,
          0.693069306930693,
          null,
          0.6534653465346535,
          0.8316831683168316,
          null,
          0.6633663366336634,
          0.7227722772277227,
          null,
          0.6732673267326733,
          0.6831683168316832,
          null,
          0.6732673267326733,
          0.7227722772277227,
          null,
          0.6732673267326733,
          0.7425742574257426,
          null,
          0.6831683168316832,
          0.7029702970297029,
          null,
          0.6831683168316832,
          0.7128712871287128,
          null,
          0.6831683168316832,
          0.8712871287128713,
          null,
          0.693069306930693,
          0.7128712871287128,
          null,
          0.7029702970297029,
          0.7128712871287128,
          null,
          0.7128712871287128,
          0.7326732673267327,
          null,
          0.7227722772277227,
          0.7524752475247525,
          null,
          0.7227722772277227,
          0.7920792079207921,
          null,
          0.7326732673267327,
          0.7425742574257426,
          null,
          0.7326732673267327,
          0.7821782178217822,
          null,
          0.7326732673267327,
          0.7920792079207921,
          null,
          0.7326732673267327,
          0.801980198019802,
          null,
          0.7326732673267327,
          0.8316831683168316,
          null,
          0.7425742574257426,
          0.7623762376237624,
          null,
          0.7425742574257426,
          0.7722772277227723,
          null,
          0.7425742574257426,
          0.801980198019802,
          null,
          0.7623762376237624,
          0.7722772277227723,
          null,
          0.7623762376237624,
          0.8118811881188119,
          null,
          0.7821782178217822,
          0.801980198019802,
          null,
          0.7821782178217822,
          0.8217821782178217,
          null,
          0.7920792079207921,
          0.801980198019802,
          null,
          0.801980198019802,
          0.8118811881188119,
          null,
          0.8118811881188119,
          0.8217821782178217,
          null,
          0.8118811881188119,
          0.8415841584158416,
          null,
          0.8316831683168316,
          0.8415841584158416,
          null,
          0.8415841584158416,
          0.8514851485148515,
          null,
          0.8415841584158416,
          0.9603960396039604,
          null,
          0.8514851485148515,
          0.8613861386138614,
          null,
          0.8514851485148515,
          0.8712871287128713,
          null,
          0.8712871287128713,
          0.8910891089108911,
          null,
          0.8811881188118812,
          0.9603960396039604,
          null,
          0.9108910891089109,
          0.9405940594059405,
          null,
          0.9306930693069307,
          0.9405940594059405,
          null,
          0.9306930693069307,
          1.0891089108910892,
          null,
          0.9405940594059405,
          0.9603960396039604,
          null,
          0.9702970297029703,
          0.9801980198019802,
          null,
          0.9801980198019802,
          0.9900990099009901,
          null
         ],
         "y": [
          68,
          68,
          null,
          69,
          69,
          null,
          70,
          70,
          null,
          71,
          71,
          null,
          72,
          72,
          null,
          73,
          73,
          null,
          74,
          74,
          null,
          75,
          75,
          null,
          76,
          76,
          null,
          77,
          77,
          null,
          78,
          78,
          null,
          79,
          79,
          null,
          80,
          80,
          null,
          81,
          81,
          null,
          82,
          82,
          null,
          83,
          83,
          null,
          84,
          84,
          null,
          85,
          85,
          null,
          86,
          86,
          null,
          87,
          87,
          null,
          88,
          88,
          null,
          89,
          89,
          null,
          90,
          90,
          null,
          91,
          91,
          null,
          92,
          92,
          null,
          93,
          93,
          null,
          94,
          94,
          null,
          95,
          95,
          null,
          96,
          96,
          null,
          97,
          97,
          null,
          98,
          98,
          null,
          99,
          99,
          null,
          100,
          100,
          null,
          101,
          101,
          null,
          102,
          102,
          null,
          103,
          103,
          null,
          104,
          104,
          null,
          105,
          105,
          null,
          106,
          106,
          null,
          107,
          107,
          null,
          108,
          108,
          null,
          109,
          109,
          null,
          110,
          110,
          null,
          111,
          111,
          null,
          112,
          112,
          null,
          113,
          113,
          null,
          114,
          114,
          null,
          115,
          115,
          null,
          116,
          116,
          null,
          117,
          117,
          null,
          118,
          118,
          null,
          119,
          119,
          null,
          120,
          120,
          null,
          121,
          121,
          null,
          122,
          122,
          null,
          123,
          123,
          null,
          124,
          124,
          null,
          125,
          125,
          null,
          126,
          126,
          null,
          127,
          127,
          null,
          128,
          128,
          null,
          129,
          129,
          null,
          130,
          130,
          null,
          131,
          131,
          null,
          132,
          132,
          null,
          133,
          133,
          null,
          134,
          134,
          null,
          135,
          135,
          null,
          136,
          136,
          null,
          137,
          137,
          null,
          138,
          138,
          null,
          139,
          139,
          null,
          140,
          140,
          null,
          141,
          141,
          null,
          142,
          142,
          null,
          143,
          143,
          null,
          144,
          144,
          null,
          145,
          145,
          null,
          146,
          146,
          null,
          147,
          147,
          null,
          148,
          148,
          null,
          149,
          149,
          null,
          150,
          150,
          null,
          151,
          151,
          null,
          152,
          152,
          null,
          153,
          153,
          null,
          154,
          154,
          null,
          155,
          155,
          null,
          156,
          156,
          null,
          157,
          157,
          null,
          158,
          158,
          null,
          159,
          159,
          null,
          160,
          160,
          null,
          161,
          161,
          null,
          162,
          162,
          null,
          163,
          163,
          null,
          164,
          164,
          null,
          165,
          165,
          null,
          166,
          166,
          null,
          167,
          167,
          null,
          168,
          168,
          null,
          169,
          169,
          null,
          170,
          170,
          null,
          171,
          171,
          null,
          172,
          172,
          null,
          173,
          173,
          null,
          174,
          174,
          null,
          175,
          175,
          null,
          176,
          176,
          null,
          177,
          177,
          null,
          178,
          178,
          null,
          179,
          179,
          null,
          180,
          180,
          null,
          181,
          181,
          null,
          182,
          182,
          null,
          183,
          183,
          null,
          184,
          184,
          null,
          185,
          185,
          null,
          186,
          186,
          null,
          187,
          187,
          null
         ]
        },
        {
         "hoverinfo": "text",
         "hovertext": [
          "birth 0.5247524752475248<br>death 0.6732673267326733<br>homology dimension 2<br>row of dataframe 351",
          "birth 0.5247524752475248<br>death 0.6732673267326733<br>homology dimension 2<br>row of dataframe 351",
          "birth 0.5247524752475248<br>death 0.6732673267326733<br>homology dimension 2<br>row of dataframe 351",
          "birth 0.5247524752475248<br>death 0.693069306930693<br>homology dimension 2<br>row of dataframe 350",
          "birth 0.5247524752475248<br>death 0.693069306930693<br>homology dimension 2<br>row of dataframe 350",
          "birth 0.5247524752475248<br>death 0.693069306930693<br>homology dimension 2<br>row of dataframe 350",
          "birth 0.5841584158415841<br>death 0.6732673267326733<br>homology dimension 2<br>row of dataframe 349",
          "birth 0.5841584158415841<br>death 0.6732673267326733<br>homology dimension 2<br>row of dataframe 349",
          "birth 0.5841584158415841<br>death 0.6732673267326733<br>homology dimension 2<br>row of dataframe 349",
          "birth 0.6039603960396039<br>death 0.6435643564356436<br>homology dimension 2<br>row of dataframe 348",
          "birth 0.6039603960396039<br>death 0.6435643564356436<br>homology dimension 2<br>row of dataframe 348",
          "birth 0.6039603960396039<br>death 0.6435643564356436<br>homology dimension 2<br>row of dataframe 348",
          "birth 0.6039603960396039<br>death 0.7722772277227723<br>homology dimension 2<br>row of dataframe 347",
          "birth 0.6039603960396039<br>death 0.7722772277227723<br>homology dimension 2<br>row of dataframe 347",
          "birth 0.6039603960396039<br>death 0.7722772277227723<br>homology dimension 2<br>row of dataframe 347",
          "birth 0.6138613861386139<br>death 0.6237623762376238<br>homology dimension 2<br>row of dataframe 345",
          "birth 0.6138613861386139<br>death 0.6237623762376238<br>homology dimension 2<br>row of dataframe 345",
          "birth 0.6138613861386139<br>death 0.6237623762376238<br>homology dimension 2<br>row of dataframe 345",
          "birth 0.6138613861386139<br>death 0.6831683168316832<br>homology dimension 2<br>row of dataframe 346",
          "birth 0.6138613861386139<br>death 0.6831683168316832<br>homology dimension 2<br>row of dataframe 346",
          "birth 0.6138613861386139<br>death 0.6831683168316832<br>homology dimension 2<br>row of dataframe 346",
          "birth 0.6237623762376238<br>death 0.6732673267326733<br>homology dimension 2<br>row of dataframe 342",
          "birth 0.6237623762376238<br>death 0.6732673267326733<br>homology dimension 2<br>row of dataframe 342",
          "birth 0.6237623762376238<br>death 0.6732673267326733<br>homology dimension 2<br>row of dataframe 342",
          "birth 0.6237623762376238<br>death 0.6732673267326733<br>homology dimension 2<br>row of dataframe 343",
          "birth 0.6237623762376238<br>death 0.6732673267326733<br>homology dimension 2<br>row of dataframe 343",
          "birth 0.6237623762376238<br>death 0.6732673267326733<br>homology dimension 2<br>row of dataframe 343",
          "birth 0.6237623762376238<br>death 0.7128712871287128<br>homology dimension 2<br>row of dataframe 344",
          "birth 0.6237623762376238<br>death 0.7128712871287128<br>homology dimension 2<br>row of dataframe 344",
          "birth 0.6237623762376238<br>death 0.7128712871287128<br>homology dimension 2<br>row of dataframe 344",
          "birth 0.6336633663366337<br>death 0.693069306930693<br>homology dimension 2<br>row of dataframe 341",
          "birth 0.6336633663366337<br>death 0.693069306930693<br>homology dimension 2<br>row of dataframe 341",
          "birth 0.6336633663366337<br>death 0.693069306930693<br>homology dimension 2<br>row of dataframe 341",
          "birth 0.6435643564356436<br>death 0.7524752475247525<br>homology dimension 2<br>row of dataframe 340",
          "birth 0.6435643564356436<br>death 0.7524752475247525<br>homology dimension 2<br>row of dataframe 340",
          "birth 0.6435643564356436<br>death 0.7524752475247525<br>homology dimension 2<br>row of dataframe 340",
          "birth 0.6534653465346535<br>death 0.7029702970297029<br>homology dimension 2<br>row of dataframe 339",
          "birth 0.6534653465346535<br>death 0.7029702970297029<br>homology dimension 2<br>row of dataframe 339",
          "birth 0.6534653465346535<br>death 0.7029702970297029<br>homology dimension 2<br>row of dataframe 339",
          "birth 0.6633663366336634<br>death 0.6732673267326733<br>homology dimension 2<br>row of dataframe 334",
          "birth 0.6633663366336634<br>death 0.6732673267326733<br>homology dimension 2<br>row of dataframe 334",
          "birth 0.6633663366336634<br>death 0.6732673267326733<br>homology dimension 2<br>row of dataframe 334",
          "birth 0.6633663366336634<br>death 0.6831683168316832<br>homology dimension 2<br>row of dataframe 328",
          "birth 0.6633663366336634<br>death 0.6831683168316832<br>homology dimension 2<br>row of dataframe 328",
          "birth 0.6633663366336634<br>death 0.6831683168316832<br>homology dimension 2<br>row of dataframe 328",
          "birth 0.6633663366336634<br>death 0.6831683168316832<br>homology dimension 2<br>row of dataframe 335",
          "birth 0.6633663366336634<br>death 0.6831683168316832<br>homology dimension 2<br>row of dataframe 335",
          "birth 0.6633663366336634<br>death 0.6831683168316832<br>homology dimension 2<br>row of dataframe 335",
          "birth 0.6633663366336634<br>death 0.693069306930693<br>homology dimension 2<br>row of dataframe 332",
          "birth 0.6633663366336634<br>death 0.693069306930693<br>homology dimension 2<br>row of dataframe 332",
          "birth 0.6633663366336634<br>death 0.693069306930693<br>homology dimension 2<br>row of dataframe 332",
          "birth 0.6633663366336634<br>death 0.7128712871287128<br>homology dimension 2<br>row of dataframe 329",
          "birth 0.6633663366336634<br>death 0.7128712871287128<br>homology dimension 2<br>row of dataframe 329",
          "birth 0.6633663366336634<br>death 0.7128712871287128<br>homology dimension 2<br>row of dataframe 329",
          "birth 0.6633663366336634<br>death 0.7227722772277227<br>homology dimension 2<br>row of dataframe 331",
          "birth 0.6633663366336634<br>death 0.7227722772277227<br>homology dimension 2<br>row of dataframe 331",
          "birth 0.6633663366336634<br>death 0.7227722772277227<br>homology dimension 2<br>row of dataframe 331",
          "birth 0.6633663366336634<br>death 0.7425742574257426<br>homology dimension 2<br>row of dataframe 338",
          "birth 0.6633663366336634<br>death 0.7425742574257426<br>homology dimension 2<br>row of dataframe 338",
          "birth 0.6633663366336634<br>death 0.7425742574257426<br>homology dimension 2<br>row of dataframe 338",
          "birth 0.6633663366336634<br>death 0.7524752475247525<br>homology dimension 2<br>row of dataframe 327",
          "birth 0.6633663366336634<br>death 0.7524752475247525<br>homology dimension 2<br>row of dataframe 327",
          "birth 0.6633663366336634<br>death 0.7524752475247525<br>homology dimension 2<br>row of dataframe 327",
          "birth 0.6633663366336634<br>death 0.7623762376237624<br>homology dimension 2<br>row of dataframe 330",
          "birth 0.6633663366336634<br>death 0.7623762376237624<br>homology dimension 2<br>row of dataframe 330",
          "birth 0.6633663366336634<br>death 0.7623762376237624<br>homology dimension 2<br>row of dataframe 330",
          "birth 0.6633663366336634<br>death 0.7722772277227723<br>homology dimension 2<br>row of dataframe 333",
          "birth 0.6633663366336634<br>death 0.7722772277227723<br>homology dimension 2<br>row of dataframe 333",
          "birth 0.6633663366336634<br>death 0.7722772277227723<br>homology dimension 2<br>row of dataframe 333",
          "birth 0.6633663366336634<br>death 0.8118811881188119<br>homology dimension 2<br>row of dataframe 336",
          "birth 0.6633663366336634<br>death 0.8118811881188119<br>homology dimension 2<br>row of dataframe 336",
          "birth 0.6633663366336634<br>death 0.8118811881188119<br>homology dimension 2<br>row of dataframe 336",
          "birth 0.6633663366336634<br>death 0.8118811881188119<br>homology dimension 2<br>row of dataframe 337",
          "birth 0.6633663366336634<br>death 0.8118811881188119<br>homology dimension 2<br>row of dataframe 337",
          "birth 0.6633663366336634<br>death 0.8118811881188119<br>homology dimension 2<br>row of dataframe 337",
          "birth 0.6732673267326733<br>death 0.6831683168316832<br>homology dimension 2<br>row of dataframe 326",
          "birth 0.6732673267326733<br>death 0.6831683168316832<br>homology dimension 2<br>row of dataframe 326",
          "birth 0.6732673267326733<br>death 0.6831683168316832<br>homology dimension 2<br>row of dataframe 326",
          "birth 0.6732673267326733<br>death 0.7128712871287128<br>homology dimension 2<br>row of dataframe 322",
          "birth 0.6732673267326733<br>death 0.7128712871287128<br>homology dimension 2<br>row of dataframe 322",
          "birth 0.6732673267326733<br>death 0.7128712871287128<br>homology dimension 2<br>row of dataframe 322",
          "birth 0.6732673267326733<br>death 0.7128712871287128<br>homology dimension 2<br>row of dataframe 325",
          "birth 0.6732673267326733<br>death 0.7128712871287128<br>homology dimension 2<br>row of dataframe 325",
          "birth 0.6732673267326733<br>death 0.7128712871287128<br>homology dimension 2<br>row of dataframe 325",
          "birth 0.6732673267326733<br>death 0.7227722772277227<br>homology dimension 2<br>row of dataframe 323",
          "birth 0.6732673267326733<br>death 0.7227722772277227<br>homology dimension 2<br>row of dataframe 323",
          "birth 0.6732673267326733<br>death 0.7227722772277227<br>homology dimension 2<br>row of dataframe 323",
          "birth 0.6732673267326733<br>death 0.7425742574257426<br>homology dimension 2<br>row of dataframe 324",
          "birth 0.6732673267326733<br>death 0.7425742574257426<br>homology dimension 2<br>row of dataframe 324",
          "birth 0.6732673267326733<br>death 0.7425742574257426<br>homology dimension 2<br>row of dataframe 324",
          "birth 0.6831683168316832<br>death 0.693069306930693<br>homology dimension 2<br>row of dataframe 315",
          "birth 0.6831683168316832<br>death 0.693069306930693<br>homology dimension 2<br>row of dataframe 315",
          "birth 0.6831683168316832<br>death 0.693069306930693<br>homology dimension 2<br>row of dataframe 315",
          "birth 0.6831683168316832<br>death 0.7029702970297029<br>homology dimension 2<br>row of dataframe 314",
          "birth 0.6831683168316832<br>death 0.7029702970297029<br>homology dimension 2<br>row of dataframe 314",
          "birth 0.6831683168316832<br>death 0.7029702970297029<br>homology dimension 2<br>row of dataframe 314",
          "birth 0.6831683168316832<br>death 0.7029702970297029<br>homology dimension 2<br>row of dataframe 320",
          "birth 0.6831683168316832<br>death 0.7029702970297029<br>homology dimension 2<br>row of dataframe 320",
          "birth 0.6831683168316832<br>death 0.7029702970297029<br>homology dimension 2<br>row of dataframe 320",
          "birth 0.6831683168316832<br>death 0.7128712871287128<br>homology dimension 2<br>row of dataframe 318",
          "birth 0.6831683168316832<br>death 0.7128712871287128<br>homology dimension 2<br>row of dataframe 318",
          "birth 0.6831683168316832<br>death 0.7128712871287128<br>homology dimension 2<br>row of dataframe 318",
          "birth 0.6831683168316832<br>death 0.7326732673267327<br>homology dimension 2<br>row of dataframe 319",
          "birth 0.6831683168316832<br>death 0.7326732673267327<br>homology dimension 2<br>row of dataframe 319",
          "birth 0.6831683168316832<br>death 0.7326732673267327<br>homology dimension 2<br>row of dataframe 319",
          "birth 0.6831683168316832<br>death 0.7326732673267327<br>homology dimension 2<br>row of dataframe 321",
          "birth 0.6831683168316832<br>death 0.7326732673267327<br>homology dimension 2<br>row of dataframe 321",
          "birth 0.6831683168316832<br>death 0.7326732673267327<br>homology dimension 2<br>row of dataframe 321",
          "birth 0.6831683168316832<br>death 0.7425742574257426<br>homology dimension 2<br>row of dataframe 311",
          "birth 0.6831683168316832<br>death 0.7425742574257426<br>homology dimension 2<br>row of dataframe 311",
          "birth 0.6831683168316832<br>death 0.7425742574257426<br>homology dimension 2<br>row of dataframe 311",
          "birth 0.6831683168316832<br>death 0.7425742574257426<br>homology dimension 2<br>row of dataframe 313",
          "birth 0.6831683168316832<br>death 0.7425742574257426<br>homology dimension 2<br>row of dataframe 313",
          "birth 0.6831683168316832<br>death 0.7425742574257426<br>homology dimension 2<br>row of dataframe 313",
          "birth 0.6831683168316832<br>death 0.7425742574257426<br>homology dimension 2<br>row of dataframe 317",
          "birth 0.6831683168316832<br>death 0.7425742574257426<br>homology dimension 2<br>row of dataframe 317",
          "birth 0.6831683168316832<br>death 0.7425742574257426<br>homology dimension 2<br>row of dataframe 317",
          "birth 0.6831683168316832<br>death 0.7623762376237624<br>homology dimension 2<br>row of dataframe 312",
          "birth 0.6831683168316832<br>death 0.7623762376237624<br>homology dimension 2<br>row of dataframe 312",
          "birth 0.6831683168316832<br>death 0.7623762376237624<br>homology dimension 2<br>row of dataframe 312",
          "birth 0.6831683168316832<br>death 0.7623762376237624<br>homology dimension 2<br>row of dataframe 316",
          "birth 0.6831683168316832<br>death 0.7623762376237624<br>homology dimension 2<br>row of dataframe 316",
          "birth 0.6831683168316832<br>death 0.7623762376237624<br>homology dimension 2<br>row of dataframe 316",
          "birth 0.693069306930693<br>death 0.7128712871287128<br>homology dimension 2<br>row of dataframe 307",
          "birth 0.693069306930693<br>death 0.7128712871287128<br>homology dimension 2<br>row of dataframe 307",
          "birth 0.693069306930693<br>death 0.7128712871287128<br>homology dimension 2<br>row of dataframe 307",
          "birth 0.693069306930693<br>death 0.7128712871287128<br>homology dimension 2<br>row of dataframe 310",
          "birth 0.693069306930693<br>death 0.7128712871287128<br>homology dimension 2<br>row of dataframe 310",
          "birth 0.693069306930693<br>death 0.7128712871287128<br>homology dimension 2<br>row of dataframe 310",
          "birth 0.693069306930693<br>death 0.7425742574257426<br>homology dimension 2<br>row of dataframe 308",
          "birth 0.693069306930693<br>death 0.7425742574257426<br>homology dimension 2<br>row of dataframe 308",
          "birth 0.693069306930693<br>death 0.7425742574257426<br>homology dimension 2<br>row of dataframe 308",
          "birth 0.693069306930693<br>death 0.7425742574257426<br>homology dimension 2<br>row of dataframe 309",
          "birth 0.693069306930693<br>death 0.7425742574257426<br>homology dimension 2<br>row of dataframe 309",
          "birth 0.693069306930693<br>death 0.7425742574257426<br>homology dimension 2<br>row of dataframe 309",
          "birth 0.7029702970297029<br>death 0.7227722772277227<br>homology dimension 2<br>row of dataframe 304",
          "birth 0.7029702970297029<br>death 0.7227722772277227<br>homology dimension 2<br>row of dataframe 304",
          "birth 0.7029702970297029<br>death 0.7227722772277227<br>homology dimension 2<br>row of dataframe 304",
          "birth 0.7029702970297029<br>death 0.7425742574257426<br>homology dimension 2<br>row of dataframe 299",
          "birth 0.7029702970297029<br>death 0.7425742574257426<br>homology dimension 2<br>row of dataframe 299",
          "birth 0.7029702970297029<br>death 0.7425742574257426<br>homology dimension 2<br>row of dataframe 299",
          "birth 0.7029702970297029<br>death 0.7425742574257426<br>homology dimension 2<br>row of dataframe 300",
          "birth 0.7029702970297029<br>death 0.7425742574257426<br>homology dimension 2<br>row of dataframe 300",
          "birth 0.7029702970297029<br>death 0.7425742574257426<br>homology dimension 2<br>row of dataframe 300",
          "birth 0.7029702970297029<br>death 0.7425742574257426<br>homology dimension 2<br>row of dataframe 302",
          "birth 0.7029702970297029<br>death 0.7425742574257426<br>homology dimension 2<br>row of dataframe 302",
          "birth 0.7029702970297029<br>death 0.7425742574257426<br>homology dimension 2<br>row of dataframe 302",
          "birth 0.7029702970297029<br>death 0.7524752475247525<br>homology dimension 2<br>row of dataframe 306",
          "birth 0.7029702970297029<br>death 0.7524752475247525<br>homology dimension 2<br>row of dataframe 306",
          "birth 0.7029702970297029<br>death 0.7524752475247525<br>homology dimension 2<br>row of dataframe 306",
          "birth 0.7029702970297029<br>death 0.7821782178217822<br>homology dimension 2<br>row of dataframe 303",
          "birth 0.7029702970297029<br>death 0.7821782178217822<br>homology dimension 2<br>row of dataframe 303",
          "birth 0.7029702970297029<br>death 0.7821782178217822<br>homology dimension 2<br>row of dataframe 303",
          "birth 0.7029702970297029<br>death 0.7821782178217822<br>homology dimension 2<br>row of dataframe 305",
          "birth 0.7029702970297029<br>death 0.7821782178217822<br>homology dimension 2<br>row of dataframe 305",
          "birth 0.7029702970297029<br>death 0.7821782178217822<br>homology dimension 2<br>row of dataframe 305",
          "birth 0.7029702970297029<br>death 0.8118811881188119<br>homology dimension 2<br>row of dataframe 301",
          "birth 0.7029702970297029<br>death 0.8118811881188119<br>homology dimension 2<br>row of dataframe 301",
          "birth 0.7029702970297029<br>death 0.8118811881188119<br>homology dimension 2<br>row of dataframe 301",
          "birth 0.7128712871287128<br>death 0.7227722772277227<br>homology dimension 2<br>row of dataframe 295",
          "birth 0.7128712871287128<br>death 0.7227722772277227<br>homology dimension 2<br>row of dataframe 295",
          "birth 0.7128712871287128<br>death 0.7227722772277227<br>homology dimension 2<br>row of dataframe 295",
          "birth 0.7128712871287128<br>death 0.7524752475247525<br>homology dimension 2<br>row of dataframe 298",
          "birth 0.7128712871287128<br>death 0.7524752475247525<br>homology dimension 2<br>row of dataframe 298",
          "birth 0.7128712871287128<br>death 0.7524752475247525<br>homology dimension 2<br>row of dataframe 298",
          "birth 0.7128712871287128<br>death 0.7920792079207921<br>homology dimension 2<br>row of dataframe 294",
          "birth 0.7128712871287128<br>death 0.7920792079207921<br>homology dimension 2<br>row of dataframe 294",
          "birth 0.7128712871287128<br>death 0.7920792079207921<br>homology dimension 2<br>row of dataframe 294",
          "birth 0.7128712871287128<br>death 0.801980198019802<br>homology dimension 2<br>row of dataframe 297",
          "birth 0.7128712871287128<br>death 0.801980198019802<br>homology dimension 2<br>row of dataframe 297",
          "birth 0.7128712871287128<br>death 0.801980198019802<br>homology dimension 2<br>row of dataframe 297",
          "birth 0.7128712871287128<br>death 0.8613861386138614<br>homology dimension 2<br>row of dataframe 293",
          "birth 0.7128712871287128<br>death 0.8613861386138614<br>homology dimension 2<br>row of dataframe 293",
          "birth 0.7128712871287128<br>death 0.8613861386138614<br>homology dimension 2<br>row of dataframe 293",
          "birth 0.7128712871287128<br>death 0.8613861386138614<br>homology dimension 2<br>row of dataframe 296",
          "birth 0.7128712871287128<br>death 0.8613861386138614<br>homology dimension 2<br>row of dataframe 296",
          "birth 0.7128712871287128<br>death 0.8613861386138614<br>homology dimension 2<br>row of dataframe 296",
          "birth 0.7227722772277227<br>death 0.7326732673267327<br>homology dimension 2<br>row of dataframe 292",
          "birth 0.7227722772277227<br>death 0.7326732673267327<br>homology dimension 2<br>row of dataframe 292",
          "birth 0.7227722772277227<br>death 0.7326732673267327<br>homology dimension 2<br>row of dataframe 292",
          "birth 0.7227722772277227<br>death 0.7425742574257426<br>homology dimension 2<br>row of dataframe 288",
          "birth 0.7227722772277227<br>death 0.7425742574257426<br>homology dimension 2<br>row of dataframe 288",
          "birth 0.7227722772277227<br>death 0.7425742574257426<br>homology dimension 2<br>row of dataframe 288",
          "birth 0.7227722772277227<br>death 0.7524752475247525<br>homology dimension 2<br>row of dataframe 285",
          "birth 0.7227722772277227<br>death 0.7524752475247525<br>homology dimension 2<br>row of dataframe 285",
          "birth 0.7227722772277227<br>death 0.7524752475247525<br>homology dimension 2<br>row of dataframe 285",
          "birth 0.7227722772277227<br>death 0.7524752475247525<br>homology dimension 2<br>row of dataframe 289",
          "birth 0.7227722772277227<br>death 0.7524752475247525<br>homology dimension 2<br>row of dataframe 289",
          "birth 0.7227722772277227<br>death 0.7524752475247525<br>homology dimension 2<br>row of dataframe 289",
          "birth 0.7227722772277227<br>death 0.7821782178217822<br>homology dimension 2<br>row of dataframe 284",
          "birth 0.7227722772277227<br>death 0.7821782178217822<br>homology dimension 2<br>row of dataframe 284",
          "birth 0.7227722772277227<br>death 0.7821782178217822<br>homology dimension 2<br>row of dataframe 284",
          "birth 0.7227722772277227<br>death 0.7821782178217822<br>homology dimension 2<br>row of dataframe 286",
          "birth 0.7227722772277227<br>death 0.7821782178217822<br>homology dimension 2<br>row of dataframe 286",
          "birth 0.7227722772277227<br>death 0.7821782178217822<br>homology dimension 2<br>row of dataframe 286",
          "birth 0.7227722772277227<br>death 0.801980198019802<br>homology dimension 2<br>row of dataframe 287",
          "birth 0.7227722772277227<br>death 0.801980198019802<br>homology dimension 2<br>row of dataframe 287",
          "birth 0.7227722772277227<br>death 0.801980198019802<br>homology dimension 2<br>row of dataframe 287",
          "birth 0.7227722772277227<br>death 0.8118811881188119<br>homology dimension 2<br>row of dataframe 290",
          "birth 0.7227722772277227<br>death 0.8118811881188119<br>homology dimension 2<br>row of dataframe 290",
          "birth 0.7227722772277227<br>death 0.8118811881188119<br>homology dimension 2<br>row of dataframe 290",
          "birth 0.7227722772277227<br>death 0.8118811881188119<br>homology dimension 2<br>row of dataframe 291",
          "birth 0.7227722772277227<br>death 0.8118811881188119<br>homology dimension 2<br>row of dataframe 291",
          "birth 0.7227722772277227<br>death 0.8118811881188119<br>homology dimension 2<br>row of dataframe 291",
          "birth 0.7326732673267327<br>death 0.7425742574257426<br>homology dimension 2<br>row of dataframe 275",
          "birth 0.7326732673267327<br>death 0.7425742574257426<br>homology dimension 2<br>row of dataframe 275",
          "birth 0.7326732673267327<br>death 0.7425742574257426<br>homology dimension 2<br>row of dataframe 275",
          "birth 0.7326732673267327<br>death 0.7425742574257426<br>homology dimension 2<br>row of dataframe 277",
          "birth 0.7326732673267327<br>death 0.7425742574257426<br>homology dimension 2<br>row of dataframe 277",
          "birth 0.7326732673267327<br>death 0.7425742574257426<br>homology dimension 2<br>row of dataframe 277",
          "birth 0.7326732673267327<br>death 0.7524752475247525<br>homology dimension 2<br>row of dataframe 278",
          "birth 0.7326732673267327<br>death 0.7524752475247525<br>homology dimension 2<br>row of dataframe 278",
          "birth 0.7326732673267327<br>death 0.7524752475247525<br>homology dimension 2<br>row of dataframe 278",
          "birth 0.7326732673267327<br>death 0.7524752475247525<br>homology dimension 2<br>row of dataframe 281",
          "birth 0.7326732673267327<br>death 0.7524752475247525<br>homology dimension 2<br>row of dataframe 281",
          "birth 0.7326732673267327<br>death 0.7524752475247525<br>homology dimension 2<br>row of dataframe 281",
          "birth 0.7326732673267327<br>death 0.7524752475247525<br>homology dimension 2<br>row of dataframe 283",
          "birth 0.7326732673267327<br>death 0.7524752475247525<br>homology dimension 2<br>row of dataframe 283",
          "birth 0.7326732673267327<br>death 0.7524752475247525<br>homology dimension 2<br>row of dataframe 283",
          "birth 0.7326732673267327<br>death 0.7623762376237624<br>homology dimension 2<br>row of dataframe 276",
          "birth 0.7326732673267327<br>death 0.7623762376237624<br>homology dimension 2<br>row of dataframe 276",
          "birth 0.7326732673267327<br>death 0.7623762376237624<br>homology dimension 2<br>row of dataframe 276",
          "birth 0.7326732673267327<br>death 0.7623762376237624<br>homology dimension 2<br>row of dataframe 279",
          "birth 0.7326732673267327<br>death 0.7623762376237624<br>homology dimension 2<br>row of dataframe 279",
          "birth 0.7326732673267327<br>death 0.7623762376237624<br>homology dimension 2<br>row of dataframe 279",
          "birth 0.7326732673267327<br>death 0.7722772277227723<br>homology dimension 2<br>row of dataframe 274",
          "birth 0.7326732673267327<br>death 0.7722772277227723<br>homology dimension 2<br>row of dataframe 274",
          "birth 0.7326732673267327<br>death 0.7722772277227723<br>homology dimension 2<br>row of dataframe 274",
          "birth 0.7326732673267327<br>death 0.7722772277227723<br>homology dimension 2<br>row of dataframe 282",
          "birth 0.7326732673267327<br>death 0.7722772277227723<br>homology dimension 2<br>row of dataframe 282",
          "birth 0.7326732673267327<br>death 0.7722772277227723<br>homology dimension 2<br>row of dataframe 282",
          "birth 0.7326732673267327<br>death 0.8118811881188119<br>homology dimension 2<br>row of dataframe 280",
          "birth 0.7326732673267327<br>death 0.8118811881188119<br>homology dimension 2<br>row of dataframe 280",
          "birth 0.7326732673267327<br>death 0.8118811881188119<br>homology dimension 2<br>row of dataframe 280",
          "birth 0.7425742574257426<br>death 0.7722772277227723<br>homology dimension 2<br>row of dataframe 272",
          "birth 0.7425742574257426<br>death 0.7722772277227723<br>homology dimension 2<br>row of dataframe 272",
          "birth 0.7425742574257426<br>death 0.7722772277227723<br>homology dimension 2<br>row of dataframe 272",
          "birth 0.7425742574257426<br>death 0.7722772277227723<br>homology dimension 2<br>row of dataframe 273",
          "birth 0.7425742574257426<br>death 0.7722772277227723<br>homology dimension 2<br>row of dataframe 273",
          "birth 0.7425742574257426<br>death 0.7722772277227723<br>homology dimension 2<br>row of dataframe 273",
          "birth 0.7425742574257426<br>death 0.8217821782178217<br>homology dimension 2<br>row of dataframe 270",
          "birth 0.7425742574257426<br>death 0.8217821782178217<br>homology dimension 2<br>row of dataframe 270",
          "birth 0.7425742574257426<br>death 0.8217821782178217<br>homology dimension 2<br>row of dataframe 270",
          "birth 0.7425742574257426<br>death 0.8415841584158416<br>homology dimension 2<br>row of dataframe 271",
          "birth 0.7425742574257426<br>death 0.8415841584158416<br>homology dimension 2<br>row of dataframe 271",
          "birth 0.7425742574257426<br>death 0.8415841584158416<br>homology dimension 2<br>row of dataframe 271",
          "birth 0.7524752475247525<br>death 0.7623762376237624<br>homology dimension 2<br>row of dataframe 268",
          "birth 0.7524752475247525<br>death 0.7623762376237624<br>homology dimension 2<br>row of dataframe 268",
          "birth 0.7524752475247525<br>death 0.7623762376237624<br>homology dimension 2<br>row of dataframe 268",
          "birth 0.7524752475247525<br>death 0.7722772277227723<br>homology dimension 2<br>row of dataframe 269",
          "birth 0.7524752475247525<br>death 0.7722772277227723<br>homology dimension 2<br>row of dataframe 269",
          "birth 0.7524752475247525<br>death 0.7722772277227723<br>homology dimension 2<br>row of dataframe 269",
          "birth 0.7524752475247525<br>death 0.7821782178217822<br>homology dimension 2<br>row of dataframe 267",
          "birth 0.7524752475247525<br>death 0.7821782178217822<br>homology dimension 2<br>row of dataframe 267",
          "birth 0.7524752475247525<br>death 0.7821782178217822<br>homology dimension 2<br>row of dataframe 267",
          "birth 0.7524752475247525<br>death 0.7920792079207921<br>homology dimension 2<br>row of dataframe 263",
          "birth 0.7524752475247525<br>death 0.7920792079207921<br>homology dimension 2<br>row of dataframe 263",
          "birth 0.7524752475247525<br>death 0.7920792079207921<br>homology dimension 2<br>row of dataframe 263",
          "birth 0.7524752475247525<br>death 0.801980198019802<br>homology dimension 2<br>row of dataframe 264",
          "birth 0.7524752475247525<br>death 0.801980198019802<br>homology dimension 2<br>row of dataframe 264",
          "birth 0.7524752475247525<br>death 0.801980198019802<br>homology dimension 2<br>row of dataframe 264",
          "birth 0.7524752475247525<br>death 0.8217821782178217<br>homology dimension 2<br>row of dataframe 266",
          "birth 0.7524752475247525<br>death 0.8217821782178217<br>homology dimension 2<br>row of dataframe 266",
          "birth 0.7524752475247525<br>death 0.8217821782178217<br>homology dimension 2<br>row of dataframe 266",
          "birth 0.7524752475247525<br>death 0.9306930693069307<br>homology dimension 2<br>row of dataframe 265",
          "birth 0.7524752475247525<br>death 0.9306930693069307<br>homology dimension 2<br>row of dataframe 265",
          "birth 0.7524752475247525<br>death 0.9306930693069307<br>homology dimension 2<br>row of dataframe 265",
          "birth 0.7623762376237624<br>death 0.7722772277227723<br>homology dimension 2<br>row of dataframe 260",
          "birth 0.7623762376237624<br>death 0.7722772277227723<br>homology dimension 2<br>row of dataframe 260",
          "birth 0.7623762376237624<br>death 0.7722772277227723<br>homology dimension 2<br>row of dataframe 260",
          "birth 0.7623762376237624<br>death 0.7920792079207921<br>homology dimension 2<br>row of dataframe 261",
          "birth 0.7623762376237624<br>death 0.7920792079207921<br>homology dimension 2<br>row of dataframe 261",
          "birth 0.7623762376237624<br>death 0.7920792079207921<br>homology dimension 2<br>row of dataframe 261",
          "birth 0.7623762376237624<br>death 0.8118811881188119<br>homology dimension 2<br>row of dataframe 262",
          "birth 0.7623762376237624<br>death 0.8118811881188119<br>homology dimension 2<br>row of dataframe 262",
          "birth 0.7623762376237624<br>death 0.8118811881188119<br>homology dimension 2<br>row of dataframe 262",
          "birth 0.7722772277227723<br>death 0.7821782178217822<br>homology dimension 2<br>row of dataframe 253",
          "birth 0.7722772277227723<br>death 0.7821782178217822<br>homology dimension 2<br>row of dataframe 253",
          "birth 0.7722772277227723<br>death 0.7821782178217822<br>homology dimension 2<br>row of dataframe 253",
          "birth 0.7722772277227723<br>death 0.7821782178217822<br>homology dimension 2<br>row of dataframe 257",
          "birth 0.7722772277227723<br>death 0.7821782178217822<br>homology dimension 2<br>row of dataframe 257",
          "birth 0.7722772277227723<br>death 0.7821782178217822<br>homology dimension 2<br>row of dataframe 257",
          "birth 0.7722772277227723<br>death 0.7821782178217822<br>homology dimension 2<br>row of dataframe 258",
          "birth 0.7722772277227723<br>death 0.7821782178217822<br>homology dimension 2<br>row of dataframe 258",
          "birth 0.7722772277227723<br>death 0.7821782178217822<br>homology dimension 2<br>row of dataframe 258",
          "birth 0.7722772277227723<br>death 0.7920792079207921<br>homology dimension 2<br>row of dataframe 254",
          "birth 0.7722772277227723<br>death 0.7920792079207921<br>homology dimension 2<br>row of dataframe 254",
          "birth 0.7722772277227723<br>death 0.7920792079207921<br>homology dimension 2<br>row of dataframe 254",
          "birth 0.7722772277227723<br>death 0.8118811881188119<br>homology dimension 2<br>row of dataframe 255",
          "birth 0.7722772277227723<br>death 0.8118811881188119<br>homology dimension 2<br>row of dataframe 255",
          "birth 0.7722772277227723<br>death 0.8118811881188119<br>homology dimension 2<br>row of dataframe 255",
          "birth 0.7722772277227723<br>death 0.8217821782178217<br>homology dimension 2<br>row of dataframe 251",
          "birth 0.7722772277227723<br>death 0.8217821782178217<br>homology dimension 2<br>row of dataframe 251",
          "birth 0.7722772277227723<br>death 0.8217821782178217<br>homology dimension 2<br>row of dataframe 251",
          "birth 0.7722772277227723<br>death 0.8217821782178217<br>homology dimension 2<br>row of dataframe 252",
          "birth 0.7722772277227723<br>death 0.8217821782178217<br>homology dimension 2<br>row of dataframe 252",
          "birth 0.7722772277227723<br>death 0.8217821782178217<br>homology dimension 2<br>row of dataframe 252",
          "birth 0.7722772277227723<br>death 0.8217821782178217<br>homology dimension 2<br>row of dataframe 256",
          "birth 0.7722772277227723<br>death 0.8217821782178217<br>homology dimension 2<br>row of dataframe 256",
          "birth 0.7722772277227723<br>death 0.8217821782178217<br>homology dimension 2<br>row of dataframe 256",
          "birth 0.7722772277227723<br>death 0.8217821782178217<br>homology dimension 2<br>row of dataframe 259",
          "birth 0.7722772277227723<br>death 0.8217821782178217<br>homology dimension 2<br>row of dataframe 259",
          "birth 0.7722772277227723<br>death 0.8217821782178217<br>homology dimension 2<br>row of dataframe 259",
          "birth 0.7722772277227723<br>death 0.8514851485148515<br>homology dimension 2<br>row of dataframe 250",
          "birth 0.7722772277227723<br>death 0.8514851485148515<br>homology dimension 2<br>row of dataframe 250",
          "birth 0.7722772277227723<br>death 0.8514851485148515<br>homology dimension 2<br>row of dataframe 250",
          "birth 0.7821782178217822<br>death 0.801980198019802<br>homology dimension 2<br>row of dataframe 249",
          "birth 0.7821782178217822<br>death 0.801980198019802<br>homology dimension 2<br>row of dataframe 249",
          "birth 0.7821782178217822<br>death 0.801980198019802<br>homology dimension 2<br>row of dataframe 249",
          "birth 0.7821782178217822<br>death 0.8118811881188119<br>homology dimension 2<br>row of dataframe 247",
          "birth 0.7821782178217822<br>death 0.8118811881188119<br>homology dimension 2<br>row of dataframe 247",
          "birth 0.7821782178217822<br>death 0.8118811881188119<br>homology dimension 2<br>row of dataframe 247",
          "birth 0.7821782178217822<br>death 0.8118811881188119<br>homology dimension 2<br>row of dataframe 248",
          "birth 0.7821782178217822<br>death 0.8118811881188119<br>homology dimension 2<br>row of dataframe 248",
          "birth 0.7821782178217822<br>death 0.8118811881188119<br>homology dimension 2<br>row of dataframe 248",
          "birth 0.7920792079207921<br>death 0.801980198019802<br>homology dimension 2<br>row of dataframe 244",
          "birth 0.7920792079207921<br>death 0.801980198019802<br>homology dimension 2<br>row of dataframe 244",
          "birth 0.7920792079207921<br>death 0.801980198019802<br>homology dimension 2<br>row of dataframe 244",
          "birth 0.7920792079207921<br>death 0.801980198019802<br>homology dimension 2<br>row of dataframe 245",
          "birth 0.7920792079207921<br>death 0.801980198019802<br>homology dimension 2<br>row of dataframe 245",
          "birth 0.7920792079207921<br>death 0.801980198019802<br>homology dimension 2<br>row of dataframe 245",
          "birth 0.7920792079207921<br>death 0.801980198019802<br>homology dimension 2<br>row of dataframe 246",
          "birth 0.7920792079207921<br>death 0.801980198019802<br>homology dimension 2<br>row of dataframe 246",
          "birth 0.7920792079207921<br>death 0.801980198019802<br>homology dimension 2<br>row of dataframe 246",
          "birth 0.7920792079207921<br>death 0.8316831683168316<br>homology dimension 2<br>row of dataframe 242",
          "birth 0.7920792079207921<br>death 0.8316831683168316<br>homology dimension 2<br>row of dataframe 242",
          "birth 0.7920792079207921<br>death 0.8316831683168316<br>homology dimension 2<br>row of dataframe 242",
          "birth 0.7920792079207921<br>death 0.8712871287128713<br>homology dimension 2<br>row of dataframe 243",
          "birth 0.7920792079207921<br>death 0.8712871287128713<br>homology dimension 2<br>row of dataframe 243",
          "birth 0.7920792079207921<br>death 0.8712871287128713<br>homology dimension 2<br>row of dataframe 243",
          "birth 0.801980198019802<br>death 0.8118811881188119<br>homology dimension 2<br>row of dataframe 239",
          "birth 0.801980198019802<br>death 0.8118811881188119<br>homology dimension 2<br>row of dataframe 239",
          "birth 0.801980198019802<br>death 0.8118811881188119<br>homology dimension 2<br>row of dataframe 239",
          "birth 0.801980198019802<br>death 0.8217821782178217<br>homology dimension 2<br>row of dataframe 240",
          "birth 0.801980198019802<br>death 0.8217821782178217<br>homology dimension 2<br>row of dataframe 240",
          "birth 0.801980198019802<br>death 0.8217821782178217<br>homology dimension 2<br>row of dataframe 240",
          "birth 0.801980198019802<br>death 0.8217821782178217<br>homology dimension 2<br>row of dataframe 241",
          "birth 0.801980198019802<br>death 0.8217821782178217<br>homology dimension 2<br>row of dataframe 241",
          "birth 0.801980198019802<br>death 0.8217821782178217<br>homology dimension 2<br>row of dataframe 241",
          "birth 0.8118811881188119<br>death 0.8217821782178217<br>homology dimension 2<br>row of dataframe 234",
          "birth 0.8118811881188119<br>death 0.8217821782178217<br>homology dimension 2<br>row of dataframe 234",
          "birth 0.8118811881188119<br>death 0.8217821782178217<br>homology dimension 2<br>row of dataframe 234",
          "birth 0.8118811881188119<br>death 0.8316831683168316<br>homology dimension 2<br>row of dataframe 235",
          "birth 0.8118811881188119<br>death 0.8316831683168316<br>homology dimension 2<br>row of dataframe 235",
          "birth 0.8118811881188119<br>death 0.8316831683168316<br>homology dimension 2<br>row of dataframe 235",
          "birth 0.8118811881188119<br>death 0.8316831683168316<br>homology dimension 2<br>row of dataframe 236",
          "birth 0.8118811881188119<br>death 0.8316831683168316<br>homology dimension 2<br>row of dataframe 236",
          "birth 0.8118811881188119<br>death 0.8316831683168316<br>homology dimension 2<br>row of dataframe 236",
          "birth 0.8118811881188119<br>death 0.8514851485148515<br>homology dimension 2<br>row of dataframe 237",
          "birth 0.8118811881188119<br>death 0.8514851485148515<br>homology dimension 2<br>row of dataframe 237",
          "birth 0.8118811881188119<br>death 0.8514851485148515<br>homology dimension 2<br>row of dataframe 237",
          "birth 0.8118811881188119<br>death 0.8712871287128713<br>homology dimension 2<br>row of dataframe 238",
          "birth 0.8118811881188119<br>death 0.8712871287128713<br>homology dimension 2<br>row of dataframe 238",
          "birth 0.8118811881188119<br>death 0.8712871287128713<br>homology dimension 2<br>row of dataframe 238",
          "birth 0.8217821782178217<br>death 0.8316831683168316<br>homology dimension 2<br>row of dataframe 229",
          "birth 0.8217821782178217<br>death 0.8316831683168316<br>homology dimension 2<br>row of dataframe 229",
          "birth 0.8217821782178217<br>death 0.8316831683168316<br>homology dimension 2<br>row of dataframe 229",
          "birth 0.8217821782178217<br>death 0.8316831683168316<br>homology dimension 2<br>row of dataframe 230",
          "birth 0.8217821782178217<br>death 0.8316831683168316<br>homology dimension 2<br>row of dataframe 230",
          "birth 0.8217821782178217<br>death 0.8316831683168316<br>homology dimension 2<br>row of dataframe 230",
          "birth 0.8217821782178217<br>death 0.8316831683168316<br>homology dimension 2<br>row of dataframe 233",
          "birth 0.8217821782178217<br>death 0.8316831683168316<br>homology dimension 2<br>row of dataframe 233",
          "birth 0.8217821782178217<br>death 0.8316831683168316<br>homology dimension 2<br>row of dataframe 233",
          "birth 0.8217821782178217<br>death 0.8613861386138614<br>homology dimension 2<br>row of dataframe 232",
          "birth 0.8217821782178217<br>death 0.8613861386138614<br>homology dimension 2<br>row of dataframe 232",
          "birth 0.8217821782178217<br>death 0.8613861386138614<br>homology dimension 2<br>row of dataframe 232",
          "birth 0.8217821782178217<br>death 0.8811881188118812<br>homology dimension 2<br>row of dataframe 231",
          "birth 0.8217821782178217<br>death 0.8811881188118812<br>homology dimension 2<br>row of dataframe 231",
          "birth 0.8217821782178217<br>death 0.8811881188118812<br>homology dimension 2<br>row of dataframe 231",
          "birth 0.8316831683168316<br>death 0.8514851485148515<br>homology dimension 2<br>row of dataframe 227",
          "birth 0.8316831683168316<br>death 0.8514851485148515<br>homology dimension 2<br>row of dataframe 227",
          "birth 0.8316831683168316<br>death 0.8514851485148515<br>homology dimension 2<br>row of dataframe 227",
          "birth 0.8316831683168316<br>death 0.8613861386138614<br>homology dimension 2<br>row of dataframe 223",
          "birth 0.8316831683168316<br>death 0.8613861386138614<br>homology dimension 2<br>row of dataframe 223",
          "birth 0.8316831683168316<br>death 0.8613861386138614<br>homology dimension 2<br>row of dataframe 223",
          "birth 0.8316831683168316<br>death 0.8811881188118812<br>homology dimension 2<br>row of dataframe 224",
          "birth 0.8316831683168316<br>death 0.8811881188118812<br>homology dimension 2<br>row of dataframe 224",
          "birth 0.8316831683168316<br>death 0.8811881188118812<br>homology dimension 2<br>row of dataframe 224",
          "birth 0.8316831683168316<br>death 0.900990099009901<br>homology dimension 2<br>row of dataframe 228",
          "birth 0.8316831683168316<br>death 0.900990099009901<br>homology dimension 2<br>row of dataframe 228",
          "birth 0.8316831683168316<br>death 0.900990099009901<br>homology dimension 2<br>row of dataframe 228",
          "birth 0.8316831683168316<br>death 0.9108910891089109<br>homology dimension 2<br>row of dataframe 225",
          "birth 0.8316831683168316<br>death 0.9108910891089109<br>homology dimension 2<br>row of dataframe 225",
          "birth 0.8316831683168316<br>death 0.9108910891089109<br>homology dimension 2<br>row of dataframe 225",
          "birth 0.8316831683168316<br>death 0.9108910891089109<br>homology dimension 2<br>row of dataframe 226",
          "birth 0.8316831683168316<br>death 0.9108910891089109<br>homology dimension 2<br>row of dataframe 226",
          "birth 0.8316831683168316<br>death 0.9108910891089109<br>homology dimension 2<br>row of dataframe 226",
          "birth 0.8514851485148515<br>death 0.8613861386138614<br>homology dimension 2<br>row of dataframe 222",
          "birth 0.8514851485148515<br>death 0.8613861386138614<br>homology dimension 2<br>row of dataframe 222",
          "birth 0.8514851485148515<br>death 0.8613861386138614<br>homology dimension 2<br>row of dataframe 222",
          "birth 0.8514851485148515<br>death 0.900990099009901<br>homology dimension 2<br>row of dataframe 221",
          "birth 0.8514851485148515<br>death 0.900990099009901<br>homology dimension 2<br>row of dataframe 221",
          "birth 0.8514851485148515<br>death 0.900990099009901<br>homology dimension 2<br>row of dataframe 221",
          "birth 0.8613861386138614<br>death 0.8811881188118812<br>homology dimension 2<br>row of dataframe 220",
          "birth 0.8613861386138614<br>death 0.8811881188118812<br>homology dimension 2<br>row of dataframe 220",
          "birth 0.8613861386138614<br>death 0.8811881188118812<br>homology dimension 2<br>row of dataframe 220",
          "birth 0.8613861386138614<br>death 0.8910891089108911<br>homology dimension 2<br>row of dataframe 217",
          "birth 0.8613861386138614<br>death 0.8910891089108911<br>homology dimension 2<br>row of dataframe 217",
          "birth 0.8613861386138614<br>death 0.8910891089108911<br>homology dimension 2<br>row of dataframe 217",
          "birth 0.8613861386138614<br>death 0.900990099009901<br>homology dimension 2<br>row of dataframe 218",
          "birth 0.8613861386138614<br>death 0.900990099009901<br>homology dimension 2<br>row of dataframe 218",
          "birth 0.8613861386138614<br>death 0.900990099009901<br>homology dimension 2<br>row of dataframe 218",
          "birth 0.8613861386138614<br>death 0.9306930693069307<br>homology dimension 2<br>row of dataframe 219",
          "birth 0.8613861386138614<br>death 0.9306930693069307<br>homology dimension 2<br>row of dataframe 219",
          "birth 0.8613861386138614<br>death 0.9306930693069307<br>homology dimension 2<br>row of dataframe 219",
          "birth 0.8712871287128713<br>death 0.8811881188118812<br>homology dimension 2<br>row of dataframe 215",
          "birth 0.8712871287128713<br>death 0.8811881188118812<br>homology dimension 2<br>row of dataframe 215",
          "birth 0.8712871287128713<br>death 0.8811881188118812<br>homology dimension 2<br>row of dataframe 215",
          "birth 0.8712871287128713<br>death 0.8910891089108911<br>homology dimension 2<br>row of dataframe 213",
          "birth 0.8712871287128713<br>death 0.8910891089108911<br>homology dimension 2<br>row of dataframe 213",
          "birth 0.8712871287128713<br>death 0.8910891089108911<br>homology dimension 2<br>row of dataframe 213",
          "birth 0.8712871287128713<br>death 0.900990099009901<br>homology dimension 2<br>row of dataframe 214",
          "birth 0.8712871287128713<br>death 0.900990099009901<br>homology dimension 2<br>row of dataframe 214",
          "birth 0.8712871287128713<br>death 0.900990099009901<br>homology dimension 2<br>row of dataframe 214",
          "birth 0.8712871287128713<br>death 0.9108910891089109<br>homology dimension 2<br>row of dataframe 216",
          "birth 0.8712871287128713<br>death 0.9108910891089109<br>homology dimension 2<br>row of dataframe 216",
          "birth 0.8712871287128713<br>death 0.9108910891089109<br>homology dimension 2<br>row of dataframe 216",
          "birth 0.8712871287128713<br>death 0.9801980198019802<br>homology dimension 2<br>row of dataframe 212",
          "birth 0.8712871287128713<br>death 0.9801980198019802<br>homology dimension 2<br>row of dataframe 212",
          "birth 0.8712871287128713<br>death 0.9801980198019802<br>homology dimension 2<br>row of dataframe 212",
          "birth 0.8811881188118812<br>death 0.8910891089108911<br>homology dimension 2<br>row of dataframe 207",
          "birth 0.8811881188118812<br>death 0.8910891089108911<br>homology dimension 2<br>row of dataframe 207",
          "birth 0.8811881188118812<br>death 0.8910891089108911<br>homology dimension 2<br>row of dataframe 207",
          "birth 0.8811881188118812<br>death 0.8910891089108911<br>homology dimension 2<br>row of dataframe 209",
          "birth 0.8811881188118812<br>death 0.8910891089108911<br>homology dimension 2<br>row of dataframe 209",
          "birth 0.8811881188118812<br>death 0.8910891089108911<br>homology dimension 2<br>row of dataframe 209",
          "birth 0.8811881188118812<br>death 0.8910891089108911<br>homology dimension 2<br>row of dataframe 210",
          "birth 0.8811881188118812<br>death 0.8910891089108911<br>homology dimension 2<br>row of dataframe 210",
          "birth 0.8811881188118812<br>death 0.8910891089108911<br>homology dimension 2<br>row of dataframe 210",
          "birth 0.8811881188118812<br>death 0.900990099009901<br>homology dimension 2<br>row of dataframe 208",
          "birth 0.8811881188118812<br>death 0.900990099009901<br>homology dimension 2<br>row of dataframe 208",
          "birth 0.8811881188118812<br>death 0.900990099009901<br>homology dimension 2<br>row of dataframe 208",
          "birth 0.8811881188118812<br>death 0.900990099009901<br>homology dimension 2<br>row of dataframe 211",
          "birth 0.8811881188118812<br>death 0.900990099009901<br>homology dimension 2<br>row of dataframe 211",
          "birth 0.8811881188118812<br>death 0.900990099009901<br>homology dimension 2<br>row of dataframe 211",
          "birth 0.8910891089108911<br>death 0.900990099009901<br>homology dimension 2<br>row of dataframe 206",
          "birth 0.8910891089108911<br>death 0.900990099009901<br>homology dimension 2<br>row of dataframe 206",
          "birth 0.8910891089108911<br>death 0.900990099009901<br>homology dimension 2<br>row of dataframe 206",
          "birth 0.8910891089108911<br>death 0.9108910891089109<br>homology dimension 2<br>row of dataframe 202",
          "birth 0.8910891089108911<br>death 0.9108910891089109<br>homology dimension 2<br>row of dataframe 202",
          "birth 0.8910891089108911<br>death 0.9108910891089109<br>homology dimension 2<br>row of dataframe 202",
          "birth 0.8910891089108911<br>death 0.9108910891089109<br>homology dimension 2<br>row of dataframe 203",
          "birth 0.8910891089108911<br>death 0.9108910891089109<br>homology dimension 2<br>row of dataframe 203",
          "birth 0.8910891089108911<br>death 0.9108910891089109<br>homology dimension 2<br>row of dataframe 203",
          "birth 0.8910891089108911<br>death 0.9108910891089109<br>homology dimension 2<br>row of dataframe 204",
          "birth 0.8910891089108911<br>death 0.9108910891089109<br>homology dimension 2<br>row of dataframe 204",
          "birth 0.8910891089108911<br>death 0.9108910891089109<br>homology dimension 2<br>row of dataframe 204",
          "birth 0.8910891089108911<br>death 0.9108910891089109<br>homology dimension 2<br>row of dataframe 205",
          "birth 0.8910891089108911<br>death 0.9108910891089109<br>homology dimension 2<br>row of dataframe 205",
          "birth 0.8910891089108911<br>death 0.9108910891089109<br>homology dimension 2<br>row of dataframe 205",
          "birth 0.8910891089108911<br>death 0.9306930693069307<br>homology dimension 2<br>row of dataframe 201",
          "birth 0.8910891089108911<br>death 0.9306930693069307<br>homology dimension 2<br>row of dataframe 201",
          "birth 0.8910891089108911<br>death 0.9306930693069307<br>homology dimension 2<br>row of dataframe 201",
          "birth 0.900990099009901<br>death 0.9108910891089109<br>homology dimension 2<br>row of dataframe 197",
          "birth 0.900990099009901<br>death 0.9108910891089109<br>homology dimension 2<br>row of dataframe 197",
          "birth 0.900990099009901<br>death 0.9108910891089109<br>homology dimension 2<br>row of dataframe 197",
          "birth 0.900990099009901<br>death 0.9108910891089109<br>homology dimension 2<br>row of dataframe 200",
          "birth 0.900990099009901<br>death 0.9108910891089109<br>homology dimension 2<br>row of dataframe 200",
          "birth 0.900990099009901<br>death 0.9108910891089109<br>homology dimension 2<br>row of dataframe 200",
          "birth 0.900990099009901<br>death 0.9207920792079208<br>homology dimension 2<br>row of dataframe 198",
          "birth 0.900990099009901<br>death 0.9207920792079208<br>homology dimension 2<br>row of dataframe 198",
          "birth 0.900990099009901<br>death 0.9207920792079208<br>homology dimension 2<br>row of dataframe 198",
          "birth 0.900990099009901<br>death 0.9603960396039604<br>homology dimension 2<br>row of dataframe 196",
          "birth 0.900990099009901<br>death 0.9603960396039604<br>homology dimension 2<br>row of dataframe 196",
          "birth 0.900990099009901<br>death 0.9603960396039604<br>homology dimension 2<br>row of dataframe 196",
          "birth 0.900990099009901<br>death 0.9801980198019802<br>homology dimension 2<br>row of dataframe 199",
          "birth 0.900990099009901<br>death 0.9801980198019802<br>homology dimension 2<br>row of dataframe 199",
          "birth 0.900990099009901<br>death 0.9801980198019802<br>homology dimension 2<br>row of dataframe 199",
          "birth 0.9108910891089109<br>death 0.9306930693069307<br>homology dimension 2<br>row of dataframe 195",
          "birth 0.9108910891089109<br>death 0.9306930693069307<br>homology dimension 2<br>row of dataframe 195",
          "birth 0.9108910891089109<br>death 0.9306930693069307<br>homology dimension 2<br>row of dataframe 195",
          "birth 0.9207920792079208<br>death 0.9504950495049505<br>homology dimension 2<br>row of dataframe 193",
          "birth 0.9207920792079208<br>death 0.9504950495049505<br>homology dimension 2<br>row of dataframe 193",
          "birth 0.9207920792079208<br>death 0.9504950495049505<br>homology dimension 2<br>row of dataframe 193",
          "birth 0.9207920792079208<br>death 0.9504950495049505<br>homology dimension 2<br>row of dataframe 194",
          "birth 0.9207920792079208<br>death 0.9504950495049505<br>homology dimension 2<br>row of dataframe 194",
          "birth 0.9207920792079208<br>death 0.9504950495049505<br>homology dimension 2<br>row of dataframe 194",
          "birth 0.9306930693069307<br>death 0.9504950495049505<br>homology dimension 2<br>row of dataframe 192",
          "birth 0.9306930693069307<br>death 0.9504950495049505<br>homology dimension 2<br>row of dataframe 192",
          "birth 0.9306930693069307<br>death 0.9504950495049505<br>homology dimension 2<br>row of dataframe 192",
          "birth 0.9504950495049505<br>death 0.9603960396039604<br>homology dimension 2<br>row of dataframe 191",
          "birth 0.9504950495049505<br>death 0.9603960396039604<br>homology dimension 2<br>row of dataframe 191",
          "birth 0.9504950495049505<br>death 0.9603960396039604<br>homology dimension 2<br>row of dataframe 191",
          "birth 0.9504950495049505<br>death 0.9702970297029703<br>homology dimension 2<br>row of dataframe 190",
          "birth 0.9504950495049505<br>death 0.9702970297029703<br>homology dimension 2<br>row of dataframe 190",
          "birth 0.9504950495049505<br>death 0.9702970297029703<br>homology dimension 2<br>row of dataframe 190",
          "birth 0.9603960396039604<br>death 0.9801980198019802<br>homology dimension 2<br>row of dataframe 189",
          "birth 0.9603960396039604<br>death 0.9801980198019802<br>homology dimension 2<br>row of dataframe 189",
          "birth 0.9603960396039604<br>death 0.9801980198019802<br>homology dimension 2<br>row of dataframe 189",
          "birth 0.9801980198019802<br>death 0.9900990099009901<br>homology dimension 2<br>row of dataframe 188",
          "birth 0.9801980198019802<br>death 0.9900990099009901<br>homology dimension 2<br>row of dataframe 188",
          "birth 0.9801980198019802<br>death 0.9900990099009901<br>homology dimension 2<br>row of dataframe 188"
         ],
         "line": {
          "color": "#00CC96"
         },
         "mode": "lines",
         "name": "Dim 2",
         "type": "scatter",
         "x": [
          0.5247524752475248,
          0.6732673267326733,
          null,
          0.5247524752475248,
          0.693069306930693,
          null,
          0.5841584158415841,
          0.6732673267326733,
          null,
          0.6039603960396039,
          0.6435643564356436,
          null,
          0.6039603960396039,
          0.7722772277227723,
          null,
          0.6138613861386139,
          0.6237623762376238,
          null,
          0.6138613861386139,
          0.6831683168316832,
          null,
          0.6237623762376238,
          0.6732673267326733,
          null,
          0.6237623762376238,
          0.6732673267326733,
          null,
          0.6237623762376238,
          0.7128712871287128,
          null,
          0.6336633663366337,
          0.693069306930693,
          null,
          0.6435643564356436,
          0.7524752475247525,
          null,
          0.6534653465346535,
          0.7029702970297029,
          null,
          0.6633663366336634,
          0.6732673267326733,
          null,
          0.6633663366336634,
          0.6831683168316832,
          null,
          0.6633663366336634,
          0.6831683168316832,
          null,
          0.6633663366336634,
          0.693069306930693,
          null,
          0.6633663366336634,
          0.7128712871287128,
          null,
          0.6633663366336634,
          0.7227722772277227,
          null,
          0.6633663366336634,
          0.7425742574257426,
          null,
          0.6633663366336634,
          0.7524752475247525,
          null,
          0.6633663366336634,
          0.7623762376237624,
          null,
          0.6633663366336634,
          0.7722772277227723,
          null,
          0.6633663366336634,
          0.8118811881188119,
          null,
          0.6633663366336634,
          0.8118811881188119,
          null,
          0.6732673267326733,
          0.6831683168316832,
          null,
          0.6732673267326733,
          0.7128712871287128,
          null,
          0.6732673267326733,
          0.7128712871287128,
          null,
          0.6732673267326733,
          0.7227722772277227,
          null,
          0.6732673267326733,
          0.7425742574257426,
          null,
          0.6831683168316832,
          0.693069306930693,
          null,
          0.6831683168316832,
          0.7029702970297029,
          null,
          0.6831683168316832,
          0.7029702970297029,
          null,
          0.6831683168316832,
          0.7128712871287128,
          null,
          0.6831683168316832,
          0.7326732673267327,
          null,
          0.6831683168316832,
          0.7326732673267327,
          null,
          0.6831683168316832,
          0.7425742574257426,
          null,
          0.6831683168316832,
          0.7425742574257426,
          null,
          0.6831683168316832,
          0.7425742574257426,
          null,
          0.6831683168316832,
          0.7623762376237624,
          null,
          0.6831683168316832,
          0.7623762376237624,
          null,
          0.693069306930693,
          0.7128712871287128,
          null,
          0.693069306930693,
          0.7128712871287128,
          null,
          0.693069306930693,
          0.7425742574257426,
          null,
          0.693069306930693,
          0.7425742574257426,
          null,
          0.7029702970297029,
          0.7227722772277227,
          null,
          0.7029702970297029,
          0.7425742574257426,
          null,
          0.7029702970297029,
          0.7425742574257426,
          null,
          0.7029702970297029,
          0.7425742574257426,
          null,
          0.7029702970297029,
          0.7524752475247525,
          null,
          0.7029702970297029,
          0.7821782178217822,
          null,
          0.7029702970297029,
          0.7821782178217822,
          null,
          0.7029702970297029,
          0.8118811881188119,
          null,
          0.7128712871287128,
          0.7227722772277227,
          null,
          0.7128712871287128,
          0.7524752475247525,
          null,
          0.7128712871287128,
          0.7920792079207921,
          null,
          0.7128712871287128,
          0.801980198019802,
          null,
          0.7128712871287128,
          0.8613861386138614,
          null,
          0.7128712871287128,
          0.8613861386138614,
          null,
          0.7227722772277227,
          0.7326732673267327,
          null,
          0.7227722772277227,
          0.7425742574257426,
          null,
          0.7227722772277227,
          0.7524752475247525,
          null,
          0.7227722772277227,
          0.7524752475247525,
          null,
          0.7227722772277227,
          0.7821782178217822,
          null,
          0.7227722772277227,
          0.7821782178217822,
          null,
          0.7227722772277227,
          0.801980198019802,
          null,
          0.7227722772277227,
          0.8118811881188119,
          null,
          0.7227722772277227,
          0.8118811881188119,
          null,
          0.7326732673267327,
          0.7425742574257426,
          null,
          0.7326732673267327,
          0.7425742574257426,
          null,
          0.7326732673267327,
          0.7524752475247525,
          null,
          0.7326732673267327,
          0.7524752475247525,
          null,
          0.7326732673267327,
          0.7524752475247525,
          null,
          0.7326732673267327,
          0.7623762376237624,
          null,
          0.7326732673267327,
          0.7623762376237624,
          null,
          0.7326732673267327,
          0.7722772277227723,
          null,
          0.7326732673267327,
          0.7722772277227723,
          null,
          0.7326732673267327,
          0.8118811881188119,
          null,
          0.7425742574257426,
          0.7722772277227723,
          null,
          0.7425742574257426,
          0.7722772277227723,
          null,
          0.7425742574257426,
          0.8217821782178217,
          null,
          0.7425742574257426,
          0.8415841584158416,
          null,
          0.7524752475247525,
          0.7623762376237624,
          null,
          0.7524752475247525,
          0.7722772277227723,
          null,
          0.7524752475247525,
          0.7821782178217822,
          null,
          0.7524752475247525,
          0.7920792079207921,
          null,
          0.7524752475247525,
          0.801980198019802,
          null,
          0.7524752475247525,
          0.8217821782178217,
          null,
          0.7524752475247525,
          0.9306930693069307,
          null,
          0.7623762376237624,
          0.7722772277227723,
          null,
          0.7623762376237624,
          0.7920792079207921,
          null,
          0.7623762376237624,
          0.8118811881188119,
          null,
          0.7722772277227723,
          0.7821782178217822,
          null,
          0.7722772277227723,
          0.7821782178217822,
          null,
          0.7722772277227723,
          0.7821782178217822,
          null,
          0.7722772277227723,
          0.7920792079207921,
          null,
          0.7722772277227723,
          0.8118811881188119,
          null,
          0.7722772277227723,
          0.8217821782178217,
          null,
          0.7722772277227723,
          0.8217821782178217,
          null,
          0.7722772277227723,
          0.8217821782178217,
          null,
          0.7722772277227723,
          0.8217821782178217,
          null,
          0.7722772277227723,
          0.8514851485148515,
          null,
          0.7821782178217822,
          0.801980198019802,
          null,
          0.7821782178217822,
          0.8118811881188119,
          null,
          0.7821782178217822,
          0.8118811881188119,
          null,
          0.7920792079207921,
          0.801980198019802,
          null,
          0.7920792079207921,
          0.801980198019802,
          null,
          0.7920792079207921,
          0.801980198019802,
          null,
          0.7920792079207921,
          0.8316831683168316,
          null,
          0.7920792079207921,
          0.8712871287128713,
          null,
          0.801980198019802,
          0.8118811881188119,
          null,
          0.801980198019802,
          0.8217821782178217,
          null,
          0.801980198019802,
          0.8217821782178217,
          null,
          0.8118811881188119,
          0.8217821782178217,
          null,
          0.8118811881188119,
          0.8316831683168316,
          null,
          0.8118811881188119,
          0.8316831683168316,
          null,
          0.8118811881188119,
          0.8514851485148515,
          null,
          0.8118811881188119,
          0.8712871287128713,
          null,
          0.8217821782178217,
          0.8316831683168316,
          null,
          0.8217821782178217,
          0.8316831683168316,
          null,
          0.8217821782178217,
          0.8316831683168316,
          null,
          0.8217821782178217,
          0.8613861386138614,
          null,
          0.8217821782178217,
          0.8811881188118812,
          null,
          0.8316831683168316,
          0.8514851485148515,
          null,
          0.8316831683168316,
          0.8613861386138614,
          null,
          0.8316831683168316,
          0.8811881188118812,
          null,
          0.8316831683168316,
          0.900990099009901,
          null,
          0.8316831683168316,
          0.9108910891089109,
          null,
          0.8316831683168316,
          0.9108910891089109,
          null,
          0.8514851485148515,
          0.8613861386138614,
          null,
          0.8514851485148515,
          0.900990099009901,
          null,
          0.8613861386138614,
          0.8811881188118812,
          null,
          0.8613861386138614,
          0.8910891089108911,
          null,
          0.8613861386138614,
          0.900990099009901,
          null,
          0.8613861386138614,
          0.9306930693069307,
          null,
          0.8712871287128713,
          0.8811881188118812,
          null,
          0.8712871287128713,
          0.8910891089108911,
          null,
          0.8712871287128713,
          0.900990099009901,
          null,
          0.8712871287128713,
          0.9108910891089109,
          null,
          0.8712871287128713,
          0.9801980198019802,
          null,
          0.8811881188118812,
          0.8910891089108911,
          null,
          0.8811881188118812,
          0.8910891089108911,
          null,
          0.8811881188118812,
          0.8910891089108911,
          null,
          0.8811881188118812,
          0.900990099009901,
          null,
          0.8811881188118812,
          0.900990099009901,
          null,
          0.8910891089108911,
          0.900990099009901,
          null,
          0.8910891089108911,
          0.9108910891089109,
          null,
          0.8910891089108911,
          0.9108910891089109,
          null,
          0.8910891089108911,
          0.9108910891089109,
          null,
          0.8910891089108911,
          0.9108910891089109,
          null,
          0.8910891089108911,
          0.9306930693069307,
          null,
          0.900990099009901,
          0.9108910891089109,
          null,
          0.900990099009901,
          0.9108910891089109,
          null,
          0.900990099009901,
          0.9207920792079208,
          null,
          0.900990099009901,
          0.9603960396039604,
          null,
          0.900990099009901,
          0.9801980198019802,
          null,
          0.9108910891089109,
          0.9306930693069307,
          null,
          0.9207920792079208,
          0.9504950495049505,
          null,
          0.9207920792079208,
          0.9504950495049505,
          null,
          0.9306930693069307,
          0.9504950495049505,
          null,
          0.9504950495049505,
          0.9603960396039604,
          null,
          0.9504950495049505,
          0.9702970297029703,
          null,
          0.9603960396039604,
          0.9801980198019802,
          null,
          0.9801980198019802,
          0.9900990099009901,
          null
         ],
         "y": [
          188,
          188,
          null,
          189,
          189,
          null,
          190,
          190,
          null,
          191,
          191,
          null,
          192,
          192,
          null,
          193,
          193,
          null,
          194,
          194,
          null,
          195,
          195,
          null,
          196,
          196,
          null,
          197,
          197,
          null,
          198,
          198,
          null,
          199,
          199,
          null,
          200,
          200,
          null,
          201,
          201,
          null,
          202,
          202,
          null,
          203,
          203,
          null,
          204,
          204,
          null,
          205,
          205,
          null,
          206,
          206,
          null,
          207,
          207,
          null,
          208,
          208,
          null,
          209,
          209,
          null,
          210,
          210,
          null,
          211,
          211,
          null,
          212,
          212,
          null,
          213,
          213,
          null,
          214,
          214,
          null,
          215,
          215,
          null,
          216,
          216,
          null,
          217,
          217,
          null,
          218,
          218,
          null,
          219,
          219,
          null,
          220,
          220,
          null,
          221,
          221,
          null,
          222,
          222,
          null,
          223,
          223,
          null,
          224,
          224,
          null,
          225,
          225,
          null,
          226,
          226,
          null,
          227,
          227,
          null,
          228,
          228,
          null,
          229,
          229,
          null,
          230,
          230,
          null,
          231,
          231,
          null,
          232,
          232,
          null,
          233,
          233,
          null,
          234,
          234,
          null,
          235,
          235,
          null,
          236,
          236,
          null,
          237,
          237,
          null,
          238,
          238,
          null,
          239,
          239,
          null,
          240,
          240,
          null,
          241,
          241,
          null,
          242,
          242,
          null,
          243,
          243,
          null,
          244,
          244,
          null,
          245,
          245,
          null,
          246,
          246,
          null,
          247,
          247,
          null,
          248,
          248,
          null,
          249,
          249,
          null,
          250,
          250,
          null,
          251,
          251,
          null,
          252,
          252,
          null,
          253,
          253,
          null,
          254,
          254,
          null,
          255,
          255,
          null,
          256,
          256,
          null,
          257,
          257,
          null,
          258,
          258,
          null,
          259,
          259,
          null,
          260,
          260,
          null,
          261,
          261,
          null,
          262,
          262,
          null,
          263,
          263,
          null,
          264,
          264,
          null,
          265,
          265,
          null,
          266,
          266,
          null,
          267,
          267,
          null,
          268,
          268,
          null,
          269,
          269,
          null,
          270,
          270,
          null,
          271,
          271,
          null,
          272,
          272,
          null,
          273,
          273,
          null,
          274,
          274,
          null,
          275,
          275,
          null,
          276,
          276,
          null,
          277,
          277,
          null,
          278,
          278,
          null,
          279,
          279,
          null,
          280,
          280,
          null,
          281,
          281,
          null,
          282,
          282,
          null,
          283,
          283,
          null,
          284,
          284,
          null,
          285,
          285,
          null,
          286,
          286,
          null,
          287,
          287,
          null,
          288,
          288,
          null,
          289,
          289,
          null,
          290,
          290,
          null,
          291,
          291,
          null,
          292,
          292,
          null,
          293,
          293,
          null,
          294,
          294,
          null,
          295,
          295,
          null,
          296,
          296,
          null,
          297,
          297,
          null,
          298,
          298,
          null,
          299,
          299,
          null,
          300,
          300,
          null,
          301,
          301,
          null,
          302,
          302,
          null,
          303,
          303,
          null,
          304,
          304,
          null,
          305,
          305,
          null,
          306,
          306,
          null,
          307,
          307,
          null,
          308,
          308,
          null,
          309,
          309,
          null,
          310,
          310,
          null,
          311,
          311,
          null,
          312,
          312,
          null,
          313,
          313,
          null,
          314,
          314,
          null,
          315,
          315,
          null,
          316,
          316,
          null,
          317,
          317,
          null,
          318,
          318,
          null,
          319,
          319,
          null,
          320,
          320,
          null,
          321,
          321,
          null,
          322,
          322,
          null,
          323,
          323,
          null,
          324,
          324,
          null,
          325,
          325,
          null,
          326,
          326,
          null,
          327,
          327,
          null,
          328,
          328,
          null,
          329,
          329,
          null,
          330,
          330,
          null,
          331,
          331,
          null,
          332,
          332,
          null,
          333,
          333,
          null,
          334,
          334,
          null,
          335,
          335,
          null,
          336,
          336,
          null,
          337,
          337,
          null,
          338,
          338,
          null,
          339,
          339,
          null,
          340,
          340,
          null,
          341,
          341,
          null,
          342,
          342,
          null,
          343,
          343,
          null,
          344,
          344,
          null,
          345,
          345,
          null,
          346,
          346,
          null,
          347,
          347,
          null,
          348,
          348,
          null,
          349,
          349,
          null,
          350,
          350,
          null,
          351,
          351,
          null
         ]
        }
       ],
       "layout": {
        "height": 500,
        "margin": {
         "b": 20,
         "l": 20,
         "r": 20,
         "t": 20
        },
        "shapes": [
         {
          "line": {
           "dash": "dot"
          },
          "type": "line",
          "x0": 1.0891089108910892,
          "x1": 1.0891089108910892,
          "xref": "x",
          "y0": 0,
          "y1": 1,
          "yref": "y domain"
         }
        ],
        "template": {
         "data": {
          "bar": [
           {
            "error_x": {
             "color": "#2a3f5f"
            },
            "error_y": {
             "color": "#2a3f5f"
            },
            "marker": {
             "line": {
              "color": "#E5ECF6",
              "width": 0.5
             },
             "pattern": {
              "fillmode": "overlay",
              "size": 10,
              "solidity": 0.2
             }
            },
            "type": "bar"
           }
          ],
          "barpolar": [
           {
            "marker": {
             "line": {
              "color": "#E5ECF6",
              "width": 0.5
             },
             "pattern": {
              "fillmode": "overlay",
              "size": 10,
              "solidity": 0.2
             }
            },
            "type": "barpolar"
           }
          ],
          "carpet": [
           {
            "aaxis": {
             "endlinecolor": "#2a3f5f",
             "gridcolor": "white",
             "linecolor": "white",
             "minorgridcolor": "white",
             "startlinecolor": "#2a3f5f"
            },
            "baxis": {
             "endlinecolor": "#2a3f5f",
             "gridcolor": "white",
             "linecolor": "white",
             "minorgridcolor": "white",
             "startlinecolor": "#2a3f5f"
            },
            "type": "carpet"
           }
          ],
          "choropleth": [
           {
            "colorbar": {
             "outlinewidth": 0,
             "ticks": ""
            },
            "type": "choropleth"
           }
          ],
          "contour": [
           {
            "colorbar": {
             "outlinewidth": 0,
             "ticks": ""
            },
            "colorscale": [
             [
              0,
              "#0d0887"
             ],
             [
              0.1111111111111111,
              "#46039f"
             ],
             [
              0.2222222222222222,
              "#7201a8"
             ],
             [
              0.3333333333333333,
              "#9c179e"
             ],
             [
              0.4444444444444444,
              "#bd3786"
             ],
             [
              0.5555555555555556,
              "#d8576b"
             ],
             [
              0.6666666666666666,
              "#ed7953"
             ],
             [
              0.7777777777777778,
              "#fb9f3a"
             ],
             [
              0.8888888888888888,
              "#fdca26"
             ],
             [
              1,
              "#f0f921"
             ]
            ],
            "type": "contour"
           }
          ],
          "contourcarpet": [
           {
            "colorbar": {
             "outlinewidth": 0,
             "ticks": ""
            },
            "type": "contourcarpet"
           }
          ],
          "heatmap": [
           {
            "colorbar": {
             "outlinewidth": 0,
             "ticks": ""
            },
            "colorscale": [
             [
              0,
              "#0d0887"
             ],
             [
              0.1111111111111111,
              "#46039f"
             ],
             [
              0.2222222222222222,
              "#7201a8"
             ],
             [
              0.3333333333333333,
              "#9c179e"
             ],
             [
              0.4444444444444444,
              "#bd3786"
             ],
             [
              0.5555555555555556,
              "#d8576b"
             ],
             [
              0.6666666666666666,
              "#ed7953"
             ],
             [
              0.7777777777777778,
              "#fb9f3a"
             ],
             [
              0.8888888888888888,
              "#fdca26"
             ],
             [
              1,
              "#f0f921"
             ]
            ],
            "type": "heatmap"
           }
          ],
          "heatmapgl": [
           {
            "colorbar": {
             "outlinewidth": 0,
             "ticks": ""
            },
            "colorscale": [
             [
              0,
              "#0d0887"
             ],
             [
              0.1111111111111111,
              "#46039f"
             ],
             [
              0.2222222222222222,
              "#7201a8"
             ],
             [
              0.3333333333333333,
              "#9c179e"
             ],
             [
              0.4444444444444444,
              "#bd3786"
             ],
             [
              0.5555555555555556,
              "#d8576b"
             ],
             [
              0.6666666666666666,
              "#ed7953"
             ],
             [
              0.7777777777777778,
              "#fb9f3a"
             ],
             [
              0.8888888888888888,
              "#fdca26"
             ],
             [
              1,
              "#f0f921"
             ]
            ],
            "type": "heatmapgl"
           }
          ],
          "histogram": [
           {
            "marker": {
             "pattern": {
              "fillmode": "overlay",
              "size": 10,
              "solidity": 0.2
             }
            },
            "type": "histogram"
           }
          ],
          "histogram2d": [
           {
            "colorbar": {
             "outlinewidth": 0,
             "ticks": ""
            },
            "colorscale": [
             [
              0,
              "#0d0887"
             ],
             [
              0.1111111111111111,
              "#46039f"
             ],
             [
              0.2222222222222222,
              "#7201a8"
             ],
             [
              0.3333333333333333,
              "#9c179e"
             ],
             [
              0.4444444444444444,
              "#bd3786"
             ],
             [
              0.5555555555555556,
              "#d8576b"
             ],
             [
              0.6666666666666666,
              "#ed7953"
             ],
             [
              0.7777777777777778,
              "#fb9f3a"
             ],
             [
              0.8888888888888888,
              "#fdca26"
             ],
             [
              1,
              "#f0f921"
             ]
            ],
            "type": "histogram2d"
           }
          ],
          "histogram2dcontour": [
           {
            "colorbar": {
             "outlinewidth": 0,
             "ticks": ""
            },
            "colorscale": [
             [
              0,
              "#0d0887"
             ],
             [
              0.1111111111111111,
              "#46039f"
             ],
             [
              0.2222222222222222,
              "#7201a8"
             ],
             [
              0.3333333333333333,
              "#9c179e"
             ],
             [
              0.4444444444444444,
              "#bd3786"
             ],
             [
              0.5555555555555556,
              "#d8576b"
             ],
             [
              0.6666666666666666,
              "#ed7953"
             ],
             [
              0.7777777777777778,
              "#fb9f3a"
             ],
             [
              0.8888888888888888,
              "#fdca26"
             ],
             [
              1,
              "#f0f921"
             ]
            ],
            "type": "histogram2dcontour"
           }
          ],
          "mesh3d": [
           {
            "colorbar": {
             "outlinewidth": 0,
             "ticks": ""
            },
            "type": "mesh3d"
           }
          ],
          "parcoords": [
           {
            "line": {
             "colorbar": {
              "outlinewidth": 0,
              "ticks": ""
             }
            },
            "type": "parcoords"
           }
          ],
          "pie": [
           {
            "automargin": true,
            "type": "pie"
           }
          ],
          "scatter": [
           {
            "fillpattern": {
             "fillmode": "overlay",
             "size": 10,
             "solidity": 0.2
            },
            "type": "scatter"
           }
          ],
          "scatter3d": [
           {
            "line": {
             "colorbar": {
              "outlinewidth": 0,
              "ticks": ""
             }
            },
            "marker": {
             "colorbar": {
              "outlinewidth": 0,
              "ticks": ""
             }
            },
            "type": "scatter3d"
           }
          ],
          "scattercarpet": [
           {
            "marker": {
             "colorbar": {
              "outlinewidth": 0,
              "ticks": ""
             }
            },
            "type": "scattercarpet"
           }
          ],
          "scattergeo": [
           {
            "marker": {
             "colorbar": {
              "outlinewidth": 0,
              "ticks": ""
             }
            },
            "type": "scattergeo"
           }
          ],
          "scattergl": [
           {
            "marker": {
             "colorbar": {
              "outlinewidth": 0,
              "ticks": ""
             }
            },
            "type": "scattergl"
           }
          ],
          "scattermapbox": [
           {
            "marker": {
             "colorbar": {
              "outlinewidth": 0,
              "ticks": ""
             }
            },
            "type": "scattermapbox"
           }
          ],
          "scatterpolar": [
           {
            "marker": {
             "colorbar": {
              "outlinewidth": 0,
              "ticks": ""
             }
            },
            "type": "scatterpolar"
           }
          ],
          "scatterpolargl": [
           {
            "marker": {
             "colorbar": {
              "outlinewidth": 0,
              "ticks": ""
             }
            },
            "type": "scatterpolargl"
           }
          ],
          "scatterternary": [
           {
            "marker": {
             "colorbar": {
              "outlinewidth": 0,
              "ticks": ""
             }
            },
            "type": "scatterternary"
           }
          ],
          "surface": [
           {
            "colorbar": {
             "outlinewidth": 0,
             "ticks": ""
            },
            "colorscale": [
             [
              0,
              "#0d0887"
             ],
             [
              0.1111111111111111,
              "#46039f"
             ],
             [
              0.2222222222222222,
              "#7201a8"
             ],
             [
              0.3333333333333333,
              "#9c179e"
             ],
             [
              0.4444444444444444,
              "#bd3786"
             ],
             [
              0.5555555555555556,
              "#d8576b"
             ],
             [
              0.6666666666666666,
              "#ed7953"
             ],
             [
              0.7777777777777778,
              "#fb9f3a"
             ],
             [
              0.8888888888888888,
              "#fdca26"
             ],
             [
              1,
              "#f0f921"
             ]
            ],
            "type": "surface"
           }
          ],
          "table": [
           {
            "cells": {
             "fill": {
              "color": "#EBF0F8"
             },
             "line": {
              "color": "white"
             }
            },
            "header": {
             "fill": {
              "color": "#C8D4E3"
             },
             "line": {
              "color": "white"
             }
            },
            "type": "table"
           }
          ]
         },
         "layout": {
          "annotationdefaults": {
           "arrowcolor": "#2a3f5f",
           "arrowhead": 0,
           "arrowwidth": 1
          },
          "autotypenumbers": "strict",
          "coloraxis": {
           "colorbar": {
            "outlinewidth": 0,
            "ticks": ""
           }
          },
          "colorscale": {
           "diverging": [
            [
             0,
             "#8e0152"
            ],
            [
             0.1,
             "#c51b7d"
            ],
            [
             0.2,
             "#de77ae"
            ],
            [
             0.3,
             "#f1b6da"
            ],
            [
             0.4,
             "#fde0ef"
            ],
            [
             0.5,
             "#f7f7f7"
            ],
            [
             0.6,
             "#e6f5d0"
            ],
            [
             0.7,
             "#b8e186"
            ],
            [
             0.8,
             "#7fbc41"
            ],
            [
             0.9,
             "#4d9221"
            ],
            [
             1,
             "#276419"
            ]
           ],
           "sequential": [
            [
             0,
             "#0d0887"
            ],
            [
             0.1111111111111111,
             "#46039f"
            ],
            [
             0.2222222222222222,
             "#7201a8"
            ],
            [
             0.3333333333333333,
             "#9c179e"
            ],
            [
             0.4444444444444444,
             "#bd3786"
            ],
            [
             0.5555555555555556,
             "#d8576b"
            ],
            [
             0.6666666666666666,
             "#ed7953"
            ],
            [
             0.7777777777777778,
             "#fb9f3a"
            ],
            [
             0.8888888888888888,
             "#fdca26"
            ],
            [
             1,
             "#f0f921"
            ]
           ],
           "sequentialminus": [
            [
             0,
             "#0d0887"
            ],
            [
             0.1111111111111111,
             "#46039f"
            ],
            [
             0.2222222222222222,
             "#7201a8"
            ],
            [
             0.3333333333333333,
             "#9c179e"
            ],
            [
             0.4444444444444444,
             "#bd3786"
            ],
            [
             0.5555555555555556,
             "#d8576b"
            ],
            [
             0.6666666666666666,
             "#ed7953"
            ],
            [
             0.7777777777777778,
             "#fb9f3a"
            ],
            [
             0.8888888888888888,
             "#fdca26"
            ],
            [
             1,
             "#f0f921"
            ]
           ]
          },
          "colorway": [
           "#636efa",
           "#EF553B",
           "#00cc96",
           "#ab63fa",
           "#FFA15A",
           "#19d3f3",
           "#FF6692",
           "#B6E880",
           "#FF97FF",
           "#FECB52"
          ],
          "font": {
           "color": "#2a3f5f"
          },
          "geo": {
           "bgcolor": "white",
           "lakecolor": "white",
           "landcolor": "#E5ECF6",
           "showlakes": true,
           "showland": true,
           "subunitcolor": "white"
          },
          "hoverlabel": {
           "align": "left"
          },
          "hovermode": "closest",
          "mapbox": {
           "style": "light"
          },
          "paper_bgcolor": "white",
          "plot_bgcolor": "#E5ECF6",
          "polar": {
           "angularaxis": {
            "gridcolor": "white",
            "linecolor": "white",
            "ticks": ""
           },
           "bgcolor": "#E5ECF6",
           "radialaxis": {
            "gridcolor": "white",
            "linecolor": "white",
            "ticks": ""
           }
          },
          "scene": {
           "xaxis": {
            "backgroundcolor": "#E5ECF6",
            "gridcolor": "white",
            "gridwidth": 2,
            "linecolor": "white",
            "showbackground": true,
            "ticks": "",
            "zerolinecolor": "white"
           },
           "yaxis": {
            "backgroundcolor": "#E5ECF6",
            "gridcolor": "white",
            "gridwidth": 2,
            "linecolor": "white",
            "showbackground": true,
            "ticks": "",
            "zerolinecolor": "white"
           },
           "zaxis": {
            "backgroundcolor": "#E5ECF6",
            "gridcolor": "white",
            "gridwidth": 2,
            "linecolor": "white",
            "showbackground": true,
            "ticks": "",
            "zerolinecolor": "white"
           }
          },
          "shapedefaults": {
           "line": {
            "color": "#2a3f5f"
           }
          },
          "ternary": {
           "aaxis": {
            "gridcolor": "white",
            "linecolor": "white",
            "ticks": ""
           },
           "baxis": {
            "gridcolor": "white",
            "linecolor": "white",
            "ticks": ""
           },
           "bgcolor": "#E5ECF6",
           "caxis": {
            "gridcolor": "white",
            "linecolor": "white",
            "ticks": ""
           }
          },
          "title": {
           "x": 0.05
          },
          "xaxis": {
           "automargin": true,
           "gridcolor": "white",
           "linecolor": "white",
           "ticks": "",
           "title": {
            "standoff": 15
           },
           "zerolinecolor": "white",
           "zerolinewidth": 2
          },
          "yaxis": {
           "automargin": true,
           "gridcolor": "white",
           "linecolor": "white",
           "ticks": "",
           "title": {
            "standoff": 15
           },
           "zerolinecolor": "white",
           "zerolinewidth": 2
          }
         }
        },
        "width": 1000,
        "xaxis": {
         "range": [
          -0.09900990099009901,
          1.188118811881188
         ]
        },
        "yaxis": {
         "range": [
          0,
          352
         ]
        }
       }
      }
     },
     "metadata": {},
     "output_type": "display_data"
    }
   ],
   "source": [
    "# Barcode diagram\n",
    "fig = oat.plot.barcode(homology_orig)\n",
    "fig.update_layout(\n",
    "        width=1000, \n",
    "        height=500,\n",
    "        margin=dict(l=20, r=20, t=20, b=20)\n",
    "    )\n",
    "fig.show()"
   ]
  },
  {
   "cell_type": "markdown",
   "metadata": {},
   "source": [
    "#### Shuffled Network\n",
    "Shuffle the edge weights and, again, calculate homology."
   ]
  },
  {
   "cell_type": "code",
   "execution_count": null,
   "metadata": {},
   "outputs": [],
   "source": [
    "# create the network\n",
    "G_shuffled = rc.shuffle_edge_weights(G_orig, seed=10)\n",
    "adj_shuffled = mn.adj_matrix(G_shuffled, 'norm_year', True, 0.)"
   ]
  },
  {
   "cell_type": "code",
   "execution_count": null,
   "metadata": {},
   "outputs": [
    {
     "data": {
      "text/plain": [
       "'Homology calculation took 7.060974836349487 secs'"
      ]
     },
     "execution_count": 9,
     "metadata": {},
     "output_type": "execute_result"
    }
   ],
   "source": [
    "# homology calculation\n",
    "start = time()\n",
    "\n",
    "# setup the problem\n",
    "factored_shuffled = oat.rust.FactoredBoundaryMatrixVr( # two functions that do this, idk what the other one is\n",
    "        dissimilarity_matrix=adj_shuffled,\n",
    "        homology_dimension_max=2\n",
    "    )\n",
    "\n",
    "# solve homology\n",
    "homology_shuffled = factored_orig.homology( # solve homology\n",
    "        return_cycle_representatives=True, # These need to be true to be able to make a barcode, makes the problem take ~30% longer (1:30ish)\n",
    "        return_bounding_chains=True\n",
    "    )\n",
    "\n",
    "f'Homology calculation took {time() - start} secs'"
   ]
  },
  {
   "cell_type": "code",
   "execution_count": null,
   "metadata": {},
   "outputs": [
    {
     "data": {
      "application/vnd.plotly.v1+json": {
       "config": {
        "plotlyServerURL": "https://plot.ly"
       },
       "data": [
        {
         "line": {
          "color": "black"
         },
         "mode": "lines",
         "showlegend": false,
         "type": "scatter",
         "x": [
          0,
          1.1782178217821782
         ],
         "y": [
          0,
          1.1782178217821782
         ]
        },
        {
         "legendgroup": "0",
         "marker": {
          "color": "#636EFA"
         },
         "mode": "markers",
         "name": "Dimension 0",
         "showlegend": true,
         "text": [
          "birth filtration = 0.9108910891089109<br>death filtration = 0.9603960396039604<br>interval length = 0.04950495049504944<br>birth simplex = [8]<br>cyle representative nnz = 2<br>bounding chain nnz = 6.0<br>row of dataframe = 0"
         ],
         "type": "scatter",
         "x": [
          0.9108910891089109
         ],
         "y": [
          0.9603960396039604
         ]
        },
        {
         "legendgroup": "0",
         "marker": {
          "color": "#636EFA"
         },
         "mode": "markers",
         "name": "Dimension 0",
         "showlegend": false,
         "text": [
          "birth filtration = 0.8316831683168316<br>death filtration = 0.8712871287128713<br>interval length = 0.03960396039603964<br>birth simplex = [101]<br>cyle representative nnz = 2<br>bounding chain nnz = 6.0<br>row of dataframe = 1"
         ],
         "type": "scatter",
         "x": [
          0.8316831683168316
         ],
         "y": [
          0.8712871287128713
         ]
        },
        {
         "legendgroup": "0",
         "marker": {
          "color": "#636EFA"
         },
         "mode": "markers",
         "name": "Dimension 0",
         "showlegend": false,
         "text": [
          "birth filtration = 0.8118811881188119<br>death filtration = 0.8316831683168316<br>interval length = 0.01980198019801971<br>birth simplex = [35]<br>cyle representative nnz = 2<br>bounding chain nnz = 13.0<br>row of dataframe = 2"
         ],
         "type": "scatter",
         "x": [
          0.8118811881188119
         ],
         "y": [
          0.8316831683168316
         ]
        },
        {
         "legendgroup": "0",
         "marker": {
          "color": "#636EFA"
         },
         "mode": "markers",
         "name": "Dimension 0",
         "showlegend": false,
         "text": [
          "birth filtration = 0.801980198019802<br>death filtration = 0.8316831683168316<br>interval length = 0.02970297029702962<br>birth simplex = [23]<br>cyle representative nnz = 2<br>bounding chain nnz = 14.0<br>row of dataframe = 3"
         ],
         "type": "scatter",
         "x": [
          0.801980198019802
         ],
         "y": [
          0.8316831683168316
         ]
        },
        {
         "legendgroup": "0",
         "marker": {
          "color": "#636EFA"
         },
         "mode": "markers",
         "name": "Dimension 0",
         "showlegend": false,
         "text": [
          "birth filtration = 0.7920792079207921<br>death filtration = 0.9207920792079208<br>interval length = 0.12871287128712872<br>birth simplex = [95]<br>cyle representative nnz = 2<br>bounding chain nnz = 4.0<br>row of dataframe = 4"
         ],
         "type": "scatter",
         "x": [
          0.7920792079207921
         ],
         "y": [
          0.9207920792079208
         ]
        },
        {
         "legendgroup": "0",
         "marker": {
          "color": "#636EFA"
         },
         "mode": "markers",
         "name": "Dimension 0",
         "showlegend": false,
         "text": [
          "birth filtration = 0.7920792079207921<br>death filtration = 0.8415841584158416<br>interval length = 0.04950495049504944<br>birth simplex = [64]<br>cyle representative nnz = 2<br>bounding chain nnz = 5.0<br>row of dataframe = 5"
         ],
         "type": "scatter",
         "x": [
          0.7920792079207921
         ],
         "y": [
          0.8415841584158416
         ]
        },
        {
         "legendgroup": "0",
         "marker": {
          "color": "#636EFA"
         },
         "mode": "markers",
         "name": "Dimension 0",
         "showlegend": false,
         "text": [
          "birth filtration = 0.7821782178217822<br>death filtration = 0.7920792079207921<br>interval length = 0.00990099009900991<br>birth simplex = [6]<br>cyle representative nnz = 2<br>bounding chain nnz = 13.0<br>row of dataframe = 6"
         ],
         "type": "scatter",
         "x": [
          0.7821782178217822
         ],
         "y": [
          0.7920792079207921
         ]
        },
        {
         "legendgroup": "0",
         "marker": {
          "color": "#636EFA"
         },
         "mode": "markers",
         "name": "Dimension 0",
         "showlegend": false,
         "text": [
          "birth filtration = 0.7623762376237624<br>death filtration = 0.8316831683168316<br>interval length = 0.06930693069306926<br>birth simplex = [49]<br>cyle representative nnz = 2<br>bounding chain nnz = 14.0<br>row of dataframe = 7"
         ],
         "type": "scatter",
         "x": [
          0.7623762376237624
         ],
         "y": [
          0.8316831683168316
         ]
        },
        {
         "legendgroup": "0",
         "marker": {
          "color": "#636EFA"
         },
         "mode": "markers",
         "name": "Dimension 0",
         "showlegend": false,
         "text": [
          "birth filtration = 0.7524752475247525<br>death filtration = 0.8316831683168316<br>interval length = 0.07920792079207917<br>birth simplex = [48]<br>cyle representative nnz = 2<br>bounding chain nnz = 7.0<br>row of dataframe = 8"
         ],
         "type": "scatter",
         "x": [
          0.7524752475247525
         ],
         "y": [
          0.8316831683168316
         ]
        },
        {
         "legendgroup": "0",
         "marker": {
          "color": "#636EFA"
         },
         "mode": "markers",
         "name": "Dimension 0",
         "showlegend": false,
         "text": [
          "birth filtration = 0.7326732673267327<br>death filtration = 0.8712871287128713<br>interval length = 0.13861386138613863<br>birth simplex = [87]<br>cyle representative nnz = 2<br>bounding chain nnz = 6.0<br>row of dataframe = 9"
         ],
         "type": "scatter",
         "x": [
          0.7326732673267327
         ],
         "y": [
          0.8712871287128713
         ]
        },
        {
         "legendgroup": "0",
         "marker": {
          "color": "#636EFA"
         },
         "mode": "markers",
         "name": "Dimension 0",
         "showlegend": false,
         "text": [
          "birth filtration = 0.7326732673267327<br>death filtration = 0.7920792079207921<br>interval length = 0.05940594059405946<br>birth simplex = [39]<br>cyle representative nnz = 2<br>bounding chain nnz = 5.0<br>row of dataframe = 10"
         ],
         "type": "scatter",
         "x": [
          0.7326732673267327
         ],
         "y": [
          0.7920792079207921
         ]
        },
        {
         "legendgroup": "0",
         "marker": {
          "color": "#636EFA"
         },
         "mode": "markers",
         "name": "Dimension 0",
         "showlegend": false,
         "text": [
          "birth filtration = 0.7029702970297029<br>death filtration = 0.7326732673267327<br>interval length = 0.02970297029702973<br>birth simplex = [7]<br>cyle representative nnz = 2<br>bounding chain nnz = 13.0<br>row of dataframe = 11"
         ],
         "type": "scatter",
         "x": [
          0.7029702970297029
         ],
         "y": [
          0.7326732673267327
         ]
        },
        {
         "legendgroup": "0",
         "marker": {
          "color": "#636EFA"
         },
         "mode": "markers",
         "name": "Dimension 0",
         "showlegend": false,
         "text": [
          "birth filtration = 0.6633663366336634<br>death filtration = 0.7128712871287128<br>interval length = 0.04950495049504944<br>birth simplex = [99]<br>cyle representative nnz = 2<br>bounding chain nnz = 6.0<br>row of dataframe = 12"
         ],
         "type": "scatter",
         "x": [
          0.6633663366336634
         ],
         "y": [
          0.7128712871287128
         ]
        },
        {
         "legendgroup": "0",
         "marker": {
          "color": "#636EFA"
         },
         "mode": "markers",
         "name": "Dimension 0",
         "showlegend": false,
         "text": [
          "birth filtration = 0.6435643564356436<br>death filtration = 0.7524752475247525<br>interval length = 0.1089108910891089<br>birth simplex = [1]<br>cyle representative nnz = 2<br>bounding chain nnz = 13.0<br>row of dataframe = 13"
         ],
         "type": "scatter",
         "x": [
          0.6435643564356436
         ],
         "y": [
          0.7524752475247525
         ]
        },
        {
         "legendgroup": "0",
         "marker": {
          "color": "#636EFA"
         },
         "mode": "markers",
         "name": "Dimension 0",
         "showlegend": false,
         "text": [
          "birth filtration = 0.6039603960396039<br>death filtration = 0.6435643564356436<br>interval length = 0.03960396039603964<br>birth simplex = [29]<br>cyle representative nnz = 2<br>bounding chain nnz = 5.0<br>row of dataframe = 14"
         ],
         "type": "scatter",
         "x": [
          0.6039603960396039
         ],
         "y": [
          0.6435643564356436
         ]
        },
        {
         "legendgroup": "0",
         "marker": {
          "color": "#636EFA"
         },
         "mode": "markers",
         "name": "Dimension 0",
         "showlegend": false,
         "text": [
          "birth filtration = 0.594059405940594<br>death filtration = 0.7029702970297029<br>interval length = 0.1089108910891089<br>birth simplex = [19]<br>cyle representative nnz = 2<br>bounding chain nnz = 2.0<br>row of dataframe = 15"
         ],
         "type": "scatter",
         "x": [
          0.594059405940594
         ],
         "y": [
          0.7029702970297029
         ]
        },
        {
         "legendgroup": "0",
         "marker": {
          "color": "#636EFA"
         },
         "mode": "markers",
         "name": "Dimension 0",
         "showlegend": false,
         "text": [
          "birth filtration = 0.5742574257425742<br>death filtration = 0.6633663366336634<br>interval length = 0.08910891089108919<br>birth simplex = [58]<br>cyle representative nnz = 2<br>bounding chain nnz = 4.0<br>row of dataframe = 16"
         ],
         "type": "scatter",
         "x": [
          0.5742574257425742
         ],
         "y": [
          0.6633663366336634
         ]
        },
        {
         "legendgroup": "0",
         "marker": {
          "color": "#636EFA"
         },
         "mode": "markers",
         "name": "Dimension 0",
         "showlegend": false,
         "text": [
          "birth filtration = 0.5643564356435643<br>death filtration = 0.6138613861386139<br>interval length = 0.04950495049504955<br>birth simplex = [47]<br>cyle representative nnz = 2<br>bounding chain nnz = 5.0<br>row of dataframe = 17"
         ],
         "type": "scatter",
         "x": [
          0.5643564356435643
         ],
         "y": [
          0.6138613861386139
         ]
        },
        {
         "legendgroup": "0",
         "marker": {
          "color": "#636EFA"
         },
         "mode": "markers",
         "name": "Dimension 0",
         "showlegend": false,
         "text": [
          "birth filtration = 0.5544554455445545<br>death filtration = 0.6039603960396039<br>interval length = 0.04950495049504944<br>birth simplex = [65]<br>cyle representative nnz = 2<br>bounding chain nnz = 11.0<br>row of dataframe = 18"
         ],
         "type": "scatter",
         "x": [
          0.5544554455445545
         ],
         "y": [
          0.6039603960396039
         ]
        },
        {
         "legendgroup": "0",
         "marker": {
          "color": "#636EFA"
         },
         "mode": "markers",
         "name": "Dimension 0",
         "showlegend": false,
         "text": [
          "birth filtration = 0.5544554455445545<br>death filtration = 0.7326732673267327<br>interval length = 0.17821782178217815<br>birth simplex = [50]<br>cyle representative nnz = 2<br>bounding chain nnz = 14.0<br>row of dataframe = 19"
         ],
         "type": "scatter",
         "x": [
          0.5544554455445545
         ],
         "y": [
          0.7326732673267327
         ]
        },
        {
         "legendgroup": "0",
         "marker": {
          "color": "#636EFA"
         },
         "mode": "markers",
         "name": "Dimension 0",
         "showlegend": false,
         "text": [
          "birth filtration = 0.5445544554455446<br>death filtration = 0.7722772277227723<br>interval length = 0.2277227722772277<br>birth simplex = [91]<br>cyle representative nnz = 2<br>bounding chain nnz = 4.0<br>row of dataframe = 20"
         ],
         "type": "scatter",
         "x": [
          0.5445544554455446
         ],
         "y": [
          0.7722772277227723
         ]
        },
        {
         "legendgroup": "0",
         "marker": {
          "color": "#636EFA"
         },
         "mode": "markers",
         "name": "Dimension 0",
         "showlegend": false,
         "text": [
          "birth filtration = 0.5247524752475248<br>death filtration = 0.5742574257425742<br>interval length = 0.04950495049504944<br>birth simplex = [88]<br>cyle representative nnz = 2<br>bounding chain nnz = 6.0<br>row of dataframe = 21"
         ],
         "type": "scatter",
         "x": [
          0.5247524752475248
         ],
         "y": [
          0.5742574257425742
         ]
        },
        {
         "legendgroup": "0",
         "marker": {
          "color": "#636EFA"
         },
         "mode": "markers",
         "name": "Dimension 0",
         "showlegend": false,
         "text": [
          "birth filtration = 0.504950495049505<br>death filtration = 0.6039603960396039<br>interval length = 0.09900990099009899<br>birth simplex = [81]<br>cyle representative nnz = 2<br>bounding chain nnz = 11.0<br>row of dataframe = 22"
         ],
         "type": "scatter",
         "x": [
          0.504950495049505
         ],
         "y": [
          0.6039603960396039
         ]
        },
        {
         "legendgroup": "0",
         "marker": {
          "color": "#636EFA"
         },
         "mode": "markers",
         "name": "Dimension 0",
         "showlegend": false,
         "text": [
          "birth filtration = 0.504950495049505<br>death filtration = 0.5148514851485149<br>interval length = 0.00990099009900991<br>birth simplex = [68]<br>cyle representative nnz = 2<br>bounding chain nnz = 5.0<br>row of dataframe = 23"
         ],
         "type": "scatter",
         "x": [
          0.504950495049505
         ],
         "y": [
          0.5148514851485149
         ]
        },
        {
         "legendgroup": "0",
         "marker": {
          "color": "#636EFA"
         },
         "mode": "markers",
         "name": "Dimension 0",
         "showlegend": false,
         "text": [
          "birth filtration = 0.49504950495049505<br>death filtration = 0.594059405940594<br>interval length = 0.09900990099009899<br>birth simplex = [77]<br>cyle representative nnz = 2<br>bounding chain nnz = 11.0<br>row of dataframe = 24"
         ],
         "type": "scatter",
         "x": [
          0.49504950495049505
         ],
         "y": [
          0.594059405940594
         ]
        },
        {
         "legendgroup": "0",
         "marker": {
          "color": "#636EFA"
         },
         "mode": "markers",
         "name": "Dimension 0",
         "showlegend": false,
         "text": [
          "birth filtration = 0.48514851485148514<br>death filtration = 0.49504950495049505<br>interval length = 0.00990099009900991<br>birth simplex = [59]<br>cyle representative nnz = 2<br>bounding chain nnz = 1.0<br>row of dataframe = 25"
         ],
         "type": "scatter",
         "x": [
          0.48514851485148514
         ],
         "y": [
          0.49504950495049505
         ]
        },
        {
         "legendgroup": "0",
         "marker": {
          "color": "#636EFA"
         },
         "mode": "markers",
         "name": "Dimension 0",
         "showlegend": false,
         "text": [
          "birth filtration = 0.4752475247524752<br>death filtration = 0.49504950495049505<br>interval length = 0.01980198019801982<br>birth simplex = [83]<br>cyle representative nnz = 2<br>bounding chain nnz = 7.0<br>row of dataframe = 26"
         ],
         "type": "scatter",
         "x": [
          0.4752475247524752
         ],
         "y": [
          0.49504950495049505
         ]
        },
        {
         "legendgroup": "0",
         "marker": {
          "color": "#636EFA"
         },
         "mode": "markers",
         "name": "Dimension 0",
         "showlegend": false,
         "text": [
          "birth filtration = 0.4752475247524752<br>death filtration = 0.5445544554455446<br>interval length = 0.06930693069306937<br>birth simplex = [76]<br>cyle representative nnz = 2<br>bounding chain nnz = 5.0<br>row of dataframe = 27"
         ],
         "type": "scatter",
         "x": [
          0.4752475247524752
         ],
         "y": [
          0.5445544554455446
         ]
        },
        {
         "legendgroup": "0",
         "marker": {
          "color": "#636EFA"
         },
         "mode": "markers",
         "name": "Dimension 0",
         "showlegend": false,
         "text": [
          "birth filtration = 0.4752475247524752<br>death filtration = 0.504950495049505<br>interval length = 0.02970297029702973<br>birth simplex = [73]<br>cyle representative nnz = 2<br>bounding chain nnz = 4.0<br>row of dataframe = 28"
         ],
         "type": "scatter",
         "x": [
          0.4752475247524752
         ],
         "y": [
          0.504950495049505
         ]
        },
        {
         "legendgroup": "0",
         "marker": {
          "color": "#636EFA"
         },
         "mode": "markers",
         "name": "Dimension 0",
         "showlegend": false,
         "text": [
          "birth filtration = 0.46534653465346537<br>death filtration = 0.5148514851485149<br>interval length = 0.04950495049504949<br>birth simplex = [44]<br>cyle representative nnz = 2<br>bounding chain nnz = 6.0<br>row of dataframe = 29"
         ],
         "type": "scatter",
         "x": [
          0.46534653465346537
         ],
         "y": [
          0.5148514851485149
         ]
        },
        {
         "legendgroup": "0",
         "marker": {
          "color": "#636EFA"
         },
         "mode": "markers",
         "name": "Dimension 0",
         "showlegend": false,
         "text": [
          "birth filtration = 0.46534653465346537<br>death filtration = 0.504950495049505<br>interval length = 0.039603960396039584<br>birth simplex = [30]<br>cyle representative nnz = 2<br>bounding chain nnz = 3.0<br>row of dataframe = 30"
         ],
         "type": "scatter",
         "x": [
          0.46534653465346537
         ],
         "y": [
          0.504950495049505
         ]
        },
        {
         "legendgroup": "0",
         "marker": {
          "color": "#636EFA"
         },
         "mode": "markers",
         "name": "Dimension 0",
         "showlegend": false,
         "text": [
          "birth filtration = 0.45544554455445546<br>death filtration = 0.46534653465346537<br>interval length = 0.00990099009900991<br>birth simplex = [93]<br>cyle representative nnz = 2<br>bounding chain nnz = 3.0<br>row of dataframe = 31"
         ],
         "type": "scatter",
         "x": [
          0.45544554455445546
         ],
         "y": [
          0.46534653465346537
         ]
        },
        {
         "legendgroup": "0",
         "marker": {
          "color": "#636EFA"
         },
         "mode": "markers",
         "name": "Dimension 0",
         "showlegend": false,
         "text": [
          "birth filtration = 0.45544554455445546<br>death filtration = 0.46534653465346537<br>interval length = 0.00990099009900991<br>birth simplex = [42]<br>cyle representative nnz = 2<br>bounding chain nnz = 4.0<br>row of dataframe = 32"
         ],
         "type": "scatter",
         "x": [
          0.45544554455445546
         ],
         "y": [
          0.46534653465346537
         ]
        },
        {
         "legendgroup": "0",
         "marker": {
          "color": "#636EFA"
         },
         "mode": "markers",
         "name": "Dimension 0",
         "showlegend": false,
         "text": [
          "birth filtration = 0.45544554455445546<br>death filtration = 0.5148514851485149<br>interval length = 0.0594059405940594<br>birth simplex = [33]<br>cyle representative nnz = 2<br>bounding chain nnz = 9.0<br>row of dataframe = 33"
         ],
         "type": "scatter",
         "x": [
          0.45544554455445546
         ],
         "y": [
          0.5148514851485149
         ]
        },
        {
         "legendgroup": "0",
         "marker": {
          "color": "#636EFA"
         },
         "mode": "markers",
         "name": "Dimension 0",
         "showlegend": false,
         "text": [
          "birth filtration = 0.44554455445544555<br>death filtration = 0.5148514851485149<br>interval length = 0.06930693069306931<br>birth simplex = [84]<br>cyle representative nnz = 2<br>bounding chain nnz = 7.0<br>row of dataframe = 34"
         ],
         "type": "scatter",
         "x": [
          0.44554455445544555
         ],
         "y": [
          0.5148514851485149
         ]
        },
        {
         "legendgroup": "0",
         "marker": {
          "color": "#636EFA"
         },
         "mode": "markers",
         "name": "Dimension 0",
         "showlegend": false,
         "text": [
          "birth filtration = 0.43564356435643564<br>death filtration = 0.5148514851485149<br>interval length = 0.07920792079207922<br>birth simplex = [90]<br>cyle representative nnz = 2<br>bounding chain nnz = 8.0<br>row of dataframe = 35"
         ],
         "type": "scatter",
         "x": [
          0.43564356435643564
         ],
         "y": [
          0.5148514851485149
         ]
        },
        {
         "legendgroup": "0",
         "marker": {
          "color": "#636EFA"
         },
         "mode": "markers",
         "name": "Dimension 0",
         "showlegend": false,
         "text": [
          "birth filtration = 0.43564356435643564<br>death filtration = 0.46534653465346537<br>interval length = 0.02970297029702973<br>birth simplex = [74]<br>cyle representative nnz = 2<br>bounding chain nnz = 6.0<br>row of dataframe = 36"
         ],
         "type": "scatter",
         "x": [
          0.43564356435643564
         ],
         "y": [
          0.46534653465346537
         ]
        },
        {
         "legendgroup": "0",
         "marker": {
          "color": "#636EFA"
         },
         "mode": "markers",
         "name": "Dimension 0",
         "showlegend": false,
         "text": [
          "birth filtration = 0.43564356435643564<br>death filtration = 0.5247524752475248<br>interval length = 0.08910891089108913<br>birth simplex = [61]<br>cyle representative nnz = 2<br>bounding chain nnz = 6.0<br>row of dataframe = 37"
         ],
         "type": "scatter",
         "x": [
          0.43564356435643564
         ],
         "y": [
          0.5247524752475248
         ]
        },
        {
         "legendgroup": "0",
         "marker": {
          "color": "#636EFA"
         },
         "mode": "markers",
         "name": "Dimension 0",
         "showlegend": false,
         "text": [
          "birth filtration = 0.43564356435643564<br>death filtration = 0.48514851485148514<br>interval length = 0.04950495049504949<br>birth simplex = [57]<br>cyle representative nnz = 2<br>bounding chain nnz = 6.0<br>row of dataframe = 38"
         ],
         "type": "scatter",
         "x": [
          0.43564356435643564
         ],
         "y": [
          0.48514851485148514
         ]
        },
        {
         "legendgroup": "0",
         "marker": {
          "color": "#636EFA"
         },
         "mode": "markers",
         "name": "Dimension 0",
         "showlegend": false,
         "text": [
          "birth filtration = 0.42574257425742573<br>death filtration = 0.5445544554455446<br>interval length = 0.11881188118811886<br>birth simplex = [54]<br>cyle representative nnz = 2<br>bounding chain nnz = 10.0<br>row of dataframe = 39"
         ],
         "type": "scatter",
         "x": [
          0.42574257425742573
         ],
         "y": [
          0.5445544554455446
         ]
        },
        {
         "legendgroup": "0",
         "marker": {
          "color": "#636EFA"
         },
         "mode": "markers",
         "name": "Dimension 0",
         "showlegend": false,
         "text": [
          "birth filtration = 0.42574257425742573<br>death filtration = 0.45544554455445546<br>interval length = 0.02970297029702973<br>birth simplex = [40]<br>cyle representative nnz = 2<br>bounding chain nnz = 1.0<br>row of dataframe = 40"
         ],
         "type": "scatter",
         "x": [
          0.42574257425742573
         ],
         "y": [
          0.45544554455445546
         ]
        },
        {
         "legendgroup": "0",
         "marker": {
          "color": "#636EFA"
         },
         "mode": "markers",
         "name": "Dimension 0",
         "showlegend": false,
         "text": [
          "birth filtration = 0.42574257425742573<br>death filtration = 0.49504950495049505<br>interval length = 0.06930693069306931<br>birth simplex = [16]<br>cyle representative nnz = 2<br>bounding chain nnz = 7.0<br>row of dataframe = 41"
         ],
         "type": "scatter",
         "x": [
          0.42574257425742573
         ],
         "y": [
          0.49504950495049505
         ]
        },
        {
         "legendgroup": "0",
         "marker": {
          "color": "#636EFA"
         },
         "mode": "markers",
         "name": "Dimension 0",
         "showlegend": false,
         "text": [
          "birth filtration = 0.42574257425742573<br>death filtration = 0.45544554455445546<br>interval length = 0.02970297029702973<br>birth simplex = [9]<br>cyle representative nnz = 2<br>bounding chain nnz = 1.0<br>row of dataframe = 42"
         ],
         "type": "scatter",
         "x": [
          0.42574257425742573
         ],
         "y": [
          0.45544554455445546
         ]
        },
        {
         "legendgroup": "0",
         "marker": {
          "color": "#636EFA"
         },
         "mode": "markers",
         "name": "Dimension 0",
         "showlegend": false,
         "text": [
          "birth filtration = 0.42574257425742573<br>death filtration = 0.6237623762376238<br>interval length = 0.19801980198019803<br>birth simplex = [5]<br>cyle representative nnz = 2<br>bounding chain nnz = 12.0<br>row of dataframe = 43"
         ],
         "type": "scatter",
         "x": [
          0.42574257425742573
         ],
         "y": [
          0.6237623762376238
         ]
        },
        {
         "legendgroup": "0",
         "marker": {
          "color": "#636EFA"
         },
         "mode": "markers",
         "name": "Dimension 0",
         "showlegend": false,
         "text": [
          "birth filtration = 0.42574257425742573<br>death filtration = 0.5544554455445545<br>interval length = 0.12871287128712877<br>birth simplex = [4]<br>cyle representative nnz = 2<br>bounding chain nnz = 11.0<br>row of dataframe = 44"
         ],
         "type": "scatter",
         "x": [
          0.42574257425742573
         ],
         "y": [
          0.5544554455445545
         ]
        },
        {
         "legendgroup": "0",
         "marker": {
          "color": "#636EFA"
         },
         "mode": "markers",
         "name": "Dimension 0",
         "showlegend": false,
         "text": [
          "birth filtration = 0.4158415841584158<br>death filtration = 0.43564356435643564<br>interval length = 0.01980198019801982<br>birth simplex = [75]<br>cyle representative nnz = 2<br>bounding chain nnz = 2.0<br>row of dataframe = 45"
         ],
         "type": "scatter",
         "x": [
          0.4158415841584158
         ],
         "y": [
          0.43564356435643564
         ]
        },
        {
         "legendgroup": "0",
         "marker": {
          "color": "#636EFA"
         },
         "mode": "markers",
         "name": "Dimension 0",
         "showlegend": false,
         "text": [
          "birth filtration = 0.4158415841584158<br>death filtration = 0.504950495049505<br>interval length = 0.08910891089108913<br>birth simplex = [72]<br>cyle representative nnz = 2<br>bounding chain nnz = 2.0<br>row of dataframe = 46"
         ],
         "type": "scatter",
         "x": [
          0.4158415841584158
         ],
         "y": [
          0.504950495049505
         ]
        },
        {
         "legendgroup": "0",
         "marker": {
          "color": "#636EFA"
         },
         "mode": "markers",
         "name": "Dimension 0",
         "showlegend": false,
         "text": [
          "birth filtration = 0.40594059405940597<br>death filtration = 0.43564356435643564<br>interval length = 0.029702970297029674<br>birth simplex = [100]<br>cyle representative nnz = 2<br>bounding chain nnz = 2.0<br>row of dataframe = 47"
         ],
         "type": "scatter",
         "x": [
          0.40594059405940597
         ],
         "y": [
          0.43564356435643564
         ]
        },
        {
         "legendgroup": "0",
         "marker": {
          "color": "#636EFA"
         },
         "mode": "markers",
         "name": "Dimension 0",
         "showlegend": false,
         "text": [
          "birth filtration = 0.40594059405940597<br>death filtration = 0.45544554455445546<br>interval length = 0.04950495049504949<br>birth simplex = [80]<br>cyle representative nnz = 2<br>bounding chain nnz = 2.0<br>row of dataframe = 48"
         ],
         "type": "scatter",
         "x": [
          0.40594059405940597
         ],
         "y": [
          0.45544554455445546
         ]
        },
        {
         "legendgroup": "0",
         "marker": {
          "color": "#636EFA"
         },
         "mode": "markers",
         "name": "Dimension 0",
         "showlegend": false,
         "text": [
          "birth filtration = 0.40594059405940597<br>death filtration = 0.42574257425742573<br>interval length = 0.019801980198019764<br>birth simplex = [69]<br>cyle representative nnz = 2<br>bounding chain nnz = 2.0<br>row of dataframe = 49"
         ],
         "type": "scatter",
         "x": [
          0.40594059405940597
         ],
         "y": [
          0.42574257425742573
         ]
        },
        {
         "legendgroup": "0",
         "marker": {
          "color": "#636EFA"
         },
         "mode": "markers",
         "name": "Dimension 0",
         "showlegend": false,
         "text": [
          "birth filtration = 0.40594059405940597<br>death filtration = 0.45544554455445546<br>interval length = 0.04950495049504949<br>birth simplex = [60]<br>cyle representative nnz = 2<br>bounding chain nnz = 3.0<br>row of dataframe = 50"
         ],
         "type": "scatter",
         "x": [
          0.40594059405940597
         ],
         "y": [
          0.45544554455445546
         ]
        },
        {
         "legendgroup": "0",
         "marker": {
          "color": "#636EFA"
         },
         "mode": "markers",
         "name": "Dimension 0",
         "showlegend": false,
         "text": [
          "birth filtration = 0.40594059405940597<br>death filtration = 0.4752475247524752<br>interval length = 0.06930693069306926<br>birth simplex = [56]<br>cyle representative nnz = 2<br>bounding chain nnz = 5.0<br>row of dataframe = 51"
         ],
         "type": "scatter",
         "x": [
          0.40594059405940597
         ],
         "y": [
          0.4752475247524752
         ]
        },
        {
         "legendgroup": "0",
         "marker": {
          "color": "#636EFA"
         },
         "mode": "markers",
         "name": "Dimension 0",
         "showlegend": false,
         "text": [
          "birth filtration = 0.39603960396039606<br>death filtration = 0.45544554455445546<br>interval length = 0.0594059405940594<br>birth simplex = [82]<br>cyle representative nnz = 2<br>bounding chain nnz = 2.0<br>row of dataframe = 52"
         ],
         "type": "scatter",
         "x": [
          0.39603960396039606
         ],
         "y": [
          0.45544554455445546
         ]
        },
        {
         "legendgroup": "0",
         "marker": {
          "color": "#636EFA"
         },
         "mode": "markers",
         "name": "Dimension 0",
         "showlegend": false,
         "text": [
          "birth filtration = 0.39603960396039606<br>death filtration = 0.43564356435643564<br>interval length = 0.039603960396039584<br>birth simplex = [28]<br>cyle representative nnz = 2<br>bounding chain nnz = 3.0<br>row of dataframe = 53"
         ],
         "type": "scatter",
         "x": [
          0.39603960396039606
         ],
         "y": [
          0.43564356435643564
         ]
        },
        {
         "legendgroup": "0",
         "marker": {
          "color": "#636EFA"
         },
         "mode": "markers",
         "name": "Dimension 0",
         "showlegend": false,
         "text": [
          "birth filtration = 0.38613861386138615<br>death filtration = 0.48514851485148514<br>interval length = 0.09900990099009899<br>birth simplex = [34]<br>cyle representative nnz = 2<br>bounding chain nnz = 3.0<br>row of dataframe = 54"
         ],
         "type": "scatter",
         "x": [
          0.38613861386138615
         ],
         "y": [
          0.48514851485148514
         ]
        },
        {
         "legendgroup": "0",
         "marker": {
          "color": "#636EFA"
         },
         "mode": "markers",
         "name": "Dimension 0",
         "showlegend": false,
         "text": [
          "birth filtration = 0.37623762376237624<br>death filtration = 0.43564356435643564<br>interval length = 0.0594059405940594<br>birth simplex = [86]<br>cyle representative nnz = 2<br>bounding chain nnz = 1.0<br>row of dataframe = 55"
         ],
         "type": "scatter",
         "x": [
          0.37623762376237624
         ],
         "y": [
          0.43564356435643564
         ]
        },
        {
         "legendgroup": "0",
         "marker": {
          "color": "#636EFA"
         },
         "mode": "markers",
         "name": "Dimension 0",
         "showlegend": false,
         "text": [
          "birth filtration = 0.36633663366336633<br>death filtration = 0.48514851485148514<br>interval length = 0.1188118811881188<br>birth simplex = [51]<br>cyle representative nnz = 2<br>bounding chain nnz = 3.0<br>row of dataframe = 56"
         ],
         "type": "scatter",
         "x": [
          0.36633663366336633
         ],
         "y": [
          0.48514851485148514
         ]
        },
        {
         "legendgroup": "0",
         "marker": {
          "color": "#636EFA"
         },
         "mode": "markers",
         "name": "Dimension 0",
         "showlegend": false,
         "text": [
          "birth filtration = 0.36633663366336633<br>death filtration = 0.40594059405940597<br>interval length = 0.03960396039603964<br>birth simplex = [36]<br>cyle representative nnz = 2<br>bounding chain nnz = 1.0<br>row of dataframe = 57"
         ],
         "type": "scatter",
         "x": [
          0.36633663366336633
         ],
         "y": [
          0.40594059405940597
         ]
        },
        {
         "legendgroup": "0",
         "marker": {
          "color": "#636EFA"
         },
         "mode": "markers",
         "name": "Dimension 0",
         "showlegend": false,
         "text": [
          "birth filtration = 0.36633663366336633<br>death filtration = 0.44554455445544555<br>interval length = 0.07920792079207922<br>birth simplex = [0]<br>cyle representative nnz = 2<br>bounding chain nnz = 1.0<br>row of dataframe = 58"
         ],
         "type": "scatter",
         "x": [
          0.36633663366336633
         ],
         "y": [
          0.44554455445544555
         ]
        },
        {
         "legendgroup": "0",
         "marker": {
          "color": "#636EFA"
         },
         "mode": "markers",
         "name": "Dimension 0",
         "showlegend": false,
         "text": [
          "birth filtration = 0.3564356435643564<br>death filtration = 0.5148514851485149<br>interval length = 0.15841584158415845<br>birth simplex = [96]<br>cyle representative nnz = 2<br>bounding chain nnz = 5.0<br>row of dataframe = 59"
         ],
         "type": "scatter",
         "x": [
          0.3564356435643564
         ],
         "y": [
          0.5148514851485149
         ]
        },
        {
         "legendgroup": "0",
         "marker": {
          "color": "#636EFA"
         },
         "mode": "markers",
         "name": "Dimension 0",
         "showlegend": false,
         "text": [
          "birth filtration = 0.3564356435643564<br>death filtration = 0.504950495049505<br>interval length = 0.14851485148514854<br>birth simplex = [14]<br>cyle representative nnz = 2<br>bounding chain nnz = 3.0<br>row of dataframe = 60"
         ],
         "type": "scatter",
         "x": [
          0.3564356435643564
         ],
         "y": [
          0.504950495049505
         ]
        },
        {
         "legendgroup": "0",
         "marker": {
          "color": "#636EFA"
         },
         "mode": "markers",
         "name": "Dimension 0",
         "showlegend": false,
         "text": [
          "birth filtration = 0.3465346534653465<br>death filtration = 0.6138613861386139<br>interval length = 0.26732673267326734<br>birth simplex = [21]<br>cyle representative nnz = 2<br>bounding chain nnz = 3.0<br>row of dataframe = 61"
         ],
         "type": "scatter",
         "x": [
          0.3465346534653465
         ],
         "y": [
          0.6138613861386139
         ]
        },
        {
         "legendgroup": "0",
         "marker": {
          "color": "#636EFA"
         },
         "mode": "markers",
         "name": "Dimension 0",
         "showlegend": false,
         "text": [
          "birth filtration = 0.33663366336633666<br>death filtration = 0.40594059405940597<br>interval length = 0.06930693069306931<br>birth simplex = [70]<br>cyle representative nnz = 2<br>bounding chain nnz = 3.0<br>row of dataframe = 62"
         ],
         "type": "scatter",
         "x": [
          0.33663366336633666
         ],
         "y": [
          0.40594059405940597
         ]
        },
        {
         "legendgroup": "0",
         "marker": {
          "color": "#636EFA"
         },
         "mode": "markers",
         "name": "Dimension 0",
         "showlegend": false,
         "text": [
          "birth filtration = 0.32673267326732675<br>death filtration = 0.3564356435643564<br>interval length = 0.029702970297029674<br>birth simplex = [27]<br>cyle representative nnz = 2<br>bounding chain nnz = 1.0<br>row of dataframe = 63"
         ],
         "type": "scatter",
         "x": [
          0.32673267326732675
         ],
         "y": [
          0.3564356435643564
         ]
        },
        {
         "legendgroup": "0",
         "marker": {
          "color": "#636EFA"
         },
         "mode": "markers",
         "name": "Dimension 0",
         "showlegend": false,
         "text": [
          "birth filtration = 0.27722772277227725<br>death filtration = 0.48514851485148514<br>interval length = 0.20792079207920788<br>birth simplex = [52]<br>cyle representative nnz = 2<br>bounding chain nnz = 5.0<br>row of dataframe = 64"
         ],
         "type": "scatter",
         "x": [
          0.27722772277227725
         ],
         "y": [
          0.48514851485148514
         ]
        },
        {
         "legendgroup": "0",
         "marker": {
          "color": "#636EFA"
         },
         "mode": "markers",
         "name": "Dimension 0",
         "showlegend": false,
         "text": [
          "birth filtration = 0.16831683168316833<br>death filtration = 0.44554455445544555<br>interval length = 0.27722772277227725<br>birth simplex = [37]<br>cyle representative nnz = 2<br>bounding chain nnz = 3.0<br>row of dataframe = 65"
         ],
         "type": "scatter",
         "x": [
          0.16831683168316833
         ],
         "y": [
          0.44554455445544555
         ]
        },
        {
         "legendgroup": "0",
         "marker": {
          "color": "#636EFA"
         },
         "mode": "markers",
         "name": "Dimension 0",
         "showlegend": false,
         "text": [
          "birth filtration = 0.10891089108910891<br>death filtration = 0.504950495049505<br>interval length = 0.39603960396039606<br>birth simplex = [53]<br>cyle representative nnz = 2<br>bounding chain nnz = 4.0<br>row of dataframe = 66"
         ],
         "type": "scatter",
         "x": [
          0.10891089108910891
         ],
         "y": [
          0.504950495049505
         ]
        },
        {
         "legendgroup": "0",
         "marker": {
          "color": "#636EFA"
         },
         "mode": "markers",
         "name": "Dimension 0",
         "showlegend": false,
         "text": [
          "birth filtration = 0.04950495049504951<br>death filtration = 1.0841584158415842<br>interval length = inf<br>birth simplex = [55]<br>cyle representative nnz = 1<br>bounding chain nnz = nan<br>row of dataframe = 67"
         ],
         "type": "scatter",
         "x": [
          0.04950495049504951
         ],
         "y": [
          1.0841584158415842
         ]
        },
        {
         "legendgroup": "1",
         "marker": {
          "color": "#EF553B"
         },
         "mode": "markers",
         "name": "Dimension 1",
         "showlegend": true,
         "text": [
          "birth filtration = 0.9801980198019802<br>death filtration = 0.9900990099009901<br>interval length = 0.00990099009900991<br>birth simplex = [8, 23]<br>cyle representative nnz = 17<br>bounding chain nnz = 86.0<br>row of dataframe = 68"
         ],
         "type": "scatter",
         "x": [
          0.9801980198019802
         ],
         "y": [
          0.9900990099009901
         ]
        },
        {
         "legendgroup": "1",
         "marker": {
          "color": "#EF553B"
         },
         "mode": "markers",
         "name": "Dimension 1",
         "showlegend": false,
         "text": [
          "birth filtration = 0.9702970297029703<br>death filtration = 0.9801980198019802<br>interval length = 0.00990099009900991<br>birth simplex = [8, 30]<br>cyle representative nnz = 10<br>bounding chain nnz = 80.0<br>row of dataframe = 69"
         ],
         "type": "scatter",
         "x": [
          0.9702970297029703
         ],
         "y": [
          0.9801980198019802
         ]
        },
        {
         "legendgroup": "1",
         "marker": {
          "color": "#EF553B"
         },
         "mode": "markers",
         "name": "Dimension 1",
         "showlegend": false,
         "text": [
          "birth filtration = 0.9405940594059405<br>death filtration = 0.9603960396039604<br>interval length = 0.01980198019801982<br>birth simplex = [64, 101]<br>cyle representative nnz = 12<br>bounding chain nnz = 80.0<br>row of dataframe = 70"
         ],
         "type": "scatter",
         "x": [
          0.9405940594059405
         ],
         "y": [
          0.9603960396039604
         ]
        },
        {
         "legendgroup": "1",
         "marker": {
          "color": "#EF553B"
         },
         "mode": "markers",
         "name": "Dimension 1",
         "showlegend": false,
         "text": [
          "birth filtration = 0.9306930693069307<br>death filtration = 1.0841584158415842<br>interval length = inf<br>birth simplex = [76, 95]<br>cyle representative nnz = 8<br>bounding chain nnz = nan<br>row of dataframe = 71"
         ],
         "type": "scatter",
         "x": [
          0.9306930693069307
         ],
         "y": [
          1.0841584158415842
         ]
        },
        {
         "legendgroup": "1",
         "marker": {
          "color": "#EF553B"
         },
         "mode": "markers",
         "name": "Dimension 1",
         "showlegend": false,
         "text": [
          "birth filtration = 0.9306930693069307<br>death filtration = 0.9405940594059405<br>interval length = 0.009900990099009799<br>birth simplex = [58, 77]<br>cyle representative nnz = 10<br>bounding chain nnz = 89.0<br>row of dataframe = 72"
         ],
         "type": "scatter",
         "x": [
          0.9306930693069307
         ],
         "y": [
          0.9405940594059405
         ]
        },
        {
         "legendgroup": "1",
         "marker": {
          "color": "#EF553B"
         },
         "mode": "markers",
         "name": "Dimension 1",
         "showlegend": false,
         "text": [
          "birth filtration = 0.9108910891089109<br>death filtration = 0.9405940594059405<br>interval length = 0.02970297029702962<br>birth simplex = [2, 64]<br>cyle representative nnz = 9<br>bounding chain nnz = 39.0<br>row of dataframe = 73"
         ],
         "type": "scatter",
         "x": [
          0.9108910891089109
         ],
         "y": [
          0.9405940594059405
         ]
        },
        {
         "legendgroup": "1",
         "marker": {
          "color": "#EF553B"
         },
         "mode": "markers",
         "name": "Dimension 1",
         "showlegend": false,
         "text": [
          "birth filtration = 0.8811881188118812<br>death filtration = 0.9603960396039604<br>interval length = 0.07920792079207917<br>birth simplex = [21, 101]<br>cyle representative nnz = 10<br>bounding chain nnz = 56.0<br>row of dataframe = 74"
         ],
         "type": "scatter",
         "x": [
          0.8811881188118812
         ],
         "y": [
          0.9603960396039604
         ]
        },
        {
         "legendgroup": "1",
         "marker": {
          "color": "#EF553B"
         },
         "mode": "markers",
         "name": "Dimension 1",
         "showlegend": false,
         "text": [
          "birth filtration = 0.8712871287128713<br>death filtration = 0.8910891089108911<br>interval length = 0.01980198019801982<br>birth simplex = [62, 63]<br>cyle representative nnz = 11<br>bounding chain nnz = 51.0<br>row of dataframe = 75"
         ],
         "type": "scatter",
         "x": [
          0.8712871287128713
         ],
         "y": [
          0.8910891089108911
         ]
        },
        {
         "legendgroup": "1",
         "marker": {
          "color": "#EF553B"
         },
         "mode": "markers",
         "name": "Dimension 1",
         "showlegend": false,
         "text": [
          "birth filtration = 0.8514851485148515<br>death filtration = 0.8613861386138614<br>interval length = 0.00990099009900991<br>birth simplex = [2, 77]<br>cyle representative nnz = 11<br>bounding chain nnz = 46.0<br>row of dataframe = 76"
         ],
         "type": "scatter",
         "x": [
          0.8514851485148515
         ],
         "y": [
          0.8613861386138614
         ]
        },
        {
         "legendgroup": "1",
         "marker": {
          "color": "#EF553B"
         },
         "mode": "markers",
         "name": "Dimension 1",
         "showlegend": false,
         "text": [
          "birth filtration = 0.8514851485148515<br>death filtration = 0.8712871287128713<br>interval length = 0.01980198019801982<br>birth simplex = [0, 48]<br>cyle representative nnz = 6<br>bounding chain nnz = 48.0<br>row of dataframe = 77"
         ],
         "type": "scatter",
         "x": [
          0.8514851485148515
         ],
         "y": [
          0.8712871287128713
         ]
        },
        {
         "legendgroup": "1",
         "marker": {
          "color": "#EF553B"
         },
         "mode": "markers",
         "name": "Dimension 1",
         "showlegend": false,
         "text": [
          "birth filtration = 0.8415841584158416<br>death filtration = 0.9603960396039604<br>interval length = 0.1188118811881188<br>birth simplex = [58, 64]<br>cyle representative nnz = 6<br>bounding chain nnz = 44.0<br>row of dataframe = 78"
         ],
         "type": "scatter",
         "x": [
          0.8415841584158416
         ],
         "y": [
          0.9603960396039604
         ]
        },
        {
         "legendgroup": "1",
         "marker": {
          "color": "#EF553B"
         },
         "mode": "markers",
         "name": "Dimension 1",
         "showlegend": false,
         "text": [
          "birth filtration = 0.8415841584158416<br>death filtration = 0.8514851485148515<br>interval length = 0.00990099009900991<br>birth simplex = [14, 22]<br>cyle representative nnz = 17<br>bounding chain nnz = 67.0<br>row of dataframe = 79"
         ],
         "type": "scatter",
         "x": [
          0.8415841584158416
         ],
         "y": [
          0.8514851485148515
         ]
        },
        {
         "legendgroup": "1",
         "marker": {
          "color": "#EF553B"
         },
         "mode": "markers",
         "name": "Dimension 1",
         "showlegend": false,
         "text": [
          "birth filtration = 0.8316831683168316<br>death filtration = 0.8415841584158416<br>interval length = 0.00990099009900991<br>birth simplex = [25, 67]<br>cyle representative nnz = 8<br>bounding chain nnz = 40.0<br>row of dataframe = 80"
         ],
         "type": "scatter",
         "x": [
          0.8316831683168316
         ],
         "y": [
          0.8415841584158416
         ]
        },
        {
         "legendgroup": "1",
         "marker": {
          "color": "#EF553B"
         },
         "mode": "markers",
         "name": "Dimension 1",
         "showlegend": false,
         "text": [
          "birth filtration = 0.8118811881188119<br>death filtration = 0.8415841584158416<br>interval length = 0.02970297029702962<br>birth simplex = [13, 65]<br>cyle representative nnz = 6<br>bounding chain nnz = 4.0<br>row of dataframe = 81"
         ],
         "type": "scatter",
         "x": [
          0.8118811881188119
         ],
         "y": [
          0.8415841584158416
         ]
        },
        {
         "legendgroup": "1",
         "marker": {
          "color": "#EF553B"
         },
         "mode": "markers",
         "name": "Dimension 1",
         "showlegend": false,
         "text": [
          "birth filtration = 0.8118811881188119<br>death filtration = 0.8217821782178217<br>interval length = 0.009900990099009799<br>birth simplex = [0, 52]<br>cyle representative nnz = 15<br>bounding chain nnz = 45.0<br>row of dataframe = 82"
         ],
         "type": "scatter",
         "x": [
          0.8118811881188119
         ],
         "y": [
          0.8217821782178217
         ]
        },
        {
         "legendgroup": "1",
         "marker": {
          "color": "#EF553B"
         },
         "mode": "markers",
         "name": "Dimension 1",
         "showlegend": false,
         "text": [
          "birth filtration = 0.801980198019802<br>death filtration = 0.8118811881188119<br>interval length = 0.00990099009900991<br>birth simplex = [9, 77]<br>cyle representative nnz = 14<br>bounding chain nnz = 55.0<br>row of dataframe = 83"
         ],
         "type": "scatter",
         "x": [
          0.801980198019802
         ],
         "y": [
          0.8118811881188119
         ]
        },
        {
         "legendgroup": "1",
         "marker": {
          "color": "#EF553B"
         },
         "mode": "markers",
         "name": "Dimension 1",
         "showlegend": false,
         "text": [
          "birth filtration = 0.7920792079207921<br>death filtration = 0.801980198019802<br>interval length = 0.00990099009900991<br>birth simplex = [30, 77]<br>cyle representative nnz = 13<br>bounding chain nnz = 49.0<br>row of dataframe = 84"
         ],
         "type": "scatter",
         "x": [
          0.7920792079207921
         ],
         "y": [
          0.801980198019802
         ]
        },
        {
         "legendgroup": "1",
         "marker": {
          "color": "#EF553B"
         },
         "mode": "markers",
         "name": "Dimension 1",
         "showlegend": false,
         "text": [
          "birth filtration = 0.7821782178217822<br>death filtration = 0.8217821782178217<br>interval length = 0.03960396039603953<br>birth simplex = [91, 93]<br>cyle representative nnz = 8<br>bounding chain nnz = 6.0<br>row of dataframe = 85"
         ],
         "type": "scatter",
         "x": [
          0.7821782178217822
         ],
         "y": [
          0.8217821782178217
         ]
        },
        {
         "legendgroup": "1",
         "marker": {
          "color": "#EF553B"
         },
         "mode": "markers",
         "name": "Dimension 1",
         "showlegend": false,
         "text": [
          "birth filtration = 0.7821782178217822<br>death filtration = 0.801980198019802<br>interval length = 0.01980198019801982<br>birth simplex = [18, 42]<br>cyle representative nnz = 10<br>bounding chain nnz = 40.0<br>row of dataframe = 86"
         ],
         "type": "scatter",
         "x": [
          0.7821782178217822
         ],
         "y": [
          0.801980198019802
         ]
        },
        {
         "legendgroup": "1",
         "marker": {
          "color": "#EF553B"
         },
         "mode": "markers",
         "name": "Dimension 1",
         "showlegend": false,
         "text": [
          "birth filtration = 0.7623762376237624<br>death filtration = 0.7722772277227723<br>interval length = 0.00990099009900991<br>birth simplex = [7, 26]<br>cyle representative nnz = 7<br>bounding chain nnz = 27.0<br>row of dataframe = 87"
         ],
         "type": "scatter",
         "x": [
          0.7623762376237624
         ],
         "y": [
          0.7722772277227723
         ]
        },
        {
         "legendgroup": "1",
         "marker": {
          "color": "#EF553B"
         },
         "mode": "markers",
         "name": "Dimension 1",
         "showlegend": false,
         "text": [
          "birth filtration = 0.7623762376237624<br>death filtration = 0.8118811881188119<br>interval length = 0.04950495049504955<br>birth simplex = [5, 33]<br>cyle representative nnz = 4<br>bounding chain nnz = 2.0<br>row of dataframe = 88"
         ],
         "type": "scatter",
         "x": [
          0.7623762376237624
         ],
         "y": [
          0.8118811881188119
         ]
        },
        {
         "legendgroup": "1",
         "marker": {
          "color": "#EF553B"
         },
         "mode": "markers",
         "name": "Dimension 1",
         "showlegend": false,
         "text": [
          "birth filtration = 0.7425742574257426<br>death filtration = 0.7722772277227723<br>interval length = 0.02970297029702973<br>birth simplex = [34, 50]<br>cyle representative nnz = 4<br>bounding chain nnz = 6.0<br>row of dataframe = 89"
         ],
         "type": "scatter",
         "x": [
          0.7425742574257426
         ],
         "y": [
          0.7722772277227723
         ]
        },
        {
         "legendgroup": "1",
         "marker": {
          "color": "#EF553B"
         },
         "mode": "markers",
         "name": "Dimension 1",
         "showlegend": false,
         "text": [
          "birth filtration = 0.7425742574257426<br>death filtration = 0.801980198019802<br>interval length = 0.05940594059405946<br>birth simplex = [29, 34]<br>cyle representative nnz = 9<br>bounding chain nnz = 23.0<br>row of dataframe = 90"
         ],
         "type": "scatter",
         "x": [
          0.7425742574257426
         ],
         "y": [
          0.801980198019802
         ]
        },
        {
         "legendgroup": "1",
         "marker": {
          "color": "#EF553B"
         },
         "mode": "markers",
         "name": "Dimension 1",
         "showlegend": false,
         "text": [
          "birth filtration = 0.7425742574257426<br>death filtration = 0.7623762376237624<br>interval length = 0.01980198019801982<br>birth simplex = [5, 70]<br>cyle representative nnz = 10<br>bounding chain nnz = 73.0<br>row of dataframe = 91"
         ],
         "type": "scatter",
         "x": [
          0.7425742574257426
         ],
         "y": [
          0.7623762376237624
         ]
        },
        {
         "legendgroup": "1",
         "marker": {
          "color": "#EF553B"
         },
         "mode": "markers",
         "name": "Dimension 1",
         "showlegend": false,
         "text": [
          "birth filtration = 0.7326732673267327<br>death filtration = 0.7920792079207921<br>interval length = 0.05940594059405946<br>birth simplex = [50, 94]<br>cyle representative nnz = 17<br>bounding chain nnz = 89.0<br>row of dataframe = 92"
         ],
         "type": "scatter",
         "x": [
          0.7326732673267327
         ],
         "y": [
          0.7920792079207921
         ]
        },
        {
         "legendgroup": "1",
         "marker": {
          "color": "#EF553B"
         },
         "mode": "markers",
         "name": "Dimension 1",
         "showlegend": false,
         "text": [
          "birth filtration = 0.7326732673267327<br>death filtration = 0.8316831683168316<br>interval length = 0.09900990099009899<br>birth simplex = [33, 82]<br>cyle representative nnz = 15<br>bounding chain nnz = 51.0<br>row of dataframe = 93"
         ],
         "type": "scatter",
         "x": [
          0.7326732673267327
         ],
         "y": [
          0.8316831683168316
         ]
        },
        {
         "legendgroup": "1",
         "marker": {
          "color": "#EF553B"
         },
         "mode": "markers",
         "name": "Dimension 1",
         "showlegend": false,
         "text": [
          "birth filtration = 0.7326732673267327<br>death filtration = 0.7821782178217822<br>interval length = 0.04950495049504955<br>birth simplex = [7, 41]<br>cyle representative nnz = 10<br>bounding chain nnz = 78.0<br>row of dataframe = 94"
         ],
         "type": "scatter",
         "x": [
          0.7326732673267327
         ],
         "y": [
          0.7821782178217822
         ]
        },
        {
         "legendgroup": "1",
         "marker": {
          "color": "#EF553B"
         },
         "mode": "markers",
         "name": "Dimension 1",
         "showlegend": false,
         "text": [
          "birth filtration = 0.7326732673267327<br>death filtration = 0.801980198019802<br>interval length = 0.06930693069306937<br>birth simplex = [5, 86]<br>cyle representative nnz = 15<br>bounding chain nnz = 83.0<br>row of dataframe = 95"
         ],
         "type": "scatter",
         "x": [
          0.7326732673267327
         ],
         "y": [
          0.801980198019802
         ]
        },
        {
         "legendgroup": "1",
         "marker": {
          "color": "#EF553B"
         },
         "mode": "markers",
         "name": "Dimension 1",
         "showlegend": false,
         "text": [
          "birth filtration = 0.7326732673267327<br>death filtration = 0.7425742574257426<br>interval length = 0.00990099009900991<br>birth simplex = [3, 99]<br>cyle representative nnz = 8<br>bounding chain nnz = 38.0<br>row of dataframe = 96"
         ],
         "type": "scatter",
         "x": [
          0.7326732673267327
         ],
         "y": [
          0.7425742574257426
         ]
        },
        {
         "legendgroup": "1",
         "marker": {
          "color": "#EF553B"
         },
         "mode": "markers",
         "name": "Dimension 1",
         "showlegend": false,
         "text": [
          "birth filtration = 0.7227722772277227<br>death filtration = 0.7920792079207921<br>interval length = 0.06930693069306937<br>birth simplex = [47, 96]<br>cyle representative nnz = 11<br>bounding chain nnz = 21.0<br>row of dataframe = 97"
         ],
         "type": "scatter",
         "x": [
          0.7227722772277227
         ],
         "y": [
          0.7920792079207921
         ]
        },
        {
         "legendgroup": "1",
         "marker": {
          "color": "#EF553B"
         },
         "mode": "markers",
         "name": "Dimension 1",
         "showlegend": false,
         "text": [
          "birth filtration = 0.7227722772277227<br>death filtration = 0.7524752475247525<br>interval length = 0.02970297029702973<br>birth simplex = [4, 38]<br>cyle representative nnz = 11<br>bounding chain nnz = 51.0<br>row of dataframe = 98"
         ],
         "type": "scatter",
         "x": [
          0.7227722772277227
         ],
         "y": [
          0.7524752475247525
         ]
        },
        {
         "legendgroup": "1",
         "marker": {
          "color": "#EF553B"
         },
         "mode": "markers",
         "name": "Dimension 1",
         "showlegend": false,
         "text": [
          "birth filtration = 0.7128712871287128<br>death filtration = 0.7326732673267327<br>interval length = 0.01980198019801982<br>birth simplex = [4, 37]<br>cyle representative nnz = 7<br>bounding chain nnz = 47.0<br>row of dataframe = 99"
         ],
         "type": "scatter",
         "x": [
          0.7128712871287128
         ],
         "y": [
          0.7326732673267327
         ]
        },
        {
         "legendgroup": "1",
         "marker": {
          "color": "#EF553B"
         },
         "mode": "markers",
         "name": "Dimension 1",
         "showlegend": false,
         "text": [
          "birth filtration = 0.7029702970297029<br>death filtration = 0.7128712871287128<br>interval length = 0.00990099009900991<br>birth simplex = [32, 100]<br>cyle representative nnz = 13<br>bounding chain nnz = 48.0<br>row of dataframe = 100"
         ],
         "type": "scatter",
         "x": [
          0.7029702970297029
         ],
         "y": [
          0.7128712871287128
         ]
        },
        {
         "legendgroup": "1",
         "marker": {
          "color": "#EF553B"
         },
         "mode": "markers",
         "name": "Dimension 1",
         "showlegend": false,
         "text": [
          "birth filtration = 0.693069306930693<br>death filtration = 0.7128712871287128<br>interval length = 0.01980198019801982<br>birth simplex = [17, 32]<br>cyle representative nnz = 4<br>bounding chain nnz = 22.0<br>row of dataframe = 101"
         ],
         "type": "scatter",
         "x": [
          0.693069306930693
         ],
         "y": [
          0.7128712871287128
         ]
        },
        {
         "legendgroup": "1",
         "marker": {
          "color": "#EF553B"
         },
         "mode": "markers",
         "name": "Dimension 1",
         "showlegend": false,
         "text": [
          "birth filtration = 0.6831683168316832<br>death filtration = 0.7029702970297029<br>interval length = 0.01980198019801971<br>birth simplex = [67, 71]<br>cyle representative nnz = 10<br>bounding chain nnz = 22.0<br>row of dataframe = 102"
         ],
         "type": "scatter",
         "x": [
          0.6831683168316832
         ],
         "y": [
          0.7029702970297029
         ]
        },
        {
         "legendgroup": "1",
         "marker": {
          "color": "#EF553B"
         },
         "mode": "markers",
         "name": "Dimension 1",
         "showlegend": false,
         "text": [
          "birth filtration = 0.6831683168316832<br>death filtration = 0.8712871287128713<br>interval length = 0.18811881188118806<br>birth simplex = [58, 68]<br>cyle representative nnz = 10<br>bounding chain nnz = 61.0<br>row of dataframe = 103"
         ],
         "type": "scatter",
         "x": [
          0.6831683168316832
         ],
         "y": [
          0.8712871287128713
         ]
        },
        {
         "legendgroup": "1",
         "marker": {
          "color": "#EF553B"
         },
         "mode": "markers",
         "name": "Dimension 1",
         "showlegend": false,
         "text": [
          "birth filtration = 0.6831683168316832<br>death filtration = 0.7128712871287128<br>interval length = 0.02970297029702962<br>birth simplex = [12, 32]<br>cyle representative nnz = 5<br>bounding chain nnz = 31.0<br>row of dataframe = 104"
         ],
         "type": "scatter",
         "x": [
          0.6831683168316832
         ],
         "y": [
          0.7128712871287128
         ]
        },
        {
         "legendgroup": "1",
         "marker": {
          "color": "#EF553B"
         },
         "mode": "markers",
         "name": "Dimension 1",
         "showlegend": false,
         "text": [
          "birth filtration = 0.6732673267326733<br>death filtration = 0.7425742574257426<br>interval length = 0.06930693069306926<br>birth simplex = [61, 88]<br>cyle representative nnz = 9<br>bounding chain nnz = 50.0<br>row of dataframe = 105"
         ],
         "type": "scatter",
         "x": [
          0.6732673267326733
         ],
         "y": [
          0.7425742574257426
         ]
        },
        {
         "legendgroup": "1",
         "marker": {
          "color": "#EF553B"
         },
         "mode": "markers",
         "name": "Dimension 1",
         "showlegend": false,
         "text": [
          "birth filtration = 0.6732673267326733<br>death filtration = 0.6831683168316832<br>interval length = 0.00990099009900991<br>birth simplex = [21, 24]<br>cyle representative nnz = 4<br>bounding chain nnz = 34.0<br>row of dataframe = 106"
         ],
         "type": "scatter",
         "x": [
          0.6732673267326733
         ],
         "y": [
          0.6831683168316832
         ]
        },
        {
         "legendgroup": "1",
         "marker": {
          "color": "#EF553B"
         },
         "mode": "markers",
         "name": "Dimension 1",
         "showlegend": false,
         "text": [
          "birth filtration = 0.6732673267326733<br>death filtration = 0.7227722772277227<br>interval length = 0.04950495049504944<br>birth simplex = [4, 43]<br>cyle representative nnz = 9<br>bounding chain nnz = 46.0<br>row of dataframe = 107"
         ],
         "type": "scatter",
         "x": [
          0.6732673267326733
         ],
         "y": [
          0.7227722772277227
         ]
        },
        {
         "legendgroup": "1",
         "marker": {
          "color": "#EF553B"
         },
         "mode": "markers",
         "name": "Dimension 1",
         "showlegend": false,
         "text": [
          "birth filtration = 0.6633663366336634<br>death filtration = 0.7227722772277227<br>interval length = 0.05940594059405935<br>birth simplex = [72, 74]<br>cyle representative nnz = 9<br>bounding chain nnz = 25.0<br>row of dataframe = 108"
         ],
         "type": "scatter",
         "x": [
          0.6633663366336634
         ],
         "y": [
          0.7227722772277227
         ]
        },
        {
         "legendgroup": "1",
         "marker": {
          "color": "#EF553B"
         },
         "mode": "markers",
         "name": "Dimension 1",
         "showlegend": false,
         "text": [
          "birth filtration = 0.6534653465346535<br>death filtration = 0.8316831683168316<br>interval length = 0.17821782178217815<br>birth simplex = [33, 68]<br>cyle representative nnz = 15<br>bounding chain nnz = 61.0<br>row of dataframe = 109"
         ],
         "type": "scatter",
         "x": [
          0.6534653465346535
         ],
         "y": [
          0.8316831683168316
         ]
        },
        {
         "legendgroup": "1",
         "marker": {
          "color": "#EF553B"
         },
         "mode": "markers",
         "name": "Dimension 1",
         "showlegend": false,
         "text": [
          "birth filtration = 0.6534653465346535<br>death filtration = 0.693069306930693<br>interval length = 0.03960396039603953<br>birth simplex = [20, 25]<br>cyle representative nnz = 4<br>bounding chain nnz = 38.0<br>row of dataframe = 110"
         ],
         "type": "scatter",
         "x": [
          0.6534653465346535
         ],
         "y": [
          0.693069306930693
         ]
        },
        {
         "legendgroup": "1",
         "marker": {
          "color": "#EF553B"
         },
         "mode": "markers",
         "name": "Dimension 1",
         "showlegend": false,
         "text": [
          "birth filtration = 0.6435643564356436<br>death filtration = 0.7029702970297029<br>interval length = 0.05940594059405935<br>birth simplex = [73, 93]<br>cyle representative nnz = 4<br>bounding chain nnz = 2.0<br>row of dataframe = 111"
         ],
         "type": "scatter",
         "x": [
          0.6435643564356436
         ],
         "y": [
          0.7029702970297029
         ]
        },
        {
         "legendgroup": "1",
         "marker": {
          "color": "#EF553B"
         },
         "mode": "markers",
         "name": "Dimension 1",
         "showlegend": false,
         "text": [
          "birth filtration = 0.6435643564356436<br>death filtration = 0.7128712871287128<br>interval length = 0.06930693069306926<br>birth simplex = [36, 54]<br>cyle representative nnz = 10<br>bounding chain nnz = 58.0<br>row of dataframe = 112"
         ],
         "type": "scatter",
         "x": [
          0.6435643564356436
         ],
         "y": [
          0.7128712871287128
         ]
        },
        {
         "legendgroup": "1",
         "marker": {
          "color": "#EF553B"
         },
         "mode": "markers",
         "name": "Dimension 1",
         "showlegend": false,
         "text": [
          "birth filtration = 0.6435643564356436<br>death filtration = 0.7227722772277227<br>interval length = 0.07920792079207917<br>birth simplex = [16, 40]<br>cyle representative nnz = 9<br>bounding chain nnz = 23.0<br>row of dataframe = 113"
         ],
         "type": "scatter",
         "x": [
          0.6435643564356436
         ],
         "y": [
          0.7227722772277227
         ]
        },
        {
         "legendgroup": "1",
         "marker": {
          "color": "#EF553B"
         },
         "mode": "markers",
         "name": "Dimension 1",
         "showlegend": false,
         "text": [
          "birth filtration = 0.6336633663366337<br>death filtration = 0.801980198019802<br>interval length = 0.16831683168316836<br>birth simplex = [66, 74]<br>cyle representative nnz = 7<br>bounding chain nnz = 51.0<br>row of dataframe = 114"
         ],
         "type": "scatter",
         "x": [
          0.6336633663366337
         ],
         "y": [
          0.801980198019802
         ]
        },
        {
         "legendgroup": "1",
         "marker": {
          "color": "#EF553B"
         },
         "mode": "markers",
         "name": "Dimension 1",
         "showlegend": false,
         "text": [
          "birth filtration = 0.6336633663366337<br>death filtration = 0.7128712871287128<br>interval length = 0.07920792079207917<br>birth simplex = [32, 37]<br>cyle representative nnz = 7<br>bounding chain nnz = 56.0<br>row of dataframe = 115"
         ],
         "type": "scatter",
         "x": [
          0.6336633663366337
         ],
         "y": [
          0.7128712871287128
         ]
        },
        {
         "legendgroup": "1",
         "marker": {
          "color": "#EF553B"
         },
         "mode": "markers",
         "name": "Dimension 1",
         "showlegend": false,
         "text": [
          "birth filtration = 0.6336633663366337<br>death filtration = 0.6732673267326733<br>interval length = 0.03960396039603964<br>birth simplex = [30, 59]<br>cyle representative nnz = 12<br>bounding chain nnz = 24.0<br>row of dataframe = 116"
         ],
         "type": "scatter",
         "x": [
          0.6336633663366337
         ],
         "y": [
          0.6732673267326733
         ]
        },
        {
         "legendgroup": "1",
         "marker": {
          "color": "#EF553B"
         },
         "mode": "markers",
         "name": "Dimension 1",
         "showlegend": false,
         "text": [
          "birth filtration = 0.6237623762376238<br>death filtration = 0.6534653465346535<br>interval length = 0.02970297029702973<br>birth simplex = [54, 85]<br>cyle representative nnz = 8<br>bounding chain nnz = 30.0<br>row of dataframe = 117"
         ],
         "type": "scatter",
         "x": [
          0.6237623762376238
         ],
         "y": [
          0.6534653465346535
         ]
        },
        {
         "legendgroup": "1",
         "marker": {
          "color": "#EF553B"
         },
         "mode": "markers",
         "name": "Dimension 1",
         "showlegend": false,
         "text": [
          "birth filtration = 0.6237623762376238<br>death filtration = 0.6435643564356436<br>interval length = 0.01980198019801982<br>birth simplex = [16, 54]<br>cyle representative nnz = 4<br>bounding chain nnz = 34.0<br>row of dataframe = 118"
         ],
         "type": "scatter",
         "x": [
          0.6237623762376238
         ],
         "y": [
          0.6435643564356436
         ]
        },
        {
         "legendgroup": "1",
         "marker": {
          "color": "#EF553B"
         },
         "mode": "markers",
         "name": "Dimension 1",
         "showlegend": false,
         "text": [
          "birth filtration = 0.6237623762376238<br>death filtration = 0.693069306930693<br>interval length = 0.06930693069306926<br>birth simplex = [2, 46]<br>cyle representative nnz = 14<br>bounding chain nnz = 52.0<br>row of dataframe = 119"
         ],
         "type": "scatter",
         "x": [
          0.6237623762376238
         ],
         "y": [
          0.693069306930693
         ]
        },
        {
         "legendgroup": "1",
         "marker": {
          "color": "#EF553B"
         },
         "mode": "markers",
         "name": "Dimension 1",
         "showlegend": false,
         "text": [
          "birth filtration = 0.6237623762376238<br>death filtration = 0.6732673267326733<br>interval length = 0.04950495049504955<br>birth simplex = [2, 3]<br>cyle representative nnz = 11<br>bounding chain nnz = 37.0<br>row of dataframe = 120"
         ],
         "type": "scatter",
         "x": [
          0.6237623762376238
         ],
         "y": [
          0.6732673267326733
         ]
        },
        {
         "legendgroup": "1",
         "marker": {
          "color": "#EF553B"
         },
         "mode": "markers",
         "name": "Dimension 1",
         "showlegend": false,
         "text": [
          "birth filtration = 0.6138613861386139<br>death filtration = 0.7524752475247525<br>interval length = 0.13861386138613863<br>birth simplex = [71, 81]<br>cyle representative nnz = 12<br>bounding chain nnz = 64.0<br>row of dataframe = 121"
         ],
         "type": "scatter",
         "x": [
          0.6138613861386139
         ],
         "y": [
          0.7524752475247525
         ]
        },
        {
         "legendgroup": "1",
         "marker": {
          "color": "#EF553B"
         },
         "mode": "markers",
         "name": "Dimension 1",
         "showlegend": false,
         "text": [
          "birth filtration = 0.6138613861386139<br>death filtration = 0.6435643564356436<br>interval length = 0.02970297029702973<br>birth simplex = [30, 89]<br>cyle representative nnz = 5<br>bounding chain nnz = 3.0<br>row of dataframe = 122"
         ],
         "type": "scatter",
         "x": [
          0.6138613861386139
         ],
         "y": [
          0.6435643564356436
         ]
        },
        {
         "legendgroup": "1",
         "marker": {
          "color": "#EF553B"
         },
         "mode": "markers",
         "name": "Dimension 1",
         "showlegend": false,
         "text": [
          "birth filtration = 0.6138613861386139<br>death filtration = 0.6435643564356436<br>interval length = 0.02970297029702973<br>birth simplex = [10, 76]<br>cyle representative nnz = 4<br>bounding chain nnz = 12.0<br>row of dataframe = 123"
         ],
         "type": "scatter",
         "x": [
          0.6138613861386139
         ],
         "y": [
          0.6435643564356436
         ]
        },
        {
         "legendgroup": "1",
         "marker": {
          "color": "#EF553B"
         },
         "mode": "markers",
         "name": "Dimension 1",
         "showlegend": false,
         "text": [
          "birth filtration = 0.6039603960396039<br>death filtration = 0.6336633663366337<br>interval length = 0.02970297029702973<br>birth simplex = [80, 90]<br>cyle representative nnz = 8<br>bounding chain nnz = 8.0<br>row of dataframe = 124"
         ],
         "type": "scatter",
         "x": [
          0.6039603960396039
         ],
         "y": [
          0.6336633663366337
         ]
        },
        {
         "legendgroup": "1",
         "marker": {
          "color": "#EF553B"
         },
         "mode": "markers",
         "name": "Dimension 1",
         "showlegend": false,
         "text": [
          "birth filtration = 0.6039603960396039<br>death filtration = 0.6237623762376238<br>interval length = 0.01980198019801982<br>birth simplex = [60, 67]<br>cyle representative nnz = 7<br>bounding chain nnz = 5.0<br>row of dataframe = 125"
         ],
         "type": "scatter",
         "x": [
          0.6039603960396039
         ],
         "y": [
          0.6237623762376238
         ]
        },
        {
         "legendgroup": "1",
         "marker": {
          "color": "#EF553B"
         },
         "mode": "markers",
         "name": "Dimension 1",
         "showlegend": false,
         "text": [
          "birth filtration = 0.6039603960396039<br>death filtration = 0.6237623762376238<br>interval length = 0.01980198019801982<br>birth simplex = [20, 96]<br>cyle representative nnz = 5<br>bounding chain nnz = 3.0<br>row of dataframe = 126"
         ],
         "type": "scatter",
         "x": [
          0.6039603960396039
         ],
         "y": [
          0.6237623762376238
         ]
        },
        {
         "legendgroup": "1",
         "marker": {
          "color": "#EF553B"
         },
         "mode": "markers",
         "name": "Dimension 1",
         "showlegend": false,
         "text": [
          "birth filtration = 0.6039603960396039<br>death filtration = 0.6138613861386139<br>interval length = 0.00990099009900991<br>birth simplex = [9, 45]<br>cyle representative nnz = 7<br>bounding chain nnz = 13.0<br>row of dataframe = 127"
         ],
         "type": "scatter",
         "x": [
          0.6039603960396039
         ],
         "y": [
          0.6138613861386139
         ]
        },
        {
         "legendgroup": "1",
         "marker": {
          "color": "#EF553B"
         },
         "mode": "markers",
         "name": "Dimension 1",
         "showlegend": false,
         "text": [
          "birth filtration = 0.6039603960396039<br>death filtration = 0.6336633663366337<br>interval length = 0.02970297029702973<br>birth simplex = [2, 37]<br>cyle representative nnz = 9<br>bounding chain nnz = 13.0<br>row of dataframe = 128"
         ],
         "type": "scatter",
         "x": [
          0.6039603960396039
         ],
         "y": [
          0.6336633663366337
         ]
        },
        {
         "legendgroup": "1",
         "marker": {
          "color": "#EF553B"
         },
         "mode": "markers",
         "name": "Dimension 1",
         "showlegend": false,
         "text": [
          "birth filtration = 0.594059405940594<br>death filtration = 0.7227722772277227<br>interval length = 0.12871287128712872<br>birth simplex = [68, 75]<br>cyle representative nnz = 11<br>bounding chain nnz = 30.0<br>row of dataframe = 129"
         ],
         "type": "scatter",
         "x": [
          0.594059405940594
         ],
         "y": [
          0.7227722772277227
         ]
        },
        {
         "legendgroup": "1",
         "marker": {
          "color": "#EF553B"
         },
         "mode": "markers",
         "name": "Dimension 1",
         "showlegend": false,
         "text": [
          "birth filtration = 0.594059405940594<br>death filtration = 0.6237623762376238<br>interval length = 0.02970297029702973<br>birth simplex = [59, 62]<br>cyle representative nnz = 8<br>bounding chain nnz = 10.0<br>row of dataframe = 130"
         ],
         "type": "scatter",
         "x": [
          0.594059405940594
         ],
         "y": [
          0.6237623762376238
         ]
        },
        {
         "legendgroup": "1",
         "marker": {
          "color": "#EF553B"
         },
         "mode": "markers",
         "name": "Dimension 1",
         "showlegend": false,
         "text": [
          "birth filtration = 0.594059405940594<br>death filtration = 0.6732673267326733<br>interval length = 0.07920792079207928<br>birth simplex = [33, 89]<br>cyle representative nnz = 6<br>bounding chain nnz = 38.0<br>row of dataframe = 131"
         ],
         "type": "scatter",
         "x": [
          0.594059405940594
         ],
         "y": [
          0.6732673267326733
         ]
        },
        {
         "legendgroup": "1",
         "marker": {
          "color": "#EF553B"
         },
         "mode": "markers",
         "name": "Dimension 1",
         "showlegend": false,
         "text": [
          "birth filtration = 0.594059405940594<br>death filtration = 0.6633663366336634<br>interval length = 0.06930693069306937<br>birth simplex = [31, 52]<br>cyle representative nnz = 7<br>bounding chain nnz = 13.0<br>row of dataframe = 132"
         ],
         "type": "scatter",
         "x": [
          0.594059405940594
         ],
         "y": [
          0.6633663366336634
         ]
        },
        {
         "legendgroup": "1",
         "marker": {
          "color": "#EF553B"
         },
         "mode": "markers",
         "name": "Dimension 1",
         "showlegend": false,
         "text": [
          "birth filtration = 0.5841584158415841<br>death filtration = 0.6831683168316832<br>interval length = 0.0990099009900991<br>birth simplex = [62, 67]<br>cyle representative nnz = 7<br>bounding chain nnz = 13.0<br>row of dataframe = 133"
         ],
         "type": "scatter",
         "x": [
          0.5841584158415841
         ],
         "y": [
          0.6831683168316832
         ]
        },
        {
         "legendgroup": "1",
         "marker": {
          "color": "#EF553B"
         },
         "mode": "markers",
         "name": "Dimension 1",
         "showlegend": false,
         "text": [
          "birth filtration = 0.5841584158415841<br>death filtration = 0.6138613861386139<br>interval length = 0.02970297029702973<br>birth simplex = [41, 89]<br>cyle representative nnz = 10<br>bounding chain nnz = 8.0<br>row of dataframe = 134"
         ],
         "type": "scatter",
         "x": [
          0.5841584158415841
         ],
         "y": [
          0.6138613861386139
         ]
        },
        {
         "legendgroup": "1",
         "marker": {
          "color": "#EF553B"
         },
         "mode": "markers",
         "name": "Dimension 1",
         "showlegend": false,
         "text": [
          "birth filtration = 0.5841584158415841<br>death filtration = 0.6039603960396039<br>interval length = 0.01980198019801982<br>birth simplex = [34, 54]<br>cyle representative nnz = 16<br>bounding chain nnz = 28.0<br>row of dataframe = 135"
         ],
         "type": "scatter",
         "x": [
          0.5841584158415841
         ],
         "y": [
          0.6039603960396039
         ]
        },
        {
         "legendgroup": "1",
         "marker": {
          "color": "#EF553B"
         },
         "mode": "markers",
         "name": "Dimension 1",
         "showlegend": false,
         "text": [
          "birth filtration = 0.5841584158415841<br>death filtration = 0.6138613861386139<br>interval length = 0.02970297029702973<br>birth simplex = [27, 89]<br>cyle representative nnz = 7<br>bounding chain nnz = 7.0<br>row of dataframe = 136"
         ],
         "type": "scatter",
         "x": [
          0.5841584158415841
         ],
         "y": [
          0.6138613861386139
         ]
        },
        {
         "legendgroup": "1",
         "marker": {
          "color": "#EF553B"
         },
         "mode": "markers",
         "name": "Dimension 1",
         "showlegend": false,
         "text": [
          "birth filtration = 0.5841584158415841<br>death filtration = 0.6336633663366337<br>interval length = 0.04950495049504955<br>birth simplex = [27, 34]<br>cyle representative nnz = 5<br>bounding chain nnz = 17.0<br>row of dataframe = 137"
         ],
         "type": "scatter",
         "x": [
          0.5841584158415841
         ],
         "y": [
          0.6336633663366337
         ]
        },
        {
         "legendgroup": "1",
         "marker": {
          "color": "#EF553B"
         },
         "mode": "markers",
         "name": "Dimension 1",
         "showlegend": false,
         "text": [
          "birth filtration = 0.5841584158415841<br>death filtration = 0.6633663366336634<br>interval length = 0.07920792079207928<br>birth simplex = [16, 78]<br>cyle representative nnz = 6<br>bounding chain nnz = 12.0<br>row of dataframe = 138"
         ],
         "type": "scatter",
         "x": [
          0.5841584158415841
         ],
         "y": [
          0.6633663366336634
         ]
        },
        {
         "legendgroup": "1",
         "marker": {
          "color": "#EF553B"
         },
         "mode": "markers",
         "name": "Dimension 1",
         "showlegend": false,
         "text": [
          "birth filtration = 0.5841584158415841<br>death filtration = 0.594059405940594<br>interval length = 0.00990099009900991<br>birth simplex = [14, 34]<br>cyle representative nnz = 7<br>bounding chain nnz = 21.0<br>row of dataframe = 139"
         ],
         "type": "scatter",
         "x": [
          0.5841584158415841
         ],
         "y": [
          0.594059405940594
         ]
        },
        {
         "legendgroup": "1",
         "marker": {
          "color": "#EF553B"
         },
         "mode": "markers",
         "name": "Dimension 1",
         "showlegend": false,
         "text": [
          "birth filtration = 0.5841584158415841<br>death filtration = 0.8316831683168316<br>interval length = 0.24752475247524752<br>birth simplex = [0, 90]<br>cyle representative nnz = 7<br>bounding chain nnz = 57.0<br>row of dataframe = 140"
         ],
         "type": "scatter",
         "x": [
          0.5841584158415841
         ],
         "y": [
          0.8316831683168316
         ]
        },
        {
         "legendgroup": "1",
         "marker": {
          "color": "#EF553B"
         },
         "mode": "markers",
         "name": "Dimension 1",
         "showlegend": false,
         "text": [
          "birth filtration = 0.5742574257425742<br>death filtration = 0.5841584158415841<br>interval length = 0.00990099009900991<br>birth simplex = [73, 84]<br>cyle representative nnz = 5<br>bounding chain nnz = 3.0<br>row of dataframe = 141"
         ],
         "type": "scatter",
         "x": [
          0.5742574257425742
         ],
         "y": [
          0.5841584158415841
         ]
        },
        {
         "legendgroup": "1",
         "marker": {
          "color": "#EF553B"
         },
         "mode": "markers",
         "name": "Dimension 1",
         "showlegend": false,
         "text": [
          "birth filtration = 0.5742574257425742<br>death filtration = 0.6534653465346535<br>interval length = 0.07920792079207928<br>birth simplex = [54, 59]<br>cyle representative nnz = 5<br>bounding chain nnz = 44.0<br>row of dataframe = 142"
         ],
         "type": "scatter",
         "x": [
          0.5742574257425742
         ],
         "y": [
          0.6534653465346535
         ]
        },
        {
         "legendgroup": "1",
         "marker": {
          "color": "#EF553B"
         },
         "mode": "markers",
         "name": "Dimension 1",
         "showlegend": false,
         "text": [
          "birth filtration = 0.5742574257425742<br>death filtration = 0.594059405940594<br>interval length = 0.01980198019801982<br>birth simplex = [44, 57]<br>cyle representative nnz = 10<br>bounding chain nnz = 34.0<br>row of dataframe = 143"
         ],
         "type": "scatter",
         "x": [
          0.5742574257425742
         ],
         "y": [
          0.594059405940594
         ]
        },
        {
         "legendgroup": "1",
         "marker": {
          "color": "#EF553B"
         },
         "mode": "markers",
         "name": "Dimension 1",
         "showlegend": false,
         "text": [
          "birth filtration = 0.5742574257425742<br>death filtration = 0.6336633663366337<br>interval length = 0.05940594059405946<br>birth simplex = [36, 45]<br>cyle representative nnz = 8<br>bounding chain nnz = 24.0<br>row of dataframe = 144"
         ],
         "type": "scatter",
         "x": [
          0.5742574257425742
         ],
         "y": [
          0.6336633663366337
         ]
        },
        {
         "legendgroup": "1",
         "marker": {
          "color": "#EF553B"
         },
         "mode": "markers",
         "name": "Dimension 1",
         "showlegend": false,
         "text": [
          "birth filtration = 0.5742574257425742<br>death filtration = 0.7821782178217822<br>interval length = 0.207920792079208<br>birth simplex = [33, 45]<br>cyle representative nnz = 16<br>bounding chain nnz = 52.0<br>row of dataframe = 145"
         ],
         "type": "scatter",
         "x": [
          0.5742574257425742
         ],
         "y": [
          0.7821782178217822
         ]
        },
        {
         "legendgroup": "1",
         "marker": {
          "color": "#EF553B"
         },
         "mode": "markers",
         "name": "Dimension 1",
         "showlegend": false,
         "text": [
          "birth filtration = 0.5742574257425742<br>death filtration = 0.6732673267326733<br>interval length = 0.0990099009900991<br>birth simplex = [27, 73]<br>cyle representative nnz = 6<br>bounding chain nnz = 26.0<br>row of dataframe = 146"
         ],
         "type": "scatter",
         "x": [
          0.5742574257425742
         ],
         "y": [
          0.6732673267326733
         ]
        },
        {
         "legendgroup": "1",
         "marker": {
          "color": "#EF553B"
         },
         "mode": "markers",
         "name": "Dimension 1",
         "showlegend": false,
         "text": [
          "birth filtration = 0.5742574257425742<br>death filtration = 0.6732673267326733<br>interval length = 0.0990099009900991<br>birth simplex = [2, 52]<br>cyle representative nnz = 13<br>bounding chain nnz = 34.0<br>row of dataframe = 147"
         ],
         "type": "scatter",
         "x": [
          0.5742574257425742
         ],
         "y": [
          0.6732673267326733
         ]
        },
        {
         "legendgroup": "1",
         "marker": {
          "color": "#EF553B"
         },
         "mode": "markers",
         "name": "Dimension 1",
         "showlegend": false,
         "text": [
          "birth filtration = 0.5643564356435643<br>death filtration = 0.6237623762376238<br>interval length = 0.05940594059405946<br>birth simplex = [82, 96]<br>cyle representative nnz = 5<br>bounding chain nnz = 7.0<br>row of dataframe = 148"
         ],
         "type": "scatter",
         "x": [
          0.5643564356435643
         ],
         "y": [
          0.6237623762376238
         ]
        },
        {
         "legendgroup": "1",
         "marker": {
          "color": "#EF553B"
         },
         "mode": "markers",
         "name": "Dimension 1",
         "showlegend": false,
         "text": [
          "birth filtration = 0.5643564356435643<br>death filtration = 0.6435643564356436<br>interval length = 0.07920792079207928<br>birth simplex = [57, 85]<br>cyle representative nnz = 10<br>bounding chain nnz = 34.0<br>row of dataframe = 149"
         ],
         "type": "scatter",
         "x": [
          0.5643564356435643
         ],
         "y": [
          0.6435643564356436
         ]
        },
        {
         "legendgroup": "1",
         "marker": {
          "color": "#EF553B"
         },
         "mode": "markers",
         "name": "Dimension 1",
         "showlegend": false,
         "text": [
          "birth filtration = 0.5643564356435643<br>death filtration = 0.8118811881188119<br>interval length = 0.24752475247524763<br>birth simplex = [54, 83]<br>cyle representative nnz = 6<br>bounding chain nnz = 49.0<br>row of dataframe = 150"
         ],
         "type": "scatter",
         "x": [
          0.5643564356435643
         ],
         "y": [
          0.8118811881188119
         ]
        },
        {
         "legendgroup": "1",
         "marker": {
          "color": "#EF553B"
         },
         "mode": "markers",
         "name": "Dimension 1",
         "showlegend": false,
         "text": [
          "birth filtration = 0.5643564356435643<br>death filtration = 0.6039603960396039<br>interval length = 0.03960396039603964<br>birth simplex = [38, 92]<br>cyle representative nnz = 9<br>bounding chain nnz = 9.0<br>row of dataframe = 151"
         ],
         "type": "scatter",
         "x": [
          0.5643564356435643
         ],
         "y": [
          0.6039603960396039
         ]
        },
        {
         "legendgroup": "1",
         "marker": {
          "color": "#EF553B"
         },
         "mode": "markers",
         "name": "Dimension 1",
         "showlegend": false,
         "text": [
          "birth filtration = 0.5643564356435643<br>death filtration = 0.7029702970297029<br>interval length = 0.13861386138613863<br>birth simplex = [2, 71]<br>cyle representative nnz = 10<br>bounding chain nnz = 42.0<br>row of dataframe = 152"
         ],
         "type": "scatter",
         "x": [
          0.5643564356435643
         ],
         "y": [
          0.7029702970297029
         ]
        },
        {
         "legendgroup": "1",
         "marker": {
          "color": "#EF553B"
         },
         "mode": "markers",
         "name": "Dimension 1",
         "showlegend": false,
         "text": [
          "birth filtration = 0.5544554455445545<br>death filtration = 0.693069306930693<br>interval length = 0.13861386138613851<br>birth simplex = [46, 92]<br>cyle representative nnz = 8<br>bounding chain nnz = 10.0<br>row of dataframe = 153"
         ],
         "type": "scatter",
         "x": [
          0.5544554455445545
         ],
         "y": [
          0.693069306930693
         ]
        },
        {
         "legendgroup": "1",
         "marker": {
          "color": "#EF553B"
         },
         "mode": "markers",
         "name": "Dimension 1",
         "showlegend": false,
         "text": [
          "birth filtration = 0.5544554455445545<br>death filtration = 0.594059405940594<br>interval length = 0.03960396039603953<br>birth simplex = [43, 56]<br>cyle representative nnz = 7<br>bounding chain nnz = 17.0<br>row of dataframe = 154"
         ],
         "type": "scatter",
         "x": [
          0.5544554455445545
         ],
         "y": [
          0.594059405940594
         ]
        },
        {
         "legendgroup": "1",
         "marker": {
          "color": "#EF553B"
         },
         "mode": "markers",
         "name": "Dimension 1",
         "showlegend": false,
         "text": [
          "birth filtration = 0.5544554455445545<br>death filtration = 0.7326732673267327<br>interval length = 0.17821782178217815<br>birth simplex = [31, 53]<br>cyle representative nnz = 7<br>bounding chain nnz = 19.0<br>row of dataframe = 155"
         ],
         "type": "scatter",
         "x": [
          0.5544554455445545
         ],
         "y": [
          0.7326732673267327
         ]
        },
        {
         "legendgroup": "1",
         "marker": {
          "color": "#EF553B"
         },
         "mode": "markers",
         "name": "Dimension 1",
         "showlegend": false,
         "text": [
          "birth filtration = 0.5544554455445545<br>death filtration = 0.5841584158415841<br>interval length = 0.02970297029702962<br>birth simplex = [16, 93]<br>cyle representative nnz = 4<br>bounding chain nnz = 2.0<br>row of dataframe = 156"
         ],
         "type": "scatter",
         "x": [
          0.5544554455445545
         ],
         "y": [
          0.5841584158415841
         ]
        },
        {
         "legendgroup": "1",
         "marker": {
          "color": "#EF553B"
         },
         "mode": "markers",
         "name": "Dimension 1",
         "showlegend": false,
         "text": [
          "birth filtration = 0.5544554455445545<br>death filtration = 0.7326732673267327<br>interval length = 0.17821782178217815<br>birth simplex = [14, 45]<br>cyle representative nnz = 8<br>bounding chain nnz = 10.0<br>row of dataframe = 157"
         ],
         "type": "scatter",
         "x": [
          0.5544554455445545
         ],
         "y": [
          0.7326732673267327
         ]
        },
        {
         "legendgroup": "1",
         "marker": {
          "color": "#EF553B"
         },
         "mode": "markers",
         "name": "Dimension 1",
         "showlegend": false,
         "text": [
          "birth filtration = 0.5445544554455446<br>death filtration = 0.5544554455445545<br>interval length = 0.00990099009900991<br>birth simplex = [52, 75]<br>cyle representative nnz = 6<br>bounding chain nnz = 6.0<br>row of dataframe = 158"
         ],
         "type": "scatter",
         "x": [
          0.5445544554455446
         ],
         "y": [
          0.5544554455445545
         ]
        },
        {
         "legendgroup": "1",
         "marker": {
          "color": "#EF553B"
         },
         "mode": "markers",
         "name": "Dimension 1",
         "showlegend": false,
         "text": [
          "birth filtration = 0.5445544554455446<br>death filtration = 0.6039603960396039<br>interval length = 0.05940594059405935<br>birth simplex = [45, 80]<br>cyle representative nnz = 9<br>bounding chain nnz = 15.0<br>row of dataframe = 159"
         ],
         "type": "scatter",
         "x": [
          0.5445544554455446
         ],
         "y": [
          0.6039603960396039
         ]
        },
        {
         "legendgroup": "1",
         "marker": {
          "color": "#EF553B"
         },
         "mode": "markers",
         "name": "Dimension 1",
         "showlegend": false,
         "text": [
          "birth filtration = 0.5445544554455446<br>death filtration = 0.5841584158415841<br>interval length = 0.03960396039603953<br>birth simplex = [20, 59]<br>cyle representative nnz = 5<br>bounding chain nnz = 5.0<br>row of dataframe = 160"
         ],
         "type": "scatter",
         "x": [
          0.5445544554455446
         ],
         "y": [
          0.5841584158415841
         ]
        },
        {
         "legendgroup": "1",
         "marker": {
          "color": "#EF553B"
         },
         "mode": "markers",
         "name": "Dimension 1",
         "showlegend": false,
         "text": [
          "birth filtration = 0.5346534653465347<br>death filtration = 0.6435643564356436<br>interval length = 0.1089108910891089<br>birth simplex = [16, 30]<br>cyle representative nnz = 6<br>bounding chain nnz = 8.0<br>row of dataframe = 161"
         ],
         "type": "scatter",
         "x": [
          0.5346534653465347
         ],
         "y": [
          0.6435643564356436
         ]
        },
        {
         "legendgroup": "1",
         "marker": {
          "color": "#EF553B"
         },
         "mode": "markers",
         "name": "Dimension 1",
         "showlegend": false,
         "text": [
          "birth filtration = 0.5346534653465347<br>death filtration = 0.5643564356435643<br>interval length = 0.02970297029702962<br>birth simplex = [14, 53]<br>cyle representative nnz = 6<br>bounding chain nnz = 4.0<br>row of dataframe = 162"
         ],
         "type": "scatter",
         "x": [
          0.5346534653465347
         ],
         "y": [
          0.5643564356435643
         ]
        },
        {
         "legendgroup": "1",
         "marker": {
          "color": "#EF553B"
         },
         "mode": "markers",
         "name": "Dimension 1",
         "showlegend": false,
         "text": [
          "birth filtration = 0.5346534653465347<br>death filtration = 0.6237623762376238<br>interval length = 0.08910891089108908<br>birth simplex = [12, 52]<br>cyle representative nnz = 10<br>bounding chain nnz = 24.0<br>row of dataframe = 163"
         ],
         "type": "scatter",
         "x": [
          0.5346534653465347
         ],
         "y": [
          0.6237623762376238
         ]
        },
        {
         "legendgroup": "1",
         "marker": {
          "color": "#EF553B"
         },
         "mode": "markers",
         "name": "Dimension 1",
         "showlegend": false,
         "text": [
          "birth filtration = 0.5247524752475248<br>death filtration = 0.6336633663366337<br>interval length = 0.1089108910891089<br>birth simplex = [79, 89]<br>cyle representative nnz = 9<br>bounding chain nnz = 11.0<br>row of dataframe = 164"
         ],
         "type": "scatter",
         "x": [
          0.5247524752475248
         ],
         "y": [
          0.6336633663366337
         ]
        },
        {
         "legendgroup": "1",
         "marker": {
          "color": "#EF553B"
         },
         "mode": "markers",
         "name": "Dimension 1",
         "showlegend": false,
         "text": [
          "birth filtration = 0.5247524752475248<br>death filtration = 0.5346534653465347<br>interval length = 0.00990099009900991<br>birth simplex = [69, 83]<br>cyle representative nnz = 5<br>bounding chain nnz = 7.0<br>row of dataframe = 165"
         ],
         "type": "scatter",
         "x": [
          0.5247524752475248
         ],
         "y": [
          0.5346534653465347
         ]
        },
        {
         "legendgroup": "1",
         "marker": {
          "color": "#EF553B"
         },
         "mode": "markers",
         "name": "Dimension 1",
         "showlegend": false,
         "text": [
          "birth filtration = 0.5247524752475248<br>death filtration = 0.6336633663366337<br>interval length = 0.1089108910891089<br>birth simplex = [45, 52]<br>cyle representative nnz = 8<br>bounding chain nnz = 24.0<br>row of dataframe = 166"
         ],
         "type": "scatter",
         "x": [
          0.5247524752475248
         ],
         "y": [
          0.6336633663366337
         ]
        },
        {
         "legendgroup": "1",
         "marker": {
          "color": "#EF553B"
         },
         "mode": "markers",
         "name": "Dimension 1",
         "showlegend": false,
         "text": [
          "birth filtration = 0.5247524752475248<br>death filtration = 0.5643564356435643<br>interval length = 0.03960396039603953<br>birth simplex = [40, 100]<br>cyle representative nnz = 5<br>bounding chain nnz = 3.0<br>row of dataframe = 167"
         ],
         "type": "scatter",
         "x": [
          0.5247524752475248
         ],
         "y": [
          0.5643564356435643
         ]
        },
        {
         "legendgroup": "1",
         "marker": {
          "color": "#EF553B"
         },
         "mode": "markers",
         "name": "Dimension 1",
         "showlegend": false,
         "text": [
          "birth filtration = 0.5247524752475248<br>death filtration = 0.6831683168316832<br>interval length = 0.15841584158415845<br>birth simplex = [36, 90]<br>cyle representative nnz = 10<br>bounding chain nnz = 46.0<br>row of dataframe = 168"
         ],
         "type": "scatter",
         "x": [
          0.5247524752475248
         ],
         "y": [
          0.6831683168316832
         ]
        },
        {
         "legendgroup": "1",
         "marker": {
          "color": "#EF553B"
         },
         "mode": "markers",
         "name": "Dimension 1",
         "showlegend": false,
         "text": [
          "birth filtration = 0.5148514851485149<br>death filtration = 0.5247524752475248<br>interval length = 0.00990099009900991<br>birth simplex = [57, 78]<br>cyle representative nnz = 9<br>bounding chain nnz = 11.0<br>row of dataframe = 169"
         ],
         "type": "scatter",
         "x": [
          0.5148514851485149
         ],
         "y": [
          0.5247524752475248
         ]
        },
        {
         "legendgroup": "1",
         "marker": {
          "color": "#EF553B"
         },
         "mode": "markers",
         "name": "Dimension 1",
         "showlegend": false,
         "text": [
          "birth filtration = 0.5148514851485149<br>death filtration = 0.6633663366336634<br>interval length = 0.14851485148514854<br>birth simplex = [42, 90]<br>cyle representative nnz = 6<br>bounding chain nnz = 12.0<br>row of dataframe = 170"
         ],
         "type": "scatter",
         "x": [
          0.5148514851485149
         ],
         "y": [
          0.6633663366336634
         ]
        },
        {
         "legendgroup": "1",
         "marker": {
          "color": "#EF553B"
         },
         "mode": "markers",
         "name": "Dimension 1",
         "showlegend": false,
         "text": [
          "birth filtration = 0.5148514851485149<br>death filtration = 0.5247524752475248<br>interval length = 0.00990099009900991<br>birth simplex = [41, 97]<br>cyle representative nnz = 9<br>bounding chain nnz = 13.0<br>row of dataframe = 171"
         ],
         "type": "scatter",
         "x": [
          0.5148514851485149
         ],
         "y": [
          0.5247524752475248
         ]
        },
        {
         "legendgroup": "1",
         "marker": {
          "color": "#EF553B"
         },
         "mode": "markers",
         "name": "Dimension 1",
         "showlegend": false,
         "text": [
          "birth filtration = 0.5148514851485149<br>death filtration = 0.5247524752475248<br>interval length = 0.00990099009900991<br>birth simplex = [27, 74]<br>cyle representative nnz = 7<br>bounding chain nnz = 5.0<br>row of dataframe = 172"
         ],
         "type": "scatter",
         "x": [
          0.5148514851485149
         ],
         "y": [
          0.5247524752475248
         ]
        },
        {
         "legendgroup": "1",
         "marker": {
          "color": "#EF553B"
         },
         "mode": "markers",
         "name": "Dimension 1",
         "showlegend": false,
         "text": [
          "birth filtration = 0.5148514851485149<br>death filtration = 0.6039603960396039<br>interval length = 0.08910891089108908<br>birth simplex = [9, 40]<br>cyle representative nnz = 6<br>bounding chain nnz = 10.0<br>row of dataframe = 173"
         ],
         "type": "scatter",
         "x": [
          0.5148514851485149
         ],
         "y": [
          0.6039603960396039
         ]
        },
        {
         "legendgroup": "1",
         "marker": {
          "color": "#EF553B"
         },
         "mode": "markers",
         "name": "Dimension 1",
         "showlegend": false,
         "text": [
          "birth filtration = 0.504950495049505<br>death filtration = 0.5742574257425742<br>interval length = 0.06930693069306926<br>birth simplex = [24, 83]<br>cyle representative nnz = 7<br>bounding chain nnz = 5.0<br>row of dataframe = 174"
         ],
         "type": "scatter",
         "x": [
          0.504950495049505
         ],
         "y": [
          0.5742574257425742
         ]
        },
        {
         "legendgroup": "1",
         "marker": {
          "color": "#EF553B"
         },
         "mode": "markers",
         "name": "Dimension 1",
         "showlegend": false,
         "text": [
          "birth filtration = 0.504950495049505<br>death filtration = 0.5148514851485149<br>interval length = 0.00990099009900991<br>birth simplex = [11, 40]<br>cyle representative nnz = 7<br>bounding chain nnz = 7.0<br>row of dataframe = 175"
         ],
         "type": "scatter",
         "x": [
          0.504950495049505
         ],
         "y": [
          0.5148514851485149
         ]
        },
        {
         "legendgroup": "1",
         "marker": {
          "color": "#EF553B"
         },
         "mode": "markers",
         "name": "Dimension 1",
         "showlegend": false,
         "text": [
          "birth filtration = 0.49504950495049505<br>death filtration = 0.5247524752475248<br>interval length = 0.02970297029702973<br>birth simplex = [57, 93]<br>cyle representative nnz = 7<br>bounding chain nnz = 9.0<br>row of dataframe = 176"
         ],
         "type": "scatter",
         "x": [
          0.49504950495049505
         ],
         "y": [
          0.5247524752475248
         ]
        },
        {
         "legendgroup": "1",
         "marker": {
          "color": "#EF553B"
         },
         "mode": "markers",
         "name": "Dimension 1",
         "showlegend": false,
         "text": [
          "birth filtration = 0.49504950495049505<br>death filtration = 0.6138613861386139<br>interval length = 0.1188118811881188<br>birth simplex = [55, 82]<br>cyle representative nnz = 6<br>bounding chain nnz = 14.0<br>row of dataframe = 177"
         ],
         "type": "scatter",
         "x": [
          0.49504950495049505
         ],
         "y": [
          0.6138613861386139
         ]
        },
        {
         "legendgroup": "1",
         "marker": {
          "color": "#EF553B"
         },
         "mode": "markers",
         "name": "Dimension 1",
         "showlegend": false,
         "text": [
          "birth filtration = 0.49504950495049505<br>death filtration = 0.6633663366336634<br>interval length = 0.16831683168316836<br>birth simplex = [42, 56]<br>cyle representative nnz = 10<br>bounding chain nnz = 34.0<br>row of dataframe = 178"
         ],
         "type": "scatter",
         "x": [
          0.49504950495049505
         ],
         "y": [
          0.6633663366336634
         ]
        },
        {
         "legendgroup": "1",
         "marker": {
          "color": "#EF553B"
         },
         "mode": "markers",
         "name": "Dimension 1",
         "showlegend": false,
         "text": [
          "birth filtration = 0.49504950495049505<br>death filtration = 0.504950495049505<br>interval length = 0.00990099009900991<br>birth simplex = [37, 55]<br>cyle representative nnz = 7<br>bounding chain nnz = 5.0<br>row of dataframe = 179"
         ],
         "type": "scatter",
         "x": [
          0.49504950495049505
         ],
         "y": [
          0.504950495049505
         ]
        },
        {
         "legendgroup": "1",
         "marker": {
          "color": "#EF553B"
         },
         "mode": "markers",
         "name": "Dimension 1",
         "showlegend": false,
         "text": [
          "birth filtration = 0.48514851485148514<br>death filtration = 0.49504950495049505<br>interval length = 0.00990099009900991<br>birth simplex = [57, 74]<br>cyle representative nnz = 5<br>bounding chain nnz = 3.0<br>row of dataframe = 180"
         ],
         "type": "scatter",
         "x": [
          0.48514851485148514
         ],
         "y": [
          0.49504950495049505
         ]
        },
        {
         "legendgroup": "1",
         "marker": {
          "color": "#EF553B"
         },
         "mode": "markers",
         "name": "Dimension 1",
         "showlegend": false,
         "text": [
          "birth filtration = 0.48514851485148514<br>death filtration = 0.5247524752475248<br>interval length = 0.03960396039603964<br>birth simplex = [43, 75]<br>cyle representative nnz = 6<br>bounding chain nnz = 8.0<br>row of dataframe = 181"
         ],
         "type": "scatter",
         "x": [
          0.48514851485148514
         ],
         "y": [
          0.5247524752475248
         ]
        },
        {
         "legendgroup": "1",
         "marker": {
          "color": "#EF553B"
         },
         "mode": "markers",
         "name": "Dimension 1",
         "showlegend": false,
         "text": [
          "birth filtration = 0.4752475247524752<br>death filtration = 0.504950495049505<br>interval length = 0.02970297029702973<br>birth simplex = [70, 94]<br>cyle representative nnz = 8<br>bounding chain nnz = 10.0<br>row of dataframe = 182"
         ],
         "type": "scatter",
         "x": [
          0.4752475247524752
         ],
         "y": [
          0.504950495049505
         ]
        },
        {
         "legendgroup": "1",
         "marker": {
          "color": "#EF553B"
         },
         "mode": "markers",
         "name": "Dimension 1",
         "showlegend": false,
         "text": [
          "birth filtration = 0.4752475247524752<br>death filtration = 0.49504950495049505<br>interval length = 0.01980198019801982<br>birth simplex = [20, 42]<br>cyle representative nnz = 4<br>bounding chain nnz = 2.0<br>row of dataframe = 183"
         ],
         "type": "scatter",
         "x": [
          0.4752475247524752
         ],
         "y": [
          0.49504950495049505
         ]
        },
        {
         "legendgroup": "1",
         "marker": {
          "color": "#EF553B"
         },
         "mode": "markers",
         "name": "Dimension 1",
         "showlegend": false,
         "text": [
          "birth filtration = 0.4752475247524752<br>death filtration = 0.49504950495049505<br>interval length = 0.01980198019801982<br>birth simplex = [11, 42]<br>cyle representative nnz = 6<br>bounding chain nnz = 4.0<br>row of dataframe = 184"
         ],
         "type": "scatter",
         "x": [
          0.4752475247524752
         ],
         "y": [
          0.49504950495049505
         ]
        },
        {
         "legendgroup": "1",
         "marker": {
          "color": "#EF553B"
         },
         "mode": "markers",
         "name": "Dimension 1",
         "showlegend": false,
         "text": [
          "birth filtration = 0.4752475247524752<br>death filtration = 0.6633663366336634<br>interval length = 0.18811881188118817<br>birth simplex = [10, 28]<br>cyle representative nnz = 9<br>bounding chain nnz = 19.0<br>row of dataframe = 185"
         ],
         "type": "scatter",
         "x": [
          0.4752475247524752
         ],
         "y": [
          0.6633663366336634
         ]
        },
        {
         "legendgroup": "1",
         "marker": {
          "color": "#EF553B"
         },
         "mode": "markers",
         "name": "Dimension 1",
         "showlegend": false,
         "text": [
          "birth filtration = 0.43564356435643564<br>death filtration = 0.45544554455445546<br>interval length = 0.01980198019801982<br>birth simplex = [69, 70]<br>cyle representative nnz = 6<br>bounding chain nnz = 4.0<br>row of dataframe = 186"
         ],
         "type": "scatter",
         "x": [
          0.43564356435643564
         ],
         "y": [
          0.45544554455445546
         ]
        },
        {
         "legendgroup": "1",
         "marker": {
          "color": "#EF553B"
         },
         "mode": "markers",
         "name": "Dimension 1",
         "showlegend": false,
         "text": [
          "birth filtration = 0.4158415841584158<br>death filtration = 0.42574257425742573<br>interval length = 0.00990099009900991<br>birth simplex = [55, 70]<br>cyle representative nnz = 4<br>bounding chain nnz = 2.0<br>row of dataframe = 187"
         ],
         "type": "scatter",
         "x": [
          0.4158415841584158
         ],
         "y": [
          0.42574257425742573
         ]
        },
        {
         "legendgroup": "2",
         "marker": {
          "color": "#00CC96"
         },
         "mode": "markers",
         "name": "Dimension 2",
         "showlegend": true,
         "text": [
          "birth filtration = 0.9801980198019802<br>death filtration = 0.9900990099009901<br>interval length = 0.00990099009900991<br>birth simplex = [18, 64, 98]<br>cyle representative nnz = 20<br>bounding chain nnz = 110.0<br>row of dataframe = 188"
         ],
         "type": "scatter",
         "x": [
          0.9801980198019802
         ],
         "y": [
          0.9900990099009901
         ]
        },
        {
         "legendgroup": "2",
         "marker": {
          "color": "#00CC96"
         },
         "mode": "markers",
         "name": "Dimension 2",
         "showlegend": false,
         "text": [
          "birth filtration = 0.9603960396039604<br>death filtration = 0.9801980198019802<br>interval length = 0.01980198019801982<br>birth simplex = [58, 64, 77]<br>cyle representative nnz = 110<br>bounding chain nnz = 509.0<br>row of dataframe = 189"
         ],
         "type": "scatter",
         "x": [
          0.9603960396039604
         ],
         "y": [
          0.9801980198019802
         ]
        },
        {
         "legendgroup": "2",
         "marker": {
          "color": "#00CC96"
         },
         "mode": "markers",
         "name": "Dimension 2",
         "showlegend": false,
         "text": [
          "birth filtration = 0.9504950495049505<br>death filtration = 0.9702970297029703<br>interval length = 0.01980198019801982<br>birth simplex = [35, 61, 81]<br>cyle representative nnz = 40<br>bounding chain nnz = 506.0<br>row of dataframe = 190"
         ],
         "type": "scatter",
         "x": [
          0.9504950495049505
         ],
         "y": [
          0.9702970297029703
         ]
        },
        {
         "legendgroup": "2",
         "marker": {
          "color": "#00CC96"
         },
         "mode": "markers",
         "name": "Dimension 2",
         "showlegend": false,
         "text": [
          "birth filtration = 0.9504950495049505<br>death filtration = 0.9603960396039604<br>interval length = 0.00990099009900991<br>birth simplex = [25, 32, 68]<br>cyle representative nnz = 54<br>bounding chain nnz = 410.0<br>row of dataframe = 191"
         ],
         "type": "scatter",
         "x": [
          0.9504950495049505
         ],
         "y": [
          0.9603960396039604
         ]
        },
        {
         "legendgroup": "2",
         "marker": {
          "color": "#00CC96"
         },
         "mode": "markers",
         "name": "Dimension 2",
         "showlegend": false,
         "text": [
          "birth filtration = 0.9306930693069307<br>death filtration = 0.9504950495049505<br>interval length = 0.01980198019801971<br>birth simplex = [12, 15, 50]<br>cyle representative nnz = 89<br>bounding chain nnz = 249.0<br>row of dataframe = 192"
         ],
         "type": "scatter",
         "x": [
          0.9306930693069307
         ],
         "y": [
          0.9504950495049505
         ]
        },
        {
         "legendgroup": "2",
         "marker": {
          "color": "#00CC96"
         },
         "mode": "markers",
         "name": "Dimension 2",
         "showlegend": false,
         "text": [
          "birth filtration = 0.9207920792079208<br>death filtration = 0.9504950495049505<br>interval length = 0.02970297029702962<br>birth simplex = [15, 63, 64]<br>cyle representative nnz = 77<br>bounding chain nnz = 234.0<br>row of dataframe = 193"
         ],
         "type": "scatter",
         "x": [
          0.9207920792079208
         ],
         "y": [
          0.9504950495049505
         ]
        },
        {
         "legendgroup": "2",
         "marker": {
          "color": "#00CC96"
         },
         "mode": "markers",
         "name": "Dimension 2",
         "showlegend": false,
         "text": [
          "birth filtration = 0.9207920792079208<br>death filtration = 0.9504950495049505<br>interval length = 0.02970297029702962<br>birth simplex = [15, 54, 64]<br>cyle representative nnz = 22<br>bounding chain nnz = 14.0<br>row of dataframe = 194"
         ],
         "type": "scatter",
         "x": [
          0.9207920792079208
         ],
         "y": [
          0.9504950495049505
         ]
        },
        {
         "legendgroup": "2",
         "marker": {
          "color": "#00CC96"
         },
         "mode": "markers",
         "name": "Dimension 2",
         "showlegend": false,
         "text": [
          "birth filtration = 0.9108910891089109<br>death filtration = 0.9306930693069307<br>interval length = 0.01980198019801982<br>birth simplex = [29, 63, 77]<br>cyle representative nnz = 10<br>bounding chain nnz = 5.0<br>row of dataframe = 195"
         ],
         "type": "scatter",
         "x": [
          0.9108910891089109
         ],
         "y": [
          0.9306930693069307
         ]
        },
        {
         "legendgroup": "2",
         "marker": {
          "color": "#00CC96"
         },
         "mode": "markers",
         "name": "Dimension 2",
         "showlegend": false,
         "text": [
          "birth filtration = 0.900990099009901<br>death filtration = 0.9603960396039604<br>interval length = 0.05940594059405935<br>birth simplex = [54, 77, 86]<br>cyle representative nnz = 40<br>bounding chain nnz = 380.0<br>row of dataframe = 196"
         ],
         "type": "scatter",
         "x": [
          0.900990099009901
         ],
         "y": [
          0.9603960396039604
         ]
        },
        {
         "legendgroup": "2",
         "marker": {
          "color": "#00CC96"
         },
         "mode": "markers",
         "name": "Dimension 2",
         "showlegend": false,
         "text": [
          "birth filtration = 0.900990099009901<br>death filtration = 0.9108910891089109<br>interval length = 0.00990099009900991<br>birth simplex = [54, 66, 79]<br>cyle representative nnz = 46<br>bounding chain nnz = 132.0<br>row of dataframe = 197"
         ],
         "type": "scatter",
         "x": [
          0.900990099009901
         ],
         "y": [
          0.9108910891089109
         ]
        },
        {
         "legendgroup": "2",
         "marker": {
          "color": "#00CC96"
         },
         "mode": "markers",
         "name": "Dimension 2",
         "showlegend": false,
         "text": [
          "birth filtration = 0.900990099009901<br>death filtration = 0.9207920792079208<br>interval length = 0.01980198019801982<br>birth simplex = [39, 62, 68]<br>cyle representative nnz = 20<br>bounding chain nnz = 299.0<br>row of dataframe = 198"
         ],
         "type": "scatter",
         "x": [
          0.900990099009901
         ],
         "y": [
          0.9207920792079208
         ]
        },
        {
         "legendgroup": "2",
         "marker": {
          "color": "#00CC96"
         },
         "mode": "markers",
         "name": "Dimension 2",
         "showlegend": false,
         "text": [
          "birth filtration = 0.900990099009901<br>death filtration = 0.9801980198019802<br>interval length = 0.07920792079207917<br>birth simplex = [33, 47, 77]<br>cyle representative nnz = 125<br>bounding chain nnz = 691.0<br>row of dataframe = 199"
         ],
         "type": "scatter",
         "x": [
          0.900990099009901
         ],
         "y": [
          0.9801980198019802
         ]
        },
        {
         "legendgroup": "2",
         "marker": {
          "color": "#00CC96"
         },
         "mode": "markers",
         "name": "Dimension 2",
         "showlegend": false,
         "text": [
          "birth filtration = 0.900990099009901<br>death filtration = 0.9108910891089109<br>interval length = 0.00990099009900991<br>birth simplex = [15, 18, 42]<br>cyle representative nnz = 40<br>bounding chain nnz = 183.0<br>row of dataframe = 200"
         ],
         "type": "scatter",
         "x": [
          0.900990099009901
         ],
         "y": [
          0.9108910891089109
         ]
        },
        {
         "legendgroup": "2",
         "marker": {
          "color": "#00CC96"
         },
         "mode": "markers",
         "name": "Dimension 2",
         "showlegend": false,
         "text": [
          "birth filtration = 0.8910891089108911<br>death filtration = 0.9306930693069307<br>interval length = 0.03960396039603964<br>birth simplex = [62, 63, 77]<br>cyle representative nnz = 59<br>bounding chain nnz = 414.0<br>row of dataframe = 201"
         ],
         "type": "scatter",
         "x": [
          0.8910891089108911
         ],
         "y": [
          0.9306930693069307
         ]
        },
        {
         "legendgroup": "2",
         "marker": {
          "color": "#00CC96"
         },
         "mode": "markers",
         "name": "Dimension 2",
         "showlegend": false,
         "text": [
          "birth filtration = 0.8910891089108911<br>death filtration = 0.9108910891089109<br>interval length = 0.01980198019801982<br>birth simplex = [40, 48, 82]<br>cyle representative nnz = 30<br>bounding chain nnz = 159.0<br>row of dataframe = 202"
         ],
         "type": "scatter",
         "x": [
          0.8910891089108911
         ],
         "y": [
          0.9108910891089109
         ]
        },
        {
         "legendgroup": "2",
         "marker": {
          "color": "#00CC96"
         },
         "mode": "markers",
         "name": "Dimension 2",
         "showlegend": false,
         "text": [
          "birth filtration = 0.8910891089108911<br>death filtration = 0.9108910891089109<br>interval length = 0.01980198019801982<br>birth simplex = [28, 62, 87]<br>cyle representative nnz = 62<br>bounding chain nnz = 311.0<br>row of dataframe = 203"
         ],
         "type": "scatter",
         "x": [
          0.8910891089108911
         ],
         "y": [
          0.9108910891089109
         ]
        },
        {
         "legendgroup": "2",
         "marker": {
          "color": "#00CC96"
         },
         "mode": "markers",
         "name": "Dimension 2",
         "showlegend": false,
         "text": [
          "birth filtration = 0.8910891089108911<br>death filtration = 0.9108910891089109<br>interval length = 0.01980198019801982<br>birth simplex = [15, 30, 65]<br>cyle representative nnz = 60<br>bounding chain nnz = 363.0<br>row of dataframe = 204"
         ],
         "type": "scatter",
         "x": [
          0.8910891089108911
         ],
         "y": [
          0.9108910891089109
         ]
        },
        {
         "legendgroup": "2",
         "marker": {
          "color": "#00CC96"
         },
         "mode": "markers",
         "name": "Dimension 2",
         "showlegend": false,
         "text": [
          "birth filtration = 0.8910891089108911<br>death filtration = 0.9108910891089109<br>interval length = 0.01980198019801982<br>birth simplex = [15, 18, 39]<br>cyle representative nnz = 48<br>bounding chain nnz = 501.0<br>row of dataframe = 205"
         ],
         "type": "scatter",
         "x": [
          0.8910891089108911
         ],
         "y": [
          0.9108910891089109
         ]
        },
        {
         "legendgroup": "2",
         "marker": {
          "color": "#00CC96"
         },
         "mode": "markers",
         "name": "Dimension 2",
         "showlegend": false,
         "text": [
          "birth filtration = 0.8910891089108911<br>death filtration = 0.900990099009901<br>interval length = 0.00990099009900991<br>birth simplex = [1, 15, 83]<br>cyle representative nnz = 18<br>bounding chain nnz = 443.0<br>row of dataframe = 206"
         ],
         "type": "scatter",
         "x": [
          0.8910891089108911
         ],
         "y": [
          0.900990099009901
         ]
        },
        {
         "legendgroup": "2",
         "marker": {
          "color": "#00CC96"
         },
         "mode": "markers",
         "name": "Dimension 2",
         "showlegend": false,
         "text": [
          "birth filtration = 0.8811881188118812<br>death filtration = 0.8910891089108911<br>interval length = 0.00990099009900991<br>birth simplex = [18, 39, 77]<br>cyle representative nnz = 84<br>bounding chain nnz = 329.0<br>row of dataframe = 207"
         ],
         "type": "scatter",
         "x": [
          0.8811881188118812
         ],
         "y": [
          0.8910891089108911
         ]
        },
        {
         "legendgroup": "2",
         "marker": {
          "color": "#00CC96"
         },
         "mode": "markers",
         "name": "Dimension 2",
         "showlegend": false,
         "text": [
          "birth filtration = 0.8811881188118812<br>death filtration = 0.900990099009901<br>interval length = 0.01980198019801982<br>birth simplex = [15, 30, 74]<br>cyle representative nnz = 34<br>bounding chain nnz = 425.0<br>row of dataframe = 208"
         ],
         "type": "scatter",
         "x": [
          0.8811881188118812
         ],
         "y": [
          0.900990099009901
         ]
        },
        {
         "legendgroup": "2",
         "marker": {
          "color": "#00CC96"
         },
         "mode": "markers",
         "name": "Dimension 2",
         "showlegend": false,
         "text": [
          "birth filtration = 0.8811881188118812<br>death filtration = 0.8910891089108911<br>interval length = 0.00990099009900991<br>birth simplex = [14, 23, 35]<br>cyle representative nnz = 12<br>bounding chain nnz = 7.0<br>row of dataframe = 209"
         ],
         "type": "scatter",
         "x": [
          0.8811881188118812
         ],
         "y": [
          0.8910891089108911
         ]
        },
        {
         "legendgroup": "2",
         "marker": {
          "color": "#00CC96"
         },
         "mode": "markers",
         "name": "Dimension 2",
         "showlegend": false,
         "text": [
          "birth filtration = 0.8811881188118812<br>death filtration = 0.8910891089108911<br>interval length = 0.00990099009900991<br>birth simplex = [7, 72, 81]<br>cyle representative nnz = 38<br>bounding chain nnz = 94.0<br>row of dataframe = 210"
         ],
         "type": "scatter",
         "x": [
          0.8811881188118812
         ],
         "y": [
          0.8910891089108911
         ]
        },
        {
         "legendgroup": "2",
         "marker": {
          "color": "#00CC96"
         },
         "mode": "markers",
         "name": "Dimension 2",
         "showlegend": false,
         "text": [
          "birth filtration = 0.8811881188118812<br>death filtration = 0.900990099009901<br>interval length = 0.01980198019801982<br>birth simplex = [0, 3, 37]<br>cyle representative nnz = 50<br>bounding chain nnz = 224.0<br>row of dataframe = 211"
         ],
         "type": "scatter",
         "x": [
          0.8811881188118812
         ],
         "y": [
          0.900990099009901
         ]
        },
        {
         "legendgroup": "2",
         "marker": {
          "color": "#00CC96"
         },
         "mode": "markers",
         "name": "Dimension 2",
         "showlegend": false,
         "text": [
          "birth filtration = 0.8712871287128713<br>death filtration = 0.9801980198019802<br>interval length = 0.1089108910891089<br>birth simplex = [71, 76, 81]<br>cyle representative nnz = 59<br>bounding chain nnz = 468.0<br>row of dataframe = 212"
         ],
         "type": "scatter",
         "x": [
          0.8712871287128713
         ],
         "y": [
          0.9801980198019802
         ]
        },
        {
         "legendgroup": "2",
         "marker": {
          "color": "#00CC96"
         },
         "mode": "markers",
         "name": "Dimension 2",
         "showlegend": false,
         "text": [
          "birth filtration = 0.8712871287128713<br>death filtration = 0.8910891089108911<br>interval length = 0.01980198019801982<br>birth simplex = [61, 65, 81]<br>cyle representative nnz = 30<br>bounding chain nnz = 63.0<br>row of dataframe = 213"
         ],
         "type": "scatter",
         "x": [
          0.8712871287128713
         ],
         "y": [
          0.8910891089108911
         ]
        },
        {
         "legendgroup": "2",
         "marker": {
          "color": "#00CC96"
         },
         "mode": "markers",
         "name": "Dimension 2",
         "showlegend": false,
         "text": [
          "birth filtration = 0.8712871287128713<br>death filtration = 0.900990099009901<br>interval length = 0.02970297029702973<br>birth simplex = [33, 72, 84]<br>cyle representative nnz = 52<br>bounding chain nnz = 192.0<br>row of dataframe = 214"
         ],
         "type": "scatter",
         "x": [
          0.8712871287128713
         ],
         "y": [
          0.900990099009901
         ]
        },
        {
         "legendgroup": "2",
         "marker": {
          "color": "#00CC96"
         },
         "mode": "markers",
         "name": "Dimension 2",
         "showlegend": false,
         "text": [
          "birth filtration = 0.8712871287128713<br>death filtration = 0.8811881188118812<br>interval length = 0.00990099009900991<br>birth simplex = [33, 72, 81]<br>cyle representative nnz = 64<br>bounding chain nnz = 354.0<br>row of dataframe = 215"
         ],
         "type": "scatter",
         "x": [
          0.8712871287128713
         ],
         "y": [
          0.8811881188118812
         ]
        },
        {
         "legendgroup": "2",
         "marker": {
          "color": "#00CC96"
         },
         "mode": "markers",
         "name": "Dimension 2",
         "showlegend": false,
         "text": [
          "birth filtration = 0.8712871287128713<br>death filtration = 0.9108910891089109<br>interval length = 0.03960396039603964<br>birth simplex = [15, 27, 84]<br>cyle representative nnz = 51<br>bounding chain nnz = 497.0<br>row of dataframe = 216"
         ],
         "type": "scatter",
         "x": [
          0.8712871287128713
         ],
         "y": [
          0.9108910891089109
         ]
        },
        {
         "legendgroup": "2",
         "marker": {
          "color": "#00CC96"
         },
         "mode": "markers",
         "name": "Dimension 2",
         "showlegend": false,
         "text": [
          "birth filtration = 0.8613861386138614<br>death filtration = 0.8910891089108911<br>interval length = 0.02970297029702973<br>birth simplex = [72, 84, 86]<br>cyle representative nnz = 46<br>bounding chain nnz = 77.0<br>row of dataframe = 217"
         ],
         "type": "scatter",
         "x": [
          0.8613861386138614
         ],
         "y": [
          0.8910891089108911
         ]
        },
        {
         "legendgroup": "2",
         "marker": {
          "color": "#00CC96"
         },
         "mode": "markers",
         "name": "Dimension 2",
         "showlegend": false,
         "text": [
          "birth filtration = 0.8613861386138614<br>death filtration = 0.900990099009901<br>interval length = 0.03960396039603964<br>birth simplex = [24, 70, 77]<br>cyle representative nnz = 42<br>bounding chain nnz = 223.0<br>row of dataframe = 218"
         ],
         "type": "scatter",
         "x": [
          0.8613861386138614
         ],
         "y": [
          0.900990099009901
         ]
        },
        {
         "legendgroup": "2",
         "marker": {
          "color": "#00CC96"
         },
         "mode": "markers",
         "name": "Dimension 2",
         "showlegend": false,
         "text": [
          "birth filtration = 0.8613861386138614<br>death filtration = 0.9306930693069307<br>interval length = 0.06930693069306937<br>birth simplex = [18, 42, 73]<br>cyle representative nnz = 52<br>bounding chain nnz = 231.0<br>row of dataframe = 219"
         ],
         "type": "scatter",
         "x": [
          0.8613861386138614
         ],
         "y": [
          0.9306930693069307
         ]
        },
        {
         "legendgroup": "2",
         "marker": {
          "color": "#00CC96"
         },
         "mode": "markers",
         "name": "Dimension 2",
         "showlegend": false,
         "text": [
          "birth filtration = 0.8613861386138614<br>death filtration = 0.8811881188118812<br>interval length = 0.01980198019801982<br>birth simplex = [14, 31, 93]<br>cyle representative nnz = 50<br>bounding chain nnz = 164.0<br>row of dataframe = 220"
         ],
         "type": "scatter",
         "x": [
          0.8613861386138614
         ],
         "y": [
          0.8811881188118812
         ]
        },
        {
         "legendgroup": "2",
         "marker": {
          "color": "#00CC96"
         },
         "mode": "markers",
         "name": "Dimension 2",
         "showlegend": false,
         "text": [
          "birth filtration = 0.8514851485148515<br>death filtration = 0.900990099009901<br>interval length = 0.04950495049504955<br>birth simplex = [32, 37, 67]<br>cyle representative nnz = 50<br>bounding chain nnz = 382.0<br>row of dataframe = 221"
         ],
         "type": "scatter",
         "x": [
          0.8514851485148515
         ],
         "y": [
          0.900990099009901
         ]
        },
        {
         "legendgroup": "2",
         "marker": {
          "color": "#00CC96"
         },
         "mode": "markers",
         "name": "Dimension 2",
         "showlegend": false,
         "text": [
          "birth filtration = 0.8514851485148515<br>death filtration = 0.8613861386138614<br>interval length = 0.00990099009900991<br>birth simplex = [31, 33, 92]<br>cyle representative nnz = 54<br>bounding chain nnz = 140.0<br>row of dataframe = 222"
         ],
         "type": "scatter",
         "x": [
          0.8514851485148515
         ],
         "y": [
          0.8613861386138614
         ]
        },
        {
         "legendgroup": "2",
         "marker": {
          "color": "#00CC96"
         },
         "mode": "markers",
         "name": "Dimension 2",
         "showlegend": false,
         "text": [
          "birth filtration = 0.8316831683168316<br>death filtration = 0.8613861386138614<br>interval length = 0.02970297029702973<br>birth simplex = [73, 89, 93]<br>cyle representative nnz = 86<br>bounding chain nnz = 282.0<br>row of dataframe = 223"
         ],
         "type": "scatter",
         "x": [
          0.8316831683168316
         ],
         "y": [
          0.8613861386138614
         ]
        },
        {
         "legendgroup": "2",
         "marker": {
          "color": "#00CC96"
         },
         "mode": "markers",
         "name": "Dimension 2",
         "showlegend": false,
         "text": [
          "birth filtration = 0.8316831683168316<br>death filtration = 0.8811881188118812<br>interval length = 0.04950495049504955<br>birth simplex = [54, 66, 74]<br>cyle representative nnz = 29<br>bounding chain nnz = 88.0<br>row of dataframe = 224"
         ],
         "type": "scatter",
         "x": [
          0.8316831683168316
         ],
         "y": [
          0.8811881188118812
         ]
        },
        {
         "legendgroup": "2",
         "marker": {
          "color": "#00CC96"
         },
         "mode": "markers",
         "name": "Dimension 2",
         "showlegend": false,
         "text": [
          "birth filtration = 0.8316831683168316<br>death filtration = 0.9108910891089109<br>interval length = 0.07920792079207928<br>birth simplex = [51, 71, 81]<br>cyle representative nnz = 55<br>bounding chain nnz = 452.0<br>row of dataframe = 225"
         ],
         "type": "scatter",
         "x": [
          0.8316831683168316
         ],
         "y": [
          0.9108910891089109
         ]
        },
        {
         "legendgroup": "2",
         "marker": {
          "color": "#00CC96"
         },
         "mode": "markers",
         "name": "Dimension 2",
         "showlegend": false,
         "text": [
          "birth filtration = 0.8316831683168316<br>death filtration = 0.9108910891089109<br>interval length = 0.07920792079207928<br>birth simplex = [51, 61, 81]<br>cyle representative nnz = 24<br>bounding chain nnz = 310.0<br>row of dataframe = 226"
         ],
         "type": "scatter",
         "x": [
          0.8316831683168316
         ],
         "y": [
          0.9108910891089109
         ]
        },
        {
         "legendgroup": "2",
         "marker": {
          "color": "#00CC96"
         },
         "mode": "markers",
         "name": "Dimension 2",
         "showlegend": false,
         "text": [
          "birth filtration = 0.8316831683168316<br>death filtration = 0.8514851485148515<br>interval length = 0.01980198019801982<br>birth simplex = [45, 51, 81]<br>cyle representative nnz = 50<br>bounding chain nnz = 344.0<br>row of dataframe = 227"
         ],
         "type": "scatter",
         "x": [
          0.8316831683168316
         ],
         "y": [
          0.8514851485148515
         ]
        },
        {
         "legendgroup": "2",
         "marker": {
          "color": "#00CC96"
         },
         "mode": "markers",
         "name": "Dimension 2",
         "showlegend": false,
         "text": [
          "birth filtration = 0.8316831683168316<br>death filtration = 0.900990099009901<br>interval length = 0.06930693069306937<br>birth simplex = [33, 43, 54]<br>cyle representative nnz = 58<br>bounding chain nnz = 289.0<br>row of dataframe = 228"
         ],
         "type": "scatter",
         "x": [
          0.8316831683168316
         ],
         "y": [
          0.900990099009901
         ]
        },
        {
         "legendgroup": "2",
         "marker": {
          "color": "#00CC96"
         },
         "mode": "markers",
         "name": "Dimension 2",
         "showlegend": false,
         "text": [
          "birth filtration = 0.8217821782178217<br>death filtration = 0.8316831683168316<br>interval length = 0.00990099009900991<br>birth simplex = [61, 73, 77]<br>cyle representative nnz = 22<br>bounding chain nnz = 43.0<br>row of dataframe = 229"
         ],
         "type": "scatter",
         "x": [
          0.8217821782178217
         ],
         "y": [
          0.8316831683168316
         ]
        },
        {
         "legendgroup": "2",
         "marker": {
          "color": "#00CC96"
         },
         "mode": "markers",
         "name": "Dimension 2",
         "showlegend": false,
         "text": [
          "birth filtration = 0.8217821782178217<br>death filtration = 0.8316831683168316<br>interval length = 0.00990099009900991<br>birth simplex = [50, 70, 91]<br>cyle representative nnz = 64<br>bounding chain nnz = 317.0<br>row of dataframe = 230"
         ],
         "type": "scatter",
         "x": [
          0.8217821782178217
         ],
         "y": [
          0.8316831683168316
         ]
        },
        {
         "legendgroup": "2",
         "marker": {
          "color": "#00CC96"
         },
         "mode": "markers",
         "name": "Dimension 2",
         "showlegend": false,
         "text": [
          "birth filtration = 0.8217821782178217<br>death filtration = 0.8811881188118812<br>interval length = 0.05940594059405946<br>birth simplex = [40, 71, 76]<br>cyle representative nnz = 44<br>bounding chain nnz = 155.0<br>row of dataframe = 231"
         ],
         "type": "scatter",
         "x": [
          0.8217821782178217
         ],
         "y": [
          0.8811881188118812
         ]
        },
        {
         "legendgroup": "2",
         "marker": {
          "color": "#00CC96"
         },
         "mode": "markers",
         "name": "Dimension 2",
         "showlegend": false,
         "text": [
          "birth filtration = 0.8217821782178217<br>death filtration = 0.8613861386138614<br>interval length = 0.03960396039603964<br>birth simplex = [26, 29, 86]<br>cyle representative nnz = 48<br>bounding chain nnz = 161.0<br>row of dataframe = 232"
         ],
         "type": "scatter",
         "x": [
          0.8217821782178217
         ],
         "y": [
          0.8613861386138614
         ]
        },
        {
         "legendgroup": "2",
         "marker": {
          "color": "#00CC96"
         },
         "mode": "markers",
         "name": "Dimension 2",
         "showlegend": false,
         "text": [
          "birth filtration = 0.8217821782178217<br>death filtration = 0.8316831683168316<br>interval length = 0.00990099009900991<br>birth simplex = [7, 16, 25]<br>cyle representative nnz = 38<br>bounding chain nnz = 190.0<br>row of dataframe = 233"
         ],
         "type": "scatter",
         "x": [
          0.8217821782178217
         ],
         "y": [
          0.8316831683168316
         ]
        },
        {
         "legendgroup": "2",
         "marker": {
          "color": "#00CC96"
         },
         "mode": "markers",
         "name": "Dimension 2",
         "showlegend": false,
         "text": [
          "birth filtration = 0.8118811881188119<br>death filtration = 0.8217821782178217<br>interval length = 0.009900990099009799<br>birth simplex = [26, 44, 50]<br>cyle representative nnz = 93<br>bounding chain nnz = 254.0<br>row of dataframe = 234"
         ],
         "type": "scatter",
         "x": [
          0.8118811881188119
         ],
         "y": [
          0.8217821782178217
         ]
        },
        {
         "legendgroup": "2",
         "marker": {
          "color": "#00CC96"
         },
         "mode": "markers",
         "name": "Dimension 2",
         "showlegend": false,
         "text": [
          "birth filtration = 0.8118811881188119<br>death filtration = 0.8316831683168316<br>interval length = 0.01980198019801971<br>birth simplex = [9, 73, 77]<br>cyle representative nnz = 48<br>bounding chain nnz = 261.0<br>row of dataframe = 235"
         ],
         "type": "scatter",
         "x": [
          0.8118811881188119
         ],
         "y": [
          0.8316831683168316
         ]
        },
        {
         "legendgroup": "2",
         "marker": {
          "color": "#00CC96"
         },
         "mode": "markers",
         "name": "Dimension 2",
         "showlegend": false,
         "text": [
          "birth filtration = 0.8118811881188119<br>death filtration = 0.8316831683168316<br>interval length = 0.01980198019801971<br>birth simplex = [9, 73, 76]<br>cyle representative nnz = 26<br>bounding chain nnz = 17.0<br>row of dataframe = 236"
         ],
         "type": "scatter",
         "x": [
          0.8118811881188119
         ],
         "y": [
          0.8316831683168316
         ]
        },
        {
         "legendgroup": "2",
         "marker": {
          "color": "#00CC96"
         },
         "mode": "markers",
         "name": "Dimension 2",
         "showlegend": false,
         "text": [
          "birth filtration = 0.8118811881188119<br>death filtration = 0.8514851485148515<br>interval length = 0.03960396039603953<br>birth simplex = [9, 24, 76]<br>cyle representative nnz = 34<br>bounding chain nnz = 198.0<br>row of dataframe = 237"
         ],
         "type": "scatter",
         "x": [
          0.8118811881188119
         ],
         "y": [
          0.8514851485148515
         ]
        },
        {
         "legendgroup": "2",
         "marker": {
          "color": "#00CC96"
         },
         "mode": "markers",
         "name": "Dimension 2",
         "showlegend": false,
         "text": [
          "birth filtration = 0.8118811881188119<br>death filtration = 0.8712871287128713<br>interval length = 0.05940594059405935<br>birth simplex = [4, 29, 86]<br>cyle representative nnz = 42<br>bounding chain nnz = 118.0<br>row of dataframe = 238"
         ],
         "type": "scatter",
         "x": [
          0.8118811881188119
         ],
         "y": [
          0.8712871287128713
         ]
        },
        {
         "legendgroup": "2",
         "marker": {
          "color": "#00CC96"
         },
         "mode": "markers",
         "name": "Dimension 2",
         "showlegend": false,
         "text": [
          "birth filtration = 0.801980198019802<br>death filtration = 0.8118811881188119<br>interval length = 0.00990099009900991<br>birth simplex = [66, 73, 84]<br>cyle representative nnz = 40<br>bounding chain nnz = 83.0<br>row of dataframe = 239"
         ],
         "type": "scatter",
         "x": [
          0.801980198019802
         ],
         "y": [
          0.8118811881188119
         ]
        },
        {
         "legendgroup": "2",
         "marker": {
          "color": "#00CC96"
         },
         "mode": "markers",
         "name": "Dimension 2",
         "showlegend": false,
         "text": [
          "birth filtration = 0.801980198019802<br>death filtration = 0.8217821782178217<br>interval length = 0.01980198019801971<br>birth simplex = [1, 7, 50]<br>cyle representative nnz = 56<br>bounding chain nnz = 168.0<br>row of dataframe = 240"
         ],
         "type": "scatter",
         "x": [
          0.801980198019802
         ],
         "y": [
          0.8217821782178217
         ]
        },
        {
         "legendgroup": "2",
         "marker": {
          "color": "#00CC96"
         },
         "mode": "markers",
         "name": "Dimension 2",
         "showlegend": false,
         "text": [
          "birth filtration = 0.801980198019802<br>death filtration = 0.8217821782178217<br>interval length = 0.01980198019801971<br>birth simplex = [1, 7, 42]<br>cyle representative nnz = 32<br>bounding chain nnz = 100.0<br>row of dataframe = 241"
         ],
         "type": "scatter",
         "x": [
          0.801980198019802
         ],
         "y": [
          0.8217821782178217
         ]
        },
        {
         "legendgroup": "2",
         "marker": {
          "color": "#00CC96"
         },
         "mode": "markers",
         "name": "Dimension 2",
         "showlegend": false,
         "text": [
          "birth filtration = 0.7920792079207921<br>death filtration = 0.8316831683168316<br>interval length = 0.03960396039603953<br>birth simplex = [50, 70, 75]<br>cyle representative nnz = 37<br>bounding chain nnz = 170.0<br>row of dataframe = 242"
         ],
         "type": "scatter",
         "x": [
          0.7920792079207921
         ],
         "y": [
          0.8316831683168316
         ]
        },
        {
         "legendgroup": "2",
         "marker": {
          "color": "#00CC96"
         },
         "mode": "markers",
         "name": "Dimension 2",
         "showlegend": false,
         "text": [
          "birth filtration = 0.7920792079207921<br>death filtration = 0.8712871287128713<br>interval length = 0.07920792079207917<br>birth simplex = [36, 54, 56]<br>cyle representative nnz = 20<br>bounding chain nnz = 90.0<br>row of dataframe = 243"
         ],
         "type": "scatter",
         "x": [
          0.7920792079207921
         ],
         "y": [
          0.8712871287128713
         ]
        },
        {
         "legendgroup": "2",
         "marker": {
          "color": "#00CC96"
         },
         "mode": "markers",
         "name": "Dimension 2",
         "showlegend": false,
         "text": [
          "birth filtration = 0.7920792079207921<br>death filtration = 0.801980198019802<br>interval length = 0.00990099009900991<br>birth simplex = [14, 45, 53]<br>cyle representative nnz = 32<br>bounding chain nnz = 98.0<br>row of dataframe = 244"
         ],
         "type": "scatter",
         "x": [
          0.7920792079207921
         ],
         "y": [
          0.801980198019802
         ]
        },
        {
         "legendgroup": "2",
         "marker": {
          "color": "#00CC96"
         },
         "mode": "markers",
         "name": "Dimension 2",
         "showlegend": false,
         "text": [
          "birth filtration = 0.7920792079207921<br>death filtration = 0.801980198019802<br>interval length = 0.00990099009900991<br>birth simplex = [9, 51, 85]<br>cyle representative nnz = 44<br>bounding chain nnz = 133.0<br>row of dataframe = 245"
         ],
         "type": "scatter",
         "x": [
          0.7920792079207921
         ],
         "y": [
          0.801980198019802
         ]
        },
        {
         "legendgroup": "2",
         "marker": {
          "color": "#00CC96"
         },
         "mode": "markers",
         "name": "Dimension 2",
         "showlegend": false,
         "text": [
          "birth filtration = 0.7920792079207921<br>death filtration = 0.801980198019802<br>interval length = 0.00990099009900991<br>birth simplex = [3, 45, 70]<br>cyle representative nnz = 38<br>bounding chain nnz = 81.0<br>row of dataframe = 246"
         ],
         "type": "scatter",
         "x": [
          0.7920792079207921
         ],
         "y": [
          0.801980198019802
         ]
        },
        {
         "legendgroup": "2",
         "marker": {
          "color": "#00CC96"
         },
         "mode": "markers",
         "name": "Dimension 2",
         "showlegend": false,
         "text": [
          "birth filtration = 0.7821782178217822<br>death filtration = 0.8118811881188119<br>interval length = 0.02970297029702973<br>birth simplex = [51, 85, 93]<br>cyle representative nnz = 30<br>bounding chain nnz = 54.0<br>row of dataframe = 247"
         ],
         "type": "scatter",
         "x": [
          0.7821782178217822
         ],
         "y": [
          0.8118811881188119
         ]
        },
        {
         "legendgroup": "2",
         "marker": {
          "color": "#00CC96"
         },
         "mode": "markers",
         "name": "Dimension 2",
         "showlegend": false,
         "text": [
          "birth filtration = 0.7821782178217822<br>death filtration = 0.8118811881188119<br>interval length = 0.02970297029702973<br>birth simplex = [21, 85, 93]<br>cyle representative nnz = 36<br>bounding chain nnz = 130.0<br>row of dataframe = 248"
         ],
         "type": "scatter",
         "x": [
          0.7821782178217822
         ],
         "y": [
          0.8118811881188119
         ]
        },
        {
         "legendgroup": "2",
         "marker": {
          "color": "#00CC96"
         },
         "mode": "markers",
         "name": "Dimension 2",
         "showlegend": false,
         "text": [
          "birth filtration = 0.7821782178217822<br>death filtration = 0.801980198019802<br>interval length = 0.01980198019801982<br>birth simplex = [21, 24, 93]<br>cyle representative nnz = 43<br>bounding chain nnz = 210.0<br>row of dataframe = 249"
         ],
         "type": "scatter",
         "x": [
          0.7821782178217822
         ],
         "y": [
          0.801980198019802
         ]
        },
        {
         "legendgroup": "2",
         "marker": {
          "color": "#00CC96"
         },
         "mode": "markers",
         "name": "Dimension 2",
         "showlegend": false,
         "text": [
          "birth filtration = 0.7722772277227723<br>death filtration = 0.8514851485148515<br>interval length = 0.07920792079207917<br>birth simplex = [52, 67, 71]<br>cyle representative nnz = 34<br>bounding chain nnz = 141.0<br>row of dataframe = 250"
         ],
         "type": "scatter",
         "x": [
          0.7722772277227723
         ],
         "y": [
          0.8514851485148515
         ]
        },
        {
         "legendgroup": "2",
         "marker": {
          "color": "#00CC96"
         },
         "mode": "markers",
         "name": "Dimension 2",
         "showlegend": false,
         "text": [
          "birth filtration = 0.7722772277227723<br>death filtration = 0.8217821782178217<br>interval length = 0.04950495049504944<br>birth simplex = [41, 70, 72]<br>cyle representative nnz = 20<br>bounding chain nnz = 45.0<br>row of dataframe = 251"
         ],
         "type": "scatter",
         "x": [
          0.7722772277227723
         ],
         "y": [
          0.8217821782178217
         ]
        },
        {
         "legendgroup": "2",
         "marker": {
          "color": "#00CC96"
         },
         "mode": "markers",
         "name": "Dimension 2",
         "showlegend": false,
         "text": [
          "birth filtration = 0.7722772277227723<br>death filtration = 0.8217821782178217<br>interval length = 0.04950495049504944<br>birth simplex = [34, 72, 74]<br>cyle representative nnz = 18<br>bounding chain nnz = 48.0<br>row of dataframe = 252"
         ],
         "type": "scatter",
         "x": [
          0.7722772277227723
         ],
         "y": [
          0.8217821782178217
         ]
        },
        {
         "legendgroup": "2",
         "marker": {
          "color": "#00CC96"
         },
         "mode": "markers",
         "name": "Dimension 2",
         "showlegend": false,
         "text": [
          "birth filtration = 0.7722772277227723<br>death filtration = 0.7821782178217822<br>interval length = 0.00990099009900991<br>birth simplex = [31, 51, 88]<br>cyle representative nnz = 38<br>bounding chain nnz = 114.0<br>row of dataframe = 253"
         ],
         "type": "scatter",
         "x": [
          0.7722772277227723
         ],
         "y": [
          0.7821782178217822
         ]
        },
        {
         "legendgroup": "2",
         "marker": {
          "color": "#00CC96"
         },
         "mode": "markers",
         "name": "Dimension 2",
         "showlegend": false,
         "text": [
          "birth filtration = 0.7722772277227723<br>death filtration = 0.7920792079207921<br>interval length = 0.01980198019801982<br>birth simplex = [19, 80, 100]<br>cyle representative nnz = 16<br>bounding chain nnz = 98.0<br>row of dataframe = 254"
         ],
         "type": "scatter",
         "x": [
          0.7722772277227723
         ],
         "y": [
          0.7920792079207921
         ]
        },
        {
         "legendgroup": "2",
         "marker": {
          "color": "#00CC96"
         },
         "mode": "markers",
         "name": "Dimension 2",
         "showlegend": false,
         "text": [
          "birth filtration = 0.7722772277227723<br>death filtration = 0.8118811881188119<br>interval length = 0.03960396039603964<br>birth simplex = [16, 56, 90]<br>cyle representative nnz = 18<br>bounding chain nnz = 61.0<br>row of dataframe = 255"
         ],
         "type": "scatter",
         "x": [
          0.7722772277227723
         ],
         "y": [
          0.8118811881188119
         ]
        },
        {
         "legendgroup": "2",
         "marker": {
          "color": "#00CC96"
         },
         "mode": "markers",
         "name": "Dimension 2",
         "showlegend": false,
         "text": [
          "birth filtration = 0.7722772277227723<br>death filtration = 0.8217821782178217<br>interval length = 0.04950495049504944<br>birth simplex = [14, 38, 45]<br>cyle representative nnz = 12<br>bounding chain nnz = 62.0<br>row of dataframe = 256"
         ],
         "type": "scatter",
         "x": [
          0.7722772277227723
         ],
         "y": [
          0.8217821782178217
         ]
        },
        {
         "legendgroup": "2",
         "marker": {
          "color": "#00CC96"
         },
         "mode": "markers",
         "name": "Dimension 2",
         "showlegend": false,
         "text": [
          "birth filtration = 0.7722772277227723<br>death filtration = 0.7821782178217822<br>interval length = 0.00990099009900991<br>birth simplex = [9, 46, 53]<br>cyle representative nnz = 32<br>bounding chain nnz = 97.0<br>row of dataframe = 257"
         ],
         "type": "scatter",
         "x": [
          0.7722772277227723
         ],
         "y": [
          0.7821782178217822
         ]
        },
        {
         "legendgroup": "2",
         "marker": {
          "color": "#00CC96"
         },
         "mode": "markers",
         "name": "Dimension 2",
         "showlegend": false,
         "text": [
          "birth filtration = 0.7722772277227723<br>death filtration = 0.7821782178217822<br>interval length = 0.00990099009900991<br>birth simplex = [7, 20, 41]<br>cyle representative nnz = 26<br>bounding chain nnz = 33.0<br>row of dataframe = 258"
         ],
         "type": "scatter",
         "x": [
          0.7722772277227723
         ],
         "y": [
          0.7821782178217822
         ]
        },
        {
         "legendgroup": "2",
         "marker": {
          "color": "#00CC96"
         },
         "mode": "markers",
         "name": "Dimension 2",
         "showlegend": false,
         "text": [
          "birth filtration = 0.7722772277227723<br>death filtration = 0.8217821782178217<br>interval length = 0.04950495049504944<br>birth simplex = [5, 78, 97]<br>cyle representative nnz = 36<br>bounding chain nnz = 76.0<br>row of dataframe = 259"
         ],
         "type": "scatter",
         "x": [
          0.7722772277227723
         ],
         "y": [
          0.8217821782178217
         ]
        },
        {
         "legendgroup": "2",
         "marker": {
          "color": "#00CC96"
         },
         "mode": "markers",
         "name": "Dimension 2",
         "showlegend": false,
         "text": [
          "birth filtration = 0.7623762376237624<br>death filtration = 0.7722772277227723<br>interval length = 0.00990099009900991<br>birth simplex = [29, 44, 57]<br>cyle representative nnz = 46<br>bounding chain nnz = 81.0<br>row of dataframe = 260"
         ],
         "type": "scatter",
         "x": [
          0.7623762376237624
         ],
         "y": [
          0.7722772277227723
         ]
        },
        {
         "legendgroup": "2",
         "marker": {
          "color": "#00CC96"
         },
         "mode": "markers",
         "name": "Dimension 2",
         "showlegend": false,
         "text": [
          "birth filtration = 0.7623762376237624<br>death filtration = 0.7920792079207921<br>interval length = 0.02970297029702973<br>birth simplex = [19, 60, 96]<br>cyle representative nnz = 12<br>bounding chain nnz = 87.0<br>row of dataframe = 261"
         ],
         "type": "scatter",
         "x": [
          0.7623762376237624
         ],
         "y": [
          0.7920792079207921
         ]
        },
        {
         "legendgroup": "2",
         "marker": {
          "color": "#00CC96"
         },
         "mode": "markers",
         "name": "Dimension 2",
         "showlegend": false,
         "text": [
          "birth filtration = 0.7623762376237624<br>death filtration = 0.8118811881188119<br>interval length = 0.04950495049504955<br>birth simplex = [9, 41, 80]<br>cyle representative nnz = 30<br>bounding chain nnz = 102.0<br>row of dataframe = 262"
         ],
         "type": "scatter",
         "x": [
          0.7623762376237624
         ],
         "y": [
          0.8118811881188119
         ]
        },
        {
         "legendgroup": "2",
         "marker": {
          "color": "#00CC96"
         },
         "mode": "markers",
         "name": "Dimension 2",
         "showlegend": false,
         "text": [
          "birth filtration = 0.7524752475247525<br>death filtration = 0.7920792079207921<br>interval length = 0.03960396039603964<br>birth simplex = [60, 61, 84]<br>cyle representative nnz = 12<br>bounding chain nnz = 12.0<br>row of dataframe = 263"
         ],
         "type": "scatter",
         "x": [
          0.7524752475247525
         ],
         "y": [
          0.7920792079207921
         ]
        },
        {
         "legendgroup": "2",
         "marker": {
          "color": "#00CC96"
         },
         "mode": "markers",
         "name": "Dimension 2",
         "showlegend": false,
         "text": [
          "birth filtration = 0.7524752475247525<br>death filtration = 0.801980198019802<br>interval length = 0.04950495049504955<br>birth simplex = [51, 71, 82]<br>cyle representative nnz = 24<br>bounding chain nnz = 42.0<br>row of dataframe = 264"
         ],
         "type": "scatter",
         "x": [
          0.7524752475247525
         ],
         "y": [
          0.801980198019802
         ]
        },
        {
         "legendgroup": "2",
         "marker": {
          "color": "#00CC96"
         },
         "mode": "markers",
         "name": "Dimension 2",
         "showlegend": false,
         "text": [
          "birth filtration = 0.7524752475247525<br>death filtration = 0.9306930693069307<br>interval length = 0.17821782178217827<br>birth simplex = [43, 71, 82]<br>cyle representative nnz = 41<br>bounding chain nnz = 77.0<br>row of dataframe = 265"
         ],
         "type": "scatter",
         "x": [
          0.7524752475247525
         ],
         "y": [
          0.9306930693069307
         ]
        },
        {
         "legendgroup": "2",
         "marker": {
          "color": "#00CC96"
         },
         "mode": "markers",
         "name": "Dimension 2",
         "showlegend": false,
         "text": [
          "birth filtration = 0.7524752475247525<br>death filtration = 0.8217821782178217<br>interval length = 0.06930693069306926<br>birth simplex = [32, 51, 85]<br>cyle representative nnz = 38<br>bounding chain nnz = 242.0<br>row of dataframe = 266"
         ],
         "type": "scatter",
         "x": [
          0.7524752475247525
         ],
         "y": [
          0.8217821782178217
         ]
        },
        {
         "legendgroup": "2",
         "marker": {
          "color": "#00CC96"
         },
         "mode": "markers",
         "name": "Dimension 2",
         "showlegend": false,
         "text": [
          "birth filtration = 0.7524752475247525<br>death filtration = 0.7821782178217822<br>interval length = 0.02970297029702973<br>birth simplex = [20, 74, 92]<br>cyle representative nnz = 26<br>bounding chain nnz = 56.0<br>row of dataframe = 267"
         ],
         "type": "scatter",
         "x": [
          0.7524752475247525
         ],
         "y": [
          0.7821782178217822
         ]
        },
        {
         "legendgroup": "2",
         "marker": {
          "color": "#00CC96"
         },
         "mode": "markers",
         "name": "Dimension 2",
         "showlegend": false,
         "text": [
          "birth filtration = 0.7524752475247525<br>death filtration = 0.7623762376237624<br>interval length = 0.00990099009900991<br>birth simplex = [17, 21, 25]<br>cyle representative nnz = 36<br>bounding chain nnz = 71.0<br>row of dataframe = 268"
         ],
         "type": "scatter",
         "x": [
          0.7524752475247525
         ],
         "y": [
          0.7623762376237624
         ]
        },
        {
         "legendgroup": "2",
         "marker": {
          "color": "#00CC96"
         },
         "mode": "markers",
         "name": "Dimension 2",
         "showlegend": false,
         "text": [
          "birth filtration = 0.7524752475247525<br>death filtration = 0.7722772277227723<br>interval length = 0.01980198019801982<br>birth simplex = [2, 52, 94]<br>cyle representative nnz = 22<br>bounding chain nnz = 60.0<br>row of dataframe = 269"
         ],
         "type": "scatter",
         "x": [
          0.7524752475247525
         ],
         "y": [
          0.7722772277227723
         ]
        },
        {
         "legendgroup": "2",
         "marker": {
          "color": "#00CC96"
         },
         "mode": "markers",
         "name": "Dimension 2",
         "showlegend": false,
         "text": [
          "birth filtration = 0.7425742574257426<br>death filtration = 0.8217821782178217<br>interval length = 0.07920792079207917<br>birth simplex = [51, 82, 85]<br>cyle representative nnz = 34<br>bounding chain nnz = 93.0<br>row of dataframe = 270"
         ],
         "type": "scatter",
         "x": [
          0.7425742574257426
         ],
         "y": [
          0.8217821782178217
         ]
        },
        {
         "legendgroup": "2",
         "marker": {
          "color": "#00CC96"
         },
         "mode": "markers",
         "name": "Dimension 2",
         "showlegend": false,
         "text": [
          "birth filtration = 0.7425742574257426<br>death filtration = 0.8415841584158416<br>interval length = 0.09900990099009899<br>birth simplex = [51, 72, 74]<br>cyle representative nnz = 20<br>bounding chain nnz = 80.0<br>row of dataframe = 271"
         ],
         "type": "scatter",
         "x": [
          0.7425742574257426
         ],
         "y": [
          0.8415841584158416
         ]
        },
        {
         "legendgroup": "2",
         "marker": {
          "color": "#00CC96"
         },
         "mode": "markers",
         "name": "Dimension 2",
         "showlegend": false,
         "text": [
          "birth filtration = 0.7425742574257426<br>death filtration = 0.7722772277227723<br>interval length = 0.02970297029702973<br>birth simplex = [38, 42, 51]<br>cyle representative nnz = 36<br>bounding chain nnz = 75.0<br>row of dataframe = 272"
         ],
         "type": "scatter",
         "x": [
          0.7425742574257426
         ],
         "y": [
          0.7722772277227723
         ]
        },
        {
         "legendgroup": "2",
         "marker": {
          "color": "#00CC96"
         },
         "mode": "markers",
         "name": "Dimension 2",
         "showlegend": false,
         "text": [
          "birth filtration = 0.7425742574257426<br>death filtration = 0.7722772277227723<br>interval length = 0.02970297029702973<br>birth simplex = [3, 41, 44]<br>cyle representative nnz = 30<br>bounding chain nnz = 47.0<br>row of dataframe = 273"
         ],
         "type": "scatter",
         "x": [
          0.7425742574257426
         ],
         "y": [
          0.7722772277227723
         ]
        },
        {
         "legendgroup": "2",
         "marker": {
          "color": "#00CC96"
         },
         "mode": "markers",
         "name": "Dimension 2",
         "showlegend": false,
         "text": [
          "birth filtration = 0.7326732673267327<br>death filtration = 0.7722772277227723<br>interval length = 0.03960396039603964<br>birth simplex = [61, 73, 89]<br>cyle representative nnz = 24<br>bounding chain nnz = 47.0<br>row of dataframe = 274"
         ],
         "type": "scatter",
         "x": [
          0.7326732673267327
         ],
         "y": [
          0.7722772277227723
         ]
        },
        {
         "legendgroup": "2",
         "marker": {
          "color": "#00CC96"
         },
         "mode": "markers",
         "name": "Dimension 2",
         "showlegend": false,
         "text": [
          "birth filtration = 0.7326732673267327<br>death filtration = 0.7425742574257426<br>interval length = 0.00990099009900991<br>birth simplex = [32, 37, 89]<br>cyle representative nnz = 20<br>bounding chain nnz = 43.0<br>row of dataframe = 275"
         ],
         "type": "scatter",
         "x": [
          0.7326732673267327
         ],
         "y": [
          0.7425742574257426
         ]
        },
        {
         "legendgroup": "2",
         "marker": {
          "color": "#00CC96"
         },
         "mode": "markers",
         "name": "Dimension 2",
         "showlegend": false,
         "text": [
          "birth filtration = 0.7326732673267327<br>death filtration = 0.7623762376237624<br>interval length = 0.02970297029702973<br>birth simplex = [32, 37, 42]<br>cyle representative nnz = 34<br>bounding chain nnz = 78.0<br>row of dataframe = 276"
         ],
         "type": "scatter",
         "x": [
          0.7326732673267327
         ],
         "y": [
          0.7623762376237624
         ]
        },
        {
         "legendgroup": "2",
         "marker": {
          "color": "#00CC96"
         },
         "mode": "markers",
         "name": "Dimension 2",
         "showlegend": false,
         "text": [
          "birth filtration = 0.7326732673267327<br>death filtration = 0.7425742574257426<br>interval length = 0.00990099009900991<br>birth simplex = [20, 32, 89]<br>cyle representative nnz = 20<br>bounding chain nnz = 16.0<br>row of dataframe = 277"
         ],
         "type": "scatter",
         "x": [
          0.7326732673267327
         ],
         "y": [
          0.7425742574257426
         ]
        },
        {
         "legendgroup": "2",
         "marker": {
          "color": "#00CC96"
         },
         "mode": "markers",
         "name": "Dimension 2",
         "showlegend": false,
         "text": [
          "birth filtration = 0.7326732673267327<br>death filtration = 0.7524752475247525<br>interval length = 0.01980198019801982<br>birth simplex = [20, 32, 42]<br>cyle representative nnz = 26<br>bounding chain nnz = 16.0<br>row of dataframe = 278"
         ],
         "type": "scatter",
         "x": [
          0.7326732673267327
         ],
         "y": [
          0.7524752475247525
         ]
        },
        {
         "legendgroup": "2",
         "marker": {
          "color": "#00CC96"
         },
         "mode": "markers",
         "name": "Dimension 2",
         "showlegend": false,
         "text": [
          "birth filtration = 0.7326732673267327<br>death filtration = 0.7623762376237624<br>interval length = 0.02970297029702973<br>birth simplex = [19, 80, 92]<br>cyle representative nnz = 24<br>bounding chain nnz = 47.0<br>row of dataframe = 279"
         ],
         "type": "scatter",
         "x": [
          0.7326732673267327
         ],
         "y": [
          0.7623762376237624
         ]
        },
        {
         "legendgroup": "2",
         "marker": {
          "color": "#00CC96"
         },
         "mode": "markers",
         "name": "Dimension 2",
         "showlegend": false,
         "text": [
          "birth filtration = 0.7326732673267327<br>death filtration = 0.8118811881188119<br>interval length = 0.07920792079207928<br>birth simplex = [16, 37, 40]<br>cyle representative nnz = 33<br>bounding chain nnz = 52.0<br>row of dataframe = 280"
         ],
         "type": "scatter",
         "x": [
          0.7326732673267327
         ],
         "y": [
          0.8118811881188119
         ]
        },
        {
         "legendgroup": "2",
         "marker": {
          "color": "#00CC96"
         },
         "mode": "markers",
         "name": "Dimension 2",
         "showlegend": false,
         "text": [
          "birth filtration = 0.7326732673267327<br>death filtration = 0.7524752475247525<br>interval length = 0.01980198019801982<br>birth simplex = [3, 75, 92]<br>cyle representative nnz = 18<br>bounding chain nnz = 36.0<br>row of dataframe = 281"
         ],
         "type": "scatter",
         "x": [
          0.7326732673267327
         ],
         "y": [
          0.7524752475247525
         ]
        },
        {
         "legendgroup": "2",
         "marker": {
          "color": "#00CC96"
         },
         "mode": "markers",
         "name": "Dimension 2",
         "showlegend": false,
         "text": [
          "birth filtration = 0.7326732673267327<br>death filtration = 0.7722772277227723<br>interval length = 0.03960396039603964<br>birth simplex = [2, 45, 52]<br>cyle representative nnz = 16<br>bounding chain nnz = 29.0<br>row of dataframe = 282"
         ],
         "type": "scatter",
         "x": [
          0.7326732673267327
         ],
         "y": [
          0.7722772277227723
         ]
        },
        {
         "legendgroup": "2",
         "marker": {
          "color": "#00CC96"
         },
         "mode": "markers",
         "name": "Dimension 2",
         "showlegend": false,
         "text": [
          "birth filtration = 0.7326732673267327<br>death filtration = 0.7524752475247525<br>interval length = 0.01980198019801982<br>birth simplex = [2, 11, 57]<br>cyle representative nnz = 28<br>bounding chain nnz = 23.0<br>row of dataframe = 283"
         ],
         "type": "scatter",
         "x": [
          0.7326732673267327
         ],
         "y": [
          0.7524752475247525
         ]
        },
        {
         "legendgroup": "2",
         "marker": {
          "color": "#00CC96"
         },
         "mode": "markers",
         "name": "Dimension 2",
         "showlegend": false,
         "text": [
          "birth filtration = 0.7227722772277227<br>death filtration = 0.7821782178217822<br>interval length = 0.05940594059405946<br>birth simplex = [52, 75, 92]<br>cyle representative nnz = 26<br>bounding chain nnz = 61.0<br>row of dataframe = 284"
         ],
         "type": "scatter",
         "x": [
          0.7227722772277227
         ],
         "y": [
          0.7821782178217822
         ]
        },
        {
         "legendgroup": "2",
         "marker": {
          "color": "#00CC96"
         },
         "mode": "markers",
         "name": "Dimension 2",
         "showlegend": false,
         "text": [
          "birth filtration = 0.7227722772277227<br>death filtration = 0.7524752475247525<br>interval length = 0.02970297029702973<br>birth simplex = [43, 84, 94]<br>cyle representative nnz = 30<br>bounding chain nnz = 56.0<br>row of dataframe = 285"
         ],
         "type": "scatter",
         "x": [
          0.7227722772277227
         ],
         "y": [
          0.7524752475247525
         ]
        },
        {
         "legendgroup": "2",
         "marker": {
          "color": "#00CC96"
         },
         "mode": "markers",
         "name": "Dimension 2",
         "showlegend": false,
         "text": [
          "birth filtration = 0.7227722772277227<br>death filtration = 0.7821782178217822<br>interval length = 0.05940594059405946<br>birth simplex = [42, 46, 69]<br>cyle representative nnz = 38<br>bounding chain nnz = 113.0<br>row of dataframe = 286"
         ],
         "type": "scatter",
         "x": [
          0.7227722772277227
         ],
         "y": [
          0.7821782178217822
         ]
        },
        {
         "legendgroup": "2",
         "marker": {
          "color": "#00CC96"
         },
         "mode": "markers",
         "name": "Dimension 2",
         "showlegend": false,
         "text": [
          "birth filtration = 0.7227722772277227<br>death filtration = 0.801980198019802<br>interval length = 0.07920792079207928<br>birth simplex = [41, 80, 86]<br>cyle representative nnz = 28<br>bounding chain nnz = 121.0<br>row of dataframe = 287"
         ],
         "type": "scatter",
         "x": [
          0.7227722772277227
         ],
         "y": [
          0.801980198019802
         ]
        },
        {
         "legendgroup": "2",
         "marker": {
          "color": "#00CC96"
         },
         "mode": "markers",
         "name": "Dimension 2",
         "showlegend": false,
         "text": [
          "birth filtration = 0.7227722772277227<br>death filtration = 0.7425742574257426<br>interval length = 0.01980198019801982<br>birth simplex = [25, 27, 43]<br>cyle representative nnz = 46<br>bounding chain nnz = 62.0<br>row of dataframe = 288"
         ],
         "type": "scatter",
         "x": [
          0.7227722772277227
         ],
         "y": [
          0.7425742574257426
         ]
        },
        {
         "legendgroup": "2",
         "marker": {
          "color": "#00CC96"
         },
         "mode": "markers",
         "name": "Dimension 2",
         "showlegend": false,
         "text": [
          "birth filtration = 0.7227722772277227<br>death filtration = 0.7524752475247525<br>interval length = 0.02970297029702973<br>birth simplex = [20, 34, 40]<br>cyle representative nnz = 26<br>bounding chain nnz = 47.0<br>row of dataframe = 289"
         ],
         "type": "scatter",
         "x": [
          0.7227722772277227
         ],
         "y": [
          0.7524752475247525
         ]
        },
        {
         "legendgroup": "2",
         "marker": {
          "color": "#00CC96"
         },
         "mode": "markers",
         "name": "Dimension 2",
         "showlegend": false,
         "text": [
          "birth filtration = 0.7227722772277227<br>death filtration = 0.8118811881188119<br>interval length = 0.08910891089108919<br>birth simplex = [16, 41, 80]<br>cyle representative nnz = 28<br>bounding chain nnz = 42.0<br>row of dataframe = 290"
         ],
         "type": "scatter",
         "x": [
          0.7227722772277227
         ],
         "y": [
          0.8118811881188119
         ]
        },
        {
         "legendgroup": "2",
         "marker": {
          "color": "#00CC96"
         },
         "mode": "markers",
         "name": "Dimension 2",
         "showlegend": false,
         "text": [
          "birth filtration = 0.7227722772277227<br>death filtration = 0.8118811881188119<br>interval length = 0.08910891089108919<br>birth simplex = [16, 40, 80]<br>cyle representative nnz = 34<br>bounding chain nnz = 58.0<br>row of dataframe = 291"
         ],
         "type": "scatter",
         "x": [
          0.7227722772277227
         ],
         "y": [
          0.8118811881188119
         ]
        },
        {
         "legendgroup": "2",
         "marker": {
          "color": "#00CC96"
         },
         "mode": "markers",
         "name": "Dimension 2",
         "showlegend": false,
         "text": [
          "birth filtration = 0.7227722772277227<br>death filtration = 0.7326732673267327<br>interval length = 0.00990099009900991<br>birth simplex = [3, 27, 69]<br>cyle representative nnz = 24<br>bounding chain nnz = 40.0<br>row of dataframe = 292"
         ],
         "type": "scatter",
         "x": [
          0.7227722772277227
         ],
         "y": [
          0.7326732673267327
         ]
        },
        {
         "legendgroup": "2",
         "marker": {
          "color": "#00CC96"
         },
         "mode": "markers",
         "name": "Dimension 2",
         "showlegend": false,
         "text": [
          "birth filtration = 0.7128712871287128<br>death filtration = 0.8613861386138614<br>interval length = 0.14851485148514854<br>birth simplex = [45, 52, 96]<br>cyle representative nnz = 32<br>bounding chain nnz = 201.0<br>row of dataframe = 293"
         ],
         "type": "scatter",
         "x": [
          0.7128712871287128
         ],
         "y": [
          0.8613861386138614
         ]
        },
        {
         "legendgroup": "2",
         "marker": {
          "color": "#00CC96"
         },
         "mode": "markers",
         "name": "Dimension 2",
         "showlegend": false,
         "text": [
          "birth filtration = 0.7128712871287128<br>death filtration = 0.7920792079207921<br>interval length = 0.07920792079207928<br>birth simplex = [42, 78, 93]<br>cyle representative nnz = 28<br>bounding chain nnz = 41.0<br>row of dataframe = 294"
         ],
         "type": "scatter",
         "x": [
          0.7128712871287128
         ],
         "y": [
          0.7920792079207921
         ]
        },
        {
         "legendgroup": "2",
         "marker": {
          "color": "#00CC96"
         },
         "mode": "markers",
         "name": "Dimension 2",
         "showlegend": false,
         "text": [
          "birth filtration = 0.7128712871287128<br>death filtration = 0.7227722772277227<br>interval length = 0.00990099009900991<br>birth simplex = [42, 70, 83]<br>cyle representative nnz = 32<br>bounding chain nnz = 32.0<br>row of dataframe = 295"
         ],
         "type": "scatter",
         "x": [
          0.7128712871287128
         ],
         "y": [
          0.7227722772277227
         ]
        },
        {
         "legendgroup": "2",
         "marker": {
          "color": "#00CC96"
         },
         "mode": "markers",
         "name": "Dimension 2",
         "showlegend": false,
         "text": [
          "birth filtration = 0.7128712871287128<br>death filtration = 0.8613861386138614<br>interval length = 0.14851485148514854<br>birth simplex = [27, 73, 84]<br>cyle representative nnz = 36<br>bounding chain nnz = 64.0<br>row of dataframe = 296"
         ],
         "type": "scatter",
         "x": [
          0.7128712871287128
         ],
         "y": [
          0.8613861386138614
         ]
        },
        {
         "legendgroup": "2",
         "marker": {
          "color": "#00CC96"
         },
         "mode": "markers",
         "name": "Dimension 2",
         "showlegend": false,
         "text": [
          "birth filtration = 0.7128712871287128<br>death filtration = 0.801980198019802<br>interval length = 0.08910891089108919<br>birth simplex = [24, 70, 80]<br>cyle representative nnz = 16<br>bounding chain nnz = 18.0<br>row of dataframe = 297"
         ],
         "type": "scatter",
         "x": [
          0.7128712871287128
         ],
         "y": [
          0.801980198019802
         ]
        },
        {
         "legendgroup": "2",
         "marker": {
          "color": "#00CC96"
         },
         "mode": "markers",
         "name": "Dimension 2",
         "showlegend": false,
         "text": [
          "birth filtration = 0.7128712871287128<br>death filtration = 0.7524752475247525<br>interval length = 0.03960396039603964<br>birth simplex = [11, 36, 90]<br>cyle representative nnz = 16<br>bounding chain nnz = 40.0<br>row of dataframe = 298"
         ],
         "type": "scatter",
         "x": [
          0.7128712871287128
         ],
         "y": [
          0.7524752475247525
         ]
        },
        {
         "legendgroup": "2",
         "marker": {
          "color": "#00CC96"
         },
         "mode": "markers",
         "name": "Dimension 2",
         "showlegend": false,
         "text": [
          "birth filtration = 0.7029702970297029<br>death filtration = 0.7425742574257426<br>interval length = 0.03960396039603964<br>birth simplex = [54, 83, 85]<br>cyle representative nnz = 26<br>bounding chain nnz = 25.0<br>row of dataframe = 299"
         ],
         "type": "scatter",
         "x": [
          0.7029702970297029
         ],
         "y": [
          0.7425742574257426
         ]
        },
        {
         "legendgroup": "2",
         "marker": {
          "color": "#00CC96"
         },
         "mode": "markers",
         "name": "Dimension 2",
         "showlegend": false,
         "text": [
          "birth filtration = 0.7029702970297029<br>death filtration = 0.7425742574257426<br>interval length = 0.03960396039603964<br>birth simplex = [44, 83, 85]<br>cyle representative nnz = 42<br>bounding chain nnz = 101.0<br>row of dataframe = 300"
         ],
         "type": "scatter",
         "x": [
          0.7029702970297029
         ],
         "y": [
          0.7425742574257426
         ]
        },
        {
         "legendgroup": "2",
         "marker": {
          "color": "#00CC96"
         },
         "mode": "markers",
         "name": "Dimension 2",
         "showlegend": false,
         "text": [
          "birth filtration = 0.7029702970297029<br>death filtration = 0.8118811881188119<br>interval length = 0.10891089108910901<br>birth simplex = [38, 75, 92]<br>cyle representative nnz = 28<br>bounding chain nnz = 108.0<br>row of dataframe = 301"
         ],
         "type": "scatter",
         "x": [
          0.7029702970297029
         ],
         "y": [
          0.8118811881188119
         ]
        },
        {
         "legendgroup": "2",
         "marker": {
          "color": "#00CC96"
         },
         "mode": "markers",
         "name": "Dimension 2",
         "showlegend": false,
         "text": [
          "birth filtration = 0.7029702970297029<br>death filtration = 0.7425742574257426<br>interval length = 0.03960396039603964<br>birth simplex = [36, 40, 69]<br>cyle representative nnz = 20<br>bounding chain nnz = 32.0<br>row of dataframe = 302"
         ],
         "type": "scatter",
         "x": [
          0.7029702970297029
         ],
         "y": [
          0.7425742574257426
         ]
        },
        {
         "legendgroup": "2",
         "marker": {
          "color": "#00CC96"
         },
         "mode": "markers",
         "name": "Dimension 2",
         "showlegend": false,
         "text": [
          "birth filtration = 0.7029702970297029<br>death filtration = 0.7821782178217822<br>interval length = 0.07920792079207928<br>birth simplex = [27, 69, 90]<br>cyle representative nnz = 22<br>bounding chain nnz = 40.0<br>row of dataframe = 303"
         ],
         "type": "scatter",
         "x": [
          0.7029702970297029
         ],
         "y": [
          0.7821782178217822
         ]
        },
        {
         "legendgroup": "2",
         "marker": {
          "color": "#00CC96"
         },
         "mode": "markers",
         "name": "Dimension 2",
         "showlegend": false,
         "text": [
          "birth filtration = 0.7029702970297029<br>death filtration = 0.7227722772277227<br>interval length = 0.01980198019801982<br>birth simplex = [24, 37, 56]<br>cyle representative nnz = 20<br>bounding chain nnz = 23.0<br>row of dataframe = 304"
         ],
         "type": "scatter",
         "x": [
          0.7029702970297029
         ],
         "y": [
          0.7227722772277227
         ]
        },
        {
         "legendgroup": "2",
         "marker": {
          "color": "#00CC96"
         },
         "mode": "markers",
         "name": "Dimension 2",
         "showlegend": false,
         "text": [
          "birth filtration = 0.7029702970297029<br>death filtration = 0.7821782178217822<br>interval length = 0.07920792079207928<br>birth simplex = [21, 27, 90]<br>cyle representative nnz = 26<br>bounding chain nnz = 134.0<br>row of dataframe = 305"
         ],
         "type": "scatter",
         "x": [
          0.7029702970297029
         ],
         "y": [
          0.7821782178217822
         ]
        },
        {
         "legendgroup": "2",
         "marker": {
          "color": "#00CC96"
         },
         "mode": "markers",
         "name": "Dimension 2",
         "showlegend": false,
         "text": [
          "birth filtration = 0.7029702970297029<br>death filtration = 0.7524752475247525<br>interval length = 0.04950495049504955<br>birth simplex = [3, 36, 90]<br>cyle representative nnz = 36<br>bounding chain nnz = 102.0<br>row of dataframe = 306"
         ],
         "type": "scatter",
         "x": [
          0.7029702970297029
         ],
         "y": [
          0.7524752475247525
         ]
        },
        {
         "legendgroup": "2",
         "marker": {
          "color": "#00CC96"
         },
         "mode": "markers",
         "name": "Dimension 2",
         "showlegend": false,
         "text": [
          "birth filtration = 0.693069306930693<br>death filtration = 0.7128712871287128<br>interval length = 0.01980198019801982<br>birth simplex = [55, 80, 86]<br>cyle representative nnz = 24<br>bounding chain nnz = 29.0<br>row of dataframe = 307"
         ],
         "type": "scatter",
         "x": [
          0.693069306930693
         ],
         "y": [
          0.7128712871287128
         ]
        },
        {
         "legendgroup": "2",
         "marker": {
          "color": "#00CC96"
         },
         "mode": "markers",
         "name": "Dimension 2",
         "showlegend": false,
         "text": [
          "birth filtration = 0.693069306930693<br>death filtration = 0.7425742574257426<br>interval length = 0.04950495049504955<br>birth simplex = [24, 54, 56]<br>cyle representative nnz = 20<br>bounding chain nnz = 51.0<br>row of dataframe = 308"
         ],
         "type": "scatter",
         "x": [
          0.693069306930693
         ],
         "y": [
          0.7425742574257426
         ]
        },
        {
         "legendgroup": "2",
         "marker": {
          "color": "#00CC96"
         },
         "mode": "markers",
         "name": "Dimension 2",
         "showlegend": false,
         "text": [
          "birth filtration = 0.693069306930693<br>death filtration = 0.7425742574257426<br>interval length = 0.04950495049504955<br>birth simplex = [12, 31, 53]<br>cyle representative nnz = 8<br>bounding chain nnz = 8.0<br>row of dataframe = 309"
         ],
         "type": "scatter",
         "x": [
          0.693069306930693
         ],
         "y": [
          0.7425742574257426
         ]
        },
        {
         "legendgroup": "2",
         "marker": {
          "color": "#00CC96"
         },
         "mode": "markers",
         "name": "Dimension 2",
         "showlegend": false,
         "text": [
          "birth filtration = 0.693069306930693<br>death filtration = 0.7128712871287128<br>interval length = 0.01980198019801982<br>birth simplex = [12, 31, 52]<br>cyle representative nnz = 20<br>bounding chain nnz = 43.0<br>row of dataframe = 310"
         ],
         "type": "scatter",
         "x": [
          0.693069306930693
         ],
         "y": [
          0.7128712871287128
         ]
        },
        {
         "legendgroup": "2",
         "marker": {
          "color": "#00CC96"
         },
         "mode": "markers",
         "name": "Dimension 2",
         "showlegend": false,
         "text": [
          "birth filtration = 0.6831683168316832<br>death filtration = 0.7425742574257426<br>interval length = 0.05940594059405935<br>birth simplex = [54, 74, 83]<br>cyle representative nnz = 45<br>bounding chain nnz = 38.0<br>row of dataframe = 311"
         ],
         "type": "scatter",
         "x": [
          0.6831683168316832
         ],
         "y": [
          0.7425742574257426
         ]
        },
        {
         "legendgroup": "2",
         "marker": {
          "color": "#00CC96"
         },
         "mode": "markers",
         "name": "Dimension 2",
         "showlegend": false,
         "text": [
          "birth filtration = 0.6831683168316832<br>death filtration = 0.7623762376237624<br>interval length = 0.07920792079207917<br>birth simplex = [54, 59, 83]<br>cyle representative nnz = 45<br>bounding chain nnz = 58.0<br>row of dataframe = 312"
         ],
         "type": "scatter",
         "x": [
          0.6831683168316832
         ],
         "y": [
          0.7623762376237624
         ]
        },
        {
         "legendgroup": "2",
         "marker": {
          "color": "#00CC96"
         },
         "mode": "markers",
         "name": "Dimension 2",
         "showlegend": false,
         "text": [
          "birth filtration = 0.6831683168316832<br>death filtration = 0.7425742574257426<br>interval length = 0.05940594059405935<br>birth simplex = [51, 53, 100]<br>cyle representative nnz = 14<br>bounding chain nnz = 16.0<br>row of dataframe = 313"
         ],
         "type": "scatter",
         "x": [
          0.6831683168316832
         ],
         "y": [
          0.7425742574257426
         ]
        },
        {
         "legendgroup": "2",
         "marker": {
          "color": "#00CC96"
         },
         "mode": "markers",
         "name": "Dimension 2",
         "showlegend": false,
         "text": [
          "birth filtration = 0.6831683168316832<br>death filtration = 0.7029702970297029<br>interval length = 0.01980198019801971<br>birth simplex = [36, 40, 80]<br>cyle representative nnz = 18<br>bounding chain nnz = 11.0<br>row of dataframe = 314"
         ],
         "type": "scatter",
         "x": [
          0.6831683168316832
         ],
         "y": [
          0.7029702970297029
         ]
        },
        {
         "legendgroup": "2",
         "marker": {
          "color": "#00CC96"
         },
         "mode": "markers",
         "name": "Dimension 2",
         "showlegend": false,
         "text": [
          "birth filtration = 0.6831683168316832<br>death filtration = 0.693069306930693<br>interval length = 0.009900990099009799<br>birth simplex = [28, 41, 59]<br>cyle representative nnz = 27<br>bounding chain nnz = 23.0<br>row of dataframe = 315"
         ],
         "type": "scatter",
         "x": [
          0.6831683168316832
         ],
         "y": [
          0.693069306930693
         ]
        },
        {
         "legendgroup": "2",
         "marker": {
          "color": "#00CC96"
         },
         "mode": "markers",
         "name": "Dimension 2",
         "showlegend": false,
         "text": [
          "birth filtration = 0.6831683168316832<br>death filtration = 0.7623762376237624<br>interval length = 0.07920792079207917<br>birth simplex = [24, 54, 83]<br>cyle representative nnz = 36<br>bounding chain nnz = 67.0<br>row of dataframe = 316"
         ],
         "type": "scatter",
         "x": [
          0.6831683168316832
         ],
         "y": [
          0.7623762376237624
         ]
        },
        {
         "legendgroup": "2",
         "marker": {
          "color": "#00CC96"
         },
         "mode": "markers",
         "name": "Dimension 2",
         "showlegend": false,
         "text": [
          "birth filtration = 0.6831683168316832<br>death filtration = 0.7425742574257426<br>interval length = 0.05940594059405935<br>birth simplex = [20, 69, 89]<br>cyle representative nnz = 22<br>bounding chain nnz = 35.0<br>row of dataframe = 317"
         ],
         "type": "scatter",
         "x": [
          0.6831683168316832
         ],
         "y": [
          0.7425742574257426
         ]
        },
        {
         "legendgroup": "2",
         "marker": {
          "color": "#00CC96"
         },
         "mode": "markers",
         "name": "Dimension 2",
         "showlegend": false,
         "text": [
          "birth filtration = 0.6831683168316832<br>death filtration = 0.7128712871287128<br>interval length = 0.02970297029702962<br>birth simplex = [20, 54, 89]<br>cyle representative nnz = 18<br>bounding chain nnz = 15.0<br>row of dataframe = 318"
         ],
         "type": "scatter",
         "x": [
          0.6831683168316832
         ],
         "y": [
          0.7128712871287128
         ]
        },
        {
         "legendgroup": "2",
         "marker": {
          "color": "#00CC96"
         },
         "mode": "markers",
         "name": "Dimension 2",
         "showlegend": false,
         "text": [
          "birth filtration = 0.6831683168316832<br>death filtration = 0.7326732673267327<br>interval length = 0.04950495049504944<br>birth simplex = [20, 41, 59]<br>cyle representative nnz = 26<br>bounding chain nnz = 19.0<br>row of dataframe = 319"
         ],
         "type": "scatter",
         "x": [
          0.6831683168316832
         ],
         "y": [
          0.7326732673267327
         ]
        },
        {
         "legendgroup": "2",
         "marker": {
          "color": "#00CC96"
         },
         "mode": "markers",
         "name": "Dimension 2",
         "showlegend": false,
         "text": [
          "birth filtration = 0.6831683168316832<br>death filtration = 0.7029702970297029<br>interval length = 0.01980198019801971<br>birth simplex = [16, 27, 89]<br>cyle representative nnz = 8<br>bounding chain nnz = 45.0<br>row of dataframe = 320"
         ],
         "type": "scatter",
         "x": [
          0.6831683168316832
         ],
         "y": [
          0.7029702970297029
         ]
        },
        {
         "legendgroup": "2",
         "marker": {
          "color": "#00CC96"
         },
         "mode": "markers",
         "name": "Dimension 2",
         "showlegend": false,
         "text": [
          "birth filtration = 0.6831683168316832<br>death filtration = 0.7326732673267327<br>interval length = 0.04950495049504944<br>birth simplex = [3, 41, 42]<br>cyle representative nnz = 18<br>bounding chain nnz = 40.0<br>row of dataframe = 321"
         ],
         "type": "scatter",
         "x": [
          0.6831683168316832
         ],
         "y": [
          0.7326732673267327
         ]
        },
        {
         "legendgroup": "2",
         "marker": {
          "color": "#00CC96"
         },
         "mode": "markers",
         "name": "Dimension 2",
         "showlegend": false,
         "text": [
          "birth filtration = 0.6732673267326733<br>death filtration = 0.7128712871287128<br>interval length = 0.03960396039603953<br>birth simplex = [54, 79, 89]<br>cyle representative nnz = 10<br>bounding chain nnz = 22.0<br>row of dataframe = 322"
         ],
         "type": "scatter",
         "x": [
          0.6732673267326733
         ],
         "y": [
          0.7128712871287128
         ]
        },
        {
         "legendgroup": "2",
         "marker": {
          "color": "#00CC96"
         },
         "mode": "markers",
         "name": "Dimension 2",
         "showlegend": false,
         "text": [
          "birth filtration = 0.6732673267326733<br>death filtration = 0.7227722772277227<br>interval length = 0.04950495049504944<br>birth simplex = [44, 57, 85]<br>cyle representative nnz = 32<br>bounding chain nnz = 59.0<br>row of dataframe = 323"
         ],
         "type": "scatter",
         "x": [
          0.6732673267326733
         ],
         "y": [
          0.7227722772277227
         ]
        },
        {
         "legendgroup": "2",
         "marker": {
          "color": "#00CC96"
         },
         "mode": "markers",
         "name": "Dimension 2",
         "showlegend": false,
         "text": [
          "birth filtration = 0.6732673267326733<br>death filtration = 0.7425742574257426<br>interval length = 0.06930693069306926<br>birth simplex = [44, 56, 85]<br>cyle representative nnz = 36<br>bounding chain nnz = 122.0<br>row of dataframe = 324"
         ],
         "type": "scatter",
         "x": [
          0.6732673267326733
         ],
         "y": [
          0.7425742574257426
         ]
        },
        {
         "legendgroup": "2",
         "marker": {
          "color": "#00CC96"
         },
         "mode": "markers",
         "name": "Dimension 2",
         "showlegend": false,
         "text": [
          "birth filtration = 0.6732673267326733<br>death filtration = 0.7128712871287128<br>interval length = 0.03960396039603953<br>birth simplex = [12, 86, 96]<br>cyle representative nnz = 20<br>bounding chain nnz = 25.0<br>row of dataframe = 325"
         ],
         "type": "scatter",
         "x": [
          0.6732673267326733
         ],
         "y": [
          0.7128712871287128
         ]
        },
        {
         "legendgroup": "2",
         "marker": {
          "color": "#00CC96"
         },
         "mode": "markers",
         "name": "Dimension 2",
         "showlegend": false,
         "text": [
          "birth filtration = 0.6732673267326733<br>death filtration = 0.6831683168316832<br>interval length = 0.00990099009900991<br>birth simplex = [11, 37, 41]<br>cyle representative nnz = 10<br>bounding chain nnz = 5.0<br>row of dataframe = 326"
         ],
         "type": "scatter",
         "x": [
          0.6732673267326733
         ],
         "y": [
          0.6831683168316832
         ]
        },
        {
         "legendgroup": "2",
         "marker": {
          "color": "#00CC96"
         },
         "mode": "markers",
         "name": "Dimension 2",
         "showlegend": false,
         "text": [
          "birth filtration = 0.6633663366336634<br>death filtration = 0.7524752475247525<br>interval length = 0.08910891089108908<br>birth simplex = [79, 89, 97]<br>cyle representative nnz = 43<br>bounding chain nnz = 87.0<br>row of dataframe = 327"
         ],
         "type": "scatter",
         "x": [
          0.6633663366336634
         ],
         "y": [
          0.7524752475247525
         ]
        },
        {
         "legendgroup": "2",
         "marker": {
          "color": "#00CC96"
         },
         "mode": "markers",
         "name": "Dimension 2",
         "showlegend": false,
         "text": [
          "birth filtration = 0.6633663366336634<br>death filtration = 0.6831683168316832<br>interval length = 0.01980198019801982<br>birth simplex = [75, 89, 97]<br>cyle representative nnz = 12<br>bounding chain nnz = 7.0<br>row of dataframe = 328"
         ],
         "type": "scatter",
         "x": [
          0.6633663366336634
         ],
         "y": [
          0.6831683168316832
         ]
        },
        {
         "legendgroup": "2",
         "marker": {
          "color": "#00CC96"
         },
         "mode": "markers",
         "name": "Dimension 2",
         "showlegend": false,
         "text": [
          "birth filtration = 0.6633663366336634<br>death filtration = 0.7128712871287128<br>interval length = 0.04950495049504944<br>birth simplex = [59, 76, 94]<br>cyle representative nnz = 22<br>bounding chain nnz = 19.0<br>row of dataframe = 329"
         ],
         "type": "scatter",
         "x": [
          0.6633663366336634
         ],
         "y": [
          0.7128712871287128
         ]
        },
        {
         "legendgroup": "2",
         "marker": {
          "color": "#00CC96"
         },
         "mode": "markers",
         "name": "Dimension 2",
         "showlegend": false,
         "text": [
          "birth filtration = 0.6633663366336634<br>death filtration = 0.7623762376237624<br>interval length = 0.09900990099009899<br>birth simplex = [52, 59, 94]<br>cyle representative nnz = 18<br>bounding chain nnz = 33.0<br>row of dataframe = 330"
         ],
         "type": "scatter",
         "x": [
          0.6633663366336634
         ],
         "y": [
          0.7623762376237624
         ]
        },
        {
         "legendgroup": "2",
         "marker": {
          "color": "#00CC96"
         },
         "mode": "markers",
         "name": "Dimension 2",
         "showlegend": false,
         "text": [
          "birth filtration = 0.6633663366336634<br>death filtration = 0.7227722772277227<br>interval length = 0.05940594059405935<br>birth simplex = [41, 89, 97]<br>cyle representative nnz = 20<br>bounding chain nnz = 41.0<br>row of dataframe = 331"
         ],
         "type": "scatter",
         "x": [
          0.6633663366336634
         ],
         "y": [
          0.7227722772277227
         ]
        },
        {
         "legendgroup": "2",
         "marker": {
          "color": "#00CC96"
         },
         "mode": "markers",
         "name": "Dimension 2",
         "showlegend": false,
         "text": [
          "birth filtration = 0.6633663366336634<br>death filtration = 0.693069306930693<br>interval length = 0.02970297029702962<br>birth simplex = [34, 59, 60]<br>cyle representative nnz = 16<br>bounding chain nnz = 14.0<br>row of dataframe = 332"
         ],
         "type": "scatter",
         "x": [
          0.6633663366336634
         ],
         "y": [
          0.693069306930693
         ]
        },
        {
         "legendgroup": "2",
         "marker": {
          "color": "#00CC96"
         },
         "mode": "markers",
         "name": "Dimension 2",
         "showlegend": false,
         "text": [
          "birth filtration = 0.6633663366336634<br>death filtration = 0.7722772277227723<br>interval length = 0.1089108910891089<br>birth simplex = [31, 52, 100]<br>cyle representative nnz = 22<br>bounding chain nnz = 67.0<br>row of dataframe = 333"
         ],
         "type": "scatter",
         "x": [
          0.6633663366336634
         ],
         "y": [
          0.7722772277227723
         ]
        },
        {
         "legendgroup": "2",
         "marker": {
          "color": "#00CC96"
         },
         "mode": "markers",
         "name": "Dimension 2",
         "showlegend": false,
         "text": [
          "birth filtration = 0.6633663366336634<br>death filtration = 0.6732673267326733<br>interval length = 0.00990099009900991<br>birth simplex = [28, 41, 43]<br>cyle representative nnz = 20<br>bounding chain nnz = 13.0<br>row of dataframe = 334"
         ],
         "type": "scatter",
         "x": [
          0.6633663366336634
         ],
         "y": [
          0.6732673267326733
         ]
        },
        {
         "legendgroup": "2",
         "marker": {
          "color": "#00CC96"
         },
         "mode": "markers",
         "name": "Dimension 2",
         "showlegend": false,
         "text": [
          "birth filtration = 0.6633663366336634<br>death filtration = 0.6831683168316832<br>interval length = 0.01980198019801982<br>birth simplex = [28, 41, 42]<br>cyle representative nnz = 12<br>bounding chain nnz = 7.0<br>row of dataframe = 335"
         ],
         "type": "scatter",
         "x": [
          0.6633663366336634
         ],
         "y": [
          0.6831683168316832
         ]
        },
        {
         "legendgroup": "2",
         "marker": {
          "color": "#00CC96"
         },
         "mode": "markers",
         "name": "Dimension 2",
         "showlegend": false,
         "text": [
          "birth filtration = 0.6633663366336634<br>death filtration = 0.8118811881188119<br>interval length = 0.14851485148514854<br>birth simplex = [24, 93, 94]<br>cyle representative nnz = 34<br>bounding chain nnz = 60.0<br>row of dataframe = 336"
         ],
         "type": "scatter",
         "x": [
          0.6633663366336634
         ],
         "y": [
          0.8118811881188119
         ]
        },
        {
         "legendgroup": "2",
         "marker": {
          "color": "#00CC96"
         },
         "mode": "markers",
         "name": "Dimension 2",
         "showlegend": false,
         "text": [
          "birth filtration = 0.6633663366336634<br>death filtration = 0.8118811881188119<br>interval length = 0.14851485148514854<br>birth simplex = [16, 41, 90]<br>cyle representative nnz = 16<br>bounding chain nnz = 68.0<br>row of dataframe = 337"
         ],
         "type": "scatter",
         "x": [
          0.6633663366336634
         ],
         "y": [
          0.8118811881188119
         ]
        },
        {
         "legendgroup": "2",
         "marker": {
          "color": "#00CC96"
         },
         "mode": "markers",
         "name": "Dimension 2",
         "showlegend": false,
         "text": [
          "birth filtration = 0.6633663366336634<br>death filtration = 0.7425742574257426<br>interval length = 0.07920792079207917<br>birth simplex = [16, 41, 85]<br>cyle representative nnz = 18<br>bounding chain nnz = 15.0<br>row of dataframe = 338"
         ],
         "type": "scatter",
         "x": [
          0.6633663366336634
         ],
         "y": [
          0.7425742574257426
         ]
        },
        {
         "legendgroup": "2",
         "marker": {
          "color": "#00CC96"
         },
         "mode": "markers",
         "name": "Dimension 2",
         "showlegend": false,
         "text": [
          "birth filtration = 0.6534653465346535<br>death filtration = 0.7029702970297029<br>interval length = 0.04950495049504944<br>birth simplex = [36, 40, 96]<br>cyle representative nnz = 20<br>bounding chain nnz = 22.0<br>row of dataframe = 339"
         ],
         "type": "scatter",
         "x": [
          0.6534653465346535
         ],
         "y": [
          0.7029702970297029
         ]
        },
        {
         "legendgroup": "2",
         "marker": {
          "color": "#00CC96"
         },
         "mode": "markers",
         "name": "Dimension 2",
         "showlegend": false,
         "text": [
          "birth filtration = 0.6435643564356436<br>death filtration = 0.7524752475247525<br>interval length = 0.1089108910891089<br>birth simplex = [42, 44, 83]<br>cyle representative nnz = 10<br>bounding chain nnz = 47.0<br>row of dataframe = 340"
         ],
         "type": "scatter",
         "x": [
          0.6435643564356436
         ],
         "y": [
          0.7524752475247525
         ]
        },
        {
         "legendgroup": "2",
         "marker": {
          "color": "#00CC96"
         },
         "mode": "markers",
         "name": "Dimension 2",
         "showlegend": false,
         "text": [
          "birth filtration = 0.6336633663366337<br>death filtration = 0.693069306930693<br>interval length = 0.05940594059405935<br>birth simplex = [42, 44, 57]<br>cyle representative nnz = 41<br>bounding chain nnz = 66.0<br>row of dataframe = 341"
         ],
         "type": "scatter",
         "x": [
          0.6336633663366337
         ],
         "y": [
          0.693069306930693
         ]
        },
        {
         "legendgroup": "2",
         "marker": {
          "color": "#00CC96"
         },
         "mode": "markers",
         "name": "Dimension 2",
         "showlegend": false,
         "text": [
          "birth filtration = 0.6237623762376238<br>death filtration = 0.6732673267326733<br>interval length = 0.04950495049504955<br>birth simplex = [52, 55, 94]<br>cyle representative nnz = 20<br>bounding chain nnz = 33.0<br>row of dataframe = 342"
         ],
         "type": "scatter",
         "x": [
          0.6237623762376238
         ],
         "y": [
          0.6732673267326733
         ]
        },
        {
         "legendgroup": "2",
         "marker": {
          "color": "#00CC96"
         },
         "mode": "markers",
         "name": "Dimension 2",
         "showlegend": false,
         "text": [
          "birth filtration = 0.6237623762376238<br>death filtration = 0.6732673267326733<br>interval length = 0.04950495049504955<br>birth simplex = [43, 52, 55]<br>cyle representative nnz = 22<br>bounding chain nnz = 22.0<br>row of dataframe = 343"
         ],
         "type": "scatter",
         "x": [
          0.6237623762376238
         ],
         "y": [
          0.6732673267326733
         ]
        },
        {
         "legendgroup": "2",
         "marker": {
          "color": "#00CC96"
         },
         "mode": "markers",
         "name": "Dimension 2",
         "showlegend": false,
         "text": [
          "birth filtration = 0.6237623762376238<br>death filtration = 0.7128712871287128<br>interval length = 0.08910891089108908<br>birth simplex = [37, 94, 96]<br>cyle representative nnz = 8<br>bounding chain nnz = 14.0<br>row of dataframe = 344"
         ],
         "type": "scatter",
         "x": [
          0.6237623762376238
         ],
         "y": [
          0.7128712871287128
         ]
        },
        {
         "legendgroup": "2",
         "marker": {
          "color": "#00CC96"
         },
         "mode": "markers",
         "name": "Dimension 2",
         "showlegend": false,
         "text": [
          "birth filtration = 0.6138613861386139<br>death filtration = 0.6237623762376238<br>interval length = 0.00990099009900991<br>birth simplex = [51, 55, 82]<br>cyle representative nnz = 10<br>bounding chain nnz = 5.0<br>row of dataframe = 345"
         ],
         "type": "scatter",
         "x": [
          0.6138613861386139
         ],
         "y": [
          0.6237623762376238
         ]
        },
        {
         "legendgroup": "2",
         "marker": {
          "color": "#00CC96"
         },
         "mode": "markers",
         "name": "Dimension 2",
         "showlegend": false,
         "text": [
          "birth filtration = 0.6138613861386139<br>death filtration = 0.6831683168316832<br>interval length = 0.06930693069306937<br>birth simplex = [36, 37, 55]<br>cyle representative nnz = 16<br>bounding chain nnz = 15.0<br>row of dataframe = 346"
         ],
         "type": "scatter",
         "x": [
          0.6138613861386139
         ],
         "y": [
          0.6831683168316832
         ]
        },
        {
         "legendgroup": "2",
         "marker": {
          "color": "#00CC96"
         },
         "mode": "markers",
         "name": "Dimension 2",
         "showlegend": false,
         "text": [
          "birth filtration = 0.6039603960396039<br>death filtration = 0.7722772277227723<br>interval length = 0.16831683168316836<br>birth simplex = [40, 51, 69]<br>cyle representative nnz = 16<br>bounding chain nnz = 37.0<br>row of dataframe = 347"
         ],
         "type": "scatter",
         "x": [
          0.6039603960396039
         ],
         "y": [
          0.7722772277227723
         ]
        },
        {
         "legendgroup": "2",
         "marker": {
          "color": "#00CC96"
         },
         "mode": "markers",
         "name": "Dimension 2",
         "showlegend": false,
         "text": [
          "birth filtration = 0.6039603960396039<br>death filtration = 0.6435643564356436<br>interval length = 0.03960396039603964<br>birth simplex = [34, 56, 79]<br>cyle representative nnz = 22<br>bounding chain nnz = 14.0<br>row of dataframe = 348"
         ],
         "type": "scatter",
         "x": [
          0.6039603960396039
         ],
         "y": [
          0.6435643564356436
         ]
        },
        {
         "legendgroup": "2",
         "marker": {
          "color": "#00CC96"
         },
         "mode": "markers",
         "name": "Dimension 2",
         "showlegend": false,
         "text": [
          "birth filtration = 0.5841584158415841<br>death filtration = 0.6732673267326733<br>interval length = 0.08910891089108919<br>birth simplex = [37, 75, 94]<br>cyle representative nnz = 14<br>bounding chain nnz = 23.0<br>row of dataframe = 349"
         ],
         "type": "scatter",
         "x": [
          0.5841584158415841
         ],
         "y": [
          0.6732673267326733
         ]
        },
        {
         "legendgroup": "2",
         "marker": {
          "color": "#00CC96"
         },
         "mode": "markers",
         "name": "Dimension 2",
         "showlegend": false,
         "text": [
          "birth filtration = 0.5247524752475248<br>death filtration = 0.693069306930693<br>interval length = 0.16831683168316824<br>birth simplex = [43, 74, 97]<br>cyle representative nnz = 22<br>bounding chain nnz = 35.0<br>row of dataframe = 350"
         ],
         "type": "scatter",
         "x": [
          0.5247524752475248
         ],
         "y": [
          0.693069306930693
         ]
        },
        {
         "legendgroup": "2",
         "marker": {
          "color": "#00CC96"
         },
         "mode": "markers",
         "name": "Dimension 2",
         "showlegend": false,
         "text": [
          "birth filtration = 0.5247524752475248<br>death filtration = 0.6732673267326733<br>interval length = 0.14851485148514854<br>birth simplex = [11, 55, 74]<br>cyle representative nnz = 8<br>bounding chain nnz = 4.0<br>row of dataframe = 351"
         ],
         "type": "scatter",
         "x": [
          0.5247524752475248
         ],
         "y": [
          0.6732673267326733
         ]
        }
       ],
       "layout": {
        "height": 500,
        "margin": {
         "b": 20,
         "l": 20,
         "r": 20,
         "t": 20
        },
        "shapes": [
         {
          "line": {
           "dash": "dot"
          },
          "type": "line",
          "x0": 0,
          "x1": 1,
          "xref": "x domain",
          "y0": 1.0841584158415842,
          "y1": 1.0841584158415842,
          "yref": "y"
         }
        ],
        "template": {
         "data": {
          "bar": [
           {
            "error_x": {
             "color": "#2a3f5f"
            },
            "error_y": {
             "color": "#2a3f5f"
            },
            "marker": {
             "line": {
              "color": "#E5ECF6",
              "width": 0.5
             },
             "pattern": {
              "fillmode": "overlay",
              "size": 10,
              "solidity": 0.2
             }
            },
            "type": "bar"
           }
          ],
          "barpolar": [
           {
            "marker": {
             "line": {
              "color": "#E5ECF6",
              "width": 0.5
             },
             "pattern": {
              "fillmode": "overlay",
              "size": 10,
              "solidity": 0.2
             }
            },
            "type": "barpolar"
           }
          ],
          "carpet": [
           {
            "aaxis": {
             "endlinecolor": "#2a3f5f",
             "gridcolor": "white",
             "linecolor": "white",
             "minorgridcolor": "white",
             "startlinecolor": "#2a3f5f"
            },
            "baxis": {
             "endlinecolor": "#2a3f5f",
             "gridcolor": "white",
             "linecolor": "white",
             "minorgridcolor": "white",
             "startlinecolor": "#2a3f5f"
            },
            "type": "carpet"
           }
          ],
          "choropleth": [
           {
            "colorbar": {
             "outlinewidth": 0,
             "ticks": ""
            },
            "type": "choropleth"
           }
          ],
          "contour": [
           {
            "colorbar": {
             "outlinewidth": 0,
             "ticks": ""
            },
            "colorscale": [
             [
              0,
              "#0d0887"
             ],
             [
              0.1111111111111111,
              "#46039f"
             ],
             [
              0.2222222222222222,
              "#7201a8"
             ],
             [
              0.3333333333333333,
              "#9c179e"
             ],
             [
              0.4444444444444444,
              "#bd3786"
             ],
             [
              0.5555555555555556,
              "#d8576b"
             ],
             [
              0.6666666666666666,
              "#ed7953"
             ],
             [
              0.7777777777777778,
              "#fb9f3a"
             ],
             [
              0.8888888888888888,
              "#fdca26"
             ],
             [
              1,
              "#f0f921"
             ]
            ],
            "type": "contour"
           }
          ],
          "contourcarpet": [
           {
            "colorbar": {
             "outlinewidth": 0,
             "ticks": ""
            },
            "type": "contourcarpet"
           }
          ],
          "heatmap": [
           {
            "colorbar": {
             "outlinewidth": 0,
             "ticks": ""
            },
            "colorscale": [
             [
              0,
              "#0d0887"
             ],
             [
              0.1111111111111111,
              "#46039f"
             ],
             [
              0.2222222222222222,
              "#7201a8"
             ],
             [
              0.3333333333333333,
              "#9c179e"
             ],
             [
              0.4444444444444444,
              "#bd3786"
             ],
             [
              0.5555555555555556,
              "#d8576b"
             ],
             [
              0.6666666666666666,
              "#ed7953"
             ],
             [
              0.7777777777777778,
              "#fb9f3a"
             ],
             [
              0.8888888888888888,
              "#fdca26"
             ],
             [
              1,
              "#f0f921"
             ]
            ],
            "type": "heatmap"
           }
          ],
          "heatmapgl": [
           {
            "colorbar": {
             "outlinewidth": 0,
             "ticks": ""
            },
            "colorscale": [
             [
              0,
              "#0d0887"
             ],
             [
              0.1111111111111111,
              "#46039f"
             ],
             [
              0.2222222222222222,
              "#7201a8"
             ],
             [
              0.3333333333333333,
              "#9c179e"
             ],
             [
              0.4444444444444444,
              "#bd3786"
             ],
             [
              0.5555555555555556,
              "#d8576b"
             ],
             [
              0.6666666666666666,
              "#ed7953"
             ],
             [
              0.7777777777777778,
              "#fb9f3a"
             ],
             [
              0.8888888888888888,
              "#fdca26"
             ],
             [
              1,
              "#f0f921"
             ]
            ],
            "type": "heatmapgl"
           }
          ],
          "histogram": [
           {
            "marker": {
             "pattern": {
              "fillmode": "overlay",
              "size": 10,
              "solidity": 0.2
             }
            },
            "type": "histogram"
           }
          ],
          "histogram2d": [
           {
            "colorbar": {
             "outlinewidth": 0,
             "ticks": ""
            },
            "colorscale": [
             [
              0,
              "#0d0887"
             ],
             [
              0.1111111111111111,
              "#46039f"
             ],
             [
              0.2222222222222222,
              "#7201a8"
             ],
             [
              0.3333333333333333,
              "#9c179e"
             ],
             [
              0.4444444444444444,
              "#bd3786"
             ],
             [
              0.5555555555555556,
              "#d8576b"
             ],
             [
              0.6666666666666666,
              "#ed7953"
             ],
             [
              0.7777777777777778,
              "#fb9f3a"
             ],
             [
              0.8888888888888888,
              "#fdca26"
             ],
             [
              1,
              "#f0f921"
             ]
            ],
            "type": "histogram2d"
           }
          ],
          "histogram2dcontour": [
           {
            "colorbar": {
             "outlinewidth": 0,
             "ticks": ""
            },
            "colorscale": [
             [
              0,
              "#0d0887"
             ],
             [
              0.1111111111111111,
              "#46039f"
             ],
             [
              0.2222222222222222,
              "#7201a8"
             ],
             [
              0.3333333333333333,
              "#9c179e"
             ],
             [
              0.4444444444444444,
              "#bd3786"
             ],
             [
              0.5555555555555556,
              "#d8576b"
             ],
             [
              0.6666666666666666,
              "#ed7953"
             ],
             [
              0.7777777777777778,
              "#fb9f3a"
             ],
             [
              0.8888888888888888,
              "#fdca26"
             ],
             [
              1,
              "#f0f921"
             ]
            ],
            "type": "histogram2dcontour"
           }
          ],
          "mesh3d": [
           {
            "colorbar": {
             "outlinewidth": 0,
             "ticks": ""
            },
            "type": "mesh3d"
           }
          ],
          "parcoords": [
           {
            "line": {
             "colorbar": {
              "outlinewidth": 0,
              "ticks": ""
             }
            },
            "type": "parcoords"
           }
          ],
          "pie": [
           {
            "automargin": true,
            "type": "pie"
           }
          ],
          "scatter": [
           {
            "fillpattern": {
             "fillmode": "overlay",
             "size": 10,
             "solidity": 0.2
            },
            "type": "scatter"
           }
          ],
          "scatter3d": [
           {
            "line": {
             "colorbar": {
              "outlinewidth": 0,
              "ticks": ""
             }
            },
            "marker": {
             "colorbar": {
              "outlinewidth": 0,
              "ticks": ""
             }
            },
            "type": "scatter3d"
           }
          ],
          "scattercarpet": [
           {
            "marker": {
             "colorbar": {
              "outlinewidth": 0,
              "ticks": ""
             }
            },
            "type": "scattercarpet"
           }
          ],
          "scattergeo": [
           {
            "marker": {
             "colorbar": {
              "outlinewidth": 0,
              "ticks": ""
             }
            },
            "type": "scattergeo"
           }
          ],
          "scattergl": [
           {
            "marker": {
             "colorbar": {
              "outlinewidth": 0,
              "ticks": ""
             }
            },
            "type": "scattergl"
           }
          ],
          "scattermapbox": [
           {
            "marker": {
             "colorbar": {
              "outlinewidth": 0,
              "ticks": ""
             }
            },
            "type": "scattermapbox"
           }
          ],
          "scatterpolar": [
           {
            "marker": {
             "colorbar": {
              "outlinewidth": 0,
              "ticks": ""
             }
            },
            "type": "scatterpolar"
           }
          ],
          "scatterpolargl": [
           {
            "marker": {
             "colorbar": {
              "outlinewidth": 0,
              "ticks": ""
             }
            },
            "type": "scatterpolargl"
           }
          ],
          "scatterternary": [
           {
            "marker": {
             "colorbar": {
              "outlinewidth": 0,
              "ticks": ""
             }
            },
            "type": "scatterternary"
           }
          ],
          "surface": [
           {
            "colorbar": {
             "outlinewidth": 0,
             "ticks": ""
            },
            "colorscale": [
             [
              0,
              "#0d0887"
             ],
             [
              0.1111111111111111,
              "#46039f"
             ],
             [
              0.2222222222222222,
              "#7201a8"
             ],
             [
              0.3333333333333333,
              "#9c179e"
             ],
             [
              0.4444444444444444,
              "#bd3786"
             ],
             [
              0.5555555555555556,
              "#d8576b"
             ],
             [
              0.6666666666666666,
              "#ed7953"
             ],
             [
              0.7777777777777778,
              "#fb9f3a"
             ],
             [
              0.8888888888888888,
              "#fdca26"
             ],
             [
              1,
              "#f0f921"
             ]
            ],
            "type": "surface"
           }
          ],
          "table": [
           {
            "cells": {
             "fill": {
              "color": "#EBF0F8"
             },
             "line": {
              "color": "white"
             }
            },
            "header": {
             "fill": {
              "color": "#C8D4E3"
             },
             "line": {
              "color": "white"
             }
            },
            "type": "table"
           }
          ]
         },
         "layout": {
          "annotationdefaults": {
           "arrowcolor": "#2a3f5f",
           "arrowhead": 0,
           "arrowwidth": 1
          },
          "autotypenumbers": "strict",
          "coloraxis": {
           "colorbar": {
            "outlinewidth": 0,
            "ticks": ""
           }
          },
          "colorscale": {
           "diverging": [
            [
             0,
             "#8e0152"
            ],
            [
             0.1,
             "#c51b7d"
            ],
            [
             0.2,
             "#de77ae"
            ],
            [
             0.3,
             "#f1b6da"
            ],
            [
             0.4,
             "#fde0ef"
            ],
            [
             0.5,
             "#f7f7f7"
            ],
            [
             0.6,
             "#e6f5d0"
            ],
            [
             0.7,
             "#b8e186"
            ],
            [
             0.8,
             "#7fbc41"
            ],
            [
             0.9,
             "#4d9221"
            ],
            [
             1,
             "#276419"
            ]
           ],
           "sequential": [
            [
             0,
             "#0d0887"
            ],
            [
             0.1111111111111111,
             "#46039f"
            ],
            [
             0.2222222222222222,
             "#7201a8"
            ],
            [
             0.3333333333333333,
             "#9c179e"
            ],
            [
             0.4444444444444444,
             "#bd3786"
            ],
            [
             0.5555555555555556,
             "#d8576b"
            ],
            [
             0.6666666666666666,
             "#ed7953"
            ],
            [
             0.7777777777777778,
             "#fb9f3a"
            ],
            [
             0.8888888888888888,
             "#fdca26"
            ],
            [
             1,
             "#f0f921"
            ]
           ],
           "sequentialminus": [
            [
             0,
             "#0d0887"
            ],
            [
             0.1111111111111111,
             "#46039f"
            ],
            [
             0.2222222222222222,
             "#7201a8"
            ],
            [
             0.3333333333333333,
             "#9c179e"
            ],
            [
             0.4444444444444444,
             "#bd3786"
            ],
            [
             0.5555555555555556,
             "#d8576b"
            ],
            [
             0.6666666666666666,
             "#ed7953"
            ],
            [
             0.7777777777777778,
             "#fb9f3a"
            ],
            [
             0.8888888888888888,
             "#fdca26"
            ],
            [
             1,
             "#f0f921"
            ]
           ]
          },
          "colorway": [
           "#636efa",
           "#EF553B",
           "#00cc96",
           "#ab63fa",
           "#FFA15A",
           "#19d3f3",
           "#FF6692",
           "#B6E880",
           "#FF97FF",
           "#FECB52"
          ],
          "font": {
           "color": "#2a3f5f"
          },
          "geo": {
           "bgcolor": "white",
           "lakecolor": "white",
           "landcolor": "#E5ECF6",
           "showlakes": true,
           "showland": true,
           "subunitcolor": "white"
          },
          "hoverlabel": {
           "align": "left"
          },
          "hovermode": "closest",
          "mapbox": {
           "style": "light"
          },
          "paper_bgcolor": "white",
          "plot_bgcolor": "#E5ECF6",
          "polar": {
           "angularaxis": {
            "gridcolor": "white",
            "linecolor": "white",
            "ticks": ""
           },
           "bgcolor": "#E5ECF6",
           "radialaxis": {
            "gridcolor": "white",
            "linecolor": "white",
            "ticks": ""
           }
          },
          "scene": {
           "xaxis": {
            "backgroundcolor": "#E5ECF6",
            "gridcolor": "white",
            "gridwidth": 2,
            "linecolor": "white",
            "showbackground": true,
            "ticks": "",
            "zerolinecolor": "white"
           },
           "yaxis": {
            "backgroundcolor": "#E5ECF6",
            "gridcolor": "white",
            "gridwidth": 2,
            "linecolor": "white",
            "showbackground": true,
            "ticks": "",
            "zerolinecolor": "white"
           },
           "zaxis": {
            "backgroundcolor": "#E5ECF6",
            "gridcolor": "white",
            "gridwidth": 2,
            "linecolor": "white",
            "showbackground": true,
            "ticks": "",
            "zerolinecolor": "white"
           }
          },
          "shapedefaults": {
           "line": {
            "color": "#2a3f5f"
           }
          },
          "ternary": {
           "aaxis": {
            "gridcolor": "white",
            "linecolor": "white",
            "ticks": ""
           },
           "baxis": {
            "gridcolor": "white",
            "linecolor": "white",
            "ticks": ""
           },
           "bgcolor": "#E5ECF6",
           "caxis": {
            "gridcolor": "white",
            "linecolor": "white",
            "ticks": ""
           }
          },
          "title": {
           "x": 0.05
          },
          "xaxis": {
           "automargin": true,
           "gridcolor": "white",
           "linecolor": "white",
           "ticks": "",
           "title": {
            "standoff": 15
           },
           "zerolinecolor": "white",
           "zerolinewidth": 2
          },
          "yaxis": {
           "automargin": true,
           "gridcolor": "white",
           "linecolor": "white",
           "ticks": "",
           "title": {
            "standoff": 15
           },
           "zerolinecolor": "white",
           "zerolinewidth": 2
          }
         }
        },
        "width": 600
       }
      }
     },
     "metadata": {},
     "output_type": "display_data"
    }
   ],
   "source": [
    "# persistance diagram\n",
    "fig = oat.plot.pd(homology_shuffled)\n",
    "fig.update_layout(\n",
    "        width=600, \n",
    "        height=500,\n",
    "        margin=dict(l=20, r=20, t=20, b=20)\n",
    "    )\n",
    "fig.show()"
   ]
  },
  {
   "cell_type": "code",
   "execution_count": null,
   "metadata": {},
   "outputs": [
    {
     "data": {
      "application/vnd.plotly.v1+json": {
       "config": {
        "plotlyServerURL": "https://plot.ly"
       },
       "data": [
        {
         "hoverinfo": "text",
         "hovertext": [
          "birth 0.04950495049504951<br>death inf<br>homology dimension 0<br>row of dataframe 67",
          "birth 0.04950495049504951<br>death inf<br>homology dimension 0<br>row of dataframe 67",
          "birth 0.04950495049504951<br>death inf<br>homology dimension 0<br>row of dataframe 67",
          "birth 0.10891089108910891<br>death 0.504950495049505<br>homology dimension 0<br>row of dataframe 66",
          "birth 0.10891089108910891<br>death 0.504950495049505<br>homology dimension 0<br>row of dataframe 66",
          "birth 0.10891089108910891<br>death 0.504950495049505<br>homology dimension 0<br>row of dataframe 66",
          "birth 0.16831683168316833<br>death 0.44554455445544555<br>homology dimension 0<br>row of dataframe 65",
          "birth 0.16831683168316833<br>death 0.44554455445544555<br>homology dimension 0<br>row of dataframe 65",
          "birth 0.16831683168316833<br>death 0.44554455445544555<br>homology dimension 0<br>row of dataframe 65",
          "birth 0.27722772277227725<br>death 0.48514851485148514<br>homology dimension 0<br>row of dataframe 64",
          "birth 0.27722772277227725<br>death 0.48514851485148514<br>homology dimension 0<br>row of dataframe 64",
          "birth 0.27722772277227725<br>death 0.48514851485148514<br>homology dimension 0<br>row of dataframe 64",
          "birth 0.32673267326732675<br>death 0.3564356435643564<br>homology dimension 0<br>row of dataframe 63",
          "birth 0.32673267326732675<br>death 0.3564356435643564<br>homology dimension 0<br>row of dataframe 63",
          "birth 0.32673267326732675<br>death 0.3564356435643564<br>homology dimension 0<br>row of dataframe 63",
          "birth 0.33663366336633666<br>death 0.40594059405940597<br>homology dimension 0<br>row of dataframe 62",
          "birth 0.33663366336633666<br>death 0.40594059405940597<br>homology dimension 0<br>row of dataframe 62",
          "birth 0.33663366336633666<br>death 0.40594059405940597<br>homology dimension 0<br>row of dataframe 62",
          "birth 0.3465346534653465<br>death 0.6138613861386139<br>homology dimension 0<br>row of dataframe 61",
          "birth 0.3465346534653465<br>death 0.6138613861386139<br>homology dimension 0<br>row of dataframe 61",
          "birth 0.3465346534653465<br>death 0.6138613861386139<br>homology dimension 0<br>row of dataframe 61",
          "birth 0.3564356435643564<br>death 0.504950495049505<br>homology dimension 0<br>row of dataframe 60",
          "birth 0.3564356435643564<br>death 0.504950495049505<br>homology dimension 0<br>row of dataframe 60",
          "birth 0.3564356435643564<br>death 0.504950495049505<br>homology dimension 0<br>row of dataframe 60",
          "birth 0.3564356435643564<br>death 0.5148514851485149<br>homology dimension 0<br>row of dataframe 59",
          "birth 0.3564356435643564<br>death 0.5148514851485149<br>homology dimension 0<br>row of dataframe 59",
          "birth 0.3564356435643564<br>death 0.5148514851485149<br>homology dimension 0<br>row of dataframe 59",
          "birth 0.36633663366336633<br>death 0.40594059405940597<br>homology dimension 0<br>row of dataframe 57",
          "birth 0.36633663366336633<br>death 0.40594059405940597<br>homology dimension 0<br>row of dataframe 57",
          "birth 0.36633663366336633<br>death 0.40594059405940597<br>homology dimension 0<br>row of dataframe 57",
          "birth 0.36633663366336633<br>death 0.44554455445544555<br>homology dimension 0<br>row of dataframe 58",
          "birth 0.36633663366336633<br>death 0.44554455445544555<br>homology dimension 0<br>row of dataframe 58",
          "birth 0.36633663366336633<br>death 0.44554455445544555<br>homology dimension 0<br>row of dataframe 58",
          "birth 0.36633663366336633<br>death 0.48514851485148514<br>homology dimension 0<br>row of dataframe 56",
          "birth 0.36633663366336633<br>death 0.48514851485148514<br>homology dimension 0<br>row of dataframe 56",
          "birth 0.36633663366336633<br>death 0.48514851485148514<br>homology dimension 0<br>row of dataframe 56",
          "birth 0.37623762376237624<br>death 0.43564356435643564<br>homology dimension 0<br>row of dataframe 55",
          "birth 0.37623762376237624<br>death 0.43564356435643564<br>homology dimension 0<br>row of dataframe 55",
          "birth 0.37623762376237624<br>death 0.43564356435643564<br>homology dimension 0<br>row of dataframe 55",
          "birth 0.38613861386138615<br>death 0.48514851485148514<br>homology dimension 0<br>row of dataframe 54",
          "birth 0.38613861386138615<br>death 0.48514851485148514<br>homology dimension 0<br>row of dataframe 54",
          "birth 0.38613861386138615<br>death 0.48514851485148514<br>homology dimension 0<br>row of dataframe 54",
          "birth 0.39603960396039606<br>death 0.43564356435643564<br>homology dimension 0<br>row of dataframe 53",
          "birth 0.39603960396039606<br>death 0.43564356435643564<br>homology dimension 0<br>row of dataframe 53",
          "birth 0.39603960396039606<br>death 0.43564356435643564<br>homology dimension 0<br>row of dataframe 53",
          "birth 0.39603960396039606<br>death 0.45544554455445546<br>homology dimension 0<br>row of dataframe 52",
          "birth 0.39603960396039606<br>death 0.45544554455445546<br>homology dimension 0<br>row of dataframe 52",
          "birth 0.39603960396039606<br>death 0.45544554455445546<br>homology dimension 0<br>row of dataframe 52",
          "birth 0.40594059405940597<br>death 0.42574257425742573<br>homology dimension 0<br>row of dataframe 49",
          "birth 0.40594059405940597<br>death 0.42574257425742573<br>homology dimension 0<br>row of dataframe 49",
          "birth 0.40594059405940597<br>death 0.42574257425742573<br>homology dimension 0<br>row of dataframe 49",
          "birth 0.40594059405940597<br>death 0.43564356435643564<br>homology dimension 0<br>row of dataframe 47",
          "birth 0.40594059405940597<br>death 0.43564356435643564<br>homology dimension 0<br>row of dataframe 47",
          "birth 0.40594059405940597<br>death 0.43564356435643564<br>homology dimension 0<br>row of dataframe 47",
          "birth 0.40594059405940597<br>death 0.45544554455445546<br>homology dimension 0<br>row of dataframe 48",
          "birth 0.40594059405940597<br>death 0.45544554455445546<br>homology dimension 0<br>row of dataframe 48",
          "birth 0.40594059405940597<br>death 0.45544554455445546<br>homology dimension 0<br>row of dataframe 48",
          "birth 0.40594059405940597<br>death 0.45544554455445546<br>homology dimension 0<br>row of dataframe 50",
          "birth 0.40594059405940597<br>death 0.45544554455445546<br>homology dimension 0<br>row of dataframe 50",
          "birth 0.40594059405940597<br>death 0.45544554455445546<br>homology dimension 0<br>row of dataframe 50",
          "birth 0.40594059405940597<br>death 0.4752475247524752<br>homology dimension 0<br>row of dataframe 51",
          "birth 0.40594059405940597<br>death 0.4752475247524752<br>homology dimension 0<br>row of dataframe 51",
          "birth 0.40594059405940597<br>death 0.4752475247524752<br>homology dimension 0<br>row of dataframe 51",
          "birth 0.4158415841584158<br>death 0.43564356435643564<br>homology dimension 0<br>row of dataframe 45",
          "birth 0.4158415841584158<br>death 0.43564356435643564<br>homology dimension 0<br>row of dataframe 45",
          "birth 0.4158415841584158<br>death 0.43564356435643564<br>homology dimension 0<br>row of dataframe 45",
          "birth 0.4158415841584158<br>death 0.504950495049505<br>homology dimension 0<br>row of dataframe 46",
          "birth 0.4158415841584158<br>death 0.504950495049505<br>homology dimension 0<br>row of dataframe 46",
          "birth 0.4158415841584158<br>death 0.504950495049505<br>homology dimension 0<br>row of dataframe 46",
          "birth 0.42574257425742573<br>death 0.45544554455445546<br>homology dimension 0<br>row of dataframe 40",
          "birth 0.42574257425742573<br>death 0.45544554455445546<br>homology dimension 0<br>row of dataframe 40",
          "birth 0.42574257425742573<br>death 0.45544554455445546<br>homology dimension 0<br>row of dataframe 40",
          "birth 0.42574257425742573<br>death 0.45544554455445546<br>homology dimension 0<br>row of dataframe 42",
          "birth 0.42574257425742573<br>death 0.45544554455445546<br>homology dimension 0<br>row of dataframe 42",
          "birth 0.42574257425742573<br>death 0.45544554455445546<br>homology dimension 0<br>row of dataframe 42",
          "birth 0.42574257425742573<br>death 0.49504950495049505<br>homology dimension 0<br>row of dataframe 41",
          "birth 0.42574257425742573<br>death 0.49504950495049505<br>homology dimension 0<br>row of dataframe 41",
          "birth 0.42574257425742573<br>death 0.49504950495049505<br>homology dimension 0<br>row of dataframe 41",
          "birth 0.42574257425742573<br>death 0.5445544554455446<br>homology dimension 0<br>row of dataframe 39",
          "birth 0.42574257425742573<br>death 0.5445544554455446<br>homology dimension 0<br>row of dataframe 39",
          "birth 0.42574257425742573<br>death 0.5445544554455446<br>homology dimension 0<br>row of dataframe 39",
          "birth 0.42574257425742573<br>death 0.5544554455445545<br>homology dimension 0<br>row of dataframe 44",
          "birth 0.42574257425742573<br>death 0.5544554455445545<br>homology dimension 0<br>row of dataframe 44",
          "birth 0.42574257425742573<br>death 0.5544554455445545<br>homology dimension 0<br>row of dataframe 44",
          "birth 0.42574257425742573<br>death 0.6237623762376238<br>homology dimension 0<br>row of dataframe 43",
          "birth 0.42574257425742573<br>death 0.6237623762376238<br>homology dimension 0<br>row of dataframe 43",
          "birth 0.42574257425742573<br>death 0.6237623762376238<br>homology dimension 0<br>row of dataframe 43",
          "birth 0.43564356435643564<br>death 0.46534653465346537<br>homology dimension 0<br>row of dataframe 36",
          "birth 0.43564356435643564<br>death 0.46534653465346537<br>homology dimension 0<br>row of dataframe 36",
          "birth 0.43564356435643564<br>death 0.46534653465346537<br>homology dimension 0<br>row of dataframe 36",
          "birth 0.43564356435643564<br>death 0.48514851485148514<br>homology dimension 0<br>row of dataframe 38",
          "birth 0.43564356435643564<br>death 0.48514851485148514<br>homology dimension 0<br>row of dataframe 38",
          "birth 0.43564356435643564<br>death 0.48514851485148514<br>homology dimension 0<br>row of dataframe 38",
          "birth 0.43564356435643564<br>death 0.5148514851485149<br>homology dimension 0<br>row of dataframe 35",
          "birth 0.43564356435643564<br>death 0.5148514851485149<br>homology dimension 0<br>row of dataframe 35",
          "birth 0.43564356435643564<br>death 0.5148514851485149<br>homology dimension 0<br>row of dataframe 35",
          "birth 0.43564356435643564<br>death 0.5247524752475248<br>homology dimension 0<br>row of dataframe 37",
          "birth 0.43564356435643564<br>death 0.5247524752475248<br>homology dimension 0<br>row of dataframe 37",
          "birth 0.43564356435643564<br>death 0.5247524752475248<br>homology dimension 0<br>row of dataframe 37",
          "birth 0.44554455445544555<br>death 0.5148514851485149<br>homology dimension 0<br>row of dataframe 34",
          "birth 0.44554455445544555<br>death 0.5148514851485149<br>homology dimension 0<br>row of dataframe 34",
          "birth 0.44554455445544555<br>death 0.5148514851485149<br>homology dimension 0<br>row of dataframe 34",
          "birth 0.45544554455445546<br>death 0.46534653465346537<br>homology dimension 0<br>row of dataframe 31",
          "birth 0.45544554455445546<br>death 0.46534653465346537<br>homology dimension 0<br>row of dataframe 31",
          "birth 0.45544554455445546<br>death 0.46534653465346537<br>homology dimension 0<br>row of dataframe 31",
          "birth 0.45544554455445546<br>death 0.46534653465346537<br>homology dimension 0<br>row of dataframe 32",
          "birth 0.45544554455445546<br>death 0.46534653465346537<br>homology dimension 0<br>row of dataframe 32",
          "birth 0.45544554455445546<br>death 0.46534653465346537<br>homology dimension 0<br>row of dataframe 32",
          "birth 0.45544554455445546<br>death 0.5148514851485149<br>homology dimension 0<br>row of dataframe 33",
          "birth 0.45544554455445546<br>death 0.5148514851485149<br>homology dimension 0<br>row of dataframe 33",
          "birth 0.45544554455445546<br>death 0.5148514851485149<br>homology dimension 0<br>row of dataframe 33",
          "birth 0.46534653465346537<br>death 0.504950495049505<br>homology dimension 0<br>row of dataframe 30",
          "birth 0.46534653465346537<br>death 0.504950495049505<br>homology dimension 0<br>row of dataframe 30",
          "birth 0.46534653465346537<br>death 0.504950495049505<br>homology dimension 0<br>row of dataframe 30",
          "birth 0.46534653465346537<br>death 0.5148514851485149<br>homology dimension 0<br>row of dataframe 29",
          "birth 0.46534653465346537<br>death 0.5148514851485149<br>homology dimension 0<br>row of dataframe 29",
          "birth 0.46534653465346537<br>death 0.5148514851485149<br>homology dimension 0<br>row of dataframe 29",
          "birth 0.4752475247524752<br>death 0.49504950495049505<br>homology dimension 0<br>row of dataframe 26",
          "birth 0.4752475247524752<br>death 0.49504950495049505<br>homology dimension 0<br>row of dataframe 26",
          "birth 0.4752475247524752<br>death 0.49504950495049505<br>homology dimension 0<br>row of dataframe 26",
          "birth 0.4752475247524752<br>death 0.504950495049505<br>homology dimension 0<br>row of dataframe 28",
          "birth 0.4752475247524752<br>death 0.504950495049505<br>homology dimension 0<br>row of dataframe 28",
          "birth 0.4752475247524752<br>death 0.504950495049505<br>homology dimension 0<br>row of dataframe 28",
          "birth 0.4752475247524752<br>death 0.5445544554455446<br>homology dimension 0<br>row of dataframe 27",
          "birth 0.4752475247524752<br>death 0.5445544554455446<br>homology dimension 0<br>row of dataframe 27",
          "birth 0.4752475247524752<br>death 0.5445544554455446<br>homology dimension 0<br>row of dataframe 27",
          "birth 0.48514851485148514<br>death 0.49504950495049505<br>homology dimension 0<br>row of dataframe 25",
          "birth 0.48514851485148514<br>death 0.49504950495049505<br>homology dimension 0<br>row of dataframe 25",
          "birth 0.48514851485148514<br>death 0.49504950495049505<br>homology dimension 0<br>row of dataframe 25",
          "birth 0.49504950495049505<br>death 0.594059405940594<br>homology dimension 0<br>row of dataframe 24",
          "birth 0.49504950495049505<br>death 0.594059405940594<br>homology dimension 0<br>row of dataframe 24",
          "birth 0.49504950495049505<br>death 0.594059405940594<br>homology dimension 0<br>row of dataframe 24",
          "birth 0.504950495049505<br>death 0.5148514851485149<br>homology dimension 0<br>row of dataframe 23",
          "birth 0.504950495049505<br>death 0.5148514851485149<br>homology dimension 0<br>row of dataframe 23",
          "birth 0.504950495049505<br>death 0.5148514851485149<br>homology dimension 0<br>row of dataframe 23",
          "birth 0.504950495049505<br>death 0.6039603960396039<br>homology dimension 0<br>row of dataframe 22",
          "birth 0.504950495049505<br>death 0.6039603960396039<br>homology dimension 0<br>row of dataframe 22",
          "birth 0.504950495049505<br>death 0.6039603960396039<br>homology dimension 0<br>row of dataframe 22",
          "birth 0.5247524752475248<br>death 0.5742574257425742<br>homology dimension 0<br>row of dataframe 21",
          "birth 0.5247524752475248<br>death 0.5742574257425742<br>homology dimension 0<br>row of dataframe 21",
          "birth 0.5247524752475248<br>death 0.5742574257425742<br>homology dimension 0<br>row of dataframe 21",
          "birth 0.5445544554455446<br>death 0.7722772277227723<br>homology dimension 0<br>row of dataframe 20",
          "birth 0.5445544554455446<br>death 0.7722772277227723<br>homology dimension 0<br>row of dataframe 20",
          "birth 0.5445544554455446<br>death 0.7722772277227723<br>homology dimension 0<br>row of dataframe 20",
          "birth 0.5544554455445545<br>death 0.6039603960396039<br>homology dimension 0<br>row of dataframe 18",
          "birth 0.5544554455445545<br>death 0.6039603960396039<br>homology dimension 0<br>row of dataframe 18",
          "birth 0.5544554455445545<br>death 0.6039603960396039<br>homology dimension 0<br>row of dataframe 18",
          "birth 0.5544554455445545<br>death 0.7326732673267327<br>homology dimension 0<br>row of dataframe 19",
          "birth 0.5544554455445545<br>death 0.7326732673267327<br>homology dimension 0<br>row of dataframe 19",
          "birth 0.5544554455445545<br>death 0.7326732673267327<br>homology dimension 0<br>row of dataframe 19",
          "birth 0.5643564356435643<br>death 0.6138613861386139<br>homology dimension 0<br>row of dataframe 17",
          "birth 0.5643564356435643<br>death 0.6138613861386139<br>homology dimension 0<br>row of dataframe 17",
          "birth 0.5643564356435643<br>death 0.6138613861386139<br>homology dimension 0<br>row of dataframe 17",
          "birth 0.5742574257425742<br>death 0.6633663366336634<br>homology dimension 0<br>row of dataframe 16",
          "birth 0.5742574257425742<br>death 0.6633663366336634<br>homology dimension 0<br>row of dataframe 16",
          "birth 0.5742574257425742<br>death 0.6633663366336634<br>homology dimension 0<br>row of dataframe 16",
          "birth 0.594059405940594<br>death 0.7029702970297029<br>homology dimension 0<br>row of dataframe 15",
          "birth 0.594059405940594<br>death 0.7029702970297029<br>homology dimension 0<br>row of dataframe 15",
          "birth 0.594059405940594<br>death 0.7029702970297029<br>homology dimension 0<br>row of dataframe 15",
          "birth 0.6039603960396039<br>death 0.6435643564356436<br>homology dimension 0<br>row of dataframe 14",
          "birth 0.6039603960396039<br>death 0.6435643564356436<br>homology dimension 0<br>row of dataframe 14",
          "birth 0.6039603960396039<br>death 0.6435643564356436<br>homology dimension 0<br>row of dataframe 14",
          "birth 0.6435643564356436<br>death 0.7524752475247525<br>homology dimension 0<br>row of dataframe 13",
          "birth 0.6435643564356436<br>death 0.7524752475247525<br>homology dimension 0<br>row of dataframe 13",
          "birth 0.6435643564356436<br>death 0.7524752475247525<br>homology dimension 0<br>row of dataframe 13",
          "birth 0.6633663366336634<br>death 0.7128712871287128<br>homology dimension 0<br>row of dataframe 12",
          "birth 0.6633663366336634<br>death 0.7128712871287128<br>homology dimension 0<br>row of dataframe 12",
          "birth 0.6633663366336634<br>death 0.7128712871287128<br>homology dimension 0<br>row of dataframe 12",
          "birth 0.7029702970297029<br>death 0.7326732673267327<br>homology dimension 0<br>row of dataframe 11",
          "birth 0.7029702970297029<br>death 0.7326732673267327<br>homology dimension 0<br>row of dataframe 11",
          "birth 0.7029702970297029<br>death 0.7326732673267327<br>homology dimension 0<br>row of dataframe 11",
          "birth 0.7326732673267327<br>death 0.7920792079207921<br>homology dimension 0<br>row of dataframe 10",
          "birth 0.7326732673267327<br>death 0.7920792079207921<br>homology dimension 0<br>row of dataframe 10",
          "birth 0.7326732673267327<br>death 0.7920792079207921<br>homology dimension 0<br>row of dataframe 10",
          "birth 0.7326732673267327<br>death 0.8712871287128713<br>homology dimension 0<br>row of dataframe 9",
          "birth 0.7326732673267327<br>death 0.8712871287128713<br>homology dimension 0<br>row of dataframe 9",
          "birth 0.7326732673267327<br>death 0.8712871287128713<br>homology dimension 0<br>row of dataframe 9",
          "birth 0.7524752475247525<br>death 0.8316831683168316<br>homology dimension 0<br>row of dataframe 8",
          "birth 0.7524752475247525<br>death 0.8316831683168316<br>homology dimension 0<br>row of dataframe 8",
          "birth 0.7524752475247525<br>death 0.8316831683168316<br>homology dimension 0<br>row of dataframe 8",
          "birth 0.7623762376237624<br>death 0.8316831683168316<br>homology dimension 0<br>row of dataframe 7",
          "birth 0.7623762376237624<br>death 0.8316831683168316<br>homology dimension 0<br>row of dataframe 7",
          "birth 0.7623762376237624<br>death 0.8316831683168316<br>homology dimension 0<br>row of dataframe 7",
          "birth 0.7821782178217822<br>death 0.7920792079207921<br>homology dimension 0<br>row of dataframe 6",
          "birth 0.7821782178217822<br>death 0.7920792079207921<br>homology dimension 0<br>row of dataframe 6",
          "birth 0.7821782178217822<br>death 0.7920792079207921<br>homology dimension 0<br>row of dataframe 6",
          "birth 0.7920792079207921<br>death 0.8415841584158416<br>homology dimension 0<br>row of dataframe 5",
          "birth 0.7920792079207921<br>death 0.8415841584158416<br>homology dimension 0<br>row of dataframe 5",
          "birth 0.7920792079207921<br>death 0.8415841584158416<br>homology dimension 0<br>row of dataframe 5",
          "birth 0.7920792079207921<br>death 0.9207920792079208<br>homology dimension 0<br>row of dataframe 4",
          "birth 0.7920792079207921<br>death 0.9207920792079208<br>homology dimension 0<br>row of dataframe 4",
          "birth 0.7920792079207921<br>death 0.9207920792079208<br>homology dimension 0<br>row of dataframe 4",
          "birth 0.801980198019802<br>death 0.8316831683168316<br>homology dimension 0<br>row of dataframe 3",
          "birth 0.801980198019802<br>death 0.8316831683168316<br>homology dimension 0<br>row of dataframe 3",
          "birth 0.801980198019802<br>death 0.8316831683168316<br>homology dimension 0<br>row of dataframe 3",
          "birth 0.8118811881188119<br>death 0.8316831683168316<br>homology dimension 0<br>row of dataframe 2",
          "birth 0.8118811881188119<br>death 0.8316831683168316<br>homology dimension 0<br>row of dataframe 2",
          "birth 0.8118811881188119<br>death 0.8316831683168316<br>homology dimension 0<br>row of dataframe 2",
          "birth 0.8316831683168316<br>death 0.8712871287128713<br>homology dimension 0<br>row of dataframe 1",
          "birth 0.8316831683168316<br>death 0.8712871287128713<br>homology dimension 0<br>row of dataframe 1",
          "birth 0.8316831683168316<br>death 0.8712871287128713<br>homology dimension 0<br>row of dataframe 1",
          "birth 0.9108910891089109<br>death 0.9603960396039604<br>homology dimension 0<br>row of dataframe 0",
          "birth 0.9108910891089109<br>death 0.9603960396039604<br>homology dimension 0<br>row of dataframe 0",
          "birth 0.9108910891089109<br>death 0.9603960396039604<br>homology dimension 0<br>row of dataframe 0"
         ],
         "line": {
          "color": "#636EFA"
         },
         "mode": "lines",
         "name": "Dim 0",
         "type": "scatter",
         "x": [
          0.04950495049504951,
          1.0891089108910892,
          null,
          0.10891089108910891,
          0.504950495049505,
          null,
          0.16831683168316833,
          0.44554455445544555,
          null,
          0.27722772277227725,
          0.48514851485148514,
          null,
          0.32673267326732675,
          0.3564356435643564,
          null,
          0.33663366336633666,
          0.40594059405940597,
          null,
          0.3465346534653465,
          0.6138613861386139,
          null,
          0.3564356435643564,
          0.504950495049505,
          null,
          0.3564356435643564,
          0.5148514851485149,
          null,
          0.36633663366336633,
          0.40594059405940597,
          null,
          0.36633663366336633,
          0.44554455445544555,
          null,
          0.36633663366336633,
          0.48514851485148514,
          null,
          0.37623762376237624,
          0.43564356435643564,
          null,
          0.38613861386138615,
          0.48514851485148514,
          null,
          0.39603960396039606,
          0.43564356435643564,
          null,
          0.39603960396039606,
          0.45544554455445546,
          null,
          0.40594059405940597,
          0.42574257425742573,
          null,
          0.40594059405940597,
          0.43564356435643564,
          null,
          0.40594059405940597,
          0.45544554455445546,
          null,
          0.40594059405940597,
          0.45544554455445546,
          null,
          0.40594059405940597,
          0.4752475247524752,
          null,
          0.4158415841584158,
          0.43564356435643564,
          null,
          0.4158415841584158,
          0.504950495049505,
          null,
          0.42574257425742573,
          0.45544554455445546,
          null,
          0.42574257425742573,
          0.45544554455445546,
          null,
          0.42574257425742573,
          0.49504950495049505,
          null,
          0.42574257425742573,
          0.5445544554455446,
          null,
          0.42574257425742573,
          0.5544554455445545,
          null,
          0.42574257425742573,
          0.6237623762376238,
          null,
          0.43564356435643564,
          0.46534653465346537,
          null,
          0.43564356435643564,
          0.48514851485148514,
          null,
          0.43564356435643564,
          0.5148514851485149,
          null,
          0.43564356435643564,
          0.5247524752475248,
          null,
          0.44554455445544555,
          0.5148514851485149,
          null,
          0.45544554455445546,
          0.46534653465346537,
          null,
          0.45544554455445546,
          0.46534653465346537,
          null,
          0.45544554455445546,
          0.5148514851485149,
          null,
          0.46534653465346537,
          0.504950495049505,
          null,
          0.46534653465346537,
          0.5148514851485149,
          null,
          0.4752475247524752,
          0.49504950495049505,
          null,
          0.4752475247524752,
          0.504950495049505,
          null,
          0.4752475247524752,
          0.5445544554455446,
          null,
          0.48514851485148514,
          0.49504950495049505,
          null,
          0.49504950495049505,
          0.594059405940594,
          null,
          0.504950495049505,
          0.5148514851485149,
          null,
          0.504950495049505,
          0.6039603960396039,
          null,
          0.5247524752475248,
          0.5742574257425742,
          null,
          0.5445544554455446,
          0.7722772277227723,
          null,
          0.5544554455445545,
          0.6039603960396039,
          null,
          0.5544554455445545,
          0.7326732673267327,
          null,
          0.5643564356435643,
          0.6138613861386139,
          null,
          0.5742574257425742,
          0.6633663366336634,
          null,
          0.594059405940594,
          0.7029702970297029,
          null,
          0.6039603960396039,
          0.6435643564356436,
          null,
          0.6435643564356436,
          0.7524752475247525,
          null,
          0.6633663366336634,
          0.7128712871287128,
          null,
          0.7029702970297029,
          0.7326732673267327,
          null,
          0.7326732673267327,
          0.7920792079207921,
          null,
          0.7326732673267327,
          0.8712871287128713,
          null,
          0.7524752475247525,
          0.8316831683168316,
          null,
          0.7623762376237624,
          0.8316831683168316,
          null,
          0.7821782178217822,
          0.7920792079207921,
          null,
          0.7920792079207921,
          0.8415841584158416,
          null,
          0.7920792079207921,
          0.9207920792079208,
          null,
          0.801980198019802,
          0.8316831683168316,
          null,
          0.8118811881188119,
          0.8316831683168316,
          null,
          0.8316831683168316,
          0.8712871287128713,
          null,
          0.9108910891089109,
          0.9603960396039604,
          null
         ],
         "y": [
          0,
          0,
          null,
          1,
          1,
          null,
          2,
          2,
          null,
          3,
          3,
          null,
          4,
          4,
          null,
          5,
          5,
          null,
          6,
          6,
          null,
          7,
          7,
          null,
          8,
          8,
          null,
          9,
          9,
          null,
          10,
          10,
          null,
          11,
          11,
          null,
          12,
          12,
          null,
          13,
          13,
          null,
          14,
          14,
          null,
          15,
          15,
          null,
          16,
          16,
          null,
          17,
          17,
          null,
          18,
          18,
          null,
          19,
          19,
          null,
          20,
          20,
          null,
          21,
          21,
          null,
          22,
          22,
          null,
          23,
          23,
          null,
          24,
          24,
          null,
          25,
          25,
          null,
          26,
          26,
          null,
          27,
          27,
          null,
          28,
          28,
          null,
          29,
          29,
          null,
          30,
          30,
          null,
          31,
          31,
          null,
          32,
          32,
          null,
          33,
          33,
          null,
          34,
          34,
          null,
          35,
          35,
          null,
          36,
          36,
          null,
          37,
          37,
          null,
          38,
          38,
          null,
          39,
          39,
          null,
          40,
          40,
          null,
          41,
          41,
          null,
          42,
          42,
          null,
          43,
          43,
          null,
          44,
          44,
          null,
          45,
          45,
          null,
          46,
          46,
          null,
          47,
          47,
          null,
          48,
          48,
          null,
          49,
          49,
          null,
          50,
          50,
          null,
          51,
          51,
          null,
          52,
          52,
          null,
          53,
          53,
          null,
          54,
          54,
          null,
          55,
          55,
          null,
          56,
          56,
          null,
          57,
          57,
          null,
          58,
          58,
          null,
          59,
          59,
          null,
          60,
          60,
          null,
          61,
          61,
          null,
          62,
          62,
          null,
          63,
          63,
          null,
          64,
          64,
          null,
          65,
          65,
          null,
          66,
          66,
          null,
          67,
          67,
          null
         ]
        },
        {
         "hoverinfo": "text",
         "hovertext": [
          "birth 0.4158415841584158<br>death 0.42574257425742573<br>homology dimension 1<br>row of dataframe 187",
          "birth 0.4158415841584158<br>death 0.42574257425742573<br>homology dimension 1<br>row of dataframe 187",
          "birth 0.4158415841584158<br>death 0.42574257425742573<br>homology dimension 1<br>row of dataframe 187",
          "birth 0.43564356435643564<br>death 0.45544554455445546<br>homology dimension 1<br>row of dataframe 186",
          "birth 0.43564356435643564<br>death 0.45544554455445546<br>homology dimension 1<br>row of dataframe 186",
          "birth 0.43564356435643564<br>death 0.45544554455445546<br>homology dimension 1<br>row of dataframe 186",
          "birth 0.4752475247524752<br>death 0.49504950495049505<br>homology dimension 1<br>row of dataframe 183",
          "birth 0.4752475247524752<br>death 0.49504950495049505<br>homology dimension 1<br>row of dataframe 183",
          "birth 0.4752475247524752<br>death 0.49504950495049505<br>homology dimension 1<br>row of dataframe 183",
          "birth 0.4752475247524752<br>death 0.49504950495049505<br>homology dimension 1<br>row of dataframe 184",
          "birth 0.4752475247524752<br>death 0.49504950495049505<br>homology dimension 1<br>row of dataframe 184",
          "birth 0.4752475247524752<br>death 0.49504950495049505<br>homology dimension 1<br>row of dataframe 184",
          "birth 0.4752475247524752<br>death 0.504950495049505<br>homology dimension 1<br>row of dataframe 182",
          "birth 0.4752475247524752<br>death 0.504950495049505<br>homology dimension 1<br>row of dataframe 182",
          "birth 0.4752475247524752<br>death 0.504950495049505<br>homology dimension 1<br>row of dataframe 182",
          "birth 0.4752475247524752<br>death 0.6633663366336634<br>homology dimension 1<br>row of dataframe 185",
          "birth 0.4752475247524752<br>death 0.6633663366336634<br>homology dimension 1<br>row of dataframe 185",
          "birth 0.4752475247524752<br>death 0.6633663366336634<br>homology dimension 1<br>row of dataframe 185",
          "birth 0.48514851485148514<br>death 0.49504950495049505<br>homology dimension 1<br>row of dataframe 180",
          "birth 0.48514851485148514<br>death 0.49504950495049505<br>homology dimension 1<br>row of dataframe 180",
          "birth 0.48514851485148514<br>death 0.49504950495049505<br>homology dimension 1<br>row of dataframe 180",
          "birth 0.48514851485148514<br>death 0.5247524752475248<br>homology dimension 1<br>row of dataframe 181",
          "birth 0.48514851485148514<br>death 0.5247524752475248<br>homology dimension 1<br>row of dataframe 181",
          "birth 0.48514851485148514<br>death 0.5247524752475248<br>homology dimension 1<br>row of dataframe 181",
          "birth 0.49504950495049505<br>death 0.504950495049505<br>homology dimension 1<br>row of dataframe 179",
          "birth 0.49504950495049505<br>death 0.504950495049505<br>homology dimension 1<br>row of dataframe 179",
          "birth 0.49504950495049505<br>death 0.504950495049505<br>homology dimension 1<br>row of dataframe 179",
          "birth 0.49504950495049505<br>death 0.5247524752475248<br>homology dimension 1<br>row of dataframe 176",
          "birth 0.49504950495049505<br>death 0.5247524752475248<br>homology dimension 1<br>row of dataframe 176",
          "birth 0.49504950495049505<br>death 0.5247524752475248<br>homology dimension 1<br>row of dataframe 176",
          "birth 0.49504950495049505<br>death 0.6138613861386139<br>homology dimension 1<br>row of dataframe 177",
          "birth 0.49504950495049505<br>death 0.6138613861386139<br>homology dimension 1<br>row of dataframe 177",
          "birth 0.49504950495049505<br>death 0.6138613861386139<br>homology dimension 1<br>row of dataframe 177",
          "birth 0.49504950495049505<br>death 0.6633663366336634<br>homology dimension 1<br>row of dataframe 178",
          "birth 0.49504950495049505<br>death 0.6633663366336634<br>homology dimension 1<br>row of dataframe 178",
          "birth 0.49504950495049505<br>death 0.6633663366336634<br>homology dimension 1<br>row of dataframe 178",
          "birth 0.504950495049505<br>death 0.5148514851485149<br>homology dimension 1<br>row of dataframe 175",
          "birth 0.504950495049505<br>death 0.5148514851485149<br>homology dimension 1<br>row of dataframe 175",
          "birth 0.504950495049505<br>death 0.5148514851485149<br>homology dimension 1<br>row of dataframe 175",
          "birth 0.504950495049505<br>death 0.5742574257425742<br>homology dimension 1<br>row of dataframe 174",
          "birth 0.504950495049505<br>death 0.5742574257425742<br>homology dimension 1<br>row of dataframe 174",
          "birth 0.504950495049505<br>death 0.5742574257425742<br>homology dimension 1<br>row of dataframe 174",
          "birth 0.5148514851485149<br>death 0.5247524752475248<br>homology dimension 1<br>row of dataframe 169",
          "birth 0.5148514851485149<br>death 0.5247524752475248<br>homology dimension 1<br>row of dataframe 169",
          "birth 0.5148514851485149<br>death 0.5247524752475248<br>homology dimension 1<br>row of dataframe 169",
          "birth 0.5148514851485149<br>death 0.5247524752475248<br>homology dimension 1<br>row of dataframe 171",
          "birth 0.5148514851485149<br>death 0.5247524752475248<br>homology dimension 1<br>row of dataframe 171",
          "birth 0.5148514851485149<br>death 0.5247524752475248<br>homology dimension 1<br>row of dataframe 171",
          "birth 0.5148514851485149<br>death 0.5247524752475248<br>homology dimension 1<br>row of dataframe 172",
          "birth 0.5148514851485149<br>death 0.5247524752475248<br>homology dimension 1<br>row of dataframe 172",
          "birth 0.5148514851485149<br>death 0.5247524752475248<br>homology dimension 1<br>row of dataframe 172",
          "birth 0.5148514851485149<br>death 0.6039603960396039<br>homology dimension 1<br>row of dataframe 173",
          "birth 0.5148514851485149<br>death 0.6039603960396039<br>homology dimension 1<br>row of dataframe 173",
          "birth 0.5148514851485149<br>death 0.6039603960396039<br>homology dimension 1<br>row of dataframe 173",
          "birth 0.5148514851485149<br>death 0.6633663366336634<br>homology dimension 1<br>row of dataframe 170",
          "birth 0.5148514851485149<br>death 0.6633663366336634<br>homology dimension 1<br>row of dataframe 170",
          "birth 0.5148514851485149<br>death 0.6633663366336634<br>homology dimension 1<br>row of dataframe 170",
          "birth 0.5247524752475248<br>death 0.5346534653465347<br>homology dimension 1<br>row of dataframe 165",
          "birth 0.5247524752475248<br>death 0.5346534653465347<br>homology dimension 1<br>row of dataframe 165",
          "birth 0.5247524752475248<br>death 0.5346534653465347<br>homology dimension 1<br>row of dataframe 165",
          "birth 0.5247524752475248<br>death 0.5643564356435643<br>homology dimension 1<br>row of dataframe 167",
          "birth 0.5247524752475248<br>death 0.5643564356435643<br>homology dimension 1<br>row of dataframe 167",
          "birth 0.5247524752475248<br>death 0.5643564356435643<br>homology dimension 1<br>row of dataframe 167",
          "birth 0.5247524752475248<br>death 0.6336633663366337<br>homology dimension 1<br>row of dataframe 164",
          "birth 0.5247524752475248<br>death 0.6336633663366337<br>homology dimension 1<br>row of dataframe 164",
          "birth 0.5247524752475248<br>death 0.6336633663366337<br>homology dimension 1<br>row of dataframe 164",
          "birth 0.5247524752475248<br>death 0.6336633663366337<br>homology dimension 1<br>row of dataframe 166",
          "birth 0.5247524752475248<br>death 0.6336633663366337<br>homology dimension 1<br>row of dataframe 166",
          "birth 0.5247524752475248<br>death 0.6336633663366337<br>homology dimension 1<br>row of dataframe 166",
          "birth 0.5247524752475248<br>death 0.6831683168316832<br>homology dimension 1<br>row of dataframe 168",
          "birth 0.5247524752475248<br>death 0.6831683168316832<br>homology dimension 1<br>row of dataframe 168",
          "birth 0.5247524752475248<br>death 0.6831683168316832<br>homology dimension 1<br>row of dataframe 168",
          "birth 0.5346534653465347<br>death 0.5643564356435643<br>homology dimension 1<br>row of dataframe 162",
          "birth 0.5346534653465347<br>death 0.5643564356435643<br>homology dimension 1<br>row of dataframe 162",
          "birth 0.5346534653465347<br>death 0.5643564356435643<br>homology dimension 1<br>row of dataframe 162",
          "birth 0.5346534653465347<br>death 0.6237623762376238<br>homology dimension 1<br>row of dataframe 163",
          "birth 0.5346534653465347<br>death 0.6237623762376238<br>homology dimension 1<br>row of dataframe 163",
          "birth 0.5346534653465347<br>death 0.6237623762376238<br>homology dimension 1<br>row of dataframe 163",
          "birth 0.5346534653465347<br>death 0.6435643564356436<br>homology dimension 1<br>row of dataframe 161",
          "birth 0.5346534653465347<br>death 0.6435643564356436<br>homology dimension 1<br>row of dataframe 161",
          "birth 0.5346534653465347<br>death 0.6435643564356436<br>homology dimension 1<br>row of dataframe 161",
          "birth 0.5445544554455446<br>death 0.5544554455445545<br>homology dimension 1<br>row of dataframe 158",
          "birth 0.5445544554455446<br>death 0.5544554455445545<br>homology dimension 1<br>row of dataframe 158",
          "birth 0.5445544554455446<br>death 0.5544554455445545<br>homology dimension 1<br>row of dataframe 158",
          "birth 0.5445544554455446<br>death 0.5841584158415841<br>homology dimension 1<br>row of dataframe 160",
          "birth 0.5445544554455446<br>death 0.5841584158415841<br>homology dimension 1<br>row of dataframe 160",
          "birth 0.5445544554455446<br>death 0.5841584158415841<br>homology dimension 1<br>row of dataframe 160",
          "birth 0.5445544554455446<br>death 0.6039603960396039<br>homology dimension 1<br>row of dataframe 159",
          "birth 0.5445544554455446<br>death 0.6039603960396039<br>homology dimension 1<br>row of dataframe 159",
          "birth 0.5445544554455446<br>death 0.6039603960396039<br>homology dimension 1<br>row of dataframe 159",
          "birth 0.5544554455445545<br>death 0.5841584158415841<br>homology dimension 1<br>row of dataframe 156",
          "birth 0.5544554455445545<br>death 0.5841584158415841<br>homology dimension 1<br>row of dataframe 156",
          "birth 0.5544554455445545<br>death 0.5841584158415841<br>homology dimension 1<br>row of dataframe 156",
          "birth 0.5544554455445545<br>death 0.594059405940594<br>homology dimension 1<br>row of dataframe 154",
          "birth 0.5544554455445545<br>death 0.594059405940594<br>homology dimension 1<br>row of dataframe 154",
          "birth 0.5544554455445545<br>death 0.594059405940594<br>homology dimension 1<br>row of dataframe 154",
          "birth 0.5544554455445545<br>death 0.693069306930693<br>homology dimension 1<br>row of dataframe 153",
          "birth 0.5544554455445545<br>death 0.693069306930693<br>homology dimension 1<br>row of dataframe 153",
          "birth 0.5544554455445545<br>death 0.693069306930693<br>homology dimension 1<br>row of dataframe 153",
          "birth 0.5544554455445545<br>death 0.7326732673267327<br>homology dimension 1<br>row of dataframe 155",
          "birth 0.5544554455445545<br>death 0.7326732673267327<br>homology dimension 1<br>row of dataframe 155",
          "birth 0.5544554455445545<br>death 0.7326732673267327<br>homology dimension 1<br>row of dataframe 155",
          "birth 0.5544554455445545<br>death 0.7326732673267327<br>homology dimension 1<br>row of dataframe 157",
          "birth 0.5544554455445545<br>death 0.7326732673267327<br>homology dimension 1<br>row of dataframe 157",
          "birth 0.5544554455445545<br>death 0.7326732673267327<br>homology dimension 1<br>row of dataframe 157",
          "birth 0.5643564356435643<br>death 0.6039603960396039<br>homology dimension 1<br>row of dataframe 151",
          "birth 0.5643564356435643<br>death 0.6039603960396039<br>homology dimension 1<br>row of dataframe 151",
          "birth 0.5643564356435643<br>death 0.6039603960396039<br>homology dimension 1<br>row of dataframe 151",
          "birth 0.5643564356435643<br>death 0.6237623762376238<br>homology dimension 1<br>row of dataframe 148",
          "birth 0.5643564356435643<br>death 0.6237623762376238<br>homology dimension 1<br>row of dataframe 148",
          "birth 0.5643564356435643<br>death 0.6237623762376238<br>homology dimension 1<br>row of dataframe 148",
          "birth 0.5643564356435643<br>death 0.6435643564356436<br>homology dimension 1<br>row of dataframe 149",
          "birth 0.5643564356435643<br>death 0.6435643564356436<br>homology dimension 1<br>row of dataframe 149",
          "birth 0.5643564356435643<br>death 0.6435643564356436<br>homology dimension 1<br>row of dataframe 149",
          "birth 0.5643564356435643<br>death 0.7029702970297029<br>homology dimension 1<br>row of dataframe 152",
          "birth 0.5643564356435643<br>death 0.7029702970297029<br>homology dimension 1<br>row of dataframe 152",
          "birth 0.5643564356435643<br>death 0.7029702970297029<br>homology dimension 1<br>row of dataframe 152",
          "birth 0.5643564356435643<br>death 0.8118811881188119<br>homology dimension 1<br>row of dataframe 150",
          "birth 0.5643564356435643<br>death 0.8118811881188119<br>homology dimension 1<br>row of dataframe 150",
          "birth 0.5643564356435643<br>death 0.8118811881188119<br>homology dimension 1<br>row of dataframe 150",
          "birth 0.5742574257425742<br>death 0.5841584158415841<br>homology dimension 1<br>row of dataframe 141",
          "birth 0.5742574257425742<br>death 0.5841584158415841<br>homology dimension 1<br>row of dataframe 141",
          "birth 0.5742574257425742<br>death 0.5841584158415841<br>homology dimension 1<br>row of dataframe 141",
          "birth 0.5742574257425742<br>death 0.594059405940594<br>homology dimension 1<br>row of dataframe 143",
          "birth 0.5742574257425742<br>death 0.594059405940594<br>homology dimension 1<br>row of dataframe 143",
          "birth 0.5742574257425742<br>death 0.594059405940594<br>homology dimension 1<br>row of dataframe 143",
          "birth 0.5742574257425742<br>death 0.6336633663366337<br>homology dimension 1<br>row of dataframe 144",
          "birth 0.5742574257425742<br>death 0.6336633663366337<br>homology dimension 1<br>row of dataframe 144",
          "birth 0.5742574257425742<br>death 0.6336633663366337<br>homology dimension 1<br>row of dataframe 144",
          "birth 0.5742574257425742<br>death 0.6534653465346535<br>homology dimension 1<br>row of dataframe 142",
          "birth 0.5742574257425742<br>death 0.6534653465346535<br>homology dimension 1<br>row of dataframe 142",
          "birth 0.5742574257425742<br>death 0.6534653465346535<br>homology dimension 1<br>row of dataframe 142",
          "birth 0.5742574257425742<br>death 0.6732673267326733<br>homology dimension 1<br>row of dataframe 146",
          "birth 0.5742574257425742<br>death 0.6732673267326733<br>homology dimension 1<br>row of dataframe 146",
          "birth 0.5742574257425742<br>death 0.6732673267326733<br>homology dimension 1<br>row of dataframe 146",
          "birth 0.5742574257425742<br>death 0.6732673267326733<br>homology dimension 1<br>row of dataframe 147",
          "birth 0.5742574257425742<br>death 0.6732673267326733<br>homology dimension 1<br>row of dataframe 147",
          "birth 0.5742574257425742<br>death 0.6732673267326733<br>homology dimension 1<br>row of dataframe 147",
          "birth 0.5742574257425742<br>death 0.7821782178217822<br>homology dimension 1<br>row of dataframe 145",
          "birth 0.5742574257425742<br>death 0.7821782178217822<br>homology dimension 1<br>row of dataframe 145",
          "birth 0.5742574257425742<br>death 0.7821782178217822<br>homology dimension 1<br>row of dataframe 145",
          "birth 0.5841584158415841<br>death 0.594059405940594<br>homology dimension 1<br>row of dataframe 139",
          "birth 0.5841584158415841<br>death 0.594059405940594<br>homology dimension 1<br>row of dataframe 139",
          "birth 0.5841584158415841<br>death 0.594059405940594<br>homology dimension 1<br>row of dataframe 139",
          "birth 0.5841584158415841<br>death 0.6039603960396039<br>homology dimension 1<br>row of dataframe 135",
          "birth 0.5841584158415841<br>death 0.6039603960396039<br>homology dimension 1<br>row of dataframe 135",
          "birth 0.5841584158415841<br>death 0.6039603960396039<br>homology dimension 1<br>row of dataframe 135",
          "birth 0.5841584158415841<br>death 0.6138613861386139<br>homology dimension 1<br>row of dataframe 134",
          "birth 0.5841584158415841<br>death 0.6138613861386139<br>homology dimension 1<br>row of dataframe 134",
          "birth 0.5841584158415841<br>death 0.6138613861386139<br>homology dimension 1<br>row of dataframe 134",
          "birth 0.5841584158415841<br>death 0.6138613861386139<br>homology dimension 1<br>row of dataframe 136",
          "birth 0.5841584158415841<br>death 0.6138613861386139<br>homology dimension 1<br>row of dataframe 136",
          "birth 0.5841584158415841<br>death 0.6138613861386139<br>homology dimension 1<br>row of dataframe 136",
          "birth 0.5841584158415841<br>death 0.6336633663366337<br>homology dimension 1<br>row of dataframe 137",
          "birth 0.5841584158415841<br>death 0.6336633663366337<br>homology dimension 1<br>row of dataframe 137",
          "birth 0.5841584158415841<br>death 0.6336633663366337<br>homology dimension 1<br>row of dataframe 137",
          "birth 0.5841584158415841<br>death 0.6633663366336634<br>homology dimension 1<br>row of dataframe 138",
          "birth 0.5841584158415841<br>death 0.6633663366336634<br>homology dimension 1<br>row of dataframe 138",
          "birth 0.5841584158415841<br>death 0.6633663366336634<br>homology dimension 1<br>row of dataframe 138",
          "birth 0.5841584158415841<br>death 0.6831683168316832<br>homology dimension 1<br>row of dataframe 133",
          "birth 0.5841584158415841<br>death 0.6831683168316832<br>homology dimension 1<br>row of dataframe 133",
          "birth 0.5841584158415841<br>death 0.6831683168316832<br>homology dimension 1<br>row of dataframe 133",
          "birth 0.5841584158415841<br>death 0.8316831683168316<br>homology dimension 1<br>row of dataframe 140",
          "birth 0.5841584158415841<br>death 0.8316831683168316<br>homology dimension 1<br>row of dataframe 140",
          "birth 0.5841584158415841<br>death 0.8316831683168316<br>homology dimension 1<br>row of dataframe 140",
          "birth 0.594059405940594<br>death 0.6237623762376238<br>homology dimension 1<br>row of dataframe 130",
          "birth 0.594059405940594<br>death 0.6237623762376238<br>homology dimension 1<br>row of dataframe 130",
          "birth 0.594059405940594<br>death 0.6237623762376238<br>homology dimension 1<br>row of dataframe 130",
          "birth 0.594059405940594<br>death 0.6633663366336634<br>homology dimension 1<br>row of dataframe 132",
          "birth 0.594059405940594<br>death 0.6633663366336634<br>homology dimension 1<br>row of dataframe 132",
          "birth 0.594059405940594<br>death 0.6633663366336634<br>homology dimension 1<br>row of dataframe 132",
          "birth 0.594059405940594<br>death 0.6732673267326733<br>homology dimension 1<br>row of dataframe 131",
          "birth 0.594059405940594<br>death 0.6732673267326733<br>homology dimension 1<br>row of dataframe 131",
          "birth 0.594059405940594<br>death 0.6732673267326733<br>homology dimension 1<br>row of dataframe 131",
          "birth 0.594059405940594<br>death 0.7227722772277227<br>homology dimension 1<br>row of dataframe 129",
          "birth 0.594059405940594<br>death 0.7227722772277227<br>homology dimension 1<br>row of dataframe 129",
          "birth 0.594059405940594<br>death 0.7227722772277227<br>homology dimension 1<br>row of dataframe 129",
          "birth 0.6039603960396039<br>death 0.6138613861386139<br>homology dimension 1<br>row of dataframe 127",
          "birth 0.6039603960396039<br>death 0.6138613861386139<br>homology dimension 1<br>row of dataframe 127",
          "birth 0.6039603960396039<br>death 0.6138613861386139<br>homology dimension 1<br>row of dataframe 127",
          "birth 0.6039603960396039<br>death 0.6237623762376238<br>homology dimension 1<br>row of dataframe 125",
          "birth 0.6039603960396039<br>death 0.6237623762376238<br>homology dimension 1<br>row of dataframe 125",
          "birth 0.6039603960396039<br>death 0.6237623762376238<br>homology dimension 1<br>row of dataframe 125",
          "birth 0.6039603960396039<br>death 0.6237623762376238<br>homology dimension 1<br>row of dataframe 126",
          "birth 0.6039603960396039<br>death 0.6237623762376238<br>homology dimension 1<br>row of dataframe 126",
          "birth 0.6039603960396039<br>death 0.6237623762376238<br>homology dimension 1<br>row of dataframe 126",
          "birth 0.6039603960396039<br>death 0.6336633663366337<br>homology dimension 1<br>row of dataframe 124",
          "birth 0.6039603960396039<br>death 0.6336633663366337<br>homology dimension 1<br>row of dataframe 124",
          "birth 0.6039603960396039<br>death 0.6336633663366337<br>homology dimension 1<br>row of dataframe 124",
          "birth 0.6039603960396039<br>death 0.6336633663366337<br>homology dimension 1<br>row of dataframe 128",
          "birth 0.6039603960396039<br>death 0.6336633663366337<br>homology dimension 1<br>row of dataframe 128",
          "birth 0.6039603960396039<br>death 0.6336633663366337<br>homology dimension 1<br>row of dataframe 128",
          "birth 0.6138613861386139<br>death 0.6435643564356436<br>homology dimension 1<br>row of dataframe 122",
          "birth 0.6138613861386139<br>death 0.6435643564356436<br>homology dimension 1<br>row of dataframe 122",
          "birth 0.6138613861386139<br>death 0.6435643564356436<br>homology dimension 1<br>row of dataframe 122",
          "birth 0.6138613861386139<br>death 0.6435643564356436<br>homology dimension 1<br>row of dataframe 123",
          "birth 0.6138613861386139<br>death 0.6435643564356436<br>homology dimension 1<br>row of dataframe 123",
          "birth 0.6138613861386139<br>death 0.6435643564356436<br>homology dimension 1<br>row of dataframe 123",
          "birth 0.6138613861386139<br>death 0.7524752475247525<br>homology dimension 1<br>row of dataframe 121",
          "birth 0.6138613861386139<br>death 0.7524752475247525<br>homology dimension 1<br>row of dataframe 121",
          "birth 0.6138613861386139<br>death 0.7524752475247525<br>homology dimension 1<br>row of dataframe 121",
          "birth 0.6237623762376238<br>death 0.6435643564356436<br>homology dimension 1<br>row of dataframe 118",
          "birth 0.6237623762376238<br>death 0.6435643564356436<br>homology dimension 1<br>row of dataframe 118",
          "birth 0.6237623762376238<br>death 0.6435643564356436<br>homology dimension 1<br>row of dataframe 118",
          "birth 0.6237623762376238<br>death 0.6534653465346535<br>homology dimension 1<br>row of dataframe 117",
          "birth 0.6237623762376238<br>death 0.6534653465346535<br>homology dimension 1<br>row of dataframe 117",
          "birth 0.6237623762376238<br>death 0.6534653465346535<br>homology dimension 1<br>row of dataframe 117",
          "birth 0.6237623762376238<br>death 0.6732673267326733<br>homology dimension 1<br>row of dataframe 120",
          "birth 0.6237623762376238<br>death 0.6732673267326733<br>homology dimension 1<br>row of dataframe 120",
          "birth 0.6237623762376238<br>death 0.6732673267326733<br>homology dimension 1<br>row of dataframe 120",
          "birth 0.6237623762376238<br>death 0.693069306930693<br>homology dimension 1<br>row of dataframe 119",
          "birth 0.6237623762376238<br>death 0.693069306930693<br>homology dimension 1<br>row of dataframe 119",
          "birth 0.6237623762376238<br>death 0.693069306930693<br>homology dimension 1<br>row of dataframe 119",
          "birth 0.6336633663366337<br>death 0.6732673267326733<br>homology dimension 1<br>row of dataframe 116",
          "birth 0.6336633663366337<br>death 0.6732673267326733<br>homology dimension 1<br>row of dataframe 116",
          "birth 0.6336633663366337<br>death 0.6732673267326733<br>homology dimension 1<br>row of dataframe 116",
          "birth 0.6336633663366337<br>death 0.7128712871287128<br>homology dimension 1<br>row of dataframe 115",
          "birth 0.6336633663366337<br>death 0.7128712871287128<br>homology dimension 1<br>row of dataframe 115",
          "birth 0.6336633663366337<br>death 0.7128712871287128<br>homology dimension 1<br>row of dataframe 115",
          "birth 0.6336633663366337<br>death 0.801980198019802<br>homology dimension 1<br>row of dataframe 114",
          "birth 0.6336633663366337<br>death 0.801980198019802<br>homology dimension 1<br>row of dataframe 114",
          "birth 0.6336633663366337<br>death 0.801980198019802<br>homology dimension 1<br>row of dataframe 114",
          "birth 0.6435643564356436<br>death 0.7029702970297029<br>homology dimension 1<br>row of dataframe 111",
          "birth 0.6435643564356436<br>death 0.7029702970297029<br>homology dimension 1<br>row of dataframe 111",
          "birth 0.6435643564356436<br>death 0.7029702970297029<br>homology dimension 1<br>row of dataframe 111",
          "birth 0.6435643564356436<br>death 0.7128712871287128<br>homology dimension 1<br>row of dataframe 112",
          "birth 0.6435643564356436<br>death 0.7128712871287128<br>homology dimension 1<br>row of dataframe 112",
          "birth 0.6435643564356436<br>death 0.7128712871287128<br>homology dimension 1<br>row of dataframe 112",
          "birth 0.6435643564356436<br>death 0.7227722772277227<br>homology dimension 1<br>row of dataframe 113",
          "birth 0.6435643564356436<br>death 0.7227722772277227<br>homology dimension 1<br>row of dataframe 113",
          "birth 0.6435643564356436<br>death 0.7227722772277227<br>homology dimension 1<br>row of dataframe 113",
          "birth 0.6534653465346535<br>death 0.693069306930693<br>homology dimension 1<br>row of dataframe 110",
          "birth 0.6534653465346535<br>death 0.693069306930693<br>homology dimension 1<br>row of dataframe 110",
          "birth 0.6534653465346535<br>death 0.693069306930693<br>homology dimension 1<br>row of dataframe 110",
          "birth 0.6534653465346535<br>death 0.8316831683168316<br>homology dimension 1<br>row of dataframe 109",
          "birth 0.6534653465346535<br>death 0.8316831683168316<br>homology dimension 1<br>row of dataframe 109",
          "birth 0.6534653465346535<br>death 0.8316831683168316<br>homology dimension 1<br>row of dataframe 109",
          "birth 0.6633663366336634<br>death 0.7227722772277227<br>homology dimension 1<br>row of dataframe 108",
          "birth 0.6633663366336634<br>death 0.7227722772277227<br>homology dimension 1<br>row of dataframe 108",
          "birth 0.6633663366336634<br>death 0.7227722772277227<br>homology dimension 1<br>row of dataframe 108",
          "birth 0.6732673267326733<br>death 0.6831683168316832<br>homology dimension 1<br>row of dataframe 106",
          "birth 0.6732673267326733<br>death 0.6831683168316832<br>homology dimension 1<br>row of dataframe 106",
          "birth 0.6732673267326733<br>death 0.6831683168316832<br>homology dimension 1<br>row of dataframe 106",
          "birth 0.6732673267326733<br>death 0.7227722772277227<br>homology dimension 1<br>row of dataframe 107",
          "birth 0.6732673267326733<br>death 0.7227722772277227<br>homology dimension 1<br>row of dataframe 107",
          "birth 0.6732673267326733<br>death 0.7227722772277227<br>homology dimension 1<br>row of dataframe 107",
          "birth 0.6732673267326733<br>death 0.7425742574257426<br>homology dimension 1<br>row of dataframe 105",
          "birth 0.6732673267326733<br>death 0.7425742574257426<br>homology dimension 1<br>row of dataframe 105",
          "birth 0.6732673267326733<br>death 0.7425742574257426<br>homology dimension 1<br>row of dataframe 105",
          "birth 0.6831683168316832<br>death 0.7029702970297029<br>homology dimension 1<br>row of dataframe 102",
          "birth 0.6831683168316832<br>death 0.7029702970297029<br>homology dimension 1<br>row of dataframe 102",
          "birth 0.6831683168316832<br>death 0.7029702970297029<br>homology dimension 1<br>row of dataframe 102",
          "birth 0.6831683168316832<br>death 0.7128712871287128<br>homology dimension 1<br>row of dataframe 104",
          "birth 0.6831683168316832<br>death 0.7128712871287128<br>homology dimension 1<br>row of dataframe 104",
          "birth 0.6831683168316832<br>death 0.7128712871287128<br>homology dimension 1<br>row of dataframe 104",
          "birth 0.6831683168316832<br>death 0.8712871287128713<br>homology dimension 1<br>row of dataframe 103",
          "birth 0.6831683168316832<br>death 0.8712871287128713<br>homology dimension 1<br>row of dataframe 103",
          "birth 0.6831683168316832<br>death 0.8712871287128713<br>homology dimension 1<br>row of dataframe 103",
          "birth 0.693069306930693<br>death 0.7128712871287128<br>homology dimension 1<br>row of dataframe 101",
          "birth 0.693069306930693<br>death 0.7128712871287128<br>homology dimension 1<br>row of dataframe 101",
          "birth 0.693069306930693<br>death 0.7128712871287128<br>homology dimension 1<br>row of dataframe 101",
          "birth 0.7029702970297029<br>death 0.7128712871287128<br>homology dimension 1<br>row of dataframe 100",
          "birth 0.7029702970297029<br>death 0.7128712871287128<br>homology dimension 1<br>row of dataframe 100",
          "birth 0.7029702970297029<br>death 0.7128712871287128<br>homology dimension 1<br>row of dataframe 100",
          "birth 0.7128712871287128<br>death 0.7326732673267327<br>homology dimension 1<br>row of dataframe 99",
          "birth 0.7128712871287128<br>death 0.7326732673267327<br>homology dimension 1<br>row of dataframe 99",
          "birth 0.7128712871287128<br>death 0.7326732673267327<br>homology dimension 1<br>row of dataframe 99",
          "birth 0.7227722772277227<br>death 0.7524752475247525<br>homology dimension 1<br>row of dataframe 98",
          "birth 0.7227722772277227<br>death 0.7524752475247525<br>homology dimension 1<br>row of dataframe 98",
          "birth 0.7227722772277227<br>death 0.7524752475247525<br>homology dimension 1<br>row of dataframe 98",
          "birth 0.7227722772277227<br>death 0.7920792079207921<br>homology dimension 1<br>row of dataframe 97",
          "birth 0.7227722772277227<br>death 0.7920792079207921<br>homology dimension 1<br>row of dataframe 97",
          "birth 0.7227722772277227<br>death 0.7920792079207921<br>homology dimension 1<br>row of dataframe 97",
          "birth 0.7326732673267327<br>death 0.7425742574257426<br>homology dimension 1<br>row of dataframe 96",
          "birth 0.7326732673267327<br>death 0.7425742574257426<br>homology dimension 1<br>row of dataframe 96",
          "birth 0.7326732673267327<br>death 0.7425742574257426<br>homology dimension 1<br>row of dataframe 96",
          "birth 0.7326732673267327<br>death 0.7821782178217822<br>homology dimension 1<br>row of dataframe 94",
          "birth 0.7326732673267327<br>death 0.7821782178217822<br>homology dimension 1<br>row of dataframe 94",
          "birth 0.7326732673267327<br>death 0.7821782178217822<br>homology dimension 1<br>row of dataframe 94",
          "birth 0.7326732673267327<br>death 0.7920792079207921<br>homology dimension 1<br>row of dataframe 92",
          "birth 0.7326732673267327<br>death 0.7920792079207921<br>homology dimension 1<br>row of dataframe 92",
          "birth 0.7326732673267327<br>death 0.7920792079207921<br>homology dimension 1<br>row of dataframe 92",
          "birth 0.7326732673267327<br>death 0.801980198019802<br>homology dimension 1<br>row of dataframe 95",
          "birth 0.7326732673267327<br>death 0.801980198019802<br>homology dimension 1<br>row of dataframe 95",
          "birth 0.7326732673267327<br>death 0.801980198019802<br>homology dimension 1<br>row of dataframe 95",
          "birth 0.7326732673267327<br>death 0.8316831683168316<br>homology dimension 1<br>row of dataframe 93",
          "birth 0.7326732673267327<br>death 0.8316831683168316<br>homology dimension 1<br>row of dataframe 93",
          "birth 0.7326732673267327<br>death 0.8316831683168316<br>homology dimension 1<br>row of dataframe 93",
          "birth 0.7425742574257426<br>death 0.7623762376237624<br>homology dimension 1<br>row of dataframe 91",
          "birth 0.7425742574257426<br>death 0.7623762376237624<br>homology dimension 1<br>row of dataframe 91",
          "birth 0.7425742574257426<br>death 0.7623762376237624<br>homology dimension 1<br>row of dataframe 91",
          "birth 0.7425742574257426<br>death 0.7722772277227723<br>homology dimension 1<br>row of dataframe 89",
          "birth 0.7425742574257426<br>death 0.7722772277227723<br>homology dimension 1<br>row of dataframe 89",
          "birth 0.7425742574257426<br>death 0.7722772277227723<br>homology dimension 1<br>row of dataframe 89",
          "birth 0.7425742574257426<br>death 0.801980198019802<br>homology dimension 1<br>row of dataframe 90",
          "birth 0.7425742574257426<br>death 0.801980198019802<br>homology dimension 1<br>row of dataframe 90",
          "birth 0.7425742574257426<br>death 0.801980198019802<br>homology dimension 1<br>row of dataframe 90",
          "birth 0.7623762376237624<br>death 0.7722772277227723<br>homology dimension 1<br>row of dataframe 87",
          "birth 0.7623762376237624<br>death 0.7722772277227723<br>homology dimension 1<br>row of dataframe 87",
          "birth 0.7623762376237624<br>death 0.7722772277227723<br>homology dimension 1<br>row of dataframe 87",
          "birth 0.7623762376237624<br>death 0.8118811881188119<br>homology dimension 1<br>row of dataframe 88",
          "birth 0.7623762376237624<br>death 0.8118811881188119<br>homology dimension 1<br>row of dataframe 88",
          "birth 0.7623762376237624<br>death 0.8118811881188119<br>homology dimension 1<br>row of dataframe 88",
          "birth 0.7821782178217822<br>death 0.801980198019802<br>homology dimension 1<br>row of dataframe 86",
          "birth 0.7821782178217822<br>death 0.801980198019802<br>homology dimension 1<br>row of dataframe 86",
          "birth 0.7821782178217822<br>death 0.801980198019802<br>homology dimension 1<br>row of dataframe 86",
          "birth 0.7821782178217822<br>death 0.8217821782178217<br>homology dimension 1<br>row of dataframe 85",
          "birth 0.7821782178217822<br>death 0.8217821782178217<br>homology dimension 1<br>row of dataframe 85",
          "birth 0.7821782178217822<br>death 0.8217821782178217<br>homology dimension 1<br>row of dataframe 85",
          "birth 0.7920792079207921<br>death 0.801980198019802<br>homology dimension 1<br>row of dataframe 84",
          "birth 0.7920792079207921<br>death 0.801980198019802<br>homology dimension 1<br>row of dataframe 84",
          "birth 0.7920792079207921<br>death 0.801980198019802<br>homology dimension 1<br>row of dataframe 84",
          "birth 0.801980198019802<br>death 0.8118811881188119<br>homology dimension 1<br>row of dataframe 83",
          "birth 0.801980198019802<br>death 0.8118811881188119<br>homology dimension 1<br>row of dataframe 83",
          "birth 0.801980198019802<br>death 0.8118811881188119<br>homology dimension 1<br>row of dataframe 83",
          "birth 0.8118811881188119<br>death 0.8217821782178217<br>homology dimension 1<br>row of dataframe 82",
          "birth 0.8118811881188119<br>death 0.8217821782178217<br>homology dimension 1<br>row of dataframe 82",
          "birth 0.8118811881188119<br>death 0.8217821782178217<br>homology dimension 1<br>row of dataframe 82",
          "birth 0.8118811881188119<br>death 0.8415841584158416<br>homology dimension 1<br>row of dataframe 81",
          "birth 0.8118811881188119<br>death 0.8415841584158416<br>homology dimension 1<br>row of dataframe 81",
          "birth 0.8118811881188119<br>death 0.8415841584158416<br>homology dimension 1<br>row of dataframe 81",
          "birth 0.8316831683168316<br>death 0.8415841584158416<br>homology dimension 1<br>row of dataframe 80",
          "birth 0.8316831683168316<br>death 0.8415841584158416<br>homology dimension 1<br>row of dataframe 80",
          "birth 0.8316831683168316<br>death 0.8415841584158416<br>homology dimension 1<br>row of dataframe 80",
          "birth 0.8415841584158416<br>death 0.8514851485148515<br>homology dimension 1<br>row of dataframe 79",
          "birth 0.8415841584158416<br>death 0.8514851485148515<br>homology dimension 1<br>row of dataframe 79",
          "birth 0.8415841584158416<br>death 0.8514851485148515<br>homology dimension 1<br>row of dataframe 79",
          "birth 0.8415841584158416<br>death 0.9603960396039604<br>homology dimension 1<br>row of dataframe 78",
          "birth 0.8415841584158416<br>death 0.9603960396039604<br>homology dimension 1<br>row of dataframe 78",
          "birth 0.8415841584158416<br>death 0.9603960396039604<br>homology dimension 1<br>row of dataframe 78",
          "birth 0.8514851485148515<br>death 0.8613861386138614<br>homology dimension 1<br>row of dataframe 76",
          "birth 0.8514851485148515<br>death 0.8613861386138614<br>homology dimension 1<br>row of dataframe 76",
          "birth 0.8514851485148515<br>death 0.8613861386138614<br>homology dimension 1<br>row of dataframe 76",
          "birth 0.8514851485148515<br>death 0.8712871287128713<br>homology dimension 1<br>row of dataframe 77",
          "birth 0.8514851485148515<br>death 0.8712871287128713<br>homology dimension 1<br>row of dataframe 77",
          "birth 0.8514851485148515<br>death 0.8712871287128713<br>homology dimension 1<br>row of dataframe 77",
          "birth 0.8712871287128713<br>death 0.8910891089108911<br>homology dimension 1<br>row of dataframe 75",
          "birth 0.8712871287128713<br>death 0.8910891089108911<br>homology dimension 1<br>row of dataframe 75",
          "birth 0.8712871287128713<br>death 0.8910891089108911<br>homology dimension 1<br>row of dataframe 75",
          "birth 0.8811881188118812<br>death 0.9603960396039604<br>homology dimension 1<br>row of dataframe 74",
          "birth 0.8811881188118812<br>death 0.9603960396039604<br>homology dimension 1<br>row of dataframe 74",
          "birth 0.8811881188118812<br>death 0.9603960396039604<br>homology dimension 1<br>row of dataframe 74",
          "birth 0.9108910891089109<br>death 0.9405940594059405<br>homology dimension 1<br>row of dataframe 73",
          "birth 0.9108910891089109<br>death 0.9405940594059405<br>homology dimension 1<br>row of dataframe 73",
          "birth 0.9108910891089109<br>death 0.9405940594059405<br>homology dimension 1<br>row of dataframe 73",
          "birth 0.9306930693069307<br>death 0.9405940594059405<br>homology dimension 1<br>row of dataframe 72",
          "birth 0.9306930693069307<br>death 0.9405940594059405<br>homology dimension 1<br>row of dataframe 72",
          "birth 0.9306930693069307<br>death 0.9405940594059405<br>homology dimension 1<br>row of dataframe 72",
          "birth 0.9306930693069307<br>death inf<br>homology dimension 1<br>row of dataframe 71",
          "birth 0.9306930693069307<br>death inf<br>homology dimension 1<br>row of dataframe 71",
          "birth 0.9306930693069307<br>death inf<br>homology dimension 1<br>row of dataframe 71",
          "birth 0.9405940594059405<br>death 0.9603960396039604<br>homology dimension 1<br>row of dataframe 70",
          "birth 0.9405940594059405<br>death 0.9603960396039604<br>homology dimension 1<br>row of dataframe 70",
          "birth 0.9405940594059405<br>death 0.9603960396039604<br>homology dimension 1<br>row of dataframe 70",
          "birth 0.9702970297029703<br>death 0.9801980198019802<br>homology dimension 1<br>row of dataframe 69",
          "birth 0.9702970297029703<br>death 0.9801980198019802<br>homology dimension 1<br>row of dataframe 69",
          "birth 0.9702970297029703<br>death 0.9801980198019802<br>homology dimension 1<br>row of dataframe 69",
          "birth 0.9801980198019802<br>death 0.9900990099009901<br>homology dimension 1<br>row of dataframe 68",
          "birth 0.9801980198019802<br>death 0.9900990099009901<br>homology dimension 1<br>row of dataframe 68",
          "birth 0.9801980198019802<br>death 0.9900990099009901<br>homology dimension 1<br>row of dataframe 68"
         ],
         "line": {
          "color": "#EF553B"
         },
         "mode": "lines",
         "name": "Dim 1",
         "type": "scatter",
         "x": [
          0.4158415841584158,
          0.42574257425742573,
          null,
          0.43564356435643564,
          0.45544554455445546,
          null,
          0.4752475247524752,
          0.49504950495049505,
          null,
          0.4752475247524752,
          0.49504950495049505,
          null,
          0.4752475247524752,
          0.504950495049505,
          null,
          0.4752475247524752,
          0.6633663366336634,
          null,
          0.48514851485148514,
          0.49504950495049505,
          null,
          0.48514851485148514,
          0.5247524752475248,
          null,
          0.49504950495049505,
          0.504950495049505,
          null,
          0.49504950495049505,
          0.5247524752475248,
          null,
          0.49504950495049505,
          0.6138613861386139,
          null,
          0.49504950495049505,
          0.6633663366336634,
          null,
          0.504950495049505,
          0.5148514851485149,
          null,
          0.504950495049505,
          0.5742574257425742,
          null,
          0.5148514851485149,
          0.5247524752475248,
          null,
          0.5148514851485149,
          0.5247524752475248,
          null,
          0.5148514851485149,
          0.5247524752475248,
          null,
          0.5148514851485149,
          0.6039603960396039,
          null,
          0.5148514851485149,
          0.6633663366336634,
          null,
          0.5247524752475248,
          0.5346534653465347,
          null,
          0.5247524752475248,
          0.5643564356435643,
          null,
          0.5247524752475248,
          0.6336633663366337,
          null,
          0.5247524752475248,
          0.6336633663366337,
          null,
          0.5247524752475248,
          0.6831683168316832,
          null,
          0.5346534653465347,
          0.5643564356435643,
          null,
          0.5346534653465347,
          0.6237623762376238,
          null,
          0.5346534653465347,
          0.6435643564356436,
          null,
          0.5445544554455446,
          0.5544554455445545,
          null,
          0.5445544554455446,
          0.5841584158415841,
          null,
          0.5445544554455446,
          0.6039603960396039,
          null,
          0.5544554455445545,
          0.5841584158415841,
          null,
          0.5544554455445545,
          0.594059405940594,
          null,
          0.5544554455445545,
          0.693069306930693,
          null,
          0.5544554455445545,
          0.7326732673267327,
          null,
          0.5544554455445545,
          0.7326732673267327,
          null,
          0.5643564356435643,
          0.6039603960396039,
          null,
          0.5643564356435643,
          0.6237623762376238,
          null,
          0.5643564356435643,
          0.6435643564356436,
          null,
          0.5643564356435643,
          0.7029702970297029,
          null,
          0.5643564356435643,
          0.8118811881188119,
          null,
          0.5742574257425742,
          0.5841584158415841,
          null,
          0.5742574257425742,
          0.594059405940594,
          null,
          0.5742574257425742,
          0.6336633663366337,
          null,
          0.5742574257425742,
          0.6534653465346535,
          null,
          0.5742574257425742,
          0.6732673267326733,
          null,
          0.5742574257425742,
          0.6732673267326733,
          null,
          0.5742574257425742,
          0.7821782178217822,
          null,
          0.5841584158415841,
          0.594059405940594,
          null,
          0.5841584158415841,
          0.6039603960396039,
          null,
          0.5841584158415841,
          0.6138613861386139,
          null,
          0.5841584158415841,
          0.6138613861386139,
          null,
          0.5841584158415841,
          0.6336633663366337,
          null,
          0.5841584158415841,
          0.6633663366336634,
          null,
          0.5841584158415841,
          0.6831683168316832,
          null,
          0.5841584158415841,
          0.8316831683168316,
          null,
          0.594059405940594,
          0.6237623762376238,
          null,
          0.594059405940594,
          0.6633663366336634,
          null,
          0.594059405940594,
          0.6732673267326733,
          null,
          0.594059405940594,
          0.7227722772277227,
          null,
          0.6039603960396039,
          0.6138613861386139,
          null,
          0.6039603960396039,
          0.6237623762376238,
          null,
          0.6039603960396039,
          0.6237623762376238,
          null,
          0.6039603960396039,
          0.6336633663366337,
          null,
          0.6039603960396039,
          0.6336633663366337,
          null,
          0.6138613861386139,
          0.6435643564356436,
          null,
          0.6138613861386139,
          0.6435643564356436,
          null,
          0.6138613861386139,
          0.7524752475247525,
          null,
          0.6237623762376238,
          0.6435643564356436,
          null,
          0.6237623762376238,
          0.6534653465346535,
          null,
          0.6237623762376238,
          0.6732673267326733,
          null,
          0.6237623762376238,
          0.693069306930693,
          null,
          0.6336633663366337,
          0.6732673267326733,
          null,
          0.6336633663366337,
          0.7128712871287128,
          null,
          0.6336633663366337,
          0.801980198019802,
          null,
          0.6435643564356436,
          0.7029702970297029,
          null,
          0.6435643564356436,
          0.7128712871287128,
          null,
          0.6435643564356436,
          0.7227722772277227,
          null,
          0.6534653465346535,
          0.693069306930693,
          null,
          0.6534653465346535,
          0.8316831683168316,
          null,
          0.6633663366336634,
          0.7227722772277227,
          null,
          0.6732673267326733,
          0.6831683168316832,
          null,
          0.6732673267326733,
          0.7227722772277227,
          null,
          0.6732673267326733,
          0.7425742574257426,
          null,
          0.6831683168316832,
          0.7029702970297029,
          null,
          0.6831683168316832,
          0.7128712871287128,
          null,
          0.6831683168316832,
          0.8712871287128713,
          null,
          0.693069306930693,
          0.7128712871287128,
          null,
          0.7029702970297029,
          0.7128712871287128,
          null,
          0.7128712871287128,
          0.7326732673267327,
          null,
          0.7227722772277227,
          0.7524752475247525,
          null,
          0.7227722772277227,
          0.7920792079207921,
          null,
          0.7326732673267327,
          0.7425742574257426,
          null,
          0.7326732673267327,
          0.7821782178217822,
          null,
          0.7326732673267327,
          0.7920792079207921,
          null,
          0.7326732673267327,
          0.801980198019802,
          null,
          0.7326732673267327,
          0.8316831683168316,
          null,
          0.7425742574257426,
          0.7623762376237624,
          null,
          0.7425742574257426,
          0.7722772277227723,
          null,
          0.7425742574257426,
          0.801980198019802,
          null,
          0.7623762376237624,
          0.7722772277227723,
          null,
          0.7623762376237624,
          0.8118811881188119,
          null,
          0.7821782178217822,
          0.801980198019802,
          null,
          0.7821782178217822,
          0.8217821782178217,
          null,
          0.7920792079207921,
          0.801980198019802,
          null,
          0.801980198019802,
          0.8118811881188119,
          null,
          0.8118811881188119,
          0.8217821782178217,
          null,
          0.8118811881188119,
          0.8415841584158416,
          null,
          0.8316831683168316,
          0.8415841584158416,
          null,
          0.8415841584158416,
          0.8514851485148515,
          null,
          0.8415841584158416,
          0.9603960396039604,
          null,
          0.8514851485148515,
          0.8613861386138614,
          null,
          0.8514851485148515,
          0.8712871287128713,
          null,
          0.8712871287128713,
          0.8910891089108911,
          null,
          0.8811881188118812,
          0.9603960396039604,
          null,
          0.9108910891089109,
          0.9405940594059405,
          null,
          0.9306930693069307,
          0.9405940594059405,
          null,
          0.9306930693069307,
          1.0891089108910892,
          null,
          0.9405940594059405,
          0.9603960396039604,
          null,
          0.9702970297029703,
          0.9801980198019802,
          null,
          0.9801980198019802,
          0.9900990099009901,
          null
         ],
         "y": [
          68,
          68,
          null,
          69,
          69,
          null,
          70,
          70,
          null,
          71,
          71,
          null,
          72,
          72,
          null,
          73,
          73,
          null,
          74,
          74,
          null,
          75,
          75,
          null,
          76,
          76,
          null,
          77,
          77,
          null,
          78,
          78,
          null,
          79,
          79,
          null,
          80,
          80,
          null,
          81,
          81,
          null,
          82,
          82,
          null,
          83,
          83,
          null,
          84,
          84,
          null,
          85,
          85,
          null,
          86,
          86,
          null,
          87,
          87,
          null,
          88,
          88,
          null,
          89,
          89,
          null,
          90,
          90,
          null,
          91,
          91,
          null,
          92,
          92,
          null,
          93,
          93,
          null,
          94,
          94,
          null,
          95,
          95,
          null,
          96,
          96,
          null,
          97,
          97,
          null,
          98,
          98,
          null,
          99,
          99,
          null,
          100,
          100,
          null,
          101,
          101,
          null,
          102,
          102,
          null,
          103,
          103,
          null,
          104,
          104,
          null,
          105,
          105,
          null,
          106,
          106,
          null,
          107,
          107,
          null,
          108,
          108,
          null,
          109,
          109,
          null,
          110,
          110,
          null,
          111,
          111,
          null,
          112,
          112,
          null,
          113,
          113,
          null,
          114,
          114,
          null,
          115,
          115,
          null,
          116,
          116,
          null,
          117,
          117,
          null,
          118,
          118,
          null,
          119,
          119,
          null,
          120,
          120,
          null,
          121,
          121,
          null,
          122,
          122,
          null,
          123,
          123,
          null,
          124,
          124,
          null,
          125,
          125,
          null,
          126,
          126,
          null,
          127,
          127,
          null,
          128,
          128,
          null,
          129,
          129,
          null,
          130,
          130,
          null,
          131,
          131,
          null,
          132,
          132,
          null,
          133,
          133,
          null,
          134,
          134,
          null,
          135,
          135,
          null,
          136,
          136,
          null,
          137,
          137,
          null,
          138,
          138,
          null,
          139,
          139,
          null,
          140,
          140,
          null,
          141,
          141,
          null,
          142,
          142,
          null,
          143,
          143,
          null,
          144,
          144,
          null,
          145,
          145,
          null,
          146,
          146,
          null,
          147,
          147,
          null,
          148,
          148,
          null,
          149,
          149,
          null,
          150,
          150,
          null,
          151,
          151,
          null,
          152,
          152,
          null,
          153,
          153,
          null,
          154,
          154,
          null,
          155,
          155,
          null,
          156,
          156,
          null,
          157,
          157,
          null,
          158,
          158,
          null,
          159,
          159,
          null,
          160,
          160,
          null,
          161,
          161,
          null,
          162,
          162,
          null,
          163,
          163,
          null,
          164,
          164,
          null,
          165,
          165,
          null,
          166,
          166,
          null,
          167,
          167,
          null,
          168,
          168,
          null,
          169,
          169,
          null,
          170,
          170,
          null,
          171,
          171,
          null,
          172,
          172,
          null,
          173,
          173,
          null,
          174,
          174,
          null,
          175,
          175,
          null,
          176,
          176,
          null,
          177,
          177,
          null,
          178,
          178,
          null,
          179,
          179,
          null,
          180,
          180,
          null,
          181,
          181,
          null,
          182,
          182,
          null,
          183,
          183,
          null,
          184,
          184,
          null,
          185,
          185,
          null,
          186,
          186,
          null,
          187,
          187,
          null
         ]
        },
        {
         "hoverinfo": "text",
         "hovertext": [
          "birth 0.5247524752475248<br>death 0.6732673267326733<br>homology dimension 2<br>row of dataframe 351",
          "birth 0.5247524752475248<br>death 0.6732673267326733<br>homology dimension 2<br>row of dataframe 351",
          "birth 0.5247524752475248<br>death 0.6732673267326733<br>homology dimension 2<br>row of dataframe 351",
          "birth 0.5247524752475248<br>death 0.693069306930693<br>homology dimension 2<br>row of dataframe 350",
          "birth 0.5247524752475248<br>death 0.693069306930693<br>homology dimension 2<br>row of dataframe 350",
          "birth 0.5247524752475248<br>death 0.693069306930693<br>homology dimension 2<br>row of dataframe 350",
          "birth 0.5841584158415841<br>death 0.6732673267326733<br>homology dimension 2<br>row of dataframe 349",
          "birth 0.5841584158415841<br>death 0.6732673267326733<br>homology dimension 2<br>row of dataframe 349",
          "birth 0.5841584158415841<br>death 0.6732673267326733<br>homology dimension 2<br>row of dataframe 349",
          "birth 0.6039603960396039<br>death 0.6435643564356436<br>homology dimension 2<br>row of dataframe 348",
          "birth 0.6039603960396039<br>death 0.6435643564356436<br>homology dimension 2<br>row of dataframe 348",
          "birth 0.6039603960396039<br>death 0.6435643564356436<br>homology dimension 2<br>row of dataframe 348",
          "birth 0.6039603960396039<br>death 0.7722772277227723<br>homology dimension 2<br>row of dataframe 347",
          "birth 0.6039603960396039<br>death 0.7722772277227723<br>homology dimension 2<br>row of dataframe 347",
          "birth 0.6039603960396039<br>death 0.7722772277227723<br>homology dimension 2<br>row of dataframe 347",
          "birth 0.6138613861386139<br>death 0.6237623762376238<br>homology dimension 2<br>row of dataframe 345",
          "birth 0.6138613861386139<br>death 0.6237623762376238<br>homology dimension 2<br>row of dataframe 345",
          "birth 0.6138613861386139<br>death 0.6237623762376238<br>homology dimension 2<br>row of dataframe 345",
          "birth 0.6138613861386139<br>death 0.6831683168316832<br>homology dimension 2<br>row of dataframe 346",
          "birth 0.6138613861386139<br>death 0.6831683168316832<br>homology dimension 2<br>row of dataframe 346",
          "birth 0.6138613861386139<br>death 0.6831683168316832<br>homology dimension 2<br>row of dataframe 346",
          "birth 0.6237623762376238<br>death 0.6732673267326733<br>homology dimension 2<br>row of dataframe 342",
          "birth 0.6237623762376238<br>death 0.6732673267326733<br>homology dimension 2<br>row of dataframe 342",
          "birth 0.6237623762376238<br>death 0.6732673267326733<br>homology dimension 2<br>row of dataframe 342",
          "birth 0.6237623762376238<br>death 0.6732673267326733<br>homology dimension 2<br>row of dataframe 343",
          "birth 0.6237623762376238<br>death 0.6732673267326733<br>homology dimension 2<br>row of dataframe 343",
          "birth 0.6237623762376238<br>death 0.6732673267326733<br>homology dimension 2<br>row of dataframe 343",
          "birth 0.6237623762376238<br>death 0.7128712871287128<br>homology dimension 2<br>row of dataframe 344",
          "birth 0.6237623762376238<br>death 0.7128712871287128<br>homology dimension 2<br>row of dataframe 344",
          "birth 0.6237623762376238<br>death 0.7128712871287128<br>homology dimension 2<br>row of dataframe 344",
          "birth 0.6336633663366337<br>death 0.693069306930693<br>homology dimension 2<br>row of dataframe 341",
          "birth 0.6336633663366337<br>death 0.693069306930693<br>homology dimension 2<br>row of dataframe 341",
          "birth 0.6336633663366337<br>death 0.693069306930693<br>homology dimension 2<br>row of dataframe 341",
          "birth 0.6435643564356436<br>death 0.7524752475247525<br>homology dimension 2<br>row of dataframe 340",
          "birth 0.6435643564356436<br>death 0.7524752475247525<br>homology dimension 2<br>row of dataframe 340",
          "birth 0.6435643564356436<br>death 0.7524752475247525<br>homology dimension 2<br>row of dataframe 340",
          "birth 0.6534653465346535<br>death 0.7029702970297029<br>homology dimension 2<br>row of dataframe 339",
          "birth 0.6534653465346535<br>death 0.7029702970297029<br>homology dimension 2<br>row of dataframe 339",
          "birth 0.6534653465346535<br>death 0.7029702970297029<br>homology dimension 2<br>row of dataframe 339",
          "birth 0.6633663366336634<br>death 0.6732673267326733<br>homology dimension 2<br>row of dataframe 334",
          "birth 0.6633663366336634<br>death 0.6732673267326733<br>homology dimension 2<br>row of dataframe 334",
          "birth 0.6633663366336634<br>death 0.6732673267326733<br>homology dimension 2<br>row of dataframe 334",
          "birth 0.6633663366336634<br>death 0.6831683168316832<br>homology dimension 2<br>row of dataframe 328",
          "birth 0.6633663366336634<br>death 0.6831683168316832<br>homology dimension 2<br>row of dataframe 328",
          "birth 0.6633663366336634<br>death 0.6831683168316832<br>homology dimension 2<br>row of dataframe 328",
          "birth 0.6633663366336634<br>death 0.6831683168316832<br>homology dimension 2<br>row of dataframe 335",
          "birth 0.6633663366336634<br>death 0.6831683168316832<br>homology dimension 2<br>row of dataframe 335",
          "birth 0.6633663366336634<br>death 0.6831683168316832<br>homology dimension 2<br>row of dataframe 335",
          "birth 0.6633663366336634<br>death 0.693069306930693<br>homology dimension 2<br>row of dataframe 332",
          "birth 0.6633663366336634<br>death 0.693069306930693<br>homology dimension 2<br>row of dataframe 332",
          "birth 0.6633663366336634<br>death 0.693069306930693<br>homology dimension 2<br>row of dataframe 332",
          "birth 0.6633663366336634<br>death 0.7128712871287128<br>homology dimension 2<br>row of dataframe 329",
          "birth 0.6633663366336634<br>death 0.7128712871287128<br>homology dimension 2<br>row of dataframe 329",
          "birth 0.6633663366336634<br>death 0.7128712871287128<br>homology dimension 2<br>row of dataframe 329",
          "birth 0.6633663366336634<br>death 0.7227722772277227<br>homology dimension 2<br>row of dataframe 331",
          "birth 0.6633663366336634<br>death 0.7227722772277227<br>homology dimension 2<br>row of dataframe 331",
          "birth 0.6633663366336634<br>death 0.7227722772277227<br>homology dimension 2<br>row of dataframe 331",
          "birth 0.6633663366336634<br>death 0.7425742574257426<br>homology dimension 2<br>row of dataframe 338",
          "birth 0.6633663366336634<br>death 0.7425742574257426<br>homology dimension 2<br>row of dataframe 338",
          "birth 0.6633663366336634<br>death 0.7425742574257426<br>homology dimension 2<br>row of dataframe 338",
          "birth 0.6633663366336634<br>death 0.7524752475247525<br>homology dimension 2<br>row of dataframe 327",
          "birth 0.6633663366336634<br>death 0.7524752475247525<br>homology dimension 2<br>row of dataframe 327",
          "birth 0.6633663366336634<br>death 0.7524752475247525<br>homology dimension 2<br>row of dataframe 327",
          "birth 0.6633663366336634<br>death 0.7623762376237624<br>homology dimension 2<br>row of dataframe 330",
          "birth 0.6633663366336634<br>death 0.7623762376237624<br>homology dimension 2<br>row of dataframe 330",
          "birth 0.6633663366336634<br>death 0.7623762376237624<br>homology dimension 2<br>row of dataframe 330",
          "birth 0.6633663366336634<br>death 0.7722772277227723<br>homology dimension 2<br>row of dataframe 333",
          "birth 0.6633663366336634<br>death 0.7722772277227723<br>homology dimension 2<br>row of dataframe 333",
          "birth 0.6633663366336634<br>death 0.7722772277227723<br>homology dimension 2<br>row of dataframe 333",
          "birth 0.6633663366336634<br>death 0.8118811881188119<br>homology dimension 2<br>row of dataframe 336",
          "birth 0.6633663366336634<br>death 0.8118811881188119<br>homology dimension 2<br>row of dataframe 336",
          "birth 0.6633663366336634<br>death 0.8118811881188119<br>homology dimension 2<br>row of dataframe 336",
          "birth 0.6633663366336634<br>death 0.8118811881188119<br>homology dimension 2<br>row of dataframe 337",
          "birth 0.6633663366336634<br>death 0.8118811881188119<br>homology dimension 2<br>row of dataframe 337",
          "birth 0.6633663366336634<br>death 0.8118811881188119<br>homology dimension 2<br>row of dataframe 337",
          "birth 0.6732673267326733<br>death 0.6831683168316832<br>homology dimension 2<br>row of dataframe 326",
          "birth 0.6732673267326733<br>death 0.6831683168316832<br>homology dimension 2<br>row of dataframe 326",
          "birth 0.6732673267326733<br>death 0.6831683168316832<br>homology dimension 2<br>row of dataframe 326",
          "birth 0.6732673267326733<br>death 0.7128712871287128<br>homology dimension 2<br>row of dataframe 322",
          "birth 0.6732673267326733<br>death 0.7128712871287128<br>homology dimension 2<br>row of dataframe 322",
          "birth 0.6732673267326733<br>death 0.7128712871287128<br>homology dimension 2<br>row of dataframe 322",
          "birth 0.6732673267326733<br>death 0.7128712871287128<br>homology dimension 2<br>row of dataframe 325",
          "birth 0.6732673267326733<br>death 0.7128712871287128<br>homology dimension 2<br>row of dataframe 325",
          "birth 0.6732673267326733<br>death 0.7128712871287128<br>homology dimension 2<br>row of dataframe 325",
          "birth 0.6732673267326733<br>death 0.7227722772277227<br>homology dimension 2<br>row of dataframe 323",
          "birth 0.6732673267326733<br>death 0.7227722772277227<br>homology dimension 2<br>row of dataframe 323",
          "birth 0.6732673267326733<br>death 0.7227722772277227<br>homology dimension 2<br>row of dataframe 323",
          "birth 0.6732673267326733<br>death 0.7425742574257426<br>homology dimension 2<br>row of dataframe 324",
          "birth 0.6732673267326733<br>death 0.7425742574257426<br>homology dimension 2<br>row of dataframe 324",
          "birth 0.6732673267326733<br>death 0.7425742574257426<br>homology dimension 2<br>row of dataframe 324",
          "birth 0.6831683168316832<br>death 0.693069306930693<br>homology dimension 2<br>row of dataframe 315",
          "birth 0.6831683168316832<br>death 0.693069306930693<br>homology dimension 2<br>row of dataframe 315",
          "birth 0.6831683168316832<br>death 0.693069306930693<br>homology dimension 2<br>row of dataframe 315",
          "birth 0.6831683168316832<br>death 0.7029702970297029<br>homology dimension 2<br>row of dataframe 314",
          "birth 0.6831683168316832<br>death 0.7029702970297029<br>homology dimension 2<br>row of dataframe 314",
          "birth 0.6831683168316832<br>death 0.7029702970297029<br>homology dimension 2<br>row of dataframe 314",
          "birth 0.6831683168316832<br>death 0.7029702970297029<br>homology dimension 2<br>row of dataframe 320",
          "birth 0.6831683168316832<br>death 0.7029702970297029<br>homology dimension 2<br>row of dataframe 320",
          "birth 0.6831683168316832<br>death 0.7029702970297029<br>homology dimension 2<br>row of dataframe 320",
          "birth 0.6831683168316832<br>death 0.7128712871287128<br>homology dimension 2<br>row of dataframe 318",
          "birth 0.6831683168316832<br>death 0.7128712871287128<br>homology dimension 2<br>row of dataframe 318",
          "birth 0.6831683168316832<br>death 0.7128712871287128<br>homology dimension 2<br>row of dataframe 318",
          "birth 0.6831683168316832<br>death 0.7326732673267327<br>homology dimension 2<br>row of dataframe 319",
          "birth 0.6831683168316832<br>death 0.7326732673267327<br>homology dimension 2<br>row of dataframe 319",
          "birth 0.6831683168316832<br>death 0.7326732673267327<br>homology dimension 2<br>row of dataframe 319",
          "birth 0.6831683168316832<br>death 0.7326732673267327<br>homology dimension 2<br>row of dataframe 321",
          "birth 0.6831683168316832<br>death 0.7326732673267327<br>homology dimension 2<br>row of dataframe 321",
          "birth 0.6831683168316832<br>death 0.7326732673267327<br>homology dimension 2<br>row of dataframe 321",
          "birth 0.6831683168316832<br>death 0.7425742574257426<br>homology dimension 2<br>row of dataframe 311",
          "birth 0.6831683168316832<br>death 0.7425742574257426<br>homology dimension 2<br>row of dataframe 311",
          "birth 0.6831683168316832<br>death 0.7425742574257426<br>homology dimension 2<br>row of dataframe 311",
          "birth 0.6831683168316832<br>death 0.7425742574257426<br>homology dimension 2<br>row of dataframe 313",
          "birth 0.6831683168316832<br>death 0.7425742574257426<br>homology dimension 2<br>row of dataframe 313",
          "birth 0.6831683168316832<br>death 0.7425742574257426<br>homology dimension 2<br>row of dataframe 313",
          "birth 0.6831683168316832<br>death 0.7425742574257426<br>homology dimension 2<br>row of dataframe 317",
          "birth 0.6831683168316832<br>death 0.7425742574257426<br>homology dimension 2<br>row of dataframe 317",
          "birth 0.6831683168316832<br>death 0.7425742574257426<br>homology dimension 2<br>row of dataframe 317",
          "birth 0.6831683168316832<br>death 0.7623762376237624<br>homology dimension 2<br>row of dataframe 312",
          "birth 0.6831683168316832<br>death 0.7623762376237624<br>homology dimension 2<br>row of dataframe 312",
          "birth 0.6831683168316832<br>death 0.7623762376237624<br>homology dimension 2<br>row of dataframe 312",
          "birth 0.6831683168316832<br>death 0.7623762376237624<br>homology dimension 2<br>row of dataframe 316",
          "birth 0.6831683168316832<br>death 0.7623762376237624<br>homology dimension 2<br>row of dataframe 316",
          "birth 0.6831683168316832<br>death 0.7623762376237624<br>homology dimension 2<br>row of dataframe 316",
          "birth 0.693069306930693<br>death 0.7128712871287128<br>homology dimension 2<br>row of dataframe 307",
          "birth 0.693069306930693<br>death 0.7128712871287128<br>homology dimension 2<br>row of dataframe 307",
          "birth 0.693069306930693<br>death 0.7128712871287128<br>homology dimension 2<br>row of dataframe 307",
          "birth 0.693069306930693<br>death 0.7128712871287128<br>homology dimension 2<br>row of dataframe 310",
          "birth 0.693069306930693<br>death 0.7128712871287128<br>homology dimension 2<br>row of dataframe 310",
          "birth 0.693069306930693<br>death 0.7128712871287128<br>homology dimension 2<br>row of dataframe 310",
          "birth 0.693069306930693<br>death 0.7425742574257426<br>homology dimension 2<br>row of dataframe 308",
          "birth 0.693069306930693<br>death 0.7425742574257426<br>homology dimension 2<br>row of dataframe 308",
          "birth 0.693069306930693<br>death 0.7425742574257426<br>homology dimension 2<br>row of dataframe 308",
          "birth 0.693069306930693<br>death 0.7425742574257426<br>homology dimension 2<br>row of dataframe 309",
          "birth 0.693069306930693<br>death 0.7425742574257426<br>homology dimension 2<br>row of dataframe 309",
          "birth 0.693069306930693<br>death 0.7425742574257426<br>homology dimension 2<br>row of dataframe 309",
          "birth 0.7029702970297029<br>death 0.7227722772277227<br>homology dimension 2<br>row of dataframe 304",
          "birth 0.7029702970297029<br>death 0.7227722772277227<br>homology dimension 2<br>row of dataframe 304",
          "birth 0.7029702970297029<br>death 0.7227722772277227<br>homology dimension 2<br>row of dataframe 304",
          "birth 0.7029702970297029<br>death 0.7425742574257426<br>homology dimension 2<br>row of dataframe 299",
          "birth 0.7029702970297029<br>death 0.7425742574257426<br>homology dimension 2<br>row of dataframe 299",
          "birth 0.7029702970297029<br>death 0.7425742574257426<br>homology dimension 2<br>row of dataframe 299",
          "birth 0.7029702970297029<br>death 0.7425742574257426<br>homology dimension 2<br>row of dataframe 300",
          "birth 0.7029702970297029<br>death 0.7425742574257426<br>homology dimension 2<br>row of dataframe 300",
          "birth 0.7029702970297029<br>death 0.7425742574257426<br>homology dimension 2<br>row of dataframe 300",
          "birth 0.7029702970297029<br>death 0.7425742574257426<br>homology dimension 2<br>row of dataframe 302",
          "birth 0.7029702970297029<br>death 0.7425742574257426<br>homology dimension 2<br>row of dataframe 302",
          "birth 0.7029702970297029<br>death 0.7425742574257426<br>homology dimension 2<br>row of dataframe 302",
          "birth 0.7029702970297029<br>death 0.7524752475247525<br>homology dimension 2<br>row of dataframe 306",
          "birth 0.7029702970297029<br>death 0.7524752475247525<br>homology dimension 2<br>row of dataframe 306",
          "birth 0.7029702970297029<br>death 0.7524752475247525<br>homology dimension 2<br>row of dataframe 306",
          "birth 0.7029702970297029<br>death 0.7821782178217822<br>homology dimension 2<br>row of dataframe 303",
          "birth 0.7029702970297029<br>death 0.7821782178217822<br>homology dimension 2<br>row of dataframe 303",
          "birth 0.7029702970297029<br>death 0.7821782178217822<br>homology dimension 2<br>row of dataframe 303",
          "birth 0.7029702970297029<br>death 0.7821782178217822<br>homology dimension 2<br>row of dataframe 305",
          "birth 0.7029702970297029<br>death 0.7821782178217822<br>homology dimension 2<br>row of dataframe 305",
          "birth 0.7029702970297029<br>death 0.7821782178217822<br>homology dimension 2<br>row of dataframe 305",
          "birth 0.7029702970297029<br>death 0.8118811881188119<br>homology dimension 2<br>row of dataframe 301",
          "birth 0.7029702970297029<br>death 0.8118811881188119<br>homology dimension 2<br>row of dataframe 301",
          "birth 0.7029702970297029<br>death 0.8118811881188119<br>homology dimension 2<br>row of dataframe 301",
          "birth 0.7128712871287128<br>death 0.7227722772277227<br>homology dimension 2<br>row of dataframe 295",
          "birth 0.7128712871287128<br>death 0.7227722772277227<br>homology dimension 2<br>row of dataframe 295",
          "birth 0.7128712871287128<br>death 0.7227722772277227<br>homology dimension 2<br>row of dataframe 295",
          "birth 0.7128712871287128<br>death 0.7524752475247525<br>homology dimension 2<br>row of dataframe 298",
          "birth 0.7128712871287128<br>death 0.7524752475247525<br>homology dimension 2<br>row of dataframe 298",
          "birth 0.7128712871287128<br>death 0.7524752475247525<br>homology dimension 2<br>row of dataframe 298",
          "birth 0.7128712871287128<br>death 0.7920792079207921<br>homology dimension 2<br>row of dataframe 294",
          "birth 0.7128712871287128<br>death 0.7920792079207921<br>homology dimension 2<br>row of dataframe 294",
          "birth 0.7128712871287128<br>death 0.7920792079207921<br>homology dimension 2<br>row of dataframe 294",
          "birth 0.7128712871287128<br>death 0.801980198019802<br>homology dimension 2<br>row of dataframe 297",
          "birth 0.7128712871287128<br>death 0.801980198019802<br>homology dimension 2<br>row of dataframe 297",
          "birth 0.7128712871287128<br>death 0.801980198019802<br>homology dimension 2<br>row of dataframe 297",
          "birth 0.7128712871287128<br>death 0.8613861386138614<br>homology dimension 2<br>row of dataframe 293",
          "birth 0.7128712871287128<br>death 0.8613861386138614<br>homology dimension 2<br>row of dataframe 293",
          "birth 0.7128712871287128<br>death 0.8613861386138614<br>homology dimension 2<br>row of dataframe 293",
          "birth 0.7128712871287128<br>death 0.8613861386138614<br>homology dimension 2<br>row of dataframe 296",
          "birth 0.7128712871287128<br>death 0.8613861386138614<br>homology dimension 2<br>row of dataframe 296",
          "birth 0.7128712871287128<br>death 0.8613861386138614<br>homology dimension 2<br>row of dataframe 296",
          "birth 0.7227722772277227<br>death 0.7326732673267327<br>homology dimension 2<br>row of dataframe 292",
          "birth 0.7227722772277227<br>death 0.7326732673267327<br>homology dimension 2<br>row of dataframe 292",
          "birth 0.7227722772277227<br>death 0.7326732673267327<br>homology dimension 2<br>row of dataframe 292",
          "birth 0.7227722772277227<br>death 0.7425742574257426<br>homology dimension 2<br>row of dataframe 288",
          "birth 0.7227722772277227<br>death 0.7425742574257426<br>homology dimension 2<br>row of dataframe 288",
          "birth 0.7227722772277227<br>death 0.7425742574257426<br>homology dimension 2<br>row of dataframe 288",
          "birth 0.7227722772277227<br>death 0.7524752475247525<br>homology dimension 2<br>row of dataframe 285",
          "birth 0.7227722772277227<br>death 0.7524752475247525<br>homology dimension 2<br>row of dataframe 285",
          "birth 0.7227722772277227<br>death 0.7524752475247525<br>homology dimension 2<br>row of dataframe 285",
          "birth 0.7227722772277227<br>death 0.7524752475247525<br>homology dimension 2<br>row of dataframe 289",
          "birth 0.7227722772277227<br>death 0.7524752475247525<br>homology dimension 2<br>row of dataframe 289",
          "birth 0.7227722772277227<br>death 0.7524752475247525<br>homology dimension 2<br>row of dataframe 289",
          "birth 0.7227722772277227<br>death 0.7821782178217822<br>homology dimension 2<br>row of dataframe 284",
          "birth 0.7227722772277227<br>death 0.7821782178217822<br>homology dimension 2<br>row of dataframe 284",
          "birth 0.7227722772277227<br>death 0.7821782178217822<br>homology dimension 2<br>row of dataframe 284",
          "birth 0.7227722772277227<br>death 0.7821782178217822<br>homology dimension 2<br>row of dataframe 286",
          "birth 0.7227722772277227<br>death 0.7821782178217822<br>homology dimension 2<br>row of dataframe 286",
          "birth 0.7227722772277227<br>death 0.7821782178217822<br>homology dimension 2<br>row of dataframe 286",
          "birth 0.7227722772277227<br>death 0.801980198019802<br>homology dimension 2<br>row of dataframe 287",
          "birth 0.7227722772277227<br>death 0.801980198019802<br>homology dimension 2<br>row of dataframe 287",
          "birth 0.7227722772277227<br>death 0.801980198019802<br>homology dimension 2<br>row of dataframe 287",
          "birth 0.7227722772277227<br>death 0.8118811881188119<br>homology dimension 2<br>row of dataframe 290",
          "birth 0.7227722772277227<br>death 0.8118811881188119<br>homology dimension 2<br>row of dataframe 290",
          "birth 0.7227722772277227<br>death 0.8118811881188119<br>homology dimension 2<br>row of dataframe 290",
          "birth 0.7227722772277227<br>death 0.8118811881188119<br>homology dimension 2<br>row of dataframe 291",
          "birth 0.7227722772277227<br>death 0.8118811881188119<br>homology dimension 2<br>row of dataframe 291",
          "birth 0.7227722772277227<br>death 0.8118811881188119<br>homology dimension 2<br>row of dataframe 291",
          "birth 0.7326732673267327<br>death 0.7425742574257426<br>homology dimension 2<br>row of dataframe 275",
          "birth 0.7326732673267327<br>death 0.7425742574257426<br>homology dimension 2<br>row of dataframe 275",
          "birth 0.7326732673267327<br>death 0.7425742574257426<br>homology dimension 2<br>row of dataframe 275",
          "birth 0.7326732673267327<br>death 0.7425742574257426<br>homology dimension 2<br>row of dataframe 277",
          "birth 0.7326732673267327<br>death 0.7425742574257426<br>homology dimension 2<br>row of dataframe 277",
          "birth 0.7326732673267327<br>death 0.7425742574257426<br>homology dimension 2<br>row of dataframe 277",
          "birth 0.7326732673267327<br>death 0.7524752475247525<br>homology dimension 2<br>row of dataframe 278",
          "birth 0.7326732673267327<br>death 0.7524752475247525<br>homology dimension 2<br>row of dataframe 278",
          "birth 0.7326732673267327<br>death 0.7524752475247525<br>homology dimension 2<br>row of dataframe 278",
          "birth 0.7326732673267327<br>death 0.7524752475247525<br>homology dimension 2<br>row of dataframe 281",
          "birth 0.7326732673267327<br>death 0.7524752475247525<br>homology dimension 2<br>row of dataframe 281",
          "birth 0.7326732673267327<br>death 0.7524752475247525<br>homology dimension 2<br>row of dataframe 281",
          "birth 0.7326732673267327<br>death 0.7524752475247525<br>homology dimension 2<br>row of dataframe 283",
          "birth 0.7326732673267327<br>death 0.7524752475247525<br>homology dimension 2<br>row of dataframe 283",
          "birth 0.7326732673267327<br>death 0.7524752475247525<br>homology dimension 2<br>row of dataframe 283",
          "birth 0.7326732673267327<br>death 0.7623762376237624<br>homology dimension 2<br>row of dataframe 276",
          "birth 0.7326732673267327<br>death 0.7623762376237624<br>homology dimension 2<br>row of dataframe 276",
          "birth 0.7326732673267327<br>death 0.7623762376237624<br>homology dimension 2<br>row of dataframe 276",
          "birth 0.7326732673267327<br>death 0.7623762376237624<br>homology dimension 2<br>row of dataframe 279",
          "birth 0.7326732673267327<br>death 0.7623762376237624<br>homology dimension 2<br>row of dataframe 279",
          "birth 0.7326732673267327<br>death 0.7623762376237624<br>homology dimension 2<br>row of dataframe 279",
          "birth 0.7326732673267327<br>death 0.7722772277227723<br>homology dimension 2<br>row of dataframe 274",
          "birth 0.7326732673267327<br>death 0.7722772277227723<br>homology dimension 2<br>row of dataframe 274",
          "birth 0.7326732673267327<br>death 0.7722772277227723<br>homology dimension 2<br>row of dataframe 274",
          "birth 0.7326732673267327<br>death 0.7722772277227723<br>homology dimension 2<br>row of dataframe 282",
          "birth 0.7326732673267327<br>death 0.7722772277227723<br>homology dimension 2<br>row of dataframe 282",
          "birth 0.7326732673267327<br>death 0.7722772277227723<br>homology dimension 2<br>row of dataframe 282",
          "birth 0.7326732673267327<br>death 0.8118811881188119<br>homology dimension 2<br>row of dataframe 280",
          "birth 0.7326732673267327<br>death 0.8118811881188119<br>homology dimension 2<br>row of dataframe 280",
          "birth 0.7326732673267327<br>death 0.8118811881188119<br>homology dimension 2<br>row of dataframe 280",
          "birth 0.7425742574257426<br>death 0.7722772277227723<br>homology dimension 2<br>row of dataframe 272",
          "birth 0.7425742574257426<br>death 0.7722772277227723<br>homology dimension 2<br>row of dataframe 272",
          "birth 0.7425742574257426<br>death 0.7722772277227723<br>homology dimension 2<br>row of dataframe 272",
          "birth 0.7425742574257426<br>death 0.7722772277227723<br>homology dimension 2<br>row of dataframe 273",
          "birth 0.7425742574257426<br>death 0.7722772277227723<br>homology dimension 2<br>row of dataframe 273",
          "birth 0.7425742574257426<br>death 0.7722772277227723<br>homology dimension 2<br>row of dataframe 273",
          "birth 0.7425742574257426<br>death 0.8217821782178217<br>homology dimension 2<br>row of dataframe 270",
          "birth 0.7425742574257426<br>death 0.8217821782178217<br>homology dimension 2<br>row of dataframe 270",
          "birth 0.7425742574257426<br>death 0.8217821782178217<br>homology dimension 2<br>row of dataframe 270",
          "birth 0.7425742574257426<br>death 0.8415841584158416<br>homology dimension 2<br>row of dataframe 271",
          "birth 0.7425742574257426<br>death 0.8415841584158416<br>homology dimension 2<br>row of dataframe 271",
          "birth 0.7425742574257426<br>death 0.8415841584158416<br>homology dimension 2<br>row of dataframe 271",
          "birth 0.7524752475247525<br>death 0.7623762376237624<br>homology dimension 2<br>row of dataframe 268",
          "birth 0.7524752475247525<br>death 0.7623762376237624<br>homology dimension 2<br>row of dataframe 268",
          "birth 0.7524752475247525<br>death 0.7623762376237624<br>homology dimension 2<br>row of dataframe 268",
          "birth 0.7524752475247525<br>death 0.7722772277227723<br>homology dimension 2<br>row of dataframe 269",
          "birth 0.7524752475247525<br>death 0.7722772277227723<br>homology dimension 2<br>row of dataframe 269",
          "birth 0.7524752475247525<br>death 0.7722772277227723<br>homology dimension 2<br>row of dataframe 269",
          "birth 0.7524752475247525<br>death 0.7821782178217822<br>homology dimension 2<br>row of dataframe 267",
          "birth 0.7524752475247525<br>death 0.7821782178217822<br>homology dimension 2<br>row of dataframe 267",
          "birth 0.7524752475247525<br>death 0.7821782178217822<br>homology dimension 2<br>row of dataframe 267",
          "birth 0.7524752475247525<br>death 0.7920792079207921<br>homology dimension 2<br>row of dataframe 263",
          "birth 0.7524752475247525<br>death 0.7920792079207921<br>homology dimension 2<br>row of dataframe 263",
          "birth 0.7524752475247525<br>death 0.7920792079207921<br>homology dimension 2<br>row of dataframe 263",
          "birth 0.7524752475247525<br>death 0.801980198019802<br>homology dimension 2<br>row of dataframe 264",
          "birth 0.7524752475247525<br>death 0.801980198019802<br>homology dimension 2<br>row of dataframe 264",
          "birth 0.7524752475247525<br>death 0.801980198019802<br>homology dimension 2<br>row of dataframe 264",
          "birth 0.7524752475247525<br>death 0.8217821782178217<br>homology dimension 2<br>row of dataframe 266",
          "birth 0.7524752475247525<br>death 0.8217821782178217<br>homology dimension 2<br>row of dataframe 266",
          "birth 0.7524752475247525<br>death 0.8217821782178217<br>homology dimension 2<br>row of dataframe 266",
          "birth 0.7524752475247525<br>death 0.9306930693069307<br>homology dimension 2<br>row of dataframe 265",
          "birth 0.7524752475247525<br>death 0.9306930693069307<br>homology dimension 2<br>row of dataframe 265",
          "birth 0.7524752475247525<br>death 0.9306930693069307<br>homology dimension 2<br>row of dataframe 265",
          "birth 0.7623762376237624<br>death 0.7722772277227723<br>homology dimension 2<br>row of dataframe 260",
          "birth 0.7623762376237624<br>death 0.7722772277227723<br>homology dimension 2<br>row of dataframe 260",
          "birth 0.7623762376237624<br>death 0.7722772277227723<br>homology dimension 2<br>row of dataframe 260",
          "birth 0.7623762376237624<br>death 0.7920792079207921<br>homology dimension 2<br>row of dataframe 261",
          "birth 0.7623762376237624<br>death 0.7920792079207921<br>homology dimension 2<br>row of dataframe 261",
          "birth 0.7623762376237624<br>death 0.7920792079207921<br>homology dimension 2<br>row of dataframe 261",
          "birth 0.7623762376237624<br>death 0.8118811881188119<br>homology dimension 2<br>row of dataframe 262",
          "birth 0.7623762376237624<br>death 0.8118811881188119<br>homology dimension 2<br>row of dataframe 262",
          "birth 0.7623762376237624<br>death 0.8118811881188119<br>homology dimension 2<br>row of dataframe 262",
          "birth 0.7722772277227723<br>death 0.7821782178217822<br>homology dimension 2<br>row of dataframe 253",
          "birth 0.7722772277227723<br>death 0.7821782178217822<br>homology dimension 2<br>row of dataframe 253",
          "birth 0.7722772277227723<br>death 0.7821782178217822<br>homology dimension 2<br>row of dataframe 253",
          "birth 0.7722772277227723<br>death 0.7821782178217822<br>homology dimension 2<br>row of dataframe 257",
          "birth 0.7722772277227723<br>death 0.7821782178217822<br>homology dimension 2<br>row of dataframe 257",
          "birth 0.7722772277227723<br>death 0.7821782178217822<br>homology dimension 2<br>row of dataframe 257",
          "birth 0.7722772277227723<br>death 0.7821782178217822<br>homology dimension 2<br>row of dataframe 258",
          "birth 0.7722772277227723<br>death 0.7821782178217822<br>homology dimension 2<br>row of dataframe 258",
          "birth 0.7722772277227723<br>death 0.7821782178217822<br>homology dimension 2<br>row of dataframe 258",
          "birth 0.7722772277227723<br>death 0.7920792079207921<br>homology dimension 2<br>row of dataframe 254",
          "birth 0.7722772277227723<br>death 0.7920792079207921<br>homology dimension 2<br>row of dataframe 254",
          "birth 0.7722772277227723<br>death 0.7920792079207921<br>homology dimension 2<br>row of dataframe 254",
          "birth 0.7722772277227723<br>death 0.8118811881188119<br>homology dimension 2<br>row of dataframe 255",
          "birth 0.7722772277227723<br>death 0.8118811881188119<br>homology dimension 2<br>row of dataframe 255",
          "birth 0.7722772277227723<br>death 0.8118811881188119<br>homology dimension 2<br>row of dataframe 255",
          "birth 0.7722772277227723<br>death 0.8217821782178217<br>homology dimension 2<br>row of dataframe 251",
          "birth 0.7722772277227723<br>death 0.8217821782178217<br>homology dimension 2<br>row of dataframe 251",
          "birth 0.7722772277227723<br>death 0.8217821782178217<br>homology dimension 2<br>row of dataframe 251",
          "birth 0.7722772277227723<br>death 0.8217821782178217<br>homology dimension 2<br>row of dataframe 252",
          "birth 0.7722772277227723<br>death 0.8217821782178217<br>homology dimension 2<br>row of dataframe 252",
          "birth 0.7722772277227723<br>death 0.8217821782178217<br>homology dimension 2<br>row of dataframe 252",
          "birth 0.7722772277227723<br>death 0.8217821782178217<br>homology dimension 2<br>row of dataframe 256",
          "birth 0.7722772277227723<br>death 0.8217821782178217<br>homology dimension 2<br>row of dataframe 256",
          "birth 0.7722772277227723<br>death 0.8217821782178217<br>homology dimension 2<br>row of dataframe 256",
          "birth 0.7722772277227723<br>death 0.8217821782178217<br>homology dimension 2<br>row of dataframe 259",
          "birth 0.7722772277227723<br>death 0.8217821782178217<br>homology dimension 2<br>row of dataframe 259",
          "birth 0.7722772277227723<br>death 0.8217821782178217<br>homology dimension 2<br>row of dataframe 259",
          "birth 0.7722772277227723<br>death 0.8514851485148515<br>homology dimension 2<br>row of dataframe 250",
          "birth 0.7722772277227723<br>death 0.8514851485148515<br>homology dimension 2<br>row of dataframe 250",
          "birth 0.7722772277227723<br>death 0.8514851485148515<br>homology dimension 2<br>row of dataframe 250",
          "birth 0.7821782178217822<br>death 0.801980198019802<br>homology dimension 2<br>row of dataframe 249",
          "birth 0.7821782178217822<br>death 0.801980198019802<br>homology dimension 2<br>row of dataframe 249",
          "birth 0.7821782178217822<br>death 0.801980198019802<br>homology dimension 2<br>row of dataframe 249",
          "birth 0.7821782178217822<br>death 0.8118811881188119<br>homology dimension 2<br>row of dataframe 247",
          "birth 0.7821782178217822<br>death 0.8118811881188119<br>homology dimension 2<br>row of dataframe 247",
          "birth 0.7821782178217822<br>death 0.8118811881188119<br>homology dimension 2<br>row of dataframe 247",
          "birth 0.7821782178217822<br>death 0.8118811881188119<br>homology dimension 2<br>row of dataframe 248",
          "birth 0.7821782178217822<br>death 0.8118811881188119<br>homology dimension 2<br>row of dataframe 248",
          "birth 0.7821782178217822<br>death 0.8118811881188119<br>homology dimension 2<br>row of dataframe 248",
          "birth 0.7920792079207921<br>death 0.801980198019802<br>homology dimension 2<br>row of dataframe 244",
          "birth 0.7920792079207921<br>death 0.801980198019802<br>homology dimension 2<br>row of dataframe 244",
          "birth 0.7920792079207921<br>death 0.801980198019802<br>homology dimension 2<br>row of dataframe 244",
          "birth 0.7920792079207921<br>death 0.801980198019802<br>homology dimension 2<br>row of dataframe 245",
          "birth 0.7920792079207921<br>death 0.801980198019802<br>homology dimension 2<br>row of dataframe 245",
          "birth 0.7920792079207921<br>death 0.801980198019802<br>homology dimension 2<br>row of dataframe 245",
          "birth 0.7920792079207921<br>death 0.801980198019802<br>homology dimension 2<br>row of dataframe 246",
          "birth 0.7920792079207921<br>death 0.801980198019802<br>homology dimension 2<br>row of dataframe 246",
          "birth 0.7920792079207921<br>death 0.801980198019802<br>homology dimension 2<br>row of dataframe 246",
          "birth 0.7920792079207921<br>death 0.8316831683168316<br>homology dimension 2<br>row of dataframe 242",
          "birth 0.7920792079207921<br>death 0.8316831683168316<br>homology dimension 2<br>row of dataframe 242",
          "birth 0.7920792079207921<br>death 0.8316831683168316<br>homology dimension 2<br>row of dataframe 242",
          "birth 0.7920792079207921<br>death 0.8712871287128713<br>homology dimension 2<br>row of dataframe 243",
          "birth 0.7920792079207921<br>death 0.8712871287128713<br>homology dimension 2<br>row of dataframe 243",
          "birth 0.7920792079207921<br>death 0.8712871287128713<br>homology dimension 2<br>row of dataframe 243",
          "birth 0.801980198019802<br>death 0.8118811881188119<br>homology dimension 2<br>row of dataframe 239",
          "birth 0.801980198019802<br>death 0.8118811881188119<br>homology dimension 2<br>row of dataframe 239",
          "birth 0.801980198019802<br>death 0.8118811881188119<br>homology dimension 2<br>row of dataframe 239",
          "birth 0.801980198019802<br>death 0.8217821782178217<br>homology dimension 2<br>row of dataframe 240",
          "birth 0.801980198019802<br>death 0.8217821782178217<br>homology dimension 2<br>row of dataframe 240",
          "birth 0.801980198019802<br>death 0.8217821782178217<br>homology dimension 2<br>row of dataframe 240",
          "birth 0.801980198019802<br>death 0.8217821782178217<br>homology dimension 2<br>row of dataframe 241",
          "birth 0.801980198019802<br>death 0.8217821782178217<br>homology dimension 2<br>row of dataframe 241",
          "birth 0.801980198019802<br>death 0.8217821782178217<br>homology dimension 2<br>row of dataframe 241",
          "birth 0.8118811881188119<br>death 0.8217821782178217<br>homology dimension 2<br>row of dataframe 234",
          "birth 0.8118811881188119<br>death 0.8217821782178217<br>homology dimension 2<br>row of dataframe 234",
          "birth 0.8118811881188119<br>death 0.8217821782178217<br>homology dimension 2<br>row of dataframe 234",
          "birth 0.8118811881188119<br>death 0.8316831683168316<br>homology dimension 2<br>row of dataframe 235",
          "birth 0.8118811881188119<br>death 0.8316831683168316<br>homology dimension 2<br>row of dataframe 235",
          "birth 0.8118811881188119<br>death 0.8316831683168316<br>homology dimension 2<br>row of dataframe 235",
          "birth 0.8118811881188119<br>death 0.8316831683168316<br>homology dimension 2<br>row of dataframe 236",
          "birth 0.8118811881188119<br>death 0.8316831683168316<br>homology dimension 2<br>row of dataframe 236",
          "birth 0.8118811881188119<br>death 0.8316831683168316<br>homology dimension 2<br>row of dataframe 236",
          "birth 0.8118811881188119<br>death 0.8514851485148515<br>homology dimension 2<br>row of dataframe 237",
          "birth 0.8118811881188119<br>death 0.8514851485148515<br>homology dimension 2<br>row of dataframe 237",
          "birth 0.8118811881188119<br>death 0.8514851485148515<br>homology dimension 2<br>row of dataframe 237",
          "birth 0.8118811881188119<br>death 0.8712871287128713<br>homology dimension 2<br>row of dataframe 238",
          "birth 0.8118811881188119<br>death 0.8712871287128713<br>homology dimension 2<br>row of dataframe 238",
          "birth 0.8118811881188119<br>death 0.8712871287128713<br>homology dimension 2<br>row of dataframe 238",
          "birth 0.8217821782178217<br>death 0.8316831683168316<br>homology dimension 2<br>row of dataframe 229",
          "birth 0.8217821782178217<br>death 0.8316831683168316<br>homology dimension 2<br>row of dataframe 229",
          "birth 0.8217821782178217<br>death 0.8316831683168316<br>homology dimension 2<br>row of dataframe 229",
          "birth 0.8217821782178217<br>death 0.8316831683168316<br>homology dimension 2<br>row of dataframe 230",
          "birth 0.8217821782178217<br>death 0.8316831683168316<br>homology dimension 2<br>row of dataframe 230",
          "birth 0.8217821782178217<br>death 0.8316831683168316<br>homology dimension 2<br>row of dataframe 230",
          "birth 0.8217821782178217<br>death 0.8316831683168316<br>homology dimension 2<br>row of dataframe 233",
          "birth 0.8217821782178217<br>death 0.8316831683168316<br>homology dimension 2<br>row of dataframe 233",
          "birth 0.8217821782178217<br>death 0.8316831683168316<br>homology dimension 2<br>row of dataframe 233",
          "birth 0.8217821782178217<br>death 0.8613861386138614<br>homology dimension 2<br>row of dataframe 232",
          "birth 0.8217821782178217<br>death 0.8613861386138614<br>homology dimension 2<br>row of dataframe 232",
          "birth 0.8217821782178217<br>death 0.8613861386138614<br>homology dimension 2<br>row of dataframe 232",
          "birth 0.8217821782178217<br>death 0.8811881188118812<br>homology dimension 2<br>row of dataframe 231",
          "birth 0.8217821782178217<br>death 0.8811881188118812<br>homology dimension 2<br>row of dataframe 231",
          "birth 0.8217821782178217<br>death 0.8811881188118812<br>homology dimension 2<br>row of dataframe 231",
          "birth 0.8316831683168316<br>death 0.8514851485148515<br>homology dimension 2<br>row of dataframe 227",
          "birth 0.8316831683168316<br>death 0.8514851485148515<br>homology dimension 2<br>row of dataframe 227",
          "birth 0.8316831683168316<br>death 0.8514851485148515<br>homology dimension 2<br>row of dataframe 227",
          "birth 0.8316831683168316<br>death 0.8613861386138614<br>homology dimension 2<br>row of dataframe 223",
          "birth 0.8316831683168316<br>death 0.8613861386138614<br>homology dimension 2<br>row of dataframe 223",
          "birth 0.8316831683168316<br>death 0.8613861386138614<br>homology dimension 2<br>row of dataframe 223",
          "birth 0.8316831683168316<br>death 0.8811881188118812<br>homology dimension 2<br>row of dataframe 224",
          "birth 0.8316831683168316<br>death 0.8811881188118812<br>homology dimension 2<br>row of dataframe 224",
          "birth 0.8316831683168316<br>death 0.8811881188118812<br>homology dimension 2<br>row of dataframe 224",
          "birth 0.8316831683168316<br>death 0.900990099009901<br>homology dimension 2<br>row of dataframe 228",
          "birth 0.8316831683168316<br>death 0.900990099009901<br>homology dimension 2<br>row of dataframe 228",
          "birth 0.8316831683168316<br>death 0.900990099009901<br>homology dimension 2<br>row of dataframe 228",
          "birth 0.8316831683168316<br>death 0.9108910891089109<br>homology dimension 2<br>row of dataframe 225",
          "birth 0.8316831683168316<br>death 0.9108910891089109<br>homology dimension 2<br>row of dataframe 225",
          "birth 0.8316831683168316<br>death 0.9108910891089109<br>homology dimension 2<br>row of dataframe 225",
          "birth 0.8316831683168316<br>death 0.9108910891089109<br>homology dimension 2<br>row of dataframe 226",
          "birth 0.8316831683168316<br>death 0.9108910891089109<br>homology dimension 2<br>row of dataframe 226",
          "birth 0.8316831683168316<br>death 0.9108910891089109<br>homology dimension 2<br>row of dataframe 226",
          "birth 0.8514851485148515<br>death 0.8613861386138614<br>homology dimension 2<br>row of dataframe 222",
          "birth 0.8514851485148515<br>death 0.8613861386138614<br>homology dimension 2<br>row of dataframe 222",
          "birth 0.8514851485148515<br>death 0.8613861386138614<br>homology dimension 2<br>row of dataframe 222",
          "birth 0.8514851485148515<br>death 0.900990099009901<br>homology dimension 2<br>row of dataframe 221",
          "birth 0.8514851485148515<br>death 0.900990099009901<br>homology dimension 2<br>row of dataframe 221",
          "birth 0.8514851485148515<br>death 0.900990099009901<br>homology dimension 2<br>row of dataframe 221",
          "birth 0.8613861386138614<br>death 0.8811881188118812<br>homology dimension 2<br>row of dataframe 220",
          "birth 0.8613861386138614<br>death 0.8811881188118812<br>homology dimension 2<br>row of dataframe 220",
          "birth 0.8613861386138614<br>death 0.8811881188118812<br>homology dimension 2<br>row of dataframe 220",
          "birth 0.8613861386138614<br>death 0.8910891089108911<br>homology dimension 2<br>row of dataframe 217",
          "birth 0.8613861386138614<br>death 0.8910891089108911<br>homology dimension 2<br>row of dataframe 217",
          "birth 0.8613861386138614<br>death 0.8910891089108911<br>homology dimension 2<br>row of dataframe 217",
          "birth 0.8613861386138614<br>death 0.900990099009901<br>homology dimension 2<br>row of dataframe 218",
          "birth 0.8613861386138614<br>death 0.900990099009901<br>homology dimension 2<br>row of dataframe 218",
          "birth 0.8613861386138614<br>death 0.900990099009901<br>homology dimension 2<br>row of dataframe 218",
          "birth 0.8613861386138614<br>death 0.9306930693069307<br>homology dimension 2<br>row of dataframe 219",
          "birth 0.8613861386138614<br>death 0.9306930693069307<br>homology dimension 2<br>row of dataframe 219",
          "birth 0.8613861386138614<br>death 0.9306930693069307<br>homology dimension 2<br>row of dataframe 219",
          "birth 0.8712871287128713<br>death 0.8811881188118812<br>homology dimension 2<br>row of dataframe 215",
          "birth 0.8712871287128713<br>death 0.8811881188118812<br>homology dimension 2<br>row of dataframe 215",
          "birth 0.8712871287128713<br>death 0.8811881188118812<br>homology dimension 2<br>row of dataframe 215",
          "birth 0.8712871287128713<br>death 0.8910891089108911<br>homology dimension 2<br>row of dataframe 213",
          "birth 0.8712871287128713<br>death 0.8910891089108911<br>homology dimension 2<br>row of dataframe 213",
          "birth 0.8712871287128713<br>death 0.8910891089108911<br>homology dimension 2<br>row of dataframe 213",
          "birth 0.8712871287128713<br>death 0.900990099009901<br>homology dimension 2<br>row of dataframe 214",
          "birth 0.8712871287128713<br>death 0.900990099009901<br>homology dimension 2<br>row of dataframe 214",
          "birth 0.8712871287128713<br>death 0.900990099009901<br>homology dimension 2<br>row of dataframe 214",
          "birth 0.8712871287128713<br>death 0.9108910891089109<br>homology dimension 2<br>row of dataframe 216",
          "birth 0.8712871287128713<br>death 0.9108910891089109<br>homology dimension 2<br>row of dataframe 216",
          "birth 0.8712871287128713<br>death 0.9108910891089109<br>homology dimension 2<br>row of dataframe 216",
          "birth 0.8712871287128713<br>death 0.9801980198019802<br>homology dimension 2<br>row of dataframe 212",
          "birth 0.8712871287128713<br>death 0.9801980198019802<br>homology dimension 2<br>row of dataframe 212",
          "birth 0.8712871287128713<br>death 0.9801980198019802<br>homology dimension 2<br>row of dataframe 212",
          "birth 0.8811881188118812<br>death 0.8910891089108911<br>homology dimension 2<br>row of dataframe 207",
          "birth 0.8811881188118812<br>death 0.8910891089108911<br>homology dimension 2<br>row of dataframe 207",
          "birth 0.8811881188118812<br>death 0.8910891089108911<br>homology dimension 2<br>row of dataframe 207",
          "birth 0.8811881188118812<br>death 0.8910891089108911<br>homology dimension 2<br>row of dataframe 209",
          "birth 0.8811881188118812<br>death 0.8910891089108911<br>homology dimension 2<br>row of dataframe 209",
          "birth 0.8811881188118812<br>death 0.8910891089108911<br>homology dimension 2<br>row of dataframe 209",
          "birth 0.8811881188118812<br>death 0.8910891089108911<br>homology dimension 2<br>row of dataframe 210",
          "birth 0.8811881188118812<br>death 0.8910891089108911<br>homology dimension 2<br>row of dataframe 210",
          "birth 0.8811881188118812<br>death 0.8910891089108911<br>homology dimension 2<br>row of dataframe 210",
          "birth 0.8811881188118812<br>death 0.900990099009901<br>homology dimension 2<br>row of dataframe 208",
          "birth 0.8811881188118812<br>death 0.900990099009901<br>homology dimension 2<br>row of dataframe 208",
          "birth 0.8811881188118812<br>death 0.900990099009901<br>homology dimension 2<br>row of dataframe 208",
          "birth 0.8811881188118812<br>death 0.900990099009901<br>homology dimension 2<br>row of dataframe 211",
          "birth 0.8811881188118812<br>death 0.900990099009901<br>homology dimension 2<br>row of dataframe 211",
          "birth 0.8811881188118812<br>death 0.900990099009901<br>homology dimension 2<br>row of dataframe 211",
          "birth 0.8910891089108911<br>death 0.900990099009901<br>homology dimension 2<br>row of dataframe 206",
          "birth 0.8910891089108911<br>death 0.900990099009901<br>homology dimension 2<br>row of dataframe 206",
          "birth 0.8910891089108911<br>death 0.900990099009901<br>homology dimension 2<br>row of dataframe 206",
          "birth 0.8910891089108911<br>death 0.9108910891089109<br>homology dimension 2<br>row of dataframe 202",
          "birth 0.8910891089108911<br>death 0.9108910891089109<br>homology dimension 2<br>row of dataframe 202",
          "birth 0.8910891089108911<br>death 0.9108910891089109<br>homology dimension 2<br>row of dataframe 202",
          "birth 0.8910891089108911<br>death 0.9108910891089109<br>homology dimension 2<br>row of dataframe 203",
          "birth 0.8910891089108911<br>death 0.9108910891089109<br>homology dimension 2<br>row of dataframe 203",
          "birth 0.8910891089108911<br>death 0.9108910891089109<br>homology dimension 2<br>row of dataframe 203",
          "birth 0.8910891089108911<br>death 0.9108910891089109<br>homology dimension 2<br>row of dataframe 204",
          "birth 0.8910891089108911<br>death 0.9108910891089109<br>homology dimension 2<br>row of dataframe 204",
          "birth 0.8910891089108911<br>death 0.9108910891089109<br>homology dimension 2<br>row of dataframe 204",
          "birth 0.8910891089108911<br>death 0.9108910891089109<br>homology dimension 2<br>row of dataframe 205",
          "birth 0.8910891089108911<br>death 0.9108910891089109<br>homology dimension 2<br>row of dataframe 205",
          "birth 0.8910891089108911<br>death 0.9108910891089109<br>homology dimension 2<br>row of dataframe 205",
          "birth 0.8910891089108911<br>death 0.9306930693069307<br>homology dimension 2<br>row of dataframe 201",
          "birth 0.8910891089108911<br>death 0.9306930693069307<br>homology dimension 2<br>row of dataframe 201",
          "birth 0.8910891089108911<br>death 0.9306930693069307<br>homology dimension 2<br>row of dataframe 201",
          "birth 0.900990099009901<br>death 0.9108910891089109<br>homology dimension 2<br>row of dataframe 197",
          "birth 0.900990099009901<br>death 0.9108910891089109<br>homology dimension 2<br>row of dataframe 197",
          "birth 0.900990099009901<br>death 0.9108910891089109<br>homology dimension 2<br>row of dataframe 197",
          "birth 0.900990099009901<br>death 0.9108910891089109<br>homology dimension 2<br>row of dataframe 200",
          "birth 0.900990099009901<br>death 0.9108910891089109<br>homology dimension 2<br>row of dataframe 200",
          "birth 0.900990099009901<br>death 0.9108910891089109<br>homology dimension 2<br>row of dataframe 200",
          "birth 0.900990099009901<br>death 0.9207920792079208<br>homology dimension 2<br>row of dataframe 198",
          "birth 0.900990099009901<br>death 0.9207920792079208<br>homology dimension 2<br>row of dataframe 198",
          "birth 0.900990099009901<br>death 0.9207920792079208<br>homology dimension 2<br>row of dataframe 198",
          "birth 0.900990099009901<br>death 0.9603960396039604<br>homology dimension 2<br>row of dataframe 196",
          "birth 0.900990099009901<br>death 0.9603960396039604<br>homology dimension 2<br>row of dataframe 196",
          "birth 0.900990099009901<br>death 0.9603960396039604<br>homology dimension 2<br>row of dataframe 196",
          "birth 0.900990099009901<br>death 0.9801980198019802<br>homology dimension 2<br>row of dataframe 199",
          "birth 0.900990099009901<br>death 0.9801980198019802<br>homology dimension 2<br>row of dataframe 199",
          "birth 0.900990099009901<br>death 0.9801980198019802<br>homology dimension 2<br>row of dataframe 199",
          "birth 0.9108910891089109<br>death 0.9306930693069307<br>homology dimension 2<br>row of dataframe 195",
          "birth 0.9108910891089109<br>death 0.9306930693069307<br>homology dimension 2<br>row of dataframe 195",
          "birth 0.9108910891089109<br>death 0.9306930693069307<br>homology dimension 2<br>row of dataframe 195",
          "birth 0.9207920792079208<br>death 0.9504950495049505<br>homology dimension 2<br>row of dataframe 193",
          "birth 0.9207920792079208<br>death 0.9504950495049505<br>homology dimension 2<br>row of dataframe 193",
          "birth 0.9207920792079208<br>death 0.9504950495049505<br>homology dimension 2<br>row of dataframe 193",
          "birth 0.9207920792079208<br>death 0.9504950495049505<br>homology dimension 2<br>row of dataframe 194",
          "birth 0.9207920792079208<br>death 0.9504950495049505<br>homology dimension 2<br>row of dataframe 194",
          "birth 0.9207920792079208<br>death 0.9504950495049505<br>homology dimension 2<br>row of dataframe 194",
          "birth 0.9306930693069307<br>death 0.9504950495049505<br>homology dimension 2<br>row of dataframe 192",
          "birth 0.9306930693069307<br>death 0.9504950495049505<br>homology dimension 2<br>row of dataframe 192",
          "birth 0.9306930693069307<br>death 0.9504950495049505<br>homology dimension 2<br>row of dataframe 192",
          "birth 0.9504950495049505<br>death 0.9603960396039604<br>homology dimension 2<br>row of dataframe 191",
          "birth 0.9504950495049505<br>death 0.9603960396039604<br>homology dimension 2<br>row of dataframe 191",
          "birth 0.9504950495049505<br>death 0.9603960396039604<br>homology dimension 2<br>row of dataframe 191",
          "birth 0.9504950495049505<br>death 0.9702970297029703<br>homology dimension 2<br>row of dataframe 190",
          "birth 0.9504950495049505<br>death 0.9702970297029703<br>homology dimension 2<br>row of dataframe 190",
          "birth 0.9504950495049505<br>death 0.9702970297029703<br>homology dimension 2<br>row of dataframe 190",
          "birth 0.9603960396039604<br>death 0.9801980198019802<br>homology dimension 2<br>row of dataframe 189",
          "birth 0.9603960396039604<br>death 0.9801980198019802<br>homology dimension 2<br>row of dataframe 189",
          "birth 0.9603960396039604<br>death 0.9801980198019802<br>homology dimension 2<br>row of dataframe 189",
          "birth 0.9801980198019802<br>death 0.9900990099009901<br>homology dimension 2<br>row of dataframe 188",
          "birth 0.9801980198019802<br>death 0.9900990099009901<br>homology dimension 2<br>row of dataframe 188",
          "birth 0.9801980198019802<br>death 0.9900990099009901<br>homology dimension 2<br>row of dataframe 188"
         ],
         "line": {
          "color": "#00CC96"
         },
         "mode": "lines",
         "name": "Dim 2",
         "type": "scatter",
         "x": [
          0.5247524752475248,
          0.6732673267326733,
          null,
          0.5247524752475248,
          0.693069306930693,
          null,
          0.5841584158415841,
          0.6732673267326733,
          null,
          0.6039603960396039,
          0.6435643564356436,
          null,
          0.6039603960396039,
          0.7722772277227723,
          null,
          0.6138613861386139,
          0.6237623762376238,
          null,
          0.6138613861386139,
          0.6831683168316832,
          null,
          0.6237623762376238,
          0.6732673267326733,
          null,
          0.6237623762376238,
          0.6732673267326733,
          null,
          0.6237623762376238,
          0.7128712871287128,
          null,
          0.6336633663366337,
          0.693069306930693,
          null,
          0.6435643564356436,
          0.7524752475247525,
          null,
          0.6534653465346535,
          0.7029702970297029,
          null,
          0.6633663366336634,
          0.6732673267326733,
          null,
          0.6633663366336634,
          0.6831683168316832,
          null,
          0.6633663366336634,
          0.6831683168316832,
          null,
          0.6633663366336634,
          0.693069306930693,
          null,
          0.6633663366336634,
          0.7128712871287128,
          null,
          0.6633663366336634,
          0.7227722772277227,
          null,
          0.6633663366336634,
          0.7425742574257426,
          null,
          0.6633663366336634,
          0.7524752475247525,
          null,
          0.6633663366336634,
          0.7623762376237624,
          null,
          0.6633663366336634,
          0.7722772277227723,
          null,
          0.6633663366336634,
          0.8118811881188119,
          null,
          0.6633663366336634,
          0.8118811881188119,
          null,
          0.6732673267326733,
          0.6831683168316832,
          null,
          0.6732673267326733,
          0.7128712871287128,
          null,
          0.6732673267326733,
          0.7128712871287128,
          null,
          0.6732673267326733,
          0.7227722772277227,
          null,
          0.6732673267326733,
          0.7425742574257426,
          null,
          0.6831683168316832,
          0.693069306930693,
          null,
          0.6831683168316832,
          0.7029702970297029,
          null,
          0.6831683168316832,
          0.7029702970297029,
          null,
          0.6831683168316832,
          0.7128712871287128,
          null,
          0.6831683168316832,
          0.7326732673267327,
          null,
          0.6831683168316832,
          0.7326732673267327,
          null,
          0.6831683168316832,
          0.7425742574257426,
          null,
          0.6831683168316832,
          0.7425742574257426,
          null,
          0.6831683168316832,
          0.7425742574257426,
          null,
          0.6831683168316832,
          0.7623762376237624,
          null,
          0.6831683168316832,
          0.7623762376237624,
          null,
          0.693069306930693,
          0.7128712871287128,
          null,
          0.693069306930693,
          0.7128712871287128,
          null,
          0.693069306930693,
          0.7425742574257426,
          null,
          0.693069306930693,
          0.7425742574257426,
          null,
          0.7029702970297029,
          0.7227722772277227,
          null,
          0.7029702970297029,
          0.7425742574257426,
          null,
          0.7029702970297029,
          0.7425742574257426,
          null,
          0.7029702970297029,
          0.7425742574257426,
          null,
          0.7029702970297029,
          0.7524752475247525,
          null,
          0.7029702970297029,
          0.7821782178217822,
          null,
          0.7029702970297029,
          0.7821782178217822,
          null,
          0.7029702970297029,
          0.8118811881188119,
          null,
          0.7128712871287128,
          0.7227722772277227,
          null,
          0.7128712871287128,
          0.7524752475247525,
          null,
          0.7128712871287128,
          0.7920792079207921,
          null,
          0.7128712871287128,
          0.801980198019802,
          null,
          0.7128712871287128,
          0.8613861386138614,
          null,
          0.7128712871287128,
          0.8613861386138614,
          null,
          0.7227722772277227,
          0.7326732673267327,
          null,
          0.7227722772277227,
          0.7425742574257426,
          null,
          0.7227722772277227,
          0.7524752475247525,
          null,
          0.7227722772277227,
          0.7524752475247525,
          null,
          0.7227722772277227,
          0.7821782178217822,
          null,
          0.7227722772277227,
          0.7821782178217822,
          null,
          0.7227722772277227,
          0.801980198019802,
          null,
          0.7227722772277227,
          0.8118811881188119,
          null,
          0.7227722772277227,
          0.8118811881188119,
          null,
          0.7326732673267327,
          0.7425742574257426,
          null,
          0.7326732673267327,
          0.7425742574257426,
          null,
          0.7326732673267327,
          0.7524752475247525,
          null,
          0.7326732673267327,
          0.7524752475247525,
          null,
          0.7326732673267327,
          0.7524752475247525,
          null,
          0.7326732673267327,
          0.7623762376237624,
          null,
          0.7326732673267327,
          0.7623762376237624,
          null,
          0.7326732673267327,
          0.7722772277227723,
          null,
          0.7326732673267327,
          0.7722772277227723,
          null,
          0.7326732673267327,
          0.8118811881188119,
          null,
          0.7425742574257426,
          0.7722772277227723,
          null,
          0.7425742574257426,
          0.7722772277227723,
          null,
          0.7425742574257426,
          0.8217821782178217,
          null,
          0.7425742574257426,
          0.8415841584158416,
          null,
          0.7524752475247525,
          0.7623762376237624,
          null,
          0.7524752475247525,
          0.7722772277227723,
          null,
          0.7524752475247525,
          0.7821782178217822,
          null,
          0.7524752475247525,
          0.7920792079207921,
          null,
          0.7524752475247525,
          0.801980198019802,
          null,
          0.7524752475247525,
          0.8217821782178217,
          null,
          0.7524752475247525,
          0.9306930693069307,
          null,
          0.7623762376237624,
          0.7722772277227723,
          null,
          0.7623762376237624,
          0.7920792079207921,
          null,
          0.7623762376237624,
          0.8118811881188119,
          null,
          0.7722772277227723,
          0.7821782178217822,
          null,
          0.7722772277227723,
          0.7821782178217822,
          null,
          0.7722772277227723,
          0.7821782178217822,
          null,
          0.7722772277227723,
          0.7920792079207921,
          null,
          0.7722772277227723,
          0.8118811881188119,
          null,
          0.7722772277227723,
          0.8217821782178217,
          null,
          0.7722772277227723,
          0.8217821782178217,
          null,
          0.7722772277227723,
          0.8217821782178217,
          null,
          0.7722772277227723,
          0.8217821782178217,
          null,
          0.7722772277227723,
          0.8514851485148515,
          null,
          0.7821782178217822,
          0.801980198019802,
          null,
          0.7821782178217822,
          0.8118811881188119,
          null,
          0.7821782178217822,
          0.8118811881188119,
          null,
          0.7920792079207921,
          0.801980198019802,
          null,
          0.7920792079207921,
          0.801980198019802,
          null,
          0.7920792079207921,
          0.801980198019802,
          null,
          0.7920792079207921,
          0.8316831683168316,
          null,
          0.7920792079207921,
          0.8712871287128713,
          null,
          0.801980198019802,
          0.8118811881188119,
          null,
          0.801980198019802,
          0.8217821782178217,
          null,
          0.801980198019802,
          0.8217821782178217,
          null,
          0.8118811881188119,
          0.8217821782178217,
          null,
          0.8118811881188119,
          0.8316831683168316,
          null,
          0.8118811881188119,
          0.8316831683168316,
          null,
          0.8118811881188119,
          0.8514851485148515,
          null,
          0.8118811881188119,
          0.8712871287128713,
          null,
          0.8217821782178217,
          0.8316831683168316,
          null,
          0.8217821782178217,
          0.8316831683168316,
          null,
          0.8217821782178217,
          0.8316831683168316,
          null,
          0.8217821782178217,
          0.8613861386138614,
          null,
          0.8217821782178217,
          0.8811881188118812,
          null,
          0.8316831683168316,
          0.8514851485148515,
          null,
          0.8316831683168316,
          0.8613861386138614,
          null,
          0.8316831683168316,
          0.8811881188118812,
          null,
          0.8316831683168316,
          0.900990099009901,
          null,
          0.8316831683168316,
          0.9108910891089109,
          null,
          0.8316831683168316,
          0.9108910891089109,
          null,
          0.8514851485148515,
          0.8613861386138614,
          null,
          0.8514851485148515,
          0.900990099009901,
          null,
          0.8613861386138614,
          0.8811881188118812,
          null,
          0.8613861386138614,
          0.8910891089108911,
          null,
          0.8613861386138614,
          0.900990099009901,
          null,
          0.8613861386138614,
          0.9306930693069307,
          null,
          0.8712871287128713,
          0.8811881188118812,
          null,
          0.8712871287128713,
          0.8910891089108911,
          null,
          0.8712871287128713,
          0.900990099009901,
          null,
          0.8712871287128713,
          0.9108910891089109,
          null,
          0.8712871287128713,
          0.9801980198019802,
          null,
          0.8811881188118812,
          0.8910891089108911,
          null,
          0.8811881188118812,
          0.8910891089108911,
          null,
          0.8811881188118812,
          0.8910891089108911,
          null,
          0.8811881188118812,
          0.900990099009901,
          null,
          0.8811881188118812,
          0.900990099009901,
          null,
          0.8910891089108911,
          0.900990099009901,
          null,
          0.8910891089108911,
          0.9108910891089109,
          null,
          0.8910891089108911,
          0.9108910891089109,
          null,
          0.8910891089108911,
          0.9108910891089109,
          null,
          0.8910891089108911,
          0.9108910891089109,
          null,
          0.8910891089108911,
          0.9306930693069307,
          null,
          0.900990099009901,
          0.9108910891089109,
          null,
          0.900990099009901,
          0.9108910891089109,
          null,
          0.900990099009901,
          0.9207920792079208,
          null,
          0.900990099009901,
          0.9603960396039604,
          null,
          0.900990099009901,
          0.9801980198019802,
          null,
          0.9108910891089109,
          0.9306930693069307,
          null,
          0.9207920792079208,
          0.9504950495049505,
          null,
          0.9207920792079208,
          0.9504950495049505,
          null,
          0.9306930693069307,
          0.9504950495049505,
          null,
          0.9504950495049505,
          0.9603960396039604,
          null,
          0.9504950495049505,
          0.9702970297029703,
          null,
          0.9603960396039604,
          0.9801980198019802,
          null,
          0.9801980198019802,
          0.9900990099009901,
          null
         ],
         "y": [
          188,
          188,
          null,
          189,
          189,
          null,
          190,
          190,
          null,
          191,
          191,
          null,
          192,
          192,
          null,
          193,
          193,
          null,
          194,
          194,
          null,
          195,
          195,
          null,
          196,
          196,
          null,
          197,
          197,
          null,
          198,
          198,
          null,
          199,
          199,
          null,
          200,
          200,
          null,
          201,
          201,
          null,
          202,
          202,
          null,
          203,
          203,
          null,
          204,
          204,
          null,
          205,
          205,
          null,
          206,
          206,
          null,
          207,
          207,
          null,
          208,
          208,
          null,
          209,
          209,
          null,
          210,
          210,
          null,
          211,
          211,
          null,
          212,
          212,
          null,
          213,
          213,
          null,
          214,
          214,
          null,
          215,
          215,
          null,
          216,
          216,
          null,
          217,
          217,
          null,
          218,
          218,
          null,
          219,
          219,
          null,
          220,
          220,
          null,
          221,
          221,
          null,
          222,
          222,
          null,
          223,
          223,
          null,
          224,
          224,
          null,
          225,
          225,
          null,
          226,
          226,
          null,
          227,
          227,
          null,
          228,
          228,
          null,
          229,
          229,
          null,
          230,
          230,
          null,
          231,
          231,
          null,
          232,
          232,
          null,
          233,
          233,
          null,
          234,
          234,
          null,
          235,
          235,
          null,
          236,
          236,
          null,
          237,
          237,
          null,
          238,
          238,
          null,
          239,
          239,
          null,
          240,
          240,
          null,
          241,
          241,
          null,
          242,
          242,
          null,
          243,
          243,
          null,
          244,
          244,
          null,
          245,
          245,
          null,
          246,
          246,
          null,
          247,
          247,
          null,
          248,
          248,
          null,
          249,
          249,
          null,
          250,
          250,
          null,
          251,
          251,
          null,
          252,
          252,
          null,
          253,
          253,
          null,
          254,
          254,
          null,
          255,
          255,
          null,
          256,
          256,
          null,
          257,
          257,
          null,
          258,
          258,
          null,
          259,
          259,
          null,
          260,
          260,
          null,
          261,
          261,
          null,
          262,
          262,
          null,
          263,
          263,
          null,
          264,
          264,
          null,
          265,
          265,
          null,
          266,
          266,
          null,
          267,
          267,
          null,
          268,
          268,
          null,
          269,
          269,
          null,
          270,
          270,
          null,
          271,
          271,
          null,
          272,
          272,
          null,
          273,
          273,
          null,
          274,
          274,
          null,
          275,
          275,
          null,
          276,
          276,
          null,
          277,
          277,
          null,
          278,
          278,
          null,
          279,
          279,
          null,
          280,
          280,
          null,
          281,
          281,
          null,
          282,
          282,
          null,
          283,
          283,
          null,
          284,
          284,
          null,
          285,
          285,
          null,
          286,
          286,
          null,
          287,
          287,
          null,
          288,
          288,
          null,
          289,
          289,
          null,
          290,
          290,
          null,
          291,
          291,
          null,
          292,
          292,
          null,
          293,
          293,
          null,
          294,
          294,
          null,
          295,
          295,
          null,
          296,
          296,
          null,
          297,
          297,
          null,
          298,
          298,
          null,
          299,
          299,
          null,
          300,
          300,
          null,
          301,
          301,
          null,
          302,
          302,
          null,
          303,
          303,
          null,
          304,
          304,
          null,
          305,
          305,
          null,
          306,
          306,
          null,
          307,
          307,
          null,
          308,
          308,
          null,
          309,
          309,
          null,
          310,
          310,
          null,
          311,
          311,
          null,
          312,
          312,
          null,
          313,
          313,
          null,
          314,
          314,
          null,
          315,
          315,
          null,
          316,
          316,
          null,
          317,
          317,
          null,
          318,
          318,
          null,
          319,
          319,
          null,
          320,
          320,
          null,
          321,
          321,
          null,
          322,
          322,
          null,
          323,
          323,
          null,
          324,
          324,
          null,
          325,
          325,
          null,
          326,
          326,
          null,
          327,
          327,
          null,
          328,
          328,
          null,
          329,
          329,
          null,
          330,
          330,
          null,
          331,
          331,
          null,
          332,
          332,
          null,
          333,
          333,
          null,
          334,
          334,
          null,
          335,
          335,
          null,
          336,
          336,
          null,
          337,
          337,
          null,
          338,
          338,
          null,
          339,
          339,
          null,
          340,
          340,
          null,
          341,
          341,
          null,
          342,
          342,
          null,
          343,
          343,
          null,
          344,
          344,
          null,
          345,
          345,
          null,
          346,
          346,
          null,
          347,
          347,
          null,
          348,
          348,
          null,
          349,
          349,
          null,
          350,
          350,
          null,
          351,
          351,
          null
         ]
        }
       ],
       "layout": {
        "height": 500,
        "margin": {
         "b": 20,
         "l": 20,
         "r": 20,
         "t": 20
        },
        "shapes": [
         {
          "line": {
           "dash": "dot"
          },
          "type": "line",
          "x0": 1.0891089108910892,
          "x1": 1.0891089108910892,
          "xref": "x",
          "y0": 0,
          "y1": 1,
          "yref": "y domain"
         }
        ],
        "template": {
         "data": {
          "bar": [
           {
            "error_x": {
             "color": "#2a3f5f"
            },
            "error_y": {
             "color": "#2a3f5f"
            },
            "marker": {
             "line": {
              "color": "#E5ECF6",
              "width": 0.5
             },
             "pattern": {
              "fillmode": "overlay",
              "size": 10,
              "solidity": 0.2
             }
            },
            "type": "bar"
           }
          ],
          "barpolar": [
           {
            "marker": {
             "line": {
              "color": "#E5ECF6",
              "width": 0.5
             },
             "pattern": {
              "fillmode": "overlay",
              "size": 10,
              "solidity": 0.2
             }
            },
            "type": "barpolar"
           }
          ],
          "carpet": [
           {
            "aaxis": {
             "endlinecolor": "#2a3f5f",
             "gridcolor": "white",
             "linecolor": "white",
             "minorgridcolor": "white",
             "startlinecolor": "#2a3f5f"
            },
            "baxis": {
             "endlinecolor": "#2a3f5f",
             "gridcolor": "white",
             "linecolor": "white",
             "minorgridcolor": "white",
             "startlinecolor": "#2a3f5f"
            },
            "type": "carpet"
           }
          ],
          "choropleth": [
           {
            "colorbar": {
             "outlinewidth": 0,
             "ticks": ""
            },
            "type": "choropleth"
           }
          ],
          "contour": [
           {
            "colorbar": {
             "outlinewidth": 0,
             "ticks": ""
            },
            "colorscale": [
             [
              0,
              "#0d0887"
             ],
             [
              0.1111111111111111,
              "#46039f"
             ],
             [
              0.2222222222222222,
              "#7201a8"
             ],
             [
              0.3333333333333333,
              "#9c179e"
             ],
             [
              0.4444444444444444,
              "#bd3786"
             ],
             [
              0.5555555555555556,
              "#d8576b"
             ],
             [
              0.6666666666666666,
              "#ed7953"
             ],
             [
              0.7777777777777778,
              "#fb9f3a"
             ],
             [
              0.8888888888888888,
              "#fdca26"
             ],
             [
              1,
              "#f0f921"
             ]
            ],
            "type": "contour"
           }
          ],
          "contourcarpet": [
           {
            "colorbar": {
             "outlinewidth": 0,
             "ticks": ""
            },
            "type": "contourcarpet"
           }
          ],
          "heatmap": [
           {
            "colorbar": {
             "outlinewidth": 0,
             "ticks": ""
            },
            "colorscale": [
             [
              0,
              "#0d0887"
             ],
             [
              0.1111111111111111,
              "#46039f"
             ],
             [
              0.2222222222222222,
              "#7201a8"
             ],
             [
              0.3333333333333333,
              "#9c179e"
             ],
             [
              0.4444444444444444,
              "#bd3786"
             ],
             [
              0.5555555555555556,
              "#d8576b"
             ],
             [
              0.6666666666666666,
              "#ed7953"
             ],
             [
              0.7777777777777778,
              "#fb9f3a"
             ],
             [
              0.8888888888888888,
              "#fdca26"
             ],
             [
              1,
              "#f0f921"
             ]
            ],
            "type": "heatmap"
           }
          ],
          "heatmapgl": [
           {
            "colorbar": {
             "outlinewidth": 0,
             "ticks": ""
            },
            "colorscale": [
             [
              0,
              "#0d0887"
             ],
             [
              0.1111111111111111,
              "#46039f"
             ],
             [
              0.2222222222222222,
              "#7201a8"
             ],
             [
              0.3333333333333333,
              "#9c179e"
             ],
             [
              0.4444444444444444,
              "#bd3786"
             ],
             [
              0.5555555555555556,
              "#d8576b"
             ],
             [
              0.6666666666666666,
              "#ed7953"
             ],
             [
              0.7777777777777778,
              "#fb9f3a"
             ],
             [
              0.8888888888888888,
              "#fdca26"
             ],
             [
              1,
              "#f0f921"
             ]
            ],
            "type": "heatmapgl"
           }
          ],
          "histogram": [
           {
            "marker": {
             "pattern": {
              "fillmode": "overlay",
              "size": 10,
              "solidity": 0.2
             }
            },
            "type": "histogram"
           }
          ],
          "histogram2d": [
           {
            "colorbar": {
             "outlinewidth": 0,
             "ticks": ""
            },
            "colorscale": [
             [
              0,
              "#0d0887"
             ],
             [
              0.1111111111111111,
              "#46039f"
             ],
             [
              0.2222222222222222,
              "#7201a8"
             ],
             [
              0.3333333333333333,
              "#9c179e"
             ],
             [
              0.4444444444444444,
              "#bd3786"
             ],
             [
              0.5555555555555556,
              "#d8576b"
             ],
             [
              0.6666666666666666,
              "#ed7953"
             ],
             [
              0.7777777777777778,
              "#fb9f3a"
             ],
             [
              0.8888888888888888,
              "#fdca26"
             ],
             [
              1,
              "#f0f921"
             ]
            ],
            "type": "histogram2d"
           }
          ],
          "histogram2dcontour": [
           {
            "colorbar": {
             "outlinewidth": 0,
             "ticks": ""
            },
            "colorscale": [
             [
              0,
              "#0d0887"
             ],
             [
              0.1111111111111111,
              "#46039f"
             ],
             [
              0.2222222222222222,
              "#7201a8"
             ],
             [
              0.3333333333333333,
              "#9c179e"
             ],
             [
              0.4444444444444444,
              "#bd3786"
             ],
             [
              0.5555555555555556,
              "#d8576b"
             ],
             [
              0.6666666666666666,
              "#ed7953"
             ],
             [
              0.7777777777777778,
              "#fb9f3a"
             ],
             [
              0.8888888888888888,
              "#fdca26"
             ],
             [
              1,
              "#f0f921"
             ]
            ],
            "type": "histogram2dcontour"
           }
          ],
          "mesh3d": [
           {
            "colorbar": {
             "outlinewidth": 0,
             "ticks": ""
            },
            "type": "mesh3d"
           }
          ],
          "parcoords": [
           {
            "line": {
             "colorbar": {
              "outlinewidth": 0,
              "ticks": ""
             }
            },
            "type": "parcoords"
           }
          ],
          "pie": [
           {
            "automargin": true,
            "type": "pie"
           }
          ],
          "scatter": [
           {
            "fillpattern": {
             "fillmode": "overlay",
             "size": 10,
             "solidity": 0.2
            },
            "type": "scatter"
           }
          ],
          "scatter3d": [
           {
            "line": {
             "colorbar": {
              "outlinewidth": 0,
              "ticks": ""
             }
            },
            "marker": {
             "colorbar": {
              "outlinewidth": 0,
              "ticks": ""
             }
            },
            "type": "scatter3d"
           }
          ],
          "scattercarpet": [
           {
            "marker": {
             "colorbar": {
              "outlinewidth": 0,
              "ticks": ""
             }
            },
            "type": "scattercarpet"
           }
          ],
          "scattergeo": [
           {
            "marker": {
             "colorbar": {
              "outlinewidth": 0,
              "ticks": ""
             }
            },
            "type": "scattergeo"
           }
          ],
          "scattergl": [
           {
            "marker": {
             "colorbar": {
              "outlinewidth": 0,
              "ticks": ""
             }
            },
            "type": "scattergl"
           }
          ],
          "scattermapbox": [
           {
            "marker": {
             "colorbar": {
              "outlinewidth": 0,
              "ticks": ""
             }
            },
            "type": "scattermapbox"
           }
          ],
          "scatterpolar": [
           {
            "marker": {
             "colorbar": {
              "outlinewidth": 0,
              "ticks": ""
             }
            },
            "type": "scatterpolar"
           }
          ],
          "scatterpolargl": [
           {
            "marker": {
             "colorbar": {
              "outlinewidth": 0,
              "ticks": ""
             }
            },
            "type": "scatterpolargl"
           }
          ],
          "scatterternary": [
           {
            "marker": {
             "colorbar": {
              "outlinewidth": 0,
              "ticks": ""
             }
            },
            "type": "scatterternary"
           }
          ],
          "surface": [
           {
            "colorbar": {
             "outlinewidth": 0,
             "ticks": ""
            },
            "colorscale": [
             [
              0,
              "#0d0887"
             ],
             [
              0.1111111111111111,
              "#46039f"
             ],
             [
              0.2222222222222222,
              "#7201a8"
             ],
             [
              0.3333333333333333,
              "#9c179e"
             ],
             [
              0.4444444444444444,
              "#bd3786"
             ],
             [
              0.5555555555555556,
              "#d8576b"
             ],
             [
              0.6666666666666666,
              "#ed7953"
             ],
             [
              0.7777777777777778,
              "#fb9f3a"
             ],
             [
              0.8888888888888888,
              "#fdca26"
             ],
             [
              1,
              "#f0f921"
             ]
            ],
            "type": "surface"
           }
          ],
          "table": [
           {
            "cells": {
             "fill": {
              "color": "#EBF0F8"
             },
             "line": {
              "color": "white"
             }
            },
            "header": {
             "fill": {
              "color": "#C8D4E3"
             },
             "line": {
              "color": "white"
             }
            },
            "type": "table"
           }
          ]
         },
         "layout": {
          "annotationdefaults": {
           "arrowcolor": "#2a3f5f",
           "arrowhead": 0,
           "arrowwidth": 1
          },
          "autotypenumbers": "strict",
          "coloraxis": {
           "colorbar": {
            "outlinewidth": 0,
            "ticks": ""
           }
          },
          "colorscale": {
           "diverging": [
            [
             0,
             "#8e0152"
            ],
            [
             0.1,
             "#c51b7d"
            ],
            [
             0.2,
             "#de77ae"
            ],
            [
             0.3,
             "#f1b6da"
            ],
            [
             0.4,
             "#fde0ef"
            ],
            [
             0.5,
             "#f7f7f7"
            ],
            [
             0.6,
             "#e6f5d0"
            ],
            [
             0.7,
             "#b8e186"
            ],
            [
             0.8,
             "#7fbc41"
            ],
            [
             0.9,
             "#4d9221"
            ],
            [
             1,
             "#276419"
            ]
           ],
           "sequential": [
            [
             0,
             "#0d0887"
            ],
            [
             0.1111111111111111,
             "#46039f"
            ],
            [
             0.2222222222222222,
             "#7201a8"
            ],
            [
             0.3333333333333333,
             "#9c179e"
            ],
            [
             0.4444444444444444,
             "#bd3786"
            ],
            [
             0.5555555555555556,
             "#d8576b"
            ],
            [
             0.6666666666666666,
             "#ed7953"
            ],
            [
             0.7777777777777778,
             "#fb9f3a"
            ],
            [
             0.8888888888888888,
             "#fdca26"
            ],
            [
             1,
             "#f0f921"
            ]
           ],
           "sequentialminus": [
            [
             0,
             "#0d0887"
            ],
            [
             0.1111111111111111,
             "#46039f"
            ],
            [
             0.2222222222222222,
             "#7201a8"
            ],
            [
             0.3333333333333333,
             "#9c179e"
            ],
            [
             0.4444444444444444,
             "#bd3786"
            ],
            [
             0.5555555555555556,
             "#d8576b"
            ],
            [
             0.6666666666666666,
             "#ed7953"
            ],
            [
             0.7777777777777778,
             "#fb9f3a"
            ],
            [
             0.8888888888888888,
             "#fdca26"
            ],
            [
             1,
             "#f0f921"
            ]
           ]
          },
          "colorway": [
           "#636efa",
           "#EF553B",
           "#00cc96",
           "#ab63fa",
           "#FFA15A",
           "#19d3f3",
           "#FF6692",
           "#B6E880",
           "#FF97FF",
           "#FECB52"
          ],
          "font": {
           "color": "#2a3f5f"
          },
          "geo": {
           "bgcolor": "white",
           "lakecolor": "white",
           "landcolor": "#E5ECF6",
           "showlakes": true,
           "showland": true,
           "subunitcolor": "white"
          },
          "hoverlabel": {
           "align": "left"
          },
          "hovermode": "closest",
          "mapbox": {
           "style": "light"
          },
          "paper_bgcolor": "white",
          "plot_bgcolor": "#E5ECF6",
          "polar": {
           "angularaxis": {
            "gridcolor": "white",
            "linecolor": "white",
            "ticks": ""
           },
           "bgcolor": "#E5ECF6",
           "radialaxis": {
            "gridcolor": "white",
            "linecolor": "white",
            "ticks": ""
           }
          },
          "scene": {
           "xaxis": {
            "backgroundcolor": "#E5ECF6",
            "gridcolor": "white",
            "gridwidth": 2,
            "linecolor": "white",
            "showbackground": true,
            "ticks": "",
            "zerolinecolor": "white"
           },
           "yaxis": {
            "backgroundcolor": "#E5ECF6",
            "gridcolor": "white",
            "gridwidth": 2,
            "linecolor": "white",
            "showbackground": true,
            "ticks": "",
            "zerolinecolor": "white"
           },
           "zaxis": {
            "backgroundcolor": "#E5ECF6",
            "gridcolor": "white",
            "gridwidth": 2,
            "linecolor": "white",
            "showbackground": true,
            "ticks": "",
            "zerolinecolor": "white"
           }
          },
          "shapedefaults": {
           "line": {
            "color": "#2a3f5f"
           }
          },
          "ternary": {
           "aaxis": {
            "gridcolor": "white",
            "linecolor": "white",
            "ticks": ""
           },
           "baxis": {
            "gridcolor": "white",
            "linecolor": "white",
            "ticks": ""
           },
           "bgcolor": "#E5ECF6",
           "caxis": {
            "gridcolor": "white",
            "linecolor": "white",
            "ticks": ""
           }
          },
          "title": {
           "x": 0.05
          },
          "xaxis": {
           "automargin": true,
           "gridcolor": "white",
           "linecolor": "white",
           "ticks": "",
           "title": {
            "standoff": 15
           },
           "zerolinecolor": "white",
           "zerolinewidth": 2
          },
          "yaxis": {
           "automargin": true,
           "gridcolor": "white",
           "linecolor": "white",
           "ticks": "",
           "title": {
            "standoff": 15
           },
           "zerolinecolor": "white",
           "zerolinewidth": 2
          }
         }
        },
        "width": 1000,
        "xaxis": {
         "range": [
          -0.09900990099009901,
          1.188118811881188
         ]
        },
        "yaxis": {
         "range": [
          0,
          352
         ]
        }
       }
      }
     },
     "metadata": {},
     "output_type": "display_data"
    }
   ],
   "source": [
    "# Barcode diagram\n",
    "fig = oat.plot.barcode(homology_shuffled)\n",
    "fig.update_layout(\n",
    "        width=1000, \n",
    "        height=500,\n",
    "        margin=dict(l=20, r=20, t=20, b=20)\n",
    "    )\n",
    "fig.show()"
   ]
  }
 ],
 "metadata": {
  "kernelspec": {
   "display_name": "base",
   "language": "python",
   "name": "python3"
  },
  "language_info": {
   "codemirror_mode": {
    "name": "ipython",
    "version": 3
   },
   "file_extension": ".py",
   "mimetype": "text/x-python",
   "name": "python",
   "nbconvert_exporter": "python",
   "pygments_lexer": "ipython3",
   "version": "3.12.3"
  }
 },
 "nbformat": 4,
 "nbformat_minor": 2
}
